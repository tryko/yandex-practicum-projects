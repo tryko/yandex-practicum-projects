{
 "cells": [
  {
   "cell_type": "markdown",
   "metadata": {},
   "source": [
    "**Review**\n",
    "\t  \n",
    "Hi, my name is Dmitry and I will be reviewing your project.\n",
    "  \n",
    "You can find my comments in colored markdown cells:\n",
    "  \n",
    "<div class=\"alert alert-success\">\n",
    "  If everything is done successfully.\n",
    "</div>\n",
    "  \n",
    "<div class=\"alert alert-warning\">\n",
    "  If I have some (optional) suggestions, or questions to think about, or general comments.\n",
    "</div>\n",
    "  \n",
    "<div class=\"alert alert-danger\">\n",
    "  If a section requires some corrections. Work can't be accepted with red comments.\n",
    "</div>\n",
    "  \n",
    "Please don't remove my comments, as it will make further review iterations much harder for me.\n",
    "  \n",
    "Feel free to reply to my comments or ask questions using the following template:\n",
    "  \n",
    "<div class=\"alert alert-info\">\n",
    "  For your comments and questions.\n",
    "</div>\n",
    "  \n",
    "First of all, thank you for turning in the project! You did a pretty good job overall, although it seems that you've got confused in some tasks. Hopefully, my comments will help to clarify the tasks. Good luck!"
   ]
  },
  {
   "cell_type": "markdown",
   "metadata": {},
   "source": [
    "<div class=\"alert alert-info\" role=\"alert\">\n",
    "Dear Reviewer,\n",
    "\n",
    "<br>Nice to e-meet you. \n",
    "\n",
    "<br>This project was different in that the project's author was kind enough to prepare a template with precode. I followed the template wherever it was available in order to practise reading someone else's code, and supplemented with my code where it was requested. \n",
    "    \n",
    "<br>Also, a note - please restart the kernel after the installation of seaborn to avoid errors that some graphs are not recognised (e.g. histplot).\n",
    "    \n",
    "<br>Thank you for reviewing my work.\n",
    "\n",
    "<br>Rena Bracha\n",
    "</div>"
   ]
  },
  {
   "cell_type": "markdown",
   "metadata": {},
   "source": [
    "<div class=\"alert alert-success\">\n",
    "<b>Reviewer's comment</b>\n",
    "\t  \n",
    "Ok, thanks for the heads-up!\n",
    "\t  \n",
    "</div>"
   ]
  },
  {
   "cell_type": "markdown",
   "metadata": {},
   "source": [
    "<div class=\"alert alert-info\" role=\"alert\">\n",
    "Hi Dmitry! \n",
    "\n",
    "<br>Thank you for going over my project neatly as always. :) I have tried to respond to your comments - they are marked with the \"v.2\" suffix. \n",
    "    \n",
    "<br>Thank you again!\n",
    "\n",
    "</div>"
   ]
  },
  {
   "cell_type": "markdown",
   "metadata": {},
   "source": [
    "<div class=\"alert alert-success\">\n",
    "<b>Reviewer's comment V2</b>\n",
    "\t  \n",
    "You're welcome! You did an excellent job! There's just one last tiny correction needed, but I promise it will be very easy :)\n",
    "\t  \n",
    "</div>"
   ]
  },
  {
   "cell_type": "markdown",
   "metadata": {},
   "source": [
    "<div class=\"alert alert-info\" role=\"alert\">\n",
    "Hi Dmitry! \n",
    "\n",
    "<br>OK, just one more time - please jump to my comments suffixed with \"v.3\". \n",
    "    \n",
    "<br>Thank you!\n",
    "\n",
    "</div>"
   ]
  },
  {
   "cell_type": "markdown",
   "metadata": {},
   "source": [
    "<div class=\"alert alert-success\">\n",
    "<b>Reviewer's comment V3</b>\n",
    "\t  \n",
    "The project is accepted now! Keep up the good work on the next sprint! :)\n",
    "\t  \n",
    "</div>"
   ]
  },
  {
   "cell_type": "markdown",
   "metadata": {},
   "source": [
    "# Sure Tomorrow Insurance Company Tasks by Machine Learning"
   ]
  },
  {
   "cell_type": "markdown",
   "metadata": {},
   "source": [
    "The Sure Tomorrow insurance company wants to solve several tasks with the help of Machine Learning and you are asked to evaluate that possibility.\n",
    "\n",
    "- Task 1: Find customers who are similar to a given customer. This will help the company's agents with marketing.\n",
    "- Task 2: Predict whether a new customer is likely to receive an insurance benefit. Can a prediction model do better than a dummy model?\n",
    "- Task 3: Predict the number of insurance benefits a new customer is likely to receive using a linear regression model.\n",
    "- Task 4: Protect clients' personal data without breaking the model from the previous task. It's necessary to develop a data transformation algorithm that would make it hard to recover personal information if the data fell into the wrong hands. This is called data masking, or data obfuscation. But the data should be protected in such a way that the quality of machine learning models doesn't suffer. You don't need to pick the best model, just prove that the algorithm works correctly."
   ]
  },
  {
   "cell_type": "markdown",
   "metadata": {},
   "source": [
    "# Tables of Contents <a class=\"anchor\" id=\"table_of_contents\"></a>"
   ]
  },
  {
   "cell_type": "markdown",
   "metadata": {},
   "source": [
    "* [Data Processing & Exploration](#chapter1)\n",
    "    * [Initialization](#section_1_1)\n",
    "    * [Load Data](#section_1_2)\n",
    "    * [EDA](#section_1_3)\n",
    "* [Work on each task and answer the questions posed in the project template](#chapter2)\n",
    "    * [Task 1. Similar Customers](#section_2_1)\n",
    "    * [Task 2. Is Customer Likely to Receive Insurance Benefit?](#section_2_2)\n",
    "    * [Task 3. Regression (with Linear Regression)](#section_2_3)\n",
    "    * [Task 4. Obfuscating Data](#section_2_4)\n",
    "    * [Proof That Data Obfuscation Can Work with LR](#section_2_5)    \n",
    "    * [Test Linear Regression With Data Obfuscation](#section_2_6)    \n",
    "* [Draw conclusions based on your experience working on the project.](#chapter3)"
   ]
  },
  {
   "cell_type": "markdown",
   "metadata": {},
   "source": [
    "# Data Preprocessing & Exploration\n",
    "\n",
    "## Initialization"
   ]
  },
  {
   "cell_type": "code",
   "execution_count": 2,
   "metadata": {},
   "outputs": [
    {
     "name": "stdout",
     "output_type": "stream",
     "text": [
      "Defaulting to user installation because normal site-packages is not writeable\n",
      "Requirement already up-to-date: scikit-learn in /home/jovyan/.local/lib/python3.7/site-packages (1.0.1)\n",
      "Requirement already satisfied, skipping upgrade: joblib>=0.11 in /opt/conda/lib/python3.7/site-packages (from scikit-learn) (1.0.1)\n",
      "Requirement already satisfied, skipping upgrade: numpy>=1.14.6 in /opt/conda/lib/python3.7/site-packages (from scikit-learn) (1.19.5)\n",
      "Requirement already satisfied, skipping upgrade: scipy>=1.1.0 in /opt/conda/lib/python3.7/site-packages (from scikit-learn) (1.4.1)\n",
      "Requirement already satisfied, skipping upgrade: threadpoolctl>=2.0.0 in /home/jovyan/.local/lib/python3.7/site-packages (from scikit-learn) (3.0.0)\n"
     ]
    }
   ],
   "source": [
    "!pip install scikit-learn --upgrade"
   ]
  },
  {
   "cell_type": "code",
   "execution_count": 1,
   "metadata": {},
   "outputs": [
    {
     "name": "stdout",
     "output_type": "stream",
     "text": [
      "Defaulting to user installation because normal site-packages is not writeable\n",
      "Requirement already up-to-date: seaborn in /home/jovyan/.local/lib/python3.7/site-packages (0.11.2)\n",
      "Requirement already satisfied, skipping upgrade: scipy>=1.0 in /opt/conda/lib/python3.7/site-packages (from seaborn) (1.4.1)\n",
      "Requirement already satisfied, skipping upgrade: pandas>=0.23 in /opt/conda/lib/python3.7/site-packages (from seaborn) (0.25.1)\n",
      "Requirement already satisfied, skipping upgrade: numpy>=1.15 in /opt/conda/lib/python3.7/site-packages (from seaborn) (1.19.5)\n",
      "Requirement already satisfied, skipping upgrade: matplotlib>=2.2 in /opt/conda/lib/python3.7/site-packages (from seaborn) (3.1.0)\n",
      "Requirement already satisfied, skipping upgrade: pytz>=2017.2 in /opt/conda/lib/python3.7/site-packages (from pandas>=0.23->seaborn) (2021.1)\n",
      "Requirement already satisfied, skipping upgrade: python-dateutil>=2.6.1 in /opt/conda/lib/python3.7/site-packages (from pandas>=0.23->seaborn) (2.8.1)\n",
      "Requirement already satisfied, skipping upgrade: cycler>=0.10 in /opt/conda/lib/python3.7/site-packages (from matplotlib>=2.2->seaborn) (0.10.0)\n",
      "Requirement already satisfied, skipping upgrade: pyparsing!=2.0.4,!=2.1.2,!=2.1.6,>=2.0.1 in /opt/conda/lib/python3.7/site-packages (from matplotlib>=2.2->seaborn) (2.4.7)\n",
      "Requirement already satisfied, skipping upgrade: kiwisolver>=1.0.1 in /opt/conda/lib/python3.7/site-packages (from matplotlib>=2.2->seaborn) (1.3.1)\n",
      "Requirement already satisfied, skipping upgrade: six>=1.5 in /opt/conda/lib/python3.7/site-packages (from python-dateutil>=2.6.1->pandas>=0.23->seaborn) (1.15.0)\n"
     ]
    }
   ],
   "source": [
    "import numpy as np\n",
    "import pandas as pd\n",
    "\n",
    "import seaborn as sns\n",
    "\n",
    "import sklearn.linear_model\n",
    "import sklearn.metrics\n",
    "from sklearn.neighbors import KNeighborsRegressor, KNeighborsClassifier, NearestNeighbors\n",
    "from sklearn.linear_model import LinearRegression\n",
    "import sklearn.preprocessing\n",
    "\n",
    "from sklearn.model_selection import train_test_split\n",
    "\n",
    "from IPython.display import display\n",
    "\n",
    "\n",
    "# import sys so no warnings will be issued\n",
    "import sys\n",
    "if not sys.warnoptions:\n",
    "    import warnings\n",
    "    warnings.simplefilter(\"ignore\")\n",
    "    \n",
    "# various libraries\n",
    "import pandas as pd\n",
    "import numpy as np\n",
    "from scipy import stats as st\n",
    "import math as mth\n",
    "from numpy import sqrt, argmax, mean, absolute, std\n",
    "\n",
    "# for graph and chart plotting\n",
    "import matplotlib.pyplot as plt\n",
    "\n",
    "# restart the kernel after the installation to avoid errors that some graphs are not recognised (e.g. histplot)\n",
    "#!pip install seaborn --upgrade\n",
    "!pip install -U seaborn\n",
    "import seaborn as sns\n",
    "\n",
    "# for spliting the dataset for training, validation and testing\n",
    "from sklearn.model_selection import train_test_split\n",
    "\n",
    "# import the scikit-learn module for calculating various performance metrics\n",
    "from sklearn.metrics import accuracy_score, confusion_matrix, recall_score, precision_score, f1_score, classification_report\n",
    "from sklearn.metrics import roc_curve, auc, roc_auc_score, mean_squared_error, mean_absolute_error, r2_score, make_scorer\n",
    "from sklearn.metrics import multilabel_confusion_matrix\n",
    "\n",
    "# for optimising hyperparameter\n",
    "from sklearn.model_selection import GridSearchCV\n",
    "\n",
    "# for label encoding, feauture scaling\n",
    "from sklearn.preprocessing import OrdinalEncoder, StandardScaler\n",
    "\n",
    "# for feature selection \n",
    "from sklearn.feature_selection import chi2 # categorical variables\n",
    "\n",
    "# for imputing missing values\n",
    "from sklearn.impute import SimpleImputer\n",
    "from sklearn.pipeline import Pipeline\n",
    "\n",
    "# for checking collinearity between features\n",
    "from statsmodels.stats.outliers_influence import variance_inflation_factor\n",
    "\n",
    "# for evaluating information gain for feature selection and feature importance\n",
    "from sklearn.linear_model import LassoCV\n",
    "from sklearn.feature_selection import mutual_info_classif\n",
    "\n",
    "# for creating pipelines\n",
    "from sklearn.pipeline import Pipeline\n",
    "\n",
    "# cross validate models\n",
    "from sklearn.model_selection import cross_val_score"
   ]
  },
  {
   "cell_type": "markdown",
   "metadata": {},
   "source": [
    "## Load Data"
   ]
  },
  {
   "cell_type": "markdown",
   "metadata": {},
   "source": [
    "Load data and conduct a basic check that it's free from obvious issues."
   ]
  },
  {
   "cell_type": "code",
   "execution_count": 6,
   "metadata": {},
   "outputs": [],
   "source": [
    "# enable data file loading in two environments: one local and one on the Platform\n",
    "# automatically detect the delimiter in the csv file\n",
    "# load the first 500 rows for starters\n",
    "try:\n",
    "    data = pd.read_csv('insurance_us.csv', sep = ',', nrows=500)\n",
    "except:\n",
    "    data = pd.read_csv('/datasets/insurance_us.csv', sep = ',', nrows=500)"
   ]
  },
  {
   "cell_type": "code",
   "execution_count": 7,
   "metadata": {},
   "outputs": [
    {
     "data": {
      "text/html": [
       "<div>\n",
       "<style scoped>\n",
       "    .dataframe tbody tr th:only-of-type {\n",
       "        vertical-align: middle;\n",
       "    }\n",
       "\n",
       "    .dataframe tbody tr th {\n",
       "        vertical-align: top;\n",
       "    }\n",
       "\n",
       "    .dataframe thead th {\n",
       "        text-align: right;\n",
       "    }\n",
       "</style>\n",
       "<table border=\"1\" class=\"dataframe\">\n",
       "  <thead>\n",
       "    <tr style=\"text-align: right;\">\n",
       "      <th></th>\n",
       "      <th>Gender</th>\n",
       "      <th>Age</th>\n",
       "      <th>Salary</th>\n",
       "      <th>Family members</th>\n",
       "      <th>Insurance benefits</th>\n",
       "    </tr>\n",
       "  </thead>\n",
       "  <tbody>\n",
       "    <tr>\n",
       "      <td>0</td>\n",
       "      <td>1</td>\n",
       "      <td>41.0</td>\n",
       "      <td>49600.0</td>\n",
       "      <td>1</td>\n",
       "      <td>0</td>\n",
       "    </tr>\n",
       "    <tr>\n",
       "      <td>1</td>\n",
       "      <td>0</td>\n",
       "      <td>46.0</td>\n",
       "      <td>38000.0</td>\n",
       "      <td>1</td>\n",
       "      <td>1</td>\n",
       "    </tr>\n",
       "    <tr>\n",
       "      <td>2</td>\n",
       "      <td>0</td>\n",
       "      <td>29.0</td>\n",
       "      <td>21000.0</td>\n",
       "      <td>0</td>\n",
       "      <td>0</td>\n",
       "    </tr>\n",
       "    <tr>\n",
       "      <td>3</td>\n",
       "      <td>0</td>\n",
       "      <td>21.0</td>\n",
       "      <td>41700.0</td>\n",
       "      <td>2</td>\n",
       "      <td>0</td>\n",
       "    </tr>\n",
       "    <tr>\n",
       "      <td>4</td>\n",
       "      <td>1</td>\n",
       "      <td>28.0</td>\n",
       "      <td>26100.0</td>\n",
       "      <td>0</td>\n",
       "      <td>0</td>\n",
       "    </tr>\n",
       "  </tbody>\n",
       "</table>\n",
       "</div>"
      ],
      "text/plain": [
       "   Gender   Age   Salary  Family members  Insurance benefits\n",
       "0       1  41.0  49600.0               1                   0\n",
       "1       0  46.0  38000.0               1                   1\n",
       "2       0  29.0  21000.0               0                   0\n",
       "3       0  21.0  41700.0               2                   0\n",
       "4       1  28.0  26100.0               0                   0"
      ]
     },
     "metadata": {},
     "output_type": "display_data"
    },
    {
     "name": "stdout",
     "output_type": "stream",
     "text": [
      "<class 'pandas.core.frame.DataFrame'>\n",
      "RangeIndex: 500 entries, 0 to 499\n",
      "Data columns (total 5 columns):\n",
      "Gender                500 non-null int64\n",
      "Age                   500 non-null float64\n",
      "Salary                500 non-null float64\n",
      "Family members        500 non-null int64\n",
      "Insurance benefits    500 non-null int64\n",
      "dtypes: float64(2), int64(3)\n",
      "memory usage: 19.7 KB\n"
     ]
    },
    {
     "data": {
      "text/plain": [
       "None"
      ]
     },
     "metadata": {},
     "output_type": "display_data"
    }
   ],
   "source": [
    "# look at the first 5 rows\n",
    "display(data.head())\n",
    "\n",
    "# check the data types\n",
    "display(data.info())"
   ]
  },
  {
   "cell_type": "markdown",
   "metadata": {},
   "source": [
    "* There are no long text values or potential categorical values. There will be no substantial savings in memory usages by converting the data types. \n",
    "\n",
    "Skipping optimisation..."
   ]
  },
  {
   "cell_type": "code",
   "execution_count": 107,
   "metadata": {},
   "outputs": [],
   "source": [
    "# load the data files in full\n",
    "# convert the 'date' variable to datetime data type\n",
    "try:\n",
    "    data = pd.read_csv('insurance_us.csv', sep=',')\n",
    "except:\n",
    "    data = pd.read_csv('/datasets/insurance_us.csv', sep=',')"
   ]
  },
  {
   "cell_type": "markdown",
   "metadata": {},
   "source": [
    "Rename the colums to make the code look more consistent with its style."
   ]
  },
  {
   "cell_type": "code",
   "execution_count": 108,
   "metadata": {},
   "outputs": [],
   "source": [
    "data = data.rename(columns={'Gender': 'gender', 'Age': 'age', 'Salary': 'income', 'Family members': 'family_members', 'Insurance benefits': 'insurance_benefits'})"
   ]
  },
  {
   "cell_type": "code",
   "execution_count": 109,
   "metadata": {},
   "outputs": [
    {
     "data": {
      "text/html": [
       "<div>\n",
       "<style scoped>\n",
       "    .dataframe tbody tr th:only-of-type {\n",
       "        vertical-align: middle;\n",
       "    }\n",
       "\n",
       "    .dataframe tbody tr th {\n",
       "        vertical-align: top;\n",
       "    }\n",
       "\n",
       "    .dataframe thead th {\n",
       "        text-align: right;\n",
       "    }\n",
       "</style>\n",
       "<table border=\"1\" class=\"dataframe\">\n",
       "  <thead>\n",
       "    <tr style=\"text-align: right;\">\n",
       "      <th></th>\n",
       "      <th>gender</th>\n",
       "      <th>age</th>\n",
       "      <th>income</th>\n",
       "      <th>family_members</th>\n",
       "      <th>insurance_benefits</th>\n",
       "    </tr>\n",
       "  </thead>\n",
       "  <tbody>\n",
       "    <tr>\n",
       "      <td>891</td>\n",
       "      <td>1</td>\n",
       "      <td>39.0</td>\n",
       "      <td>44900.0</td>\n",
       "      <td>1</td>\n",
       "      <td>0</td>\n",
       "    </tr>\n",
       "    <tr>\n",
       "      <td>3347</td>\n",
       "      <td>0</td>\n",
       "      <td>27.0</td>\n",
       "      <td>31200.0</td>\n",
       "      <td>2</td>\n",
       "      <td>0</td>\n",
       "    </tr>\n",
       "    <tr>\n",
       "      <td>3867</td>\n",
       "      <td>1</td>\n",
       "      <td>36.0</td>\n",
       "      <td>22300.0</td>\n",
       "      <td>2</td>\n",
       "      <td>0</td>\n",
       "    </tr>\n",
       "    <tr>\n",
       "      <td>1276</td>\n",
       "      <td>1</td>\n",
       "      <td>23.0</td>\n",
       "      <td>41900.0</td>\n",
       "      <td>2</td>\n",
       "      <td>0</td>\n",
       "    </tr>\n",
       "    <tr>\n",
       "      <td>2005</td>\n",
       "      <td>0</td>\n",
       "      <td>30.0</td>\n",
       "      <td>33900.0</td>\n",
       "      <td>0</td>\n",
       "      <td>0</td>\n",
       "    </tr>\n",
       "    <tr>\n",
       "      <td>2783</td>\n",
       "      <td>0</td>\n",
       "      <td>39.0</td>\n",
       "      <td>57800.0</td>\n",
       "      <td>1</td>\n",
       "      <td>0</td>\n",
       "    </tr>\n",
       "    <tr>\n",
       "      <td>4710</td>\n",
       "      <td>1</td>\n",
       "      <td>30.0</td>\n",
       "      <td>37600.0</td>\n",
       "      <td>6</td>\n",
       "      <td>0</td>\n",
       "    </tr>\n",
       "    <tr>\n",
       "      <td>4602</td>\n",
       "      <td>1</td>\n",
       "      <td>23.0</td>\n",
       "      <td>35300.0</td>\n",
       "      <td>1</td>\n",
       "      <td>0</td>\n",
       "    </tr>\n",
       "    <tr>\n",
       "      <td>2811</td>\n",
       "      <td>1</td>\n",
       "      <td>27.0</td>\n",
       "      <td>40100.0</td>\n",
       "      <td>2</td>\n",
       "      <td>0</td>\n",
       "    </tr>\n",
       "    <tr>\n",
       "      <td>607</td>\n",
       "      <td>1</td>\n",
       "      <td>38.0</td>\n",
       "      <td>44100.0</td>\n",
       "      <td>1</td>\n",
       "      <td>0</td>\n",
       "    </tr>\n",
       "  </tbody>\n",
       "</table>\n",
       "</div>"
      ],
      "text/plain": [
       "      gender   age   income  family_members  insurance_benefits\n",
       "891        1  39.0  44900.0               1                   0\n",
       "3347       0  27.0  31200.0               2                   0\n",
       "3867       1  36.0  22300.0               2                   0\n",
       "1276       1  23.0  41900.0               2                   0\n",
       "2005       0  30.0  33900.0               0                   0\n",
       "2783       0  39.0  57800.0               1                   0\n",
       "4710       1  30.0  37600.0               6                   0\n",
       "4602       1  23.0  35300.0               1                   0\n",
       "2811       1  27.0  40100.0               2                   0\n",
       "607        1  38.0  44100.0               1                   0"
      ]
     },
     "execution_count": 109,
     "metadata": {},
     "output_type": "execute_result"
    }
   ],
   "source": [
    "data.sample(10)"
   ]
  },
  {
   "cell_type": "code",
   "execution_count": 110,
   "metadata": {},
   "outputs": [
    {
     "name": "stdout",
     "output_type": "stream",
     "text": [
      "<class 'pandas.core.frame.DataFrame'>\n",
      "RangeIndex: 5000 entries, 0 to 4999\n",
      "Data columns (total 5 columns):\n",
      "gender                5000 non-null int64\n",
      "age                   5000 non-null float64\n",
      "income                5000 non-null float64\n",
      "family_members        5000 non-null int64\n",
      "insurance_benefits    5000 non-null int64\n",
      "dtypes: float64(2), int64(3)\n",
      "memory usage: 195.4 KB\n"
     ]
    }
   ],
   "source": [
    "# get a first impression of the datasets\n",
    "data.info()"
   ]
  },
  {
   "cell_type": "code",
   "execution_count": 111,
   "metadata": {},
   "outputs": [
    {
     "name": "stdout",
     "output_type": "stream",
     "text": [
      "<class 'pandas.core.frame.DataFrame'>\n",
      "RangeIndex: 5000 entries, 0 to 4999\n",
      "Data columns (total 5 columns):\n",
      "gender                5000 non-null int64\n",
      "age                   5000 non-null int64\n",
      "income                5000 non-null float64\n",
      "family_members        5000 non-null int64\n",
      "insurance_benefits    5000 non-null int64\n",
      "dtypes: float64(1), int64(4)\n",
      "memory usage: 195.4 KB\n"
     ]
    }
   ],
   "source": [
    "# fix 'Age' data type from float to int\n",
    "data['age'] = data['age'].astype(int)\n",
    "\n",
    "# verify it worked\n",
    "data.info()"
   ]
  },
  {
   "cell_type": "code",
   "execution_count": 112,
   "metadata": {},
   "outputs": [
    {
     "data": {
      "image/png": "[encoded data removed]",
      "text/plain": [
       "<Figure size 432x288 with 1 Axes>"
      ]
     },
     "metadata": {
      "needs_background": "light"
     },
     "output_type": "display_data"
    }
   ],
   "source": [
    "sns.histplot(data['gender'])\n",
    "plt.title(\"Frequency chart of 'gender'\")\n",
    "plt.show();"
   ]
  },
  {
   "cell_type": "code",
   "execution_count": 113,
   "metadata": {},
   "outputs": [
    {
     "data": {
      "image/png": "[encoded data removed]",
      "text/plain": [
       "<Figure size 432x288 with 1 Axes>"
      ]
     },
     "metadata": {
      "needs_background": "light"
     },
     "output_type": "display_data"
    }
   ],
   "source": [
    "sns.histplot(data['family_members'])\n",
    "plt.title(\"Frequency chart of 'Family members'\")\n",
    "plt.show();"
   ]
  },
  {
   "cell_type": "code",
   "execution_count": 114,
   "metadata": {},
   "outputs": [
    {
     "data": {
      "image/png": "[encoded data removed]",
      "text/plain": [
       "<Figure size 432x288 with 1 Axes>"
      ]
     },
     "metadata": {
      "needs_background": "light"
     },
     "output_type": "display_data"
    }
   ],
   "source": [
    "sns.histplot(data['insurance_benefits'])\n",
    "plt.title(\"Frequency chart of 'Insurance benefits'\")\n",
    "plt.show();"
   ]
  },
  {
   "cell_type": "code",
   "execution_count": 115,
   "metadata": {},
   "outputs": [
    {
     "data": {
      "image/png": "[encoded data removed]",
      "text/plain": [
       "<Figure size 1080x288 with 2 Axes>"
      ]
     },
     "metadata": {
      "needs_background": "light"
     },
     "output_type": "display_data"
    }
   ],
   "source": [
    "fig, ax = plt.subplots(1, 2, figsize=(15, 4))\n",
    "sns.histplot(x=\"age\", hue=\"insurance_benefits\", data=data, ax=ax[0])\n",
    "plt.title(\"Frequency chart of 'Age'\")\n",
    "sns.boxplot(x=\"insurance_benefits\", y=\"age\", data=data, ax=ax[1]) \n",
    "plt.title(\"Looking for outliers in 'Age'\");\n",
    "plt.show();"
   ]
  },
  {
   "cell_type": "code",
   "execution_count": 116,
   "metadata": {},
   "outputs": [
    {
     "data": {
      "image/png": "[encoded data removed]",
      "text/plain": [
       "<Figure size 1080x288 with 2 Axes>"
      ]
     },
     "metadata": {
      "needs_background": "light"
     },
     "output_type": "display_data"
    }
   ],
   "source": [
    "fig, ax = plt.subplots(1, 2, figsize=(15, 4))\n",
    "sns.histplot(x=\"income\", hue=\"insurance_benefits\", data=data, ax=ax[0])\n",
    "plt.title(\"Frequency chart of 'Income'\")\n",
    "sns.boxplot(x=\"insurance_benefits\", y=\"income\", data=data, ax=ax[1]) \n",
    "plt.title(\"Looking for outliers in 'Income'\");\n",
    "plt.show();         "
   ]
  },
  {
   "cell_type": "code",
   "execution_count": 120,
   "metadata": {},
   "outputs": [
    {
     "name": "stdout",
     "output_type": "stream",
     "text": [
      "300\n"
     ]
    },
    {
     "data": {
      "text/html": [
       "<div>\n",
       "<style scoped>\n",
       "    .dataframe tbody tr th:only-of-type {\n",
       "        vertical-align: middle;\n",
       "    }\n",
       "\n",
       "    .dataframe tbody tr th {\n",
       "        vertical-align: top;\n",
       "    }\n",
       "\n",
       "    .dataframe thead th {\n",
       "        text-align: right;\n",
       "    }\n",
       "</style>\n",
       "<table border=\"1\" class=\"dataframe\">\n",
       "  <thead>\n",
       "    <tr style=\"text-align: right;\">\n",
       "      <th></th>\n",
       "      <th>gender</th>\n",
       "      <th>age</th>\n",
       "      <th>income</th>\n",
       "      <th>family_members</th>\n",
       "      <th>insurance_benefits</th>\n",
       "    </tr>\n",
       "  </thead>\n",
       "  <tbody>\n",
       "    <tr>\n",
       "      <td>1742</td>\n",
       "      <td>1</td>\n",
       "      <td>28</td>\n",
       "      <td>59900.0</td>\n",
       "      <td>0</td>\n",
       "      <td>0</td>\n",
       "    </tr>\n",
       "    <tr>\n",
       "      <td>1418</td>\n",
       "      <td>1</td>\n",
       "      <td>28</td>\n",
       "      <td>59900.0</td>\n",
       "      <td>0</td>\n",
       "      <td>0</td>\n",
       "    </tr>\n",
       "    <tr>\n",
       "      <td>2231</td>\n",
       "      <td>0</td>\n",
       "      <td>33</td>\n",
       "      <td>59300.0</td>\n",
       "      <td>2</td>\n",
       "      <td>0</td>\n",
       "    </tr>\n",
       "    <tr>\n",
       "      <td>1042</td>\n",
       "      <td>0</td>\n",
       "      <td>33</td>\n",
       "      <td>59300.0</td>\n",
       "      <td>2</td>\n",
       "      <td>0</td>\n",
       "    </tr>\n",
       "    <tr>\n",
       "      <td>2465</td>\n",
       "      <td>0</td>\n",
       "      <td>40</td>\n",
       "      <td>54000.0</td>\n",
       "      <td>2</td>\n",
       "      <td>0</td>\n",
       "    </tr>\n",
       "    <tr>\n",
       "      <td>...</td>\n",
       "      <td>...</td>\n",
       "      <td>...</td>\n",
       "      <td>...</td>\n",
       "      <td>...</td>\n",
       "      <td>...</td>\n",
       "    </tr>\n",
       "    <tr>\n",
       "      <td>4230</td>\n",
       "      <td>0</td>\n",
       "      <td>32</td>\n",
       "      <td>25600.0</td>\n",
       "      <td>1</td>\n",
       "      <td>0</td>\n",
       "    </tr>\n",
       "    <tr>\n",
       "      <td>361</td>\n",
       "      <td>0</td>\n",
       "      <td>50</td>\n",
       "      <td>24700.0</td>\n",
       "      <td>1</td>\n",
       "      <td>2</td>\n",
       "    </tr>\n",
       "    <tr>\n",
       "      <td>2869</td>\n",
       "      <td>0</td>\n",
       "      <td>50</td>\n",
       "      <td>24700.0</td>\n",
       "      <td>1</td>\n",
       "      <td>2</td>\n",
       "    </tr>\n",
       "    <tr>\n",
       "      <td>2955</td>\n",
       "      <td>1</td>\n",
       "      <td>32</td>\n",
       "      <td>21600.0</td>\n",
       "      <td>0</td>\n",
       "      <td>0</td>\n",
       "    </tr>\n",
       "    <tr>\n",
       "      <td>2988</td>\n",
       "      <td>1</td>\n",
       "      <td>32</td>\n",
       "      <td>21600.0</td>\n",
       "      <td>0</td>\n",
       "      <td>0</td>\n",
       "    </tr>\n",
       "  </tbody>\n",
       "</table>\n",
       "<p>300 rows × 5 columns</p>\n",
       "</div>"
      ],
      "text/plain": [
       "      gender  age   income  family_members  insurance_benefits\n",
       "1742       1   28  59900.0               0                   0\n",
       "1418       1   28  59900.0               0                   0\n",
       "2231       0   33  59300.0               2                   0\n",
       "1042       0   33  59300.0               2                   0\n",
       "2465       0   40  54000.0               2                   0\n",
       "...      ...  ...      ...             ...                 ...\n",
       "4230       0   32  25600.0               1                   0\n",
       "361        0   50  24700.0               1                   2\n",
       "2869       0   50  24700.0               1                   2\n",
       "2955       1   32  21600.0               0                   0\n",
       "2988       1   32  21600.0               0                   0\n",
       "\n",
       "[300 rows x 5 columns]"
      ]
     },
     "execution_count": 120,
     "metadata": {},
     "output_type": "execute_result"
    }
   ],
   "source": [
    "print(data.duplicated(keep=False).sum())\n",
    "data[data.duplicated(keep=False)].sort_values(by='income', ascending=False)"
   ]
  },
  {
   "cell_type": "markdown",
   "metadata": {},
   "source": [
    "* Dataset's shape: 5000 rows, 5 columns\n",
    "* No missing values\n",
    "* 153 complete duplicates but their deletion does not affect the data distributions at all, so leaving them in. \n",
    "\n",
    "\n",
    "* Features: insured person's gender, age, salary, and number of family members.\n",
    "* Target: number of insurance benefits received by an insured person over the last five years.\n",
    "\n",
    "\n",
    "* We will perform feature scaling on 'Age' and 'Salary' to standardize the values. \n",
    "\n",
    "\n",
    "* 'Gender': we do not know which is female and which is male, but the distribution is pretty well balanced between the two values.\n",
    "* 'Family members': \"a family with zero members\" is the second largest. This does not make any sense, so perhaps, this should be interpreted as \"the number of people living within the families who are insured\". If so, then no or only one member of the family tends to be insured. \n",
    "* 'Insurance benefits' (our target variable)\n",
    "<br>o The vast majority of insured people did not receive any insurance benefits in the last five years.\n",
    "<br>o There are 5 categories and we have a multi-class classification problem. \n",
    "<br>o There are 5 categories and we have a class imbalance. \n",
    "* 'Age'\n",
    "<br>o The distribution is skewed to the left, indicating that younger people tend to purchase an insurance product than older people.\n",
    "<br>o No outliers.\n",
    "<br>o Up to around the age of 42, 'Insurance benefits' = 0; all but 'Insurance benefits' =0 are observed above the age of 42.\n",
    "* 'Salary'\n",
    "<br>o Normally distributed\n",
    "<br>o Some outliers for some low 'Insurance benefits' values. We will not remove them since they do not seem abnormal. \n",
    "\n",
    "\n",
    "Let us check for multicollinearity. "
   ]
  },
  {
   "cell_type": "markdown",
   "metadata": {},
   "source": [
    "<div class=\"alert alert-success\">\n",
    "<b>Reviewer's comment</b>\n",
    "\t  \n",
    "Nice observations!\n",
    "\t  \n",
    "</div>"
   ]
  },
  {
   "cell_type": "markdown",
   "metadata": {},
   "source": [
    "## EDA"
   ]
  },
  {
   "cell_type": "markdown",
   "metadata": {},
   "source": [
    "Let's quickly check whether there are certain groups of customers by looking at the pair plot."
   ]
  },
  {
   "cell_type": "code",
   "execution_count": 18,
   "metadata": {},
   "outputs": [
    {
     "data": {
      "image/png": "[encoded data removed]",
      "text/plain": [
       "<Figure size 900x900 with 30 Axes>"
      ]
     },
     "metadata": {
      "needs_background": "light"
     },
     "output_type": "display_data"
    }
   ],
   "source": [
    "# draw the scatter matrix to see the multivariate distribution of the features and the target\n",
    "sns.pairplot(data)\n",
    "plt.title(\"Scatter Matrix to display multivariate distributions\")\n",
    "plt.show();"
   ]
  },
  {
   "cell_type": "markdown",
   "metadata": {},
   "source": [
    "* The 'Age' feature variable has the strongest correlation with the target variable.  \n",
    "* No outliers are observed.\n",
    "\n",
    "\n",
    " Let us look at the correlation matrix. Using Spearman's correlation coefficients since most of the variables do not show a normal distribution."
   ]
  },
  {
   "cell_type": "code",
   "execution_count": 19,
   "metadata": {},
   "outputs": [
    {
     "data": {
      "image/png": "[encoded data removed]",
      "text/plain": [
       "<Figure size 576x576 with 2 Axes>"
      ]
     },
     "metadata": {
      "needs_background": "light"
     },
     "output_type": "display_data"
    }
   ],
   "source": [
    "# draw up a correlation heatmap\n",
    "correlation = data.corr(method='spearman')\n",
    "plt.figure(figsize=(8, 8))\n",
    "sns.heatmap(correlation, vmax=1, square=True, annot=True, cmap='Blues_r') \n",
    "plt.title(\"Heatmap showing feature-pair correlation strengths\", fontsize=14)\n",
    "plt.ylabel(\"variable\")\n",
    "plt.xlabel(\"variable\");"
   ]
  },
  {
   "cell_type": "markdown",
   "metadata": {},
   "source": [
    "* The correlation between 'Age' and 'Insurance benefits' is confirmed. "
   ]
  },
  {
   "cell_type": "markdown",
   "metadata": {},
   "source": [
    "[Project Guidance] Ok, it is a bit difficult to spot obvious groups (clusters) as it is difficult to combine several variables simultaneously (to analyze multivariate distributions). That's where LA and ML can be quite handy."
   ]
  },
  {
   "cell_type": "markdown",
   "metadata": {},
   "source": [
    "# Work on each task and answer the questions posed in the project template <a class=\"anchor\" id=\"section_1_3\"></a>\n",
    "\n",
    "[Go back to the Table of Contents](#table_of_contents)"
   ]
  },
  {
   "cell_type": "markdown",
   "metadata": {},
   "source": [
    "## Task 1. Similar Customers\n",
    "\n",
    "Find customers who are similar to a given customer. This will help the company's agents with marketing."
   ]
  },
  {
   "cell_type": "markdown",
   "metadata": {},
   "source": [
    "[Project Guidance] In the language of ML, it is necessary to develop a procedure that returns k nearest neighbors (objects) for a given object based on the distance between the objects.\n",
    "\n",
    "You may want to review the following lessons (chapter -> lesson)\n",
    "- Distance Between Vectors -> Euclidean Distance\n",
    "- Distance Between Vectors -> Manhattan Distance\n",
    "\n",
    "To solve the task, we can try different distance metrics."
   ]
  },
  {
   "cell_type": "markdown",
   "metadata": {},
   "source": [
    "[Project Guidance] Write a function that returns k nearest neighbors for an $n^{th}$ object based on a specified distance metric. The number of received insurance benefits should not be taken into account for this task. \n",
    "\n",
    "You can use a ready implementation of the kNN algorithm from scikit-learn (check [the link](https://scikit-learn.org/stable/modules/generated/sklearn.neighbors.NearestNeighbors.html#sklearn.neighbors.NearestNeighbors)) or use your own.\n",
    "\n",
    "Test it for four combination of two cases\n",
    "- Scaling\n",
    "  - the data is not scaled\n",
    "  - the data is scaled with the [MaxAbsScaler](https://scikit-learn.org/stable/modules/generated/sklearn.preprocessing.MaxAbsScaler.html) scaler\n",
    "- Distance Metrics\n",
    "  - Euclidean\n",
    "  - Manhattan\n",
    "\n",
    "Answer these questions:\n",
    "- Does the data being not scaled affect the kNN algorithm? If so, how does that appear?\n",
    "- How similar are the results using the Manhattan distance metric (regardless of the scaling)?"
   ]
  },
  {
   "cell_type": "markdown",
   "metadata": {},
   "source": [
    "<div class=\"alert alert-info\" role=\"alert\">\n",
    "<b>Question</b>\n",
    "\n",
    "<br>In the Project Guideline above, it says \"The number of received insurance benefits should not be taken into account for this task.\". But to make the get_knn() function below work, it has to be fitted with the target variable as well (i.e. y_train). \n",
    "    \n",
    "<br>What does the instruction mean?\n",
    "\n",
    "</div>"
   ]
  },
  {
   "cell_type": "markdown",
   "metadata": {},
   "source": [
    "<div class=\"alert alert-warning\">\n",
    "<b>Reviewer's comment</b>\n",
    "\t  \n",
    "The link in the task description above is to [sklearn.neighbors.NearestNeighbors](https://scikit-learn.org/stable/modules/generated/sklearn.neighbors.NearestNeighbors.html#sklearn.neighbors.NearestNeighbors), which is the unsupervised algorithm (i.e. doesn't use any target variable). If the comments in the code said `KNeighborsRegressor`, it's just a mistype I guess.\n",
    "    \n",
    "It's okay to use `KNeighborsRegressor` too though, because unless you use `predict`, targets are never touched: fitting `KNeighborsRegressor` basically just stores the train set, and `kneighbors` method only uses the feature space.\n",
    "\t  \n",
    "</div>\n"
   ]
  },
  {
   "cell_type": "markdown",
   "metadata": {},
   "source": [
    "<div class=\"alert alert-info\" role=\"alert\">\n",
    "<b>Student's Comment v.2</b>\n",
    "\n",
    "<br>I knew it! I saw the link lead to the \"unsupervised version\", but then I told myself it couldn't be, because we were still in the supervised learning chapter. The contradictory messages threw me off, but I went ahead with KNeighborsRegressor. \n",
    "    \n",
    "<br>You write, \"It's okay to use KNeighborsRegressor too though, because unless you use predict, targets are never touched: fitting KNeighborsRegressor basically just stores the train set, and kneighbors method only uses the feature space.\", and that's exactly how I reasoned.  \n",
    "</div>"
   ]
  },
  {
   "cell_type": "markdown",
   "metadata": {},
   "source": [
    "<div class=\"alert alert-success\">\n",
    "<b>Reviewer's comment V2</b>\n",
    "\t  \n",
    "Ok, no problem!\n",
    "\t  \n",
    "</div>"
   ]
  },
  {
   "cell_type": "code",
   "execution_count": 22,
   "metadata": {},
   "outputs": [],
   "source": [
    "# [Project Guidance] make a list of feature variables and exclude the target variable\n",
    "feature_names = ['gender', 'age', 'income', 'family_members']"
   ]
  },
  {
   "cell_type": "code",
   "execution_count": 23,
   "metadata": {},
   "outputs": [],
   "source": [
    "# [Project Guidance] write a function based on sklearn's KNeighborsRegressor class\n",
    "def get_knn(df, n, k, metric):\n",
    "    \n",
    "    \"\"\"\n",
    "    Returns k nearest neighbours\n",
    "\n",
    "    :param df: pandas DataFrame used to find similar objects within\n",
    "    :param n: object number for which the nearest neighbours are looked for\n",
    "    :param k: the number of the nearest neighbours to return\n",
    "    :param metric: name of distance metric\n",
    "    \"\"\"\n",
    "    nbrs = KNeighborsRegressor(metric=metric) # <your code here>\n",
    "    nbrs.fit(df[feature_names], df.drop(feature_names, axis=1))\n",
    "    nbrs_distances, nbrs_indices = nbrs.kneighbors([df.iloc[n][feature_names]], k, return_distance=True)\n",
    "\n",
    "    df_res = pd.concat([\n",
    "        df.iloc[nbrs_indices[0]], \n",
    "        pd.DataFrame(nbrs_distances.T, index=nbrs_indices[0], columns=['distance'])\n",
    "        ], axis=1)\n",
    "    df_res = df_res.drop(index=df_res.index[0], axis=0)\n",
    "    \n",
    "    return df_res"
   ]
  },
  {
   "cell_type": "markdown",
   "metadata": {},
   "source": [
    "[Project Guidance] Scaling the data with the [MaxAbsScaler]"
   ]
  },
  {
   "cell_type": "code",
   "execution_count": 24,
   "metadata": {},
   "outputs": [],
   "source": [
    "feature_names = ['gender', 'age', 'income', 'family_members']\n",
    "\n",
    "transformer_mas = sklearn.preprocessing.MaxAbsScaler().fit(data[feature_names].to_numpy())\n",
    "\n",
    "data_scaled = data.copy()\n",
    "data_scaled.loc[:, feature_names] = transformer_mas.transform(data[feature_names].to_numpy())"
   ]
  },
  {
   "cell_type": "code",
   "execution_count": 25,
   "metadata": {},
   "outputs": [
    {
     "data": {
      "text/html": [
       "<div>\n",
       "<style scoped>\n",
       "    .dataframe tbody tr th:only-of-type {\n",
       "        vertical-align: middle;\n",
       "    }\n",
       "\n",
       "    .dataframe tbody tr th {\n",
       "        vertical-align: top;\n",
       "    }\n",
       "\n",
       "    .dataframe thead th {\n",
       "        text-align: right;\n",
       "    }\n",
       "</style>\n",
       "<table border=\"1\" class=\"dataframe\">\n",
       "  <thead>\n",
       "    <tr style=\"text-align: right;\">\n",
       "      <th></th>\n",
       "      <th>gender</th>\n",
       "      <th>age</th>\n",
       "      <th>income</th>\n",
       "      <th>family_members</th>\n",
       "      <th>insurance_benefits</th>\n",
       "    </tr>\n",
       "  </thead>\n",
       "  <tbody>\n",
       "    <tr>\n",
       "      <td>1797</td>\n",
       "      <td>0.0</td>\n",
       "      <td>0.323077</td>\n",
       "      <td>0.602532</td>\n",
       "      <td>0.333333</td>\n",
       "      <td>0</td>\n",
       "    </tr>\n",
       "    <tr>\n",
       "      <td>3925</td>\n",
       "      <td>1.0</td>\n",
       "      <td>0.446154</td>\n",
       "      <td>0.167089</td>\n",
       "      <td>0.500000</td>\n",
       "      <td>0</td>\n",
       "    </tr>\n",
       "    <tr>\n",
       "      <td>829</td>\n",
       "      <td>0.0</td>\n",
       "      <td>0.323077</td>\n",
       "      <td>0.450633</td>\n",
       "      <td>0.333333</td>\n",
       "      <td>0</td>\n",
       "    </tr>\n",
       "    <tr>\n",
       "      <td>2559</td>\n",
       "      <td>0.0</td>\n",
       "      <td>0.692308</td>\n",
       "      <td>0.784810</td>\n",
       "      <td>0.333333</td>\n",
       "      <td>1</td>\n",
       "    </tr>\n",
       "    <tr>\n",
       "      <td>2595</td>\n",
       "      <td>0.0</td>\n",
       "      <td>0.476923</td>\n",
       "      <td>0.491139</td>\n",
       "      <td>0.166667</td>\n",
       "      <td>0</td>\n",
       "    </tr>\n",
       "  </tbody>\n",
       "</table>\n",
       "</div>"
      ],
      "text/plain": [
       "      gender       age    income  family_members  insurance_benefits\n",
       "1797     0.0  0.323077  0.602532        0.333333                   0\n",
       "3925     1.0  0.446154  0.167089        0.500000                   0\n",
       "829      0.0  0.323077  0.450633        0.333333                   0\n",
       "2559     0.0  0.692308  0.784810        0.333333                   1\n",
       "2595     0.0  0.476923  0.491139        0.166667                   0"
      ]
     },
     "execution_count": 25,
     "metadata": {},
     "output_type": "execute_result"
    }
   ],
   "source": [
    "data_scaled.sample(5)"
   ]
  },
  {
   "cell_type": "markdown",
   "metadata": {},
   "source": [
    "[Project Guidance] Now, let's get similar records for a given one for every combination"
   ]
  },
  {
   "cell_type": "code",
   "execution_count": 26,
   "metadata": {},
   "outputs": [
    {
     "name": "stdout",
     "output_type": "stream",
     "text": [
      "CPU times: user 4 µs, sys: 1 µs, total: 5 µs\n",
      "Wall time: 8.34 µs\n",
      "\n",
      "the 5-th target customer:\n",
      "gender                1.0\n",
      "age                  43.0\n",
      "income            41000.0\n",
      "family_members        2.0\n",
      "Name: 5, dtype: float64\n",
      "\n",
      "the 10 most similar customers:\n"
     ]
    },
    {
     "data": {
      "text/html": [
       "<div>\n",
       "<style scoped>\n",
       "    .dataframe tbody tr th:only-of-type {\n",
       "        vertical-align: middle;\n",
       "    }\n",
       "\n",
       "    .dataframe tbody tr th {\n",
       "        vertical-align: top;\n",
       "    }\n",
       "\n",
       "    .dataframe thead th {\n",
       "        text-align: right;\n",
       "    }\n",
       "</style>\n",
       "<table border=\"1\" class=\"dataframe\">\n",
       "  <thead>\n",
       "    <tr style=\"text-align: right;\">\n",
       "      <th></th>\n",
       "      <th>gender</th>\n",
       "      <th>age</th>\n",
       "      <th>income</th>\n",
       "      <th>family_members</th>\n",
       "      <th>insurance_benefits</th>\n",
       "      <th>distance</th>\n",
       "    </tr>\n",
       "  </thead>\n",
       "  <tbody>\n",
       "    <tr>\n",
       "      <td>1995</td>\n",
       "      <td>0</td>\n",
       "      <td>45</td>\n",
       "      <td>41000.0</td>\n",
       "      <td>0</td>\n",
       "      <td>1</td>\n",
       "      <td>3.000000</td>\n",
       "    </tr>\n",
       "    <tr>\n",
       "      <td>3972</td>\n",
       "      <td>1</td>\n",
       "      <td>40</td>\n",
       "      <td>41000.0</td>\n",
       "      <td>1</td>\n",
       "      <td>0</td>\n",
       "      <td>3.162278</td>\n",
       "    </tr>\n",
       "    <tr>\n",
       "      <td>3801</td>\n",
       "      <td>0</td>\n",
       "      <td>46</td>\n",
       "      <td>41000.0</td>\n",
       "      <td>2</td>\n",
       "      <td>1</td>\n",
       "      <td>3.162278</td>\n",
       "    </tr>\n",
       "    <tr>\n",
       "      <td>4763</td>\n",
       "      <td>1</td>\n",
       "      <td>46</td>\n",
       "      <td>41000.0</td>\n",
       "      <td>1</td>\n",
       "      <td>1</td>\n",
       "      <td>3.162278</td>\n",
       "    </tr>\n",
       "    <tr>\n",
       "      <td>2759</td>\n",
       "      <td>0</td>\n",
       "      <td>47</td>\n",
       "      <td>41000.0</td>\n",
       "      <td>3</td>\n",
       "      <td>1</td>\n",
       "      <td>4.242641</td>\n",
       "    </tr>\n",
       "    <tr>\n",
       "      <td>2717</td>\n",
       "      <td>0</td>\n",
       "      <td>37</td>\n",
       "      <td>41000.0</td>\n",
       "      <td>0</td>\n",
       "      <td>0</td>\n",
       "      <td>6.403124</td>\n",
       "    </tr>\n",
       "    <tr>\n",
       "      <td>3434</td>\n",
       "      <td>1</td>\n",
       "      <td>36</td>\n",
       "      <td>41000.0</td>\n",
       "      <td>2</td>\n",
       "      <td>0</td>\n",
       "      <td>7.000000</td>\n",
       "    </tr>\n",
       "    <tr>\n",
       "      <td>1740</td>\n",
       "      <td>0</td>\n",
       "      <td>36</td>\n",
       "      <td>41000.0</td>\n",
       "      <td>1</td>\n",
       "      <td>0</td>\n",
       "      <td>7.141428</td>\n",
       "    </tr>\n",
       "    <tr>\n",
       "      <td>2876</td>\n",
       "      <td>0</td>\n",
       "      <td>35</td>\n",
       "      <td>41000.0</td>\n",
       "      <td>2</td>\n",
       "      <td>0</td>\n",
       "      <td>8.062258</td>\n",
       "    </tr>\n",
       "  </tbody>\n",
       "</table>\n",
       "</div>"
      ],
      "text/plain": [
       "      gender  age   income  family_members  insurance_benefits  distance\n",
       "1995       0   45  41000.0               0                   1  3.000000\n",
       "3972       1   40  41000.0               1                   0  3.162278\n",
       "3801       0   46  41000.0               2                   1  3.162278\n",
       "4763       1   46  41000.0               1                   1  3.162278\n",
       "2759       0   47  41000.0               3                   1  4.242641\n",
       "2717       0   37  41000.0               0                   0  6.403124\n",
       "3434       1   36  41000.0               2                   0  7.000000\n",
       "1740       0   36  41000.0               1                   0  7.141428\n",
       "2876       0   35  41000.0               2                   0  8.062258"
      ]
     },
     "execution_count": 26,
     "metadata": {},
     "output_type": "execute_result"
    }
   ],
   "source": [
    "%time\n",
    "print()\n",
    "\n",
    "# Data not scaled + Euclidean distance metric\n",
    "df = data\n",
    "n = 5 # the n-th customer for whom other similar customers are going to be searched \n",
    "k = 10 # the number of the nearest neighbours to return (including the n-th customer)\n",
    "metric = 'euclidean'\n",
    "\n",
    "print('the {:}-th target customer:'.format(n))\n",
    "print(df.iloc[n][feature_names])\n",
    "print()\n",
    "print('the', k, 'most similar customers:')\n",
    "get_knn(df, n, k, metric)"
   ]
  },
  {
   "cell_type": "code",
   "execution_count": 27,
   "metadata": {},
   "outputs": [
    {
     "name": "stdout",
     "output_type": "stream",
     "text": [
      "CPU times: user 3 µs, sys: 0 ns, total: 3 µs\n",
      "Wall time: 6.68 µs\n",
      "\n",
      "the 5-th target customer:\n",
      "gender                1.0\n",
      "age                  43.0\n",
      "income            41000.0\n",
      "family_members        2.0\n",
      "Name: 5, dtype: float64\n",
      "\n",
      "the 10 most similar customers:\n"
     ]
    },
    {
     "data": {
      "text/html": [
       "<div>\n",
       "<style scoped>\n",
       "    .dataframe tbody tr th:only-of-type {\n",
       "        vertical-align: middle;\n",
       "    }\n",
       "\n",
       "    .dataframe tbody tr th {\n",
       "        vertical-align: top;\n",
       "    }\n",
       "\n",
       "    .dataframe thead th {\n",
       "        text-align: right;\n",
       "    }\n",
       "</style>\n",
       "<table border=\"1\" class=\"dataframe\">\n",
       "  <thead>\n",
       "    <tr style=\"text-align: right;\">\n",
       "      <th></th>\n",
       "      <th>gender</th>\n",
       "      <th>age</th>\n",
       "      <th>income</th>\n",
       "      <th>family_members</th>\n",
       "      <th>insurance_benefits</th>\n",
       "      <th>distance</th>\n",
       "    </tr>\n",
       "  </thead>\n",
       "  <tbody>\n",
       "    <tr>\n",
       "      <td>4763</td>\n",
       "      <td>1</td>\n",
       "      <td>46</td>\n",
       "      <td>41000.0</td>\n",
       "      <td>1</td>\n",
       "      <td>1</td>\n",
       "      <td>4.0</td>\n",
       "    </tr>\n",
       "    <tr>\n",
       "      <td>3972</td>\n",
       "      <td>1</td>\n",
       "      <td>40</td>\n",
       "      <td>41000.0</td>\n",
       "      <td>1</td>\n",
       "      <td>0</td>\n",
       "      <td>4.0</td>\n",
       "    </tr>\n",
       "    <tr>\n",
       "      <td>3801</td>\n",
       "      <td>0</td>\n",
       "      <td>46</td>\n",
       "      <td>41000.0</td>\n",
       "      <td>2</td>\n",
       "      <td>1</td>\n",
       "      <td>4.0</td>\n",
       "    </tr>\n",
       "    <tr>\n",
       "      <td>1995</td>\n",
       "      <td>0</td>\n",
       "      <td>45</td>\n",
       "      <td>41000.0</td>\n",
       "      <td>0</td>\n",
       "      <td>1</td>\n",
       "      <td>5.0</td>\n",
       "    </tr>\n",
       "    <tr>\n",
       "      <td>2759</td>\n",
       "      <td>0</td>\n",
       "      <td>47</td>\n",
       "      <td>41000.0</td>\n",
       "      <td>3</td>\n",
       "      <td>1</td>\n",
       "      <td>6.0</td>\n",
       "    </tr>\n",
       "    <tr>\n",
       "      <td>3434</td>\n",
       "      <td>1</td>\n",
       "      <td>36</td>\n",
       "      <td>41000.0</td>\n",
       "      <td>2</td>\n",
       "      <td>0</td>\n",
       "      <td>7.0</td>\n",
       "    </tr>\n",
       "    <tr>\n",
       "      <td>2717</td>\n",
       "      <td>0</td>\n",
       "      <td>37</td>\n",
       "      <td>41000.0</td>\n",
       "      <td>0</td>\n",
       "      <td>0</td>\n",
       "      <td>9.0</td>\n",
       "    </tr>\n",
       "    <tr>\n",
       "      <td>2876</td>\n",
       "      <td>0</td>\n",
       "      <td>35</td>\n",
       "      <td>41000.0</td>\n",
       "      <td>2</td>\n",
       "      <td>0</td>\n",
       "      <td>9.0</td>\n",
       "    </tr>\n",
       "    <tr>\n",
       "      <td>1740</td>\n",
       "      <td>0</td>\n",
       "      <td>36</td>\n",
       "      <td>41000.0</td>\n",
       "      <td>1</td>\n",
       "      <td>0</td>\n",
       "      <td>9.0</td>\n",
       "    </tr>\n",
       "  </tbody>\n",
       "</table>\n",
       "</div>"
      ],
      "text/plain": [
       "      gender  age   income  family_members  insurance_benefits  distance\n",
       "4763       1   46  41000.0               1                   1       4.0\n",
       "3972       1   40  41000.0               1                   0       4.0\n",
       "3801       0   46  41000.0               2                   1       4.0\n",
       "1995       0   45  41000.0               0                   1       5.0\n",
       "2759       0   47  41000.0               3                   1       6.0\n",
       "3434       1   36  41000.0               2                   0       7.0\n",
       "2717       0   37  41000.0               0                   0       9.0\n",
       "2876       0   35  41000.0               2                   0       9.0\n",
       "1740       0   36  41000.0               1                   0       9.0"
      ]
     },
     "execution_count": 27,
     "metadata": {},
     "output_type": "execute_result"
    }
   ],
   "source": [
    "%time\n",
    "print()\n",
    "\n",
    "# Data not scaled + Manhattan distance metric\n",
    "df = data\n",
    "n = 5 # the n-th customer for whom other similar customers are going to be searched \n",
    "k = 10 # the number of the nearest neighbours to return (including the n-th customer)\n",
    "metric = 'manhattan'\n",
    "\n",
    "print('the {:}-th target customer:'.format(n))\n",
    "print(df.iloc[n][feature_names])\n",
    "print()\n",
    "print('the', k, 'most similar customers:')\n",
    "get_knn(df, n, k, metric)"
   ]
  },
  {
   "cell_type": "code",
   "execution_count": 28,
   "metadata": {},
   "outputs": [
    {
     "name": "stdout",
     "output_type": "stream",
     "text": [
      "CPU times: user 3 µs, sys: 1 µs, total: 4 µs\n",
      "Wall time: 5.96 µs\n",
      "\n",
      "the 5-th target customer:\n",
      "gender            1.000000\n",
      "age               0.661538\n",
      "income            0.518987\n",
      "family_members    0.333333\n",
      "Name: 5, dtype: float64\n",
      "\n",
      "the 10 most similar customers:\n"
     ]
    },
    {
     "data": {
      "text/html": [
       "<div>\n",
       "<style scoped>\n",
       "    .dataframe tbody tr th:only-of-type {\n",
       "        vertical-align: middle;\n",
       "    }\n",
       "\n",
       "    .dataframe tbody tr th {\n",
       "        vertical-align: top;\n",
       "    }\n",
       "\n",
       "    .dataframe thead th {\n",
       "        text-align: right;\n",
       "    }\n",
       "</style>\n",
       "<table border=\"1\" class=\"dataframe\">\n",
       "  <thead>\n",
       "    <tr style=\"text-align: right;\">\n",
       "      <th></th>\n",
       "      <th>gender</th>\n",
       "      <th>age</th>\n",
       "      <th>income</th>\n",
       "      <th>family_members</th>\n",
       "      <th>insurance_benefits</th>\n",
       "      <th>distance</th>\n",
       "    </tr>\n",
       "  </thead>\n",
       "  <tbody>\n",
       "    <tr>\n",
       "      <td>1147</td>\n",
       "      <td>1.0</td>\n",
       "      <td>0.646154</td>\n",
       "      <td>0.516456</td>\n",
       "      <td>0.333333</td>\n",
       "      <td>0</td>\n",
       "      <td>0.015592</td>\n",
       "    </tr>\n",
       "    <tr>\n",
       "      <td>4074</td>\n",
       "      <td>1.0</td>\n",
       "      <td>0.661538</td>\n",
       "      <td>0.501266</td>\n",
       "      <td>0.333333</td>\n",
       "      <td>1</td>\n",
       "      <td>0.017722</td>\n",
       "    </tr>\n",
       "    <tr>\n",
       "      <td>1019</td>\n",
       "      <td>1.0</td>\n",
       "      <td>0.646154</td>\n",
       "      <td>0.501266</td>\n",
       "      <td>0.333333</td>\n",
       "      <td>0</td>\n",
       "      <td>0.023468</td>\n",
       "    </tr>\n",
       "    <tr>\n",
       "      <td>2962</td>\n",
       "      <td>1.0</td>\n",
       "      <td>0.630769</td>\n",
       "      <td>0.520253</td>\n",
       "      <td>0.333333</td>\n",
       "      <td>0</td>\n",
       "      <td>0.030795</td>\n",
       "    </tr>\n",
       "    <tr>\n",
       "      <td>2128</td>\n",
       "      <td>1.0</td>\n",
       "      <td>0.692308</td>\n",
       "      <td>0.512658</td>\n",
       "      <td>0.333333</td>\n",
       "      <td>1</td>\n",
       "      <td>0.031413</td>\n",
       "    </tr>\n",
       "    <tr>\n",
       "      <td>106</td>\n",
       "      <td>1.0</td>\n",
       "      <td>0.692308</td>\n",
       "      <td>0.526582</td>\n",
       "      <td>0.333333</td>\n",
       "      <td>1</td>\n",
       "      <td>0.031693</td>\n",
       "    </tr>\n",
       "    <tr>\n",
       "      <td>2206</td>\n",
       "      <td>1.0</td>\n",
       "      <td>0.692308</td>\n",
       "      <td>0.530380</td>\n",
       "      <td>0.333333</td>\n",
       "      <td>1</td>\n",
       "      <td>0.032811</td>\n",
       "    </tr>\n",
       "    <tr>\n",
       "      <td>2352</td>\n",
       "      <td>1.0</td>\n",
       "      <td>0.692308</td>\n",
       "      <td>0.531646</td>\n",
       "      <td>0.333333</td>\n",
       "      <td>1</td>\n",
       "      <td>0.033271</td>\n",
       "    </tr>\n",
       "    <tr>\n",
       "      <td>719</td>\n",
       "      <td>1.0</td>\n",
       "      <td>0.630769</td>\n",
       "      <td>0.532911</td>\n",
       "      <td>0.333333</td>\n",
       "      <td>0</td>\n",
       "      <td>0.033773</td>\n",
       "    </tr>\n",
       "  </tbody>\n",
       "</table>\n",
       "</div>"
      ],
      "text/plain": [
       "      gender       age    income  family_members  insurance_benefits  distance\n",
       "1147     1.0  0.646154  0.516456        0.333333                   0  0.015592\n",
       "4074     1.0  0.661538  0.501266        0.333333                   1  0.017722\n",
       "1019     1.0  0.646154  0.501266        0.333333                   0  0.023468\n",
       "2962     1.0  0.630769  0.520253        0.333333                   0  0.030795\n",
       "2128     1.0  0.692308  0.512658        0.333333                   1  0.031413\n",
       "106      1.0  0.692308  0.526582        0.333333                   1  0.031693\n",
       "2206     1.0  0.692308  0.530380        0.333333                   1  0.032811\n",
       "2352     1.0  0.692308  0.531646        0.333333                   1  0.033271\n",
       "719      1.0  0.630769  0.532911        0.333333                   0  0.033773"
      ]
     },
     "execution_count": 28,
     "metadata": {},
     "output_type": "execute_result"
    }
   ],
   "source": [
    "%time\n",
    "print()\n",
    "\n",
    "# Data scaled + Euclidean distance metric\n",
    "df = data_scaled\n",
    "n = 5 # the n-th customer for whom other similar customers are going to be searched \n",
    "k = 10 # the number of the nearest neighbours to return (including the n-th customer)\n",
    "metric = 'euclidean'\n",
    "\n",
    "print('the {:}-th target customer:'.format(n))\n",
    "print(df.iloc[n][feature_names])\n",
    "print()\n",
    "print('the', k, 'most similar customers:')\n",
    "get_knn(df, n, k, metric)"
   ]
  },
  {
   "cell_type": "code",
   "execution_count": 29,
   "metadata": {},
   "outputs": [
    {
     "name": "stdout",
     "output_type": "stream",
     "text": [
      "CPU times: user 4 µs, sys: 0 ns, total: 4 µs\n",
      "Wall time: 6.91 µs\n",
      "\n",
      "the 5-th target customer:\n",
      "gender            1.000000\n",
      "age               0.661538\n",
      "income            0.518987\n",
      "family_members    0.333333\n",
      "Name: 5, dtype: float64\n",
      "\n",
      "the 10 most similar customers:\n"
     ]
    },
    {
     "data": {
      "text/html": [
       "<div>\n",
       "<style scoped>\n",
       "    .dataframe tbody tr th:only-of-type {\n",
       "        vertical-align: middle;\n",
       "    }\n",
       "\n",
       "    .dataframe tbody tr th {\n",
       "        vertical-align: top;\n",
       "    }\n",
       "\n",
       "    .dataframe thead th {\n",
       "        text-align: right;\n",
       "    }\n",
       "</style>\n",
       "<table border=\"1\" class=\"dataframe\">\n",
       "  <thead>\n",
       "    <tr style=\"text-align: right;\">\n",
       "      <th></th>\n",
       "      <th>gender</th>\n",
       "      <th>age</th>\n",
       "      <th>income</th>\n",
       "      <th>family_members</th>\n",
       "      <th>insurance_benefits</th>\n",
       "      <th>distance</th>\n",
       "    </tr>\n",
       "  </thead>\n",
       "  <tbody>\n",
       "    <tr>\n",
       "      <td>4074</td>\n",
       "      <td>1.0</td>\n",
       "      <td>0.661538</td>\n",
       "      <td>0.501266</td>\n",
       "      <td>0.333333</td>\n",
       "      <td>1</td>\n",
       "      <td>0.017722</td>\n",
       "    </tr>\n",
       "    <tr>\n",
       "      <td>1147</td>\n",
       "      <td>1.0</td>\n",
       "      <td>0.646154</td>\n",
       "      <td>0.516456</td>\n",
       "      <td>0.333333</td>\n",
       "      <td>0</td>\n",
       "      <td>0.017916</td>\n",
       "    </tr>\n",
       "    <tr>\n",
       "      <td>2962</td>\n",
       "      <td>1.0</td>\n",
       "      <td>0.630769</td>\n",
       "      <td>0.520253</td>\n",
       "      <td>0.333333</td>\n",
       "      <td>0</td>\n",
       "      <td>0.032035</td>\n",
       "    </tr>\n",
       "    <tr>\n",
       "      <td>1019</td>\n",
       "      <td>1.0</td>\n",
       "      <td>0.646154</td>\n",
       "      <td>0.501266</td>\n",
       "      <td>0.333333</td>\n",
       "      <td>0</td>\n",
       "      <td>0.033106</td>\n",
       "    </tr>\n",
       "    <tr>\n",
       "      <td>2128</td>\n",
       "      <td>1.0</td>\n",
       "      <td>0.692308</td>\n",
       "      <td>0.512658</td>\n",
       "      <td>0.333333</td>\n",
       "      <td>1</td>\n",
       "      <td>0.037098</td>\n",
       "    </tr>\n",
       "    <tr>\n",
       "      <td>106</td>\n",
       "      <td>1.0</td>\n",
       "      <td>0.692308</td>\n",
       "      <td>0.526582</td>\n",
       "      <td>0.333333</td>\n",
       "      <td>1</td>\n",
       "      <td>0.038364</td>\n",
       "    </tr>\n",
       "    <tr>\n",
       "      <td>2206</td>\n",
       "      <td>1.0</td>\n",
       "      <td>0.692308</td>\n",
       "      <td>0.530380</td>\n",
       "      <td>0.333333</td>\n",
       "      <td>1</td>\n",
       "      <td>0.042162</td>\n",
       "    </tr>\n",
       "    <tr>\n",
       "      <td>2352</td>\n",
       "      <td>1.0</td>\n",
       "      <td>0.692308</td>\n",
       "      <td>0.531646</td>\n",
       "      <td>0.333333</td>\n",
       "      <td>1</td>\n",
       "      <td>0.043427</td>\n",
       "    </tr>\n",
       "    <tr>\n",
       "      <td>719</td>\n",
       "      <td>1.0</td>\n",
       "      <td>0.630769</td>\n",
       "      <td>0.532911</td>\n",
       "      <td>0.333333</td>\n",
       "      <td>0</td>\n",
       "      <td>0.044693</td>\n",
       "    </tr>\n",
       "  </tbody>\n",
       "</table>\n",
       "</div>"
      ],
      "text/plain": [
       "      gender       age    income  family_members  insurance_benefits  distance\n",
       "4074     1.0  0.661538  0.501266        0.333333                   1  0.017722\n",
       "1147     1.0  0.646154  0.516456        0.333333                   0  0.017916\n",
       "2962     1.0  0.630769  0.520253        0.333333                   0  0.032035\n",
       "1019     1.0  0.646154  0.501266        0.333333                   0  0.033106\n",
       "2128     1.0  0.692308  0.512658        0.333333                   1  0.037098\n",
       "106      1.0  0.692308  0.526582        0.333333                   1  0.038364\n",
       "2206     1.0  0.692308  0.530380        0.333333                   1  0.042162\n",
       "2352     1.0  0.692308  0.531646        0.333333                   1  0.043427\n",
       "719      1.0  0.630769  0.532911        0.333333                   0  0.044693"
      ]
     },
     "execution_count": 29,
     "metadata": {},
     "output_type": "execute_result"
    }
   ],
   "source": [
    "%time\n",
    "print()\n",
    "\n",
    "# Data scaled + Manhattan distance metric\n",
    "df = data_scaled\n",
    "n = 5 # the n-th customer for whom other similar customers are going to be searched \n",
    "k = 10 # the number of the nearest neighbours to return (including the n-th customer)\n",
    "metric = 'manhattan'\n",
    "\n",
    "print('the {:}-th target customer:'.format(n))\n",
    "print(df.iloc[n][feature_names])\n",
    "print()\n",
    "print('the', k, 'most similar customers:')\n",
    "get_knn(df, n, k, metric)"
   ]
  },
  {
   "cell_type": "markdown",
   "metadata": {},
   "source": [
    "Answers to the questions"
   ]
  },
  {
   "cell_type": "markdown",
   "metadata": {},
   "source": [
    "**Does the data being not scaled affect the kNN algorithm? If so, how does that appear?** \n",
    "\n",
    "Put your answer here."
   ]
  },
  {
   "cell_type": "markdown",
   "metadata": {},
   "source": [
    "The above is the result of finding 10 most simialr neighbours to the 5-th observation in the 'data' dataset. Four cases were tested:\n",
    "<br>1) Data is not scaled; distance metric = Euclidean \n",
    "<br>2) Data is not scaled; distance metric = Manhattan\n",
    "<br>3) Data is scaled; distance metric = Euclidean\n",
    "<br>4) Data is scaled; distance metric = Manhattan\n",
    "\n",
    "* The same k most similar neighbours appeared in the list regardless of the distance metric used, but the ordering was more different when the data was not scaled. \n",
    "<br>o When the data was not scaled, 3 out of 10 neighbours appeared in the same order in the two distance metrics.\n",
    "<br>o When the data was scaled, 5 out of 10 neighbours appeared in the same order in the two distance metrics.\n",
    "\n",
    "\n",
    "* The CPU Time was the same for all four cases. But there was a difference in the Wall Time. \n",
    "<br>o When the data was not scaled, the Manhattan ran faster than the Euclidean.\n",
    "<br>o When the data was scaled, the Euclidean ran faster than the Manhattan.\n",
    "<br>o The Euclidean ran faster when the data was scaled, compared to when the data was not scaled.\n",
    "<br>o The Manhattan ran faster when the data was not scaled, compared to when the data was scaled.\n",
    "\n",
    "\n",
    "* Given the list of 10 most similar neighbours proposed by the model, the Manhattan seems to produce a more accurate result than the Euclidean, regardless of whether the data is scaled or not. "
   ]
  },
  {
   "cell_type": "markdown",
   "metadata": {},
   "source": [
    "**How similar are the results using the Manhattan distance metric (regardless of the scaling)?** \n",
    "\n",
    "Put your answer here."
   ]
  },
  {
   "cell_type": "markdown",
   "metadata": {},
   "source": [
    "* The Manhattan result from the non-scaled data has nothing in common with the Mahattan result from the scaled data. The two lists of 10 similar neighbours are completely different. \n",
    "\n",
    "* The same can be said about the Euclidean results. "
   ]
  },
  {
   "cell_type": "markdown",
   "metadata": {},
   "source": [
    "<div class=\"alert alert-success\">\n",
    "<b>Reviewer's comment</b>\n",
    "\t  \n",
    "Good! The most important difference between kNN fit on scaled vs unscaled data is that on unscaled data if some feature has a much bigger magnitude than other features, it will dominate the distance metric (the others will contribute very little). As such, distance-based algorithms are very sensitive to feature scales.\n",
    "\t  \n",
    "</div>"
   ]
  },
  {
   "cell_type": "markdown",
   "metadata": {},
   "source": [
    "<div class=\"alert alert-info\" role=\"alert\">\n",
    "<b>Student's Comment v.2</b>\n",
    "\n",
    "<br>Understood! \n",
    "    \n",
    "<br>So I experimented with NearestNeighbors, and the results were identical to when I used KNeighborsRegressor().\n",
    "</div>"
   ]
  },
  {
   "cell_type": "markdown",
   "metadata": {},
   "source": [
    "<div class=\"alert alert-success\">\n",
    "<b>Reviewer's comment V2</b>\n",
    "\t  \n",
    "Yeah, that's to be expected, but it's nice that you confirmed it!\n",
    "    \n",
    "\t  \n",
    "</div>"
   ]
  },
  {
   "cell_type": "code",
   "execution_count": 30,
   "metadata": {},
   "outputs": [],
   "source": [
    "# write a function based on sklearn's NearestNeighbors class\n",
    "def get_knn2(df, n, k, metric):\n",
    "    \n",
    "    \"\"\"\n",
    "    Returns k nearest neighbours\n",
    "\n",
    "    :param df: pandas DataFrame used to find similar objects within\n",
    "    :param n: object number for which the nearest neighbours are looked for\n",
    "    :param k: the number of the nearest neighbours to return\n",
    "    :param metric: name of distance metric\n",
    "    \"\"\"\n",
    "    nbrs = NearestNeighbors(metric=metric) # <your code here>\n",
    "    nbrs.fit(df[feature_names], df.drop(feature_names, axis=1))\n",
    "    nbrs_distances, nbrs_indices = nbrs.kneighbors([df.iloc[n][feature_names]], k, return_distance=True)\n",
    "\n",
    "    df_res = pd.concat([\n",
    "        df.iloc[nbrs_indices[0]], \n",
    "        pd.DataFrame(nbrs_distances.T, index=nbrs_indices[0], columns=['distance'])\n",
    "        ], axis=1)\n",
    "    df_res = df_res.drop(index=df_res.index[0], axis=0)\n",
    "    \n",
    "    return df_res"
   ]
  },
  {
   "cell_type": "code",
   "execution_count": 31,
   "metadata": {},
   "outputs": [
    {
     "name": "stdout",
     "output_type": "stream",
     "text": [
      "CPU times: user 3 µs, sys: 0 ns, total: 3 µs\n",
      "Wall time: 5.72 µs\n",
      "\n",
      "the 5-th target customer:\n",
      "gender                1.0\n",
      "age                  43.0\n",
      "income            41000.0\n",
      "family_members        2.0\n",
      "Name: 5, dtype: float64\n",
      "\n",
      "the 10 most similar customers:\n"
     ]
    },
    {
     "data": {
      "text/html": [
       "<div>\n",
       "<style scoped>\n",
       "    .dataframe tbody tr th:only-of-type {\n",
       "        vertical-align: middle;\n",
       "    }\n",
       "\n",
       "    .dataframe tbody tr th {\n",
       "        vertical-align: top;\n",
       "    }\n",
       "\n",
       "    .dataframe thead th {\n",
       "        text-align: right;\n",
       "    }\n",
       "</style>\n",
       "<table border=\"1\" class=\"dataframe\">\n",
       "  <thead>\n",
       "    <tr style=\"text-align: right;\">\n",
       "      <th></th>\n",
       "      <th>gender</th>\n",
       "      <th>age</th>\n",
       "      <th>income</th>\n",
       "      <th>family_members</th>\n",
       "      <th>insurance_benefits</th>\n",
       "      <th>distance</th>\n",
       "    </tr>\n",
       "  </thead>\n",
       "  <tbody>\n",
       "    <tr>\n",
       "      <td>1995</td>\n",
       "      <td>0</td>\n",
       "      <td>45</td>\n",
       "      <td>41000.0</td>\n",
       "      <td>0</td>\n",
       "      <td>1</td>\n",
       "      <td>3.000000</td>\n",
       "    </tr>\n",
       "    <tr>\n",
       "      <td>3972</td>\n",
       "      <td>1</td>\n",
       "      <td>40</td>\n",
       "      <td>41000.0</td>\n",
       "      <td>1</td>\n",
       "      <td>0</td>\n",
       "      <td>3.162278</td>\n",
       "    </tr>\n",
       "    <tr>\n",
       "      <td>3801</td>\n",
       "      <td>0</td>\n",
       "      <td>46</td>\n",
       "      <td>41000.0</td>\n",
       "      <td>2</td>\n",
       "      <td>1</td>\n",
       "      <td>3.162278</td>\n",
       "    </tr>\n",
       "    <tr>\n",
       "      <td>4763</td>\n",
       "      <td>1</td>\n",
       "      <td>46</td>\n",
       "      <td>41000.0</td>\n",
       "      <td>1</td>\n",
       "      <td>1</td>\n",
       "      <td>3.162278</td>\n",
       "    </tr>\n",
       "    <tr>\n",
       "      <td>2759</td>\n",
       "      <td>0</td>\n",
       "      <td>47</td>\n",
       "      <td>41000.0</td>\n",
       "      <td>3</td>\n",
       "      <td>1</td>\n",
       "      <td>4.242641</td>\n",
       "    </tr>\n",
       "    <tr>\n",
       "      <td>2717</td>\n",
       "      <td>0</td>\n",
       "      <td>37</td>\n",
       "      <td>41000.0</td>\n",
       "      <td>0</td>\n",
       "      <td>0</td>\n",
       "      <td>6.403124</td>\n",
       "    </tr>\n",
       "    <tr>\n",
       "      <td>3434</td>\n",
       "      <td>1</td>\n",
       "      <td>36</td>\n",
       "      <td>41000.0</td>\n",
       "      <td>2</td>\n",
       "      <td>0</td>\n",
       "      <td>7.000000</td>\n",
       "    </tr>\n",
       "    <tr>\n",
       "      <td>1740</td>\n",
       "      <td>0</td>\n",
       "      <td>36</td>\n",
       "      <td>41000.0</td>\n",
       "      <td>1</td>\n",
       "      <td>0</td>\n",
       "      <td>7.141428</td>\n",
       "    </tr>\n",
       "    <tr>\n",
       "      <td>2876</td>\n",
       "      <td>0</td>\n",
       "      <td>35</td>\n",
       "      <td>41000.0</td>\n",
       "      <td>2</td>\n",
       "      <td>0</td>\n",
       "      <td>8.062258</td>\n",
       "    </tr>\n",
       "  </tbody>\n",
       "</table>\n",
       "</div>"
      ],
      "text/plain": [
       "      gender  age   income  family_members  insurance_benefits  distance\n",
       "1995       0   45  41000.0               0                   1  3.000000\n",
       "3972       1   40  41000.0               1                   0  3.162278\n",
       "3801       0   46  41000.0               2                   1  3.162278\n",
       "4763       1   46  41000.0               1                   1  3.162278\n",
       "2759       0   47  41000.0               3                   1  4.242641\n",
       "2717       0   37  41000.0               0                   0  6.403124\n",
       "3434       1   36  41000.0               2                   0  7.000000\n",
       "1740       0   36  41000.0               1                   0  7.141428\n",
       "2876       0   35  41000.0               2                   0  8.062258"
      ]
     },
     "execution_count": 31,
     "metadata": {},
     "output_type": "execute_result"
    }
   ],
   "source": [
    "%time\n",
    "print()\n",
    "\n",
    "# Data not scaled + Euclidean distance metric\n",
    "df = data\n",
    "n = 5 # the n-th customer for whom other similar customers are going to be searched \n",
    "k = 10 # the number of the nearest neighbours to return (including the n-th customer)\n",
    "metric = 'euclidean'\n",
    "\n",
    "print('the {:}-th target customer:'.format(n))\n",
    "print(df.iloc[n][feature_names])\n",
    "print()\n",
    "print('the', k, 'most similar customers:')\n",
    "get_knn2(df, n, k, metric)"
   ]
  },
  {
   "cell_type": "code",
   "execution_count": 32,
   "metadata": {},
   "outputs": [
    {
     "name": "stdout",
     "output_type": "stream",
     "text": [
      "CPU times: user 3 µs, sys: 0 ns, total: 3 µs\n",
      "Wall time: 6.2 µs\n",
      "\n",
      "the 5-th target customer:\n",
      "gender                1.0\n",
      "age                  43.0\n",
      "income            41000.0\n",
      "family_members        2.0\n",
      "Name: 5, dtype: float64\n",
      "\n",
      "the 10 most similar customers:\n"
     ]
    },
    {
     "data": {
      "text/html": [
       "<div>\n",
       "<style scoped>\n",
       "    .dataframe tbody tr th:only-of-type {\n",
       "        vertical-align: middle;\n",
       "    }\n",
       "\n",
       "    .dataframe tbody tr th {\n",
       "        vertical-align: top;\n",
       "    }\n",
       "\n",
       "    .dataframe thead th {\n",
       "        text-align: right;\n",
       "    }\n",
       "</style>\n",
       "<table border=\"1\" class=\"dataframe\">\n",
       "  <thead>\n",
       "    <tr style=\"text-align: right;\">\n",
       "      <th></th>\n",
       "      <th>gender</th>\n",
       "      <th>age</th>\n",
       "      <th>income</th>\n",
       "      <th>family_members</th>\n",
       "      <th>insurance_benefits</th>\n",
       "      <th>distance</th>\n",
       "    </tr>\n",
       "  </thead>\n",
       "  <tbody>\n",
       "    <tr>\n",
       "      <td>4763</td>\n",
       "      <td>1</td>\n",
       "      <td>46</td>\n",
       "      <td>41000.0</td>\n",
       "      <td>1</td>\n",
       "      <td>1</td>\n",
       "      <td>4.0</td>\n",
       "    </tr>\n",
       "    <tr>\n",
       "      <td>3972</td>\n",
       "      <td>1</td>\n",
       "      <td>40</td>\n",
       "      <td>41000.0</td>\n",
       "      <td>1</td>\n",
       "      <td>0</td>\n",
       "      <td>4.0</td>\n",
       "    </tr>\n",
       "    <tr>\n",
       "      <td>3801</td>\n",
       "      <td>0</td>\n",
       "      <td>46</td>\n",
       "      <td>41000.0</td>\n",
       "      <td>2</td>\n",
       "      <td>1</td>\n",
       "      <td>4.0</td>\n",
       "    </tr>\n",
       "    <tr>\n",
       "      <td>1995</td>\n",
       "      <td>0</td>\n",
       "      <td>45</td>\n",
       "      <td>41000.0</td>\n",
       "      <td>0</td>\n",
       "      <td>1</td>\n",
       "      <td>5.0</td>\n",
       "    </tr>\n",
       "    <tr>\n",
       "      <td>2759</td>\n",
       "      <td>0</td>\n",
       "      <td>47</td>\n",
       "      <td>41000.0</td>\n",
       "      <td>3</td>\n",
       "      <td>1</td>\n",
       "      <td>6.0</td>\n",
       "    </tr>\n",
       "    <tr>\n",
       "      <td>3434</td>\n",
       "      <td>1</td>\n",
       "      <td>36</td>\n",
       "      <td>41000.0</td>\n",
       "      <td>2</td>\n",
       "      <td>0</td>\n",
       "      <td>7.0</td>\n",
       "    </tr>\n",
       "    <tr>\n",
       "      <td>2717</td>\n",
       "      <td>0</td>\n",
       "      <td>37</td>\n",
       "      <td>41000.0</td>\n",
       "      <td>0</td>\n",
       "      <td>0</td>\n",
       "      <td>9.0</td>\n",
       "    </tr>\n",
       "    <tr>\n",
       "      <td>2876</td>\n",
       "      <td>0</td>\n",
       "      <td>35</td>\n",
       "      <td>41000.0</td>\n",
       "      <td>2</td>\n",
       "      <td>0</td>\n",
       "      <td>9.0</td>\n",
       "    </tr>\n",
       "    <tr>\n",
       "      <td>1740</td>\n",
       "      <td>0</td>\n",
       "      <td>36</td>\n",
       "      <td>41000.0</td>\n",
       "      <td>1</td>\n",
       "      <td>0</td>\n",
       "      <td>9.0</td>\n",
       "    </tr>\n",
       "  </tbody>\n",
       "</table>\n",
       "</div>"
      ],
      "text/plain": [
       "      gender  age   income  family_members  insurance_benefits  distance\n",
       "4763       1   46  41000.0               1                   1       4.0\n",
       "3972       1   40  41000.0               1                   0       4.0\n",
       "3801       0   46  41000.0               2                   1       4.0\n",
       "1995       0   45  41000.0               0                   1       5.0\n",
       "2759       0   47  41000.0               3                   1       6.0\n",
       "3434       1   36  41000.0               2                   0       7.0\n",
       "2717       0   37  41000.0               0                   0       9.0\n",
       "2876       0   35  41000.0               2                   0       9.0\n",
       "1740       0   36  41000.0               1                   0       9.0"
      ]
     },
     "execution_count": 32,
     "metadata": {},
     "output_type": "execute_result"
    }
   ],
   "source": [
    "%time\n",
    "print()\n",
    "\n",
    "# Data not scaled + Manhattan distance metric\n",
    "df = data\n",
    "n = 5 # the n-th customer for whom other similar customers are going to be searched \n",
    "k = 10 # the number of the nearest neighbours to return (including the n-th customer)\n",
    "metric = 'manhattan'\n",
    "\n",
    "print('the {:}-th target customer:'.format(n))\n",
    "print(df.iloc[n][feature_names])\n",
    "print()\n",
    "print('the', k, 'most similar customers:')\n",
    "get_knn2(df, n, k, metric)"
   ]
  },
  {
   "cell_type": "code",
   "execution_count": 33,
   "metadata": {},
   "outputs": [
    {
     "name": "stdout",
     "output_type": "stream",
     "text": [
      "CPU times: user 3 µs, sys: 0 ns, total: 3 µs\n",
      "Wall time: 5.96 µs\n",
      "\n",
      "the 5-th target customer:\n",
      "gender            1.000000\n",
      "age               0.661538\n",
      "income            0.518987\n",
      "family_members    0.333333\n",
      "Name: 5, dtype: float64\n",
      "\n",
      "the 10 most similar customers:\n"
     ]
    },
    {
     "data": {
      "text/html": [
       "<div>\n",
       "<style scoped>\n",
       "    .dataframe tbody tr th:only-of-type {\n",
       "        vertical-align: middle;\n",
       "    }\n",
       "\n",
       "    .dataframe tbody tr th {\n",
       "        vertical-align: top;\n",
       "    }\n",
       "\n",
       "    .dataframe thead th {\n",
       "        text-align: right;\n",
       "    }\n",
       "</style>\n",
       "<table border=\"1\" class=\"dataframe\">\n",
       "  <thead>\n",
       "    <tr style=\"text-align: right;\">\n",
       "      <th></th>\n",
       "      <th>gender</th>\n",
       "      <th>age</th>\n",
       "      <th>income</th>\n",
       "      <th>family_members</th>\n",
       "      <th>insurance_benefits</th>\n",
       "      <th>distance</th>\n",
       "    </tr>\n",
       "  </thead>\n",
       "  <tbody>\n",
       "    <tr>\n",
       "      <td>1147</td>\n",
       "      <td>1.0</td>\n",
       "      <td>0.646154</td>\n",
       "      <td>0.516456</td>\n",
       "      <td>0.333333</td>\n",
       "      <td>0</td>\n",
       "      <td>0.015592</td>\n",
       "    </tr>\n",
       "    <tr>\n",
       "      <td>4074</td>\n",
       "      <td>1.0</td>\n",
       "      <td>0.661538</td>\n",
       "      <td>0.501266</td>\n",
       "      <td>0.333333</td>\n",
       "      <td>1</td>\n",
       "      <td>0.017722</td>\n",
       "    </tr>\n",
       "    <tr>\n",
       "      <td>1019</td>\n",
       "      <td>1.0</td>\n",
       "      <td>0.646154</td>\n",
       "      <td>0.501266</td>\n",
       "      <td>0.333333</td>\n",
       "      <td>0</td>\n",
       "      <td>0.023468</td>\n",
       "    </tr>\n",
       "    <tr>\n",
       "      <td>2962</td>\n",
       "      <td>1.0</td>\n",
       "      <td>0.630769</td>\n",
       "      <td>0.520253</td>\n",
       "      <td>0.333333</td>\n",
       "      <td>0</td>\n",
       "      <td>0.030795</td>\n",
       "    </tr>\n",
       "    <tr>\n",
       "      <td>2128</td>\n",
       "      <td>1.0</td>\n",
       "      <td>0.692308</td>\n",
       "      <td>0.512658</td>\n",
       "      <td>0.333333</td>\n",
       "      <td>1</td>\n",
       "      <td>0.031413</td>\n",
       "    </tr>\n",
       "    <tr>\n",
       "      <td>106</td>\n",
       "      <td>1.0</td>\n",
       "      <td>0.692308</td>\n",
       "      <td>0.526582</td>\n",
       "      <td>0.333333</td>\n",
       "      <td>1</td>\n",
       "      <td>0.031693</td>\n",
       "    </tr>\n",
       "    <tr>\n",
       "      <td>2206</td>\n",
       "      <td>1.0</td>\n",
       "      <td>0.692308</td>\n",
       "      <td>0.530380</td>\n",
       "      <td>0.333333</td>\n",
       "      <td>1</td>\n",
       "      <td>0.032811</td>\n",
       "    </tr>\n",
       "    <tr>\n",
       "      <td>2352</td>\n",
       "      <td>1.0</td>\n",
       "      <td>0.692308</td>\n",
       "      <td>0.531646</td>\n",
       "      <td>0.333333</td>\n",
       "      <td>1</td>\n",
       "      <td>0.033271</td>\n",
       "    </tr>\n",
       "    <tr>\n",
       "      <td>719</td>\n",
       "      <td>1.0</td>\n",
       "      <td>0.630769</td>\n",
       "      <td>0.532911</td>\n",
       "      <td>0.333333</td>\n",
       "      <td>0</td>\n",
       "      <td>0.033773</td>\n",
       "    </tr>\n",
       "  </tbody>\n",
       "</table>\n",
       "</div>"
      ],
      "text/plain": [
       "      gender       age    income  family_members  insurance_benefits  distance\n",
       "1147     1.0  0.646154  0.516456        0.333333                   0  0.015592\n",
       "4074     1.0  0.661538  0.501266        0.333333                   1  0.017722\n",
       "1019     1.0  0.646154  0.501266        0.333333                   0  0.023468\n",
       "2962     1.0  0.630769  0.520253        0.333333                   0  0.030795\n",
       "2128     1.0  0.692308  0.512658        0.333333                   1  0.031413\n",
       "106      1.0  0.692308  0.526582        0.333333                   1  0.031693\n",
       "2206     1.0  0.692308  0.530380        0.333333                   1  0.032811\n",
       "2352     1.0  0.692308  0.531646        0.333333                   1  0.033271\n",
       "719      1.0  0.630769  0.532911        0.333333                   0  0.033773"
      ]
     },
     "execution_count": 33,
     "metadata": {},
     "output_type": "execute_result"
    }
   ],
   "source": [
    "%time\n",
    "print()\n",
    "\n",
    "# Data scaled + Euclidean distance metric\n",
    "df = data_scaled\n",
    "n = 5 # the n-th customer for whom other similar customers are going to be searched \n",
    "k = 10 # the number of the nearest neighbours to return (including the n-th customer)\n",
    "metric = 'euclidean'\n",
    "\n",
    "print('the {:}-th target customer:'.format(n))\n",
    "print(df.iloc[n][feature_names])\n",
    "print()\n",
    "print('the', k, 'most similar customers:')\n",
    "get_knn2(df, n, k, metric)"
   ]
  },
  {
   "cell_type": "code",
   "execution_count": 34,
   "metadata": {},
   "outputs": [
    {
     "name": "stdout",
     "output_type": "stream",
     "text": [
      "CPU times: user 3 µs, sys: 0 ns, total: 3 µs\n",
      "Wall time: 5.96 µs\n",
      "\n",
      "the 5-th targ@et customer:\n",
      "gender            1.000000\n",
      "age               0.661538\n",
      "income            0.518987\n",
      "family_members    0.333333\n",
      "Name: 5, dtype: float64\n",
      "\n",
      "the 10 most similar customers:\n"
     ]
    },
    {
     "data": {
      "text/html": [
       "<div>\n",
       "<style scoped>\n",
       "    .dataframe tbody tr th:only-of-type {\n",
       "        vertical-align: middle;\n",
       "    }\n",
       "\n",
       "    .dataframe tbody tr th {\n",
       "        vertical-align: top;\n",
       "    }\n",
       "\n",
       "    .dataframe thead th {\n",
       "        text-align: right;\n",
       "    }\n",
       "</style>\n",
       "<table border=\"1\" class=\"dataframe\">\n",
       "  <thead>\n",
       "    <tr style=\"text-align: right;\">\n",
       "      <th></th>\n",
       "      <th>gender</th>\n",
       "      <th>age</th>\n",
       "      <th>income</th>\n",
       "      <th>family_members</th>\n",
       "      <th>insurance_benefits</th>\n",
       "      <th>distance</th>\n",
       "    </tr>\n",
       "  </thead>\n",
       "  <tbody>\n",
       "    <tr>\n",
       "      <td>4074</td>\n",
       "      <td>1.0</td>\n",
       "      <td>0.661538</td>\n",
       "      <td>0.501266</td>\n",
       "      <td>0.333333</td>\n",
       "      <td>1</td>\n",
       "      <td>0.017722</td>\n",
       "    </tr>\n",
       "    <tr>\n",
       "      <td>1147</td>\n",
       "      <td>1.0</td>\n",
       "      <td>0.646154</td>\n",
       "      <td>0.516456</td>\n",
       "      <td>0.333333</td>\n",
       "      <td>0</td>\n",
       "      <td>0.017916</td>\n",
       "    </tr>\n",
       "    <tr>\n",
       "      <td>2962</td>\n",
       "      <td>1.0</td>\n",
       "      <td>0.630769</td>\n",
       "      <td>0.520253</td>\n",
       "      <td>0.333333</td>\n",
       "      <td>0</td>\n",
       "      <td>0.032035</td>\n",
       "    </tr>\n",
       "    <tr>\n",
       "      <td>1019</td>\n",
       "      <td>1.0</td>\n",
       "      <td>0.646154</td>\n",
       "      <td>0.501266</td>\n",
       "      <td>0.333333</td>\n",
       "      <td>0</td>\n",
       "      <td>0.033106</td>\n",
       "    </tr>\n",
       "    <tr>\n",
       "      <td>2128</td>\n",
       "      <td>1.0</td>\n",
       "      <td>0.692308</td>\n",
       "      <td>0.512658</td>\n",
       "      <td>0.333333</td>\n",
       "      <td>1</td>\n",
       "      <td>0.037098</td>\n",
       "    </tr>\n",
       "    <tr>\n",
       "      <td>106</td>\n",
       "      <td>1.0</td>\n",
       "      <td>0.692308</td>\n",
       "      <td>0.526582</td>\n",
       "      <td>0.333333</td>\n",
       "      <td>1</td>\n",
       "      <td>0.038364</td>\n",
       "    </tr>\n",
       "    <tr>\n",
       "      <td>2206</td>\n",
       "      <td>1.0</td>\n",
       "      <td>0.692308</td>\n",
       "      <td>0.530380</td>\n",
       "      <td>0.333333</td>\n",
       "      <td>1</td>\n",
       "      <td>0.042162</td>\n",
       "    </tr>\n",
       "    <tr>\n",
       "      <td>2352</td>\n",
       "      <td>1.0</td>\n",
       "      <td>0.692308</td>\n",
       "      <td>0.531646</td>\n",
       "      <td>0.333333</td>\n",
       "      <td>1</td>\n",
       "      <td>0.043427</td>\n",
       "    </tr>\n",
       "    <tr>\n",
       "      <td>719</td>\n",
       "      <td>1.0</td>\n",
       "      <td>0.630769</td>\n",
       "      <td>0.532911</td>\n",
       "      <td>0.333333</td>\n",
       "      <td>0</td>\n",
       "      <td>0.044693</td>\n",
       "    </tr>\n",
       "  </tbody>\n",
       "</table>\n",
       "</div>"
      ],
      "text/plain": [
       "      gender       age    income  family_members  insurance_benefits  distance\n",
       "4074     1.0  0.661538  0.501266        0.333333                   1  0.017722\n",
       "1147     1.0  0.646154  0.516456        0.333333                   0  0.017916\n",
       "2962     1.0  0.630769  0.520253        0.333333                   0  0.032035\n",
       "1019     1.0  0.646154  0.501266        0.333333                   0  0.033106\n",
       "2128     1.0  0.692308  0.512658        0.333333                   1  0.037098\n",
       "106      1.0  0.692308  0.526582        0.333333                   1  0.038364\n",
       "2206     1.0  0.692308  0.530380        0.333333                   1  0.042162\n",
       "2352     1.0  0.692308  0.531646        0.333333                   1  0.043427\n",
       "719      1.0  0.630769  0.532911        0.333333                   0  0.044693"
      ]
     },
     "execution_count": 34,
     "metadata": {},
     "output_type": "execute_result"
    }
   ],
   "source": [
    "%time\n",
    "print()\n",
    "\n",
    "# Data scaled + Manhattan distance metric\n",
    "df = data_scaled\n",
    "n = 5 # the n-th customer for whom other similar customers are going to be searched \n",
    "k = 10 # the number of the nearest neighbours to return (including the n-th customer)\n",
    "metric = 'manhattan'\n",
    "\n",
    "print('the {:}-th targ@et customer:'.format(n))\n",
    "print(df.iloc[n][feature_names])\n",
    "print()\n",
    "print('the', k, 'most similar customers:')\n",
    "get_knn2(df, n, k, metric)"
   ]
  },
  {
   "cell_type": "markdown",
   "metadata": {},
   "source": [
    "## Task 2. Is Customer Likely to Receive Insurance Benefit?\n",
    "\n",
    "Predict whether a new customer is likely to receive an insurance benefit. Can a prediction model do better than a dummy model?"
   ]
  },
  {
   "cell_type": "markdown",
   "metadata": {},
   "source": [
    "[Project Guidance] In terms of machine learning we can look at this like a binary classification task."
   ]
  },
  {
   "cell_type": "markdown",
   "metadata": {},
   "source": [
    "[Project Guidance] With `insurance_benefits` being more than zero as the target, evaluate whether the kNN classification approach can do better than a dummy model.\n",
    "\n",
    "Instructions:\n",
    "- Build a KNN-based classifier and measure its quality with the F1 metric for k=1..10 for both the original data and the scaled one. That'd be interesting to see how k may influece the evaluation metric, and whether scaling the data makes any difference. You can use a ready implemention of the kNN classification algorithm from scikit-learn (check [the link](https://scikit-learn.org/stable/modules/generated/sklearn.neighbors.KNeighborsClassifier.html)) or use your own.\n",
    "- Build the dummy model which is just random for this case. It should return \"1\" with some probability. Let's test the model with four probability values: 0, the probability of paying any insurance benefit, 0.5, 1.\n",
    "\n",
    "The probability of paying any insurance benefit can be defined as\n",
    "\n",
    "$$\n",
    "P\\{\\text{insurance benefit received}\\}=\\frac{\\text{number of clients received any insurance benefit}}{\\text{total number of clients}}.\n",
    "$$\n",
    "\n",
    "Split the whole data in the 70:30 proportion for the training/testing parts."
   ]
  },
  {
   "cell_type": "code",
   "execution_count": 89,
   "metadata": {},
   "outputs": [
    {
     "data": {
      "text/plain": [
       "2448    0\n",
       "4391    0\n",
       "3009    0\n",
       "742     0\n",
       "3073    1\n",
       "2131    1\n",
       "4220    0\n",
       "3848    0\n",
       "1025    0\n",
       "1976    1\n",
       "Name: insurance_benefits_received, dtype: int64"
      ]
     },
     "execution_count": 89,
     "metadata": {},
     "output_type": "execute_result"
    }
   ],
   "source": [
    "# calculate the target\n",
    "\n",
    "data['insurance_benefits_received'] = data['insurance_benefits'].clip(0, 1) #<your code here>\n",
    "data['insurance_benefits_received'].sample(10)"
   ]
  },
  {
   "cell_type": "code",
   "execution_count": 90,
   "metadata": {},
   "outputs": [
    {
     "data": {
      "text/plain": [
       "0    4436\n",
       "1     564\n",
       "Name: insurance_benefits_received, dtype: int64"
      ]
     },
     "execution_count": 90,
     "metadata": {},
     "output_type": "execute_result"
    }
   ],
   "source": [
    "# check for the class imbalance with value_counts()\n",
    "\n",
    "data['insurance_benefits_received'].value_counts() # <your code here>"
   ]
  },
  {
   "cell_type": "markdown",
   "metadata": {},
   "source": [
    "* The problem has been converted into a binary classification kind.\n",
    "* The 0s outweight 1s by more than 8 times. "
   ]
  },
  {
   "cell_type": "code",
   "execution_count": 83,
   "metadata": {},
   "outputs": [],
   "source": [
    "def eval_classifier(y_true, y_pred):\n",
    "    \n",
    "    f1_score = sklearn.metrics.f1_score(y_true, y_pred)\n",
    "    print(f'F1: {f1_score:.2f}')\n",
    "    \n",
    "# if you have an issue with the following line, restart the kernel and run the notebook again\n",
    "    #cm = sklearn.metrics.confusion_matrix(y_true, y_pred, normalize='all')\n",
    "    cm = confusion_matrix(y_true, y_pred, normalize='all')\n",
    "    print('Confusion Matrix')\n",
    "    print(cm)\n",
    "\n",
    "# [my addition] print the numbers with the labels\n",
    "    tn = cm[0][0]\n",
    "    fp = cm[0][1]\n",
    "    fn = cm[1][0]\n",
    "    tp = cm[1][1]\n",
    "    print('True negatives:', tn)\n",
    "    print('False positives:', fp)\n",
    "    print('False negatives:', fn)\n",
    "    print('True positives:', tp)\n",
    "    print('Precision:', tp/(tp + fp))\n",
    "    print('Recall:', tp/(tp + fn))\n",
    "    print()"
   ]
  },
  {
   "cell_type": "code",
   "execution_count": 44,
   "metadata": {},
   "outputs": [],
   "source": [
    "# generating output of a random model\n",
    "\n",
    "def rnd_model_predict(P, size, seed=42):\n",
    "\n",
    "    rng = np.random.default_rng(seed=seed)\n",
    "    return rng.binomial(n=1, p=P, size=size)"
   ]
  },
  {
   "cell_type": "code",
   "execution_count": 64,
   "metadata": {},
   "outputs": [
    {
     "data": {
      "text/plain": [
       "0    5000\n",
       "dtype: int64"
      ]
     },
     "execution_count": 64,
     "metadata": {},
     "output_type": "execute_result"
    }
   ],
   "source": [
    "# the proportion of 0s and 1s when P=0\n",
    "prob0=rnd_model_predict(0, 5000, seed=42)\n",
    "pd.Series(prob0).value_counts() # no 1s"
   ]
  },
  {
   "cell_type": "code",
   "execution_count": 65,
   "metadata": {},
   "outputs": [
    {
     "name": "stdout",
     "output_type": "stream",
     "text": [
      "0.1128\n"
     ]
    },
    {
     "data": {
      "text/plain": [
       "0    4454\n",
       "1     546\n",
       "dtype: int64"
      ]
     },
     "execution_count": 65,
     "metadata": {},
     "output_type": "execute_result"
    }
   ],
   "source": [
    "# the proportion of 0s and 1s when P=0.1128\n",
    "prob = data['insurance_benefits_received'].sum() / len(data)\n",
    "print(prob)\n",
    "prob_any=rnd_model_predict(prob, 5000, seed=42)\n",
    "pd.Series(prob_any).value_counts() # 8 times as many 0s as 1s"
   ]
  },
  {
   "cell_type": "code",
   "execution_count": 66,
   "metadata": {},
   "outputs": [
    {
     "data": {
      "text/plain": [
       "0    2545\n",
       "1    2455\n",
       "dtype: int64"
      ]
     },
     "execution_count": 66,
     "metadata": {},
     "output_type": "execute_result"
    }
   ],
   "source": [
    "# the proportion of 0s and 1s when P=0.5\n",
    "prob0_5=rnd_model_predict(0.5, 5000, seed=42)\n",
    "pd.Series(prob0_5).value_counts() # 0s and 1s in 50/50"
   ]
  },
  {
   "cell_type": "code",
   "execution_count": 67,
   "metadata": {},
   "outputs": [
    {
     "data": {
      "text/plain": [
       "1    5000\n",
       "dtype: int64"
      ]
     },
     "execution_count": 67,
     "metadata": {},
     "output_type": "execute_result"
    }
   ],
   "source": [
    "# the proportion of 0s and 1s when P=1\n",
    "prob1=rnd_model_predict(1, 5000, seed=42)\n",
    "pd.Series(prob1).value_counts() # no 0s"
   ]
  },
  {
   "cell_type": "markdown",
   "metadata": {},
   "source": [
    "<div class=\"alert alert-info\" role=\"alert\">\n",
    "<s><b>Student's Comment</b>\n",
    "\n",
    "<br>1) The precode of `eval_classifier(data['insurance_benefits_received'], y_pred_rnd)` causes the error, `ValueError: Classification metrics can't handle a mix of continuous and binary targets`. \n",
    "\n",
    "\n",
    "This is because we are trying to compare:\n",
    "<br>`data['insurance_benefits_received']` which is a Series of float values `([0.    , 0.0002, 0.    , ..., 0.    , 0.    , 0.    ])\n",
    "    \n",
    "with:\n",
    "<br>`rnd_model_predict(P, 5000)` which is an array of float values when P = `data['insurance_benefits_received'].sum() / len(data)`\n",
    "    \n",
    "   \n",
    "<br>2) It says, `if you have an issue with the following line, restart the kernel and run the notebook again`, but it did not help.\n",
    "    \n",
    "<br>3) Since the target is a multi-class, if I do not specify `average=None` in the f1_score method, it causes the error, `ValueError: Target is multiclass but average='binary'. Please choose another average setting, one of [None, 'micro', 'macro', 'weighted'].`. \n",
    "    \n",
    "<br>So I modified the code. Please see \"Student's Comment (continued from above)\" below.\n",
    "</div>"
   ]
  },
  {
   "cell_type": "markdown",
   "metadata": {},
   "source": [
    "<div class=\"alert alert-danger\">\n",
    "<s><b>Reviewer's comment</b>\n",
    "\t  \n",
    "Looks like you've got confused a bit! As the task description says, we'd like to try applying kNN (and a dummy model) to a *binary classification* problem (that is, classification with two classes: 0 and 1). So `insurance_benefits_received` should be equal to 1 if `insurance_benefits` is greater than 0, and 0 otherwise. But your code just rescaled the `insurance_benefits` values. That's why the code here and further below was not working.\n",
    "\t  \n",
    "</div>"
   ]
  },
  {
   "cell_type": "markdown",
   "metadata": {},
   "source": [
    "<div class=\"alert alert-info\" role=\"alert\">\n",
    "<b>Student's Comment v.2</b>\n",
    "\n",
    "<br>OK, so I was thinking too much - like the 'NearestNeighbors' and 'KNeighborsRegressor' were being used \"seemingly interchangeably\" in the previous section, I thought \"binary classification\" was being used in a general sense even if we had a multi-class classification problem at hand. \n",
    "    \n",
    "<br>I converted the problem into a binary classification kind and tackled it again below. \n",
    "</div>"
   ]
  },
  {
   "cell_type": "markdown",
   "metadata": {},
   "source": [
    "<div class=\"alert alert-success\">\n",
    "<b>Reviewer's comment V2</b>\n",
    "\t  \n",
    "But if there were more than two classes, it couldn't be binary :)\n",
    "\t  \n",
    "</div>"
   ]
  },
  {
   "cell_type": "code",
   "execution_count": 91,
   "metadata": {},
   "outputs": [
    {
     "name": "stdout",
     "output_type": "stream",
     "text": [
      "The probability: 0.00\n",
      "F1: 0.00\n",
      "Confusion Matrix\n",
      "[[0.8872 0.    ]\n",
      " [0.1128 0.    ]]\n",
      "True negatives: 0.8872\n",
      "False positives: 0.0\n",
      "False negatives: 0.1128\n",
      "True positives: 0.0\n",
      "Precision: nan\n",
      "Recall: 0.0\n",
      "\n",
      "\n",
      "The probability: 0.11\n",
      "F1: 0.12\n",
      "Confusion Matrix\n",
      "[[0.7914 0.0958]\n",
      " [0.0994 0.0134]]\n",
      "True negatives: 0.7914\n",
      "False positives: 0.0958\n",
      "False negatives: 0.0994\n",
      "True positives: 0.0134\n",
      "Precision: 0.12271062271062272\n",
      "Recall: 0.11879432624113476\n",
      "\n",
      "\n",
      "The probability: 0.50\n",
      "F1: 0.20\n",
      "Confusion Matrix\n",
      "[[0.456  0.4312]\n",
      " [0.053  0.0598]]\n",
      "True negatives: 0.456\n",
      "False positives: 0.4312\n",
      "False negatives: 0.053\n",
      "True positives: 0.0598\n",
      "Precision: 0.12179226069246435\n",
      "Recall: 0.5301418439716312\n",
      "\n",
      "\n",
      "The probability: 1.00\n",
      "F1: 0.20\n",
      "Confusion Matrix\n",
      "[[0.     0.8872]\n",
      " [0.     0.1128]]\n",
      "True negatives: 0.0\n",
      "False positives: 0.8872\n",
      "False negatives: 0.0\n",
      "True positives: 0.1128\n",
      "Precision: 0.1128\n",
      "Recall: 1.0\n",
      "\n",
      "\n"
     ]
    }
   ],
   "source": [
    "for P in [0, data['insurance_benefits_received'].sum() / len(data), 0.5, 1]:\n",
    "\n",
    "    print(f'The probability: {P:.2f}')\n",
    "    y_pred_rnd = rnd_model_predict(P, 5000) # <your code here> \n",
    "        \n",
    "    eval_classifier(data['insurance_benefits_received'], y_pred_rnd)\n",
    "    \n",
    "    print()"
   ]
  },
  {
   "cell_type": "markdown",
   "metadata": {},
   "source": [
    "<div class=\"alert alert-info\" role=\"alert\">\n",
    "<s><b>Student's Comment (continued from above)</b>\n",
    "\n",
    "<br>To make the precode work, \n",
    "* adding `average=None` to the `f1_score()` method in the `eval_classifier()` function, and\n",
    "* changing the input to the `eval_classifier()` function from `data['insurance_benefits_received']` to `data['insurance_benefits']`.\n",
    "    \n",
    "<br>The code runs but it is meaningless since the 'raw' data in data['insurance_benefits'] (i.e. 0, 1, 2, 3, 4 or 5) is being compared to a randomly generated set of probabilities.\n",
    "</div>"
   ]
  },
  {
   "cell_type": "markdown",
   "metadata": {},
   "source": [
    "<div class=\"alert alert-warning\">\n",
    "<s><b>Reviewer's comment</b>\n",
    "\t  \n",
    "See comment above\n",
    "   \n",
    "\t  \n",
    "</div>"
   ]
  },
  {
   "cell_type": "markdown",
   "metadata": {},
   "source": [
    "Since\n",
    "* F1 score = 2 * ((precision * recall) / (precision + recall))\n",
    "* recall = TP / (TP + FN)...concerns both the number of 1s and 0s\n",
    "* precision = TP / (TP + FP)...concerns only the number of 1s\n",
    "* 0 / any number = 0 \n",
    "\n",
    "\n",
    "So, \n",
    "* If either precision or recall scores zero, the whole F1 score turns zero. This is the first case where the probability = 0 in which all the predictions are 0s. F1 score is supposed to be a harmonic mean of the precision and recall, and yet F1 = 0 because there are no positive cases in the predictions, and therefore recall = 0.\n",
    "\n",
    "\n",
    "* The contrasting case is the last one where the probability = 1 in which all the predictions are 1s. There are only positive cases in the predictions, and therefore recall = 1, but F1 is only 0.20 because the large number of false positives results in a poor precision, which drags the F1 down. \n",
    "\n",
    "In the random prediction-number generator, the probability P is the probability of predicting a positive outcome, i.e. recall. In other words, F1 score is heavily dependent on the share of actual positives, and on how imbalanced our training dataset is. "
   ]
  },
  {
   "cell_type": "markdown",
   "metadata": {},
   "source": [
    "[Project Guidance] Split the whole data in the 70:30 proportion for the training/testing parts."
   ]
  },
  {
   "cell_type": "code",
   "execution_count": 76,
   "metadata": {},
   "outputs": [],
   "source": [
    "# write a function that splits the whole dataset into training and test datasets in the ratio of 70:30\n",
    "def split_data(source, target_col, train_portion):\n",
    "\n",
    "        # separate the source dataset into features and target datasets\n",
    "        X = source.drop([target_col], axis=1)\n",
    "        y = source[target_col]    \n",
    "        \n",
    "        # split the features and target datasets into training and test datasets \n",
    "        X_train, X_test, y_train, y_test = train_test_split(X, y, train_size=train_portion, random_state=12345)    \n",
    "\n",
    "        # return all the datasets\n",
    "        return X_train, X_test, y_train, y_test"
   ]
  },
  {
   "cell_type": "code",
   "execution_count": 80,
   "metadata": {},
   "outputs": [],
   "source": [
    "train_segment = 0.7 # 1-0.7=0.3 is set aside for test dataset\n",
    "\n",
    "X_train, X_test, y_train, y_test  = split_data(data, 'insurance_benefits_received', train_segment)\n",
    "X_train.drop(columns=['insurance_benefits'], inplace=True)\n",
    "X_test.drop(columns=['insurance_benefits'], inplace=True)"
   ]
  },
  {
   "cell_type": "code",
   "execution_count": 81,
   "metadata": {},
   "outputs": [
    {
     "name": "stdout",
     "output_type": "stream",
     "text": [
      "X_train shape: (3500, 4)\n",
      "y_train shape: (3500,)\n",
      "X_test shape: (1500, 4)\n",
      "y_test shape: (1500,)\n"
     ]
    }
   ],
   "source": [
    "print('X_train shape:', X_train.shape)\n",
    "print('y_train shape:', y_train.shape)\n",
    "print('X_test shape:', X_test.shape)\n",
    "print('y_test shape:', y_test.shape)"
   ]
  },
  {
   "cell_type": "markdown",
   "metadata": {},
   "source": [
    "<div class=\"alert alert-info\" role=\"alert\">\n",
    "<b>Question</b>\n",
    "\n",
    "<br>To relate to the class imbalance in the dataset, I specified the `stratify` parameter when splitting the dataset into trainig and test datasets, upon which Python issued the error, `ValueError: The least populated class in y has only 1 member, which is too few. The minimum number of groups for any class cannot be less than 2.`. \n",
    "\n",
    "<br>Since there is no Project Instruction regaring upsampling, and I am under the impression that this Project seems to focus on comparing model performance in terms of data scaling, so I am not applying the technique. \n",
    "  \n",
    "</div>"
   ]
  },
  {
   "cell_type": "markdown",
   "metadata": {},
   "source": [
    "<div class=\"alert alert-warning\">\n",
    "<b>Reviewer's comment</b>\n",
    "\t  \n",
    "Yeah, you are right, this project is focusing on different things, so it's fine to ignore the class imbalance.\n",
    "    \n",
    "In any case, I think you've meant `stratify` parameter, right? Then the problem is that you calculated the target for the task incorrectly (see comment above).\n",
    "\t  \n",
    "</div>"
   ]
  },
  {
   "cell_type": "markdown",
   "metadata": {},
   "source": [
    "<div class=\"alert alert-info\" role=\"alert\">\n",
    "<b>Student's Comment v.2</b>\n",
    "\n",
    "<br>Goodness! Yes, I meant to write 'stratify' and not 'specify'. \n",
    "\n",
    "<br>I converted and tackled it as a binary classification problem.  \n",
    "  \n",
    "</div>"
   ]
  },
  {
   "cell_type": "markdown",
   "metadata": {},
   "source": [
    "Build a KNN-based classifier and measure its quality with the F1 metric for k=1..10 for both the original data and the scaled one. "
   ]
  },
  {
   "cell_type": "code",
   "execution_count": 92,
   "metadata": {},
   "outputs": [
    {
     "name": "stdout",
     "output_type": "stream",
     "text": [
      "k: 1\n",
      "F1: 0.62\n",
      "Confusion Matrix\n",
      "[[0.87133333 0.02      ]\n",
      " [0.05133333 0.05733333]]\n",
      "True negatives: 0.8713333333333333\n",
      "False positives: 0.02\n",
      "False negatives: 0.051333333333333335\n",
      "True positives: 0.05733333333333333\n",
      "Precision: 0.7413793103448275\n",
      "Recall: 0.5276073619631902\n",
      "\n",
      "k: 2\n",
      "F1: 0.41\n",
      "Confusion Matrix\n",
      "[[0.88733333 0.004     ]\n",
      " [0.08       0.02866667]]\n",
      "True negatives: 0.8873333333333333\n",
      "False positives: 0.004\n",
      "False negatives: 0.08\n",
      "True positives: 0.028666666666666667\n",
      "Precision: 0.8775510204081634\n",
      "Recall: 0.2638036809815951\n",
      "\n",
      "k: 3\n",
      "F1: 0.41\n",
      "Confusion Matrix\n",
      "[[0.88       0.01133333]\n",
      " [0.07733333 0.03133333]]\n",
      "True negatives: 0.88\n",
      "False positives: 0.011333333333333334\n",
      "False negatives: 0.07733333333333334\n",
      "True positives: 0.03133333333333333\n",
      "Precision: 0.734375\n",
      "Recall: 0.2883435582822086\n",
      "\n",
      "k: 4\n",
      "F1: 0.28\n",
      "Confusion Matrix\n",
      "[[0.88866667 0.00266667]\n",
      " [0.09066667 0.018     ]]\n",
      "True negatives: 0.8886666666666667\n",
      "False positives: 0.0026666666666666666\n",
      "False negatives: 0.09066666666666667\n",
      "True positives: 0.018\n",
      "Precision: 0.8709677419354838\n",
      "Recall: 0.1656441717791411\n",
      "\n",
      "k: 5\n",
      "F1: 0.27\n",
      "Confusion Matrix\n",
      "[[0.88533333 0.006     ]\n",
      " [0.09066667 0.018     ]]\n",
      "True negatives: 0.8853333333333333\n",
      "False positives: 0.006\n",
      "False negatives: 0.09066666666666667\n",
      "True positives: 0.018\n",
      "Precision: 0.7499999999999999\n",
      "Recall: 0.1656441717791411\n",
      "\n",
      "k: 6\n",
      "F1: 0.11\n",
      "Confusion Matrix\n",
      "[[0.89       0.00133333]\n",
      " [0.102      0.00666667]]\n",
      "True negatives: 0.89\n",
      "False positives: 0.0013333333333333333\n",
      "False negatives: 0.102\n",
      "True positives: 0.006666666666666667\n",
      "Precision: 0.8333333333333334\n",
      "Recall: 0.06134969325153375\n",
      "\n",
      "k: 7\n",
      "F1: 0.11\n",
      "Confusion Matrix\n",
      "[[0.88866667 0.00266667]\n",
      " [0.102      0.00666667]]\n",
      "True negatives: 0.8886666666666667\n",
      "False positives: 0.0026666666666666666\n",
      "False negatives: 0.102\n",
      "True positives: 0.006666666666666667\n",
      "Precision: 0.7142857142857143\n",
      "Recall: 0.06134969325153375\n",
      "\n",
      "k: 8\n",
      "F1: 0.07\n",
      "Confusion Matrix\n",
      "[[0.89133333 0.        ]\n",
      " [0.10466667 0.004     ]]\n",
      "True negatives: 0.8913333333333333\n",
      "False positives: 0.0\n",
      "False negatives: 0.10466666666666667\n",
      "True positives: 0.004\n",
      "Precision: 1.0\n",
      "Recall: 0.03680981595092024\n",
      "\n",
      "k: 9\n",
      "F1: 0.08\n",
      "Confusion Matrix\n",
      "[[0.89133333 0.        ]\n",
      " [0.104      0.00466667]]\n",
      "True negatives: 0.8913333333333333\n",
      "False positives: 0.0\n",
      "False negatives: 0.104\n",
      "True positives: 0.004666666666666667\n",
      "Precision: 1.0\n",
      "Recall: 0.04294478527607363\n",
      "\n",
      "k: 10\n",
      "F1: 0.00\n",
      "Confusion Matrix\n",
      "[[0.89133333 0.        ]\n",
      " [0.10866667 0.        ]]\n",
      "True negatives: 0.8913333333333333\n",
      "False positives: 0.0\n",
      "False negatives: 0.10866666666666666\n",
      "True positives: 0.0\n",
      "Precision: nan\n",
      "Recall: 0.0\n",
      "\n"
     ]
    }
   ],
   "source": [
    "# using the original data - the data is not scaled\n",
    "\n",
    "for k in range(1, 11, 1):   \n",
    "    print('k:', k)\n",
    "    k_values.append(k)\n",
    "    kn_clf = KNeighborsClassifier(n_neighbors=k)\n",
    "    kn_clf.fit(X_train, y_train)\n",
    "    pred = kn_clf.predict(X_test)\n",
    "    eval_classifier(y_test, pred)"
   ]
  },
  {
   "cell_type": "code",
   "execution_count": 85,
   "metadata": {},
   "outputs": [],
   "source": [
    "# scale the data\n",
    "scaler = StandardScaler()\n",
    "scaler.fit(X_train)\n",
    "X_train_scaled = scaler.transform(X_train)\n",
    "X_test_scaled = scaler.transform(X_test) "
   ]
  },
  {
   "cell_type": "code",
   "execution_count": 93,
   "metadata": {},
   "outputs": [
    {
     "name": "stdout",
     "output_type": "stream",
     "text": [
      "k: 1\n",
      "F1: 0.96\n",
      "Confusion Matrix\n",
      "[[0.88733333 0.004     ]\n",
      " [0.00466667 0.104     ]]\n",
      "True negatives: 0.8873333333333333\n",
      "False positives: 0.004\n",
      "False negatives: 0.004666666666666667\n",
      "True positives: 0.104\n",
      "Precision: 0.9629629629629629\n",
      "Recall: 0.9570552147239264\n",
      "\n",
      "k: 2\n",
      "F1: 0.93\n",
      "Confusion Matrix\n",
      "[[8.90666667e-01 6.66666667e-04]\n",
      " [1.33333333e-02 9.53333333e-02]]\n",
      "True negatives: 0.8906666666666667\n",
      "False positives: 0.0006666666666666666\n",
      "False negatives: 0.013333333333333334\n",
      "True positives: 0.09533333333333334\n",
      "Precision: 0.9930555555555556\n",
      "Recall: 0.8773006134969324\n",
      "\n",
      "k: 3\n",
      "F1: 0.94\n",
      "Confusion Matrix\n",
      "[[0.888      0.00333333]\n",
      " [0.00866667 0.1       ]]\n",
      "True negatives: 0.888\n",
      "False positives: 0.0033333333333333335\n",
      "False negatives: 0.008666666666666666\n",
      "True positives: 0.1\n",
      "Precision: 0.967741935483871\n",
      "Recall: 0.9202453987730062\n",
      "\n",
      "k: 4\n",
      "F1: 0.90\n",
      "Confusion Matrix\n",
      "[[0.88933333 0.002     ]\n",
      " [0.01733333 0.09133333]]\n",
      "True negatives: 0.8893333333333333\n",
      "False positives: 0.002\n",
      "False negatives: 0.017333333333333333\n",
      "True positives: 0.09133333333333334\n",
      "Precision: 0.9785714285714285\n",
      "Recall: 0.8404907975460123\n",
      "\n",
      "k: 5\n",
      "F1: 0.92\n",
      "Confusion Matrix\n",
      "[[0.886      0.00533333]\n",
      " [0.01133333 0.09733333]]\n",
      "True negatives: 0.886\n",
      "False positives: 0.005333333333333333\n",
      "False negatives: 0.011333333333333334\n",
      "True positives: 0.09733333333333333\n",
      "Precision: 0.9480519480519481\n",
      "Recall: 0.8957055214723926\n",
      "\n",
      "k: 6\n",
      "F1: 0.91\n",
      "Confusion Matrix\n",
      "[[0.89       0.00133333]\n",
      " [0.016      0.09266667]]\n",
      "True negatives: 0.89\n",
      "False positives: 0.0013333333333333333\n",
      "False negatives: 0.016\n",
      "True positives: 0.09266666666666666\n",
      "Precision: 0.9858156028368794\n",
      "Recall: 0.852760736196319\n",
      "\n",
      "k: 7\n",
      "F1: 0.93\n",
      "Confusion Matrix\n",
      "[[0.88733333 0.004     ]\n",
      " [0.01133333 0.09733333]]\n",
      "True negatives: 0.8873333333333333\n",
      "False positives: 0.004\n",
      "False negatives: 0.011333333333333334\n",
      "True positives: 0.09733333333333333\n",
      "Precision: 0.9605263157894737\n",
      "Recall: 0.8957055214723926\n",
      "\n",
      "k: 8\n",
      "F1: 0.91\n",
      "Confusion Matrix\n",
      "[[0.88866667 0.00266667]\n",
      " [0.016      0.09266667]]\n",
      "True negatives: 0.8886666666666667\n",
      "False positives: 0.0026666666666666666\n",
      "False negatives: 0.016\n",
      "True positives: 0.09266666666666666\n",
      "Precision: 0.9720279720279721\n",
      "Recall: 0.852760736196319\n",
      "\n",
      "k: 9\n",
      "F1: 0.92\n",
      "Confusion Matrix\n",
      "[[0.88866667 0.00266667]\n",
      " [0.01333333 0.09533333]]\n",
      "True negatives: 0.8886666666666667\n",
      "False positives: 0.0026666666666666666\n",
      "False negatives: 0.013333333333333334\n",
      "True positives: 0.09533333333333334\n",
      "Precision: 0.9727891156462585\n",
      "Recall: 0.8773006134969324\n",
      "\n",
      "k: 10\n",
      "F1: 0.89\n",
      "Confusion Matrix\n",
      "[[0.88866667 0.00266667]\n",
      " [0.02       0.08866667]]\n",
      "True negatives: 0.8886666666666667\n",
      "False positives: 0.0026666666666666666\n",
      "False negatives: 0.02\n",
      "True positives: 0.08866666666666667\n",
      "Precision: 0.9708029197080292\n",
      "Recall: 0.8159509202453987\n",
      "\n"
     ]
    }
   ],
   "source": [
    "# using the original data - the data is not scaled\n",
    "\n",
    "for k in range(1, 11, 1):   \n",
    "    print('k:', k)\n",
    "    kn_clf = KNeighborsClassifier(n_neighbors=k)\n",
    "    kn_clf.fit(X_train_scaled, y_train)\n",
    "    pred = kn_clf.predict(X_test_scaled)\n",
    "    eval_classifier(y_test, pred)"
   ]
  },
  {
   "cell_type": "markdown",
   "metadata": {},
   "source": [
    "* When the data is not scaled, as k increases, F1 decreases. By the time k = 10, F1 = 0. Precision is high for all values of k, but recall is gets poorer. This is presumably because it becomes more and more difficult to calculate the distane between the data points. \n",
    "\n",
    "* In constrast, when the data is scaled, the increase in k hardly affects F1, which remains high, and so are both precision and recall at a near perfect level (very close to 1.0)."
   ]
  },
  {
   "cell_type": "markdown",
   "metadata": {},
   "source": [
    "<div class=\"alert alert-danger\">\n",
    "<s><b>Reviewer's comment</b>\n",
    "\t  \n",
    "Please try redoing this task as a binary classification problem (see comment above)\n",
    "\t  \n",
    "</div>"
   ]
  },
  {
   "cell_type": "markdown",
   "metadata": {},
   "source": [
    "<div class=\"alert alert-info\" role=\"alert\">\n",
    "<b>Student's Comment v.2</b>\n",
    "\n",
    "<br>I converted and tackled it as a binary classification problem. I updated the findings above. \n",
    "  \n",
    "</div>"
   ]
  },
  {
   "cell_type": "markdown",
   "metadata": {},
   "source": [
    "<div class=\"alert alert-warning\">\n",
    "<b>Reviewer's comment V2</b>\n",
    "\t  \n",
    "Ok, very good! Conclusions look good, except, I'm not sure what you meant by `This is presumably because it becomes more and more difficult to calculate the distance between the data points.` Why would it become more difficult to calculate distances? If it did, it would affect the scaled version too, right? The problem is rather that one feature dominates all other features in the metric calculation due to its scale on unscaled data (namely, income), so it basically disregards all other features.\n",
    "\t  \n",
    "</div>"
   ]
  },
  {
   "cell_type": "markdown",
   "metadata": {},
   "source": [
    "<div class=\"alert alert-info\" role=\"alert\">\n",
    "<b>Student's Comment v.3</b>\n",
    "\n",
    "<br>Let me try again - when the dataset is not scaled, one feature that is massive in its magnitude ('income') stands out and is given the heaviest weight of importance. k candidate data points are then captured according to their proximity/similarity to the data point in question in terms of this feature. As k increases, the number of candidate data points increase - all chosen according to the imbalanced criteria - and the target class chosen by majority vote does not match the \"correct answer\" target class in terms of the other features that were not considered as the choosing criteria. \n",
    "  \n",
    "</div>"
   ]
  },
  {
   "cell_type": "markdown",
   "metadata": {},
   "source": [
    "<div class=\"alert alert-success\">\n",
    "<b>Reviewer's comment V4</b>\n",
    "\t  \n",
    "Yep, that's about right!\n",
    "\t  \n",
    "</div>"
   ]
  },
  {
   "cell_type": "markdown",
   "metadata": {},
   "source": [
    "## Task 3. Regression (with Linear Regression)\n",
    "\n",
    "Predict the number of insurance benefits a new customer is likely to receive using a linear regression model."
   ]
  },
  {
   "cell_type": "markdown",
   "metadata": {},
   "source": [
    "[Project Guidance] With `insurance_benefits` as the target, evaluate what RMSE would be for a Linear Regression model."
   ]
  },
  {
   "cell_type": "code",
   "execution_count": 121,
   "metadata": {},
   "outputs": [],
   "source": [
    "# ORIGINAL\n",
    "#def eval_regressor(y_true, y_pred):\n",
    "    \n",
    "#    rmse = math.sqrt(sklearn.metrics.mean_squared_error(y_true, y_pred))\n",
    " #   print(f'RMSE: {rmse:.2f}')\n",
    "    \n",
    "  #  r2_score = math.sqrt(sklearn.metrics.r2_score(y_true, y_pred))\n",
    "   # print(f'R2: {r2_score:.2f}')    "
   ]
  },
  {
   "cell_type": "code",
   "execution_count": 122,
   "metadata": {},
   "outputs": [],
   "source": [
    "def eval_regressor(y_true, y_pred):\n",
    "    \n",
    "    rmse = np.sqrt(mean_squared_error(y_true, y_pred))\n",
    "    print(f'RMSE: {rmse:.2f}')\n",
    "    \n",
    "    r2 = r2_score(y_true, y_pred)\n",
    "    print(f'R2: {r2:.2f}')  \n",
    "    \n",
    "    # the square root of R2 is the correlation coefficent between the vectors of observed and predicted values\n",
    "    # this is a measure of dependence between X and y\n",
    "    sqrt_r2 = np.sqrt(r2_score(y_true, y_pred)) # don't name the output variable and the function the same to avoid errors\n",
    "    print(f'square root of R2: {sqrt_r2:.2f}')    "
   ]
  },
  {
   "cell_type": "markdown",
   "metadata": {},
   "source": [
    "[Project Guidance] Build your own implementation of LR. For that, recall how the linear regression task's solution is formulated in terms of LA. Check RMSE for both the original data and the scaled one. Can you see any difference in RMSE between these two cases?\n",
    "\n",
    "Let's denote\n",
    "- $X$ — feature matrix, each row is a case, each column is a feature, the first column consists of unities\n",
    "- $y$ — target (a vector)\n",
    "- $\\hat{y}$ — estimated tagret (a vector)\n",
    "- $w$ — weight vector\n",
    "\n",
    "The task of linear regression in the language of matrices can be formulated as\n",
    "\n",
    "$$\n",
    "y = Xw\n",
    "$$\n",
    "\n",
    "The training objective then is to find such $w$ that it would minimize the L2-distance (MSE) between $Xw$ and $y$:\n",
    "\n",
    "$$\n",
    "\\min_w d_2(Xw, y) \\quad \\text{or} \\quad \\min_w \\text{MSE}(Xw, y)\n",
    "$$\n",
    "\n",
    "It appears that there is analytical solution for the above:\n",
    "\n",
    "$$\n",
    "w = (X^T X)^{-1} X^T y\n",
    "$$\n",
    "\n",
    "The formula above can be used to find the weights $w$ and the latter can be used to calculate predicted values\n",
    "\n",
    "$$\n",
    "\\hat{y} = X_{val}w\n",
    "$$"
   ]
  },
  {
   "cell_type": "code",
   "execution_count": 123,
   "metadata": {},
   "outputs": [],
   "source": [
    "# ORIGINAL\n",
    "#class MyLinearRegression:\n",
    "    \n",
    " #   def __init__(self):\n",
    "        \n",
    "  #      self.weights = None\n",
    "    \n",
    "   # def fit(self, X, y):\n",
    "        \n",
    "        # adding the unities\n",
    "    #    X2 = np.append(np.ones([len(X), 1]), X, axis=1)\n",
    "     #   self.weights =  # <your code here>\n",
    "\n",
    "    #def predict(self, X):\n",
    "        \n",
    "        # adding the unities\n",
    "     #   X2 = # <your code here>\n",
    "      #  y_pred = # <your code here>\n",
    "        \n",
    "       # return y_pred"
   ]
  },
  {
   "cell_type": "code",
   "execution_count": 124,
   "metadata": {},
   "outputs": [],
   "source": [
    "class MyLinearRegression:\n",
    "    \n",
    "    def __init__(self):\n",
    "        \n",
    "        self.w = None\n",
    "    \n",
    "    def fit(self, X, y):\n",
    "        \n",
    "        # adding the unities\n",
    "        X2 = np.append(np.ones([len(X), 1]), X, axis=1)\n",
    "        w = (np.linalg.inv(X2.T.dot(X2))).dot(X2.T).dot(y)\n",
    "        self.w = w[1:] # <your code here>\n",
    "        self.w0 = w[0]\n",
    "\n",
    "    def predict(self, X):\n",
    "        \n",
    "        # adding the unities\n",
    "        #X2 = np.append(np.ones([len(X), 1]), X, axis=1) # <your code here>\n",
    "        #y_pred = X2.dot(self.w) # <your code here>\n",
    "        y_pred = X.dot(self.w) + self.w0 # <your code here>\n",
    "        \n",
    "        return y_pred"
   ]
  },
  {
   "cell_type": "markdown",
   "metadata": {},
   "source": [
    "<div class=\"alert alert-success\">\n",
    "<b>Reviewer's comment</b>\n",
    "\t  \n",
    "Linear regression was implemented correctly\n",
    "\t  \n",
    "</div>"
   ]
  },
  {
   "cell_type": "markdown",
   "metadata": {},
   "source": [
    "[Project Guidance] Split the whole data in the 70:30 proportion for the training/validation parts. Use the RMSE metric for the model evaluation."
   ]
  },
  {
   "cell_type": "code",
   "execution_count": 125,
   "metadata": {},
   "outputs": [],
   "source": [
    "X = data[['age', 'gender', 'income', 'family_members']].to_numpy()\n",
    "y = data['insurance_benefits'].to_numpy()\n",
    "\n",
    "X_train, X_test, y_train, y_test = train_test_split(X, y, test_size=0.3, random_state=12345)"
   ]
  },
  {
   "cell_type": "code",
   "execution_count": 126,
   "metadata": {},
   "outputs": [
    {
     "name": "stdout",
     "output_type": "stream",
     "text": [
      "X_train shape: (3500, 4)\n",
      "y_train shape: (3500,)\n",
      "X_test shape: (1500, 4)\n",
      "y_test shape: (1500,)\n",
      "\n",
      "[[2.90e+01 0.00e+00 2.02e+04 0.00e+00]\n",
      " [3.70e+01 0.00e+00 3.73e+04 2.00e+00]\n",
      " [3.40e+01 0.00e+00 3.23e+04 2.00e+00]\n",
      " ...\n",
      " [4.10e+01 1.00e+00 4.47e+04 1.00e+00]\n",
      " [2.20e+01 0.00e+00 5.01e+04 4.00e+00]\n",
      " [1.90e+01 0.00e+00 4.08e+04 0.00e+00]]\n"
     ]
    }
   ],
   "source": [
    "print('X_train shape:', X_train.shape)\n",
    "print('y_train shape:', y_train.shape)\n",
    "print('X_test shape:', X_test.shape)\n",
    "print('y_test shape:', y_test.shape)\n",
    "print()\n",
    "print(X_train) # see what the values look like"
   ]
  },
  {
   "cell_type": "code",
   "execution_count": 127,
   "metadata": {},
   "outputs": [
    {
     "name": "stdout",
     "output_type": "stream",
     "text": [
      "parameter weights: [ 3.57495491e-02  1.64272726e-02 -2.60743659e-07 -1.16902127e-02]\n",
      "RMSE: 0.34\n",
      "R2: 0.43\n",
      "square root of R2: 0.66\n"
     ]
    }
   ],
   "source": [
    "# Data is not scaled\n",
    "lr = MyLinearRegression()\n",
    "\n",
    "lr.fit(X_train, y_train)\n",
    "print('parameter weights:', lr.w)\n",
    "\n",
    "y_test_pred = lr.predict(X_test)\n",
    "eval_regressor(y_test, y_test_pred)"
   ]
  },
  {
   "cell_type": "code",
   "execution_count": 129,
   "metadata": {},
   "outputs": [
    {
     "name": "stdout",
     "output_type": "stream",
     "text": [
      "parameter weights: [ 0.30292778  0.0082117  -0.00258294 -0.01271039]\n",
      "RMSE: 0.34\n",
      "R2: 0.43\n",
      "square root of R2: 0.66\n"
     ]
    }
   ],
   "source": [
    "# create a pipeline to perform feature scaling and train the model on a scaled training dataset\n",
    "lr_pipe = Pipeline([\n",
    "    ('scaler', StandardScaler()), # feature scaling\n",
    "    ('model_scaled', MyLinearRegression()) # create an instance of the model\n",
    "])\n",
    "\n",
    "# fit the model\n",
    "lr_pipe.fit(X_train, y_train)\n",
    "print('parameter weights:', lr_pipe.named_steps['model_scaled'].w)\n",
    "\n",
    "# test the model on the test dataset that has been scaled\n",
    "y_test_pred = lr_pipe.predict(X_test)\n",
    "eval_regressor(y_test, y_test_pred)"
   ]
  },
  {
   "cell_type": "markdown",
   "metadata": {},
   "source": [
    "<div class=\"alert alert-info\" role=\"alert\">\n",
    "<s><b>Question</b>\n",
    "\n",
    "<br>I cannot figure out why a list of NaNs is displayed at the end of the last cross validation cycle. Could you please let me know why this might be?\n",
    "  \n",
    "</div>"
   ]
  },
  {
   "cell_type": "markdown",
   "metadata": {},
   "source": [
    "<div class=\"alert alert-warning\">\n",
    "<b>Reviewer's comment</b>\n",
    "\t  \n",
    "This is because the scoring function `eval_regressor` you passed to `make_scorer` doesn't return anything, so the scores are NaN for all folds. By the way, scikit-learn supports quite a few different metrics out of the box (see [docs](https://scikit-learn.org/stable/modules/model_evaluation.html#common-cases-predefined-values)). For example to use $R^2$, we can just set `scoring='r2'`. Although I'm not sure why we need to use cross-validation here at all, evaluating on test seems enough.\n",
    "\t  \n",
    "</div>"
   ]
  },
  {
   "cell_type": "markdown",
   "metadata": {},
   "source": [
    "<div class=\"alert alert-info\" role=\"alert\">\n",
    "<b>Student's Comment v.2</b>\n",
    "\n",
    "<br>I used the precode in the eval_regressor function. In the original version, it was calculating the square root of R squared and calling it \"r2\", which bothered me, and I wanted to calculate R squared as well, so I changed the name of the former to \"sqrt_r2\".\n",
    "   \n",
    "    \n",
    "<br>Of course! I don't need the cross validation. I was going to use the scaled data, and remembered that I had to use a pipeline. But I can still use the pipeline without cross validation. I have removed it.\n",
    "  \n",
    "</div>"
   ]
  },
  {
   "cell_type": "markdown",
   "metadata": {},
   "source": [
    "<div class=\"alert alert-success\">\n",
    "<b>Reviewer's comment V2</b>\n",
    "\n",
    "> I used the precode in the eval_regressor function. \n",
    "    \n",
    "Yeah, I guess, the function was meant to just print the values of the metrics, but to use it with make_scorer, it has to return the value instead\n",
    "    \n",
    ">In the original version, it was calculating the square root of R squared and calling it \"r2\"\n",
    "    \n",
    "Huh, that's weird!\n",
    "\t  \n",
    "</div>"
   ]
  },
  {
   "cell_type": "markdown",
   "metadata": {},
   "source": [
    "* When the data is scaled, the parameter weights are more \"fathomable\" than when the data is not scaled, raising the model interpretability. For the same value of RMSE and square root of R2, parameter weights are more easily understood when they are not in the range of e-02 and e-07 when the data is scaled.\n",
    "\n",
    "\n",
    "* We can see from the sizes of the weights that the parameters influence of target variable in the order of 'age', 'gender', 'family_members', 'income'. \n",
    "\n",
    "\n",
    "* R squared is below 50% regardless of whether the data is scaled, which means the regression line is not a very good fit. \n",
    "\n",
    "\n",
    "* Whereas R2 is a measure of how good fit a regression line is to all the data points, its square root is the correlation coefficent between the vectors of observed and predicted values, which is a measure of dependence between X and y. 0.66 indicates an above-average correlation strength between the set of features and the target. If the dataset had started out with many more variables in it, whoever did the feature selection did a good job at narrowing the list down to he four most influencial variables that help predict that target. "
   ]
  },
  {
   "cell_type": "markdown",
   "metadata": {},
   "source": [
    "<div class=\"alert alert-info\" role=\"alert\">\n",
    "<b>Question</b>\n",
    "\n",
    "<br>It is interesting that the model performance did not improve with feature scaling. I thought linear regression was one of the models that are sensitive to scaling. Could you tell me why this might be the case?\n",
    "    \n",
    "</div>"
   ]
  },
  {
   "cell_type": "markdown",
   "metadata": {},
   "source": [
    "<div class=\"alert alert-warning\">\n",
    "<b>Reviewer's comment</b>\n",
    "\t  \n",
    "On the contrary, linear regression, unlike distance-based algorithms such as kNN, is not sensitive to scaling (as you confirmed). What does standard scaling do? We just subtract the mean and divide by the standard deviation for each feature. Intuitevely, this just recenters the data, and makes the feature scales similar. If there was a hyperplane that fit the original data well, we can easily find the hyperplane that fits the scaled data (just apply the same transformation to the normal vector of the first hyperplane).\n",
    "    \n",
    "But scaling can still be useful for linear regression for two reasons. The first is that scaling makes the weights more easily interpretable, because after scaling all feature are measured in the same units, and we don't have to think about the different scales of features. The second is that if we use some kind of [regularization](https://towardsdatascience.com/l1-and-l2-regularization-methods-ce25e7fc831c) based on distances, if we don't do scaling, we'll encounter the same problem as with kNN: some feature with a bigger magnitude than others can dominate the distance metric.\n",
    "\t  \n",
    "</div>"
   ]
  },
  {
   "cell_type": "markdown",
   "metadata": {},
   "source": [
    "<div class=\"alert alert-info\" role=\"alert\">\n",
    "<b>Student's Comment v.2</b>\n",
    "\n",
    "<br>There are many articles (like this one: https://towardsdatascience.com/linear-regression-coefficients-are-probably-lying-to-you-457a57aaf288) that say \"linear regression is heavily dependent on scale\". There are also articles that say otherwise (like this one: https://www.quora.com/Do-I-need-to-do-feature-scaling-for-simple-linear-regression). I understand your explanation, and I have my empirical evidence that says it is not sensitive to scaling. So I will go with that. :)\n",
    "    \n",
    "</div>"
   ]
  },
  {
   "cell_type": "markdown",
   "metadata": {},
   "source": [
    "<div class=\"alert alert-warning\">\n",
    "<b>Reviewer's comment V2</b>\n",
    "\t  \n",
    "The article on towardsdatascience you've linked doesn't contradict that linear regression quality doesn't depend on scaling, it is about interpreting the weights (or regression coefficients, it is the same thing) which I've touched upon a bit in my previous comment. But, again, if you use L1 or L2 regularization, or if you want to interpet the weights, the data should indeed be scaled.\n",
    "\t  \n",
    "</div>"
   ]
  },
  {
   "cell_type": "markdown",
   "metadata": {},
   "source": [
    "<div class=\"alert alert-info\" role=\"alert\">\n",
    "<b>Student's Comment v.3</b>\n",
    "\n",
    "<br>Got it!\n",
    "    \n",
    "</div>"
   ]
  },
  {
   "cell_type": "markdown",
   "metadata": {},
   "source": [
    "## Task 4. Obfuscating Data\n",
    "\n",
    "Protect clients' personal data without breaking the model from the previous task.\n",
    "\n",
    "It's necessary to develop a data transformation algorithm that would make it hard to recover personal information if the data fell into the wrong hands. This is called data masking, or data obfuscation. But the data should be protected in such a way that the quality of machine learning models doesn't suffer. You don't need to pick the best model, just prove that the algorithm works correctly."
   ]
  },
  {
   "cell_type": "markdown",
   "metadata": {},
   "source": [
    "[Project Guidance] It best to obfuscate data by multiplying the numerical features (remember, they can be seen as the matrix $X$) by an invertible matrix $P$. \n",
    "\n",
    "$$\n",
    "X' = X \\times P\n",
    "$$\n",
    "\n",
    "Try to do that and check how the features' values will look like after the transformation. By the way, the intertible property is important here so make sure that $P$ is indeed invertible.\n",
    "\n",
    "You may want to review the 'Matrices and Matrix Operations -> Matrix Mupliplication' lesson to recall the rule of matrix multiplication and its implementation with NumPy."
   ]
  },
  {
   "cell_type": "code",
   "execution_count": 107,
   "metadata": {},
   "outputs": [],
   "source": [
    "# extract the data on the feature variables...\n",
    "personal_info_column_list = ['gender', 'age', 'income', 'family_members']\n",
    "df_pn = data[personal_info_column_list]"
   ]
  },
  {
   "cell_type": "code",
   "execution_count": 108,
   "metadata": {},
   "outputs": [],
   "source": [
    "# ...and convert them to an array\n",
    "X = df_pn.to_numpy()"
   ]
  },
  {
   "cell_type": "code",
   "execution_count": 119,
   "metadata": {},
   "outputs": [
    {
     "data": {
      "text/plain": [
       "(5000, 4)"
      ]
     },
     "execution_count": 119,
     "metadata": {},
     "output_type": "execute_result"
    }
   ],
   "source": [
    "X.shape # X is an m x n matrix where m=5000 and n=4"
   ]
  },
  {
   "cell_type": "markdown",
   "metadata": {},
   "source": [
    "[Project Guidance] Generating a random matrix $P$."
   ]
  },
  {
   "cell_type": "code",
   "execution_count": 124,
   "metadata": {},
   "outputs": [
    {
     "data": {
      "text/plain": [
       "array([[0.77395605, 0.43887844, 0.85859792, 0.69736803],\n",
       "       [0.09417735, 0.97562235, 0.7611397 , 0.78606431],\n",
       "       [0.12811363, 0.45038594, 0.37079802, 0.92676499],\n",
       "       [0.64386512, 0.82276161, 0.4434142 , 0.22723872]])"
      ]
     },
     "execution_count": 124,
     "metadata": {},
     "output_type": "execute_result"
    }
   ],
   "source": [
    "rng = np.random.default_rng(seed=42)\n",
    "P = rng.random(size=(X.shape[1], X.shape[1]))\n",
    "P"
   ]
  },
  {
   "cell_type": "code",
   "execution_count": 125,
   "metadata": {},
   "outputs": [
    {
     "data": {
      "text/plain": [
       "(4, 4)"
      ]
     },
     "execution_count": 125,
     "metadata": {},
     "output_type": "execute_result"
    }
   ],
   "source": [
    "P.shape # P is an n x n matrix where n=4"
   ]
  },
  {
   "cell_type": "markdown",
   "metadata": {},
   "source": [
    "[Project Guidance] Checking the matrix $P$ is invertible\n",
    "\n",
    "A matrix is invertible if it is a square matrix and produces the identity matrix when multiplied by its inverse matrix."
   ]
  },
  {
   "cell_type": "code",
   "execution_count": 129,
   "metadata": {},
   "outputs": [
    {
     "name": "stdout",
     "output_type": "stream",
     "text": [
      "inverse matrix of P:\n",
      "[[ 0.41467992 -1.43783972  0.62798546  1.14001268]\n",
      " [-1.06101789  0.44219337  0.1329549   1.18425933]\n",
      " [ 1.42362442  1.60461607 -2.0553823  -1.53699695]\n",
      " [-0.11128575 -0.65813802  1.74995517 -0.11816316]]\n"
     ]
    }
   ],
   "source": [
    "# find the inverse matrix of P - if the matrix is non-invertible, an error will be issued\n",
    "P_inverse = np.linalg.inv(P) # no error is issued\n",
    "print('inverse matrix of P:')\n",
    "print(P_inverse)"
   ]
  },
  {
   "cell_type": "code",
   "execution_count": 133,
   "metadata": {},
   "outputs": [
    {
     "name": "stdout",
     "output_type": "stream",
     "text": [
      "an exemplary 4x4 identity matrix:\n",
      "[[1. 0. 0. 0.]\n",
      " [0. 1. 0. 0.]\n",
      " [0. 0. 1. 0.]\n",
      " [0. 0. 0. 1.]]\n",
      "\n",
      "identity matrix?:\n",
      "[[ 1.00000000e+00  1.85130588e-16 -2.97856902e-16 -3.91584367e-17]\n",
      " [ 6.23834470e-17  1.00000000e+00 -7.10568689e-17  8.24459807e-17]\n",
      " [ 1.03941594e-17  2.27454503e-17  1.00000000e+00 -5.77784356e-17]\n",
      " [-1.02697151e-16 -1.69379178e-16 -2.49945035e-17  1.00000000e+00]]\n"
     ]
    }
   ],
   "source": [
    "# print the 4 x 4 identity matrix\n",
    "print('an exemplary 4x4 identity matrix:')\n",
    "print(np.identity(4))\n",
    "print()\n",
    "\n",
    "# see if the dot product of P and its inverse matrix is the identity matrix\n",
    "I = P @ P_inverse\n",
    "I\n",
    "print('identity matrix?:')\n",
    "print(I)"
   ]
  },
  {
   "cell_type": "markdown",
   "metadata": {},
   "source": [
    "* This is not exactly the ideal identity matrix. The discrepancies are due to the limitation of float values which are never the exact values, and containing some error. Looking at the identity matrix produced very leniently, the diagonal values (1.00000000e+00) are acceptable as 1, and all other values are really small numbers (almost zeros) in the units of -16 and -17 in the exponent. \n",
    "\n",
    "So we could say that `P @ P_inverse` is equal to `I`.\n",
    "\n",
    "<br>Let us obfuscate our data by multiplying the numerical features by the invertible matrix $P$. "
   ]
  },
  {
   "cell_type": "code",
   "execution_count": 137,
   "metadata": {},
   "outputs": [
    {
     "data": {
      "text/plain": [
       "array([[ 6359.71527314, 22380.40467609, 18424.09074184, 46000.69669016],\n",
       "       [ 4873.29406479, 17160.36702982, 14125.78076133, 35253.45577301],\n",
       "       [ 2693.11742928,  9486.397744  ,  7808.83156024, 19484.86063067],\n",
       "       ...,\n",
       "       [ 4346.2234249 , 15289.24126492, 12586.16264392, 31433.50888552],\n",
       "       [ 4194.09324155, 14751.9910242 , 12144.02930637, 30323.88763426],\n",
       "       [ 5205.46827354, 18314.24814446, 15077.01370762, 37649.59295455]])"
      ]
     },
     "execution_count": 137,
     "metadata": {},
     "output_type": "execute_result"
    }
   ],
   "source": [
    "X_obfuscated = X @ P\n",
    "X_obfuscated"
   ]
  },
  {
   "cell_type": "markdown",
   "metadata": {},
   "source": [
    "[Project Guidance] Can you guess the customers' ages or income after the transformation?"
   ]
  },
  {
   "cell_type": "code",
   "execution_count": 138,
   "metadata": {},
   "outputs": [
    {
     "data": {
      "text/plain": [
       "array([[1.00e+00, 4.10e+01, 4.96e+04, 1.00e+00],\n",
       "       [0.00e+00, 4.60e+01, 3.80e+04, 1.00e+00],\n",
       "       [0.00e+00, 2.90e+01, 2.10e+04, 0.00e+00],\n",
       "       ...,\n",
       "       [0.00e+00, 2.00e+01, 3.39e+04, 2.00e+00],\n",
       "       [1.00e+00, 2.20e+01, 3.27e+04, 3.00e+00],\n",
       "       [1.00e+00, 2.80e+01, 4.06e+04, 1.00e+00]])"
      ]
     },
     "execution_count": 138,
     "metadata": {},
     "output_type": "execute_result"
    }
   ],
   "source": [
    "# print out the original data\n",
    "X"
   ]
  },
  {
   "cell_type": "markdown",
   "metadata": {},
   "source": [
    "* No, the values in `X_obfuscated` are very different from the original `X`."
   ]
  },
  {
   "cell_type": "markdown",
   "metadata": {},
   "source": [
    "[Project Guidance] Can you recover the original data from $X'$ if you know $P$? Try to check that with calculations by moving $P$ from the right side of the formula above to the left one. The rules of matrix multiplcation are really helpful here.\n",
    "\n",
    "\n",
    "<br>We obfuscated $X$ by applying the matrix transformation below:\n",
    "$$\n",
    "X' = X \\times P\n",
    "$$\n",
    "\n",
    "To \"undo\" the effect of $P$, we apply the inverse matrix $P'$ to the transformed $X$:\n",
    "$$\n",
    "X = X' \\times P^{-1}\n",
    "$$"
   ]
  },
  {
   "cell_type": "code",
   "execution_count": 140,
   "metadata": {},
   "outputs": [
    {
     "data": {
      "text/plain": [
       "array([[ 1.00000000e+00,  4.10000000e+01,  4.96000000e+04,\n",
       "         1.00000000e+00],\n",
       "       [ 1.67952800e-12,  4.60000000e+01,  3.80000000e+04,\n",
       "         1.00000000e+00],\n",
       "       [-6.23021448e-13,  2.90000000e+01,  2.10000000e+04,\n",
       "        -2.03032656e-13],\n",
       "       ...,\n",
       "       [ 1.57996161e-12,  2.00000000e+01,  3.39000000e+04,\n",
       "         2.00000000e+00],\n",
       "       [ 1.00000000e+00,  2.20000000e+01,  3.27000000e+04,\n",
       "         3.00000000e+00],\n",
       "       [ 1.00000000e+00,  2.80000000e+01,  4.06000000e+04,\n",
       "         1.00000000e+00]])"
      ]
     },
     "execution_count": 140,
     "metadata": {},
     "output_type": "execute_result"
    }
   ],
   "source": [
    "X_recovered = X_obfuscated @ P_inverse\n",
    "X_recovered"
   ]
  },
  {
   "cell_type": "markdown",
   "metadata": {},
   "source": [
    "[Project Guidance] Print all three cases for a few customers\n",
    "- The original data\n",
    "- The transformed one\n",
    "- The reversed (recovered) one"
   ]
  },
  {
   "cell_type": "code",
   "execution_count": 249,
   "metadata": {},
   "outputs": [],
   "source": [
    "# randomly sample a few customers from the original data\n",
    "original_sample = data[personal_info_column_list].sample(10)\n",
    "\n",
    "# locate the transformed data for these customers\n",
    "customers = original_sample.index\n",
    "X_obs = X_obfuscated[customers]\n",
    "\n",
    "# locate the recovered data for these customers\n",
    "X_rec = X_recovered[customers]\n",
    "\n",
    "# round off then convert to integer\n",
    "X_rec_rounded = np.around(X_recovered[customers]).astype(int)"
   ]
  },
  {
   "cell_type": "code",
   "execution_count": 250,
   "metadata": {},
   "outputs": [],
   "source": [
    "# write a function to create a comparison table between the original, obfuscated and recovered data for a specified customer\n",
    "def comparison_table(num):\n",
    "    orig = pd.Series(original_sample.iloc[num])\n",
    "    obs = pd.Series(X_obs[num], index=['gender', 'age', 'income', 'family_members'])\n",
    "    pre_rec = pd.Series(X_rec[num], index=['gender', 'age', 'income', 'family_members'])\n",
    "    rec = pd.Series(X_rec_rounded[num], index=['gender', 'age', 'income', 'family_members'])\n",
    "    customer = pd.concat([orig, obs, pre_rec, rec], axis=1)\n",
    "    customer.columns = ['original', 'obfuscated', 'recovered (pre-round)', 'recovered']\n",
    "    print(customer)"
   ]
  },
  {
   "cell_type": "code",
   "execution_count": 251,
   "metadata": {},
   "outputs": [
    {
     "name": "stdout",
     "output_type": "stream",
     "text": [
      "                original    obfuscated  recovered (pre-round)  recovered\n",
      "gender               0.0   5820.377797          -1.909704e-13          0\n",
      "age                 29.0  20477.460152           2.900000e+01         29\n",
      "income           45400.0  16857.190180           4.540000e+04      45400\n",
      "family_members       2.0  42098.380836           2.000000e+00          2\n"
     ]
    }
   ],
   "source": [
    "# customer number 3326 (index = 1)\n",
    "comparison_table(1)"
   ]
  },
  {
   "cell_type": "code",
   "execution_count": 246,
   "metadata": {},
   "outputs": [
    {
     "name": "stdout",
     "output_type": "stream",
     "text": [
      "                original    obfuscated  recovered (pre-round)  recovered\n",
      "gender               0.0   5062.183683           1.424788e-12          0\n",
      "age                 18.0  17807.805749           1.800000e+01         18\n",
      "income           39500.0  14660.222472           3.950000e+04      39500\n",
      "family_members       0.0  36621.366217          -1.121933e-12          0\n"
     ]
    }
   ],
   "source": [
    "# customer number 1628 (index = 8)\n",
    "comparison_table(8)"
   ]
  },
  {
   "cell_type": "code",
   "execution_count": 247,
   "metadata": {},
   "outputs": [
    {
     "name": "stdout",
     "output_type": "stream",
     "text": [
      "                original    obfuscated  recovered (pre-round)  recovered\n",
      "gender               0.0   5883.225684           4.279421e-12          0\n",
      "age                 23.0  20695.976625           2.300000e+01         23\n",
      "income           45900.0  17037.578940           4.590000e+04      45900\n",
      "family_members       1.0  42556.819706           1.000000e+00          1\n"
     ]
    }
   ],
   "source": [
    "# customer number 3785 (index = 4)\n",
    "comparison_table(4)"
   ]
  },
  {
   "cell_type": "markdown",
   "metadata": {},
   "source": [
    "[Project Guidance] You can probably see that some values are not exactly the same as they are in the original data. What might be the reason for that?"
   ]
  },
  {
   "cell_type": "markdown",
   "metadata": {},
   "source": [
    "* The discrepancies are due to the limitation of float values which are never the exact values, and containing some error. Looking at the recovered matrix X very leniently, the similarity in the values are within an acceptable range.\n",
    "\n",
    "* Once the recovered values are rounded and converted to integer, they are the same as the original."
   ]
  },
  {
   "cell_type": "markdown",
   "metadata": {},
   "source": [
    "<div class=\"alert alert-success\">\n",
    "<b>Reviewer's comment</b>\n",
    "\t  \n",
    "Very good!\n",
    "\t  \n",
    "</div>"
   ]
  },
  {
   "cell_type": "markdown",
   "metadata": {},
   "source": [
    "## Proof That Data Obfuscation Can Work with LR"
   ]
  },
  {
   "cell_type": "markdown",
   "metadata": {},
   "source": [
    "[Project Guidance] The regression task has been solved with linear regression in this project. Your next task is to prove _analytically_ that the given obfuscation method won't affect linear regression in terms of predicted values i.e. their values will remain the same. Can you believe that? Well, you don't have to, you should prove it!"
   ]
  },
  {
   "cell_type": "markdown",
   "metadata": {},
   "source": [
    "So, the data is obfuscated and there is $X \\times P$ instead of just $X$ now. Consequently, there are other weights $w_P$ as\n",
    "$$\n",
    "w = (X^T X)^{-1} X^T y \\quad \\Rightarrow \\quad w_P = [(XP)^T XP]^{-1} (XP)^T y\n",
    "$$\n",
    "\n",
    "How would $w$ and $w_P$ be linked if you simplify the formula for $w_P$ above? \n",
    "\n",
    "What would be predicted values with $w_P$? \n",
    "\n",
    "What does that mean for the quality of linear regression if you measure it with RMSE?\n",
    "\n",
    "Check Appendix B Properties of Matrices in the end of the notebook. There are useful formulas in there!\n",
    "\n",
    "No code is necessary in this section, only analytical explanation!"
   ]
  },
  {
   "cell_type": "markdown",
   "metadata": {},
   "source": [
    "**Answer**"
   ]
  },
  {
   "cell_type": "markdown",
   "metadata": {},
   "source": [
    "* How would $w$ and $w_P$ be linked if you simplify the formula for $w_P$ above?\n",
    "<br>$w$ and $w_P$ are both weight vectors. The former is in a simple linear regression equation $X w = y$. The latter is the weight vector of a very similar simple linear regression equation $(XP) w_P = y_p$ where the feature matrix X has some matrix P applied to it.\n",
    "\n",
    "\n",
    "* What would be predicted values with $w_P$?\n",
    "<br><s>$y$ in the equation $(XP) w_P = y$ will be the predicted values.</s> \n",
    "<br>$\\hat{y_p} = (XP) w_P$ will be the predicted values. \n",
    "\n",
    "\n",
    "* What does that mean for the quality of linear regression if you measure it with RMSE?\n",
    "<br>The formula for calculating RMSE is:\n",
    "\n",
    "$$\n",
    "\\bar{RMSE} = \\sqrt{\\frac{1}{n}\\sum_{i=1}^{n} (\\hat{y_i} - y_i)^2}\n",
    "$$\n",
    "\n",
    "<br><s>Since $y$ stands on its own on one side of the equation in both $X w = y$ and $(XP) w_P = y$ with nothing influencing it, its values $y_i$...$y_n$ remain unaffected and therefore the resulting RMSE values would be the same.</s> \n",
    "<br>The predictions of the model trained on obfuscated data are exactly the same as the predictions of the model trained on original data ($\\hat{y_p} = Xw = y$), and therefore the RMSE cannot change."
   ]
  },
  {
   "cell_type": "markdown",
   "metadata": {},
   "source": [
    "**Analytical proof**"
   ]
  },
  {
   "cell_type": "markdown",
   "metadata": {},
   "source": [
    "<s>$w = (X^T X)^{-1} X^T y$\n",
    "\n",
    "$w = X^{-1}(X^{-1})^T X^T y$......where $(X^{-1})^T X^T = I$\n",
    "\n",
    "$w = X^{-1} y$\n",
    "\n",
    "$X^{-1}X w = X^{-1}X X^{-1} y$......where $X X^{-1} = I$\n",
    "\n",
    "$X^{-1}X w = X^{-1} y$......where $X^{-1}$ on both sides cancel each other out\n",
    "\n",
    "$X w = y$......which is a simple linear regression equation\n",
    "\n",
    "\n",
    "<br>\n",
    "<br>\n",
    "$w_P = [(XP)^T XP]^{-1} (XP)^T y$\n",
    "\n",
    "$w_P = (XP)^{-1} (XP^{-1})^T (XP)^T y$......where $(XP^{-1})^T (XP)^T = I$\n",
    "\n",
    "$w_P = (XP)^{-1} y$\n",
    "\n",
    "$(XP)^{-1}(XP) w_P = (XP)^{-1}(XP) (XP)^{-1} y$......where $(XP)(XP)^{-1} = I$\n",
    "\n",
    "$(XP)^{-1}(XP) w_P = (XP)^{-1} y$......where $(XP)^{-1}$ on both sides cancel each other out\n",
    "\n",
    "$(XP) w_P = y$\n",
    "\n",
    "\n",
    "This means that $w_P$ is the weight vector in a simple linear regression equation with matrix P applied to feature matrix X. "
   ]
  },
  {
   "cell_type": "markdown",
   "metadata": {},
   "source": [
    "<div class=\"alert alert-danger\">\n",
    "<s><b>Reviewer's comment</b>\n",
    "\t  \n",
    "Ok, there is a bit of a misunderstanding, your proof is unfortunately not quite correct.\n",
    " \n",
    "1. First of all, keep in mind that the $y$ in $w = [(XP)^T XP]^{-1} (XP)^T y$ is not the same as the predictions, it is the vector of train targets.\n",
    "    \n",
    "2. Another point is that as $X$ represents the feature matrix, and the number of examples (the number of rows) is almost always much bigger than the number of features (the number of columns), the matrix is not even square, so it can't be invertible. This means that we can't use $X^{-1}$ because it is undefined. On the other hand, as long as $X$ doesn't have linearly dependent columns, $X^T X$ is invertible. So, what we should do is treat $X^T X$ as a single matrix instead of trying to invert $X$ or $X^{T}$ separately.\n",
    "    \n",
    " By the way, this is basically the reason the training formula is $w = (X^T X)^{-1} X^T y$, and not just $w = X^{-1} y$ (the second formula only works if $X$ is invertible). If you ever wondered where the $(X^T X)^{-1} X^T$ comes from, here's an idea. We know that $y = Xw$, and we would like to figure out what $w$ is equal to, but we can't just multiply both sides by $X^{-1}$ to do it, as $X$ is almost always not invertible. But if we multiply both sides by $X^T$:\n",
    "$$X^T X w = X^T y,$$\n",
    "then $X^T X$ is always square and almost always invertible (like I mentioned earlier, as long as there are no linearly dependent columns), so we can multiply both sides by $(X^T X)^{-1}$ to express $w$:\n",
    "$$w = (X^T X)^{-1} X^T y.$$\n",
    "\t  \n",
    "3. That said, it doesn't seem that your calculations really prove what you claim they prove. I suggest starting from a clean slate and doing the following instead: \n",
    " 1. first transform the equation\n",
    " $$w_P = [(XP)^T XP]^{-1} (XP)^T y$$\n",
    " a bit, to make the right hand side look like the formula for $w$ (i.e. apply the transposition first, and then apply inversion, keeping in mind that only $X^T X$ is invertible, but not $X$ or $X^T$ individually; also don't forget that both transposition and inversion reverse the order of multiplication (see the reminder about properties of matrices at the end of the notebook)). After doing that, you should get a formula expressing $w_p$ in terms of $w$.\n",
    " 2. If we know the formula for $w_p$ in terms of $w$, how do we prove that the quality is the same? Like you noted, the predictions of the original model will be $\\hat{y} = Xw$, and the predictions of the model trained on obfuscated features will be $\\hat{y_p} = XP w_p$. But the fact that '$y$ stands alone on one side of the equation' doesn't tell us that predictions will be the same, we need to verify it by plugging the expression for $w_p$ we got in the previous step into the formula for predictions and see what happens.\n",
    "    \n",
    "Hopefully, this will help you beat this problem!\n",
    "\n",
    "    \n",
    "</div>"
   ]
  },
  {
   "cell_type": "markdown",
   "metadata": {},
   "source": [
    "<div class=\"alert alert-info\" role=\"alert\">\n",
    "<b>Student's Comment v.2</b>\n",
    "\n",
    "<br>This was a very tough question for me. Please see below my new attempt at following your reasoning. \n",
    "    \n",
    "</div>"
   ]
  },
  {
   "cell_type": "markdown",
   "metadata": {},
   "source": [
    "<div class=\"alert alert-danger\">\n",
    "<s><b>Reviewer's comment V2</b>\n",
    "\t  \n",
    "Ok, you did great! Just one slight correction. When going from the line\n",
    "$$w_P = [P^T X^T XP]^{-1} (XP)^T y$$\n",
    "to\n",
    "$$w_P = [P^{-1} X^{-1} (X^T)^{-1} (P^T)^{-1}] (P^T X^T)y,$$\n",
    "as I mentioned, we really should treat the product $X^T X$ as a single matrix, because the inverses of its factors are undefined. So if you just write the following instead, everything will be great:\n",
    "$$w_P = [P^{-1} (X^T X)^{-1} (P^T)^{-1}] (P^T X^T)y,$$\n",
    "The $P^T$ and $(P^T)^{-1}$ will still cancel out, and you will get the same result that $w_P = P^{-1} w$.\n",
    "    \n",
    "> This means that $w_p$  is the weight vector in a simple linear regression equation with matrix P applied to feature matrix X.\n",
    "\n",
    "I'm not sure what you mean by this, but we now calculated the predictions of the model trained on obfuscated data, and they are exactly the same as the predictions of the model trained on original data ($\\hat{y_p} = Xw = \\hat{y}$ ), and thus the RMSE can't change.\n",
    "\t  \n",
    "</div>"
   ]
  },
  {
   "cell_type": "markdown",
   "metadata": {},
   "source": [
    "$w_P = [(XP)^T XP]^{-1} (XP)^T y$\n",
    "\n",
    "\n",
    "$w_P = [P^T X^T XP]^{-1} (XP)^T y$\n",
    "\n",
    "\n",
    "$w_P = [P^{-1} (X^T X)^{-1} (P^T)^{-1}] (P^T X^T)y$\n",
    "\n",
    "\n",
    "$w_P = P^{-1} (X^T X)^{-1} (P^T)^{-1} P^T X^T)y$......where $(P^T)^{-1} P^T = I$ because it is square\n",
    "\n",
    "\n",
    "$w_P = P^{-1}(X^T X)^{-1} X^T y$......where $(X^T X)^{-1} X^T y = w$\n",
    "\n",
    "\n",
    "$w_P = P^{-1} w$...expressing $w_P$ in terms of $w$\n",
    "\n",
    "\n",
    "<br>Then plug the above into the predictions of the model trained on obfuscated matrix $\\hat{y_p} = XPw_p$:\n",
    "\n",
    "$\\hat{y_p} = XPw_P$...where $w_P = P^{-1} w$\n",
    "\n",
    "\n",
    "$\\hat{y_p} = XPP^{-1} w$...where $PP^{-1} = I$ because it is square\n",
    "\n",
    "\n",
    "$\\hat{y_p} = Xw = y$\n",
    "\n",
    "\n",
    "<br>The predictions of the model trained on obfuscated data are exactly the same as the predictions of the model trained on the original data, and therefore the RMSE can't change. QED!"
   ]
  },
  {
   "cell_type": "markdown",
   "metadata": {},
   "source": [
    "<div class=\"alert alert-info\" role=\"alert\">\n",
    "<b>Student's Comment v.3</b>\n",
    "\n",
    "<br>Got it! Math is beautiful. :)\n",
    "    \n",
    "<br>I would like to practice matrix operations like the one above. I could only find exercises with matrices of numbers (e.g. [1 2 3][4 5 6]). Would you be able to send me some links to pages?\n",
    "    \n",
    "</div>"
   ]
  },
  {
   "cell_type": "markdown",
   "metadata": {},
   "source": [
    "<div class=\"alert alert-success\">\n",
    "<b>Reviewer's comment V3</b>\n",
    "\t  \n",
    "Well, to truly get to know this stuff, you would probably get more out of learning the concepts of linear algebra, rather than just practicing matrix manipulations. One good book is [Linear Algebra Done Wrong](http://www.math.brown.edu/streil/papers/LADW/LADW.html) (don't worry about the name, it's a pun on another good book called [Linear Algebra Done Right](https://linear.axler.net)). A nice supplement is [3Blue1Brown's youtube series](https://www.youtube.com/playlist?list=PLZHQObOWTQDPD3MizzM2xVFitgF8hE_ab) on linear algebra.\n",
    "\t  \n",
    "</div>"
   ]
  },
  {
   "cell_type": "markdown",
   "metadata": {},
   "source": [
    "## Test Linear Regression With Data Obfuscation"
   ]
  },
  {
   "cell_type": "markdown",
   "metadata": {},
   "source": [
    "[Project Guidance] Now, let's prove Linear Regression can work computationally with the chosen obfuscation transformation.\n",
    "\n",
    "Build a procedure or a class that runs Linear Regression optionally with the obfuscation. You can use either a ready implementation of Linear Regression from sciki-learn or your own.\n",
    "\n",
    "Run Linear Regression for the original data and the obfuscated one, compare the predicted values and the RMSE, $R^2$ metric values. Is there any difference?"
   ]
  },
  {
   "cell_type": "markdown",
   "metadata": {},
   "source": [
    "[Project Guidance] **Procedure**\n",
    "\n",
    "- Create a square matrix $P$ of random numbers.\n",
    "- Check that it is invertible. If not, repeat the first point until we get an invertible matrix.\n",
    "- Obfuscate our data by multiplying the numerical features by the invertible matrix 𝑃. <! your comment here !>\n",
    "- Use $XP$ as the new feature matrix"
   ]
  },
  {
   "cell_type": "code",
   "execution_count": 256,
   "metadata": {},
   "outputs": [],
   "source": [
    "# split the original data into training and test datasets\n",
    "X = data[['age', 'gender', 'income', 'family_members']].to_numpy()\n",
    "y = data['insurance_benefits'].to_numpy()\n",
    "\n",
    "X_train, X_test, y_train, y_test = train_test_split(X, y, test_size=0.3, random_state=12345)"
   ]
  },
  {
   "cell_type": "code",
   "execution_count": 259,
   "metadata": {},
   "outputs": [
    {
     "name": "stdout",
     "output_type": "stream",
     "text": [
      "X_train shape: (3500, 4)\n",
      "y_train shape: (3500,)\n",
      "X_test shape: (1500, 4)\n",
      "y_test shape: (1500,)\n"
     ]
    }
   ],
   "source": [
    "print('X_train shape:', X_train.shape)\n",
    "print('y_train shape:', y_train.shape)\n",
    "print('X_test shape:', X_test.shape)\n",
    "print('y_test shape:', y_test.shape)"
   ]
  },
  {
   "cell_type": "code",
   "execution_count": 260,
   "metadata": {},
   "outputs": [
    {
     "data": {
      "text/plain": [
       "array([[0.77395605, 0.43887844, 0.85859792, 0.69736803],\n",
       "       [0.09417735, 0.97562235, 0.7611397 , 0.78606431],\n",
       "       [0.12811363, 0.45038594, 0.37079802, 0.92676499],\n",
       "       [0.64386512, 0.82276161, 0.4434142 , 0.22723872]])"
      ]
     },
     "execution_count": 260,
     "metadata": {},
     "output_type": "execute_result"
    }
   ],
   "source": [
    "# create a square matrix 𝑃 of random numbers\n",
    "rng = np.random.default_rng(seed=42)\n",
    "P = rng.random(size=(X_train.shape[1], X_train.shape[1]))\n",
    "P # P is an n x n matrix where n=4"
   ]
  },
  {
   "cell_type": "code",
   "execution_count": 261,
   "metadata": {},
   "outputs": [
    {
     "name": "stdout",
     "output_type": "stream",
     "text": [
      "inverse matrix of P:\n",
      "[[ 0.41467992 -1.43783972  0.62798546  1.14001268]\n",
      " [-1.06101789  0.44219337  0.1329549   1.18425933]\n",
      " [ 1.42362442  1.60461607 -2.0553823  -1.53699695]\n",
      " [-0.11128575 -0.65813802  1.74995517 -0.11816316]]\n"
     ]
    }
   ],
   "source": [
    "# find the inverse matrix of P - if the matrix is non-invertible, an error will be issued\n",
    "P_inverse = np.linalg.inv(P) # no error is issued\n",
    "print('inverse matrix of P:')\n",
    "print(P_inverse)"
   ]
  },
  {
   "cell_type": "code",
   "execution_count": 264,
   "metadata": {},
   "outputs": [],
   "source": [
    "# prepare an obfuscated version of the training and test datasets by multiplying the numerical features by the invertible matrix P\n",
    "X_train_obf = X_train @ P\n",
    "X_test_obf = X_test @ P"
   ]
  },
  {
   "cell_type": "code",
   "execution_count": 282,
   "metadata": {},
   "outputs": [
    {
     "name": "stdout",
     "output_type": "stream",
     "text": [
      "RMSE: 0.34\n",
      "R2: 0.43\n",
      "square root of R2: 0.66\n"
     ]
    }
   ],
   "source": [
    "# the benchmark - train the linear regression model on the non-obfuscated training dataset and test on the test dataset\n",
    "lr_reg = LinearRegression()\n",
    "lr_reg.fit(X_train, y_train)\n",
    "y_test_pred_reg = lr_reg.predict(X_test)\n",
    "eval_regressor(y_test, y_test_pred_reg)"
   ]
  },
  {
   "cell_type": "code",
   "execution_count": 285,
   "metadata": {},
   "outputs": [
    {
     "name": "stdout",
     "output_type": "stream",
     "text": [
      "RMSE: 0.34\n",
      "R2: 0.43\n",
      "square root of R2: 0.66\n"
     ]
    }
   ],
   "source": [
    "# train the model on the obfuscated training dataset and test on the obfuscated test dataset\n",
    "lr_obf = LinearRegression()\n",
    "lr_obf.fit(X_train_obf, y_train)\n",
    "y_test_pred_obf = lr_obf.predict(X_test_obf)\n",
    "eval_regressor(y_test, y_test_pred_obf)"
   ]
  },
  {
   "cell_type": "code",
   "execution_count": 286,
   "metadata": {},
   "outputs": [
    {
     "name": "stdout",
     "output_type": "stream",
     "text": [
      "RMSE: 3917.60\n",
      "R2: -74048378.09\n",
      "square root of R2: nan\n"
     ]
    }
   ],
   "source": [
    "# train the model on the obfuscated training dataset and test on the non-obfuscated test dataset\n",
    "lr_obf2 = LinearRegression()\n",
    "lr_obf2.fit(X_train_obf, y_train)\n",
    "y_test_pred_obf2 = lr_obf2.predict(X_test)\n",
    "eval_regressor(y_test, y_test_pred_obf2)"
   ]
  },
  {
   "cell_type": "markdown",
   "metadata": {},
   "source": [
    "* Training and test datasets are both not obfuscated: this is the scenario from earlier where data masking is not applied. \n",
    "\n",
    "* Training and test datasets are both obfuscated: the performance quality was identical to the benchmark. \n",
    "\n",
    "\n",
    "* Training dataset is obfuscated but the test dataset is not: the model did absolutely terribly. The regression line shows an immensely bad fit. The R squared is a negative figure and therefore its square root was incalculable. \n",
    "\n",
    "\n",
    "<br>It is good that the model can be trained on obfuscated data to comply with GDPR and APPI and other personal information protection regulations. But if the model has been trained on obfuscated data, then the test dataset (or the real data in production) must be obfuscated, too. "
   ]
  },
  {
   "cell_type": "markdown",
   "metadata": {},
   "source": [
    "<div class=\"alert alert-warning\">\n",
    "<b>Reviewer's comment</b>\n",
    "\t  \n",
    "Great, you confirmed with an expriment that our data obfuscation algorithm works. \n",
    "    \n",
    "> It is good that the model can be trained on obfuscated data to comply with GDPR and APPI and other personal information protection regulations. But if the model has been trained on obfuscated data, then the test dataset (or the real data in production) must be obfuscated, too.\n",
    "    \n",
    "Yes, it seems kind of obvious: if you apply some kind of transformation on the train set (scaling, obfuscation, etc.), you need to apply the same transformation to any data you want to apply your model to. The very basic principle of machine learning is that models only work when the data comes from the same (or at least a very similar) distribution as the train data.\n",
    "\t  \n",
    "</div>"
   ]
  },
  {
   "cell_type": "markdown",
   "metadata": {},
   "source": [
    "<div class=\"alert alert-info\" role=\"alert\">\n",
    "<b>Student's Comment v.2</b>\n",
    "\n",
    "<br>I liked your basic principle in a nutshell very much. That is why we check distributions all the time.  \n",
    "    \n",
    "</div>"
   ]
  },
  {
   "cell_type": "markdown",
   "metadata": {},
   "source": [
    "<div class=\"alert alert-success\">\n",
    "<b>Reviewer's comment V2</b>\n",
    "\t  \n",
    "Yep! \n",
    "\t  \n",
    "</div>"
   ]
  },
  {
   "cell_type": "markdown",
   "metadata": {},
   "source": [
    "# Draw conclusions based on your experience working on the project "
   ]
  },
  {
   "cell_type": "markdown",
   "metadata": {},
   "source": [
    "* Finding similarity between data points\n",
    "<br>o The K Nearest Neighbours regression model can be used to find similarity between data items. \n",
    "<br>o The Manhattan distance metric seems to produce a more accurate result than the Euclidean. \n",
    "<br>o When the data is scaled, the model produces more similar result between the different distance metrics used. The Euclidean distance metric, seems to prefer the data being scaled. \n",
    "\n",
    "\n",
    "* Predicting the target by turning the original regression problem into a multi-class classification problem\n",
    "<br>o Classification metrics cannot be used to measure model performance on regression problems.\n",
    "<br>o Using scaled data visibly increases the model's prediction ability.\n",
    "\n",
    "\n",
    "* Scaling the data makes the parameter weights more readable to human eye and increases the model interpretability. \n",
    "\n",
    "\n",
    "* Matrix transformation can be used to protect personal information by data masking.\n",
    "* The Linear Regression model can handle obfuscated data as well as non-obfuscated data.\n",
    "* The result of performance metrics such as RMSE are the same regardless of whether the data is obfuscated because the matrix transformation does not touch the target variable. "
   ]
  },
  {
   "cell_type": "markdown",
   "metadata": {},
   "source": [
    "<div class=\"alert alert-success\">\n",
    "<b>Reviewer's comment V</b>\n",
    "\t  \n",
    "Great!\n",
    "    \n",
    "</div>"
   ]
  },
  {
   "cell_type": "markdown",
   "metadata": {},
   "source": [
    "# Checklist"
   ]
  },
  {
   "cell_type": "markdown",
   "metadata": {},
   "source": [
    "Type 'x' to check. Then press Shift+Enter."
   ]
  },
  {
   "cell_type": "markdown",
   "metadata": {},
   "source": [
    "- [x]  Jupyter Notebook is open\n",
    "- [x]  Code is error free\n",
    "- [x]  The cells are arranged in order of logic and execution\n",
    "- [x]  Task 1 has been performed\n",
    "    - [x]  There is the procedure that can return k similar customers for a given one\n",
    "    - [x]  The procedure is tested for all four proposed combinations\n",
    "    - [x]  The questions re the scaling/distances are answered\n",
    "- [x]  Task 2 has been performed\n",
    "    - [x]  The random classification model is built and tested for all for probability levels\n",
    "    - [x]  The kNN classification model is built and tested for both the original data and the scaled one, the F1 metric is calculated.\n",
    "- [x]  Task 3 has been performed\n",
    "    - [x]  The linear tegression solution is implemented with matrix operations.\n",
    "    - [x]  RMSE is calculated for the implemented solution.\n",
    "- [x]  Task 4 has been performed\n",
    "    - [x]  The data is obfuscated with a random and invertible matrix P\n",
    "    - [x]  The obfuscated data is recoved, few examples are printed out\n",
    "    - [x]  The analytical proof that the transformation does not affect RMSE is provided \n",
    "    - [x]  The computational proof that the transformation does not affect RMSE is provided\n",
    "- [x]  Conclusions have been made"
   ]
  },
  {
   "cell_type": "markdown",
   "metadata": {},
   "source": [
    "# Appendices \n",
    "\n",
    "## Appendix A: Writing Formulas in Jupyter Notebooks"
   ]
  },
  {
   "cell_type": "markdown",
   "metadata": {},
   "source": [
    "You can write formulas in your Jupyter Notebook in a markup language provided by a high-quality publishing system called $\\LaTeX$ (pronounced \"Lah-tech\"), and they will look like formulas in textbooks.\n",
    "\n",
    "To put a formula in a text, put the dollar sign (\\\\$) before and after the formula's text e.g. $\\frac{1}{2} \\times \\frac{3}{2} = \\frac{3}{4}$ or $y = x^2, x \\ge 1$.\n",
    "\n",
    "If a formula should be in its own paragraph, put the double dollar sign (\\\\$\\\\$) before and after the formula text e.g.\n",
    "\n",
    "$$\n",
    "\\bar{x} = \\frac{1}{n}\\sum_{i=1}^{n} x_i.\n",
    "$$\n",
    "\n",
    "The markup language of [LaTeX](https://en.wikipedia.org/wiki/LaTeX) is very popular among people who use formulas in their articles, books and texts. It can be complex but its basics are easy. Check this two page [cheatsheet](http://tug.ctan.org/info/undergradmath/undergradmath.pdf) for learning how to compose the most common formulas."
   ]
  },
  {
   "cell_type": "markdown",
   "metadata": {},
   "source": [
    "## Appendix B: Properties of Matrices"
   ]
  },
  {
   "cell_type": "markdown",
   "metadata": {},
   "source": [
    "Matrices have many properties in Linear Algebra. A few of them are listed here which can help with the analytical proof in this project."
   ]
  },
  {
   "cell_type": "markdown",
   "metadata": {},
   "source": [
    "<table>\n",
    "<tr>\n",
    "<td>Distributivity</td><td>$A(B+C)=AB+AC$</td>\n",
    "</tr>\n",
    "<tr>\n",
    "<td>Non-commutativity</td><td>$AB \\neq BA$</td>\n",
    "</tr>\n",
    "<tr>\n",
    "<td>Associative property of multiplication</td><td>$(AB)C = A(BC)$</td>\n",
    "</tr>\n",
    "<tr>\n",
    "<td>Multiplicative identity property</td><td>$IA = AI = A$</td>\n",
    "</tr>\n",
    "<tr>\n",
    "<td></td><td>$A^{-1}A = AA^{-1} = I$\n",
    "</td>\n",
    "</tr>    \n",
    "<tr>\n",
    "<td></td><td>$(AB)^{-1} = B^{-1}A^{-1}$</td>\n",
    "</tr>    \n",
    "<tr>\n",
    "<td>Reversivity of the transpose of a product of matrices,</td><td>$(AB)^T = B^TA^T$</td>\n",
    "</tr>    \n",
    "</table>"
   ]
  },
  {
   "cell_type": "code",
   "execution_count": null,
   "metadata": {},
   "outputs": [],
   "source": []
  }
 ],
 "metadata": {
  "ExecuteTimeLog": [
   {
    "duration": 7251,
    "start_time": "2021-10-30T21:17:02.303Z"
   },
   {
    "duration": 1307,
    "start_time": "2021-10-30T21:17:09.556Z"
   },
   {
    "duration": 223,
    "start_time": "2021-10-30T21:18:02.137Z"
   },
   {
    "duration": 16,
    "start_time": "2021-10-30T21:18:02.734Z"
   },
   {
    "duration": 215,
    "start_time": "2021-10-30T21:18:10.197Z"
   },
   {
    "duration": 5,
    "start_time": "2021-10-30T21:18:54.127Z"
   },
   {
    "duration": 10,
    "start_time": "2021-10-30T21:19:06.342Z"
   },
   {
    "duration": 8,
    "start_time": "2021-10-30T21:19:08.797Z"
   },
   {
    "duration": 4,
    "start_time": "2021-10-30T21:20:51.208Z"
   },
   {
    "duration": 7,
    "start_time": "2021-10-30T21:20:54.959Z"
   },
   {
    "duration": 8,
    "start_time": "2021-10-30T21:21:15.760Z"
   },
   {
    "duration": 370,
    "start_time": "2021-10-30T21:21:32.278Z"
   },
   {
    "duration": 260,
    "start_time": "2021-10-30T21:21:37.792Z"
   },
   {
    "duration": 3370,
    "start_time": "2021-10-30T21:21:53.271Z"
   },
   {
    "duration": 277,
    "start_time": "2021-10-30T21:22:03.279Z"
   },
   {
    "duration": 2663,
    "start_time": "2021-10-30T21:22:39.767Z"
   },
   {
    "duration": 272,
    "start_time": "2021-10-30T21:22:48.982Z"
   },
   {
    "duration": 2593,
    "start_time": "2021-10-30T21:23:24.449Z"
   },
   {
    "duration": 242,
    "start_time": "2021-10-30T21:23:42.248Z"
   },
   {
    "duration": 2737,
    "start_time": "2021-10-30T21:24:11.032Z"
   },
   {
    "duration": 4163,
    "start_time": "2021-10-30T21:24:16.241Z"
   },
   {
    "duration": 181,
    "start_time": "2021-10-30T21:24:25.016Z"
   },
   {
    "duration": 17,
    "start_time": "2021-10-30T21:24:25.985Z"
   },
   {
    "duration": 185,
    "start_time": "2021-10-30T21:24:27.000Z"
   },
   {
    "duration": 5,
    "start_time": "2021-10-30T21:24:28.495Z"
   },
   {
    "duration": 10,
    "start_time": "2021-10-30T21:24:28.984Z"
   },
   {
    "duration": 6,
    "start_time": "2021-10-30T21:24:29.471Z"
   },
   {
    "duration": 9,
    "start_time": "2021-10-30T21:24:30.039Z"
   },
   {
    "duration": 215,
    "start_time": "2021-10-30T21:24:30.632Z"
   },
   {
    "duration": 7105,
    "start_time": "2021-10-30T21:25:36.920Z"
   },
   {
    "duration": 250,
    "start_time": "2021-10-30T21:25:55.289Z"
   },
   {
    "duration": 206,
    "start_time": "2021-10-30T21:26:02.760Z"
   },
   {
    "duration": 966,
    "start_time": "2021-10-30T21:26:34.920Z"
   },
   {
    "duration": 536,
    "start_time": "2021-10-30T21:27:03.305Z"
   },
   {
    "duration": 1118,
    "start_time": "2021-10-30T21:27:30.793Z"
   },
   {
    "duration": 1311,
    "start_time": "2021-10-30T21:27:44.648Z"
   },
   {
    "duration": 11986,
    "start_time": "2021-10-30T21:29:21.497Z"
   },
   {
    "duration": 12262,
    "start_time": "2021-10-30T21:30:19.169Z"
   },
   {
    "duration": 480,
    "start_time": "2021-10-30T21:30:31.649Z"
   },
   {
    "duration": 12616,
    "start_time": "2021-10-30T21:30:42.601Z"
   },
   {
    "duration": 12191,
    "start_time": "2021-10-30T21:31:06.314Z"
   },
   {
    "duration": 13140,
    "start_time": "2021-10-30T21:32:41.505Z"
   },
   {
    "duration": 12231,
    "start_time": "2021-10-30T21:32:55.928Z"
   },
   {
    "duration": 12696,
    "start_time": "2021-10-30T21:33:19.041Z"
   },
   {
    "duration": 12410,
    "start_time": "2021-10-30T21:34:47.891Z"
   },
   {
    "duration": 12672,
    "start_time": "2021-10-30T21:36:48.772Z"
   },
   {
    "duration": 12434,
    "start_time": "2021-10-30T21:37:21.819Z"
   },
   {
    "duration": 13155,
    "start_time": "2021-10-30T21:37:48.572Z"
   },
   {
    "duration": 12594,
    "start_time": "2021-10-30T21:38:42.453Z"
   },
   {
    "duration": 7887,
    "start_time": "2021-10-31T08:10:44.182Z"
   },
   {
    "duration": 3912,
    "start_time": "2021-10-31T08:10:52.071Z"
   },
   {
    "duration": 151,
    "start_time": "2021-10-31T08:10:55.986Z"
   },
   {
    "duration": 16,
    "start_time": "2021-10-31T08:10:56.139Z"
   },
   {
    "duration": 123,
    "start_time": "2021-10-31T08:10:56.157Z"
   },
   {
    "duration": 4,
    "start_time": "2021-10-31T08:10:56.282Z"
   },
   {
    "duration": 13,
    "start_time": "2021-10-31T08:10:56.287Z"
   },
   {
    "duration": 6,
    "start_time": "2021-10-31T08:10:56.303Z"
   },
   {
    "duration": 7,
    "start_time": "2021-10-31T08:10:56.311Z"
   },
   {
    "duration": 275,
    "start_time": "2021-10-31T08:10:56.320Z"
   },
   {
    "duration": -375,
    "start_time": "2021-10-31T08:10:56.972Z"
   },
   {
    "duration": -381,
    "start_time": "2021-10-31T08:10:56.979Z"
   },
   {
    "duration": -386,
    "start_time": "2021-10-31T08:10:56.986Z"
   },
   {
    "duration": -396,
    "start_time": "2021-10-31T08:10:56.997Z"
   },
   {
    "duration": -400,
    "start_time": "2021-10-31T08:10:57.003Z"
   },
   {
    "duration": -404,
    "start_time": "2021-10-31T08:10:57.008Z"
   },
   {
    "duration": 3,
    "start_time": "2021-10-31T08:14:44.935Z"
   },
   {
    "duration": 2298,
    "start_time": "2021-10-31T08:17:23.837Z"
   },
   {
    "duration": 3372,
    "start_time": "2021-10-31T08:17:27.157Z"
   },
   {
    "duration": 130,
    "start_time": "2021-10-31T08:17:33.013Z"
   },
   {
    "duration": 16,
    "start_time": "2021-10-31T08:17:33.399Z"
   },
   {
    "duration": 128,
    "start_time": "2021-10-31T08:17:34.028Z"
   },
   {
    "duration": 5,
    "start_time": "2021-10-31T08:17:34.732Z"
   },
   {
    "duration": 11,
    "start_time": "2021-10-31T08:17:35.045Z"
   },
   {
    "duration": 6,
    "start_time": "2021-10-31T08:17:35.389Z"
   },
   {
    "duration": 7,
    "start_time": "2021-10-31T08:17:35.652Z"
   },
   {
    "duration": 194,
    "start_time": "2021-10-31T08:17:36.012Z"
   },
   {
    "duration": 210,
    "start_time": "2021-10-31T08:17:36.332Z"
   },
   {
    "duration": 187,
    "start_time": "2021-10-31T08:17:36.636Z"
   },
   {
    "duration": 848,
    "start_time": "2021-10-31T08:17:36.940Z"
   },
   {
    "duration": 1067,
    "start_time": "2021-10-31T08:17:37.792Z"
   },
   {
    "duration": 10655,
    "start_time": "2021-10-31T08:17:38.861Z"
   },
   {
    "duration": 399,
    "start_time": "2021-10-31T08:17:49.518Z"
   },
   {
    "duration": 3,
    "start_time": "2021-10-31T08:17:55.188Z"
   },
   {
    "duration": 4,
    "start_time": "2021-10-31T08:27:08.485Z"
   },
   {
    "duration": 123,
    "start_time": "2021-10-31T08:31:29.725Z"
   },
   {
    "duration": 11,
    "start_time": "2021-10-31T08:31:35.464Z"
   },
   {
    "duration": 133,
    "start_time": "2021-10-31T08:31:41.438Z"
   },
   {
    "duration": 5,
    "start_time": "2021-10-31T08:31:46.133Z"
   },
   {
    "duration": 10,
    "start_time": "2021-10-31T08:31:50.422Z"
   },
   {
    "duration": 7,
    "start_time": "2021-10-31T08:31:54.940Z"
   },
   {
    "duration": 7,
    "start_time": "2021-10-31T08:32:02.981Z"
   },
   {
    "duration": 199,
    "start_time": "2021-10-31T08:32:06.126Z"
   },
   {
    "duration": 237,
    "start_time": "2021-10-31T08:32:07.957Z"
   },
   {
    "duration": 214,
    "start_time": "2021-10-31T08:32:11.805Z"
   },
   {
    "duration": 195,
    "start_time": "2021-10-31T08:32:14.596Z"
   },
   {
    "duration": 188,
    "start_time": "2021-10-31T08:32:22.436Z"
   },
   {
    "duration": 969,
    "start_time": "2021-10-31T08:32:30.645Z"
   },
   {
    "duration": 988,
    "start_time": "2021-10-31T08:32:38.261Z"
   },
   {
    "duration": 10684,
    "start_time": "2021-10-31T08:32:43.286Z"
   },
   {
    "duration": 444,
    "start_time": "2021-10-31T08:32:53.971Z"
   },
   {
    "duration": 131,
    "start_time": "2021-10-31T08:33:17.870Z"
   },
   {
    "duration": 12,
    "start_time": "2021-10-31T08:33:21.949Z"
   },
   {
    "duration": 126,
    "start_time": "2021-10-31T08:33:26.181Z"
   },
   {
    "duration": 5,
    "start_time": "2021-10-31T08:33:29.460Z"
   },
   {
    "duration": 10,
    "start_time": "2021-10-31T08:33:32.349Z"
   },
   {
    "duration": 7,
    "start_time": "2021-10-31T08:33:34.268Z"
   },
   {
    "duration": 1151,
    "start_time": "2021-10-31T08:33:44.133Z"
   },
   {
    "duration": 874,
    "start_time": "2021-10-31T08:33:49.253Z"
   },
   {
    "duration": 185,
    "start_time": "2021-10-31T08:33:53.797Z"
   },
   {
    "duration": 222,
    "start_time": "2021-10-31T08:33:56.149Z"
   },
   {
    "duration": 195,
    "start_time": "2021-10-31T08:33:59.020Z"
   },
   {
    "duration": 7,
    "start_time": "2021-10-31T08:34:03.029Z"
   },
   {
    "duration": 11028,
    "start_time": "2021-10-31T08:34:15.011Z"
   },
   {
    "duration": 455,
    "start_time": "2021-10-31T08:34:26.041Z"
   },
   {
    "duration": 10,
    "start_time": "2021-10-31T08:36:46.013Z"
   },
   {
    "duration": 10,
    "start_time": "2021-10-31T08:36:47.222Z"
   },
   {
    "duration": 3,
    "start_time": "2021-10-31T08:51:34.118Z"
   },
   {
    "duration": 5,
    "start_time": "2021-10-31T08:59:06.478Z"
   },
   {
    "duration": 7,
    "start_time": "2021-10-31T09:01:11.478Z"
   },
   {
    "duration": 9,
    "start_time": "2021-10-31T09:01:58.727Z"
   },
   {
    "duration": 8,
    "start_time": "2021-10-31T09:07:14.566Z"
   },
   {
    "duration": 4,
    "start_time": "2021-10-31T09:07:21.969Z"
   },
   {
    "duration": 8,
    "start_time": "2021-10-31T09:07:26.414Z"
   },
   {
    "duration": 5,
    "start_time": "2021-10-31T09:07:30.758Z"
   },
   {
    "duration": 8,
    "start_time": "2021-10-31T09:07:34.103Z"
   },
   {
    "duration": 4,
    "start_time": "2021-10-31T09:07:37.279Z"
   },
   {
    "duration": 5,
    "start_time": "2021-10-31T09:30:50.281Z"
   },
   {
    "duration": 8,
    "start_time": "2021-10-31T09:31:10.432Z"
   },
   {
    "duration": 4,
    "start_time": "2021-10-31T09:31:11.040Z"
   },
   {
    "duration": 5,
    "start_time": "2021-10-31T09:40:35.088Z"
   },
   {
    "duration": 435,
    "start_time": "2021-10-31T09:40:41.320Z"
   },
   {
    "duration": 441,
    "start_time": "2021-10-31T09:41:19.504Z"
   },
   {
    "duration": -354,
    "start_time": "2021-10-31T09:41:20.301Z"
   },
   {
    "duration": 4,
    "start_time": "2021-10-31T09:46:52.178Z"
   },
   {
    "duration": 272,
    "start_time": "2021-10-31T09:46:54.351Z"
   },
   {
    "duration": 196,
    "start_time": "2021-10-31T09:47:12.800Z"
   },
   {
    "duration": 183,
    "start_time": "2021-10-31T09:47:34.873Z"
   },
   {
    "duration": 189,
    "start_time": "2021-10-31T09:47:57.792Z"
   },
   {
    "duration": 8991,
    "start_time": "2021-10-31T12:16:03.119Z"
   },
   {
    "duration": 4723,
    "start_time": "2021-10-31T12:16:13.430Z"
   },
   {
    "duration": 250,
    "start_time": "2021-10-31T12:16:53.458Z"
   },
   {
    "duration": 16,
    "start_time": "2021-10-31T12:16:53.999Z"
   },
   {
    "duration": 238,
    "start_time": "2021-10-31T12:16:54.717Z"
   },
   {
    "duration": 5,
    "start_time": "2021-10-31T12:16:55.286Z"
   },
   {
    "duration": 10,
    "start_time": "2021-10-31T12:16:55.543Z"
   },
   {
    "duration": 6,
    "start_time": "2021-10-31T12:16:55.775Z"
   },
   {
    "duration": 7,
    "start_time": "2021-10-31T12:16:55.966Z"
   },
   {
    "duration": 433,
    "start_time": "2021-10-31T12:16:56.176Z"
   },
   {
    "duration": 40,
    "start_time": "2021-10-31T12:16:56.571Z"
   },
   {
    "duration": 31,
    "start_time": "2021-10-31T12:16:56.581Z"
   },
   {
    "duration": 658,
    "start_time": "2021-10-31T12:16:57.022Z"
   },
   {
    "duration": -37,
    "start_time": "2021-10-31T12:16:57.719Z"
   },
   {
    "duration": 7473,
    "start_time": "2021-10-31T12:16:58.749Z"
   },
   {
    "duration": 440,
    "start_time": "2021-10-31T12:17:06.224Z"
   },
   {
    "duration": 4,
    "start_time": "2021-10-31T12:17:07.976Z"
   },
   {
    "duration": 8,
    "start_time": "2021-10-31T12:17:08.248Z"
   },
   {
    "duration": 5,
    "start_time": "2021-10-31T12:17:08.542Z"
   },
   {
    "duration": 5,
    "start_time": "2021-10-31T12:18:52.397Z"
   },
   {
    "duration": 378,
    "start_time": "2021-10-31T12:18:53.558Z"
   },
   {
    "duration": 3,
    "start_time": "2021-10-31T12:21:48.207Z"
   },
   {
    "duration": 11,
    "start_time": "2021-10-31T12:22:00.135Z"
   },
   {
    "duration": 9,
    "start_time": "2021-10-31T12:22:17.717Z"
   },
   {
    "duration": 5,
    "start_time": "2021-10-31T12:22:26.205Z"
   },
   {
    "duration": 10,
    "start_time": "2021-10-31T12:23:01.590Z"
   },
   {
    "duration": 10,
    "start_time": "2021-10-31T12:23:09.021Z"
   },
   {
    "duration": 357,
    "start_time": "2021-10-31T12:24:32.647Z"
   },
   {
    "duration": 358,
    "start_time": "2021-10-31T12:26:14.536Z"
   },
   {
    "duration": 3,
    "start_time": "2021-10-31T12:26:21.160Z"
   },
   {
    "duration": 6,
    "start_time": "2021-10-31T12:26:21.677Z"
   },
   {
    "duration": 7,
    "start_time": "2021-10-31T12:26:23.246Z"
   },
   {
    "duration": 10,
    "start_time": "2021-10-31T12:26:34.718Z"
   },
   {
    "duration": 10,
    "start_time": "2021-10-31T12:26:49.703Z"
   },
   {
    "duration": 529,
    "start_time": "2021-10-31T12:29:12.006Z"
   },
   {
    "duration": 449,
    "start_time": "2021-10-31T12:31:15.222Z"
   },
   {
    "duration": 12,
    "start_time": "2021-10-31T12:31:53.950Z"
   },
   {
    "duration": 11,
    "start_time": "2021-10-31T12:32:35.015Z"
   },
   {
    "duration": 4,
    "start_time": "2021-10-31T12:32:46.326Z"
   },
   {
    "duration": 17,
    "start_time": "2021-10-31T12:33:03.741Z"
   },
   {
    "duration": 5,
    "start_time": "2021-10-31T12:34:24.078Z"
   },
   {
    "duration": 22,
    "start_time": "2021-10-31T12:34:24.866Z"
   },
   {
    "duration": 5,
    "start_time": "2021-10-31T12:36:57.247Z"
   },
   {
    "duration": 23,
    "start_time": "2021-10-31T12:36:58.184Z"
   },
   {
    "duration": 5,
    "start_time": "2021-10-31T12:41:59.734Z"
   },
   {
    "duration": 25,
    "start_time": "2021-10-31T12:42:00.242Z"
   },
   {
    "duration": 5,
    "start_time": "2021-10-31T12:43:52.830Z"
   },
   {
    "duration": 27,
    "start_time": "2021-10-31T12:43:53.208Z"
   },
   {
    "duration": 5,
    "start_time": "2021-10-31T12:45:10.359Z"
   },
   {
    "duration": 26,
    "start_time": "2021-10-31T12:45:10.871Z"
   },
   {
    "duration": 6,
    "start_time": "2021-10-31T12:46:29.767Z"
   },
   {
    "duration": 33,
    "start_time": "2021-10-31T12:46:30.224Z"
   },
   {
    "duration": 8,
    "start_time": "2021-10-31T12:50:08.959Z"
   },
   {
    "duration": 28,
    "start_time": "2021-10-31T12:50:09.537Z"
   },
   {
    "duration": 126,
    "start_time": "2021-10-31T12:50:50.793Z"
   },
   {
    "duration": 29,
    "start_time": "2021-10-31T12:50:51.169Z"
   },
   {
    "duration": 5,
    "start_time": "2021-10-31T12:51:47.840Z"
   },
   {
    "duration": 34,
    "start_time": "2021-10-31T12:51:47.847Z"
   },
   {
    "duration": 5,
    "start_time": "2021-10-31T12:56:39.721Z"
   },
   {
    "duration": 36,
    "start_time": "2021-10-31T12:56:40.049Z"
   },
   {
    "duration": 8,
    "start_time": "2021-10-31T12:57:00.384Z"
   },
   {
    "duration": 1273,
    "start_time": "2021-10-31T12:57:00.607Z"
   },
   {
    "duration": 6,
    "start_time": "2021-10-31T12:57:18.682Z"
   },
   {
    "duration": 27,
    "start_time": "2021-10-31T12:57:18.937Z"
   },
   {
    "duration": 5,
    "start_time": "2021-10-31T12:58:41.776Z"
   },
   {
    "duration": 5,
    "start_time": "2021-10-31T12:59:00.760Z"
   },
   {
    "duration": 6,
    "start_time": "2021-10-31T12:59:07.095Z"
   },
   {
    "duration": 339,
    "start_time": "2021-10-31T12:59:14.080Z"
   },
   {
    "duration": 6,
    "start_time": "2021-10-31T12:59:23.704Z"
   },
   {
    "duration": 5,
    "start_time": "2021-10-31T12:59:29.919Z"
   },
   {
    "duration": 5,
    "start_time": "2021-10-31T12:59:35.679Z"
   },
   {
    "duration": 6,
    "start_time": "2021-10-31T13:01:18.801Z"
   },
   {
    "duration": 24,
    "start_time": "2021-10-31T13:01:19.000Z"
   },
   {
    "duration": 5,
    "start_time": "2021-10-31T13:02:40.392Z"
   },
   {
    "duration": 24,
    "start_time": "2021-10-31T13:02:40.753Z"
   },
   {
    "duration": 5,
    "start_time": "2021-10-31T13:03:13.137Z"
   },
   {
    "duration": 20,
    "start_time": "2021-10-31T13:03:14.513Z"
   },
   {
    "duration": 24,
    "start_time": "2021-10-31T13:03:37.321Z"
   },
   {
    "duration": 26,
    "start_time": "2021-10-31T13:03:47.153Z"
   },
   {
    "duration": 357,
    "start_time": "2021-10-31T13:04:58.440Z"
   },
   {
    "duration": 9037,
    "start_time": "2021-10-31T13:05:03.128Z"
   },
   {
    "duration": 6,
    "start_time": "2021-10-31T13:05:58.529Z"
   },
   {
    "duration": 6,
    "start_time": "2021-10-31T13:10:08.825Z"
   },
   {
    "duration": 5,
    "start_time": "2021-10-31T13:10:09.241Z"
   },
   {
    "duration": 24,
    "start_time": "2021-10-31T13:10:09.778Z"
   },
   {
    "duration": 5,
    "start_time": "2021-10-31T13:13:59.994Z"
   },
   {
    "duration": 6,
    "start_time": "2021-10-31T13:14:31.105Z"
   },
   {
    "duration": 24,
    "start_time": "2021-10-31T13:15:25.730Z"
   },
   {
    "duration": 25,
    "start_time": "2021-10-31T13:15:37.985Z"
   },
   {
    "duration": 28,
    "start_time": "2021-10-31T13:15:40.218Z"
   },
   {
    "duration": 5,
    "start_time": "2021-10-31T13:15:40.552Z"
   },
   {
    "duration": 25,
    "start_time": "2021-10-31T13:15:42.657Z"
   },
   {
    "duration": 25,
    "start_time": "2021-10-31T13:16:46.257Z"
   },
   {
    "duration": 691,
    "start_time": "2021-10-31T13:18:18.020Z"
   },
   {
    "duration": 5,
    "start_time": "2021-10-31T13:20:10.457Z"
   },
   {
    "duration": 9,
    "start_time": "2021-10-31T13:20:37.921Z"
   },
   {
    "duration": 6,
    "start_time": "2021-10-31T13:21:02.146Z"
   },
   {
    "duration": 480,
    "start_time": "2021-10-31T13:21:16.881Z"
   },
   {
    "duration": 3,
    "start_time": "2021-10-31T13:28:19.106Z"
   },
   {
    "duration": 5,
    "start_time": "2021-10-31T13:28:20.678Z"
   },
   {
    "duration": 5,
    "start_time": "2021-10-31T13:28:22.650Z"
   },
   {
    "duration": 437,
    "start_time": "2021-10-31T13:28:24.022Z"
   },
   {
    "duration": 758,
    "start_time": "2021-10-31T13:28:26.162Z"
   },
   {
    "duration": 5,
    "start_time": "2021-10-31T13:28:36.419Z"
   },
   {
    "duration": 6,
    "start_time": "2021-10-31T13:28:36.858Z"
   },
   {
    "duration": 367,
    "start_time": "2021-10-31T13:28:37.220Z"
   },
   {
    "duration": 717,
    "start_time": "2021-10-31T13:28:37.706Z"
   },
   {
    "duration": 6,
    "start_time": "2021-10-31T13:28:38.682Z"
   },
   {
    "duration": 11,
    "start_time": "2021-10-31T13:28:39.970Z"
   },
   {
    "duration": 11,
    "start_time": "2021-10-31T13:29:07.738Z"
   },
   {
    "duration": 692,
    "start_time": "2021-10-31T13:29:32.418Z"
   },
   {
    "duration": 996,
    "start_time": "2021-10-31T13:29:41.778Z"
   },
   {
    "duration": 5,
    "start_time": "2021-10-31T13:29:55.098Z"
   },
   {
    "duration": 20,
    "start_time": "2021-10-31T13:29:59.331Z"
   },
   {
    "duration": 4,
    "start_time": "2021-10-31T13:30:45.322Z"
   },
   {
    "duration": 5,
    "start_time": "2021-10-31T13:31:28.534Z"
   },
   {
    "duration": 1380,
    "start_time": "2021-10-31T13:31:43.714Z"
   },
   {
    "duration": 4,
    "start_time": "2021-10-31T13:34:27.438Z"
   },
   {
    "duration": 741,
    "start_time": "2021-10-31T13:34:29.730Z"
   },
   {
    "duration": 3332,
    "start_time": "2021-10-31T13:36:50.844Z"
   },
   {
    "duration": 4,
    "start_time": "2021-10-31T13:37:07.746Z"
   },
   {
    "duration": 827,
    "start_time": "2021-10-31T13:37:10.010Z"
   },
   {
    "duration": 2721,
    "start_time": "2021-10-31T13:37:54.748Z"
   },
   {
    "duration": 4,
    "start_time": "2021-10-31T13:38:04.971Z"
   },
   {
    "duration": 704,
    "start_time": "2021-10-31T13:38:05.858Z"
   },
   {
    "duration": 2828,
    "start_time": "2021-10-31T13:38:50.386Z"
   },
   {
    "duration": 5,
    "start_time": "2021-10-31T13:39:00.730Z"
   },
   {
    "duration": 12,
    "start_time": "2021-10-31T13:39:01.105Z"
   },
   {
    "duration": 5,
    "start_time": "2021-10-31T13:39:01.466Z"
   },
   {
    "duration": 2,
    "start_time": "2021-10-31T13:39:06.058Z"
   },
   {
    "duration": 5,
    "start_time": "2021-10-31T13:39:06.923Z"
   },
   {
    "duration": 20,
    "start_time": "2021-10-31T13:39:14.956Z"
   },
   {
    "duration": 7,
    "start_time": "2021-10-31T13:40:28.899Z"
   },
   {
    "duration": 4115,
    "start_time": "2021-10-31T13:42:14.575Z"
   },
   {
    "duration": 255,
    "start_time": "2021-10-31T13:42:20.949Z"
   },
   {
    "duration": 17,
    "start_time": "2021-10-31T13:42:21.206Z"
   },
   {
    "duration": 231,
    "start_time": "2021-10-31T13:42:21.430Z"
   },
   {
    "duration": 5,
    "start_time": "2021-10-31T13:42:21.724Z"
   },
   {
    "duration": 10,
    "start_time": "2021-10-31T13:42:21.873Z"
   },
   {
    "duration": 6,
    "start_time": "2021-10-31T13:42:22.021Z"
   },
   {
    "duration": 8,
    "start_time": "2021-10-31T13:42:22.168Z"
   },
   {
    "duration": 208,
    "start_time": "2021-10-31T13:42:22.319Z"
   },
   {
    "duration": 252,
    "start_time": "2021-10-31T13:42:22.529Z"
   },
   {
    "duration": 206,
    "start_time": "2021-10-31T13:42:22.784Z"
   },
   {
    "duration": 936,
    "start_time": "2021-10-31T13:42:22.992Z"
   },
   {
    "duration": 1101,
    "start_time": "2021-10-31T13:42:23.930Z"
   },
   {
    "duration": 11390,
    "start_time": "2021-10-31T13:42:31.558Z"
   },
   {
    "duration": 454,
    "start_time": "2021-10-31T13:42:42.950Z"
   },
   {
    "duration": 5,
    "start_time": "2021-10-31T13:42:45.726Z"
   },
   {
    "duration": 9,
    "start_time": "2021-10-31T13:42:46.141Z"
   },
   {
    "duration": 5,
    "start_time": "2021-10-31T13:42:46.526Z"
   },
   {
    "duration": 2,
    "start_time": "2021-10-31T13:45:47.793Z"
   },
   {
    "duration": 4,
    "start_time": "2021-10-31T13:46:04.665Z"
   },
   {
    "duration": 4,
    "start_time": "2021-10-31T13:46:51.415Z"
   },
   {
    "duration": 1209,
    "start_time": "2021-10-31T13:46:54.459Z"
   },
   {
    "duration": 3208,
    "start_time": "2021-10-31T13:47:10.712Z"
   },
   {
    "duration": 3,
    "start_time": "2021-10-31T13:47:29.294Z"
   },
   {
    "duration": 4,
    "start_time": "2021-10-31T13:47:34.247Z"
   },
   {
    "duration": 8,
    "start_time": "2021-10-31T13:47:35.735Z"
   },
   {
    "duration": 711,
    "start_time": "2021-10-31T13:47:36.238Z"
   },
   {
    "duration": 2653,
    "start_time": "2021-10-31T13:48:37.660Z"
   },
   {
    "duration": 5,
    "start_time": "2021-10-31T13:48:47.600Z"
   },
   {
    "duration": 8,
    "start_time": "2021-10-31T13:48:48.046Z"
   },
   {
    "duration": 22,
    "start_time": "2021-10-31T13:48:48.375Z"
   },
   {
    "duration": 5,
    "start_time": "2021-10-31T13:49:31.654Z"
   },
   {
    "duration": 6,
    "start_time": "2021-10-31T13:49:32.127Z"
   },
   {
    "duration": 18,
    "start_time": "2021-10-31T13:49:32.552Z"
   },
   {
    "duration": 19,
    "start_time": "2021-10-31T13:51:08.231Z"
   },
   {
    "duration": 19,
    "start_time": "2021-10-31T13:51:12.152Z"
   },
   {
    "duration": 19,
    "start_time": "2021-10-31T13:51:22.016Z"
   },
   {
    "duration": 21,
    "start_time": "2021-10-31T13:51:36.215Z"
   },
   {
    "duration": 9660,
    "start_time": "2021-10-31T13:52:28.568Z"
   },
   {
    "duration": 4,
    "start_time": "2021-10-31T13:52:57.494Z"
   },
   {
    "duration": 6,
    "start_time": "2021-10-31T13:52:58.424Z"
   },
   {
    "duration": 689,
    "start_time": "2021-10-31T13:52:59.144Z"
   },
   {
    "duration": 13,
    "start_time": "2021-10-31T13:59:12.776Z"
   },
   {
    "duration": 347,
    "start_time": "2021-10-31T13:59:23.088Z"
   },
   {
    "duration": 337,
    "start_time": "2021-10-31T13:59:32.984Z"
   },
   {
    "duration": 346,
    "start_time": "2021-10-31T13:59:42.367Z"
   },
   {
    "duration": 12,
    "start_time": "2021-10-31T13:59:54.344Z"
   },
   {
    "duration": 420,
    "start_time": "2021-10-31T14:00:18.258Z"
   },
   {
    "duration": 2506,
    "start_time": "2021-10-31T14:00:41.112Z"
   },
   {
    "duration": 9,
    "start_time": "2021-10-31T14:04:02.425Z"
   },
   {
    "duration": 5,
    "start_time": "2021-10-31T14:04:51.010Z"
   },
   {
    "duration": 23,
    "start_time": "2021-10-31T14:05:04.192Z"
   },
   {
    "duration": 24,
    "start_time": "2021-10-31T14:05:23.786Z"
   },
   {
    "duration": 4,
    "start_time": "2021-10-31T14:06:10.856Z"
   },
   {
    "duration": 24,
    "start_time": "2021-10-31T14:06:12.911Z"
   },
   {
    "duration": 22,
    "start_time": "2021-10-31T14:06:28.128Z"
   },
   {
    "duration": 923,
    "start_time": "2021-10-31T14:09:03.027Z"
   },
   {
    "duration": 21,
    "start_time": "2021-10-31T14:09:19.408Z"
   },
   {
    "duration": 22,
    "start_time": "2021-10-31T14:09:23.825Z"
   },
   {
    "duration": 21,
    "start_time": "2021-10-31T14:09:24.800Z"
   },
   {
    "duration": 12,
    "start_time": "2021-10-31T14:10:49.335Z"
   },
   {
    "duration": 10,
    "start_time": "2021-10-31T14:10:49.760Z"
   },
   {
    "duration": 4,
    "start_time": "2021-10-31T14:13:15.032Z"
   },
   {
    "duration": 22,
    "start_time": "2021-10-31T14:14:02.393Z"
   },
   {
    "duration": 21,
    "start_time": "2021-10-31T14:14:05.504Z"
   },
   {
    "duration": 2928,
    "start_time": "2021-10-31T14:16:31.469Z"
   },
   {
    "duration": 3888,
    "start_time": "2021-10-31T14:16:34.400Z"
   },
   {
    "duration": 265,
    "start_time": "2021-10-31T14:16:47.483Z"
   },
   {
    "duration": 20,
    "start_time": "2021-10-31T14:16:48.851Z"
   },
   {
    "duration": 244,
    "start_time": "2021-10-31T14:16:49.563Z"
   },
   {
    "duration": 5,
    "start_time": "2021-10-31T14:16:49.931Z"
   },
   {
    "duration": 10,
    "start_time": "2021-10-31T14:16:50.107Z"
   },
   {
    "duration": 6,
    "start_time": "2021-10-31T14:16:50.316Z"
   },
   {
    "duration": 8,
    "start_time": "2021-10-31T14:16:50.519Z"
   },
   {
    "duration": 247,
    "start_time": "2021-10-31T14:16:50.723Z"
   },
   {
    "duration": 277,
    "start_time": "2021-10-31T14:16:50.976Z"
   },
   {
    "duration": 211,
    "start_time": "2021-10-31T14:16:51.255Z"
   },
   {
    "duration": 927,
    "start_time": "2021-10-31T14:16:51.468Z"
   },
   {
    "duration": 1052,
    "start_time": "2021-10-31T14:16:52.398Z"
   },
   {
    "duration": 11531,
    "start_time": "2021-10-31T14:16:53.452Z"
   },
   {
    "duration": 429,
    "start_time": "2021-10-31T14:17:04.985Z"
   },
   {
    "duration": 5,
    "start_time": "2021-10-31T14:17:05.416Z"
   },
   {
    "duration": 13,
    "start_time": "2021-10-31T14:17:05.422Z"
   },
   {
    "duration": 10,
    "start_time": "2021-10-31T14:17:05.436Z"
   },
   {
    "duration": 3,
    "start_time": "2021-10-31T14:17:18.637Z"
   },
   {
    "duration": 2,
    "start_time": "2021-10-31T14:19:21.688Z"
   },
   {
    "duration": 5,
    "start_time": "2021-10-31T14:19:23.522Z"
   },
   {
    "duration": 5,
    "start_time": "2021-10-31T14:20:29.617Z"
   },
   {
    "duration": 6,
    "start_time": "2021-10-31T14:21:14.131Z"
   },
   {
    "duration": 14,
    "start_time": "2021-10-31T14:21:16.747Z"
   },
   {
    "duration": 8,
    "start_time": "2021-10-31T14:21:53.588Z"
   },
   {
    "duration": 4,
    "start_time": "2021-10-31T14:22:01.987Z"
   },
   {
    "duration": 26,
    "start_time": "2021-10-31T14:22:16.922Z"
   },
   {
    "duration": 5,
    "start_time": "2021-10-31T14:24:14.355Z"
   },
   {
    "duration": 22,
    "start_time": "2021-10-31T14:24:15.254Z"
   },
   {
    "duration": 24,
    "start_time": "2021-10-31T14:24:21.084Z"
   },
   {
    "duration": 23,
    "start_time": "2021-10-31T14:24:42.828Z"
   },
   {
    "duration": 5,
    "start_time": "2021-10-31T14:25:00.937Z"
   },
   {
    "duration": 27,
    "start_time": "2021-10-31T14:25:01.308Z"
   },
   {
    "duration": 5,
    "start_time": "2021-10-31T14:25:32.452Z"
   },
   {
    "duration": 27,
    "start_time": "2021-10-31T14:25:33.629Z"
   },
   {
    "duration": 26,
    "start_time": "2021-10-31T14:25:49.364Z"
   },
   {
    "duration": 5,
    "start_time": "2021-10-31T14:27:39.946Z"
   },
   {
    "duration": 964,
    "start_time": "2021-10-31T14:27:42.796Z"
   },
   {
    "duration": 7,
    "start_time": "2021-10-31T14:28:13.538Z"
   },
   {
    "duration": 25,
    "start_time": "2021-10-31T14:28:13.877Z"
   },
   {
    "duration": 5,
    "start_time": "2021-10-31T14:29:17.173Z"
   },
   {
    "duration": 28,
    "start_time": "2021-10-31T14:29:19.284Z"
   },
   {
    "duration": 5,
    "start_time": "2021-10-31T14:31:52.084Z"
   },
   {
    "duration": 1661,
    "start_time": "2021-10-31T14:31:52.476Z"
   },
   {
    "duration": 5,
    "start_time": "2021-10-31T14:31:59.507Z"
   },
   {
    "duration": 29,
    "start_time": "2021-10-31T14:31:59.813Z"
   },
   {
    "duration": 5,
    "start_time": "2021-10-31T14:32:47.996Z"
   },
   {
    "duration": 27,
    "start_time": "2021-10-31T14:32:48.365Z"
   },
   {
    "duration": 5,
    "start_time": "2021-10-31T14:33:13.757Z"
   },
   {
    "duration": 28,
    "start_time": "2021-10-31T14:33:14.110Z"
   },
   {
    "duration": 4,
    "start_time": "2021-10-31T14:33:20.857Z"
   },
   {
    "duration": 27,
    "start_time": "2021-10-31T14:33:21.501Z"
   },
   {
    "duration": 111,
    "start_time": "2021-10-31T14:35:09.284Z"
   },
   {
    "duration": 3,
    "start_time": "2021-10-31T14:35:34.132Z"
   },
   {
    "duration": 9,
    "start_time": "2021-10-31T14:35:53.557Z"
   },
   {
    "duration": 9,
    "start_time": "2021-10-31T14:36:04.805Z"
   },
   {
    "duration": 27,
    "start_time": "2021-10-31T14:38:26.734Z"
   },
   {
    "duration": 9,
    "start_time": "2021-10-31T14:38:54.789Z"
   },
   {
    "duration": 9,
    "start_time": "2021-10-31T14:38:59.221Z"
   },
   {
    "duration": 4,
    "start_time": "2021-10-31T14:39:24.525Z"
   },
   {
    "duration": 27,
    "start_time": "2021-10-31T14:39:27.285Z"
   },
   {
    "duration": 27,
    "start_time": "2021-10-31T14:39:51.821Z"
   },
   {
    "duration": 5,
    "start_time": "2021-10-31T14:40:14.386Z"
   },
   {
    "duration": 26,
    "start_time": "2021-10-31T14:40:22.134Z"
   },
   {
    "duration": 26,
    "start_time": "2021-10-31T14:40:23.843Z"
   },
   {
    "duration": 9,
    "start_time": "2021-10-31T14:40:47.613Z"
   },
   {
    "duration": 24,
    "start_time": "2021-10-31T14:40:52.157Z"
   },
   {
    "duration": 24,
    "start_time": "2021-10-31T14:40:53.132Z"
   },
   {
    "duration": 11,
    "start_time": "2021-10-31T14:42:43.797Z"
   },
   {
    "duration": 12,
    "start_time": "2021-10-31T14:42:45.940Z"
   },
   {
    "duration": 24,
    "start_time": "2021-10-31T14:44:21.014Z"
   },
   {
    "duration": 23,
    "start_time": "2021-10-31T14:44:22.860Z"
   },
   {
    "duration": 23,
    "start_time": "2021-10-31T14:48:56.373Z"
   },
   {
    "duration": 24,
    "start_time": "2021-10-31T14:49:01.806Z"
   },
   {
    "duration": 25,
    "start_time": "2021-10-31T14:49:06.836Z"
   },
   {
    "duration": 23,
    "start_time": "2021-10-31T14:49:10.990Z"
   },
   {
    "duration": 26,
    "start_time": "2021-10-31T14:49:55.074Z"
   },
   {
    "duration": 26,
    "start_time": "2021-10-31T14:50:04.709Z"
   },
   {
    "duration": 25,
    "start_time": "2021-10-31T14:50:09.669Z"
   },
   {
    "duration": 25,
    "start_time": "2021-10-31T14:50:16.806Z"
   },
   {
    "duration": 25,
    "start_time": "2021-10-31T14:50:40.654Z"
   },
   {
    "duration": 25,
    "start_time": "2021-10-31T14:50:50.040Z"
   },
   {
    "duration": 23,
    "start_time": "2021-10-31T14:51:04.911Z"
   },
   {
    "duration": 24,
    "start_time": "2021-10-31T14:51:21.478Z"
   },
   {
    "duration": 23,
    "start_time": "2021-10-31T14:51:28.672Z"
   },
   {
    "duration": 23,
    "start_time": "2021-10-31T14:51:36.342Z"
   },
   {
    "duration": 23,
    "start_time": "2021-10-31T14:51:45.526Z"
   },
   {
    "duration": 26,
    "start_time": "2021-10-31T15:05:37.222Z"
   },
   {
    "duration": 25,
    "start_time": "2021-10-31T15:05:44.127Z"
   },
   {
    "duration": 25,
    "start_time": "2021-10-31T15:05:58.173Z"
   },
   {
    "duration": 25,
    "start_time": "2021-10-31T15:06:01.847Z"
   },
   {
    "duration": 25,
    "start_time": "2021-10-31T15:06:05.536Z"
   },
   {
    "duration": 8,
    "start_time": "2021-10-31T15:31:14.602Z"
   },
   {
    "duration": 7,
    "start_time": "2021-10-31T15:33:48.640Z"
   },
   {
    "duration": 6,
    "start_time": "2021-10-31T15:35:35.360Z"
   },
   {
    "duration": 3,
    "start_time": "2021-10-31T15:41:17.507Z"
   },
   {
    "duration": 3,
    "start_time": "2021-10-31T15:41:19.906Z"
   },
   {
    "duration": 4,
    "start_time": "2021-10-31T15:43:20.096Z"
   },
   {
    "duration": 5,
    "start_time": "2021-10-31T15:43:25.785Z"
   },
   {
    "duration": 8559,
    "start_time": "2021-10-31T15:47:05.786Z"
   },
   {
    "duration": 707,
    "start_time": "2021-10-31T15:47:25.930Z"
   },
   {
    "duration": 344,
    "start_time": "2021-10-31T15:47:51.235Z"
   },
   {
    "duration": 1207,
    "start_time": "2021-10-31T15:48:12.073Z"
   },
   {
    "duration": 5,
    "start_time": "2021-10-31T15:52:30.802Z"
   },
   {
    "duration": 5,
    "start_time": "2021-10-31T15:52:52.257Z"
   },
   {
    "duration": 2792,
    "start_time": "2021-10-31T15:53:22.313Z"
   },
   {
    "duration": 4,
    "start_time": "2021-10-31T15:53:54.649Z"
   },
   {
    "duration": 4,
    "start_time": "2021-10-31T15:54:05.633Z"
   },
   {
    "duration": 5,
    "start_time": "2021-10-31T15:54:16.145Z"
   },
   {
    "duration": 4,
    "start_time": "2021-10-31T15:54:28.324Z"
   },
   {
    "duration": 5,
    "start_time": "2021-10-31T15:54:33.345Z"
   },
   {
    "duration": 5,
    "start_time": "2021-10-31T15:55:40.291Z"
   },
   {
    "duration": 659,
    "start_time": "2021-10-31T15:55:58.244Z"
   },
   {
    "duration": 27,
    "start_time": "2021-10-31T15:59:41.789Z"
   },
   {
    "duration": 30,
    "start_time": "2021-10-31T15:59:58.962Z"
   },
   {
    "duration": 1058,
    "start_time": "2021-10-31T16:00:11.258Z"
   },
   {
    "duration": 41,
    "start_time": "2021-10-31T16:00:19.819Z"
   },
   {
    "duration": 26,
    "start_time": "2021-10-31T16:01:34.473Z"
   },
   {
    "duration": 26,
    "start_time": "2021-10-31T16:01:48.266Z"
   },
   {
    "duration": 27,
    "start_time": "2021-10-31T16:02:09.884Z"
   },
   {
    "duration": 28,
    "start_time": "2021-10-31T16:02:14.801Z"
   },
   {
    "duration": 24,
    "start_time": "2021-10-31T16:02:17.787Z"
   },
   {
    "duration": 3,
    "start_time": "2021-10-31T16:03:44.442Z"
   },
   {
    "duration": 4,
    "start_time": "2021-10-31T16:03:54.074Z"
   },
   {
    "duration": 6,
    "start_time": "2021-10-31T16:04:06.434Z"
   },
   {
    "duration": 364,
    "start_time": "2021-10-31T16:05:14.898Z"
   },
   {
    "duration": 401,
    "start_time": "2021-10-31T16:05:46.604Z"
   },
   {
    "duration": 6,
    "start_time": "2021-10-31T16:12:12.787Z"
   },
   {
    "duration": 5,
    "start_time": "2021-10-31T16:12:27.675Z"
   },
   {
    "duration": 3,
    "start_time": "2021-10-31T16:17:40.412Z"
   },
   {
    "duration": 6,
    "start_time": "2021-10-31T16:17:46.533Z"
   },
   {
    "duration": 4,
    "start_time": "2021-10-31T16:19:36.624Z"
   },
   {
    "duration": 826,
    "start_time": "2021-10-31T16:40:22.908Z"
   },
   {
    "duration": 1539,
    "start_time": "2021-10-31T16:40:42.497Z"
   },
   {
    "duration": 1086,
    "start_time": "2021-10-31T16:41:03.647Z"
   },
   {
    "duration": 1105,
    "start_time": "2021-10-31T16:44:30.078Z"
   },
   {
    "duration": 722,
    "start_time": "2021-10-31T16:45:01.795Z"
   },
   {
    "duration": 4,
    "start_time": "2021-10-31T16:46:14.220Z"
   },
   {
    "duration": 930,
    "start_time": "2021-10-31T16:46:14.882Z"
   },
   {
    "duration": 4,
    "start_time": "2021-10-31T16:47:13.715Z"
   },
   {
    "duration": 808,
    "start_time": "2021-10-31T16:47:14.732Z"
   },
   {
    "duration": 713,
    "start_time": "2021-10-31T16:47:51.780Z"
   },
   {
    "duration": 3,
    "start_time": "2021-10-31T16:50:17.549Z"
   },
   {
    "duration": 20,
    "start_time": "2021-10-31T16:50:18.612Z"
   },
   {
    "duration": 692,
    "start_time": "2021-10-31T16:51:20.588Z"
   },
   {
    "duration": 4,
    "start_time": "2021-10-31T16:57:48.701Z"
   },
   {
    "duration": 807,
    "start_time": "2021-10-31T16:57:49.043Z"
   },
   {
    "duration": 3,
    "start_time": "2021-10-31T16:59:11.349Z"
   },
   {
    "duration": 19,
    "start_time": "2021-10-31T16:59:11.916Z"
   },
   {
    "duration": 25,
    "start_time": "2021-10-31T17:01:18.927Z"
   },
   {
    "duration": 695,
    "start_time": "2021-10-31T17:01:59.652Z"
   },
   {
    "duration": 24,
    "start_time": "2021-10-31T17:02:06.920Z"
   },
   {
    "duration": 6,
    "start_time": "2021-10-31T17:06:56.741Z"
   },
   {
    "duration": 7,
    "start_time": "2021-10-31T17:07:07.997Z"
   },
   {
    "duration": 6,
    "start_time": "2021-10-31T17:07:11.645Z"
   },
   {
    "duration": 7,
    "start_time": "2021-10-31T17:07:15.238Z"
   },
   {
    "duration": 4,
    "start_time": "2021-10-31T17:15:14.101Z"
   },
   {
    "duration": 4,
    "start_time": "2021-10-31T17:17:01.944Z"
   },
   {
    "duration": 685,
    "start_time": "2021-10-31T17:17:02.389Z"
   },
   {
    "duration": 3,
    "start_time": "2021-10-31T17:17:23.546Z"
   },
   {
    "duration": 7,
    "start_time": "2021-10-31T17:17:24.000Z"
   },
   {
    "duration": 5,
    "start_time": "2021-10-31T17:17:24.903Z"
   },
   {
    "duration": 8,
    "start_time": "2021-10-31T17:17:46.222Z"
   },
   {
    "duration": 348,
    "start_time": "2021-10-31T17:20:35.895Z"
   },
   {
    "duration": 4,
    "start_time": "2021-10-31T17:20:36.382Z"
   },
   {
    "duration": 337,
    "start_time": "2021-10-31T17:20:52.045Z"
   },
   {
    "duration": 8,
    "start_time": "2021-10-31T17:20:59.934Z"
   },
   {
    "duration": 3,
    "start_time": "2021-10-31T17:21:25.400Z"
   },
   {
    "duration": 9,
    "start_time": "2021-10-31T17:21:33.967Z"
   },
   {
    "duration": 7,
    "start_time": "2021-10-31T17:22:55.835Z"
   },
   {
    "duration": 6,
    "start_time": "2021-10-31T17:22:58.214Z"
   },
   {
    "duration": 355,
    "start_time": "2021-10-31T17:23:07.047Z"
   },
   {
    "duration": 4,
    "start_time": "2021-10-31T17:23:07.760Z"
   },
   {
    "duration": 3,
    "start_time": "2021-10-31T17:23:16.295Z"
   },
   {
    "duration": 354,
    "start_time": "2021-10-31T17:23:16.686Z"
   },
   {
    "duration": 5,
    "start_time": "2021-10-31T17:23:17.433Z"
   },
   {
    "duration": 3,
    "start_time": "2021-10-31T17:23:20.166Z"
   },
   {
    "duration": 386,
    "start_time": "2021-10-31T17:23:22.868Z"
   },
   {
    "duration": 3,
    "start_time": "2021-10-31T17:23:44.303Z"
   },
   {
    "duration": 7,
    "start_time": "2021-10-31T17:23:48.590Z"
   },
   {
    "duration": 5,
    "start_time": "2021-10-31T17:23:50.061Z"
   },
   {
    "duration": 345,
    "start_time": "2021-10-31T17:23:57.018Z"
   },
   {
    "duration": 8,
    "start_time": "2021-10-31T17:25:14.844Z"
   },
   {
    "duration": 4,
    "start_time": "2021-10-31T17:25:16.191Z"
   },
   {
    "duration": 8,
    "start_time": "2021-10-31T17:25:18.767Z"
   },
   {
    "duration": 4,
    "start_time": "2021-10-31T17:25:29.774Z"
   },
   {
    "duration": 8,
    "start_time": "2021-10-31T17:25:30.182Z"
   },
   {
    "duration": 5,
    "start_time": "2021-10-31T17:25:30.750Z"
   },
   {
    "duration": 2,
    "start_time": "2021-10-31T17:25:35.469Z"
   },
   {
    "duration": 4,
    "start_time": "2021-10-31T17:25:51.114Z"
   },
   {
    "duration": 4,
    "start_time": "2021-10-31T17:26:03.520Z"
   },
   {
    "duration": 3,
    "start_time": "2021-10-31T17:26:30.946Z"
   },
   {
    "duration": 8,
    "start_time": "2021-10-31T17:26:31.381Z"
   },
   {
    "duration": 5,
    "start_time": "2021-10-31T17:26:33.570Z"
   },
   {
    "duration": 9,
    "start_time": "2021-10-31T17:27:49.415Z"
   },
   {
    "duration": 9,
    "start_time": "2021-10-31T17:28:29.358Z"
   },
   {
    "duration": 5,
    "start_time": "2021-10-31T17:28:32.632Z"
   },
   {
    "duration": 2813,
    "start_time": "2021-10-31T17:33:15.071Z"
   },
   {
    "duration": 130,
    "start_time": "2021-10-31T17:39:43.287Z"
   },
   {
    "duration": 404,
    "start_time": "2021-10-31T17:39:46.984Z"
   },
   {
    "duration": 411,
    "start_time": "2021-10-31T17:39:59.272Z"
   },
   {
    "duration": 445,
    "start_time": "2021-10-31T17:40:52.511Z"
   },
   {
    "duration": 537,
    "start_time": "2021-10-31T17:43:12.082Z"
   },
   {
    "duration": 9,
    "start_time": "2021-10-31T17:47:27.639Z"
   },
   {
    "duration": 12,
    "start_time": "2021-10-31T17:47:34.960Z"
   },
   {
    "duration": 4,
    "start_time": "2021-10-31T17:47:41.217Z"
   },
   {
    "duration": 470,
    "start_time": "2021-10-31T17:47:58.584Z"
   },
   {
    "duration": 6,
    "start_time": "2021-10-31T17:48:43.167Z"
   },
   {
    "duration": 4,
    "start_time": "2021-10-31T17:51:13.679Z"
   },
   {
    "duration": 746,
    "start_time": "2021-10-31T17:51:14.199Z"
   },
   {
    "duration": 108,
    "start_time": "2021-10-31T17:51:14.839Z"
   },
   {
    "duration": 4,
    "start_time": "2021-10-31T17:51:28.192Z"
   },
   {
    "duration": 796,
    "start_time": "2021-10-31T17:51:28.895Z"
   },
   {
    "duration": 4,
    "start_time": "2021-10-31T17:51:29.727Z"
   },
   {
    "duration": 5,
    "start_time": "2021-10-31T17:53:58.951Z"
   },
   {
    "duration": 718,
    "start_time": "2021-10-31T17:54:17.161Z"
   },
   {
    "duration": 4,
    "start_time": "2021-10-31T17:55:54.296Z"
   },
   {
    "duration": 9,
    "start_time": "2021-10-31T17:55:54.929Z"
   },
   {
    "duration": 5,
    "start_time": "2021-10-31T17:55:55.871Z"
   },
   {
    "duration": 5,
    "start_time": "2021-10-31T18:04:30.848Z"
   },
   {
    "duration": 393,
    "start_time": "2021-10-31T18:04:46.480Z"
   },
   {
    "duration": 346,
    "start_time": "2021-10-31T18:05:06.895Z"
   },
   {
    "duration": 6,
    "start_time": "2021-10-31T18:06:00.465Z"
   },
   {
    "duration": 5,
    "start_time": "2021-10-31T18:06:04.048Z"
   },
   {
    "duration": 436,
    "start_time": "2021-10-31T18:08:02.873Z"
   },
   {
    "duration": 1062,
    "start_time": "2021-10-31T18:09:08.753Z"
   },
   {
    "duration": 3,
    "start_time": "2021-10-31T18:09:44.583Z"
   },
   {
    "duration": 3,
    "start_time": "2021-10-31T18:09:48.017Z"
   },
   {
    "duration": 5,
    "start_time": "2021-10-31T18:10:00.648Z"
   },
   {
    "duration": 11,
    "start_time": "2021-10-31T18:10:51.784Z"
   },
   {
    "duration": 457,
    "start_time": "2021-10-31T18:11:41.769Z"
   },
   {
    "duration": 518,
    "start_time": "2021-10-31T18:12:56.607Z"
   },
   {
    "duration": 445,
    "start_time": "2021-10-31T18:13:08.099Z"
   },
   {
    "duration": 460,
    "start_time": "2021-10-31T18:13:38.568Z"
   },
   {
    "duration": 26,
    "start_time": "2021-10-31T18:16:17.402Z"
   },
   {
    "duration": 8,
    "start_time": "2021-10-31T19:21:08.388Z"
   },
   {
    "duration": 10,
    "start_time": "2021-10-31T19:21:20.891Z"
   },
   {
    "duration": 6,
    "start_time": "2021-10-31T19:27:59.699Z"
   },
   {
    "duration": 117,
    "start_time": "2021-10-31T19:32:06.636Z"
   },
   {
    "duration": 337,
    "start_time": "2021-10-31T19:32:18.044Z"
   },
   {
    "duration": 333,
    "start_time": "2021-10-31T19:33:32.436Z"
   },
   {
    "duration": 7,
    "start_time": "2021-10-31T19:33:38.862Z"
   },
   {
    "duration": 119,
    "start_time": "2021-10-31T19:41:02.597Z"
   },
   {
    "duration": 335,
    "start_time": "2021-10-31T19:41:07.838Z"
   },
   {
    "duration": 9,
    "start_time": "2021-10-31T19:43:08.900Z"
   },
   {
    "duration": 12,
    "start_time": "2021-10-31T19:43:21.644Z"
   },
   {
    "duration": 17,
    "start_time": "2021-10-31T19:53:34.869Z"
   },
   {
    "duration": 8,
    "start_time": "2021-10-31T19:53:59.310Z"
   },
   {
    "duration": 433,
    "start_time": "2021-10-31T19:55:15.477Z"
   },
   {
    "duration": 17,
    "start_time": "2021-10-31T19:56:55.485Z"
   },
   {
    "duration": 1399,
    "start_time": "2021-10-31T19:57:17.092Z"
   },
   {
    "duration": 17,
    "start_time": "2021-10-31T19:57:26.551Z"
   },
   {
    "duration": 6,
    "start_time": "2021-10-31T19:58:15.517Z"
   },
   {
    "duration": 7,
    "start_time": "2021-10-31T19:58:31.310Z"
   },
   {
    "duration": 7,
    "start_time": "2021-10-31T19:58:53.324Z"
   },
   {
    "duration": 17,
    "start_time": "2021-10-31T20:00:17.647Z"
   },
   {
    "duration": 110,
    "start_time": "2021-10-31T20:02:03.999Z"
   },
   {
    "duration": 19,
    "start_time": "2021-10-31T20:02:10.659Z"
   },
   {
    "duration": 8,
    "start_time": "2021-10-31T20:02:34.644Z"
   },
   {
    "duration": 347,
    "start_time": "2021-10-31T20:04:10.229Z"
   },
   {
    "duration": 4,
    "start_time": "2021-10-31T20:04:22.645Z"
   },
   {
    "duration": 8,
    "start_time": "2021-10-31T20:06:16.964Z"
   },
   {
    "duration": 7,
    "start_time": "2021-10-31T20:06:20.590Z"
   },
   {
    "duration": 7,
    "start_time": "2021-10-31T20:06:29.509Z"
   },
   {
    "duration": 8,
    "start_time": "2021-10-31T20:06:32.796Z"
   },
   {
    "duration": 12,
    "start_time": "2021-10-31T20:07:08.221Z"
   },
   {
    "duration": 13,
    "start_time": "2021-10-31T20:07:16.908Z"
   },
   {
    "duration": 14,
    "start_time": "2021-10-31T20:09:23.319Z"
   },
   {
    "duration": 11,
    "start_time": "2021-10-31T20:09:40.055Z"
   },
   {
    "duration": 14,
    "start_time": "2021-10-31T20:11:12.734Z"
   },
   {
    "duration": 7,
    "start_time": "2021-10-31T20:12:02.902Z"
   },
   {
    "duration": 12,
    "start_time": "2021-10-31T20:12:41.919Z"
   },
   {
    "duration": 13,
    "start_time": "2021-10-31T20:12:51.983Z"
   },
   {
    "duration": 381,
    "start_time": "2021-10-31T20:13:55.350Z"
   },
   {
    "duration": 13,
    "start_time": "2021-10-31T20:14:11.103Z"
   },
   {
    "duration": 9,
    "start_time": "2021-10-31T20:17:14.606Z"
   },
   {
    "duration": 11,
    "start_time": "2021-10-31T20:17:22.054Z"
   },
   {
    "duration": 4125,
    "start_time": "2021-10-31T20:52:01.936Z"
   },
   {
    "duration": 2801,
    "start_time": "2021-10-31T20:52:22.714Z"
   },
   {
    "duration": 4,
    "start_time": "2021-10-31T20:54:04.470Z"
   },
   {
    "duration": 26,
    "start_time": "2021-10-31T20:54:04.563Z"
   },
   {
    "duration": 3,
    "start_time": "2021-10-31T20:54:16.079Z"
   },
   {
    "duration": 27,
    "start_time": "2021-10-31T20:54:16.084Z"
   },
   {
    "duration": 933,
    "start_time": "2021-10-31T20:56:20.351Z"
   },
   {
    "duration": 4,
    "start_time": "2021-10-31T20:56:33.038Z"
   },
   {
    "duration": 748,
    "start_time": "2021-10-31T20:56:33.383Z"
   },
   {
    "duration": 8,
    "start_time": "2021-10-31T20:57:13.551Z"
   },
   {
    "duration": 4,
    "start_time": "2021-10-31T20:58:16.391Z"
   },
   {
    "duration": 713,
    "start_time": "2021-10-31T20:58:19.879Z"
   },
   {
    "duration": 4,
    "start_time": "2021-10-31T20:59:35.398Z"
   },
   {
    "duration": 3,
    "start_time": "2021-10-31T20:59:48.480Z"
   },
   {
    "duration": 749,
    "start_time": "2021-10-31T20:59:50.432Z"
   },
   {
    "duration": 16,
    "start_time": "2021-10-31T21:02:07.319Z"
   },
   {
    "duration": 17,
    "start_time": "2021-10-31T21:02:09.409Z"
   },
   {
    "duration": 14,
    "start_time": "2021-10-31T21:02:54.354Z"
   },
   {
    "duration": 11,
    "start_time": "2021-10-31T21:02:56.878Z"
   },
   {
    "duration": 8,
    "start_time": "2021-10-31T21:11:20.272Z"
   },
   {
    "duration": 17,
    "start_time": "2021-10-31T21:12:31.583Z"
   },
   {
    "duration": 16,
    "start_time": "2021-10-31T21:12:36.709Z"
   },
   {
    "duration": 12,
    "start_time": "2021-10-31T21:12:39.416Z"
   },
   {
    "duration": 16,
    "start_time": "2021-10-31T21:13:23.289Z"
   },
   {
    "duration": 16,
    "start_time": "2021-10-31T21:13:55.164Z"
   },
   {
    "duration": 17,
    "start_time": "2021-10-31T21:15:02.232Z"
   },
   {
    "duration": 16,
    "start_time": "2021-10-31T21:15:03.088Z"
   },
   {
    "duration": 7,
    "start_time": "2021-10-31T21:17:01.032Z"
   },
   {
    "duration": 18,
    "start_time": "2021-10-31T21:19:42.296Z"
   },
   {
    "duration": 17,
    "start_time": "2021-10-31T21:20:03.159Z"
   },
   {
    "duration": 28,
    "start_time": "2021-10-31T21:24:40.592Z"
   },
   {
    "duration": 39,
    "start_time": "2021-10-31T21:24:51.921Z"
   },
   {
    "duration": 15,
    "start_time": "2021-10-31T21:25:23.242Z"
   },
   {
    "duration": 42,
    "start_time": "2021-10-31T21:26:16.448Z"
   },
   {
    "duration": 17,
    "start_time": "2021-10-31T21:26:22.954Z"
   },
   {
    "duration": 7738,
    "start_time": "2021-11-01T06:37:17.407Z"
   },
   {
    "duration": 5216,
    "start_time": "2021-11-01T06:37:25.147Z"
   },
   {
    "duration": 216,
    "start_time": "2021-11-01T06:37:30.365Z"
   },
   {
    "duration": 18,
    "start_time": "2021-11-01T06:37:30.583Z"
   },
   {
    "duration": 200,
    "start_time": "2021-11-01T06:37:30.603Z"
   },
   {
    "duration": 4,
    "start_time": "2021-11-01T06:37:30.805Z"
   },
   {
    "duration": 19,
    "start_time": "2021-11-01T06:37:30.811Z"
   },
   {
    "duration": 24,
    "start_time": "2021-11-01T06:37:30.832Z"
   },
   {
    "duration": 12,
    "start_time": "2021-11-01T06:37:30.858Z"
   },
   {
    "duration": 448,
    "start_time": "2021-11-01T06:37:30.871Z"
   },
   {
    "duration": -769,
    "start_time": "2021-11-01T06:37:32.091Z"
   },
   {
    "duration": -780,
    "start_time": "2021-11-01T06:37:32.103Z"
   },
   {
    "duration": -832,
    "start_time": "2021-11-01T06:37:32.156Z"
   },
   {
    "duration": -837,
    "start_time": "2021-11-01T06:37:32.162Z"
   },
   {
    "duration": -841,
    "start_time": "2021-11-01T06:37:32.167Z"
   },
   {
    "duration": -848,
    "start_time": "2021-11-01T06:37:32.175Z"
   },
   {
    "duration": -854,
    "start_time": "2021-11-01T06:37:32.182Z"
   },
   {
    "duration": -860,
    "start_time": "2021-11-01T06:37:32.189Z"
   },
   {
    "duration": -865,
    "start_time": "2021-11-01T06:37:32.195Z"
   },
   {
    "duration": -871,
    "start_time": "2021-11-01T06:37:32.202Z"
   },
   {
    "duration": -876,
    "start_time": "2021-11-01T06:37:32.208Z"
   },
   {
    "duration": -888,
    "start_time": "2021-11-01T06:37:32.221Z"
   },
   {
    "duration": -891,
    "start_time": "2021-11-01T06:37:32.225Z"
   },
   {
    "duration": -896,
    "start_time": "2021-11-01T06:37:32.231Z"
   },
   {
    "duration": -900,
    "start_time": "2021-11-01T06:37:32.236Z"
   },
   {
    "duration": -905,
    "start_time": "2021-11-01T06:37:32.242Z"
   },
   {
    "duration": -909,
    "start_time": "2021-11-01T06:37:32.247Z"
   },
   {
    "duration": -914,
    "start_time": "2021-11-01T06:37:32.253Z"
   },
   {
    "duration": -918,
    "start_time": "2021-11-01T06:37:32.258Z"
   },
   {
    "duration": -923,
    "start_time": "2021-11-01T06:37:32.264Z"
   },
   {
    "duration": -926,
    "start_time": "2021-11-01T06:37:32.268Z"
   },
   {
    "duration": -962,
    "start_time": "2021-11-01T06:37:32.305Z"
   },
   {
    "duration": -971,
    "start_time": "2021-11-01T06:37:32.316Z"
   },
   {
    "duration": -976,
    "start_time": "2021-11-01T06:37:32.322Z"
   },
   {
    "duration": -979,
    "start_time": "2021-11-01T06:37:32.326Z"
   },
   {
    "duration": -985,
    "start_time": "2021-11-01T06:37:32.332Z"
   },
   {
    "duration": -989,
    "start_time": "2021-11-01T06:37:32.337Z"
   },
   {
    "duration": -993,
    "start_time": "2021-11-01T06:37:32.342Z"
   },
   {
    "duration": -995,
    "start_time": "2021-11-01T06:37:32.346Z"
   },
   {
    "duration": -999,
    "start_time": "2021-11-01T06:37:32.350Z"
   },
   {
    "duration": -1003,
    "start_time": "2021-11-01T06:37:32.356Z"
   },
   {
    "duration": -1007,
    "start_time": "2021-11-01T06:37:32.361Z"
   },
   {
    "duration": -1011,
    "start_time": "2021-11-01T06:37:32.365Z"
   },
   {
    "duration": 2721,
    "start_time": "2021-11-01T06:38:24.994Z"
   },
   {
    "duration": 3658,
    "start_time": "2021-11-01T06:38:27.717Z"
   },
   {
    "duration": 175,
    "start_time": "2021-11-01T06:38:31.377Z"
   },
   {
    "duration": 18,
    "start_time": "2021-11-01T06:38:31.554Z"
   },
   {
    "duration": 154,
    "start_time": "2021-11-01T06:38:31.574Z"
   },
   {
    "duration": 4,
    "start_time": "2021-11-01T06:38:31.730Z"
   },
   {
    "duration": 19,
    "start_time": "2021-11-01T06:38:31.736Z"
   },
   {
    "duration": 8,
    "start_time": "2021-11-01T06:38:31.758Z"
   },
   {
    "duration": 14,
    "start_time": "2021-11-01T06:38:31.769Z"
   },
   {
    "duration": 209,
    "start_time": "2021-11-01T06:38:31.785Z"
   },
   {
    "duration": 235,
    "start_time": "2021-11-01T06:38:31.996Z"
   },
   {
    "duration": 197,
    "start_time": "2021-11-01T06:38:32.233Z"
   },
   {
    "duration": 887,
    "start_time": "2021-11-01T06:38:32.432Z"
   },
   {
    "duration": 997,
    "start_time": "2021-11-01T06:38:33.320Z"
   },
   {
    "duration": 10796,
    "start_time": "2021-11-01T06:38:34.320Z"
   },
   {
    "duration": 453,
    "start_time": "2021-11-01T06:38:45.118Z"
   },
   {
    "duration": 4,
    "start_time": "2021-11-01T06:38:45.573Z"
   },
   {
    "duration": 11,
    "start_time": "2021-11-01T06:38:45.578Z"
   },
   {
    "duration": 4,
    "start_time": "2021-11-01T06:38:45.591Z"
   },
   {
    "duration": 10,
    "start_time": "2021-11-01T06:38:45.597Z"
   },
   {
    "duration": 2,
    "start_time": "2021-11-01T06:38:45.609Z"
   },
   {
    "duration": 6,
    "start_time": "2021-11-01T06:38:45.613Z"
   },
   {
    "duration": 21,
    "start_time": "2021-11-01T06:38:45.622Z"
   },
   {
    "duration": 26,
    "start_time": "2021-11-01T06:38:45.646Z"
   },
   {
    "duration": 22,
    "start_time": "2021-11-01T06:38:45.674Z"
   },
   {
    "duration": 24,
    "start_time": "2021-11-01T06:38:45.698Z"
   },
   {
    "duration": 53,
    "start_time": "2021-11-01T06:38:45.724Z"
   },
   {
    "duration": 24,
    "start_time": "2021-11-01T06:38:45.779Z"
   },
   {
    "duration": 6,
    "start_time": "2021-11-01T06:38:45.805Z"
   },
   {
    "duration": 8,
    "start_time": "2021-11-01T06:38:45.812Z"
   },
   {
    "duration": 5,
    "start_time": "2021-11-01T06:38:45.822Z"
   },
   {
    "duration": 8,
    "start_time": "2021-11-01T06:38:45.828Z"
   },
   {
    "duration": 585,
    "start_time": "2021-11-01T06:38:45.864Z"
   },
   {
    "duration": -756,
    "start_time": "2021-11-01T06:38:47.207Z"
   },
   {
    "duration": -765,
    "start_time": "2021-11-01T06:38:47.217Z"
   },
   {
    "duration": -770,
    "start_time": "2021-11-01T06:38:47.222Z"
   },
   {
    "duration": -775,
    "start_time": "2021-11-01T06:38:47.228Z"
   },
   {
    "duration": -780,
    "start_time": "2021-11-01T06:38:47.234Z"
   },
   {
    "duration": -785,
    "start_time": "2021-11-01T06:38:47.240Z"
   },
   {
    "duration": -790,
    "start_time": "2021-11-01T06:38:47.246Z"
   },
   {
    "duration": -796,
    "start_time": "2021-11-01T06:38:47.253Z"
   },
   {
    "duration": -801,
    "start_time": "2021-11-01T06:38:47.259Z"
   },
   {
    "duration": -806,
    "start_time": "2021-11-01T06:38:47.265Z"
   },
   {
    "duration": 4,
    "start_time": "2021-11-01T06:44:21.293Z"
   },
   {
    "duration": 4,
    "start_time": "2021-11-01T06:44:30.053Z"
   },
   {
    "duration": 7,
    "start_time": "2021-11-01T06:45:05.926Z"
   },
   {
    "duration": 6,
    "start_time": "2021-11-01T06:45:09.053Z"
   },
   {
    "duration": 3,
    "start_time": "2021-11-01T06:45:11.253Z"
   },
   {
    "duration": 4,
    "start_time": "2021-11-01T06:45:14.381Z"
   },
   {
    "duration": 534,
    "start_time": "2021-11-01T06:45:17.437Z"
   },
   {
    "duration": 4,
    "start_time": "2021-11-01T06:45:20.893Z"
   },
   {
    "duration": 25,
    "start_time": "2021-11-01T06:45:21.374Z"
   },
   {
    "duration": 257,
    "start_time": "2021-11-01T06:45:29.845Z"
   },
   {
    "duration": 18,
    "start_time": "2021-11-01T06:45:38.205Z"
   },
   {
    "duration": 511,
    "start_time": "2021-11-01T06:48:45.393Z"
   },
   {
    "duration": 8,
    "start_time": "2021-11-01T06:49:06.182Z"
   },
   {
    "duration": 16,
    "start_time": "2021-11-01T06:49:16.013Z"
   },
   {
    "duration": 14,
    "start_time": "2021-11-01T06:49:20.878Z"
   },
   {
    "duration": 4,
    "start_time": "2021-11-01T06:49:25.238Z"
   },
   {
    "duration": 9,
    "start_time": "2021-11-01T06:49:25.950Z"
   },
   {
    "duration": 4,
    "start_time": "2021-11-01T06:49:26.366Z"
   },
   {
    "duration": 410,
    "start_time": "2021-11-01T06:49:37.781Z"
   },
   {
    "duration": 9,
    "start_time": "2021-11-01T06:49:40.710Z"
   },
   {
    "duration": 247,
    "start_time": "2021-11-01T06:50:29.151Z"
   },
   {
    "duration": 15,
    "start_time": "2021-11-01T06:50:52.383Z"
   },
   {
    "duration": 8,
    "start_time": "2021-11-01T06:51:04.201Z"
   },
   {
    "duration": 413,
    "start_time": "2021-11-01T06:51:07.136Z"
   },
   {
    "duration": 7,
    "start_time": "2021-11-01T13:35:36.182Z"
   },
   {
    "duration": 6,
    "start_time": "2021-11-01T13:36:04.284Z"
   },
   {
    "duration": 4,
    "start_time": "2021-11-01T13:37:51.789Z"
   },
   {
    "duration": 4,
    "start_time": "2021-11-01T13:40:14.847Z"
   },
   {
    "duration": 3,
    "start_time": "2021-11-01T13:46:12.353Z"
   },
   {
    "duration": 5,
    "start_time": "2021-11-01T13:46:14.723Z"
   },
   {
    "duration": 453,
    "start_time": "2021-11-01T13:46:36.058Z"
   },
   {
    "duration": 355,
    "start_time": "2021-11-01T13:47:10.921Z"
   },
   {
    "duration": 12970,
    "start_time": "2021-11-01T13:47:18.970Z"
   },
   {
    "duration": 4962,
    "start_time": "2021-11-01T13:47:33.682Z"
   },
   {
    "duration": 243,
    "start_time": "2021-11-01T13:47:42.587Z"
   },
   {
    "duration": 17,
    "start_time": "2021-11-01T13:47:43.716Z"
   },
   {
    "duration": 238,
    "start_time": "2021-11-01T13:47:45.025Z"
   },
   {
    "duration": 5,
    "start_time": "2021-11-01T13:47:46.666Z"
   },
   {
    "duration": 10,
    "start_time": "2021-11-01T13:47:48.452Z"
   },
   {
    "duration": 8,
    "start_time": "2021-11-01T13:47:49.381Z"
   },
   {
    "duration": 10,
    "start_time": "2021-11-01T13:47:50.369Z"
   },
   {
    "duration": 433,
    "start_time": "2021-11-01T13:47:50.817Z"
   },
   {
    "duration": -204,
    "start_time": "2021-11-01T13:47:51.456Z"
   },
   {
    "duration": 4240,
    "start_time": "2021-11-01T13:48:01.030Z"
   },
   {
    "duration": 3190,
    "start_time": "2021-11-01T13:48:07.750Z"
   },
   {
    "duration": 245,
    "start_time": "2021-11-01T13:48:13.046Z"
   },
   {
    "duration": 18,
    "start_time": "2021-11-01T13:48:13.808Z"
   },
   {
    "duration": 254,
    "start_time": "2021-11-01T13:48:14.981Z"
   },
   {
    "duration": 4,
    "start_time": "2021-11-01T13:48:15.862Z"
   },
   {
    "duration": 12,
    "start_time": "2021-11-01T13:48:16.486Z"
   },
   {
    "duration": 8,
    "start_time": "2021-11-01T13:48:17.195Z"
   },
   {
    "duration": 10,
    "start_time": "2021-11-01T13:48:18.030Z"
   },
   {
    "duration": 215,
    "start_time": "2021-11-01T13:48:18.862Z"
   },
   {
    "duration": 237,
    "start_time": "2021-11-01T13:48:19.646Z"
   },
   {
    "duration": 268,
    "start_time": "2021-11-01T13:48:20.439Z"
   },
   {
    "duration": 1112,
    "start_time": "2021-11-01T13:48:21.239Z"
   },
   {
    "duration": 1422,
    "start_time": "2021-11-01T13:48:23.110Z"
   },
   {
    "duration": 12107,
    "start_time": "2021-11-01T13:48:28.614Z"
   },
   {
    "duration": 470,
    "start_time": "2021-11-01T13:48:43.070Z"
   },
   {
    "duration": 7,
    "start_time": "2021-11-01T13:48:47.301Z"
   },
   {
    "duration": 10,
    "start_time": "2021-11-01T13:48:47.678Z"
   },
   {
    "duration": 6,
    "start_time": "2021-11-01T13:48:48.353Z"
   },
   {
    "duration": 8,
    "start_time": "2021-11-01T13:48:48.757Z"
   },
   {
    "duration": 2,
    "start_time": "2021-11-01T13:48:51.334Z"
   },
   {
    "duration": 5,
    "start_time": "2021-11-01T13:48:51.783Z"
   },
   {
    "duration": 12,
    "start_time": "2021-11-01T13:48:52.533Z"
   },
   {
    "duration": 10,
    "start_time": "2021-11-01T13:48:53.335Z"
   },
   {
    "duration": 27,
    "start_time": "2021-11-01T13:48:54.470Z"
   },
   {
    "duration": 28,
    "start_time": "2021-11-01T13:48:54.718Z"
   },
   {
    "duration": 28,
    "start_time": "2021-11-01T13:48:54.957Z"
   },
   {
    "duration": 28,
    "start_time": "2021-11-01T13:48:55.222Z"
   },
   {
    "duration": 8,
    "start_time": "2021-11-01T13:48:57.909Z"
   },
   {
    "duration": 7,
    "start_time": "2021-11-01T13:48:58.149Z"
   },
   {
    "duration": 4,
    "start_time": "2021-11-01T13:48:58.677Z"
   },
   {
    "duration": 3,
    "start_time": "2021-11-01T13:48:58.941Z"
   },
   {
    "duration": 1143,
    "start_time": "2021-11-01T13:48:59.446Z"
   },
   {
    "duration": -283,
    "start_time": "2021-11-01T13:49:00.874Z"
   },
   {
    "duration": -288,
    "start_time": "2021-11-01T13:49:00.880Z"
   },
   {
    "duration": 16,
    "start_time": "2021-11-01T13:49:01.574Z"
   },
   {
    "duration": 23,
    "start_time": "2021-11-01T13:49:01.967Z"
   },
   {
    "duration": 5,
    "start_time": "2021-11-01T13:49:03.294Z"
   },
   {
    "duration": 10,
    "start_time": "2021-11-01T13:49:03.726Z"
   },
   {
    "duration": 6,
    "start_time": "2021-11-01T13:49:04.190Z"
   },
   {
    "duration": 666,
    "start_time": "2021-11-01T13:49:06.422Z"
   },
   {
    "duration": 21,
    "start_time": "2021-11-01T13:49:07.090Z"
   },
   {
    "duration": 703,
    "start_time": "2021-11-01T13:49:07.114Z"
   },
   {
    "duration": 3,
    "start_time": "2021-11-01T13:49:09.061Z"
   },
   {
    "duration": 4,
    "start_time": "2021-11-01T13:49:09.590Z"
   },
   {
    "duration": 2,
    "start_time": "2021-11-01T13:49:10.454Z"
   },
   {
    "duration": 4,
    "start_time": "2021-11-01T13:49:10.854Z"
   },
   {
    "duration": 348,
    "start_time": "2021-11-01T13:49:12.022Z"
   },
   {
    "duration": 7,
    "start_time": "2021-11-01T13:49:18.727Z"
   },
   {
    "duration": 8,
    "start_time": "2021-11-01T13:49:21.334Z"
   },
   {
    "duration": 7,
    "start_time": "2021-11-01T13:49:46.557Z"
   },
   {
    "duration": 5,
    "start_time": "2021-11-01T13:50:00.727Z"
   },
   {
    "duration": 5,
    "start_time": "2021-11-01T13:50:05.742Z"
   },
   {
    "duration": 4,
    "start_time": "2021-11-01T13:50:10.710Z"
   },
   {
    "duration": 7,
    "start_time": "2021-11-01T13:50:18.943Z"
   },
   {
    "duration": 4,
    "start_time": "2021-11-01T13:50:25.646Z"
   },
   {
    "duration": 5,
    "start_time": "2021-11-01T13:50:43.616Z"
   },
   {
    "duration": 5,
    "start_time": "2021-11-01T13:51:40.287Z"
   },
   {
    "duration": 439,
    "start_time": "2021-11-01T13:51:54.406Z"
   },
   {
    "duration": 728,
    "start_time": "2021-11-01T13:52:01.529Z"
   },
   {
    "duration": 5,
    "start_time": "2021-11-01T13:54:22.798Z"
   },
   {
    "duration": 830,
    "start_time": "2021-11-01T13:54:26.502Z"
   },
   {
    "duration": 5,
    "start_time": "2021-11-01T13:54:58.368Z"
   },
   {
    "duration": 5,
    "start_time": "2021-11-01T13:59:31.446Z"
   },
   {
    "duration": 783,
    "start_time": "2021-11-01T13:59:34.574Z"
   },
   {
    "duration": 4,
    "start_time": "2021-11-01T14:00:32.697Z"
   },
   {
    "duration": 6,
    "start_time": "2021-11-01T14:00:37.551Z"
   },
   {
    "duration": 5,
    "start_time": "2021-11-01T14:00:42.310Z"
   },
   {
    "duration": 7,
    "start_time": "2021-11-01T14:01:22.303Z"
   },
   {
    "duration": 5,
    "start_time": "2021-11-01T14:05:50.271Z"
   },
   {
    "duration": 5,
    "start_time": "2021-11-01T14:05:58.703Z"
   },
   {
    "duration": 5,
    "start_time": "2021-11-01T14:06:18.887Z"
   },
   {
    "duration": 4,
    "start_time": "2021-11-01T14:06:53.431Z"
   },
   {
    "duration": 2721,
    "start_time": "2021-11-01T14:12:10.728Z"
   },
   {
    "duration": 3667,
    "start_time": "2021-11-01T14:21:38.337Z"
   },
   {
    "duration": 10,
    "start_time": "2021-11-01T14:38:35.634Z"
   },
   {
    "duration": 747,
    "start_time": "2021-11-01T14:38:36.561Z"
   },
   {
    "duration": 101,
    "start_time": "2021-11-01T14:42:50.810Z"
   },
   {
    "duration": 363,
    "start_time": "2021-11-01T14:43:33.115Z"
   },
   {
    "duration": 56,
    "start_time": "2021-11-01T14:45:03.457Z"
   },
   {
    "duration": 16,
    "start_time": "2021-11-01T14:47:08.275Z"
   },
   {
    "duration": 354,
    "start_time": "2021-11-01T14:47:29.027Z"
   },
   {
    "duration": 344,
    "start_time": "2021-11-01T14:48:01.796Z"
   },
   {
    "duration": 18,
    "start_time": "2021-11-01T14:49:00.531Z"
   },
   {
    "duration": 103,
    "start_time": "2021-11-01T14:50:24.609Z"
   },
   {
    "duration": 354,
    "start_time": "2021-11-01T14:51:05.850Z"
   },
   {
    "duration": 56,
    "start_time": "2021-11-01T14:51:10.858Z"
   },
   {
    "duration": 3,
    "start_time": "2021-11-01T14:52:45.147Z"
   },
   {
    "duration": 268,
    "start_time": "2021-11-01T14:52:50.642Z"
   },
   {
    "duration": 4,
    "start_time": "2021-11-01T14:53:22.515Z"
   },
   {
    "duration": 4,
    "start_time": "2021-11-01T14:57:28.843Z"
   },
   {
    "duration": 8,
    "start_time": "2021-11-01T14:58:12.196Z"
   },
   {
    "duration": 120,
    "start_time": "2021-11-01T14:58:13.996Z"
   },
   {
    "duration": 82,
    "start_time": "2021-11-01T14:58:39.627Z"
   },
   {
    "duration": 108,
    "start_time": "2021-11-01T14:58:49.099Z"
   },
   {
    "duration": 500,
    "start_time": "2021-11-01T14:59:12.868Z"
   },
   {
    "duration": 414,
    "start_time": "2021-11-01T15:00:33.339Z"
   },
   {
    "duration": 493,
    "start_time": "2021-11-01T15:04:09.347Z"
   },
   {
    "duration": 88,
    "start_time": "2021-11-01T15:04:27.235Z"
   },
   {
    "duration": 26,
    "start_time": "2021-11-01T15:04:43.795Z"
   },
   {
    "duration": 9,
    "start_time": "2021-11-01T15:06:05.387Z"
   },
   {
    "duration": 53,
    "start_time": "2021-11-01T15:06:12.764Z"
   },
   {
    "duration": 3,
    "start_time": "2021-11-01T15:35:01.652Z"
   },
   {
    "duration": 4,
    "start_time": "2021-11-01T15:35:20.036Z"
   },
   {
    "duration": 8,
    "start_time": "2021-11-01T15:35:25.484Z"
   },
   {
    "duration": 34,
    "start_time": "2021-11-01T15:35:26.484Z"
   },
   {
    "duration": 5,
    "start_time": "2021-11-01T15:50:06.517Z"
   },
   {
    "duration": 3,
    "start_time": "2021-11-01T15:50:06.909Z"
   },
   {
    "duration": 4,
    "start_time": "2021-11-01T15:50:25.130Z"
   },
   {
    "duration": 3,
    "start_time": "2021-11-01T15:50:25.840Z"
   },
   {
    "duration": 8,
    "start_time": "2021-11-01T15:50:35.224Z"
   },
   {
    "duration": 5,
    "start_time": "2021-11-01T15:50:38.821Z"
   },
   {
    "duration": 4,
    "start_time": "2021-11-01T15:57:55.523Z"
   },
   {
    "duration": 5,
    "start_time": "2021-11-01T15:58:36.209Z"
   },
   {
    "duration": 5,
    "start_time": "2021-11-01T15:58:43.641Z"
   },
   {
    "duration": 358,
    "start_time": "2021-11-01T15:58:55.020Z"
   },
   {
    "duration": 4,
    "start_time": "2021-11-01T15:59:44.179Z"
   },
   {
    "duration": 337,
    "start_time": "2021-11-01T15:59:55.628Z"
   },
   {
    "duration": 3,
    "start_time": "2021-11-01T15:59:57.427Z"
   },
   {
    "duration": 4,
    "start_time": "2021-11-01T15:59:57.860Z"
   },
   {
    "duration": 4,
    "start_time": "2021-11-01T16:00:16.834Z"
   },
   {
    "duration": 6,
    "start_time": "2021-11-01T16:03:17.107Z"
   },
   {
    "duration": 6,
    "start_time": "2021-11-01T16:03:50.778Z"
   },
   {
    "duration": 7,
    "start_time": "2021-11-01T16:06:33.652Z"
   },
   {
    "duration": 9,
    "start_time": "2021-11-01T16:06:37.252Z"
   },
   {
    "duration": 7,
    "start_time": "2021-11-01T16:07:51.091Z"
   },
   {
    "duration": 4,
    "start_time": "2021-11-01T16:07:57.460Z"
   },
   {
    "duration": 7,
    "start_time": "2021-11-01T16:09:36.139Z"
   },
   {
    "duration": 5,
    "start_time": "2021-11-01T16:10:32.660Z"
   },
   {
    "duration": 4,
    "start_time": "2021-11-01T16:11:21.836Z"
   },
   {
    "duration": 5,
    "start_time": "2021-11-01T16:11:47.019Z"
   },
   {
    "duration": 6,
    "start_time": "2021-11-01T16:12:01.819Z"
   },
   {
    "duration": 5,
    "start_time": "2021-11-01T16:12:05.747Z"
   },
   {
    "duration": 5,
    "start_time": "2021-11-01T16:14:23.406Z"
   },
   {
    "duration": 6,
    "start_time": "2021-11-01T16:21:31.453Z"
   },
   {
    "duration": 5,
    "start_time": "2021-11-01T16:24:11.358Z"
   },
   {
    "duration": 4,
    "start_time": "2021-11-01T16:24:45.093Z"
   },
   {
    "duration": 6,
    "start_time": "2021-11-01T16:26:18.460Z"
   },
   {
    "duration": 5,
    "start_time": "2021-11-01T16:26:55.748Z"
   },
   {
    "duration": 5,
    "start_time": "2021-11-01T16:26:58.083Z"
   },
   {
    "duration": 3,
    "start_time": "2021-11-01T16:26:58.628Z"
   },
   {
    "duration": 6,
    "start_time": "2021-11-01T16:27:06.964Z"
   },
   {
    "duration": 11,
    "start_time": "2021-11-01T16:38:30.157Z"
   },
   {
    "duration": 11,
    "start_time": "2021-11-01T16:39:30.143Z"
   },
   {
    "duration": 5,
    "start_time": "2021-11-01T16:39:42.428Z"
   },
   {
    "duration": 6,
    "start_time": "2021-11-01T16:40:15.462Z"
   },
   {
    "duration": 5,
    "start_time": "2021-11-01T16:40:29.149Z"
   },
   {
    "duration": 6,
    "start_time": "2021-11-01T16:40:41.950Z"
   },
   {
    "duration": 5,
    "start_time": "2021-11-01T16:42:07.654Z"
   },
   {
    "duration": 4,
    "start_time": "2021-11-01T16:43:10.598Z"
   },
   {
    "duration": 9522,
    "start_time": "2021-11-01T16:45:38.799Z"
   },
   {
    "duration": 8443,
    "start_time": "2021-11-01T16:46:04.016Z"
   },
   {
    "duration": 9296,
    "start_time": "2021-11-01T16:46:18.774Z"
   },
   {
    "duration": 5,
    "start_time": "2021-11-01T16:46:47.246Z"
   },
   {
    "duration": 4,
    "start_time": "2021-11-01T16:47:26.102Z"
   },
   {
    "duration": 5,
    "start_time": "2021-11-01T16:47:39.605Z"
   },
   {
    "duration": 5,
    "start_time": "2021-11-01T16:47:46.326Z"
   },
   {
    "duration": 5,
    "start_time": "2021-11-01T16:48:52.846Z"
   },
   {
    "duration": 5,
    "start_time": "2021-11-01T17:21:01.385Z"
   },
   {
    "duration": 4,
    "start_time": "2021-11-01T17:21:09.680Z"
   },
   {
    "duration": 6,
    "start_time": "2021-11-01T17:21:27.793Z"
   },
   {
    "duration": 1339,
    "start_time": "2021-11-01T17:22:30.625Z"
   },
   {
    "duration": 3,
    "start_time": "2021-11-01T17:22:50.576Z"
   },
   {
    "duration": 5,
    "start_time": "2021-11-01T17:22:56.304Z"
   },
   {
    "duration": 5,
    "start_time": "2021-11-01T17:23:40.896Z"
   },
   {
    "duration": 5,
    "start_time": "2021-11-01T17:23:48.712Z"
   },
   {
    "duration": 5,
    "start_time": "2021-11-01T17:23:49.506Z"
   },
   {
    "duration": 5,
    "start_time": "2021-11-01T17:24:21.289Z"
   },
   {
    "duration": 6,
    "start_time": "2021-11-01T17:24:37.385Z"
   },
   {
    "duration": 6,
    "start_time": "2021-11-01T17:24:50.289Z"
   },
   {
    "duration": 4,
    "start_time": "2021-11-01T17:24:55.320Z"
   },
   {
    "duration": 5,
    "start_time": "2021-11-01T17:25:09.841Z"
   },
   {
    "duration": 11,
    "start_time": "2021-11-01T17:26:15.216Z"
   },
   {
    "duration": 6,
    "start_time": "2021-11-01T17:26:42.248Z"
   },
   {
    "duration": 11,
    "start_time": "2021-11-01T17:27:41.169Z"
   },
   {
    "duration": 12,
    "start_time": "2021-11-01T17:27:50.281Z"
   },
   {
    "duration": 11,
    "start_time": "2021-11-01T17:27:57.145Z"
   },
   {
    "duration": 367,
    "start_time": "2021-11-01T17:28:50.873Z"
   },
   {
    "duration": 6,
    "start_time": "2021-11-01T17:29:25.025Z"
   },
   {
    "duration": 6,
    "start_time": "2021-11-01T17:29:48.089Z"
   },
   {
    "duration": 21,
    "start_time": "2021-11-01T17:29:58.015Z"
   },
   {
    "duration": 7,
    "start_time": "2021-11-01T17:30:18.464Z"
   },
   {
    "duration": 7,
    "start_time": "2021-11-01T17:30:23.849Z"
   },
   {
    "duration": 6,
    "start_time": "2021-11-01T17:30:39.945Z"
   },
   {
    "duration": 11,
    "start_time": "2021-11-01T17:31:25.545Z"
   },
   {
    "duration": 5,
    "start_time": "2021-11-01T17:31:45.256Z"
   },
   {
    "duration": 12,
    "start_time": "2021-11-01T17:31:55.929Z"
   },
   {
    "duration": 5,
    "start_time": "2021-11-01T17:32:02.792Z"
   },
   {
    "duration": 341,
    "start_time": "2021-11-01T17:32:35.424Z"
   },
   {
    "duration": 6,
    "start_time": "2021-11-01T17:32:49.345Z"
   },
   {
    "duration": 11,
    "start_time": "2021-11-01T17:32:50.330Z"
   },
   {
    "duration": 6,
    "start_time": "2021-11-01T17:33:26.082Z"
   },
   {
    "duration": 9,
    "start_time": "2021-11-01T17:33:27.889Z"
   },
   {
    "duration": 7,
    "start_time": "2021-11-01T17:34:41.401Z"
   },
   {
    "duration": 4,
    "start_time": "2021-11-01T17:36:11.841Z"
   },
   {
    "duration": 5,
    "start_time": "2021-11-01T17:36:23.106Z"
   },
   {
    "duration": 11,
    "start_time": "2021-11-01T17:36:50.921Z"
   },
   {
    "duration": 5,
    "start_time": "2021-11-01T17:36:52.474Z"
   },
   {
    "duration": 5,
    "start_time": "2021-11-01T17:36:53.624Z"
   },
   {
    "duration": 6,
    "start_time": "2021-11-01T17:36:54.386Z"
   },
   {
    "duration": 11,
    "start_time": "2021-11-01T17:36:55.772Z"
   },
   {
    "duration": 5,
    "start_time": "2021-11-01T17:36:56.689Z"
   },
   {
    "duration": 4,
    "start_time": "2021-11-01T17:36:57.561Z"
   },
   {
    "duration": 3,
    "start_time": "2021-11-01T17:36:58.321Z"
   },
   {
    "duration": 6,
    "start_time": "2021-11-01T17:37:00.977Z"
   },
   {
    "duration": 9,
    "start_time": "2021-11-01T17:37:15.155Z"
   },
   {
    "duration": 353,
    "start_time": "2021-11-01T17:37:54.666Z"
   },
   {
    "duration": 416,
    "start_time": "2021-11-01T17:38:03.257Z"
   },
   {
    "duration": 12,
    "start_time": "2021-11-01T17:38:41.068Z"
   },
   {
    "duration": 9,
    "start_time": "2021-11-01T17:38:57.154Z"
   },
   {
    "duration": 8,
    "start_time": "2021-11-01T17:39:38.698Z"
   },
   {
    "duration": 11,
    "start_time": "2021-11-01T17:39:47.583Z"
   },
   {
    "duration": 11,
    "start_time": "2021-11-01T17:40:11.603Z"
   },
   {
    "duration": 110,
    "start_time": "2021-11-01T17:40:54.473Z"
   },
   {
    "duration": 11,
    "start_time": "2021-11-01T17:41:04.273Z"
   },
   {
    "duration": 4,
    "start_time": "2021-11-01T17:44:14.810Z"
   },
   {
    "duration": 685,
    "start_time": "2021-11-01T17:44:23.770Z"
   },
   {
    "duration": 4,
    "start_time": "2021-11-01T17:44:54.162Z"
   },
   {
    "duration": 8,
    "start_time": "2021-11-01T17:44:57.747Z"
   },
   {
    "duration": 6,
    "start_time": "2021-11-01T17:45:57.298Z"
   },
   {
    "duration": 6,
    "start_time": "2021-11-01T17:46:36.955Z"
   },
   {
    "duration": 6,
    "start_time": "2021-11-01T17:47:22.714Z"
   },
   {
    "duration": 8,
    "start_time": "2021-11-01T17:47:27.171Z"
   },
   {
    "duration": 6,
    "start_time": "2021-11-01T17:48:24.333Z"
   },
   {
    "duration": 3,
    "start_time": "2021-11-01T17:48:26.555Z"
   },
   {
    "duration": 8,
    "start_time": "2021-11-01T17:48:26.561Z"
   },
   {
    "duration": 7,
    "start_time": "2021-11-01T17:48:27.769Z"
   },
   {
    "duration": 8,
    "start_time": "2021-11-01T17:48:28.521Z"
   },
   {
    "duration": 5,
    "start_time": "2021-11-01T17:49:30.957Z"
   },
   {
    "duration": 5,
    "start_time": "2021-11-01T17:49:31.309Z"
   },
   {
    "duration": 1691,
    "start_time": "2021-11-01T17:49:31.676Z"
   },
   {
    "duration": 5,
    "start_time": "2021-11-01T17:50:47.484Z"
   },
   {
    "duration": 2419,
    "start_time": "2021-11-01T17:50:48.397Z"
   },
   {
    "duration": 4,
    "start_time": "2021-11-01T17:51:24.716Z"
   },
   {
    "duration": 7,
    "start_time": "2021-11-01T17:51:25.269Z"
   },
   {
    "duration": 7,
    "start_time": "2021-11-01T17:51:26.029Z"
   },
   {
    "duration": 7,
    "start_time": "2021-11-01T17:51:26.599Z"
   },
   {
    "duration": 5,
    "start_time": "2021-11-01T17:52:05.831Z"
   },
   {
    "duration": 36,
    "start_time": "2021-11-01T17:52:05.838Z"
   },
   {
    "duration": 9,
    "start_time": "2021-11-01T17:52:06.655Z"
   },
   {
    "duration": 7,
    "start_time": "2021-11-01T17:52:07.496Z"
   },
   {
    "duration": 7,
    "start_time": "2021-11-01T17:52:08.661Z"
   },
   {
    "duration": 7,
    "start_time": "2021-11-01T17:52:13.694Z"
   },
   {
    "duration": 7,
    "start_time": "2021-11-01T17:52:16.364Z"
   },
   {
    "duration": 7,
    "start_time": "2021-11-01T17:52:18.787Z"
   },
   {
    "duration": 4,
    "start_time": "2021-11-01T17:52:22.196Z"
   },
   {
    "duration": 24,
    "start_time": "2021-11-01T17:52:22.202Z"
   },
   {
    "duration": 9,
    "start_time": "2021-11-01T17:52:24.548Z"
   },
   {
    "duration": 8,
    "start_time": "2021-11-01T17:52:26.899Z"
   },
   {
    "duration": 4,
    "start_time": "2021-11-01T17:53:06.253Z"
   },
   {
    "duration": 5,
    "start_time": "2021-11-01T17:53:35.525Z"
   },
   {
    "duration": 5,
    "start_time": "2021-11-01T17:53:35.892Z"
   },
   {
    "duration": 7,
    "start_time": "2021-11-01T17:53:36.308Z"
   },
   {
    "duration": 324,
    "start_time": "2021-11-01T19:50:41.542Z"
   },
   {
    "duration": 14,
    "start_time": "2021-11-01T19:50:50.930Z"
   },
   {
    "duration": 4,
    "start_time": "2021-11-01T19:50:58.839Z"
   },
   {
    "duration": 4,
    "start_time": "2021-11-01T19:51:33.827Z"
   },
   {
    "duration": 6,
    "start_time": "2021-11-01T19:54:29.442Z"
   },
   {
    "duration": 6,
    "start_time": "2021-11-01T19:54:33.866Z"
   },
   {
    "duration": 5,
    "start_time": "2021-11-01T19:54:39.669Z"
   },
   {
    "duration": 4,
    "start_time": "2021-11-01T19:55:28.733Z"
   },
   {
    "duration": 6,
    "start_time": "2021-11-01T19:56:20.224Z"
   },
   {
    "duration": 5,
    "start_time": "2021-11-01T19:57:12.235Z"
   },
   {
    "duration": 374,
    "start_time": "2021-11-01T19:58:21.044Z"
   },
   {
    "duration": 4,
    "start_time": "2021-11-01T20:00:10.979Z"
   },
   {
    "duration": 4,
    "start_time": "2021-11-01T20:01:28.229Z"
   },
   {
    "duration": 5,
    "start_time": "2021-11-01T20:01:32.468Z"
   },
   {
    "duration": 3018,
    "start_time": "2021-11-01T20:05:52.893Z"
   },
   {
    "duration": 12,
    "start_time": "2021-11-01T20:09:27.875Z"
   },
   {
    "duration": 709,
    "start_time": "2021-11-01T20:09:33.989Z"
   },
   {
    "duration": 6,
    "start_time": "2021-11-01T20:09:50.215Z"
   },
   {
    "duration": 4,
    "start_time": "2021-11-01T20:13:05.352Z"
   },
   {
    "duration": 8,
    "start_time": "2021-11-01T20:13:15.240Z"
   },
   {
    "duration": 88,
    "start_time": "2021-11-01T20:13:16.721Z"
   },
   {
    "duration": 6,
    "start_time": "2021-11-01T20:13:40.326Z"
   },
   {
    "duration": 6,
    "start_time": "2021-11-01T20:13:41.438Z"
   },
   {
    "duration": 7,
    "start_time": "2021-11-01T20:13:45.459Z"
   },
   {
    "duration": 3,
    "start_time": "2021-11-01T20:14:41.203Z"
   },
   {
    "duration": 24,
    "start_time": "2021-11-01T20:15:08.611Z"
   },
   {
    "duration": 17,
    "start_time": "2021-11-01T20:15:15.451Z"
   },
   {
    "duration": 4,
    "start_time": "2021-11-01T20:16:23.845Z"
   },
   {
    "duration": 8,
    "start_time": "2021-11-01T20:16:30.749Z"
   },
   {
    "duration": 151,
    "start_time": "2021-11-01T20:16:34.356Z"
   },
   {
    "duration": 7,
    "start_time": "2021-11-01T20:18:16.603Z"
   },
   {
    "duration": 7,
    "start_time": "2021-11-01T20:18:17.670Z"
   },
   {
    "duration": 6,
    "start_time": "2021-11-01T20:18:19.140Z"
   },
   {
    "duration": 7,
    "start_time": "2021-11-01T20:28:19.484Z"
   },
   {
    "duration": 7,
    "start_time": "2021-11-01T20:28:21.243Z"
   },
   {
    "duration": 5607,
    "start_time": "2021-11-03T11:15:34.733Z"
   },
   {
    "duration": 6,
    "start_time": "2021-11-03T11:29:03.083Z"
   },
   {
    "duration": 365,
    "start_time": "2021-11-03T11:29:38.944Z"
   },
   {
    "duration": 2892,
    "start_time": "2021-11-03T11:29:49.793Z"
   },
   {
    "duration": 252,
    "start_time": "2021-11-03T11:29:54.431Z"
   },
   {
    "duration": 17,
    "start_time": "2021-11-03T11:29:55.321Z"
   },
   {
    "duration": 199,
    "start_time": "2021-11-03T11:29:58.568Z"
   },
   {
    "duration": 5,
    "start_time": "2021-11-03T11:29:59.167Z"
   },
   {
    "duration": 10,
    "start_time": "2021-11-03T11:29:59.599Z"
   },
   {
    "duration": 6,
    "start_time": "2021-11-03T11:30:01.560Z"
   },
   {
    "duration": 7,
    "start_time": "2021-11-03T11:30:01.984Z"
   },
   {
    "duration": 287,
    "start_time": "2021-11-03T11:30:02.776Z"
   },
   {
    "duration": 273,
    "start_time": "2021-11-03T11:30:03.278Z"
   },
   {
    "duration": 7005,
    "start_time": "2021-11-03T11:30:40.838Z"
   },
   {
    "duration": 2772,
    "start_time": "2021-11-03T11:30:47.846Z"
   },
   {
    "duration": 208,
    "start_time": "2021-11-03T11:30:57.643Z"
   },
   {
    "duration": 16,
    "start_time": "2021-11-03T11:30:57.853Z"
   },
   {
    "duration": 209,
    "start_time": "2021-11-03T11:30:57.871Z"
   },
   {
    "duration": 4,
    "start_time": "2021-11-03T11:30:58.411Z"
   },
   {
    "duration": 18,
    "start_time": "2021-11-03T11:30:58.417Z"
   },
   {
    "duration": 18,
    "start_time": "2021-11-03T11:30:58.437Z"
   },
   {
    "duration": 8,
    "start_time": "2021-11-03T11:30:58.574Z"
   },
   {
    "duration": 282,
    "start_time": "2021-11-03T11:30:58.776Z"
   },
   {
    "duration": -655,
    "start_time": "2021-11-03T11:30:59.715Z"
   },
   {
    "duration": 303,
    "start_time": "2021-11-03T11:30:59.093Z"
   },
   {
    "duration": 282,
    "start_time": "2021-11-03T11:31:04.374Z"
   },
   {
    "duration": 692,
    "start_time": "2021-11-03T12:18:09.781Z"
   },
   {
    "duration": 3482,
    "start_time": "2021-11-03T12:18:17.534Z"
   },
   {
    "duration": 4253,
    "start_time": "2021-11-03T12:18:22.670Z"
   },
   {
    "duration": 4182,
    "start_time": "2021-11-03T12:18:42.413Z"
   },
   {
    "duration": 381,
    "start_time": "2021-11-03T12:20:20.308Z"
   },
   {
    "duration": 4,
    "start_time": "2021-11-03T12:20:23.612Z"
   },
   {
    "duration": 267,
    "start_time": "2021-11-03T12:20:24.019Z"
   },
   {
    "duration": 7,
    "start_time": "2021-11-03T12:20:30.474Z"
   },
   {
    "duration": 201,
    "start_time": "2021-11-03T13:01:51.256Z"
   },
   {
    "duration": 19,
    "start_time": "2021-11-03T13:01:51.849Z"
   },
   {
    "duration": 190,
    "start_time": "2021-11-03T13:01:52.990Z"
   },
   {
    "duration": 5,
    "start_time": "2021-11-03T13:01:53.774Z"
   },
   {
    "duration": 10,
    "start_time": "2021-11-03T13:01:54.176Z"
   },
   {
    "duration": 7,
    "start_time": "2021-11-03T13:01:54.590Z"
   },
   {
    "duration": 9,
    "start_time": "2021-11-03T13:01:54.878Z"
   },
   {
    "duration": 225,
    "start_time": "2021-11-03T13:01:55.210Z"
   },
   {
    "duration": 241,
    "start_time": "2021-11-03T13:01:56.471Z"
   },
   {
    "duration": 212,
    "start_time": "2021-11-03T13:01:57.056Z"
   },
   {
    "duration": 965,
    "start_time": "2021-11-03T13:01:57.912Z"
   },
   {
    "duration": 1145,
    "start_time": "2021-11-03T13:01:58.878Z"
   },
   {
    "duration": 12105,
    "start_time": "2021-11-03T13:02:00.503Z"
   },
   {
    "duration": 463,
    "start_time": "2021-11-03T13:02:12.610Z"
   },
   {
    "duration": 5,
    "start_time": "2021-11-03T13:05:08.224Z"
   },
   {
    "duration": 272,
    "start_time": "2021-11-03T13:05:08.824Z"
   },
   {
    "duration": 3,
    "start_time": "2021-11-03T13:05:19.785Z"
   },
   {
    "duration": 5,
    "start_time": "2021-11-03T13:05:20.336Z"
   },
   {
    "duration": 10,
    "start_time": "2021-11-03T13:05:21.072Z"
   },
   {
    "duration": 14,
    "start_time": "2021-11-03T13:05:21.441Z"
   },
   {
    "duration": 33,
    "start_time": "2021-11-03T13:05:22.142Z"
   },
   {
    "duration": 26,
    "start_time": "2021-11-03T13:05:22.569Z"
   },
   {
    "duration": 24,
    "start_time": "2021-11-03T13:05:22.986Z"
   },
   {
    "duration": 28,
    "start_time": "2021-11-03T13:05:23.386Z"
   },
   {
    "duration": 4,
    "start_time": "2021-11-03T13:05:27.182Z"
   },
   {
    "duration": 23,
    "start_time": "2021-11-03T13:05:27.712Z"
   },
   {
    "duration": 24,
    "start_time": "2021-11-03T13:06:01.457Z"
   },
   {
    "duration": 29,
    "start_time": "2021-11-03T13:06:08.040Z"
   },
   {
    "duration": 23,
    "start_time": "2021-11-03T13:06:18.793Z"
   },
   {
    "duration": 5,
    "start_time": "2021-11-03T13:14:13.514Z"
   },
   {
    "duration": 10,
    "start_time": "2021-11-03T13:14:18.745Z"
   },
   {
    "duration": 5,
    "start_time": "2021-11-03T13:14:23.168Z"
   },
   {
    "duration": 8,
    "start_time": "2021-11-03T13:17:21.178Z"
   },
   {
    "duration": 5,
    "start_time": "2021-11-03T13:17:25.514Z"
   },
   {
    "duration": 276,
    "start_time": "2021-11-03T13:18:02.194Z"
   },
   {
    "duration": 3,
    "start_time": "2021-11-03T13:18:07.312Z"
   },
   {
    "duration": 4,
    "start_time": "2021-11-03T13:18:07.785Z"
   },
   {
    "duration": 9,
    "start_time": "2021-11-03T13:18:20.347Z"
   },
   {
    "duration": 3,
    "start_time": "2021-11-03T13:18:21.409Z"
   },
   {
    "duration": 6,
    "start_time": "2021-11-03T13:18:25.104Z"
   },
   {
    "duration": 7,
    "start_time": "2021-11-03T13:18:25.665Z"
   },
   {
    "duration": 7,
    "start_time": "2021-11-03T13:18:26.241Z"
   },
   {
    "duration": 23,
    "start_time": "2021-11-03T13:18:28.609Z"
   },
   {
    "duration": 4,
    "start_time": "2021-11-03T13:26:50.785Z"
   },
   {
    "duration": 10,
    "start_time": "2021-11-03T13:26:51.313Z"
   },
   {
    "duration": 4,
    "start_time": "2021-11-03T13:26:52.825Z"
   },
   {
    "duration": 5,
    "start_time": "2021-11-03T13:37:32.953Z"
   },
   {
    "duration": 28,
    "start_time": "2021-11-03T13:37:38.772Z"
   },
   {
    "duration": 7,
    "start_time": "2021-11-03T13:41:00.546Z"
   },
   {
    "duration": 3,
    "start_time": "2021-11-03T13:41:41.099Z"
   },
   {
    "duration": 5,
    "start_time": "2021-11-03T13:41:41.956Z"
   },
   {
    "duration": 4,
    "start_time": "2021-11-03T13:41:46.496Z"
   },
   {
    "duration": 5,
    "start_time": "2021-11-03T13:41:52.170Z"
   },
   {
    "duration": 8,
    "start_time": "2021-11-03T13:41:55.747Z"
   },
   {
    "duration": 5,
    "start_time": "2021-11-03T13:42:03.058Z"
   },
   {
    "duration": 5,
    "start_time": "2021-11-03T13:42:06.106Z"
   },
   {
    "duration": 435,
    "start_time": "2021-11-03T13:42:18.161Z"
   },
   {
    "duration": 5,
    "start_time": "2021-11-03T13:42:26.066Z"
   },
   {
    "duration": 7,
    "start_time": "2021-11-03T13:42:36.378Z"
   },
   {
    "duration": 8,
    "start_time": "2021-11-03T13:42:47.395Z"
   },
   {
    "duration": 7,
    "start_time": "2021-11-03T13:43:03.050Z"
   },
   {
    "duration": 6,
    "start_time": "2021-11-03T13:43:12.866Z"
   },
   {
    "duration": 4,
    "start_time": "2021-11-03T13:48:58.747Z"
   },
   {
    "duration": 26,
    "start_time": "2021-11-03T13:49:03.995Z"
   },
   {
    "duration": 4,
    "start_time": "2021-11-03T14:00:03.771Z"
   },
   {
    "duration": 662,
    "start_time": "2021-11-03T14:00:10.773Z"
   },
   {
    "duration": 5,
    "start_time": "2021-11-03T14:00:40.692Z"
   },
   {
    "duration": 38,
    "start_time": "2021-11-03T14:00:44.013Z"
   },
   {
    "duration": 4,
    "start_time": "2021-11-03T14:24:32.254Z"
   },
   {
    "duration": 29,
    "start_time": "2021-11-03T14:24:36.869Z"
   },
   {
    "duration": 3,
    "start_time": "2021-11-03T15:14:33.609Z"
   },
   {
    "duration": 9,
    "start_time": "2021-11-03T15:14:33.800Z"
   },
   {
    "duration": 5,
    "start_time": "2021-11-03T15:14:34.040Z"
   },
   {
    "duration": 1327,
    "start_time": "2021-11-03T15:17:29.481Z"
   },
   {
    "duration": 9,
    "start_time": "2021-11-03T15:19:59.724Z"
   },
   {
    "duration": 5,
    "start_time": "2021-11-03T15:20:00.177Z"
   },
   {
    "duration": 467,
    "start_time": "2021-11-03T15:20:27.531Z"
   },
   {
    "duration": 4,
    "start_time": "2021-11-03T15:21:18.986Z"
   },
   {
    "duration": 502,
    "start_time": "2021-11-03T15:21:24.025Z"
   },
   {
    "duration": 9,
    "start_time": "2021-11-03T15:22:03.049Z"
   },
   {
    "duration": 453,
    "start_time": "2021-11-03T15:22:24.921Z"
   },
   {
    "duration": 457,
    "start_time": "2021-11-03T15:26:30.339Z"
   },
   {
    "duration": 484,
    "start_time": "2021-11-03T15:26:47.683Z"
   },
   {
    "duration": 7,
    "start_time": "2021-11-03T15:29:07.489Z"
   },
   {
    "duration": 5,
    "start_time": "2021-11-03T15:29:09.914Z"
   },
   {
    "duration": 30,
    "start_time": "2021-11-03T15:30:58.946Z"
   },
   {
    "duration": 473,
    "start_time": "2021-11-03T15:31:36.618Z"
   },
   {
    "duration": 466,
    "start_time": "2021-11-03T15:31:42.811Z"
   },
   {
    "duration": 6,
    "start_time": "2021-11-03T15:36:50.418Z"
   },
   {
    "duration": 7,
    "start_time": "2021-11-03T15:37:01.930Z"
   },
   {
    "duration": 15,
    "start_time": "2021-11-03T15:37:09.097Z"
   },
   {
    "duration": 15,
    "start_time": "2021-11-03T15:38:35.980Z"
   },
   {
    "duration": 1182,
    "start_time": "2021-11-03T15:39:44.777Z"
   },
   {
    "duration": 7,
    "start_time": "2021-11-03T15:39:51.554Z"
   },
   {
    "duration": 16,
    "start_time": "2021-11-03T15:39:59.322Z"
   },
   {
    "duration": 14,
    "start_time": "2021-11-03T15:41:08.281Z"
   },
   {
    "duration": 189,
    "start_time": "2021-11-03T15:41:12.233Z"
   },
   {
    "duration": 228,
    "start_time": "2021-11-03T15:41:13.283Z"
   },
   {
    "duration": 189,
    "start_time": "2021-11-03T15:41:14.618Z"
   },
   {
    "duration": 1002,
    "start_time": "2021-11-03T15:41:16.275Z"
   },
   {
    "duration": 1027,
    "start_time": "2021-11-03T15:41:17.279Z"
   },
   {
    "duration": 201,
    "start_time": "2021-11-03T15:42:03.058Z"
   },
   {
    "duration": 4,
    "start_time": "2021-11-03T15:42:04.130Z"
   },
   {
    "duration": 10,
    "start_time": "2021-11-03T15:42:04.483Z"
   },
   {
    "duration": 7,
    "start_time": "2021-11-03T15:42:04.745Z"
   },
   {
    "duration": 7,
    "start_time": "2021-11-03T15:42:04.962Z"
   },
   {
    "duration": 200,
    "start_time": "2021-11-03T15:42:05.149Z"
   },
   {
    "duration": 229,
    "start_time": "2021-11-03T15:42:05.351Z"
   },
   {
    "duration": 198,
    "start_time": "2021-11-03T15:42:05.641Z"
   },
   {
    "duration": 919,
    "start_time": "2021-11-03T15:42:08.041Z"
   },
   {
    "duration": 1068,
    "start_time": "2021-11-03T15:42:08.962Z"
   },
   {
    "duration": 6,
    "start_time": "2021-11-03T15:42:14.594Z"
   },
   {
    "duration": 5,
    "start_time": "2021-11-03T15:43:10.804Z"
   },
   {
    "duration": 6,
    "start_time": "2021-11-03T15:43:14.026Z"
   },
   {
    "duration": 16,
    "start_time": "2021-11-03T15:43:17.562Z"
   },
   {
    "duration": 2,
    "start_time": "2021-11-03T15:59:27.068Z"
   },
   {
    "duration": 4,
    "start_time": "2021-11-03T15:59:27.508Z"
   },
   {
    "duration": 3,
    "start_time": "2021-11-03T15:59:28.994Z"
   },
   {
    "duration": 5,
    "start_time": "2021-11-03T15:59:29.419Z"
   },
   {
    "duration": 6,
    "start_time": "2021-11-03T15:59:31.394Z"
   },
   {
    "duration": 6,
    "start_time": "2021-11-03T15:59:31.899Z"
   },
   {
    "duration": 8,
    "start_time": "2021-11-03T15:59:32.866Z"
   },
   {
    "duration": 45,
    "start_time": "2021-11-03T15:59:33.716Z"
   },
   {
    "duration": 10,
    "start_time": "2021-11-03T16:03:15.357Z"
   },
   {
    "duration": 99,
    "start_time": "2021-11-03T16:17:42.535Z"
   },
   {
    "duration": 102,
    "start_time": "2021-11-04T05:26:29.680Z"
   }
  ],
  "kernelspec": {
   "display_name": "Python 3",
   "language": "python",
   "name": "python3"
  },
  "language_info": {
   "codemirror_mode": {
    "name": "ipython",
    "version": 3
   },
   "file_extension": ".py",
   "mimetype": "text/x-python",
   "name": "python",
   "nbconvert_exporter": "python",
   "pygments_lexer": "ipython3",
   "version": "3.8.5"
  },
  "toc": {
   "base_numbering": 1,
   "nav_menu": {},
   "number_sections": true,
   "sideBar": true,
   "skip_h1_title": true,
   "title_cell": "Table of Contents",
   "title_sidebar": "Contents",
   "toc_cell": false,
   "toc_position": {},
   "toc_section_display": true,
   "toc_window_display": false
  }
 },
 "nbformat": 4,
 "nbformat_minor": 4
}
