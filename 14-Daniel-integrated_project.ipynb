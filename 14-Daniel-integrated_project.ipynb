{
 "cells": [
  {
   "cell_type": "markdown",
   "id": "a98a3e1c",
   "metadata": {},
   "source": [
    "<div class=\"alert alert-success\">\n",
    "<b>Reviewer's comment V2</b>\n",
    "\t  \n",
    "Thank you for taking the time to improve the project! Now it's accepted. Keep up the good work on the next sprint!\n",
    "\t  \n",
    "</div>"
   ]
  },
  {
   "cell_type": "markdown",
   "id": "f56e2207",
   "metadata": {},
   "source": [
    "**Review**\n",
    "\t  \n",
    "Hi, my name is Dmitry and I will be reviewing your project.\n",
    "  \n",
    "You can find my comments in colored markdown cells:\n",
    "  \n",
    "<div class=\"alert alert-success\">\n",
    "  If everything is done successfully.\n",
    "</div>\n",
    "  \n",
    "<div class=\"alert alert-warning\">\n",
    "  If I have some (optional) suggestions, or questions to think about, or general comments.\n",
    "</div>\n",
    "  \n",
    "<div class=\"alert alert-danger\">\n",
    "  If a section requires some corrections. Work can't be accepted with red comments.\n",
    "</div>\n",
    "  \n",
    "Please don't remove my comments, as it will make further review iterations much harder for me.\n",
    "  \n",
    "Feel free to reply to my comments or ask questions using the following template:\n",
    "  \n",
    "<div class=\"alert alert-info\">\n",
    "  For your comments and questions.\n",
    "</div>\n",
    "  \n",
    "First of all, thank you for turning in the project! You did a great job! There's only one small problem that needs to be fixed before the project can be accepted. It should be very straightforward though."
   ]
  },
  {
   "cell_type": "code",
   "execution_count": 1,
   "id": "528c9714",
   "metadata": {},
   "outputs": [],
   "source": [
    "!pip install -q --user --upgrade pandas matplotlib seaborn sklearn scikit-learn scipy"
   ]
  },
  {
   "cell_type": "code",
   "execution_count": 2,
   "id": "9880564b",
   "metadata": {},
   "outputs": [],
   "source": [
    "import os, warnings\n",
    "from pprint import pprint\n",
    "from IPython.display import display, Markdown\n",
    "\n",
    "import pandas as pd\n",
    "import numpy as np\n",
    "from scipy.stats import ks_2samp\n",
    "\n",
    "import matplotlib.pyplot as plt\n",
    "import matplotlib.dates as mdates\n",
    "import seaborn as sns\n",
    "\n",
    "from sklearn.experimental import enable_halving_search_cv\n",
    "from sklearn.model_selection import cross_validate, HalvingRandomSearchCV\n",
    "from sklearn.metrics import get_scorer, make_scorer, confusion_matrix\n",
    "from sklearn.dummy import DummyRegressor\n",
    "\n",
    "from sklearn.multioutput import MultiOutputRegressor\n",
    "from sklearn.linear_model import LinearRegression, BayesianRidge, Lasso, ElasticNet\n",
    "from sklearn.tree import DecisionTreeRegressor\n",
    "from sklearn.ensemble import RandomForestRegressor, GradientBoostingRegressor\n",
    "\n",
    "from sklearn.pipeline import Pipeline, make_pipeline\n",
    "from sklearn.preprocessing import StandardScaler, MinMaxScaler"
   ]
  },
  {
   "cell_type": "code",
   "execution_count": 3,
   "id": "8cf2b9db",
   "metadata": {},
   "outputs": [],
   "source": [
    "plt.rcParams['figure.figsize'] = (13,7)"
   ]
  },
  {
   "cell_type": "code",
   "execution_count": 4,
   "id": "5cbc9dbd",
   "metadata": {},
   "outputs": [],
   "source": [
    "random_state = 123"
   ]
  },
  {
   "cell_type": "markdown",
   "id": "bec3d080",
   "metadata": {},
   "source": [
    "<br>\n",
    "\n",
    "# Zyfra\n",
    "***\n",
    "## efficiency solutions for heavy industry\n",
    "\n",
    "<br>"
   ]
  },
  {
   "cell_type": "code",
   "execution_count": 5,
   "id": "2e0509bd",
   "metadata": {},
   "outputs": [],
   "source": [
    "def title_md(_title, n=3, u=False):\n",
    "    \"\"\"\"\"\"\n",
    "    \n",
    "    display(Markdown('{} {}'.format('#'*max(min(n, 4), 1), _title) + ('\\n***' if u else '\\n')))\n",
    "    \n",
    "# title_md('aaaa')"
   ]
  },
  {
   "cell_type": "code",
   "execution_count": 6,
   "id": "709d257e",
   "metadata": {},
   "outputs": [],
   "source": [
    "def full(data):\n",
    "    with pd.option_context('display.max_rows', None, 'display.max_columns', None):\n",
    "        display(data)"
   ]
  },
  {
   "cell_type": "code",
   "execution_count": 7,
   "id": "64df5ae1",
   "metadata": {},
   "outputs": [],
   "source": [
    "def get_func(func, series, *args, **kwargs):\n",
    "    if callable(func):\n",
    "        return func(series, *args, **kwargs)\n",
    "    elif isinstance(func, str):\n",
    "        return getattr(series, func)(*args, **kwargs)"
   ]
  },
  {
   "cell_type": "code",
   "execution_count": 8,
   "id": "ba08f484",
   "metadata": {},
   "outputs": [],
   "source": [
    "def outliers_iqr(data):\n",
    "    \"\"\"Returns lower and upper extremes of non-outlier values\"\"\"\n",
    "    \n",
    "    q1 = data.quantile(.25)\n",
    "    q3 = data.quantile(.75)\n",
    "    iqr = q3 - q1\n",
    "    # print(f'Q1: {q1:.0f}\\tQ3: {q3:.0f}\\tIQR: {iqr:.0f}')\n",
    "    \n",
    "    le = q1 - 1.5*iqr\n",
    "    ue = q3 + 1.5*iqr\n",
    "    # print(f'lower extreme: {le:.0f}\\tupper extreme: {ue:.0f}')\n",
    "    \n",
    "    return le, ue\n",
    "\n",
    "# outliers_iqr(raw_feed.sum(axis=1))"
   ]
  },
  {
   "cell_type": "markdown",
   "id": "70bdd531",
   "metadata": {},
   "source": [
    "## Prepare the data"
   ]
  },
  {
   "cell_type": "markdown",
   "id": "363f4dc0",
   "metadata": {},
   "source": [
    "### 1.1. Open the files and look into the data."
   ]
  },
  {
   "cell_type": "code",
   "execution_count": 9,
   "id": "1cd77c5c",
   "metadata": {},
   "outputs": [
    {
     "name": "stdout",
     "output_type": "stream",
     "text": [
      "14-integrated_project_2-review1-fix.ipynb\r\n",
      "\u001b[1m\u001b[36mdrafts\u001b[m\u001b[m\r\n",
      "gold_recovery_full.csv\r\n",
      "gold_recovery_test.csv\r\n",
      "gold_recovery_train.csv\r\n",
      "instruction_en.pdf\r\n"
     ]
    }
   ],
   "source": [
    "!ls"
   ]
  },
  {
   "cell_type": "code",
   "execution_count": 10,
   "id": "b0d077b6",
   "metadata": {},
   "outputs": [],
   "source": [
    "train_df = pd.read_csv('gold_recovery_train.csv')"
   ]
  },
  {
   "cell_type": "code",
   "execution_count": 11,
   "id": "fa47e10e",
   "metadata": {},
   "outputs": [
    {
     "name": "stdout",
     "output_type": "stream",
     "text": [
      "<class 'pandas.core.frame.DataFrame'>\n",
      "RangeIndex: 16860 entries, 0 to 16859\n",
      "Columns: 87 entries, date to secondary_cleaner.state.floatbank6_a_level\n",
      "dtypes: float64(86), object(1)\n",
      "memory usage: 12.3 MB\n"
     ]
    }
   ],
   "source": [
    "train_df.info(memory_usage='deep', verbose=False)"
   ]
  },
  {
   "cell_type": "code",
   "execution_count": 12,
   "id": "97475e0f",
   "metadata": {},
   "outputs": [],
   "source": [
    "test_df = pd.read_csv('gold_recovery_test.csv')"
   ]
  },
  {
   "cell_type": "code",
   "execution_count": 13,
   "id": "af5d7611",
   "metadata": {},
   "outputs": [
    {
     "name": "stdout",
     "output_type": "stream",
     "text": [
      "<class 'pandas.core.frame.DataFrame'>\n",
      "RangeIndex: 5856 entries, 0 to 5855\n",
      "Columns: 53 entries, date to secondary_cleaner.state.floatbank6_a_level\n",
      "dtypes: float64(52), object(1)\n",
      "memory usage: 2.7 MB\n"
     ]
    }
   ],
   "source": [
    "test_df.info(memory_usage='deep', verbose=False)"
   ]
  },
  {
   "cell_type": "code",
   "execution_count": 14,
   "id": "919c6a29",
   "metadata": {},
   "outputs": [],
   "source": [
    "full_df = pd.read_csv('gold_recovery_full.csv')"
   ]
  },
  {
   "cell_type": "code",
   "execution_count": 15,
   "id": "a9e9b5ac",
   "metadata": {},
   "outputs": [
    {
     "name": "stdout",
     "output_type": "stream",
     "text": [
      "<class 'pandas.core.frame.DataFrame'>\n",
      "RangeIndex: 22716 entries, 0 to 22715\n",
      "Columns: 87 entries, date to secondary_cleaner.state.floatbank6_a_level\n",
      "dtypes: float64(86), object(1)\n",
      "memory usage: 16.6 MB\n"
     ]
    }
   ],
   "source": [
    "full_df.info(memory_usage='deep', verbose=False)"
   ]
  },
  {
   "cell_type": "code",
   "execution_count": null,
   "id": "420fcd90",
   "metadata": {},
   "outputs": [],
   "source": []
  },
  {
   "cell_type": "code",
   "execution_count": 16,
   "id": "8e2b085f",
   "metadata": {},
   "outputs": [],
   "source": [
    "def to_date_time(df):\n",
    "    \"\"\"\"\"\"\n",
    "    \n",
    "    df['time'] = pd.to_datetime(df['date'])\n",
    "    df['date'] = df['time'].astype('datetime64[D]')"
   ]
  },
  {
   "cell_type": "code",
   "execution_count": 17,
   "id": "5c121276",
   "metadata": {},
   "outputs": [],
   "source": [
    "to_date_time(train_df)\n",
    "to_date_time(test_df)\n",
    "to_date_time(full_df)"
   ]
  },
  {
   "cell_type": "code",
   "execution_count": 18,
   "id": "6e37645d",
   "metadata": {},
   "outputs": [
    {
     "data": {
      "text/plain": [
       "{'rougher': 0,\n",
       " 'primary_cleaner': 1,\n",
       " 'secondary_cleaner': 2,\n",
       " 'final': 3,\n",
       " 'input': 4,\n",
       " 'output': 5,\n",
       " 'state': 6,\n",
       " 'calculation': 7}"
      ]
     },
     "execution_count": 18,
     "metadata": {},
     "output_type": "execute_result"
    }
   ],
   "source": [
    "_sort = [\n",
    "    'rougher', 'primary_cleaner', 'secondary_cleaner', 'final',\n",
    "    'input', 'output', 'state', 'calculation'\n",
    "]\n",
    "_sort = dict(zip(_sort,range(len(_sort))))\n",
    "_sort"
   ]
  },
  {
   "cell_type": "code",
   "execution_count": 19,
   "id": "50065c72",
   "metadata": {},
   "outputs": [],
   "source": [
    "recovery_features = [\n",
    "    'rougher.input.feed_au',\n",
    "    'rougher.output.tail_au',\n",
    "    'rougher.output.concentrate_au',\n",
    "    'primary_cleaner.output.tail_au',\n",
    "    'primary_cleaner.output.concentrate_au',\n",
    "    'secondary_cleaner.output.tail_au',\n",
    "    'final.output.tail_au',\n",
    "    'final.output.concentrate_au'\n",
    "]"
   ]
  },
  {
   "cell_type": "markdown",
   "id": "dd29749f",
   "metadata": {},
   "source": [
    "<div class=\"alert alert-success\">\n",
    "<b>Reviewer's comment</b>\n",
    "\t  \n",
    "Alright, the data was loaded and inspected!\n",
    "\t  \n",
    "</div>"
   ]
  },
  {
   "cell_type": "markdown",
   "id": "e64c2d7b",
   "metadata": {},
   "source": [
    "### 1.2. Check that recovery is calculated correctly.  \n",
    "Using the training set, calculate recovery for the rougher.output.recovery feature.  \n",
    "Find the MAE between your calculations and the feature values. Provide findings.  "
   ]
  },
  {
   "cell_type": "code",
   "execution_count": 20,
   "id": "884c758d",
   "metadata": {},
   "outputs": [],
   "source": [
    "def simulate_recovery(c, f, t):\n",
    "    \"\"\"\"\"\"\n",
    "    \n",
    "    return ((c * (f - t)) / \n",
    "            (f * (c - t))) * 100"
   ]
  },
  {
   "cell_type": "code",
   "execution_count": 21,
   "id": "b1839ca3",
   "metadata": {},
   "outputs": [],
   "source": [
    "def simulate_rougher_concentrate_recovery(data):\n",
    "    \"\"\"\"\"\"\n",
    "    \n",
    "    return simulate_recovery(\n",
    "        c = data['rougher.output.concentrate_au'],\n",
    "        f = data['rougher.input.feed_au'],\n",
    "        t = data['rougher.output.tail_au']\n",
    "    )"
   ]
  },
  {
   "cell_type": "code",
   "execution_count": 22,
   "id": "1235518a",
   "metadata": {},
   "outputs": [
    {
     "name": "stdout",
     "output_type": "stream",
     "text": [
      "9.303415616264301e-15\n",
      "0.000000000000009303415616264301\n"
     ]
    }
   ],
   "source": [
    "y_true = train_df['rougher.output.recovery']\n",
    "y_pred = simulate_rougher_concentrate_recovery(train_df)\n",
    "mae = np.mean(np.abs(y_true - y_pred))\n",
    "\n",
    "print(mae, np.format_float_positional(mae), sep='\\n')"
   ]
  },
  {
   "cell_type": "markdown",
   "id": "ae37583e",
   "metadata": {},
   "source": [
    "MAE calculated (9e-15) is practically 0.  \n",
    "The recovery feature is calculated correctly."
   ]
  },
  {
   "cell_type": "markdown",
   "id": "b627396a",
   "metadata": {},
   "source": [
    "<div class=\"alert alert-success\">\n",
    "<b>Reviewer's comment</b>\n",
    "\t  \n",
    "Recovery was validated successfully!\n",
    "\t  \n",
    "</div>"
   ]
  },
  {
   "cell_type": "code",
   "execution_count": 23,
   "id": "488e2e06",
   "metadata": {},
   "outputs": [],
   "source": [
    "# def simulate_final_concentrate_recovery(data):\n",
    "#     \"\"\"\"\"\"\n",
    "    \n",
    "#     return simulate_recovery(\n",
    "#         c = data['final.output.concentrate_au'],\n",
    "#         f = data['rougher.output.concentrate_au'],\n",
    "#         t = data['final.output.tail_au']\n",
    "#     )\n",
    "\n",
    "# y_true = train_df['final.output.recovery']\n",
    "# y_pred = simulate_final_concentrate_recovery(train_df)\n",
    "# mae = np.mean(np.abs(y_true - y_pred).replace({np.inf: np.nan}))\n",
    "\n",
    "# print(mae, sep='\\n')"
   ]
  },
  {
   "cell_type": "markdown",
   "id": "602fac5f",
   "metadata": {},
   "source": [
    "### 1.3. Analyze the features not available in the test set.  \n",
    "What are these parameters? What is their type?"
   ]
  },
  {
   "cell_type": "code",
   "execution_count": 24,
   "id": "4ea0accf",
   "metadata": {},
   "outputs": [],
   "source": [
    "def sort_columns(columns):\n",
    "    \"\"\"\"\"\"\n",
    "    \n",
    "    df = pd.DataFrame(\n",
    "        data=columns.str.split('.').tolist(), \n",
    "        columns=['stage', 'parameter_type', 'parameter_name'])\n",
    "        \n",
    "    return (df\n",
    "            .sort_values('parameter_name')\n",
    "            .sort_values(['stage', 'parameter_type', 'parameter_name'], key=lambda x:x.map(_sort))\n",
    "            .dropna())"
   ]
  },
  {
   "cell_type": "code",
   "execution_count": 25,
   "id": "0a60f6c3",
   "metadata": {
    "scrolled": false
   },
   "outputs": [
    {
     "name": "stdout",
     "output_type": "stream",
     "text": [
      "\u001b[92mrougher.input.feed_ag\n",
      "\u001b[92mrougher.input.feed_au\n",
      "\u001b[92mrougher.input.feed_pb\n",
      "\u001b[92mrougher.input.feed_rate\n",
      "\u001b[92mrougher.input.feed_size\n",
      "\u001b[92mrougher.input.feed_sol\n",
      "\u001b[92mrougher.input.floatbank10_sulfate\n",
      "\u001b[92mrougher.input.floatbank10_xanthate\n",
      "\u001b[92mrougher.input.floatbank11_sulfate\n",
      "\u001b[92mrougher.input.floatbank11_xanthate\n",
      "\u001b[91mrougher.output.concentrate_ag\n",
      "\u001b[91mrougher.output.concentrate_au\n",
      "\u001b[91mrougher.output.concentrate_pb\n",
      "\u001b[91mrougher.output.concentrate_sol\n",
      "\u001b[91mrougher.output.recovery\n",
      "\u001b[91mrougher.output.tail_ag\n",
      "\u001b[91mrougher.output.tail_au\n",
      "\u001b[91mrougher.output.tail_pb\n",
      "\u001b[91mrougher.output.tail_sol\n",
      "\u001b[92mrougher.state.floatbank10_a_air\n",
      "\u001b[92mrougher.state.floatbank10_a_level\n",
      "\u001b[92mrougher.state.floatbank10_b_air\n",
      "\u001b[92mrougher.state.floatbank10_b_level\n",
      "\u001b[92mrougher.state.floatbank10_c_air\n",
      "\u001b[92mrougher.state.floatbank10_c_level\n",
      "\u001b[92mrougher.state.floatbank10_d_air\n",
      "\u001b[92mrougher.state.floatbank10_d_level\n",
      "\u001b[92mrougher.state.floatbank10_e_air\n",
      "\u001b[92mrougher.state.floatbank10_e_level\n",
      "\u001b[92mrougher.state.floatbank10_f_air\n",
      "\u001b[92mrougher.state.floatbank10_f_level\n",
      "\u001b[91mrougher.calculation.au_pb_ratio\n",
      "\u001b[91mrougher.calculation.floatbank10_sulfate_to_au_feed\n",
      "\u001b[91mrougher.calculation.floatbank11_sulfate_to_au_feed\n",
      "\u001b[91mrougher.calculation.sulfate_to_au_concentrate\n",
      "\u001b[92mprimary_cleaner.input.depressant\n",
      "\u001b[92mprimary_cleaner.input.feed_size\n",
      "\u001b[92mprimary_cleaner.input.sulfate\n",
      "\u001b[92mprimary_cleaner.input.xanthate\n",
      "\u001b[91mprimary_cleaner.output.concentrate_ag\n",
      "\u001b[91mprimary_cleaner.output.concentrate_au\n",
      "\u001b[91mprimary_cleaner.output.concentrate_pb\n",
      "\u001b[91mprimary_cleaner.output.concentrate_sol\n",
      "\u001b[91mprimary_cleaner.output.tail_ag\n",
      "\u001b[91mprimary_cleaner.output.tail_au\n",
      "\u001b[91mprimary_cleaner.output.tail_pb\n",
      "\u001b[91mprimary_cleaner.output.tail_sol\n",
      "\u001b[92mprimary_cleaner.state.floatbank8_a_air\n",
      "\u001b[92mprimary_cleaner.state.floatbank8_a_level\n",
      "\u001b[92mprimary_cleaner.state.floatbank8_b_air\n",
      "\u001b[92mprimary_cleaner.state.floatbank8_b_level\n",
      "\u001b[92mprimary_cleaner.state.floatbank8_c_air\n",
      "\u001b[92mprimary_cleaner.state.floatbank8_c_level\n",
      "\u001b[92mprimary_cleaner.state.floatbank8_d_air\n",
      "\u001b[92mprimary_cleaner.state.floatbank8_d_level\n",
      "\u001b[91msecondary_cleaner.output.tail_ag\n",
      "\u001b[91msecondary_cleaner.output.tail_au\n",
      "\u001b[91msecondary_cleaner.output.tail_pb\n",
      "\u001b[91msecondary_cleaner.output.tail_sol\n",
      "\u001b[92msecondary_cleaner.state.floatbank2_a_air\n",
      "\u001b[92msecondary_cleaner.state.floatbank2_a_level\n",
      "\u001b[92msecondary_cleaner.state.floatbank2_b_air\n",
      "\u001b[92msecondary_cleaner.state.floatbank2_b_level\n",
      "\u001b[92msecondary_cleaner.state.floatbank3_a_air\n",
      "\u001b[92msecondary_cleaner.state.floatbank3_a_level\n",
      "\u001b[92msecondary_cleaner.state.floatbank3_b_air\n",
      "\u001b[92msecondary_cleaner.state.floatbank3_b_level\n",
      "\u001b[92msecondary_cleaner.state.floatbank4_a_air\n",
      "\u001b[92msecondary_cleaner.state.floatbank4_a_level\n",
      "\u001b[92msecondary_cleaner.state.floatbank4_b_air\n",
      "\u001b[92msecondary_cleaner.state.floatbank4_b_level\n",
      "\u001b[92msecondary_cleaner.state.floatbank5_a_air\n",
      "\u001b[92msecondary_cleaner.state.floatbank5_a_level\n",
      "\u001b[92msecondary_cleaner.state.floatbank5_b_air\n",
      "\u001b[92msecondary_cleaner.state.floatbank5_b_level\n",
      "\u001b[92msecondary_cleaner.state.floatbank6_a_air\n",
      "\u001b[92msecondary_cleaner.state.floatbank6_a_level\n",
      "\u001b[91mfinal.output.concentrate_ag\n",
      "\u001b[91mfinal.output.concentrate_au\n",
      "\u001b[91mfinal.output.concentrate_pb\n",
      "\u001b[91mfinal.output.concentrate_sol\n",
      "\u001b[91mfinal.output.recovery\n",
      "\u001b[91mfinal.output.tail_ag\n",
      "\u001b[91mfinal.output.tail_au\n",
      "\u001b[91mfinal.output.tail_pb\n",
      "\u001b[91mfinal.output.tail_sol\n"
     ]
    }
   ],
   "source": [
    "def features_analysis():\n",
    "    \"\"\"\"\"\"\n",
    "    \n",
    "    _green = '\\033[92m'\n",
    "    _red = '\\033[91m'\n",
    "        \n",
    "    _sorted = sort_columns(train_df.columns)\n",
    "    # full(_sorted)\n",
    "    \n",
    "#     for (stage, parameter_type), values in _sorted.groupby(_group, sort=False):\n",
    "#         print(f'{stage}.{parameter_type}\\n')\n",
    "#         print(values['parameter_name'].unique())\n",
    "#         # pprint(values['parameter_name'].unique().tolist())\n",
    "#         print('\\n')\n",
    "    \n",
    "    for parameter in map(lambda x:'.'.join(x), _sorted.values):\n",
    "        print((_green if parameter in test_df.columns else _red) + parameter)\n",
    "        \n",
    "features_analysis()"
   ]
  },
  {
   "cell_type": "markdown",
   "id": "3a32599b",
   "metadata": {},
   "source": [
    "'output' and 'calculation' parameter types are missing from the test set.  \n",
    "They are integral to the calculation of the recovery."
   ]
  },
  {
   "cell_type": "markdown",
   "id": "7d53ae2b",
   "metadata": {},
   "source": [
    "<div class=\"alert alert-success\">\n",
    "<b>Reviewer's comment</b>\n",
    "\t  \n",
    "Yep, the important part is that these features are not available before the process is finished, so they shouldn't be used in a model\n",
    "\t  \n",
    "</div>"
   ]
  },
  {
   "cell_type": "markdown",
   "id": "1b0383d6",
   "metadata": {},
   "source": [
    "### 1.4. Perform data preprocessing"
   ]
  },
  {
   "cell_type": "code",
   "execution_count": 26,
   "id": "fc6fd63a",
   "metadata": {},
   "outputs": [],
   "source": [
    "def df_report(df_name):\n",
    "    \"\"\"\"\"\"\n",
    "    \n",
    "    _lj = 8\n",
    "    \n",
    "    df = globals()[df_name]\n",
    "    title_md(df_name)\n",
    "    print('shape:'.ljust(_lj), df.shape)\n",
    "    print('size:'.ljust(_lj), f'{df.size:,}')\n",
    "    \n",
    "    title_md(f'Missing values', n=4)\n",
    "    na = df.isna().sum().sort_values(ascending=False)\n",
    "    na = na[na > 0]\n",
    "    print('amount:'.ljust(_lj), f'{na.sum():,} ({na.sum() / df.size:.2%})', '\\n')\n",
    "    \n",
    "    with pd.option_context('display.max_rows', 10, 'display.max_columns', 10):\n",
    "        display(na)\n",
    "    \n",
    "    title_md(f'Duplicates', n=4)\n",
    "    print('amount:'.ljust(_lj), f'{df.duplicated().sum():,} ({df.duplicated().sum() / df.size:.2%})', '\\n')\n",
    "      \n",
    "# df_report('train_df')"
   ]
  },
  {
   "cell_type": "code",
   "execution_count": 27,
   "id": "a7bc9f09",
   "metadata": {
    "scrolled": false
   },
   "outputs": [],
   "source": [
    "def date_impute(df, func='mean', **kwargs):\n",
    "    \"\"\"\"\"\"\n",
    "    \n",
    "    _func = lambda x:get_func(func, x, **kwargs)\n",
    "    df = df.copy()\n",
    "    ref = df.groupby('date').apply(_func)\n",
    "    \n",
    "    def _d(x):\n",
    "        nonlocal ref\n",
    "        \n",
    "        if x.isna().sum():\n",
    "            # print('daily resolution')\n",
    "            filled = df['date'].map(ref[x.name])\n",
    "            \n",
    "            if filled.isna().sum():\n",
    "                # print('weekly resolution')\n",
    "                df['week'] = df['date'].astype('datetime64[W]')\n",
    "                ref = df.groupby('week').apply(_func)\n",
    "                filled = df['week'].map(ref[x.name])\n",
    "                \n",
    "                if filled.isna().sum():\n",
    "                    # print('monthly resolution')\n",
    "                    df['month'] = df['date'].astype('datetime64[M]')\n",
    "                    ref = df.groupby('month').apply(_func)\n",
    "                    filled = df['month'].map(ref[x.name])\n",
    "                    \n",
    "                    if filled.isna().sum():\n",
    "                        # print('yearly resolution')\n",
    "                        df['year'] = df['date'].astype('datetime64[Y]')\n",
    "                        ref = df.groupby('year').apply(_func)\n",
    "                        filled = df['year'].map(ref[x.name])\n",
    "                \n",
    "            return x.where(~x.isna(), filled)\n",
    "        else:\n",
    "            return x\n",
    "    \n",
    "    return df.apply(_d)\n",
    "\n",
    "# date_impute(train_df.iloc[1770:1900][['date', 'time', 'rougher.output.tail_au']]).isna().sum()"
   ]
  },
  {
   "cell_type": "code",
   "execution_count": 28,
   "id": "e0024ef5",
   "metadata": {},
   "outputs": [],
   "source": [
    "def subplots(df, func='plot', cols=3, rows=None, figsize=None, select_dtypes='number'):\n",
    "    \"\"\"\"\"\"\n",
    "    \n",
    "    df = df.select_dtypes(select_dtypes)\n",
    "    fig = plt.figure(figsize=figsize)#, constrained_layout=True)\n",
    "    rows = rows or int(np.ceil(len(df.columns)/cols))\n",
    "    \n",
    "    for i, col in enumerate(df):\n",
    "        ax = fig.add_subplot(rows, cols, i+1)\n",
    "        plt.title(col, fontsize=14)\n",
    "        get_func(func, df[col])\n",
    "    \n",
    "# subplots(day_sample.select_dtypes('number'))"
   ]
  },
  {
   "cell_type": "code",
   "execution_count": 29,
   "id": "a38ea90a",
   "metadata": {},
   "outputs": [],
   "source": [
    "def plot_hists(df, cols=3, rows=None, figsize=None, select_dtypes='number', outliers=False, hook=None, **kwargs):\n",
    "    \"\"\"\"\"\"\n",
    "    \n",
    "    def _plot(series):\n",
    "        series.hist(**kwargs)\n",
    "        \n",
    "        mean = series.mean()\n",
    "        median = series.median()\n",
    "        plt.axvline(mean, color='red')\n",
    "        plt.axvline(median, color='orange')\n",
    "        legend = [\n",
    "            f'$\\mu =~~~~~~~~~~{mean:.3f}$',\n",
    "            f'$median = ~{median:.3f}$'\n",
    "        ]\n",
    "        \n",
    "        if outliers:\n",
    "            le, ue = outliers_iqr(series)\n",
    "            plt.axvline(le, color='green')\n",
    "            plt.axvline(ue, color='green')\n",
    "            legend = [\n",
    "                *legend,\n",
    "                f'l_extreme = {le:.2f}',\n",
    "                f'u_extreme = {ue:.2f}',\n",
    "            ]\n",
    "        \n",
    "        plt.legend(legend)\n",
    "        \n",
    "        if callable(hook):\n",
    "            hook()\n",
    "    \n",
    "    subplots(df, _plot, cols=cols, rows=rows, figsize=figsize, select_dtypes=select_dtypes)\n",
    "    plt.tight_layout()\n",
    "    \n",
    "# plot_hists(day_sample.select_dtypes('number'), bins=20)"
   ]
  },
  {
   "cell_type": "code",
   "execution_count": 30,
   "id": "a4d504f2",
   "metadata": {},
   "outputs": [
    {
     "data": {
      "text/plain": [
       "True"
      ]
     },
     "execution_count": 30,
     "metadata": {},
     "output_type": "execute_result"
    }
   ],
   "source": [
    "train_df.shape[0] + test_df.shape[0] == full_df.shape[0]"
   ]
  },
  {
   "cell_type": "code",
   "execution_count": 31,
   "id": "9b9ec197",
   "metadata": {},
   "outputs": [
    {
     "data": {
      "text/markdown": [
       "### full_df\n"
      ],
      "text/plain": [
       "<IPython.core.display.Markdown object>"
      ]
     },
     "metadata": {},
     "output_type": "display_data"
    },
    {
     "name": "stdout",
     "output_type": "stream",
     "text": [
      "shape:   (22716, 88)\n",
      "size:    1,999,008\n"
     ]
    },
    {
     "data": {
      "text/markdown": [
       "#### Missing values\n"
      ],
      "text/plain": [
       "<IPython.core.display.Markdown object>"
      ]
     },
     "metadata": {},
     "output_type": "display_data"
    },
    {
     "name": "stdout",
     "output_type": "stream",
     "text": [
      "amount:  36,587 (1.83%) \n",
      "\n"
     ]
    },
    {
     "data": {
      "text/plain": [
       "rougher.output.recovery                               3119\n",
       "rougher.output.tail_ag                                2737\n",
       "rougher.output.tail_sol                               2736\n",
       "rougher.output.tail_au                                2736\n",
       "rougher.input.floatbank11_xanthate                    2257\n",
       "                                                      ... \n",
       "rougher.calculation.sulfate_to_au_concentrate           44\n",
       "rougher.calculation.floatbank11_sulfate_to_au_feed      44\n",
       "primary_cleaner.state.floatbank8_b_level                43\n",
       "primary_cleaner.state.floatbank8_d_level                43\n",
       "primary_cleaner.state.floatbank8_c_level                43\n",
       "Length: 85, dtype: int64"
      ]
     },
     "metadata": {},
     "output_type": "display_data"
    },
    {
     "data": {
      "text/markdown": [
       "#### Duplicates\n"
      ],
      "text/plain": [
       "<IPython.core.display.Markdown object>"
      ]
     },
     "metadata": {},
     "output_type": "display_data"
    },
    {
     "name": "stdout",
     "output_type": "stream",
     "text": [
      "amount:  0 (0.00%) \n",
      "\n"
     ]
    }
   ],
   "source": [
    "df_report('full_df')"
   ]
  },
  {
   "cell_type": "code",
   "execution_count": 32,
   "id": "2ccf702b",
   "metadata": {},
   "outputs": [
    {
     "data": {
      "text/markdown": [
       "### train_df\n"
      ],
      "text/plain": [
       "<IPython.core.display.Markdown object>"
      ]
     },
     "metadata": {},
     "output_type": "display_data"
    },
    {
     "name": "stdout",
     "output_type": "stream",
     "text": [
      "shape:   (16860, 88)\n",
      "size:    1,483,680\n"
     ]
    },
    {
     "data": {
      "text/markdown": [
       "#### Missing values\n"
      ],
      "text/plain": [
       "<IPython.core.display.Markdown object>"
      ]
     },
     "metadata": {},
     "output_type": "display_data"
    },
    {
     "name": "stdout",
     "output_type": "stream",
     "text": [
      "amount:  30,320 (2.04%) \n",
      "\n"
     ]
    },
    {
     "data": {
      "text/plain": [
       "rougher.output.recovery                               2573\n",
       "rougher.output.tail_ag                                2250\n",
       "rougher.output.tail_sol                               2249\n",
       "rougher.output.tail_au                                2249\n",
       "secondary_cleaner.output.tail_sol                     1986\n",
       "                                                      ... \n",
       "primary_cleaner.state.floatbank8_b_level                27\n",
       "primary_cleaner.state.floatbank8_d_level                27\n",
       "rougher.calculation.floatbank10_sulfate_to_au_feed      27\n",
       "rougher.calculation.floatbank11_sulfate_to_au_feed      27\n",
       "rougher.calculation.sulfate_to_au_concentrate           27\n",
       "Length: 85, dtype: int64"
      ]
     },
     "metadata": {},
     "output_type": "display_data"
    },
    {
     "data": {
      "text/markdown": [
       "#### Duplicates\n"
      ],
      "text/plain": [
       "<IPython.core.display.Markdown object>"
      ]
     },
     "metadata": {},
     "output_type": "display_data"
    },
    {
     "name": "stdout",
     "output_type": "stream",
     "text": [
      "amount:  0 (0.00%) \n",
      "\n"
     ]
    }
   ],
   "source": [
    "df_report('train_df')"
   ]
  },
  {
   "cell_type": "code",
   "execution_count": 33,
   "id": "70e81af1",
   "metadata": {},
   "outputs": [
    {
     "data": {
      "text/markdown": [
       "### test_df\n"
      ],
      "text/plain": [
       "<IPython.core.display.Markdown object>"
      ]
     },
     "metadata": {},
     "output_type": "display_data"
    },
    {
     "name": "stdout",
     "output_type": "stream",
     "text": [
      "shape:   (5856, 54)\n",
      "size:    316,224\n"
     ]
    },
    {
     "data": {
      "text/markdown": [
       "#### Missing values\n"
      ],
      "text/plain": [
       "<IPython.core.display.Markdown object>"
      ]
     },
     "metadata": {},
     "output_type": "display_data"
    },
    {
     "name": "stdout",
     "output_type": "stream",
     "text": [
      "amount:  2,360 (0.75%) \n",
      "\n"
     ]
    },
    {
     "data": {
      "text/plain": [
       "rougher.input.floatbank11_xanthate            353\n",
       "primary_cleaner.input.sulfate                 302\n",
       "primary_cleaner.input.depressant              284\n",
       "rougher.input.floatbank10_sulfate             257\n",
       "primary_cleaner.input.xanthate                166\n",
       "                                             ... \n",
       "rougher.state.floatbank10_a_level              16\n",
       "primary_cleaner.state.floatbank8_d_air         16\n",
       "primary_cleaner.state.floatbank8_d_level       16\n",
       "rougher.input.feed_ag                          16\n",
       "secondary_cleaner.state.floatbank5_b_level     16\n",
       "Length: 51, dtype: int64"
      ]
     },
     "metadata": {},
     "output_type": "display_data"
    },
    {
     "data": {
      "text/markdown": [
       "#### Duplicates\n"
      ],
      "text/plain": [
       "<IPython.core.display.Markdown object>"
      ]
     },
     "metadata": {},
     "output_type": "display_data"
    },
    {
     "name": "stdout",
     "output_type": "stream",
     "text": [
      "amount:  0 (0.00%) \n",
      "\n"
     ]
    }
   ],
   "source": [
    "df_report('test_df')"
   ]
  },
  {
   "cell_type": "markdown",
   "id": "9c06e4ff",
   "metadata": {},
   "source": [
    "There are missing values in all of the data sets (1% - 2%).  \n",
    "There are no duplicated observations."
   ]
  },
  {
   "cell_type": "code",
   "execution_count": 34,
   "id": "08586fd4",
   "metadata": {
    "scrolled": false
   },
   "outputs": [],
   "source": [
    "def analyze_imputation(sample, func='median', figsize=None):\n",
    "    title_md('Imputation')\n",
    "\n",
    "    title_md('before', n=4)\n",
    "    # display(full(day_sample))\n",
    "    na_before = sample.isna().sum()\n",
    "    na_cols = na_before[na_before>0].index.tolist()\n",
    "    print(na_before)\n",
    "    print()\n",
    "\n",
    "    title_md('after', n=4)\n",
    "    imputed = date_impute(sample, func=func)\n",
    "    print(imputed.isna().sum())\n",
    "    print()\n",
    "\n",
    "    subplots(sample[na_cols], figsize=figsize)\n",
    "    subplots(imputed[na_cols], figsize=figsize)\n",
    "    \n",
    "    # plot_hists(sample[na_cols], figsize=figsize)\n",
    "    # plot_hists(imputed[na_cols], figsize=figsize)\n",
    "    \n",
    "# analyze_imputation(one_day_sample, figsize=(25,6))"
   ]
  },
  {
   "cell_type": "code",
   "execution_count": 35,
   "id": "0d74d93b",
   "metadata": {},
   "outputs": [],
   "source": [
    "one_day_sample = train_df.query(\"'2016-01-19' <= date <= '2016-01-20'\"\n",
    "                               )[['date', 'time', *recovery_features]].set_index('time')"
   ]
  },
  {
   "cell_type": "code",
   "execution_count": 36,
   "id": "4a73949e",
   "metadata": {
    "scrolled": false
   },
   "outputs": [
    {
     "data": {
      "text/markdown": [
       "### Imputation\n"
      ],
      "text/plain": [
       "<IPython.core.display.Markdown object>"
      ]
     },
     "metadata": {},
     "output_type": "display_data"
    },
    {
     "data": {
      "text/markdown": [
       "#### before\n"
      ],
      "text/plain": [
       "<IPython.core.display.Markdown object>"
      ]
     },
     "metadata": {},
     "output_type": "display_data"
    },
    {
     "name": "stdout",
     "output_type": "stream",
     "text": [
      "date                                      0\n",
      "rougher.input.feed_au                     0\n",
      "rougher.output.tail_au                   38\n",
      "rougher.output.concentrate_au             0\n",
      "primary_cleaner.output.tail_au            0\n",
      "primary_cleaner.output.concentrate_au     0\n",
      "secondary_cleaner.output.tail_au          0\n",
      "final.output.tail_au                      0\n",
      "final.output.concentrate_au               0\n",
      "dtype: int64\n",
      "\n"
     ]
    },
    {
     "data": {
      "text/markdown": [
       "#### after\n"
      ],
      "text/plain": [
       "<IPython.core.display.Markdown object>"
      ]
     },
     "metadata": {},
     "output_type": "display_data"
    },
    {
     "name": "stdout",
     "output_type": "stream",
     "text": [
      "date                                     0\n",
      "rougher.input.feed_au                    0\n",
      "rougher.output.tail_au                   0\n",
      "rougher.output.concentrate_au            0\n",
      "primary_cleaner.output.tail_au           0\n",
      "primary_cleaner.output.concentrate_au    0\n",
      "secondary_cleaner.output.tail_au         0\n",
      "final.output.tail_au                     0\n",
      "final.output.concentrate_au              0\n",
      "dtype: int64\n",
      "\n"
     ]
    },
    {
     "data": {
      "image/png": "[encoded data removed]",
      "text/plain": [
       "<Figure size 1800x432 with 1 Axes>"
      ]
     },
     "metadata": {
      "needs_background": "light"
     },
     "output_type": "display_data"
    },
    {
     "data": {
      "image/png": "[encoded data removed]",
      "text/plain": [
       "<Figure size 1800x432 with 1 Axes>"
      ]
     },
     "metadata": {
      "needs_background": "light"
     },
     "output_type": "display_data"
    }
   ],
   "source": [
    "analyze_imputation(one_day_sample, figsize=(25,6))"
   ]
  },
  {
   "cell_type": "code",
   "execution_count": 37,
   "id": "4d2b3ee3",
   "metadata": {},
   "outputs": [
    {
     "name": "stdout",
     "output_type": "stream",
     "text": [
      "before: 2249\n",
      "after:  0\n"
     ]
    },
    {
     "data": {
      "image/png": "[encoded data removed]",
      "text/plain": [
       "<Figure size 936x504 with 1 Axes>"
      ]
     },
     "metadata": {
      "needs_background": "light"
     },
     "output_type": "display_data"
    }
   ],
   "source": [
    "_imputed = date_impute(train_df[['date', 'rougher.output.tail_au']]).iloc[:, -1]\n",
    "\n",
    "print('before:', train_df['rougher.output.tail_au'].isna().sum())\n",
    "print('after: ', _imputed.isna().sum())\n",
    "\n",
    "train_df['rougher.output.tail_au'].hist(alpha=.7)\n",
    "_imputed.hist(alpha=.7)\n",
    "plt.legend(['before', 'after'])\n",
    "plt.show();"
   ]
  },
  {
   "cell_type": "markdown",
   "id": "f7930e9a",
   "metadata": {},
   "source": [
    "Imputing did not alter the distribution, can continue safely."
   ]
  },
  {
   "cell_type": "code",
   "execution_count": 38,
   "id": "636c4d5a",
   "metadata": {},
   "outputs": [
    {
     "name": "stdout",
     "output_type": "stream",
     "text": [
      "before: 30320\n",
      "after:  0 \n",
      "\n",
      "CPU times: user 8.49 s, sys: 56 ms, total: 8.55 s\n",
      "Wall time: 8.56 s\n"
     ]
    }
   ],
   "source": [
    "%%time\n",
    "train = date_impute(train_df)\n",
    "\n",
    "print('before:', train_df.isna().sum().sum())\n",
    "print('after: ', train.isna().sum().sum(), '\\n')"
   ]
  },
  {
   "cell_type": "code",
   "execution_count": 39,
   "id": "d73c884d",
   "metadata": {},
   "outputs": [
    {
     "name": "stdout",
     "output_type": "stream",
     "text": [
      "before: 2360\n",
      "after:  0 \n",
      "\n",
      "CPU times: user 1.71 s, sys: 12.1 ms, total: 1.72 s\n",
      "Wall time: 1.72 s\n"
     ]
    }
   ],
   "source": [
    "%%time\n",
    "test = date_impute(test_df)\n",
    "\n",
    "print('before:', test_df.isna().sum().sum())\n",
    "print('after: ', test.isna().sum().sum(), '\\n')"
   ]
  },
  {
   "cell_type": "code",
   "execution_count": 40,
   "id": "95f3e68f",
   "metadata": {
    "scrolled": true
   },
   "outputs": [
    {
     "name": "stdout",
     "output_type": "stream",
     "text": [
      "before: 36587\n",
      "after:  0 \n",
      "\n",
      "CPU times: user 11.2 s, sys: 119 ms, total: 11.3 s\n",
      "Wall time: 11.3 s\n"
     ]
    }
   ],
   "source": [
    "%%time\n",
    "full = date_impute(full_df)\n",
    "\n",
    "print('before:', full_df.isna().sum().sum())\n",
    "print('after: ', full.isna().sum().sum(), '\\n')"
   ]
  },
  {
   "cell_type": "markdown",
   "id": "ed5fc02c",
   "metadata": {},
   "source": [
    "<div class=\"alert alert-success\">\n",
    "<b>Reviewer's comment</b>\n",
    "\t  \n",
    "Missing values were dealt with reasonably!\n",
    "\t  \n",
    "</div>"
   ]
  },
  {
   "cell_type": "markdown",
   "id": "350e543f",
   "metadata": {},
   "source": [
    "## Analyze the data"
   ]
  },
  {
   "cell_type": "markdown",
   "id": "b3c0bb7b",
   "metadata": {},
   "source": [
    "### 2.1. Take note of how the concentrations of metals (Au, Ag, Pb) change depending on the purification stage."
   ]
  },
  {
   "cell_type": "code",
   "execution_count": 41,
   "id": "d1ce53a6",
   "metadata": {},
   "outputs": [],
   "source": [
    "def param_lookup(df, search, func='contains', as_list=False, full_df=False):\n",
    "    \"\"\"\"\"\"\n",
    "    \n",
    "    def _lookup():\n",
    "        return sort_columns(df.columns[getattr(df.columns.str, func)(search)])\n",
    "    \n",
    "    def _get_list():\n",
    "        return list(map(lambda x:'.'.join(x), _lookup().values))\n",
    "    \n",
    "    # return df.loc[:, df.columns.str.contains(param)]\n",
    "    \n",
    "    if as_list:\n",
    "        return _get_list()\n",
    "    elif full_df:\n",
    "        return df[_get_list()]\n",
    "    else:\n",
    "        return _lookup()\n",
    "    \n",
    "# param_lookup(train_df, 'feed_size', func='endswith')"
   ]
  },
  {
   "cell_type": "code",
   "execution_count": 42,
   "id": "2a1e9e8d",
   "metadata": {},
   "outputs": [],
   "source": [
    "def plot_concentrate_dist(df, name, elem, hook=None):\n",
    "    \"\"\"\"\"\"\n",
    "    \n",
    "    plot_hists(\n",
    "        df[['time', *param_lookup(df, f'concentrate_{elem.lower()}', func='endswith', as_list=True)]],\n",
    "        figsize=(15, 5),\n",
    "        hook=hook,\n",
    "    )\n",
    "    plt.suptitle(f\"{name} ({elem}) concentrate\", fontsize=20)\n",
    "    plt.tight_layout()\n",
    "    plt.show();\n",
    "    \n",
    "# plot_concentrate_dist(train, 'Gold', 'Au')"
   ]
  },
  {
   "cell_type": "code",
   "execution_count": 43,
   "id": "0467bc93",
   "metadata": {
    "scrolled": false
   },
   "outputs": [
    {
     "data": {
      "image/png": "[encoded data removed]",
      "text/plain": [
       "<Figure size 1080x360 with 3 Axes>"
      ]
     },
     "metadata": {
      "needs_background": "light"
     },
     "output_type": "display_data"
    }
   ],
   "source": [
    "plot_concentrate_dist(train, 'Gold', 'Au', hook=lambda:(plt.ylim((0, 12_000)), plt.xlim((0, 60))))"
   ]
  },
  {
   "cell_type": "markdown",
   "id": "262de44a",
   "metadata": {},
   "source": [
    "Gold 'Au' concentrate is considerably increasing from stage to stage."
   ]
  },
  {
   "cell_type": "code",
   "execution_count": 44,
   "id": "9fdbe091",
   "metadata": {},
   "outputs": [
    {
     "data": {
      "image/png": "[encoded data removed]",
      "text/plain": [
       "<Figure size 1080x360 with 3 Axes>"
      ]
     },
     "metadata": {
      "needs_background": "light"
     },
     "output_type": "display_data"
    }
   ],
   "source": [
    "plot_concentrate_dist(train, 'Silver', 'Ag', hook=lambda:(plt.ylim((0, 10_000)), plt.xlim((0, 25))))"
   ]
  },
  {
   "cell_type": "markdown",
   "id": "704700f3",
   "metadata": {},
   "source": [
    "Silver 'Ag' concentrate is mildly decreasing from stage to stage."
   ]
  },
  {
   "cell_type": "code",
   "execution_count": 45,
   "id": "f253ad5b",
   "metadata": {},
   "outputs": [
    {
     "data": {
      "image/png": "[encoded data removed]",
      "text/plain": [
       "<Figure size 1080x360 with 3 Axes>"
      ]
     },
     "metadata": {
      "needs_background": "light"
     },
     "output_type": "display_data"
    }
   ],
   "source": [
    "plot_concentrate_dist(train, 'Lead', 'Pb', hook=lambda:(plt.ylim((0, 7_500)), plt.xlim((0, 17.5))))"
   ]
  },
  {
   "cell_type": "markdown",
   "id": "56bdc5dc",
   "metadata": {},
   "source": [
    "Lead 'Pb' concentrate is mildly decreasing from stage to stage."
   ]
  },
  {
   "cell_type": "markdown",
   "id": "08bff1cc",
   "metadata": {},
   "source": [
    "<div class=\"alert alert-success\">\n",
    "<b>Reviewer's comment</b>\n",
    "\t  \n",
    "Great, you compared concentrations of metals at different stages\n",
    "\t  \n",
    "</div>"
   ]
  },
  {
   "cell_type": "markdown",
   "id": "04dc6ba7",
   "metadata": {},
   "source": [
    "### 2.2. Compare the feed particle size distributions in the training set and in the test set.\n",
    "If the distributions vary significantly, the model evaluation will be incorrect."
   ]
  },
  {
   "cell_type": "code",
   "execution_count": 46,
   "id": "da23b993",
   "metadata": {},
   "outputs": [],
   "source": [
    "train_feed_size = train[param_lookup(train_df, 'feed_size', func='endswith', as_list=True)]"
   ]
  },
  {
   "cell_type": "code",
   "execution_count": 47,
   "id": "76be3ca0",
   "metadata": {},
   "outputs": [],
   "source": [
    "test_feed_size = test[param_lookup(test_df, 'feed_size', func='endswith', as_list=True)]"
   ]
  },
  {
   "cell_type": "code",
   "execution_count": 48,
   "id": "ebedd7bc",
   "metadata": {},
   "outputs": [
    {
     "data": {
      "text/plain": [
       "['rougher.input.feed_size', 'primary_cleaner.input.feed_size']"
      ]
     },
     "execution_count": 48,
     "metadata": {},
     "output_type": "execute_result"
    }
   ],
   "source": [
    "train_feed_size.columns.tolist()"
   ]
  },
  {
   "cell_type": "code",
   "execution_count": 49,
   "id": "b2813a89",
   "metadata": {},
   "outputs": [],
   "source": [
    "def compare_feed_size(train, test, func='hist', figsize=(16,6), **kwargs):\n",
    "    \"\"\"\"\"\"\n",
    "    \n",
    "    cols = min(3, train.shape[1])\n",
    "    rows = int(np.ceil(train.shape[1] / cols))\n",
    "    \n",
    "    _, axes = plt.subplots(rows, cols, figsize=figsize)\n",
    "    \n",
    "    for col, ax in zip(train, axes):\n",
    "        if func == 'boxplot':\n",
    "            df = pd.concat([train[col], test[col]], axis=1)\n",
    "            _func = getattr(df, func)\n",
    "            _func(ax=ax)\n",
    "        else:\n",
    "            _func = getattr(ax, func)\n",
    "            _func(train[col], **kwargs)\n",
    "            _func(test[col], **kwargs)\n",
    "        \n",
    "        ax.set_title(col)\n",
    "        ax.grid()\n",
    "        ax.legend(['train', 'test'])\n",
    "        \n",
    "    return\n",
    "    train_df_feed_size[col].hist()\n",
    "    test_df_feed_size[col].hist()\n",
    "    plt.legend(['train', 'test'])\n",
    "    plt.title(f'{col} - train vs. test distribution', fontsize=20)\n",
    "    plt.show()\n",
    "    \n",
    "# compare_feed_size(train_feed_size, test_df_feed_size)"
   ]
  },
  {
   "cell_type": "code",
   "execution_count": 50,
   "id": "2bf3994f",
   "metadata": {},
   "outputs": [
    {
     "data": {
      "image/png": "[encoded data removed]",
      "text/plain": [
       "<Figure size 1152x432 with 2 Axes>"
      ]
     },
     "metadata": {
      "needs_background": "light"
     },
     "output_type": "display_data"
    }
   ],
   "source": [
    "compare_feed_size(train_feed_size, test_feed_size, bins=10)"
   ]
  },
  {
   "cell_type": "code",
   "execution_count": 51,
   "id": "05f403a4",
   "metadata": {},
   "outputs": [
    {
     "data": {
      "image/png": "[encoded data removed]",
      "text/plain": [
       "<Figure size 1152x432 with 2 Axes>"
      ]
     },
     "metadata": {
      "needs_background": "light"
     },
     "output_type": "display_data"
    }
   ],
   "source": [
    "compare_feed_size(train_feed_size, test_feed_size, func='boxplot')"
   ]
  },
  {
   "cell_type": "markdown",
   "id": "48b568d9",
   "metadata": {},
   "source": [
    "The distributions seem to be similar.  \n",
    "Performing a statistical test to compare distributions, to make sure."
   ]
  },
  {
   "cell_type": "code",
   "execution_count": 52,
   "id": "2fc2ebb8",
   "metadata": {},
   "outputs": [],
   "source": [
    "def ks_test(data1, data2, alternative='two-sided', alpha=.05):\n",
    "    \"\"\"\n",
    "    null hypothesis - identical distributions\n",
    "    alternative hypothesis - differing distributions\n",
    "    \"\"\"\n",
    "    \n",
    "    pvalue = ks_2samp(data1, data2, alternative=alternative).pvalue\n",
    "    \n",
    "    if pvalue < alpha:\n",
    "        return \"reject null hypothesis - distributions are different\"\n",
    "    else:\n",
    "        return \"can't reject null hypothesis - distribution is the same\"\n",
    "    \n",
    "# ks_test(train_feed_size['rougher.input.feed_size'], test_feed_size['rougher.input.feed_size'])"
   ]
  },
  {
   "cell_type": "code",
   "execution_count": 53,
   "id": "6707bc91",
   "metadata": {},
   "outputs": [
    {
     "data": {
      "text/markdown": [
       "### Kolmogorov-Smirnov test\n"
      ],
      "text/plain": [
       "<IPython.core.display.Markdown object>"
      ]
     },
     "metadata": {},
     "output_type": "display_data"
    },
    {
     "name": "stdout",
     "output_type": "stream",
     "text": [
      "rougher.input.feed_size\n",
      "reject null hypothesis - distributions are different\n",
      "\n",
      "primary_cleaner.input.feed_size\n",
      "reject null hypothesis - distributions are different\n",
      "\n"
     ]
    }
   ],
   "source": [
    "title_md('Kolmogorov-Smirnov test')\n",
    "\n",
    "for col in train_feed_size:\n",
    "    print(col)\n",
    "    print(ks_test(train_feed_size[col], test_feed_size[col]))\n",
    "    print()"
   ]
  },
  {
   "cell_type": "markdown",
   "id": "a011f5de",
   "metadata": {},
   "source": [
    "Even though the distributions might look similar, the statistical test concluded that they are in fact different."
   ]
  },
  {
   "cell_type": "markdown",
   "id": "5904755e",
   "metadata": {},
   "source": [
    "<div class=\"alert alert-success\">\n",
    "<b>Reviewer's comment</b>\n",
    "\t  \n",
    "Particle size distributions were compared. Yeah, I don't think the author considered that you would be doing a statistical test :D\n",
    "\t  \n",
    "</div>"
   ]
  },
  {
   "cell_type": "markdown",
   "id": "9695320b",
   "metadata": {},
   "source": [
    "### 2.3. Consider the total concentrations of all substances at different stages: raw feed, rougher concentrate, and final concentrate.\n",
    "Do you notice any abnormal values in the total distribution?  \n",
    "If you do, is it worth removing such values from both samples?  \n",
    "Describe the findings and eliminate anomalies. "
   ]
  },
  {
   "cell_type": "code",
   "execution_count": 54,
   "id": "5a796c1f",
   "metadata": {},
   "outputs": [],
   "source": [
    "def inspect_outliers(df, title):\n",
    "    \"\"\"\"\"\"\n",
    "    \n",
    "    display(Markdown('<br>'))\n",
    "    title_md(f'{title} - anomalies analysis\\n***')\n",
    "    display(df.describe())\n",
    "    \n",
    "    plot_hists(df, outliers=True)\n",
    "    plt.show()\n",
    "    \n",
    "    df.boxplot(figsize=(8,5))\n",
    "    plt.title(f'{title} distribution')\n",
    "    plt.tight_layout()\n",
    "    plt.show()\n",
    "    \n",
    "    df.sum(axis=1).plot.box(figsize=(8, 5))\n",
    "    plt.title(f'Combined {title} distribution')\n",
    "    plt.show()\n",
    "    \n",
    "# inspect_outliers(raw_feed, 'rougher.input.feed_*')"
   ]
  },
  {
   "cell_type": "code",
   "execution_count": 55,
   "id": "7c54b934",
   "metadata": {},
   "outputs": [],
   "source": [
    "raw_params = [e for e in\n",
    "                param_lookup(train, 'rougher.input.feed_', as_list=True)\n",
    "                if not 'rate' in e and not 'size' in e]"
   ]
  },
  {
   "cell_type": "code",
   "execution_count": 56,
   "id": "c164ec9b",
   "metadata": {},
   "outputs": [
    {
     "data": {
      "text/html": [
       "<div>\n",
       "<style scoped>\n",
       "    .dataframe tbody tr th:only-of-type {\n",
       "        vertical-align: middle;\n",
       "    }\n",
       "\n",
       "    .dataframe tbody tr th {\n",
       "        vertical-align: top;\n",
       "    }\n",
       "\n",
       "    .dataframe thead th {\n",
       "        text-align: right;\n",
       "    }\n",
       "</style>\n",
       "<table border=\"1\" class=\"dataframe\">\n",
       "  <thead>\n",
       "    <tr style=\"text-align: right;\">\n",
       "      <th></th>\n",
       "      <th>rougher.input.feed_ag</th>\n",
       "      <th>rougher.input.feed_au</th>\n",
       "      <th>rougher.input.feed_pb</th>\n",
       "      <th>rougher.input.feed_sol</th>\n",
       "    </tr>\n",
       "  </thead>\n",
       "  <tbody>\n",
       "    <tr>\n",
       "      <th>0</th>\n",
       "      <td>6.100378</td>\n",
       "      <td>6.486150</td>\n",
       "      <td>2.284912</td>\n",
       "      <td>36.808594</td>\n",
       "    </tr>\n",
       "    <tr>\n",
       "      <th>1</th>\n",
       "      <td>6.161113</td>\n",
       "      <td>6.478583</td>\n",
       "      <td>2.266033</td>\n",
       "      <td>35.753385</td>\n",
       "    </tr>\n",
       "  </tbody>\n",
       "</table>\n",
       "</div>"
      ],
      "text/plain": [
       "   rougher.input.feed_ag  rougher.input.feed_au  rougher.input.feed_pb  \\\n",
       "0               6.100378               6.486150               2.284912   \n",
       "1               6.161113               6.478583               2.266033   \n",
       "\n",
       "   rougher.input.feed_sol  \n",
       "0               36.808594  \n",
       "1               35.753385  "
      ]
     },
     "execution_count": 56,
     "metadata": {},
     "output_type": "execute_result"
    }
   ],
   "source": [
    "raw_feed = train[raw_params]\n",
    "raw_feed.head(2)"
   ]
  },
  {
   "cell_type": "code",
   "execution_count": 57,
   "id": "0be29ea1",
   "metadata": {},
   "outputs": [
    {
     "data": {
      "text/markdown": [
       "<br>"
      ],
      "text/plain": [
       "<IPython.core.display.Markdown object>"
      ]
     },
     "metadata": {},
     "output_type": "display_data"
    },
    {
     "data": {
      "text/markdown": [
       "### rougher.input.feed_* - anomalies analysis\n",
       "***\n"
      ],
      "text/plain": [
       "<IPython.core.display.Markdown object>"
      ]
     },
     "metadata": {},
     "output_type": "display_data"
    },
    {
     "data": {
      "text/html": [
       "<div>\n",
       "<style scoped>\n",
       "    .dataframe tbody tr th:only-of-type {\n",
       "        vertical-align: middle;\n",
       "    }\n",
       "\n",
       "    .dataframe tbody tr th {\n",
       "        vertical-align: top;\n",
       "    }\n",
       "\n",
       "    .dataframe thead th {\n",
       "        text-align: right;\n",
       "    }\n",
       "</style>\n",
       "<table border=\"1\" class=\"dataframe\">\n",
       "  <thead>\n",
       "    <tr style=\"text-align: right;\">\n",
       "      <th></th>\n",
       "      <th>rougher.input.feed_ag</th>\n",
       "      <th>rougher.input.feed_au</th>\n",
       "      <th>rougher.input.feed_pb</th>\n",
       "      <th>rougher.input.feed_sol</th>\n",
       "    </tr>\n",
       "  </thead>\n",
       "  <tbody>\n",
       "    <tr>\n",
       "      <th>count</th>\n",
       "      <td>16860.000000</td>\n",
       "      <td>16860.000000</td>\n",
       "      <td>16860.000000</td>\n",
       "      <td>16860.000000</td>\n",
       "    </tr>\n",
       "    <tr>\n",
       "      <th>mean</th>\n",
       "      <td>7.812979</td>\n",
       "      <td>7.151649</td>\n",
       "      <td>3.202240</td>\n",
       "      <td>32.509670</td>\n",
       "    </tr>\n",
       "    <tr>\n",
       "      <th>std</th>\n",
       "      <td>3.145893</td>\n",
       "      <td>3.008689</td>\n",
       "      <td>1.476274</td>\n",
       "      <td>11.694932</td>\n",
       "    </tr>\n",
       "    <tr>\n",
       "      <th>min</th>\n",
       "      <td>0.000000</td>\n",
       "      <td>0.000000</td>\n",
       "      <td>0.000000</td>\n",
       "      <td>0.000000</td>\n",
       "    </tr>\n",
       "    <tr>\n",
       "      <th>25%</th>\n",
       "      <td>6.877314</td>\n",
       "      <td>6.176626</td>\n",
       "      <td>2.522464</td>\n",
       "      <td>32.014346</td>\n",
       "    </tr>\n",
       "    <tr>\n",
       "      <th>50%</th>\n",
       "      <td>7.926186</td>\n",
       "      <td>7.429134</td>\n",
       "      <td>3.276409</td>\n",
       "      <td>36.285846</td>\n",
       "    </tr>\n",
       "    <tr>\n",
       "      <th>75%</th>\n",
       "      <td>9.816174</td>\n",
       "      <td>8.954083</td>\n",
       "      <td>4.166485</td>\n",
       "      <td>38.999617</td>\n",
       "    </tr>\n",
       "    <tr>\n",
       "      <th>max</th>\n",
       "      <td>14.869652</td>\n",
       "      <td>14.093363</td>\n",
       "      <td>7.142594</td>\n",
       "      <td>48.363177</td>\n",
       "    </tr>\n",
       "  </tbody>\n",
       "</table>\n",
       "</div>"
      ],
      "text/plain": [
       "       rougher.input.feed_ag  rougher.input.feed_au  rougher.input.feed_pb  \\\n",
       "count           16860.000000           16860.000000           16860.000000   \n",
       "mean                7.812979               7.151649               3.202240   \n",
       "std                 3.145893               3.008689               1.476274   \n",
       "min                 0.000000               0.000000               0.000000   \n",
       "25%                 6.877314               6.176626               2.522464   \n",
       "50%                 7.926186               7.429134               3.276409   \n",
       "75%                 9.816174               8.954083               4.166485   \n",
       "max                14.869652              14.093363               7.142594   \n",
       "\n",
       "       rougher.input.feed_sol  \n",
       "count            16860.000000  \n",
       "mean                32.509670  \n",
       "std                 11.694932  \n",
       "min                  0.000000  \n",
       "25%                 32.014346  \n",
       "50%                 36.285846  \n",
       "75%                 38.999617  \n",
       "max                 48.363177  "
      ]
     },
     "metadata": {},
     "output_type": "display_data"
    },
    {
     "data": {
      "image/png": "[encoded data removed]",
      "text/plain": [
       "<Figure size 936x504 with 4 Axes>"
      ]
     },
     "metadata": {
      "needs_background": "light"
     },
     "output_type": "display_data"
    },
    {
     "data": {
      "image/png": "[encoded data removed]",
      "text/plain": [
       "<Figure size 576x360 with 1 Axes>"
      ]
     },
     "metadata": {
      "needs_background": "light"
     },
     "output_type": "display_data"
    },
    {
     "data": {
      "image/png": "[encoded data removed]",
      "text/plain": [
       "<Figure size 576x360 with 1 Axes>"
      ]
     },
     "metadata": {
      "needs_background": "light"
     },
     "output_type": "display_data"
    }
   ],
   "source": [
    "inspect_outliers(raw_feed, 'rougher.input.feed_*')"
   ]
  },
  {
   "cell_type": "markdown",
   "id": "c4797cd0",
   "metadata": {},
   "source": [
    "There are visible outliers."
   ]
  },
  {
   "cell_type": "code",
   "execution_count": 58,
   "id": "f5bdfa1a",
   "metadata": {},
   "outputs": [
    {
     "data": {
      "text/html": [
       "<div>\n",
       "<style scoped>\n",
       "    .dataframe tbody tr th:only-of-type {\n",
       "        vertical-align: middle;\n",
       "    }\n",
       "\n",
       "    .dataframe tbody tr th {\n",
       "        vertical-align: top;\n",
       "    }\n",
       "\n",
       "    .dataframe thead th {\n",
       "        text-align: right;\n",
       "    }\n",
       "</style>\n",
       "<table border=\"1\" class=\"dataframe\">\n",
       "  <thead>\n",
       "    <tr style=\"text-align: right;\">\n",
       "      <th></th>\n",
       "      <th>rougher.output.concentrate_ag</th>\n",
       "      <th>rougher.output.concentrate_au</th>\n",
       "      <th>rougher.output.concentrate_pb</th>\n",
       "      <th>rougher.output.concentrate_sol</th>\n",
       "    </tr>\n",
       "  </thead>\n",
       "  <tbody>\n",
       "    <tr>\n",
       "      <th>0</th>\n",
       "      <td>11.500771</td>\n",
       "      <td>19.793808</td>\n",
       "      <td>7.101074</td>\n",
       "      <td>28.029297</td>\n",
       "    </tr>\n",
       "    <tr>\n",
       "      <th>1</th>\n",
       "      <td>11.615865</td>\n",
       "      <td>20.050975</td>\n",
       "      <td>7.278807</td>\n",
       "      <td>28.067063</td>\n",
       "    </tr>\n",
       "  </tbody>\n",
       "</table>\n",
       "</div>"
      ],
      "text/plain": [
       "   rougher.output.concentrate_ag  rougher.output.concentrate_au  \\\n",
       "0                      11.500771                      19.793808   \n",
       "1                      11.615865                      20.050975   \n",
       "\n",
       "   rougher.output.concentrate_pb  rougher.output.concentrate_sol  \n",
       "0                       7.101074                       28.029297  \n",
       "1                       7.278807                       28.067063  "
      ]
     },
     "execution_count": 58,
     "metadata": {},
     "output_type": "execute_result"
    }
   ],
   "source": [
    "rougher_conc = param_lookup(train, 'rougher.output.concentrate_', full_df=True)\n",
    "rougher_conc.head(2)"
   ]
  },
  {
   "cell_type": "code",
   "execution_count": 59,
   "id": "dbba8eb9",
   "metadata": {},
   "outputs": [
    {
     "data": {
      "text/markdown": [
       "<br>"
      ],
      "text/plain": [
       "<IPython.core.display.Markdown object>"
      ]
     },
     "metadata": {},
     "output_type": "display_data"
    },
    {
     "data": {
      "text/markdown": [
       "### rougher.output.concentrate_* - anomalies analysis\n",
       "***\n"
      ],
      "text/plain": [
       "<IPython.core.display.Markdown object>"
      ]
     },
     "metadata": {},
     "output_type": "display_data"
    },
    {
     "data": {
      "text/html": [
       "<div>\n",
       "<style scoped>\n",
       "    .dataframe tbody tr th:only-of-type {\n",
       "        vertical-align: middle;\n",
       "    }\n",
       "\n",
       "    .dataframe tbody tr th {\n",
       "        vertical-align: top;\n",
       "    }\n",
       "\n",
       "    .dataframe thead th {\n",
       "        text-align: right;\n",
       "    }\n",
       "</style>\n",
       "<table border=\"1\" class=\"dataframe\">\n",
       "  <thead>\n",
       "    <tr style=\"text-align: right;\">\n",
       "      <th></th>\n",
       "      <th>rougher.output.concentrate_ag</th>\n",
       "      <th>rougher.output.concentrate_au</th>\n",
       "      <th>rougher.output.concentrate_pb</th>\n",
       "      <th>rougher.output.concentrate_sol</th>\n",
       "    </tr>\n",
       "  </thead>\n",
       "  <tbody>\n",
       "    <tr>\n",
       "      <th>count</th>\n",
       "      <td>16860.000000</td>\n",
       "      <td>16860.000000</td>\n",
       "      <td>16860.000000</td>\n",
       "      <td>16860.000000</td>\n",
       "    </tr>\n",
       "    <tr>\n",
       "      <th>mean</th>\n",
       "      <td>10.552670</td>\n",
       "      <td>17.360263</td>\n",
       "      <td>6.865338</td>\n",
       "      <td>25.296513</td>\n",
       "    </tr>\n",
       "    <tr>\n",
       "      <th>std</th>\n",
       "      <td>4.461763</td>\n",
       "      <td>6.937616</td>\n",
       "      <td>2.931847</td>\n",
       "      <td>10.434934</td>\n",
       "    </tr>\n",
       "    <tr>\n",
       "      <th>min</th>\n",
       "      <td>0.000000</td>\n",
       "      <td>0.000000</td>\n",
       "      <td>0.000000</td>\n",
       "      <td>0.000000</td>\n",
       "    </tr>\n",
       "    <tr>\n",
       "      <th>25%</th>\n",
       "      <td>9.947304</td>\n",
       "      <td>17.400564</td>\n",
       "      <td>6.326960</td>\n",
       "      <td>24.617062</td>\n",
       "    </tr>\n",
       "    <tr>\n",
       "      <th>50%</th>\n",
       "      <td>11.444875</td>\n",
       "      <td>19.629368</td>\n",
       "      <td>7.573731</td>\n",
       "      <td>28.761187</td>\n",
       "    </tr>\n",
       "    <tr>\n",
       "      <th>75%</th>\n",
       "      <td>13.267408</td>\n",
       "      <td>21.218314</td>\n",
       "      <td>8.497165</td>\n",
       "      <td>31.518818</td>\n",
       "    </tr>\n",
       "    <tr>\n",
       "      <th>max</th>\n",
       "      <td>24.480271</td>\n",
       "      <td>28.522811</td>\n",
       "      <td>18.394042</td>\n",
       "      <td>40.089993</td>\n",
       "    </tr>\n",
       "  </tbody>\n",
       "</table>\n",
       "</div>"
      ],
      "text/plain": [
       "       rougher.output.concentrate_ag  rougher.output.concentrate_au  \\\n",
       "count                   16860.000000                   16860.000000   \n",
       "mean                       10.552670                      17.360263   \n",
       "std                         4.461763                       6.937616   \n",
       "min                         0.000000                       0.000000   \n",
       "25%                         9.947304                      17.400564   \n",
       "50%                        11.444875                      19.629368   \n",
       "75%                        13.267408                      21.218314   \n",
       "max                        24.480271                      28.522811   \n",
       "\n",
       "       rougher.output.concentrate_pb  rougher.output.concentrate_sol  \n",
       "count                   16860.000000                    16860.000000  \n",
       "mean                        6.865338                       25.296513  \n",
       "std                         2.931847                       10.434934  \n",
       "min                         0.000000                        0.000000  \n",
       "25%                         6.326960                       24.617062  \n",
       "50%                         7.573731                       28.761187  \n",
       "75%                         8.497165                       31.518818  \n",
       "max                        18.394042                       40.089993  "
      ]
     },
     "metadata": {},
     "output_type": "display_data"
    },
    {
     "data": {
      "image/png": "[encoded data removed]",
      "text/plain": [
       "<Figure size 936x504 with 4 Axes>"
      ]
     },
     "metadata": {
      "needs_background": "light"
     },
     "output_type": "display_data"
    },
    {
     "data": {
      "image/png": "[encoded data removed]",
      "text/plain": [
       "<Figure size 576x360 with 1 Axes>"
      ]
     },
     "metadata": {
      "needs_background": "light"
     },
     "output_type": "display_data"
    },
    {
     "data": {
      "image/png": "[encoded data removed]",
      "text/plain": [
       "<Figure size 576x360 with 1 Axes>"
      ]
     },
     "metadata": {
      "needs_background": "light"
     },
     "output_type": "display_data"
    }
   ],
   "source": [
    "inspect_outliers(rougher_conc, 'rougher.output.concentrate_*')"
   ]
  },
  {
   "cell_type": "markdown",
   "id": "59f027e5",
   "metadata": {},
   "source": [
    "There are visible outliers."
   ]
  },
  {
   "cell_type": "code",
   "execution_count": 60,
   "id": "e542f89b",
   "metadata": {},
   "outputs": [
    {
     "data": {
      "text/html": [
       "<div>\n",
       "<style scoped>\n",
       "    .dataframe tbody tr th:only-of-type {\n",
       "        vertical-align: middle;\n",
       "    }\n",
       "\n",
       "    .dataframe tbody tr th {\n",
       "        vertical-align: top;\n",
       "    }\n",
       "\n",
       "    .dataframe thead th {\n",
       "        text-align: right;\n",
       "    }\n",
       "</style>\n",
       "<table border=\"1\" class=\"dataframe\">\n",
       "  <thead>\n",
       "    <tr style=\"text-align: right;\">\n",
       "      <th></th>\n",
       "      <th>final.output.concentrate_ag</th>\n",
       "      <th>final.output.concentrate_au</th>\n",
       "      <th>final.output.concentrate_pb</th>\n",
       "      <th>final.output.concentrate_sol</th>\n",
       "    </tr>\n",
       "  </thead>\n",
       "  <tbody>\n",
       "    <tr>\n",
       "      <th>0</th>\n",
       "      <td>6.055403</td>\n",
       "      <td>42.192020</td>\n",
       "      <td>9.889648</td>\n",
       "      <td>5.507324</td>\n",
       "    </tr>\n",
       "    <tr>\n",
       "      <th>1</th>\n",
       "      <td>6.029369</td>\n",
       "      <td>42.701629</td>\n",
       "      <td>9.968944</td>\n",
       "      <td>5.257781</td>\n",
       "    </tr>\n",
       "  </tbody>\n",
       "</table>\n",
       "</div>"
      ],
      "text/plain": [
       "   final.output.concentrate_ag  final.output.concentrate_au  \\\n",
       "0                     6.055403                    42.192020   \n",
       "1                     6.029369                    42.701629   \n",
       "\n",
       "   final.output.concentrate_pb  final.output.concentrate_sol  \n",
       "0                     9.889648                      5.507324  \n",
       "1                     9.968944                      5.257781  "
      ]
     },
     "execution_count": 60,
     "metadata": {},
     "output_type": "execute_result"
    }
   ],
   "source": [
    "final_conc = param_lookup(train, 'final.output.concentrate_', full_df=True)\n",
    "final_conc.head(2)"
   ]
  },
  {
   "cell_type": "code",
   "execution_count": 61,
   "id": "18ccfb7b",
   "metadata": {},
   "outputs": [
    {
     "data": {
      "text/markdown": [
       "<br>"
      ],
      "text/plain": [
       "<IPython.core.display.Markdown object>"
      ]
     },
     "metadata": {},
     "output_type": "display_data"
    },
    {
     "data": {
      "text/markdown": [
       "### final.output.concentrate_* - anomalies analysis\n",
       "***\n"
      ],
      "text/plain": [
       "<IPython.core.display.Markdown object>"
      ]
     },
     "metadata": {},
     "output_type": "display_data"
    },
    {
     "data": {
      "text/html": [
       "<div>\n",
       "<style scoped>\n",
       "    .dataframe tbody tr th:only-of-type {\n",
       "        vertical-align: middle;\n",
       "    }\n",
       "\n",
       "    .dataframe tbody tr th {\n",
       "        vertical-align: top;\n",
       "    }\n",
       "\n",
       "    .dataframe thead th {\n",
       "        text-align: right;\n",
       "    }\n",
       "</style>\n",
       "<table border=\"1\" class=\"dataframe\">\n",
       "  <thead>\n",
       "    <tr style=\"text-align: right;\">\n",
       "      <th></th>\n",
       "      <th>final.output.concentrate_ag</th>\n",
       "      <th>final.output.concentrate_au</th>\n",
       "      <th>final.output.concentrate_pb</th>\n",
       "      <th>final.output.concentrate_sol</th>\n",
       "    </tr>\n",
       "  </thead>\n",
       "  <tbody>\n",
       "    <tr>\n",
       "      <th>count</th>\n",
       "      <td>16860.000000</td>\n",
       "      <td>16860.000000</td>\n",
       "      <td>16860.000000</td>\n",
       "      <td>16860.000000</td>\n",
       "    </tr>\n",
       "    <tr>\n",
       "      <th>mean</th>\n",
       "      <td>4.712608</td>\n",
       "      <td>39.418554</td>\n",
       "      <td>9.101451</td>\n",
       "      <td>8.238943</td>\n",
       "    </tr>\n",
       "    <tr>\n",
       "      <th>std</th>\n",
       "      <td>2.094382</td>\n",
       "      <td>13.919860</td>\n",
       "      <td>3.390304</td>\n",
       "      <td>3.816679</td>\n",
       "    </tr>\n",
       "    <tr>\n",
       "      <th>min</th>\n",
       "      <td>0.000000</td>\n",
       "      <td>0.000000</td>\n",
       "      <td>0.000000</td>\n",
       "      <td>0.000000</td>\n",
       "    </tr>\n",
       "    <tr>\n",
       "      <th>25%</th>\n",
       "      <td>3.960984</td>\n",
       "      <td>41.992157</td>\n",
       "      <td>8.807432</td>\n",
       "      <td>6.819672</td>\n",
       "    </tr>\n",
       "    <tr>\n",
       "      <th>50%</th>\n",
       "      <td>4.861526</td>\n",
       "      <td>44.483470</td>\n",
       "      <td>10.058013</td>\n",
       "      <td>8.498186</td>\n",
       "    </tr>\n",
       "    <tr>\n",
       "      <th>75%</th>\n",
       "      <td>5.816950</td>\n",
       "      <td>45.969495</td>\n",
       "      <td>11.049568</td>\n",
       "      <td>10.246206</td>\n",
       "    </tr>\n",
       "    <tr>\n",
       "      <th>max</th>\n",
       "      <td>16.001945</td>\n",
       "      <td>53.611374</td>\n",
       "      <td>17.031899</td>\n",
       "      <td>18.124851</td>\n",
       "    </tr>\n",
       "  </tbody>\n",
       "</table>\n",
       "</div>"
      ],
      "text/plain": [
       "       final.output.concentrate_ag  final.output.concentrate_au  \\\n",
       "count                 16860.000000                 16860.000000   \n",
       "mean                      4.712608                    39.418554   \n",
       "std                       2.094382                    13.919860   \n",
       "min                       0.000000                     0.000000   \n",
       "25%                       3.960984                    41.992157   \n",
       "50%                       4.861526                    44.483470   \n",
       "75%                       5.816950                    45.969495   \n",
       "max                      16.001945                    53.611374   \n",
       "\n",
       "       final.output.concentrate_pb  final.output.concentrate_sol  \n",
       "count                 16860.000000                  16860.000000  \n",
       "mean                      9.101451                      8.238943  \n",
       "std                       3.390304                      3.816679  \n",
       "min                       0.000000                      0.000000  \n",
       "25%                       8.807432                      6.819672  \n",
       "50%                      10.058013                      8.498186  \n",
       "75%                      11.049568                     10.246206  \n",
       "max                      17.031899                     18.124851  "
      ]
     },
     "metadata": {},
     "output_type": "display_data"
    },
    {
     "data": {
      "image/png": "[encoded data removed]",
      "text/plain": [
       "<Figure size 936x504 with 4 Axes>"
      ]
     },
     "metadata": {
      "needs_background": "light"
     },
     "output_type": "display_data"
    },
    {
     "data": {
      "image/png": "[encoded data removed]",
      "text/plain": [
       "<Figure size 576x360 with 1 Axes>"
      ]
     },
     "metadata": {
      "needs_background": "light"
     },
     "output_type": "display_data"
    },
    {
     "data": {
      "image/png": "[encoded data removed]",
      "text/plain": [
       "<Figure size 576x360 with 1 Axes>"
      ]
     },
     "metadata": {
      "needs_background": "light"
     },
     "output_type": "display_data"
    }
   ],
   "source": [
    "inspect_outliers(final_conc, 'final.output.concentrate_*')"
   ]
  },
  {
   "cell_type": "markdown",
   "id": "23881007",
   "metadata": {},
   "source": [
    "There are visible outliers."
   ]
  },
  {
   "cell_type": "markdown",
   "id": "cec0faf3",
   "metadata": {},
   "source": [
    "All of the stages show outliers."
   ]
  },
  {
   "cell_type": "code",
   "execution_count": 62,
   "id": "dd93a4c8",
   "metadata": {},
   "outputs": [],
   "source": [
    "def get_outliers_indices(data, quantiles=[]):\n",
    "    \"\"\"\"\"\"\n",
    "    \n",
    "    series = data.sum(axis=1)\n",
    "    \n",
    "    if quantiles:\n",
    "        le = series.quantile(quantiles[0])\n",
    "        ue = series.quantile(quantiles[1])\n",
    "    else:\n",
    "        le, ue = outliers_iqr(series)\n",
    "    outliers = series[(series < le) | (series > ue)]\n",
    "    \n",
    "    return outliers.index\n",
    "\n",
    "# get_outliers_indices(raw_feed)"
   ]
  },
  {
   "cell_type": "code",
   "execution_count": 63,
   "id": "a9334063",
   "metadata": {},
   "outputs": [],
   "source": [
    "def remove_outliers(df, quantiles=(.1, 1)):\n",
    "    \"\"\"\"\"\"\n",
    "    \n",
    "    raw_params = [e for e in\n",
    "                param_lookup(df, 'rougher.input.feed_', as_list=True)\n",
    "                if not 'rate' in e and not 'size' in e]\n",
    "    \n",
    "    raw_feed = df[raw_params]\n",
    "    rougher_conc = param_lookup(df, 'rougher.output.concentrate_', full_df=True)\n",
    "    final_conc = param_lookup(df, 'final.output.concentrate_', full_df=True)\n",
    "    \n",
    "    relevant = pd.concat([\n",
    "        raw_feed,\n",
    "        rougher_conc,\n",
    "        final_conc,\n",
    "    ], axis=1)\n",
    "    \n",
    "    \n",
    "    if quantiles:\n",
    "        outliers_indices = get_outliers_indices(relevant, quantiles=quantiles)\n",
    "        print(f'outliers ratio (quantiles):\\t{len(outliers_indices) / len(train_df):.2f}')\n",
    "    else:\n",
    "        outliers_indices = get_outliers_indices(relevant)\n",
    "        print(f'outliers ratio (iqr):\\t\\t{len(outliers_indices) / len(train_df):.2f}')\n",
    "    \n",
    "    print()\n",
    "    \n",
    "    clean = df[~df.index.isin(outliers_indices)]\n",
    "    print('shape before:\\t\\t', df.shape)\n",
    "    print('shape after:\\t\\t', clean.shape)\n",
    "    print()\n",
    "    \n",
    "    removed = len(df)-len(clean)\n",
    "    print(f'outliers removed:\\t{removed:,} ({removed/len(df):.0%})')\n",
    "    \n",
    "    return clean\n",
    "\n",
    "# remove_outliers(train)"
   ]
  },
  {
   "cell_type": "code",
   "execution_count": 64,
   "id": "2764c6b4",
   "metadata": {},
   "outputs": [
    {
     "name": "stdout",
     "output_type": "stream",
     "text": [
      "outliers ratio (quantiles):\t0.10\n",
      "\n",
      "shape before:\t\t (16860, 88)\n",
      "shape after:\t\t (15181, 88)\n",
      "\n",
      "outliers removed:\t1,679 (10%)\n"
     ]
    }
   ],
   "source": [
    "train_clean = remove_outliers(train)"
   ]
  },
  {
   "cell_type": "code",
   "execution_count": 65,
   "id": "1f92de95",
   "metadata": {},
   "outputs": [
    {
     "data": {
      "image/png": "[encoded data removed]",
      "text/plain": [
       "<Figure size 936x504 with 4 Axes>"
      ]
     },
     "metadata": {
      "needs_background": "light"
     },
     "output_type": "display_data"
    }
   ],
   "source": [
    "train_clean[raw_params].hist()\n",
    "plt.suptitle('Distributions after outliers removed', fontsize=18)\n",
    "plt.show()"
   ]
  },
  {
   "cell_type": "markdown",
   "id": "e61360e7",
   "metadata": {},
   "source": [
    "Anomalies have been cleaned successfully."
   ]
  },
  {
   "cell_type": "markdown",
   "id": "2127d671",
   "metadata": {},
   "source": [
    "<div class=\"alert alert-success\">\n",
    "<b>Reviewer's comment</b>\n",
    "\t  \n",
    "Outliers were detected and removed!\n",
    "\t  \n",
    "</div>"
   ]
  },
  {
   "cell_type": "markdown",
   "id": "6b2f840f",
   "metadata": {},
   "source": [
    "<div class=\"alert alert-info\">\n",
    "<b>Student's comment v.1</b>\n",
    "    \n",
    "  I wasn't happy with the results of the models, <br>\n",
    "  got a hint from our tutors to try and eliminate outliers by taking into account the target features.\n",
    "    \n",
    "  It got me a reasonable improvement, ~2 sMAPE.\n",
    "</div>"
   ]
  },
  {
   "cell_type": "markdown",
   "id": "d523a58e",
   "metadata": {},
   "source": [
    "<div class=\"alert alert-success\">\n",
    "<b>Reviewer's comment V2</b>\n",
    "\t  \n",
    "Not a bad idea! By the way, I think, the thing with not getting much improvement over the baseline is an intended outcome of this project (sometimes machine learning can't help much: for example maybe there is some variable that we don't have access to that determines the target). On the other hand it shows an importance of having a baseline: looking at the model's scores in isolation, it may seem that it's performing reasonably well, but if we compare it to some simple baseline, it may turn out that the model didn't learn anything non-trivial (and we wouldn't know that otherwise!).\n",
    "\t  \n",
    "</div>"
   ]
  },
  {
   "cell_type": "code",
   "execution_count": 66,
   "id": "92288812",
   "metadata": {},
   "outputs": [],
   "source": [
    "train_clean = (lambda df:(\n",
    "                lambda x:df[~df.index.isin(x)]#[['rougher.output.recovery', 'final.output.recovery']].hist()\n",
    "                )(get_outliers_indices(param_lookup(df, 'recovery', full_df=True), quantiles=(.1, .8)))\n",
    "              )(train)#train_df.fillna(method='ffill')"
   ]
  },
  {
   "cell_type": "markdown",
   "id": "bd04ad21",
   "metadata": {},
   "source": [
    "## 3. Build the model"
   ]
  },
  {
   "cell_type": "markdown",
   "id": "df3a0a5b",
   "metadata": {},
   "source": [
    "### 3.1. Write a function to calculate the final sMAPE value."
   ]
  },
  {
   "cell_type": "markdown",
   "id": "249e462f",
   "metadata": {},
   "source": [
    "<div class=\"alert alert-info\">\n",
    "<b>Student's comment v.1</b>\n",
    "    \n",
    "  Another student pointed out a mistake in my sMAPE function, forgot parenthesis:\n",
    "    np.abs(y_true) + np.abs(y_pred) / 2\n",
    "    \n",
    "  Updated with a proper version.\n",
    "</div>"
   ]
  },
  {
   "cell_type": "markdown",
   "id": "f8c37d62",
   "metadata": {},
   "source": [
    "<div class=\"alert alert-success\">\n",
    "<b>Reviewer's comment V2</b>\n",
    "\t  \n",
    "Oh, my bad for missing this! Sorry!\n",
    "\t  \n",
    "</div>"
   ]
  },
  {
   "cell_type": "code",
   "execution_count": 67,
   "id": "265a04f1",
   "metadata": {},
   "outputs": [],
   "source": [
    "def sMAPE(y_true, y_pred):\n",
    "    \"\"\"\"\"\"\n",
    "\n",
    "#     return (100 / len(y_true) * \n",
    "#             np.sum(np.abs(y_true - y_pred) /\n",
    "#                    (np.abs(y_true) + np.abs(y_pred) / 2)))\n",
    "\n",
    "    return np.mean(2 * np.abs(y_true - y_pred) / (np.abs(y_true) + np.abs(y_pred))) * 100\n",
    "\n",
    "# sMAPE(train_df['rougher.output.recovery'],\n",
    "#       simulate_rougher_concentrate_recovery(train_df))"
   ]
  },
  {
   "cell_type": "code",
   "execution_count": 68,
   "id": "c339994c",
   "metadata": {},
   "outputs": [],
   "source": [
    "smape_scorer = make_scorer(lambda *args:np.sum(sMAPE(*args) * [.25, .75]), greater_is_better=False)\n",
    "# smape_scorer._score_func(y_test, y_pred)"
   ]
  },
  {
   "cell_type": "markdown",
   "id": "29b08182",
   "metadata": {},
   "source": [
    "<div class=\"alert alert-success\">\n",
    "<b>Reviewer's comment</b>\n",
    "\t  \n",
    "Smape calculation is correct\n",
    "\t  \n",
    "</div>"
   ]
  },
  {
   "cell_type": "code",
   "execution_count": 69,
   "id": "43f3343b",
   "metadata": {},
   "outputs": [],
   "source": [
    "def score_report(y_true, y_pred, verbose=False):\n",
    "    \"\"\"\"\"\"\n",
    "    \n",
    "    smape = sMAPE(y_true, y_pred).rename('sMAPE')\n",
    "    if verbose:\n",
    "        display(smape.round(2))\n",
    "    \n",
    "    final = smape_scorer._score_func(y_true, y_pred)\n",
    "    print(f'final sMAPE (.25 + .75):\\t{final:.2f}')\n",
    "\n",
    "    return final\n",
    "\n",
    "# score_report(y_test, y_pred);"
   ]
  },
  {
   "cell_type": "code",
   "execution_count": 70,
   "id": "ee03f572",
   "metadata": {},
   "outputs": [],
   "source": [
    "def run_model(model_class, hyperparams=None, wrap_multi=False, *args, **kwargs):\n",
    "    \"\"\"\"\"\"\n",
    "    \n",
    "    def _set_params(**kwargs): \n",
    "        try:\n",
    "            model.set_params(**kwargs)\n",
    "        except:\n",
    "            pass\n",
    "    \n",
    "    model = model_class(*args, **kwargs)\n",
    "    model_name = model_class.__name__\n",
    "    title_md(model_name)\n",
    "    \n",
    "    _set_params(random_state=random_state)\n",
    "    _set_params(n_jobs=-1)\n",
    "    \n",
    "    if wrap_multi:\n",
    "        model = MultiOutputRegressor(model, n_jobs=-1)    \n",
    "    \n",
    "    pipeline = Pipeline([\n",
    "        ('scaler', StandardScaler()),\n",
    "        # ('scaler', MinMaxScaler()),\n",
    "        ('rg', model),\n",
    "    ])\n",
    "        \n",
    "    if hyperparams:\n",
    "        print(pipeline, '\\n')\n",
    "        \n",
    "        if wrap_multi:\n",
    "            hyperparams = { 'rg__estimator__'+k: v for k, v in hyperparams.items() }\n",
    "        else:\n",
    "            hyperparams = { 'rg__'+k: v for k, v in hyperparams.items() }\n",
    "        \n",
    "        search = HalvingRandomSearchCV(pipeline,\n",
    "                                       hyperparams,\n",
    "                                       scoring=smape_scorer,\n",
    "                                       n_jobs=-1,\n",
    "                                       random_state=random_state)\n",
    "        \n",
    "        with warnings.catch_warnings():\n",
    "            warnings.simplefilter(\"ignore\")\n",
    "            search.fit(X_train, y_train)\n",
    "        \n",
    "        pipeline = search.best_estimator_\n",
    "        pprint(search.best_params_, width=1, sort_dicts=False)\n",
    "        print(f'\\ntrain score: {np.abs(search.best_score_):.2f}')\n",
    "    else:\n",
    "        print(pipeline, '\\n')\n",
    "        pipeline.fit(X_train, y_train)\n",
    "        cv_results = cross_validate(pipeline, X_train, y_train, scoring=smape_scorer, n_jobs=-1)\n",
    "        print('cross-validate:')\n",
    "        pprint(cv_results, width=1, sort_dicts=False)\n",
    "    \n",
    "    y_pred = pipeline.predict(X_test)\n",
    "    \n",
    "    return score_report(y_test, y_pred, verbose=True)\n",
    "\n",
    "\n",
    "# run_model(LinearRegression)\n",
    "# run_model(RandomForestRegressor, {\n",
    "#     'n_estimators': [100, 110, 120, 130],\n",
    "#     'max_depth': [None, 2, 5, 10],\n",
    "# })"
   ]
  },
  {
   "cell_type": "markdown",
   "id": "09bb9680",
   "metadata": {},
   "source": [
    "<div class=\"alert alert-success\">\n",
    "<b>Reviewer's comment</b>\n",
    "\t  \n",
    "The function for model training, hyperparameter tuning and final model evaluation is great!\n",
    "\t  \n",
    "</div>"
   ]
  },
  {
   "cell_type": "code",
   "execution_count": 71,
   "id": "e3ced3f6",
   "metadata": {},
   "outputs": [],
   "source": [
    "target = ['rougher.output.recovery', 'final.output.recovery']"
   ]
  },
  {
   "cell_type": "code",
   "execution_count": 72,
   "id": "33efb3b8",
   "metadata": {},
   "outputs": [],
   "source": [
    "X_train = train_clean.drop(['date',\n",
    "                            'time',\n",
    "                            *train.columns.symmetric_difference(test.columns),\n",
    "                            *target,\n",
    "                           ], axis=1)\n",
    "y_train = train_clean[target]"
   ]
  },
  {
   "cell_type": "code",
   "execution_count": 73,
   "id": "0ca6a4ef",
   "metadata": {},
   "outputs": [],
   "source": [
    "X_test = test.drop(['date', 'time'], axis=1)\n",
    "y_test = full.loc[test.index, target]"
   ]
  },
  {
   "cell_type": "markdown",
   "id": "fd269de7",
   "metadata": {},
   "source": [
    "<div class=\"alert alert-danger\">\n",
    "<s><b>Reviewer's comment</b>\n",
    "\t  \n",
    "Using a symmetric difference of train and test columns means that you are excluding the common columns of train and test, but including the columns that are only present in the train set (the 'output' and 'calculation' type columns that could cause target leakage) — which is the opposite of what we wanted :)\n",
    "\t  \n",
    "</div>"
   ]
  },
  {
   "cell_type": "code",
   "execution_count": 74,
   "id": "6113709e",
   "metadata": {},
   "outputs": [
    {
     "data": {
      "text/plain": [
       "array([ True,  True,  True,  True,  True,  True,  True,  True,  True,\n",
       "        True,  True,  True,  True,  True,  True,  True,  True,  True,\n",
       "        True,  True,  True,  True,  True,  True,  True,  True,  True,\n",
       "        True,  True,  True,  True,  True,  True,  True,  True,  True,\n",
       "        True,  True,  True,  True,  True,  True,  True,  True,  True,\n",
       "        True,  True,  True,  True,  True,  True,  True])"
      ]
     },
     "execution_count": 74,
     "metadata": {},
     "output_type": "execute_result"
    }
   ],
   "source": [
    "# print(train.columns.symmetric_difference(test.columns))\n",
    "# print(X_train.columns)\n",
    "# print(X_test.columns)\n",
    "X_train.columns == X_test.columns"
   ]
  },
  {
   "cell_type": "markdown",
   "id": "5038572c",
   "metadata": {},
   "source": [
    "<div class=\"alert alert-info\">\n",
    "<b>Student's comment v.1</b>\n",
    "    \n",
    "  I was actually excluding the difference (dropping the columns that are only in the train set, but not in the test set). <br>\n",
    "  Perhaps I did so in a roundabout and confusing way, below is a more straight forward approach.\n",
    "</div>"
   ]
  },
  {
   "cell_type": "markdown",
   "id": "85a0fe80",
   "metadata": {},
   "source": [
    "<div class=\"alert alert-success\">\n",
    "<b>Reviewer's comment V2</b>\n",
    "\t  \n",
    "Oh, I'm so sorry about that! That's definitely a valid way, I just didn't realize you were dropping the symmetric difference for some reason. Maybe I was looking at the next line and mixed them up? Again, sorry about that!  \n",
    "\t  \n",
    "</div>"
   ]
  },
  {
   "cell_type": "code",
   "execution_count": 75,
   "id": "0f1e66b5",
   "metadata": {},
   "outputs": [],
   "source": [
    "X_train = train_clean[X_test.columns]"
   ]
  },
  {
   "cell_type": "code",
   "execution_count": 76,
   "id": "585f8ba2",
   "metadata": {},
   "outputs": [
    {
     "data": {
      "text/plain": [
       "array([ True,  True,  True,  True,  True,  True,  True,  True,  True,\n",
       "        True,  True,  True,  True,  True,  True,  True,  True,  True,\n",
       "        True,  True,  True,  True,  True,  True,  True,  True,  True,\n",
       "        True,  True,  True,  True,  True,  True,  True,  True,  True,\n",
       "        True,  True,  True,  True,  True,  True,  True,  True,  True,\n",
       "        True,  True,  True,  True,  True,  True,  True])"
      ]
     },
     "execution_count": 76,
     "metadata": {},
     "output_type": "execute_result"
    }
   ],
   "source": [
    "X_train.columns == X_test.columns"
   ]
  },
  {
   "cell_type": "code",
   "execution_count": 77,
   "id": "9646a088",
   "metadata": {},
   "outputs": [
    {
     "data": {
      "text/markdown": [
       "### Dummy model (baseline)\n"
      ],
      "text/plain": [
       "<IPython.core.display.Markdown object>"
      ]
     },
     "metadata": {},
     "output_type": "display_data"
    },
    {
     "name": "stdout",
     "output_type": "stream",
     "text": [
      "mean\n",
      "final sMAPE (.25 + .75):\t11.60\n",
      "\n",
      "median\n",
      "final sMAPE (.25 + .75):\t11.73\n",
      "\n"
     ]
    }
   ],
   "source": [
    "title_md('Dummy model (baseline)')\n",
    "for s in ['mean', 'median']:\n",
    "    print(s)\n",
    "    score_report(y_test, DummyRegressor(strategy=s).fit(X_train, y_train).predict(X_test))\n",
    "    print()"
   ]
  },
  {
   "cell_type": "markdown",
   "id": "40c82943",
   "metadata": {},
   "source": [
    "<div class=\"alert alert-success\">\n",
    "<b>Reviewer's comment</b>\n",
    "\t  \n",
    "Great, there is a simple baseline!\n",
    "\t  \n",
    "</div>"
   ]
  },
  {
   "cell_type": "code",
   "execution_count": 78,
   "id": "68aeb429",
   "metadata": {},
   "outputs": [
    {
     "data": {
      "text/markdown": [
       "### LinearRegression\n"
      ],
      "text/plain": [
       "<IPython.core.display.Markdown object>"
      ]
     },
     "metadata": {},
     "output_type": "display_data"
    },
    {
     "name": "stdout",
     "output_type": "stream",
     "text": [
      "Pipeline(steps=[('scaler', StandardScaler()),\n",
      "                ('rg', LinearRegression(n_jobs=-1))]) \n",
      "\n",
      "cross-validate:\n",
      "{'fit_time': array([0.04114723, 0.05054903, 0.05088711, 0.05589294, 0.05312729]),\n",
      " 'score_time': array([0.00535488, 0.00772381, 0.00682688, 0.00818181, 0.00615883]),\n",
      " 'test_score': array([-7.10832165, -6.84968169, -5.7542518 , -6.90210938, -8.15116192])}\n"
     ]
    },
    {
     "data": {
      "text/plain": [
       "rougher.output.recovery    13.18\n",
       "final.output.recovery      12.25\n",
       "Name: sMAPE, dtype: float64"
      ]
     },
     "metadata": {},
     "output_type": "display_data"
    },
    {
     "name": "stdout",
     "output_type": "stream",
     "text": [
      "final sMAPE (.25 + .75):\t12.48\n"
     ]
    }
   ],
   "source": [
    "run_model(LinearRegression);"
   ]
  },
  {
   "cell_type": "code",
   "execution_count": 79,
   "id": "00d1911b",
   "metadata": {},
   "outputs": [
    {
     "data": {
      "text/markdown": [
       "### Lasso\n"
      ],
      "text/plain": [
       "<IPython.core.display.Markdown object>"
      ]
     },
     "metadata": {},
     "output_type": "display_data"
    },
    {
     "name": "stdout",
     "output_type": "stream",
     "text": [
      "Pipeline(steps=[('scaler', StandardScaler()), ('rg', Lasso(random_state=123))]) \n",
      "\n",
      "{'rg__tol': 0.01,\n",
      " 'rg__selection': 'random',\n",
      " 'rg__max_iter': 700,\n",
      " 'rg__alpha': 1}\n",
      "\n",
      "train score: 6.53\n"
     ]
    },
    {
     "data": {
      "text/plain": [
       "rougher.output.recovery    12.56\n",
       "final.output.recovery      11.61\n",
       "Name: sMAPE, dtype: float64"
      ]
     },
     "metadata": {},
     "output_type": "display_data"
    },
    {
     "name": "stdout",
     "output_type": "stream",
     "text": [
      "final sMAPE (.25 + .75):\t11.85\n"
     ]
    }
   ],
   "source": [
    "run_model(Lasso, {\n",
    "    'selection': ['cyclic', 'random'],\n",
    "    'max_iter': [100, 300, 500, 700, 900, 1000],\n",
    "    'tol': [1e-4, 1e-2, 1],\n",
    "    'alpha': [1, 1.2, 0.1],\n",
    "});"
   ]
  },
  {
   "cell_type": "code",
   "execution_count": 80,
   "id": "69e2c950",
   "metadata": {},
   "outputs": [
    {
     "data": {
      "text/markdown": [
       "### ElasticNet\n"
      ],
      "text/plain": [
       "<IPython.core.display.Markdown object>"
      ]
     },
     "metadata": {},
     "output_type": "display_data"
    },
    {
     "name": "stdout",
     "output_type": "stream",
     "text": [
      "Pipeline(steps=[('scaler', StandardScaler()),\n",
      "                ('rg', ElasticNet(random_state=123))]) \n",
      "\n",
      "{'rg__tol': 0.0001,\n",
      " 'rg__selection': 'random',\n",
      " 'rg__max_iter': 500,\n",
      " 'rg__alpha': 1.1}\n",
      "\n",
      "train score: 6.55\n"
     ]
    },
    {
     "data": {
      "text/plain": [
       "rougher.output.recovery    12.73\n",
       "final.output.recovery      11.67\n",
       "Name: sMAPE, dtype: float64"
      ]
     },
     "metadata": {},
     "output_type": "display_data"
    },
    {
     "name": "stdout",
     "output_type": "stream",
     "text": [
      "final sMAPE (.25 + .75):\t11.93\n"
     ]
    }
   ],
   "source": [
    "run_model(ElasticNet, {\n",
    "    'selection': ['cyclic', 'random'],\n",
    "    'max_iter': [100, 300, 500, 700, 900, 1000,],\n",
    "    'tol': [1e-4, 1e-2, 1],\n",
    "    'alpha': [1e-2, 1e-1, .5, 1, 1.1],\n",
    "});"
   ]
  },
  {
   "cell_type": "code",
   "execution_count": 81,
   "id": "5847b8d0",
   "metadata": {},
   "outputs": [
    {
     "data": {
      "text/markdown": [
       "### BayesianRidge\n"
      ],
      "text/plain": [
       "<IPython.core.display.Markdown object>"
      ]
     },
     "metadata": {},
     "output_type": "display_data"
    },
    {
     "name": "stdout",
     "output_type": "stream",
     "text": [
      "Pipeline(steps=[('scaler', StandardScaler()),\n",
      "                ('rg',\n",
      "                 MultiOutputRegressor(estimator=BayesianRidge(), n_jobs=-1))]) \n",
      "\n",
      "{'rg__estimator__tol': 0.0001,\n",
      " 'rg__estimator__n_iter': 300,\n",
      " 'rg__estimator__lambda_2': 1e-05,\n",
      " 'rg__estimator__lambda_1': 1e-05,\n",
      " 'rg__estimator__alpha_2': 1e-05,\n",
      " 'rg__estimator__alpha_1': 1e-05}\n",
      "\n",
      "train score: 6.86\n"
     ]
    },
    {
     "data": {
      "text/plain": [
       "rougher.output.recovery    13.18\n",
       "final.output.recovery      12.24\n",
       "Name: sMAPE, dtype: float64"
      ]
     },
     "metadata": {},
     "output_type": "display_data"
    },
    {
     "name": "stdout",
     "output_type": "stream",
     "text": [
      "final sMAPE (.25 + .75):\t12.47\n"
     ]
    }
   ],
   "source": [
    "run_model(BayesianRidge, {\n",
    "    'n_iter': [100, 300, 500, 1000],\n",
    "    'tol': [1e-5, 1e-4, 1e-3],\n",
    "    'alpha_1': [1e-5, 1e-4],\n",
    "    'alpha_2': [1e-5, 1e-4],\n",
    "    'lambda_1': [ 1e-5, 1e-4],\n",
    "    'lambda_2': [ 1e-5, 1e-4],\n",
    "}, wrap_multi=True);"
   ]
  },
  {
   "cell_type": "code",
   "execution_count": 82,
   "id": "e4d77c7a",
   "metadata": {
    "scrolled": false
   },
   "outputs": [
    {
     "data": {
      "text/markdown": [
       "### DecisionTreeRegressor\n"
      ],
      "text/plain": [
       "<IPython.core.display.Markdown object>"
      ]
     },
     "metadata": {},
     "output_type": "display_data"
    },
    {
     "name": "stdout",
     "output_type": "stream",
     "text": [
      "Pipeline(steps=[('scaler', StandardScaler()),\n",
      "                ('rg', DecisionTreeRegressor(random_state=123))]) \n",
      "\n",
      "{'rg__max_features': None,\n",
      " 'rg__max_depth': 2}\n",
      "\n",
      "train score: 6.25\n"
     ]
    },
    {
     "data": {
      "text/plain": [
       "rougher.output.recovery    14.17\n",
       "final.output.recovery      11.86\n",
       "Name: sMAPE, dtype: float64"
      ]
     },
     "metadata": {},
     "output_type": "display_data"
    },
    {
     "name": "stdout",
     "output_type": "stream",
     "text": [
      "final sMAPE (.25 + .75):\t12.44\n"
     ]
    }
   ],
   "source": [
    "run_model(DecisionTreeRegressor, {\n",
    "    'max_depth': [None, 2, 5, 10, 15, 20],\n",
    "    'max_features': [None, 10, 20, 30],\n",
    "});"
   ]
  },
  {
   "cell_type": "code",
   "execution_count": 83,
   "id": "4e1af27c",
   "metadata": {},
   "outputs": [
    {
     "data": {
      "text/markdown": [
       "### RandomForestRegressor\n"
      ],
      "text/plain": [
       "<IPython.core.display.Markdown object>"
      ]
     },
     "metadata": {},
     "output_type": "display_data"
    },
    {
     "name": "stdout",
     "output_type": "stream",
     "text": [
      "Pipeline(steps=[('scaler', StandardScaler()),\n",
      "                ('rg', RandomForestRegressor(n_jobs=-1, random_state=123))]) \n",
      "\n",
      "{'rg__n_estimators': 130,\n",
      " 'rg__max_features': 20,\n",
      " 'rg__max_depth': 5}\n",
      "\n",
      "train score: 7.01\n"
     ]
    },
    {
     "data": {
      "text/plain": [
       "rougher.output.recovery    13.68\n",
       "final.output.recovery      11.94\n",
       "Name: sMAPE, dtype: float64"
      ]
     },
     "metadata": {},
     "output_type": "display_data"
    },
    {
     "name": "stdout",
     "output_type": "stream",
     "text": [
      "final sMAPE (.25 + .75):\t12.38\n"
     ]
    }
   ],
   "source": [
    "run_model(RandomForestRegressor, {\n",
    "    'n_estimators': [100, 110, 120, 130],\n",
    "    'max_depth': [None, 2, 5, 10],\n",
    "    'max_features': [None, 10, 20, 30],\n",
    "});"
   ]
  },
  {
   "cell_type": "code",
   "execution_count": 84,
   "id": "90a43b16",
   "metadata": {},
   "outputs": [
    {
     "data": {
      "text/markdown": [
       "### GradientBoostingRegressor\n"
      ],
      "text/plain": [
       "<IPython.core.display.Markdown object>"
      ]
     },
     "metadata": {},
     "output_type": "display_data"
    },
    {
     "name": "stdout",
     "output_type": "stream",
     "text": [
      "Pipeline(steps=[('scaler', StandardScaler()),\n",
      "                ('rg',\n",
      "                 MultiOutputRegressor(estimator=GradientBoostingRegressor(random_state=123),\n",
      "                                      n_jobs=-1))]) \n",
      "\n",
      "{'rg__estimator__n_estimators': 120,\n",
      " 'rg__estimator__max_depth': 2}\n",
      "\n",
      "train score: 10.29\n"
     ]
    },
    {
     "data": {
      "text/plain": [
       "rougher.output.recovery    13.77\n",
       "final.output.recovery      12.03\n",
       "Name: sMAPE, dtype: float64"
      ]
     },
     "metadata": {},
     "output_type": "display_data"
    },
    {
     "name": "stdout",
     "output_type": "stream",
     "text": [
      "final sMAPE (.25 + .75):\t12.46\n"
     ]
    }
   ],
   "source": [
    "run_model(GradientBoostingRegressor, {\n",
    "    # 'loss': ['squared_error', 'ls', 'absolute_error', 'lad', 'huber'],\n",
    "    'n_estimators': [100, 110, 120, 130],\n",
    "    'max_depth': [None, 2, 5, 10],\n",
    "    # 'max_features': [None, 10, 20, 30],\n",
    "    # 'tol': [1e-5, 1e-4, 1e-3, 1e-2, 1e-1, 1],\n",
    "}, wrap_multi=True);"
   ]
  },
  {
   "cell_type": "markdown",
   "id": "51ea2425",
   "metadata": {},
   "source": [
    "Best (lowest) sMAPE score we got is 11.85, using Lasso Regressor.  \n",
    "The train score is 6.53, which indicates we have an overfit model.\n",
    "\n",
    "It performs just a little bit worse than our dummy model (11.60), which predicts using mean of target. \n",
    "\n",
    "We need better data (or processing of) to provide meaningful results."
   ]
  },
  {
   "cell_type": "markdown",
   "id": "57b5cc44",
   "metadata": {},
   "source": [
    "<div class=\"alert alert-success\">\n",
    "<b>Reviewer's comment</b>\n",
    "\t  \n",
    "Excellent, you tried a few different models and tuned their hyperparameters using cross-validation\n",
    "\t  \n",
    "</div>"
   ]
  },
  {
   "cell_type": "code",
   "execution_count": null,
   "id": "df9323c6",
   "metadata": {},
   "outputs": [],
   "source": []
  }
 ],
 "metadata": {
  "kernelspec": {
   "display_name": "Python 3",
   "language": "python",
   "name": "python3"
  },
  "language_info": {
   "codemirror_mode": {
    "name": "ipython",
    "version": 3
   },
   "file_extension": ".py",
   "mimetype": "text/x-python",
   "name": "python",
   "nbconvert_exporter": "python",
   "pygments_lexer": "ipython3",
   "version": "3.8.10"
  },
  "toc": {
   "base_numbering": 1,
   "nav_menu": {},
   "number_sections": true,
   "sideBar": true,
   "skip_h1_title": true,
   "title_cell": "Table of Contents",
   "title_sidebar": "Contents",
   "toc_cell": false,
   "toc_position": {},
   "toc_section_display": true,
   "toc_window_display": false
  }
 },
 "nbformat": 4,
 "nbformat_minor": 5
}
