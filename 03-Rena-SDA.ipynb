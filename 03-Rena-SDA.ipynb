{
 "cells": [
  {
   "cell_type": "markdown",
   "metadata": {},
   "source": [
    "<div style=\"border:solid green 2px; padding: 20px\"> <h1 style=\"color:green; margin-bottom:20px\">Reviewer's comment v1</h1>\n",
    "\n",
    "Hello Rena, this is Dmitrii. Happy to review your project again! 🙌\n",
    "\n",
    "As usual you can find my comments under the heading **«Review»**. I will categorize my comments in green, blue or red boxes like this:\n",
    "\n",
    "<div class=\"alert alert-success\">\n",
    "    <b>Success:</b> if everything is done successfully\n",
    "</div>\n",
    "<div class=\"alert alert-warning\">\n",
    "    <b>Remarks:</b> if I can give some recommendations or ways to improve the project\n",
    "</div>\n",
    "<div class=\"alert alert-danger\">\n",
    "    <b>Needs fixing:</b> if the block requires some corrections. Work can't be accepted with the red comments\n",
    "</div>\n",
    "\n",
    "Please don't remove my comments :) If you have any questions don't hesitate to respond to my comments in a different section. \n",
    "<div class=\"alert alert-info\"> <b>Student comments:</b> For example like this</div>    \n"
   ]
  },
  {
   "cell_type": "markdown",
   "metadata": {},
   "source": [
    "Dmitrii, hello again! Great to have you as my reviewer once more. :) Thank you for going over my work carefully as always and helping me learn with your kind comments and suggestions. \n",
    "\n",
    "I ended up adding a lot, but would appreciate it if you could go over my corrections and comments.\n",
    "\n",
    "Thank you!\n",
    "\n",
    "Rena"
   ]
  },
  {
   "cell_type": "markdown",
   "metadata": {},
   "source": [
    "<div style=\"border:solid green 2px; padding: 20px\">\n",
    "<b>Reviewer's comment v1</b>\n",
    "    \n",
    "<b>Overall Feedback</b> \n",
    "    \n",
    "Once again you achieved a very high level of the project!\n",
    "    \n",
    "I left some small remarks in the project to be fixed:\n",
    "    \n",
    "- Check data rounding (calls). It should be before aggregation.\n",
    "- Add histograms to the analysis\n",
    "- Check Levene's test results.\n",
    "    \n",
    "I will wait for the new version of the project. Come back soon! :)\n",
    "    \n",
    "And of course, if you have any questions along the way, remember that you can always reach out to your tutor for any clarification.\n",
    "\n",
    "</div>"
   ]
  },
  {
   "cell_type": "markdown",
   "metadata": {},
   "source": [
    "Dear Reviewer, \n",
    "<br>Nice to e-meet you. Thank you for reviewing my work. \n",
    "<br>I have some questions and marked them with \"[QUESTION]\".\n",
    "<br>I would appreciate it if you could answer them as well.\n",
    "<br>Thank you!\n",
    "<br>Rena Bracha"
   ]
  },
  {
   "cell_type": "markdown",
   "metadata": {},
   "source": [
    "<div style=\"border:solid green 2px; padding: 20px\">\n",
    "<b>Reviewer's comment v2:</b>\n",
    "    \n",
    "<b>Overall Feedback</b> \n",
    "    \n",
    "- Hi Rena, thank you for submitting your project with all corrections! It has been definely improved and I can see a very good progress.\n",
    "- Wish you cool projects in the next sprints! ☘️\n",
    "\n",
    "</div>"
   ]
  },
  {
   "cell_type": "markdown",
   "metadata": {},
   "source": [
    "# Research on telecom operation\n",
    "\n",
    "Megaline is a telecommunications service provider, offering its clients two prepaid plans, Surf and Ultimate. The commercial department wants to know which of the plans brings in more revenue in order to adjust the advertising budget.\n",
    "\n",
    "Given: data on 500 Megaline clients (user_id: 1000 - 1499)\n",
    "<br>o who the clients are\n",
    "<br>o where they are from\n",
    "<br>o which plan they use\n",
    "<br>the number of calls they made and text messages they sent in 2018\n",
    "\n",
    "**Project outline**\n",
    "* Carry out a preliminary analysis of the calling plans based on a relatively small client selection, 500. \n",
    "* Analyze clients' behaviour and determine which prepaid plan brings in more revenue.\n",
    "* Test some hypotheses concerning the equality of the mean revenues of two samples.\n",
    "* Conclusion"
   ]
  },
  {
   "cell_type": "markdown",
   "metadata": {},
   "source": [
    "**Description of the plans**\n",
    "<br>ATTENTION: At Megaline, \n",
    "* Calls: seconds are rounded up to the nearest minutes, i.e. even 1 sec is counted as 1 min. \n",
    "* Web traffic: individual web sessions are added up to a monthly total, which is then rounded up. MB are rounded up to the nearest GB, i.e. 1025 MB (1.025 GB) is counted as 2 GB.\n",
    "\n",
    "[Surf]\n",
    "1. Monthly charge: 20 USD\n",
    "2. 500 monthly minutes, 50 texts, and 15 GB of data\n",
    "3. After exceeding the package limits:\n",
    "* 1 minute: 3 cents\n",
    "* 1 text message: 3 cents\n",
    "* 1 GB of data: 10 USD\n",
    "\n",
    "[Ultimate]\n",
    "1. Monthly charge: 70 USD\n",
    "2. 3000 monthly minutes, 1000 text messages, and 30 GB of data\n",
    "3. After exceeding the package limits:\n",
    "* 1 minute: 1 cent\n",
    "* 1 text message: 1 cent\n",
    "* 1 GB of data: 7 USD"
   ]
  },
  {
   "cell_type": "markdown",
   "metadata": {},
   "source": [
    "<div class=\"alert alert-block alert-success\">\n",
    "<b>Reviewer's comment v1</b>\n",
    " \n",
    "- Very structured project outline and data description.\n",
    "</div>"
   ]
  },
  {
   "cell_type": "markdown",
   "metadata": {},
   "source": [
    "<div class=\"alert alert-info\"> <b>Student comments:</b> I learned from the good example you sent me. :) </div> "
   ]
  },
  {
   "cell_type": "markdown",
   "metadata": {},
   "source": [
    "<div class=\"alert alert-block alert-success\">\n",
    "<b>Reviewer's comment v2</b>\n",
    " \n",
    "Oh, thanks! 😊\n",
    "</div>"
   ]
  },
  {
   "cell_type": "markdown",
   "metadata": {},
   "source": [
    "## Open the data file and study the general information. "
   ]
  },
  {
   "cell_type": "markdown",
   "metadata": {},
   "source": [
    "### Load the files."
   ]
  },
  {
   "cell_type": "markdown",
   "metadata": {},
   "source": [
    "Load various libraries. "
   ]
  },
  {
   "cell_type": "code",
   "execution_count": 1,
   "metadata": {},
   "outputs": [],
   "source": [
    "# Import sys so no warnings will be issued. \n",
    "import sys\n",
    "if not sys.warnoptions:\n",
    "    import warnings\n",
    "    warnings.simplefilter(\"ignore\")\n",
    "    \n",
    "# Import various libraries.\n",
    "import pandas as pd\n",
    "from functools import reduce\n",
    "import numpy as np\n",
    "import matplotlib.pyplot as plt\n",
    "import seaborn as sns\n",
    "from scipy import stats as st"
   ]
  },
  {
   "cell_type": "markdown",
   "metadata": {},
   "source": [
    "Load the data csv files."
   ]
  },
  {
   "cell_type": "code",
   "execution_count": 2,
   "metadata": {},
   "outputs": [],
   "source": [
    "# I worked locally and will have to upload the project to the Platform. So cover both paths. \n",
    "# It is a csv file, so the separator is a comma. \n",
    "try:\n",
    "    data_calls = pd.read_csv('megaline_calls.csv', sep = ',')\n",
    "    data_internet = pd.read_csv('megaline_internet.csv', sep = ',')\n",
    "    data_messages = pd.read_csv('megaline_messages.csv', sep = ',')\n",
    "    data_plans = pd.read_csv('megaline_plans.csv', sep = ',')\n",
    "    data_users1 = pd.read_csv('megaline_users1.csv', sep = ',')\n",
    "    \n",
    "except:\n",
    "    data_calls = pd.read_csv('/datasets/megaline_calls.csv', sep = ',')\n",
    "    data_internet = pd.read_csv('/datasets/megaline_internet.csv', sep = ',')\n",
    "    data_messages = pd.read_csv('/datasets/megaline_messages.csv', sep = ',')\n",
    "    data_plans = pd.read_csv('/datasets/megaline_plans.csv', sep = ',')\n",
    "    data_users1 = pd.read_csv('/datasets/megaline_users1.csv', sep = ',')    "
   ]
  },
  {
   "cell_type": "markdown",
   "metadata": {},
   "source": [
    "### Explore the data and make some preliminary observations."
   ]
  },
  {
   "cell_type": "markdown",
   "metadata": {},
   "source": [
    "**calls table (data on calls)**"
   ]
  },
  {
   "cell_type": "code",
   "execution_count": 3,
   "metadata": {},
   "outputs": [
    {
     "data": {
      "text/html": [
       "<div>\n",
       "<style scoped>\n",
       "    .dataframe tbody tr th:only-of-type {\n",
       "        vertical-align: middle;\n",
       "    }\n",
       "\n",
       "    .dataframe tbody tr th {\n",
       "        vertical-align: top;\n",
       "    }\n",
       "\n",
       "    .dataframe thead th {\n",
       "        text-align: right;\n",
       "    }\n",
       "</style>\n",
       "<table border=\"1\" class=\"dataframe\">\n",
       "  <thead>\n",
       "    <tr style=\"text-align: right;\">\n",
       "      <th></th>\n",
       "      <th>id</th>\n",
       "      <th>user_id</th>\n",
       "      <th>call_date</th>\n",
       "      <th>duration</th>\n",
       "    </tr>\n",
       "  </thead>\n",
       "  <tbody>\n",
       "    <tr>\n",
       "      <td>128413</td>\n",
       "      <td>1460_574</td>\n",
       "      <td>1460</td>\n",
       "      <td>2018-08-19</td>\n",
       "      <td>3.17</td>\n",
       "    </tr>\n",
       "    <tr>\n",
       "      <td>84820</td>\n",
       "      <td>1312_312</td>\n",
       "      <td>1312</td>\n",
       "      <td>2018-03-28</td>\n",
       "      <td>1.86</td>\n",
       "    </tr>\n",
       "    <tr>\n",
       "      <td>21371</td>\n",
       "      <td>1079_84</td>\n",
       "      <td>1079</td>\n",
       "      <td>2018-09-02</td>\n",
       "      <td>6.61</td>\n",
       "    </tr>\n",
       "    <tr>\n",
       "      <td>79109</td>\n",
       "      <td>1283_65</td>\n",
       "      <td>1283</td>\n",
       "      <td>2018-12-26</td>\n",
       "      <td>15.27</td>\n",
       "    </tr>\n",
       "    <tr>\n",
       "      <td>68188</td>\n",
       "      <td>1246_207</td>\n",
       "      <td>1246</td>\n",
       "      <td>2018-07-24</td>\n",
       "      <td>0.19</td>\n",
       "    </tr>\n",
       "    <tr>\n",
       "      <td>114719</td>\n",
       "      <td>1401_583</td>\n",
       "      <td>1401</td>\n",
       "      <td>2018-11-30</td>\n",
       "      <td>2.65</td>\n",
       "    </tr>\n",
       "    <tr>\n",
       "      <td>103115</td>\n",
       "      <td>1365_311</td>\n",
       "      <td>1365</td>\n",
       "      <td>2018-09-28</td>\n",
       "      <td>3.48</td>\n",
       "    </tr>\n",
       "    <tr>\n",
       "      <td>16211</td>\n",
       "      <td>1064_69</td>\n",
       "      <td>1064</td>\n",
       "      <td>2018-07-27</td>\n",
       "      <td>14.04</td>\n",
       "    </tr>\n",
       "    <tr>\n",
       "      <td>77081</td>\n",
       "      <td>1277_157</td>\n",
       "      <td>1277</td>\n",
       "      <td>2018-07-07</td>\n",
       "      <td>10.29</td>\n",
       "    </tr>\n",
       "    <tr>\n",
       "      <td>111632</td>\n",
       "      <td>1392_42</td>\n",
       "      <td>1392</td>\n",
       "      <td>2018-10-07</td>\n",
       "      <td>8.25</td>\n",
       "    </tr>\n",
       "  </tbody>\n",
       "</table>\n",
       "</div>"
      ],
      "text/plain": [
       "              id  user_id   call_date  duration\n",
       "128413  1460_574     1460  2018-08-19      3.17\n",
       "84820   1312_312     1312  2018-03-28      1.86\n",
       "21371    1079_84     1079  2018-09-02      6.61\n",
       "79109    1283_65     1283  2018-12-26     15.27\n",
       "68188   1246_207     1246  2018-07-24      0.19\n",
       "114719  1401_583     1401  2018-11-30      2.65\n",
       "103115  1365_311     1365  2018-09-28      3.48\n",
       "16211    1064_69     1064  2018-07-27     14.04\n",
       "77081   1277_157     1277  2018-07-07     10.29\n",
       "111632   1392_42     1392  2018-10-07      8.25"
      ]
     },
     "execution_count": 3,
     "metadata": {},
     "output_type": "execute_result"
    }
   ],
   "source": [
    "# View some rows to see what the data looks like.\n",
    "#data_calls.head()\n",
    "data_calls.sample(10)"
   ]
  },
  {
   "cell_type": "code",
   "execution_count": 4,
   "metadata": {},
   "outputs": [
    {
     "name": "stdout",
     "output_type": "stream",
     "text": [
      "<class 'pandas.core.frame.DataFrame'>\n",
      "RangeIndex: 137735 entries, 0 to 137734\n",
      "Data columns (total 4 columns):\n",
      "id           137735 non-null object\n",
      "user_id      137735 non-null int64\n",
      "call_date    137735 non-null object\n",
      "duration     137735 non-null float64\n",
      "dtypes: float64(1), int64(1), object(2)\n",
      "memory usage: 4.2+ MB\n"
     ]
    }
   ],
   "source": [
    "# View general information.\n",
    "data_calls.info()"
   ]
  },
  {
   "cell_type": "code",
   "execution_count": 5,
   "metadata": {},
   "outputs": [
    {
     "data": {
      "text/html": [
       "<div>\n",
       "<style scoped>\n",
       "    .dataframe tbody tr th:only-of-type {\n",
       "        vertical-align: middle;\n",
       "    }\n",
       "\n",
       "    .dataframe tbody tr th {\n",
       "        vertical-align: top;\n",
       "    }\n",
       "\n",
       "    .dataframe thead th {\n",
       "        text-align: right;\n",
       "    }\n",
       "</style>\n",
       "<table border=\"1\" class=\"dataframe\">\n",
       "  <thead>\n",
       "    <tr style=\"text-align: right;\">\n",
       "      <th></th>\n",
       "      <th>user_id</th>\n",
       "      <th>duration</th>\n",
       "    </tr>\n",
       "  </thead>\n",
       "  <tbody>\n",
       "    <tr>\n",
       "      <td>count</td>\n",
       "      <td>137735.000000</td>\n",
       "      <td>137735.000000</td>\n",
       "    </tr>\n",
       "    <tr>\n",
       "      <td>mean</td>\n",
       "      <td>1247.658046</td>\n",
       "      <td>6.745927</td>\n",
       "    </tr>\n",
       "    <tr>\n",
       "      <td>std</td>\n",
       "      <td>139.416268</td>\n",
       "      <td>5.839241</td>\n",
       "    </tr>\n",
       "    <tr>\n",
       "      <td>min</td>\n",
       "      <td>1000.000000</td>\n",
       "      <td>0.000000</td>\n",
       "    </tr>\n",
       "    <tr>\n",
       "      <td>25%</td>\n",
       "      <td>1128.000000</td>\n",
       "      <td>1.290000</td>\n",
       "    </tr>\n",
       "    <tr>\n",
       "      <td>50%</td>\n",
       "      <td>1247.000000</td>\n",
       "      <td>5.980000</td>\n",
       "    </tr>\n",
       "    <tr>\n",
       "      <td>75%</td>\n",
       "      <td>1365.000000</td>\n",
       "      <td>10.690000</td>\n",
       "    </tr>\n",
       "    <tr>\n",
       "      <td>max</td>\n",
       "      <td>1499.000000</td>\n",
       "      <td>37.600000</td>\n",
       "    </tr>\n",
       "  </tbody>\n",
       "</table>\n",
       "</div>"
      ],
      "text/plain": [
       "             user_id       duration\n",
       "count  137735.000000  137735.000000\n",
       "mean     1247.658046       6.745927\n",
       "std       139.416268       5.839241\n",
       "min      1000.000000       0.000000\n",
       "25%      1128.000000       1.290000\n",
       "50%      1247.000000       5.980000\n",
       "75%      1365.000000      10.690000\n",
       "max      1499.000000      37.600000"
      ]
     },
     "execution_count": 5,
     "metadata": {},
     "output_type": "execute_result"
    }
   ],
   "source": [
    "# View description statistics.\n",
    "data_calls.describe()"
   ]
  },
  {
   "cell_type": "code",
   "execution_count": 6,
   "metadata": {},
   "outputs": [],
   "source": [
    "# Look at the unique values.\n",
    "#data_calls['id'].unique()\n",
    "#data_calls['user_id'].unique()"
   ]
  },
  {
   "cell_type": "markdown",
   "metadata": {},
   "source": [
    "**internet table (data on web sessions)**"
   ]
  },
  {
   "cell_type": "code",
   "execution_count": 7,
   "metadata": {},
   "outputs": [
    {
     "data": {
      "text/html": [
       "<div>\n",
       "<style scoped>\n",
       "    .dataframe tbody tr th:only-of-type {\n",
       "        vertical-align: middle;\n",
       "    }\n",
       "\n",
       "    .dataframe tbody tr th {\n",
       "        vertical-align: top;\n",
       "    }\n",
       "\n",
       "    .dataframe thead th {\n",
       "        text-align: right;\n",
       "    }\n",
       "</style>\n",
       "<table border=\"1\" class=\"dataframe\">\n",
       "  <thead>\n",
       "    <tr style=\"text-align: right;\">\n",
       "      <th></th>\n",
       "      <th>id</th>\n",
       "      <th>user_id</th>\n",
       "      <th>session_date</th>\n",
       "      <th>mb_used</th>\n",
       "    </tr>\n",
       "  </thead>\n",
       "  <tbody>\n",
       "    <tr>\n",
       "      <td>0</td>\n",
       "      <td>1000_13</td>\n",
       "      <td>1000</td>\n",
       "      <td>2018-12-29</td>\n",
       "      <td>89.86</td>\n",
       "    </tr>\n",
       "    <tr>\n",
       "      <td>1</td>\n",
       "      <td>1000_204</td>\n",
       "      <td>1000</td>\n",
       "      <td>2018-12-31</td>\n",
       "      <td>0.00</td>\n",
       "    </tr>\n",
       "    <tr>\n",
       "      <td>2</td>\n",
       "      <td>1000_379</td>\n",
       "      <td>1000</td>\n",
       "      <td>2018-12-28</td>\n",
       "      <td>660.40</td>\n",
       "    </tr>\n",
       "    <tr>\n",
       "      <td>3</td>\n",
       "      <td>1000_413</td>\n",
       "      <td>1000</td>\n",
       "      <td>2018-12-26</td>\n",
       "      <td>270.99</td>\n",
       "    </tr>\n",
       "    <tr>\n",
       "      <td>4</td>\n",
       "      <td>1000_442</td>\n",
       "      <td>1000</td>\n",
       "      <td>2018-12-27</td>\n",
       "      <td>880.22</td>\n",
       "    </tr>\n",
       "  </tbody>\n",
       "</table>\n",
       "</div>"
      ],
      "text/plain": [
       "         id  user_id session_date  mb_used\n",
       "0   1000_13     1000   2018-12-29    89.86\n",
       "1  1000_204     1000   2018-12-31     0.00\n",
       "2  1000_379     1000   2018-12-28   660.40\n",
       "3  1000_413     1000   2018-12-26   270.99\n",
       "4  1000_442     1000   2018-12-27   880.22"
      ]
     },
     "execution_count": 7,
     "metadata": {},
     "output_type": "execute_result"
    }
   ],
   "source": [
    "# View some rows to see what the data looks like.\n",
    "data_internet.head()"
   ]
  },
  {
   "cell_type": "code",
   "execution_count": 8,
   "metadata": {},
   "outputs": [
    {
     "name": "stdout",
     "output_type": "stream",
     "text": [
      "<class 'pandas.core.frame.DataFrame'>\n",
      "RangeIndex: 104825 entries, 0 to 104824\n",
      "Data columns (total 4 columns):\n",
      "id              104825 non-null object\n",
      "user_id         104825 non-null int64\n",
      "session_date    104825 non-null object\n",
      "mb_used         104825 non-null float64\n",
      "dtypes: float64(1), int64(1), object(2)\n",
      "memory usage: 3.2+ MB\n"
     ]
    }
   ],
   "source": [
    "# View general information.\n",
    "data_internet.info()"
   ]
  },
  {
   "cell_type": "code",
   "execution_count": 9,
   "metadata": {},
   "outputs": [
    {
     "data": {
      "text/html": [
       "<div>\n",
       "<style scoped>\n",
       "    .dataframe tbody tr th:only-of-type {\n",
       "        vertical-align: middle;\n",
       "    }\n",
       "\n",
       "    .dataframe tbody tr th {\n",
       "        vertical-align: top;\n",
       "    }\n",
       "\n",
       "    .dataframe thead th {\n",
       "        text-align: right;\n",
       "    }\n",
       "</style>\n",
       "<table border=\"1\" class=\"dataframe\">\n",
       "  <thead>\n",
       "    <tr style=\"text-align: right;\">\n",
       "      <th></th>\n",
       "      <th>user_id</th>\n",
       "      <th>mb_used</th>\n",
       "    </tr>\n",
       "  </thead>\n",
       "  <tbody>\n",
       "    <tr>\n",
       "      <td>count</td>\n",
       "      <td>104825.000000</td>\n",
       "      <td>104825.000000</td>\n",
       "    </tr>\n",
       "    <tr>\n",
       "      <td>mean</td>\n",
       "      <td>1242.496361</td>\n",
       "      <td>366.713701</td>\n",
       "    </tr>\n",
       "    <tr>\n",
       "      <td>std</td>\n",
       "      <td>142.053913</td>\n",
       "      <td>277.170542</td>\n",
       "    </tr>\n",
       "    <tr>\n",
       "      <td>min</td>\n",
       "      <td>1000.000000</td>\n",
       "      <td>0.000000</td>\n",
       "    </tr>\n",
       "    <tr>\n",
       "      <td>25%</td>\n",
       "      <td>1122.000000</td>\n",
       "      <td>136.080000</td>\n",
       "    </tr>\n",
       "    <tr>\n",
       "      <td>50%</td>\n",
       "      <td>1236.000000</td>\n",
       "      <td>343.980000</td>\n",
       "    </tr>\n",
       "    <tr>\n",
       "      <td>75%</td>\n",
       "      <td>1367.000000</td>\n",
       "      <td>554.610000</td>\n",
       "    </tr>\n",
       "    <tr>\n",
       "      <td>max</td>\n",
       "      <td>1499.000000</td>\n",
       "      <td>1693.470000</td>\n",
       "    </tr>\n",
       "  </tbody>\n",
       "</table>\n",
       "</div>"
      ],
      "text/plain": [
       "             user_id        mb_used\n",
       "count  104825.000000  104825.000000\n",
       "mean     1242.496361     366.713701\n",
       "std       142.053913     277.170542\n",
       "min      1000.000000       0.000000\n",
       "25%      1122.000000     136.080000\n",
       "50%      1236.000000     343.980000\n",
       "75%      1367.000000     554.610000\n",
       "max      1499.000000    1693.470000"
      ]
     },
     "execution_count": 9,
     "metadata": {},
     "output_type": "execute_result"
    }
   ],
   "source": [
    "# View description statistics.\n",
    "data_internet.describe()"
   ]
  },
  {
   "cell_type": "code",
   "execution_count": 10,
   "metadata": {},
   "outputs": [],
   "source": [
    "# Look at the unique values.\n",
    "#data_internet['id'].unique()\n",
    "#data_internet['user_id'].unique()"
   ]
  },
  {
   "cell_type": "markdown",
   "metadata": {},
   "source": [
    "**messages table (data on texts)**"
   ]
  },
  {
   "cell_type": "code",
   "execution_count": 11,
   "metadata": {},
   "outputs": [
    {
     "data": {
      "text/html": [
       "<div>\n",
       "<style scoped>\n",
       "    .dataframe tbody tr th:only-of-type {\n",
       "        vertical-align: middle;\n",
       "    }\n",
       "\n",
       "    .dataframe tbody tr th {\n",
       "        vertical-align: top;\n",
       "    }\n",
       "\n",
       "    .dataframe thead th {\n",
       "        text-align: right;\n",
       "    }\n",
       "</style>\n",
       "<table border=\"1\" class=\"dataframe\">\n",
       "  <thead>\n",
       "    <tr style=\"text-align: right;\">\n",
       "      <th></th>\n",
       "      <th>id</th>\n",
       "      <th>user_id</th>\n",
       "      <th>message_date</th>\n",
       "    </tr>\n",
       "  </thead>\n",
       "  <tbody>\n",
       "    <tr>\n",
       "      <td>0</td>\n",
       "      <td>1000_125</td>\n",
       "      <td>1000</td>\n",
       "      <td>2018-12-27</td>\n",
       "    </tr>\n",
       "    <tr>\n",
       "      <td>1</td>\n",
       "      <td>1000_160</td>\n",
       "      <td>1000</td>\n",
       "      <td>2018-12-31</td>\n",
       "    </tr>\n",
       "    <tr>\n",
       "      <td>2</td>\n",
       "      <td>1000_223</td>\n",
       "      <td>1000</td>\n",
       "      <td>2018-12-31</td>\n",
       "    </tr>\n",
       "    <tr>\n",
       "      <td>3</td>\n",
       "      <td>1000_251</td>\n",
       "      <td>1000</td>\n",
       "      <td>2018-12-27</td>\n",
       "    </tr>\n",
       "    <tr>\n",
       "      <td>4</td>\n",
       "      <td>1000_255</td>\n",
       "      <td>1000</td>\n",
       "      <td>2018-12-26</td>\n",
       "    </tr>\n",
       "  </tbody>\n",
       "</table>\n",
       "</div>"
      ],
      "text/plain": [
       "         id  user_id message_date\n",
       "0  1000_125     1000   2018-12-27\n",
       "1  1000_160     1000   2018-12-31\n",
       "2  1000_223     1000   2018-12-31\n",
       "3  1000_251     1000   2018-12-27\n",
       "4  1000_255     1000   2018-12-26"
      ]
     },
     "execution_count": 11,
     "metadata": {},
     "output_type": "execute_result"
    }
   ],
   "source": [
    "# View some rows to see what the data looks like.\n",
    "data_messages.head()"
   ]
  },
  {
   "cell_type": "code",
   "execution_count": 12,
   "metadata": {},
   "outputs": [
    {
     "name": "stdout",
     "output_type": "stream",
     "text": [
      "<class 'pandas.core.frame.DataFrame'>\n",
      "RangeIndex: 76051 entries, 0 to 76050\n",
      "Data columns (total 3 columns):\n",
      "id              76051 non-null object\n",
      "user_id         76051 non-null int64\n",
      "message_date    76051 non-null object\n",
      "dtypes: int64(1), object(2)\n",
      "memory usage: 1.7+ MB\n"
     ]
    }
   ],
   "source": [
    "# View general information.\n",
    "data_messages.info()"
   ]
  },
  {
   "cell_type": "code",
   "execution_count": 13,
   "metadata": {},
   "outputs": [
    {
     "data": {
      "text/html": [
       "<div>\n",
       "<style scoped>\n",
       "    .dataframe tbody tr th:only-of-type {\n",
       "        vertical-align: middle;\n",
       "    }\n",
       "\n",
       "    .dataframe tbody tr th {\n",
       "        vertical-align: top;\n",
       "    }\n",
       "\n",
       "    .dataframe thead th {\n",
       "        text-align: right;\n",
       "    }\n",
       "</style>\n",
       "<table border=\"1\" class=\"dataframe\">\n",
       "  <thead>\n",
       "    <tr style=\"text-align: right;\">\n",
       "      <th></th>\n",
       "      <th>user_id</th>\n",
       "    </tr>\n",
       "  </thead>\n",
       "  <tbody>\n",
       "    <tr>\n",
       "      <td>count</td>\n",
       "      <td>76051.000000</td>\n",
       "    </tr>\n",
       "    <tr>\n",
       "      <td>mean</td>\n",
       "      <td>1245.972768</td>\n",
       "    </tr>\n",
       "    <tr>\n",
       "      <td>std</td>\n",
       "      <td>139.843635</td>\n",
       "    </tr>\n",
       "    <tr>\n",
       "      <td>min</td>\n",
       "      <td>1000.000000</td>\n",
       "    </tr>\n",
       "    <tr>\n",
       "      <td>25%</td>\n",
       "      <td>1123.000000</td>\n",
       "    </tr>\n",
       "    <tr>\n",
       "      <td>50%</td>\n",
       "      <td>1251.000000</td>\n",
       "    </tr>\n",
       "    <tr>\n",
       "      <td>75%</td>\n",
       "      <td>1362.000000</td>\n",
       "    </tr>\n",
       "    <tr>\n",
       "      <td>max</td>\n",
       "      <td>1497.000000</td>\n",
       "    </tr>\n",
       "  </tbody>\n",
       "</table>\n",
       "</div>"
      ],
      "text/plain": [
       "            user_id\n",
       "count  76051.000000\n",
       "mean    1245.972768\n",
       "std      139.843635\n",
       "min     1000.000000\n",
       "25%     1123.000000\n",
       "50%     1251.000000\n",
       "75%     1362.000000\n",
       "max     1497.000000"
      ]
     },
     "execution_count": 13,
     "metadata": {},
     "output_type": "execute_result"
    }
   ],
   "source": [
    "# View description statistics.\n",
    "data_messages.describe()"
   ]
  },
  {
   "cell_type": "code",
   "execution_count": 14,
   "metadata": {},
   "outputs": [],
   "source": [
    "# Look at the unique values.\n",
    "#data_messages['id'].unique()\n",
    "#data_messages['user_id'].unique()"
   ]
  },
  {
   "cell_type": "markdown",
   "metadata": {},
   "source": [
    "**plans table (data on the plans)**"
   ]
  },
  {
   "cell_type": "code",
   "execution_count": 15,
   "metadata": {},
   "outputs": [
    {
     "data": {
      "text/html": [
       "<div>\n",
       "<style scoped>\n",
       "    .dataframe tbody tr th:only-of-type {\n",
       "        vertical-align: middle;\n",
       "    }\n",
       "\n",
       "    .dataframe tbody tr th {\n",
       "        vertical-align: top;\n",
       "    }\n",
       "\n",
       "    .dataframe thead th {\n",
       "        text-align: right;\n",
       "    }\n",
       "</style>\n",
       "<table border=\"1\" class=\"dataframe\">\n",
       "  <thead>\n",
       "    <tr style=\"text-align: right;\">\n",
       "      <th></th>\n",
       "      <th>messages_included</th>\n",
       "      <th>mb_per_month_included</th>\n",
       "      <th>minutes_included</th>\n",
       "      <th>usd_monthly_pay</th>\n",
       "      <th>usd_per_gb</th>\n",
       "      <th>usd_per_message</th>\n",
       "      <th>usd_per_minute</th>\n",
       "      <th>plan_name</th>\n",
       "    </tr>\n",
       "  </thead>\n",
       "  <tbody>\n",
       "    <tr>\n",
       "      <td>0</td>\n",
       "      <td>50</td>\n",
       "      <td>15360</td>\n",
       "      <td>500</td>\n",
       "      <td>20</td>\n",
       "      <td>10</td>\n",
       "      <td>0.03</td>\n",
       "      <td>0.03</td>\n",
       "      <td>surf</td>\n",
       "    </tr>\n",
       "    <tr>\n",
       "      <td>1</td>\n",
       "      <td>1000</td>\n",
       "      <td>30720</td>\n",
       "      <td>3000</td>\n",
       "      <td>70</td>\n",
       "      <td>7</td>\n",
       "      <td>0.01</td>\n",
       "      <td>0.01</td>\n",
       "      <td>ultimate</td>\n",
       "    </tr>\n",
       "  </tbody>\n",
       "</table>\n",
       "</div>"
      ],
      "text/plain": [
       "   messages_included  mb_per_month_included  minutes_included  \\\n",
       "0                 50                  15360               500   \n",
       "1               1000                  30720              3000   \n",
       "\n",
       "   usd_monthly_pay  usd_per_gb  usd_per_message  usd_per_minute plan_name  \n",
       "0               20          10             0.03            0.03      surf  \n",
       "1               70           7             0.01            0.01  ultimate  "
      ]
     },
     "execution_count": 15,
     "metadata": {},
     "output_type": "execute_result"
    }
   ],
   "source": [
    "# View some rows to see what the data looks like.\n",
    "data_plans.head()"
   ]
  },
  {
   "cell_type": "code",
   "execution_count": 16,
   "metadata": {},
   "outputs": [
    {
     "name": "stdout",
     "output_type": "stream",
     "text": [
      "<class 'pandas.core.frame.DataFrame'>\n",
      "RangeIndex: 2 entries, 0 to 1\n",
      "Data columns (total 8 columns):\n",
      "messages_included        2 non-null int64\n",
      "mb_per_month_included    2 non-null int64\n",
      "minutes_included         2 non-null int64\n",
      "usd_monthly_pay          2 non-null int64\n",
      "usd_per_gb               2 non-null int64\n",
      "usd_per_message          2 non-null float64\n",
      "usd_per_minute           2 non-null float64\n",
      "plan_name                2 non-null object\n",
      "dtypes: float64(2), int64(5), object(1)\n",
      "memory usage: 256.0+ bytes\n"
     ]
    }
   ],
   "source": [
    "# View general information.\n",
    "data_plans.info()"
   ]
  },
  {
   "cell_type": "code",
   "execution_count": 17,
   "metadata": {},
   "outputs": [
    {
     "data": {
      "text/html": [
       "<div>\n",
       "<style scoped>\n",
       "    .dataframe tbody tr th:only-of-type {\n",
       "        vertical-align: middle;\n",
       "    }\n",
       "\n",
       "    .dataframe tbody tr th {\n",
       "        vertical-align: top;\n",
       "    }\n",
       "\n",
       "    .dataframe thead th {\n",
       "        text-align: right;\n",
       "    }\n",
       "</style>\n",
       "<table border=\"1\" class=\"dataframe\">\n",
       "  <thead>\n",
       "    <tr style=\"text-align: right;\">\n",
       "      <th></th>\n",
       "      <th>messages_included</th>\n",
       "      <th>mb_per_month_included</th>\n",
       "      <th>minutes_included</th>\n",
       "      <th>usd_monthly_pay</th>\n",
       "      <th>usd_per_gb</th>\n",
       "      <th>usd_per_message</th>\n",
       "      <th>usd_per_minute</th>\n",
       "    </tr>\n",
       "  </thead>\n",
       "  <tbody>\n",
       "    <tr>\n",
       "      <td>count</td>\n",
       "      <td>2.000000</td>\n",
       "      <td>2.000000</td>\n",
       "      <td>2.000000</td>\n",
       "      <td>2.000000</td>\n",
       "      <td>2.00000</td>\n",
       "      <td>2.000000</td>\n",
       "      <td>2.000000</td>\n",
       "    </tr>\n",
       "    <tr>\n",
       "      <td>mean</td>\n",
       "      <td>525.000000</td>\n",
       "      <td>23040.000000</td>\n",
       "      <td>1750.000000</td>\n",
       "      <td>45.000000</td>\n",
       "      <td>8.50000</td>\n",
       "      <td>0.020000</td>\n",
       "      <td>0.020000</td>\n",
       "    </tr>\n",
       "    <tr>\n",
       "      <td>std</td>\n",
       "      <td>671.751442</td>\n",
       "      <td>10861.160159</td>\n",
       "      <td>1767.766953</td>\n",
       "      <td>35.355339</td>\n",
       "      <td>2.12132</td>\n",
       "      <td>0.014142</td>\n",
       "      <td>0.014142</td>\n",
       "    </tr>\n",
       "    <tr>\n",
       "      <td>min</td>\n",
       "      <td>50.000000</td>\n",
       "      <td>15360.000000</td>\n",
       "      <td>500.000000</td>\n",
       "      <td>20.000000</td>\n",
       "      <td>7.00000</td>\n",
       "      <td>0.010000</td>\n",
       "      <td>0.010000</td>\n",
       "    </tr>\n",
       "    <tr>\n",
       "      <td>25%</td>\n",
       "      <td>287.500000</td>\n",
       "      <td>19200.000000</td>\n",
       "      <td>1125.000000</td>\n",
       "      <td>32.500000</td>\n",
       "      <td>7.75000</td>\n",
       "      <td>0.015000</td>\n",
       "      <td>0.015000</td>\n",
       "    </tr>\n",
       "    <tr>\n",
       "      <td>50%</td>\n",
       "      <td>525.000000</td>\n",
       "      <td>23040.000000</td>\n",
       "      <td>1750.000000</td>\n",
       "      <td>45.000000</td>\n",
       "      <td>8.50000</td>\n",
       "      <td>0.020000</td>\n",
       "      <td>0.020000</td>\n",
       "    </tr>\n",
       "    <tr>\n",
       "      <td>75%</td>\n",
       "      <td>762.500000</td>\n",
       "      <td>26880.000000</td>\n",
       "      <td>2375.000000</td>\n",
       "      <td>57.500000</td>\n",
       "      <td>9.25000</td>\n",
       "      <td>0.025000</td>\n",
       "      <td>0.025000</td>\n",
       "    </tr>\n",
       "    <tr>\n",
       "      <td>max</td>\n",
       "      <td>1000.000000</td>\n",
       "      <td>30720.000000</td>\n",
       "      <td>3000.000000</td>\n",
       "      <td>70.000000</td>\n",
       "      <td>10.00000</td>\n",
       "      <td>0.030000</td>\n",
       "      <td>0.030000</td>\n",
       "    </tr>\n",
       "  </tbody>\n",
       "</table>\n",
       "</div>"
      ],
      "text/plain": [
       "       messages_included  mb_per_month_included  minutes_included  \\\n",
       "count           2.000000               2.000000          2.000000   \n",
       "mean          525.000000           23040.000000       1750.000000   \n",
       "std           671.751442           10861.160159       1767.766953   \n",
       "min            50.000000           15360.000000        500.000000   \n",
       "25%           287.500000           19200.000000       1125.000000   \n",
       "50%           525.000000           23040.000000       1750.000000   \n",
       "75%           762.500000           26880.000000       2375.000000   \n",
       "max          1000.000000           30720.000000       3000.000000   \n",
       "\n",
       "       usd_monthly_pay  usd_per_gb  usd_per_message  usd_per_minute  \n",
       "count         2.000000     2.00000         2.000000        2.000000  \n",
       "mean         45.000000     8.50000         0.020000        0.020000  \n",
       "std          35.355339     2.12132         0.014142        0.014142  \n",
       "min          20.000000     7.00000         0.010000        0.010000  \n",
       "25%          32.500000     7.75000         0.015000        0.015000  \n",
       "50%          45.000000     8.50000         0.020000        0.020000  \n",
       "75%          57.500000     9.25000         0.025000        0.025000  \n",
       "max          70.000000    10.00000         0.030000        0.030000  "
      ]
     },
     "execution_count": 17,
     "metadata": {},
     "output_type": "execute_result"
    }
   ],
   "source": [
    "# View description statistics.\n",
    "data_plans.describe()"
   ]
  },
  {
   "cell_type": "markdown",
   "metadata": {},
   "source": [
    "**users table (data on users)**"
   ]
  },
  {
   "cell_type": "code",
   "execution_count": 18,
   "metadata": {},
   "outputs": [
    {
     "data": {
      "text/html": [
       "<div>\n",
       "<style scoped>\n",
       "    .dataframe tbody tr th:only-of-type {\n",
       "        vertical-align: middle;\n",
       "    }\n",
       "\n",
       "    .dataframe tbody tr th {\n",
       "        vertical-align: top;\n",
       "    }\n",
       "\n",
       "    .dataframe thead th {\n",
       "        text-align: right;\n",
       "    }\n",
       "</style>\n",
       "<table border=\"1\" class=\"dataframe\">\n",
       "  <thead>\n",
       "    <tr style=\"text-align: right;\">\n",
       "      <th></th>\n",
       "      <th>user_id</th>\n",
       "      <th>first_name</th>\n",
       "      <th>last_name</th>\n",
       "      <th>age</th>\n",
       "      <th>city</th>\n",
       "      <th>reg_date</th>\n",
       "      <th>tariff</th>\n",
       "      <th>churn_date</th>\n",
       "    </tr>\n",
       "  </thead>\n",
       "  <tbody>\n",
       "    <tr>\n",
       "      <td>0</td>\n",
       "      <td>1000</td>\n",
       "      <td>Anamaria</td>\n",
       "      <td>Bauer</td>\n",
       "      <td>45</td>\n",
       "      <td>Atlanta-Sandy Springs-Roswell, GA MSA</td>\n",
       "      <td>2018-12-24</td>\n",
       "      <td>ultimate</td>\n",
       "      <td>NaN</td>\n",
       "    </tr>\n",
       "    <tr>\n",
       "      <td>1</td>\n",
       "      <td>1001</td>\n",
       "      <td>Mickey</td>\n",
       "      <td>Wilkerson</td>\n",
       "      <td>28</td>\n",
       "      <td>Seattle-Tacoma-Bellevue, WA MSA</td>\n",
       "      <td>2018-08-13</td>\n",
       "      <td>surf</td>\n",
       "      <td>NaN</td>\n",
       "    </tr>\n",
       "    <tr>\n",
       "      <td>2</td>\n",
       "      <td>1002</td>\n",
       "      <td>Carlee</td>\n",
       "      <td>Hoffman</td>\n",
       "      <td>36</td>\n",
       "      <td>Las Vegas-Henderson-Paradise, NV MSA</td>\n",
       "      <td>2018-10-21</td>\n",
       "      <td>surf</td>\n",
       "      <td>NaN</td>\n",
       "    </tr>\n",
       "    <tr>\n",
       "      <td>3</td>\n",
       "      <td>1003</td>\n",
       "      <td>Reynaldo</td>\n",
       "      <td>Jenkins</td>\n",
       "      <td>52</td>\n",
       "      <td>Tulsa, OK MSA</td>\n",
       "      <td>2018-01-28</td>\n",
       "      <td>surf</td>\n",
       "      <td>NaN</td>\n",
       "    </tr>\n",
       "    <tr>\n",
       "      <td>4</td>\n",
       "      <td>1004</td>\n",
       "      <td>Leonila</td>\n",
       "      <td>Thompson</td>\n",
       "      <td>40</td>\n",
       "      <td>Seattle-Tacoma-Bellevue, WA MSA</td>\n",
       "      <td>2018-05-23</td>\n",
       "      <td>surf</td>\n",
       "      <td>NaN</td>\n",
       "    </tr>\n",
       "  </tbody>\n",
       "</table>\n",
       "</div>"
      ],
      "text/plain": [
       "   user_id first_name  last_name  age                                   city  \\\n",
       "0     1000   Anamaria      Bauer   45  Atlanta-Sandy Springs-Roswell, GA MSA   \n",
       "1     1001     Mickey  Wilkerson   28        Seattle-Tacoma-Bellevue, WA MSA   \n",
       "2     1002     Carlee    Hoffman   36   Las Vegas-Henderson-Paradise, NV MSA   \n",
       "3     1003   Reynaldo    Jenkins   52                          Tulsa, OK MSA   \n",
       "4     1004    Leonila   Thompson   40        Seattle-Tacoma-Bellevue, WA MSA   \n",
       "\n",
       "     reg_date    tariff churn_date  \n",
       "0  2018-12-24  ultimate        NaN  \n",
       "1  2018-08-13      surf        NaN  \n",
       "2  2018-10-21      surf        NaN  \n",
       "3  2018-01-28      surf        NaN  \n",
       "4  2018-05-23      surf        NaN  "
      ]
     },
     "execution_count": 18,
     "metadata": {},
     "output_type": "execute_result"
    }
   ],
   "source": [
    "# View some rows to see what the data looks like.\n",
    "data_users1.head()"
   ]
  },
  {
   "cell_type": "code",
   "execution_count": 19,
   "metadata": {},
   "outputs": [
    {
     "name": "stdout",
     "output_type": "stream",
     "text": [
      "<class 'pandas.core.frame.DataFrame'>\n",
      "RangeIndex: 500 entries, 0 to 499\n",
      "Data columns (total 8 columns):\n",
      "user_id       500 non-null int64\n",
      "first_name    500 non-null object\n",
      "last_name     500 non-null object\n",
      "age           500 non-null int64\n",
      "city          500 non-null object\n",
      "reg_date      500 non-null object\n",
      "tariff        500 non-null object\n",
      "churn_date    34 non-null object\n",
      "dtypes: int64(2), object(6)\n",
      "memory usage: 31.4+ KB\n"
     ]
    }
   ],
   "source": [
    "# View general information.\n",
    "data_users1.info()"
   ]
  },
  {
   "cell_type": "code",
   "execution_count": 20,
   "metadata": {},
   "outputs": [
    {
     "data": {
      "text/html": [
       "<div>\n",
       "<style scoped>\n",
       "    .dataframe tbody tr th:only-of-type {\n",
       "        vertical-align: middle;\n",
       "    }\n",
       "\n",
       "    .dataframe tbody tr th {\n",
       "        vertical-align: top;\n",
       "    }\n",
       "\n",
       "    .dataframe thead th {\n",
       "        text-align: right;\n",
       "    }\n",
       "</style>\n",
       "<table border=\"1\" class=\"dataframe\">\n",
       "  <thead>\n",
       "    <tr style=\"text-align: right;\">\n",
       "      <th></th>\n",
       "      <th>user_id</th>\n",
       "      <th>age</th>\n",
       "    </tr>\n",
       "  </thead>\n",
       "  <tbody>\n",
       "    <tr>\n",
       "      <td>count</td>\n",
       "      <td>500.000000</td>\n",
       "      <td>500.000000</td>\n",
       "    </tr>\n",
       "    <tr>\n",
       "      <td>mean</td>\n",
       "      <td>1249.500000</td>\n",
       "      <td>45.486000</td>\n",
       "    </tr>\n",
       "    <tr>\n",
       "      <td>std</td>\n",
       "      <td>144.481833</td>\n",
       "      <td>16.972269</td>\n",
       "    </tr>\n",
       "    <tr>\n",
       "      <td>min</td>\n",
       "      <td>1000.000000</td>\n",
       "      <td>18.000000</td>\n",
       "    </tr>\n",
       "    <tr>\n",
       "      <td>25%</td>\n",
       "      <td>1124.750000</td>\n",
       "      <td>30.000000</td>\n",
       "    </tr>\n",
       "    <tr>\n",
       "      <td>50%</td>\n",
       "      <td>1249.500000</td>\n",
       "      <td>46.000000</td>\n",
       "    </tr>\n",
       "    <tr>\n",
       "      <td>75%</td>\n",
       "      <td>1374.250000</td>\n",
       "      <td>61.000000</td>\n",
       "    </tr>\n",
       "    <tr>\n",
       "      <td>max</td>\n",
       "      <td>1499.000000</td>\n",
       "      <td>75.000000</td>\n",
       "    </tr>\n",
       "  </tbody>\n",
       "</table>\n",
       "</div>"
      ],
      "text/plain": [
       "           user_id         age\n",
       "count   500.000000  500.000000\n",
       "mean   1249.500000   45.486000\n",
       "std     144.481833   16.972269\n",
       "min    1000.000000   18.000000\n",
       "25%    1124.750000   30.000000\n",
       "50%    1249.500000   46.000000\n",
       "75%    1374.250000   61.000000\n",
       "max    1499.000000   75.000000"
      ]
     },
     "execution_count": 20,
     "metadata": {},
     "output_type": "execute_result"
    }
   ],
   "source": [
    "# View description statistics.\n",
    "data_users1.describe()"
   ]
  },
  {
   "cell_type": "code",
   "execution_count": 21,
   "metadata": {},
   "outputs": [],
   "source": [
    "# Check the unique values.\n",
    "#data_users1.groupby(['last_name', 'first_name']).count()"
   ]
  },
  {
   "cell_type": "code",
   "execution_count": 22,
   "metadata": {},
   "outputs": [],
   "source": [
    "# Check the unique values.\n",
    "#data_users1['age'].value_counts().sort_index()"
   ]
  },
  {
   "cell_type": "code",
   "execution_count": 23,
   "metadata": {},
   "outputs": [],
   "source": [
    "# Check the unique values.\n",
    "#sorted(data_users1['city'].unique())"
   ]
  },
  {
   "cell_type": "code",
   "execution_count": 24,
   "metadata": {},
   "outputs": [],
   "source": [
    "# Check the unique values.\n",
    "#data_users1['tariff'].unique()"
   ]
  },
  {
   "cell_type": "markdown",
   "metadata": {},
   "source": [
    "### Conclusion"
   ]
  },
  {
   "cell_type": "markdown",
   "metadata": {},
   "source": [
    "NOTE: \n",
    "* id - do not change the data type, otherwise the '-' will be lost\n",
    "* 1 GB = 1024 MB\n",
    "\n",
    "**calls table (data on calls)**\n",
    "<br>Total rows: 137735\n",
    "<br>Total columns: 4\n",
    "* id — unique call identifier\n",
    "* user_id — the identifier of the user making the call\n",
    "* call_date — call date\n",
    "<br>o object -> date_time\n",
    "* duration — call duration (in minutes)\n",
    "<br>o round up to the nearest minutes\n",
    "<br>o 0 min - hung up as soon as the line was connected?\n",
    "\n",
    "**internet table (data on web sessions)**\n",
    "<br>Total rows: 104825 \n",
    "<br>Total columns: 4\n",
    "* id — unique session identifier\n",
    "* user_id — user identifier\n",
    "* session_date — web session date\n",
    "<br>o object -> date_time]\n",
    "* mb_used — the volume of data spent during the session (in MB)\n",
    "<br>o 0 MB - hung up as soon as the user was connected to the internet?\n",
    "<br>o eventually round up to the nearest GB\n",
    "\n",
    "**messages table (data on texts)**\n",
    "<br>Total rows: 76051 \n",
    "<br>Total columns: 3\n",
    "* id — unique text message identifier\n",
    "* user_id — the identifier of the user sending the text\n",
    "* message_date — text message date\n",
    "<br>o object -> date_time\n",
    "\n",
    "**plans table (data on the plans)**\n",
    "<br>Total rows: 2\n",
    "<br>Total columns: 8\n",
    "* messages_included — monthly text allowance\n",
    "* mb_per_month_included — data volume allowance in MB\n",
    "* minutes_included — monthly minute allowance\n",
    "* usd_monthly_fee — monthly charge in USD\n",
    "* usd_per_gb - price per extra gigabyte of data after exceeding the package limits in USD\n",
    "* usd_per_message - charge per message in USD\n",
    "* usd_per_minute — price per minute after exceeding the package limits (e.g. if the package includes 100 minutes, the 101st minute will be charged)\n",
    "* plan_name — calling plan name\n",
    "\n",
    "**users table (data on users)**\n",
    "<br>Total rows: 500\n",
    "<br>Total columns: 8\n",
    "* user_id — unique user identifier\n",
    "* first_name — user's name\n",
    "* last_name — user's last name\n",
    "* age — user's age (years)\n",
    "* city — user's city of residence\n",
    "* reg_date — subscription date (dd, mm, yy)\n",
    "<br>o object -> date_time\n",
    "* tariff - plan name\n",
    "* churn_date — the date the user stopped using the service (if the value is missing, the calling plan was being used when this data was generated)\n",
    "<br>o missing values -> determine how to handle them"
   ]
  },
  {
   "cell_type": "markdown",
   "metadata": {},
   "source": [
    "<div class=\"alert alert-block alert-success\">\n",
    "<b>Reviewer's comment v1</b>\n",
    " \n",
    "Great data overview and plan for the next project section. \n",
    "\n",
    "As an extra mile you can try to automate data exploration using function and list of tables as input. \n",
    "</div>"
   ]
  },
  {
   "cell_type": "markdown",
   "metadata": {},
   "source": [
    "<div class=\"alert alert-info\"> <b>Student comments:</b> I will look at as many good examples as possible, learn from them and try to develop my own style. :) </div> "
   ]
  },
  {
   "cell_type": "markdown",
   "metadata": {},
   "source": [
    "<div class=\"alert alert-block alert-success\">\n",
    "<b>Reviewer's comment v2</b>\n",
    " \n",
    "You can read about functions here: \n",
    "    \n",
    "    https://www.datacamp.com/community/tutorials/functions-python-tutorial\n",
    "        \n",
    "Overall in this course, it is not required, but it can be helpful on the real project and if not practise now then when.\n",
    "</div>"
   ]
  },
  {
   "cell_type": "markdown",
   "metadata": {},
   "source": [
    "## Prepare the data"
   ]
  },
  {
   "cell_type": "markdown",
   "metadata": {},
   "source": [
    "### Data preprocessing\n",
    "\n",
    "* missing values\n",
    "* variable rename - not required\n",
    "* unify inconsistent naming - not required\n",
    "* data type conversion\n",
    "* illogical values\n",
    "* bug report\n",
    "* duplicates\n",
    "* align with Megaline prepaid plan policy"
   ]
  },
  {
   "cell_type": "markdown",
   "metadata": {},
   "source": [
    "**Missing values**"
   ]
  },
  {
   "cell_type": "markdown",
   "metadata": {},
   "source": [
    "Determine how to fill missing values in such a way that the general characteristics of the dataset are maintained, and fill them.\n",
    "<br>Reason: the presence of NaN values affects the processing and analysis of data - it does not allow for data type conversion to be performed, and it being a float type affects the result of mathematical operations performed on variables containing NaN."
   ]
  },
  {
   "cell_type": "code",
   "execution_count": 25,
   "metadata": {},
   "outputs": [
    {
     "data": {
      "text/plain": [
       "user_id         0\n",
       "first_name      0\n",
       "last_name       0\n",
       "age             0\n",
       "city            0\n",
       "reg_date        0\n",
       "tariff          0\n",
       "churn_date    466\n",
       "dtype: int64"
      ]
     },
     "execution_count": 25,
     "metadata": {},
     "output_type": "execute_result"
    }
   ],
   "source": [
    "# Check the datasets for missing values.\n",
    "#data_calls.isnull().sum()\n",
    "#data_internet.isnull().sum()\n",
    "#data_messages.isnull().sum()\n",
    "#data_plans.isnull().sum()\n",
    "data_users1.isnull().sum()"
   ]
  },
  {
   "cell_type": "markdown",
   "metadata": {},
   "source": [
    "[A note in the project description] churn_date — the date the user stopped using the service (if the value is\n",
    "missing, the calling plan was being used when this data was generated)\n",
    "\n",
    "\n",
    "[Observation] \n",
    "* 'churn_date' is the only variable that contains missing values. \n",
    "* Only 34 (= 500 - 466) rows have NaN in them, meaning those users have left Megaline. \n",
    "* According to the note in the project description, NaN has a meaning in the variable, so this is a case of MNAR.\n",
    "* To enable calculations to be performed on the variable, I will be filling the missing values with toda's date, meaning the calling plan is still active today."
   ]
  },
  {
   "cell_type": "code",
   "execution_count": 26,
   "metadata": {},
   "outputs": [],
   "source": [
    "# To make my life easier, convert the data type of 'churn_date' from object to datetime at this stage.\n",
    "data_users1['churn_date'] = pd.to_datetime(data_users1['churn_date'], format='%Y-%m-%d', errors='coerce')\n",
    "\n",
    "# Verify it worked. \n",
    "#data_users1.info()"
   ]
  },
  {
   "cell_type": "code",
   "execution_count": 27,
   "metadata": {},
   "outputs": [
    {
     "data": {
      "text/plain": [
       "count                      34\n",
       "unique                     29\n",
       "top       2018-12-18 00:00:00\n",
       "freq                        3\n",
       "first     2018-07-31 00:00:00\n",
       "last      2018-12-31 00:00:00\n",
       "Name: churn_date, dtype: object"
      ]
     },
     "execution_count": 27,
     "metadata": {},
     "output_type": "execute_result"
    }
   ],
   "source": [
    "# Check the descriptive statistics on 'churn_date'.\n",
    "data_users1['churn_date'].describe()"
   ]
  },
  {
   "cell_type": "markdown",
   "metadata": {},
   "source": [
    "[Observation] The data are from 2018 only, so it is safe to use today's date from the year 2021 to fill the missing values. "
   ]
  },
  {
   "cell_type": "code",
   "execution_count": 28,
   "metadata": {},
   "outputs": [],
   "source": [
    "# Fill the missing value with today's date, and save in a new column. \n",
    "today = pd.to_datetime('today').normalize()\n",
    "data_users1['churn_date_filled'] = data_users1['churn_date'].fillna(today)\n",
    "\n",
    "# Verify it worked.\n",
    "#data_users1[data_users1['churn_date'].isnull()]\n",
    "#data_users1[data_users1['churn_date'].notnull()]"
   ]
  },
  {
   "cell_type": "markdown",
   "metadata": {},
   "source": [
    "**Data type conversion**\n",
    "\n",
    "Convert the data type from object to datetime in %Y-%m-%d format.\n",
    "<br>Reason: so we can perform date calculations if necessary."
   ]
  },
  {
   "cell_type": "code",
   "execution_count": 29,
   "metadata": {},
   "outputs": [],
   "source": [
    "# calls_table\n",
    "data_calls['call_date'] = pd.to_datetime(data_calls['call_date'], format='%Y-%m-%d')\n",
    "\n",
    "# internet_table\n",
    "data_internet['session_date'] = pd.to_datetime(data_internet['session_date'], format='%Y-%m-%d')\n",
    "\n",
    "# messages_table\n",
    "data_messages['message_date'] = pd.to_datetime(data_messages['message_date'], format='%Y-%m-%d')\n",
    "\n",
    "# users_table\n",
    "data_users1['reg_date'] = pd.to_datetime(data_users1['reg_date'], format='%Y-%m-%d')\n",
    "\n",
    "# Verify it worked.\n",
    "#data_calls.info()\n",
    "#data_internet.info()\n",
    "#data_messages.info()\n",
    "#data_users1.info()"
   ]
  },
  {
   "cell_type": "markdown",
   "metadata": {},
   "source": [
    "**Illogical values**\n",
    "\n",
    "Investigate seemingly illogical variables.\n",
    "<br>Reason: to secure data integrity and obtain statistically meaningful insights based on sound data."
   ]
  },
  {
   "cell_type": "code",
   "execution_count": 30,
   "metadata": {},
   "outputs": [
    {
     "data": {
      "text/plain": [
       "0.1948233927469416"
      ]
     },
     "execution_count": 30,
     "metadata": {},
     "output_type": "execute_result"
    }
   ],
   "source": [
    "# Some rows in 'calls table' > 'duration' contain 0.\n",
    "#data_calls[data_calls['duration'] == 0]\n",
    "\n",
    "# Find out the proportion of zero duration calls in the total number of calls. \n",
    "data_calls.query('duration == 0').shape[0]/data_calls.shape[0]"
   ]
  },
  {
   "cell_type": "code",
   "execution_count": 31,
   "metadata": {},
   "outputs": [
    {
     "data": {
      "text/plain": [
       "0.1311423801574052"
      ]
     },
     "execution_count": 31,
     "metadata": {},
     "output_type": "execute_result"
    }
   ],
   "source": [
    "# Some rows in 'internet table' > 'mb_used' contain 0.\n",
    "#data_internet[data_internet['mb_used'] == 0]\n",
    "\n",
    "# Find out the proportion of zero duration connections in the total number of connections. \n",
    "data_internet.query('mb_used == 0').shape[0]/data_internet.shape[0]"
   ]
  },
  {
   "cell_type": "markdown",
   "metadata": {},
   "source": [
    "[Observation] \n",
    "* 'duration' in 'calls table': approx. 20% of the recorded calls are zero in duration, which is rather high. \n",
    "* 'mb_used' in 'internet table': approx. 13% of the recorded connections are zero in duration.\n",
    "\n",
    "When a system attempts a call but fails to connect, that call is usually logged as a call with zero duration. These failures may be due to a number of causes: an incorrectly dialed number, the called user was busy, the called user did not answer. So, I would like to deem these rows to be legitimate records. "
   ]
  },
  {
   "cell_type": "markdown",
   "metadata": {},
   "source": [
    "<div class=\"alert alert-block alert-success\">\n",
    "<b>Reviewer's comment v1</b>\n",
    " \n",
    "Well done. You identified strange zero values in data.\n",
    "</div>"
   ]
  },
  {
   "cell_type": "markdown",
   "metadata": {},
   "source": [
    "**Bug report**\n",
    "\n",
    "Investigate seemingly illogical variables and reate a bug report as necessary.\n",
    "<br>Reason: report to the data engineer/data owner indications of possible faults in the data production/collection system."
   ]
  },
  {
   "cell_type": "code",
   "execution_count": 32,
   "metadata": {},
   "outputs": [
    {
     "data": {
      "text/html": [
       "<div>\n",
       "<style scoped>\n",
       "    .dataframe tbody tr th:only-of-type {\n",
       "        vertical-align: middle;\n",
       "    }\n",
       "\n",
       "    .dataframe tbody tr th {\n",
       "        vertical-align: top;\n",
       "    }\n",
       "\n",
       "    .dataframe thead th {\n",
       "        text-align: right;\n",
       "    }\n",
       "</style>\n",
       "<table border=\"1\" class=\"dataframe\">\n",
       "  <thead>\n",
       "    <tr style=\"text-align: right;\">\n",
       "      <th></th>\n",
       "      <th>user_id</th>\n",
       "      <th>first_name</th>\n",
       "      <th>last_name</th>\n",
       "      <th>age</th>\n",
       "      <th>city</th>\n",
       "      <th>reg_date</th>\n",
       "      <th>tariff</th>\n",
       "      <th>churn_date</th>\n",
       "      <th>churn_date_filled</th>\n",
       "    </tr>\n",
       "  </thead>\n",
       "  <tbody>\n",
       "  </tbody>\n",
       "</table>\n",
       "</div>"
      ],
      "text/plain": [
       "Empty DataFrame\n",
       "Columns: [user_id, first_name, last_name, age, city, reg_date, tariff, churn_date, churn_date_filled]\n",
       "Index: []"
      ]
     },
     "execution_count": 32,
     "metadata": {},
     "output_type": "execute_result"
    }
   ],
   "source": [
    "# Check if there are illegal 'churn_date' values which come before 'reg_date' values.\n",
    "data_users1.query('churn_date < reg_date')"
   ]
  },
  {
   "cell_type": "code",
   "execution_count": 33,
   "metadata": {},
   "outputs": [
    {
     "data": {
      "text/html": [
       "<div>\n",
       "<style scoped>\n",
       "    .dataframe tbody tr th:only-of-type {\n",
       "        vertical-align: middle;\n",
       "    }\n",
       "\n",
       "    .dataframe tbody tr th {\n",
       "        vertical-align: top;\n",
       "    }\n",
       "\n",
       "    .dataframe thead th {\n",
       "        text-align: right;\n",
       "    }\n",
       "</style>\n",
       "<table border=\"1\" class=\"dataframe\">\n",
       "  <thead>\n",
       "    <tr style=\"text-align: right;\">\n",
       "      <th></th>\n",
       "      <th>id</th>\n",
       "      <th>user_id</th>\n",
       "      <th>call_date</th>\n",
       "      <th>duration</th>\n",
       "      <th>churn_date</th>\n",
       "    </tr>\n",
       "  </thead>\n",
       "  <tbody>\n",
       "    <tr>\n",
       "      <td>973</td>\n",
       "      <td>1006_50</td>\n",
       "      <td>1006</td>\n",
       "      <td>2018-12-21</td>\n",
       "      <td>12.30</td>\n",
       "      <td>2018-12-18</td>\n",
       "    </tr>\n",
       "    <tr>\n",
       "      <td>976</td>\n",
       "      <td>1006_74</td>\n",
       "      <td>1006</td>\n",
       "      <td>2018-12-26</td>\n",
       "      <td>9.12</td>\n",
       "      <td>2018-12-18</td>\n",
       "    </tr>\n",
       "    <tr>\n",
       "      <td>3561</td>\n",
       "      <td>1012_1</td>\n",
       "      <td>1012</td>\n",
       "      <td>2018-12-19</td>\n",
       "      <td>0.00</td>\n",
       "      <td>2018-11-16</td>\n",
       "    </tr>\n",
       "    <tr>\n",
       "      <td>3562</td>\n",
       "      <td>1012_2</td>\n",
       "      <td>1012</td>\n",
       "      <td>2018-12-23</td>\n",
       "      <td>2.53</td>\n",
       "      <td>2018-11-16</td>\n",
       "    </tr>\n",
       "    <tr>\n",
       "      <td>3563</td>\n",
       "      <td>1012_3</td>\n",
       "      <td>1012</td>\n",
       "      <td>2018-12-07</td>\n",
       "      <td>0.00</td>\n",
       "      <td>2018-11-16</td>\n",
       "    </tr>\n",
       "    <tr>\n",
       "      <td>...</td>\n",
       "      <td>...</td>\n",
       "      <td>...</td>\n",
       "      <td>...</td>\n",
       "      <td>...</td>\n",
       "      <td>...</td>\n",
       "    </tr>\n",
       "    <tr>\n",
       "      <td>135668</td>\n",
       "      <td>1491_639</td>\n",
       "      <td>1491</td>\n",
       "      <td>2018-11-26</td>\n",
       "      <td>4.87</td>\n",
       "      <td>2018-09-18</td>\n",
       "    </tr>\n",
       "    <tr>\n",
       "      <td>135670</td>\n",
       "      <td>1491_641</td>\n",
       "      <td>1491</td>\n",
       "      <td>2018-12-14</td>\n",
       "      <td>10.39</td>\n",
       "      <td>2018-09-18</td>\n",
       "    </tr>\n",
       "    <tr>\n",
       "      <td>135671</td>\n",
       "      <td>1491_642</td>\n",
       "      <td>1491</td>\n",
       "      <td>2018-10-08</td>\n",
       "      <td>6.91</td>\n",
       "      <td>2018-09-18</td>\n",
       "    </tr>\n",
       "    <tr>\n",
       "      <td>135672</td>\n",
       "      <td>1491_644</td>\n",
       "      <td>1491</td>\n",
       "      <td>2018-11-29</td>\n",
       "      <td>11.17</td>\n",
       "      <td>2018-09-18</td>\n",
       "    </tr>\n",
       "    <tr>\n",
       "      <td>135673</td>\n",
       "      <td>1491_647</td>\n",
       "      <td>1491</td>\n",
       "      <td>2018-11-23</td>\n",
       "      <td>12.64</td>\n",
       "      <td>2018-09-18</td>\n",
       "    </tr>\n",
       "  </tbody>\n",
       "</table>\n",
       "<p>2961 rows × 5 columns</p>\n",
       "</div>"
      ],
      "text/plain": [
       "              id  user_id  call_date  duration churn_date\n",
       "973      1006_50     1006 2018-12-21     12.30 2018-12-18\n",
       "976      1006_74     1006 2018-12-26      9.12 2018-12-18\n",
       "3561      1012_1     1012 2018-12-19      0.00 2018-11-16\n",
       "3562      1012_2     1012 2018-12-23      2.53 2018-11-16\n",
       "3563      1012_3     1012 2018-12-07      0.00 2018-11-16\n",
       "...          ...      ...        ...       ...        ...\n",
       "135668  1491_639     1491 2018-11-26      4.87 2018-09-18\n",
       "135670  1491_641     1491 2018-12-14     10.39 2018-09-18\n",
       "135671  1491_642     1491 2018-10-08      6.91 2018-09-18\n",
       "135672  1491_644     1491 2018-11-29     11.17 2018-09-18\n",
       "135673  1491_647     1491 2018-11-23     12.64 2018-09-18\n",
       "\n",
       "[2961 rows x 5 columns]"
      ]
     },
     "execution_count": 33,
     "metadata": {},
     "output_type": "execute_result"
    }
   ],
   "source": [
    "# Create a dataset which contain 'churn_date' and 'call_date'.\n",
    "churn_vs_call = data_users1[['user_id', 'churn_date']]\n",
    "data_calls_copy = data_calls\n",
    "calls_with_churn = pd.merge(left = data_calls_copy, right = churn_vs_call, how = 'outer', on='user_id')\n",
    "\n",
    "# View the dataset.\n",
    "#calls_with_churn.head()\n",
    "\n",
    "# Check if there are illegal 'churn_date' values which come before 'call_date' values.\n",
    "less_churn1 = calls_with_churn.query('call_date > churn_date')\n",
    "\n",
    "# View the dataset. \n",
    "less_churn1"
   ]
  },
  {
   "cell_type": "code",
   "execution_count": 34,
   "metadata": {},
   "outputs": [
    {
     "name": "stdout",
     "output_type": "stream",
     "text": [
      "id            0.021\n",
      "user_id       0.021\n",
      "call_date     0.021\n",
      "duration      0.021\n",
      "churn_date    0.021\n",
      "dtype: float64\n"
     ]
    }
   ],
   "source": [
    "# Check the proportion of the rows with the issue. \n",
    "print(round(less_churn1.count()/len(data_calls),3))"
   ]
  },
  {
   "cell_type": "code",
   "execution_count": 35,
   "metadata": {},
   "outputs": [
    {
     "data": {
      "text/html": [
       "<div>\n",
       "<style scoped>\n",
       "    .dataframe tbody tr th:only-of-type {\n",
       "        vertical-align: middle;\n",
       "    }\n",
       "\n",
       "    .dataframe tbody tr th {\n",
       "        vertical-align: top;\n",
       "    }\n",
       "\n",
       "    .dataframe thead th {\n",
       "        text-align: right;\n",
       "    }\n",
       "</style>\n",
       "<table border=\"1\" class=\"dataframe\">\n",
       "  <thead>\n",
       "    <tr style=\"text-align: right;\">\n",
       "      <th></th>\n",
       "      <th>id</th>\n",
       "      <th>user_id</th>\n",
       "      <th>session_date</th>\n",
       "      <th>mb_used</th>\n",
       "      <th>churn_date</th>\n",
       "    </tr>\n",
       "  </thead>\n",
       "  <tbody>\n",
       "    <tr>\n",
       "      <td>948</td>\n",
       "      <td>1006_14</td>\n",
       "      <td>1006</td>\n",
       "      <td>2018-12-24</td>\n",
       "      <td>342.75</td>\n",
       "      <td>2018-12-18</td>\n",
       "    </tr>\n",
       "    <tr>\n",
       "      <td>954</td>\n",
       "      <td>1006_25</td>\n",
       "      <td>1006</td>\n",
       "      <td>2018-12-22</td>\n",
       "      <td>349.08</td>\n",
       "      <td>2018-12-18</td>\n",
       "    </tr>\n",
       "    <tr>\n",
       "      <td>955</td>\n",
       "      <td>1006_26</td>\n",
       "      <td>1006</td>\n",
       "      <td>2018-12-25</td>\n",
       "      <td>309.67</td>\n",
       "      <td>2018-12-18</td>\n",
       "    </tr>\n",
       "    <tr>\n",
       "      <td>956</td>\n",
       "      <td>1006_31</td>\n",
       "      <td>1006</td>\n",
       "      <td>2018-12-24</td>\n",
       "      <td>557.89</td>\n",
       "      <td>2018-12-18</td>\n",
       "    </tr>\n",
       "    <tr>\n",
       "      <td>957</td>\n",
       "      <td>1006_49</td>\n",
       "      <td>1006</td>\n",
       "      <td>2018-12-25</td>\n",
       "      <td>95.65</td>\n",
       "      <td>2018-12-18</td>\n",
       "    </tr>\n",
       "    <tr>\n",
       "      <td>...</td>\n",
       "      <td>...</td>\n",
       "      <td>...</td>\n",
       "      <td>...</td>\n",
       "      <td>...</td>\n",
       "      <td>...</td>\n",
       "    </tr>\n",
       "    <tr>\n",
       "      <td>102752</td>\n",
       "      <td>1491_247</td>\n",
       "      <td>1491</td>\n",
       "      <td>2018-10-30</td>\n",
       "      <td>341.79</td>\n",
       "      <td>2018-09-18</td>\n",
       "    </tr>\n",
       "    <tr>\n",
       "      <td>102753</td>\n",
       "      <td>1491_249</td>\n",
       "      <td>1491</td>\n",
       "      <td>2018-11-28</td>\n",
       "      <td>124.95</td>\n",
       "      <td>2018-09-18</td>\n",
       "    </tr>\n",
       "    <tr>\n",
       "      <td>102755</td>\n",
       "      <td>1491_251</td>\n",
       "      <td>1491</td>\n",
       "      <td>2018-12-24</td>\n",
       "      <td>428.70</td>\n",
       "      <td>2018-09-18</td>\n",
       "    </tr>\n",
       "    <tr>\n",
       "      <td>102761</td>\n",
       "      <td>1491_262</td>\n",
       "      <td>1491</td>\n",
       "      <td>2018-11-11</td>\n",
       "      <td>288.54</td>\n",
       "      <td>2018-09-18</td>\n",
       "    </tr>\n",
       "    <tr>\n",
       "      <td>102765</td>\n",
       "      <td>1491_268</td>\n",
       "      <td>1491</td>\n",
       "      <td>2018-12-27</td>\n",
       "      <td>0.00</td>\n",
       "      <td>2018-09-18</td>\n",
       "    </tr>\n",
       "  </tbody>\n",
       "</table>\n",
       "<p>2463 rows × 5 columns</p>\n",
       "</div>"
      ],
      "text/plain": [
       "              id  user_id session_date  mb_used churn_date\n",
       "948      1006_14     1006   2018-12-24   342.75 2018-12-18\n",
       "954      1006_25     1006   2018-12-22   349.08 2018-12-18\n",
       "955      1006_26     1006   2018-12-25   309.67 2018-12-18\n",
       "956      1006_31     1006   2018-12-24   557.89 2018-12-18\n",
       "957      1006_49     1006   2018-12-25    95.65 2018-12-18\n",
       "...          ...      ...          ...      ...        ...\n",
       "102752  1491_247     1491   2018-10-30   341.79 2018-09-18\n",
       "102753  1491_249     1491   2018-11-28   124.95 2018-09-18\n",
       "102755  1491_251     1491   2018-12-24   428.70 2018-09-18\n",
       "102761  1491_262     1491   2018-11-11   288.54 2018-09-18\n",
       "102765  1491_268     1491   2018-12-27     0.00 2018-09-18\n",
       "\n",
       "[2463 rows x 5 columns]"
      ]
     },
     "execution_count": 35,
     "metadata": {},
     "output_type": "execute_result"
    }
   ],
   "source": [
    "# Create a dataset which contain 'churn_date' and 'session_date'.\n",
    "data_internet_copy = data_internet\n",
    "internet_with_churn = pd.merge(left = data_internet_copy, right = churn_vs_call, how = 'outer', on='user_id')\n",
    "\n",
    "# View the dataset.\n",
    "#internet_with_churn.head()\n",
    "\n",
    "# Check if there are rows where 'session_date' > 'churn_date'.\n",
    "less_churn2 = internet_with_churn.query('session_date > churn_date')\n",
    "\n",
    "# View the dataset.\n",
    "less_churn2"
   ]
  },
  {
   "cell_type": "code",
   "execution_count": 36,
   "metadata": {},
   "outputs": [
    {
     "name": "stdout",
     "output_type": "stream",
     "text": [
      "id              0.023\n",
      "user_id         0.023\n",
      "session_date    0.023\n",
      "mb_used         0.023\n",
      "churn_date      0.023\n",
      "dtype: float64\n"
     ]
    }
   ],
   "source": [
    "# Check the proportion of the rows with the issue. \n",
    "print(round(less_churn2.count()/len(data_internet),3))"
   ]
  },
  {
   "cell_type": "markdown",
   "metadata": {},
   "source": [
    "[Observation] There are customers who still continue to leverage the prepaid plans for calls and internet connection even after they have left Megaline! \n",
    "\n",
    "[Bug Report]\n",
    "The issue is in about 2% of the data on calls and on internet, and concerns the integrity and validity of the data. \n",
    "* Does the system fail to verify customer access whether or not they have a valid call package use?\n",
    "* Do these customers have a special concession that they are allowed to continue using the call package deal beyond the package validity date?\n",
    "\n",
    "Since it will not make any sense to replace with the median, and it will lead to meaningless data loss if I were to delete those rows, I would like to choose reporting the issue as a potential bug to the data engineer/data owner as the only possible cause of action. \n",
    "\n",
    "I would describe the two cases: (1) 'call_date > churn_date', and (2) 'session_date > churn_date', and the nature of the problem and its consequences to the business, and attach the two .csv files, highlighting the problematic rows in yellow in MSExcel. (If I were handling big data beyond MSExcel's processing capability, I would send only the problematic rows in a copy of the two csv files, extracted by using an SQL query).\n",
    "\n",
    "[Data validity with regard to the project]\n",
    "I will not have to perform calculations on 'churn_date' in this project, however, the validity of the data in the two csv files is now in question. The presence of these rows in the data is illegal. However, they still provide valuable information towards the goal of the project, so I will not be removing those rows. \n",
    "\n",
    "[QUESTION] Please advise what should be done in a real scenario when waiting for a response from the data engineer/data owner to return corrected files is not an option. "
   ]
  },
  {
   "cell_type": "markdown",
   "metadata": {},
   "source": [
    "<div class=\"alert alert-block alert-success\">\n",
    "<b>Reviewer's comment v1</b>\n",
    " \n",
    "That is very interesting observation! Good, that you managed to identify it in the data. In this case let's assume that we have an issue in the data storing process. And there is a delay between the date when user actually used a service and what we see in the data.\n",
    "    \n",
    "On a real project that is definetely smth that you need to discuss with data engineer/software developer to understand why this is happening. At the same time continue with your analysis where possible.\n",
    "</div>"
   ]
  },
  {
   "cell_type": "markdown",
   "metadata": {},
   "source": [
    "<div class=\"alert alert-info\"> <b>Student comments:</b> An interesting cause for the issue. Undertood. 👍🏻 </div> "
   ]
  },
  {
   "cell_type": "markdown",
   "metadata": {},
   "source": [
    "**Duplicates**"
   ]
  },
  {
   "cell_type": "code",
   "execution_count": 37,
   "metadata": {},
   "outputs": [],
   "source": [
    "# Look for duplicate rows where they are identical column for column. \n",
    "#data_calls.duplicated().sum()\n",
    "#data_internet.duplicated().sum()\n",
    "#data_messages.duplicated().sum()\n",
    "#data_plans.duplicated().sum()\n",
    "#data_users1.duplicated().sum()"
   ]
  },
  {
   "cell_type": "markdown",
   "metadata": {},
   "source": [
    "[Observation] There are no such rows. "
   ]
  },
  {
   "cell_type": "markdown",
   "metadata": {},
   "source": [
    "**Aligning with Megaline prepaid plan policy**"
   ]
  },
  {
   "cell_type": "code",
   "execution_count": 38,
   "metadata": {},
   "outputs": [],
   "source": [
    "# Add the data volume included in the free package plans in GB to reflect the Megaline policy.\n",
    "data_plans['gb_per_month_included'] = np.where(data_plans['plan_name'] == 'surf', 15, 30)\n",
    "\n",
    "# Verify it worked. \n",
    "#data_plans"
   ]
  },
  {
   "cell_type": "markdown",
   "metadata": {},
   "source": [
    "### Conclusion"
   ]
  },
  {
   "cell_type": "markdown",
   "metadata": {},
   "source": [
    "In order to prepare the data for analyses and hypothesis testing, the following issues were checked and handled as necessary:\n",
    "* missing values: 'churn_date' was found to be MNAR, and the missing values were filled with today's date to enable calculations on the variable, and yet, were kept distinguishable from the non-empty values, which had been there originally. \n",
    "* data type conversion: 'call_date', 'session_date', 'message_date' and 'reg_date' date variables were converted to datetime data type to enable caculations on them. \n",
    "* illogical values: 'duration' in the call data and 'mb_used were found to contain 0, were investigated and were found to be legitimate. \n",
    "* bug report: some 'churn_date' values were found to preceded 'call_date' and 'session_date', indicating some customers were allowed to make calls and connect to the Internet after they had already cancelled the calling packages. The issue was reported to be handled by the data engineer/data owner. \n",
    "* align with Megaline prepaid plan policy: Megaline charges to the nearest minutes rather than seconds, and to the nearest GB rather than MB. The plans data were updated to accurately reflect the charging policy to enable correct methods of calculations. \n",
    "\n",
    "The data were checked in the following aspects and no issues were found:\n",
    "* variable rename\n",
    "* unify inconsistent naming\n",
    "* duplicates"
   ]
  },
  {
   "cell_type": "markdown",
   "metadata": {},
   "source": [
    "## Calculations"
   ]
  },
  {
   "cell_type": "markdown",
   "metadata": {},
   "source": [
    "For each user, find the following:\n",
    "\n",
    "* The number of calls made and minutes used per month\n",
    "* The number of text messages sent per month\n",
    "* The volume of data per month\n",
    "* The monthly revenue from each user (subtract the free package limit from the total call duration, text messages, and data; multiply the result by the calling plan value; add the monthly charge depending on the calling plan)\n",
    "\n",
    "[Comment] In the project description, it was written, \"(subtract the free package limit from the total number of calls...\". Since Megaline prepaid plans are defined based on call duration rather than number of calls, I took the liberty of re-interpreting the sentence the way I did. "
   ]
  },
  {
   "cell_type": "markdown",
   "metadata": {},
   "source": [
    "**For each user, find the number of calls made and minutes used per month.**"
   ]
  },
  {
   "cell_type": "code",
   "execution_count": 39,
   "metadata": {},
   "outputs": [],
   "source": [
    "# Find the period the dataset covers.\n",
    "call_period_min = data_calls['call_date'].min()\n",
    "call_period_max = data_calls['call_date'].max()\n",
    "\n",
    "#print(call_period_min, '-', call_period_max)\n",
    "\n",
    "# The data are from 2018 only. So only extract the month from 'call_date' and store in a new column.\n",
    "data_calls['month'] = pd.DatetimeIndex(data_calls['call_date']).month\n",
    "\n",
    "# Verify that it worked.  \n",
    "#data_calls.head()"
   ]
  },
  {
   "cell_type": "code",
   "execution_count": 40,
   "metadata": {},
   "outputs": [],
   "source": [
    "# Round up the seconds to the nearest minutes in 'duration'. \n",
    "# Reason: each individual call in minutes and seconds is rounded up to the nearest minutes. \n",
    "data_calls['duration_min'] = np.ceil(data_calls['duration']).astype(int)\n",
    "\n",
    "# Verify it worked\n",
    "#data_calls.head()"
   ]
  },
  {
   "cell_type": "code",
   "execution_count": 41,
   "metadata": {},
   "outputs": [
    {
     "data": {
      "text/html": [
       "<div>\n",
       "<style scoped>\n",
       "    .dataframe tbody tr th:only-of-type {\n",
       "        vertical-align: middle;\n",
       "    }\n",
       "\n",
       "    .dataframe tbody tr th {\n",
       "        vertical-align: top;\n",
       "    }\n",
       "\n",
       "    .dataframe thead th {\n",
       "        text-align: right;\n",
       "    }\n",
       "</style>\n",
       "<table border=\"1\" class=\"dataframe\">\n",
       "  <thead>\n",
       "    <tr style=\"text-align: right;\">\n",
       "      <th></th>\n",
       "      <th>user_id</th>\n",
       "      <th>month</th>\n",
       "      <th>id</th>\n",
       "    </tr>\n",
       "  </thead>\n",
       "  <tbody>\n",
       "    <tr>\n",
       "      <td>0</td>\n",
       "      <td>1000</td>\n",
       "      <td>12</td>\n",
       "      <td>16</td>\n",
       "    </tr>\n",
       "    <tr>\n",
       "      <td>1</td>\n",
       "      <td>1001</td>\n",
       "      <td>8</td>\n",
       "      <td>27</td>\n",
       "    </tr>\n",
       "    <tr>\n",
       "      <td>2</td>\n",
       "      <td>1001</td>\n",
       "      <td>9</td>\n",
       "      <td>49</td>\n",
       "    </tr>\n",
       "    <tr>\n",
       "      <td>3</td>\n",
       "      <td>1001</td>\n",
       "      <td>10</td>\n",
       "      <td>65</td>\n",
       "    </tr>\n",
       "    <tr>\n",
       "      <td>4</td>\n",
       "      <td>1001</td>\n",
       "      <td>11</td>\n",
       "      <td>64</td>\n",
       "    </tr>\n",
       "  </tbody>\n",
       "</table>\n",
       "</div>"
      ],
      "text/plain": [
       "   user_id  month  id\n",
       "0     1000     12  16\n",
       "1     1001      8  27\n",
       "2     1001      9  49\n",
       "3     1001     10  65\n",
       "4     1001     11  64"
      ]
     },
     "execution_count": 41,
     "metadata": {},
     "output_type": "execute_result"
    }
   ],
   "source": [
    "# Group the data by 'user_id' and 'month', and find the total number of calls made in each month. \n",
    "call_total = data_calls.groupby(['user_id', 'month'])['id'].count().to_frame().reset_index()\n",
    "\n",
    "# View the result. \n",
    "call_total.head()"
   ]
  },
  {
   "cell_type": "code",
   "execution_count": 42,
   "metadata": {},
   "outputs": [
    {
     "data": {
      "text/html": [
       "<div>\n",
       "<style scoped>\n",
       "    .dataframe tbody tr th:only-of-type {\n",
       "        vertical-align: middle;\n",
       "    }\n",
       "\n",
       "    .dataframe tbody tr th {\n",
       "        vertical-align: top;\n",
       "    }\n",
       "\n",
       "    .dataframe thead th {\n",
       "        text-align: right;\n",
       "    }\n",
       "</style>\n",
       "<table border=\"1\" class=\"dataframe\">\n",
       "  <thead>\n",
       "    <tr style=\"text-align: right;\">\n",
       "      <th></th>\n",
       "      <th>user_id</th>\n",
       "      <th>month</th>\n",
       "      <th>duration_min</th>\n",
       "    </tr>\n",
       "  </thead>\n",
       "  <tbody>\n",
       "    <tr>\n",
       "      <td>0</td>\n",
       "      <td>1000</td>\n",
       "      <td>12</td>\n",
       "      <td>124</td>\n",
       "    </tr>\n",
       "    <tr>\n",
       "      <td>1</td>\n",
       "      <td>1001</td>\n",
       "      <td>8</td>\n",
       "      <td>182</td>\n",
       "    </tr>\n",
       "    <tr>\n",
       "      <td>2</td>\n",
       "      <td>1001</td>\n",
       "      <td>9</td>\n",
       "      <td>315</td>\n",
       "    </tr>\n",
       "    <tr>\n",
       "      <td>3</td>\n",
       "      <td>1001</td>\n",
       "      <td>10</td>\n",
       "      <td>393</td>\n",
       "    </tr>\n",
       "    <tr>\n",
       "      <td>4</td>\n",
       "      <td>1001</td>\n",
       "      <td>11</td>\n",
       "      <td>426</td>\n",
       "    </tr>\n",
       "  </tbody>\n",
       "</table>\n",
       "</div>"
      ],
      "text/plain": [
       "   user_id  month  duration_min\n",
       "0     1000     12           124\n",
       "1     1001      8           182\n",
       "2     1001      9           315\n",
       "3     1001     10           393\n",
       "4     1001     11           426"
      ]
     },
     "execution_count": 42,
     "metadata": {},
     "output_type": "execute_result"
    }
   ],
   "source": [
    "# Group the data by 'user_id' and 'month', and find the total call duration in minutes for each month. \n",
    "duration_total_mins = data_calls.groupby(['user_id', 'month'])['duration_min'].sum().to_frame().reset_index()\n",
    "\n",
    "# View the result.  \n",
    "duration_total_mins.head()"
   ]
  },
  {
   "cell_type": "markdown",
   "metadata": {},
   "source": [
    "<div class=\"alert alert-info\"> <b>Student comments:</b> I rounded up the call duration to the nearest minutes here. </div> "
   ]
  },
  {
   "cell_type": "markdown",
   "metadata": {},
   "source": [
    "**For each user, find the number of text messages sent per month.**"
   ]
  },
  {
   "cell_type": "code",
   "execution_count": 43,
   "metadata": {},
   "outputs": [],
   "source": [
    "# Find the period the dataset covers.\n",
    "message_period_min = data_messages['message_date'].min()\n",
    "message_period_max = data_messages['message_date'].max()\n",
    "\n",
    "#print(message_period_min, '-', message_period_max)\n",
    "\n",
    "# The data are from 2018 only. So only extract the month from 'message_date' and store in a new column.\n",
    "data_messages['month'] = pd.DatetimeIndex(data_messages['message_date']).month\n",
    "\n",
    "# Verify that it worked.  \n",
    "#data_messages.head()"
   ]
  },
  {
   "cell_type": "code",
   "execution_count": 44,
   "metadata": {},
   "outputs": [
    {
     "data": {
      "text/html": [
       "<div>\n",
       "<style scoped>\n",
       "    .dataframe tbody tr th:only-of-type {\n",
       "        vertical-align: middle;\n",
       "    }\n",
       "\n",
       "    .dataframe tbody tr th {\n",
       "        vertical-align: top;\n",
       "    }\n",
       "\n",
       "    .dataframe thead th {\n",
       "        text-align: right;\n",
       "    }\n",
       "</style>\n",
       "<table border=\"1\" class=\"dataframe\">\n",
       "  <thead>\n",
       "    <tr style=\"text-align: right;\">\n",
       "      <th></th>\n",
       "      <th>user_id</th>\n",
       "      <th>month</th>\n",
       "      <th>id</th>\n",
       "    </tr>\n",
       "  </thead>\n",
       "  <tbody>\n",
       "    <tr>\n",
       "      <td>0</td>\n",
       "      <td>1000</td>\n",
       "      <td>12</td>\n",
       "      <td>11</td>\n",
       "    </tr>\n",
       "    <tr>\n",
       "      <td>1</td>\n",
       "      <td>1001</td>\n",
       "      <td>8</td>\n",
       "      <td>30</td>\n",
       "    </tr>\n",
       "    <tr>\n",
       "      <td>2</td>\n",
       "      <td>1001</td>\n",
       "      <td>9</td>\n",
       "      <td>44</td>\n",
       "    </tr>\n",
       "    <tr>\n",
       "      <td>3</td>\n",
       "      <td>1001</td>\n",
       "      <td>10</td>\n",
       "      <td>53</td>\n",
       "    </tr>\n",
       "    <tr>\n",
       "      <td>4</td>\n",
       "      <td>1001</td>\n",
       "      <td>11</td>\n",
       "      <td>36</td>\n",
       "    </tr>\n",
       "  </tbody>\n",
       "</table>\n",
       "</div>"
      ],
      "text/plain": [
       "   user_id  month  id\n",
       "0     1000     12  11\n",
       "1     1001      8  30\n",
       "2     1001      9  44\n",
       "3     1001     10  53\n",
       "4     1001     11  36"
      ]
     },
     "execution_count": 44,
     "metadata": {},
     "output_type": "execute_result"
    }
   ],
   "source": [
    "# Group the data by 'user_id' and 'month', and find the total number of messages sent per month. \n",
    "message_total = data_messages.groupby(['user_id', 'month'])['id'].count().to_frame().reset_index()\n",
    "\n",
    "# View the result. \n",
    "message_total.head()"
   ]
  },
  {
   "cell_type": "markdown",
   "metadata": {},
   "source": [
    "**For each user, find the volume of data per month.**"
   ]
  },
  {
   "cell_type": "code",
   "execution_count": 45,
   "metadata": {},
   "outputs": [],
   "source": [
    "# Find the period the dataset covers.\n",
    "internet_period_min = data_internet['session_date'].min()\n",
    "internet_period_max = data_internet['session_date'].max()\n",
    "\n",
    "#print(internet_period_min, '-', internet_period_max)\n",
    "\n",
    "# The data are from 2018 only. So only extract the month from 'session_date' and store in a new column.\n",
    "data_internet['month'] = pd.DatetimeIndex(data_internet['session_date']).month\n",
    "\n",
    "# Verify that it worked.  \n",
    "#data_internet.head()"
   ]
  },
  {
   "cell_type": "code",
   "execution_count": 46,
   "metadata": {},
   "outputs": [],
   "source": [
    "# Round up to the MB to the nearest GB in 'mb_used'.\n",
    "# Reason: the total for the month is rounded up to the nearest GB.\n",
    "data_internet['gb_used'] = np.ceil(data_internet['mb_used'] / 1024).astype(int)\n",
    "\n",
    "# Verify it worked\n",
    "#data_internet.head()"
   ]
  },
  {
   "cell_type": "markdown",
   "metadata": {},
   "source": [
    "<div class=\"alert alert-info\"> <b>Student comments:</b> I rounded up the data volume consumption to the nearest GB here. </div> "
   ]
  },
  {
   "cell_type": "code",
   "execution_count": 47,
   "metadata": {},
   "outputs": [
    {
     "data": {
      "text/html": [
       "<div>\n",
       "<style scoped>\n",
       "    .dataframe tbody tr th:only-of-type {\n",
       "        vertical-align: middle;\n",
       "    }\n",
       "\n",
       "    .dataframe tbody tr th {\n",
       "        vertical-align: top;\n",
       "    }\n",
       "\n",
       "    .dataframe thead th {\n",
       "        text-align: right;\n",
       "    }\n",
       "</style>\n",
       "<table border=\"1\" class=\"dataframe\">\n",
       "  <thead>\n",
       "    <tr style=\"text-align: right;\">\n",
       "      <th></th>\n",
       "      <th>user_id</th>\n",
       "      <th>month</th>\n",
       "      <th>gb_used</th>\n",
       "    </tr>\n",
       "  </thead>\n",
       "  <tbody>\n",
       "    <tr>\n",
       "      <td>0</td>\n",
       "      <td>1000</td>\n",
       "      <td>12</td>\n",
       "      <td>4</td>\n",
       "    </tr>\n",
       "    <tr>\n",
       "      <td>1</td>\n",
       "      <td>1001</td>\n",
       "      <td>8</td>\n",
       "      <td>21</td>\n",
       "    </tr>\n",
       "    <tr>\n",
       "      <td>2</td>\n",
       "      <td>1001</td>\n",
       "      <td>9</td>\n",
       "      <td>41</td>\n",
       "    </tr>\n",
       "    <tr>\n",
       "      <td>3</td>\n",
       "      <td>1001</td>\n",
       "      <td>10</td>\n",
       "      <td>50</td>\n",
       "    </tr>\n",
       "    <tr>\n",
       "      <td>4</td>\n",
       "      <td>1001</td>\n",
       "      <td>11</td>\n",
       "      <td>49</td>\n",
       "    </tr>\n",
       "  </tbody>\n",
       "</table>\n",
       "</div>"
      ],
      "text/plain": [
       "   user_id  month  gb_used\n",
       "0     1000     12        4\n",
       "1     1001      8       21\n",
       "2     1001      9       41\n",
       "3     1001     10       50\n",
       "4     1001     11       49"
      ]
     },
     "execution_count": 47,
     "metadata": {},
     "output_type": "execute_result"
    }
   ],
   "source": [
    "# Group the data by 'user_id' and 'month', and find the total volume of data consumed per month. \n",
    "data_volume_total = data_internet.groupby(['user_id', 'month'])['gb_used'].sum().to_frame().reset_index()\n",
    "\n",
    "# View the result. \n",
    "data_volume_total.head()"
   ]
  },
  {
   "cell_type": "markdown",
   "metadata": {},
   "source": [
    "**For each user, find the monthly revenue from each user (subtract the free package limit from the total number of calls, text messages, and data; multiply the result by the calling plan value; add the monthly charge depending on the calling plan)**"
   ]
  },
  {
   "cell_type": "code",
   "execution_count": 48,
   "metadata": {},
   "outputs": [
    {
     "data": {
      "text/html": [
       "<div>\n",
       "<style scoped>\n",
       "    .dataframe tbody tr th:only-of-type {\n",
       "        vertical-align: middle;\n",
       "    }\n",
       "\n",
       "    .dataframe tbody tr th {\n",
       "        vertical-align: top;\n",
       "    }\n",
       "\n",
       "    .dataframe thead th {\n",
       "        text-align: right;\n",
       "    }\n",
       "</style>\n",
       "<table border=\"1\" class=\"dataframe\">\n",
       "  <thead>\n",
       "    <tr style=\"text-align: right;\">\n",
       "      <th></th>\n",
       "      <th>user_id</th>\n",
       "      <th>month</th>\n",
       "      <th>calls</th>\n",
       "      <th>duration_min</th>\n",
       "      <th>messages</th>\n",
       "      <th>gb_used</th>\n",
       "    </tr>\n",
       "  </thead>\n",
       "  <tbody>\n",
       "    <tr>\n",
       "      <td>0</td>\n",
       "      <td>1000</td>\n",
       "      <td>12</td>\n",
       "      <td>16.0</td>\n",
       "      <td>124.0</td>\n",
       "      <td>11.0</td>\n",
       "      <td>4.0</td>\n",
       "    </tr>\n",
       "    <tr>\n",
       "      <td>1</td>\n",
       "      <td>1001</td>\n",
       "      <td>8</td>\n",
       "      <td>27.0</td>\n",
       "      <td>182.0</td>\n",
       "      <td>30.0</td>\n",
       "      <td>21.0</td>\n",
       "    </tr>\n",
       "    <tr>\n",
       "      <td>2</td>\n",
       "      <td>1001</td>\n",
       "      <td>9</td>\n",
       "      <td>49.0</td>\n",
       "      <td>315.0</td>\n",
       "      <td>44.0</td>\n",
       "      <td>41.0</td>\n",
       "    </tr>\n",
       "    <tr>\n",
       "      <td>3</td>\n",
       "      <td>1001</td>\n",
       "      <td>10</td>\n",
       "      <td>65.0</td>\n",
       "      <td>393.0</td>\n",
       "      <td>53.0</td>\n",
       "      <td>50.0</td>\n",
       "    </tr>\n",
       "    <tr>\n",
       "      <td>4</td>\n",
       "      <td>1001</td>\n",
       "      <td>11</td>\n",
       "      <td>64.0</td>\n",
       "      <td>426.0</td>\n",
       "      <td>36.0</td>\n",
       "      <td>49.0</td>\n",
       "    </tr>\n",
       "  </tbody>\n",
       "</table>\n",
       "</div>"
      ],
      "text/plain": [
       "   user_id  month  calls  duration_min  messages  gb_used\n",
       "0     1000     12   16.0         124.0      11.0      4.0\n",
       "1     1001      8   27.0         182.0      30.0     21.0\n",
       "2     1001      9   49.0         315.0      44.0     41.0\n",
       "3     1001     10   65.0         393.0      53.0     50.0\n",
       "4     1001     11   64.0         426.0      36.0     49.0"
      ]
     },
     "execution_count": 48,
     "metadata": {},
     "output_type": "execute_result"
    }
   ],
   "source": [
    "# Merge all the totals (number of calls, duration, number of messages, data volume) into a single dataframe.\n",
    "data_frames = [call_total, duration_total_mins, message_total, data_volume_total]\n",
    "total3 = reduce(lambda left, right: pd.merge(left, right, on=['user_id', 'month'], how='outer'), data_frames)\n",
    "\n",
    "# Verify it worked.\n",
    "#total3\n",
    "\n",
    "# Rename the column headers for readability. \n",
    "total3.rename(columns={'id_x':'calls', 'id_y':'messages'}, inplace=True)\n",
    "\n",
    "# Verify it worked. \n",
    "total3.head()"
   ]
  },
  {
   "cell_type": "markdown",
   "metadata": {},
   "source": [
    "<div class=\"alert alert-success\" role=\"alert\">\n",
    "<b>Reviewer's comment v1:</b>\n",
    "    \n",
    "Great. how = 'outer' works fine here (default method for concat) in order to keep all data even when a user is inactive.\n",
    "    \n",
    "By the way, it is possible to group 3 tables at the same time using reduce function. You can read about it here:\n",
    "https://www.codegrepper.com/code-examples/python/merge+more+than+2+dataframes+in+pandas\n",
    "\n",
    "</div>"
   ]
  },
  {
   "cell_type": "markdown",
   "metadata": {},
   "source": [
    "<div class=\"alert alert-info\"> <b>Student comments:</b> A great code optimisation and enhanced readability! Thank you. </div> "
   ]
  },
  {
   "cell_type": "code",
   "execution_count": 49,
   "metadata": {},
   "outputs": [],
   "source": [
    "# For each user, look up and add 'tariff' to the table above. \n",
    "# Add 'first_name', 'last_name' and 'city' also for posterity. \n",
    "user_vs_tariff = data_users1[['user_id', 'first_name', 'last_name', 'city', 'tariff']]\n",
    "total4 = pd.merge(left = total3, right = user_vs_tariff, how = 'outer', on='user_id')\n",
    "\n",
    "# Verify it worked. \n",
    "#total4.head()"
   ]
  },
  {
   "cell_type": "code",
   "execution_count": 50,
   "metadata": {},
   "outputs": [],
   "source": [
    "# For each user, get all the information for the relevant prepaid plan. \n",
    "data_plans.rename(columns={'plan_name':'tariff'}, inplace=True)\n",
    "total5 = pd.merge(left = total4, right = data_plans, how = 'outer', on='tariff')\n",
    "\n",
    "# Verify it worked. \n",
    "#total5.head()"
   ]
  },
  {
   "cell_type": "code",
   "execution_count": 51,
   "metadata": {},
   "outputs": [
    {
     "name": "stdout",
     "output_type": "stream",
     "text": [
      "2258 2258 1806 2277\n"
     ]
    }
   ],
   "source": [
    "# Check the datasize of the datasets. \n",
    "print(call_total.shape[0], duration_total_mins.shape[0], message_total.shape[0], data_volume_total.shape[0])\n",
    "\n",
    "# Check for NaN.\n",
    "#total5[total5.isnull()]"
   ]
  },
  {
   "cell_type": "markdown",
   "metadata": {},
   "source": [
    "[Observation] Because the datasets created have different number of rows, there are bound to be NaN values in the merged table 'total5'. \n",
    "\n",
    "Let's clean up. "
   ]
  },
  {
   "cell_type": "code",
   "execution_count": 52,
   "metadata": {},
   "outputs": [],
   "source": [
    "# Remove rows where 'month', 'calls', 'duration', 'messages', 'mb_used', all contain NaN since they do not offer any information to our studies. \n",
    "# Then fill the rest of NaN values with zero.\n",
    "total5 = total5.dropna(subset=['month', 'calls', 'duration_min', 'messages', 'gb_used'], how='all').fillna(0)\n",
    "\n",
    "# Verify it worked.\n",
    "#total5.tail()"
   ]
  },
  {
   "cell_type": "markdown",
   "metadata": {},
   "source": [
    "<div class=\"alert alert-danger\">\n",
    "<b>Reviewer's comment v1:</b>\n",
    "    \n",
    "Ok, great job! Good that you did not forget about data rounding, but based on the project description calls should be rounded even before aggregation, so here we need to use data_calls table.\n",
    "</div>"
   ]
  },
  {
   "cell_type": "markdown",
   "metadata": {},
   "source": [
    "<div class=\"alert alert-info\"> <b>Student comments:</b> I did data rounding for the call duration and data volume consumption before aggregation this time. Please see above. </div> "
   ]
  },
  {
   "cell_type": "markdown",
   "metadata": {},
   "source": [
    "<div class=\"alert alert-block alert-success\">\n",
    "<b>Reviewer's comment v2</b>\n",
    " \n",
    "Great! Now data rounding is correct.\n",
    "</div>"
   ]
  },
  {
   "cell_type": "code",
   "execution_count": 53,
   "metadata": {},
   "outputs": [
    {
     "name": "stdout",
     "output_type": "stream",
     "text": [
      "CPU times: user 11.2 ms, sys: 0 ns, total: 11.2 ms\n",
      "Wall time: 9.15 ms\n"
     ]
    }
   ],
   "source": [
    "# Subtract the free package limit from the total number of calls, text messages, and data.\n",
    "# Limit a negative value by zero, then multiply the result by the calling plan value.\n",
    "total5['duration_surcharge'] = (total5['duration_min'] - total5['minutes_included']).clip(0) * total5['usd_per_minute']\n",
    "total5['message_surcharge'] = (total5['messages'] - total5['messages_included']).clip(0) * total5['usd_per_message']\n",
    "total5['gb_surcharge'] = (total5['gb_used'] - total5['gb_per_month_included']).clip(0) * total5['usd_per_gb']\n",
    "\n",
    "# Add the monthly charge depending on the calling plan.                                  \n",
    "total5['monthly_revenue_total'] = total5['duration_surcharge'] + total5['message_surcharge'] + total5['gb_surcharge'] + total5['usd_monthly_pay']\n",
    "\n",
    "# Verify it worked\n",
    "#total5.tail()"
   ]
  },
  {
   "cell_type": "markdown",
   "metadata": {},
   "source": [
    "<div class=\"alert alert-warning\">\n",
    "<b>Reviewer's comment v1:</b>\n",
    "    \n",
    "I would recommend sticking to the one naming convention for columns, variables, etc. The most typical approach is to use snake case first_name. You can read about it here - https://levelup.gitconnected.com/case-styles-in-python-fd9591e57f86 The key thing it should be consistent across your work and aligned with what is acceptable within your team.\n",
    "</div>"
   ]
  },
  {
   "cell_type": "markdown",
   "metadata": {},
   "source": [
    "<div class=\"alert alert-info\"> <b>Student comments:</b> I changed all the uppercase variable names to lowercase ones. I will follow the community conventions. </div> "
   ]
  },
  {
   "cell_type": "markdown",
   "metadata": {},
   "source": [
    "<div class=\"alert alert-block alert-success\">\n",
    "<b>Reviewer's comment v2</b>\n",
    " \n",
    "Thanks for aligning that!\n",
    "</div>"
   ]
  },
  {
   "cell_type": "markdown",
   "metadata": {},
   "source": [
    "[Conclusion] Below is the table showing the monthly revenue total from each user."
   ]
  },
  {
   "cell_type": "code",
   "execution_count": 1,
   "metadata": {},
   "outputs": [
    {
     "ename": "NameError",
     "evalue": "name 'total5' is not defined",
     "output_type": "error",
     "traceback": [
      "\u001b[1;31m---------------------------------------------------------------------------\u001b[0m",
      "\u001b[1;31mNameError\u001b[0m                                 Traceback (most recent call last)",
      "\u001b[1;32m<ipython-input-1-9660f5fb3b59>\u001b[0m in \u001b[0;36m<module>\u001b[1;34m\u001b[0m\n\u001b[1;32m----> 1\u001b[1;33m \u001b[0mtotal5\u001b[0m\u001b[1;33m[\u001b[0m\u001b[1;34m'month'\u001b[0m\u001b[1;33m]\u001b[0m \u001b[1;33m=\u001b[0m \u001b[0mtotal5\u001b[0m\u001b[1;33m[\u001b[0m\u001b[1;34m'month'\u001b[0m\u001b[1;33m]\u001b[0m\u001b[1;33m.\u001b[0m\u001b[0mastype\u001b[0m\u001b[1;33m(\u001b[0m\u001b[0mint\u001b[0m\u001b[1;33m)\u001b[0m\u001b[1;33m\u001b[0m\u001b[1;33m\u001b[0m\u001b[0m\n\u001b[0m\u001b[0;32m      2\u001b[0m \u001b[0muser_vs_monthly_revenue\u001b[0m \u001b[1;33m=\u001b[0m \u001b[0mtotal5\u001b[0m\u001b[1;33m[\u001b[0m\u001b[1;33m[\u001b[0m\u001b[1;34m'user_id'\u001b[0m\u001b[1;33m,\u001b[0m \u001b[1;34m'first_name'\u001b[0m\u001b[1;33m,\u001b[0m \u001b[1;34m'last_name'\u001b[0m\u001b[1;33m,\u001b[0m \u001b[1;34m'month'\u001b[0m\u001b[1;33m,\u001b[0m \u001b[1;34m'monthly_revenue_total'\u001b[0m\u001b[1;33m]\u001b[0m\u001b[1;33m]\u001b[0m\u001b[1;33m\u001b[0m\u001b[1;33m\u001b[0m\u001b[0m\n\u001b[0;32m      3\u001b[0m \u001b[1;33m\u001b[0m\u001b[0m\n\u001b[0;32m      4\u001b[0m \u001b[1;31m#Verify it worked.\u001b[0m\u001b[1;33m\u001b[0m\u001b[1;33m\u001b[0m\u001b[1;33m\u001b[0m\u001b[0m\n\u001b[0;32m      5\u001b[0m \u001b[0muser_vs_monthly_revenue\u001b[0m\u001b[1;33m\u001b[0m\u001b[1;33m\u001b[0m\u001b[0m\n",
      "\u001b[1;31mNameError\u001b[0m: name 'total5' is not defined"
     ]
    }
   ],
   "source": [
    "total5['month'] = total5['month'].astype(int)\n",
    "user_vs_monthly_revenue = total5[['user_id', 'first_name', 'last_name', 'month', 'monthly_revenue_total']]\n",
    "\n",
    "#Verify it worked. \n",
    "user_vs_monthly_revenue"
   ]
  },
  {
   "cell_type": "markdown",
   "metadata": {},
   "source": [
    "<div class=\"alert alert-success\" role=\"alert\">\n",
    "<b>Reviewer's comment v1:</b>\n",
    "    \n",
    "Very nice solution!\n",
    "    \n",
    "I will definitely recommend your solution for calculating revenue using clip() method to other students :)\n",
    "\n",
    "Another way to do it using np.where method - https://numpy.org/doc/stable /reference/generated/numpy.where.html\n",
    "\n",
    "    np.where ('condition: if exceeding the package limit', 'multiply the difference by the price of additional services', '0')   \n",
    "\n",
    "It works similarly but has more flexibility.\n",
    "</div>"
   ]
  },
  {
   "cell_type": "markdown",
   "metadata": {},
   "source": [
    "<div class=\"alert alert-info\"> <b>Student comments:</b> Thank you for the compliment! I thought that it would be cheaper computation-wise to have the right values ready in the right places and mechanically multiply, rather than comparing on the basis of a condition each time. :)</div> "
   ]
  },
  {
   "cell_type": "markdown",
   "metadata": {},
   "source": [
    "<div class=\"alert alert-block alert-success\">\n",
    "<b>Reviewer's comment v2</b>\n",
    "\n",
    "Exactly! For loops, apply(), if/else consumes much more computation time than numpy methods.\n",
    "    \n",
    "Btw you can compare computation time of different methods / code by adding `%%time` in the first line of the cell. It will show overall execution time. Like this: \n",
    "    \n",
    "       %%time \n",
    "       total5['month'] = total5['month'].astype(int)\n",
    "    \n",
    "</div>"
   ]
  },
  {
   "cell_type": "markdown",
   "metadata": {},
   "source": [
    "## Analyze the data"
   ]
  },
  {
   "cell_type": "markdown",
   "metadata": {},
   "source": [
    "Describe the customers' behavior. Find the minutes, texts, and volume of data\n",
    "the users of each plan require per month. Calculate the mean, variance, and\n",
    "standard deviation. Plot histograms. Describe the distributions."
   ]
  },
  {
   "cell_type": "markdown",
   "metadata": {},
   "source": [
    "**Find the minutes the users of each plan require per month.**"
   ]
  },
  {
   "cell_type": "code",
   "execution_count": 55,
   "metadata": {},
   "outputs": [
    {
     "data": {
      "text/html": [
       "<div>\n",
       "<style scoped>\n",
       "    .dataframe tbody tr th:only-of-type {\n",
       "        vertical-align: middle;\n",
       "    }\n",
       "\n",
       "    .dataframe tbody tr th {\n",
       "        vertical-align: top;\n",
       "    }\n",
       "\n",
       "    .dataframe thead th {\n",
       "        text-align: right;\n",
       "    }\n",
       "</style>\n",
       "<table border=\"1\" class=\"dataframe\">\n",
       "  <thead>\n",
       "    <tr style=\"text-align: right;\">\n",
       "      <th>tariff</th>\n",
       "      <th>surf</th>\n",
       "      <th>ultimate</th>\n",
       "    </tr>\n",
       "    <tr>\n",
       "      <th>month</th>\n",
       "      <th></th>\n",
       "      <th></th>\n",
       "    </tr>\n",
       "  </thead>\n",
       "  <tbody>\n",
       "    <tr>\n",
       "      <td>1</td>\n",
       "      <td>406.0</td>\n",
       "      <td>774.0</td>\n",
       "    </tr>\n",
       "    <tr>\n",
       "      <td>2</td>\n",
       "      <td>2673.0</td>\n",
       "      <td>2822.0</td>\n",
       "    </tr>\n",
       "    <tr>\n",
       "      <td>3</td>\n",
       "      <td>7590.0</td>\n",
       "      <td>3651.0</td>\n",
       "    </tr>\n",
       "    <tr>\n",
       "      <td>4</td>\n",
       "      <td>17577.0</td>\n",
       "      <td>7074.0</td>\n",
       "    </tr>\n",
       "    <tr>\n",
       "      <td>5</td>\n",
       "      <td>30768.0</td>\n",
       "      <td>11781.0</td>\n",
       "    </tr>\n",
       "    <tr>\n",
       "      <td>6</td>\n",
       "      <td>41836.0</td>\n",
       "      <td>17435.0</td>\n",
       "    </tr>\n",
       "    <tr>\n",
       "      <td>7</td>\n",
       "      <td>54448.0</td>\n",
       "      <td>25197.0</td>\n",
       "    </tr>\n",
       "    <tr>\n",
       "      <td>8</td>\n",
       "      <td>66438.0</td>\n",
       "      <td>29922.0</td>\n",
       "    </tr>\n",
       "    <tr>\n",
       "      <td>9</td>\n",
       "      <td>80360.0</td>\n",
       "      <td>37626.0</td>\n",
       "    </tr>\n",
       "    <tr>\n",
       "      <td>10</td>\n",
       "      <td>101846.0</td>\n",
       "      <td>47778.0</td>\n",
       "    </tr>\n",
       "    <tr>\n",
       "      <td>11</td>\n",
       "      <td>119801.0</td>\n",
       "      <td>56540.0</td>\n",
       "    </tr>\n",
       "    <tr>\n",
       "      <td>12</td>\n",
       "      <td>150680.0</td>\n",
       "      <td>69324.0</td>\n",
       "    </tr>\n",
       "  </tbody>\n",
       "</table>\n",
       "</div>"
      ],
      "text/plain": [
       "tariff      surf  ultimate\n",
       "month                     \n",
       "1          406.0     774.0\n",
       "2         2673.0    2822.0\n",
       "3         7590.0    3651.0\n",
       "4        17577.0    7074.0\n",
       "5        30768.0   11781.0\n",
       "6        41836.0   17435.0\n",
       "7        54448.0   25197.0\n",
       "8        66438.0   29922.0\n",
       "9        80360.0   37626.0\n",
       "10      101846.0   47778.0\n",
       "11      119801.0   56540.0\n",
       "12      150680.0   69324.0"
      ]
     },
     "execution_count": 55,
     "metadata": {},
     "output_type": "execute_result"
    }
   ],
   "source": [
    "# Calculate the total duration of all the calls made by all the users in each calling plan during each month.\n",
    "total_duration_per_tariff = total5.pivot_table(index = 'month', columns = 'tariff', values = 'duration_min', aggfunc = 'sum')\n",
    "\n",
    "# View the pivot table. \n",
    "total_duration_per_tariff"
   ]
  },
  {
   "cell_type": "markdown",
   "metadata": {},
   "source": [
    "[Observation] Surf's total call duration overtook Ultimate's after a few months, and from then on, stayed 2.5 times higher. This may be due to there being twice as many customers purchasing Surf than Ultimate, or Surf customers being more chatty than Ultimate customers. "
   ]
  },
  {
   "cell_type": "markdown",
   "metadata": {},
   "source": [
    "**Find the texts the users of each plan require per month.**"
   ]
  },
  {
   "cell_type": "code",
   "execution_count": 56,
   "metadata": {},
   "outputs": [
    {
     "data": {
      "text/html": [
       "<div>\n",
       "<style scoped>\n",
       "    .dataframe tbody tr th:only-of-type {\n",
       "        vertical-align: middle;\n",
       "    }\n",
       "\n",
       "    .dataframe tbody tr th {\n",
       "        vertical-align: top;\n",
       "    }\n",
       "\n",
       "    .dataframe thead th {\n",
       "        text-align: right;\n",
       "    }\n",
       "</style>\n",
       "<table border=\"1\" class=\"dataframe\">\n",
       "  <thead>\n",
       "    <tr style=\"text-align: right;\">\n",
       "      <th>tariff</th>\n",
       "      <th>surf</th>\n",
       "      <th>ultimate</th>\n",
       "    </tr>\n",
       "    <tr>\n",
       "      <th>month</th>\n",
       "      <th></th>\n",
       "      <th></th>\n",
       "    </tr>\n",
       "  </thead>\n",
       "  <tbody>\n",
       "    <tr>\n",
       "      <td>1</td>\n",
       "      <td>21</td>\n",
       "      <td>62</td>\n",
       "    </tr>\n",
       "    <tr>\n",
       "      <td>2</td>\n",
       "      <td>108</td>\n",
       "      <td>151</td>\n",
       "    </tr>\n",
       "    <tr>\n",
       "      <td>3</td>\n",
       "      <td>351</td>\n",
       "      <td>243</td>\n",
       "    </tr>\n",
       "    <tr>\n",
       "      <td>4</td>\n",
       "      <td>870</td>\n",
       "      <td>463</td>\n",
       "    </tr>\n",
       "    <tr>\n",
       "      <td>5</td>\n",
       "      <td>1849</td>\n",
       "      <td>931</td>\n",
       "    </tr>\n",
       "    <tr>\n",
       "      <td>6</td>\n",
       "      <td>2454</td>\n",
       "      <td>1379</td>\n",
       "    </tr>\n",
       "    <tr>\n",
       "      <td>7</td>\n",
       "      <td>3271</td>\n",
       "      <td>1937</td>\n",
       "    </tr>\n",
       "    <tr>\n",
       "      <td>8</td>\n",
       "      <td>4662</td>\n",
       "      <td>2732</td>\n",
       "    </tr>\n",
       "    <tr>\n",
       "      <td>9</td>\n",
       "      <td>5968</td>\n",
       "      <td>3259</td>\n",
       "    </tr>\n",
       "    <tr>\n",
       "      <td>10</td>\n",
       "      <td>8020</td>\n",
       "      <td>4181</td>\n",
       "    </tr>\n",
       "    <tr>\n",
       "      <td>11</td>\n",
       "      <td>9165</td>\n",
       "      <td>4903</td>\n",
       "    </tr>\n",
       "    <tr>\n",
       "      <td>12</td>\n",
       "      <td>12275</td>\n",
       "      <td>6796</td>\n",
       "    </tr>\n",
       "  </tbody>\n",
       "</table>\n",
       "</div>"
      ],
      "text/plain": [
       "tariff   surf  ultimate\n",
       "month                  \n",
       "1          21        62\n",
       "2         108       151\n",
       "3         351       243\n",
       "4         870       463\n",
       "5        1849       931\n",
       "6        2454      1379\n",
       "7        3271      1937\n",
       "8        4662      2732\n",
       "9        5968      3259\n",
       "10       8020      4181\n",
       "11       9165      4903\n",
       "12      12275      6796"
      ]
     },
     "execution_count": 56,
     "metadata": {},
     "output_type": "execute_result"
    }
   ],
   "source": [
    "# Calculate the total number of messages sent by all the users in each calling plan during each month.\n",
    "total_messages_per_tariff = total5.pivot_table(index = 'month', columns = 'tariff', values = 'messages', aggfunc = 'sum')\n",
    "\n",
    "# View the pivot table. \n",
    "total_messages_per_tariff.astype(int)"
   ]
  },
  {
   "cell_type": "markdown",
   "metadata": {},
   "source": [
    "[Observation] It stands to reason that Surf customers sent double the number of text messages, compared to Ultimate customers, since they are double the size of Ultimate customer goup. "
   ]
  },
  {
   "cell_type": "markdown",
   "metadata": {},
   "source": [
    "**Find the volume of data the users of each plan require per month.**"
   ]
  },
  {
   "cell_type": "code",
   "execution_count": 57,
   "metadata": {},
   "outputs": [
    {
     "data": {
      "text/html": [
       "<div>\n",
       "<style scoped>\n",
       "    .dataframe tbody tr th:only-of-type {\n",
       "        vertical-align: middle;\n",
       "    }\n",
       "\n",
       "    .dataframe tbody tr th {\n",
       "        vertical-align: top;\n",
       "    }\n",
       "\n",
       "    .dataframe thead th {\n",
       "        text-align: right;\n",
       "    }\n",
       "</style>\n",
       "<table border=\"1\" class=\"dataframe\">\n",
       "  <thead>\n",
       "    <tr style=\"text-align: right;\">\n",
       "      <th>tariff</th>\n",
       "      <th>surf</th>\n",
       "      <th>ultimate</th>\n",
       "    </tr>\n",
       "    <tr>\n",
       "      <th>month</th>\n",
       "      <th></th>\n",
       "      <th></th>\n",
       "    </tr>\n",
       "  </thead>\n",
       "  <tbody>\n",
       "    <tr>\n",
       "      <td>1</td>\n",
       "      <td>28.0</td>\n",
       "      <td>61.0</td>\n",
       "    </tr>\n",
       "    <tr>\n",
       "      <td>2</td>\n",
       "      <td>270.0</td>\n",
       "      <td>278.0</td>\n",
       "    </tr>\n",
       "    <tr>\n",
       "      <td>3</td>\n",
       "      <td>719.0</td>\n",
       "      <td>483.0</td>\n",
       "    </tr>\n",
       "    <tr>\n",
       "      <td>4</td>\n",
       "      <td>1444.0</td>\n",
       "      <td>807.0</td>\n",
       "    </tr>\n",
       "    <tr>\n",
       "      <td>5</td>\n",
       "      <td>2606.0</td>\n",
       "      <td>1140.0</td>\n",
       "    </tr>\n",
       "    <tr>\n",
       "      <td>6</td>\n",
       "      <td>3639.0</td>\n",
       "      <td>1685.0</td>\n",
       "    </tr>\n",
       "    <tr>\n",
       "      <td>7</td>\n",
       "      <td>4872.0</td>\n",
       "      <td>2339.0</td>\n",
       "    </tr>\n",
       "    <tr>\n",
       "      <td>8</td>\n",
       "      <td>6525.0</td>\n",
       "      <td>3026.0</td>\n",
       "    </tr>\n",
       "    <tr>\n",
       "      <td>9</td>\n",
       "      <td>7803.0</td>\n",
       "      <td>3480.0</td>\n",
       "    </tr>\n",
       "    <tr>\n",
       "      <td>10</td>\n",
       "      <td>9951.0</td>\n",
       "      <td>4405.0</td>\n",
       "    </tr>\n",
       "    <tr>\n",
       "      <td>11</td>\n",
       "      <td>11308.0</td>\n",
       "      <td>5173.0</td>\n",
       "    </tr>\n",
       "    <tr>\n",
       "      <td>12</td>\n",
       "      <td>13976.0</td>\n",
       "      <td>6701.0</td>\n",
       "    </tr>\n",
       "  </tbody>\n",
       "</table>\n",
       "</div>"
      ],
      "text/plain": [
       "tariff     surf  ultimate\n",
       "month                    \n",
       "1          28.0      61.0\n",
       "2         270.0     278.0\n",
       "3         719.0     483.0\n",
       "4        1444.0     807.0\n",
       "5        2606.0    1140.0\n",
       "6        3639.0    1685.0\n",
       "7        4872.0    2339.0\n",
       "8        6525.0    3026.0\n",
       "9        7803.0    3480.0\n",
       "10       9951.0    4405.0\n",
       "11      11308.0    5173.0\n",
       "12      13976.0    6701.0"
      ]
     },
     "execution_count": 57,
     "metadata": {},
     "output_type": "execute_result"
    }
   ],
   "source": [
    "# Calculate the total volume of data consumed by all the users in each calling plan during each month.\n",
    "total_GB_per_tariff = total5.pivot_table(index = 'month', columns = 'tariff', values = 'gb_used', aggfunc = 'sum')\n",
    "\n",
    "# View the pivot table. \n",
    "total_GB_per_tariff"
   ]
  },
  {
   "cell_type": "markdown",
   "metadata": {},
   "source": [
    "[Observation] There are twice as many Surf customers compared to Ultimate customers, and that is reflected in the twice as much volume of data consumed. "
   ]
  },
  {
   "cell_type": "markdown",
   "metadata": {},
   "source": [
    "**Calculate the mean, variance, and standard deviation for the data on minutes.**\n",
    "\n",
    "[Note] I would like to relate to standard deviation rather than to variance, since it has the same units as the mean, making it easier to compare in conjunction with the mean, unlike variance which has unit squared."
   ]
  },
  {
   "cell_type": "code",
   "execution_count": 58,
   "metadata": {},
   "outputs": [
    {
     "data": {
      "text/html": [
       "<div>\n",
       "<style scoped>\n",
       "    .dataframe tbody tr th:only-of-type {\n",
       "        vertical-align: middle;\n",
       "    }\n",
       "\n",
       "    .dataframe tbody tr th {\n",
       "        vertical-align: top;\n",
       "    }\n",
       "\n",
       "    .dataframe thead tr th {\n",
       "        text-align: left;\n",
       "    }\n",
       "\n",
       "    .dataframe thead tr:last-of-type th {\n",
       "        text-align: right;\n",
       "    }\n",
       "</style>\n",
       "<table border=\"1\" class=\"dataframe\">\n",
       "  <thead>\n",
       "    <tr>\n",
       "      <th></th>\n",
       "      <th colspan=\"2\" halign=\"left\">mean</th>\n",
       "      <th colspan=\"2\" halign=\"left\">var</th>\n",
       "      <th colspan=\"2\" halign=\"left\">std</th>\n",
       "      <th colspan=\"2\" halign=\"left\">std_norm</th>\n",
       "    </tr>\n",
       "    <tr>\n",
       "      <th>tariff</th>\n",
       "      <th>surf</th>\n",
       "      <th>ultimate</th>\n",
       "      <th>surf</th>\n",
       "      <th>ultimate</th>\n",
       "      <th>surf</th>\n",
       "      <th>ultimate</th>\n",
       "      <th>ultimate</th>\n",
       "      <th>surf</th>\n",
       "    </tr>\n",
       "    <tr>\n",
       "      <th>month</th>\n",
       "      <th></th>\n",
       "      <th></th>\n",
       "      <th></th>\n",
       "      <th></th>\n",
       "      <th></th>\n",
       "      <th></th>\n",
       "      <th></th>\n",
       "      <th></th>\n",
       "    </tr>\n",
       "  </thead>\n",
       "  <tbody>\n",
       "    <tr>\n",
       "      <td>1</td>\n",
       "      <td>203.000000</td>\n",
       "      <td>193.500000</td>\n",
       "      <td>15842.000000</td>\n",
       "      <td>16572.333333</td>\n",
       "      <td>125.865007</td>\n",
       "      <td>128.733575</td>\n",
       "      <td>0.620025</td>\n",
       "      <td>0.665290</td>\n",
       "    </tr>\n",
       "    <tr>\n",
       "      <td>2</td>\n",
       "      <td>297.000000</td>\n",
       "      <td>403.142857</td>\n",
       "      <td>52226.500000</td>\n",
       "      <td>76889.476190</td>\n",
       "      <td>228.531179</td>\n",
       "      <td>277.289517</td>\n",
       "      <td>0.769465</td>\n",
       "      <td>0.687819</td>\n",
       "    </tr>\n",
       "    <tr>\n",
       "      <td>3</td>\n",
       "      <td>330.000000</td>\n",
       "      <td>304.250000</td>\n",
       "      <td>35809.363636</td>\n",
       "      <td>61984.931818</td>\n",
       "      <td>189.233622</td>\n",
       "      <td>248.967732</td>\n",
       "      <td>0.573435</td>\n",
       "      <td>0.818300</td>\n",
       "    </tr>\n",
       "    <tr>\n",
       "      <td>4</td>\n",
       "      <td>351.540000</td>\n",
       "      <td>336.857143</td>\n",
       "      <td>50866.743265</td>\n",
       "      <td>34888.928571</td>\n",
       "      <td>225.536567</td>\n",
       "      <td>186.785783</td>\n",
       "      <td>0.641567</td>\n",
       "      <td>0.554496</td>\n",
       "    </tr>\n",
       "    <tr>\n",
       "      <td>5</td>\n",
       "      <td>399.584416</td>\n",
       "      <td>406.241379</td>\n",
       "      <td>59754.219754</td>\n",
       "      <td>43841.046798</td>\n",
       "      <td>244.446763</td>\n",
       "      <td>209.382537</td>\n",
       "      <td>0.611752</td>\n",
       "      <td>0.515414</td>\n",
       "    </tr>\n",
       "    <tr>\n",
       "      <td>6</td>\n",
       "      <td>431.298969</td>\n",
       "      <td>370.957447</td>\n",
       "      <td>45592.628436</td>\n",
       "      <td>42503.563367</td>\n",
       "      <td>213.524304</td>\n",
       "      <td>206.163924</td>\n",
       "      <td>0.495073</td>\n",
       "      <td>0.555762</td>\n",
       "    </tr>\n",
       "    <tr>\n",
       "      <td>7</td>\n",
       "      <td>449.983471</td>\n",
       "      <td>427.067797</td>\n",
       "      <td>61005.099725</td>\n",
       "      <td>72563.374635</td>\n",
       "      <td>246.992105</td>\n",
       "      <td>269.375898</td>\n",
       "      <td>0.548892</td>\n",
       "      <td>0.630757</td>\n",
       "    </tr>\n",
       "    <tr>\n",
       "      <td>8</td>\n",
       "      <td>410.111111</td>\n",
       "      <td>421.436620</td>\n",
       "      <td>54344.645963</td>\n",
       "      <td>53645.506640</td>\n",
       "      <td>233.119381</td>\n",
       "      <td>231.614997</td>\n",
       "      <td>0.568430</td>\n",
       "      <td>0.549584</td>\n",
       "    </tr>\n",
       "    <tr>\n",
       "      <td>9</td>\n",
       "      <td>414.226804</td>\n",
       "      <td>437.511628</td>\n",
       "      <td>46595.958656</td>\n",
       "      <td>57070.464569</td>\n",
       "      <td>215.860971</td>\n",
       "      <td>238.894254</td>\n",
       "      <td>0.521118</td>\n",
       "      <td>0.546029</td>\n",
       "    </tr>\n",
       "    <tr>\n",
       "      <td>10</td>\n",
       "      <td>429.729958</td>\n",
       "      <td>450.735849</td>\n",
       "      <td>52278.664056</td>\n",
       "      <td>54261.910512</td>\n",
       "      <td>228.645280</td>\n",
       "      <td>232.941861</td>\n",
       "      <td>0.532067</td>\n",
       "      <td>0.516803</td>\n",
       "    </tr>\n",
       "    <tr>\n",
       "      <td>11</td>\n",
       "      <td>423.325088</td>\n",
       "      <td>445.196850</td>\n",
       "      <td>51607.021602</td>\n",
       "      <td>60593.222847</td>\n",
       "      <td>227.171789</td>\n",
       "      <td>246.156907</td>\n",
       "      <td>0.536637</td>\n",
       "      <td>0.552917</td>\n",
       "    </tr>\n",
       "    <tr>\n",
       "      <td>12</td>\n",
       "      <td>473.836478</td>\n",
       "      <td>459.099338</td>\n",
       "      <td>63629.518918</td>\n",
       "      <td>62503.783400</td>\n",
       "      <td>252.248923</td>\n",
       "      <td>250.007567</td>\n",
       "      <td>0.532354</td>\n",
       "      <td>0.544561</td>\n",
       "    </tr>\n",
       "  </tbody>\n",
       "</table>\n",
       "</div>"
      ],
      "text/plain": [
       "              mean                       var                       std  \\\n",
       "tariff        surf    ultimate          surf      ultimate        surf   \n",
       "month                                                                    \n",
       "1       203.000000  193.500000  15842.000000  16572.333333  125.865007   \n",
       "2       297.000000  403.142857  52226.500000  76889.476190  228.531179   \n",
       "3       330.000000  304.250000  35809.363636  61984.931818  189.233622   \n",
       "4       351.540000  336.857143  50866.743265  34888.928571  225.536567   \n",
       "5       399.584416  406.241379  59754.219754  43841.046798  244.446763   \n",
       "6       431.298969  370.957447  45592.628436  42503.563367  213.524304   \n",
       "7       449.983471  427.067797  61005.099725  72563.374635  246.992105   \n",
       "8       410.111111  421.436620  54344.645963  53645.506640  233.119381   \n",
       "9       414.226804  437.511628  46595.958656  57070.464569  215.860971   \n",
       "10      429.729958  450.735849  52278.664056  54261.910512  228.645280   \n",
       "11      423.325088  445.196850  51607.021602  60593.222847  227.171789   \n",
       "12      473.836478  459.099338  63629.518918  62503.783400  252.248923   \n",
       "\n",
       "                    std_norm            \n",
       "tariff    ultimate  ultimate      surf  \n",
       "month                                   \n",
       "1       128.733575  0.620025  0.665290  \n",
       "2       277.289517  0.769465  0.687819  \n",
       "3       248.967732  0.573435  0.818300  \n",
       "4       186.785783  0.641567  0.554496  \n",
       "5       209.382537  0.611752  0.515414  \n",
       "6       206.163924  0.495073  0.555762  \n",
       "7       269.375898  0.548892  0.630757  \n",
       "8       231.614997  0.568430  0.549584  \n",
       "9       238.894254  0.521118  0.546029  \n",
       "10      232.941861  0.532067  0.516803  \n",
       "11      246.156907  0.536637  0.552917  \n",
       "12      250.007567  0.532354  0.544561  "
      ]
     },
     "execution_count": 58,
     "metadata": {},
     "output_type": "execute_result"
    }
   ],
   "source": [
    "# Calculate the measures of location for the total duration of all the calls made by all the users in each calling plan during each month.\n",
    "stats_duration_per_tariff = total5.pivot_table(index = 'month', columns = 'tariff', values = 'duration_min', aggfunc = ['mean', 'var', 'std'])\n",
    "\n",
    "# Add the normalised standard deviation. \n",
    "new_cols = pd.MultiIndex.from_product([['std_norm'], ['ultimate', 'surf']])\n",
    "stats_duration_per_tariff[new_cols] = stats_duration_per_tariff['std']/stats_duration_per_tariff['mean']\n",
    "\n",
    "# View the pivot table.\n",
    "stats_duration_per_tariff"
   ]
  },
  {
   "cell_type": "markdown",
   "metadata": {},
   "source": [
    "**Calculate the mean, variance, and standard deviation for the data on texts.**\n",
    "\n",
    "[Note] I would like to relate to standard deviation rather than to variance, since it has the same units as the mean, making it easier to compare in conjunction with the mean, unlike variance which has unit squared."
   ]
  },
  {
   "cell_type": "code",
   "execution_count": 59,
   "metadata": {},
   "outputs": [
    {
     "data": {
      "text/html": [
       "<div>\n",
       "<style scoped>\n",
       "    .dataframe tbody tr th:only-of-type {\n",
       "        vertical-align: middle;\n",
       "    }\n",
       "\n",
       "    .dataframe tbody tr th {\n",
       "        vertical-align: top;\n",
       "    }\n",
       "\n",
       "    .dataframe thead tr th {\n",
       "        text-align: left;\n",
       "    }\n",
       "\n",
       "    .dataframe thead tr:last-of-type th {\n",
       "        text-align: right;\n",
       "    }\n",
       "</style>\n",
       "<table border=\"1\" class=\"dataframe\">\n",
       "  <thead>\n",
       "    <tr>\n",
       "      <th></th>\n",
       "      <th colspan=\"2\" halign=\"left\">mean</th>\n",
       "      <th colspan=\"2\" halign=\"left\">var</th>\n",
       "      <th colspan=\"2\" halign=\"left\">std</th>\n",
       "      <th colspan=\"2\" halign=\"left\">std_norm</th>\n",
       "    </tr>\n",
       "    <tr>\n",
       "      <th>tariff</th>\n",
       "      <th>surf</th>\n",
       "      <th>ultimate</th>\n",
       "      <th>surf</th>\n",
       "      <th>ultimate</th>\n",
       "      <th>surf</th>\n",
       "      <th>ultimate</th>\n",
       "      <th>ultimate</th>\n",
       "      <th>surf</th>\n",
       "    </tr>\n",
       "    <tr>\n",
       "      <th>month</th>\n",
       "      <th></th>\n",
       "      <th></th>\n",
       "      <th></th>\n",
       "      <th></th>\n",
       "      <th></th>\n",
       "      <th></th>\n",
       "      <th></th>\n",
       "      <th></th>\n",
       "    </tr>\n",
       "  </thead>\n",
       "  <tbody>\n",
       "    <tr>\n",
       "      <td>1</td>\n",
       "      <td>10.500000</td>\n",
       "      <td>15.500000</td>\n",
       "      <td>220.500000</td>\n",
       "      <td>313.666667</td>\n",
       "      <td>14.849242</td>\n",
       "      <td>17.710637</td>\n",
       "      <td>1.414214</td>\n",
       "      <td>1.142622</td>\n",
       "    </tr>\n",
       "    <tr>\n",
       "      <td>2</td>\n",
       "      <td>12.000000</td>\n",
       "      <td>21.571429</td>\n",
       "      <td>386.000000</td>\n",
       "      <td>478.285714</td>\n",
       "      <td>19.646883</td>\n",
       "      <td>21.869744</td>\n",
       "      <td>1.637240</td>\n",
       "      <td>1.013829</td>\n",
       "    </tr>\n",
       "    <tr>\n",
       "      <td>3</td>\n",
       "      <td>15.260870</td>\n",
       "      <td>20.250000</td>\n",
       "      <td>346.565217</td>\n",
       "      <td>654.386364</td>\n",
       "      <td>18.616262</td>\n",
       "      <td>25.580977</td>\n",
       "      <td>1.219869</td>\n",
       "      <td>1.263258</td>\n",
       "    </tr>\n",
       "    <tr>\n",
       "      <td>4</td>\n",
       "      <td>17.400000</td>\n",
       "      <td>22.047619</td>\n",
       "      <td>501.591837</td>\n",
       "      <td>544.147619</td>\n",
       "      <td>22.396246</td>\n",
       "      <td>23.326972</td>\n",
       "      <td>1.287141</td>\n",
       "      <td>1.058027</td>\n",
       "    </tr>\n",
       "    <tr>\n",
       "      <td>5</td>\n",
       "      <td>24.012987</td>\n",
       "      <td>32.103448</td>\n",
       "      <td>847.197198</td>\n",
       "      <td>1297.310345</td>\n",
       "      <td>29.106652</td>\n",
       "      <td>36.018195</td>\n",
       "      <td>1.212121</td>\n",
       "      <td>1.121942</td>\n",
       "    </tr>\n",
       "    <tr>\n",
       "      <td>6</td>\n",
       "      <td>25.298969</td>\n",
       "      <td>29.340426</td>\n",
       "      <td>914.920103</td>\n",
       "      <td>857.620722</td>\n",
       "      <td>30.247646</td>\n",
       "      <td>29.285162</td>\n",
       "      <td>1.195608</td>\n",
       "      <td>0.998116</td>\n",
       "    </tr>\n",
       "    <tr>\n",
       "      <td>7</td>\n",
       "      <td>27.033058</td>\n",
       "      <td>32.830508</td>\n",
       "      <td>923.915565</td>\n",
       "      <td>960.488019</td>\n",
       "      <td>30.395979</td>\n",
       "      <td>30.991741</td>\n",
       "      <td>1.124400</td>\n",
       "      <td>0.943992</td>\n",
       "    </tr>\n",
       "    <tr>\n",
       "      <td>8</td>\n",
       "      <td>28.777778</td>\n",
       "      <td>38.478873</td>\n",
       "      <td>1029.515528</td>\n",
       "      <td>1196.367404</td>\n",
       "      <td>32.086064</td>\n",
       "      <td>34.588544</td>\n",
       "      <td>1.114960</td>\n",
       "      <td>0.898897</td>\n",
       "    </tr>\n",
       "    <tr>\n",
       "      <td>9</td>\n",
       "      <td>30.762887</td>\n",
       "      <td>37.895349</td>\n",
       "      <td>1003.829496</td>\n",
       "      <td>1050.918331</td>\n",
       "      <td>31.683268</td>\n",
       "      <td>32.417871</td>\n",
       "      <td>1.029919</td>\n",
       "      <td>0.855458</td>\n",
       "    </tr>\n",
       "    <tr>\n",
       "      <td>10</td>\n",
       "      <td>33.839662</td>\n",
       "      <td>39.443396</td>\n",
       "      <td>1275.465708</td>\n",
       "      <td>1221.106289</td>\n",
       "      <td>35.713663</td>\n",
       "      <td>34.944331</td>\n",
       "      <td>1.055379</td>\n",
       "      <td>0.885936</td>\n",
       "    </tr>\n",
       "    <tr>\n",
       "      <td>11</td>\n",
       "      <td>32.385159</td>\n",
       "      <td>38.606299</td>\n",
       "      <td>1065.344034</td>\n",
       "      <td>1232.669166</td>\n",
       "      <td>32.639608</td>\n",
       "      <td>35.109389</td>\n",
       "      <td>1.007857</td>\n",
       "      <td>0.909421</td>\n",
       "    </tr>\n",
       "    <tr>\n",
       "      <td>12</td>\n",
       "      <td>38.600629</td>\n",
       "      <td>45.006623</td>\n",
       "      <td>1458.158612</td>\n",
       "      <td>1549.419956</td>\n",
       "      <td>38.185843</td>\n",
       "      <td>39.362672</td>\n",
       "      <td>0.989254</td>\n",
       "      <td>0.874597</td>\n",
       "    </tr>\n",
       "  </tbody>\n",
       "</table>\n",
       "</div>"
      ],
      "text/plain": [
       "             mean                     var                     std             \\\n",
       "tariff       surf   ultimate         surf     ultimate       surf   ultimate   \n",
       "month                                                                          \n",
       "1       10.500000  15.500000   220.500000   313.666667  14.849242  17.710637   \n",
       "2       12.000000  21.571429   386.000000   478.285714  19.646883  21.869744   \n",
       "3       15.260870  20.250000   346.565217   654.386364  18.616262  25.580977   \n",
       "4       17.400000  22.047619   501.591837   544.147619  22.396246  23.326972   \n",
       "5       24.012987  32.103448   847.197198  1297.310345  29.106652  36.018195   \n",
       "6       25.298969  29.340426   914.920103   857.620722  30.247646  29.285162   \n",
       "7       27.033058  32.830508   923.915565   960.488019  30.395979  30.991741   \n",
       "8       28.777778  38.478873  1029.515528  1196.367404  32.086064  34.588544   \n",
       "9       30.762887  37.895349  1003.829496  1050.918331  31.683268  32.417871   \n",
       "10      33.839662  39.443396  1275.465708  1221.106289  35.713663  34.944331   \n",
       "11      32.385159  38.606299  1065.344034  1232.669166  32.639608  35.109389   \n",
       "12      38.600629  45.006623  1458.158612  1549.419956  38.185843  39.362672   \n",
       "\n",
       "        std_norm            \n",
       "tariff  ultimate      surf  \n",
       "month                       \n",
       "1       1.414214  1.142622  \n",
       "2       1.637240  1.013829  \n",
       "3       1.219869  1.263258  \n",
       "4       1.287141  1.058027  \n",
       "5       1.212121  1.121942  \n",
       "6       1.195608  0.998116  \n",
       "7       1.124400  0.943992  \n",
       "8       1.114960  0.898897  \n",
       "9       1.029919  0.855458  \n",
       "10      1.055379  0.885936  \n",
       "11      1.007857  0.909421  \n",
       "12      0.989254  0.874597  "
      ]
     },
     "execution_count": 59,
     "metadata": {},
     "output_type": "execute_result"
    }
   ],
   "source": [
    "# Calculate the measures of location for the total volume of data consumed by all the users in each calling plan during each month.\n",
    "stats_messages_per_tariff = total5.pivot_table(index = 'month', columns = 'tariff', values = 'messages', aggfunc = ['mean', 'var', 'std'])\n",
    "\n",
    "# Add the normalised standard deviation. \n",
    "new_cols = pd.MultiIndex.from_product([['std_norm'], ['ultimate', 'surf']])\n",
    "stats_messages_per_tariff[new_cols] = stats_messages_per_tariff['std']/stats_messages_per_tariff['mean']\n",
    "\n",
    "# View the pivot table. \n",
    "stats_messages_per_tariff"
   ]
  },
  {
   "cell_type": "markdown",
   "metadata": {},
   "source": [
    "**Calculate the mean, variance, and standard deviation for the data on volume of data.**\n",
    "\n",
    "[Note] I would like to relate to standard deviation rather than to variance, since it has the same units as the mean, making it easier to compare in conjunction with the mean, unlike variance which has unit squared."
   ]
  },
  {
   "cell_type": "code",
   "execution_count": 60,
   "metadata": {},
   "outputs": [
    {
     "data": {
      "text/html": [
       "<div>\n",
       "<style scoped>\n",
       "    .dataframe tbody tr th:only-of-type {\n",
       "        vertical-align: middle;\n",
       "    }\n",
       "\n",
       "    .dataframe tbody tr th {\n",
       "        vertical-align: top;\n",
       "    }\n",
       "\n",
       "    .dataframe thead tr th {\n",
       "        text-align: left;\n",
       "    }\n",
       "\n",
       "    .dataframe thead tr:last-of-type th {\n",
       "        text-align: right;\n",
       "    }\n",
       "</style>\n",
       "<table border=\"1\" class=\"dataframe\">\n",
       "  <thead>\n",
       "    <tr>\n",
       "      <th></th>\n",
       "      <th colspan=\"2\" halign=\"left\">mean</th>\n",
       "      <th colspan=\"2\" halign=\"left\">var</th>\n",
       "      <th colspan=\"2\" halign=\"left\">std</th>\n",
       "      <th colspan=\"2\" halign=\"left\">std_norm</th>\n",
       "    </tr>\n",
       "    <tr>\n",
       "      <th>tariff</th>\n",
       "      <th>surf</th>\n",
       "      <th>ultimate</th>\n",
       "      <th>surf</th>\n",
       "      <th>ultimate</th>\n",
       "      <th>surf</th>\n",
       "      <th>ultimate</th>\n",
       "      <th>ultimate</th>\n",
       "      <th>surf</th>\n",
       "    </tr>\n",
       "    <tr>\n",
       "      <th>month</th>\n",
       "      <th></th>\n",
       "      <th></th>\n",
       "      <th></th>\n",
       "      <th></th>\n",
       "      <th></th>\n",
       "      <th></th>\n",
       "      <th></th>\n",
       "      <th></th>\n",
       "    </tr>\n",
       "  </thead>\n",
       "  <tbody>\n",
       "    <tr>\n",
       "      <td>1</td>\n",
       "      <td>14.000000</td>\n",
       "      <td>15.250000</td>\n",
       "      <td>98.000000</td>\n",
       "      <td>68.916667</td>\n",
       "      <td>9.899495</td>\n",
       "      <td>8.301606</td>\n",
       "      <td>0.707107</td>\n",
       "      <td>0.544368</td>\n",
       "    </tr>\n",
       "    <tr>\n",
       "      <td>2</td>\n",
       "      <td>30.000000</td>\n",
       "      <td>39.714286</td>\n",
       "      <td>290.500000</td>\n",
       "      <td>293.238095</td>\n",
       "      <td>17.044061</td>\n",
       "      <td>17.124196</td>\n",
       "      <td>0.568135</td>\n",
       "      <td>0.431185</td>\n",
       "    </tr>\n",
       "    <tr>\n",
       "      <td>3</td>\n",
       "      <td>31.260870</td>\n",
       "      <td>40.250000</td>\n",
       "      <td>348.474308</td>\n",
       "      <td>656.022727</td>\n",
       "      <td>18.667467</td>\n",
       "      <td>25.612941</td>\n",
       "      <td>0.597151</td>\n",
       "      <td>0.636346</td>\n",
       "    </tr>\n",
       "    <tr>\n",
       "      <td>4</td>\n",
       "      <td>28.880000</td>\n",
       "      <td>38.428571</td>\n",
       "      <td>324.352653</td>\n",
       "      <td>409.957143</td>\n",
       "      <td>18.009793</td>\n",
       "      <td>20.247398</td>\n",
       "      <td>0.623608</td>\n",
       "      <td>0.526884</td>\n",
       "    </tr>\n",
       "    <tr>\n",
       "      <td>5</td>\n",
       "      <td>33.844156</td>\n",
       "      <td>39.310345</td>\n",
       "      <td>318.001709</td>\n",
       "      <td>242.793103</td>\n",
       "      <td>17.832602</td>\n",
       "      <td>15.581820</td>\n",
       "      <td>0.526903</td>\n",
       "      <td>0.396380</td>\n",
       "    </tr>\n",
       "    <tr>\n",
       "      <td>6</td>\n",
       "      <td>37.515464</td>\n",
       "      <td>35.851064</td>\n",
       "      <td>250.585696</td>\n",
       "      <td>297.781684</td>\n",
       "      <td>15.829899</td>\n",
       "      <td>17.256352</td>\n",
       "      <td>0.421957</td>\n",
       "      <td>0.481334</td>\n",
       "    </tr>\n",
       "    <tr>\n",
       "      <td>7</td>\n",
       "      <td>40.264463</td>\n",
       "      <td>39.644068</td>\n",
       "      <td>306.862810</td>\n",
       "      <td>324.474576</td>\n",
       "      <td>17.517500</td>\n",
       "      <td>18.013178</td>\n",
       "      <td>0.435061</td>\n",
       "      <td>0.454373</td>\n",
       "    </tr>\n",
       "    <tr>\n",
       "      <td>8</td>\n",
       "      <td>40.277778</td>\n",
       "      <td>42.619718</td>\n",
       "      <td>371.270186</td>\n",
       "      <td>247.239034</td>\n",
       "      <td>19.268373</td>\n",
       "      <td>15.723836</td>\n",
       "      <td>0.478387</td>\n",
       "      <td>0.368933</td>\n",
       "    </tr>\n",
       "    <tr>\n",
       "      <td>9</td>\n",
       "      <td>40.221649</td>\n",
       "      <td>40.465116</td>\n",
       "      <td>257.292586</td>\n",
       "      <td>205.334063</td>\n",
       "      <td>16.040342</td>\n",
       "      <td>14.329482</td>\n",
       "      <td>0.398799</td>\n",
       "      <td>0.354119</td>\n",
       "    </tr>\n",
       "    <tr>\n",
       "      <td>10</td>\n",
       "      <td>41.987342</td>\n",
       "      <td>41.556604</td>\n",
       "      <td>304.419331</td>\n",
       "      <td>225.830099</td>\n",
       "      <td>17.447617</td>\n",
       "      <td>15.027644</td>\n",
       "      <td>0.415545</td>\n",
       "      <td>0.361619</td>\n",
       "    </tr>\n",
       "    <tr>\n",
       "      <td>11</td>\n",
       "      <td>39.957597</td>\n",
       "      <td>40.732283</td>\n",
       "      <td>288.480465</td>\n",
       "      <td>255.022997</td>\n",
       "      <td>16.984713</td>\n",
       "      <td>15.969439</td>\n",
       "      <td>0.425068</td>\n",
       "      <td>0.392059</td>\n",
       "    </tr>\n",
       "    <tr>\n",
       "      <td>12</td>\n",
       "      <td>43.949686</td>\n",
       "      <td>44.377483</td>\n",
       "      <td>338.035315</td>\n",
       "      <td>286.063223</td>\n",
       "      <td>18.385737</td>\n",
       "      <td>16.913404</td>\n",
       "      <td>0.418336</td>\n",
       "      <td>0.381126</td>\n",
       "    </tr>\n",
       "  </tbody>\n",
       "</table>\n",
       "</div>"
      ],
      "text/plain": [
       "             mean                    var                    std             \\\n",
       "tariff       surf   ultimate        surf    ultimate       surf   ultimate   \n",
       "month                                                                        \n",
       "1       14.000000  15.250000   98.000000   68.916667   9.899495   8.301606   \n",
       "2       30.000000  39.714286  290.500000  293.238095  17.044061  17.124196   \n",
       "3       31.260870  40.250000  348.474308  656.022727  18.667467  25.612941   \n",
       "4       28.880000  38.428571  324.352653  409.957143  18.009793  20.247398   \n",
       "5       33.844156  39.310345  318.001709  242.793103  17.832602  15.581820   \n",
       "6       37.515464  35.851064  250.585696  297.781684  15.829899  17.256352   \n",
       "7       40.264463  39.644068  306.862810  324.474576  17.517500  18.013178   \n",
       "8       40.277778  42.619718  371.270186  247.239034  19.268373  15.723836   \n",
       "9       40.221649  40.465116  257.292586  205.334063  16.040342  14.329482   \n",
       "10      41.987342  41.556604  304.419331  225.830099  17.447617  15.027644   \n",
       "11      39.957597  40.732283  288.480465  255.022997  16.984713  15.969439   \n",
       "12      43.949686  44.377483  338.035315  286.063223  18.385737  16.913404   \n",
       "\n",
       "        std_norm            \n",
       "tariff  ultimate      surf  \n",
       "month                       \n",
       "1       0.707107  0.544368  \n",
       "2       0.568135  0.431185  \n",
       "3       0.597151  0.636346  \n",
       "4       0.623608  0.526884  \n",
       "5       0.526903  0.396380  \n",
       "6       0.421957  0.481334  \n",
       "7       0.435061  0.454373  \n",
       "8       0.478387  0.368933  \n",
       "9       0.398799  0.354119  \n",
       "10      0.415545  0.361619  \n",
       "11      0.425068  0.392059  \n",
       "12      0.418336  0.381126  "
      ]
     },
     "execution_count": 60,
     "metadata": {},
     "output_type": "execute_result"
    }
   ],
   "source": [
    "# Calculate the measures of location for the total volume of data consumed by all the users in each calling plan during each month.\n",
    "stats_GB_per_tariff = total5.pivot_table(index = 'month', columns = 'tariff', values = 'gb_used', aggfunc = ['mean', 'var', 'std'])\n",
    "\n",
    "# Add the normalised standard deviation. \n",
    "new_cols = pd.MultiIndex.from_product([['std_norm'], ['ultimate', 'surf']])\n",
    "stats_GB_per_tariff[new_cols] = stats_GB_per_tariff['std']/stats_GB_per_tariff['mean']\n",
    "\n",
    "# View the pivot table. \n",
    "stats_GB_per_tariff"
   ]
  },
  {
   "cell_type": "markdown",
   "metadata": {},
   "source": [
    "<div class=\"alert alert-success\" role=\"alert\">\n",
    "<b>Reviewer's comment v1:</b>\n",
    "    \n",
    "Everything is correct here.\n",
    "</div>"
   ]
  },
  {
   "cell_type": "markdown",
   "metadata": {},
   "source": [
    "**Plot histograms for the call duration.**"
   ]
  },
  {
   "cell_type": "markdown",
   "metadata": {},
   "source": [
    "Calculate the average call duration per user in each calling plan, and plot a histogram. "
   ]
  },
  {
   "cell_type": "code",
   "execution_count": 61,
   "metadata": {},
   "outputs": [
    {
     "name": "stdout",
     "output_type": "stream",
     "text": [
      "Surf Max: 1104.0 Ultimate Max: 1054.5714285714287\n"
     ]
    }
   ],
   "source": [
    "# Create a data slice of mean call duration per user, one for Surf users and one for Ultimate users. \n",
    "mean_duration_surf = total5.query('tariff == \"surf\"').groupby('user_id')['duration_min'].mean()\n",
    "mean_duration_ultimate = total5.query('tariff == \"ultimate\"').groupby('user_id')['duration_min'].mean()\n",
    "\n",
    "# Find the upper boundary common to both. \n",
    "print('Surf Max:', mean_duration_surf.max(), 'Ultimate Max:', mean_duration_ultimate.max())"
   ]
  },
  {
   "cell_type": "code",
   "execution_count": 62,
   "metadata": {},
   "outputs": [
    {
     "data": {
      "image/png": "[encoded data removed]",
      "text/plain": [
       "<Figure size 720x432 with 1 Axes>"
      ]
     },
     "metadata": {},
     "output_type": "display_data"
    }
   ],
   "source": [
    "# Plot a histogram and... \n",
    "sns.set_style(\"whitegrid\")\n",
    "plt.figure(figsize=(10,6));\n",
    "bins = np.linspace(0, 1110)\n",
    "plt.hist(mean_duration_surf, bins, alpha=0.5, label='Surf')\n",
    "plt.hist(mean_duration_ultimate, bins, alpha=0.5, label='Ultimate')\n",
    "plt.legend(loc='upper right')\n",
    "plt.suptitle(\"Mean Call Duration per User\")\n",
    "plt.ylabel('Number of Users', size='x-large')\n",
    "plt.xlabel('Mean Call Duration', size= 'x-large')\n",
    "plt.show()"
   ]
  },
  {
   "cell_type": "code",
   "execution_count": 63,
   "metadata": {},
   "outputs": [
    {
     "data": {
      "image/png": "[encoded data removed]",
      "text/plain": [
       "<Figure size 720x432 with 1 Axes>"
      ]
     },
     "metadata": {},
     "output_type": "display_data"
    }
   ],
   "source": [
    "# ...a box-and-whisker chart.\n",
    "sns.set_style(\"whitegrid\")\n",
    "plt.figure(figsize=(10,6))\n",
    "plt.suptitle(\"Mean Call Duration per User\")\n",
    "plt.ylabel('Mean Call Duration', size='x-large')\n",
    "plt.xlabel('Calling Packages (1 = Surf, 2 = Ultimate)', size= 'x-large')\n",
    "plt.ticklabel_format(useOffset = False, style = 'plain', axis='y')\n",
    "plt.boxplot([mean_duration_surf, mean_duration_ultimate])\n",
    "plt.show()"
   ]
  },
  {
   "cell_type": "code",
   "execution_count": 64,
   "metadata": {},
   "outputs": [],
   "source": [
    "# Check the min and max of the two boxplots. \n",
    "#B1 = mean_duration_surf.plot.box(return_type='dict')\n",
    "#max1 = B1['whiskers'][1].get_ydata()[1]\n",
    "\n",
    "#B2 = mean_duration_ultimate.plot.box(return_type='dict')\n",
    "#max2 = B2['whiskers'][1].get_ydata()[1]\n",
    "\n",
    "#print('B1:', max1, 'B2:', max2)"
   ]
  },
  {
   "cell_type": "markdown",
   "metadata": {},
   "source": [
    "Calculate the standard deviation of call durations per user in each calling plan, and plot a histogram. "
   ]
  },
  {
   "cell_type": "code",
   "execution_count": 65,
   "metadata": {},
   "outputs": [
    {
     "name": "stdout",
     "output_type": "stream",
     "text": [
      "Surf Max: 966.6149698820104 Ultimate Max: 597.5052301026327\n"
     ]
    }
   ],
   "source": [
    "# Create a data slice of the standard deviation for call durations, one for Surf users and one for Ultimate users. \n",
    "# When grouping 'duration_min' by 'used_id' and there happens to be only one row in a group, the sample standard deviation \n",
    "# returns NaN. So replacing NaN values with 0. \n",
    "std_duration_surf = total5.query('tariff == \"surf\"').groupby('user_id')['duration_min'].std().fillna(0)\n",
    "std_duration_ultimate = total5.query('tariff == \"ultimate\"').groupby('user_id')['duration_min'].std().fillna(0)\n",
    "\n",
    "# Find the upper boundary common to both. \n",
    "print('Surf Max:', std_duration_surf.max(), 'Ultimate Max:', std_duration_ultimate.max())"
   ]
  },
  {
   "cell_type": "code",
   "execution_count": 66,
   "metadata": {},
   "outputs": [
    {
     "data": {
      "image/png": "[encoded data removed]",
      "text/plain": [
       "<Figure size 720x432 with 1 Axes>"
      ]
     },
     "metadata": {},
     "output_type": "display_data"
    }
   ],
   "source": [
    "# Plot a histogram and... \n",
    "sns.set_style(\"whitegrid\")\n",
    "plt.figure(figsize=(10,6));\n",
    "bins = np.linspace(0, 970)\n",
    "plt.hist(std_duration_surf, bins, alpha=0.5, label='Surf')\n",
    "plt.hist(std_duration_ultimate, bins, alpha=0.5, label='Ultimate')\n",
    "plt.legend(loc='upper right')\n",
    "plt.suptitle(\"Standard Deviation of Call Durations per User\")\n",
    "plt.ylabel('Number of Users', size='x-large')\n",
    "plt.xlabel('Standard Deviation of Call Durations', size= 'x-large')\n",
    "plt.show()"
   ]
  },
  {
   "cell_type": "code",
   "execution_count": 67,
   "metadata": {},
   "outputs": [
    {
     "data": {
      "image/png": "[encoded data removed]",
      "text/plain": [
       "<Figure size 720x432 with 1 Axes>"
      ]
     },
     "metadata": {},
     "output_type": "display_data"
    }
   ],
   "source": [
    "# ...a box-and-whisker chart.\n",
    "sns.set_style(\"whitegrid\")\n",
    "plt.figure(figsize=(10,6))\n",
    "plt.suptitle(\"Standard Deviation of Call Durations per User\")\n",
    "plt.ylabel('Standard Deviation of Call Durations', size='x-large')\n",
    "plt.xlabel('Calling Packages (1 = Surf, 2 = Ultimate)', size= 'x-large')\n",
    "plt.ticklabel_format(useOffset = False, style = 'plain', axis='y')\n",
    "plt.boxplot([std_duration_surf, std_duration_ultimate])\n",
    "plt.show()"
   ]
  },
  {
   "cell_type": "code",
   "execution_count": 68,
   "metadata": {},
   "outputs": [],
   "source": [
    "# Check the min and max of the two boxplots. \n",
    "#B3 = std_duration_surf.plot.box(return_type='dict')\n",
    "#max3 = B3['whiskers'][1].get_ydata()[1]\n",
    "\n",
    "#B4 = std_duration_ultimate.plot.box(return_type='dict')\n",
    "#max4 = B4['whiskers'][1].get_ydata()[1]\n",
    "\n",
    "#print('B3:', max3, 'B4:', max4)"
   ]
  },
  {
   "cell_type": "markdown",
   "metadata": {},
   "source": [
    "Plot a bar chart for the mean duration of all the calls made by all the users in each calling plan during each month."
   ]
  },
  {
   "cell_type": "code",
   "execution_count": 69,
   "metadata": {},
   "outputs": [
    {
     "data": {
      "image/png": "[encoded data removed]",
      "text/plain": [
       "<Figure size 576x576 with 1 Axes>"
      ]
     },
     "metadata": {},
     "output_type": "display_data"
    }
   ],
   "source": [
    "mean_duration = stats_duration_per_tariff['mean']\n",
    "hist1_length = len(mean_duration)\n",
    "ax = mean_duration.plot(kind = 'bar', figsize = (8, 8))\n",
    "ylab = ax.set_ylabel('Call Duration')\n",
    "plt.xticks(np.arange(hist1_length), np.arange(1, hist1_length + 1));\n",
    "plt.suptitle(\"Monthly Mean Call Duration per Calling Package\");"
   ]
  },
  {
   "cell_type": "code",
   "execution_count": 70,
   "metadata": {},
   "outputs": [],
   "source": [
    "# Check which customers brought up the February call duration total.\n",
    "#total5.query('tariff == \"ultimate\" and month == 2').sort_values('duration_min', ascending = False)\n",
    "#total5.query('tariff == \"surf\" and month == 6').sort_values('duration_min', ascending = False)"
   ]
  },
  {
   "cell_type": "code",
   "execution_count": 71,
   "metadata": {},
   "outputs": [
    {
     "data": {
      "text/plain": [
       "<Figure size 720x432 with 0 Axes>"
      ]
     },
     "metadata": {},
     "output_type": "display_data"
    },
    {
     "data": {
      "image/png": "[encoded data removed]",
      "text/plain": [
       "<Figure size 432x288 with 1 Axes>"
      ]
     },
     "metadata": {},
     "output_type": "display_data"
    }
   ],
   "source": [
    "# ...and a boxplot.\n",
    "sns.set_style(\"whitegrid\")\n",
    "plt.figure(figsize=(10,6))\n",
    "mean_duration.plot.box();\n",
    "plt.ticklabel_format(useOffset = False, style = 'plain', axis='y')\n",
    "plt.suptitle(\"Monthly Mean Call Duration per Calling Package\")\n",
    "plt.ylabel('Mean Call Duration', size='x-large')\n",
    "plt.xlabel('Calling Packages (1 = Surf, 2 = Ultimate)', size= 'x-large')\n",
    "plt.ticklabel_format(useOffset = False, style = 'plain', axis='y')\n",
    "plt.show()"
   ]
  },
  {
   "cell_type": "markdown",
   "metadata": {},
   "source": [
    "Plot a bar chart for the normalised standard deviation of all call durations made by all the users in each calling plan during each month."
   ]
  },
  {
   "cell_type": "code",
   "execution_count": 72,
   "metadata": {},
   "outputs": [
    {
     "data": {
      "image/png": "[encoded data removed]",
      "text/plain": [
       "<Figure size 576x576 with 1 Axes>"
      ]
     },
     "metadata": {},
     "output_type": "display_data"
    }
   ],
   "source": [
    "std_norm_duration = stats_duration_per_tariff['std_norm']\n",
    "hist1_length = len(std_norm_duration)\n",
    "ax = std_norm_duration.plot(kind = 'bar', figsize = (8, 8))\n",
    "ylab = ax.set_ylabel('Call Duration')\n",
    "plt.xticks(np.arange(hist1_length), np.arange(1, hist1_length + 1));\n",
    "plt.suptitle(\"Monthly Normalised Standard Deviation of Call Duration per Calling Package\");"
   ]
  },
  {
   "cell_type": "code",
   "execution_count": 73,
   "metadata": {},
   "outputs": [
    {
     "data": {
      "image/png": "[encoded data removed]",
      "text/plain": [
       "<Figure size 432x288 with 1 Axes>"
      ]
     },
     "metadata": {},
     "output_type": "display_data"
    }
   ],
   "source": [
    "# ...and a boxplot.\n",
    "std_norm_duration.plot.box();\n",
    "plt.ticklabel_format(useOffset = False, style = 'plain', axis='y')"
   ]
  },
  {
   "cell_type": "markdown",
   "metadata": {},
   "source": [
    "**Plot histograms for the data on texts.**"
   ]
  },
  {
   "cell_type": "markdown",
   "metadata": {},
   "source": [
    "Calculate the average number of text messages sent per user in each calling plan, and plot a histogram."
   ]
  },
  {
   "cell_type": "code",
   "execution_count": 74,
   "metadata": {},
   "outputs": [
    {
     "name": "stdout",
     "output_type": "stream",
     "text": [
      "Surf Max: 159.0 Ultimate Max: 148.0\n"
     ]
    }
   ],
   "source": [
    "# Create a data slice for the average number of text messages sent per user, one for Surf users and one for Ultimate users. \n",
    "mean_message_volume_surf = total5.query('tariff == \"surf\"').groupby('user_id')['messages'].mean()\n",
    "mean_message_volume_ultimate = total5.query('tariff == \"ultimate\"').groupby('user_id')['messages'].mean()\n",
    "\n",
    "# Find the upper boundary common to both. \n",
    "print('Surf Max:', mean_message_volume_surf.max(), 'Ultimate Max:', mean_message_volume_ultimate.max())"
   ]
  },
  {
   "cell_type": "code",
   "execution_count": 75,
   "metadata": {},
   "outputs": [
    {
     "data": {
      "image/png": "[encoded data removed]",
      "text/plain": [
       "<Figure size 720x432 with 1 Axes>"
      ]
     },
     "metadata": {},
     "output_type": "display_data"
    }
   ],
   "source": [
    "# Plot a histogram and... \n",
    "sns.set_style(\"whitegrid\")\n",
    "plt.figure(figsize=(10,6));\n",
    "bins = np.linspace(0, 160)\n",
    "plt.hist(mean_message_volume_surf, bins, alpha=0.5, label='Surf')\n",
    "plt.hist(mean_message_volume_ultimate, bins, alpha=0.5, label='Ultimate')\n",
    "plt.legend(loc='upper right')\n",
    "plt.suptitle(\"Average Number of Messages Sent per User\")\n",
    "plt.ylabel('Number of Users', size='x-large')\n",
    "plt.xlabel('Average Number of Messages Sent', size= 'x-large')\n",
    "plt.show()"
   ]
  },
  {
   "cell_type": "code",
   "execution_count": 76,
   "metadata": {},
   "outputs": [
    {
     "data": {
      "image/png": "[encoded data removed]",
      "text/plain": [
       "<Figure size 720x432 with 1 Axes>"
      ]
     },
     "metadata": {},
     "output_type": "display_data"
    }
   ],
   "source": [
    "# ...a box-and-whisker chart.\n",
    "sns.set_style(\"whitegrid\")\n",
    "plt.figure(figsize=(10,6))\n",
    "plt.suptitle(\"Average Number of Messages Sent per User\")\n",
    "plt.ylabel('Average Number of Messages Sent', size='x-large')\n",
    "plt.xlabel('Calling Packages (1 = Surf, 2 = Ultimate)', size= 'x-large')\n",
    "plt.ticklabel_format(useOffset = False, style = 'plain', axis='y')\n",
    "plt.boxplot([mean_message_volume_surf, mean_message_volume_ultimate])\n",
    "plt.show()"
   ]
  },
  {
   "cell_type": "code",
   "execution_count": 77,
   "metadata": {},
   "outputs": [],
   "source": [
    "# Check the min and max of the two boxplots. \n",
    "#B5 = mean_message_volume_surf.plot.box(return_type='dict')\n",
    "#max5 = B5['whiskers'][1].get_ydata()[1]\n",
    "\n",
    "#B6 = mean_message_volume_ultimate.plot.box(return_type='dict')\n",
    "#max6 = B6['whiskers'][1].get_ydata()[1]\n",
    "\n",
    "#print('B5:', max5, 'B6:', max6)"
   ]
  },
  {
   "cell_type": "markdown",
   "metadata": {},
   "source": [
    "Calculate the standard deviation of all the messages sent per user in each calling plan, and plot a histogram."
   ]
  },
  {
   "cell_type": "code",
   "execution_count": 78,
   "metadata": {},
   "outputs": [
    {
     "name": "stdout",
     "output_type": "stream",
     "text": [
      "Surf Max: 151.32085117392117 Ultimate Max: 87.68124086713189\n"
     ]
    }
   ],
   "source": [
    "# Create a data slice of the standard deviation for the number of messages sent per user, one for Surf users and one for Ultimate users. \n",
    "# When grouping 'messages' by 'used_id' and there happens to be only one row in a group, the sample standard deviation \n",
    "# returns NaN. So replacing NaN values with 0.\n",
    "std_message_volume_surf = total5.query('tariff == \"surf\"').groupby('user_id')['messages'].std().fillna(0)\n",
    "std_message_volume_ultimate = total5.query('tariff == \"ultimate\"').groupby('user_id')['messages'].std().fillna(0)\n",
    "\n",
    "# Find the upper boundary common to both. \n",
    "print('Surf Max:', std_message_volume_surf.max(), 'Ultimate Max:', std_message_volume_ultimate.max())"
   ]
  },
  {
   "cell_type": "code",
   "execution_count": 79,
   "metadata": {},
   "outputs": [
    {
     "data": {
      "image/png": "[encoded data removed]",
      "text/plain": [
       "<Figure size 720x432 with 1 Axes>"
      ]
     },
     "metadata": {},
     "output_type": "display_data"
    }
   ],
   "source": [
    "# Plot a histogram and... \n",
    "sns.set_style(\"whitegrid\")\n",
    "plt.figure(figsize=(10,6));\n",
    "bins = np.linspace(0, 152)\n",
    "plt.hist(std_message_volume_surf, bins, alpha=0.5, label='Surf')\n",
    "plt.hist(std_message_volume_ultimate, bins, alpha=0.5, label='Ultimate')\n",
    "plt.legend(loc='upper right')\n",
    "plt.suptitle(\"Standard Deviation of Message Volume Sent per User\")\n",
    "plt.ylabel('Number of Users', size='x-large')\n",
    "plt.xlabel('Standard Deviation of Message Volume Sent', size= 'x-large')\n",
    "plt.show()"
   ]
  },
  {
   "cell_type": "code",
   "execution_count": 80,
   "metadata": {},
   "outputs": [
    {
     "data": {
      "image/png": "[encoded data removed]",
      "text/plain": [
       "<Figure size 720x432 with 1 Axes>"
      ]
     },
     "metadata": {},
     "output_type": "display_data"
    }
   ],
   "source": [
    "# ...a box-and-whisker chart.\n",
    "sns.set_style(\"whitegrid\")\n",
    "plt.figure(figsize=(10,6))\n",
    "plt.suptitle(\"Standard Deviation of Message Volume Sent per User\")\n",
    "plt.ylabel('Standard Deviation of Message Volume Sent', size='x-large')\n",
    "plt.xlabel('Calling Packages (1 = Surf, 2 = Ultimate)', size= 'x-large')\n",
    "plt.ticklabel_format(useOffset = False, style = 'plain', axis='y')\n",
    "plt.boxplot([std_message_volume_surf, std_message_volume_ultimate])\n",
    "plt.show()"
   ]
  },
  {
   "cell_type": "markdown",
   "metadata": {},
   "source": [
    "Plot a bar chart for the mean number of text messages sent by all the users in each calling plan during each month."
   ]
  },
  {
   "cell_type": "code",
   "execution_count": 81,
   "metadata": {},
   "outputs": [
    {
     "data": {
      "image/png": "[encoded data removed]",
      "text/plain": [
       "<Figure size 576x576 with 1 Axes>"
      ]
     },
     "metadata": {},
     "output_type": "display_data"
    }
   ],
   "source": [
    "mean_messages = stats_messages_per_tariff['mean']\n",
    "hist2_length = len(mean_messages)\n",
    "ax = mean_messages.plot(kind = 'bar', figsize = (8, 8))\n",
    "ylab = ax.set_ylabel('Number of Messages')\n",
    "plt.xticks(np.arange(hist2_length), np.arange(1, hist2_length + 1));\n",
    "plt.suptitle(\"Monthly Mean Number of Text Messages Sent per Calling Package\");"
   ]
  },
  {
   "cell_type": "code",
   "execution_count": 82,
   "metadata": {},
   "outputs": [
    {
     "data": {
      "image/png": "[encoded data removed]",
      "text/plain": [
       "<Figure size 432x288 with 1 Axes>"
      ]
     },
     "metadata": {},
     "output_type": "display_data"
    }
   ],
   "source": [
    "# ...and a boxplot.\n",
    "mean_messages.plot.box();\n",
    "plt.ticklabel_format(useOffset = False, style = 'plain', axis = 'y')"
   ]
  },
  {
   "cell_type": "markdown",
   "metadata": {},
   "source": [
    "Plot a bar chart for the normalised standard deviation of the numbers of text messages sent by all the users in each calling plan during each month."
   ]
  },
  {
   "cell_type": "code",
   "execution_count": 83,
   "metadata": {},
   "outputs": [
    {
     "data": {
      "image/png": "[encoded data removed]",
      "text/plain": [
       "<Figure size 576x576 with 1 Axes>"
      ]
     },
     "metadata": {},
     "output_type": "display_data"
    }
   ],
   "source": [
    "norm_std_messages = stats_messages_per_tariff['std_norm']\n",
    "hist2_length = len(norm_std_messages)\n",
    "ax = norm_std_messages.plot(kind = 'bar', figsize = (8, 8))\n",
    "ylab = ax.set_ylabel('Number of Messages')\n",
    "plt.xticks(np.arange(hist2_length), np.arange(1, hist2_length + 1));\n",
    "plt.suptitle(\"Monthly Normalised Standard Deviation of Text Messages Sent per Calling Package\");"
   ]
  },
  {
   "cell_type": "code",
   "execution_count": 84,
   "metadata": {},
   "outputs": [
    {
     "data": {
      "image/png": "[encoded data removed]",
      "text/plain": [
       "<Figure size 432x288 with 1 Axes>"
      ]
     },
     "metadata": {},
     "output_type": "display_data"
    }
   ],
   "source": [
    "# ...and a boxplot.\n",
    "norm_std_messages.plot.box();\n",
    "plt.ticklabel_format(useOffset = False, style = 'plain', axis = 'y')"
   ]
  },
  {
   "cell_type": "markdown",
   "metadata": {},
   "source": [
    "**Plot histograms for the data on volume of data.**"
   ]
  },
  {
   "cell_type": "markdown",
   "metadata": {},
   "source": [
    "Calculate the average data volume consumed per user in each calling plan, and plot a histogram. "
   ]
  },
  {
   "cell_type": "code",
   "execution_count": 85,
   "metadata": {},
   "outputs": [
    {
     "name": "stdout",
     "output_type": "stream",
     "text": [
      "Surf Max: 83.5 Ultimate Max: 69.0\n"
     ]
    }
   ],
   "source": [
    "# Create a data slice of mean data volume consumption per user, one for Surf users and one for Ultimate users. \n",
    "mean_data_volume_surf = total5.query('tariff == \"surf\"').groupby('user_id')['gb_used'].mean()\n",
    "mean_data_volume_ultimate = total5.query('tariff == \"ultimate\"').groupby('user_id')['gb_used'].mean()\n",
    "\n",
    "# Find the upper boundary common to both. \n",
    "print('Surf Max:', mean_data_volume_surf.max(), 'Ultimate Max:', mean_data_volume_ultimate.max())"
   ]
  },
  {
   "cell_type": "code",
   "execution_count": 86,
   "metadata": {},
   "outputs": [
    {
     "data": {
      "image/png": "[encoded data removed]",
      "text/plain": [
       "<Figure size 720x432 with 1 Axes>"
      ]
     },
     "metadata": {},
     "output_type": "display_data"
    }
   ],
   "source": [
    "# Plot a histogram and... \n",
    "sns.set_style(\"whitegrid\")\n",
    "plt.figure(figsize=(10,6));\n",
    "bins = np.linspace(0, 85)\n",
    "plt.hist(mean_data_volume_surf, bins, alpha=0.5, label='Surf')\n",
    "plt.hist(mean_data_volume_ultimate, bins, alpha=0.5, label='Ultimate')\n",
    "plt.legend(loc='upper right')\n",
    "plt.suptitle(\"Mean Data Volume Consumption per User\")\n",
    "plt.ylabel('Number of Users', size='x-large')\n",
    "plt.xlabel('Mean Data Volume Consumption', size= 'x-large')\n",
    "plt.show()"
   ]
  },
  {
   "cell_type": "code",
   "execution_count": 87,
   "metadata": {},
   "outputs": [
    {
     "data": {
      "image/png": "[encoded data removed]",
      "text/plain": [
       "<Figure size 720x432 with 1 Axes>"
      ]
     },
     "metadata": {},
     "output_type": "display_data"
    }
   ],
   "source": [
    "# ...a box-and-whisker chart.\n",
    "sns.set_style(\"whitegrid\")\n",
    "plt.figure(figsize=(10,6))\n",
    "plt.suptitle(\"Mean Data Volume Consumption per User\")\n",
    "plt.ylabel('Mean Data Volume Consumption (in GB)', size='x-large')\n",
    "plt.xlabel('Calling Packages (1 = Surf, 2 = Ultimate)', size= 'x-large')\n",
    "plt.ticklabel_format(useOffset = False, style = 'plain', axis='y')\n",
    "plt.boxplot([mean_data_volume_surf, mean_data_volume_ultimate])\n",
    "plt.show()"
   ]
  },
  {
   "cell_type": "code",
   "execution_count": 88,
   "metadata": {},
   "outputs": [],
   "source": [
    "# Check the min and max of the two boxplots. \n",
    "#B7 = mean_data_volume_surf.plot.box(return_type='dict')\n",
    "#range7 = [item.get_ydata()[1] for item in B7['whiskers']]\n",
    "#max7 = B7['whiskers'][1].get_ydata()[1]\n",
    "\n",
    "#B8 = mean_data_volume_ultimate.plot.box(return_type='dict')\n",
    "#range8 = [item.get_ydata()[1] for item in B8['whiskers']]\n",
    "#max8 = B8['whiskers'][1].get_ydata()[1]\n",
    "\n",
    "#print('B7:', range7, max7, 'B8:', range8, max8)"
   ]
  },
  {
   "cell_type": "markdown",
   "metadata": {},
   "source": [
    "Calculate the standard deviation of data volume consumed per user in each calling plan, and plot a histogram."
   ]
  },
  {
   "cell_type": "code",
   "execution_count": 89,
   "metadata": {},
   "outputs": [
    {
     "name": "stdout",
     "output_type": "stream",
     "text": [
      "Surf Max: 87.68124086713189 Ultimate Max: 56.568542494923804\n"
     ]
    }
   ],
   "source": [
    "# Create a data slice of the standard deviation for call durations, one for Surf users and one for Ultimate users. \n",
    "# When grouping 'gb_used' by 'used_id' and there happens to be only one row in a group, the sample standard deviation \n",
    "# returns NaN. So replacing NaN values with 0.\n",
    "std_data_volume_surf = total5.query('tariff == \"surf\"').groupby('user_id')['gb_used'].std().fillna(0)\n",
    "std_data_volume_ultimate = total5.query('tariff == \"ultimate\"').groupby('user_id')['gb_used'].std().fillna(0)\n",
    "\n",
    "# Find the upper boundary common to both. \n",
    "print('Surf Max:', std_data_volume_surf.max(), 'Ultimate Max:', std_data_volume_ultimate.max())"
   ]
  },
  {
   "cell_type": "code",
   "execution_count": 90,
   "metadata": {},
   "outputs": [
    {
     "data": {
      "image/png": "[encoded data removed]",
      "text/plain": [
       "<Figure size 720x432 with 1 Axes>"
      ]
     },
     "metadata": {},
     "output_type": "display_data"
    }
   ],
   "source": [
    "# Plot a histogram and... \n",
    "sns.set_style(\"whitegrid\")\n",
    "plt.figure(figsize=(10,6));\n",
    "bins = np.linspace(0, 90)\n",
    "plt.hist(std_data_volume_surf, bins, alpha=0.5, label='Surf')\n",
    "plt.hist(std_data_volume_ultimate, bins, alpha=0.5, label='Ultimate')\n",
    "plt.legend(loc='upper right')\n",
    "plt.suptitle(\"Standard Deviation of Data Volume Consumption per User\")\n",
    "plt.ylabel('Number of Users', size='x-large')\n",
    "plt.xlabel('Standard Deviation of Data Volume Consumption', size= 'x-large')\n",
    "plt.show()"
   ]
  },
  {
   "cell_type": "code",
   "execution_count": 91,
   "metadata": {},
   "outputs": [
    {
     "data": {
      "image/png": "[encoded data removed]",
      "text/plain": [
       "<Figure size 720x432 with 1 Axes>"
      ]
     },
     "metadata": {},
     "output_type": "display_data"
    }
   ],
   "source": [
    "# ...a box-and-whisker chart.\n",
    "sns.set_style(\"whitegrid\")\n",
    "plt.figure(figsize=(10,6))\n",
    "plt.suptitle(\"Standard Deviation of Data Volume Consumption per User\")\n",
    "plt.ylabel('Standard Deviation of Data Volume Consumption', size='x-large')\n",
    "plt.xlabel('Calling Packages (1 = Surf, 2 = Ultimate)', size= 'x-large')\n",
    "plt.ticklabel_format(useOffset = False, style = 'plain', axis='y')\n",
    "plt.boxplot([std_data_volume_surf, std_data_volume_ultimate])\n",
    "plt.show()"
   ]
  },
  {
   "cell_type": "markdown",
   "metadata": {},
   "source": [
    "Plot a bar chart for the mean volume of data consumed by all the users in each calling plan during each month."
   ]
  },
  {
   "cell_type": "code",
   "execution_count": 92,
   "metadata": {},
   "outputs": [
    {
     "data": {
      "image/png": "[encoded data removed]",
      "text/plain": [
       "<Figure size 576x576 with 1 Axes>"
      ]
     },
     "metadata": {},
     "output_type": "display_data"
    }
   ],
   "source": [
    "mean_volume = stats_GB_per_tariff['mean']\n",
    "hist3_length = len(mean_volume)\n",
    "ax = mean_volume.plot(kind = 'bar', figsize = (8, 8))\n",
    "ylab = ax.set_ylabel('Data Volume (GB)')\n",
    "plt.xticks(np.arange(hist3_length), np.arange(1, hist3_length + 1));\n",
    "plt.suptitle(\"Monthly Mean Data Volume Consumed per Calling Package\");"
   ]
  },
  {
   "cell_type": "code",
   "execution_count": 93,
   "metadata": {},
   "outputs": [
    {
     "data": {
      "image/png": "[encoded data removed]",
      "text/plain": [
       "<Figure size 432x288 with 1 Axes>"
      ]
     },
     "metadata": {},
     "output_type": "display_data"
    }
   ],
   "source": [
    "# ...and a boxplot.\n",
    "mean_volume.plot.box();\n",
    "plt.ticklabel_format(useOffset = False, style = 'plain', axis = 'y')"
   ]
  },
  {
   "cell_type": "markdown",
   "metadata": {},
   "source": [
    "Plot a bar chart for the normalised standard deviation of the data volume consumed by all the users in each calling plan during each month."
   ]
  },
  {
   "cell_type": "code",
   "execution_count": 94,
   "metadata": {},
   "outputs": [
    {
     "data": {
      "image/png": "[encoded data removed]",
      "text/plain": [
       "<Figure size 576x576 with 1 Axes>"
      ]
     },
     "metadata": {},
     "output_type": "display_data"
    }
   ],
   "source": [
    "std_volume = stats_GB_per_tariff['std_norm']\n",
    "hist3_length = len(std_volume)\n",
    "ax = std_volume.plot(kind = 'bar', figsize = (8, 8))\n",
    "ylab = ax.set_ylabel('Data Volume (GB)')\n",
    "plt.xticks(np.arange(hist3_length), np.arange(1, hist3_length + 1));\n",
    "plt.suptitle(\"Monthly Normalised Standard Deviation of Data Volume Consumed per Calling Package\");"
   ]
  },
  {
   "cell_type": "code",
   "execution_count": 95,
   "metadata": {},
   "outputs": [
    {
     "data": {
      "image/png": "[encoded data removed]",
      "text/plain": [
       "<Figure size 432x288 with 1 Axes>"
      ]
     },
     "metadata": {},
     "output_type": "display_data"
    }
   ],
   "source": [
    "# ...and a boxplot.\n",
    "std_volume.plot.box();\n",
    "plt.ticklabel_format(useOffset = False, style = 'plain', axis = 'y')"
   ]
  },
  {
   "cell_type": "markdown",
   "metadata": {},
   "source": [
    "**Describe the distributions.**\n",
    "\n",
    "[call duration]\n",
    "* Frequency histogram - mean call duration per user per calling package\n",
    "<br>o The distribution is fairly close to normal with only a slight skewing to the right. \n",
    "<br>o Taking into account that there are twice as many Surf customers as Ultimate customers, we can see that most users talked roughly 250 to 550 minutes in 2018, with most calls being around 400 minutes long. \n",
    "<br>o There were more zero duration calls among Surf customers.\n",
    "<br>o Calls above 890 minutes and 797 minutes long are being considered as outliers for Surf and Ultimate, respectively. Those are the \"extreme chatterboxes\" among them. \n",
    "<br>o The standard deviation confirms that there is a concensus that calls of 250 to 750 minutes in length are the most common with the least variation between the callers, and shorter calls less than 250 minutes are more varied from user to user. \n",
    "\n",
    "* Bar chart - mean call duration per month per calling package\n",
    "<br>o There is no drastic difference between the calling packages throughout the year...\n",
    "<br>...except for February where Ultimate is about 25% higher than Surf. There were no special events that stood out particularly in February 2018 in the US, so I can only speculate that the mean value was brought up single-handedly by some individual customers who made very long calls for personal reasons. The same can be said about the Surf mean being 16% higher in June, compared to Ultimate. \n",
    "<br>o The January figure is so low that it is indeed considered an outlier for both Surf and Ultimate, meaning the figure at the start of the year is atypical of the calling packages that can be seen for the rest of the year. \n",
    "<br>o The distribution is only very slightly skewed to the left. The mean call duration is fairly uniform throughout the year with little variation from month to month for both packages. \n",
    "<br>o The standard deviation tells us that call durations are very individualistic in both calling packages, that the lengths of calls vary from customer to customer.\n",
    "<br>o In March, the standard deviation for Ultimate shot up, suggesting that there were some individual customers who made particularly long calls compared to an average caller.\n",
    "<br> o Within each calling package, where values of standard deviation fluctuate, it may suggest that new customers join the package deals, changing the characteristic of the dispersion. The standard deviation stabilises more or less from August, indicating that no new customers with different call behaviours joined the packages. \n",
    "\n",
    "[Text messages]\n",
    "* Frequency histogram - average number of text messages sent per user per calling package\n",
    "<br>o The distribution is heavily skewed to the right. A large number of customers do not use the text messaging service at all.  \n",
    "<br>o Ultimate customers send text messages more than Surf customers. A Ultimate customer sends on average 10 - 60 messages, recording a maximum of 126 messages, in comparison to a Surf customer sending 10 - 50 messages on average with a maximum of 110 messages. \n",
    "<br>o Among Surf customers, those who send 120 - 160 text messages on average are considered outliers. There are more outliers among Surf customers than Ultimate. \n",
    "<br>o The standard deviation shows that 25 - 60 are the most common number of text messages an average customer sends. There is a difference of up to 15 text messages between customers.\n",
    "\n",
    "* Bar chart - average number of text messages sent per month per calling package\n",
    "<br>o The mean is consistently higher for Ultimate than for Surf, indicating that Ultimate customers send more text messages than Surf. \n",
    "<br>o The distribution is skewed to the left, indicating a progressive growth towards the end of the year. \n",
    "<br>o The standard deviation is consistently higher for Surf, indicating a wide range of differences in the number of text messages sent between the Surf customers. \n",
    "\n",
    "[Data volume]\n",
    "* Frequency histogram - average data volume consumed in GB per user per calling package\n",
    "<br>o The distribution is fairly normal with a slight skewness to the left. \n",
    "<br>o In both packages, the majority of the customers consume 10 - 70 GB of data volume on average with the majority consuming around 40 GB. \n",
    "<br>o The boxplots of the two packages are strikingly similar with near identical min, max and range. \n",
    "<br>o The standard deviation confirms the above findings, plus the fact that any figures above 30 GB are see a lot of variation between customeres. \n",
    "\n",
    "* Bar chart - average data volume consumed in GB per per month per calling package\n",
    "<br>o The data volume consumption was very high in Ultimate in the first half of the year, either due to some customers consuming a lot more than an average surder, or new avid-surfing customers with very high data volume consumption joined the package deal, bringing up the average of the group. \n",
    "<br>o In the latter half of the year, the data volume consumption more or less stabilised at one of the highest mean values.\n",
    "<br>o Ultimate customers mostly consume more data volume than Surf customers in average. Surf customers are much more varied in their consumption behaviour. \n",
    "<br>o Since the total volume of data consumption is much higher in Surf, this is an indication that there are much fewer Ultimate customers than Surf customers, raising per-head data consumption. \n",
    "<br>o The January figure is considered an outlier and is not reflective of the general pattern of data volume consumption for both Surf and Ultimate. \n",
    "<br>o The standard deviation is much higher in Surf in the first two months of the year, suggesting the data volume consumption patterns among the customers were very varied, some consuming more and others less. \n",
    "<br>o In the second half of the year, the standard deviation was fairly even, indicating that no new high-surfers joined the packages. "
   ]
  },
  {
   "cell_type": "markdown",
   "metadata": {},
   "source": [
    "**Describe the customers' behavior.**\n",
    "\n",
    "= With regard to call duration =\n",
    "<br>o Surf deal: prepaid to 500 monthly minutes\n",
    "<br>o Ultimate deal: prepaid to 3000 monthly minutes\n",
    "* Neither Surf nor Ultimate customers are leveraging the prepaid deal to the full. They are using:\n",
    "<br>o Surf customers: 40% - 80%.\n",
    "<br>o Ultimate customers 0.4% - 14%\n",
    "of the free package limit. \n",
    "* What is striking about the data is that Ultimate customers' mean is no where near 3 times that of Surf's (Ultimate customers are eligibile for 3000 min of monthly total call duration as opposed to 500 min for Surf customers, but they are half in number). Ultimate customers prepay 3.5 times more than Surf customers, and yet, talk for a similar length of time. \n",
    "<br>o Both Ultimate and Surf customers are idividualistic regarding call duration: there are those who talk a lot, and those who talk less, compared to an average caller. \n",
    "\n",
    "= With regard to number of text messages sent =\n",
    "<br>o Surf deal: prepaid up to 50 text message\n",
    "<br>o Ultimate deal: prepaid to 1000 text message\n",
    "* Neither Surf nor Ultimate customers are leveraging the prepaid deal to the full. They are using:\n",
    "<br>o Surf customers: 20% - 76%.\n",
    "<br>o Ultimate customers 1.5% - 4.5%\n",
    "of the free package limit. \n",
    "* Ultimate customers are consistently much heavier texters than Surf customers. Ultimate customers are eligible for 200 times more text messages (1000 in contrast to 50) than Surf customers. That message deal in the calling package description seems encourage Ultimate package purchasers to communicate by text. \n",
    "* Ultimate and Surf customers are both very individualistic in their texting behaviour - the standard deviation is consistently 1.0 or above. \n",
    "\n",
    "= With regard to volume of data consumed =\n",
    "<br>o Surf deal: prepaid up to 15GB\n",
    "<br>o Ultimate deal: prepaid up to 30 GB\n",
    "* Neither Surf nor Ultimate customers are leveraging the prepaid deal to the full. They are using:\n",
    "<br>o Surf customers: 33% - exceed the limit by 20%.\n",
    "<br>o Ultimate customers 23% - 61%\n",
    "of the free package limit. \n",
    "* In the first half of the year, the volume of data consumption by Ultimate customers is consistently much higher than that of Surf customers. In the latter half of the year, the pattern calms down and the consumption settles more or less at the same level as that of Surf customers. \n",
    "* Both Surf and Ultimate customers exhibit the least diverse range of the three (call duration, number of text messages, data volume consumption) in data volume consumption. "
   ]
  },
  {
   "cell_type": "markdown",
   "metadata": {},
   "source": [
    "<div class=\"alert alert-success\" role=\"alert\">\n",
    "<b>Reviewer's comment v1:</b>\n",
    "    \n",
    "Great data analysis, conclusions and assumptions. Very nice visualisation of the data.\n",
    "    \n",
    "If you have time and willing to practice, you can display two charts (histogram and a boxplot) using a two-column subplot.\n",
    "\n",
    "        fig, axes = plt.subplots(1, 2, figsize=(16, 5))\n",
    "        ....\n",
    "        ...\n",
    "</div>"
   ]
  },
  {
   "cell_type": "markdown",
   "metadata": {},
   "source": [
    "<div class=\"alert alert-danger\">\n",
    "<b>Reviewer's comment v1:</b>\n",
    "    \n",
    "Currently, you created only bar charts in your analysis. However, it is also required to create histograms for each type of service per plan.\n",
    "\n",
    "Can you please add these graphs and describe distribution, possible outliers, etc.\n",
    "</div>"
   ]
  },
  {
   "cell_type": "markdown",
   "metadata": {},
   "source": [
    "<div class=\"alert alert-info\"> <b>Student comments:</b> I had in fact attempted the .subplots() method, and I could not get the result I wanted. I was so aware of the time constraint that I went for the option that did work for me this time. I will practise for future. :) I have added a frequency histogram and a boxplot for the mean and standard deviation per user for each service type per calling plan, and described the distrbution and some prominent features that are apparent in the graphs. It is a lot but I would appreciate it if you could review. Thank you!</div> "
   ]
  },
  {
   "cell_type": "markdown",
   "metadata": {},
   "source": [
    "<div class=\"alert alert-block alert-success\">\n",
    "<b>Reviewer's comment v2</b>\n",
    "\n",
    "Great that you also managed to combine 2 plans on one histogram! I left a code below with an example of how sublot can be used here. Hopefully that can be helpful on the next projects.\n",
    "</div>"
   ]
  },
  {
   "cell_type": "code",
   "execution_count": 115,
   "metadata": {},
   "outputs": [
    {
     "data": {
      "image/png": "[encoded data removed]",
      "text/plain": [
       "<Figure size 1152x360 with 2 Axes>"
      ]
     },
     "metadata": {},
     "output_type": "display_data"
    }
   ],
   "source": [
    "# Reviewer's code \n",
    "\n",
    "# Create one row with 2 columns with the 16 x 5 size\n",
    "fig, axes = plt.subplots(1, 2, figsize=(16, 5))\n",
    "\n",
    "# Create 2 histograms for each plan. With ax=axes you can control in which column this graph will be located\n",
    "sns.distplot(total5.query('tariff == \"surf\"')['gb_used'], color='darkblue', ax=axes[0])\n",
    "sns.distplot(total5.query('tariff == \"ultimate\"')['gb_used'], color='darkorange', ax=axes[0])\n",
    "\n",
    "# Create one boxplot for 2 plans in the second column. To change boxplot from horizontal to vertical you need to exchange values in x/y\n",
    "sns.boxplot(data=total5.sort_values(by='tariff'), x='gb_used', y='tariff', ax=axes[1])\n",
    "\n",
    "# Add lables for each graph\n",
    "axes[0].legend(loc='upper right', labels=['smart','ultra'])\n",
    "axes[0].set_xlabel('gb/month')\n",
    "axes[0].set_ylabel('Density')\n",
    "axes[1].set_xlabel('gb/month')\n",
    "axes[1].set_ylabel('Plan')\n",
    "\n",
    "# Add overall title\n",
    "fig.suptitle('Histogram internet data distribution');"
   ]
  },
  {
   "cell_type": "markdown",
   "metadata": {},
   "source": [
    "## Addendum: Additional analyses"
   ]
  },
  {
   "cell_type": "code",
   "execution_count": 96,
   "metadata": {},
   "outputs": [
    {
     "name": "stdout",
     "output_type": "stream",
     "text": [
      "Surf : Ultimate: 339 : 161\n"
     ]
    }
   ],
   "source": [
    "# Check the ratio of Ultimate package subscribers to Surf package subscribers.\n",
    "print('Surf : Ultimate:', data_users1.query('tariff == \"surf\"').shape[0], ':', data_users1.query('tariff == \"ultimate\"').shape[0])"
   ]
  },
  {
   "cell_type": "markdown",
   "metadata": {},
   "source": [
    "[Observation] Surf subscribers are a little over double Ultimate subscribers. "
   ]
  },
  {
   "cell_type": "code",
   "execution_count": 97,
   "metadata": {},
   "outputs": [
    {
     "data": {
      "text/html": [
       "<div>\n",
       "<style scoped>\n",
       "    .dataframe tbody tr th:only-of-type {\n",
       "        vertical-align: middle;\n",
       "    }\n",
       "\n",
       "    .dataframe tbody tr th {\n",
       "        vertical-align: top;\n",
       "    }\n",
       "\n",
       "    .dataframe thead th {\n",
       "        text-align: right;\n",
       "    }\n",
       "</style>\n",
       "<table border=\"1\" class=\"dataframe\">\n",
       "  <thead>\n",
       "    <tr style=\"text-align: right;\">\n",
       "      <th>tariff</th>\n",
       "      <th>surf</th>\n",
       "      <th>ultimate</th>\n",
       "    </tr>\n",
       "    <tr>\n",
       "      <th>month</th>\n",
       "      <th></th>\n",
       "      <th></th>\n",
       "    </tr>\n",
       "  </thead>\n",
       "  <tbody>\n",
       "    <tr>\n",
       "      <td>1</td>\n",
       "      <td>100.00</td>\n",
       "      <td>280.0</td>\n",
       "    </tr>\n",
       "    <tr>\n",
       "      <td>2</td>\n",
       "      <td>1689.57</td>\n",
       "      <td>1148.0</td>\n",
       "    </tr>\n",
       "    <tr>\n",
       "      <td>3</td>\n",
       "      <td>4756.65</td>\n",
       "      <td>2268.0</td>\n",
       "    </tr>\n",
       "    <tr>\n",
       "      <td>4</td>\n",
       "      <td>9095.53</td>\n",
       "      <td>3388.0</td>\n",
       "    </tr>\n",
       "    <tr>\n",
       "      <td>5</td>\n",
       "      <td>17387.37</td>\n",
       "      <td>4543.0</td>\n",
       "    </tr>\n",
       "    <tr>\n",
       "      <td>6</td>\n",
       "      <td>24869.80</td>\n",
       "      <td>6839.0</td>\n",
       "    </tr>\n",
       "    <tr>\n",
       "      <td>7</td>\n",
       "      <td>34513.56</td>\n",
       "      <td>9632.0</td>\n",
       "    </tr>\n",
       "    <tr>\n",
       "      <td>8</td>\n",
       "      <td>46246.85</td>\n",
       "      <td>12397.0</td>\n",
       "    </tr>\n",
       "    <tr>\n",
       "      <td>9</td>\n",
       "      <td>54374.67</td>\n",
       "      <td>13573.0</td>\n",
       "    </tr>\n",
       "    <tr>\n",
       "      <td>10</td>\n",
       "      <td>70804.83</td>\n",
       "      <td>17409.0</td>\n",
       "    </tr>\n",
       "    <tr>\n",
       "      <td>11</td>\n",
       "      <td>79175.21</td>\n",
       "      <td>20832.0</td>\n",
       "    </tr>\n",
       "    <tr>\n",
       "      <td>12</td>\n",
       "      <td>100757.14</td>\n",
       "      <td>27664.0</td>\n",
       "    </tr>\n",
       "  </tbody>\n",
       "</table>\n",
       "</div>"
      ],
      "text/plain": [
       "tariff       surf  ultimate\n",
       "month                      \n",
       "1          100.00     280.0\n",
       "2         1689.57    1148.0\n",
       "3         4756.65    2268.0\n",
       "4         9095.53    3388.0\n",
       "5        17387.37    4543.0\n",
       "6        24869.80    6839.0\n",
       "7        34513.56    9632.0\n",
       "8        46246.85   12397.0\n",
       "9        54374.67   13573.0\n",
       "10       70804.83   17409.0\n",
       "11       79175.21   20832.0\n",
       "12      100757.14   27664.0"
      ]
     },
     "execution_count": 97,
     "metadata": {},
     "output_type": "execute_result"
    }
   ],
   "source": [
    "# Compare the monthly revenue total between the two package plans.\n",
    "package_vs_monthly_revenue = total5.pivot_table(index = 'month', columns = 'tariff', values = 'monthly_revenue_total', aggfunc = 'sum')\n",
    "package_vs_monthly_revenue"
   ]
  },
  {
   "cell_type": "code",
   "execution_count": 98,
   "metadata": {},
   "outputs": [
    {
     "data": {
      "text/html": [
       "<div>\n",
       "<style scoped>\n",
       "    .dataframe tbody tr th:only-of-type {\n",
       "        vertical-align: middle;\n",
       "    }\n",
       "\n",
       "    .dataframe tbody tr th {\n",
       "        vertical-align: top;\n",
       "    }\n",
       "\n",
       "    .dataframe thead th {\n",
       "        text-align: right;\n",
       "    }\n",
       "</style>\n",
       "<table border=\"1\" class=\"dataframe\">\n",
       "  <thead>\n",
       "    <tr style=\"text-align: right;\">\n",
       "      <th></th>\n",
       "      <th>surf</th>\n",
       "      <th>ultimate</th>\n",
       "    </tr>\n",
       "    <tr>\n",
       "      <th>month</th>\n",
       "      <th></th>\n",
       "      <th></th>\n",
       "    </tr>\n",
       "  </thead>\n",
       "  <tbody>\n",
       "    <tr>\n",
       "      <td>1</td>\n",
       "      <td>0.000000</td>\n",
       "      <td>0.000000</td>\n",
       "    </tr>\n",
       "    <tr>\n",
       "      <td>2</td>\n",
       "      <td>16.895700</td>\n",
       "      <td>4.100000</td>\n",
       "    </tr>\n",
       "    <tr>\n",
       "      <td>3</td>\n",
       "      <td>2.815302</td>\n",
       "      <td>1.975610</td>\n",
       "    </tr>\n",
       "    <tr>\n",
       "      <td>4</td>\n",
       "      <td>1.912171</td>\n",
       "      <td>1.493827</td>\n",
       "    </tr>\n",
       "    <tr>\n",
       "      <td>5</td>\n",
       "      <td>1.911639</td>\n",
       "      <td>1.340909</td>\n",
       "    </tr>\n",
       "    <tr>\n",
       "      <td>6</td>\n",
       "      <td>1.430337</td>\n",
       "      <td>1.505393</td>\n",
       "    </tr>\n",
       "    <tr>\n",
       "      <td>7</td>\n",
       "      <td>1.387770</td>\n",
       "      <td>1.408393</td>\n",
       "    </tr>\n",
       "    <tr>\n",
       "      <td>8</td>\n",
       "      <td>1.339962</td>\n",
       "      <td>1.287064</td>\n",
       "    </tr>\n",
       "    <tr>\n",
       "      <td>9</td>\n",
       "      <td>1.175749</td>\n",
       "      <td>1.094862</td>\n",
       "    </tr>\n",
       "    <tr>\n",
       "      <td>10</td>\n",
       "      <td>1.302166</td>\n",
       "      <td>1.282620</td>\n",
       "    </tr>\n",
       "    <tr>\n",
       "      <td>11</td>\n",
       "      <td>1.118218</td>\n",
       "      <td>1.196622</td>\n",
       "    </tr>\n",
       "    <tr>\n",
       "      <td>12</td>\n",
       "      <td>1.272584</td>\n",
       "      <td>1.327957</td>\n",
       "    </tr>\n",
       "  </tbody>\n",
       "</table>\n",
       "</div>"
      ],
      "text/plain": [
       "            surf  ultimate\n",
       "month                     \n",
       "1       0.000000  0.000000\n",
       "2      16.895700  4.100000\n",
       "3       2.815302  1.975610\n",
       "4       1.912171  1.493827\n",
       "5       1.911639  1.340909\n",
       "6       1.430337  1.505393\n",
       "7       1.387770  1.408393\n",
       "8       1.339962  1.287064\n",
       "9       1.175749  1.094862\n",
       "10      1.302166  1.282620\n",
       "11      1.118218  1.196622\n",
       "12      1.272584  1.327957"
      ]
     },
     "execution_count": 98,
     "metadata": {},
     "output_type": "execute_result"
    }
   ],
   "source": [
    "# Check the monthly growth rate.\n",
    "surf_growth_rate = package_vs_monthly_revenue['surf'].div(package_vs_monthly_revenue['surf'].shift(1)).fillna(0)\n",
    "ultimate_growth_rate = package_vs_monthly_revenue['ultimate'].div(package_vs_monthly_revenue['ultimate'].shift(1)).fillna(0)\n",
    "monthly_growth_rate = pd.merge(surf_growth_rate, ultimate_growth_rate, on = 'month')\n",
    "\n",
    "# Print the pivot table. \n",
    "monthly_growth_rate"
   ]
  },
  {
   "cell_type": "markdown",
   "metadata": {},
   "source": [
    "[Observation] Both packages started off slow at the beginning of the year, but picked up a pace by the second month. Surf grew at a rate of 1.1 - 7.7 % every month in comparison to the Ultimate's rate of 1.2 - 1.8%. Surf overtook Ultimate in revenue growth very quickly. By the end of the year, Surf's revenue had grown double that of Ultimate's. Megaline earned a considerable amount of surchage from Surf customers. "
   ]
  },
  {
   "cell_type": "code",
   "execution_count": 99,
   "metadata": {},
   "outputs": [
    {
     "name": "stdout",
     "output_type": "stream",
     "text": [
      "ex_ultimate to ex-surf ratio: 11 : 23\n"
     ]
    }
   ],
   "source": [
    "# Check which prepaid package has a higher rate of cancellation. \n",
    "ex_ultimate = data_users1[(data_users1.churn_date.notnull()) & (data_users1.tariff == 'ultimate')].shape[0]\n",
    "ex_surf = data_users1[(data_users1.churn_date.notnull()) & (data_users1.tariff == 'surf')].shape[0]\n",
    "\n",
    "print('ex_ultimate to ex-surf ratio:', ex_ultimate, ':', ex_surf)"
   ]
  },
  {
   "cell_type": "markdown",
   "metadata": {},
   "source": [
    "[Observation] There are only 34 rows in the users data that contain a non-NaN value in 'churn_date'. Thus the sample size is small, but Surf calling plan has twice as high cancellation rate than Ultimate calling plan. "
   ]
  },
  {
   "cell_type": "code",
   "execution_count": 100,
   "metadata": {},
   "outputs": [
    {
     "data": {
      "text/html": [
       "<div>\n",
       "<style scoped>\n",
       "    .dataframe tbody tr th:only-of-type {\n",
       "        vertical-align: middle;\n",
       "    }\n",
       "\n",
       "    .dataframe tbody tr th {\n",
       "        vertical-align: top;\n",
       "    }\n",
       "\n",
       "    .dataframe thead tr th {\n",
       "        text-align: left;\n",
       "    }\n",
       "\n",
       "    .dataframe thead tr:last-of-type th {\n",
       "        text-align: right;\n",
       "    }\n",
       "</style>\n",
       "<table border=\"1\" class=\"dataframe\">\n",
       "  <thead>\n",
       "    <tr>\n",
       "      <th></th>\n",
       "      <th colspan=\"2\" halign=\"left\">duration_surcharge</th>\n",
       "      <th colspan=\"2\" halign=\"left\">gb_surcharge</th>\n",
       "      <th colspan=\"2\" halign=\"left\">message_surcharge</th>\n",
       "    </tr>\n",
       "    <tr>\n",
       "      <th>tariff</th>\n",
       "      <th>surf</th>\n",
       "      <th>ultimate</th>\n",
       "      <th>surf</th>\n",
       "      <th>ultimate</th>\n",
       "      <th>surf</th>\n",
       "      <th>ultimate</th>\n",
       "    </tr>\n",
       "    <tr>\n",
       "      <th>month</th>\n",
       "      <th></th>\n",
       "      <th></th>\n",
       "      <th></th>\n",
       "      <th></th>\n",
       "      <th></th>\n",
       "      <th></th>\n",
       "    </tr>\n",
       "  </thead>\n",
       "  <tbody>\n",
       "    <tr>\n",
       "      <td>1</td>\n",
       "      <td>0.00</td>\n",
       "      <td>0.0</td>\n",
       "      <td>60.0</td>\n",
       "      <td>0.0</td>\n",
       "      <td>0.00</td>\n",
       "      <td>0.0</td>\n",
       "    </tr>\n",
       "    <tr>\n",
       "      <td>2</td>\n",
       "      <td>9.33</td>\n",
       "      <td>0.0</td>\n",
       "      <td>1500.0</td>\n",
       "      <td>658.0</td>\n",
       "      <td>0.24</td>\n",
       "      <td>0.0</td>\n",
       "    </tr>\n",
       "    <tr>\n",
       "      <td>3</td>\n",
       "      <td>16.26</td>\n",
       "      <td>0.0</td>\n",
       "      <td>4280.0</td>\n",
       "      <td>1428.0</td>\n",
       "      <td>0.39</td>\n",
       "      <td>0.0</td>\n",
       "    </tr>\n",
       "    <tr>\n",
       "      <td>4</td>\n",
       "      <td>52.92</td>\n",
       "      <td>0.0</td>\n",
       "      <td>8040.0</td>\n",
       "      <td>1918.0</td>\n",
       "      <td>2.61</td>\n",
       "      <td>0.0</td>\n",
       "    </tr>\n",
       "    <tr>\n",
       "      <td>5</td>\n",
       "      <td>127.71</td>\n",
       "      <td>0.0</td>\n",
       "      <td>15710.0</td>\n",
       "      <td>2513.0</td>\n",
       "      <td>9.66</td>\n",
       "      <td>0.0</td>\n",
       "    </tr>\n",
       "    <tr>\n",
       "      <td>6</td>\n",
       "      <td>155.31</td>\n",
       "      <td>0.0</td>\n",
       "      <td>22760.0</td>\n",
       "      <td>3549.0</td>\n",
       "      <td>14.49</td>\n",
       "      <td>0.0</td>\n",
       "    </tr>\n",
       "    <tr>\n",
       "      <td>7</td>\n",
       "      <td>265.98</td>\n",
       "      <td>0.0</td>\n",
       "      <td>31810.0</td>\n",
       "      <td>5502.0</td>\n",
       "      <td>17.58</td>\n",
       "      <td>0.0</td>\n",
       "    </tr>\n",
       "    <tr>\n",
       "      <td>8</td>\n",
       "      <td>267.66</td>\n",
       "      <td>0.0</td>\n",
       "      <td>42710.0</td>\n",
       "      <td>7427.0</td>\n",
       "      <td>29.19</td>\n",
       "      <td>0.0</td>\n",
       "    </tr>\n",
       "    <tr>\n",
       "      <td>9</td>\n",
       "      <td>278.58</td>\n",
       "      <td>0.0</td>\n",
       "      <td>50180.0</td>\n",
       "      <td>7553.0</td>\n",
       "      <td>36.09</td>\n",
       "      <td>0.0</td>\n",
       "    </tr>\n",
       "    <tr>\n",
       "      <td>10</td>\n",
       "      <td>425.25</td>\n",
       "      <td>0.0</td>\n",
       "      <td>65580.0</td>\n",
       "      <td>9989.0</td>\n",
       "      <td>59.58</td>\n",
       "      <td>0.0</td>\n",
       "    </tr>\n",
       "    <tr>\n",
       "      <td>11</td>\n",
       "      <td>495.57</td>\n",
       "      <td>0.0</td>\n",
       "      <td>72960.0</td>\n",
       "      <td>11942.0</td>\n",
       "      <td>59.64</td>\n",
       "      <td>0.0</td>\n",
       "    </tr>\n",
       "    <tr>\n",
       "      <td>12</td>\n",
       "      <td>805.68</td>\n",
       "      <td>0.0</td>\n",
       "      <td>93490.0</td>\n",
       "      <td>17094.0</td>\n",
       "      <td>101.46</td>\n",
       "      <td>0.0</td>\n",
       "    </tr>\n",
       "  </tbody>\n",
       "</table>\n",
       "</div>"
      ],
      "text/plain": [
       "       duration_surcharge          gb_surcharge          message_surcharge  \\\n",
       "tariff               surf ultimate         surf ultimate              surf   \n",
       "month                                                                        \n",
       "1                    0.00      0.0         60.0      0.0              0.00   \n",
       "2                    9.33      0.0       1500.0    658.0              0.24   \n",
       "3                   16.26      0.0       4280.0   1428.0              0.39   \n",
       "4                   52.92      0.0       8040.0   1918.0              2.61   \n",
       "5                  127.71      0.0      15710.0   2513.0              9.66   \n",
       "6                  155.31      0.0      22760.0   3549.0             14.49   \n",
       "7                  265.98      0.0      31810.0   5502.0             17.58   \n",
       "8                  267.66      0.0      42710.0   7427.0             29.19   \n",
       "9                  278.58      0.0      50180.0   7553.0             36.09   \n",
       "10                 425.25      0.0      65580.0   9989.0             59.58   \n",
       "11                 495.57      0.0      72960.0  11942.0             59.64   \n",
       "12                 805.68      0.0      93490.0  17094.0            101.46   \n",
       "\n",
       "                 \n",
       "tariff ultimate  \n",
       "month            \n",
       "1           0.0  \n",
       "2           0.0  \n",
       "3           0.0  \n",
       "4           0.0  \n",
       "5           0.0  \n",
       "6           0.0  \n",
       "7           0.0  \n",
       "8           0.0  \n",
       "9           0.0  \n",
       "10          0.0  \n",
       "11          0.0  \n",
       "12          0.0  "
      ]
     },
     "execution_count": 100,
     "metadata": {},
     "output_type": "execute_result"
    }
   ],
   "source": [
    "# Calculate the monthly surcharge totals per calling package. \n",
    "monthly_surcharge = total5.pivot_table(index = 'month', columns = 'tariff', values = ['duration_surcharge', 'message_surcharge', 'gb_surcharge'], aggfunc = 'sum')\n",
    "monthly_surcharge"
   ]
  },
  {
   "cell_type": "markdown",
   "metadata": {},
   "source": [
    "[Observation] Surf and Ultimate package deals brought in 63442.13 USD and 1666 USD, respectively, in surchages during 2018."
   ]
  },
  {
   "cell_type": "markdown",
   "metadata": {},
   "source": [
    "## Test the hypotheses"
   ]
  },
  {
   "cell_type": "markdown",
   "metadata": {},
   "source": [
    "* The average revenue from users of Ultimate and Surf calling plans differs.\n",
    "* The average revenue from users in NY-NJ area is different from that of the\n",
    "users from other regions.\n",
    "\n",
    "You decide what alpha value to use.\n",
    "<br>Explain:\n",
    "* How you formulated the null and alternative hypotheses.\n",
    "* What criterion you used to test the hypotheses and why."
   ]
  },
  {
   "cell_type": "markdown",
   "metadata": {},
   "source": [
    "### Test the hypothesis: The average revenue from users of Ultimate and Surf calling plans differs."
   ]
  },
  {
   "cell_type": "markdown",
   "metadata": {},
   "source": [
    "Perform some preliminary checks in order to know which statistical test to choose for checking the hypothesis."
   ]
  },
  {
   "cell_type": "code",
   "execution_count": 101,
   "metadata": {},
   "outputs": [
    {
     "name": "stdout",
     "output_type": "stream",
     "text": [
      "ultimate sample size: 720\n",
      "surf sample size: 1573\n",
      "\n",
      "ultimate average revenue: 166.63\n",
      "surf average revenue: 282.12\n",
      "\n",
      "ultimate variance: 7624.603598748261\n",
      "surf variance: 26647.073082603216\n",
      "\n",
      "ultimate std: 87.3189761663996\n",
      "surf std: 163.23931230743167\n"
     ]
    }
   ],
   "source": [
    "# Prepare arrays only with the monthly revenue total, one from Ultimate calling plan users and another from Surf.\n",
    "ultimate_revenue_total = total5.loc[total5['tariff'] == 'ultimate', 'monthly_revenue_total']\n",
    "surf_revenue_total = total5.loc[total5['tariff'] == 'surf', 'monthly_revenue_total']\n",
    "\n",
    "# View the datasets.\n",
    "#ultimate_revenue_total\n",
    "#surf_revenue_total\n",
    "\n",
    "# Check the sample sizes.\n",
    "ultimate_sample_size = len(ultimate_revenue_total)\n",
    "surf_sample_size = len(surf_revenue_total)\n",
    "print('ultimate sample size:', ultimate_sample_size)\n",
    "print('surf sample size:', surf_sample_size)\n",
    "print()\n",
    "\n",
    "# Calculate the means of the monthly revenue totals.\n",
    "ultimate_average_revenue = round(ultimate_revenue_total.mean(), 2)\n",
    "surf_average_revenue = round(surf_revenue_total.mean(), 2)\n",
    "print('ultimate average revenue:', ultimate_average_revenue)\n",
    "print('surf average revenue:', surf_average_revenue)\n",
    "print()\n",
    "\n",
    "# Calculate the variances.\n",
    "ultimate_variance = ultimate_revenue_total.var()\n",
    "surf_variance = surf_revenue_total.var()\n",
    "print('ultimate variance:', ultimate_variance)\n",
    "print('surf variance:', surf_variance)\n",
    "print()\n",
    "\n",
    "# Calculate the standard deviation.\n",
    "ultimate_std = ultimate_revenue_total.std()\n",
    "surf_std = surf_revenue_total.std()\n",
    "print('ultimate std:', ultimate_std)\n",
    "print('surf std:', surf_std)"
   ]
  },
  {
   "cell_type": "markdown",
   "metadata": {},
   "source": [
    "**Formulate the null and alternative hypotheses and explain how.**\n",
    "\n",
    "We have two samples of monthly revenue totals: one from Ultimate users, and another from Surf users. The two samples are independent of each other. We want to compare the means of these two samples. \n",
    "\n",
    "A null hypothesis takes the form of \"the means of two populations are equal to each other\". So, in our case, the null hypothesis will be:\n",
    "\n",
    "* H0 = \"The average revenue from Ultimate calling plan users is equal to that of Surf.\"\n",
    "\n",
    "In case the null hypothesis is rejected, i.e. there is sufficient evidence against it, we need to set up the hypothesis for the not-equal-to alternative. So, in our case, the alternative hypothesis will be:\n",
    "\n",
    "* H1 = \"The average revenue from Ultimate calling plan users differs from that of Surf.\"\n",
    "\n",
    "\n",
    "**Explain the criterion you used to test the hypotheses and why.**\n",
    "\n",
    "Use Welch's t-test\n",
    "<br>Reason: Welch's t-test allows us to compare two data sets and not just the two mean values. The means of the Ultimate and Surf samples are different. Whether or not the difference between these numbers is significant depends on the variance of the samples, and the variances of the two samples are unequal (confirmed by the two values of standard deviation which are very far apart).\n",
    "\n",
    "Welch's test is an adaptation of Student's t-test, and is more reliable when the two samples have unequal variances and/or unequal sample sizes like they are in our case. \n",
    "\n",
    "\n",
    "When performing the statistical test, set the following criteria: \n",
    "* Set equal_var = False.\n",
    "<br>Reason: the variances of the two samples are different.\n",
    "* Set the statistical significance level of 5%, i.e. alpha = 0.05\n",
    "<br>Reason: since this is not a test that needs strict accuracy, I am using the most commonly used value. \n",
    "\n",
    "If the p-value is less than alpha, we reject the hypothesis. "
   ]
  },
  {
   "cell_type": "code",
   "execution_count": 102,
   "metadata": {},
   "outputs": [
    {
     "name": "stdout",
     "output_type": "stream",
     "text": [
      "p-value: 2.3248333100718407e-97\n",
      "We reject the null hypothesis\n"
     ]
    }
   ],
   "source": [
    "# Take the standard accepted value for the critical statistical significance.\n",
    "alpha = 0.05\n",
    "\n",
    "results = st.ttest_ind(ultimate_revenue_total, surf_revenue_total, equal_var = False)\n",
    "\n",
    "print('p-value:', results.pvalue)\n",
    "\n",
    "if results.pvalue < alpha:\n",
    "    print('We reject the null hypothesis')\n",
    "else:\n",
    "    print(\"We can't reject the null hypothesis\") "
   ]
  },
  {
   "cell_type": "markdown",
   "metadata": {},
   "source": [
    "[Observation] The p-value tells us that there is a 2.32 * 10^-95% probability of getting a difference that size or larger, assuming that H0 is correct. Since the p-value is very small, it indicates that such an extreme observed outcome would be very unlikely under the null hypothesis, meaning \"The average revenue from Ultimate calling plan users differs from that of Surf\". "
   ]
  },
  {
   "cell_type": "markdown",
   "metadata": {},
   "source": [
    "### Test the hypothesis: The average revenue from users in NY-NJ area is different from that of the users from other regions."
   ]
  },
  {
   "cell_type": "markdown",
   "metadata": {},
   "source": [
    "Perform some preliminary checks in order to know which statistical test to choose for checking the hypothesis."
   ]
  },
  {
   "cell_type": "code",
   "execution_count": 103,
   "metadata": {},
   "outputs": [
    {
     "name": "stdout",
     "output_type": "stream",
     "text": [
      "NY-NJ sample size: 377\n",
      "other sample size: 1916\n",
      "\n",
      "NY-NJ average revenue: 265.58\n",
      "other average revenue: 241.97\n",
      "\n",
      "NY-NJ variance: 21278.910913691518\n",
      "other variance: 23907.38687259039\n",
      "\n",
      "NY-NJ std: 145.87292728156078\n",
      "other std: 154.62013734501204\n"
     ]
    }
   ],
   "source": [
    "# Prepare arrays only with the monthly revenue total, one from the NY-NJ resident users and \n",
    "# another from those living in the rest of the areas.\n",
    "NY_NJ_revenue_total = total5.loc[total5.city.str.contains('NY-NJ'), 'monthly_revenue_total']\n",
    "other_revenue_total = total5.loc[~total5.city.str.contains('NY-NJ'), 'monthly_revenue_total']\n",
    "\n",
    "# View the datasets.\n",
    "#NY_NJ_revenue_total\n",
    "#other_revenue_total\n",
    "\n",
    "# Check the sample sizes.\n",
    "NY_NJ_sample_size = len(NY_NJ_revenue_total)\n",
    "other_sample_size = len(other_revenue_total)\n",
    "print('NY-NJ sample size:', NY_NJ_sample_size)\n",
    "print('other sample size:', other_sample_size)\n",
    "print()\n",
    "\n",
    "# Calculate the means of the monthly revenue totals.\n",
    "NY_NJ_average_revenue = round(NY_NJ_revenue_total.mean(), 2)\n",
    "other_average_revenue = round(other_revenue_total.mean(), 2)\n",
    "print('NY-NJ average revenue:', NY_NJ_average_revenue)\n",
    "print('other average revenue:', other_average_revenue)\n",
    "print()\n",
    "\n",
    "# Calculate the variances.\n",
    "NY_NJ_variance = NY_NJ_revenue_total.var()\n",
    "other_variance = other_revenue_total.var()\n",
    "print('NY-NJ variance:', NY_NJ_variance)\n",
    "print('other variance:', other_variance)\n",
    "print()\n",
    "\n",
    "# Calculate the standard deviation.\n",
    "NY_NJ_std = NY_NJ_revenue_total.std()\n",
    "other_std = other_revenue_total.std()\n",
    "print('NY-NJ std:', NY_NJ_std)\n",
    "print('other std:', other_std)"
   ]
  },
  {
   "cell_type": "markdown",
   "metadata": {},
   "source": [
    "[Observation] The standard deviation figures of the two samples are rather close. \n",
    "\n",
    "Check with Levene's test.\n",
    "\n",
    "A null hypothesis takes the form of \"the means of two populations are equal to each other\". So, in our case, the null hypothesis will be:\n",
    "\n",
    "* H0 = \"The standard deviation of the average revenue from users in NY-NJ area is the same as that of the average revenue from the users from other regions.\"\n",
    "\n",
    "In case the null hypothesis is rejected, i.e. there is sufficient evidence against it, we need to set up the hypothesis for the not-equal-to alternative. So, in our case, the alternative hypothesis will be:\n",
    "\n",
    "* H1 = \"The standard deviation of the average revenue from users in NY-NJ area is different from that of the average revenue from the users in other regions.\"\n",
    "\n",
    "Note: in Levene's tests, a small p-value suggests that the populations do NOT have equal variances, i.e.\n",
    "* if pvalue < 0.05, it implies unequal variances, therefore, go for H1\n",
    "* if pvalue >= 0.05, it implies equal variances, therefore, go for H0"
   ]
  },
  {
   "cell_type": "markdown",
   "metadata": {},
   "source": [
    "Check the data distribution to decide the median-based test or the mean-based test. "
   ]
  },
  {
   "cell_type": "code",
   "execution_count": 1,
   "metadata": {},
   "outputs": [
    {
     "ename": "NameError",
     "evalue": "name 'sns' is not defined",
     "output_type": "error",
     "traceback": [
      "\u001b[1;31m---------------------------------------------------------------------------\u001b[0m",
      "\u001b[1;31mNameError\u001b[0m                                 Traceback (most recent call last)",
      "\u001b[1;32m<ipython-input-1-fe003ef99c31>\u001b[0m in \u001b[0;36m<module>\u001b[1;34m\u001b[0m\n\u001b[0;32m      1\u001b[0m \u001b[1;31m# Plot boxplots for the data slices.\u001b[0m\u001b[1;33m\u001b[0m\u001b[1;33m\u001b[0m\u001b[1;33m\u001b[0m\u001b[0m\n\u001b[1;32m----> 2\u001b[1;33m \u001b[0msns\u001b[0m\u001b[1;33m.\u001b[0m\u001b[0mset_style\u001b[0m\u001b[1;33m(\u001b[0m\u001b[1;34m\"whitegrid\"\u001b[0m\u001b[1;33m)\u001b[0m\u001b[1;33m\u001b[0m\u001b[1;33m\u001b[0m\u001b[0m\n\u001b[0m\u001b[0;32m      3\u001b[0m \u001b[0mplt\u001b[0m\u001b[1;33m.\u001b[0m\u001b[0mfigure\u001b[0m\u001b[1;33m(\u001b[0m\u001b[0mfigsize\u001b[0m\u001b[1;33m=\u001b[0m\u001b[1;33m(\u001b[0m\u001b[1;36m10\u001b[0m\u001b[1;33m,\u001b[0m\u001b[1;36m6\u001b[0m\u001b[1;33m)\u001b[0m\u001b[1;33m)\u001b[0m\u001b[1;33m\u001b[0m\u001b[1;33m\u001b[0m\u001b[0m\n\u001b[0;32m      4\u001b[0m \u001b[0mplt\u001b[0m\u001b[1;33m.\u001b[0m\u001b[0msuptitle\u001b[0m\u001b[1;33m(\u001b[0m\u001b[1;34m\"Monthly Revenue Total from Each User\"\u001b[0m\u001b[1;33m)\u001b[0m\u001b[1;33m\u001b[0m\u001b[1;33m\u001b[0m\u001b[0m\n\u001b[0;32m      5\u001b[0m \u001b[0mplt\u001b[0m\u001b[1;33m.\u001b[0m\u001b[0mylabel\u001b[0m\u001b[1;33m(\u001b[0m\u001b[1;34m'Monthly Revenue Total'\u001b[0m\u001b[1;33m,\u001b[0m \u001b[0msize\u001b[0m\u001b[1;33m=\u001b[0m\u001b[1;34m'x-large'\u001b[0m\u001b[1;33m)\u001b[0m\u001b[1;33m\u001b[0m\u001b[1;33m\u001b[0m\u001b[0m\n",
      "\u001b[1;31mNameError\u001b[0m: name 'sns' is not defined"
     ]
    }
   ],
   "source": [
    "# Plot boxplots for the data slices. \n",
    "sns.set_style(\"whitegrid\")\n",
    "plt.figure(figsize=(10,6))\n",
    "plt.suptitle(\"Monthly Revenue Total from Each User\")\n",
    "plt.ylabel('Monthly Revenue Total', size='x-large')\n",
    "plt.xlabel('Calling Packages (1 = Surf, 2 = Ultimate)', size= 'x-large')\n",
    "plt.ticklabel_format(useOffset = False, style = 'plain', axis='y')\n",
    "plt.boxplot([NY_NJ_revenue_total, other_revenue_total])\n",
    "plt.show()"
   ]
  },
  {
   "cell_type": "markdown",
   "metadata": {},
   "source": [
    "[Observation] The graphs are skewed to the right. So go for the median-based test. "
   ]
  },
  {
   "cell_type": "code",
   "execution_count": 105,
   "metadata": {},
   "outputs": [
    {
     "name": "stdout",
     "output_type": "stream",
     "text": [
      "p-value_median: 0.2774915597507235\n",
      "We can't reject the null hypothesis centered at the median\n"
     ]
    }
   ],
   "source": [
    "# Take the standard accepted value for the critical statistical significance in both cases.\n",
    "alpha = 0.05\n",
    "\n",
    "# Levene's test centered at the median\n",
    "results2 = st.levene(NY_NJ_revenue_total, other_revenue_total, center='median')\n",
    "print('p-value_median:', results2.pvalue)\n",
    "\n",
    "if results2.pvalue < alpha:\n",
    "    print('We reject the null hypothesis centered at the median')\n",
    "else:\n",
    "    print(\"We can't reject the null hypothesis centered at the median\") "
   ]
  },
  {
   "cell_type": "markdown",
   "metadata": {},
   "source": [
    "[Observation] The pvalue is greater than 0.05, which means the variances of the two samples are equal, i.e. we go for H0."
   ]
  },
  {
   "cell_type": "markdown",
   "metadata": {},
   "source": [
    "<div class=\"alert alert-danger\">\n",
    "<b>Reviewer's comment v1:</b>\n",
    "    \n",
    "That is amazing that you managed to check and compare variances using Levene's test. \n",
    "\n",
    "Two remarks: \n",
    "   \n",
    "- The small p-value actually suggests that the populations do not have equal variances.\n",
    "    \n",
    "- We can decide which type of test to use (median or mean) based on the distribution of the data. You can additionally test data distribution type (e.g. Shapiro Wilk test). You can check various tests that can be used here - https://towardsdatascience.com/6-ways-to-test-for-a-normal-distribution-which-one-to-use-9dcf47d8fa93\n",
    "    \n",
    "    \n",
    "    From documentation: \n",
    "        Three variations of Levene’s test are possible. The possibilities and their recommended usages are:\n",
    "        ‘median’ : Recommended for skewed (non-normal) distributions>\n",
    "        ‘mean’ : Recommended for symmetric, moderate-tailed distributions.\n",
    "        ‘trimmed’ : Recommended for heavy-tailed distributions.\n",
    "</div>"
   ]
  },
  {
   "cell_type": "markdown",
   "metadata": {},
   "source": [
    "<div class=\"alert alert-info\"> <b>Student comments:</b> Thank you for pointing out. The pvalue is greater than 0.05, i.e. it is big, so the variances are equal, so I went with equal_var=True in the Welch's t-test below. I added the distribution test to determine whether to go for the median-base or the mean-base Levene's test. </div> "
   ]
  },
  {
   "cell_type": "markdown",
   "metadata": {},
   "source": [
    "<div class=\"alert alert-block alert-success\">\n",
    "<b>Reviewer's comment v2</b>\n",
    "\n",
    "Yes, that is true, pvalue was indeed not so small in the Levene's test.\n",
    "</div>"
   ]
  },
  {
   "cell_type": "markdown",
   "metadata": {},
   "source": [
    "**Formulate the null and alternative hypotheses and explain how.**\n",
    "\n",
    "We have two samples of monthly revenue totals: one from users living in the NY-NJ area, and another from users living in the rest of the areas. The two samples are independent of each other. We want to compare the means of these two samples. \n",
    "\n",
    "A null hypothesis takes the form of \"the means of two populations are equal to each other\". So, in our case, the null hypothesis will be:\n",
    "\n",
    "* H0 = \"The average revenue from users in NY-NJ area is the same as that of the users from other regions.\"\n",
    "\n",
    "In case the null hypothesis is rejected, i.e. there is sufficient evidence against it, we need to set up the hypothesis for the not-equal-to alternative. So, in our case, the alternative hypothesis will be:\n",
    "\n",
    "* H1 = \"The average revenue from users in NY-NJ area is different from that of the users in other regions.\"\n",
    "\n",
    "\n",
    "**Explain the criterion you used to test the hypotheses and why.**\n",
    "\n",
    "Use Welch's t-test\n",
    "<br>Reason: Welch's t-test allows us to compare two data sets and not just the two mean values. The means of the NY-NJ resident users and the users living in the rest of the areas are different, but not significantly enough. Levene's test tells us that the variances of the two samples are equal. The sizes of the two samples are very different.  \n",
    "\n",
    "When performing the statistical test, set the following criteria: \n",
    "* Set equal_var = True\n",
    "<br>Reason: the variances of the two samples are deemed equal.\n",
    "* Set the statistical significance level of 5%, i.e. alpha = 0.05\n",
    "<br>Reason: since this is not a test that needs strict accuracy, I am using the most commonly used value. \n",
    "\n",
    "If the p-value is less than alpha, we reject the hypothesis. "
   ]
  },
  {
   "cell_type": "code",
   "execution_count": 106,
   "metadata": {},
   "outputs": [
    {
     "name": "stdout",
     "output_type": "stream",
     "text": [
      "p-value: 0.006303007908069691\n",
      "We reject the null hypothesis\n"
     ]
    }
   ],
   "source": [
    "# Take the standard accepted value for the critical statistical significance.\n",
    "alpha = 0.05\n",
    "\n",
    "results4 = st.ttest_ind(NY_NJ_revenue_total, other_revenue_total, equal_var=True)\n",
    "\n",
    "print('p-value:', results4.pvalue)\n",
    "\n",
    "if results4.pvalue < alpha:\n",
    "    print('We reject the null hypothesis')\n",
    "else:\n",
    "    print(\"We can't reject the null hypothesis\") "
   ]
  },
  {
   "cell_type": "markdown",
   "metadata": {},
   "source": [
    "[Observation] The p-value tells us that there is a 0.63% probability of getting a difference that size or larger, assuming that H0 is correct. Since the p-value is smaller than the 5% threshold, it indicates that such an extreme observed outcome would be unlikely under the null hypothesis, meaning \"The average revenue from users in NY-NJ area is different from that of the users in other regions.\". "
   ]
  },
  {
   "cell_type": "markdown",
   "metadata": {},
   "source": [
    "<div class=\"alert alert-success\" role=\"alert\">\n",
    "<b>Reviewer's comment v1:</b>\n",
    "    \n",
    "- Overall you did a great job!  Hypotheses hav been formulated and tested correctly. Great that you additionally checked data that has been used for the test.\n",
    "- Nice that you've used Levene test to check variances."
   ]
  },
  {
   "cell_type": "markdown",
   "metadata": {},
   "source": [
    "## Overall conclusion"
   ]
  },
  {
   "cell_type": "markdown",
   "metadata": {},
   "source": [
    "[Executive summary]\n",
    "<br>So, of Surf and Ultimate, which prepaid plan brings in more revenue? Overall, Surf seems to be Megaline's flagship calling package. \n",
    "\n",
    "As an example of the \"Sell cheap, earn more\" sales model, Surf prepaid package was more profitable than Ultimate in terms of total monthly revenue over the period of a year in 2018, bringing in 94902.13 USD, almost twice as much as Ultimate revenue of 52066.00 USD. \n",
    "\n",
    "Both Ultimate and Surf started off rather slowly at the beginning of the year, but Surf quickly picked up a pace from the second month, and grew at a rate of 1.1 - 7.7 % every month in comparison to the Ultimate's rate of 1.2 - 1.8%. \n",
    "\n",
    "Surf and Ultimate package deals brought in 63442.13 USD and 1666 USD, respectively, in surchages during 2018, where Surf's figure is 38 times that of Ultimate.\n",
    "\n",
    "Surf package enjoyed twice as many subscribers as Ultimate. This was proportional to the cancellation rate as well, however, though based on very limited data.\n",
    "\n",
    "\n",
    "<br>Megaline may leverage the data to adjust the plans as follows:\n",
    "* Revise the number of monthly prepaid minutes in Ultimate to decrease from 3000. 3000 is too big a number that no customer will excceed. There is no big difference in the consumption behaviour between Ultimate and Surf customers. Find a good threshold that strikes a balance between being able to earn from surcharges and giving the customers an impression that they are still getting a good deal by paying 3.5 times the Surf package price. \n",
    "\n",
    "* Revise the number of monthly prepaid text messages in Ultimate to decrease from 1000. 1000 is too big a number that no customer will excceed. Ultimate customers are heavy texters. Perhaps, this is because the good package deal encourages them. Without damaging that, find a good threshold that strikes a balance between being able to earn from surcharges and giving the customers an impression that they are still getting a good deal by paying 3.5 times the Surf package price. \n",
    "\n",
    "* Promote the benefit of sending text messages. The data show 80 out of 500 customers each sent between zero and 10 text messages in the entire year. We need to tap into that potential market by first examining the possible reasons why 16% of the customers are not texting, then addressing those issues. \n",
    "\n",
    "* Find out some possible reasons for Ultimate customers consuming more data volume during the first half of the year to see if there is a correlation between their behaviour and a seasonal element, and attribute it to the customers receiving a free package of 30 GB as opposed to 15 GB. \n",
    "\n",
    "\n",
    "<br>[Specifics - Data preprocessing]\n",
    "* Missing values: no rows were deleted for missing a value. The 'churn_date' in the calls data was the only variable missing values, and it turned out to be MNAR - leaving the variable empty was a way of indicating that the customer was still actively using the calling package. In case I would have to perform calculations, I filled with empty values with today's date, a date very far in the future compared to the date values found in the column, which were all from the year 2018. \n",
    "\n",
    "* Data type conversion: the following variables were converted from object to datetime for ease of calculation: \n",
    "<br>o 'churn_date' (calls data)\n",
    "<br>o 'call_date' (calls data)\n",
    "<br>o 'session_date' (internet data)\n",
    "<br>o 'message_date' (messages data)\n",
    "<br>o 'reg_date' (users data)\n",
    "\n",
    "* Potentially illogical values: the following variables were observed to contain zero and were cleared as being legitimate:\n",
    "<br>o 'duration' (calls data)\n",
    "<br>o 'mb_used' (internet data)\n",
    "\n",
    "* Bug reporting: a bug report was filed on 'churn_date'. There were 'churn_date' values that were earlier than:\n",
    "<br>o 'reg_date' (users data): how can a customer leave a prepaid package deal before the registration date?\n",
    "<br>o 'call_date' (call data): how can a customer continue making calls after he has cancelled a prepaid package deal?\n",
    "<br>Since there was no logical way for me to take care of these records, I suggested to prepare a bug report, stating the nature of the issue, its possible cause and its consequences to the business, with a copy of the users data and call data csv files containing the problematic rows highlighted. \n",
    "\n",
    "* Duplicates: no rows were found to be duplicated column for column. \n",
    "\n",
    "* Aligning with Megaline prepaid plan policy: the data volume included in the two prepaid packages was expressed in MB, so I added the values in terms of GB to reflect the Megaline pricing policy for ease of calculation. \n",
    "\n",
    "* No variable renaming was required, nor the unification of inconsistent variable names.\n",
    "\n",
    "* Additional columns: as per instructed in the project description, the following variables were calculated and added to the dataset:\n",
    "<br>o the number of calls made and minutes used per month\n",
    "<br>o the number of text messages sent per month\n",
    "<br>o the volume of data per month\n",
    "<br>o the monthly revenue from each user\n",
    "\n",
    "\n",
    "<br>[Specifics - Analysis]\n",
    "* Calculated the monthly volume in call duration, sent messages and data consumption for each calling package. \n",
    "* Calculate the mean, variance, and standard deviation for the monthly volume of call duration, sent messages and data consumption for each calling package. \n",
    "* Plotted a histogram and a boxplot for the monthly volume in call duration, sent messages and data consumption for each calling package, and described the patterns in their distributions.\n",
    "* Described the behaviour of the customers subscribing to each calling package in terms of call duration, sent messages and data consumption. \n",
    "\n",
    "\n",
    "<br>[Specifics - Testing the hypotheses]\n",
    "* In the first case, the validity of the hypothesis: \n",
    "<br>The average revenue from users of Ultimate and Surf calling plans differs.\n",
    "was evaluated between two average revenue samples, one from Ultimate calling package and another from Surf calling package.  \n",
    "* A set of one null and one alternative hypotheses were formulated. \n",
    "* In a preliminary investigation, the sizes, mean revenues, variances and standard deviations of the two samples were estimated. \n",
    "* From the results of the prelimary investigation, Welch's t-test was selected as the appropriate testing method for testing the hypothesis. \n",
    "<br>o Since the variances of the two samples were not equal, the equal_var argument was set to False.\n",
    "<br>o The standard accepted value of 0.05 was set for the critical statistical significance (alpha) for both cases.\n",
    "* The test concluded with an extremely high certainty that \"The average revenue from Ultimate calling plan users differs from that of Surf\".\n",
    "<br>\n",
    "<br>\n",
    "\n",
    "* In the second case, the validity of the hypothesis: \n",
    "<br>The average revenue from users in NY-NJ area is different from that of the users from other regions.\n",
    "was evaluated between two average revenue samples, one from NY-NJ residents and another from calling package subscribers in the rest of the regions in the US.  \n",
    "* A set of one null and one alternative hypotheses were formulated. \n",
    "* In a preliminary investigation, the sizes, mean revenues, variances and standard deviations of the two samples were estimated. \n",
    "* From the results of the prelimary investigation, Welch's t-test was selected as the appropriate testing method for testing the hypothesis. \n",
    "<br>o Since the variances of the two samples were deemed equal by Levene's test, the equal_var argument was set to True.\n",
    "<br>o The standard accepted value of 0.05 was set for the critical statistical significance (alpha) for both cases.\n",
    "* The test concluded with certainty that \"The average revenue from users in NY-NJ area is different from that of the users in other regions.\"."
   ]
  },
  {
   "cell_type": "markdown",
   "metadata": {},
   "source": [
    "<div class=\"alert alert-success\" role=\"alert\">\n",
    "<b>Reviewer's comment v1:</b>\n",
    "    \n",
    "- Overall you conducted once again an outstanding research with correct interim findings, clean code and nice visualisation.\n",
    "- I like your overall conclusion. It is very structured and provides insights to the business. "
   ]
  },
  {
   "cell_type": "markdown",
   "metadata": {},
   "source": [
    "<div class=\"alert alert-info\"> <b>Student comments:</b> After adding and studying the frequency histogram and boxplot for the average message volume sent per user, I added a possible business suggestion (\"Promote the benefit of sending text messages.\"). Also, after re-examining the result of Levene's test, I adjusted the conclusion from \"a borerline case\" to \"a certain case\".</div> "
   ]
  },
  {
   "cell_type": "markdown",
   "metadata": {},
   "source": [
    "<div class=\"alert alert-success\" role=\"alert\">\n",
    "<b>Reviewer's comment v2:</b>\n",
    "\n",
    "Looks like text messages are no longer needed by the customers :) But that is a point of attention whether to promote or reduce the number of free messages.\n",
    "    \n",
    "PS: As a last thing, I can recommend cool lectures on stat analysis here: https://www.youtube.com/playlist?list=PL2SOU6wwxB0uwwH80KTQ6ht66KWxbzTIo 🙌\n",
    "<div>"
   ]
  }
 ],
 "metadata": {
  "ExecuteTimeLog": [
   {
    "duration": 126,
    "start_time": "2021-07-03T12:23:43.706Z"
   },
   {
    "duration": 1495,
    "start_time": "2021-07-03T12:24:54.017Z"
   },
   {
    "duration": 608,
    "start_time": "2021-07-03T12:25:09.455Z"
   },
   {
    "duration": 20,
    "start_time": "2021-07-03T12:25:47.424Z"
   },
   {
    "duration": 20,
    "start_time": "2021-07-03T12:25:55.534Z"
   },
   {
    "duration": 35,
    "start_time": "2021-07-03T12:26:00.989Z"
   },
   {
    "duration": 3,
    "start_time": "2021-07-03T12:26:20.126Z"
   },
   {
    "duration": 11,
    "start_time": "2021-07-03T12:26:33.352Z"
   },
   {
    "duration": 18,
    "start_time": "2021-07-03T12:26:38.927Z"
   },
   {
    "duration": 31,
    "start_time": "2021-07-03T12:26:44.903Z"
   },
   {
    "duration": 4,
    "start_time": "2021-07-03T12:26:51.734Z"
   },
   {
    "duration": 11,
    "start_time": "2021-07-03T12:27:05.033Z"
   },
   {
    "duration": 15,
    "start_time": "2021-07-03T12:27:11.289Z"
   },
   {
    "duration": 17,
    "start_time": "2021-07-03T12:27:16.543Z"
   },
   {
    "duration": 3,
    "start_time": "2021-07-03T12:27:22.063Z"
   },
   {
    "duration": 17,
    "start_time": "2021-07-03T12:27:34.200Z"
   },
   {
    "duration": 10,
    "start_time": "2021-07-03T12:27:39.952Z"
   },
   {
    "duration": 42,
    "start_time": "2021-07-03T12:27:46.920Z"
   },
   {
    "duration": 14,
    "start_time": "2021-07-03T12:27:59.800Z"
   },
   {
    "duration": 8,
    "start_time": "2021-07-03T12:28:05.480Z"
   },
   {
    "duration": 21,
    "start_time": "2021-07-03T12:28:10.441Z"
   },
   {
    "duration": 3,
    "start_time": "2021-07-03T12:28:19.080Z"
   },
   {
    "duration": 2,
    "start_time": "2021-07-03T12:28:22.649Z"
   },
   {
    "duration": 2,
    "start_time": "2021-07-03T12:28:28.016Z"
   },
   {
    "duration": 3,
    "start_time": "2021-07-03T12:28:31.834Z"
   },
   {
    "duration": 8,
    "start_time": "2021-07-03T12:29:38.598Z"
   },
   {
    "duration": 6,
    "start_time": "2021-07-03T12:29:52.091Z"
   },
   {
    "duration": 11,
    "start_time": "2021-07-03T12:29:56.001Z"
   },
   {
    "duration": 6,
    "start_time": "2021-07-03T12:30:08.570Z"
   },
   {
    "duration": 66,
    "start_time": "2021-07-03T12:30:20.206Z"
   },
   {
    "duration": 3,
    "start_time": "2021-07-03T12:30:31.435Z"
   },
   {
    "duration": 20,
    "start_time": "2021-07-03T12:30:38.131Z"
   },
   {
    "duration": 3,
    "start_time": "2021-07-03T12:30:42.074Z"
   },
   {
    "duration": 13,
    "start_time": "2021-07-03T12:30:46.121Z"
   },
   {
    "duration": 12,
    "start_time": "2021-07-03T12:31:26.458Z"
   },
   {
    "duration": 11,
    "start_time": "2021-07-03T12:31:35.571Z"
   },
   {
    "duration": 14,
    "start_time": "2021-07-03T12:32:16.019Z"
   },
   {
    "duration": 35,
    "start_time": "2021-07-03T12:32:33.411Z"
   },
   {
    "duration": 26,
    "start_time": "2021-07-03T12:32:41.315Z"
   },
   {
    "duration": 35,
    "start_time": "2021-07-03T12:33:12.118Z"
   },
   {
    "duration": 51,
    "start_time": "2021-07-03T12:35:03.684Z"
   },
   {
    "duration": 8,
    "start_time": "2021-07-03T12:35:49.164Z"
   },
   {
    "duration": 10,
    "start_time": "2021-07-03T12:36:12.140Z"
   },
   {
    "duration": 45,
    "start_time": "2021-07-03T12:37:00.492Z"
   },
   {
    "duration": 9,
    "start_time": "2021-07-03T12:37:07.868Z"
   },
   {
    "duration": 4,
    "start_time": "2021-07-03T12:38:01.111Z"
   },
   {
    "duration": 5,
    "start_time": "2021-07-03T12:38:18.998Z"
   },
   {
    "duration": 26,
    "start_time": "2021-07-03T12:38:47.510Z"
   },
   {
    "duration": 33,
    "start_time": "2021-07-03T12:38:54.101Z"
   },
   {
    "duration": 26,
    "start_time": "2021-07-03T12:39:01.181Z"
   },
   {
    "duration": 18,
    "start_time": "2021-07-03T12:39:12.310Z"
   },
   {
    "duration": 24,
    "start_time": "2021-07-03T12:39:16.541Z"
   },
   {
    "duration": 21,
    "start_time": "2021-07-03T12:39:30.782Z"
   },
   {
    "duration": 25,
    "start_time": "2021-07-03T12:39:35.181Z"
   },
   {
    "duration": 38,
    "start_time": "2021-07-03T12:39:47.951Z"
   },
   {
    "duration": 12,
    "start_time": "2021-07-03T12:39:54.806Z"
   },
   {
    "duration": 14,
    "start_time": "2021-07-03T12:40:00.174Z"
   },
   {
    "duration": 6,
    "start_time": "2021-07-03T12:40:05.070Z"
   },
   {
    "duration": 11,
    "start_time": "2021-07-03T12:40:18.039Z"
   },
   {
    "duration": 9,
    "start_time": "2021-07-03T12:40:22.342Z"
   },
   {
    "duration": 17,
    "start_time": "2021-07-03T12:40:27.262Z"
   },
   {
    "duration": 23,
    "start_time": "2021-07-03T12:40:46.095Z"
   },
   {
    "duration": 11,
    "start_time": "2021-07-03T12:41:09.183Z"
   },
   {
    "duration": 27,
    "start_time": "2021-07-03T12:42:19.391Z"
   },
   {
    "duration": 26,
    "start_time": "2021-07-03T12:42:49.167Z"
   },
   {
    "duration": 30,
    "start_time": "2021-07-03T12:43:11.311Z"
   },
   {
    "duration": 76,
    "start_time": "2021-07-03T12:43:30.536Z"
   },
   {
    "duration": 74,
    "start_time": "2021-07-03T12:43:57.710Z"
   },
   {
    "duration": 77,
    "start_time": "2021-07-03T12:44:15.576Z"
   },
   {
    "duration": 455,
    "start_time": "2021-07-03T12:44:30.848Z"
   },
   {
    "duration": 3,
    "start_time": "2021-07-03T12:44:38.928Z"
   },
   {
    "duration": 346,
    "start_time": "2021-07-03T12:44:54.904Z"
   },
   {
    "duration": 482,
    "start_time": "2021-07-03T12:45:00.608Z"
   },
   {
    "duration": 251,
    "start_time": "2021-07-03T12:45:07.111Z"
   },
   {
    "duration": 464,
    "start_time": "2021-07-03T12:45:20.913Z"
   },
   {
    "duration": 238,
    "start_time": "2021-07-03T12:45:27.609Z"
   },
   {
    "duration": 557,
    "start_time": "2021-07-03T12:45:33.264Z"
   },
   {
    "duration": 247,
    "start_time": "2021-07-03T12:45:40.024Z"
   },
   {
    "duration": 459,
    "start_time": "2021-07-03T12:45:52.337Z"
   },
   {
    "duration": 240,
    "start_time": "2021-07-03T12:45:59.192Z"
   },
   {
    "duration": 469,
    "start_time": "2021-07-03T12:46:03.865Z"
   },
   {
    "duration": 229,
    "start_time": "2021-07-03T12:46:09.520Z"
   },
   {
    "duration": 31,
    "start_time": "2021-07-03T12:46:50.430Z"
   },
   {
    "duration": 30,
    "start_time": "2021-07-03T12:46:56.890Z"
   },
   {
    "duration": 11,
    "start_time": "2021-07-03T12:47:20.217Z"
   },
   {
    "duration": 41,
    "start_time": "2021-07-03T12:47:32.722Z"
   },
   {
    "duration": 16,
    "start_time": "2021-07-03T12:48:59.333Z"
   },
   {
    "duration": 489,
    "start_time": "2021-07-03T12:49:19.298Z"
   },
   {
    "duration": 9,
    "start_time": "2021-07-03T12:51:08.710Z"
   },
   {
    "duration": 20,
    "start_time": "2021-07-03T12:51:27.965Z"
   },
   {
    "duration": 13,
    "start_time": "2021-07-03T12:51:43.379Z"
   },
   {
    "duration": 6,
    "start_time": "2021-07-03T12:52:06.396Z"
   },
   {
    "duration": 1580,
    "start_time": "2021-07-03T15:48:10.953Z"
   },
   {
    "duration": 652,
    "start_time": "2021-07-03T15:48:12.535Z"
   },
   {
    "duration": 22,
    "start_time": "2021-07-03T15:48:13.192Z"
   },
   {
    "duration": 47,
    "start_time": "2021-07-03T15:48:13.218Z"
   },
   {
    "duration": 50,
    "start_time": "2021-07-03T15:48:13.268Z"
   },
   {
    "duration": 4,
    "start_time": "2021-07-03T15:48:13.321Z"
   },
   {
    "duration": 49,
    "start_time": "2021-07-03T15:48:13.328Z"
   },
   {
    "duration": 25,
    "start_time": "2021-07-03T15:48:13.382Z"
   },
   {
    "duration": 71,
    "start_time": "2021-07-03T15:48:13.411Z"
   },
   {
    "duration": 4,
    "start_time": "2021-07-03T15:48:13.485Z"
   },
   {
    "duration": 27,
    "start_time": "2021-07-03T15:48:13.491Z"
   },
   {
    "duration": 45,
    "start_time": "2021-07-03T15:48:13.520Z"
   },
   {
    "duration": 25,
    "start_time": "2021-07-03T15:48:13.568Z"
   },
   {
    "duration": 4,
    "start_time": "2021-07-03T15:48:13.595Z"
   },
   {
    "duration": 31,
    "start_time": "2021-07-03T15:48:13.601Z"
   },
   {
    "duration": 13,
    "start_time": "2021-07-03T15:48:13.664Z"
   },
   {
    "duration": 100,
    "start_time": "2021-07-03T15:48:13.680Z"
   },
   {
    "duration": 16,
    "start_time": "2021-07-03T15:48:13.783Z"
   },
   {
    "duration": 27,
    "start_time": "2021-07-03T15:48:13.801Z"
   },
   {
    "duration": 63,
    "start_time": "2021-07-03T15:48:13.830Z"
   },
   {
    "duration": 21,
    "start_time": "2021-07-03T15:48:13.896Z"
   },
   {
    "duration": 25,
    "start_time": "2021-07-03T15:48:13.919Z"
   },
   {
    "duration": 21,
    "start_time": "2021-07-03T15:48:13.946Z"
   },
   {
    "duration": 39,
    "start_time": "2021-07-03T15:48:13.970Z"
   },
   {
    "duration": 34,
    "start_time": "2021-07-03T15:48:14.012Z"
   },
   {
    "duration": 38,
    "start_time": "2021-07-03T15:48:14.048Z"
   },
   {
    "duration": 35,
    "start_time": "2021-07-03T15:48:14.094Z"
   },
   {
    "duration": 14,
    "start_time": "2021-07-03T15:48:14.135Z"
   },
   {
    "duration": 88,
    "start_time": "2021-07-03T15:48:14.151Z"
   },
   {
    "duration": 23,
    "start_time": "2021-07-03T15:48:14.241Z"
   },
   {
    "duration": 22,
    "start_time": "2021-07-03T15:48:14.266Z"
   },
   {
    "duration": 15,
    "start_time": "2021-07-03T15:48:14.290Z"
   },
   {
    "duration": 102,
    "start_time": "2021-07-03T15:48:14.308Z"
   },
   {
    "duration": 10,
    "start_time": "2021-07-03T15:48:14.413Z"
   },
   {
    "duration": 73,
    "start_time": "2021-07-03T15:48:14.426Z"
   },
   {
    "duration": 9,
    "start_time": "2021-07-03T15:48:14.501Z"
   },
   {
    "duration": 9,
    "start_time": "2021-07-03T15:48:14.513Z"
   },
   {
    "duration": 40,
    "start_time": "2021-07-03T15:48:14.525Z"
   },
   {
    "duration": 34,
    "start_time": "2021-07-03T15:48:14.570Z"
   },
   {
    "duration": 32,
    "start_time": "2021-07-03T15:48:14.607Z"
   },
   {
    "duration": 49,
    "start_time": "2021-07-03T15:48:14.641Z"
   },
   {
    "duration": 16,
    "start_time": "2021-07-03T15:48:14.693Z"
   },
   {
    "duration": 59,
    "start_time": "2021-07-03T15:48:14.711Z"
   },
   {
    "duration": 25,
    "start_time": "2021-07-03T15:48:14.772Z"
   },
   {
    "duration": 24,
    "start_time": "2021-07-03T15:48:14.799Z"
   },
   {
    "duration": 97,
    "start_time": "2021-07-03T15:48:14.825Z"
   },
   {
    "duration": 37,
    "start_time": "2021-07-03T15:48:14.924Z"
   },
   {
    "duration": 16,
    "start_time": "2021-07-03T15:48:14.964Z"
   },
   {
    "duration": 9,
    "start_time": "2021-07-03T15:48:14.983Z"
   },
   {
    "duration": 24,
    "start_time": "2021-07-03T15:48:14.996Z"
   },
   {
    "duration": 38,
    "start_time": "2021-07-03T15:48:15.022Z"
   },
   {
    "duration": 25,
    "start_time": "2021-07-03T15:48:15.067Z"
   },
   {
    "duration": 23,
    "start_time": "2021-07-03T15:48:15.095Z"
   },
   {
    "duration": 55,
    "start_time": "2021-07-03T15:48:15.120Z"
   },
   {
    "duration": 34,
    "start_time": "2021-07-03T15:48:15.178Z"
   },
   {
    "duration": 71,
    "start_time": "2021-07-03T15:48:15.214Z"
   },
   {
    "duration": 133,
    "start_time": "2021-07-03T15:48:15.287Z"
   },
   {
    "duration": 128,
    "start_time": "2021-07-03T15:48:15.423Z"
   },
   {
    "duration": 146,
    "start_time": "2021-07-03T15:48:15.555Z"
   },
   {
    "duration": 710,
    "start_time": "2021-07-03T15:48:15.704Z"
   },
   {
    "duration": 4,
    "start_time": "2021-07-03T15:48:16.417Z"
   },
   {
    "duration": 264,
    "start_time": "2021-07-03T15:48:16.424Z"
   },
   {
    "duration": 693,
    "start_time": "2021-07-03T15:48:16.691Z"
   },
   {
    "duration": 279,
    "start_time": "2021-07-03T15:48:17.388Z"
   },
   {
    "duration": 476,
    "start_time": "2021-07-03T15:48:17.670Z"
   },
   {
    "duration": 287,
    "start_time": "2021-07-03T15:48:18.148Z"
   },
   {
    "duration": 621,
    "start_time": "2021-07-03T15:48:18.438Z"
   },
   {
    "duration": 271,
    "start_time": "2021-07-03T15:48:19.062Z"
   },
   {
    "duration": 527,
    "start_time": "2021-07-03T15:48:19.336Z"
   },
   {
    "duration": 253,
    "start_time": "2021-07-03T15:48:19.866Z"
   },
   {
    "duration": 523,
    "start_time": "2021-07-03T15:48:20.122Z"
   },
   {
    "duration": 261,
    "start_time": "2021-07-03T15:48:20.647Z"
   },
   {
    "duration": 12,
    "start_time": "2021-07-03T15:48:20.910Z"
   },
   {
    "duration": 67,
    "start_time": "2021-07-03T15:48:20.926Z"
   },
   {
    "duration": 21,
    "start_time": "2021-07-03T15:48:20.995Z"
   },
   {
    "duration": 41,
    "start_time": "2021-07-03T15:48:21.019Z"
   },
   {
    "duration": 45,
    "start_time": "2021-07-03T15:48:21.063Z"
   },
   {
    "duration": 17,
    "start_time": "2021-07-03T15:48:21.110Z"
   },
   {
    "duration": 16,
    "start_time": "2021-07-03T15:48:21.164Z"
   },
   {
    "duration": 22,
    "start_time": "2021-07-03T15:48:21.184Z"
   },
   {
    "duration": 54,
    "start_time": "2021-07-03T15:48:21.214Z"
   },
   {
    "duration": 16,
    "start_time": "2021-07-03T15:48:21.271Z"
   },
   {
    "duration": 1590,
    "start_time": "2021-07-04T10:07:42.663Z"
   },
   {
    "duration": 549,
    "start_time": "2021-07-04T10:07:44.256Z"
   },
   {
    "duration": 15,
    "start_time": "2021-07-04T10:07:44.808Z"
   },
   {
    "duration": 25,
    "start_time": "2021-07-04T10:07:44.825Z"
   },
   {
    "duration": 52,
    "start_time": "2021-07-04T10:07:44.852Z"
   },
   {
    "duration": 2,
    "start_time": "2021-07-04T10:07:44.907Z"
   },
   {
    "duration": 13,
    "start_time": "2021-07-04T10:07:44.912Z"
   },
   {
    "duration": 18,
    "start_time": "2021-07-04T10:07:44.929Z"
   },
   {
    "duration": 59,
    "start_time": "2021-07-04T10:07:44.950Z"
   },
   {
    "duration": 4,
    "start_time": "2021-07-04T10:07:45.011Z"
   },
   {
    "duration": 22,
    "start_time": "2021-07-04T10:07:45.017Z"
   },
   {
    "duration": 16,
    "start_time": "2021-07-04T10:07:45.042Z"
   },
   {
    "duration": 42,
    "start_time": "2021-07-04T10:07:45.060Z"
   },
   {
    "duration": 3,
    "start_time": "2021-07-04T10:07:45.104Z"
   },
   {
    "duration": 15,
    "start_time": "2021-07-04T10:07:45.110Z"
   },
   {
    "duration": 14,
    "start_time": "2021-07-04T10:07:45.127Z"
   },
   {
    "duration": 68,
    "start_time": "2021-07-04T10:07:45.143Z"
   },
   {
    "duration": 14,
    "start_time": "2021-07-04T10:07:45.214Z"
   },
   {
    "duration": 14,
    "start_time": "2021-07-04T10:07:45.231Z"
   },
   {
    "duration": 22,
    "start_time": "2021-07-04T10:07:45.248Z"
   },
   {
    "duration": 29,
    "start_time": "2021-07-04T10:07:45.273Z"
   },
   {
    "duration": 6,
    "start_time": "2021-07-04T10:07:45.305Z"
   },
   {
    "duration": 3,
    "start_time": "2021-07-04T10:07:45.319Z"
   },
   {
    "duration": 4,
    "start_time": "2021-07-04T10:07:45.327Z"
   },
   {
    "duration": 13,
    "start_time": "2021-07-04T10:07:45.333Z"
   },
   {
    "duration": 52,
    "start_time": "2021-07-04T10:07:45.349Z"
   },
   {
    "duration": 16,
    "start_time": "2021-07-04T10:07:45.403Z"
   },
   {
    "duration": 8,
    "start_time": "2021-07-04T10:07:45.422Z"
   },
   {
    "duration": 76,
    "start_time": "2021-07-04T10:07:45.432Z"
   },
   {
    "duration": 19,
    "start_time": "2021-07-04T10:07:45.510Z"
   },
   {
    "duration": 10,
    "start_time": "2021-07-04T10:07:45.532Z"
   },
   {
    "duration": 15,
    "start_time": "2021-07-04T10:07:45.544Z"
   },
   {
    "duration": 80,
    "start_time": "2021-07-04T10:07:45.561Z"
   },
   {
    "duration": 9,
    "start_time": "2021-07-04T10:07:45.643Z"
   },
   {
    "duration": 66,
    "start_time": "2021-07-04T10:07:45.654Z"
   },
   {
    "duration": 7,
    "start_time": "2021-07-04T10:07:45.723Z"
   },
   {
    "duration": 9,
    "start_time": "2021-07-04T10:07:45.732Z"
   },
   {
    "duration": 12,
    "start_time": "2021-07-04T10:07:45.743Z"
   },
   {
    "duration": 43,
    "start_time": "2021-07-04T10:07:45.758Z"
   },
   {
    "duration": 34,
    "start_time": "2021-07-04T10:07:45.803Z"
   },
   {
    "duration": 24,
    "start_time": "2021-07-04T10:07:45.839Z"
   },
   {
    "duration": 40,
    "start_time": "2021-07-04T10:07:45.866Z"
   },
   {
    "duration": 21,
    "start_time": "2021-07-04T10:07:45.908Z"
   },
   {
    "duration": 18,
    "start_time": "2021-07-04T10:07:45.932Z"
   },
   {
    "duration": 54,
    "start_time": "2021-07-04T10:07:45.952Z"
   },
   {
    "duration": 35,
    "start_time": "2021-07-04T10:07:46.008Z"
   },
   {
    "duration": 11,
    "start_time": "2021-07-04T10:07:46.045Z"
   },
   {
    "duration": 14,
    "start_time": "2021-07-04T10:07:46.058Z"
   },
   {
    "duration": 30,
    "start_time": "2021-07-04T10:07:46.074Z"
   },
   {
    "duration": 17,
    "start_time": "2021-07-04T10:07:46.106Z"
   },
   {
    "duration": 7,
    "start_time": "2021-07-04T10:07:46.125Z"
   },
   {
    "duration": 17,
    "start_time": "2021-07-04T10:07:46.134Z"
   },
   {
    "duration": 49,
    "start_time": "2021-07-04T10:07:46.154Z"
   },
   {
    "duration": 27,
    "start_time": "2021-07-04T10:07:46.206Z"
   },
   {
    "duration": 26,
    "start_time": "2021-07-04T10:07:46.235Z"
   },
   {
    "duration": 58,
    "start_time": "2021-07-04T10:07:46.263Z"
   },
   {
    "duration": 98,
    "start_time": "2021-07-04T10:07:46.323Z"
   },
   {
    "duration": 79,
    "start_time": "2021-07-04T10:07:46.423Z"
   },
   {
    "duration": 75,
    "start_time": "2021-07-04T10:07:46.504Z"
   },
   {
    "duration": 438,
    "start_time": "2021-07-04T10:07:46.600Z"
   },
   {
    "duration": 3,
    "start_time": "2021-07-04T10:07:47.040Z"
   },
   {
    "duration": 237,
    "start_time": "2021-07-04T10:07:47.046Z"
   },
   {
    "duration": 454,
    "start_time": "2021-07-04T10:07:47.285Z"
   },
   {
    "duration": 241,
    "start_time": "2021-07-04T10:07:47.743Z"
   },
   {
    "duration": 430,
    "start_time": "2021-07-04T10:07:47.987Z"
   },
   {
    "duration": 246,
    "start_time": "2021-07-04T10:07:48.420Z"
   },
   {
    "duration": 520,
    "start_time": "2021-07-04T10:07:48.669Z"
   },
   {
    "duration": 353,
    "start_time": "2021-07-04T10:07:49.201Z"
   },
   {
    "duration": 453,
    "start_time": "2021-07-04T10:07:49.557Z"
   },
   {
    "duration": 260,
    "start_time": "2021-07-04T10:07:50.012Z"
   },
   {
    "duration": 482,
    "start_time": "2021-07-04T10:07:50.274Z"
   },
   {
    "duration": 230,
    "start_time": "2021-07-04T10:07:50.759Z"
   },
   {
    "duration": 19,
    "start_time": "2021-07-04T10:07:50.992Z"
   },
   {
    "duration": 28,
    "start_time": "2021-07-04T10:07:51.014Z"
   },
   {
    "duration": 18,
    "start_time": "2021-07-04T10:07:51.044Z"
   },
   {
    "duration": 12,
    "start_time": "2021-07-04T10:07:51.100Z"
   },
   {
    "duration": 42,
    "start_time": "2021-07-04T10:07:51.114Z"
   },
   {
    "duration": 16,
    "start_time": "2021-07-04T10:07:51.159Z"
   },
   {
    "duration": 7,
    "start_time": "2021-07-04T10:07:51.201Z"
   },
   {
    "duration": 21,
    "start_time": "2021-07-04T10:07:51.210Z"
   },
   {
    "duration": 11,
    "start_time": "2021-07-04T10:07:51.234Z"
   },
   {
    "duration": 53,
    "start_time": "2021-07-04T10:07:51.248Z"
   },
   {
    "duration": 5,
    "start_time": "2021-07-04T10:19:48.391Z"
   },
   {
    "duration": 525,
    "start_time": "2021-07-04T10:19:48.961Z"
   },
   {
    "duration": 24,
    "start_time": "2021-07-04T10:19:59.451Z"
   },
   {
    "duration": 8,
    "start_time": "2021-07-04T10:20:12.186Z"
   },
   {
    "duration": 7,
    "start_time": "2021-07-04T10:24:07.493Z"
   },
   {
    "duration": 13,
    "start_time": "2021-07-04T10:24:22.544Z"
   },
   {
    "duration": 19,
    "start_time": "2021-07-04T10:24:27.361Z"
   },
   {
    "duration": 29,
    "start_time": "2021-07-04T10:25:23.907Z"
   },
   {
    "duration": 19,
    "start_time": "2021-07-04T10:25:27.429Z"
   },
   {
    "duration": 23,
    "start_time": "2021-07-04T10:25:44.188Z"
   },
   {
    "duration": 34,
    "start_time": "2021-07-04T10:25:51.223Z"
   },
   {
    "duration": 22,
    "start_time": "2021-07-04T10:25:51.495Z"
   },
   {
    "duration": 423,
    "start_time": "2021-07-04T10:26:05.255Z"
   },
   {
    "duration": 14,
    "start_time": "2021-07-04T10:26:08.457Z"
   },
   {
    "duration": 9,
    "start_time": "2021-07-04T10:26:18.471Z"
   },
   {
    "duration": 39,
    "start_time": "2021-07-04T10:26:58.865Z"
   },
   {
    "duration": 9,
    "start_time": "2021-07-04T10:27:15.486Z"
   },
   {
    "duration": 18,
    "start_time": "2021-07-04T10:27:18.997Z"
   },
   {
    "duration": 8,
    "start_time": "2021-07-04T10:28:40.936Z"
   },
   {
    "duration": 10,
    "start_time": "2021-07-04T10:28:54.788Z"
   },
   {
    "duration": 50,
    "start_time": "2021-07-04T10:38:17.379Z"
   },
   {
    "duration": 7,
    "start_time": "2021-07-04T10:39:06.670Z"
   },
   {
    "duration": 47,
    "start_time": "2021-07-04T10:39:58.340Z"
   },
   {
    "duration": 23,
    "start_time": "2021-07-04T10:40:12.141Z"
   },
   {
    "duration": 7,
    "start_time": "2021-07-04T10:42:35.419Z"
   },
   {
    "duration": 10,
    "start_time": "2021-07-04T10:42:42.134Z"
   },
   {
    "duration": 10,
    "start_time": "2021-07-04T10:42:48.546Z"
   },
   {
    "duration": 9,
    "start_time": "2021-07-04T10:42:58.363Z"
   },
   {
    "duration": 7,
    "start_time": "2021-07-04T10:43:16.231Z"
   },
   {
    "duration": 41,
    "start_time": "2021-07-04T10:50:13.350Z"
   },
   {
    "duration": 37,
    "start_time": "2021-07-04T10:50:17.661Z"
   },
   {
    "duration": 35,
    "start_time": "2021-07-04T10:50:22.343Z"
   },
   {
    "duration": 109,
    "start_time": "2021-07-04T13:53:56.017Z"
   },
   {
    "duration": 1455,
    "start_time": "2021-07-04T13:54:26.734Z"
   },
   {
    "duration": 1136,
    "start_time": "2021-07-04T13:54:28.192Z"
   },
   {
    "duration": 7,
    "start_time": "2021-07-04T13:54:40.533Z"
   },
   {
    "duration": 15,
    "start_time": "2021-07-04T13:54:40.992Z"
   },
   {
    "duration": 7,
    "start_time": "2021-07-04T13:54:43.205Z"
   },
   {
    "duration": 70,
    "start_time": "2021-07-04T13:54:44.224Z"
   },
   {
    "duration": 6,
    "start_time": "2021-07-04T13:54:54.686Z"
   },
   {
    "duration": 25,
    "start_time": "2021-07-04T13:54:58.338Z"
   },
   {
    "duration": 35,
    "start_time": "2021-07-04T13:54:58.569Z"
   },
   {
    "duration": 26,
    "start_time": "2021-07-04T13:54:59.391Z"
   },
   {
    "duration": 17,
    "start_time": "2021-07-04T13:55:01.415Z"
   },
   {
    "duration": 22,
    "start_time": "2021-07-04T13:55:01.792Z"
   },
   {
    "duration": 22,
    "start_time": "2021-07-04T13:55:02.910Z"
   },
   {
    "duration": 25,
    "start_time": "2021-07-04T13:55:04.823Z"
   },
   {
    "duration": 495,
    "start_time": "2021-07-04T13:55:37.104Z"
   },
   {
    "duration": 368,
    "start_time": "2021-07-04T13:57:07.778Z"
   },
   {
    "duration": 5,
    "start_time": "2021-07-04T13:57:35.117Z"
   },
   {
    "duration": 59,
    "start_time": "2021-07-04T13:57:43.493Z"
   },
   {
    "duration": 38,
    "start_time": "2021-07-04T13:57:55.449Z"
   },
   {
    "duration": 5,
    "start_time": "2021-07-04T13:58:03.981Z"
   },
   {
    "duration": 614,
    "start_time": "2021-07-04T13:58:04.712Z"
   },
   {
    "duration": 7,
    "start_time": "2021-07-04T13:58:13.709Z"
   },
   {
    "duration": 11,
    "start_time": "2021-07-04T13:58:15.406Z"
   },
   {
    "duration": 6,
    "start_time": "2021-07-04T13:58:17.919Z"
   },
   {
    "duration": 64,
    "start_time": "2021-07-04T13:58:20.159Z"
   },
   {
    "duration": 5,
    "start_time": "2021-07-04T13:58:28.094Z"
   },
   {
    "duration": 26,
    "start_time": "2021-07-04T13:58:31.576Z"
   },
   {
    "duration": 34,
    "start_time": "2021-07-04T13:58:31.605Z"
   },
   {
    "duration": 33,
    "start_time": "2021-07-04T13:58:31.642Z"
   },
   {
    "duration": 18,
    "start_time": "2021-07-04T13:58:32.502Z"
   },
   {
    "duration": 24,
    "start_time": "2021-07-04T13:58:32.991Z"
   },
   {
    "duration": 22,
    "start_time": "2021-07-04T13:58:36.679Z"
   },
   {
    "duration": 23,
    "start_time": "2021-07-04T13:58:37.175Z"
   },
   {
    "duration": 37,
    "start_time": "2021-07-04T13:58:40.383Z"
   },
   {
    "duration": 38,
    "start_time": "2021-07-04T13:59:23.304Z"
   },
   {
    "duration": 37,
    "start_time": "2021-07-04T13:59:31.207Z"
   },
   {
    "duration": 49,
    "start_time": "2021-07-04T13:59:47.191Z"
   },
   {
    "duration": 13,
    "start_time": "2021-07-04T14:04:13.474Z"
   },
   {
    "duration": 17,
    "start_time": "2021-07-04T14:05:11.399Z"
   },
   {
    "duration": 6,
    "start_time": "2021-07-04T14:05:51.424Z"
   },
   {
    "duration": 38,
    "start_time": "2021-07-04T14:05:52.816Z"
   },
   {
    "duration": 25,
    "start_time": "2021-07-04T14:06:27.984Z"
   },
   {
    "duration": 23,
    "start_time": "2021-07-04T14:06:49.599Z"
   },
   {
    "duration": 23,
    "start_time": "2021-07-04T14:07:38.223Z"
   },
   {
    "duration": 7,
    "start_time": "2021-07-04T14:07:51.534Z"
   },
   {
    "duration": 24,
    "start_time": "2021-07-04T14:08:05.271Z"
   },
   {
    "duration": 22,
    "start_time": "2021-07-04T14:09:55.501Z"
   },
   {
    "duration": 39,
    "start_time": "2021-07-04T14:10:00.689Z"
   },
   {
    "duration": 13,
    "start_time": "2021-07-04T14:10:14.839Z"
   },
   {
    "duration": 14,
    "start_time": "2021-07-04T14:11:12.600Z"
   },
   {
    "duration": 6,
    "start_time": "2021-07-04T14:11:15.611Z"
   },
   {
    "duration": 19,
    "start_time": "2021-07-04T14:13:33.282Z"
   },
   {
    "duration": 16,
    "start_time": "2021-07-04T14:13:50.039Z"
   },
   {
    "duration": 6,
    "start_time": "2021-07-04T14:13:58.519Z"
   },
   {
    "duration": 29,
    "start_time": "2021-07-04T14:14:03.527Z"
   },
   {
    "duration": 23,
    "start_time": "2021-07-04T14:14:06.567Z"
   },
   {
    "duration": 28,
    "start_time": "2021-07-04T14:14:29.952Z"
   },
   {
    "duration": 30,
    "start_time": "2021-07-04T14:14:37.310Z"
   },
   {
    "duration": 28,
    "start_time": "2021-07-04T14:14:49.199Z"
   },
   {
    "duration": 23,
    "start_time": "2021-07-04T14:14:56.449Z"
   },
   {
    "duration": 38,
    "start_time": "2021-07-04T14:15:16.200Z"
   },
   {
    "duration": 37,
    "start_time": "2021-07-04T14:15:43.599Z"
   },
   {
    "duration": 37,
    "start_time": "2021-07-04T14:15:51.400Z"
   },
   {
    "duration": 6,
    "start_time": "2021-07-04T14:16:31.112Z"
   },
   {
    "duration": 23,
    "start_time": "2021-07-04T14:16:34.153Z"
   },
   {
    "duration": 455,
    "start_time": "2021-07-04T14:22:40.992Z"
   },
   {
    "duration": 5,
    "start_time": "2021-07-04T14:22:54.032Z"
   },
   {
    "duration": 589,
    "start_time": "2021-07-04T14:22:54.873Z"
   },
   {
    "duration": 8,
    "start_time": "2021-07-04T14:23:05.391Z"
   },
   {
    "duration": 14,
    "start_time": "2021-07-04T14:23:05.826Z"
   },
   {
    "duration": 6,
    "start_time": "2021-07-04T14:23:08.737Z"
   },
   {
    "duration": 66,
    "start_time": "2021-07-04T14:23:13.097Z"
   },
   {
    "duration": 14,
    "start_time": "2021-07-04T14:23:17.658Z"
   },
   {
    "duration": 13,
    "start_time": "2021-07-04T14:23:17.674Z"
   },
   {
    "duration": 6,
    "start_time": "2021-07-04T14:23:29.870Z"
   },
   {
    "duration": 15,
    "start_time": "2021-07-04T14:23:33.482Z"
   },
   {
    "duration": 4,
    "start_time": "2021-07-04T14:23:42.344Z"
   },
   {
    "duration": 25,
    "start_time": "2021-07-04T14:23:46.129Z"
   },
   {
    "duration": 6,
    "start_time": "2021-07-04T14:23:47.648Z"
   },
   {
    "duration": 31,
    "start_time": "2021-07-04T14:23:48.857Z"
   },
   {
    "duration": 22,
    "start_time": "2021-07-04T14:23:56.761Z"
   },
   {
    "duration": 22,
    "start_time": "2021-07-04T14:24:01.730Z"
   },
   {
    "duration": 25,
    "start_time": "2021-07-04T14:24:02.353Z"
   },
   {
    "duration": 21,
    "start_time": "2021-07-04T14:24:05.433Z"
   },
   {
    "duration": 6,
    "start_time": "2021-07-04T14:24:06.932Z"
   },
   {
    "duration": 26,
    "start_time": "2021-07-04T14:24:10.129Z"
   },
   {
    "duration": 60,
    "start_time": "2021-07-04T14:24:14.062Z"
   },
   {
    "duration": 14,
    "start_time": "2021-07-04T14:24:20.104Z"
   },
   {
    "duration": 14,
    "start_time": "2021-07-04T14:24:20.577Z"
   },
   {
    "duration": 5,
    "start_time": "2021-07-04T14:24:23.281Z"
   },
   {
    "duration": 16,
    "start_time": "2021-07-04T14:24:35.265Z"
   },
   {
    "duration": 46,
    "start_time": "2021-07-04T14:25:33.099Z"
   },
   {
    "duration": 14,
    "start_time": "2021-07-04T14:25:47.808Z"
   },
   {
    "duration": 8,
    "start_time": "2021-07-04T14:25:56.279Z"
   },
   {
    "duration": 24,
    "start_time": "2021-07-04T14:27:31.494Z"
   },
   {
    "duration": 30,
    "start_time": "2021-07-04T14:42:04.008Z"
   },
   {
    "duration": 27,
    "start_time": "2021-07-04T14:42:10.720Z"
   },
   {
    "duration": 27,
    "start_time": "2021-07-04T14:42:19.354Z"
   },
   {
    "duration": 76,
    "start_time": "2021-07-04T14:42:33.001Z"
   },
   {
    "duration": 74,
    "start_time": "2021-07-04T14:42:42.696Z"
   },
   {
    "duration": 116,
    "start_time": "2021-07-04T14:42:52.611Z"
   },
   {
    "duration": 447,
    "start_time": "2021-07-04T14:43:24.281Z"
   },
   {
    "duration": 3,
    "start_time": "2021-07-04T14:43:45.160Z"
   },
   {
    "duration": 302,
    "start_time": "2021-07-04T14:43:57.073Z"
   },
   {
    "duration": 504,
    "start_time": "2021-07-04T14:44:01.834Z"
   },
   {
    "duration": 246,
    "start_time": "2021-07-04T14:44:07.579Z"
   },
   {
    "duration": 444,
    "start_time": "2021-07-04T14:44:19.275Z"
   },
   {
    "duration": 384,
    "start_time": "2021-07-04T14:44:24.908Z"
   },
   {
    "duration": 563,
    "start_time": "2021-07-04T14:44:26.354Z"
   },
   {
    "duration": 245,
    "start_time": "2021-07-04T14:44:27.834Z"
   },
   {
    "duration": 463,
    "start_time": "2021-07-04T14:44:35.146Z"
   },
   {
    "duration": 454,
    "start_time": "2021-07-04T14:44:36.339Z"
   },
   {
    "duration": 509,
    "start_time": "2021-07-04T14:44:38.900Z"
   },
   {
    "duration": 257,
    "start_time": "2021-07-04T14:44:40.017Z"
   },
   {
    "duration": 11,
    "start_time": "2021-07-04T14:54:45.660Z"
   },
   {
    "duration": 481,
    "start_time": "2021-07-04T14:55:04.193Z"
   },
   {
    "duration": 386,
    "start_time": "2021-07-04T14:55:29.149Z"
   },
   {
    "duration": 337,
    "start_time": "2021-07-04T14:59:53.210Z"
   },
   {
    "duration": 350,
    "start_time": "2021-07-04T14:59:59.547Z"
   },
   {
    "duration": 14,
    "start_time": "2021-07-04T15:00:05.313Z"
   },
   {
    "duration": 17,
    "start_time": "2021-07-04T15:05:08.779Z"
   },
   {
    "duration": 372,
    "start_time": "2021-07-04T15:05:28.420Z"
   },
   {
    "duration": 35,
    "start_time": "2021-07-04T15:08:35.091Z"
   },
   {
    "duration": 3,
    "start_time": "2021-07-04T15:08:42.822Z"
   },
   {
    "duration": 12,
    "start_time": "2021-07-04T15:16:19.469Z"
   },
   {
    "duration": 12,
    "start_time": "2021-07-04T15:16:38.756Z"
   },
   {
    "duration": 466,
    "start_time": "2021-07-04T15:19:01.692Z"
   },
   {
    "duration": 5,
    "start_time": "2021-07-04T15:19:22.051Z"
   },
   {
    "duration": 833,
    "start_time": "2021-07-04T15:19:22.645Z"
   },
   {
    "duration": 12,
    "start_time": "2021-07-04T15:19:28.987Z"
   },
   {
    "duration": 13,
    "start_time": "2021-07-04T15:19:29.309Z"
   },
   {
    "duration": 8,
    "start_time": "2021-07-04T15:19:29.972Z"
   },
   {
    "duration": 77,
    "start_time": "2021-07-04T15:19:30.477Z"
   },
   {
    "duration": 13,
    "start_time": "2021-07-04T15:19:30.964Z"
   },
   {
    "duration": 13,
    "start_time": "2021-07-04T15:19:31.174Z"
   },
   {
    "duration": 18,
    "start_time": "2021-07-04T15:19:32.012Z"
   },
   {
    "duration": 64,
    "start_time": "2021-07-04T15:19:32.201Z"
   },
   {
    "duration": 11,
    "start_time": "2021-07-04T15:19:32.429Z"
   },
   {
    "duration": 48,
    "start_time": "2021-07-04T15:19:32.612Z"
   },
   {
    "duration": 8,
    "start_time": "2021-07-04T15:19:32.831Z"
   },
   {
    "duration": 3,
    "start_time": "2021-07-04T15:19:33.660Z"
   },
   {
    "duration": 5,
    "start_time": "2021-07-04T15:19:34.189Z"
   },
   {
    "duration": 26,
    "start_time": "2021-07-04T15:19:35.796Z"
   },
   {
    "duration": 6,
    "start_time": "2021-07-04T15:19:36.164Z"
   },
   {
    "duration": 36,
    "start_time": "2021-07-04T15:19:36.396Z"
   },
   {
    "duration": 23,
    "start_time": "2021-07-04T15:19:36.550Z"
   },
   {
    "duration": 20,
    "start_time": "2021-07-04T15:19:37.045Z"
   },
   {
    "duration": 23,
    "start_time": "2021-07-04T15:19:37.237Z"
   },
   {
    "duration": 21,
    "start_time": "2021-07-04T15:19:37.996Z"
   },
   {
    "duration": 8,
    "start_time": "2021-07-04T15:19:38.388Z"
   },
   {
    "duration": 25,
    "start_time": "2021-07-04T15:19:39.108Z"
   },
   {
    "duration": 40,
    "start_time": "2021-07-04T15:19:39.724Z"
   },
   {
    "duration": 12,
    "start_time": "2021-07-04T15:19:40.748Z"
   },
   {
    "duration": 12,
    "start_time": "2021-07-04T15:19:41.076Z"
   },
   {
    "duration": 6,
    "start_time": "2021-07-04T15:19:41.404Z"
   },
   {
    "duration": 11,
    "start_time": "2021-07-04T15:19:42.028Z"
   },
   {
    "duration": 17,
    "start_time": "2021-07-04T15:19:42.981Z"
   },
   {
    "duration": 8,
    "start_time": "2021-07-04T15:19:44.244Z"
   },
   {
    "duration": 23,
    "start_time": "2021-07-04T15:20:30.782Z"
   },
   {
    "duration": 29,
    "start_time": "2021-07-04T15:20:34.900Z"
   },
   {
    "duration": 29,
    "start_time": "2021-07-04T15:20:36.623Z"
   },
   {
    "duration": 31,
    "start_time": "2021-07-04T15:20:38.157Z"
   },
   {
    "duration": 81,
    "start_time": "2021-07-04T15:20:40.141Z"
   },
   {
    "duration": 75,
    "start_time": "2021-07-04T15:20:40.883Z"
   },
   {
    "duration": 76,
    "start_time": "2021-07-04T15:20:43.084Z"
   },
   {
    "duration": 467,
    "start_time": "2021-07-04T15:20:43.245Z"
   },
   {
    "duration": 4,
    "start_time": "2021-07-04T15:20:44.788Z"
   },
   {
    "duration": 275,
    "start_time": "2021-07-04T15:20:44.999Z"
   },
   {
    "duration": 489,
    "start_time": "2021-07-04T15:20:45.871Z"
   },
   {
    "duration": 263,
    "start_time": "2021-07-04T15:20:46.363Z"
   },
   {
    "duration": 568,
    "start_time": "2021-07-04T15:20:47.396Z"
   },
   {
    "duration": 243,
    "start_time": "2021-07-04T15:20:48.198Z"
   },
   {
    "duration": 491,
    "start_time": "2021-07-04T15:20:48.587Z"
   },
   {
    "duration": 292,
    "start_time": "2021-07-04T15:20:49.082Z"
   },
   {
    "duration": 457,
    "start_time": "2021-07-04T15:20:49.836Z"
   },
   {
    "duration": 243,
    "start_time": "2021-07-04T15:20:50.380Z"
   },
   {
    "duration": 508,
    "start_time": "2021-07-04T15:20:50.853Z"
   },
   {
    "duration": 260,
    "start_time": "2021-07-04T15:20:51.412Z"
   },
   {
    "duration": 32,
    "start_time": "2021-07-04T15:23:14.108Z"
   },
   {
    "duration": 5,
    "start_time": "2021-07-04T15:24:25.660Z"
   },
   {
    "duration": 4,
    "start_time": "2021-07-04T15:24:52.459Z"
   },
   {
    "duration": 6,
    "start_time": "2021-07-04T15:24:59.748Z"
   },
   {
    "duration": 11,
    "start_time": "2021-07-04T15:29:30.755Z"
   },
   {
    "duration": 346,
    "start_time": "2021-07-04T15:30:05.486Z"
   },
   {
    "duration": 403,
    "start_time": "2021-07-04T15:30:12.557Z"
   },
   {
    "duration": 5,
    "start_time": "2021-07-04T15:31:00.581Z"
   },
   {
    "duration": 901,
    "start_time": "2021-07-04T15:31:16.953Z"
   },
   {
    "duration": 215,
    "start_time": "2021-07-04T15:32:00.149Z"
   },
   {
    "duration": 615,
    "start_time": "2021-07-04T15:32:15.121Z"
   },
   {
    "duration": 565,
    "start_time": "2021-07-04T15:33:59.422Z"
   },
   {
    "duration": 456,
    "start_time": "2021-07-04T15:34:25.901Z"
   },
   {
    "duration": 580,
    "start_time": "2021-07-04T15:34:35.941Z"
   },
   {
    "duration": 15,
    "start_time": "2021-07-04T16:19:02.497Z"
   },
   {
    "duration": 124,
    "start_time": "2021-07-04T16:19:39.386Z"
   },
   {
    "duration": 121,
    "start_time": "2021-07-04T16:19:47.681Z"
   },
   {
    "duration": 395,
    "start_time": "2021-07-04T16:19:53.304Z"
   },
   {
    "duration": 20,
    "start_time": "2021-07-04T16:20:19.121Z"
   },
   {
    "duration": 14,
    "start_time": "2021-07-04T16:20:35.498Z"
   },
   {
    "duration": 21,
    "start_time": "2021-07-04T16:21:13.976Z"
   },
   {
    "duration": 612,
    "start_time": "2021-07-04T16:25:35.092Z"
   },
   {
    "duration": 688,
    "start_time": "2021-07-04T16:32:06.506Z"
   },
   {
    "duration": 1063,
    "start_time": "2021-07-04T16:32:15.611Z"
   },
   {
    "duration": 974,
    "start_time": "2021-07-04T16:33:34.626Z"
   },
   {
    "duration": 613,
    "start_time": "2021-07-04T16:33:40.012Z"
   },
   {
    "duration": 679,
    "start_time": "2021-07-04T16:37:11.883Z"
   },
   {
    "duration": 622,
    "start_time": "2021-07-04T16:37:25.002Z"
   },
   {
    "duration": 901,
    "start_time": "2021-07-04T16:37:49.498Z"
   },
   {
    "duration": 805,
    "start_time": "2021-07-04T16:38:01.787Z"
   },
   {
    "duration": 689,
    "start_time": "2021-07-04T16:38:45.739Z"
   },
   {
    "duration": 702,
    "start_time": "2021-07-04T16:39:50.339Z"
   },
   {
    "duration": 694,
    "start_time": "2021-07-04T16:40:04.368Z"
   },
   {
    "duration": 1047,
    "start_time": "2021-07-04T16:42:30.987Z"
   },
   {
    "duration": 294,
    "start_time": "2021-07-04T16:47:11.708Z"
   },
   {
    "duration": 285,
    "start_time": "2021-07-04T16:48:03.238Z"
   },
   {
    "duration": 678,
    "start_time": "2021-07-04T16:49:55.259Z"
   },
   {
    "duration": 317,
    "start_time": "2021-07-04T16:50:01.372Z"
   },
   {
    "duration": 907,
    "start_time": "2021-07-04T16:50:49.636Z"
   },
   {
    "duration": 21,
    "start_time": "2021-07-04T16:52:24.585Z"
   },
   {
    "duration": 805,
    "start_time": "2021-07-04T16:52:38.826Z"
   },
   {
    "duration": 228,
    "start_time": "2021-07-04T16:56:55.185Z"
   },
   {
    "duration": 231,
    "start_time": "2021-07-04T16:58:06.459Z"
   },
   {
    "duration": 359,
    "start_time": "2021-07-04T17:01:25.819Z"
   },
   {
    "duration": 393,
    "start_time": "2021-07-04T17:01:53.180Z"
   },
   {
    "duration": 357,
    "start_time": "2021-07-04T17:02:03.419Z"
   },
   {
    "duration": 30,
    "start_time": "2021-07-04T17:02:44.771Z"
   },
   {
    "duration": 4,
    "start_time": "2021-07-04T17:03:20.878Z"
   },
   {
    "duration": 363,
    "start_time": "2021-07-04T17:05:22.421Z"
   },
   {
    "duration": 360,
    "start_time": "2021-07-04T17:05:36.396Z"
   },
   {
    "duration": 366,
    "start_time": "2021-07-04T17:06:13.091Z"
   },
   {
    "duration": 721,
    "start_time": "2021-07-04T17:15:09.605Z"
   },
   {
    "duration": 455,
    "start_time": "2021-07-04T17:17:18.869Z"
   },
   {
    "duration": 256,
    "start_time": "2021-07-04T17:17:42.278Z"
   },
   {
    "duration": 409,
    "start_time": "2021-07-04T17:19:00.255Z"
   },
   {
    "duration": 315,
    "start_time": "2021-07-04T17:19:11.734Z"
   },
   {
    "duration": 256,
    "start_time": "2021-07-04T17:19:36.244Z"
   },
   {
    "duration": 320,
    "start_time": "2021-07-04T17:19:47.062Z"
   },
   {
    "duration": 432,
    "start_time": "2021-07-04T17:20:41.069Z"
   },
   {
    "duration": 478,
    "start_time": "2021-07-04T17:21:24.625Z"
   },
   {
    "duration": 1321,
    "start_time": "2021-07-04T17:25:17.925Z"
   },
   {
    "duration": 489,
    "start_time": "2021-07-04T17:25:43.933Z"
   },
   {
    "duration": 1020,
    "start_time": "2021-07-04T17:26:43.916Z"
   },
   {
    "duration": 489,
    "start_time": "2021-07-04T17:26:52.757Z"
   },
   {
    "duration": 7,
    "start_time": "2021-07-04T17:34:25.988Z"
   },
   {
    "duration": 907,
    "start_time": "2021-07-04T17:36:48.207Z"
   },
   {
    "duration": 805,
    "start_time": "2021-07-04T17:37:05.894Z"
   },
   {
    "duration": 870,
    "start_time": "2021-07-04T17:37:12.005Z"
   },
   {
    "duration": 1160,
    "start_time": "2021-07-04T17:37:43.325Z"
   },
   {
    "duration": 353,
    "start_time": "2021-07-04T17:38:07.190Z"
   },
   {
    "duration": 326,
    "start_time": "2021-07-04T17:38:18.286Z"
   },
   {
    "duration": 802,
    "start_time": "2021-07-04T17:42:37.962Z"
   },
   {
    "duration": 16,
    "start_time": "2021-07-04T17:44:45.082Z"
   },
   {
    "duration": 791,
    "start_time": "2021-07-04T17:44:55.773Z"
   },
   {
    "duration": 323,
    "start_time": "2021-07-04T17:45:05.862Z"
   },
   {
    "duration": 16,
    "start_time": "2021-07-04T17:45:22.343Z"
   },
   {
    "duration": 939,
    "start_time": "2021-07-04T17:46:43.227Z"
   },
   {
    "duration": 365,
    "start_time": "2021-07-04T17:46:46.997Z"
   },
   {
    "duration": 843,
    "start_time": "2021-07-04T17:47:19.704Z"
   },
   {
    "duration": 358,
    "start_time": "2021-07-04T17:47:30.462Z"
   },
   {
    "duration": 1347,
    "start_time": "2021-07-04T17:50:31.668Z"
   },
   {
    "duration": 613,
    "start_time": "2021-07-04T17:50:33.948Z"
   },
   {
    "duration": 559,
    "start_time": "2021-07-04T17:54:05.403Z"
   },
   {
    "duration": 39,
    "start_time": "2021-07-04T18:02:11.735Z"
   },
   {
    "duration": 21,
    "start_time": "2021-07-04T18:02:46.657Z"
   },
   {
    "duration": 1092,
    "start_time": "2021-07-04T18:04:11.637Z"
   },
   {
    "duration": 1406,
    "start_time": "2021-07-04T18:04:23.058Z"
   },
   {
    "duration": 353,
    "start_time": "2021-07-04T18:04:58.952Z"
   },
   {
    "duration": 19,
    "start_time": "2021-07-04T18:06:56.129Z"
   },
   {
    "duration": 960,
    "start_time": "2021-07-04T18:07:33.405Z"
   },
   {
    "duration": 980,
    "start_time": "2021-07-04T18:07:43.714Z"
   },
   {
    "duration": 460,
    "start_time": "2021-07-04T18:08:16.961Z"
   },
   {
    "duration": 47,
    "start_time": "2021-07-04T18:13:11.492Z"
   },
   {
    "duration": 17,
    "start_time": "2021-07-04T18:13:43.129Z"
   },
   {
    "duration": 22,
    "start_time": "2021-07-04T18:15:17.643Z"
   },
   {
    "duration": 871,
    "start_time": "2021-07-04T18:15:35.961Z"
   },
   {
    "duration": 1358,
    "start_time": "2021-07-04T18:15:44.970Z"
   },
   {
    "duration": 349,
    "start_time": "2021-07-04T18:15:55.944Z"
   },
   {
    "duration": 21,
    "start_time": "2021-07-04T18:16:04.209Z"
   },
   {
    "duration": 834,
    "start_time": "2021-07-04T18:16:20.524Z"
   },
   {
    "duration": 378,
    "start_time": "2021-07-04T18:16:36.514Z"
   },
   {
    "duration": 398,
    "start_time": "2021-07-04T18:20:37.062Z"
   },
   {
    "duration": 7,
    "start_time": "2021-07-04T18:20:52.848Z"
   },
   {
    "duration": 7,
    "start_time": "2021-07-04T18:21:27.818Z"
   },
   {
    "duration": 353,
    "start_time": "2021-07-04T18:24:29.930Z"
   },
   {
    "duration": 9,
    "start_time": "2021-07-04T18:24:33.728Z"
   },
   {
    "duration": 6,
    "start_time": "2021-07-04T18:24:50.626Z"
   },
   {
    "duration": 7,
    "start_time": "2021-07-04T18:25:02.305Z"
   },
   {
    "duration": 8,
    "start_time": "2021-07-04T18:25:22.617Z"
   },
   {
    "duration": 28,
    "start_time": "2021-07-04T18:25:35.090Z"
   },
   {
    "duration": 7,
    "start_time": "2021-07-04T18:25:38.969Z"
   },
   {
    "duration": 6,
    "start_time": "2021-07-04T18:25:45.457Z"
   },
   {
    "duration": 896,
    "start_time": "2021-07-04T18:26:33.594Z"
   },
   {
    "duration": 371,
    "start_time": "2021-07-04T18:26:48.210Z"
   },
   {
    "duration": 359,
    "start_time": "2021-07-04T18:26:54.513Z"
   },
   {
    "duration": 667,
    "start_time": "2021-07-04T18:27:10.233Z"
   },
   {
    "duration": 17,
    "start_time": "2021-07-04T18:27:25.689Z"
   },
   {
    "duration": 6,
    "start_time": "2021-07-04T18:27:43.929Z"
   },
   {
    "duration": 6,
    "start_time": "2021-07-04T18:27:49.545Z"
   },
   {
    "duration": 886,
    "start_time": "2021-07-04T18:27:56.442Z"
   },
   {
    "duration": 18,
    "start_time": "2021-07-04T18:28:13.633Z"
   },
   {
    "duration": 918,
    "start_time": "2021-07-04T18:28:14.463Z"
   },
   {
    "duration": 382,
    "start_time": "2021-07-04T18:28:23.164Z"
   },
   {
    "duration": 6,
    "start_time": "2021-07-04T18:28:41.769Z"
   },
   {
    "duration": 19,
    "start_time": "2021-07-04T18:28:51.538Z"
   },
   {
    "duration": 6,
    "start_time": "2021-07-04T18:28:52.285Z"
   },
   {
    "duration": 896,
    "start_time": "2021-07-04T18:28:56.841Z"
   },
   {
    "duration": 379,
    "start_time": "2021-07-04T18:28:58.964Z"
   },
   {
    "duration": 6,
    "start_time": "2021-07-04T18:29:17.801Z"
   },
   {
    "duration": 898,
    "start_time": "2021-07-04T18:29:22.553Z"
   },
   {
    "duration": 509,
    "start_time": "2021-07-04T18:29:24.075Z"
   },
   {
    "duration": 14,
    "start_time": "2021-07-04T18:29:37.194Z"
   },
   {
    "duration": 21,
    "start_time": "2021-07-04T18:29:46.505Z"
   },
   {
    "duration": 6,
    "start_time": "2021-07-04T18:29:46.987Z"
   },
   {
    "duration": 1185,
    "start_time": "2021-07-04T18:29:51.657Z"
   },
   {
    "duration": 487,
    "start_time": "2021-07-04T18:29:54.036Z"
   },
   {
    "duration": 185,
    "start_time": "2021-07-04T20:56:45.011Z"
   },
   {
    "duration": 391,
    "start_time": "2021-07-04T20:56:50.520Z"
   },
   {
    "duration": 19,
    "start_time": "2021-07-04T21:09:20.034Z"
   },
   {
    "duration": 268,
    "start_time": "2021-07-05T03:01:11.557Z"
   },
   {
    "duration": 187,
    "start_time": "2021-07-05T03:01:28.610Z"
   },
   {
    "duration": 1067,
    "start_time": "2021-07-05T03:01:38.166Z"
   },
   {
    "duration": 498,
    "start_time": "2021-07-05T03:01:39.587Z"
   },
   {
    "duration": 5,
    "start_time": "2021-07-05T03:01:49.414Z"
   },
   {
    "duration": 10,
    "start_time": "2021-07-05T03:01:49.641Z"
   },
   {
    "duration": 5,
    "start_time": "2021-07-05T03:01:50.041Z"
   },
   {
    "duration": 49,
    "start_time": "2021-07-05T03:01:50.417Z"
   },
   {
    "duration": 12,
    "start_time": "2021-07-05T03:01:50.839Z"
   },
   {
    "duration": 10,
    "start_time": "2021-07-05T03:01:51.041Z"
   },
   {
    "duration": 11,
    "start_time": "2021-07-05T03:01:52.001Z"
   },
   {
    "duration": 43,
    "start_time": "2021-07-05T03:01:52.225Z"
   },
   {
    "duration": 7,
    "start_time": "2021-07-05T03:01:52.391Z"
   },
   {
    "duration": 32,
    "start_time": "2021-07-05T03:01:52.596Z"
   },
   {
    "duration": 6,
    "start_time": "2021-07-05T03:01:52.767Z"
   },
   {
    "duration": 2,
    "start_time": "2021-07-05T03:01:54.144Z"
   },
   {
    "duration": 4,
    "start_time": "2021-07-05T03:01:55.112Z"
   },
   {
    "duration": 18,
    "start_time": "2021-07-05T03:01:57.272Z"
   },
   {
    "duration": 5,
    "start_time": "2021-07-05T03:01:57.800Z"
   },
   {
    "duration": 27,
    "start_time": "2021-07-05T03:01:58.370Z"
   },
   {
    "duration": 16,
    "start_time": "2021-07-05T03:01:58.720Z"
   },
   {
    "duration": 12,
    "start_time": "2021-07-05T03:01:59.871Z"
   },
   {
    "duration": 17,
    "start_time": "2021-07-05T03:02:00.089Z"
   },
   {
    "duration": 15,
    "start_time": "2021-07-05T03:02:00.519Z"
   },
   {
    "duration": 5,
    "start_time": "2021-07-05T03:02:00.728Z"
   },
   {
    "duration": 18,
    "start_time": "2021-07-05T03:02:01.167Z"
   },
   {
    "duration": 25,
    "start_time": "2021-07-05T03:02:01.610Z"
   },
   {
    "duration": 9,
    "start_time": "2021-07-05T03:02:02.376Z"
   },
   {
    "duration": 9,
    "start_time": "2021-07-05T03:02:02.695Z"
   },
   {
    "duration": 4,
    "start_time": "2021-07-05T03:02:03.015Z"
   },
   {
    "duration": 7,
    "start_time": "2021-07-05T03:02:03.879Z"
   },
   {
    "duration": 11,
    "start_time": "2021-07-05T03:02:05.348Z"
   },
   {
    "duration": 14,
    "start_time": "2021-07-05T03:02:06.880Z"
   },
   {
    "duration": 19,
    "start_time": "2021-07-05T03:02:09.056Z"
   },
   {
    "duration": 18,
    "start_time": "2021-07-05T03:02:09.992Z"
   },
   {
    "duration": 20,
    "start_time": "2021-07-05T03:02:10.759Z"
   },
   {
    "duration": 51,
    "start_time": "2021-07-05T03:02:11.658Z"
   },
   {
    "duration": 44,
    "start_time": "2021-07-05T03:02:12.440Z"
   },
   {
    "duration": 43,
    "start_time": "2021-07-05T03:02:13.888Z"
   },
   {
    "duration": 12,
    "start_time": "2021-07-05T03:02:17.976Z"
   },
   {
    "duration": 395,
    "start_time": "2021-07-05T03:02:19.298Z"
   },
   {
    "duration": 398,
    "start_time": "2021-07-05T03:02:39.942Z"
   },
   {
    "duration": 396,
    "start_time": "2021-07-05T03:02:55.936Z"
   },
   {
    "duration": 396,
    "start_time": "2021-07-05T03:03:05.464Z"
   },
   {
    "duration": 423,
    "start_time": "2021-07-05T03:03:14.223Z"
   },
   {
    "duration": 566,
    "start_time": "2021-07-05T03:05:22.368Z"
   },
   {
    "duration": 197,
    "start_time": "2021-07-05T03:15:56.904Z"
   },
   {
    "duration": 196,
    "start_time": "2021-07-05T03:16:23.343Z"
   },
   {
    "duration": 136,
    "start_time": "2021-07-05T03:23:27.854Z"
   },
   {
    "duration": 133,
    "start_time": "2021-07-05T03:23:38.345Z"
   },
   {
    "duration": 136,
    "start_time": "2021-07-05T03:23:46.744Z"
   },
   {
    "duration": 158,
    "start_time": "2021-07-05T03:25:28.513Z"
   },
   {
    "duration": 2,
    "start_time": "2021-07-05T03:26:38.083Z"
   },
   {
    "duration": 473,
    "start_time": "2021-07-05T03:29:25.616Z"
   },
   {
    "duration": 237,
    "start_time": "2021-07-05T03:32:39.298Z"
   },
   {
    "duration": 452,
    "start_time": "2021-07-05T03:32:56.724Z"
   },
   {
    "duration": 281,
    "start_time": "2021-07-05T03:32:57.876Z"
   },
   {
    "duration": 3,
    "start_time": "2021-07-05T03:32:58.482Z"
   },
   {
    "duration": 14,
    "start_time": "2021-07-05T03:33:00.483Z"
   },
   {
    "duration": 460,
    "start_time": "2021-07-05T03:33:01.428Z"
   },
   {
    "duration": 199,
    "start_time": "2021-07-05T03:33:02.157Z"
   },
   {
    "duration": 164,
    "start_time": "2021-07-05T03:33:04.580Z"
   },
   {
    "duration": 2,
    "start_time": "2021-07-05T03:33:24.042Z"
   },
   {
    "duration": 200,
    "start_time": "2021-07-05T03:37:18.421Z"
   },
   {
    "duration": 206,
    "start_time": "2021-07-05T03:37:56.978Z"
   },
   {
    "duration": 216,
    "start_time": "2021-07-05T03:38:07.881Z"
   },
   {
    "duration": 177,
    "start_time": "2021-07-05T03:54:39.991Z"
   },
   {
    "duration": 11,
    "start_time": "2021-07-05T03:54:55.591Z"
   },
   {
    "duration": 461,
    "start_time": "2021-07-05T03:54:55.934Z"
   },
   {
    "duration": 280,
    "start_time": "2021-07-05T03:54:57.406Z"
   },
   {
    "duration": 2,
    "start_time": "2021-07-05T03:55:29.957Z"
   },
   {
    "duration": 322,
    "start_time": "2021-07-05T03:55:30.948Z"
   },
   {
    "duration": 2,
    "start_time": "2021-07-05T03:55:32.087Z"
   },
   {
    "duration": 177,
    "start_time": "2021-07-05T03:55:34.150Z"
   },
   {
    "duration": 183,
    "start_time": "2021-07-05T03:56:03.948Z"
   },
   {
    "duration": 459,
    "start_time": "2021-07-05T04:02:18.028Z"
   },
   {
    "duration": 11,
    "start_time": "2021-07-05T04:02:34.365Z"
   },
   {
    "duration": 490,
    "start_time": "2021-07-05T04:02:34.766Z"
   },
   {
    "duration": 212,
    "start_time": "2021-07-05T04:02:36.065Z"
   },
   {
    "duration": 485,
    "start_time": "2021-07-05T04:03:32.286Z"
   },
   {
    "duration": 170,
    "start_time": "2021-07-05T04:13:27.183Z"
   },
   {
    "duration": 2,
    "start_time": "2021-07-05T04:14:16.952Z"
   },
   {
    "duration": 258,
    "start_time": "2021-07-05T04:15:19.369Z"
   },
   {
    "duration": 2,
    "start_time": "2021-07-05T04:15:41.829Z"
   },
   {
    "duration": 198,
    "start_time": "2021-07-05T04:21:41.294Z"
   },
   {
    "duration": 217,
    "start_time": "2021-07-05T04:22:06.253Z"
   },
   {
    "duration": 210,
    "start_time": "2021-07-05T04:22:45.885Z"
   },
   {
    "duration": 228,
    "start_time": "2021-07-05T04:23:01.765Z"
   },
   {
    "duration": 497,
    "start_time": "2021-07-05T04:23:31.430Z"
   },
   {
    "duration": 13,
    "start_time": "2021-07-05T04:23:41.446Z"
   },
   {
    "duration": 521,
    "start_time": "2021-07-05T04:23:42.376Z"
   },
   {
    "duration": 224,
    "start_time": "2021-07-05T04:23:43.508Z"
   },
   {
    "duration": 179,
    "start_time": "2021-07-05T04:26:05.662Z"
   },
   {
    "duration": 3,
    "start_time": "2021-07-05T04:26:21.118Z"
   },
   {
    "duration": 3,
    "start_time": "2021-07-05T04:26:28.380Z"
   },
   {
    "duration": 161,
    "start_time": "2021-07-05T04:28:18.942Z"
   },
   {
    "duration": 2,
    "start_time": "2021-07-05T04:28:58.247Z"
   },
   {
    "duration": 257,
    "start_time": "2021-07-05T04:29:42.502Z"
   },
   {
    "duration": 3,
    "start_time": "2021-07-05T04:30:16.166Z"
   },
   {
    "duration": 507,
    "start_time": "2021-07-05T04:58:49.089Z"
   },
   {
    "duration": 174,
    "start_time": "2021-07-05T04:58:53.961Z"
   },
   {
    "duration": 455,
    "start_time": "2021-07-05T04:58:54.338Z"
   },
   {
    "duration": 11,
    "start_time": "2021-07-05T04:58:59.207Z"
   },
   {
    "duration": 466,
    "start_time": "2021-07-05T04:58:59.897Z"
   },
   {
    "duration": 202,
    "start_time": "2021-07-05T04:59:01.137Z"
   },
   {
    "duration": 178,
    "start_time": "2021-07-05T05:05:25.361Z"
   },
   {
    "duration": 2,
    "start_time": "2021-07-05T05:05:56.025Z"
   },
   {
    "duration": 155,
    "start_time": "2021-07-05T05:07:06.441Z"
   },
   {
    "duration": 2,
    "start_time": "2021-07-05T05:07:24.010Z"
   },
   {
    "duration": 2717,
    "start_time": "2021-07-05T05:09:46.186Z"
   },
   {
    "duration": 536,
    "start_time": "2021-07-05T05:10:17.825Z"
   },
   {
    "duration": 196,
    "start_time": "2021-07-05T05:10:18.451Z"
   },
   {
    "duration": 2321,
    "start_time": "2021-07-05T05:10:19.148Z"
   },
   {
    "duration": 162,
    "start_time": "2021-07-05T05:10:34.115Z"
   },
   {
    "duration": 3,
    "start_time": "2021-07-05T05:11:02.021Z"
   },
   {
    "duration": 479,
    "start_time": "2021-07-05T05:25:27.219Z"
   },
   {
    "duration": 12,
    "start_time": "2021-07-05T05:25:36.497Z"
   },
   {
    "duration": 451,
    "start_time": "2021-07-05T05:25:37.004Z"
   },
   {
    "duration": 210,
    "start_time": "2021-07-05T05:25:38.107Z"
   },
   {
    "duration": 59,
    "start_time": "2021-07-05T05:37:14.160Z"
   },
   {
    "duration": 175,
    "start_time": "2021-07-05T05:42:32.703Z"
   },
   {
    "duration": 4170,
    "start_time": "2021-07-05T05:42:45.381Z"
   },
   {
    "duration": -114,
    "start_time": "2021-07-05T05:42:49.667Z"
   },
   {
    "duration": 4359,
    "start_time": "2021-07-05T05:43:07.056Z"
   },
   {
    "duration": -104,
    "start_time": "2021-07-05T05:43:11.521Z"
   },
   {
    "duration": 9,
    "start_time": "2021-07-05T05:44:24.235Z"
   },
   {
    "duration": 20,
    "start_time": "2021-07-05T05:44:25.421Z"
   },
   {
    "duration": 18,
    "start_time": "2021-07-05T05:44:26.878Z"
   },
   {
    "duration": 7,
    "start_time": "2021-07-05T05:44:31.310Z"
   },
   {
    "duration": 24,
    "start_time": "2021-07-05T05:44:54.830Z"
   },
   {
    "duration": 10,
    "start_time": "2021-07-05T05:45:17.178Z"
   },
   {
    "duration": 5,
    "start_time": "2021-07-05T05:45:23.516Z"
   },
   {
    "duration": 5,
    "start_time": "2021-07-05T05:47:08.332Z"
   },
   {
    "duration": 15,
    "start_time": "2021-07-05T05:47:14.431Z"
   },
   {
    "duration": 182,
    "start_time": "2021-07-05T05:47:19.709Z"
   },
   {
    "duration": 6,
    "start_time": "2021-07-05T05:49:02.957Z"
   },
   {
    "duration": 195,
    "start_time": "2021-07-05T05:49:12.931Z"
   },
   {
    "duration": 513,
    "start_time": "2021-07-05T05:50:58.668Z"
   },
   {
    "duration": 614,
    "start_time": "2021-07-05T05:51:22.347Z"
   },
   {
    "duration": 527,
    "start_time": "2021-07-05T05:51:51.773Z"
   },
   {
    "duration": 193,
    "start_time": "2021-07-05T05:52:25.196Z"
   },
   {
    "duration": 6,
    "start_time": "2021-07-05T05:52:27.858Z"
   },
   {
    "duration": 612,
    "start_time": "2021-07-05T05:52:55.677Z"
   },
   {
    "duration": 511,
    "start_time": "2021-07-05T05:54:32.312Z"
   },
   {
    "duration": 467,
    "start_time": "2021-07-05T05:54:54.350Z"
   },
   {
    "duration": 509,
    "start_time": "2021-07-05T05:56:23.206Z"
   },
   {
    "duration": 587,
    "start_time": "2021-07-05T05:56:44.197Z"
   },
   {
    "duration": 6,
    "start_time": "2021-07-05T05:58:03.670Z"
   },
   {
    "duration": 5,
    "start_time": "2021-07-05T06:11:08.172Z"
   },
   {
    "duration": 5,
    "start_time": "2021-07-05T06:17:10.975Z"
   },
   {
    "duration": 217,
    "start_time": "2021-07-05T07:01:25.959Z"
   },
   {
    "duration": 209,
    "start_time": "2021-07-05T07:01:52.585Z"
   },
   {
    "duration": 12,
    "start_time": "2021-07-05T07:16:51.664Z"
   },
   {
    "duration": 13,
    "start_time": "2021-07-05T07:16:56.437Z"
   },
   {
    "duration": 386,
    "start_time": "2021-07-05T07:56:59.522Z"
   },
   {
    "duration": 467,
    "start_time": "2021-07-05T07:57:19.594Z"
   },
   {
    "duration": 6,
    "start_time": "2021-07-05T08:55:39.910Z"
   },
   {
    "duration": 284,
    "start_time": "2021-07-05T08:55:44.581Z"
   },
   {
    "duration": 1494,
    "start_time": "2021-07-05T08:55:50.017Z"
   },
   {
    "duration": 709,
    "start_time": "2021-07-05T08:55:51.514Z"
   },
   {
    "duration": 31,
    "start_time": "2021-07-05T08:55:52.227Z"
   },
   {
    "duration": 33,
    "start_time": "2021-07-05T08:55:52.262Z"
   },
   {
    "duration": 33,
    "start_time": "2021-07-05T08:55:52.297Z"
   },
   {
    "duration": 2,
    "start_time": "2021-07-05T08:55:52.333Z"
   },
   {
    "duration": 14,
    "start_time": "2021-07-05T08:55:52.362Z"
   },
   {
    "duration": 19,
    "start_time": "2021-07-05T08:55:52.381Z"
   },
   {
    "duration": 59,
    "start_time": "2021-07-05T08:55:52.403Z"
   },
   {
    "duration": 4,
    "start_time": "2021-07-05T08:55:52.464Z"
   },
   {
    "duration": 16,
    "start_time": "2021-07-05T08:55:52.470Z"
   },
   {
    "duration": 17,
    "start_time": "2021-07-05T08:55:52.488Z"
   },
   {
    "duration": 16,
    "start_time": "2021-07-05T08:55:52.508Z"
   },
   {
    "duration": 39,
    "start_time": "2021-07-05T08:55:52.526Z"
   },
   {
    "duration": 15,
    "start_time": "2021-07-05T08:55:52.569Z"
   },
   {
    "duration": 12,
    "start_time": "2021-07-05T08:55:52.587Z"
   },
   {
    "duration": 82,
    "start_time": "2021-07-05T08:55:52.602Z"
   },
   {
    "duration": 14,
    "start_time": "2021-07-05T08:55:52.687Z"
   },
   {
    "duration": 12,
    "start_time": "2021-07-05T08:55:52.704Z"
   },
   {
    "duration": 48,
    "start_time": "2021-07-05T08:55:52.718Z"
   },
   {
    "duration": 14,
    "start_time": "2021-07-05T08:55:52.768Z"
   },
   {
    "duration": 17,
    "start_time": "2021-07-05T08:55:52.785Z"
   },
   {
    "duration": 7,
    "start_time": "2021-07-05T08:55:52.809Z"
   },
   {
    "duration": 6,
    "start_time": "2021-07-05T08:55:52.820Z"
   },
   {
    "duration": 16,
    "start_time": "2021-07-05T08:55:52.828Z"
   },
   {
    "duration": 17,
    "start_time": "2021-07-05T08:55:52.847Z"
   },
   {
    "duration": 14,
    "start_time": "2021-07-05T08:55:52.867Z"
   },
   {
    "duration": 14,
    "start_time": "2021-07-05T08:55:52.884Z"
   },
   {
    "duration": 105,
    "start_time": "2021-07-05T08:55:52.901Z"
   },
   {
    "duration": 18,
    "start_time": "2021-07-05T08:55:53.009Z"
   },
   {
    "duration": 34,
    "start_time": "2021-07-05T08:55:53.030Z"
   },
   {
    "duration": 18,
    "start_time": "2021-07-05T08:55:53.067Z"
   },
   {
    "duration": 82,
    "start_time": "2021-07-05T08:55:53.087Z"
   },
   {
    "duration": 10,
    "start_time": "2021-07-05T08:55:53.172Z"
   },
   {
    "duration": 50,
    "start_time": "2021-07-05T08:55:53.185Z"
   },
   {
    "duration": 11,
    "start_time": "2021-07-05T08:55:53.263Z"
   },
   {
    "duration": 11,
    "start_time": "2021-07-05T08:55:53.280Z"
   },
   {
    "duration": 8,
    "start_time": "2021-07-05T08:55:53.294Z"
   },
   {
    "duration": 59,
    "start_time": "2021-07-05T08:55:53.304Z"
   },
   {
    "duration": 7,
    "start_time": "2021-07-05T08:55:53.366Z"
   },
   {
    "duration": 100,
    "start_time": "2021-07-05T08:55:53.376Z"
   },
   {
    "duration": 22,
    "start_time": "2021-07-05T08:55:53.478Z"
   },
   {
    "duration": 16,
    "start_time": "2021-07-05T08:55:53.502Z"
   },
   {
    "duration": 54,
    "start_time": "2021-07-05T08:55:53.521Z"
   },
   {
    "duration": 21,
    "start_time": "2021-07-05T08:55:53.579Z"
   },
   {
    "duration": 6,
    "start_time": "2021-07-05T08:55:53.602Z"
   },
   {
    "duration": 51,
    "start_time": "2021-07-05T08:55:53.610Z"
   },
   {
    "duration": 39,
    "start_time": "2021-07-05T08:55:53.664Z"
   },
   {
    "duration": 11,
    "start_time": "2021-07-05T08:55:53.706Z"
   },
   {
    "duration": 48,
    "start_time": "2021-07-05T08:55:53.719Z"
   },
   {
    "duration": 16,
    "start_time": "2021-07-05T08:55:53.769Z"
   },
   {
    "duration": 12,
    "start_time": "2021-07-05T08:55:53.787Z"
   },
   {
    "duration": 16,
    "start_time": "2021-07-05T08:55:53.801Z"
   },
   {
    "duration": 58,
    "start_time": "2021-07-05T08:55:53.819Z"
   },
   {
    "duration": 27,
    "start_time": "2021-07-05T08:55:53.880Z"
   },
   {
    "duration": 57,
    "start_time": "2021-07-05T08:55:53.910Z"
   },
   {
    "duration": 31,
    "start_time": "2021-07-05T08:55:53.970Z"
   },
   {
    "duration": 109,
    "start_time": "2021-07-05T08:55:54.004Z"
   },
   {
    "duration": 91,
    "start_time": "2021-07-05T08:55:54.116Z"
   },
   {
    "duration": 86,
    "start_time": "2021-07-05T08:55:54.209Z"
   },
   {
    "duration": 18,
    "start_time": "2021-07-05T08:55:54.298Z"
   },
   {
    "duration": 863,
    "start_time": "2021-07-05T08:55:54.318Z"
   },
   {
    "duration": 361,
    "start_time": "2021-07-05T08:55:55.184Z"
   },
   {
    "duration": 2,
    "start_time": "2021-07-05T08:55:55.548Z"
   },
   {
    "duration": 30,
    "start_time": "2021-07-05T08:55:55.552Z"
   },
   {
    "duration": 911,
    "start_time": "2021-07-05T08:55:55.584Z"
   },
   {
    "duration": 392,
    "start_time": "2021-07-05T08:55:56.499Z"
   },
   {
    "duration": 2,
    "start_time": "2021-07-05T08:55:56.902Z"
   },
   {
    "duration": 616,
    "start_time": "2021-07-05T08:55:56.908Z"
   },
   {
    "duration": 3,
    "start_time": "2021-07-05T08:55:57.527Z"
   },
   {
    "duration": 430,
    "start_time": "2021-07-05T08:55:57.532Z"
   },
   {
    "duration": 622,
    "start_time": "2021-07-05T08:55:57.965Z"
   },
   {
    "duration": 304,
    "start_time": "2021-07-05T08:55:58.590Z"
   },
   {
    "duration": 17,
    "start_time": "2021-07-05T08:55:58.897Z"
   },
   {
    "duration": 821,
    "start_time": "2021-07-05T08:55:58.916Z"
   },
   {
    "duration": 384,
    "start_time": "2021-07-05T08:55:59.739Z"
   },
   {
    "duration": 3,
    "start_time": "2021-07-05T08:56:00.125Z"
   },
   {
    "duration": 41,
    "start_time": "2021-07-05T08:56:00.130Z"
   },
   {
    "duration": 860,
    "start_time": "2021-07-05T08:56:00.174Z"
   },
   {
    "duration": 385,
    "start_time": "2021-07-05T08:56:01.036Z"
   },
   {
    "duration": 590,
    "start_time": "2021-07-05T08:56:01.423Z"
   },
   {
    "duration": 286,
    "start_time": "2021-07-05T08:56:02.015Z"
   },
   {
    "duration": 709,
    "start_time": "2021-07-05T08:56:02.304Z"
   },
   {
    "duration": 289,
    "start_time": "2021-07-05T08:56:03.016Z"
   },
   {
    "duration": 17,
    "start_time": "2021-07-05T08:56:03.308Z"
   },
   {
    "duration": 1282,
    "start_time": "2021-07-05T08:56:03.328Z"
   },
   {
    "duration": 477,
    "start_time": "2021-07-05T08:56:04.613Z"
   },
   {
    "duration": 4,
    "start_time": "2021-07-05T08:56:05.093Z"
   },
   {
    "duration": 34,
    "start_time": "2021-07-05T08:56:05.100Z"
   },
   {
    "duration": 782,
    "start_time": "2021-07-05T08:56:05.137Z"
   },
   {
    "duration": 375,
    "start_time": "2021-07-05T08:56:05.923Z"
   },
   {
    "duration": 572,
    "start_time": "2021-07-05T08:56:06.301Z"
   },
   {
    "duration": 303,
    "start_time": "2021-07-05T08:56:06.876Z"
   },
   {
    "duration": 549,
    "start_time": "2021-07-05T08:56:07.181Z"
   },
   {
    "duration": 356,
    "start_time": "2021-07-05T08:56:07.733Z"
   },
   {
    "duration": 11,
    "start_time": "2021-07-05T08:56:08.091Z"
   },
   {
    "duration": 28,
    "start_time": "2021-07-05T08:56:08.104Z"
   },
   {
    "duration": 50,
    "start_time": "2021-07-05T08:56:08.134Z"
   },
   {
    "duration": 12,
    "start_time": "2021-07-05T08:56:08.186Z"
   },
   {
    "duration": 64,
    "start_time": "2021-07-05T08:56:08.200Z"
   },
   {
    "duration": 21,
    "start_time": "2021-07-05T08:56:08.268Z"
   },
   {
    "duration": 8,
    "start_time": "2021-07-05T08:56:08.292Z"
   },
   {
    "duration": 62,
    "start_time": "2021-07-05T08:56:08.303Z"
   },
   {
    "duration": 374,
    "start_time": "2021-07-05T08:56:08.369Z"
   },
   {
    "duration": 7,
    "start_time": "2021-07-05T08:56:08.745Z"
   },
   {
    "duration": 8,
    "start_time": "2021-07-05T08:56:08.763Z"
   },
   {
    "duration": 5,
    "start_time": "2021-07-05T08:57:05.286Z"
   },
   {
    "duration": 6,
    "start_time": "2021-07-05T08:57:08.218Z"
   },
   {
    "duration": 7,
    "start_time": "2021-07-05T09:00:27.047Z"
   },
   {
    "duration": 47,
    "start_time": "2021-07-05T09:00:34.884Z"
   },
   {
    "duration": 48,
    "start_time": "2021-07-05T09:00:45.967Z"
   },
   {
    "duration": 56,
    "start_time": "2021-07-05T09:01:09.835Z"
   },
   {
    "duration": 1679,
    "start_time": "2021-07-05T09:02:59.193Z"
   },
   {
    "duration": 1140,
    "start_time": "2021-07-05T09:03:06.633Z"
   },
   {
    "duration": 1344,
    "start_time": "2021-07-05T09:05:38.718Z"
   }
  ],
  "kernelspec": {
   "display_name": "Python 3",
   "language": "python",
   "name": "python3"
  },
  "language_info": {
   "codemirror_mode": {
    "name": "ipython",
    "version": 3
   },
   "file_extension": ".py",
   "mimetype": "text/x-python",
   "name": "python",
   "nbconvert_exporter": "python",
   "pygments_lexer": "ipython3",
   "version": "3.8.5"
  },
  "toc": {
   "base_numbering": 1,
   "nav_menu": {},
   "number_sections": true,
   "sideBar": true,
   "skip_h1_title": true,
   "title_cell": "Table of Contents",
   "title_sidebar": "Contents",
   "toc_cell": false,
   "toc_position": {},
   "toc_section_display": true,
   "toc_window_display": false
  }
 },
 "nbformat": 4,
 "nbformat_minor": 2
}
