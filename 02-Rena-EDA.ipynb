{
 "cells": [
  {
   "cell_type": "markdown",
   "metadata": {},
   "source": [
    "Dear Reviewer, \n",
    "<br>Nice to e-meet you. Thank you for reviewing my work. \n",
    "<br>I have some questions and marked them with \"[QUESTION]\".\n",
    "<br>I would appreciate it if you could answer them as well.\n",
    "<br>Thank you!\n",
    "<br>Rena Bracha"
   ]
  },
  {
   "cell_type": "markdown",
   "metadata": {},
   "source": [
    "<div style=\"border:solid green 2px; padding: 20px\"> <h1 style=\"color:green; margin-bottom:20px\">Reviewer's comment v1</h1>\n",
    "\n",
    "Hello Rena, my name is Dmitrii. Nice to meet you! 🙌 I'm going to review your project. \n",
    "Sure, i will check your questions in the project.\n",
    "\n",
    "You can find my comments under the heading **«Review»**. I will categorize my comments in green, blue or red boxes like this:\n",
    "\n",
    "<div class=\"alert alert-success\">\n",
    "    <b>Success:</b> if everything is done successfully\n",
    "</div>\n",
    "<div class=\"alert alert-warning\">\n",
    "    <b>Remarks:</b> if I can give some recommendations or ways to improve the project\n",
    "</div>\n",
    "<div class=\"alert alert-danger\">\n",
    "    <b>Needs fixing:</b> if the block requires some corrections. Work can't be accepted with the red comments\n",
    "</div>\n",
    "\n",
    "Please don't remove my comments :) If you have any questions don't hesitate to respond to my comments in a different section. \n",
    "<div class=\"alert alert-info\"> <b>Student comments:</b> For example like this</div>    \n"
   ]
  },
  {
   "cell_type": "markdown",
   "metadata": {},
   "source": [
    "<div style=\"border:solid green 2px; padding: 20px\">\n",
    "<b>Reviewer's comment v1:</b>\n",
    "    \n",
    "<b>Overall Feedback</b> \n",
    "    \n",
    "- Overall well done!  I can see that a lot of effort has been made! Your project already looks really good and you accomplished impressive results.\n",
    "- It is great that you can use different methods for data processing and apply all of that on real data and project tasks, keep it up!\n",
    "   \n",
    "- Nevertheless, there is one area for improvement (in red) that will help you to make your project even better: \n",
    "    - Extend the overall project conclusions with high level steps you accomplished and recomendations/next steps to the business.\n",
    "    \n",
    "I will wait for you to send me a new version of the project with changes :) \n",
    " \n",
    "And of course, if you have any questions along the way, remember that you can always reach out to your tutor in slack for any clarification. It will be actually faster to get answers from tutor while you are working on the next project and you have questions about the code. \n",
    "    \n",
    "</div>"
   ]
  },
  {
   "cell_type": "markdown",
   "metadata": {},
   "source": [
    "<div class=\"alert alert-info\"> <b>Student comments:</b> Hi Dmitrii, thank you for taking the time to review my project carefully and kindly providing answers to all my questions. I have revised my work according to your comments. I would appreciate it if you could review just one more time (hopefully this will be the last. :)) Much appreciated! Rena</div>  "
   ]
  },
  {
   "cell_type": "markdown",
   "metadata": {},
   "source": [
    "<div style=\"border:solid green 2px; padding: 20px\">\n",
    "<b>Reviewer's comment v2:</b>\n",
    "    \n",
    "<b>Overall Feedback</b> \n",
    "    \n",
    "- Thank you for making all corrections in the project :)  Now overall conclusions and project are perfect. \n",
    "- No critial issues left, so your project has been accepted! \n",
    "\n",
    "Please keep up the great work and good luck on the next project! \n",
    "</div>"
   ]
  },
  {
   "cell_type": "markdown",
   "metadata": {},
   "source": [
    "# Research on car sales ads\n",
    "\n",
    "Crankshaft List hosts a website where hundreds of sellers advertise vehicles for sale every day free of charge. The company wants to analyse the data collected over the last few years and determine which factors influence the price of a vehicle. \n",
    "\n",
    "**Project outline**\n",
    "* Perform preliminary data exploration to become familiar with the data, wash out illogical values and plan a course of action for more in-depth exploration and data preprocessing, always with the project goal in mind.\n",
    "* Shape the data into a form that can be processed by taking care of missing values, inconsistencies and duplicates in preparation for analyses. \n",
    "* Follow the project instructions and perform calculations as specified at this stage before the analyses. \n",
    "* Study the data with the aid of various types of graphs, appropriately selected to visualise the data while augmenting with descriptive statistics. \n",
    "* Wrap up with conclusions as to which factors appear to influence the price of a vehicle.\n"
   ]
  },
  {
   "cell_type": "markdown",
   "metadata": {},
   "source": [
    "<div class=\"alert alert-warning\">\n",
    "<b>Reviewer's comment v1:</b>\n",
    "    \n",
    "- It would be great to add additional information about project tasks. It gives an overview of what you are going to achieve in this project.\n",
    "- Also, this introduction potentially can be used as a Readme file in your portfolio on Github. One example of a nice introduction for a data analysis project can be found here: [https://github.com/CICIFLY/Data-Analytics-Projects/blob/master/AB%20Testing%20Result%20Analyze/readme.md](https://github.com/CICIFLY/Data-Analytics-Projects/blob/master/AB%20Testing%20Result%20Analyze/readme.md)\n",
    "    \n",
    "</div>"
   ]
  },
  {
   "cell_type": "markdown",
   "metadata": {},
   "source": [
    "<div class=\"alert alert-info\"> <b>Student comments:</b> Thank you for showing me an example on how to write a project introduction.</div>  "
   ]
  },
  {
   "cell_type": "markdown",
   "metadata": {},
   "source": [
    "<div class=\"alert alert-block alert-success\">\n",
    "<b>Reviewer's comment v2:</b>\n",
    "    \n",
    "🙌\n",
    "</div>"
   ]
  },
  {
   "cell_type": "markdown",
   "metadata": {},
   "source": [
    "## Open the data file and study the general information. "
   ]
  },
  {
   "cell_type": "markdown",
   "metadata": {},
   "source": [
    "**Load the files.**"
   ]
  },
  {
   "cell_type": "markdown",
   "metadata": {},
   "source": [
    "Load various libraries. "
   ]
  },
  {
   "cell_type": "code",
   "execution_count": 1,
   "metadata": {},
   "outputs": [],
   "source": [
    "# Import the pandas library.\n",
    "import pandas as pd\n",
    "import numpy as np\n",
    "\n",
    "# Import sys so no warnings will be issued. \n",
    "import sys\n",
    "if not sys.warnoptions:\n",
    "    import warnings\n",
    "    warnings.simplefilter(\"ignore\")\n",
    "    \n",
    "# Import Matplotlib\n",
    "import matplotlib.pyplot as plt\n",
    "\n",
    "# Import Seaborn\n",
    "import seaborn as sns"
   ]
  },
  {
   "cell_type": "markdown",
   "metadata": {},
   "source": [
    "Load the data csv file."
   ]
  },
  {
   "cell_type": "code",
   "execution_count": 2,
   "metadata": {},
   "outputs": [],
   "source": [
    "# I worked locally and will have to upload the project to the Platform. So cover both paths. \n",
    "# It is a csv file, so the separator is a comma. \n",
    "try:\n",
    "    data = pd.read_csv('vehicles_us.csv', sep = ',')\n",
    "except:\n",
    "    data = pd.read_csv('/datasets/vehicles_us.csv', sep = ',')"
   ]
  },
  {
   "cell_type": "markdown",
   "metadata": {},
   "source": [
    "<div class=\"alert alert-block alert-success\">\n",
    "<b>Reviewer's comment v1:</b>\n",
    "    \n",
    "Great that all imports and data load are grouped in different cells before the project. \n",
    "</div>"
   ]
  },
  {
   "cell_type": "markdown",
   "metadata": {},
   "source": [
    "**Explore the data and make some preliminary observations.**"
   ]
  },
  {
   "cell_type": "code",
   "execution_count": 3,
   "metadata": {},
   "outputs": [
    {
     "data": {
      "text/html": [
       "<div>\n",
       "<style scoped>\n",
       "    .dataframe tbody tr th:only-of-type {\n",
       "        vertical-align: middle;\n",
       "    }\n",
       "\n",
       "    .dataframe tbody tr th {\n",
       "        vertical-align: top;\n",
       "    }\n",
       "\n",
       "    .dataframe thead th {\n",
       "        text-align: right;\n",
       "    }\n",
       "</style>\n",
       "<table border=\"1\" class=\"dataframe\">\n",
       "  <thead>\n",
       "    <tr style=\"text-align: right;\">\n",
       "      <th></th>\n",
       "      <th>price</th>\n",
       "      <th>model_year</th>\n",
       "      <th>model</th>\n",
       "      <th>condition</th>\n",
       "      <th>cylinders</th>\n",
       "      <th>fuel</th>\n",
       "      <th>odometer</th>\n",
       "      <th>transmission</th>\n",
       "      <th>type</th>\n",
       "      <th>paint_color</th>\n",
       "      <th>is_4wd</th>\n",
       "      <th>date_posted</th>\n",
       "      <th>days_listed</th>\n",
       "    </tr>\n",
       "  </thead>\n",
       "  <tbody>\n",
       "    <tr>\n",
       "      <th>0</th>\n",
       "      <td>9400</td>\n",
       "      <td>2011.0</td>\n",
       "      <td>bmw x5</td>\n",
       "      <td>good</td>\n",
       "      <td>6.0</td>\n",
       "      <td>gas</td>\n",
       "      <td>145000.0</td>\n",
       "      <td>automatic</td>\n",
       "      <td>SUV</td>\n",
       "      <td>NaN</td>\n",
       "      <td>1.0</td>\n",
       "      <td>2018-06-23</td>\n",
       "      <td>19</td>\n",
       "    </tr>\n",
       "    <tr>\n",
       "      <th>1</th>\n",
       "      <td>25500</td>\n",
       "      <td>NaN</td>\n",
       "      <td>ford f-150</td>\n",
       "      <td>good</td>\n",
       "      <td>6.0</td>\n",
       "      <td>gas</td>\n",
       "      <td>88705.0</td>\n",
       "      <td>automatic</td>\n",
       "      <td>pickup</td>\n",
       "      <td>white</td>\n",
       "      <td>1.0</td>\n",
       "      <td>2018-10-19</td>\n",
       "      <td>50</td>\n",
       "    </tr>\n",
       "    <tr>\n",
       "      <th>2</th>\n",
       "      <td>5500</td>\n",
       "      <td>2013.0</td>\n",
       "      <td>hyundai sonata</td>\n",
       "      <td>like new</td>\n",
       "      <td>4.0</td>\n",
       "      <td>gas</td>\n",
       "      <td>110000.0</td>\n",
       "      <td>automatic</td>\n",
       "      <td>sedan</td>\n",
       "      <td>red</td>\n",
       "      <td>NaN</td>\n",
       "      <td>2019-02-07</td>\n",
       "      <td>79</td>\n",
       "    </tr>\n",
       "    <tr>\n",
       "      <th>3</th>\n",
       "      <td>1500</td>\n",
       "      <td>2003.0</td>\n",
       "      <td>ford f-150</td>\n",
       "      <td>fair</td>\n",
       "      <td>8.0</td>\n",
       "      <td>gas</td>\n",
       "      <td>NaN</td>\n",
       "      <td>automatic</td>\n",
       "      <td>pickup</td>\n",
       "      <td>NaN</td>\n",
       "      <td>NaN</td>\n",
       "      <td>2019-03-22</td>\n",
       "      <td>9</td>\n",
       "    </tr>\n",
       "    <tr>\n",
       "      <th>4</th>\n",
       "      <td>14900</td>\n",
       "      <td>2017.0</td>\n",
       "      <td>chrysler 200</td>\n",
       "      <td>excellent</td>\n",
       "      <td>4.0</td>\n",
       "      <td>gas</td>\n",
       "      <td>80903.0</td>\n",
       "      <td>automatic</td>\n",
       "      <td>sedan</td>\n",
       "      <td>black</td>\n",
       "      <td>NaN</td>\n",
       "      <td>2019-04-02</td>\n",
       "      <td>28</td>\n",
       "    </tr>\n",
       "    <tr>\n",
       "      <th>...</th>\n",
       "      <td>...</td>\n",
       "      <td>...</td>\n",
       "      <td>...</td>\n",
       "      <td>...</td>\n",
       "      <td>...</td>\n",
       "      <td>...</td>\n",
       "      <td>...</td>\n",
       "      <td>...</td>\n",
       "      <td>...</td>\n",
       "      <td>...</td>\n",
       "      <td>...</td>\n",
       "      <td>...</td>\n",
       "      <td>...</td>\n",
       "    </tr>\n",
       "    <tr>\n",
       "      <th>51520</th>\n",
       "      <td>9249</td>\n",
       "      <td>2013.0</td>\n",
       "      <td>nissan maxima</td>\n",
       "      <td>like new</td>\n",
       "      <td>6.0</td>\n",
       "      <td>gas</td>\n",
       "      <td>88136.0</td>\n",
       "      <td>automatic</td>\n",
       "      <td>sedan</td>\n",
       "      <td>black</td>\n",
       "      <td>NaN</td>\n",
       "      <td>2018-10-03</td>\n",
       "      <td>37</td>\n",
       "    </tr>\n",
       "    <tr>\n",
       "      <th>51521</th>\n",
       "      <td>2700</td>\n",
       "      <td>2002.0</td>\n",
       "      <td>honda civic</td>\n",
       "      <td>salvage</td>\n",
       "      <td>4.0</td>\n",
       "      <td>gas</td>\n",
       "      <td>181500.0</td>\n",
       "      <td>automatic</td>\n",
       "      <td>sedan</td>\n",
       "      <td>white</td>\n",
       "      <td>NaN</td>\n",
       "      <td>2018-11-14</td>\n",
       "      <td>22</td>\n",
       "    </tr>\n",
       "    <tr>\n",
       "      <th>51522</th>\n",
       "      <td>3950</td>\n",
       "      <td>2009.0</td>\n",
       "      <td>hyundai sonata</td>\n",
       "      <td>excellent</td>\n",
       "      <td>4.0</td>\n",
       "      <td>gas</td>\n",
       "      <td>128000.0</td>\n",
       "      <td>automatic</td>\n",
       "      <td>sedan</td>\n",
       "      <td>blue</td>\n",
       "      <td>NaN</td>\n",
       "      <td>2018-11-15</td>\n",
       "      <td>32</td>\n",
       "    </tr>\n",
       "    <tr>\n",
       "      <th>51523</th>\n",
       "      <td>7455</td>\n",
       "      <td>2013.0</td>\n",
       "      <td>toyota corolla</td>\n",
       "      <td>good</td>\n",
       "      <td>4.0</td>\n",
       "      <td>gas</td>\n",
       "      <td>139573.0</td>\n",
       "      <td>automatic</td>\n",
       "      <td>sedan</td>\n",
       "      <td>black</td>\n",
       "      <td>NaN</td>\n",
       "      <td>2018-07-02</td>\n",
       "      <td>71</td>\n",
       "    </tr>\n",
       "    <tr>\n",
       "      <th>51524</th>\n",
       "      <td>6300</td>\n",
       "      <td>2014.0</td>\n",
       "      <td>nissan altima</td>\n",
       "      <td>good</td>\n",
       "      <td>4.0</td>\n",
       "      <td>gas</td>\n",
       "      <td>NaN</td>\n",
       "      <td>automatic</td>\n",
       "      <td>sedan</td>\n",
       "      <td>NaN</td>\n",
       "      <td>NaN</td>\n",
       "      <td>2018-06-05</td>\n",
       "      <td>10</td>\n",
       "    </tr>\n",
       "  </tbody>\n",
       "</table>\n",
       "<p>51525 rows × 13 columns</p>\n",
       "</div>"
      ],
      "text/plain": [
       "       price  model_year           model  condition  cylinders fuel  odometer  \\\n",
       "0       9400      2011.0          bmw x5       good        6.0  gas  145000.0   \n",
       "1      25500         NaN      ford f-150       good        6.0  gas   88705.0   \n",
       "2       5500      2013.0  hyundai sonata   like new        4.0  gas  110000.0   \n",
       "3       1500      2003.0      ford f-150       fair        8.0  gas       NaN   \n",
       "4      14900      2017.0    chrysler 200  excellent        4.0  gas   80903.0   \n",
       "...      ...         ...             ...        ...        ...  ...       ...   \n",
       "51520   9249      2013.0   nissan maxima   like new        6.0  gas   88136.0   \n",
       "51521   2700      2002.0     honda civic    salvage        4.0  gas  181500.0   \n",
       "51522   3950      2009.0  hyundai sonata  excellent        4.0  gas  128000.0   \n",
       "51523   7455      2013.0  toyota corolla       good        4.0  gas  139573.0   \n",
       "51524   6300      2014.0   nissan altima       good        4.0  gas       NaN   \n",
       "\n",
       "      transmission    type paint_color  is_4wd date_posted  days_listed  \n",
       "0        automatic     SUV         NaN     1.0  2018-06-23           19  \n",
       "1        automatic  pickup       white     1.0  2018-10-19           50  \n",
       "2        automatic   sedan         red     NaN  2019-02-07           79  \n",
       "3        automatic  pickup         NaN     NaN  2019-03-22            9  \n",
       "4        automatic   sedan       black     NaN  2019-04-02           28  \n",
       "...            ...     ...         ...     ...         ...          ...  \n",
       "51520    automatic   sedan       black     NaN  2018-10-03           37  \n",
       "51521    automatic   sedan       white     NaN  2018-11-14           22  \n",
       "51522    automatic   sedan        blue     NaN  2018-11-15           32  \n",
       "51523    automatic   sedan       black     NaN  2018-07-02           71  \n",
       "51524    automatic   sedan         NaN     NaN  2018-06-05           10  \n",
       "\n",
       "[51525 rows x 13 columns]"
      ]
     },
     "execution_count": 3,
     "metadata": {},
     "output_type": "execute_result"
    }
   ],
   "source": [
    "# View some rows to see what the data look like.\n",
    "data"
   ]
  },
  {
   "cell_type": "markdown",
   "metadata": {},
   "source": [
    "Total number of variables: 13\n",
    "\n",
    "* price: the price at which the vehicle was sold\n",
    "* model_year: the year designated to the vehicle model, irrespective of the calendar year in which the vehicle was actually produced \n",
    "* model: the name used by the manufacturer to market a range of similar cars\n",
    "* condition: the condition of the vehicle at the time the ad was placed\n",
    "* cylinders: the numbers of cylinders to power the engine. The most common are 4, 6 and 8.\n",
    "* fuel: the type of fuel the vehicle used\n",
    "* odometer: the distance that had been traveled by the vehicle at the time the ad was placed\n",
    "* transmission: the method of transferring power from the engine to the wheels\n",
    "* type: the vehicle type\n",
    "* paint_color: the colour of the vehicle\n",
    "* is_4wd: whether the vehicle has a 4x4 system or not\n",
    "* date_posted: the date on which the ad was placed\n",
    "* days_listed: the number of days since the ad was placed until it was removed, i.e. the vehicle was not necessarily sold.\n",
    " \n",
    "[Observations]\n",
    "* missing values (-> Step 2. Data preprocessing)\n",
    "    <br>o model_year\n",
    "    <br>o odometer\n",
    "    <br>o paint_color\n",
    "    <br>o is_4wd\n",
    "<br>\n",
    "\n",
    "* data type conversion (-> Step 2. Data preprocessing)\n",
    "    <br>o model_year: float -> int [no such thing as \"a 2021.5 model\" so it makes better sense]\n",
    "    <br>o cylinders: float -> int [no such thing as \"4.6 cylinders\" so it makes better sense]\n",
    "    <br>o is_4wd: float -> boolean [it's either a 4wd or not]\n",
    "<br>\n",
    "\n",
    "* variable renaming (-> Step 2. Data preprocessing)\n",
    "    <br>o odometer: rename to 'mileage' [for ease of understanding]\n",
    "\n",
    "[Comment]\n",
    "A side remark - because the csv file is suffixed with \"_us\", I am guessing that the currency is USD. "
   ]
  },
  {
   "cell_type": "code",
   "execution_count": 4,
   "metadata": {},
   "outputs": [
    {
     "name": "stdout",
     "output_type": "stream",
     "text": [
      "<class 'pandas.core.frame.DataFrame'>\n",
      "RangeIndex: 51525 entries, 0 to 51524\n",
      "Data columns (total 13 columns):\n",
      " #   Column        Non-Null Count  Dtype  \n",
      "---  ------        --------------  -----  \n",
      " 0   price         51525 non-null  int64  \n",
      " 1   model_year    47906 non-null  float64\n",
      " 2   model         51525 non-null  object \n",
      " 3   condition     51525 non-null  object \n",
      " 4   cylinders     46265 non-null  float64\n",
      " 5   fuel          51525 non-null  object \n",
      " 6   odometer      43633 non-null  float64\n",
      " 7   transmission  51525 non-null  object \n",
      " 8   type          51525 non-null  object \n",
      " 9   paint_color   42258 non-null  object \n",
      " 10  is_4wd        25572 non-null  float64\n",
      " 11  date_posted   51525 non-null  object \n",
      " 12  days_listed   51525 non-null  int64  \n",
      "dtypes: float64(4), int64(2), object(7)\n",
      "memory usage: 5.1+ MB\n"
     ]
    }
   ],
   "source": [
    "# Get some general info on the data. \n",
    "data.info()"
   ]
  },
  {
   "cell_type": "markdown",
   "metadata": {},
   "source": [
    "Total number of rows: 51525\n",
    "\n",
    "[Observations]\n",
    "\n",
    "* missing values (-> Step 2. Data preprocessing)\n",
    "    <br>o cylinders\n",
    "* data type conversion (-> Step 2. Data preprocessing)\n",
    "<br>o date_posted: object -> datetime [express in %Y-%m-%d format so we can perform date calculations if necessary]"
   ]
  },
  {
   "cell_type": "code",
   "execution_count": 5,
   "metadata": {},
   "outputs": [
    {
     "data": {
      "text/html": [
       "<div>\n",
       "<style scoped>\n",
       "    .dataframe tbody tr th:only-of-type {\n",
       "        vertical-align: middle;\n",
       "    }\n",
       "\n",
       "    .dataframe tbody tr th {\n",
       "        vertical-align: top;\n",
       "    }\n",
       "\n",
       "    .dataframe thead th {\n",
       "        text-align: right;\n",
       "    }\n",
       "</style>\n",
       "<table border=\"1\" class=\"dataframe\">\n",
       "  <thead>\n",
       "    <tr style=\"text-align: right;\">\n",
       "      <th></th>\n",
       "      <th>price</th>\n",
       "      <th>model_year</th>\n",
       "      <th>cylinders</th>\n",
       "      <th>odometer</th>\n",
       "      <th>is_4wd</th>\n",
       "      <th>days_listed</th>\n",
       "    </tr>\n",
       "  </thead>\n",
       "  <tbody>\n",
       "    <tr>\n",
       "      <th>count</th>\n",
       "      <td>51525.000000</td>\n",
       "      <td>47906.000000</td>\n",
       "      <td>46265.000000</td>\n",
       "      <td>43633.000000</td>\n",
       "      <td>25572.0</td>\n",
       "      <td>51525.00000</td>\n",
       "    </tr>\n",
       "    <tr>\n",
       "      <th>mean</th>\n",
       "      <td>12132.464920</td>\n",
       "      <td>2009.750470</td>\n",
       "      <td>6.125235</td>\n",
       "      <td>115553.461738</td>\n",
       "      <td>1.0</td>\n",
       "      <td>39.55476</td>\n",
       "    </tr>\n",
       "    <tr>\n",
       "      <th>std</th>\n",
       "      <td>10040.803015</td>\n",
       "      <td>6.282065</td>\n",
       "      <td>1.660360</td>\n",
       "      <td>65094.611341</td>\n",
       "      <td>0.0</td>\n",
       "      <td>28.20427</td>\n",
       "    </tr>\n",
       "    <tr>\n",
       "      <th>min</th>\n",
       "      <td>1.000000</td>\n",
       "      <td>1908.000000</td>\n",
       "      <td>3.000000</td>\n",
       "      <td>0.000000</td>\n",
       "      <td>1.0</td>\n",
       "      <td>0.00000</td>\n",
       "    </tr>\n",
       "    <tr>\n",
       "      <th>25%</th>\n",
       "      <td>5000.000000</td>\n",
       "      <td>2006.000000</td>\n",
       "      <td>4.000000</td>\n",
       "      <td>70000.000000</td>\n",
       "      <td>1.0</td>\n",
       "      <td>19.00000</td>\n",
       "    </tr>\n",
       "    <tr>\n",
       "      <th>50%</th>\n",
       "      <td>9000.000000</td>\n",
       "      <td>2011.000000</td>\n",
       "      <td>6.000000</td>\n",
       "      <td>113000.000000</td>\n",
       "      <td>1.0</td>\n",
       "      <td>33.00000</td>\n",
       "    </tr>\n",
       "    <tr>\n",
       "      <th>75%</th>\n",
       "      <td>16839.000000</td>\n",
       "      <td>2014.000000</td>\n",
       "      <td>8.000000</td>\n",
       "      <td>155000.000000</td>\n",
       "      <td>1.0</td>\n",
       "      <td>53.00000</td>\n",
       "    </tr>\n",
       "    <tr>\n",
       "      <th>max</th>\n",
       "      <td>375000.000000</td>\n",
       "      <td>2019.000000</td>\n",
       "      <td>12.000000</td>\n",
       "      <td>990000.000000</td>\n",
       "      <td>1.0</td>\n",
       "      <td>271.00000</td>\n",
       "    </tr>\n",
       "  </tbody>\n",
       "</table>\n",
       "</div>"
      ],
      "text/plain": [
       "               price    model_year     cylinders       odometer   is_4wd  \\\n",
       "count   51525.000000  47906.000000  46265.000000   43633.000000  25572.0   \n",
       "mean    12132.464920   2009.750470      6.125235  115553.461738      1.0   \n",
       "std     10040.803015      6.282065      1.660360   65094.611341      0.0   \n",
       "min         1.000000   1908.000000      3.000000       0.000000      1.0   \n",
       "25%      5000.000000   2006.000000      4.000000   70000.000000      1.0   \n",
       "50%      9000.000000   2011.000000      6.000000  113000.000000      1.0   \n",
       "75%     16839.000000   2014.000000      8.000000  155000.000000      1.0   \n",
       "max    375000.000000   2019.000000     12.000000  990000.000000      1.0   \n",
       "\n",
       "       days_listed  \n",
       "count  51525.00000  \n",
       "mean      39.55476  \n",
       "std       28.20427  \n",
       "min        0.00000  \n",
       "25%       19.00000  \n",
       "50%       33.00000  \n",
       "75%       53.00000  \n",
       "max      271.00000  "
      ]
     },
     "execution_count": 5,
     "metadata": {},
     "output_type": "execute_result"
    }
   ],
   "source": [
    "# Get some more general info on the quantitative data. \n",
    "data.describe()"
   ]
  },
  {
   "cell_type": "markdown",
   "metadata": {},
   "source": [
    "[Observations]\n",
    "\n",
    "* price (-> Step 4. Carry out exploratory data analysis)\n",
    "    <br>o min = 1? Vehicles that cost a dollar? A clerical error? The vehicles are so expensive that the sellers do not want to reveal the price? An outlier?\n",
    "    <br>o The median price is around 9K.\n",
    "    <br>o At least 25% of the vehicles are sold at no less than 5K.\n",
    "    <br>o At least 75% of the vehicles are sold at no less than 17K approx.\n",
    "    <br>o max = 375K. The mean and the median (50%) are quite different. The max value does seem way far off above the upper boundary of the normal range (mean + std = 22,173) and it seems to pull the mean higher. Maybe there are Porsches for sale? An outlier?\n",
    "<br>\n",
    "\n",
    "* model_year (-> Step 4. Carry out exploratory data analysis)\n",
    "    <br>o min = 1908? Vintage cars for collectors?\n",
    "    <br>o The mean and median (50%) are about 2 years apart, which is not a big difference. \n",
    "<br>\n",
    "\n",
    "* cylinders (-> Step 4. Carry out exploratory data analysis)\n",
    "    <br>o max = 12!! We have some Lamborghinis on sale here!\n",
    "    <br>o The mean and median (50%) are very similar. So the max value is not an outlier. \n",
    "<br>\n",
    "\n",
    "* odometer (-> Step 4. Carry out exploratory data analysis)\n",
    "    <br>o min = 0. Even vehicles fresh out of the factory have some kind of mileage. A clerical error? Sellers hiding an extremely high mileage?\n",
    "    <br>o max = 990000. Though this seems way far off above the upper boundary of the normal range (mean + std = 180,648), the mean and median are not very different (115553 - 113000. = 1500). So not an outlier? (-> Step 4. Carry out exploratory data analysis)\n",
    "<br>\n",
    "\n",
    "* days_listed (-> Step 4. Carry out exploratory data analysis)\n",
    "    <br>o min = 0. Brand new ads that happen to be placed on the day the report was made?\n",
    "    <br>o max = 271. The ads have been up for more than 9 months. The vehicles have already been sold and they forgot to take the ads down, or the sellers should give up on selling the workthless cars?\n",
    "    <br> o The mean and median differ by about 7 days (40 - 33 = 7), which is not too big a difference. So the max is not an outlier?"
   ]
  },
  {
   "cell_type": "markdown",
   "metadata": {},
   "source": [
    "Let's see what kind of values are there in each column.\n",
    "\n",
    "Note: skipping this step for 'price', 'odometer', 'date_posted' and 'days_listed' since the lists are too long and cannot spot anomalies this way."
   ]
  },
  {
   "cell_type": "code",
   "execution_count": 6,
   "metadata": {},
   "outputs": [],
   "source": [
    "# View the unique values in model_year. \n",
    "#data.model_year.unique()"
   ]
  },
  {
   "cell_type": "markdown",
   "metadata": {},
   "source": [
    "[Observation] Nothing new to add."
   ]
  },
  {
   "cell_type": "code",
   "execution_count": 7,
   "metadata": {},
   "outputs": [],
   "source": [
    "# View the unique values in model. \n",
    "#data.model.unique()"
   ]
  },
  {
   "cell_type": "markdown",
   "metadata": {},
   "source": [
    "[Observation] Suspicious - there may be duplicate values (e.g. presence/absence of a hyphen). (-> Step 2. Data preprocessing)"
   ]
  },
  {
   "cell_type": "code",
   "execution_count": 8,
   "metadata": {},
   "outputs": [],
   "source": [
    "# View the unique values in condition. \n",
    "#data.condition.unique()"
   ]
  },
  {
   "cell_type": "markdown",
   "metadata": {},
   "source": [
    "[Observation] No anomalies. \n",
    "<br>Replace string values with a numeric scale. (-> Step 3. Calculate and add to the table the following)\n",
    "* new = 5\n",
    "* like new = 4\n",
    "* excellent = 3\n",
    "* good = 2\n",
    "* fair = 1\n",
    "* salvage = 0"
   ]
  },
  {
   "cell_type": "code",
   "execution_count": 9,
   "metadata": {},
   "outputs": [
    {
     "data": {
      "text/plain": [
       "array([ 6.,  4.,  8., nan,  5., 10.,  3., 12.])"
      ]
     },
     "execution_count": 9,
     "metadata": {},
     "output_type": "execute_result"
    }
   ],
   "source": [
    "# View the unique values in cylinders. \n",
    "data.cylinders.unique()"
   ]
  },
  {
   "cell_type": "markdown",
   "metadata": {},
   "source": [
    "[Observation] Nothing new to add."
   ]
  },
  {
   "cell_type": "code",
   "execution_count": 10,
   "metadata": {},
   "outputs": [
    {
     "data": {
      "text/plain": [
       "array(['gas', 'diesel', 'other', 'hybrid', 'electric'], dtype=object)"
      ]
     },
     "execution_count": 10,
     "metadata": {},
     "output_type": "execute_result"
    }
   ],
   "source": [
    "# View the unique values in fuel. \n",
    "data.fuel.unique()"
   ]
  },
  {
   "cell_type": "markdown",
   "metadata": {},
   "source": [
    "[Observation] No anomalies."
   ]
  },
  {
   "cell_type": "code",
   "execution_count": 11,
   "metadata": {},
   "outputs": [
    {
     "data": {
      "text/plain": [
       "array(['automatic', 'manual', 'other'], dtype=object)"
      ]
     },
     "execution_count": 11,
     "metadata": {},
     "output_type": "execute_result"
    }
   ],
   "source": [
    "# View the unique values in transmission. \n",
    "data.transmission.unique()"
   ]
  },
  {
   "cell_type": "markdown",
   "metadata": {},
   "source": [
    "[Observation] No anomalies. I have verified on the web 'other' is OK because there are also other transmission types in addition to \"automatic\" and \"manual\". "
   ]
  },
  {
   "cell_type": "code",
   "execution_count": 12,
   "metadata": {},
   "outputs": [
    {
     "data": {
      "text/plain": [
       "array(['SUV', 'pickup', 'sedan', 'truck', 'coupe', 'van', 'convertible',\n",
       "       'hatchback', 'wagon', 'mini-van', 'other', 'offroad', 'bus'],\n",
       "      dtype=object)"
      ]
     },
     "execution_count": 12,
     "metadata": {},
     "output_type": "execute_result"
    }
   ],
   "source": [
    "# View the unique values in type. \n",
    "data.type.unique()"
   ]
  },
  {
   "cell_type": "markdown",
   "metadata": {},
   "source": [
    "[Observation] No anomalies."
   ]
  },
  {
   "cell_type": "code",
   "execution_count": 13,
   "metadata": {},
   "outputs": [
    {
     "data": {
      "text/plain": [
       "array([nan, 'white', 'red', 'black', 'blue', 'grey', 'silver', 'custom',\n",
       "       'orange', 'yellow', 'brown', 'green', 'purple'], dtype=object)"
      ]
     },
     "execution_count": 13,
     "metadata": {},
     "output_type": "execute_result"
    }
   ],
   "source": [
    "# View the unique values in paint_color. \n",
    "data.paint_color.unique()"
   ]
  },
  {
   "cell_type": "markdown",
   "metadata": {},
   "source": [
    "[Observation] Nothing new to add."
   ]
  },
  {
   "cell_type": "code",
   "execution_count": 14,
   "metadata": {},
   "outputs": [
    {
     "data": {
      "text/plain": [
       "array([ 1., nan])"
      ]
     },
     "execution_count": 14,
     "metadata": {},
     "output_type": "execute_result"
    }
   ],
   "source": [
    "# View the unique values in is_4wd. \n",
    "data.is_4wd.unique()"
   ]
  },
  {
   "cell_type": "markdown",
   "metadata": {},
   "source": [
    "[Observation] Replace 'nan' with 'False'. (-> Step2. Data preprocessing)"
   ]
  },
  {
   "cell_type": "markdown",
   "metadata": {},
   "source": [
    "<div class=\"alert alert-block alert-success\">\n",
    "<b>Reviewer's comment v1:</b>\n",
    "    \n",
    "A very good start and first view on data. \n",
    "\n",
    "</div>"
   ]
  },
  {
   "cell_type": "markdown",
   "metadata": {},
   "source": [
    "### Conclusion"
   ]
  },
  {
   "cell_type": "markdown",
   "metadata": {},
   "source": [
    "[Missing values]\n",
    "<br>The following variables will be taken care of in \"Step 2. Data preprocessing\":\n",
    "* model_year\n",
    "* odometer\n",
    "* paint_color\n",
    "* is_4wd\n",
    "* cylinders\n",
    "<br>\n",
    "\n",
    "[Data type conversion]\n",
    "<br>The following variables will be taken care of in \"Step 2. Data preprocessing\":\n",
    "* model_year\n",
    "* cylinders\n",
    "* is_4wd\n",
    "* date_posted\n",
    "<br>\n",
    "\n",
    "[Duplicates]\n",
    "<br>The following variable will be taken care of in \"Step 2. Data preprocessing\":\n",
    "* model\n",
    "<br>\n",
    "\n",
    "[Variable renaming]\n",
    "<br>The following variable will be taken care of in \"Step 2. Data preprocessing\":\n",
    "* odometer\n",
    "<br>\n",
    "\n",
    "[Categorical to quantitative variable category conversion]\n",
    "<br>The following variable will be taken care of in \"Step 3. Calculate and add to the table the following\":\n",
    "* condition\n",
    "<br>\n",
    "\n",
    "[Exploratory data analysis]\n",
    "<br>The following variables will be the target of further investigation in \"Step 4. Carry out exploratory data analysis\":\n",
    "* price\n",
    "* model_year\n",
    "* cylinders\n",
    "* odometer\n",
    "* days_listed"
   ]
  },
  {
   "cell_type": "markdown",
   "metadata": {},
   "source": []
  },
  {
   "cell_type": "markdown",
   "metadata": {},
   "source": [
    "<div class=\"alert alert-warning\">\n",
    "<b>Reviewer's comment v1:</b>\n",
    "       \n",
    "Additionally `value_counts` method can be used to check data, especially can be helpful to check dublicates in the model column like  `ford f-250 sd` or  `ford f-250 super duty`.\n",
    "\n",
    "In pandas when we print a dataframe, it displays at max_rows number of rows. If we have more rows, then it truncates the rows. To check the maximum number of rows you can use the following code: \n",
    "    \n",
    "    pandas.options.display.max_rows\n",
    "  \n",
    "  To display all rows in the dataframe you need to add the following code, so that this max_rows limitation will be switched off.\n",
    "\n",
    "    pd.set_option('display.max_rows', None)\n",
    "\n",
    "</div>"
   ]
  },
  {
   "cell_type": "markdown",
   "metadata": {},
   "source": [
    "<div class=\"alert alert-info\"> <b>Student comments:</b> That was exactly my problem! In order to see the inconsistencies in 'model' values, I wanted to display the full list but value_counts() abbreviated the middle part due to its length. I will be switching off the max_rows limitation left, right and centre from now on! \n",
    "\n",
    "    pd.set_option('display.max_rows', None)\n",
    "    data.model.value_counts().sort_index(ascending=True)\n",
    "\n",
    "[Update] Since I switched off the max_rows limitation, I started viewing all the rows in full in every cell where I did not limit it with .head() and .tail() and jupyter hub went into an overdrive! So I have learned that I should use this code in moderation. ;D\n",
    "    \n",
    "The other thing was the timing. In order to follow the template in the project descripion, I stopped myself from going in too deep in the section above and left a note that I would be looking into this issue later \"(-> Step 2. Data preprocessing)\". \n",
    "</div>"
   ]
  },
  {
   "cell_type": "markdown",
   "metadata": {},
   "source": [
    "<div class=\"alert alert-block alert-success\">\n",
    "<b>Reviewer's comment v2:</b>\n",
    "    \n",
    "\"All columns\" function is indeed not required every time, but at the same time I can definetely recomend to always use .sample() or .head() for tables.\n",
    "</div>"
   ]
  },
  {
   "cell_type": "markdown",
   "metadata": {},
   "source": [
    "## Data preprocessing"
   ]
  },
  {
   "cell_type": "markdown",
   "metadata": {},
   "source": [
    "Since it makes my life easier when I take care of missing values, I would like to do the following at this stage:\n",
    "\n",
    "* rename 'odometer' to 'mileage'\n",
    "* unify inconsistent naming in 'model'"
   ]
  },
  {
   "cell_type": "markdown",
   "metadata": {},
   "source": [
    "**Rename variables**"
   ]
  },
  {
   "cell_type": "code",
   "execution_count": 15,
   "metadata": {},
   "outputs": [],
   "source": [
    "# Rename 'odometer' to 'mileage' for ease of understanding.\n",
    "data.rename(columns={'odometer':'mileage'}, inplace=True)\n",
    "\n",
    "# Verify it worked. \n",
    "#data.info()"
   ]
  },
  {
   "cell_type": "markdown",
   "metadata": {},
   "source": [
    "[Observation] From here on, 'odometer' will be referred as 'mileage'."
   ]
  },
  {
   "cell_type": "markdown",
   "metadata": {},
   "source": [
    "**Take care of duplicates  in 'model' due to the presence/absence of a hyphen**"
   ]
  },
  {
   "cell_type": "markdown",
   "metadata": {},
   "source": [
    "During my preliminary exploration of 'mode', I had found the values suspicious and wanted to check properly. So here it is. "
   ]
  },
  {
   "cell_type": "code",
   "execution_count": 16,
   "metadata": {},
   "outputs": [],
   "source": [
    "# View the unique values in 'model' in alphabetical order. \n",
    "#sorted(data.model.unique())"
   ]
  },
  {
   "cell_type": "markdown",
   "metadata": {},
   "source": [
    "[Observation] Lo and behold, the inconsistent use of the hyphen caused the same model to be categorised separately. Unify them as follows: \n",
    "\n",
    "* 'ford f-150', 'ford f150' -> unify as 'ford f150'\n",
    "* 'ford f-250', 'ford f250' -> unify as 'ford f250'\n",
    "* 'ford f-250 sd', 'ford f-250 super duty', 'ford f250 super duty' -> unify as 'ford f250 super duty' \n",
    "* 'ford f-350 sd', 'ford f350 super duty' -> unify as 'ford f350 super duty'"
   ]
  },
  {
   "cell_type": "code",
   "execution_count": 17,
   "metadata": {},
   "outputs": [],
   "source": [
    "# Change 'ford f-150' to 'ford f150'.\n",
    "data.loc[data['model'] == 'ford f-150', 'model'] = 'ford f150'\n",
    "\n",
    "# Verify it worked. \n",
    "#sorted(data.model.unique())"
   ]
  },
  {
   "cell_type": "code",
   "execution_count": 18,
   "metadata": {},
   "outputs": [],
   "source": [
    "# Change 'ford f-250' to 'ford f250'.\n",
    "data.loc[data['model'] == 'ford f-250', 'model'] = 'ford f250'\n",
    "\n",
    "# Verify it worked. \n",
    "#sorted(data.model.unique())"
   ]
  },
  {
   "cell_type": "code",
   "execution_count": 19,
   "metadata": {},
   "outputs": [],
   "source": [
    "# Change 'ford f-250 sd' and 'ford f-250 super duty' to 'ford f250 super duty'.\n",
    "data.loc[data['model'] == 'ford f-250 sd', 'model'] = 'ford f250 super duty'\n",
    "data.loc[data['model'] == 'ford f-250 super duty', 'model'] = 'ford f250 super duty'\n",
    "\n",
    "# Verify it worked. \n",
    "#sorted(data.model.unique())"
   ]
  },
  {
   "cell_type": "code",
   "execution_count": 20,
   "metadata": {},
   "outputs": [],
   "source": [
    "# Change 'ford f-350 sd' to 'ford f350 super duty'.\n",
    "data.loc[data['model'] == 'ford f-350 sd', 'model'] = 'ford f350 super duty'\n",
    "\n",
    "# Verify it worked. \n",
    "#sorted(data.model.unique())"
   ]
  },
  {
   "cell_type": "markdown",
   "metadata": {},
   "source": [
    "<div class=\"alert alert-block alert-success\">\n",
    "<b>Reviewer's comment v1:</b>\n",
    "    \n",
    "Ah, great that you identified data with similar car model name!\n",
    "\n",
    "</div>"
   ]
  },
  {
   "cell_type": "markdown",
   "metadata": {},
   "source": [
    "<div class=\"alert alert-info\"> <b>Student comments:</b> Yes, I waited until I got here to investigate and take care of the inconsistencies in 'model' because of the template in the project description.</div>  "
   ]
  },
  {
   "cell_type": "markdown",
   "metadata": {},
   "source": [
    "**Identify and study missing values**"
   ]
  },
  {
   "cell_type": "markdown",
   "metadata": {},
   "source": [
    "Determine how to fill missing values in such a way that the general characteristics of the dataset are maintained, and fill them."
   ]
  },
  {
   "cell_type": "code",
   "execution_count": 21,
   "metadata": {},
   "outputs": [],
   "source": [
    "# View which columns are missing values.\n",
    "#data.isnull().sum()"
   ]
  },
  {
   "cell_type": "markdown",
   "metadata": {},
   "source": [
    "Evalute the ratio of the missing values that each variable contributes.\n",
    "Total number of rows: 51525\n",
    "* model_year = 3619 / 51525 = 0.070 -> 7%\n",
    "* cylinders = 5260 / 51525 = 0.10 -> 10%\n",
    "* mileage = 7892 / 51525 = 0.15 -> 15%\n",
    "* paint_color = 9267 / 51525 = 0.18 -> 18%\n",
    "* is_4wd = 25953 / 51525 = 0.50% -> 50%"
   ]
  },
  {
   "cell_type": "markdown",
   "metadata": {},
   "source": [
    "<div class=\"alert alert-block alert-success\">\n",
    "<b>Reviewer's comment v1:</b>\n",
    "    \n",
    "Great that you calculated the percentage of missing values. It helps to understand the overall impact and to make a more weighted decision regarding what to do next.\n",
    "\n",
    "You can also create a dataframe with missing values using, for example, this code:\n",
    "\n",
    "    mis_values = data.isnull().sum().to_frame('missing_values')\n",
    "    mis_values['%'] = round(data.isnull().sum()/len(data),3)\n",
    "    mis_values.sort_values(by='%', ascending=False)\n",
    "\n",
    "</div>"
   ]
  },
  {
   "cell_type": "markdown",
   "metadata": {},
   "source": [
    "<div class=\"alert alert-info\"> <b>Student comments:</b> Nice! I will automate the process from now on. :)</div>  "
   ]
  },
  {
   "cell_type": "markdown",
   "metadata": {},
   "source": [
    "**Variable: is_4wd**"
   ]
  },
  {
   "cell_type": "markdown",
   "metadata": {},
   "source": [
    "A 'is_4wd' variable value is missing from 25953 rows.\n",
    "\n",
    "Possible reasons: data entry was made only when a vehicle was a 4x4. \n",
    "<br>Handling method: 'is_4wd' indicates if a vehicle is a 4x4 or not. unique() showed only '1' ('NaN' being the other). Those vehicles that are not marked '1' presumably are not a 4wd. So 'NaN' can be filled with '0'."
   ]
  },
  {
   "cell_type": "code",
   "execution_count": 22,
   "metadata": {},
   "outputs": [
    {
     "name": "stdout",
     "output_type": "stream",
     "text": [
      "one 1.0    25572\n",
      "Name: is_4wd, dtype: int64\n",
      "empty 25953\n"
     ]
    }
   ],
   "source": [
    "# Count the number of non-null values (value of '1'). \n",
    "one = data['is_4wd'].value_counts()\n",
    "\n",
    "# Count the number of null values ('NaN'). \n",
    "empty = data['is_4wd'].isnull().sum()\n",
    "\n",
    "# Print the counts.\n",
    "print('one', one)\n",
    "print('empty', empty)"
   ]
  },
  {
   "cell_type": "markdown",
   "metadata": {},
   "source": [
    "[Observation] \n",
    "* the number of rows with '1': 25572\n",
    "* the number of rows with 'NaN': 25953\n",
    "* total: 25572 + 25953 = 51525 -> OK, making sure that the total number adds up to the original dataset. "
   ]
  },
  {
   "cell_type": "code",
   "execution_count": 23,
   "metadata": {},
   "outputs": [],
   "source": [
    "# Fill the missing values with a '0'.\n",
    "data['is_4wd'] = data['is_4wd'].fillna(0)\n",
    "\n",
    "# Verify it worked. \n",
    "#data.is_4wd.unique()\n",
    "#data.isnull().sum()"
   ]
  },
  {
   "cell_type": "markdown",
   "metadata": {},
   "source": [
    "<div class=\"alert alert-block alert-success\">\n",
    "<b>Reviewer's comment v1:</b>\n",
    "    \n",
    "Indeed, `is_4wd` contains a boolean type of information (yes/no). So filling missing data with 0 will allow us to keep a potentially useful feature.\n",
    "\n",
    "</div>"
   ]
  },
  {
   "cell_type": "markdown",
   "metadata": {},
   "source": [
    "<div class=\"alert alert-info\"> <b>Student comments:</b> Again, because of the project template, I felt I had to handle \"missing values\" and \"data type conversion\" separately. Otherwise, I would have converted 'is_4wd' here in a single line of code. Will that be acceptable in real life scenario, or doing it in two separate sections the recommended work process?</div>  "
   ]
  },
  {
   "cell_type": "markdown",
   "metadata": {},
   "source": [
    "<div class=\"alert alert-block alert-success\">\n",
    "<b>Reviewer's comment v2:</b>\n",
    "\n",
    "Yes, it is possible to split these activities (not a strict rule or requirement) and make a data type conversion as a last step before data analysis.\n",
    "</div>"
   ]
  },
  {
   "cell_type": "markdown",
   "metadata": {},
   "source": [
    "**Variable: paint_color**"
   ]
  },
  {
   "cell_type": "markdown",
   "metadata": {},
   "source": [
    "A 'paint_color' variable value is missing from 9267 rows.\n",
    "\n",
    "Possible reasons: a clerical error during data entry; customers failing to reveal the information\n",
    "<br>Handling method: the colour of a vehicle is a very subjective matter, and it does not seem possible or right to try and guess to restore the missing values. I do not want to drop the rows with missing values because there is valuable data in other variables in those rows. So 'NaN' can be filled with 'Unknown'."
   ]
  },
  {
   "cell_type": "code",
   "execution_count": 24,
   "metadata": {},
   "outputs": [
    {
     "name": "stdout",
     "output_type": "stream",
     "text": [
      "full 42258\n",
      "empty 9267\n"
     ]
    }
   ],
   "source": [
    "# Count the number of non-null values. \n",
    "#full = data['paint_color'].value_counts()\n",
    "full = data['paint_color'].notnull().sum()\n",
    "\n",
    "# Count the number of null values ('NaN'). \n",
    "empty = data['paint_color'].isnull().sum()\n",
    "\n",
    "# Print the counts.\n",
    "print('full', full)\n",
    "print('empty', empty)"
   ]
  },
  {
   "cell_type": "markdown",
   "metadata": {},
   "source": [
    "[Observation]\n",
    "\n",
    "* the number of rows are full: 42258\n",
    "* the number of rows with 'NaN': 9267\n",
    "* total: 42258 + 9267 = 51525 -> OK, making sure that the total number adds up to the original dataset."
   ]
  },
  {
   "cell_type": "code",
   "execution_count": 25,
   "metadata": {},
   "outputs": [],
   "source": [
    "# Fill the missing values with 'unknown' and store in a new column in order to keep the original raw data.\n",
    "data['filled_paint_color'] = data['paint_color'].fillna('unknown')\n",
    "\n",
    "# Verify it worked. \n",
    "#data.filled_paint_color.unique()\n",
    "#data.isnull().sum()"
   ]
  },
  {
   "cell_type": "markdown",
   "metadata": {},
   "source": [
    "<div class=\"alert alert-block alert-success\">\n",
    "<b>Reviewer's comment v1:</b>\n",
    "    \n",
    "That is also correct to fill it with others, as it is not possible to fill this value based on other car features. \n",
    "</div>"
   ]
  },
  {
   "cell_type": "markdown",
   "metadata": {},
   "source": [
    "<div class=\"alert alert-info\"> <b>Student comments:</b> I will make a better choice of word next time so it will be more in context. :)</div>  "
   ]
  },
  {
   "cell_type": "markdown",
   "metadata": {},
   "source": [
    "<div class=\"alert alert-block alert-success\">\n",
    "<b>Reviewer's comment v2:</b>\n",
    "\n",
    "You did everything correct! By 'others' I meant indeed any word (unknown in your case) that will be filled instead of NaNs.\n",
    "\n",
    "</div>"
   ]
  },
  {
   "cell_type": "markdown",
   "metadata": {},
   "source": [
    "**Variable: cylinders**"
   ]
  },
  {
   "cell_type": "markdown",
   "metadata": {},
   "source": [
    "A 'cylinders' variable value is missing from 5260 rows. \n",
    "\n",
    "Possible reasons: a clerical error during data entry; customers failing to reveal the information\n",
    "<br>Handling method: perhaps, it is possible to know 'cylinders' values from 'model_year' and 'model'.\n",
    "\n",
    "Let's check. "
   ]
  },
  {
   "cell_type": "code",
   "execution_count": 26,
   "metadata": {},
   "outputs": [],
   "source": [
    "# Keep a copy of the original 'cylinders' values just in case, so I will be able to refer to the raw data later as needed. \n",
    "cylinders_copy = data['cylinders']"
   ]
  },
  {
   "cell_type": "markdown",
   "metadata": {},
   "source": [
    "Find the most common value of all the 'cylinder' values for each 'model_year'-'model' pair."
   ]
  },
  {
   "cell_type": "code",
   "execution_count": 27,
   "metadata": {},
   "outputs": [],
   "source": [
    "# Get a slice of the 'data' dataframe where 'cylinders' values are not empty to get an accurate mode value. \n",
    "cylinders_non_empty = data[data['cylinders'].notnull()]\n",
    "\n",
    "# View the slice. \n",
    "#cylinders_non_empty"
   ]
  },
  {
   "cell_type": "markdown",
   "metadata": {},
   "source": [
    "<div class=\"alert alert-warning\">\n",
    "<b>Reviewer's comment v1:</b>\n",
    "       \n",
    "It is not necessary to comment last lines with data output, as I am also curious how it looks :) \n",
    "\n",
    "You can use `cylinders_non_empty.sample(5)` to get 5 random rows from the data or `cylinders_non_empty.head(5)` or \n",
    "`cylinders_non_empty.tail(5)` to get 5 first or last rows.\n",
    "\n",
    "</div>"
   ]
  },
  {
   "cell_type": "markdown",
   "metadata": {},
   "source": [
    "<div class=\"alert alert-info\"> <b>Student comments:</b> This is my second project, and in my previous project, the Reviewer advised me to comment out all the checkings that I do in order to make the project file more readable (I tend to check every single thing, as you saw...), so I made sure everything will be hidden...\n",
    "\n",
    "Regarding limiting the rows to display, I thought to myself, \"the view will be automatically limited anyway, so I won't bother with .head(num) and .tail(num), and I'll save myself from typing 8 more characters.\" Is there an advantage to specifying .head() and .tail() as opposed to freely displaying the preset number of limited rows? \n",
    "    \n",
    "</div>  "
   ]
  },
  {
   "cell_type": "markdown",
   "metadata": {},
   "source": [
    "<div class=\"alert alert-block alert-success\">\n",
    "<b>Reviewer's comment v2:</b>\n",
    "\n",
    "If some data is used to make a conclusion then it is better to show this data. If not, then indeed comment or delete :) \n",
    "Rows are limited in Jupiter notebooks but that is not the case for all tools.\n",
    "\n",
    "</div>"
   ]
  },
  {
   "cell_type": "code",
   "execution_count": 28,
   "metadata": {},
   "outputs": [],
   "source": [
    "# Group the slice by 'model_year' and 'model', and find the most common value in 'cylinders'.\n",
    "cylinders_modes = cylinders_non_empty.groupby(['model_year', 'model'])['cylinders'].agg([pd.Series.mode, 'min'])\n",
    "\n",
    "# View the dataset.\n",
    "#cylinders_modes"
   ]
  },
  {
   "cell_type": "markdown",
   "metadata": {},
   "source": [
    "It looks like there is only one value for each 'model_year'-'model' pair. \n",
    "<br>In case there is more than one, apply the mode operation to choose the most common value, \n",
    "<br>e.g. for [8.0, 8.0, 6.0], the mode is 8.0. \n",
    "\n",
    "In case two values have the same mode, apply the min operation to choose the smaller of the two. I understand that this is the industry standard compromise.\n",
    "<br>e.g. for [8.0, 6.0], the mode returns [8.0, 6.0], so the min is 6.0. "
   ]
  },
  {
   "cell_type": "markdown",
   "metadata": {},
   "source": [
    "[QUESTION] I cannot find a way to leverage 'cylinders_modes' in my line of code with transform(). Could you let me know the correct code?"
   ]
  },
  {
   "cell_type": "markdown",
   "metadata": {},
   "source": [
    "<div class=\"alert alert-block alert-success\">\n",
    "<b>Reviewer's comment v1:</b>\n",
    "  \n",
    "For example, smth like this: \n",
    "        \n",
    "    cylinders_non_empty['cylinders'] = cylinders_non_empty['cylinders'].fillna(cylinders_non_empty.groupby('model')['cylinders'].transform('mode'))\n",
    "\n",
    "</div>"
   ]
  },
  {
   "cell_type": "markdown",
   "metadata": {},
   "source": [
    "<div class=\"alert alert-info\"> <b>Student comments:</b> I'm afraid the code does not work (I got my tutor's help to confirm my findings). :( transform() does not accept 'mode' (it accepts 'sum' but not 'mode'!), and it needs to be grouped by both 'model_year' and 'model'.  But thank you for trying. </div>  "
   ]
  },
  {
   "cell_type": "markdown",
   "metadata": {},
   "source": [
    "<div class=\"alert alert-block alert-success\">\n",
    "<b>Reviewer's comment v2:</b>\n",
    "  \n",
    "Yes, sorry transform only works with categorical values for mode. \n",
    "</div>"
   ]
  },
  {
   "cell_type": "markdown",
   "metadata": {},
   "source": [
    "Let's go ahead and fill the missing values in 'cylinders' with the most common value. \n",
    "<br>Prepare a copy of 'model_year' where all the NaN's are replaced with zero. This is to make sure all the variables are of the same size when filling the missing values in 'cylinders' to avoid an error being issued. \n",
    "<br>'model' has no missing values to start with and there are 51525 rows in full."
   ]
  },
  {
   "cell_type": "code",
   "execution_count": 29,
   "metadata": {},
   "outputs": [],
   "source": [
    "# Fill the missing values in 'model_year' with zero and store in a new column. \n",
    "data['zero_filled_model_year'] = data['model_year'].fillna(0)\n",
    "\n",
    "# Verify it worked.\n",
    "#data['zero_filled_model_year'].isnull().sum()"
   ]
  },
  {
   "cell_type": "code",
   "execution_count": 30,
   "metadata": {},
   "outputs": [],
   "source": [
    "# Fill the missing values in 'cylinders' with the corresponding most common value. \n",
    "# Take care of the case where mode() returns more than one value by choosing one. \n",
    "data['cylinders_mode'] = data.groupby(['zero_filled_model_year', 'model'])['cylinders'].transform(lambda x: x.fillna(x.mode()[0]) if len(x.mode()) == 1 else x.min())"
   ]
  },
  {
   "cell_type": "code",
   "execution_count": 31,
   "metadata": {},
   "outputs": [
    {
     "name": "stdout",
     "output_type": "stream",
     "text": [
      "Defaulting to user installation because normal site-packages is not writeable\n",
      "Requirement already up-to-date: pandas in /home/jovyan/.local/lib/python3.7/site-packages (1.2.5)\n",
      "Requirement already satisfied, skipping upgrade: numpy>=1.16.5 in /opt/conda/lib/python3.7/site-packages (from pandas) (1.19.5)\n",
      "Requirement already satisfied, skipping upgrade: pytz>=2017.3 in /opt/conda/lib/python3.7/site-packages (from pandas) (2021.1)\n",
      "Requirement already satisfied, skipping upgrade: python-dateutil>=2.7.3 in /opt/conda/lib/python3.7/site-packages (from pandas) (2.8.1)\n",
      "Requirement already satisfied, skipping upgrade: six>=1.5 in /opt/conda/lib/python3.7/site-packages (from python-dateutil>=2.7.3->pandas) (1.15.0)\n",
      "Note: you may need to restart the kernel to use updated packages.\n"
     ]
    }
   ],
   "source": [
    "# pip install -U pandas"
   ]
  },
  {
   "cell_type": "markdown",
   "metadata": {},
   "source": [
    "[QUESTION] Even using \"dropna=False\", I get the \"\"ValueError: Length of passed values is 7, index implies 0\", i.e. the code has a problem handling NaNs. Why? (That's why I had used the workaround of 'zero_filled_model_year'.)"
   ]
  },
  {
   "cell_type": "markdown",
   "metadata": {},
   "source": [
    "<div class=\"alert alert-block alert-success\">\n",
    "<b>Reviewer's comment v1:</b>\n",
    "  \n",
    "Sorry, not sure where you are getting the error but you can check a nice article how dropna function works here: https://www.w3resource.com/pandas/dataframe/dataframe-dropna.php\n",
    "\n",
    "\n",
    "</div>"
   ]
  },
  {
   "cell_type": "markdown",
   "metadata": {},
   "source": [
    "<div class=\"alert alert-info\"> <b>Student comments:</b> I was referring to dropna=False like this:\n",
    "    \n",
    "    .groupby(['zero_filled_model_year', 'model'], dropna='False')\n",
    "\n",
    "My tutor says the code should work but sees that it does not. He suspects that something may have changed on pandas' side in the recent updates. \n",
    "</div>  "
   ]
  },
  {
   "cell_type": "markdown",
   "metadata": {},
   "source": [
    "<div class=\"alert alert-block alert-success\">\n",
    "<b>Reviewer's comment v2:</b>\n",
    "  \n",
    "Ah, yes, most likely Yandex environment has not the latest library versions, so this could cause an issue. \n",
    "\n",
    "You can update required library manually. Then it seems to be working. \n",
    "    \n",
    "    # pip install -U pandas\n",
    "\n",
    "    \n",
    "</div>"
   ]
  },
  {
   "cell_type": "code",
   "execution_count": null,
   "metadata": {},
   "outputs": [],
   "source": [
    "# Verify it worked. \n",
    "data['cylinders_mode'].unique()"
   ]
  },
  {
   "cell_type": "markdown",
   "metadata": {},
   "source": [
    "[Observation] There are still NaN's. "
   ]
  },
  {
   "cell_type": "code",
   "execution_count": null,
   "metadata": {},
   "outputs": [],
   "source": [
    "# Check how many NaNs are left. \n",
    "data['cylinders_mode'].isnull().sum()"
   ]
  },
  {
   "cell_type": "code",
   "execution_count": null,
   "metadata": {},
   "outputs": [],
   "source": [
    "# View the data where 'cylinders_mode' still contains NaN.\n",
    "#data[data['cylinders_mode'].isnull()].sort_values(by=['model_year', 'model'])"
   ]
  },
  {
   "cell_type": "markdown",
   "metadata": {},
   "source": [
    "[Observation] There are 'model_year'-'model' pairs where there is no value in 'cylinders', so the function returned a NaN."
   ]
  },
  {
   "cell_type": "code",
   "execution_count": null,
   "metadata": {},
   "outputs": [],
   "source": [
    "# Take care of the remaining cases by replacing the missing values with the most common value in 'model'.\n",
    "#data['cylinders_mode'] = data.groupby('model', dropna=False)['cylinders_mode'].transform(lambda x: x.fillna(x.mode()[0]) if len(x.mode()) == 1 else x.min())\n",
    "data['cylinders_mode'] = data.groupby('model')['cylinders_mode'].transform(lambda x: x.fillna(x.mode()[0]) if len(x.mode()) == 1 else x.min())"
   ]
  },
  {
   "cell_type": "code",
   "execution_count": null,
   "metadata": {},
   "outputs": [],
   "source": [
    "# Verify it worked. \n",
    "data['cylinders_mode'].unique()"
   ]
  },
  {
   "cell_type": "code",
   "execution_count": null,
   "metadata": {},
   "outputs": [],
   "source": [
    "# Check how many NaNs are left. \n",
    "data['cylinders_mode'].isnull().sum()"
   ]
  },
  {
   "cell_type": "markdown",
   "metadata": {},
   "source": [
    "[Observation] 'cylinders_mode' has now been restored in full. "
   ]
  },
  {
   "cell_type": "markdown",
   "metadata": {},
   "source": [
    "I discovered that there are rows where 'cylinders_mode' does not contain the value of 'cylinders' on the same row. \n",
    "So as a workaround, I need to copy the value from 'cylinders_mode' only where 'cylinders' contains NaN."
   ]
  },
  {
   "cell_type": "code",
   "execution_count": null,
   "metadata": {},
   "outputs": [],
   "source": [
    "# Restore the original 'cylinders' into 'cylinders_mode_combined'.\n",
    "data['cylinders_mode_combined'] = cylinders_copy\n",
    "\n",
    "# Fill in the missing value if indices match. \n",
    "data['cylinders_mode_combined'] = data['cylinders_mode_combined'].fillna(data['cylinders_mode'])"
   ]
  },
  {
   "cell_type": "code",
   "execution_count": null,
   "metadata": {},
   "outputs": [],
   "source": [
    "# Check how many NaNs are left. \n",
    "#data['cylinders_mode_combined'].isnull().sum()"
   ]
  },
  {
   "cell_type": "markdown",
   "metadata": {},
   "source": [
    "**Variable: model_year**"
   ]
  },
  {
   "cell_type": "markdown",
   "metadata": {},
   "source": [
    "A 'model_year' variable value is missing from 3619 rows.\n",
    "\n",
    "Possible reasons: a clerical error during data entry; customers failing to reveal the information\n",
    "<br>Handling method: perhaps, it is possible to know 'model_year' values from 'model' and 'mileage' - the older the model, the higher the mileage.\n",
    "\n",
    "Let's check. "
   ]
  },
  {
   "cell_type": "code",
   "execution_count": null,
   "metadata": {},
   "outputs": [],
   "source": [
    "# Keep a copy of the original 'model_year' values just in case, so I will be able to refer to the raw data later as needed. \n",
    "model_year_copy = data['model_year']"
   ]
  },
  {
   "cell_type": "markdown",
   "metadata": {},
   "source": [
    "Find the most common value of all the 'model_year' values for each 'model'-'mileage' pair."
   ]
  },
  {
   "cell_type": "code",
   "execution_count": null,
   "metadata": {},
   "outputs": [],
   "source": [
    "# Get a slice of the 'data' dataframe where 'model_year' values are not empty to get an accurate mode value. \n",
    "model_year_non_empty = data[data['model_year'].notnull()]\n",
    "\n",
    "# View the slice. \n",
    "#model_year_non_empty"
   ]
  },
  {
   "cell_type": "code",
   "execution_count": null,
   "metadata": {},
   "outputs": [],
   "source": [
    "# Group the slice by 'model' and 'mileage', and find the most common value in 'model_year'.\n",
    "model_year_modes = model_year_non_empty.groupby(['model', 'mileage'])['model_year'].agg([pd.Series.mode, 'min'])\n",
    "\n",
    "# View the dataset.\n",
    "#model_year_modes"
   ]
  },
  {
   "cell_type": "markdown",
   "metadata": {},
   "source": [
    "It looks like there is only one value for each 'model'-'mileage' pair. \n",
    "\n",
    "<br>In case there is more than one, apply the mode operation to choose the most common value, \n",
    "<br>e.g. for [2018, 2018, 2016], the mode is 2018. \n",
    "\n",
    "In case two values have the same mode, apply the min operation to choose the smaller of the two. I understand that this is the industry standard compromise.\n",
    "<br>e.g. for [2018, 2016], the mode returns [2018, 2016], so the min is 2016. "
   ]
  },
  {
   "cell_type": "markdown",
   "metadata": {},
   "source": [
    "[QUESTION] I cannot find a way to leverage 'model_year_modes' in my line of code with transform(). Could you let me know the correct code?"
   ]
  },
  {
   "cell_type": "markdown",
   "metadata": {},
   "source": [
    "<div class=\"alert alert-block alert-success\">\n",
    "<b>Reviewer's comment v1:</b>\n",
    "  \n",
    "You can use smth like this. \n",
    "    \n",
    "    model_year_non_empty['model_year'] = model_year_non_empty['model_year'].fillna(model_year_non_empty.groupby('model' ['mileage'].transform('median'))\n",
    "\n",
    "</div>"
   ]
  },
  {
   "cell_type": "markdown",
   "metadata": {},
   "source": [
    "Let's go ahead and fill the missing values in 'model_year' with the most common value. \n",
    "<br>Prepare a copy of 'mileage' where all the NaN's are replaced with zero. This is to make sure all the variables are of the same size when filling the missing values in 'model_year' to avoid an error being issued. \n",
    "<br>'model' has no missing values to start with and there are 51525 rows in full."
   ]
  },
  {
   "cell_type": "code",
   "execution_count": null,
   "metadata": {},
   "outputs": [],
   "source": [
    "# Fill the missing values in 'mileage' and store in a new column. \n",
    "data['zero_filled_mileage'] = data['mileage'].fillna(0)\n",
    "\n",
    "# Verify it worked.\n",
    "#data['zero_filled_mileage'].isnull().sum()"
   ]
  },
  {
   "cell_type": "code",
   "execution_count": null,
   "metadata": {},
   "outputs": [],
   "source": [
    "# Fill the missing values in 'model_year' with the corresponding most common value.\n",
    "# Take care of the case where mode() returns more than one value by choosing one. \n",
    "#data['model_year_mode'] = data.groupby(['model', 'zero_filled_mileage'], dropna=False)['model_year'].transform(lambda x: x.fillna(x.mode()[0]) if len(x.mode()) == 1 else x.min())\n",
    "data['model_year_mode'] = data.groupby(['model', 'zero_filled_mileage'])['model_year'].transform(lambda x: x.fillna(x.mode()[0]) if len(x.mode()) == 1 else x.min())"
   ]
  },
  {
   "cell_type": "markdown",
   "metadata": {},
   "source": [
    "[QUESTION] Even using \"dropna=False\", I get the \"\"ValueError: Length of passed values is 7, index implies 0\", i.e. the code has a problem handling NaNs. Why? (That's why I had to use the workaround of 'zero_filled_mileage'.)"
   ]
  },
  {
   "cell_type": "markdown",
   "metadata": {},
   "source": [
    "<div class=\"alert alert-block alert-success\">\n",
    "<b>Reviewer's comment v1:</b>\n",
    "  \n",
    "Again, sorry but i need more info regarding the issue. Could you please reach your tutor in slack to discuss the issue in more detail? \n",
    "\n",
    "</div>"
   ]
  },
  {
   "cell_type": "markdown",
   "metadata": {},
   "source": [
    "<div class=\"alert alert-info\"> <b>Student comments:</b> My tutor is trying to figure out why something that should work is not working. But given the time constraint, since my current code works, I would like to leave it as is and not change it. Hopefully, I will discover something new between this and the next project. </div>  "
   ]
  },
  {
   "cell_type": "markdown",
   "metadata": {},
   "source": [
    "<div class=\"alert alert-block alert-success\">\n",
    "<b>Reviewer's comment v2:</b>\n",
    "    \n",
    "Currently, there is definitely a workable solution. Hopefully, a tutor will be able to support you. \n",
    " \n",
    "</div>"
   ]
  },
  {
   "cell_type": "code",
   "execution_count": null,
   "metadata": {},
   "outputs": [],
   "source": [
    "# Verify it worked. \n",
    "#data['model_year_mode'].unique()"
   ]
  },
  {
   "cell_type": "markdown",
   "metadata": {},
   "source": [
    "[Observation] There are still NaN's."
   ]
  },
  {
   "cell_type": "code",
   "execution_count": null,
   "metadata": {},
   "outputs": [],
   "source": [
    "# Check how many NaN's are left. \n",
    "data['model_year_mode'].isnull().sum()"
   ]
  },
  {
   "cell_type": "code",
   "execution_count": null,
   "metadata": {},
   "outputs": [],
   "source": [
    "# View the data where 'model_year_mode' still contains NaN.\n",
    "#data[data['model_year_mode'].isnull()].sort_values(by=['model', 'mileage'])"
   ]
  },
  {
   "cell_type": "markdown",
   "metadata": {},
   "source": [
    "[Observation] There are 'model'-'mileage' pairs where there is no value in 'model_year', so the function returned a NaN.\n",
    "\n",
    "[Comment] I should probably categorize 'mileage' into ranges and find the most common value for each 'model'-'mileage_range' pair. But I wanted to be be as precise as possible so I went for the 'mileage' values. I think filling 50012 rows on the first attempt is not bad! :)"
   ]
  },
  {
   "cell_type": "code",
   "execution_count": null,
   "metadata": {},
   "outputs": [],
   "source": [
    "# Take care of the remaining cases by replacing the missing values with the most common value in 'model'-'cylinders' pair.\n",
    "#data['model_year_mode'] = data.groupby(['model', 'cylinders_mode'], dropna=False)['model_year_mode'].transform(lambda x: x.fillna(x.mode()[0]) if len(x.mode()) == 1 else x.min())\n",
    "data['model_year_mode'] = data.groupby(['model', 'cylinders_mode_combined'])['model_year_mode'].transform(lambda x: x.fillna(x.mode()[0]) if len(x.mode()) == 1 else x.min())"
   ]
  },
  {
   "cell_type": "code",
   "execution_count": null,
   "metadata": {},
   "outputs": [],
   "source": [
    "# Verify it worked.\n",
    "#data['model_year_mode'].unique()"
   ]
  },
  {
   "cell_type": "markdown",
   "metadata": {},
   "source": [
    "[Observation] There are still NaN's."
   ]
  },
  {
   "cell_type": "code",
   "execution_count": null,
   "metadata": {},
   "outputs": [],
   "source": [
    "# Check how many NaNs are left.\n",
    "data['model_year_mode'].isnull().sum()"
   ]
  },
  {
   "cell_type": "code",
   "execution_count": null,
   "metadata": {},
   "outputs": [],
   "source": [
    "# View the data where 'model_year_mode' still contains NaN.\n",
    "#data[data['model_year_mode'].isnull()].sort_values(by=['model', 'mileage'])"
   ]
  },
  {
   "cell_type": "markdown",
   "metadata": {},
   "source": [
    "[Observation] This is the only such 'model'-'cylinders' pair of its kind where the 'model_year' information is also not available, and there are no other data yo draw the most common value from."
   ]
  },
  {
   "cell_type": "code",
   "execution_count": null,
   "metadata": {},
   "outputs": [],
   "source": [
    "# Take care of the remaining case by replacing the missing values with the most common value in 'model' and 'transmission'.\n",
    "data['model_year_mode'] = data.groupby(['model', 'transmission'])['model_year_mode'].transform(lambda x: x.fillna(x.mode()[0]) if len(x.mode()) == 1 else x.min())"
   ]
  },
  {
   "cell_type": "code",
   "execution_count": null,
   "metadata": {},
   "outputs": [],
   "source": [
    "# Verify it worked.\n",
    "#data['model_year_mode'].unique()"
   ]
  },
  {
   "cell_type": "code",
   "execution_count": null,
   "metadata": {},
   "outputs": [],
   "source": [
    "# Check how many NaNs are left.\n",
    "#data['model_year_mode'].isnull().sum()"
   ]
  },
  {
   "cell_type": "markdown",
   "metadata": {},
   "source": [
    "[Observation] 'model_year_mode' has now been restored in full. "
   ]
  },
  {
   "cell_type": "markdown",
   "metadata": {},
   "source": [
    "I discovered that there are rows where 'model_year_mode' does not contain the value of 'model_year' on the same row. \n",
    "So as a workaround, I need to copy the value from 'model_year_mode' only where 'model_year' contains NaN."
   ]
  },
  {
   "cell_type": "code",
   "execution_count": null,
   "metadata": {},
   "outputs": [],
   "source": [
    "# Restore the original 'model_year' into 'model_year_mode_combined'.\n",
    "data['model_year_mode_combined'] = model_year_copy"
   ]
  },
  {
   "cell_type": "code",
   "execution_count": null,
   "metadata": {},
   "outputs": [],
   "source": [
    "# Fill in the missing value if indices match. \n",
    "data['model_year_mode_combined'] = data['model_year_mode_combined'].fillna(data['model_year_mode'])"
   ]
  },
  {
   "cell_type": "code",
   "execution_count": null,
   "metadata": {},
   "outputs": [],
   "source": [
    "# Check how many NaNs are left. \n",
    "#data['model_year_mode_combined'].isnull().sum()"
   ]
  },
  {
   "cell_type": "markdown",
   "metadata": {},
   "source": [
    "**Variable: mileage**"
   ]
  },
  {
   "cell_type": "markdown",
   "metadata": {},
   "source": [
    "A 'mileage' variable value is missing from 7892 rows.\n",
    "\n",
    "Possible reasons: a clerical error during data entry; customers failing to reveal the information\n",
    "<br>Handling method: perhaps, it is possible to make an educated guess for 'mileage' values from 'model' and 'model_year' - the older the model, the higher the mileage, and take the mean or the median.\n",
    "\n",
    "Let's check. "
   ]
  },
  {
   "cell_type": "code",
   "execution_count": null,
   "metadata": {},
   "outputs": [],
   "source": [
    "# Keep a copy of the original 'mileage' values just in case, so I will be able to refer to the raw data later as needed. \n",
    "mileage_copy = data['mileage']"
   ]
  },
  {
   "cell_type": "markdown",
   "metadata": {},
   "source": [
    "[Addendum] In creating 'zero_filled_mileage', I checked if there are 0 values in the variable. "
   ]
  },
  {
   "cell_type": "code",
   "execution_count": null,
   "metadata": {},
   "outputs": [],
   "source": [
    "# View the rows where the 'mileage' value is zero.\n",
    "#data[data['mileage'] == 0]"
   ]
  },
  {
   "cell_type": "markdown",
   "metadata": {},
   "source": [
    "[Observation] Though small, there are 185 rows that do not offer any information on the mileage. Whatever the reason as to why these rows contain 0, I want to keep them as they are to see how missing information on mileage will affect the vehicle price. "
   ]
  },
  {
   "cell_type": "markdown",
   "metadata": {},
   "source": [
    "Check which is better to use to fill the missing values in 'mileage' - the mean or the median."
   ]
  },
  {
   "cell_type": "code",
   "execution_count": null,
   "metadata": {},
   "outputs": [],
   "source": [
    "# Group the dataset by 'model_year' and 'model' and display the mean values of 'mileage'.\n",
    "mileage_mean = data.groupby(['model_year_mode_combined', 'model'])['mileage'].mean()\n",
    "\n",
    "#View the result.\n",
    "#mileage_mean"
   ]
  },
  {
   "cell_type": "code",
   "execution_count": null,
   "metadata": {},
   "outputs": [],
   "source": [
    "# Group the dataset by 'model_year' and 'model' and display the mean values of 'mileage'.\n",
    "mileage_median = data.groupby(['model_year_mode_combined', 'model'])['mileage'].median()\n",
    "\n",
    "#View the result.\n",
    "#mileage_median"
   ]
  },
  {
   "cell_type": "markdown",
   "metadata": {},
   "source": [
    "[Observation] The mean and median are very similar for most of the 'model_year'-'model' pairs. In the above short list, the median is a little higher than the mean for \"ford f150\". \n",
    "\n",
    "Since describe() shows us that the mean (115553.461738) is higher than the median (113000), probably being pulled up by the max (990000), I think it will be safer to use the median to fill the missing values. "
   ]
  },
  {
   "cell_type": "code",
   "execution_count": null,
   "metadata": {},
   "outputs": [],
   "source": [
    "# Get a slice of the 'data' dataframe where 'mileage' values are not empty to get an accurate median value. \n",
    "mileage_non_empty = data[data['mileage'].notnull()]\n",
    "\n",
    "# View the slice. \n",
    "#mileage_non_empty"
   ]
  },
  {
   "cell_type": "code",
   "execution_count": null,
   "metadata": {},
   "outputs": [],
   "source": [
    "# Group the slice by 'model_year' and 'model', and find the most common value in 'odometer'.\n",
    "#mileage_with_mode = mileage_non_empty.groupby(['model', 'mileage'])['mileage'].mean().to_frame()\n",
    "mileage_medians = mileage_non_empty.groupby(['model_year_mode_combined', 'model'])['mileage'].agg('median')\n",
    "\n",
    "# View the dataset.\n",
    "#mileage_medians"
   ]
  },
  {
   "cell_type": "markdown",
   "metadata": {},
   "source": [
    "[Observation] In the above short list, the values are exactly the same as the one including NaNs from earlier. "
   ]
  },
  {
   "cell_type": "markdown",
   "metadata": {},
   "source": [
    "Let's go ahead and fill the missing values in 'mileage' with the median. \n",
    "<br>Use 'model_year_mode' which have no missing values. This makes sure all the variables are of the same size when filling the missing values in 'mileage' to avoid an error being issued. \n",
    "<br>'model' has no missing values to start with and there are 51525 rows in full. "
   ]
  },
  {
   "cell_type": "code",
   "execution_count": null,
   "metadata": {},
   "outputs": [],
   "source": [
    "# Fill the missing values in 'mileage' with the corresponding median value. \n",
    "data['mileage_median'] = data.groupby(['model_year_mode_combined', 'model'])['mileage'].transform(lambda x: x.fillna(x.median()))"
   ]
  },
  {
   "cell_type": "code",
   "execution_count": null,
   "metadata": {},
   "outputs": [],
   "source": [
    "# Verify it worked. \n",
    "data['mileage_median'].isnull().sum()"
   ]
  },
  {
   "cell_type": "code",
   "execution_count": null,
   "metadata": {},
   "outputs": [],
   "source": [
    "# View the data where 'mileage_median' still contains NaN.\n",
    "#data[data['mileage_median'].isnull()].sort_values(by=['model_year_mode_combined', 'model'])"
   ]
  },
  {
   "cell_type": "markdown",
   "metadata": {},
   "source": [
    "[Observation] There are 'model_year'-'model' pairs where there is no value in 'mileage', so the function returned a NaN."
   ]
  },
  {
   "cell_type": "code",
   "execution_count": null,
   "metadata": {},
   "outputs": [],
   "source": [
    "# Take care of the remaining cases by replacing the missing values with the median in 'model_year' and 'cylinders'.\n",
    "data['mileage_median'] = data.groupby(['model_year_mode_combined', 'cylinders_mode_combined'])['mileage_median'].transform(lambda x: x.fillna(x.median()))"
   ]
  },
  {
   "cell_type": "code",
   "execution_count": null,
   "metadata": {},
   "outputs": [],
   "source": [
    "# Verify it worked. \n",
    "data['mileage_median'].isnull().sum()"
   ]
  },
  {
   "cell_type": "markdown",
   "metadata": {},
   "source": [
    "[Observation] There is still 1 NaN."
   ]
  },
  {
   "cell_type": "code",
   "execution_count": null,
   "metadata": {},
   "outputs": [],
   "source": [
    "# View the data where 'mileage_median' still contains NaN.\n",
    "#data[data['mileage_median'].isnull()].sort_values(by=['model_year_mode_combined', 'model'])"
   ]
  },
  {
   "cell_type": "code",
   "execution_count": null,
   "metadata": {},
   "outputs": [],
   "source": [
    "# Take care of the remaining cases by replacing the missing values with the median in 'model' and 'cylinders'.\n",
    "data['mileage_median'] = data.groupby(['model', 'cylinders_mode_combined'])['mileage_median'].transform(lambda x: x.fillna(x.median()))"
   ]
  },
  {
   "cell_type": "code",
   "execution_count": null,
   "metadata": {},
   "outputs": [],
   "source": [
    "# Verify it worked. \n",
    "#data['mileage_median'].isnull().sum()"
   ]
  },
  {
   "cell_type": "markdown",
   "metadata": {},
   "source": [
    "[Observation] 'mileage' has now been restored in full. "
   ]
  },
  {
   "cell_type": "markdown",
   "metadata": {},
   "source": [
    "I discovered that there are rows where 'mileage_median' does not contain the value of 'mileage' on the same row. \n",
    "So as a workaround, I need to copy the value from 'mileage_median' only where 'mileage' contains NaN."
   ]
  },
  {
   "cell_type": "code",
   "execution_count": null,
   "metadata": {},
   "outputs": [],
   "source": [
    "# Restore the original 'mileage' into 'mileage_median_combined'.\n",
    "data['mileage_median_combined'] = mileage_copy"
   ]
  },
  {
   "cell_type": "code",
   "execution_count": null,
   "metadata": {},
   "outputs": [],
   "source": [
    "# Fill in the missing value if indices match. \n",
    "data['mileage_median_combined'] = data['mileage_median_combined'].fillna(data['mileage_median'])"
   ]
  },
  {
   "cell_type": "code",
   "execution_count": null,
   "metadata": {},
   "outputs": [],
   "source": [
    "# Check how many NaNs are left. \n",
    "#data['mileage_median_combined'].isnull().sum()"
   ]
  },
  {
   "cell_type": "markdown",
   "metadata": {},
   "source": [
    "**Convert the data to the required types**"
   ]
  },
  {
   "cell_type": "markdown",
   "metadata": {},
   "source": [
    "'NaN' is of type float and cannot be converted to an int type. While the rows contain 'NaN'as missing values, the datatype of the variable cannot be changed to int. Now that the missing values have been taken care of, I can proceed with data type conversion. \n",
    "\n",
    "Note: where the original variables still contain NaN, its counterparts will be put through data type conversion:\n",
    "* original: model_year -> counterparts: zero_filled_model_year, model_year_mode\n",
    "* original: cylinders -> counterparts: zero_filled_cylinders, cylinders_mode"
   ]
  },
  {
   "cell_type": "code",
   "execution_count": null,
   "metadata": {},
   "outputs": [],
   "source": [
    "#data.info()"
   ]
  },
  {
   "cell_type": "code",
   "execution_count": null,
   "metadata": {},
   "outputs": [],
   "source": [
    "# Convert the data type of 'model_year' from float to int.\n",
    "# Reason: no such thing as \"a 2021.5 model\" so it makes better sense.\n",
    "data['zero_filled_model_year'] = data['zero_filled_model_year'].astype(np.int64)\n",
    "data['model_year_mode'] = data['model_year_mode'].astype(np.int64)\n",
    "data['model_year_mode_combined'] = data['model_year_mode_combined'].astype(np.int64)"
   ]
  },
  {
   "cell_type": "code",
   "execution_count": null,
   "metadata": {},
   "outputs": [],
   "source": [
    "# Convert the data type of 'cylinders' from float to int.\n",
    "# Reason: no such thing as \"4.6 cylinders\" so it makes better sense.\n",
    "data['cylinders_mode'] = data['cylinders_mode'].astype(np.int64)\n",
    "data['cylinders_mode_combined'] = data['cylinders_mode_combined'].astype(np.int64)"
   ]
  },
  {
   "cell_type": "code",
   "execution_count": null,
   "metadata": {},
   "outputs": [],
   "source": [
    "# Convert the data type of 'is_4wd' from float to boolean. \n",
    "# Reason: it's either a 4wd or not. \n",
    "data['is_4wd'] = data['is_4wd'].astype(bool)"
   ]
  },
  {
   "cell_type": "code",
   "execution_count": null,
   "metadata": {},
   "outputs": [],
   "source": [
    "# Verify it worked.\n",
    "#data.info()"
   ]
  },
  {
   "cell_type": "code",
   "execution_count": null,
   "metadata": {},
   "outputs": [],
   "source": [
    "# Convert the data type of 'date_posted' from object to date in %Y-%m-%d format.\n",
    "# Reason: so we can perform date calculations if necessary.\n",
    "data['date_posted'] = pd.to_datetime(data['date_posted'], format='%Y-%m-%d')\n",
    "\n",
    "# Verify it worked.\n",
    "#data.date_posted.head(10)"
   ]
  },
  {
   "cell_type": "markdown",
   "metadata": {},
   "source": [
    "<div class=\"alert alert-success\">\n",
    "<b>Reviewer's comment v1:</b>\n",
    "\n",
    "Well done that you have checked and correctly replaced the data types.\n",
    "\n",
    "</div>"
   ]
  },
  {
   "cell_type": "markdown",
   "metadata": {},
   "source": [
    "**Investigate logically unsound values**"
   ]
  },
  {
   "cell_type": "markdown",
   "metadata": {},
   "source": [
    "**Variable: price**\n",
    "\n",
    "In 2020, the average price of a second hand car in the USA was 22,000. In our dataset, the mean is about 12132 and the median, 9000. So the minimum of 1 and the maximum of 375000 do seem off the chart. \n",
    "\n",
    "Let's check."
   ]
  },
  {
   "cell_type": "code",
   "execution_count": null,
   "metadata": {},
   "outputs": [],
   "source": [
    "# Let's find some extreme cases where the 'model_year' is recent and yet the 'price' is ludicrously low. \n",
    "#data[(data['price'] < 10) & (data['model_year'] > 2010)].sort_values(['price', 'model_year'])"
   ]
  },
  {
   "cell_type": "markdown",
   "metadata": {},
   "source": [
    "<div class=\"alert alert-warning\">\n",
    "<b>Reviewer's comment v1:</b>\n",
    "       \n",
    "Once again it is better not to hide results of your research from others.\n",
    "\n",
    "</div>"
   ]
  },
  {
   "cell_type": "markdown",
   "metadata": {},
   "source": [
    "<div class=\"alert alert-info\"> <b>Student comments:</b> Yes, I was following an advice from my previous Reviewer...I guess it depends on the Reviewer's preference. I will take my chances in my next project by showing all my findings. </div>  "
   ]
  },
  {
   "cell_type": "markdown",
   "metadata": {},
   "source": [
    "<div class=\"alert alert-success\">\n",
    "<b>Reviewer's comment v2:</b>\n",
    "\n",
    "Hmm, if data is used for the conclusion below, then definitely show (head() or sample()). \n",
    "If you want to quickly check smth (not important, no impact on the project structure) then even better delete it or comment.\n",
    "\n",
    "</div>"
   ]
  },
  {
   "cell_type": "markdown",
   "metadata": {},
   "source": [
    "[Observation] Who will sell a 2018 jeep wrangler that is in excellent condition that has only done 3420 (miles, assuming that this is data about the USA?) in mileage for a dollar? Filtering with 'price' < 10 and 'model_year' > 2010, and there are already 693 such rows. There is too much data with unreasonable prices for them to be clerical errors - I think these are intentional (MNAR). \n",
    "\n",
    "As I have seen with house sale ads, it is possible that the sellers did not want to reveal the high asking price so as not to scare the potential buyers. Another possibility is that the sellers are lying about the condition and the cars are actually totalled and not drivable. \n",
    "\n",
    "I am leaving them intact."
   ]
  },
  {
   "cell_type": "markdown",
   "metadata": {},
   "source": [
    "So what about extremely high prices?"
   ]
  },
  {
   "cell_type": "code",
   "execution_count": null,
   "metadata": {},
   "outputs": [],
   "source": [
    "# Let's find some extreme cases where the 'model_year' is recent and yet the 'price' is ludicrously low. \n",
    "#data[data['price'] > 150000].sort_values('price', ascending=False)"
   ]
  },
  {
   "cell_type": "markdown",
   "metadata": {},
   "source": [
    "[Observation] A used Ferrari 250 GTO apparently can cost at least $38 million in cash. \n",
    "\n",
    "According to my brief research on the web, below are the price ranges/high end prices (in USD) for the used cars in the table above: \n",
    "* nissan frontier 1999: 392 to 8000\n",
    "* RAM 2500 2015: 17,272 to 29,998\n",
    "* ford f-150 2014: 18,955 to 34,991\n",
    "* gmc sierra 2500hd 2004: 1,140 to 17,022\n",
    "\n",
    "So the only anomaly in the table is the 1999 nissan frontier. It is possible that it is a human error. I am guessing that 375000 should be changed to 3750. "
   ]
  },
  {
   "cell_type": "code",
   "execution_count": null,
   "metadata": {},
   "outputs": [],
   "source": [
    "# Change the price of '1999 nissan frontier' to 3750, assuming a clerical error.\n",
    "data.loc[data['price'] == 375000, 'price'] = 3750\n",
    "\n",
    "# Verify it worked. \n",
    "#data[(data['model'] == 'nissan frontier') & (data['model_year'] == 1999)]"
   ]
  },
  {
   "cell_type": "markdown",
   "metadata": {},
   "source": [
    "**Variable: days_listed**\n",
    "\n",
    "On the surface, the following values do not seem alarming:\n",
    "* min days_listed = 0 -> totally reasonable that the dataset was created on the very day that the ads were placed\n",
    "* max days_listed = 271 -> totally reasonable that the ads have been up for 9 months. Maybe someone forgot to take them down or the vehicles still have found no buyers.\n",
    "\n",
    "Let's check. "
   ]
  },
  {
   "cell_type": "code",
   "execution_count": null,
   "metadata": {},
   "outputs": [],
   "source": [
    "# View the data where 'days_listed' = 0 and check the values in other columns if it makes sense. \n",
    "#data[data['days_listed'] == 0]"
   ]
  },
  {
   "cell_type": "markdown",
   "metadata": {},
   "source": [
    "[Observation] even if days_listed = 0, the date_posted values are all different. "
   ]
  },
  {
   "cell_type": "code",
   "execution_count": null,
   "metadata": {},
   "outputs": [],
   "source": [
    "# Count how many such rows there are. \n",
    "#data[data['days_listed'] == 0].count()"
   ]
  },
  {
   "cell_type": "markdown",
   "metadata": {},
   "source": [
    "[Observation] There are 54 such rows. "
   ]
  },
  {
   "cell_type": "code",
   "execution_count": null,
   "metadata": {},
   "outputs": [],
   "source": [
    "# Try adding 'date_posted' and 'days_listed' and see what happens.\n",
    "temp = data['days_listed'].apply(np.ceil).apply(lambda x: pd.Timedelta(x, unit='D'))\n",
    "data['removal_date'] = data['date_posted'] + temp\n",
    "\n",
    "# View the result. \n",
    "#data"
   ]
  },
  {
   "cell_type": "markdown",
   "metadata": {},
   "source": [
    "[Observation] They all come to different dates. I think 'days_listed' shows how many days it took for the vehicles to sell since the ad was placed. Where a zero is registered, there was probably some kind of error in the system and the 'days_listed' values were not calculated. \n",
    "\n",
    "No actual ad removal dates are provided, so I can only make an educated guess at with what value to recalculate where 'days_listed' = 0.\n",
    "\n",
    "In describe(), the mean is 39.6 and the median is 33. I will use the mean value to fill the zero entries as I found out when investigating about the max value (271) that selling a vehicle usually takes very long. "
   ]
  },
  {
   "cell_type": "code",
   "execution_count": null,
   "metadata": {},
   "outputs": [],
   "source": [
    "# Replace 0 in 'days_listed' with the mean taken from describe().\n",
    "mean = int(39.55476)\n",
    "data.loc[data['days_listed'] == 0, 'days_listed'] = mean\n",
    "\n",
    "# Verify it worked.\n",
    "#data[data['days_listed'] == 0].count()"
   ]
  },
  {
   "cell_type": "code",
   "execution_count": null,
   "metadata": {},
   "outputs": [],
   "source": [
    "# View the data where 'days_listed' are close to the max value, 271.\n",
    "# Check the values in other columns if it makes sense. \n",
    "#data.sort_values('days_listed', ascending=False)"
   ]
  },
  {
   "cell_type": "markdown",
   "metadata": {},
   "source": [
    "[Observation] 271 does not seem to be that much of an exception. There are more rows with similar value. "
   ]
  },
  {
   "cell_type": "code",
   "execution_count": null,
   "metadata": {},
   "outputs": [],
   "source": [
    "# Check how many rows there are where 'days_listed' is more than the average of 39 days. \n",
    "#data[data['days_listed'] > 39].count()"
   ]
  },
  {
   "cell_type": "markdown",
   "metadata": {},
   "source": [
    "[Observation] There are 20908 rows for above 39 days. That is 40.6% of the total (= 20908 / 51525). I found a reference on the web that a professional second hand auto dealer is said to take at least 60 days to sell a used car. So the max value of 271 and others similar to it are OK. "
   ]
  },
  {
   "cell_type": "markdown",
   "metadata": {},
   "source": [
    "**Take care of duplicates**"
   ]
  },
  {
   "cell_type": "code",
   "execution_count": null,
   "metadata": {},
   "outputs": [],
   "source": [
    "# Look for duplicate rows where they are identical column for column. \n",
    "data.duplicated().sum()"
   ]
  },
  {
   "cell_type": "markdown",
   "metadata": {},
   "source": [
    "[Observation] There are no such rows. "
   ]
  },
  {
   "cell_type": "markdown",
   "metadata": {},
   "source": [
    "Those rows which are identical in the values of:\n",
    "* mileage\n",
    "* model_year\n",
    "* model\n",
    "* cylinders\n",
    "* fuel\n",
    "* transmission\n",
    "* type\n",
    "* is_4wd\n",
    "* price\n",
    "\n",
    "indicate the same ad being activated repeatedly since it was first placed. \n",
    "\n",
    "[Side comment] It may be interesting to investigate if there is a relationship between the number of times the same ad was placed and the sale price, but that is for another research. "
   ]
  },
  {
   "cell_type": "code",
   "execution_count": null,
   "metadata": {},
   "outputs": [],
   "source": [
    "#Look for duplicate rows which are identical in the columns listed above.\n",
    "#duplicates = data[data.duplicated(subset = ['mileage', 'model_year', 'model', 'cylinders', 'fuel', 'transmission', 'type', 'is_4wd', 'price'], keep = False)]\n",
    "#duplicates.sort_values(by=['mileage', 'model_year', 'model', 'cylinders', 'fuel', 'transmission', 'type', 'is_4wd', 'price'], ascending=False)"
   ]
  },
  {
   "cell_type": "markdown",
   "metadata": {},
   "source": [
    "[Observation] These are the same ads that were reactivated repeatedly. However, if the repeated rows were to be removed, this consitutes 27% (= 13788 / 51525) of the whole dataset, which is a large percentage. Without investigating how many times each ad was reactivated, it is unknown how many of these rows will be removed as duplicates, which is a lot of data lost. Besides, each row contains a different value in 'days_listed', which is one of the main targets of the research in this project. So I am going to leave these in for now. "
   ]
  },
  {
   "cell_type": "markdown",
   "metadata": {},
   "source": [
    "<div class=\"alert alert-success\">\n",
    "<b>Reviewer's comment v1:</b>\n",
    "\n",
    "That is a very interesting observation regarding reactivated users.\n",
    "\n",
    "</div>"
   ]
  },
  {
   "cell_type": "markdown",
   "metadata": {},
   "source": [
    "## Make calculations and add them to the table"
   ]
  },
  {
   "cell_type": "markdown",
   "metadata": {},
   "source": [
    "**Day of the week, month, and year the ad was placed**"
   ]
  },
  {
   "cell_type": "code",
   "execution_count": null,
   "metadata": {},
   "outputs": [],
   "source": [
    "# 'date_posted' is currently in %Y-%m-%d format. \n",
    "# Calculate the day of the week and store in a new column.\n",
    "data['day_of_week'] = pd.DatetimeIndex(data['date_posted']).dayofweek\n",
    "\n",
    "# Verify it worked. \n",
    "#data['day_of_week'].unique()"
   ]
  },
  {
   "cell_type": "code",
   "execution_count": null,
   "metadata": {},
   "outputs": [],
   "source": [
    "# Calculate the month and store in a new column.\n",
    "data['month'] = pd.DatetimeIndex(data['date_posted']).month\n",
    "\n",
    "# Verify it worked. \n",
    "#data['month'].unique()"
   ]
  },
  {
   "cell_type": "code",
   "execution_count": null,
   "metadata": {},
   "outputs": [],
   "source": [
    "# Calculate the year and store in a new column.\n",
    "data['year'] = pd.DatetimeIndex(data['date_posted']).year\n",
    "\n",
    "# Verify it worked. \n",
    "#data['year'].unique()"
   ]
  },
  {
   "cell_type": "markdown",
   "metadata": {},
   "source": [
    "**The vehicle's age (in years) when the ad was placed**"
   ]
  },
  {
   "cell_type": "markdown",
   "metadata": {},
   "source": [
    "[Disclaimer] Here, I have to calculate the age of a vehicle in the absence of the VIN number. So, I am going to assume that the 'model_year' is the year during which the vehicle was manufactured, though in reality, this is not necessarily the case. "
   ]
  },
  {
   "cell_type": "code",
   "execution_count": null,
   "metadata": {},
   "outputs": [],
   "source": [
    "# Calculate the vehicle's age by subtracting 'model_year_mode_combined' from 'year' and store in a new column.\n",
    "data['age'] = data['year'] - data['model_year_mode_combined'] + 1\n",
    "\n",
    "# Verify it worked. \n",
    "#data['age'].unique()"
   ]
  },
  {
   "cell_type": "markdown",
   "metadata": {},
   "source": [
    "<div class=\"alert alert-warning\">\n",
    "<b>Reviewer's comment v1:</b>\n",
    "    \n",
    "It is also possible to add  +1 to the equation above to take into account the current year. Otherwise, it will lead to multiple 0 in `age` (as below) and as a result infinite values in `mileage_annual_average`. \n",
    "\n",
    "</div>"
   ]
  },
  {
   "cell_type": "markdown",
   "metadata": {},
   "source": [
    "<div class=\"alert alert-info\"> <b>Student comments:</b> OK, I added 1 to account for the current year in the cell above. \n",
    "\n",
    "* This gets rid of the cases where 'age' = -1, so I deleted the obsolete cells below.\n",
    "* There are still cases where 'age' = 0 because -1 + 1 = 0. So, I am going to take care of that next.\n",
    "</div>  "
   ]
  },
  {
   "cell_type": "markdown",
   "metadata": {},
   "source": [
    "<div class=\"alert alert-block alert-success\">\n",
    "<b>Reviewer's comment v2:</b>\n",
    "    \n",
    "Yes, or delete / take abs() of negative values first and then perform calculation. \n",
    "\n",
    "</div>"
   ]
  },
  {
   "cell_type": "code",
   "execution_count": null,
   "metadata": {},
   "outputs": [],
   "source": [
    "# Check where there is 0.\n",
    "#data.query('age == 0')"
   ]
  },
  {
   "cell_type": "markdown",
   "metadata": {},
   "source": [
    "[Observation] There are 6 rows where 'age' = 0. These will cause a problem later on when I have to calculate the average annual mileage because I will then be dividing by zero. \n",
    "\n",
    "I would like to change these to 1. "
   ]
  },
  {
   "cell_type": "code",
   "execution_count": null,
   "metadata": {},
   "outputs": [],
   "source": [
    "# Before I make any modifications, check how many rows contain 1.\n",
    "#data.query('age == 1').count()"
   ]
  },
  {
   "cell_type": "markdown",
   "metadata": {},
   "source": [
    "[Observation] 2212 rows contain 1. Together with the 6 rows where 'age' = 0, the total number of rows containing 1 will be 2218. \n",
    "\n",
    "I do not think this is considered as changing the general characteristics of the data because when you take into account the reality, an age of 0 does not make logical sense, and also, they will cause a problem later on when I have to calculate the average annual mileage because I will then be dividing by zero. "
   ]
  },
  {
   "cell_type": "code",
   "execution_count": null,
   "metadata": {},
   "outputs": [],
   "source": [
    "# Modify 0 to 1 in 'age'. \n",
    "data.loc[data['age'] == 0, 'age'] = 1\n",
    "\n",
    "# Verify it worked.\n",
    "#data['age'].unique()"
   ]
  },
  {
   "cell_type": "markdown",
   "metadata": {},
   "source": [
    "[Observation] No more illogical 'age' values. "
   ]
  },
  {
   "cell_type": "markdown",
   "metadata": {},
   "source": [
    "**The vehicle's average mileage per year**"
   ]
  },
  {
   "cell_type": "markdown",
   "metadata": {},
   "source": [
    "The vehicle's average mielage per year is calculated by dividing 'mileage' by 'age'. This will be a problem for those records where 'age' = 0, meaning the ad was placed in the same year as the 'model_year' of the car on sale, because the result will be \"undefined\". "
   ]
  },
  {
   "cell_type": "code",
   "execution_count": null,
   "metadata": {},
   "outputs": [],
   "source": [
    "# Calculate by dividing 'mileage' by 'age' and store in a new column.\n",
    "data['mileage_annual_average'] = data['mileage_median_combined'] / data['age']"
   ]
  },
  {
   "cell_type": "code",
   "execution_count": null,
   "metadata": {},
   "outputs": [],
   "source": [
    "# Check the descriptive statistics that the figures are sound.\n",
    "#data.describe()"
   ]
  },
  {
   "cell_type": "markdown",
   "metadata": {},
   "source": [
    "**In the condition column, replace string values with a numeric scale:**\n",
    "* new = 5\n",
    "* like new = 4\n",
    "* excellent = 3\n",
    "* good = 2\n",
    "* fair = 1\n",
    "* salvage = 0"
   ]
  },
  {
   "cell_type": "code",
   "execution_count": null,
   "metadata": {},
   "outputs": [],
   "source": [
    "# Create a dictionary for the list above. \n",
    "cat_to_num_dict = {'new': 5, 'like new': 4, 'excellent': 3, 'good': 2, 'fair': 1, 'salvage': 0}\n",
    "\n",
    "# Verify it works.\n",
    "#cat_to_num_dict"
   ]
  },
  {
   "cell_type": "code",
   "execution_count": null,
   "metadata": {},
   "outputs": [],
   "source": [
    "# Apply the dictionary to the 'data' dataframe to effect the conversion and store in a new column. \n",
    "data['condition_num'] = data['condition'].map(cat_to_num_dict)\n",
    "\n",
    "# Verify it worked. \n",
    "#data['condition_num'].unique()"
   ]
  },
  {
   "cell_type": "markdown",
   "metadata": {},
   "source": [
    "\n",
    "<div class=\"alert alert-block alert-success\">\n",
    "<b>Reviewer's comment v1:</b>\n",
    "    \n",
    "Great! Now the data has been prepared and ready for the following analysis.\n",
    "\n",
    "</div>"
   ]
  },
  {
   "cell_type": "markdown",
   "metadata": {},
   "source": [
    "## Carry out exploratory data analysis"
   ]
  },
  {
   "cell_type": "markdown",
   "metadata": {},
   "source": [
    "From looking at the descriptive statistics at the start of the project, I already know that the raw data contains high positive values, which are far from where the majority of the data are. For that reason, I am going to study the histograms with the help of the descriptive statistics. "
   ]
  },
  {
   "cell_type": "code",
   "execution_count": null,
   "metadata": {},
   "outputs": [],
   "source": [
    "# Print out the descriptive statistics here again for convenience. \n",
    "data.describe()"
   ]
  },
  {
   "cell_type": "markdown",
   "metadata": {},
   "source": [
    "= Study the following parameters: price, vehicle's age when the ad was\n",
    "placed, mileage, number of cylinders, and condition. Plot histograms for\n",
    "each of these parameters. Study how outliers affect the form and\n",
    "readability of the histograms. ="
   ]
  },
  {
   "cell_type": "markdown",
   "metadata": {},
   "source": [
    "**Study 'price'**"
   ]
  },
  {
   "cell_type": "code",
   "execution_count": null,
   "metadata": {},
   "outputs": [],
   "source": [
    "# Plot a histogram. \n",
    "data.hist('price', figsize=(10, 6), bins=100, color='pink', grid=True);\n",
    "\n",
    "# x-axis: shows the price values\n",
    "# y-axis: shows the number of vehicles"
   ]
  },
  {
   "cell_type": "markdown",
   "metadata": {},
   "source": [
    "-* Study how outliers affect the form and readability of the histogram. *-\n",
    "\n",
    "* The high positive values reach as far as 300,000 on the x-axis, causing a heavy tale and creating a positively skewed distribution (skewed to the right), pushing the majority of the values to the left hand side between 0 and 50,000. \n",
    "* The graph is trying to fit in the 'lump' on the left in a very few bins, while balancing it with displaying the range of values from min to max in its entirety, making each interval too large to display values in appropriately fine detail. \n",
    "\n",
    "These make it difficult to see what is exactly happening in that 'lump'. "
   ]
  },
  {
   "cell_type": "code",
   "execution_count": null,
   "metadata": {},
   "outputs": [],
   "source": [
    "# To view the area of the histogram where there is most data, we can zoom in by using range.\n",
    "data.hist('price', figsize=(10, 6), bins=100, color='pink', grid=True, range=(0, 100000));"
   ]
  },
  {
   "cell_type": "markdown",
   "metadata": {},
   "source": [
    "-* Determine the upper limits of outliers, remove the outliers and store them in a separate DataFrame, and continue your work with the filtered data. *-"
   ]
  },
  {
   "cell_type": "code",
   "execution_count": null,
   "metadata": {},
   "outputs": [],
   "source": [
    "# Determine the upper limit of outliers.\n",
    "IQR = data['price'].quantile(0.75) - data['price'].quantile(0.25)\n",
    "price_upper_limit = data['price'].quantile(0.75) + IQR * 1.5\n",
    "\n",
    "# View the upper limit.\n",
    "price_upper_limit"
   ]
  },
  {
   "cell_type": "code",
   "execution_count": null,
   "metadata": {},
   "outputs": [],
   "source": [
    "# Draw a boxplot to see the shape of the distribution, including the outliers and their upper limit.\n",
    "data['price'].plot.box();"
   ]
  },
  {
   "cell_type": "markdown",
   "metadata": {},
   "source": [
    "[Observation] Because of all the outliers above the upper limit, the box is very much squashed. \n",
    "\n",
    "(I know the instruction does not say I should draw a boxplot but I was curious...)"
   ]
  },
  {
   "cell_type": "code",
   "execution_count": null,
   "metadata": {},
   "outputs": [],
   "source": [
    "# Remove the outliers and store them in a separate DataFrame.\n",
    "price_without_outliers = data.query('price < @price_upper_limit')\n",
    "\n",
    "# View the new dataframe.\n",
    "#price_without_outliers"
   ]
  },
  {
   "cell_type": "markdown",
   "metadata": {},
   "source": [
    "<div class=\"alert alert-block alert-success\">\n",
    "<b>Reviewer's comment v1:</b>\n",
    "    \n",
    "Well done! You perfectly identified and handled outliers. You can additionally check a nice article about working with outliers (based on the similar code you used):\n",
    "- https://www.pluralsight.com/guides/cleaning-up-data-from-outliers\n",
    "</div>"
   ]
  },
  {
   "cell_type": "markdown",
   "metadata": {},
   "source": [
    "[Observation] The total number of rows is now 49876. That means 5% (= 49876 / 51525) account for outliers. "
   ]
  },
  {
   "cell_type": "markdown",
   "metadata": {},
   "source": [
    "-* Use the filtered data to plot new histograms. Compare them with the earlier histograms (the ones that included outliers). Draw conclusions for each histogram. *-"
   ]
  },
  {
   "cell_type": "code",
   "execution_count": null,
   "metadata": {},
   "outputs": [],
   "source": [
    "# Plot a new histogram. \n",
    "price_without_outliers.hist('price', figsize=(10, 6), bins=100, color='pink', grid=True);"
   ]
  },
  {
   "cell_type": "markdown",
   "metadata": {},
   "source": [
    "[Comment] I used the same number of bins for both histograms so we can compare the two fairly on the same footing. "
   ]
  },
  {
   "cell_type": "code",
   "execution_count": null,
   "metadata": {},
   "outputs": [],
   "source": [
    "# Draw a boxplot to see the shape of the distribution, including the outliers and their upper limit.\n",
    "B = price_without_outliers['price'].plot.box()"
   ]
  },
  {
   "cell_type": "markdown",
   "metadata": {},
   "source": [
    "[QUESTION] The calculation told us that 34,587.50 is the upper limit. But after removing the high outliers, the boxplot still shows values above its max line. \n",
    "\n",
    "Why is that?"
   ]
  },
  {
   "cell_type": "markdown",
   "metadata": {},
   "source": [
    "<div class=\"alert alert-block alert-success\">\n",
    "<b>Reviewer's comment v1:</b>\n",
    "  \n",
    "After removing outliers new boxplot will be created against new values in the dataset with a maximum value 32257.5 as visible on the box plot above. In the new dataset we have multiple values that are lying within or a little bit above a new range.\n",
    "</div>"
   ]
  },
  {
   "cell_type": "markdown",
   "metadata": {},
   "source": [
    "<div class=\"alert alert-info\"> <b>Student comments:</b> Understood. \n",
    "\n",
    "    IQR = price_without_outliers['price'].quantile(0.75) - price_without_outliers['price'].quantile(0.25)\n",
    "    price_upper_limit = price_without_outliers['price'].quantile(0.75) + IQR * 1.5\n",
    "\n",
    "    where price_upper_limit = 32257.5\n",
    "    \n",
    "Just out of curiosity, could you let me know how you accessed the stats in the 'AxesSubplot' object (which you assigned to B)? I imported boxplot_stats but B['whiskers'] gives 'the 'AxesSubplot' object is not subscriptable' error message. \n",
    "\n",
    "</div>  "
   ]
  },
  {
   "cell_type": "markdown",
   "metadata": {},
   "source": [
    "<div class=\"alert alert-block alert-success\">\n",
    "<b>Reviewer's comment v2:</b>\n",
    "    \n",
    "So, one thing you need to add (return_type='dict'). 'dict' returns a dictionary with values of the boxplot that we can access.\n",
    "    \n",
    "    B = price_without_outliers['price'].plot.box(return_type='dict')\n",
    "\n",
    "Then you can access data using this code: \n",
    "    \n",
    "        [item.get_ydata()[1] for item in B['whiskers']] - to get range \n",
    "        B['whiskers'][1].get_ydata()[1] - to get max value\n",
    " \n",
    "</div>"
   ]
  },
  {
   "cell_type": "markdown",
   "metadata": {},
   "source": [
    "[Comparison and Conclusions] \n",
    "* The presence of outliers in the data clouds your ability to understand the data. Removing extreme values clears up the clutter and allows you to zoom in on the crux of the data. \n",
    "* Visualization so elloquently represents the essence of the saying, \"a picture is worth a 1000 words\". A spacial representation gives you a big picture and placing landmarks such as a 5-number summary inside that representation helps you get oriented in the sea of data. \n",
    "\n",
    "In the new histogram (and boxplot), the distribution is much more spread out, and we can see its details better. \n",
    "* Most used car prices fall roughly between 5000 and 15000. This was hard to see in the previously. \n",
    "* The average decreased by about 35% (from 12125.259680 to around 8000). \n",
    "* The peak at around 10000 that was in the preivous histogram has been split up into many peaks in the new histogram. All the values that had been lumped up together have been spread out to reveal their details.  \n",
    "* With the same number of bins (100), the curve of the new histogram is less smooth than the previous one, with peaks and troughs repeated every 1000 or so.\n",
    "* The skewness is still to the right, but not as exaggerated as before. \n",
    "* The median is still around 8000 (it was 9000 before according to the descriptive statistics). Q1 and Q3 also have not moved much (they were 5000 and 16835 before, respectively), showing their robustness to the presence and absence of outliers. "
   ]
  },
  {
   "cell_type": "markdown",
   "metadata": {},
   "source": [
    "**Study 'vehicle's age when the ad was placed**"
   ]
  },
  {
   "cell_type": "code",
   "execution_count": null,
   "metadata": {},
   "outputs": [],
   "source": [
    "# Plot a histogram. \n",
    "data.hist('age', figsize=(10, 6), bins=100, color='pink', grid=True);\n",
    "\n",
    "# x-axis: shows the vehicle age\n",
    "# y-axis: shows the number of vehicles"
   ]
  },
  {
   "cell_type": "markdown",
   "metadata": {},
   "source": [
    "-* Study how outliers affect the form and readability of the histogram. *-\n",
    "\n",
    "* Since the max age is 110 and the histogram tries to show all the data in a single space, most data appears bunched up on the left side of the graph between 1 and 35, and not much detail can be gotten out of it. \n",
    "* Some cars are old and their high 'age' values cause a heavy tail and the histogram to be positively skewed. \n",
    "* There is a sharp peak at around 1. This must the -1, 0, 1 values combined into 'age' = 1. The number is too high for them to be outliers, but because they are lumped together, it is difficult to discern what they constitute of. "
   ]
  },
  {
   "cell_type": "code",
   "execution_count": null,
   "metadata": {},
   "outputs": [],
   "source": [
    "# To view the area of the histogram where there is most data, we can zoom in by using range.\n",
    "data.hist('age', figsize=(10, 6), bins=100, color='pink', grid=True, range=(0, 60));"
   ]
  },
  {
   "cell_type": "markdown",
   "metadata": {},
   "source": [
    "-* Determine the upper limits of outliers, remove the outliers and store them in a separate DataFrame, and continue your work with the filtered data. *-"
   ]
  },
  {
   "cell_type": "code",
   "execution_count": null,
   "metadata": {},
   "outputs": [],
   "source": [
    "# Determine the upper limit of outliers.\n",
    "IQR = data['age'].quantile(0.75) - data['age'].quantile(0.25)\n",
    "age_upper_limit = data['age'].quantile(0.75) + IQR * 1.5\n",
    "\n",
    "# View the upper limit.\n",
    "age_upper_limit"
   ]
  },
  {
   "cell_type": "code",
   "execution_count": null,
   "metadata": {},
   "outputs": [],
   "source": [
    "# Draw a boxplot to see the shape of the distribution, including the outliers and their upper limit.\n",
    "data['age'].plot.box();"
   ]
  },
  {
   "cell_type": "markdown",
   "metadata": {},
   "source": [
    "[Observation] Because of all the outliers above the upper limit, the box is very much squashed."
   ]
  },
  {
   "cell_type": "code",
   "execution_count": null,
   "metadata": {},
   "outputs": [],
   "source": [
    "# Remove the outliers and store them in a separate DataFrame.\n",
    "age_without_outliers = data.query('age < @age_upper_limit')\n",
    "\n",
    "# View the new dataframe.\n",
    "#age_without_outliers"
   ]
  },
  {
   "cell_type": "markdown",
   "metadata": {},
   "source": [
    "[Observation] The total number of rows is now 49222. That means 4%% (= 49222 / 51525) account for outliers. "
   ]
  },
  {
   "cell_type": "markdown",
   "metadata": {},
   "source": [
    "-* Use the filtered data to plot new histograms. Compare them with the earlier histograms (the ones that included outliers). Draw conclusions for each histogram. *-"
   ]
  },
  {
   "cell_type": "code",
   "execution_count": null,
   "metadata": {},
   "outputs": [],
   "source": [
    "# Plot a new histogram. \n",
    "age_without_outliers.hist('age', figsize=(10, 6), bins=100, color='pink', grid=True);"
   ]
  },
  {
   "cell_type": "code",
   "execution_count": null,
   "metadata": {},
   "outputs": [],
   "source": [
    "# Draw a boxplot to see the shape of the distribution, including the outliers and their upper limit.\n",
    "age_without_outliers['age'].plot.box();"
   ]
  },
  {
   "cell_type": "markdown",
   "metadata": {},
   "source": [
    "[Comparison and Conclusions] \n",
    "\n",
    "* The shapes of the two histograms are have a certain resemblance in terms of the first and the third peaks, the first bar not being at 0 on the x-axis, and the outline of its positively skewed shape, though the second peak from the previous histogram is less pronounced in the new one. \n",
    "* Since 'age' is a discrete variable, we can see the individual values separately, spread out without touching each other in the new histogram. This indicates that the bins are an appropriate size. \n",
    "* The sharp peak almost reaching the 7000 vehicle mark in the previous histogram has decreased to around 4200. This is probably due to the single peak being an aggregate of several peaks, and the finer-grain x-axis is able to show the constituent peaks individually. \n",
    "* Even after the high outliers have been removed, the median (7), Q1 (4) and Q3 (12) have not changed. "
   ]
  },
  {
   "cell_type": "markdown",
   "metadata": {},
   "source": [
    "**Study mileage**"
   ]
  },
  {
   "cell_type": "code",
   "execution_count": null,
   "metadata": {},
   "outputs": [],
   "source": [
    "# Plot a histogram. Display true values on the axis and not in the 1e6 exponential form. \n",
    "data.hist('mileage_median_combined', figsize=(10, 6), bins=100, color='pink', grid=True);\n",
    "plt.ticklabel_format(style = 'plain')\n",
    "\n",
    "# x-axis: shows the mileage\n",
    "# y-axis: shows the number of vehicles"
   ]
  },
  {
   "cell_type": "markdown",
   "metadata": {},
   "source": [
    "-* Study how outliers affect the form and readability of the histogram. *-\n",
    "\n",
    "* Because of the large range occupied by the outliers, the rest of the values are squashed into the space between 0 and 30000. It is difficult to see the details. \n",
    "* There are some extremely well-traveled vehicles. They cause a heavy tail and the histogram to be positively skewed. \n",
    "* There are several peaks, the tallest being around 130000, but the values are clumped up together and we cannot see their details. \n",
    "* The last values I can discern are those around 50000. I am sure there are more values after that since the x-axis extends beyond 1000000 (in python we trust!)but I cannot make them out. "
   ]
  },
  {
   "cell_type": "code",
   "execution_count": null,
   "metadata": {},
   "outputs": [],
   "source": [
    "# To view the area of the histogram where there is most data, we can zoom in by using range.\n",
    "data.hist('mileage_median_combined', figsize=(10, 6), bins=100, color='pink', grid=True, range=(0, 500000));"
   ]
  },
  {
   "cell_type": "markdown",
   "metadata": {},
   "source": [
    "-* Determine the upper limits of outliers, remove the outliers and store them in a separate DataFrame, and continue your work with the filtered data. *-"
   ]
  },
  {
   "cell_type": "code",
   "execution_count": null,
   "metadata": {},
   "outputs": [],
   "source": [
    "# Determine the upper limit of outliers.\n",
    "IQR = data['mileage_median_combined'].quantile(0.75) - data['mileage_median_combined'].quantile(0.25)\n",
    "mileage_upper_limit = data['mileage_median_combined'].quantile(0.75) + IQR * 1.5\n",
    "\n",
    "# View the upper limit.\n",
    "mileage_upper_limit"
   ]
  },
  {
   "cell_type": "code",
   "execution_count": null,
   "metadata": {},
   "outputs": [],
   "source": [
    "# Draw a boxplot to see the shape of the distribution, including the outliers and their upper limit.\n",
    "# Display true values on the axis and not in the 1e6 exponential form.\n",
    "data['mileage_median_combined'].plot.box();\n",
    "plt.ticklabel_format(useOffset=False, style='plain', axis='y')"
   ]
  },
  {
   "cell_type": "markdown",
   "metadata": {},
   "source": [
    "[Observation] Because of all the outliers above the upper limit, the box is very much squashed."
   ]
  },
  {
   "cell_type": "code",
   "execution_count": null,
   "metadata": {},
   "outputs": [],
   "source": [
    "# Remove the outliers and store them in a separate DataFrame.\n",
    "mileage_without_outliers = data.query('mileage_median_combined < @mileage_upper_limit')\n",
    "\n",
    "# View the new dataframe.\n",
    "#mileage_without_outliers"
   ]
  },
  {
   "cell_type": "markdown",
   "metadata": {},
   "source": [
    "[Observation] The total number of rows is now 50864. That means about 1% (= 50864 / 51525) account for outliers. "
   ]
  },
  {
   "cell_type": "markdown",
   "metadata": {},
   "source": [
    "-* Use the filtered data to plot new histograms. Compare them with the earlier histograms (the ones that included outliers). Draw conclusions for each histogram. *-"
   ]
  },
  {
   "cell_type": "code",
   "execution_count": null,
   "metadata": {},
   "outputs": [],
   "source": [
    "# Plot a new histogram. \n",
    "mileage_without_outliers.hist('mileage_median_combined', figsize=(10, 6), bins=100, color='pink', grid=True);"
   ]
  },
  {
   "cell_type": "code",
   "execution_count": null,
   "metadata": {},
   "outputs": [],
   "source": [
    "# Draw a boxplot to see the shape of the distribution, including the outliers and their upper limit.\n",
    "mileage_without_outliers['mileage_median_combined'].plot.box();"
   ]
  },
  {
   "cell_type": "markdown",
   "metadata": {},
   "source": [
    "[Comparison and Conclusions] \n",
    "\n",
    "* With the high outliers gone, the new histogram has spread out almost symmetrically with only a slight skew to the right. It indicates a fairly even distribution with vehicles doing all sorts of mileage between 0 and around 280000. \n",
    "* The peak around 0 is much more pronounced, sticking out like a sore thumb in the new histogram. This includes those ads that did not provide mileage information, and (undrivable) vehicles being sold at almost nothing. \n",
    "* There are a few peaks between 90000 and 150000. These, and the peak around 0, will flatten out if I were to increase the number of bins. But conversely, more small peaks will appear providing too much detail, and that is a trade off. \n",
    "* Even after the high outliers have been removed, the median (113893), Q1 (72926) and Q3 (152000) have not changed. The min has not moved. The max has drastically been reduced from 990000 previously to about 280000. "
   ]
  },
  {
   "cell_type": "markdown",
   "metadata": {},
   "source": [
    "**Study number of cylinders**"
   ]
  },
  {
   "cell_type": "code",
   "execution_count": null,
   "metadata": {},
   "outputs": [],
   "source": [
    "# Plot a histogram. \n",
    "data.hist('cylinders_mode_combined', figsize=(10, 6), bins=100, color='pink', grid=True);\n",
    "\n",
    "# x-axis: shows the number of cylinders\n",
    "# y-axis: shows the number of vehicles"
   ]
  },
  {
   "cell_type": "markdown",
   "metadata": {},
   "source": [
    "-* Study how outliers affect the form and readability of the histogram. *-\n",
    "\n",
    "* The number of cylinders are expressed in terms of a small finite discrete set of integers between 3 and 12. The variable cannot take on some unpredictable, unexpected values. That means that the edge values will not be far away enough from where the majority of the data are, to the extent that they can have a significant effect on the shape of the histogram. So, I do not think 3 and 12 (or even 10) can be considered as outliers.   \n",
    "* The histogram is skewed to the right, with a short tail. \n",
    "* Because the number of values displayed on the x-axis is only 7, the histogram manages very well to display the data in its entirety. "
   ]
  },
  {
   "cell_type": "markdown",
   "metadata": {},
   "source": [
    "-* Determine the upper limits of outliers, remove the outliers and store them in a separate DataFrame, and continue your work with the filtered data. *-"
   ]
  },
  {
   "cell_type": "code",
   "execution_count": null,
   "metadata": {},
   "outputs": [],
   "source": [
    "# Determine the upper limit of outliers.\n",
    "IQR = data['cylinders_mode_combined'].quantile(0.75) - data['cylinders_mode_combined'].quantile(0.25)\n",
    "cylinders_upper_limit = data['cylinders_mode_combined'].quantile(0.75) + IQR * 1.5\n",
    "\n",
    "# View the upper limit.\n",
    "cylinders_upper_limit"
   ]
  },
  {
   "cell_type": "markdown",
   "metadata": {},
   "source": [
    "[Observation] Numbers do not lie - but it is interesting that the calculated upper limit exceeds the max value of 12 in the descriptive statistics. In the listing, there are no 14-cylinder vehicles on sale. \n",
    "\n",
    "[QUESTION] Why does this happen?"
   ]
  },
  {
   "cell_type": "code",
   "execution_count": null,
   "metadata": {},
   "outputs": [],
   "source": [
    "# Draw a boxplot to see the shape of the distribution, including the outliers and their upper limit.\n",
    "data['cylinders_mode_combined'].plot.box();"
   ]
  },
  {
   "cell_type": "markdown",
   "metadata": {},
   "source": [
    "[Observation] The boxplot concurs that there are no outliers, too. \n",
    "\n",
    "It is interesting that the max line is around 12 and not 14. \n",
    "\n",
    "[QUESTION] Does .plot.box() use a different algorithm to calculate the upper limit? "
   ]
  },
  {
   "cell_type": "markdown",
   "metadata": {},
   "source": [
    "<div class=\"alert alert-block alert-success\">\n",
    "<b>Reviewer's comment v1:</b>\n",
    "\n",
    "It can be indeed different based on the quartile calculation method. \n",
    "    \n",
    "        np.percentile(data['cylinders_mode_combined'], [100])  - this will result in value 12\n",
    "    \n",
    "</div>"
   ]
  },
  {
   "cell_type": "markdown",
   "metadata": {},
   "source": [
    "<div class=\"alert alert-info\"> <b>Student comments:</b> Goodness, this is so much more efficient than the method with quantile() that we learned!</div>  "
   ]
  },
  {
   "cell_type": "markdown",
   "metadata": {},
   "source": [
    "<div class=\"alert alert-block alert-success\">\n",
    "<b>Reviewer's comment v2:</b>\n",
    "    \n",
    "😅 in this case it is more a matter of taste.\n",
    "\n",
    "</div>"
   ]
  },
  {
   "cell_type": "markdown",
   "metadata": {},
   "source": [
    "Remove the outliers and store them in a separate DataFrame.\n",
    "\n",
    "I do not think there are outliers, but I will remove the data on 3 and 12-cylinder vehicles to see how the shape of the histogram and boxplot will change. \n",
    "<br>Note: I am going to \"veto\" the value of 'cylinders_upper_limit', 14, and use the correct value, 12, to get a correct histogram. "
   ]
  },
  {
   "cell_type": "code",
   "execution_count": null,
   "metadata": {},
   "outputs": [],
   "source": [
    "cylinders_mode_without_outliers = data.query('cylinders_mode_combined > 3 and cylinders_mode_combined < 12')\n",
    "\n",
    "# View the new dataframe.\n",
    "#cylinders_mode_without_outliers"
   ]
  },
  {
   "cell_type": "markdown",
   "metadata": {},
   "source": [
    "[Observation] The total number of rows is now 51489. That means less than 0.1% account for \"outliers\". "
   ]
  },
  {
   "cell_type": "markdown",
   "metadata": {},
   "source": [
    "-* Use the filtered data to plot new histograms. Compare them with the earlier histograms (the ones that included outliers). Draw conclusions for each histogram. *-"
   ]
  },
  {
   "cell_type": "code",
   "execution_count": null,
   "metadata": {},
   "outputs": [],
   "source": [
    "# Plot a new histogram. \n",
    "cylinders_mode_without_outliers.hist('cylinders_mode_combined', figsize=(10, 6), bins=100, color='pink', grid=True);"
   ]
  },
  {
   "cell_type": "code",
   "execution_count": null,
   "metadata": {},
   "outputs": [],
   "source": [
    "# Draw a boxplot to see the shape of the distribution, including the outliers and their upper limit.\n",
    "cylinders_mode_without_outliers['cylinders_mode_combined'].plot.box();"
   ]
  },
  {
   "cell_type": "markdown",
   "metadata": {},
   "source": [
    "[Observation] The min and Q1 now coincide. "
   ]
  },
  {
   "cell_type": "markdown",
   "metadata": {},
   "source": [
    "[Comparison and Conclusions] \n",
    "\n",
    "* The removal of the edge values (3 and 12) had no added-value to the new histogram. \n",
    "* On the contrary, I think we lost valuable data by removing those two values.\n",
    "* As the boxplot showed us, 3 and 12 were not considered \"outliers\". "
   ]
  },
  {
   "cell_type": "markdown",
   "metadata": {},
   "source": [
    "**Study condition**"
   ]
  },
  {
   "cell_type": "code",
   "execution_count": null,
   "metadata": {},
   "outputs": [],
   "source": [
    "# Plot a histogram. \n",
    "data.hist('condition_num', figsize=(10, 6), bins=100, color='pink', grid=True);\n",
    "\n",
    "# x-axis: shows the condition of vehicles on the scale of 0 to 5\n",
    "# where new = 5, like new = 4, excellent = 3, good = 2, fair = 1, salvage = 0\n",
    "# y-axis: shows the number of vehicles"
   ]
  },
  {
   "cell_type": "markdown",
   "metadata": {},
   "source": [
    "-* Study how outliers affect the form and readability of the histogram. *-\n",
    "\n",
    "* The condition scale is expressed in terms of a small finite discrete set of integers between 0 and 5. The variable cannot take on some unpredictable, unexpected values. That means that the edge values will not be far away enough from where the majority of the data are, to the extent that they can have a significant effect on the shape of the histogram. So, I do not think 0 and 1 on the low end, and 5 on the high end can be considered as outliers.\n",
    "* The shape of the histogram is fairly symmetrical with the mid-range condition levels being the most popular. \n",
    "* Because the number of values displayed on the x-axis is only 6, the histogram manages very well to display the data in its entirety. "
   ]
  },
  {
   "cell_type": "markdown",
   "metadata": {},
   "source": [
    "-* Determine the upper limits of outliers, remove the outliers and store them in a separate DataFrame, and continue your work with the filtered data. *-"
   ]
  },
  {
   "cell_type": "code",
   "execution_count": null,
   "metadata": {},
   "outputs": [],
   "source": [
    "# Determine the upper limit of outliers.\n",
    "IQR = data['condition_num'].quantile(0.75) - data['condition_num'].quantile(0.25)\n",
    "condition_upper_limit = data['condition_num'].quantile(0.75) + IQR * 1.5\n",
    "\n",
    "# View the upper limit. Round up to the nearest whole number. \n",
    "np.ceil(condition_upper_limit)"
   ]
  },
  {
   "cell_type": "markdown",
   "metadata": {},
   "source": [
    "[Observation] As expected."
   ]
  },
  {
   "cell_type": "code",
   "execution_count": null,
   "metadata": {},
   "outputs": [],
   "source": [
    "# Draw a boxplot to see the shape of the distribution, including the outliers and their upper limit.\n",
    "data['condition_num'].plot.box();"
   ]
  },
  {
   "cell_type": "markdown",
   "metadata": {},
   "source": [
    "[Observation] So the boxplot thinks that 0 and 5 are outliers. \n",
    "\n",
    "The median coincides with the Q3. "
   ]
  },
  {
   "cell_type": "code",
   "execution_count": null,
   "metadata": {},
   "outputs": [],
   "source": [
    "# Confirm in the descriptive statistics that the median coincides with the Q3. \n",
    "#condition_num_without_outliers.describe()"
   ]
  },
  {
   "cell_type": "markdown",
   "metadata": {},
   "source": [
    "Remove the outliers and store them in a separate DataFrame."
   ]
  },
  {
   "cell_type": "code",
   "execution_count": null,
   "metadata": {},
   "outputs": [],
   "source": [
    "condition_num_without_outliers = data.query('condition_num > 0 and condition_num < @condition_upper_limit')\n",
    "\n",
    "# View the new dataframe.\n",
    "#condition_num_without_outliers"
   ]
  },
  {
   "cell_type": "markdown",
   "metadata": {},
   "source": [
    "[Observation] The total number of rows is now 51267. That means less than 1% (= 51267 / 51525) account for \"outliers\". "
   ]
  },
  {
   "cell_type": "markdown",
   "metadata": {},
   "source": [
    "-* Use the filtered data to plot new histograms. Compare them with the earlier histograms (the ones that included outliers). Draw conclusions for each histogram. *-"
   ]
  },
  {
   "cell_type": "code",
   "execution_count": null,
   "metadata": {},
   "outputs": [],
   "source": [
    "# Plot a new histogram. \n",
    "condition_num_without_outliers.hist('condition_num', figsize=(10, 6), bins=100, color='pink', grid=True);"
   ]
  },
  {
   "cell_type": "code",
   "execution_count": null,
   "metadata": {},
   "outputs": [],
   "source": [
    "# Draw a boxplot to see the shape of the distribution, including the outliers and their upper limit.\n",
    "condition_num_without_outliers['condition_num'].plot.box();"
   ]
  },
  {
   "cell_type": "markdown",
   "metadata": {},
   "source": [
    "[Observation] The median and Q3 still coincide. "
   ]
  },
  {
   "cell_type": "markdown",
   "metadata": {},
   "source": [
    "[Comparison and Conclusions] \n",
    "\n",
    "* The removal of the edge values (0 and 5) did not have any added-value to the new histogram. \n",
    "* On the contrary, I think we lost valuable data by removing those two values."
   ]
  },
  {
   "cell_type": "markdown",
   "metadata": {},
   "source": [
    "= Study how many days advertisements were displayed (days_listed). Plot a histogram. Calculate the mean and median. Describe the typical lifetime of an ad. Determine when ads were removed quickly, and when they were listed for an abnormally long time. ="
   ]
  },
  {
   "cell_type": "markdown",
   "metadata": {},
   "source": [
    "-* Study how many days advertisements were displayed (days_listed). Plot a histogram. *-"
   ]
  },
  {
   "cell_type": "code",
   "execution_count": null,
   "metadata": {},
   "outputs": [],
   "source": [
    "# Plot a histogram.\n",
    "data.hist('days_listed', figsize=(10, 6), bins=100, color='pink', grid=True);\n",
    "\n",
    "# x-axis: shows the number of days an ad was listed\n",
    "# y-axis: shows the number of ads for each number of listing days "
   ]
  },
  {
   "cell_type": "code",
   "execution_count": null,
   "metadata": {},
   "outputs": [],
   "source": [
    "# Complement with descriptive statistics...\n",
    "data.describe()"
   ]
  },
  {
   "cell_type": "code",
   "execution_count": null,
   "metadata": {},
   "outputs": [],
   "source": [
    "#...and with a boxplot.\n",
    "data['days_listed'].plot.box();"
   ]
  },
  {
   "cell_type": "code",
   "execution_count": null,
   "metadata": {},
   "outputs": [],
   "source": [
    "# Period covered\n",
    "start = data['date_posted'].min()\n",
    "end = data['date_posted'].max()\n",
    "num_of_days = end - start\n",
    "print('start:', start)\n",
    "print('end:', end)\n",
    "print('number of days:', end - start)"
   ]
  },
  {
   "cell_type": "markdown",
   "metadata": {},
   "source": [
    "Study how many days advertisements were displayed (days_listed).\n",
    "\n",
    "For the period from 2018-05-01 to 2019-04-19 (353 days), \n",
    "* a total of 51525 ads were placed.\n",
    "* ads were listed for anywhere between 1 day to 271 days. \n",
    "* most ads were removed within 20 to 40 days.\n",
    "* Longer ads are increasingly rare.  "
   ]
  },
  {
   "cell_type": "markdown",
   "metadata": {},
   "source": [
    "-* Calculate the mean and median. *-\n",
    "\n",
    "The descriptive statistics tell us:\n",
    "* mean: 39.5 -> 40 days approx.\n",
    "* median: 33 days\n",
    "\n",
    "And now calculate the values in code."
   ]
  },
  {
   "cell_type": "code",
   "execution_count": null,
   "metadata": {},
   "outputs": [],
   "source": [
    "# Calculate the mean and median.\n",
    "mean = np.ceil(data['days_listed'].mean())\n",
    "median = data['days_listed'].median()\n",
    "\n",
    "print('mean:', mean, 'days')\n",
    "print('median:', median, 'days')"
   ]
  },
  {
   "cell_type": "markdown",
   "metadata": {},
   "source": [
    "-* Describe the typical lifetime of an ad. *-\n",
    "\n",
    "I would say, in this project with 51525 records:\n",
    "* an ad on average spends about 40 days on the listing until it is removed, \n",
    "* however, an ad most likely will be removed after 33 days. "
   ]
  },
  {
   "cell_type": "markdown",
   "metadata": {},
   "source": [
    "-* Determine when ads were removed quickly, and when they were listed for an abnormally long time. *-\n",
    "\n",
    "Assumption:\n",
    "* \"quickly removed ads\" can be defined as those with 'days_listed' values that are less than the lower quartile (Q1) and greater than the minimum, and\n",
    "* \"ads which were listed for an abnormally long time\" can be defined as those with 'days_listed' values that are greater than the maximum"
   ]
  },
  {
   "cell_type": "markdown",
   "metadata": {},
   "source": [
    "**quickly removed ads**"
   ]
  },
  {
   "cell_type": "code",
   "execution_count": null,
   "metadata": {},
   "outputs": [],
   "source": [
    "# In the decriptive statistics, we see that the lower quartile for 'days_listed' is 19.\n",
    "days_listed_lower_quartile = data['days_listed'].quantile(0.25)\n",
    "\n",
    "# View the result.\n",
    "days_listed_lower_quartile"
   ]
  },
  {
   "cell_type": "code",
   "execution_count": null,
   "metadata": {},
   "outputs": [],
   "source": [
    "# Create a slice with ads whose 'days_listed' value is less than the median. \n",
    "quickly_removed_ads = data.query('days_listed < @days_listed_lower_quartile')"
   ]
  },
  {
   "cell_type": "code",
   "execution_count": null,
   "metadata": {},
   "outputs": [],
   "source": [
    "# Count how many \"quickly removed ads\" there are. \n",
    "quickly_removed_ads['days_listed'].count()"
   ]
  },
  {
   "cell_type": "markdown",
   "metadata": {},
   "source": [
    "Just out of curiosity, check the characteristics of \"quickly removed ads\"?"
   ]
  },
  {
   "cell_type": "code",
   "execution_count": null,
   "metadata": {},
   "outputs": [],
   "source": [
    "# Check the paint colour. \n",
    "#quickly_removed_ads['filled_paint_color'].value_counts()"
   ]
  },
  {
   "cell_type": "code",
   "execution_count": null,
   "metadata": {},
   "outputs": [],
   "source": [
    "# Check the transmission type. \n",
    "#quickly_removed_ads['transmission'].value_counts()"
   ]
  },
  {
   "cell_type": "code",
   "execution_count": null,
   "metadata": {},
   "outputs": [],
   "source": [
    "# Check the vehicle's age.\n",
    "#quickly_removed_ads['age'].value_counts()"
   ]
  },
  {
   "cell_type": "code",
   "execution_count": null,
   "metadata": {},
   "outputs": [],
   "source": [
    "# Check the mileage (although it will not be accurate since I did not categorize the values into ranges).\n",
    "#quickly_removed_ads['mileage_median_combined'].value_counts()"
   ]
  },
  {
   "cell_type": "code",
   "execution_count": null,
   "metadata": {},
   "outputs": [],
   "source": [
    "# Check the condition.\n",
    "#quickly_removed_ads['condition'].value_counts()"
   ]
  },
  {
   "cell_type": "markdown",
   "metadata": {},
   "source": [
    "[Conclusion] There are 12561 ads that can be defined as \"quickly_removed_ads\". This is indeed about 24% of the total ads placed (= 12561 / 51525)."
   ]
  },
  {
   "cell_type": "markdown",
   "metadata": {},
   "source": [
    "**ads which were listed for an abnormally long time**"
   ]
  },
  {
   "cell_type": "markdown",
   "metadata": {},
   "source": [
    "According to the descriptive statistics, the max is 271. But according to the boxplot, the max is about 100, and all the values above the max are displayed as outliers. \n",
    "\n",
    "Looking at the histogram, I would say 150 is the threshold, beyond which we can classify the ads as being listed for an abnormally long time. "
   ]
  },
  {
   "cell_type": "code",
   "execution_count": null,
   "metadata": {},
   "outputs": [],
   "source": [
    "# Set the threshold to 150.\n",
    "abnormally_long_threshold = 150"
   ]
  },
  {
   "cell_type": "code",
   "execution_count": null,
   "metadata": {},
   "outputs": [],
   "source": [
    "# Create a slice with ads whose 'days_listed' value is above the threshold. \n",
    "abnormally_persistent_ads = data.query('days_listed > @abnormally_long_threshold')"
   ]
  },
  {
   "cell_type": "code",
   "execution_count": null,
   "metadata": {},
   "outputs": [],
   "source": [
    "# Count how many \"abnormally_persistent_ads\" there are. \n",
    "abnormally_persistent_ads['days_listed'].count()"
   ]
  },
  {
   "cell_type": "markdown",
   "metadata": {},
   "source": [
    "[Conclusion] There are 243 ads that can be defined as being \"listed for an abnormally long time\". This is about 0.47% of the total ads placed (= 243 / 51525)."
   ]
  },
  {
   "cell_type": "markdown",
   "metadata": {},
   "source": [
    "= Analyze the number of ads and the average price for each type of vehicle.\n",
    "Plot a graph showing the dependence of the number of ads on the vehicle\n",
    "type. Select the two types with the greatest number of ads. ="
   ]
  },
  {
   "cell_type": "markdown",
   "metadata": {},
   "source": [
    "-* Analyze the number of ads and the average price for each type of vehicle. *-"
   ]
  },
  {
   "cell_type": "code",
   "execution_count": null,
   "metadata": {},
   "outputs": [],
   "source": [
    "# Create a pivot table by grouping the data by vehicle type.\n",
    "ads_by_vehicle_type_pivot = data.pivot_table(\n",
    "    index = ['type'], values = ['date_posted', 'price'], aggfunc = ['count', 'mean']\n",
    ")\n",
    "\n",
    "# View the pivot table from the least number of ads to .\n",
    "ads_by_vehicle_type_pivot"
   ]
  },
  {
   "cell_type": "markdown",
   "metadata": {},
   "source": [
    "-* Plot a graph showing the dependence of the number of ads on the vehicle\n",
    "type.  *-"
   ]
  },
  {
   "cell_type": "code",
   "execution_count": null,
   "metadata": {},
   "outputs": [],
   "source": [
    "(data\n",
    "     .pivot_table(index = ['type'], values = 'date_posted', aggfunc = 'count')\n",
    "     .plot(grid=True, figsize=(12, 5), rot=90, style='o')\n",
    ") "
   ]
  },
  {
   "cell_type": "markdown",
   "metadata": {},
   "source": [
    "[Comment] In my local environment (jupyter notebook), there is more space between the y-axis and \"SUV\" and looks better. The same goes for the right hand frame of the graph and \"wagon\"."
   ]
  },
  {
   "cell_type": "markdown",
   "metadata": {},
   "source": [
    "-* Select the two types with the greatest number of ads.  *-\n",
    "\n",
    "1. SUV\n",
    "2. truck"
   ]
  },
  {
   "cell_type": "markdown",
   "metadata": {},
   "source": [
    "= What factors impact the price most? Take each of the popular types you\n",
    "detected at the previous stage and study whether the price depends on\n",
    "age, mileage, condition, transmission type, and color. For categorical\n",
    "variables (transmission type and color), plot box-and-whisker charts, and\n",
    "create scatterplots for the rest. When analyzing categorical variables, note\n",
    "that the categories must have at least 50 ads; otherwise, their parameters\n",
    "won't be valid for analysis. ="
   ]
  },
  {
   "cell_type": "markdown",
   "metadata": {},
   "source": [
    "Make a data slice for each type to make comparisons. "
   ]
  },
  {
   "cell_type": "code",
   "execution_count": null,
   "metadata": {},
   "outputs": [],
   "source": [
    "# Make a data slice of the 'data' dataframe for 'type' = SUV.\n",
    "data_SUV = data.query('type == \"SUV\"')\n",
    "\n",
    "# View the data slice.\n",
    "#data_SUV"
   ]
  },
  {
   "cell_type": "code",
   "execution_count": null,
   "metadata": {},
   "outputs": [],
   "source": [
    "# Make a data slice of the 'data' dataframe for 'type' = truck.\n",
    "data_truck = data.query('type == \"truck\"')\n",
    "\n",
    "# View the data slice.\n",
    "#data_truck"
   ]
  },
  {
   "cell_type": "markdown",
   "metadata": {},
   "source": [
    "-* Does the price depend on age? *-"
   ]
  },
  {
   "cell_type": "code",
   "execution_count": null,
   "metadata": {},
   "outputs": [],
   "source": [
    "# Draw a scatterplot for SUV.\n",
    "data_SUV.plot.scatter(x='age', y='price', alpha=0.03, grid=True);"
   ]
  },
  {
   "cell_type": "code",
   "execution_count": null,
   "metadata": {},
   "outputs": [],
   "source": [
    "# Draw a scatterplot for trucks.\n",
    "data_truck.plot.scatter(x='age', y='price', color='pink', alpha=0.03, grid=True);"
   ]
  },
  {
   "cell_type": "markdown",
   "metadata": {},
   "source": [
    "[Observations] \n",
    "\n",
    "By and large, there is a negative correlation between price and age for both vehicle types - the younger a vehicle, the highter the price. "
   ]
  },
  {
   "cell_type": "code",
   "execution_count": null,
   "metadata": {},
   "outputs": [],
   "source": [
    "# Calculate the Pearson correlation coefficient between price and vehicle's age in each data slice. \n",
    "print('SUV:', data_SUV['age'].corr(data_SUV['price']))\n",
    "print('Trucks:', data_truck['age'].corr(data_truck['price']))"
   ]
  },
  {
   "cell_type": "markdown",
   "metadata": {},
   "source": [
    "[Observation] Assumption: \n",
    "The relationship between 'age' and 'price' is linear.\n",
    "\n",
    "A rule of thumb for interpreting the strength of a relationship between two variables:\n",
    "* r < 0.3: None or very weak\n",
    "* 0.3 < r <0.5: Weak\n",
    "* 0.5 < r < 0.7: Moderate\n",
    "* r > 0.7: Strong\n",
    "\n",
    "Their relationship is a negative correlation of a weak to moderate degree. "
   ]
  },
  {
   "cell_type": "markdown",
   "metadata": {},
   "source": [
    "-* Does the price depend on mileage? *-"
   ]
  },
  {
   "cell_type": "code",
   "execution_count": null,
   "metadata": {},
   "outputs": [],
   "source": [
    "# Draw a scatterplot for SUV.\n",
    "data_SUV.plot.scatter(x='mileage_median_combined', y='price', alpha=0.03, grid=True);"
   ]
  },
  {
   "cell_type": "code",
   "execution_count": null,
   "metadata": {},
   "outputs": [],
   "source": [
    "# Draw a scatterplot for trucks.\n",
    "data_truck.plot.scatter(x='mileage_median_combined', y='price', color='pink', alpha=0.03, grid=True);"
   ]
  },
  {
   "cell_type": "markdown",
   "metadata": {},
   "source": [
    "[Observations] \n",
    "\n",
    "By and large, there is a negative correlation between price and mileage for both vehicle types - the lower the mileage, the highter the price. "
   ]
  },
  {
   "cell_type": "code",
   "execution_count": null,
   "metadata": {},
   "outputs": [],
   "source": [
    "# Calculate the Pearson correlation coefficient between price and mileage in each data slice. \n",
    "print('SUV:', data_SUV['mileage_median_combined'].corr(data_SUV['price']))\n",
    "print('Trucks:', data_truck['mileage_median_combined'].corr(data_truck['price']))"
   ]
  },
  {
   "cell_type": "markdown",
   "metadata": {},
   "source": [
    "[Observation] Assumption: \n",
    "The relationship between 'mileage' and 'price' is linear.\n",
    "\n",
    "Their relationship is a negative correlation of a weak to moderate degree. "
   ]
  },
  {
   "cell_type": "markdown",
   "metadata": {},
   "source": [
    "-* Does the price depend on condition? *-"
   ]
  },
  {
   "cell_type": "code",
   "execution_count": null,
   "metadata": {},
   "outputs": [],
   "source": [
    "# Draw a scatterplot for SUV.\n",
    "data_SUV.plot.scatter(x='condition_num', y='price', alpha=0.03, grid=True);"
   ]
  },
  {
   "cell_type": "code",
   "execution_count": null,
   "metadata": {},
   "outputs": [],
   "source": [
    "# Draw a scatterplot for trucks.\n",
    "data_truck.plot.scatter(x='condition_num', y='price', color='pink', alpha=0.03, grid=True);"
   ]
  },
  {
   "cell_type": "markdown",
   "metadata": {},
   "source": [
    "[Observations] \n",
    "\n",
    "* If there was a correlation, I would expect to see a triangle starting at 0 on the x-axis and steadily growing bigger towards the top right hand corner of the graph space above 5. But there is no such triangle here in either of the vehicle types. \n",
    "* The mid-range conditions tend to be more pricey than the others. \n",
    "* I think a condition scale only reflects a subjective opinion. The seller may be of opinion that the vehicle is in \"excellent\" condition, but another person (a potential buyer or a car dealer) may not agree. Also, choosing a condition scale is very arbitrary. In other words, the condition scale does not accurately reflect the value of a vehicle, so it is not a factor that affects the price. \n",
    "* Condition levels such as \"new\" and \"like new\" are less believable when it comes to used cars, so potential buyers will be less trusting of those ads. "
   ]
  },
  {
   "cell_type": "code",
   "execution_count": null,
   "metadata": {},
   "outputs": [],
   "source": [
    "# Calculate the Pearson correlation coefficient between price and condition in each data slice. \n",
    "print('SUV:', data_SUV['condition_num'].corr(data_SUV['price']))\n",
    "print('Trucks:', data_truck['condition_num'].corr(data_truck['price']))"
   ]
  },
  {
   "cell_type": "markdown",
   "metadata": {},
   "source": [
    "[Observation] Assumption: \n",
    "The relationship between 'condition' and 'price' is linear.\n",
    "\n",
    "As expected, their relationship is a positive correlation of a very weak degree or practically non-existent. "
   ]
  },
  {
   "cell_type": "markdown",
   "metadata": {},
   "source": [
    "-* Does the price depend on transmission type? *-\n",
    "\n",
    "Note: the categories must have at least 50 ads; otherwise, their parameters will not be valid for analysis.D"
   ]
  },
  {
   "cell_type": "code",
   "execution_count": null,
   "metadata": {},
   "outputs": [],
   "source": [
    "# Draw a box-and-whisker chart with Seaborn for SUV.\n",
    "sns.set_style(\"whitegrid\")\n",
    "plt.figure(figsize=(10,6))\n",
    "SUV_bplot_trans_price = sns.boxplot(y='price', x='transmission', data=data_SUV, width=0.5, palette='Set3')\n",
    "SUV_bplot_trans_price.axes.set_title(\"SUV: Correlation between Vehicle Price and Transmission Type\", fontsize=12);\n",
    "SUV_bplot_trans_price.set_xlabel(\"Transmission Type\", fontsize=12);\n",
    "SUV_bplot_trans_price.set_ylabel(\"Price\", fontsize=12);\n",
    "SUV_bplot_trans_price.tick_params(labelsize=12)"
   ]
  },
  {
   "cell_type": "code",
   "execution_count": null,
   "metadata": {},
   "outputs": [],
   "source": [
    "# Draw a box-and-whisker chart with Seaborn for trucks.\n",
    "#data_SUV.plot(kind='box');\n",
    "sns.set_style(\"whitegrid\")\n",
    "plt.figure(figsize=(10,6))\n",
    "truck_bplot_trans_price = sns.boxplot(y='price', x='transmission', data=data_truck, width=0.5, palette='Set1')\n",
    "truck_bplot_trans_price.axes.set_title(\"Trucks: Correlation between Vehicle Price and Transmission Type\", fontsize=12);\n",
    "truck_bplot_trans_price.set_xlabel(\"Transmission Type\", fontsize=12);\n",
    "truck_bplot_trans_price.set_ylabel(\"Price\", fontsize=12);\n",
    "truck_bplot_trans_price.tick_params(labelsize=12)"
   ]
  },
  {
   "cell_type": "markdown",
   "metadata": {},
   "source": [
    "[Observations] \n",
    "\n",
    "* In both vehicle types, 'automatic' vehicles tend to be priced higher than the max, followed by 'manual' ones. \n",
    "* For SUV, 'manual' vehicles tend to be more expensive than 'automatic' ones, whereas for trucks, it is the opposite. \n",
    "* The majority of vehicles with 'other' transmission types tend to be within the normal price range. "
   ]
  },
  {
   "cell_type": "markdown",
   "metadata": {},
   "source": [
    "[QUESTION] How do I make the plot area and the font of the categorical labels (\"automatic\", \"manual\", \"other\") bigger? I could not link plt.figure(figsize=(10, 6)) to the dataset 'truck_bplot_trans_price' for instance."
   ]
  },
  {
   "cell_type": "markdown",
   "metadata": {},
   "source": [
    "<div class=\"alert alert-block alert-success\">\n",
    "<b>Reviewer's comment v1:</b>\n",
    "    \n",
    "- If you put `plt.figure(figsize=(10,6))` to the first line of the code the plot area will be adjusted.\n",
    "\n",
    "- To change the labels font size you can the following code line  `SUV_bplot_trans_price.tick_params(labelsize=12)`\n",
    "\n",
    "</div>"
   ]
  },
  {
   "cell_type": "markdown",
   "metadata": {},
   "source": [
    "<div class=\"alert alert-info\"> <b>Student comments:</b> Got it!</div>  "
   ]
  },
  {
   "cell_type": "markdown",
   "metadata": {},
   "source": [
    "[QUESTION] In my local jupyter notebook environment, the grid is automatically displayed in the boxplots. \n",
    "sns.set(style='whitegrid') or anything else does not work. Could you tell me the right code?"
   ]
  },
  {
   "cell_type": "markdown",
   "metadata": {},
   "source": [
    "<div class=\"alert alert-block alert-success\">\n",
    "<b>Reviewer's comment v1:</b>\n",
    "\n",
    "Yandex jupyter notebook environment has most likely older seaborn version but if you put `sns.set_style(\"whitegrid\")` to the first line of the code the plot style will be adjusted. \n",
    "\n",
    "</div>"
   ]
  },
  {
   "cell_type": "markdown",
   "metadata": {},
   "source": [
    "<div class=\"alert alert-info\"> <b>Student comments:</b> With the grid displayed, it's now much easier to know the values of the outliers. Thank you. </div>  "
   ]
  },
  {
   "cell_type": "markdown",
   "metadata": {},
   "source": [
    "-* Does the price depend on color? Plot box-and-whisker charts.*-\n",
    "\n",
    "Note: the categories must have at least 50 ads; otherwise, their parameters will not be valid for analysis."
   ]
  },
  {
   "cell_type": "code",
   "execution_count": null,
   "metadata": {},
   "outputs": [],
   "source": [
    "# Draw a box-and-whisker chart with Seaborn for SUV.\n",
    "sns.set_style(\"whitegrid\")\n",
    "plt.figure(figsize=(10,6))\n",
    "SUV_bplot_colour_price = sns.boxplot(y='price', x='filled_paint_color', data=data_SUV, width=0.5, palette='Set3')\n",
    "SUV_bplot_colour_price.axes.set_title(\"SUV: Correlation between Vehicle Price and Paint Colour\", fontsize=12);\n",
    "SUV_bplot_colour_price.set_xticklabels(SUV_bplot_colour_price.get_xticklabels(),rotation=90);\n",
    "SUV_bplot_colour_price.set_xlabel(\"Paint Colour\", fontsize=12);\n",
    "SUV_bplot_colour_price.set_ylabel(\"Price\", fontsize=12);\n",
    "SUV_bplot_trans_price.tick_params(labelsize=12)"
   ]
  },
  {
   "cell_type": "code",
   "execution_count": null,
   "metadata": {},
   "outputs": [],
   "source": [
    "# Draw a box-and-whisker chart with Seaborn for trucks.\n",
    "sns.set_style(\"whitegrid\")\n",
    "plt.figure(figsize=(10,6))\n",
    "truck_bplot_colour_price = sns.boxplot(y='price', x='filled_paint_color', data=data_truck, width=0.5, palette='Set1')\n",
    "truck_bplot_colour_price.axes.set_title(\"Trucks: Correlation between Vehicle Price and Paint Colour\", fontsize=12);\n",
    "truck_bplot_colour_price.set_xticklabels(truck_bplot_colour_price.get_xticklabels(),rotation=90);\n",
    "truck_bplot_colour_price.set_xlabel(\"Paint Colour\", fontsize=12);\n",
    "truck_bplot_colour_price.set_ylabel(\"Price\", fontsize=12);\n",
    "SUV_bplot_trans_price.tick_params(labelsize=12)"
   ]
  },
  {
   "cell_type": "markdown",
   "metadata": {},
   "source": [
    "[Observations] \n",
    "\n",
    "* For SUV, more vehicles tend to be priced higher than the normal range, compared to trucks in general, though there are many more outliers in the trucks data.\n",
    "* For SUV, white seems to be the most popular colour and many more vehicles tend to be priced higher than the normal range, followed by red and black. For trucks, white, grey and black seem to be the easiest colours to sell, and buyers tend to put higher prices outside the normal range. \n",
    "\n",
    "[A side comment]\n",
    "Statistically speaking, there are many records where the information on colour is missing (\"unknown\"), and it is a shame that they could not contribute to the statistics of understanding the correlation between colour and price better. "
   ]
  },
  {
   "cell_type": "markdown",
   "metadata": {},
   "source": [
    "Lastly, check using the whole dataset if there is a degree of correlation between the following variable pairs."
   ]
  },
  {
   "cell_type": "code",
   "execution_count": null,
   "metadata": {},
   "outputs": [],
   "source": [
    "# Is there a correlation between price and vehicle's age?\n",
    "#print('Correlation between price and vehicle\\'s age:', data['age'].corr(data['price']))"
   ]
  },
  {
   "cell_type": "code",
   "execution_count": null,
   "metadata": {},
   "outputs": [],
   "source": [
    "# Is there a correlation between price and mileage?\n",
    "#print('Correlation between price and mileage:', data['mileage_median_combined'].corr(data['price']))"
   ]
  },
  {
   "cell_type": "code",
   "execution_count": null,
   "metadata": {},
   "outputs": [],
   "source": [
    "# Is there a correlation between 'price' and 'condition'?\n",
    "#print('Correlation between price and condition:', data['condition_num'].corr(data['price']))"
   ]
  },
  {
   "cell_type": "markdown",
   "metadata": {},
   "source": [
    "<div class=\"alert alert-block alert-success\">\n",
    "<b>Reviewer's comment v1:</b>\n",
    "    \n",
    "Excellent data analysis with correct conclusions and different graph types.\n",
    "\n",
    "You covered all possilbe questions and dependencies between data. Also I really liked your observations and conclusions.\n",
    "\n",
    "As an extra mile, it is also possible to create correlation matrix to check the correlation of different features.\n",
    "\n",
    "</div>"
   ]
  },
  {
   "cell_type": "markdown",
   "metadata": {},
   "source": [
    "<div class=\"alert alert-info\"> <b>Student comments:</b> I have added a correlation matrix. </div>  "
   ]
  },
  {
   "cell_type": "markdown",
   "metadata": {},
   "source": [
    "<div class=\"alert alert-block alert-success\">\n",
    "<b>Reviewer's comment v2:</b>\n",
    "    \n",
    "Great!\n",
    "\n",
    "</div>"
   ]
  },
  {
   "cell_type": "code",
   "execution_count": null,
   "metadata": {},
   "outputs": [],
   "source": [
    "# Make a new dataframe containing only the relevant variables. \n",
    "final_df = data[['price', 'age', 'mileage_annual_average', 'condition_num']].copy()"
   ]
  },
  {
   "cell_type": "code",
   "execution_count": null,
   "metadata": {},
   "outputs": [],
   "source": [
    "# Find the correlation coefficients for all the pairs of variables. \n",
    "print(final_df.corr())"
   ]
  },
  {
   "cell_type": "code",
   "execution_count": null,
   "metadata": {},
   "outputs": [],
   "source": [
    "# Let's visualise the data on a scatterplot matrix. Highlight the graphs of our interest in pink for a clearer presentation. \n",
    "pd.plotting.scatter_matrix(final_df, figsize=(10, 6), color='pink');"
   ]
  },
  {
   "cell_type": "markdown",
   "metadata": {},
   "source": [
    "[Observation] The above are the scatterplots drawn using the whole dataset (including only the relevant quantitative variables). They resemble those of the SUV and trucks data we studied ealier. This is an indication that the SUV and trucks were a good representation that reflected accurately the general characteristics of the whole dataset.\n",
    "\n",
    "* price vs age: there is a negative correlation - the younger a vehicle, the highter the price.\n",
    "* price vs mileage: there is a negative correlation - the lower the mileage, the highter the price.\n",
    "* price vs condition: no correlation can be seen. \n",
    "\n",
    "We can also see that:\n",
    "* age vs mileage: unexpectedly, there is a negative correlation - the younger a vehicle, the less mileage it has done. I would have expected a vehicle to accumulate mileage as it ages, but the graph indicates otherwise. \n",
    "<br>It is possible that: \n",
    "<br>o people's life style changed over the years that we travel a lot more and at speed, compared to the past, and/or\n",
    "<br>o the younger a vehicle, the more powerful engine it is equipped with, making it capable of travelling more distance without breaking down. \n",
    "* condition vs mileage: no correlation can be seen.\n",
    "* age vs condition: no correlation can be seen."
   ]
  },
  {
   "cell_type": "markdown",
   "metadata": {},
   "source": [
    "## Overall conclusion"
   ]
  },
  {
   "cell_type": "markdown",
   "metadata": {},
   "source": [
    "[Executive summary]\n",
    "So what factors impact the price the most? \n",
    "\n",
    "In short, the vehicle's age, mileage, transmission type and colour all contribute to the vehicle's price. Vehicles which are recent models, have done low mileage, equipped with an automatic gear, and white in colour can request a higher asking price outside the normal range, and are the easiest to sell. Condition levels should be appealing yet believable, so \"excellent\" and \"good\" seem to strike a balance. \n",
    "\n",
    "The Pearson's correlation coefficient may not back up my claims, but that is what I saw in the data I was given. \n",
    "\n",
    "Crankshaft List may leverage the data to provide sellers the following consultation services:\n",
    "* suggest an asking price, based on the vehicle's model year, model, number of cylinders, transmission type and vehicle type to offer potential buyers an attractive and yet fair price\n",
    "* let the seller in on the secret that s/he can ask for a higher asking price, if the vehicle has the winning combination of right age, mileage, transmission type and colour\n",
    "* advise how to make a wise choice in the 'condition' scale, not so much as to gain the trust of potential buyers, but at least not to create a sense of distrust in potential buyers, by selecting one of the mid-range options\n",
    "\n",
    "\n",
    "[Specifics - Data preprocessing]\n",
    "* Missing values: no rows were deleted for missing a value. The following variables were missing values in some of the rows, and  were handled as below in order to restore them by imputation: \n",
    "<br>o 'cylinders': an educated guess was made by grouping the data by 'model_year' and 'model' then identifying the most common 'cylinders' value for that pair. Where there was more than one 'cylinders' value, the minimum was chosen. Where no 'cylinders' could be identified, the same process was repeated using 'model' only. The most common value was then used to fill the missing values. \n",
    "<br>o 'model_year': an educated guess was made by grouping the data by 'model' and 'mileage' then identifying the most common 'model_year' value for that pair. Where there was more than one 'model_year' value, the minimum was chosen. Where no 'model_year' could be identified, the same process was repeated using 'model' and 'cylinders', then further using 'model' and 'transmission'. The most common value was then used to fill the missing values.\n",
    "<br>o 'mileage': an educated guess was made by grouping the data by 'model_year' and 'model' then calculating the median 'mileage'  value for that pair. Where no 'mileage' median could be obtained due to the absence of data, the same process was repeated using 'model' and 'cylinders'. The median was then used to fill the missing values.\n",
    "<br>o 'paint_color': the missing values were filled with the term, 'unknown'. \n",
    "<br>o 'is_4wd': the missing values indicated that a vehicle was not a 4wd, and therefore, were filled with a zero. \n",
    "\n",
    "* Data type conversion: the data type was modified for ease of calculation and understanding for the following variables as below: \n",
    "<br>o 'model_year': modified from float to int\n",
    "<br>o 'is_4wd': modified from float to boolean via int\n",
    "<br>o 'cylinders': modified from float to int\n",
    "<br>o 'date_posted': modified from string to date-time\n",
    "\n",
    "* Variable renaming: one variable was renamed for ease of understanding as below:\n",
    "<br>o 'odometer': the variable was renamed 'mileage'.\n",
    "\n",
    "* Duplicates: no rows were removed for being duplicates of each other, but I would like to mention the following: \n",
    "<br>o No rows were \"column for column\" duplicates of each other, though there were rows which were thought to be the same ad being reactivated repeatedly period after period since they and were identical in nine columns.\n",
    "<br>o There were inconsistencies in 'model' whereby the same 'model' value was found in two different forms, thereby, causing inaccuracy in aggregation. The issue was resolved by unifying all the variations into a single form. \n",
    "\n",
    "* Additional columns: as per instructed in the project description, the following variables were calculated and added to the dataset:\n",
    "<br>o 'day_of_week', 'month', 'year': the information was extracted from 'date_posted'.\n",
    "<br>o 'age': the vehicle's age was calculated from the post-imputation 'model_year' values and 'date_posted'. The illogical value of 'age' = 0 that arose during the calculation was corrected to 1. \n",
    "<br>o vehicle's annual average 'mileage': this was calculated from the post-imputation values of 'mileage' and 'age'.\n",
    "<br>o 'condition' as quantitative values: the original string values were expressed in terms of a numerica scale between 0 and 5. \n",
    "\n",
    "[Specifics - Exploratory Data Analysis]\n",
    "* 'price', 'age', 'mileage', 'cylinders' and 'condition':\n",
    "<br>o Each variable was looked at using a histogram and a boxplot to study the effect of outliers that they obscure the majority of the data by clumping them together to one side, rendering the histogram unable to show their detail.\n",
    "<br>o A new histogram was plotted out of filtered data without the outliers, and was compared to the previous histogram to understand the benefit of identifying the threshold and removing the outliers. \n",
    "\n",
    "* 'days_listed':\n",
    "<br>o The variable was singled out and studied closely with the aid of a histogram, a boxplot and descriptive statistics. \n",
    "<br>o The mean and the median were used as the benchmark to describe the typical lifetime of an ad, and to identify those ads that were removed quickly and those that were listed for an abnormally long time. \n",
    "\n",
    "* Analysis - the factors that influece a vehicle's price\n",
    "<br>o Two types of vehicles with the most number of ad placements were identified as the top two types in demand, which reflected the general characteristics of the whole dataset. \n",
    "<br>o The average price for each type was calculated.\n",
    "<br>o Using the two vehicle types as data slices, any relationship that may exist between 'price' and each of 'age', 'mileage', 'condition', 'transmission type' and 'color' variables was examined. It was verified that there were at least 50 ad placements for each of the two selected vehicle types to confirm that the sample size was large enough to ensure the statistical validity of the data studied. "
   ]
  },
  {
   "cell_type": "markdown",
   "metadata": {},
   "source": [
    "<div class=\"alert alert-danger\">\n",
    "<b>Reviewer's comment v1:</b> \n",
    "    \n",
    "Overall you did a great research. \n",
    "\n",
    "- Nevertheless, general conclusions represent the overall work progress that you achieved. On a real project, this is probably the only thing the business will read. Therefore, it is crucial to indicate in a structured way all conclusions that you made on each step in the project. \n",
    "    \n",
    "For example:\n",
    "1. Replaced missing values in the following data with the following method.\n",
    "2. Replaced data types in the following columns.\n",
    "3. etc.\n",
    "4. etc.\n",
    "    \n",
    "\n",
    "- It is also important to provide explanations and interpretations that will be interesting for business based on your analysis.   \n",
    "\n",
    "</div>"
   ]
  },
  {
   "cell_type": "markdown",
   "metadata": {},
   "source": [
    "<div class=\"alert alert-info\"> <b>Student comments:</b> I thought I should make the final conclusion as short and concise as possible for my \"fictitious target audience\" (company executives) by writing the answer to the question (\"which factors affect the price of a vehicle?\") only, and I really tried to make it short. \n",
    "\n",
    "I have expanded my conclusion now. :)\n",
    "</div>  "
   ]
  },
  {
   "cell_type": "markdown",
   "metadata": {},
   "source": [
    "<div class=\"alert alert-block alert-success\">\n",
    "<b>Reviewer's comment v2:</b>\n",
    "    \n",
    "It should be again somewhere in the middle (not too long, not too short). \n",
    "\n",
    "Now you made great overall conclusions and research! Your insights and recommendations are correct and could be helpful for business owners.\n",
    "\n",
    "</div>"
   ]
  },
  {
   "cell_type": "markdown",
   "metadata": {},
   "source": []
  },
  {
   "cell_type": "markdown",
   "metadata": {},
   "source": [
    "# Project completion checklist\n",
    "\n",
    "Mark the completed tasks with 'x'. Then press Shift+Enter."
   ]
  },
  {
   "cell_type": "markdown",
   "metadata": {},
   "source": [
    "- [x]  file opened\n",
    "- [x]  files explored (first rows printed, info() method)\n",
    "- [x]  missing values determined\n",
    "- [x]  missing values filled in\n",
    "- [x]  clarification of the discovered missing values provided\n",
    "- [x]  data types converted\n",
    "- [x]  explanation of which columns had the data types changed and why\n",
    "- [x]  calculated and added to the table: day of the week, month, and year the ad was placed\n",
    "- [x]  calculated and added to the table: the vehicle's age (in years) when the ad was placed\n",
    "- [x]  calculated and added to the table: the vehicle's average mileage per year\n",
    "- [x]  the following parameters investigated: price, vehicle's age when the ad was placed, mileage, number of cylinders, and condition\n",
    "- [x]  histograms for each parameter created\n",
    "- [x]  task completed: \"Determine the upper limits of outliers, remove the outliers and store them in a separate DataFrame, and continue your work with the filtered data.\"\n",
    "- [x]  task completed: \"Use the filtered data to plot new histograms. Compare them with the earlier histograms (the ones that included outliers). Draw conclusions for each histogram.\"\n",
    "- [x]  task completed: \"Study how many days advertisements were displayed (days_listed). Plot a histogram. Calculate the mean and median. Describe the typical lifetime of an ad. Determine when ads were removed quickly, and when they were listed for an abnormally long time.  \"\n",
    "- [x]  task completed: \"Analyze the number of ads and the average price for each type of vehicle. Plot a graph showing the dependence of the number of ads on the vehicle type. Select the two types with the greatest number of ads. \"\n",
    "- [x]  task completed: \"What factors impact the price most? Take each of the popular types you detected at the previous stage and study whether the price depends on age, mileage, condition, transmission type, and color. For categorical variables (transmission type and color), plot box-and-whisker charts, and create scatterplots for the rest. When analyzing categorical variables, note that the categories must have at least 50 ads; otherwise, their parameters won't be valid for analysis.  \"\n",
    "- [x]  each stage has a conclusion\n",
    "- [x]  overall conclusion drawn"
   ]
  }
 ],
 "metadata": {
  "ExecuteTimeLog": [
   {
    "duration": 1672,
    "start_time": "2021-06-26T17:52:21.002Z"
   },
   {
    "duration": 4,
    "start_time": "2021-06-26T17:52:30.826Z"
   },
   {
    "duration": 296,
    "start_time": "2021-06-26T17:52:46.982Z"
   },
   {
    "duration": 40,
    "start_time": "2021-06-26T17:53:05.662Z"
   },
   {
    "duration": 27,
    "start_time": "2021-06-26T17:53:37.402Z"
   },
   {
    "duration": 53,
    "start_time": "2021-06-26T17:53:53.230Z"
   },
   {
    "duration": 3,
    "start_time": "2021-06-26T17:54:20.114Z"
   },
   {
    "duration": 3,
    "start_time": "2021-06-26T17:54:42.488Z"
   },
   {
    "duration": 3,
    "start_time": "2021-06-26T17:54:56.291Z"
   },
   {
    "duration": 6,
    "start_time": "2021-06-26T17:55:41.210Z"
   },
   {
    "duration": 7,
    "start_time": "2021-06-26T17:56:00.496Z"
   },
   {
    "duration": 8,
    "start_time": "2021-06-26T17:56:39.474Z"
   },
   {
    "duration": 8,
    "start_time": "2021-06-26T17:56:53.918Z"
   },
   {
    "duration": 8,
    "start_time": "2021-06-26T17:57:21.122Z"
   },
   {
    "duration": 7,
    "start_time": "2021-06-26T17:57:37.239Z"
   },
   {
    "duration": 84,
    "start_time": "2021-06-26T17:58:32.515Z"
   },
   {
    "duration": 20,
    "start_time": "2021-06-26T17:58:43.706Z"
   },
   {
    "duration": 3,
    "start_time": "2021-06-26T17:59:14.729Z"
   },
   {
    "duration": 13,
    "start_time": "2021-06-26T17:59:29.890Z"
   },
   {
    "duration": 13,
    "start_time": "2021-06-26T17:59:34.875Z"
   },
   {
    "duration": 21,
    "start_time": "2021-06-26T17:59:42.050Z"
   },
   {
    "duration": 12,
    "start_time": "2021-06-26T17:59:46.464Z"
   },
   {
    "duration": 4,
    "start_time": "2021-06-26T18:00:08.294Z"
   },
   {
    "duration": 11,
    "start_time": "2021-06-26T18:00:38.003Z"
   },
   {
    "duration": 6,
    "start_time": "2021-06-26T18:00:53.463Z"
   },
   {
    "duration": 11,
    "start_time": "2021-06-26T18:01:14.644Z"
   },
   {
    "duration": 4,
    "start_time": "2021-06-26T18:02:24.610Z"
   },
   {
    "duration": 14,
    "start_time": "2021-06-26T18:02:25.586Z"
   },
   {
    "duration": 524,
    "start_time": "2021-06-26T18:02:26.000Z"
   },
   {
    "duration": 6,
    "start_time": "2021-06-26T18:04:09.172Z"
   },
   {
    "duration": 438,
    "start_time": "2021-06-26T18:04:10.137Z"
   },
   {
    "duration": 2549,
    "start_time": "2021-06-26T18:04:45.287Z"
   },
   {
    "duration": 8,
    "start_time": "2021-06-26T18:04:48.224Z"
   },
   {
    "duration": 6,
    "start_time": "2021-06-26T18:04:49.772Z"
   },
   {
    "duration": 3,
    "start_time": "2021-06-26T18:04:50.473Z"
   },
   {
    "duration": 141,
    "start_time": "2021-06-26T18:05:14.902Z"
   },
   {
    "duration": 7,
    "start_time": "2021-06-26T18:05:24.337Z"
   },
   {
    "duration": 6,
    "start_time": "2021-06-26T18:05:29.480Z"
   },
   {
    "duration": 7,
    "start_time": "2021-06-26T18:06:17.197Z"
   },
   {
    "duration": 3,
    "start_time": "2021-06-26T18:06:22.058Z"
   },
   {
    "duration": 7,
    "start_time": "2021-06-26T18:06:25.867Z"
   },
   {
    "duration": 3,
    "start_time": "2021-06-26T18:06:28.537Z"
   },
   {
    "duration": 4,
    "start_time": "2021-06-26T18:06:53.074Z"
   },
   {
    "duration": 18,
    "start_time": "2021-06-26T18:07:07.270Z"
   },
   {
    "duration": 6270,
    "start_time": "2021-06-26T18:07:12.474Z"
   },
   {
    "duration": 6,
    "start_time": "2021-06-26T18:07:45.784Z"
   },
   {
    "duration": 31908,
    "start_time": "2021-06-26T18:07:58.059Z"
   },
   {
    "duration": 3,
    "start_time": "2021-06-26T18:08:29.970Z"
   },
   {
    "duration": 9,
    "start_time": "2021-06-26T18:09:09.715Z"
   },
   {
    "duration": 7,
    "start_time": "2021-06-26T18:09:51.667Z"
   },
   {
    "duration": 3,
    "start_time": "2021-06-26T18:09:58.122Z"
   },
   {
    "duration": 344,
    "start_time": "2021-06-26T18:10:31.606Z"
   },
   {
    "duration": 3,
    "start_time": "2021-06-26T18:10:40.259Z"
   },
   {
    "duration": 7,
    "start_time": "2021-06-26T18:10:57.020Z"
   },
   {
    "duration": 3,
    "start_time": "2021-06-26T18:11:03.741Z"
   },
   {
    "duration": 357,
    "start_time": "2021-06-26T18:11:27.113Z"
   },
   {
    "duration": 3,
    "start_time": "2021-06-26T18:11:35.395Z"
   },
   {
    "duration": 3,
    "start_time": "2021-06-26T18:11:39.827Z"
   },
   {
    "duration": 5,
    "start_time": "2021-06-26T18:12:09.292Z"
   },
   {
    "duration": 5,
    "start_time": "2021-06-26T18:12:14.599Z"
   },
   {
    "duration": 3,
    "start_time": "2021-06-26T18:12:19.948Z"
   },
   {
    "duration": 4,
    "start_time": "2021-06-26T18:12:44.475Z"
   },
   {
    "duration": 4,
    "start_time": "2021-06-26T18:13:00.723Z"
   },
   {
    "duration": 21,
    "start_time": "2021-06-26T18:13:31.134Z"
   },
   {
    "duration": 16,
    "start_time": "2021-06-26T18:13:36.057Z"
   },
   {
    "duration": 14,
    "start_time": "2021-06-26T18:13:53.114Z"
   },
   {
    "duration": 14,
    "start_time": "2021-06-26T18:13:58.559Z"
   },
   {
    "duration": 2050,
    "start_time": "2021-06-26T18:14:35.892Z"
   },
   {
    "duration": 6,
    "start_time": "2021-06-26T18:14:55.332Z"
   },
   {
    "duration": 4,
    "start_time": "2021-06-26T18:15:01.293Z"
   },
   {
    "duration": 211,
    "start_time": "2021-06-26T18:15:31.773Z"
   },
   {
    "duration": 7,
    "start_time": "2021-06-26T18:15:38.885Z"
   },
   {
    "duration": 3,
    "start_time": "2021-06-26T18:15:52.492Z"
   },
   {
    "duration": 290,
    "start_time": "2021-06-26T18:16:04.210Z"
   },
   {
    "duration": 4,
    "start_time": "2021-06-26T18:16:12.129Z"
   },
   {
    "duration": 5,
    "start_time": "2021-06-26T18:16:31.446Z"
   },
   {
    "duration": 6,
    "start_time": "2021-06-26T18:16:36.733Z"
   },
   {
    "duration": 3,
    "start_time": "2021-06-26T18:16:41.755Z"
   },
   {
    "duration": 4,
    "start_time": "2021-06-26T18:17:07.511Z"
   },
   {
    "duration": 14,
    "start_time": "2021-06-26T18:17:20.181Z"
   },
   {
    "duration": 7,
    "start_time": "2021-06-26T18:17:24.632Z"
   },
   {
    "duration": 5,
    "start_time": "2021-06-26T18:17:29.405Z"
   },
   {
    "duration": 3,
    "start_time": "2021-06-26T18:17:36.021Z"
   },
   {
    "duration": 19,
    "start_time": "2021-06-26T18:17:40.350Z"
   },
   {
    "duration": 3,
    "start_time": "2021-06-26T18:18:23.975Z"
   },
   {
    "duration": 3,
    "start_time": "2021-06-26T18:18:47.901Z"
   },
   {
    "duration": 16,
    "start_time": "2021-06-26T18:19:02.638Z"
   },
   {
    "duration": 3,
    "start_time": "2021-06-26T18:19:21.350Z"
   },
   {
    "duration": 4,
    "start_time": "2021-06-26T18:19:40.534Z"
   },
   {
    "duration": 89,
    "start_time": "2021-06-26T18:19:46.151Z"
   },
   {
    "duration": 711,
    "start_time": "2021-06-26T18:19:59.190Z"
   },
   {
    "duration": 11,
    "start_time": "2021-06-26T18:20:14.564Z"
   },
   {
    "duration": 3,
    "start_time": "2021-06-26T18:20:19.237Z"
   },
   {
    "duration": 105,
    "start_time": "2021-06-26T18:20:26.065Z"
   },
   {
    "duration": 4,
    "start_time": "2021-06-26T18:20:41.309Z"
   },
   {
    "duration": 78,
    "start_time": "2021-06-26T18:21:02.602Z"
   },
   {
    "duration": 4,
    "start_time": "2021-06-26T18:21:27.478Z"
   },
   {
    "duration": 13,
    "start_time": "2021-06-26T18:22:19.383Z"
   },
   {
    "duration": 12,
    "start_time": "2021-06-26T18:22:24.464Z"
   },
   {
    "duration": 11,
    "start_time": "2021-06-26T18:22:29.183Z"
   },
   {
    "duration": 57,
    "start_time": "2021-06-26T18:22:52.806Z"
   },
   {
    "duration": 3,
    "start_time": "2021-06-26T18:22:59.550Z"
   },
   {
    "duration": 3,
    "start_time": "2021-06-26T18:23:11.798Z"
   },
   {
    "duration": 3,
    "start_time": "2021-06-26T18:23:25.430Z"
   },
   {
    "duration": 12,
    "start_time": "2021-06-26T18:23:37.886Z"
   },
   {
    "duration": 9,
    "start_time": "2021-06-26T18:23:42.966Z"
   },
   {
    "duration": 5,
    "start_time": "2021-06-26T18:24:22.295Z"
   },
   {
    "duration": 3,
    "start_time": "2021-06-26T18:24:27.822Z"
   },
   {
    "duration": 3,
    "start_time": "2021-06-26T18:24:40.175Z"
   },
   {
    "duration": 11,
    "start_time": "2021-06-26T18:24:45.471Z"
   },
   {
    "duration": 127,
    "start_time": "2021-06-26T18:25:08.911Z"
   },
   {
    "duration": 635,
    "start_time": "2021-06-26T18:25:33.052Z"
   },
   {
    "duration": 606,
    "start_time": "2021-06-26T18:25:58.768Z"
   },
   {
    "duration": 14,
    "start_time": "2021-06-26T18:26:12.936Z"
   },
   {
    "duration": 211,
    "start_time": "2021-06-26T18:26:18.503Z"
   },
   {
    "duration": 17,
    "start_time": "2021-06-26T18:26:33.248Z"
   },
   {
    "duration": 631,
    "start_time": "2021-06-26T18:26:56.472Z"
   },
   {
    "duration": 208,
    "start_time": "2021-06-26T18:27:12.895Z"
   },
   {
    "duration": 569,
    "start_time": "2021-06-26T18:27:44.108Z"
   },
   {
    "duration": 575,
    "start_time": "2021-06-26T18:28:00.192Z"
   },
   {
    "duration": 12,
    "start_time": "2021-06-26T18:28:13.808Z"
   },
   {
    "duration": 283,
    "start_time": "2021-06-26T18:28:18.912Z"
   },
   {
    "duration": 18,
    "start_time": "2021-06-26T18:28:41.873Z"
   },
   {
    "duration": 594,
    "start_time": "2021-06-26T18:29:04.000Z"
   },
   {
    "duration": 186,
    "start_time": "2021-06-26T18:29:09.819Z"
   },
   {
    "duration": 596,
    "start_time": "2021-06-26T18:29:32.521Z"
   },
   {
    "duration": 585,
    "start_time": "2021-06-26T18:29:47.636Z"
   },
   {
    "duration": 13,
    "start_time": "2021-06-26T18:30:03.193Z"
   },
   {
    "duration": 196,
    "start_time": "2021-06-26T18:30:08.034Z"
   },
   {
    "duration": 20,
    "start_time": "2021-06-26T18:30:34.812Z"
   },
   {
    "duration": 583,
    "start_time": "2021-06-26T18:30:54.221Z"
   },
   {
    "duration": 309,
    "start_time": "2021-06-26T18:31:07.552Z"
   },
   {
    "duration": 583,
    "start_time": "2021-06-26T18:31:31.236Z"
   },
   {
    "duration": 12,
    "start_time": "2021-06-26T18:31:55.851Z"
   },
   {
    "duration": 190,
    "start_time": "2021-06-26T18:32:12.790Z"
   },
   {
    "duration": 20,
    "start_time": "2021-06-26T18:32:35.234Z"
   },
   {
    "duration": 703,
    "start_time": "2021-06-26T18:33:10.009Z"
   },
   {
    "duration": 208,
    "start_time": "2021-06-26T18:33:26.795Z"
   },
   {
    "duration": 596,
    "start_time": "2021-06-26T18:33:58.448Z"
   },
   {
    "duration": 12,
    "start_time": "2021-06-26T18:34:24.035Z"
   },
   {
    "duration": 195,
    "start_time": "2021-06-26T18:36:09.880Z"
   },
   {
    "duration": 3,
    "start_time": "2021-06-26T18:36:26.086Z"
   },
   {
    "duration": 21,
    "start_time": "2021-06-26T18:36:37.779Z"
   },
   {
    "duration": 716,
    "start_time": "2021-06-26T18:37:04.777Z"
   },
   {
    "duration": 198,
    "start_time": "2021-06-26T18:37:15.428Z"
   },
   {
    "duration": 581,
    "start_time": "2021-06-26T18:38:06.693Z"
   },
   {
    "duration": 126,
    "start_time": "2021-06-26T18:38:18.885Z"
   },
   {
    "duration": 200,
    "start_time": "2021-06-26T18:38:26.166Z"
   },
   {
    "duration": 7,
    "start_time": "2021-06-26T18:38:32.908Z"
   },
   {
    "duration": 9,
    "start_time": "2021-06-26T18:39:02.808Z"
   },
   {
    "duration": 9,
    "start_time": "2021-06-26T18:39:37.366Z"
   },
   {
    "duration": 12,
    "start_time": "2021-06-26T18:39:41.741Z"
   },
   {
    "duration": 6,
    "start_time": "2021-06-26T18:39:46.308Z"
   },
   {
    "duration": 3,
    "start_time": "2021-06-26T18:40:22.132Z"
   },
   {
    "duration": 3,
    "start_time": "2021-06-26T18:40:22.569Z"
   },
   {
    "duration": 3,
    "start_time": "2021-06-26T18:40:22.923Z"
   },
   {
    "duration": 2,
    "start_time": "2021-06-26T18:40:23.236Z"
   },
   {
    "duration": 4,
    "start_time": "2021-06-26T18:40:23.773Z"
   },
   {
    "duration": 3,
    "start_time": "2021-06-26T18:41:04.142Z"
   },
   {
    "duration": 8,
    "start_time": "2021-06-26T18:41:04.600Z"
   },
   {
    "duration": 6,
    "start_time": "2021-06-26T18:41:11.916Z"
   },
   {
    "duration": 40,
    "start_time": "2021-06-26T18:41:44.177Z"
   },
   {
    "duration": 336,
    "start_time": "2021-06-26T18:42:00.204Z"
   },
   {
    "duration": 15,
    "start_time": "2021-06-26T18:44:16.831Z"
   },
   {
    "duration": 13,
    "start_time": "2021-06-26T18:44:20.698Z"
   },
   {
    "duration": 554,
    "start_time": "2021-06-26T18:44:34.318Z"
   },
   {
    "duration": 562,
    "start_time": "2021-06-26T18:44:41.517Z"
   },
   {
    "duration": 11,
    "start_time": "2021-06-26T18:45:11.439Z"
   },
   {
    "duration": 550,
    "start_time": "2021-06-26T18:45:55.888Z"
   },
   {
    "duration": 580,
    "start_time": "2021-06-26T18:46:11.526Z"
   },
   {
    "duration": 592,
    "start_time": "2021-06-26T18:46:29.838Z"
   },
   {
    "duration": 568,
    "start_time": "2021-06-26T18:46:44.662Z"
   },
   {
    "duration": 667,
    "start_time": "2021-06-26T18:46:48.845Z"
   },
   {
    "duration": 580,
    "start_time": "2021-06-26T18:46:54.061Z"
   },
   {
    "duration": 8,
    "start_time": "2021-06-26T18:47:20.592Z"
   },
   {
    "duration": 562,
    "start_time": "2021-06-26T18:47:56.053Z"
   },
   {
    "duration": 558,
    "start_time": "2021-06-26T18:48:03.999Z"
   },
   {
    "duration": 534,
    "start_time": "2021-06-26T18:48:10.266Z"
   },
   {
    "duration": 522,
    "start_time": "2021-06-26T18:48:15.898Z"
   },
   {
    "duration": 7,
    "start_time": "2021-06-26T18:48:29.636Z"
   },
   {
    "duration": 327,
    "start_time": "2021-06-26T18:49:04.453Z"
   },
   {
    "duration": 508,
    "start_time": "2021-06-26T18:49:18.163Z"
   },
   {
    "duration": 287,
    "start_time": "2021-06-26T18:49:24.152Z"
   },
   {
    "duration": 283,
    "start_time": "2021-06-26T18:49:41.806Z"
   },
   {
    "duration": 564,
    "start_time": "2021-06-26T18:49:53.913Z"
   },
   {
    "duration": 300,
    "start_time": "2021-06-26T18:49:58.302Z"
   },
   {
    "duration": 373,
    "start_time": "2021-06-26T18:50:33.423Z"
   },
   {
    "duration": 543,
    "start_time": "2021-06-26T18:51:07.549Z"
   },
   {
    "duration": 547,
    "start_time": "2021-06-26T18:51:14.079Z"
   },
   {
    "duration": 4,
    "start_time": "2021-06-26T18:51:50.809Z"
   },
   {
    "duration": 3,
    "start_time": "2021-06-26T18:51:51.204Z"
   },
   {
    "duration": 4,
    "start_time": "2021-06-26T18:51:51.566Z"
   },
   {
    "duration": 533,
    "start_time": "2021-06-26T18:55:05.096Z"
   },
   {
    "duration": 512,
    "start_time": "2021-06-26T18:55:15.084Z"
   },
   {
    "duration": 559,
    "start_time": "2021-06-26T18:56:05.426Z"
   },
   {
    "duration": 274,
    "start_time": "2021-06-26T18:57:13.331Z"
   },
   {
    "duration": 1637,
    "start_time": "2021-06-27T11:06:00.445Z"
   },
   {
    "duration": 273,
    "start_time": "2021-06-27T11:06:02.085Z"
   },
   {
    "duration": 48,
    "start_time": "2021-06-27T11:06:02.361Z"
   },
   {
    "duration": 25,
    "start_time": "2021-06-27T11:06:02.412Z"
   },
   {
    "duration": 84,
    "start_time": "2021-06-27T11:06:02.440Z"
   },
   {
    "duration": 3,
    "start_time": "2021-06-27T11:06:02.526Z"
   },
   {
    "duration": 7,
    "start_time": "2021-06-27T11:06:02.531Z"
   },
   {
    "duration": 5,
    "start_time": "2021-06-27T11:06:02.542Z"
   },
   {
    "duration": 12,
    "start_time": "2021-06-27T11:06:02.549Z"
   },
   {
    "duration": 42,
    "start_time": "2021-06-27T11:06:02.563Z"
   },
   {
    "duration": 7,
    "start_time": "2021-06-27T11:06:02.608Z"
   },
   {
    "duration": 11,
    "start_time": "2021-06-27T11:06:02.618Z"
   },
   {
    "duration": 9,
    "start_time": "2021-06-27T11:06:02.631Z"
   },
   {
    "duration": 10,
    "start_time": "2021-06-27T11:06:02.643Z"
   },
   {
    "duration": 53,
    "start_time": "2021-06-27T11:06:02.655Z"
   },
   {
    "duration": 7,
    "start_time": "2021-06-27T11:06:02.710Z"
   },
   {
    "duration": 17,
    "start_time": "2021-06-27T11:06:02.719Z"
   },
   {
    "duration": 15,
    "start_time": "2021-06-27T11:06:02.738Z"
   },
   {
    "duration": 22,
    "start_time": "2021-06-27T11:06:02.755Z"
   },
   {
    "duration": 27,
    "start_time": "2021-06-27T11:06:02.780Z"
   },
   {
    "duration": 6,
    "start_time": "2021-06-27T11:06:02.809Z"
   },
   {
    "duration": 11,
    "start_time": "2021-06-27T11:06:02.817Z"
   },
   {
    "duration": 4,
    "start_time": "2021-06-27T11:06:02.834Z"
   },
   {
    "duration": 12,
    "start_time": "2021-06-27T11:06:02.841Z"
   },
   {
    "duration": 46,
    "start_time": "2021-06-27T11:06:02.855Z"
   },
   {
    "duration": 4,
    "start_time": "2021-06-27T11:06:02.903Z"
   },
   {
    "duration": 31,
    "start_time": "2021-06-27T11:06:02.910Z"
   },
   {
    "duration": 557,
    "start_time": "2021-06-27T11:06:02.944Z"
   },
   {
    "duration": 5,
    "start_time": "2021-06-27T11:06:03.504Z"
   },
   {
    "duration": 2447,
    "start_time": "2021-06-27T11:06:03.512Z"
   },
   {
    "duration": 7,
    "start_time": "2021-06-27T11:06:05.962Z"
   },
   {
    "duration": 31,
    "start_time": "2021-06-27T11:06:05.971Z"
   },
   {
    "duration": 3,
    "start_time": "2021-06-27T11:06:06.005Z"
   },
   {
    "duration": 148,
    "start_time": "2021-06-27T11:06:06.011Z"
   },
   {
    "duration": 7,
    "start_time": "2021-06-27T11:06:06.162Z"
   },
   {
    "duration": 29,
    "start_time": "2021-06-27T11:06:06.171Z"
   },
   {
    "duration": 7,
    "start_time": "2021-06-27T11:06:06.203Z"
   },
   {
    "duration": 5,
    "start_time": "2021-06-27T11:06:06.212Z"
   },
   {
    "duration": 9,
    "start_time": "2021-06-27T11:06:06.219Z"
   },
   {
    "duration": 20,
    "start_time": "2021-06-27T11:06:06.230Z"
   },
   {
    "duration": 6241,
    "start_time": "2021-06-27T11:06:06.253Z"
   },
   {
    "duration": 8,
    "start_time": "2021-06-27T11:06:12.496Z"
   },
   {
    "duration": 29602,
    "start_time": "2021-06-27T11:06:12.506Z"
   },
   {
    "duration": 3,
    "start_time": "2021-06-27T11:06:42.110Z"
   },
   {
    "duration": 18,
    "start_time": "2021-06-27T11:06:42.116Z"
   },
   {
    "duration": 12,
    "start_time": "2021-06-27T11:06:42.136Z"
   },
   {
    "duration": 377,
    "start_time": "2021-06-27T11:06:42.151Z"
   },
   {
    "duration": 2,
    "start_time": "2021-06-27T11:06:42.531Z"
   },
   {
    "duration": 10,
    "start_time": "2021-06-27T11:06:42.535Z"
   },
   {
    "duration": 4,
    "start_time": "2021-06-27T11:06:42.547Z"
   },
   {
    "duration": 331,
    "start_time": "2021-06-27T11:06:42.553Z"
   },
   {
    "duration": 2,
    "start_time": "2021-06-27T11:06:42.887Z"
   },
   {
    "duration": 3,
    "start_time": "2021-06-27T11:06:42.900Z"
   },
   {
    "duration": 5,
    "start_time": "2021-06-27T11:06:42.906Z"
   },
   {
    "duration": 13,
    "start_time": "2021-06-27T11:06:42.914Z"
   },
   {
    "duration": 3,
    "start_time": "2021-06-27T11:06:42.929Z"
   },
   {
    "duration": 13,
    "start_time": "2021-06-27T11:06:42.934Z"
   },
   {
    "duration": 6,
    "start_time": "2021-06-27T11:06:42.950Z"
   },
   {
    "duration": 41,
    "start_time": "2021-06-27T11:06:42.959Z"
   },
   {
    "duration": 14,
    "start_time": "2021-06-27T11:06:43.003Z"
   },
   {
    "duration": 11,
    "start_time": "2021-06-27T11:06:43.019Z"
   },
   {
    "duration": 14,
    "start_time": "2021-06-27T11:06:43.032Z"
   },
   {
    "duration": 1852,
    "start_time": "2021-06-27T11:06:43.048Z"
   },
   {
    "duration": 6,
    "start_time": "2021-06-27T11:06:44.903Z"
   },
   {
    "duration": 13,
    "start_time": "2021-06-27T11:06:44.912Z"
   },
   {
    "duration": 229,
    "start_time": "2021-06-27T11:06:44.927Z"
   },
   {
    "duration": 7,
    "start_time": "2021-06-27T11:06:45.158Z"
   },
   {
    "duration": 3,
    "start_time": "2021-06-27T11:06:45.177Z"
   },
   {
    "duration": 284,
    "start_time": "2021-06-27T11:06:45.202Z"
   },
   {
    "duration": 3,
    "start_time": "2021-06-27T11:06:45.488Z"
   },
   {
    "duration": 5,
    "start_time": "2021-06-27T11:06:45.500Z"
   },
   {
    "duration": 11,
    "start_time": "2021-06-27T11:06:45.507Z"
   },
   {
    "duration": 4,
    "start_time": "2021-06-27T11:06:45.520Z"
   },
   {
    "duration": 9,
    "start_time": "2021-06-27T11:06:45.526Z"
   },
   {
    "duration": 16,
    "start_time": "2021-06-27T11:06:45.537Z"
   },
   {
    "duration": 7,
    "start_time": "2021-06-27T11:06:45.556Z"
   },
   {
    "duration": 37,
    "start_time": "2021-06-27T11:06:45.566Z"
   },
   {
    "duration": 5,
    "start_time": "2021-06-27T11:06:45.605Z"
   },
   {
    "duration": 19,
    "start_time": "2021-06-27T11:06:45.612Z"
   },
   {
    "duration": 2,
    "start_time": "2021-06-27T11:06:45.634Z"
   },
   {
    "duration": 6,
    "start_time": "2021-06-27T11:06:45.638Z"
   },
   {
    "duration": 19,
    "start_time": "2021-06-27T11:06:45.647Z"
   },
   {
    "duration": 3,
    "start_time": "2021-06-27T11:06:45.700Z"
   },
   {
    "duration": 7,
    "start_time": "2021-06-27T11:06:45.706Z"
   },
   {
    "duration": 766,
    "start_time": "2021-06-27T11:06:45.716Z"
   },
   {
    "duration": 16,
    "start_time": "2021-06-27T11:06:46.484Z"
   },
   {
    "duration": 3,
    "start_time": "2021-06-27T11:06:46.502Z"
   },
   {
    "duration": 5,
    "start_time": "2021-06-27T11:06:46.508Z"
   },
   {
    "duration": 98,
    "start_time": "2021-06-27T11:06:46.515Z"
   },
   {
    "duration": 3,
    "start_time": "2021-06-27T11:06:46.616Z"
   },
   {
    "duration": 22,
    "start_time": "2021-06-27T11:06:46.621Z"
   },
   {
    "duration": 11,
    "start_time": "2021-06-27T11:06:46.645Z"
   },
   {
    "duration": 11,
    "start_time": "2021-06-27T11:06:46.659Z"
   },
   {
    "duration": 36,
    "start_time": "2021-06-27T11:06:46.672Z"
   },
   {
    "duration": 3,
    "start_time": "2021-06-27T11:06:46.710Z"
   },
   {
    "duration": 8,
    "start_time": "2021-06-27T11:06:46.716Z"
   },
   {
    "duration": 9,
    "start_time": "2021-06-27T11:06:46.726Z"
   },
   {
    "duration": 16,
    "start_time": "2021-06-27T11:06:46.738Z"
   },
   {
    "duration": 9,
    "start_time": "2021-06-27T11:06:46.756Z"
   },
   {
    "duration": 33,
    "start_time": "2021-06-27T11:06:46.767Z"
   },
   {
    "duration": 3,
    "start_time": "2021-06-27T11:06:46.803Z"
   },
   {
    "duration": 9,
    "start_time": "2021-06-27T11:06:46.808Z"
   },
   {
    "duration": 16,
    "start_time": "2021-06-27T11:06:46.819Z"
   },
   {
    "duration": 145,
    "start_time": "2021-06-27T11:06:46.837Z"
   },
   {
    "duration": 431,
    "start_time": "2021-06-27T11:06:46.984Z"
   },
   {
    "duration": 439,
    "start_time": "2021-06-27T11:06:47.417Z"
   },
   {
    "duration": 13,
    "start_time": "2021-06-27T11:06:47.858Z"
   },
   {
    "duration": 168,
    "start_time": "2021-06-27T11:06:47.873Z"
   },
   {
    "duration": 17,
    "start_time": "2021-06-27T11:06:48.043Z"
   },
   {
    "duration": 526,
    "start_time": "2021-06-27T11:06:48.062Z"
   },
   {
    "duration": 163,
    "start_time": "2021-06-27T11:06:48.591Z"
   },
   {
    "duration": 423,
    "start_time": "2021-06-27T11:06:48.757Z"
   },
   {
    "duration": 421,
    "start_time": "2021-06-27T11:06:49.183Z"
   },
   {
    "duration": 12,
    "start_time": "2021-06-27T11:06:49.606Z"
   },
   {
    "duration": 160,
    "start_time": "2021-06-27T11:06:49.621Z"
   },
   {
    "duration": 30,
    "start_time": "2021-06-27T11:06:49.784Z"
   },
   {
    "duration": 401,
    "start_time": "2021-06-27T11:06:49.817Z"
   },
   {
    "duration": 153,
    "start_time": "2021-06-27T11:06:50.221Z"
   },
   {
    "duration": 532,
    "start_time": "2021-06-27T11:06:50.376Z"
   },
   {
    "duration": 455,
    "start_time": "2021-06-27T11:06:50.911Z"
   },
   {
    "duration": 14,
    "start_time": "2021-06-27T11:06:51.368Z"
   },
   {
    "duration": 157,
    "start_time": "2021-06-27T11:06:51.400Z"
   },
   {
    "duration": 19,
    "start_time": "2021-06-27T11:06:51.560Z"
   },
   {
    "duration": 438,
    "start_time": "2021-06-27T11:06:51.581Z"
   },
   {
    "duration": 154,
    "start_time": "2021-06-27T11:06:52.021Z"
   },
   {
    "duration": 424,
    "start_time": "2021-06-27T11:06:52.177Z"
   },
   {
    "duration": 13,
    "start_time": "2021-06-27T11:06:52.603Z"
   },
   {
    "duration": 155,
    "start_time": "2021-06-27T11:06:52.618Z"
   },
   {
    "duration": 33,
    "start_time": "2021-06-27T11:06:52.776Z"
   },
   {
    "duration": 515,
    "start_time": "2021-06-27T11:06:52.812Z"
   },
   {
    "duration": 161,
    "start_time": "2021-06-27T11:06:53.329Z"
   },
   {
    "duration": 441,
    "start_time": "2021-06-27T11:06:53.493Z"
   },
   {
    "duration": 11,
    "start_time": "2021-06-27T11:06:53.936Z"
   },
   {
    "duration": 165,
    "start_time": "2021-06-27T11:06:53.949Z"
   },
   {
    "duration": 3,
    "start_time": "2021-06-27T11:06:54.116Z"
   },
   {
    "duration": 34,
    "start_time": "2021-06-27T11:06:54.121Z"
   },
   {
    "duration": 430,
    "start_time": "2021-06-27T11:06:54.157Z"
   },
   {
    "duration": 156,
    "start_time": "2021-06-27T11:06:54.590Z"
   },
   {
    "duration": 415,
    "start_time": "2021-06-27T11:06:54.749Z"
   },
   {
    "duration": 214,
    "start_time": "2021-06-27T11:06:55.166Z"
   },
   {
    "duration": 154,
    "start_time": "2021-06-27T11:06:55.382Z"
   },
   {
    "duration": 9,
    "start_time": "2021-06-27T11:06:55.539Z"
   },
   {
    "duration": 20,
    "start_time": "2021-06-27T11:06:55.551Z"
   },
   {
    "duration": 31,
    "start_time": "2021-06-27T11:06:55.573Z"
   },
   {
    "duration": 20,
    "start_time": "2021-06-27T11:06:55.606Z"
   },
   {
    "duration": 24,
    "start_time": "2021-06-27T11:06:55.628Z"
   },
   {
    "duration": 12,
    "start_time": "2021-06-27T11:06:55.655Z"
   },
   {
    "duration": 23,
    "start_time": "2021-06-27T11:06:55.669Z"
   },
   {
    "duration": 12,
    "start_time": "2021-06-27T11:06:55.694Z"
   },
   {
    "duration": 34,
    "start_time": "2021-06-27T11:06:55.709Z"
   },
   {
    "duration": 18,
    "start_time": "2021-06-27T11:06:55.746Z"
   },
   {
    "duration": 24,
    "start_time": "2021-06-27T11:06:55.766Z"
   },
   {
    "duration": 28,
    "start_time": "2021-06-27T11:06:55.793Z"
   },
   {
    "duration": 8,
    "start_time": "2021-06-27T11:06:55.824Z"
   },
   {
    "duration": 51,
    "start_time": "2021-06-27T11:06:55.835Z"
   },
   {
    "duration": 220,
    "start_time": "2021-06-27T11:06:55.888Z"
   },
   {
    "duration": 12,
    "start_time": "2021-06-27T11:06:56.111Z"
   },
   {
    "duration": 17,
    "start_time": "2021-06-27T11:06:56.125Z"
   },
   {
    "duration": 258,
    "start_time": "2021-06-27T11:06:56.145Z"
   },
   {
    "duration": 231,
    "start_time": "2021-06-27T11:06:56.406Z"
   },
   {
    "duration": 7,
    "start_time": "2021-06-27T11:06:56.640Z"
   },
   {
    "duration": 246,
    "start_time": "2021-06-27T11:06:56.649Z"
   },
   {
    "duration": 232,
    "start_time": "2021-06-27T11:06:56.900Z"
   },
   {
    "duration": 9,
    "start_time": "2021-06-27T11:06:57.134Z"
   },
   {
    "duration": 264,
    "start_time": "2021-06-27T11:06:57.146Z"
   },
   {
    "duration": 233,
    "start_time": "2021-06-27T11:06:57.413Z"
   },
   {
    "duration": 8,
    "start_time": "2021-06-27T11:06:57.648Z"
   },
   {
    "duration": 229,
    "start_time": "2021-06-27T11:06:57.658Z"
   },
   {
    "duration": 211,
    "start_time": "2021-06-27T11:06:57.889Z"
   },
   {
    "duration": 513,
    "start_time": "2021-06-27T11:06:58.103Z"
   },
   {
    "duration": 431,
    "start_time": "2021-06-27T11:06:58.619Z"
   },
   {
    "duration": 3,
    "start_time": "2021-06-27T11:06:59.052Z"
   },
   {
    "duration": 7,
    "start_time": "2021-06-27T11:06:59.057Z"
   },
   {
    "duration": 9,
    "start_time": "2021-06-27T11:06:59.066Z"
   },
   {
    "duration": 39,
    "start_time": "2021-06-27T11:26:17.763Z"
   },
   {
    "duration": 22,
    "start_time": "2021-06-27T11:26:44.594Z"
   },
   {
    "duration": 426,
    "start_time": "2021-06-27T11:27:39.323Z"
   },
   {
    "duration": 24,
    "start_time": "2021-06-27T11:27:43.691Z"
   },
   {
    "duration": 297,
    "start_time": "2021-06-27T11:31:02.598Z"
   },
   {
    "duration": 64,
    "start_time": "2021-06-27T11:32:31.310Z"
   },
   {
    "duration": 42,
    "start_time": "2021-06-27T11:32:37.980Z"
   },
   {
    "duration": 220,
    "start_time": "2021-06-27T11:40:48.563Z"
   },
   {
    "duration": 215,
    "start_time": "2021-06-27T11:40:55.620Z"
   },
   {
    "duration": 219,
    "start_time": "2021-06-27T11:42:14.131Z"
   },
   {
    "duration": 207,
    "start_time": "2021-06-27T11:42:18.148Z"
   },
   {
    "duration": 216,
    "start_time": "2021-06-27T11:42:26.744Z"
   },
   {
    "duration": 202,
    "start_time": "2021-06-27T11:42:30.354Z"
   },
   {
    "duration": 233,
    "start_time": "2021-06-27T11:42:35.395Z"
   },
   {
    "duration": 219,
    "start_time": "2021-06-27T11:42:39.475Z"
   },
   {
    "duration": 309,
    "start_time": "2021-06-27T11:42:43.142Z"
   },
   {
    "duration": 441,
    "start_time": "2021-06-27T11:42:48.527Z"
   },
   {
    "duration": 210,
    "start_time": "2021-06-27T11:42:55.003Z"
   },
   {
    "duration": 205,
    "start_time": "2021-06-27T11:43:25.554Z"
   },
   {
    "duration": 202,
    "start_time": "2021-06-27T11:43:28.812Z"
   },
   {
    "duration": 210,
    "start_time": "2021-06-27T11:43:33.636Z"
   },
   {
    "duration": 198,
    "start_time": "2021-06-27T11:45:09.113Z"
   },
   {
    "duration": 205,
    "start_time": "2021-06-27T11:45:20.300Z"
   },
   {
    "duration": 233,
    "start_time": "2021-06-27T11:45:54.086Z"
   },
   {
    "duration": 240,
    "start_time": "2021-06-27T11:46:01.430Z"
   },
   {
    "duration": 6,
    "start_time": "2021-06-27T11:48:39.858Z"
   },
   {
    "duration": 13,
    "start_time": "2021-06-27T11:48:43.984Z"
   },
   {
    "duration": 353,
    "start_time": "2021-06-27T15:52:17.782Z"
   },
   {
    "duration": 1566,
    "start_time": "2021-06-27T15:52:22.320Z"
   },
   {
    "duration": 287,
    "start_time": "2021-06-27T15:52:23.901Z"
   },
   {
    "duration": 40,
    "start_time": "2021-06-27T15:52:24.191Z"
   },
   {
    "duration": 26,
    "start_time": "2021-06-27T15:52:24.233Z"
   },
   {
    "duration": 85,
    "start_time": "2021-06-27T15:52:24.262Z"
   },
   {
    "duration": 3,
    "start_time": "2021-06-27T15:52:24.349Z"
   },
   {
    "duration": 9,
    "start_time": "2021-06-27T15:52:24.354Z"
   },
   {
    "duration": 4,
    "start_time": "2021-06-27T15:52:24.367Z"
   },
   {
    "duration": 32,
    "start_time": "2021-06-27T15:52:24.374Z"
   },
   {
    "duration": 8,
    "start_time": "2021-06-27T15:52:24.409Z"
   },
   {
    "duration": 9,
    "start_time": "2021-06-27T15:52:24.419Z"
   },
   {
    "duration": 8,
    "start_time": "2021-06-27T15:52:24.430Z"
   },
   {
    "duration": 8,
    "start_time": "2021-06-27T15:52:24.441Z"
   },
   {
    "duration": 7,
    "start_time": "2021-06-27T15:52:24.500Z"
   },
   {
    "duration": 19,
    "start_time": "2021-06-27T15:52:24.513Z"
   },
   {
    "duration": 4,
    "start_time": "2021-06-27T15:52:24.535Z"
   },
   {
    "duration": 16,
    "start_time": "2021-06-27T15:52:24.541Z"
   },
   {
    "duration": 49,
    "start_time": "2021-06-27T15:52:24.559Z"
   },
   {
    "duration": 22,
    "start_time": "2021-06-27T15:52:24.611Z"
   },
   {
    "duration": 13,
    "start_time": "2021-06-27T15:52:24.636Z"
   },
   {
    "duration": 9,
    "start_time": "2021-06-27T15:52:24.652Z"
   },
   {
    "duration": 37,
    "start_time": "2021-06-27T15:52:24.663Z"
   },
   {
    "duration": 5,
    "start_time": "2021-06-27T15:52:24.708Z"
   },
   {
    "duration": 12,
    "start_time": "2021-06-27T15:52:24.719Z"
   },
   {
    "duration": 11,
    "start_time": "2021-06-27T15:52:24.734Z"
   },
   {
    "duration": 54,
    "start_time": "2021-06-27T15:52:24.747Z"
   },
   {
    "duration": 36,
    "start_time": "2021-06-27T15:52:24.803Z"
   },
   {
    "duration": 570,
    "start_time": "2021-06-27T15:52:24.841Z"
   },
   {
    "duration": 421,
    "start_time": "2021-06-27T15:52:25.413Z"
   },
   {
    "duration": 31765,
    "start_time": "2021-06-27T15:51:54.076Z"
   },
   {
    "duration": 31757,
    "start_time": "2021-06-27T15:51:54.086Z"
   },
   {
    "duration": 31749,
    "start_time": "2021-06-27T15:51:54.095Z"
   },
   {
    "duration": 31740,
    "start_time": "2021-06-27T15:51:54.105Z"
   },
   {
    "duration": 31734,
    "start_time": "2021-06-27T15:51:54.113Z"
   },
   {
    "duration": 31725,
    "start_time": "2021-06-27T15:51:54.123Z"
   },
   {
    "duration": 31719,
    "start_time": "2021-06-27T15:51:54.131Z"
   },
   {
    "duration": 31710,
    "start_time": "2021-06-27T15:51:54.141Z"
   },
   {
    "duration": 31657,
    "start_time": "2021-06-27T15:51:54.195Z"
   },
   {
    "duration": 31646,
    "start_time": "2021-06-27T15:51:54.207Z"
   },
   {
    "duration": 31637,
    "start_time": "2021-06-27T15:51:54.217Z"
   },
   {
    "duration": 31628,
    "start_time": "2021-06-27T15:51:54.228Z"
   },
   {
    "duration": 31618,
    "start_time": "2021-06-27T15:51:54.239Z"
   },
   {
    "duration": 31607,
    "start_time": "2021-06-27T15:51:54.251Z"
   },
   {
    "duration": 31597,
    "start_time": "2021-06-27T15:51:54.263Z"
   },
   {
    "duration": 31587,
    "start_time": "2021-06-27T15:51:54.274Z"
   },
   {
    "duration": 31578,
    "start_time": "2021-06-27T15:51:54.284Z"
   },
   {
    "duration": 31554,
    "start_time": "2021-06-27T15:51:54.309Z"
   },
   {
    "duration": 31545,
    "start_time": "2021-06-27T15:51:54.319Z"
   },
   {
    "duration": 31535,
    "start_time": "2021-06-27T15:51:54.331Z"
   },
   {
    "duration": 31527,
    "start_time": "2021-06-27T15:51:54.340Z"
   },
   {
    "duration": 31517,
    "start_time": "2021-06-27T15:51:54.351Z"
   },
   {
    "duration": 31509,
    "start_time": "2021-06-27T15:51:54.360Z"
   },
   {
    "duration": 31499,
    "start_time": "2021-06-27T15:51:54.371Z"
   },
   {
    "duration": 31490,
    "start_time": "2021-06-27T15:51:54.381Z"
   },
   {
    "duration": 31482,
    "start_time": "2021-06-27T15:51:54.391Z"
   },
   {
    "duration": 31473,
    "start_time": "2021-06-27T15:51:54.401Z"
   },
   {
    "duration": 31451,
    "start_time": "2021-06-27T15:51:54.424Z"
   },
   {
    "duration": 31468,
    "start_time": "2021-06-27T15:51:54.433Z"
   },
   {
    "duration": 31455,
    "start_time": "2021-06-27T15:51:54.447Z"
   },
   {
    "duration": 31446,
    "start_time": "2021-06-27T15:51:54.457Z"
   },
   {
    "duration": 31438,
    "start_time": "2021-06-27T15:51:54.467Z"
   },
   {
    "duration": 31430,
    "start_time": "2021-06-27T15:51:54.476Z"
   },
   {
    "duration": 31420,
    "start_time": "2021-06-27T15:51:54.487Z"
   },
   {
    "duration": 31413,
    "start_time": "2021-06-27T15:51:54.496Z"
   },
   {
    "duration": 31402,
    "start_time": "2021-06-27T15:51:54.508Z"
   },
   {
    "duration": 31381,
    "start_time": "2021-06-27T15:51:54.530Z"
   },
   {
    "duration": 31372,
    "start_time": "2021-06-27T15:51:54.540Z"
   },
   {
    "duration": 31364,
    "start_time": "2021-06-27T15:51:54.549Z"
   },
   {
    "duration": 31354,
    "start_time": "2021-06-27T15:51:54.561Z"
   },
   {
    "duration": 31340,
    "start_time": "2021-06-27T15:51:54.576Z"
   },
   {
    "duration": 31326,
    "start_time": "2021-06-27T15:51:54.591Z"
   },
   {
    "duration": 31313,
    "start_time": "2021-06-27T15:51:54.606Z"
   },
   {
    "duration": 31298,
    "start_time": "2021-06-27T15:51:54.622Z"
   },
   {
    "duration": 31269,
    "start_time": "2021-06-27T15:51:54.652Z"
   },
   {
    "duration": 31254,
    "start_time": "2021-06-27T15:51:54.669Z"
   },
   {
    "duration": 31240,
    "start_time": "2021-06-27T15:51:54.684Z"
   },
   {
    "duration": 31230,
    "start_time": "2021-06-27T15:51:54.695Z"
   },
   {
    "duration": 30591,
    "start_time": "2021-06-27T15:51:55.336Z"
   },
   {
    "duration": 30580,
    "start_time": "2021-06-27T15:51:55.348Z"
   },
   {
    "duration": 30569,
    "start_time": "2021-06-27T15:51:55.360Z"
   },
   {
    "duration": 30558,
    "start_time": "2021-06-27T15:51:55.373Z"
   },
   {
    "duration": 30548,
    "start_time": "2021-06-27T15:51:55.384Z"
   },
   {
    "duration": 30537,
    "start_time": "2021-06-27T15:51:55.396Z"
   },
   {
    "duration": 30529,
    "start_time": "2021-06-27T15:51:55.406Z"
   },
   {
    "duration": 30517,
    "start_time": "2021-06-27T15:51:55.419Z"
   },
   {
    "duration": 30509,
    "start_time": "2021-06-27T15:51:55.429Z"
   },
   {
    "duration": 30548,
    "start_time": "2021-06-27T15:51:55.458Z"
   },
   {
    "duration": 30539,
    "start_time": "2021-06-27T15:51:55.469Z"
   },
   {
    "duration": 30528,
    "start_time": "2021-06-27T15:51:55.481Z"
   },
   {
    "duration": 30518,
    "start_time": "2021-06-27T15:51:55.492Z"
   },
   {
    "duration": 30509,
    "start_time": "2021-06-27T15:51:55.503Z"
   },
   {
    "duration": 30498,
    "start_time": "2021-06-27T15:51:55.516Z"
   },
   {
    "duration": 30485,
    "start_time": "2021-06-27T15:51:55.531Z"
   },
   {
    "duration": 30319,
    "start_time": "2021-06-27T15:51:55.699Z"
   },
   {
    "duration": 30140,
    "start_time": "2021-06-27T15:51:55.880Z"
   },
   {
    "duration": 29283,
    "start_time": "2021-06-27T15:51:56.739Z"
   },
   {
    "duration": 29276,
    "start_time": "2021-06-27T15:51:56.748Z"
   },
   {
    "duration": 29269,
    "start_time": "2021-06-27T15:51:56.757Z"
   },
   {
    "duration": 29259,
    "start_time": "2021-06-27T15:51:56.768Z"
   },
   {
    "duration": 29251,
    "start_time": "2021-06-27T15:51:56.778Z"
   },
   {
    "duration": 29243,
    "start_time": "2021-06-27T15:51:56.789Z"
   },
   {
    "duration": 29235,
    "start_time": "2021-06-27T15:51:56.799Z"
   },
   {
    "duration": 29227,
    "start_time": "2021-06-27T15:51:56.809Z"
   },
   {
    "duration": 29218,
    "start_time": "2021-06-27T15:51:56.819Z"
   },
   {
    "duration": 29273,
    "start_time": "2021-06-27T15:51:56.830Z"
   },
   {
    "duration": 29259,
    "start_time": "2021-06-27T15:51:56.850Z"
   },
   {
    "duration": 29251,
    "start_time": "2021-06-27T15:51:56.861Z"
   },
   {
    "duration": 29243,
    "start_time": "2021-06-27T15:51:56.871Z"
   },
   {
    "duration": 29236,
    "start_time": "2021-06-27T15:51:56.881Z"
   },
   {
    "duration": 29229,
    "start_time": "2021-06-27T15:51:56.890Z"
   },
   {
    "duration": 29221,
    "start_time": "2021-06-27T15:51:56.900Z"
   },
   {
    "duration": 29213,
    "start_time": "2021-06-27T15:51:56.909Z"
   },
   {
    "duration": 29205,
    "start_time": "2021-06-27T15:51:56.918Z"
   },
   {
    "duration": 29198,
    "start_time": "2021-06-27T15:51:56.927Z"
   },
   {
    "duration": 29189,
    "start_time": "2021-06-27T15:51:56.937Z"
   },
   {
    "duration": 29181,
    "start_time": "2021-06-27T15:51:56.946Z"
   },
   {
    "duration": 29161,
    "start_time": "2021-06-27T15:51:56.968Z"
   },
   {
    "duration": 29150,
    "start_time": "2021-06-27T15:51:56.980Z"
   },
   {
    "duration": 29142,
    "start_time": "2021-06-27T15:51:56.990Z"
   },
   {
    "duration": 29133,
    "start_time": "2021-06-27T15:51:57.000Z"
   },
   {
    "duration": 29124,
    "start_time": "2021-06-27T15:51:57.010Z"
   },
   {
    "duration": 29116,
    "start_time": "2021-06-27T15:51:57.019Z"
   },
   {
    "duration": 29105,
    "start_time": "2021-06-27T15:51:57.032Z"
   },
   {
    "duration": 29095,
    "start_time": "2021-06-27T15:51:57.044Z"
   },
   {
    "duration": 29086,
    "start_time": "2021-06-27T15:51:57.054Z"
   },
   {
    "duration": 29078,
    "start_time": "2021-06-27T15:51:57.063Z"
   },
   {
    "duration": 29058,
    "start_time": "2021-06-27T15:51:57.084Z"
   },
   {
    "duration": 29050,
    "start_time": "2021-06-27T15:51:57.094Z"
   },
   {
    "duration": 29041,
    "start_time": "2021-06-27T15:51:57.104Z"
   },
   {
    "duration": 29033,
    "start_time": "2021-06-27T15:51:57.113Z"
   },
   {
    "duration": 29023,
    "start_time": "2021-06-27T15:51:57.124Z"
   },
   {
    "duration": 29068,
    "start_time": "2021-06-27T15:51:57.136Z"
   },
   {
    "duration": 29060,
    "start_time": "2021-06-27T15:51:57.146Z"
   },
   {
    "duration": 29053,
    "start_time": "2021-06-27T15:51:57.154Z"
   },
   {
    "duration": 29046,
    "start_time": "2021-06-27T15:51:57.163Z"
   },
   {
    "duration": 29038,
    "start_time": "2021-06-27T15:51:57.172Z"
   },
   {
    "duration": 29030,
    "start_time": "2021-06-27T15:51:57.182Z"
   },
   {
    "duration": 29010,
    "start_time": "2021-06-27T15:51:57.203Z"
   },
   {
    "duration": 29002,
    "start_time": "2021-06-27T15:51:57.212Z"
   },
   {
    "duration": 28995,
    "start_time": "2021-06-27T15:51:57.221Z"
   },
   {
    "duration": 28986,
    "start_time": "2021-06-27T15:51:57.231Z"
   },
   {
    "duration": 28977,
    "start_time": "2021-06-27T15:51:57.241Z"
   },
   {
    "duration": 28969,
    "start_time": "2021-06-27T15:51:57.251Z"
   },
   {
    "duration": 28961,
    "start_time": "2021-06-27T15:51:57.260Z"
   },
   {
    "duration": 28952,
    "start_time": "2021-06-27T15:51:57.271Z"
   },
   {
    "duration": 28945,
    "start_time": "2021-06-27T15:51:57.280Z"
   },
   {
    "duration": 28936,
    "start_time": "2021-06-27T15:51:57.291Z"
   },
   {
    "duration": 28929,
    "start_time": "2021-06-27T15:51:57.300Z"
   },
   {
    "duration": 28911,
    "start_time": "2021-06-27T15:51:57.321Z"
   },
   {
    "duration": 28904,
    "start_time": "2021-06-27T15:51:57.330Z"
   },
   {
    "duration": 28894,
    "start_time": "2021-06-27T15:51:57.341Z"
   },
   {
    "duration": 28886,
    "start_time": "2021-06-27T15:51:57.350Z"
   },
   {
    "duration": 28878,
    "start_time": "2021-06-27T15:51:57.360Z"
   },
   {
    "duration": 28934,
    "start_time": "2021-06-27T15:51:57.369Z"
   },
   {
    "duration": 28931,
    "start_time": "2021-06-27T15:51:57.378Z"
   },
   {
    "duration": 28924,
    "start_time": "2021-06-27T15:51:57.387Z"
   },
   {
    "duration": 28917,
    "start_time": "2021-06-27T15:51:57.396Z"
   },
   {
    "duration": 28911,
    "start_time": "2021-06-27T15:51:57.405Z"
   },
   {
    "duration": 28903,
    "start_time": "2021-06-27T15:51:57.415Z"
   },
   {
    "duration": 28885,
    "start_time": "2021-06-27T15:51:57.435Z"
   },
   {
    "duration": 28878,
    "start_time": "2021-06-27T15:51:57.445Z"
   },
   {
    "duration": 28871,
    "start_time": "2021-06-27T15:51:57.454Z"
   },
   {
    "duration": 28864,
    "start_time": "2021-06-27T15:51:57.463Z"
   },
   {
    "duration": 28857,
    "start_time": "2021-06-27T15:51:57.472Z"
   },
   {
    "duration": 28850,
    "start_time": "2021-06-27T15:51:57.481Z"
   },
   {
    "duration": 28843,
    "start_time": "2021-06-27T15:51:57.490Z"
   },
   {
    "duration": 28835,
    "start_time": "2021-06-27T15:51:57.500Z"
   },
   {
    "duration": 28891,
    "start_time": "2021-06-27T15:51:57.508Z"
   },
   {
    "duration": 28883,
    "start_time": "2021-06-27T15:51:57.519Z"
   },
   {
    "duration": 28876,
    "start_time": "2021-06-27T15:51:57.529Z"
   },
   {
    "duration": 28857,
    "start_time": "2021-06-27T15:51:57.550Z"
   },
   {
    "duration": 28850,
    "start_time": "2021-06-27T15:51:57.559Z"
   },
   {
    "duration": 28842,
    "start_time": "2021-06-27T15:51:57.569Z"
   },
   {
    "duration": 28835,
    "start_time": "2021-06-27T15:51:57.578Z"
   },
   {
    "duration": 28828,
    "start_time": "2021-06-27T15:51:57.588Z"
   },
   {
    "duration": 28821,
    "start_time": "2021-06-27T15:51:57.597Z"
   },
   {
    "duration": 28814,
    "start_time": "2021-06-27T15:51:57.606Z"
   },
   {
    "duration": 9,
    "start_time": "2021-06-27T15:52:58.145Z"
   },
   {
    "duration": 8,
    "start_time": "2021-06-27T15:53:06.009Z"
   },
   {
    "duration": 262,
    "start_time": "2021-06-27T16:00:41.546Z"
   },
   {
    "duration": 215,
    "start_time": "2021-06-27T16:01:09.095Z"
   },
   {
    "duration": 191,
    "start_time": "2021-06-27T16:01:14.097Z"
   },
   {
    "duration": 197,
    "start_time": "2021-06-27T16:01:40.754Z"
   },
   {
    "duration": 1562,
    "start_time": "2021-06-27T16:02:54.459Z"
   },
   {
    "duration": 307,
    "start_time": "2021-06-27T16:02:56.024Z"
   },
   {
    "duration": 70,
    "start_time": "2021-06-27T16:02:56.334Z"
   },
   {
    "duration": 34,
    "start_time": "2021-06-27T16:02:56.408Z"
   },
   {
    "duration": 77,
    "start_time": "2021-06-27T16:02:56.445Z"
   },
   {
    "duration": 4,
    "start_time": "2021-06-27T16:02:56.524Z"
   },
   {
    "duration": 6,
    "start_time": "2021-06-27T16:02:56.530Z"
   },
   {
    "duration": 6,
    "start_time": "2021-06-27T16:02:56.540Z"
   },
   {
    "duration": 9,
    "start_time": "2021-06-27T16:02:56.549Z"
   },
   {
    "duration": 7,
    "start_time": "2021-06-27T16:02:56.560Z"
   },
   {
    "duration": 40,
    "start_time": "2021-06-27T16:02:56.569Z"
   },
   {
    "duration": 10,
    "start_time": "2021-06-27T16:02:56.612Z"
   },
   {
    "duration": 11,
    "start_time": "2021-06-27T16:02:56.625Z"
   },
   {
    "duration": 7,
    "start_time": "2021-06-27T16:02:56.639Z"
   },
   {
    "duration": 15,
    "start_time": "2021-06-27T16:02:56.701Z"
   },
   {
    "duration": 3,
    "start_time": "2021-06-27T16:02:56.719Z"
   },
   {
    "duration": 14,
    "start_time": "2021-06-27T16:02:56.725Z"
   },
   {
    "duration": 13,
    "start_time": "2021-06-27T16:02:56.742Z"
   },
   {
    "duration": 22,
    "start_time": "2021-06-27T16:02:56.801Z"
   },
   {
    "duration": 13,
    "start_time": "2021-06-27T16:02:56.826Z"
   },
   {
    "duration": 7,
    "start_time": "2021-06-27T16:02:56.842Z"
   },
   {
    "duration": 11,
    "start_time": "2021-06-27T16:02:56.852Z"
   },
   {
    "duration": 33,
    "start_time": "2021-06-27T16:02:56.869Z"
   },
   {
    "duration": 12,
    "start_time": "2021-06-27T16:02:56.908Z"
   },
   {
    "duration": 8,
    "start_time": "2021-06-27T16:02:56.923Z"
   },
   {
    "duration": 9,
    "start_time": "2021-06-27T16:02:56.933Z"
   },
   {
    "duration": 66,
    "start_time": "2021-06-27T16:02:56.945Z"
   },
   {
    "duration": 567,
    "start_time": "2021-06-27T16:02:57.014Z"
   },
   {
    "duration": 16,
    "start_time": "2021-06-27T16:02:57.584Z"
   },
   {
    "duration": 2446,
    "start_time": "2021-06-27T16:02:57.603Z"
   },
   {
    "duration": 7,
    "start_time": "2021-06-27T16:03:00.052Z"
   },
   {
    "duration": 9,
    "start_time": "2021-06-27T16:03:00.061Z"
   },
   {
    "duration": 28,
    "start_time": "2021-06-27T16:03:00.072Z"
   },
   {
    "duration": 153,
    "start_time": "2021-06-27T16:03:00.103Z"
   },
   {
    "duration": 7,
    "start_time": "2021-06-27T16:03:00.258Z"
   },
   {
    "duration": 13,
    "start_time": "2021-06-27T16:03:00.268Z"
   },
   {
    "duration": 20,
    "start_time": "2021-06-27T16:03:00.284Z"
   },
   {
    "duration": 19,
    "start_time": "2021-06-27T16:03:00.306Z"
   },
   {
    "duration": 12,
    "start_time": "2021-06-27T16:03:00.327Z"
   },
   {
    "duration": 19,
    "start_time": "2021-06-27T16:03:00.342Z"
   },
   {
    "duration": 6229,
    "start_time": "2021-06-27T16:03:00.364Z"
   },
   {
    "duration": 5,
    "start_time": "2021-06-27T16:03:06.600Z"
   },
   {
    "duration": 30357,
    "start_time": "2021-06-27T16:03:06.608Z"
   },
   {
    "duration": 3,
    "start_time": "2021-06-27T16:03:36.967Z"
   },
   {
    "duration": 26,
    "start_time": "2021-06-27T16:03:36.973Z"
   },
   {
    "duration": 10,
    "start_time": "2021-06-27T16:03:37.002Z"
   },
   {
    "duration": 351,
    "start_time": "2021-06-27T16:03:37.015Z"
   },
   {
    "duration": 3,
    "start_time": "2021-06-27T16:03:37.368Z"
   },
   {
    "duration": 25,
    "start_time": "2021-06-27T16:03:37.374Z"
   },
   {
    "duration": 14,
    "start_time": "2021-06-27T16:03:37.402Z"
   },
   {
    "duration": 303,
    "start_time": "2021-06-27T16:03:37.418Z"
   },
   {
    "duration": 3,
    "start_time": "2021-06-27T16:03:37.724Z"
   },
   {
    "duration": 8,
    "start_time": "2021-06-27T16:03:37.729Z"
   },
   {
    "duration": 13,
    "start_time": "2021-06-27T16:03:37.739Z"
   },
   {
    "duration": 23,
    "start_time": "2021-06-27T16:03:37.755Z"
   },
   {
    "duration": 9,
    "start_time": "2021-06-27T16:03:37.780Z"
   },
   {
    "duration": 9,
    "start_time": "2021-06-27T16:03:37.791Z"
   },
   {
    "duration": 12,
    "start_time": "2021-06-27T16:03:37.802Z"
   },
   {
    "duration": 23,
    "start_time": "2021-06-27T16:03:37.816Z"
   },
   {
    "duration": 14,
    "start_time": "2021-06-27T16:03:37.842Z"
   },
   {
    "duration": 10,
    "start_time": "2021-06-27T16:03:37.858Z"
   },
   {
    "duration": 33,
    "start_time": "2021-06-27T16:03:37.871Z"
   },
   {
    "duration": 1850,
    "start_time": "2021-06-27T16:03:37.906Z"
   },
   {
    "duration": 6,
    "start_time": "2021-06-27T16:03:39.758Z"
   },
   {
    "duration": 8,
    "start_time": "2021-06-27T16:03:39.766Z"
   },
   {
    "duration": 235,
    "start_time": "2021-06-27T16:03:39.776Z"
   },
   {
    "duration": 7,
    "start_time": "2021-06-27T16:03:40.013Z"
   },
   {
    "duration": 3,
    "start_time": "2021-06-27T16:03:40.032Z"
   },
   {
    "duration": 299,
    "start_time": "2021-06-27T16:03:40.040Z"
   },
   {
    "duration": 3,
    "start_time": "2021-06-27T16:03:40.341Z"
   },
   {
    "duration": 10,
    "start_time": "2021-06-27T16:03:40.347Z"
   },
   {
    "duration": 13,
    "start_time": "2021-06-27T16:03:40.359Z"
   },
   {
    "duration": 12,
    "start_time": "2021-06-27T16:03:40.374Z"
   },
   {
    "duration": 7,
    "start_time": "2021-06-27T16:03:40.389Z"
   },
   {
    "duration": 16,
    "start_time": "2021-06-27T16:03:40.401Z"
   },
   {
    "duration": 7,
    "start_time": "2021-06-27T16:03:40.420Z"
   },
   {
    "duration": 10,
    "start_time": "2021-06-27T16:03:40.429Z"
   },
   {
    "duration": 8,
    "start_time": "2021-06-27T16:03:40.441Z"
   },
   {
    "duration": 48,
    "start_time": "2021-06-27T16:03:40.452Z"
   },
   {
    "duration": 3,
    "start_time": "2021-06-27T16:03:40.503Z"
   },
   {
    "duration": 12,
    "start_time": "2021-06-27T16:03:40.509Z"
   },
   {
    "duration": 27,
    "start_time": "2021-06-27T16:03:40.523Z"
   },
   {
    "duration": 3,
    "start_time": "2021-06-27T16:03:40.553Z"
   },
   {
    "duration": 13,
    "start_time": "2021-06-27T16:03:40.559Z"
   },
   {
    "duration": 731,
    "start_time": "2021-06-27T16:03:40.575Z"
   },
   {
    "duration": 12,
    "start_time": "2021-06-27T16:03:41.308Z"
   },
   {
    "duration": 6,
    "start_time": "2021-06-27T16:03:41.322Z"
   },
   {
    "duration": 11,
    "start_time": "2021-06-27T16:03:41.331Z"
   },
   {
    "duration": 105,
    "start_time": "2021-06-27T16:03:41.344Z"
   },
   {
    "duration": 4,
    "start_time": "2021-06-27T16:03:41.452Z"
   },
   {
    "duration": 16,
    "start_time": "2021-06-27T16:03:41.459Z"
   },
   {
    "duration": 30,
    "start_time": "2021-06-27T16:03:41.478Z"
   },
   {
    "duration": 12,
    "start_time": "2021-06-27T16:03:41.510Z"
   },
   {
    "duration": 14,
    "start_time": "2021-06-27T16:03:41.524Z"
   },
   {
    "duration": 8,
    "start_time": "2021-06-27T16:03:41.541Z"
   },
   {
    "duration": 13,
    "start_time": "2021-06-27T16:03:41.552Z"
   },
   {
    "duration": 36,
    "start_time": "2021-06-27T16:03:41.568Z"
   },
   {
    "duration": 18,
    "start_time": "2021-06-27T16:03:41.606Z"
   },
   {
    "duration": 8,
    "start_time": "2021-06-27T16:03:41.627Z"
   },
   {
    "duration": 15,
    "start_time": "2021-06-27T16:03:41.637Z"
   },
   {
    "duration": 7,
    "start_time": "2021-06-27T16:03:41.654Z"
   },
   {
    "duration": 11,
    "start_time": "2021-06-27T16:03:41.663Z"
   },
   {
    "duration": 25,
    "start_time": "2021-06-27T16:03:41.677Z"
   },
   {
    "duration": 140,
    "start_time": "2021-06-27T16:03:41.705Z"
   },
   {
    "duration": 618,
    "start_time": "2021-06-27T16:03:41.848Z"
   },
   {
    "duration": 668,
    "start_time": "2021-06-27T16:03:42.469Z"
   },
   {
    "duration": 12,
    "start_time": "2021-06-27T16:03:43.140Z"
   },
   {
    "duration": 222,
    "start_time": "2021-06-27T16:03:43.155Z"
   },
   {
    "duration": 28,
    "start_time": "2021-06-27T16:03:43.380Z"
   },
   {
    "duration": 607,
    "start_time": "2021-06-27T16:03:43.410Z"
   },
   {
    "duration": 230,
    "start_time": "2021-06-27T16:03:44.020Z"
   },
   {
    "duration": 13,
    "start_time": "2021-06-27T16:03:44.253Z"
   },
   {
    "duration": 94,
    "start_time": "2021-06-27T16:03:44.269Z"
   },
   {
    "duration": 26166,
    "start_time": "2021-06-27T16:03:18.199Z"
   },
   {
    "duration": 26152,
    "start_time": "2021-06-27T16:03:18.215Z"
   },
   {
    "duration": 26140,
    "start_time": "2021-06-27T16:03:18.229Z"
   },
   {
    "duration": 26067,
    "start_time": "2021-06-27T16:03:18.303Z"
   },
   {
    "duration": 26055,
    "start_time": "2021-06-27T16:03:18.317Z"
   },
   {
    "duration": 26041,
    "start_time": "2021-06-27T16:03:18.332Z"
   },
   {
    "duration": 26029,
    "start_time": "2021-06-27T16:03:18.346Z"
   },
   {
    "duration": 26010,
    "start_time": "2021-06-27T16:03:18.366Z"
   },
   {
    "duration": 26000,
    "start_time": "2021-06-27T16:03:18.378Z"
   },
   {
    "duration": 25985,
    "start_time": "2021-06-27T16:03:18.394Z"
   },
   {
    "duration": 25950,
    "start_time": "2021-06-27T16:03:18.431Z"
   },
   {
    "duration": 25935,
    "start_time": "2021-06-27T16:03:18.447Z"
   },
   {
    "duration": 25923,
    "start_time": "2021-06-27T16:03:18.461Z"
   },
   {
    "duration": 25905,
    "start_time": "2021-06-27T16:03:18.480Z"
   },
   {
    "duration": 25894,
    "start_time": "2021-06-27T16:03:18.492Z"
   },
   {
    "duration": 25882,
    "start_time": "2021-06-27T16:03:18.506Z"
   },
   {
    "duration": 25870,
    "start_time": "2021-06-27T16:03:18.520Z"
   },
   {
    "duration": 25845,
    "start_time": "2021-06-27T16:03:18.547Z"
   },
   {
    "duration": 25831,
    "start_time": "2021-06-27T16:03:18.562Z"
   },
   {
    "duration": 25814,
    "start_time": "2021-06-27T16:03:18.581Z"
   },
   {
    "duration": 25802,
    "start_time": "2021-06-27T16:03:18.594Z"
   },
   {
    "duration": 25789,
    "start_time": "2021-06-27T16:03:18.609Z"
   },
   {
    "duration": 25773,
    "start_time": "2021-06-27T16:03:18.626Z"
   },
   {
    "duration": 25757,
    "start_time": "2021-06-27T16:03:18.643Z"
   },
   {
    "duration": 25716,
    "start_time": "2021-06-27T16:03:18.686Z"
   },
   {
    "duration": 25696,
    "start_time": "2021-06-27T16:03:18.707Z"
   },
   {
    "duration": 25677,
    "start_time": "2021-06-27T16:03:18.728Z"
   },
   {
    "duration": 25658,
    "start_time": "2021-06-27T16:03:18.748Z"
   },
   {
    "duration": 25644,
    "start_time": "2021-06-27T16:03:18.763Z"
   },
   {
    "duration": 25602,
    "start_time": "2021-06-27T16:03:18.807Z"
   },
   {
    "duration": 25587,
    "start_time": "2021-06-27T16:03:18.824Z"
   },
   {
    "duration": 25572,
    "start_time": "2021-06-27T16:03:18.840Z"
   },
   {
    "duration": 25557,
    "start_time": "2021-06-27T16:03:18.856Z"
   },
   {
    "duration": 25542,
    "start_time": "2021-06-27T16:03:18.873Z"
   },
   {
    "duration": 25529,
    "start_time": "2021-06-27T16:03:18.887Z"
   },
   {
    "duration": 25493,
    "start_time": "2021-06-27T16:03:18.925Z"
   },
   {
    "duration": 25479,
    "start_time": "2021-06-27T16:03:18.940Z"
   },
   {
    "duration": 25467,
    "start_time": "2021-06-27T16:03:18.954Z"
   },
   {
    "duration": 25453,
    "start_time": "2021-06-27T16:03:18.969Z"
   },
   {
    "duration": 25439,
    "start_time": "2021-06-27T16:03:18.985Z"
   },
   {
    "duration": 25419,
    "start_time": "2021-06-27T16:03:19.006Z"
   },
   {
    "duration": 25387,
    "start_time": "2021-06-27T16:03:19.040Z"
   },
   {
    "duration": 25367,
    "start_time": "2021-06-27T16:03:19.061Z"
   },
   {
    "duration": 25349,
    "start_time": "2021-06-27T16:03:19.080Z"
   },
   {
    "duration": 25335,
    "start_time": "2021-06-27T16:03:19.096Z"
   },
   {
    "duration": 25314,
    "start_time": "2021-06-27T16:03:19.118Z"
   },
   {
    "duration": 25293,
    "start_time": "2021-06-27T16:03:19.141Z"
   },
   {
    "duration": 25255,
    "start_time": "2021-06-27T16:03:19.180Z"
   },
   {
    "duration": 25241,
    "start_time": "2021-06-27T16:03:19.195Z"
   },
   {
    "duration": 25222,
    "start_time": "2021-06-27T16:03:19.216Z"
   },
   {
    "duration": 25199,
    "start_time": "2021-06-27T16:03:19.240Z"
   },
   {
    "duration": 25182,
    "start_time": "2021-06-27T16:03:19.259Z"
   },
   {
    "duration": 25166,
    "start_time": "2021-06-27T16:03:19.276Z"
   },
   {
    "duration": 25182,
    "start_time": "2021-06-27T16:03:19.318Z"
   },
   {
    "duration": 25167,
    "start_time": "2021-06-27T16:03:19.334Z"
   },
   {
    "duration": 25150,
    "start_time": "2021-06-27T16:03:19.353Z"
   },
   {
    "duration": 25133,
    "start_time": "2021-06-27T16:03:19.371Z"
   },
   {
    "duration": 25114,
    "start_time": "2021-06-27T16:03:19.392Z"
   },
   {
    "duration": 25099,
    "start_time": "2021-06-27T16:03:19.408Z"
   },
   {
    "duration": 25060,
    "start_time": "2021-06-27T16:03:19.448Z"
   },
   {
    "duration": 25046,
    "start_time": "2021-06-27T16:03:19.464Z"
   },
   {
    "duration": 25029,
    "start_time": "2021-06-27T16:03:19.482Z"
   },
   {
    "duration": 25015,
    "start_time": "2021-06-27T16:03:19.498Z"
   },
   {
    "duration": 24999,
    "start_time": "2021-06-27T16:03:19.515Z"
   },
   {
    "duration": 8,
    "start_time": "2021-06-27T16:04:55.120Z"
   },
   {
    "duration": 30,
    "start_time": "2021-06-27T16:05:10.897Z"
   },
   {
    "duration": 5,
    "start_time": "2021-06-27T16:06:37.634Z"
   },
   {
    "duration": 13,
    "start_time": "2021-06-27T16:10:18.873Z"
   },
   {
    "duration": 190,
    "start_time": "2021-06-27T16:17:20.550Z"
   },
   {
    "duration": 12,
    "start_time": "2021-06-27T16:17:23.787Z"
   },
   {
    "duration": 12,
    "start_time": "2021-06-27T16:17:42.856Z"
   },
   {
    "duration": 207,
    "start_time": "2021-06-27T16:17:43.092Z"
   },
   {
    "duration": 12,
    "start_time": "2021-06-27T16:18:03.261Z"
   },
   {
    "duration": 13,
    "start_time": "2021-06-27T16:18:07.575Z"
   },
   {
    "duration": 14,
    "start_time": "2021-06-27T16:18:34.562Z"
   },
   {
    "duration": 11,
    "start_time": "2021-06-27T16:19:29.092Z"
   },
   {
    "duration": 246,
    "start_time": "2021-06-27T16:19:36.307Z"
   },
   {
    "duration": 12,
    "start_time": "2021-06-27T16:19:48.017Z"
   },
   {
    "duration": 9,
    "start_time": "2021-06-27T16:20:12.154Z"
   },
   {
    "duration": 8,
    "start_time": "2021-06-27T16:20:18.394Z"
   },
   {
    "duration": 11,
    "start_time": "2021-06-27T16:20:32.649Z"
   },
   {
    "duration": 5,
    "start_time": "2021-06-27T16:20:32.840Z"
   },
   {
    "duration": 5,
    "start_time": "2021-06-27T16:20:41.658Z"
   },
   {
    "duration": 262,
    "start_time": "2021-06-27T16:22:27.108Z"
   },
   {
    "duration": 408,
    "start_time": "2021-06-27T16:22:28.131Z"
   },
   {
    "duration": 550,
    "start_time": "2021-06-27T16:22:40.873Z"
   },
   {
    "duration": 353,
    "start_time": "2021-06-27T16:22:45.048Z"
   },
   {
    "duration": 235,
    "start_time": "2021-06-27T16:22:49.905Z"
   },
   {
    "duration": 207,
    "start_time": "2021-06-27T16:24:32.955Z"
   },
   {
    "duration": 13,
    "start_time": "2021-06-27T16:24:37.607Z"
   },
   {
    "duration": 8,
    "start_time": "2021-06-27T16:25:16.961Z"
   },
   {
    "duration": 9,
    "start_time": "2021-06-27T16:25:22.277Z"
   },
   {
    "duration": 10,
    "start_time": "2021-06-27T16:25:28.244Z"
   },
   {
    "duration": 6,
    "start_time": "2021-06-27T16:25:35.495Z"
   },
   {
    "duration": 7,
    "start_time": "2021-06-27T16:27:49.509Z"
   },
   {
    "duration": 320,
    "start_time": "2021-06-27T16:29:55.361Z"
   },
   {
    "duration": 100,
    "start_time": "2021-06-27T16:31:24.043Z"
   },
   {
    "duration": 7,
    "start_time": "2021-06-27T16:31:34.386Z"
   },
   {
    "duration": 8,
    "start_time": "2021-06-27T16:31:44.167Z"
   },
   {
    "duration": 7,
    "start_time": "2021-06-27T16:31:52.405Z"
   },
   {
    "duration": 7,
    "start_time": "2021-06-27T16:31:58.016Z"
   },
   {
    "duration": 8,
    "start_time": "2021-06-27T16:35:30.576Z"
   },
   {
    "duration": 8,
    "start_time": "2021-06-27T16:36:27.088Z"
   },
   {
    "duration": 7,
    "start_time": "2021-06-27T16:36:38.231Z"
   },
   {
    "duration": 1588,
    "start_time": "2021-06-27T16:36:55.405Z"
   },
   {
    "duration": 334,
    "start_time": "2021-06-27T16:36:56.996Z"
   },
   {
    "duration": 73,
    "start_time": "2021-06-27T16:36:57.335Z"
   },
   {
    "duration": 29,
    "start_time": "2021-06-27T16:36:57.413Z"
   },
   {
    "duration": 81,
    "start_time": "2021-06-27T16:36:57.444Z"
   },
   {
    "duration": 3,
    "start_time": "2021-06-27T16:36:57.528Z"
   },
   {
    "duration": 9,
    "start_time": "2021-06-27T16:36:57.533Z"
   },
   {
    "duration": 9,
    "start_time": "2021-06-27T16:36:57.546Z"
   },
   {
    "duration": 12,
    "start_time": "2021-06-27T16:36:57.558Z"
   },
   {
    "duration": 29,
    "start_time": "2021-06-27T16:36:57.573Z"
   },
   {
    "duration": 7,
    "start_time": "2021-06-27T16:36:57.604Z"
   },
   {
    "duration": 10,
    "start_time": "2021-06-27T16:36:57.614Z"
   },
   {
    "duration": 17,
    "start_time": "2021-06-27T16:36:57.626Z"
   },
   {
    "duration": 12,
    "start_time": "2021-06-27T16:36:57.645Z"
   },
   {
    "duration": 52,
    "start_time": "2021-06-27T16:36:57.660Z"
   },
   {
    "duration": 7,
    "start_time": "2021-06-27T16:36:57.715Z"
   },
   {
    "duration": 14,
    "start_time": "2021-06-27T16:36:57.725Z"
   },
   {
    "duration": 12,
    "start_time": "2021-06-27T16:36:57.742Z"
   },
   {
    "duration": 58,
    "start_time": "2021-06-27T16:36:57.756Z"
   },
   {
    "duration": 13,
    "start_time": "2021-06-27T16:36:57.817Z"
   },
   {
    "duration": 8,
    "start_time": "2021-06-27T16:36:57.833Z"
   },
   {
    "duration": 18,
    "start_time": "2021-06-27T16:36:57.843Z"
   },
   {
    "duration": 5,
    "start_time": "2021-06-27T16:36:57.868Z"
   },
   {
    "duration": 33,
    "start_time": "2021-06-27T16:36:57.877Z"
   },
   {
    "duration": 9,
    "start_time": "2021-06-27T16:36:57.912Z"
   },
   {
    "duration": 11,
    "start_time": "2021-06-27T16:36:57.924Z"
   },
   {
    "duration": 39,
    "start_time": "2021-06-27T16:36:57.937Z"
   },
   {
    "duration": 566,
    "start_time": "2021-06-27T16:36:57.978Z"
   },
   {
    "duration": 5,
    "start_time": "2021-06-27T16:36:58.547Z"
   },
   {
    "duration": 2726,
    "start_time": "2021-06-27T16:36:58.555Z"
   },
   {
    "duration": 7,
    "start_time": "2021-06-27T16:37:01.284Z"
   },
   {
    "duration": 8,
    "start_time": "2021-06-27T16:37:01.301Z"
   },
   {
    "duration": 13,
    "start_time": "2021-06-27T16:37:01.311Z"
   },
   {
    "duration": 165,
    "start_time": "2021-06-27T16:37:01.327Z"
   },
   {
    "duration": 6,
    "start_time": "2021-06-27T16:37:01.495Z"
   },
   {
    "duration": 11,
    "start_time": "2021-06-27T16:37:01.503Z"
   },
   {
    "duration": 19,
    "start_time": "2021-06-27T16:37:01.516Z"
   },
   {
    "duration": 28,
    "start_time": "2021-06-27T16:37:01.537Z"
   },
   {
    "duration": 20,
    "start_time": "2021-06-27T16:37:01.567Z"
   },
   {
    "duration": 43,
    "start_time": "2021-06-27T16:37:01.590Z"
   },
   {
    "duration": 6352,
    "start_time": "2021-06-27T16:37:01.636Z"
   },
   {
    "duration": 14,
    "start_time": "2021-06-27T16:37:07.990Z"
   },
   {
    "duration": 31468,
    "start_time": "2021-06-27T16:37:08.006Z"
   },
   {
    "duration": 4,
    "start_time": "2021-06-27T16:37:39.476Z"
   },
   {
    "duration": 21,
    "start_time": "2021-06-27T16:37:39.482Z"
   },
   {
    "duration": 3,
    "start_time": "2021-06-27T16:37:39.506Z"
   },
   {
    "duration": 370,
    "start_time": "2021-06-27T16:37:39.512Z"
   },
   {
    "duration": 3,
    "start_time": "2021-06-27T16:37:39.884Z"
   },
   {
    "duration": 18,
    "start_time": "2021-06-27T16:37:39.889Z"
   },
   {
    "duration": 5,
    "start_time": "2021-06-27T16:37:39.910Z"
   },
   {
    "duration": 320,
    "start_time": "2021-06-27T16:37:39.917Z"
   },
   {
    "duration": 3,
    "start_time": "2021-06-27T16:37:40.240Z"
   },
   {
    "duration": 7,
    "start_time": "2021-06-27T16:37:40.245Z"
   },
   {
    "duration": 8,
    "start_time": "2021-06-27T16:37:40.254Z"
   },
   {
    "duration": 9,
    "start_time": "2021-06-27T16:37:40.264Z"
   },
   {
    "duration": 26,
    "start_time": "2021-06-27T16:37:40.275Z"
   },
   {
    "duration": 3,
    "start_time": "2021-06-27T16:37:40.304Z"
   },
   {
    "duration": 6,
    "start_time": "2021-06-27T16:37:40.310Z"
   },
   {
    "duration": 21,
    "start_time": "2021-06-27T16:37:40.318Z"
   },
   {
    "duration": 14,
    "start_time": "2021-06-27T16:37:40.342Z"
   },
   {
    "duration": 46,
    "start_time": "2021-06-27T16:37:40.359Z"
   },
   {
    "duration": 17,
    "start_time": "2021-06-27T16:37:40.408Z"
   },
   {
    "duration": 1951,
    "start_time": "2021-06-27T16:37:40.427Z"
   },
   {
    "duration": 7,
    "start_time": "2021-06-27T16:37:42.380Z"
   },
   {
    "duration": 3,
    "start_time": "2021-06-27T16:37:42.400Z"
   },
   {
    "duration": 243,
    "start_time": "2021-06-27T16:37:42.406Z"
   },
   {
    "duration": 6,
    "start_time": "2021-06-27T16:37:42.652Z"
   },
   {
    "duration": 3,
    "start_time": "2021-06-27T16:37:42.670Z"
   },
   {
    "duration": 306,
    "start_time": "2021-06-27T16:37:42.678Z"
   },
   {
    "duration": 3,
    "start_time": "2021-06-27T16:37:42.986Z"
   },
   {
    "duration": 15,
    "start_time": "2021-06-27T16:37:42.991Z"
   },
   {
    "duration": 11,
    "start_time": "2021-06-27T16:37:43.008Z"
   },
   {
    "duration": 5,
    "start_time": "2021-06-27T16:37:43.022Z"
   },
   {
    "duration": 5,
    "start_time": "2021-06-27T16:37:43.030Z"
   },
   {
    "duration": 19,
    "start_time": "2021-06-27T16:37:43.038Z"
   },
   {
    "duration": 43,
    "start_time": "2021-06-27T16:37:43.059Z"
   },
   {
    "duration": 5,
    "start_time": "2021-06-27T16:37:43.105Z"
   },
   {
    "duration": 6,
    "start_time": "2021-06-27T16:37:43.112Z"
   },
   {
    "duration": 20,
    "start_time": "2021-06-27T16:37:43.120Z"
   },
   {
    "duration": 3,
    "start_time": "2021-06-27T16:37:43.143Z"
   },
   {
    "duration": 10,
    "start_time": "2021-06-27T16:37:43.148Z"
   },
   {
    "duration": 49,
    "start_time": "2021-06-27T16:37:43.160Z"
   },
   {
    "duration": 3,
    "start_time": "2021-06-27T16:37:43.211Z"
   },
   {
    "duration": 8,
    "start_time": "2021-06-27T16:37:43.216Z"
   },
   {
    "duration": 678,
    "start_time": "2021-06-27T16:37:43.226Z"
   },
   {
    "duration": 9,
    "start_time": "2021-06-27T16:37:43.907Z"
   },
   {
    "duration": 4,
    "start_time": "2021-06-27T16:37:43.918Z"
   },
   {
    "duration": 7,
    "start_time": "2021-06-27T16:37:43.924Z"
   },
   {
    "duration": 99,
    "start_time": "2021-06-27T16:37:43.933Z"
   },
   {
    "duration": 4,
    "start_time": "2021-06-27T16:37:44.034Z"
   },
   {
    "duration": 18,
    "start_time": "2021-06-27T16:37:44.040Z"
   },
   {
    "duration": 12,
    "start_time": "2021-06-27T16:37:44.060Z"
   },
   {
    "duration": 32,
    "start_time": "2021-06-27T16:37:44.075Z"
   },
   {
    "duration": 11,
    "start_time": "2021-06-27T16:37:44.109Z"
   },
   {
    "duration": 3,
    "start_time": "2021-06-27T16:37:44.122Z"
   },
   {
    "duration": 6,
    "start_time": "2021-06-27T16:37:44.127Z"
   },
   {
    "duration": 8,
    "start_time": "2021-06-27T16:37:44.135Z"
   },
   {
    "duration": 19,
    "start_time": "2021-06-27T16:37:44.145Z"
   },
   {
    "duration": 33,
    "start_time": "2021-06-27T16:37:44.167Z"
   },
   {
    "duration": 5,
    "start_time": "2021-06-27T16:37:44.203Z"
   },
   {
    "duration": 8,
    "start_time": "2021-06-27T16:37:44.211Z"
   },
   {
    "duration": 10,
    "start_time": "2021-06-27T16:37:44.221Z"
   },
   {
    "duration": 20,
    "start_time": "2021-06-27T16:37:44.234Z"
   },
   {
    "duration": 244,
    "start_time": "2021-06-27T16:37:44.258Z"
   },
   {
    "duration": 1017,
    "start_time": "2021-06-27T16:37:44.505Z"
   },
   {
    "duration": 1132,
    "start_time": "2021-06-27T16:37:45.526Z"
   },
   {
    "duration": 20,
    "start_time": "2021-06-27T16:37:46.661Z"
   },
   {
    "duration": 471,
    "start_time": "2021-06-27T16:37:46.685Z"
   },
   {
    "duration": 24,
    "start_time": "2021-06-27T16:37:47.160Z"
   },
   {
    "duration": 1081,
    "start_time": "2021-06-27T16:37:47.187Z"
   },
   {
    "duration": 233,
    "start_time": "2021-06-27T16:37:48.271Z"
   },
   {
    "duration": 604,
    "start_time": "2021-06-27T16:37:48.508Z"
   },
   {
    "duration": 594,
    "start_time": "2021-06-27T16:37:49.115Z"
   },
   {
    "duration": 13,
    "start_time": "2021-06-27T16:37:49.711Z"
   },
   {
    "duration": 224,
    "start_time": "2021-06-27T16:37:49.726Z"
   },
   {
    "duration": 23,
    "start_time": "2021-06-27T16:37:49.953Z"
   },
   {
    "duration": 692,
    "start_time": "2021-06-27T16:37:49.978Z"
   },
   {
    "duration": 338,
    "start_time": "2021-06-27T16:37:50.673Z"
   },
   {
    "duration": 1016,
    "start_time": "2021-06-27T16:37:51.014Z"
   },
   {
    "duration": 1135,
    "start_time": "2021-06-27T16:37:52.033Z"
   },
   {
    "duration": 31,
    "start_time": "2021-06-27T16:37:53.172Z"
   },
   {
    "duration": 346,
    "start_time": "2021-06-27T16:37:53.207Z"
   },
   {
    "duration": 34,
    "start_time": "2021-06-27T16:37:53.556Z"
   },
   {
    "duration": 1090,
    "start_time": "2021-06-27T16:37:53.602Z"
   },
   {
    "duration": 353,
    "start_time": "2021-06-27T16:37:54.695Z"
   },
   {
    "duration": 1132,
    "start_time": "2021-06-27T16:37:55.052Z"
   },
   {
    "duration": 21,
    "start_time": "2021-06-27T16:37:56.187Z"
   },
   {
    "duration": 306,
    "start_time": "2021-06-27T16:37:56.210Z"
   },
   {
    "duration": 1707,
    "start_time": "2021-06-27T16:37:56.519Z"
   },
   {
    "duration": 32654,
    "start_time": "2021-06-27T16:37:25.575Z"
   },
   {
    "duration": 32631,
    "start_time": "2021-06-27T16:37:25.600Z"
   },
   {
    "duration": 32580,
    "start_time": "2021-06-27T16:37:25.652Z"
   },
   {
    "duration": 32543,
    "start_time": "2021-06-27T16:37:25.691Z"
   },
   {
    "duration": 32506,
    "start_time": "2021-06-27T16:37:25.729Z"
   },
   {
    "duration": 32487,
    "start_time": "2021-06-27T16:37:25.749Z"
   },
   {
    "duration": 32472,
    "start_time": "2021-06-27T16:37:25.766Z"
   },
   {
    "duration": 32455,
    "start_time": "2021-06-27T16:37:25.784Z"
   },
   {
    "duration": 32315,
    "start_time": "2021-06-27T16:37:25.926Z"
   },
   {
    "duration": 32247,
    "start_time": "2021-06-27T16:37:25.995Z"
   },
   {
    "duration": 32229,
    "start_time": "2021-06-27T16:37:26.015Z"
   },
   {
    "duration": 32207,
    "start_time": "2021-06-27T16:37:26.038Z"
   },
   {
    "duration": 32060,
    "start_time": "2021-06-27T16:37:26.187Z"
   },
   {
    "duration": 32014,
    "start_time": "2021-06-27T16:37:26.234Z"
   },
   {
    "duration": 31973,
    "start_time": "2021-06-27T16:37:26.276Z"
   },
   {
    "duration": 31964,
    "start_time": "2021-06-27T16:37:26.287Z"
   },
   {
    "duration": 31954,
    "start_time": "2021-06-27T16:37:26.298Z"
   },
   {
    "duration": 31944,
    "start_time": "2021-06-27T16:37:26.309Z"
   },
   {
    "duration": 31935,
    "start_time": "2021-06-27T16:37:26.320Z"
   },
   {
    "duration": 31913,
    "start_time": "2021-06-27T16:37:26.388Z"
   },
   {
    "duration": 31872,
    "start_time": "2021-06-27T16:37:26.430Z"
   },
   {
    "duration": 31817,
    "start_time": "2021-06-27T16:37:26.487Z"
   },
   {
    "duration": 31784,
    "start_time": "2021-06-27T16:37:26.521Z"
   },
   {
    "duration": 31771,
    "start_time": "2021-06-27T16:37:26.535Z"
   },
   {
    "duration": 31763,
    "start_time": "2021-06-27T16:37:26.545Z"
   },
   {
    "duration": 31755,
    "start_time": "2021-06-27T16:37:26.555Z"
   },
   {
    "duration": 31747,
    "start_time": "2021-06-27T16:37:26.564Z"
   },
   {
    "duration": 31737,
    "start_time": "2021-06-27T16:37:26.577Z"
   },
   {
    "duration": 31730,
    "start_time": "2021-06-27T16:37:26.586Z"
   },
   {
    "duration": 31723,
    "start_time": "2021-06-27T16:37:26.595Z"
   },
   {
    "duration": 31630,
    "start_time": "2021-06-27T16:37:26.690Z"
   },
   {
    "duration": 31549,
    "start_time": "2021-06-27T16:37:26.773Z"
   },
   {
    "duration": 31516,
    "start_time": "2021-06-27T16:37:26.808Z"
   },
   {
    "duration": 31505,
    "start_time": "2021-06-27T16:37:26.821Z"
   },
   {
    "duration": 31496,
    "start_time": "2021-06-27T16:37:26.832Z"
   },
   {
    "duration": 31488,
    "start_time": "2021-06-27T16:37:26.842Z"
   },
   {
    "duration": 31446,
    "start_time": "2021-06-27T16:37:26.886Z"
   },
   {
    "duration": 31410,
    "start_time": "2021-06-27T16:37:26.924Z"
   },
   {
    "duration": 31366,
    "start_time": "2021-06-27T16:37:26.969Z"
   },
   {
    "duration": 31318,
    "start_time": "2021-06-27T16:37:27.020Z"
   },
   {
    "duration": 31369,
    "start_time": "2021-06-27T16:37:27.031Z"
   },
   {
    "duration": 31360,
    "start_time": "2021-06-27T16:37:27.042Z"
   },
   {
    "duration": 31351,
    "start_time": "2021-06-27T16:37:27.053Z"
   },
   {
    "duration": 31339,
    "start_time": "2021-06-27T16:37:27.067Z"
   },
   {
    "duration": 31330,
    "start_time": "2021-06-27T16:37:27.079Z"
   },
   {
    "duration": 31322,
    "start_time": "2021-06-27T16:37:27.089Z"
   },
   {
    "duration": 1683,
    "start_time": "2021-06-27T16:38:09.265Z"
   },
   {
    "duration": 314,
    "start_time": "2021-06-27T16:38:10.951Z"
   },
   {
    "duration": 47,
    "start_time": "2021-06-27T16:38:11.269Z"
   },
   {
    "duration": 28,
    "start_time": "2021-06-27T16:38:11.319Z"
   },
   {
    "duration": 95,
    "start_time": "2021-06-27T16:38:11.350Z"
   },
   {
    "duration": 4,
    "start_time": "2021-06-27T16:38:11.448Z"
   },
   {
    "duration": 5,
    "start_time": "2021-06-27T16:38:11.456Z"
   },
   {
    "duration": 3,
    "start_time": "2021-06-27T16:38:11.467Z"
   },
   {
    "duration": 33,
    "start_time": "2021-06-27T16:38:11.474Z"
   },
   {
    "duration": 9,
    "start_time": "2021-06-27T16:38:11.511Z"
   },
   {
    "duration": 8,
    "start_time": "2021-06-27T16:38:11.523Z"
   },
   {
    "duration": 8,
    "start_time": "2021-06-27T16:38:11.534Z"
   },
   {
    "duration": 61,
    "start_time": "2021-06-27T16:38:11.546Z"
   },
   {
    "duration": 8,
    "start_time": "2021-06-27T16:38:11.609Z"
   },
   {
    "duration": 15,
    "start_time": "2021-06-27T16:38:11.620Z"
   },
   {
    "duration": 3,
    "start_time": "2021-06-27T16:38:11.638Z"
   },
   {
    "duration": 19,
    "start_time": "2021-06-27T16:38:11.643Z"
   },
   {
    "duration": 13,
    "start_time": "2021-06-27T16:38:11.701Z"
   },
   {
    "duration": 22,
    "start_time": "2021-06-27T16:38:11.717Z"
   },
   {
    "duration": 13,
    "start_time": "2021-06-27T16:38:11.742Z"
   },
   {
    "duration": 3,
    "start_time": "2021-06-27T16:38:11.758Z"
   },
   {
    "duration": 11,
    "start_time": "2021-06-27T16:38:11.800Z"
   },
   {
    "duration": 5,
    "start_time": "2021-06-27T16:38:11.817Z"
   },
   {
    "duration": 17,
    "start_time": "2021-06-27T16:38:11.828Z"
   },
   {
    "duration": 8,
    "start_time": "2021-06-27T16:38:11.848Z"
   },
   {
    "duration": 44,
    "start_time": "2021-06-27T16:38:11.858Z"
   },
   {
    "duration": 33,
    "start_time": "2021-06-27T16:38:11.904Z"
   },
   {
    "duration": 600,
    "start_time": "2021-06-27T16:38:11.940Z"
   },
   {
    "duration": 7,
    "start_time": "2021-06-27T16:38:12.543Z"
   },
   {
    "duration": 2581,
    "start_time": "2021-06-27T16:38:12.552Z"
   },
   {
    "duration": 8,
    "start_time": "2021-06-27T16:38:15.136Z"
   },
   {
    "duration": 7,
    "start_time": "2021-06-27T16:38:15.147Z"
   },
   {
    "duration": 4,
    "start_time": "2021-06-27T16:38:15.157Z"
   },
   {
    "duration": 146,
    "start_time": "2021-06-27T16:38:15.200Z"
   },
   {
    "duration": 8,
    "start_time": "2021-06-27T16:38:15.349Z"
   },
   {
    "duration": 7,
    "start_time": "2021-06-27T16:38:15.360Z"
   },
   {
    "duration": 36,
    "start_time": "2021-06-27T16:38:15.370Z"
   },
   {
    "duration": 5,
    "start_time": "2021-06-27T16:38:15.409Z"
   },
   {
    "duration": 7,
    "start_time": "2021-06-27T16:38:15.417Z"
   },
   {
    "duration": 21,
    "start_time": "2021-06-27T16:38:15.427Z"
   },
   {
    "duration": 6384,
    "start_time": "2021-06-27T16:38:15.451Z"
   },
   {
    "duration": 7,
    "start_time": "2021-06-27T16:38:21.838Z"
   },
   {
    "duration": 31348,
    "start_time": "2021-06-27T16:38:21.848Z"
   },
   {
    "duration": 3,
    "start_time": "2021-06-27T16:38:53.201Z"
   },
   {
    "duration": 10,
    "start_time": "2021-06-27T16:38:53.206Z"
   },
   {
    "duration": 5,
    "start_time": "2021-06-27T16:38:53.218Z"
   },
   {
    "duration": 381,
    "start_time": "2021-06-27T16:38:53.225Z"
   },
   {
    "duration": 3,
    "start_time": "2021-06-27T16:38:53.609Z"
   },
   {
    "duration": 14,
    "start_time": "2021-06-27T16:38:53.615Z"
   },
   {
    "duration": 5,
    "start_time": "2021-06-27T16:38:53.631Z"
   },
   {
    "duration": 339,
    "start_time": "2021-06-27T16:38:53.639Z"
   },
   {
    "duration": 3,
    "start_time": "2021-06-27T16:38:53.981Z"
   },
   {
    "duration": 15,
    "start_time": "2021-06-27T16:38:53.986Z"
   },
   {
    "duration": 7,
    "start_time": "2021-06-27T16:38:54.004Z"
   },
   {
    "duration": 9,
    "start_time": "2021-06-27T16:38:54.013Z"
   },
   {
    "duration": 4,
    "start_time": "2021-06-27T16:38:54.025Z"
   },
   {
    "duration": 7,
    "start_time": "2021-06-27T16:38:54.032Z"
   },
   {
    "duration": 6,
    "start_time": "2021-06-27T16:38:54.041Z"
   },
   {
    "duration": 63,
    "start_time": "2021-06-27T16:38:54.049Z"
   },
   {
    "duration": 15,
    "start_time": "2021-06-27T16:38:54.114Z"
   },
   {
    "duration": 11,
    "start_time": "2021-06-27T16:38:54.132Z"
   },
   {
    "duration": 55,
    "start_time": "2021-06-27T16:38:54.145Z"
   },
   {
    "duration": 1952,
    "start_time": "2021-06-27T16:38:54.203Z"
   },
   {
    "duration": 6,
    "start_time": "2021-06-27T16:38:56.158Z"
   },
   {
    "duration": 8,
    "start_time": "2021-06-27T16:38:56.166Z"
   },
   {
    "duration": 337,
    "start_time": "2021-06-27T16:38:56.176Z"
   },
   {
    "duration": 6,
    "start_time": "2021-06-27T16:38:56.516Z"
   },
   {
    "duration": 3,
    "start_time": "2021-06-27T16:38:56.535Z"
   },
   {
    "duration": 516,
    "start_time": "2021-06-27T16:38:56.547Z"
   },
   {
    "duration": 4,
    "start_time": "2021-06-27T16:38:57.066Z"
   },
   {
    "duration": 10,
    "start_time": "2021-06-27T16:38:57.073Z"
   },
   {
    "duration": 18,
    "start_time": "2021-06-27T16:38:57.085Z"
   },
   {
    "duration": 9,
    "start_time": "2021-06-27T16:38:57.106Z"
   },
   {
    "duration": 14,
    "start_time": "2021-06-27T16:38:57.118Z"
   },
   {
    "duration": 22,
    "start_time": "2021-06-27T16:38:57.135Z"
   },
   {
    "duration": 8,
    "start_time": "2021-06-27T16:38:57.160Z"
   },
   {
    "duration": 29,
    "start_time": "2021-06-27T16:38:57.171Z"
   },
   {
    "duration": 7,
    "start_time": "2021-06-27T16:38:57.204Z"
   },
   {
    "duration": 31,
    "start_time": "2021-06-27T16:38:57.214Z"
   },
   {
    "duration": 6,
    "start_time": "2021-06-27T16:38:57.248Z"
   },
   {
    "duration": 11,
    "start_time": "2021-06-27T16:38:57.257Z"
   },
   {
    "duration": 39,
    "start_time": "2021-06-27T16:38:57.271Z"
   },
   {
    "duration": 4,
    "start_time": "2021-06-27T16:38:57.313Z"
   },
   {
    "duration": 9,
    "start_time": "2021-06-27T16:38:57.321Z"
   },
   {
    "duration": 771,
    "start_time": "2021-06-27T16:38:57.333Z"
   },
   {
    "duration": 11,
    "start_time": "2021-06-27T16:38:58.107Z"
   },
   {
    "duration": 11,
    "start_time": "2021-06-27T16:38:58.121Z"
   },
   {
    "duration": 13,
    "start_time": "2021-06-27T16:38:58.134Z"
   },
   {
    "duration": 98,
    "start_time": "2021-06-27T16:38:58.150Z"
   },
   {
    "duration": 3,
    "start_time": "2021-06-27T16:38:58.251Z"
   },
   {
    "duration": 26,
    "start_time": "2021-06-27T16:38:58.256Z"
   },
   {
    "duration": 20,
    "start_time": "2021-06-27T16:38:58.285Z"
   },
   {
    "duration": 12,
    "start_time": "2021-06-27T16:38:58.308Z"
   },
   {
    "duration": 12,
    "start_time": "2021-06-27T16:38:58.323Z"
   },
   {
    "duration": 3,
    "start_time": "2021-06-27T16:38:58.338Z"
   },
   {
    "duration": 9,
    "start_time": "2021-06-27T16:38:58.343Z"
   },
   {
    "duration": 6,
    "start_time": "2021-06-27T16:38:58.354Z"
   },
   {
    "duration": 48,
    "start_time": "2021-06-27T16:38:58.363Z"
   },
   {
    "duration": 9,
    "start_time": "2021-06-27T16:38:58.414Z"
   },
   {
    "duration": 8,
    "start_time": "2021-06-27T16:38:58.426Z"
   },
   {
    "duration": 4,
    "start_time": "2021-06-27T16:38:58.437Z"
   },
   {
    "duration": 7,
    "start_time": "2021-06-27T16:38:58.444Z"
   },
   {
    "duration": 50,
    "start_time": "2021-06-27T16:38:58.453Z"
   },
   {
    "duration": 149,
    "start_time": "2021-06-27T16:38:58.507Z"
   },
   {
    "duration": 627,
    "start_time": "2021-06-27T16:38:58.658Z"
   },
   {
    "duration": 691,
    "start_time": "2021-06-27T16:38:59.287Z"
   },
   {
    "duration": 21,
    "start_time": "2021-06-27T16:38:59.981Z"
   },
   {
    "duration": 231,
    "start_time": "2021-06-27T16:39:00.005Z"
   },
   {
    "duration": 21,
    "start_time": "2021-06-27T16:39:00.239Z"
   },
   {
    "duration": 931,
    "start_time": "2021-06-27T16:39:00.262Z"
   },
   {
    "duration": 308,
    "start_time": "2021-06-27T16:39:01.196Z"
   },
   {
    "duration": 636,
    "start_time": "2021-06-27T16:39:01.507Z"
   },
   {
    "duration": 609,
    "start_time": "2021-06-27T16:39:02.146Z"
   },
   {
    "duration": 13,
    "start_time": "2021-06-27T16:39:02.757Z"
   },
   {
    "duration": 233,
    "start_time": "2021-06-27T16:39:02.773Z"
   },
   {
    "duration": 20,
    "start_time": "2021-06-27T16:39:03.009Z"
   },
   {
    "duration": 1084,
    "start_time": "2021-06-27T16:39:03.032Z"
   },
   {
    "duration": 205,
    "start_time": "2021-06-27T16:39:04.120Z"
   },
   {
    "duration": 633,
    "start_time": "2021-06-27T16:39:04.329Z"
   },
   {
    "duration": 626,
    "start_time": "2021-06-27T16:39:04.965Z"
   },
   {
    "duration": 17,
    "start_time": "2021-06-27T16:39:05.593Z"
   },
   {
    "duration": 225,
    "start_time": "2021-06-27T16:39:05.613Z"
   },
   {
    "duration": 21,
    "start_time": "2021-06-27T16:39:05.841Z"
   },
   {
    "duration": 612,
    "start_time": "2021-06-27T16:39:05.864Z"
   },
   {
    "duration": 224,
    "start_time": "2021-06-27T16:39:06.479Z"
   },
   {
    "duration": 695,
    "start_time": "2021-06-27T16:39:06.705Z"
   },
   {
    "duration": 14,
    "start_time": "2021-06-27T16:39:07.403Z"
   },
   {
    "duration": 234,
    "start_time": "2021-06-27T16:39:07.419Z"
   },
   {
    "duration": 25,
    "start_time": "2021-06-27T16:39:07.655Z"
   },
   {
    "duration": 625,
    "start_time": "2021-06-27T16:39:07.700Z"
   },
   {
    "duration": 222,
    "start_time": "2021-06-27T16:39:08.328Z"
   },
   {
    "duration": 599,
    "start_time": "2021-06-27T16:39:08.553Z"
   },
   {
    "duration": 13,
    "start_time": "2021-06-27T16:39:09.155Z"
   },
   {
    "duration": 233,
    "start_time": "2021-06-27T16:39:09.171Z"
   },
   {
    "duration": 3,
    "start_time": "2021-06-27T16:39:09.407Z"
   },
   {
    "duration": 27,
    "start_time": "2021-06-27T16:39:09.412Z"
   },
   {
    "duration": 613,
    "start_time": "2021-06-27T16:39:09.441Z"
   },
   {
    "duration": 326,
    "start_time": "2021-06-27T16:39:10.056Z"
   },
   {
    "duration": 615,
    "start_time": "2021-06-27T16:39:10.385Z"
   },
   {
    "duration": 151,
    "start_time": "2021-06-27T16:39:11.003Z"
   },
   {
    "duration": 220,
    "start_time": "2021-06-27T16:39:11.156Z"
   },
   {
    "duration": 20,
    "start_time": "2021-06-27T16:39:11.379Z"
   },
   {
    "duration": 10,
    "start_time": "2021-06-27T16:39:11.403Z"
   },
   {
    "duration": 9,
    "start_time": "2021-06-27T16:39:11.415Z"
   },
   {
    "duration": 11,
    "start_time": "2021-06-27T16:39:11.427Z"
   },
   {
    "duration": 6,
    "start_time": "2021-06-27T16:39:11.441Z"
   },
   {
    "duration": 51,
    "start_time": "2021-06-27T16:39:11.450Z"
   },
   {
    "duration": 6,
    "start_time": "2021-06-27T16:39:11.504Z"
   },
   {
    "duration": 6,
    "start_time": "2021-06-27T16:39:11.514Z"
   },
   {
    "duration": 6,
    "start_time": "2021-06-27T16:39:11.524Z"
   },
   {
    "duration": 6,
    "start_time": "2021-06-27T16:39:11.533Z"
   },
   {
    "duration": 6,
    "start_time": "2021-06-27T16:39:11.543Z"
   },
   {
    "duration": 49,
    "start_time": "2021-06-27T16:39:11.552Z"
   },
   {
    "duration": 8,
    "start_time": "2021-06-27T16:39:11.605Z"
   },
   {
    "duration": 45,
    "start_time": "2021-06-27T16:39:11.616Z"
   },
   {
    "duration": 582,
    "start_time": "2021-06-27T16:39:11.665Z"
   },
   {
    "duration": 18,
    "start_time": "2021-06-27T16:39:12.251Z"
   },
   {
    "duration": 38,
    "start_time": "2021-06-27T16:39:12.273Z"
   },
   {
    "duration": 627,
    "start_time": "2021-06-27T16:39:12.313Z"
   },
   {
    "duration": 586,
    "start_time": "2021-06-27T16:39:12.942Z"
   },
   {
    "duration": 9,
    "start_time": "2021-06-27T16:39:13.531Z"
   },
   {
    "duration": 593,
    "start_time": "2021-06-27T16:39:13.543Z"
   },
   {
    "duration": 605,
    "start_time": "2021-06-27T16:39:14.139Z"
   },
   {
    "duration": 8,
    "start_time": "2021-06-27T16:39:14.747Z"
   },
   {
    "duration": 587,
    "start_time": "2021-06-27T16:39:14.758Z"
   },
   {
    "duration": 645,
    "start_time": "2021-06-27T16:39:15.348Z"
   },
   {
    "duration": 11,
    "start_time": "2021-06-27T16:39:15.995Z"
   },
   {
    "duration": 425,
    "start_time": "2021-06-27T16:39:16.009Z"
   },
   {
    "duration": 302,
    "start_time": "2021-06-27T16:39:16.436Z"
   },
   {
    "duration": 597,
    "start_time": "2021-06-27T16:39:16.741Z"
   },
   {
    "duration": 587,
    "start_time": "2021-06-27T16:39:17.340Z"
   },
   {
    "duration": 3,
    "start_time": "2021-06-27T16:39:17.929Z"
   },
   {
    "duration": 7,
    "start_time": "2021-06-27T16:39:17.935Z"
   },
   {
    "duration": 10,
    "start_time": "2021-06-27T16:39:17.945Z"
   },
   {
    "duration": 1442,
    "start_time": "2021-06-28T15:33:19.942Z"
   },
   {
    "duration": 291,
    "start_time": "2021-06-28T15:33:21.387Z"
   },
   {
    "duration": 10,
    "start_time": "2021-06-28T15:34:21.187Z"
   },
   {
    "duration": 12,
    "start_time": "2021-06-28T15:34:32.410Z"
   },
   {
    "duration": 13,
    "start_time": "2021-06-28T15:34:32.708Z"
   },
   {
    "duration": 19,
    "start_time": "2021-06-28T15:34:33.242Z"
   },
   {
    "duration": 13,
    "start_time": "2021-06-28T15:34:34.058Z"
   },
   {
    "duration": 27,
    "start_time": "2021-06-28T15:35:16.579Z"
   },
   {
    "duration": 3,
    "start_time": "2021-06-28T15:35:23.626Z"
   },
   {
    "duration": 9,
    "start_time": "2021-06-28T15:35:27.241Z"
   },
   {
    "duration": 5,
    "start_time": "2021-06-28T15:35:28.626Z"
   },
   {
    "duration": 12,
    "start_time": "2021-06-28T15:35:29.520Z"
   },
   {
    "duration": 9,
    "start_time": "2021-06-28T15:35:31.233Z"
   },
   {
    "duration": 4,
    "start_time": "2021-06-28T15:35:33.434Z"
   },
   {
    "duration": 4,
    "start_time": "2021-06-29T10:10:55.045Z"
   },
   {
    "duration": 294,
    "start_time": "2021-06-29T10:10:55.609Z"
   },
   {
    "duration": 14,
    "start_time": "2021-06-29T10:11:49.642Z"
   },
   {
    "duration": 91,
    "start_time": "2021-06-29T10:15:32.905Z"
   },
   {
    "duration": 446,
    "start_time": "2021-06-29T10:15:36.249Z"
   },
   {
    "duration": 13,
    "start_time": "2021-06-29T10:15:43.611Z"
   },
   {
    "duration": 17,
    "start_time": "2021-06-29T10:16:36.252Z"
   },
   {
    "duration": 681,
    "start_time": "2021-06-29T10:17:20.090Z"
   },
   {
    "duration": 658,
    "start_time": "2021-06-29T10:17:53.394Z"
   },
   {
    "duration": 11,
    "start_time": "2021-06-29T10:18:52.563Z"
   },
   {
    "duration": 3,
    "start_time": "2021-06-29T10:19:07.131Z"
   },
   {
    "duration": 56,
    "start_time": "2021-06-29T10:38:44.839Z"
   },
   {
    "duration": 49,
    "start_time": "2021-06-29T10:39:18.887Z"
   },
   {
    "duration": 99,
    "start_time": "2021-06-29T11:43:04.418Z"
   },
   {
    "duration": 1260,
    "start_time": "2021-06-29T11:46:06.149Z"
   },
   {
    "duration": 7173,
    "start_time": "2021-06-29T11:46:10.873Z"
   },
   {
    "duration": 23,
    "start_time": "2021-06-29T11:46:27.856Z"
   },
   {
    "duration": 22,
    "start_time": "2021-06-29T11:46:28.040Z"
   },
   {
    "duration": 21,
    "start_time": "2021-06-29T11:46:28.240Z"
   },
   {
    "duration": 6606,
    "start_time": "2021-06-29T11:46:29.488Z"
   },
   {
    "duration": 4,
    "start_time": "2021-06-29T11:46:49.857Z"
   },
   {
    "duration": 288,
    "start_time": "2021-06-29T11:46:50.951Z"
   },
   {
    "duration": 10,
    "start_time": "2021-06-29T11:47:05.225Z"
   },
   {
    "duration": 3,
    "start_time": "2021-06-29T11:47:07.055Z"
   },
   {
    "duration": 664,
    "start_time": "2021-06-29T11:47:07.560Z"
   },
   {
    "duration": 653,
    "start_time": "2021-06-29T11:47:08.226Z"
   },
   {
    "duration": 1353,
    "start_time": "2021-06-29T11:47:08.883Z"
   },
   {
    "duration": 678,
    "start_time": "2021-06-29T11:47:10.238Z"
   },
   {
    "duration": 6,
    "start_time": "2021-06-29T11:47:10.918Z"
   },
   {
    "duration": 10,
    "start_time": "2021-06-29T11:47:11.110Z"
   },
   {
    "duration": 5,
    "start_time": "2021-06-29T11:47:11.655Z"
   },
   {
    "duration": 12,
    "start_time": "2021-06-29T11:47:13.391Z"
   },
   {
    "duration": 8,
    "start_time": "2021-06-29T11:47:14.280Z"
   },
   {
    "duration": 4,
    "start_time": "2021-06-29T11:47:15.847Z"
   },
   {
    "duration": 20,
    "start_time": "2021-06-29T11:47:18.999Z"
   },
   {
    "duration": 530,
    "start_time": "2021-06-29T11:47:19.896Z"
   },
   {
    "duration": 6,
    "start_time": "2021-06-29T11:47:29.256Z"
   },
   {
    "duration": 2688,
    "start_time": "2021-06-29T11:47:29.640Z"
   },
   {
    "duration": 6,
    "start_time": "2021-06-29T11:47:32.331Z"
   },
   {
    "duration": 8,
    "start_time": "2021-06-29T11:47:32.340Z"
   },
   {
    "duration": 3,
    "start_time": "2021-06-29T11:47:33.784Z"
   },
   {
    "duration": 133,
    "start_time": "2021-06-29T11:47:34.536Z"
   },
   {
    "duration": 7,
    "start_time": "2021-06-29T11:47:34.775Z"
   },
   {
    "duration": 6,
    "start_time": "2021-06-29T11:47:35.036Z"
   },
   {
    "duration": 7,
    "start_time": "2021-06-29T11:47:38.382Z"
   },
   {
    "duration": 2,
    "start_time": "2021-06-29T11:47:38.832Z"
   },
   {
    "duration": 4,
    "start_time": "2021-06-29T11:47:41.774Z"
   },
   {
    "duration": 17,
    "start_time": "2021-06-29T11:47:42.215Z"
   },
   {
    "duration": 6442,
    "start_time": "2021-06-29T11:47:42.456Z"
   },
   {
    "duration": 5,
    "start_time": "2021-06-29T11:47:48.900Z"
   },
   {
    "duration": 30576,
    "start_time": "2021-06-29T11:47:48.908Z"
   },
   {
    "duration": 3,
    "start_time": "2021-06-29T11:48:19.486Z"
   },
   {
    "duration": 12,
    "start_time": "2021-06-29T11:48:19.492Z"
   },
   {
    "duration": 19,
    "start_time": "2021-06-29T11:48:19.506Z"
   },
   {
    "duration": 359,
    "start_time": "2021-06-29T11:48:19.528Z"
   },
   {
    "duration": 3,
    "start_time": "2021-06-29T11:48:19.890Z"
   },
   {
    "duration": 13,
    "start_time": "2021-06-29T11:48:19.896Z"
   },
   {
    "duration": 3,
    "start_time": "2021-06-29T11:48:19.924Z"
   },
   {
    "duration": 324,
    "start_time": "2021-06-29T11:48:19.930Z"
   },
   {
    "duration": 3,
    "start_time": "2021-06-29T11:48:20.256Z"
   },
   {
    "duration": 6,
    "start_time": "2021-06-29T11:48:20.261Z"
   },
   {
    "duration": 7,
    "start_time": "2021-06-29T11:48:20.269Z"
   },
   {
    "duration": 15,
    "start_time": "2021-06-29T11:48:20.278Z"
   },
   {
    "duration": 4,
    "start_time": "2021-06-29T11:48:20.295Z"
   },
   {
    "duration": 4,
    "start_time": "2021-06-29T11:48:20.324Z"
   },
   {
    "duration": 6,
    "start_time": "2021-06-29T11:48:20.330Z"
   },
   {
    "duration": 20,
    "start_time": "2021-06-29T11:48:20.339Z"
   },
   {
    "duration": 14,
    "start_time": "2021-06-29T11:48:20.361Z"
   },
   {
    "duration": 47,
    "start_time": "2021-06-29T11:48:20.377Z"
   },
   {
    "duration": 14,
    "start_time": "2021-06-29T11:48:20.427Z"
   },
   {
    "duration": 1919,
    "start_time": "2021-06-29T11:48:20.447Z"
   },
   {
    "duration": 8,
    "start_time": "2021-06-29T11:48:22.368Z"
   },
   {
    "duration": 2,
    "start_time": "2021-06-29T11:48:29.370Z"
   },
   {
    "duration": 222,
    "start_time": "2021-06-29T11:48:29.943Z"
   },
   {
    "duration": 23,
    "start_time": "2021-06-29T11:48:30.409Z"
   },
   {
    "duration": 3,
    "start_time": "2021-06-29T11:48:31.336Z"
   },
   {
    "duration": 287,
    "start_time": "2021-06-29T11:48:31.537Z"
   },
   {
    "duration": 3,
    "start_time": "2021-06-29T11:48:31.826Z"
   },
   {
    "duration": 5,
    "start_time": "2021-06-29T11:48:32.552Z"
   },
   {
    "duration": 5,
    "start_time": "2021-06-29T11:48:32.825Z"
   },
   {
    "duration": 3,
    "start_time": "2021-06-29T11:48:33.296Z"
   },
   {
    "duration": 3,
    "start_time": "2021-06-29T11:48:34.992Z"
   },
   {
    "duration": 10,
    "start_time": "2021-06-29T11:48:35.282Z"
   },
   {
    "duration": 8,
    "start_time": "2021-06-29T11:48:35.519Z"
   },
   {
    "duration": 5,
    "start_time": "2021-06-29T11:48:35.808Z"
   },
   {
    "duration": 4,
    "start_time": "2021-06-29T11:48:36.086Z"
   },
   {
    "duration": 18,
    "start_time": "2021-06-29T11:48:36.546Z"
   },
   {
    "duration": 4,
    "start_time": "2021-06-29T11:48:38.791Z"
   },
   {
    "duration": 4,
    "start_time": "2021-06-29T11:49:00.799Z"
   },
   {
    "duration": 652,
    "start_time": "2021-06-29T11:49:01.208Z"
   },
   {
    "duration": 3,
    "start_time": "2021-06-29T11:49:01.862Z"
   },
   {
    "duration": 3,
    "start_time": "2021-06-29T11:49:02.049Z"
   },
   {
    "duration": 744,
    "start_time": "2021-06-29T11:49:02.545Z"
   },
   {
    "duration": 659,
    "start_time": "2021-06-29T11:49:03.291Z"
   },
   {
    "duration": 3,
    "start_time": "2021-06-29T11:49:03.953Z"
   },
   {
    "duration": 8,
    "start_time": "2021-06-29T11:49:03.958Z"
   },
   {
    "duration": 78,
    "start_time": "2021-06-29T11:49:04.951Z"
   },
   {
    "duration": 3,
    "start_time": "2021-06-29T11:49:05.945Z"
   },
   {
    "duration": 12,
    "start_time": "2021-06-29T11:49:08.000Z"
   },
   {
    "duration": 13,
    "start_time": "2021-06-29T11:49:08.263Z"
   },
   {
    "duration": 12,
    "start_time": "2021-06-29T11:49:08.529Z"
   },
   {
    "duration": 9,
    "start_time": "2021-06-29T11:49:11.697Z"
   },
   {
    "duration": 8,
    "start_time": "2021-06-29T11:49:44.938Z"
   },
   {
    "duration": 10,
    "start_time": "2021-06-29T11:50:14.074Z"
   },
   {
    "duration": 7,
    "start_time": "2021-06-29T11:50:24.608Z"
   },
   {
    "duration": 11,
    "start_time": "2021-06-29T11:50:46.785Z"
   },
   {
    "duration": 9,
    "start_time": "2021-06-29T11:58:06.203Z"
   },
   {
    "duration": 95,
    "start_time": "2021-06-29T11:58:35.988Z"
   },
   {
    "duration": 31,
    "start_time": "2021-06-29T11:58:48.362Z"
   },
   {
    "duration": 45,
    "start_time": "2021-06-29T12:00:18.652Z"
   },
   {
    "duration": 3,
    "start_time": "2021-06-29T12:01:46.013Z"
   },
   {
    "duration": 38,
    "start_time": "2021-06-29T12:01:52.801Z"
   },
   {
    "duration": 3,
    "start_time": "2021-06-29T12:01:55.562Z"
   },
   {
    "duration": 1401,
    "start_time": "2021-06-29T12:02:19.154Z"
   },
   {
    "duration": 17,
    "start_time": "2021-06-29T12:02:51.587Z"
   },
   {
    "duration": 3,
    "start_time": "2021-06-29T12:03:05.889Z"
   },
   {
    "duration": 671,
    "start_time": "2021-06-29T12:06:03.658Z"
   },
   {
    "duration": 657,
    "start_time": "2021-06-29T12:06:12.979Z"
   },
   {
    "duration": 5,
    "start_time": "2021-06-29T12:19:42.095Z"
   },
   {
    "duration": 276,
    "start_time": "2021-06-29T12:19:43.126Z"
   },
   {
    "duration": 29379,
    "start_time": "2021-06-29T12:19:44.703Z"
   },
   {
    "duration": 1999,
    "start_time": "2021-06-29T12:20:23.687Z"
   },
   {
    "duration": 332,
    "start_time": "2021-06-29T12:20:25.689Z"
   },
   {
    "duration": 40,
    "start_time": "2021-06-29T12:20:27.933Z"
   },
   {
    "duration": 27,
    "start_time": "2021-06-29T12:20:29.524Z"
   },
   {
    "duration": 58,
    "start_time": "2021-06-29T12:20:30.068Z"
   },
   {
    "duration": 3,
    "start_time": "2021-06-29T12:20:31.277Z"
   },
   {
    "duration": 3,
    "start_time": "2021-06-29T12:20:32.155Z"
   },
   {
    "duration": 3,
    "start_time": "2021-06-29T12:20:32.739Z"
   },
   {
    "duration": 8,
    "start_time": "2021-06-29T12:20:33.396Z"
   },
   {
    "duration": 11,
    "start_time": "2021-06-29T12:20:33.996Z"
   },
   {
    "duration": 11,
    "start_time": "2021-06-29T12:20:34.499Z"
   },
   {
    "duration": 12,
    "start_time": "2021-06-29T12:20:34.924Z"
   },
   {
    "duration": 9,
    "start_time": "2021-06-29T12:20:35.358Z"
   },
   {
    "duration": 6,
    "start_time": "2021-06-29T12:20:35.782Z"
   },
   {
    "duration": 13,
    "start_time": "2021-06-29T12:20:38.579Z"
   },
   {
    "duration": 3,
    "start_time": "2021-06-29T12:20:39.510Z"
   },
   {
    "duration": 12,
    "start_time": "2021-06-29T12:20:39.932Z"
   },
   {
    "duration": 16,
    "start_time": "2021-06-29T12:20:40.125Z"
   },
   {
    "duration": 20,
    "start_time": "2021-06-29T12:20:40.332Z"
   },
   {
    "duration": 13,
    "start_time": "2021-06-29T12:20:40.564Z"
   },
   {
    "duration": 3,
    "start_time": "2021-06-29T12:20:41.756Z"
   },
   {
    "duration": 13,
    "start_time": "2021-06-29T12:20:43.059Z"
   },
   {
    "duration": 7,
    "start_time": "2021-06-29T12:20:43.435Z"
   },
   {
    "duration": 12,
    "start_time": "2021-06-29T12:20:44.548Z"
   },
   {
    "duration": 12,
    "start_time": "2021-06-29T12:20:45.004Z"
   },
   {
    "duration": 4,
    "start_time": "2021-06-29T12:20:46.122Z"
   },
   {
    "duration": 36,
    "start_time": "2021-06-29T12:20:46.581Z"
   },
   {
    "duration": 915,
    "start_time": "2021-06-29T12:20:47.244Z"
   },
   {
    "duration": 7,
    "start_time": "2021-06-29T12:20:48.342Z"
   },
   {
    "duration": 4032,
    "start_time": "2021-06-29T12:20:48.564Z"
   },
   {
    "duration": 8,
    "start_time": "2021-06-29T12:20:52.600Z"
   },
   {
    "duration": 7,
    "start_time": "2021-06-29T12:20:52.625Z"
   },
   {
    "duration": 13,
    "start_time": "2021-06-29T12:20:52.635Z"
   },
   {
    "duration": 224,
    "start_time": "2021-06-29T12:20:52.651Z"
   },
   {
    "duration": 8,
    "start_time": "2021-06-29T12:20:52.878Z"
   },
   {
    "duration": 11,
    "start_time": "2021-06-29T12:20:52.889Z"
   },
   {
    "duration": 9,
    "start_time": "2021-06-29T12:20:54.286Z"
   },
   {
    "duration": 4,
    "start_time": "2021-06-29T12:20:54.493Z"
   },
   {
    "duration": 5,
    "start_time": "2021-06-29T12:20:55.123Z"
   },
   {
    "duration": 19,
    "start_time": "2021-06-29T12:20:55.548Z"
   },
   {
    "duration": 6845,
    "start_time": "2021-06-29T12:20:55.745Z"
   },
   {
    "duration": 6,
    "start_time": "2021-06-29T12:21:02.592Z"
   },
   {
    "duration": 30946,
    "start_time": "2021-06-29T12:21:02.601Z"
   },
   {
    "duration": 4,
    "start_time": "2021-06-29T12:21:33.551Z"
   },
   {
    "duration": 11,
    "start_time": "2021-06-29T12:21:33.558Z"
   },
   {
    "duration": 7,
    "start_time": "2021-06-29T12:21:33.572Z"
   },
   {
    "duration": 382,
    "start_time": "2021-06-29T12:21:33.581Z"
   },
   {
    "duration": 4,
    "start_time": "2021-06-29T12:21:33.967Z"
   },
   {
    "duration": 9,
    "start_time": "2021-06-29T12:21:33.974Z"
   },
   {
    "duration": 5,
    "start_time": "2021-06-29T12:21:33.985Z"
   },
   {
    "duration": 332,
    "start_time": "2021-06-29T12:21:33.992Z"
   },
   {
    "duration": 3,
    "start_time": "2021-06-29T12:21:34.326Z"
   },
   {
    "duration": 14,
    "start_time": "2021-06-29T12:21:34.331Z"
   },
   {
    "duration": 16,
    "start_time": "2021-06-29T12:21:34.347Z"
   },
   {
    "duration": 13,
    "start_time": "2021-06-29T12:21:34.366Z"
   },
   {
    "duration": 9,
    "start_time": "2021-06-29T12:21:34.381Z"
   },
   {
    "duration": 4,
    "start_time": "2021-06-29T12:21:37.820Z"
   },
   {
    "duration": 3,
    "start_time": "2021-06-29T12:21:38.339Z"
   },
   {
    "duration": 21,
    "start_time": "2021-06-29T12:21:38.988Z"
   },
   {
    "duration": 14,
    "start_time": "2021-06-29T12:21:39.204Z"
   },
   {
    "duration": 14,
    "start_time": "2021-06-29T12:21:39.643Z"
   },
   {
    "duration": 15,
    "start_time": "2021-06-29T12:21:39.844Z"
   },
   {
    "duration": 1976,
    "start_time": "2021-06-29T12:21:40.427Z"
   },
   {
    "duration": 18,
    "start_time": "2021-06-29T12:21:42.406Z"
   },
   {
    "duration": 9,
    "start_time": "2021-06-29T12:21:42.427Z"
   },
   {
    "duration": 229,
    "start_time": "2021-06-29T12:21:42.439Z"
   },
   {
    "duration": 6,
    "start_time": "2021-06-29T12:21:42.670Z"
   },
   {
    "duration": 12,
    "start_time": "2021-06-29T12:21:42.679Z"
   },
   {
    "duration": 471,
    "start_time": "2021-06-29T12:21:42.694Z"
   },
   {
    "duration": 3,
    "start_time": "2021-06-29T12:21:43.170Z"
   },
   {
    "duration": 17,
    "start_time": "2021-06-29T12:21:43.177Z"
   },
   {
    "duration": 23,
    "start_time": "2021-06-29T12:21:43.199Z"
   },
   {
    "duration": 4,
    "start_time": "2021-06-29T12:21:43.381Z"
   },
   {
    "duration": 4,
    "start_time": "2021-06-29T12:21:43.971Z"
   },
   {
    "duration": 27,
    "start_time": "2021-06-29T12:21:44.182Z"
   },
   {
    "duration": 7,
    "start_time": "2021-06-29T12:21:44.396Z"
   },
   {
    "duration": 4,
    "start_time": "2021-06-29T12:21:44.589Z"
   },
   {
    "duration": 3,
    "start_time": "2021-06-29T12:21:44.813Z"
   },
   {
    "duration": 19,
    "start_time": "2021-06-29T12:21:45.013Z"
   },
   {
    "duration": 3,
    "start_time": "2021-06-29T12:21:45.917Z"
   },
   {
    "duration": 3,
    "start_time": "2021-06-29T12:21:47.028Z"
   },
   {
    "duration": 18,
    "start_time": "2021-06-29T12:21:47.462Z"
   },
   {
    "duration": 3,
    "start_time": "2021-06-29T12:21:48.020Z"
   },
   {
    "duration": 4,
    "start_time": "2021-06-29T12:21:48.468Z"
   },
   {
    "duration": 703,
    "start_time": "2021-06-29T12:21:48.956Z"
   },
   {
    "duration": 10,
    "start_time": "2021-06-29T12:21:49.661Z"
   },
   {
    "duration": 10,
    "start_time": "2021-06-29T12:21:49.674Z"
   },
   {
    "duration": 3,
    "start_time": "2021-06-29T12:21:49.964Z"
   },
   {
    "duration": 76,
    "start_time": "2021-06-29T12:21:50.563Z"
   },
   {
    "duration": 3,
    "start_time": "2021-06-29T12:21:51.188Z"
   },
   {
    "duration": 12,
    "start_time": "2021-06-29T12:21:52.252Z"
   },
   {
    "duration": 12,
    "start_time": "2021-06-29T12:21:52.452Z"
   },
   {
    "duration": 12,
    "start_time": "2021-06-29T12:21:52.675Z"
   },
   {
    "duration": 15,
    "start_time": "2021-06-29T12:21:53.324Z"
   },
   {
    "duration": 3,
    "start_time": "2021-06-29T12:21:54.022Z"
   },
   {
    "duration": 4,
    "start_time": "2021-06-29T12:21:54.476Z"
   },
   {
    "duration": 6,
    "start_time": "2021-06-29T12:21:58.468Z"
   },
   {
    "duration": 3,
    "start_time": "2021-06-29T12:22:00.147Z"
   },
   {
    "duration": 3,
    "start_time": "2021-06-29T12:22:00.587Z"
   },
   {
    "duration": 12,
    "start_time": "2021-06-29T12:22:00.980Z"
   },
   {
    "duration": 8,
    "start_time": "2021-06-29T12:22:02.563Z"
   },
   {
    "duration": 4,
    "start_time": "2021-06-29T12:22:02.876Z"
   },
   {
    "duration": 4,
    "start_time": "2021-06-29T12:22:03.643Z"
   },
   {
    "duration": 11,
    "start_time": "2021-06-29T12:22:04.133Z"
   },
   {
    "duration": 134,
    "start_time": "2021-06-29T12:22:05.396Z"
   },
   {
    "duration": 1078,
    "start_time": "2021-06-29T12:22:06.043Z"
   },
   {
    "duration": 1014,
    "start_time": "2021-06-29T12:22:07.124Z"
   },
   {
    "duration": 18,
    "start_time": "2021-06-29T12:22:08.142Z"
   },
   {
    "duration": 363,
    "start_time": "2021-06-29T12:22:08.164Z"
   },
   {
    "duration": 20,
    "start_time": "2021-06-29T12:22:15.512Z"
   },
   {
    "duration": 628,
    "start_time": "2021-06-29T12:22:17.652Z"
   },
   {
    "duration": 304,
    "start_time": "2021-06-29T12:22:18.484Z"
   },
   {
    "duration": 527,
    "start_time": "2021-06-29T12:22:51.406Z"
   },
   {
    "duration": 307,
    "start_time": "2021-06-29T12:28:13.465Z"
   },
   {
    "duration": 6,
    "start_time": "2021-06-29T12:28:34.158Z"
   },
   {
    "duration": 419,
    "start_time": "2021-06-29T12:31:56.409Z"
   },
   {
    "duration": 6,
    "start_time": "2021-06-29T12:32:18.680Z"
   },
   {
    "duration": 273,
    "start_time": "2021-06-29T12:33:01.095Z"
   },
   {
    "duration": 274,
    "start_time": "2021-06-29T12:35:04.023Z"
   },
   {
    "duration": 284,
    "start_time": "2021-06-29T12:37:07.145Z"
   },
   {
    "duration": 389,
    "start_time": "2021-06-29T12:37:30.687Z"
   },
   {
    "duration": 277,
    "start_time": "2021-06-29T12:37:35.432Z"
   },
   {
    "duration": 267,
    "start_time": "2021-06-29T12:37:50.344Z"
   },
   {
    "duration": 342,
    "start_time": "2021-06-29T12:38:58.703Z"
   },
   {
    "duration": 271,
    "start_time": "2021-06-29T12:40:17.674Z"
   },
   {
    "duration": 332,
    "start_time": "2021-06-29T12:41:05.122Z"
   },
   {
    "duration": 4,
    "start_time": "2021-06-29T12:42:13.856Z"
   },
   {
    "duration": 279,
    "start_time": "2021-06-29T12:43:23.464Z"
   },
   {
    "duration": 12,
    "start_time": "2021-06-29T12:43:38.560Z"
   },
   {
    "duration": 14,
    "start_time": "2021-06-29T12:43:48.575Z"
   },
   {
    "duration": 250,
    "start_time": "2021-06-29T12:46:22.856Z"
   },
   {
    "duration": 606,
    "start_time": "2021-06-29T12:49:31.510Z"
   },
   {
    "duration": 736,
    "start_time": "2021-06-29T12:49:32.124Z"
   },
   {
    "duration": 13,
    "start_time": "2021-06-29T12:49:32.863Z"
   },
   {
    "duration": 237,
    "start_time": "2021-06-29T12:49:32.878Z"
   },
   {
    "duration": 19,
    "start_time": "2021-06-29T12:49:33.124Z"
   },
   {
    "duration": 594,
    "start_time": "2021-06-29T12:49:33.750Z"
   },
   {
    "duration": 212,
    "start_time": "2021-06-29T12:49:34.347Z"
   },
   {
    "duration": 598,
    "start_time": "2021-06-29T12:49:35.367Z"
   },
   {
    "duration": 609,
    "start_time": "2021-06-29T12:49:36.054Z"
   },
   {
    "duration": 13,
    "start_time": "2021-06-29T12:49:36.677Z"
   },
   {
    "duration": 207,
    "start_time": "2021-06-29T12:49:36.931Z"
   },
   {
    "duration": 22,
    "start_time": "2021-06-29T12:49:37.333Z"
   },
   {
    "duration": 693,
    "start_time": "2021-06-29T12:49:38.088Z"
   },
   {
    "duration": 221,
    "start_time": "2021-06-29T12:49:38.784Z"
   },
   {
    "duration": 607,
    "start_time": "2021-06-29T12:49:39.008Z"
   },
   {
    "duration": 14,
    "start_time": "2021-06-29T12:49:39.618Z"
   },
   {
    "duration": 201,
    "start_time": "2021-06-29T12:49:39.845Z"
   },
   {
    "duration": 21,
    "start_time": "2021-06-29T12:55:54.420Z"
   },
   {
    "duration": 596,
    "start_time": "2021-06-29T12:55:55.432Z"
   },
   {
    "duration": 205,
    "start_time": "2021-06-29T12:55:56.208Z"
   },
   {
    "duration": 589,
    "start_time": "2021-06-29T12:55:58.184Z"
   },
   {
    "duration": 12,
    "start_time": "2021-06-29T12:55:59.383Z"
   },
   {
    "duration": 209,
    "start_time": "2021-06-29T12:56:00.167Z"
   },
   {
    "duration": 4,
    "start_time": "2021-06-29T12:56:00.943Z"
   },
   {
    "duration": 22,
    "start_time": "2021-06-29T12:56:01.658Z"
   },
   {
    "duration": 704,
    "start_time": "2021-06-29T12:56:02.784Z"
   },
   {
    "duration": 223,
    "start_time": "2021-06-29T12:56:03.490Z"
   },
   {
    "duration": 613,
    "start_time": "2021-06-29T12:56:05.023Z"
   },
   {
    "duration": 145,
    "start_time": "2021-06-29T12:56:05.640Z"
   },
   {
    "duration": 220,
    "start_time": "2021-06-29T12:56:05.789Z"
   },
   {
    "duration": 8,
    "start_time": "2021-06-29T12:56:06.181Z"
   },
   {
    "duration": 10,
    "start_time": "2021-06-29T12:56:07.319Z"
   },
   {
    "duration": 10,
    "start_time": "2021-06-29T12:56:08.878Z"
   },
   {
    "duration": 13,
    "start_time": "2021-06-29T12:56:09.215Z"
   },
   {
    "duration": 6,
    "start_time": "2021-06-29T12:56:09.615Z"
   },
   {
    "duration": 3,
    "start_time": "2021-06-29T12:56:10.374Z"
   },
   {
    "duration": 3,
    "start_time": "2021-06-29T12:56:10.759Z"
   },
   {
    "duration": 2,
    "start_time": "2021-06-29T12:56:11.128Z"
   },
   {
    "duration": 3,
    "start_time": "2021-06-29T12:56:11.512Z"
   },
   {
    "duration": 3,
    "start_time": "2021-06-29T12:56:12.616Z"
   },
   {
    "duration": 4,
    "start_time": "2021-06-29T12:56:16.151Z"
   },
   {
    "duration": 8,
    "start_time": "2021-06-29T12:56:16.439Z"
   },
   {
    "duration": 6,
    "start_time": "2021-06-29T12:56:16.702Z"
   },
   {
    "duration": 8,
    "start_time": "2021-06-29T12:56:22.961Z"
   },
   {
    "duration": 6,
    "start_time": "2021-06-29T12:56:30.775Z"
   },
   {
    "duration": 44,
    "start_time": "2021-06-29T12:56:33.662Z"
   },
   {
    "duration": 341,
    "start_time": "2021-06-29T12:56:34.518Z"
   },
   {
    "duration": 13,
    "start_time": "2021-06-29T12:56:36.183Z"
   },
   {
    "duration": 13,
    "start_time": "2021-06-29T12:56:36.560Z"
   },
   {
    "duration": 547,
    "start_time": "2021-06-29T12:56:37.294Z"
   },
   {
    "duration": 617,
    "start_time": "2021-06-29T12:56:37.845Z"
   },
   {
    "duration": 9,
    "start_time": "2021-06-29T12:56:38.465Z"
   },
   {
    "duration": 556,
    "start_time": "2021-06-29T12:56:39.471Z"
   },
   {
    "duration": 557,
    "start_time": "2021-06-29T12:56:40.030Z"
   },
   {
    "duration": 9,
    "start_time": "2021-06-29T12:56:40.590Z"
   },
   {
    "duration": 632,
    "start_time": "2021-06-29T12:56:41.607Z"
   },
   {
    "duration": 591,
    "start_time": "2021-06-29T12:56:42.243Z"
   },
   {
    "duration": 9,
    "start_time": "2021-06-29T12:56:42.837Z"
   },
   {
    "duration": 294,
    "start_time": "2021-06-29T12:56:43.759Z"
   },
   {
    "duration": 289,
    "start_time": "2021-06-29T12:56:44.086Z"
   },
   {
    "duration": 343,
    "start_time": "2021-06-29T12:57:39.026Z"
   },
   {
    "duration": 382,
    "start_time": "2021-06-29T12:57:43.617Z"
   },
   {
    "duration": 347,
    "start_time": "2021-06-29T12:57:46.928Z"
   },
   {
    "duration": 576,
    "start_time": "2021-06-29T12:57:58.849Z"
   },
   {
    "duration": 647,
    "start_time": "2021-06-29T12:58:02.088Z"
   },
   {
    "duration": 743,
    "start_time": "2021-06-29T12:58:06.800Z"
   },
   {
    "duration": 342,
    "start_time": "2021-06-29T12:58:39.753Z"
   },
   {
    "duration": 343,
    "start_time": "2021-06-29T12:58:47.657Z"
   },
   {
    "duration": 679,
    "start_time": "2021-06-29T12:58:57.245Z"
   },
   {
    "duration": 628,
    "start_time": "2021-06-29T12:59:04.969Z"
   },
   {
    "duration": 537,
    "start_time": "2021-06-29T12:59:46.860Z"
   },
   {
    "duration": 590,
    "start_time": "2021-06-29T12:59:56.850Z"
   },
   {
    "duration": 385,
    "start_time": "2021-06-29T13:01:03.566Z"
   },
   {
    "duration": 460,
    "start_time": "2021-06-29T13:01:10.121Z"
   },
   {
    "duration": 727,
    "start_time": "2021-06-29T13:01:16.705Z"
   },
   {
    "duration": 707,
    "start_time": "2021-06-29T13:01:21.553Z"
   },
   {
    "duration": 36,
    "start_time": "2021-06-29T13:18:10.085Z"
   },
   {
    "duration": 9282,
    "start_time": "2021-06-29T13:24:16.616Z"
   },
   {
    "duration": 8538,
    "start_time": "2021-06-29T13:24:42.045Z"
   },
   {
    "duration": 4,
    "start_time": "2021-06-29T13:25:28.642Z"
   },
   {
    "duration": 10,
    "start_time": "2021-06-29T13:26:03.477Z"
   },
   {
    "duration": 23,
    "start_time": "2021-06-29T13:26:59.529Z"
   },
   {
    "duration": 48,
    "start_time": "2021-06-29T13:27:43.694Z"
   },
   {
    "duration": 10,
    "start_time": "2021-06-29T13:28:36.525Z"
   },
   {
    "duration": 11,
    "start_time": "2021-06-29T13:28:57.025Z"
   },
   {
    "duration": 22,
    "start_time": "2021-06-29T13:30:27.577Z"
   },
   {
    "duration": 10,
    "start_time": "2021-06-29T13:30:39.579Z"
   },
   {
    "duration": 18,
    "start_time": "2021-06-29T13:30:41.116Z"
   },
   {
    "duration": 10,
    "start_time": "2021-06-29T13:32:17.486Z"
   },
   {
    "duration": 14,
    "start_time": "2021-06-29T13:32:19.516Z"
   },
   {
    "duration": 7,
    "start_time": "2021-06-29T13:32:38.003Z"
   },
   {
    "duration": 12,
    "start_time": "2021-06-29T13:32:40.563Z"
   },
   {
    "duration": 17813,
    "start_time": "2021-06-29T13:34:55.443Z"
   },
   {
    "duration": 15638,
    "start_time": "2021-06-29T13:35:17.611Z"
   },
   {
    "duration": 26043,
    "start_time": "2021-06-29T13:37:39.389Z"
   },
   {
    "duration": 15267,
    "start_time": "2021-06-29T13:41:28.463Z"
   },
   {
    "duration": 16078,
    "start_time": "2021-06-29T13:42:56.169Z"
   },
   {
    "duration": 57,
    "start_time": "2021-06-29T14:17:20.714Z"
   },
   {
    "duration": 6,
    "start_time": "2021-06-29T16:08:09.788Z"
   },
   {
    "duration": 123,
    "start_time": "2021-06-29T18:58:10.709Z"
   },
   {
    "duration": 1309,
    "start_time": "2021-06-29T19:08:54.458Z"
   },
   {
    "duration": 1641,
    "start_time": "2021-06-29T19:09:02.953Z"
   },
   {
    "duration": 321,
    "start_time": "2021-06-29T19:09:04.597Z"
   },
   {
    "duration": 50,
    "start_time": "2021-06-29T19:09:04.921Z"
   },
   {
    "duration": 28,
    "start_time": "2021-06-29T19:09:04.973Z"
   },
   {
    "duration": 82,
    "start_time": "2021-06-29T19:09:05.004Z"
   },
   {
    "duration": 3,
    "start_time": "2021-06-29T19:09:05.089Z"
   },
   {
    "duration": 22,
    "start_time": "2021-06-29T19:09:05.095Z"
   },
   {
    "duration": 7,
    "start_time": "2021-06-29T19:09:05.121Z"
   },
   {
    "duration": 13,
    "start_time": "2021-06-29T19:09:05.132Z"
   },
   {
    "duration": 20,
    "start_time": "2021-06-29T19:09:05.148Z"
   },
   {
    "duration": 10,
    "start_time": "2021-06-29T19:09:05.171Z"
   },
   {
    "duration": 11,
    "start_time": "2021-06-29T19:09:05.183Z"
   },
   {
    "duration": 7,
    "start_time": "2021-06-29T19:09:05.198Z"
   },
   {
    "duration": 56,
    "start_time": "2021-06-29T19:09:05.208Z"
   },
   {
    "duration": 20,
    "start_time": "2021-06-29T19:09:05.267Z"
   },
   {
    "duration": 3,
    "start_time": "2021-06-29T19:09:05.289Z"
   },
   {
    "duration": 19,
    "start_time": "2021-06-29T19:09:05.294Z"
   },
   {
    "duration": 46,
    "start_time": "2021-06-29T19:09:05.316Z"
   },
   {
    "duration": 25,
    "start_time": "2021-06-29T19:09:05.364Z"
   },
   {
    "duration": 29,
    "start_time": "2021-06-29T19:09:05.392Z"
   },
   {
    "duration": 14,
    "start_time": "2021-06-29T19:09:05.424Z"
   },
   {
    "duration": 44,
    "start_time": "2021-06-29T19:09:05.441Z"
   },
   {
    "duration": 17,
    "start_time": "2021-06-29T19:09:05.493Z"
   },
   {
    "duration": 36,
    "start_time": "2021-06-29T19:09:05.514Z"
   },
   {
    "duration": 12,
    "start_time": "2021-06-29T19:09:05.553Z"
   },
   {
    "duration": 25,
    "start_time": "2021-06-29T19:09:05.568Z"
   },
   {
    "duration": 33,
    "start_time": "2021-06-29T19:09:05.596Z"
   },
   {
    "duration": 584,
    "start_time": "2021-06-29T19:09:05.631Z"
   },
   {
    "duration": 6,
    "start_time": "2021-06-29T19:09:06.218Z"
   },
   {
    "duration": 3944,
    "start_time": "2021-06-29T19:09:06.227Z"
   },
   {
    "duration": 8,
    "start_time": "2021-06-29T19:09:10.174Z"
   },
   {
    "duration": 24,
    "start_time": "2021-06-29T19:09:10.185Z"
   },
   {
    "duration": 19,
    "start_time": "2021-06-29T19:09:10.212Z"
   },
   {
    "duration": 146,
    "start_time": "2021-06-29T19:09:10.233Z"
   },
   {
    "duration": 8,
    "start_time": "2021-06-29T19:09:10.382Z"
   },
   {
    "duration": 10,
    "start_time": "2021-06-29T19:09:10.393Z"
   },
   {
    "duration": 11,
    "start_time": "2021-06-29T19:09:10.406Z"
   },
   {
    "duration": 7,
    "start_time": "2021-06-29T19:09:10.419Z"
   },
   {
    "duration": 33,
    "start_time": "2021-06-29T19:09:10.429Z"
   },
   {
    "duration": 20,
    "start_time": "2021-06-29T19:09:10.465Z"
   },
   {
    "duration": 6484,
    "start_time": "2021-06-29T19:09:10.487Z"
   },
   {
    "duration": 5,
    "start_time": "2021-06-29T19:09:16.973Z"
   },
   {
    "duration": 30885,
    "start_time": "2021-06-29T19:09:16.980Z"
   },
   {
    "duration": 3,
    "start_time": "2021-06-29T19:09:47.867Z"
   },
   {
    "duration": 22,
    "start_time": "2021-06-29T19:09:47.872Z"
   },
   {
    "duration": 11,
    "start_time": "2021-06-29T19:09:47.897Z"
   },
   {
    "duration": 363,
    "start_time": "2021-06-29T19:09:47.910Z"
   },
   {
    "duration": 3,
    "start_time": "2021-06-29T19:09:48.275Z"
   },
   {
    "duration": 18,
    "start_time": "2021-06-29T19:09:48.281Z"
   },
   {
    "duration": 9,
    "start_time": "2021-06-29T19:09:48.301Z"
   },
   {
    "duration": 328,
    "start_time": "2021-06-29T19:09:48.312Z"
   },
   {
    "duration": 3,
    "start_time": "2021-06-29T19:09:48.642Z"
   },
   {
    "duration": 22,
    "start_time": "2021-06-29T19:09:48.647Z"
   },
   {
    "duration": 22,
    "start_time": "2021-06-29T19:09:48.672Z"
   },
   {
    "duration": 19,
    "start_time": "2021-06-29T19:09:48.697Z"
   },
   {
    "duration": 10,
    "start_time": "2021-06-29T19:09:48.719Z"
   },
   {
    "duration": 17,
    "start_time": "2021-06-29T19:09:48.731Z"
   },
   {
    "duration": 14,
    "start_time": "2021-06-29T19:09:48.751Z"
   },
   {
    "duration": 25,
    "start_time": "2021-06-29T19:09:48.767Z"
   },
   {
    "duration": 13,
    "start_time": "2021-06-29T19:09:48.795Z"
   },
   {
    "duration": 24,
    "start_time": "2021-06-29T19:09:48.810Z"
   },
   {
    "duration": 31,
    "start_time": "2021-06-29T19:09:48.836Z"
   },
   {
    "duration": 1899,
    "start_time": "2021-06-29T19:09:48.870Z"
   },
   {
    "duration": 5,
    "start_time": "2021-06-29T19:09:50.772Z"
   },
   {
    "duration": 9,
    "start_time": "2021-06-29T19:09:50.780Z"
   },
   {
    "duration": 236,
    "start_time": "2021-06-29T19:09:50.792Z"
   },
   {
    "duration": 6,
    "start_time": "2021-06-29T19:09:51.030Z"
   },
   {
    "duration": 16,
    "start_time": "2021-06-29T19:09:51.048Z"
   },
   {
    "duration": 295,
    "start_time": "2021-06-29T19:09:51.068Z"
   },
   {
    "duration": 2,
    "start_time": "2021-06-29T19:09:51.366Z"
   },
   {
    "duration": 10,
    "start_time": "2021-06-29T19:09:51.371Z"
   },
   {
    "duration": 12,
    "start_time": "2021-06-29T19:09:51.383Z"
   },
   {
    "duration": 8,
    "start_time": "2021-06-29T19:09:51.397Z"
   },
   {
    "duration": 10,
    "start_time": "2021-06-29T19:09:51.407Z"
   },
   {
    "duration": 20,
    "start_time": "2021-06-29T19:09:51.420Z"
   },
   {
    "duration": 24,
    "start_time": "2021-06-29T19:09:51.443Z"
   },
   {
    "duration": 39,
    "start_time": "2021-06-29T19:09:51.469Z"
   },
   {
    "duration": 22,
    "start_time": "2021-06-29T19:09:51.511Z"
   },
   {
    "duration": 27,
    "start_time": "2021-06-29T19:09:51.535Z"
   },
   {
    "duration": 5,
    "start_time": "2021-06-29T19:09:51.565Z"
   },
   {
    "duration": 18,
    "start_time": "2021-06-29T19:09:51.572Z"
   },
   {
    "duration": 37,
    "start_time": "2021-06-29T19:09:51.592Z"
   },
   {
    "duration": 3,
    "start_time": "2021-06-29T19:09:51.632Z"
   },
   {
    "duration": 11,
    "start_time": "2021-06-29T19:09:51.637Z"
   },
   {
    "duration": 739,
    "start_time": "2021-06-29T19:09:51.650Z"
   },
   {
    "duration": 12,
    "start_time": "2021-06-29T19:09:52.392Z"
   },
   {
    "duration": 13,
    "start_time": "2021-06-29T19:09:52.407Z"
   },
   {
    "duration": 23,
    "start_time": "2021-06-29T19:09:52.422Z"
   },
   {
    "duration": 90,
    "start_time": "2021-06-29T19:09:52.447Z"
   },
   {
    "duration": 2,
    "start_time": "2021-06-29T19:09:52.540Z"
   },
   {
    "duration": 31,
    "start_time": "2021-06-29T19:09:52.544Z"
   },
   {
    "duration": 12,
    "start_time": "2021-06-29T19:09:52.577Z"
   },
   {
    "duration": 13,
    "start_time": "2021-06-29T19:09:52.592Z"
   },
   {
    "duration": 11,
    "start_time": "2021-06-29T19:09:52.608Z"
   },
   {
    "duration": 40,
    "start_time": "2021-06-29T19:09:52.622Z"
   },
   {
    "duration": 4,
    "start_time": "2021-06-29T19:09:52.664Z"
   },
   {
    "duration": 29,
    "start_time": "2021-06-29T19:09:52.671Z"
   },
   {
    "duration": 29,
    "start_time": "2021-06-29T19:09:52.702Z"
   },
   {
    "duration": 32,
    "start_time": "2021-06-29T19:09:52.733Z"
   },
   {
    "duration": 43,
    "start_time": "2021-06-29T19:09:52.767Z"
   },
   {
    "duration": 36,
    "start_time": "2021-06-29T19:09:52.812Z"
   },
   {
    "duration": 213,
    "start_time": "2021-06-29T19:09:52.851Z"
   },
   {
    "duration": 658,
    "start_time": "2021-06-29T19:09:53.067Z"
   },
   {
    "duration": 743,
    "start_time": "2021-06-29T19:09:53.727Z"
   },
   {
    "duration": 12,
    "start_time": "2021-06-29T19:09:54.473Z"
   },
   {
    "duration": 262,
    "start_time": "2021-06-29T19:09:54.488Z"
   },
   {
    "duration": 27,
    "start_time": "2021-06-29T19:09:54.753Z"
   },
   {
    "duration": 692,
    "start_time": "2021-06-29T19:09:54.783Z"
   },
   {
    "duration": 240,
    "start_time": "2021-06-29T19:09:55.478Z"
   },
   {
    "duration": 100,
    "start_time": "2021-06-29T19:09:55.720Z"
   },
   {
    "duration": 37511,
    "start_time": "2021-06-29T19:09:18.311Z"
   },
   {
    "duration": 37504,
    "start_time": "2021-06-29T19:09:18.320Z"
   },
   {
    "duration": 37495,
    "start_time": "2021-06-29T19:09:18.330Z"
   },
   {
    "duration": 37488,
    "start_time": "2021-06-29T19:09:18.339Z"
   },
   {
    "duration": 37479,
    "start_time": "2021-06-29T19:09:18.349Z"
   },
   {
    "duration": 37472,
    "start_time": "2021-06-29T19:09:18.358Z"
   },
   {
    "duration": 37463,
    "start_time": "2021-06-29T19:09:18.368Z"
   },
   {
    "duration": 37454,
    "start_time": "2021-06-29T19:09:18.378Z"
   },
   {
    "duration": 37416,
    "start_time": "2021-06-29T19:09:18.418Z"
   },
   {
    "duration": 37407,
    "start_time": "2021-06-29T19:09:18.428Z"
   },
   {
    "duration": 37398,
    "start_time": "2021-06-29T19:09:18.438Z"
   },
   {
    "duration": 37390,
    "start_time": "2021-06-29T19:09:18.448Z"
   },
   {
    "duration": 37380,
    "start_time": "2021-06-29T19:09:18.459Z"
   },
   {
    "duration": 37370,
    "start_time": "2021-06-29T19:09:18.470Z"
   },
   {
    "duration": 37360,
    "start_time": "2021-06-29T19:09:18.481Z"
   },
   {
    "duration": 37352,
    "start_time": "2021-06-29T19:09:18.491Z"
   },
   {
    "duration": 37344,
    "start_time": "2021-06-29T19:09:18.501Z"
   },
   {
    "duration": 37336,
    "start_time": "2021-06-29T19:09:18.510Z"
   },
   {
    "duration": 37314,
    "start_time": "2021-06-29T19:09:18.533Z"
   },
   {
    "duration": 37305,
    "start_time": "2021-06-29T19:09:18.543Z"
   },
   {
    "duration": 37297,
    "start_time": "2021-06-29T19:09:18.553Z"
   },
   {
    "duration": 37288,
    "start_time": "2021-06-29T19:09:18.563Z"
   },
   {
    "duration": 37279,
    "start_time": "2021-06-29T19:09:18.573Z"
   },
   {
    "duration": 37270,
    "start_time": "2021-06-29T19:09:18.583Z"
   },
   {
    "duration": 37261,
    "start_time": "2021-06-29T19:09:18.593Z"
   },
   {
    "duration": 37254,
    "start_time": "2021-06-29T19:09:18.602Z"
   },
   {
    "duration": 37245,
    "start_time": "2021-06-29T19:09:18.612Z"
   },
   {
    "duration": 37238,
    "start_time": "2021-06-29T19:09:18.620Z"
   },
   {
    "duration": 37229,
    "start_time": "2021-06-29T19:09:18.630Z"
   },
   {
    "duration": 37212,
    "start_time": "2021-06-29T19:09:18.651Z"
   },
   {
    "duration": 37204,
    "start_time": "2021-06-29T19:09:18.661Z"
   },
   {
    "duration": 37196,
    "start_time": "2021-06-29T19:09:18.670Z"
   },
   {
    "duration": 37187,
    "start_time": "2021-06-29T19:09:18.680Z"
   },
   {
    "duration": 37179,
    "start_time": "2021-06-29T19:09:18.689Z"
   },
   {
    "duration": 37171,
    "start_time": "2021-06-29T19:09:18.698Z"
   },
   {
    "duration": 37163,
    "start_time": "2021-06-29T19:09:18.707Z"
   },
   {
    "duration": 37155,
    "start_time": "2021-06-29T19:09:18.717Z"
   },
   {
    "duration": 37148,
    "start_time": "2021-06-29T19:09:18.725Z"
   },
   {
    "duration": 37139,
    "start_time": "2021-06-29T19:09:18.735Z"
   },
   {
    "duration": 37085,
    "start_time": "2021-06-29T19:09:18.790Z"
   },
   {
    "duration": 37075,
    "start_time": "2021-06-29T19:09:18.801Z"
   },
   {
    "duration": 37067,
    "start_time": "2021-06-29T19:09:18.811Z"
   },
   {
    "duration": 37056,
    "start_time": "2021-06-29T19:09:18.823Z"
   },
   {
    "duration": 37044,
    "start_time": "2021-06-29T19:09:18.836Z"
   },
   {
    "duration": 37033,
    "start_time": "2021-06-29T19:09:18.848Z"
   },
   {
    "duration": 37025,
    "start_time": "2021-06-29T19:09:18.858Z"
   },
   {
    "duration": 37015,
    "start_time": "2021-06-29T19:09:18.869Z"
   },
   {
    "duration": 37006,
    "start_time": "2021-06-29T19:09:18.879Z"
   },
   {
    "duration": 36807,
    "start_time": "2021-06-29T19:09:19.079Z"
   },
   {
    "duration": 36775,
    "start_time": "2021-06-29T19:09:19.112Z"
   },
   {
    "duration": 36766,
    "start_time": "2021-06-29T19:09:19.123Z"
   },
   {
    "duration": 36757,
    "start_time": "2021-06-29T19:09:19.133Z"
   },
   {
    "duration": 36748,
    "start_time": "2021-06-29T19:09:19.143Z"
   },
   {
    "duration": 36740,
    "start_time": "2021-06-29T19:09:19.153Z"
   },
   {
    "duration": 36730,
    "start_time": "2021-06-29T19:09:19.164Z"
   },
   {
    "duration": 36723,
    "start_time": "2021-06-29T19:09:19.172Z"
   },
   {
    "duration": 36714,
    "start_time": "2021-06-29T19:09:19.182Z"
   },
   {
    "duration": 36706,
    "start_time": "2021-06-29T19:09:19.191Z"
   },
   {
    "duration": 36670,
    "start_time": "2021-06-29T19:09:19.229Z"
   },
   {
    "duration": 36662,
    "start_time": "2021-06-29T19:09:19.238Z"
   },
   {
    "duration": 36644,
    "start_time": "2021-06-29T19:09:19.257Z"
   },
   {
    "duration": 36695,
    "start_time": "2021-06-29T19:09:19.267Z"
   },
   {
    "duration": 36686,
    "start_time": "2021-06-29T19:09:19.277Z"
   },
   {
    "duration": 36658,
    "start_time": "2021-06-29T19:09:19.307Z"
   },
   {
    "duration": 36602,
    "start_time": "2021-06-29T19:09:19.364Z"
   },
   {
    "duration": 36553,
    "start_time": "2021-06-29T19:09:19.415Z"
   },
   {
    "duration": 36513,
    "start_time": "2021-06-29T19:09:19.456Z"
   },
   {
    "duration": 678,
    "start_time": "2021-06-29T19:10:01.578Z"
   },
   {
    "duration": 805,
    "start_time": "2021-06-29T19:10:27.888Z"
   },
   {
    "duration": 217,
    "start_time": "2021-06-29T19:11:21.469Z"
   },
   {
    "duration": 341,
    "start_time": "2021-06-29T19:11:25.134Z"
   },
   {
    "duration": 323,
    "start_time": "2021-06-29T19:11:27.824Z"
   },
   {
    "duration": 217,
    "start_time": "2021-06-29T19:12:40.053Z"
   },
   {
    "duration": 331,
    "start_time": "2021-06-29T19:12:41.107Z"
   },
   {
    "duration": 6,
    "start_time": "2021-06-29T19:12:45.364Z"
   },
   {
    "duration": 7,
    "start_time": "2021-06-29T19:12:48.993Z"
   },
   {
    "duration": 316,
    "start_time": "2021-06-29T19:12:52.731Z"
   },
   {
    "duration": 577,
    "start_time": "2021-06-29T19:12:55.359Z"
   },
   {
    "duration": 6,
    "start_time": "2021-06-29T19:13:43.358Z"
   },
   {
    "duration": 6,
    "start_time": "2021-06-29T19:14:02.319Z"
   },
   {
    "duration": 210,
    "start_time": "2021-06-29T19:14:17.671Z"
   },
   {
    "duration": 338,
    "start_time": "2021-06-29T19:15:47.379Z"
   },
   {
    "duration": 296,
    "start_time": "2021-06-29T19:15:58.651Z"
   },
   {
    "duration": 6,
    "start_time": "2021-06-29T19:15:59.239Z"
   },
   {
    "duration": 7,
    "start_time": "2021-06-29T19:15:59.545Z"
   },
   {
    "duration": 299,
    "start_time": "2021-06-29T19:16:30.056Z"
   },
   {
    "duration": 324,
    "start_time": "2021-06-29T19:16:33.704Z"
   },
   {
    "duration": 5,
    "start_time": "2021-06-29T19:16:39.495Z"
   },
   {
    "duration": 5,
    "start_time": "2021-06-29T19:16:56.608Z"
   },
   {
    "duration": 7,
    "start_time": "2021-06-29T19:17:04.751Z"
   },
   {
    "duration": 214,
    "start_time": "2021-06-29T19:17:49.266Z"
   },
   {
    "duration": 364,
    "start_time": "2021-06-29T19:20:08.207Z"
   },
   {
    "duration": 452,
    "start_time": "2021-06-29T19:21:30.929Z"
   },
   {
    "duration": 14728,
    "start_time": "2021-06-29T19:22:00.079Z"
   },
   {
    "duration": 1797,
    "start_time": "2021-06-29T19:22:30.694Z"
   },
   {
    "duration": 272,
    "start_time": "2021-06-29T19:22:32.494Z"
   },
   {
    "duration": 45,
    "start_time": "2021-06-29T19:22:32.769Z"
   },
   {
    "duration": 59,
    "start_time": "2021-06-29T19:22:32.817Z"
   },
   {
    "duration": 56,
    "start_time": "2021-06-29T19:22:32.878Z"
   },
   {
    "duration": 3,
    "start_time": "2021-06-29T19:22:32.936Z"
   },
   {
    "duration": 22,
    "start_time": "2021-06-29T19:22:32.941Z"
   },
   {
    "duration": 10,
    "start_time": "2021-06-29T19:22:32.967Z"
   },
   {
    "duration": 11,
    "start_time": "2021-06-29T19:22:32.980Z"
   },
   {
    "duration": 11,
    "start_time": "2021-06-29T19:22:32.993Z"
   },
   {
    "duration": 11,
    "start_time": "2021-06-29T19:22:33.007Z"
   },
   {
    "duration": 42,
    "start_time": "2021-06-29T19:22:33.021Z"
   },
   {
    "duration": 15,
    "start_time": "2021-06-29T19:22:33.065Z"
   },
   {
    "duration": 17,
    "start_time": "2021-06-29T19:22:33.082Z"
   },
   {
    "duration": 10,
    "start_time": "2021-06-29T19:22:33.101Z"
   },
   {
    "duration": 9,
    "start_time": "2021-06-29T19:22:33.113Z"
   },
   {
    "duration": 40,
    "start_time": "2021-06-29T19:22:33.124Z"
   },
   {
    "duration": 12,
    "start_time": "2021-06-29T19:22:33.166Z"
   },
   {
    "duration": 18,
    "start_time": "2021-06-29T19:22:33.181Z"
   },
   {
    "duration": 9,
    "start_time": "2021-06-29T19:22:33.201Z"
   },
   {
    "duration": 9,
    "start_time": "2021-06-29T19:22:33.213Z"
   },
   {
    "duration": 42,
    "start_time": "2021-06-29T19:22:33.224Z"
   },
   {
    "duration": 5,
    "start_time": "2021-06-29T19:22:33.272Z"
   },
   {
    "duration": 17,
    "start_time": "2021-06-29T19:22:33.281Z"
   },
   {
    "duration": 13,
    "start_time": "2021-06-29T19:22:33.300Z"
   },
   {
    "duration": 7,
    "start_time": "2021-06-29T19:22:33.315Z"
   },
   {
    "duration": 59,
    "start_time": "2021-06-29T19:22:33.324Z"
   },
   {
    "duration": 512,
    "start_time": "2021-06-29T19:22:33.386Z"
   },
   {
    "duration": 4,
    "start_time": "2021-06-29T19:22:33.901Z"
   },
   {
    "duration": 1727,
    "start_time": "2021-06-29T19:22:33.908Z"
   },
   {
    "duration": 4111,
    "start_time": "2021-06-29T19:22:35.637Z"
   },
   {
    "duration": 593,
    "start_time": "2021-06-29T19:22:39.751Z"
   },
   {
    "duration": 37379,
    "start_time": "2021-06-29T19:22:02.974Z"
   },
   {
    "duration": 37369,
    "start_time": "2021-06-29T19:22:02.986Z"
   },
   {
    "duration": 37360,
    "start_time": "2021-06-29T19:22:02.997Z"
   },
   {
    "duration": 37350,
    "start_time": "2021-06-29T19:22:03.009Z"
   },
   {
    "duration": 37341,
    "start_time": "2021-06-29T19:22:03.020Z"
   },
   {
    "duration": 37330,
    "start_time": "2021-06-29T19:22:03.033Z"
   },
   {
    "duration": 37288,
    "start_time": "2021-06-29T19:22:03.077Z"
   },
   {
    "duration": 37235,
    "start_time": "2021-06-29T19:22:03.132Z"
   },
   {
    "duration": 37177,
    "start_time": "2021-06-29T19:22:03.192Z"
   },
   {
    "duration": 37136,
    "start_time": "2021-06-29T19:22:03.235Z"
   },
   {
    "duration": 37128,
    "start_time": "2021-06-29T19:22:03.245Z"
   },
   {
    "duration": 37117,
    "start_time": "2021-06-29T19:22:03.257Z"
   },
   {
    "duration": 37109,
    "start_time": "2021-06-29T19:22:03.267Z"
   },
   {
    "duration": 37100,
    "start_time": "2021-06-29T19:22:03.278Z"
   },
   {
    "duration": 37092,
    "start_time": "2021-06-29T19:22:03.288Z"
   },
   {
    "duration": 37039,
    "start_time": "2021-06-29T19:22:03.344Z"
   },
   {
    "duration": 36978,
    "start_time": "2021-06-29T19:22:03.407Z"
   },
   {
    "duration": 36927,
    "start_time": "2021-06-29T19:22:03.460Z"
   },
   {
    "duration": 36829,
    "start_time": "2021-06-29T19:22:03.559Z"
   },
   {
    "duration": 36936,
    "start_time": "2021-06-29T19:22:03.569Z"
   },
   {
    "duration": 36927,
    "start_time": "2021-06-29T19:22:03.579Z"
   },
   {
    "duration": 36906,
    "start_time": "2021-06-29T19:22:03.602Z"
   },
   {
    "duration": 36897,
    "start_time": "2021-06-29T19:22:03.612Z"
   },
   {
    "duration": 36890,
    "start_time": "2021-06-29T19:22:03.621Z"
   },
   {
    "duration": 36882,
    "start_time": "2021-06-29T19:22:03.631Z"
   },
   {
    "duration": 36874,
    "start_time": "2021-06-29T19:22:03.640Z"
   },
   {
    "duration": 36866,
    "start_time": "2021-06-29T19:22:03.650Z"
   },
   {
    "duration": 36858,
    "start_time": "2021-06-29T19:22:03.659Z"
   },
   {
    "duration": 36851,
    "start_time": "2021-06-29T19:22:03.668Z"
   },
   {
    "duration": 36843,
    "start_time": "2021-06-29T19:22:03.677Z"
   },
   {
    "duration": 36835,
    "start_time": "2021-06-29T19:22:03.686Z"
   },
   {
    "duration": 36828,
    "start_time": "2021-06-29T19:22:03.695Z"
   },
   {
    "duration": 36805,
    "start_time": "2021-06-29T19:22:03.719Z"
   },
   {
    "duration": 36834,
    "start_time": "2021-06-29T19:22:03.728Z"
   },
   {
    "duration": 36825,
    "start_time": "2021-06-29T19:22:03.738Z"
   },
   {
    "duration": 36818,
    "start_time": "2021-06-29T19:22:03.746Z"
   },
   {
    "duration": 36810,
    "start_time": "2021-06-29T19:22:03.756Z"
   },
   {
    "duration": 36802,
    "start_time": "2021-06-29T19:22:03.765Z"
   },
   {
    "duration": 36793,
    "start_time": "2021-06-29T19:22:03.775Z"
   },
   {
    "duration": 36785,
    "start_time": "2021-06-29T19:22:03.784Z"
   },
   {
    "duration": 36777,
    "start_time": "2021-06-29T19:22:03.794Z"
   },
   {
    "duration": 36770,
    "start_time": "2021-06-29T19:22:03.803Z"
   },
   {
    "duration": 36763,
    "start_time": "2021-06-29T19:22:03.812Z"
   },
   {
    "duration": 36743,
    "start_time": "2021-06-29T19:22:03.833Z"
   },
   {
    "duration": 36734,
    "start_time": "2021-06-29T19:22:03.843Z"
   },
   {
    "duration": 36727,
    "start_time": "2021-06-29T19:22:03.852Z"
   },
   {
    "duration": 36719,
    "start_time": "2021-06-29T19:22:03.862Z"
   },
   {
    "duration": 36711,
    "start_time": "2021-06-29T19:22:03.871Z"
   },
   {
    "duration": 36693,
    "start_time": "2021-06-29T19:22:03.891Z"
   },
   {
    "duration": 36676,
    "start_time": "2021-06-29T19:22:03.909Z"
   },
   {
    "duration": 36667,
    "start_time": "2021-06-29T19:22:03.920Z"
   },
   {
    "duration": 36649,
    "start_time": "2021-06-29T19:22:03.939Z"
   },
   {
    "duration": 36618,
    "start_time": "2021-06-29T19:22:03.971Z"
   },
   {
    "duration": 36587,
    "start_time": "2021-06-29T19:22:04.004Z"
   },
   {
    "duration": 36552,
    "start_time": "2021-06-29T19:22:04.040Z"
   },
   {
    "duration": 36519,
    "start_time": "2021-06-29T19:22:04.074Z"
   },
   {
    "duration": 36470,
    "start_time": "2021-06-29T19:22:04.124Z"
   },
   {
    "duration": 36462,
    "start_time": "2021-06-29T19:22:04.134Z"
   },
   {
    "duration": 36452,
    "start_time": "2021-06-29T19:22:04.145Z"
   },
   {
    "duration": 36444,
    "start_time": "2021-06-29T19:22:04.154Z"
   },
   {
    "duration": 36434,
    "start_time": "2021-06-29T19:22:04.165Z"
   },
   {
    "duration": 36487,
    "start_time": "2021-06-29T19:22:04.177Z"
   },
   {
    "duration": 36475,
    "start_time": "2021-06-29T19:22:04.190Z"
   },
   {
    "duration": 36465,
    "start_time": "2021-06-29T19:22:04.201Z"
   },
   {
    "duration": 36454,
    "start_time": "2021-06-29T19:22:04.214Z"
   },
   {
    "duration": 36424,
    "start_time": "2021-06-29T19:22:04.245Z"
   },
   {
    "duration": 36371,
    "start_time": "2021-06-29T19:22:04.299Z"
   },
   {
    "duration": 36346,
    "start_time": "2021-06-29T19:22:04.326Z"
   },
   {
    "duration": 35715,
    "start_time": "2021-06-29T19:22:04.958Z"
   },
   {
    "duration": 35683,
    "start_time": "2021-06-29T19:22:04.991Z"
   },
   {
    "duration": 35635,
    "start_time": "2021-06-29T19:22:05.040Z"
   },
   {
    "duration": 35601,
    "start_time": "2021-06-29T19:22:05.076Z"
   },
   {
    "duration": 35590,
    "start_time": "2021-06-29T19:22:05.088Z"
   },
   {
    "duration": 35581,
    "start_time": "2021-06-29T19:22:05.098Z"
   },
   {
    "duration": 35570,
    "start_time": "2021-06-29T19:22:05.110Z"
   },
   {
    "duration": 35561,
    "start_time": "2021-06-29T19:22:05.120Z"
   },
   {
    "duration": 35552,
    "start_time": "2021-06-29T19:22:05.131Z"
   },
   {
    "duration": 35543,
    "start_time": "2021-06-29T19:22:05.141Z"
   },
   {
    "duration": 35533,
    "start_time": "2021-06-29T19:22:05.152Z"
   },
   {
    "duration": 35526,
    "start_time": "2021-06-29T19:22:05.161Z"
   },
   {
    "duration": 35421,
    "start_time": "2021-06-29T19:22:05.267Z"
   },
   {
    "duration": 35411,
    "start_time": "2021-06-29T19:22:05.278Z"
   },
   {
    "duration": 35402,
    "start_time": "2021-06-29T19:22:05.289Z"
   },
   {
    "duration": 35367,
    "start_time": "2021-06-29T19:22:05.325Z"
   },
   {
    "duration": 35304,
    "start_time": "2021-06-29T19:22:05.389Z"
   },
   {
    "duration": 35273,
    "start_time": "2021-06-29T19:22:05.422Z"
   },
   {
    "duration": 35239,
    "start_time": "2021-06-29T19:22:05.457Z"
   },
   {
    "duration": 35206,
    "start_time": "2021-06-29T19:22:05.491Z"
   },
   {
    "duration": 35057,
    "start_time": "2021-06-29T19:22:05.641Z"
   },
   {
    "duration": 35050,
    "start_time": "2021-06-29T19:22:05.650Z"
   },
   {
    "duration": 35041,
    "start_time": "2021-06-29T19:22:05.660Z"
   },
   {
    "duration": 35093,
    "start_time": "2021-06-29T19:22:05.669Z"
   },
   {
    "duration": 35083,
    "start_time": "2021-06-29T19:22:05.680Z"
   },
   {
    "duration": 35075,
    "start_time": "2021-06-29T19:22:05.689Z"
   },
   {
    "duration": 35067,
    "start_time": "2021-06-29T19:22:05.699Z"
   },
   {
    "duration": 35059,
    "start_time": "2021-06-29T19:22:05.708Z"
   },
   {
    "duration": 35051,
    "start_time": "2021-06-29T19:22:05.717Z"
   },
   {
    "duration": 35045,
    "start_time": "2021-06-29T19:22:05.725Z"
   },
   {
    "duration": 35036,
    "start_time": "2021-06-29T19:22:05.735Z"
   },
   {
    "duration": 35019,
    "start_time": "2021-06-29T19:22:05.754Z"
   },
   {
    "duration": 34956,
    "start_time": "2021-06-29T19:22:05.818Z"
   },
   {
    "duration": 34948,
    "start_time": "2021-06-29T19:22:05.827Z"
   },
   {
    "duration": 34940,
    "start_time": "2021-06-29T19:22:05.836Z"
   },
   {
    "duration": 34933,
    "start_time": "2021-06-29T19:22:05.845Z"
   },
   {
    "duration": 34915,
    "start_time": "2021-06-29T19:22:05.864Z"
   },
   {
    "duration": 34906,
    "start_time": "2021-06-29T19:22:05.874Z"
   },
   {
    "duration": 34897,
    "start_time": "2021-06-29T19:22:05.884Z"
   },
   {
    "duration": 34871,
    "start_time": "2021-06-29T19:22:05.912Z"
   },
   {
    "duration": 34800,
    "start_time": "2021-06-29T19:22:05.984Z"
   },
   {
    "duration": 34783,
    "start_time": "2021-06-29T19:22:06.002Z"
   },
   {
    "duration": 34774,
    "start_time": "2021-06-29T19:22:06.012Z"
   },
   {
    "duration": 34767,
    "start_time": "2021-06-29T19:22:06.021Z"
   },
   {
    "duration": 34756,
    "start_time": "2021-06-29T19:22:06.033Z"
   },
   {
    "duration": 34747,
    "start_time": "2021-06-29T19:22:06.043Z"
   },
   {
    "duration": 34389,
    "start_time": "2021-06-29T19:22:06.402Z"
   },
   {
    "duration": 34382,
    "start_time": "2021-06-29T19:22:06.411Z"
   },
   {
    "duration": 34357,
    "start_time": "2021-06-29T19:22:06.437Z"
   },
   {
    "duration": 34349,
    "start_time": "2021-06-29T19:22:06.446Z"
   },
   {
    "duration": 34340,
    "start_time": "2021-06-29T19:22:06.457Z"
   },
   {
    "duration": 34331,
    "start_time": "2021-06-29T19:22:06.467Z"
   },
   {
    "duration": 34322,
    "start_time": "2021-06-29T19:22:06.477Z"
   },
   {
    "duration": 34375,
    "start_time": "2021-06-29T19:22:06.486Z"
   },
   {
    "duration": 34368,
    "start_time": "2021-06-29T19:22:06.495Z"
   },
   {
    "duration": 34360,
    "start_time": "2021-06-29T19:22:06.504Z"
   },
   {
    "duration": 34352,
    "start_time": "2021-06-29T19:22:06.513Z"
   },
   {
    "duration": 34344,
    "start_time": "2021-06-29T19:22:06.523Z"
   },
   {
    "duration": 34336,
    "start_time": "2021-06-29T19:22:06.532Z"
   },
   {
    "duration": 34316,
    "start_time": "2021-06-29T19:22:06.553Z"
   },
   {
    "duration": 34308,
    "start_time": "2021-06-29T19:22:06.563Z"
   },
   {
    "duration": 34298,
    "start_time": "2021-06-29T19:22:06.574Z"
   },
   {
    "duration": 34287,
    "start_time": "2021-06-29T19:22:06.586Z"
   },
   {
    "duration": 34278,
    "start_time": "2021-06-29T19:22:06.596Z"
   },
   {
    "duration": 34269,
    "start_time": "2021-06-29T19:22:06.607Z"
   },
   {
    "duration": 34259,
    "start_time": "2021-06-29T19:22:06.618Z"
   },
   {
    "duration": 34251,
    "start_time": "2021-06-29T19:22:06.628Z"
   },
   {
    "duration": 34241,
    "start_time": "2021-06-29T19:22:06.639Z"
   },
   {
    "duration": 34233,
    "start_time": "2021-06-29T19:22:06.648Z"
   },
   {
    "duration": 34214,
    "start_time": "2021-06-29T19:22:06.669Z"
   },
   {
    "duration": 34206,
    "start_time": "2021-06-29T19:22:06.678Z"
   },
   {
    "duration": 34199,
    "start_time": "2021-06-29T19:22:06.687Z"
   },
   {
    "duration": 34179,
    "start_time": "2021-06-29T19:22:06.708Z"
   },
   {
    "duration": 34152,
    "start_time": "2021-06-29T19:22:06.737Z"
   },
   {
    "duration": 34145,
    "start_time": "2021-06-29T19:22:06.746Z"
   },
   {
    "duration": 34136,
    "start_time": "2021-06-29T19:22:06.756Z"
   },
   {
    "duration": 34118,
    "start_time": "2021-06-29T19:22:06.776Z"
   },
   {
    "duration": 3588,
    "start_time": "2021-06-29T19:27:36.339Z"
   },
   {
    "duration": 3834,
    "start_time": "2021-06-29T19:29:13.038Z"
   }
  ],
  "kernelspec": {
   "display_name": "Python 3",
   "language": "python",
   "name": "python3"
  },
  "language_info": {
   "codemirror_mode": {
    "name": "ipython",
    "version": 3
   },
   "file_extension": ".py",
   "mimetype": "text/x-python",
   "name": "python",
   "nbconvert_exporter": "python",
   "pygments_lexer": "ipython3",
   "version": "3.8.5"
  },
  "toc": {
   "base_numbering": 1,
   "nav_menu": {},
   "number_sections": true,
   "sideBar": true,
   "skip_h1_title": true,
   "title_cell": "Table of Contents",
   "title_sidebar": "Contents",
   "toc_cell": false,
   "toc_position": {},
   "toc_section_display": true,
   "toc_window_display": false
  }
 },
 "nbformat": 4,
 "nbformat_minor": 2
}
