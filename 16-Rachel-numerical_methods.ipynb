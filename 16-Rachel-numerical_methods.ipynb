{
 "cells": [
  {
   "cell_type": "markdown",
   "metadata": {},
   "source": [
    "**Review**\n",
    "\t  \n",
    "Hi, my name is Dmitry and I will be reviewing your project.\n",
    "  \n",
    "You can find my comments in colored markdown cells:\n",
    "  \n",
    "<div class=\"alert alert-success\">\n",
    "  If everything is done successfully.\n",
    "</div>\n",
    "  \n",
    "<div class=\"alert alert-warning\">\n",
    "  If I have some (optional) suggestions, or questions to think about, or general comments.\n",
    "</div>\n",
    "  \n",
    "<div class=\"alert alert-danger\">\n",
    "  If a section requires some corrections. Work can't be accepted with red comments.\n",
    "</div>\n",
    "  \n",
    "Please don't remove my comments, as it will make further review iterations much harder for me.\n",
    "  \n",
    "Feel free to reply to my comments or ask questions using the following template:\n",
    "  \n",
    "<div class=\"alert alert-info\">\n",
    "  For your comments and questions.\n",
    "</div>\n",
    "  \n",
    "First of all, thank you for turning in the project! You did an excellent job! The project was a pleasure to review. Keep up the good work on the next sprint! :)"
   ]
  },
  {
   "cell_type": "markdown",
   "metadata": {},
   "source": [
    "# Used car price prediction"
   ]
  },
  {
   "cell_type": "markdown",
   "metadata": {},
   "source": [
    "#### Finding the value market of a used car using the following features: \n",
    " VehicleType, RegistrationYear, Gearbox, Power, Model, Mileage, RegistrationMonth, FuelType, Brand, NotRepaired, NumberOfPictures and PostalCode. "
   ]
  },
  {
   "cell_type": "markdown",
   "metadata": {},
   "source": [
    "## 1. Data preprocessing"
   ]
  },
  {
   "cell_type": "code",
   "execution_count": 1,
   "metadata": {},
   "outputs": [],
   "source": [
    "import numpy as np \n",
    "import pandas as pd \n",
    "import sklearn.metrics\n",
    "import time as t\n",
    "import matplotlib.pyplot as plt \n",
    "import seaborn as sns \n",
    "from sklearn.impute import SimpleImputer, KNNImputer \n",
    "from sklearn.preprocessing import OneHotEncoder, MinMaxScaler, OrdinalEncoder, StandardScaler \n",
    "from sklearn.compose import ColumnTransformer\n",
    "from sklearn.pipeline import Pipeline\n",
    "from sklearn.metrics import mean_squared_error \n",
    "from sklearn.experimental import enable_halving_search_cv \n",
    "from sklearn.model_selection import train_test_split, cross_validate, GridSearchCV, HalvingGridSearchCV\n",
    "from sklearn.ensemble import AdaBoostRegressor, GradientBoostingRegressor, HistGradientBoostingRegressor, RandomForestRegressor\n",
    "from sklearn.linear_model import LinearRegression, ElasticNet, SGDRegressor \n",
    "from sklearn import set_config\n",
    "import warnings\n",
    "warnings.filterwarnings(\"ignore\")"
   ]
  },
  {
   "cell_type": "code",
   "execution_count": 2,
   "metadata": {},
   "outputs": [],
   "source": [
    "try:\n",
    "    df= pd.read_csv('car_data.csv')\n",
    "except:\n",
    "    df= pd.read_csv('/datasets/car_data.csv')"
   ]
  },
  {
   "cell_type": "code",
   "execution_count": 3,
   "metadata": {},
   "outputs": [
    {
     "data": {
      "text/html": [
       "<div>\n",
       "<style scoped>\n",
       "    .dataframe tbody tr th:only-of-type {\n",
       "        vertical-align: middle;\n",
       "    }\n",
       "\n",
       "    .dataframe tbody tr th {\n",
       "        vertical-align: top;\n",
       "    }\n",
       "\n",
       "    .dataframe thead th {\n",
       "        text-align: right;\n",
       "    }\n",
       "</style>\n",
       "<table border=\"1\" class=\"dataframe\">\n",
       "  <thead>\n",
       "    <tr style=\"text-align: right;\">\n",
       "      <th></th>\n",
       "      <th>DateCrawled</th>\n",
       "      <th>Price</th>\n",
       "      <th>VehicleType</th>\n",
       "      <th>RegistrationYear</th>\n",
       "      <th>Gearbox</th>\n",
       "      <th>Power</th>\n",
       "      <th>Model</th>\n",
       "      <th>Mileage</th>\n",
       "      <th>RegistrationMonth</th>\n",
       "      <th>FuelType</th>\n",
       "      <th>Brand</th>\n",
       "      <th>NotRepaired</th>\n",
       "      <th>DateCreated</th>\n",
       "      <th>NumberOfPictures</th>\n",
       "      <th>PostalCode</th>\n",
       "      <th>LastSeen</th>\n",
       "    </tr>\n",
       "  </thead>\n",
       "  <tbody>\n",
       "    <tr>\n",
       "      <th>0</th>\n",
       "      <td>24/03/2016 11:52</td>\n",
       "      <td>480</td>\n",
       "      <td>NaN</td>\n",
       "      <td>1993</td>\n",
       "      <td>manual</td>\n",
       "      <td>0</td>\n",
       "      <td>golf</td>\n",
       "      <td>150000</td>\n",
       "      <td>0</td>\n",
       "      <td>petrol</td>\n",
       "      <td>volkswagen</td>\n",
       "      <td>NaN</td>\n",
       "      <td>24/03/2016 00:00</td>\n",
       "      <td>0</td>\n",
       "      <td>70435</td>\n",
       "      <td>07/04/2016 03:16</td>\n",
       "    </tr>\n",
       "    <tr>\n",
       "      <th>1</th>\n",
       "      <td>24/03/2016 10:58</td>\n",
       "      <td>18300</td>\n",
       "      <td>coupe</td>\n",
       "      <td>2011</td>\n",
       "      <td>manual</td>\n",
       "      <td>190</td>\n",
       "      <td>NaN</td>\n",
       "      <td>125000</td>\n",
       "      <td>5</td>\n",
       "      <td>gasoline</td>\n",
       "      <td>audi</td>\n",
       "      <td>yes</td>\n",
       "      <td>24/03/2016 00:00</td>\n",
       "      <td>0</td>\n",
       "      <td>66954</td>\n",
       "      <td>07/04/2016 01:46</td>\n",
       "    </tr>\n",
       "    <tr>\n",
       "      <th>2</th>\n",
       "      <td>14/03/2016 12:52</td>\n",
       "      <td>9800</td>\n",
       "      <td>suv</td>\n",
       "      <td>2004</td>\n",
       "      <td>auto</td>\n",
       "      <td>163</td>\n",
       "      <td>grand</td>\n",
       "      <td>125000</td>\n",
       "      <td>8</td>\n",
       "      <td>gasoline</td>\n",
       "      <td>jeep</td>\n",
       "      <td>NaN</td>\n",
       "      <td>14/03/2016 00:00</td>\n",
       "      <td>0</td>\n",
       "      <td>90480</td>\n",
       "      <td>05/04/2016 12:47</td>\n",
       "    </tr>\n",
       "    <tr>\n",
       "      <th>3</th>\n",
       "      <td>17/03/2016 16:54</td>\n",
       "      <td>1500</td>\n",
       "      <td>small</td>\n",
       "      <td>2001</td>\n",
       "      <td>manual</td>\n",
       "      <td>75</td>\n",
       "      <td>golf</td>\n",
       "      <td>150000</td>\n",
       "      <td>6</td>\n",
       "      <td>petrol</td>\n",
       "      <td>volkswagen</td>\n",
       "      <td>no</td>\n",
       "      <td>17/03/2016 00:00</td>\n",
       "      <td>0</td>\n",
       "      <td>91074</td>\n",
       "      <td>17/03/2016 17:40</td>\n",
       "    </tr>\n",
       "    <tr>\n",
       "      <th>4</th>\n",
       "      <td>31/03/2016 17:25</td>\n",
       "      <td>3600</td>\n",
       "      <td>small</td>\n",
       "      <td>2008</td>\n",
       "      <td>manual</td>\n",
       "      <td>69</td>\n",
       "      <td>fabia</td>\n",
       "      <td>90000</td>\n",
       "      <td>7</td>\n",
       "      <td>gasoline</td>\n",
       "      <td>skoda</td>\n",
       "      <td>no</td>\n",
       "      <td>31/03/2016 00:00</td>\n",
       "      <td>0</td>\n",
       "      <td>60437</td>\n",
       "      <td>06/04/2016 10:17</td>\n",
       "    </tr>\n",
       "  </tbody>\n",
       "</table>\n",
       "</div>"
      ],
      "text/plain": [
       "        DateCrawled  Price VehicleType  RegistrationYear Gearbox  Power  \\\n",
       "0  24/03/2016 11:52    480         NaN              1993  manual      0   \n",
       "1  24/03/2016 10:58  18300       coupe              2011  manual    190   \n",
       "2  14/03/2016 12:52   9800         suv              2004    auto    163   \n",
       "3  17/03/2016 16:54   1500       small              2001  manual     75   \n",
       "4  31/03/2016 17:25   3600       small              2008  manual     69   \n",
       "\n",
       "   Model  Mileage  RegistrationMonth  FuelType       Brand NotRepaired  \\\n",
       "0   golf   150000                  0    petrol  volkswagen         NaN   \n",
       "1    NaN   125000                  5  gasoline        audi         yes   \n",
       "2  grand   125000                  8  gasoline        jeep         NaN   \n",
       "3   golf   150000                  6    petrol  volkswagen          no   \n",
       "4  fabia    90000                  7  gasoline       skoda          no   \n",
       "\n",
       "        DateCreated  NumberOfPictures  PostalCode          LastSeen  \n",
       "0  24/03/2016 00:00                 0       70435  07/04/2016 03:16  \n",
       "1  24/03/2016 00:00                 0       66954  07/04/2016 01:46  \n",
       "2  14/03/2016 00:00                 0       90480  05/04/2016 12:47  \n",
       "3  17/03/2016 00:00                 0       91074  17/03/2016 17:40  \n",
       "4  31/03/2016 00:00                 0       60437  06/04/2016 10:17  "
      ]
     },
     "execution_count": 3,
     "metadata": {},
     "output_type": "execute_result"
    }
   ],
   "source": [
    "df.head()"
   ]
  },
  {
   "cell_type": "markdown",
   "metadata": {},
   "source": [
    "- the different dates in the dataset are on the whole irrelevant to a car's price, so let's remove the date features:"
   ]
  },
  {
   "cell_type": "code",
   "execution_count": 4,
   "metadata": {},
   "outputs": [
    {
     "data": {
      "text/html": [
       "<div>\n",
       "<style scoped>\n",
       "    .dataframe tbody tr th:only-of-type {\n",
       "        vertical-align: middle;\n",
       "    }\n",
       "\n",
       "    .dataframe tbody tr th {\n",
       "        vertical-align: top;\n",
       "    }\n",
       "\n",
       "    .dataframe thead th {\n",
       "        text-align: right;\n",
       "    }\n",
       "</style>\n",
       "<table border=\"1\" class=\"dataframe\">\n",
       "  <thead>\n",
       "    <tr style=\"text-align: right;\">\n",
       "      <th></th>\n",
       "      <th>Price</th>\n",
       "      <th>VehicleType</th>\n",
       "      <th>RegistrationYear</th>\n",
       "      <th>Gearbox</th>\n",
       "      <th>Power</th>\n",
       "      <th>Model</th>\n",
       "      <th>Mileage</th>\n",
       "      <th>RegistrationMonth</th>\n",
       "      <th>FuelType</th>\n",
       "      <th>Brand</th>\n",
       "      <th>NotRepaired</th>\n",
       "      <th>NumberOfPictures</th>\n",
       "      <th>PostalCode</th>\n",
       "    </tr>\n",
       "  </thead>\n",
       "  <tbody>\n",
       "    <tr>\n",
       "      <th>0</th>\n",
       "      <td>480</td>\n",
       "      <td>NaN</td>\n",
       "      <td>1993</td>\n",
       "      <td>manual</td>\n",
       "      <td>0</td>\n",
       "      <td>golf</td>\n",
       "      <td>150000</td>\n",
       "      <td>0</td>\n",
       "      <td>petrol</td>\n",
       "      <td>volkswagen</td>\n",
       "      <td>NaN</td>\n",
       "      <td>0</td>\n",
       "      <td>70435</td>\n",
       "    </tr>\n",
       "    <tr>\n",
       "      <th>1</th>\n",
       "      <td>18300</td>\n",
       "      <td>coupe</td>\n",
       "      <td>2011</td>\n",
       "      <td>manual</td>\n",
       "      <td>190</td>\n",
       "      <td>NaN</td>\n",
       "      <td>125000</td>\n",
       "      <td>5</td>\n",
       "      <td>gasoline</td>\n",
       "      <td>audi</td>\n",
       "      <td>yes</td>\n",
       "      <td>0</td>\n",
       "      <td>66954</td>\n",
       "    </tr>\n",
       "    <tr>\n",
       "      <th>2</th>\n",
       "      <td>9800</td>\n",
       "      <td>suv</td>\n",
       "      <td>2004</td>\n",
       "      <td>auto</td>\n",
       "      <td>163</td>\n",
       "      <td>grand</td>\n",
       "      <td>125000</td>\n",
       "      <td>8</td>\n",
       "      <td>gasoline</td>\n",
       "      <td>jeep</td>\n",
       "      <td>NaN</td>\n",
       "      <td>0</td>\n",
       "      <td>90480</td>\n",
       "    </tr>\n",
       "    <tr>\n",
       "      <th>3</th>\n",
       "      <td>1500</td>\n",
       "      <td>small</td>\n",
       "      <td>2001</td>\n",
       "      <td>manual</td>\n",
       "      <td>75</td>\n",
       "      <td>golf</td>\n",
       "      <td>150000</td>\n",
       "      <td>6</td>\n",
       "      <td>petrol</td>\n",
       "      <td>volkswagen</td>\n",
       "      <td>no</td>\n",
       "      <td>0</td>\n",
       "      <td>91074</td>\n",
       "    </tr>\n",
       "    <tr>\n",
       "      <th>4</th>\n",
       "      <td>3600</td>\n",
       "      <td>small</td>\n",
       "      <td>2008</td>\n",
       "      <td>manual</td>\n",
       "      <td>69</td>\n",
       "      <td>fabia</td>\n",
       "      <td>90000</td>\n",
       "      <td>7</td>\n",
       "      <td>gasoline</td>\n",
       "      <td>skoda</td>\n",
       "      <td>no</td>\n",
       "      <td>0</td>\n",
       "      <td>60437</td>\n",
       "    </tr>\n",
       "  </tbody>\n",
       "</table>\n",
       "</div>"
      ],
      "text/plain": [
       "   Price VehicleType  RegistrationYear Gearbox  Power  Model  Mileage  \\\n",
       "0    480         NaN              1993  manual      0   golf   150000   \n",
       "1  18300       coupe              2011  manual    190    NaN   125000   \n",
       "2   9800         suv              2004    auto    163  grand   125000   \n",
       "3   1500       small              2001  manual     75   golf   150000   \n",
       "4   3600       small              2008  manual     69  fabia    90000   \n",
       "\n",
       "   RegistrationMonth  FuelType       Brand NotRepaired  NumberOfPictures  \\\n",
       "0                  0    petrol  volkswagen         NaN                 0   \n",
       "1                  5  gasoline        audi         yes                 0   \n",
       "2                  8  gasoline        jeep         NaN                 0   \n",
       "3                  6    petrol  volkswagen          no                 0   \n",
       "4                  7  gasoline       skoda          no                 0   \n",
       "\n",
       "   PostalCode  \n",
       "0       70435  \n",
       "1       66954  \n",
       "2       90480  \n",
       "3       91074  \n",
       "4       60437  "
      ]
     },
     "execution_count": 4,
     "metadata": {},
     "output_type": "execute_result"
    }
   ],
   "source": [
    "df= df.drop(['DateCrawled', 'DateCreated', 'LastSeen'], axis=1)\n",
    "df.head()"
   ]
  },
  {
   "cell_type": "code",
   "execution_count": 5,
   "metadata": {},
   "outputs": [
    {
     "data": {
      "text/plain": [
       "(354369, 13)"
      ]
     },
     "execution_count": 5,
     "metadata": {},
     "output_type": "execute_result"
    }
   ],
   "source": [
    "df.shape"
   ]
  },
  {
   "cell_type": "code",
   "execution_count": 6,
   "metadata": {},
   "outputs": [
    {
     "data": {
      "text/plain": [
       "Price                    0\n",
       "VehicleType          37490\n",
       "RegistrationYear         0\n",
       "Gearbox              19833\n",
       "Power                    0\n",
       "Model                19705\n",
       "Mileage                  0\n",
       "RegistrationMonth        0\n",
       "FuelType             32895\n",
       "Brand                    0\n",
       "NotRepaired          71154\n",
       "NumberOfPictures         0\n",
       "PostalCode               0\n",
       "dtype: int64"
      ]
     },
     "execution_count": 6,
     "metadata": {},
     "output_type": "execute_result"
    }
   ],
   "source": [
    "df.isna().sum()"
   ]
  },
  {
   "cell_type": "markdown",
   "metadata": {},
   "source": [
    "<div class=\"alert alert-success\">\n",
    "<b>Reviewer's comment</b>\n",
    "\t  \n",
    "Alright, the data was loaded and inspected!\n",
    "\t  \n",
    "</div>"
   ]
  },
  {
   "cell_type": "markdown",
   "metadata": {},
   "source": [
    "- although the entries with missing values constitute about 20% of the data, ~245,000 samples are quit enough for a regression problem, so we can drop missing values:"
   ]
  },
  {
   "cell_type": "markdown",
   "metadata": {},
   "source": [
    "<div class=\"alert alert-success\">\n",
    "<b>Reviewer's comment</b>\n",
    "\t  \n",
    "Okay, that's reasonable!\n",
    "\t  \n",
    "</div>"
   ]
  },
  {
   "cell_type": "code",
   "execution_count": 7,
   "metadata": {},
   "outputs": [
    {
     "name": "stdout",
     "output_type": "stream",
     "text": [
      "<class 'pandas.core.frame.DataFrame'>\n",
      "RangeIndex: 245814 entries, 0 to 245813\n",
      "Data columns (total 13 columns):\n",
      " #   Column             Non-Null Count   Dtype \n",
      "---  ------             --------------   ----- \n",
      " 0   Price              245814 non-null  int64 \n",
      " 1   VehicleType        245814 non-null  object\n",
      " 2   RegistrationYear   245814 non-null  int64 \n",
      " 3   Gearbox            245814 non-null  object\n",
      " 4   Power              245814 non-null  int64 \n",
      " 5   Model              245814 non-null  object\n",
      " 6   Mileage            245814 non-null  int64 \n",
      " 7   RegistrationMonth  245814 non-null  int64 \n",
      " 8   FuelType           245814 non-null  object\n",
      " 9   Brand              245814 non-null  object\n",
      " 10  NotRepaired        245814 non-null  object\n",
      " 11  NumberOfPictures   245814 non-null  int64 \n",
      " 12  PostalCode         245814 non-null  int64 \n",
      "dtypes: int64(7), object(6)\n",
      "memory usage: 24.4+ MB\n"
     ]
    }
   ],
   "source": [
    "df= df.dropna().reset_index(drop=True)\n",
    "df.info()"
   ]
  },
  {
   "cell_type": "code",
   "execution_count": 8,
   "metadata": {},
   "outputs": [
    {
     "data": {
      "text/html": [
       "<div>\n",
       "<style scoped>\n",
       "    .dataframe tbody tr th:only-of-type {\n",
       "        vertical-align: middle;\n",
       "    }\n",
       "\n",
       "    .dataframe tbody tr th {\n",
       "        vertical-align: top;\n",
       "    }\n",
       "\n",
       "    .dataframe thead th {\n",
       "        text-align: right;\n",
       "    }\n",
       "</style>\n",
       "<table border=\"1\" class=\"dataframe\">\n",
       "  <thead>\n",
       "    <tr style=\"text-align: right;\">\n",
       "      <th></th>\n",
       "      <th>count</th>\n",
       "      <th>mean</th>\n",
       "      <th>std</th>\n",
       "      <th>min</th>\n",
       "      <th>25%</th>\n",
       "      <th>50%</th>\n",
       "      <th>75%</th>\n",
       "      <th>max</th>\n",
       "      <th>low_outliers</th>\n",
       "      <th>high_outliers</th>\n",
       "    </tr>\n",
       "  </thead>\n",
       "  <tbody>\n",
       "    <tr>\n",
       "      <th>Price</th>\n",
       "      <td>245814.0</td>\n",
       "      <td>5125.346717</td>\n",
       "      <td>4717.948673</td>\n",
       "      <td>0.0</td>\n",
       "      <td>1499.0</td>\n",
       "      <td>3500.0</td>\n",
       "      <td>7500.0</td>\n",
       "      <td>20000.0</td>\n",
       "      <td>-7502.5</td>\n",
       "      <td>16501.5</td>\n",
       "    </tr>\n",
       "    <tr>\n",
       "      <th>RegistrationYear</th>\n",
       "      <td>245814.0</td>\n",
       "      <td>2002.918699</td>\n",
       "      <td>6.163765</td>\n",
       "      <td>1910.0</td>\n",
       "      <td>1999.0</td>\n",
       "      <td>2003.0</td>\n",
       "      <td>2007.0</td>\n",
       "      <td>2018.0</td>\n",
       "      <td>1987.0</td>\n",
       "      <td>2019.0</td>\n",
       "    </tr>\n",
       "    <tr>\n",
       "      <th>Power</th>\n",
       "      <td>245814.0</td>\n",
       "      <td>119.970884</td>\n",
       "      <td>139.387116</td>\n",
       "      <td>0.0</td>\n",
       "      <td>75.0</td>\n",
       "      <td>110.0</td>\n",
       "      <td>150.0</td>\n",
       "      <td>20000.0</td>\n",
       "      <td>-37.5</td>\n",
       "      <td>262.5</td>\n",
       "    </tr>\n",
       "    <tr>\n",
       "      <th>Mileage</th>\n",
       "      <td>245814.0</td>\n",
       "      <td>127296.716216</td>\n",
       "      <td>37078.820368</td>\n",
       "      <td>5000.0</td>\n",
       "      <td>125000.0</td>\n",
       "      <td>150000.0</td>\n",
       "      <td>150000.0</td>\n",
       "      <td>150000.0</td>\n",
       "      <td>87500.0</td>\n",
       "      <td>187500.0</td>\n",
       "    </tr>\n",
       "    <tr>\n",
       "      <th>RegistrationMonth</th>\n",
       "      <td>245814.0</td>\n",
       "      <td>6.179701</td>\n",
       "      <td>3.479519</td>\n",
       "      <td>0.0</td>\n",
       "      <td>3.0</td>\n",
       "      <td>6.0</td>\n",
       "      <td>9.0</td>\n",
       "      <td>12.0</td>\n",
       "      <td>-6.0</td>\n",
       "      <td>18.0</td>\n",
       "    </tr>\n",
       "    <tr>\n",
       "      <th>NumberOfPictures</th>\n",
       "      <td>245814.0</td>\n",
       "      <td>0.000000</td>\n",
       "      <td>0.000000</td>\n",
       "      <td>0.0</td>\n",
       "      <td>0.0</td>\n",
       "      <td>0.0</td>\n",
       "      <td>0.0</td>\n",
       "      <td>0.0</td>\n",
       "      <td>0.0</td>\n",
       "      <td>0.0</td>\n",
       "    </tr>\n",
       "    <tr>\n",
       "      <th>PostalCode</th>\n",
       "      <td>245814.0</td>\n",
       "      <td>51463.186002</td>\n",
       "      <td>25838.058847</td>\n",
       "      <td>1067.0</td>\n",
       "      <td>30966.0</td>\n",
       "      <td>50769.0</td>\n",
       "      <td>72379.0</td>\n",
       "      <td>99998.0</td>\n",
       "      <td>-31153.5</td>\n",
       "      <td>134498.5</td>\n",
       "    </tr>\n",
       "  </tbody>\n",
       "</table>\n",
       "</div>"
      ],
      "text/plain": [
       "                      count           mean           std     min       25%  \\\n",
       "Price              245814.0    5125.346717   4717.948673     0.0    1499.0   \n",
       "RegistrationYear   245814.0    2002.918699      6.163765  1910.0    1999.0   \n",
       "Power              245814.0     119.970884    139.387116     0.0      75.0   \n",
       "Mileage            245814.0  127296.716216  37078.820368  5000.0  125000.0   \n",
       "RegistrationMonth  245814.0       6.179701      3.479519     0.0       3.0   \n",
       "NumberOfPictures   245814.0       0.000000      0.000000     0.0       0.0   \n",
       "PostalCode         245814.0   51463.186002  25838.058847  1067.0   30966.0   \n",
       "\n",
       "                        50%       75%       max  low_outliers  high_outliers  \n",
       "Price                3500.0    7500.0   20000.0       -7502.5        16501.5  \n",
       "RegistrationYear     2003.0    2007.0    2018.0        1987.0         2019.0  \n",
       "Power                 110.0     150.0   20000.0         -37.5          262.5  \n",
       "Mileage            150000.0  150000.0  150000.0       87500.0       187500.0  \n",
       "RegistrationMonth       6.0       9.0      12.0          -6.0           18.0  \n",
       "NumberOfPictures        0.0       0.0       0.0           0.0            0.0  \n",
       "PostalCode          50769.0   72379.0   99998.0      -31153.5       134498.5  "
      ]
     },
     "execution_count": 8,
     "metadata": {},
     "output_type": "execute_result"
    }
   ],
   "source": [
    "numerical_data= df.select_dtypes(include='number')\n",
    "numerical_data_statistics = numerical_data.describe(percentiles=[.25, .75]).T\n",
    "numerical_data_statistics['low_outliers']= numerical_data_statistics['25%'] - 1.5*(numerical_data_statistics['75%']- numerical_data_statistics['25%'])\n",
    "numerical_data_statistics['high_outliers']= numerical_data_statistics['75%'] + 1.5*(numerical_data_statistics['75%']- numerical_data_statistics['25%'])\n",
    "numerical_data_statistics"
   ]
  },
  {
   "cell_type": "markdown",
   "metadata": {},
   "source": [
    "- as can be seen, we can drop the 'NumberOfPictures' feature which has no added value since it has only 1 value. \n",
    "- we can also drop the PostalCode feature as it has little to do with the actual car itself and although it's a numeric. it's actually a categorical feature in nature and treating it as numeric by the estimators might through it off. \n",
    "- RegistrationMonth is also redundant in determining a car's price.\n",
    "- we can get rid of outliers as well."
   ]
  },
  {
   "cell_type": "markdown",
   "metadata": {},
   "source": [
    "<div class=\"alert alert-success\">\n",
    "<b>Reviewer's comment</b>\n",
    "\t  \n",
    "Excellent points!\n",
    "\t  \n",
    "</div>"
   ]
  },
  {
   "cell_type": "code",
   "execution_count": 9,
   "metadata": {},
   "outputs": [],
   "source": [
    "df= df.drop(['NumberOfPictures', 'PostalCode', 'RegistrationMonth'], axis=1)"
   ]
  },
  {
   "cell_type": "code",
   "execution_count": 10,
   "metadata": {},
   "outputs": [
    {
     "name": "stdout",
     "output_type": "stream",
     "text": [
      "<class 'pandas.core.frame.DataFrame'>\n",
      "RangeIndex: 196583 entries, 0 to 196582\n",
      "Data columns (total 10 columns):\n",
      " #   Column            Non-Null Count   Dtype \n",
      "---  ------            --------------   ----- \n",
      " 0   Price             196583 non-null  int64 \n",
      " 1   VehicleType       196583 non-null  object\n",
      " 2   RegistrationYear  196583 non-null  int64 \n",
      " 3   Gearbox           196583 non-null  object\n",
      " 4   Power             196583 non-null  int64 \n",
      " 5   Model             196583 non-null  object\n",
      " 6   Mileage           196583 non-null  int64 \n",
      " 7   FuelType          196583 non-null  object\n",
      " 8   Brand             196583 non-null  object\n",
      " 9   NotRepaired       196583 non-null  object\n",
      "dtypes: int64(4), object(6)\n",
      "memory usage: 15.0+ MB\n"
     ]
    }
   ],
   "source": [
    "outliers= df[(df['Price']>16501.5) | (df['RegistrationYear']<1987) | (df['Power']> 262.5) | (df['Mileage']<87500)]\n",
    "df= df.drop(outliers.index).reset_index(drop=True)\n",
    "df.info() "
   ]
  },
  {
   "cell_type": "markdown",
   "metadata": {},
   "source": [
    "<div class=\"alert alert-success\">\n",
    "<b>Reviewer's comment</b>\n",
    "\t  \n",
    "Great, outliers were detected and removed!\n",
    "\t  \n",
    "</div>"
   ]
  },
  {
   "cell_type": "code",
   "execution_count": 11,
   "metadata": {},
   "outputs": [],
   "source": [
    "X= df.drop('Price', axis=1)\n",
    "y= df['Price']"
   ]
  },
  {
   "cell_type": "code",
   "execution_count": 12,
   "metadata": {},
   "outputs": [],
   "source": [
    "X_train, X_test, y_train, y_test= train_test_split(X, y, test_size=0.3, random_state=42)"
   ]
  },
  {
   "cell_type": "markdown",
   "metadata": {},
   "source": [
    "<div class=\"alert alert-success\">\n",
    "<b>Reviewer's comment</b>\n",
    "\t  \n",
    "The data was split into train and test sets. The proportion is reasonable\n",
    "\t  \n",
    "</div>"
   ]
  },
  {
   "cell_type": "code",
   "execution_count": 13,
   "metadata": {},
   "outputs": [
    {
     "name": "stdout",
     "output_type": "stream",
     "text": [
      "(137608, 9) (137608,)\n"
     ]
    }
   ],
   "source": [
    "print(X_train.shape, y_train.shape)"
   ]
  },
  {
   "cell_type": "markdown",
   "metadata": {},
   "source": [
    "Setting up the preprocessing Pipeline:"
   ]
  },
  {
   "cell_type": "code",
   "execution_count": 14,
   "metadata": {},
   "outputs": [
    {
     "data": {
      "text/plain": [
       "['RegistrationYear', 'Power', 'Mileage']"
      ]
     },
     "execution_count": 14,
     "metadata": {},
     "output_type": "execute_result"
    }
   ],
   "source": [
    "numerical_features= X_train.select_dtypes(include='number').columns.to_list()\n",
    "numerical_features"
   ]
  },
  {
   "cell_type": "code",
   "execution_count": 15,
   "metadata": {},
   "outputs": [
    {
     "data": {
      "text/plain": [
       "['VehicleType', 'Gearbox', 'Model', 'FuelType', 'Brand', 'NotRepaired']"
      ]
     },
     "execution_count": 15,
     "metadata": {},
     "output_type": "execute_result"
    }
   ],
   "source": [
    "categorical_features= X_train.select_dtypes(exclude='number').columns.to_list()\n",
    "categorical_features"
   ]
  },
  {
   "cell_type": "code",
   "execution_count": 16,
   "metadata": {},
   "outputs": [],
   "source": [
    "numeric_pipeline = Pipeline(steps=[\n",
    "    ('scale', StandardScaler())\n",
    "])\n",
    "\n",
    "\n",
    "categorical_pipeline = Pipeline(steps=[\n",
    "    ('one-hot', OneHotEncoder(handle_unknown='ignore', drop='if_binary'))\n",
    "])"
   ]
  },
  {
   "cell_type": "code",
   "execution_count": 17,
   "metadata": {},
   "outputs": [],
   "source": [
    "preprocessor = ColumnTransformer(transformers=[\n",
    "    ('number', numeric_pipeline, numerical_features),\n",
    "    ('category', categorical_pipeline, categorical_features)\n",
    "])"
   ]
  },
  {
   "cell_type": "markdown",
   "metadata": {},
   "source": [
    "<div class=\"alert alert-success\">\n",
    "<b>Reviewer's comment</b>\n",
    "\t  \n",
    "Great use of pipelines and ColumnTransformer!\n",
    "    \n",
    "</div>"
   ]
  },
  {
   "cell_type": "markdown",
   "metadata": {},
   "source": [
    "## 2. Model training and comparison"
   ]
  },
  {
   "cell_type": "markdown",
   "metadata": {},
   "source": [
    "#### Linear Regression"
   ]
  },
  {
   "cell_type": "code",
   "execution_count": 18,
   "metadata": {},
   "outputs": [],
   "source": [
    "linear_model= LinearRegression()\n",
    "linear_pipeline= Pipeline(steps=[('preprocesing', preprocessor), ('linear_regression', linear_model)])"
   ]
  },
  {
   "cell_type": "code",
   "execution_count": 19,
   "metadata": {},
   "outputs": [
    {
     "data": {
      "text/html": [
       "<style>#sk-5c2ac337-e589-49dd-85a6-4a1dadbdf5b7 {color: black;background-color: white;}#sk-5c2ac337-e589-49dd-85a6-4a1dadbdf5b7 pre{padding: 0;}#sk-5c2ac337-e589-49dd-85a6-4a1dadbdf5b7 div.sk-toggleable {background-color: white;}#sk-5c2ac337-e589-49dd-85a6-4a1dadbdf5b7 label.sk-toggleable__label {cursor: pointer;display: block;width: 100%;margin-bottom: 0;padding: 0.3em;box-sizing: border-box;text-align: center;}#sk-5c2ac337-e589-49dd-85a6-4a1dadbdf5b7 div.sk-toggleable__content {max-height: 0;max-width: 0;overflow: hidden;text-align: left;background-color: #f0f8ff;}#sk-5c2ac337-e589-49dd-85a6-4a1dadbdf5b7 div.sk-toggleable__content pre {margin: 0.2em;color: black;border-radius: 0.25em;background-color: #f0f8ff;}#sk-5c2ac337-e589-49dd-85a6-4a1dadbdf5b7 input.sk-toggleable__control:checked~div.sk-toggleable__content {max-height: 200px;max-width: 100%;overflow: auto;}#sk-5c2ac337-e589-49dd-85a6-4a1dadbdf5b7 div.sk-estimator input.sk-toggleable__control:checked~label.sk-toggleable__label {background-color: #d4ebff;}#sk-5c2ac337-e589-49dd-85a6-4a1dadbdf5b7 div.sk-label input.sk-toggleable__control:checked~label.sk-toggleable__label {background-color: #d4ebff;}#sk-5c2ac337-e589-49dd-85a6-4a1dadbdf5b7 input.sk-hidden--visually {border: 0;clip: rect(1px 1px 1px 1px);clip: rect(1px, 1px, 1px, 1px);height: 1px;margin: -1px;overflow: hidden;padding: 0;position: absolute;width: 1px;}#sk-5c2ac337-e589-49dd-85a6-4a1dadbdf5b7 div.sk-estimator {font-family: monospace;background-color: #f0f8ff;border: 1px dotted black;border-radius: 0.25em;box-sizing: border-box;margin-bottom: 0.5em;}#sk-5c2ac337-e589-49dd-85a6-4a1dadbdf5b7 div.sk-estimator:hover {background-color: #d4ebff;}#sk-5c2ac337-e589-49dd-85a6-4a1dadbdf5b7 div.sk-parallel-item::after {content: \"\";width: 100%;border-bottom: 1px solid gray;flex-grow: 1;}#sk-5c2ac337-e589-49dd-85a6-4a1dadbdf5b7 div.sk-label:hover label.sk-toggleable__label {background-color: #d4ebff;}#sk-5c2ac337-e589-49dd-85a6-4a1dadbdf5b7 div.sk-serial::before {content: \"\";position: absolute;border-left: 1px solid gray;box-sizing: border-box;top: 2em;bottom: 0;left: 50%;}#sk-5c2ac337-e589-49dd-85a6-4a1dadbdf5b7 div.sk-serial {display: flex;flex-direction: column;align-items: center;background-color: white;padding-right: 0.2em;padding-left: 0.2em;}#sk-5c2ac337-e589-49dd-85a6-4a1dadbdf5b7 div.sk-item {z-index: 1;}#sk-5c2ac337-e589-49dd-85a6-4a1dadbdf5b7 div.sk-parallel {display: flex;align-items: stretch;justify-content: center;background-color: white;}#sk-5c2ac337-e589-49dd-85a6-4a1dadbdf5b7 div.sk-parallel::before {content: \"\";position: absolute;border-left: 1px solid gray;box-sizing: border-box;top: 2em;bottom: 0;left: 50%;}#sk-5c2ac337-e589-49dd-85a6-4a1dadbdf5b7 div.sk-parallel-item {display: flex;flex-direction: column;position: relative;background-color: white;}#sk-5c2ac337-e589-49dd-85a6-4a1dadbdf5b7 div.sk-parallel-item:first-child::after {align-self: flex-end;width: 50%;}#sk-5c2ac337-e589-49dd-85a6-4a1dadbdf5b7 div.sk-parallel-item:last-child::after {align-self: flex-start;width: 50%;}#sk-5c2ac337-e589-49dd-85a6-4a1dadbdf5b7 div.sk-parallel-item:only-child::after {width: 0;}#sk-5c2ac337-e589-49dd-85a6-4a1dadbdf5b7 div.sk-dashed-wrapped {border: 1px dashed gray;margin: 0 0.4em 0.5em 0.4em;box-sizing: border-box;padding-bottom: 0.4em;background-color: white;position: relative;}#sk-5c2ac337-e589-49dd-85a6-4a1dadbdf5b7 div.sk-label label {font-family: monospace;font-weight: bold;background-color: white;display: inline-block;line-height: 1.2em;}#sk-5c2ac337-e589-49dd-85a6-4a1dadbdf5b7 div.sk-label-container {position: relative;z-index: 2;text-align: center;}#sk-5c2ac337-e589-49dd-85a6-4a1dadbdf5b7 div.sk-container {display: inline-block;position: relative;}</style><div id=\"sk-5c2ac337-e589-49dd-85a6-4a1dadbdf5b7\" class\"sk-top-container\"><div class=\"sk-container\"><div class=\"sk-item sk-dashed-wrapped\"><div class=\"sk-label-container\"><div class=\"sk-label sk-toggleable\"><input class=\"sk-toggleable__control sk-hidden--visually\" id=\"b840aed5-33d6-45ae-9ff2-17b817a1e97d\" type=\"checkbox\" ><label class=\"sk-toggleable__label\" for=\"b840aed5-33d6-45ae-9ff2-17b817a1e97d\">Pipeline</label><div class=\"sk-toggleable__content\"><pre>Pipeline(steps=[('preprocesing',\n",
       "                 ColumnTransformer(transformers=[('number',\n",
       "                                                  Pipeline(steps=[('scale',\n",
       "                                                                   StandardScaler())]),\n",
       "                                                  ['RegistrationYear', 'Power',\n",
       "                                                   'Mileage']),\n",
       "                                                 ('category',\n",
       "                                                  Pipeline(steps=[('one-hot',\n",
       "                                                                   OneHotEncoder(drop='if_binary',\n",
       "                                                                                 handle_unknown='ignore'))]),\n",
       "                                                  ['VehicleType', 'Gearbox',\n",
       "                                                   'Model', 'FuelType', 'Brand',\n",
       "                                                   'NotRepaired'])])),\n",
       "                ('linear_regression', LinearRegression())])</pre></div></div></div><div class=\"sk-serial\"><div class=\"sk-item sk-dashed-wrapped\"><div class=\"sk-label-container\"><div class=\"sk-label sk-toggleable\"><input class=\"sk-toggleable__control sk-hidden--visually\" id=\"d0aada09-b903-4e22-899f-ca3488f35940\" type=\"checkbox\" ><label class=\"sk-toggleable__label\" for=\"d0aada09-b903-4e22-899f-ca3488f35940\">preprocesing: ColumnTransformer</label><div class=\"sk-toggleable__content\"><pre>ColumnTransformer(transformers=[('number',\n",
       "                                 Pipeline(steps=[('scale', StandardScaler())]),\n",
       "                                 ['RegistrationYear', 'Power', 'Mileage']),\n",
       "                                ('category',\n",
       "                                 Pipeline(steps=[('one-hot',\n",
       "                                                  OneHotEncoder(drop='if_binary',\n",
       "                                                                handle_unknown='ignore'))]),\n",
       "                                 ['VehicleType', 'Gearbox', 'Model', 'FuelType',\n",
       "                                  'Brand', 'NotRepaired'])])</pre></div></div></div><div class=\"sk-parallel\"><div class=\"sk-parallel-item\"><div class=\"sk-item\"><div class=\"sk-label-container\"><div class=\"sk-label sk-toggleable\"><input class=\"sk-toggleable__control sk-hidden--visually\" id=\"25b1c82a-d1c5-47d0-9fd7-af7646b3a931\" type=\"checkbox\" ><label class=\"sk-toggleable__label\" for=\"25b1c82a-d1c5-47d0-9fd7-af7646b3a931\">number</label><div class=\"sk-toggleable__content\"><pre>['RegistrationYear', 'Power', 'Mileage']</pre></div></div></div><div class=\"sk-serial\"><div class=\"sk-item\"><div class=\"sk-serial\"><div class=\"sk-item\"><div class=\"sk-estimator sk-toggleable\"><input class=\"sk-toggleable__control sk-hidden--visually\" id=\"de6e16a3-f397-46ee-bcec-ccd365f8cbf5\" type=\"checkbox\" ><label class=\"sk-toggleable__label\" for=\"de6e16a3-f397-46ee-bcec-ccd365f8cbf5\">StandardScaler</label><div class=\"sk-toggleable__content\"><pre>StandardScaler()</pre></div></div></div></div></div></div></div></div><div class=\"sk-parallel-item\"><div class=\"sk-item\"><div class=\"sk-label-container\"><div class=\"sk-label sk-toggleable\"><input class=\"sk-toggleable__control sk-hidden--visually\" id=\"3cbdd94d-efde-4fe5-b249-3ea1a7ae0392\" type=\"checkbox\" ><label class=\"sk-toggleable__label\" for=\"3cbdd94d-efde-4fe5-b249-3ea1a7ae0392\">category</label><div class=\"sk-toggleable__content\"><pre>['VehicleType', 'Gearbox', 'Model', 'FuelType', 'Brand', 'NotRepaired']</pre></div></div></div><div class=\"sk-serial\"><div class=\"sk-item\"><div class=\"sk-serial\"><div class=\"sk-item\"><div class=\"sk-estimator sk-toggleable\"><input class=\"sk-toggleable__control sk-hidden--visually\" id=\"02114a1f-9f7b-409f-a9ac-4723d9957537\" type=\"checkbox\" ><label class=\"sk-toggleable__label\" for=\"02114a1f-9f7b-409f-a9ac-4723d9957537\">OneHotEncoder</label><div class=\"sk-toggleable__content\"><pre>OneHotEncoder(drop='if_binary', handle_unknown='ignore')</pre></div></div></div></div></div></div></div></div></div></div><div class=\"sk-item\"><div class=\"sk-estimator sk-toggleable\"><input class=\"sk-toggleable__control sk-hidden--visually\" id=\"dc6b650b-fe13-4bc6-ad8e-b3fc52ff2947\" type=\"checkbox\" ><label class=\"sk-toggleable__label\" for=\"dc6b650b-fe13-4bc6-ad8e-b3fc52ff2947\">LinearRegression</label><div class=\"sk-toggleable__content\"><pre>LinearRegression()</pre></div></div></div></div></div></div></div>"
      ],
      "text/plain": [
       "Pipeline(steps=[('preprocesing',\n",
       "                 ColumnTransformer(transformers=[('number',\n",
       "                                                  Pipeline(steps=[('scale',\n",
       "                                                                   StandardScaler())]),\n",
       "                                                  ['RegistrationYear', 'Power',\n",
       "                                                   'Mileage']),\n",
       "                                                 ('category',\n",
       "                                                  Pipeline(steps=[('one-hot',\n",
       "                                                                   OneHotEncoder(drop='if_binary',\n",
       "                                                                                 handle_unknown='ignore'))]),\n",
       "                                                  ['VehicleType', 'Gearbox',\n",
       "                                                   'Model', 'FuelType', 'Brand',\n",
       "                                                   'NotRepaired'])])),\n",
       "                ('linear_regression', LinearRegression())])"
      ]
     },
     "execution_count": 19,
     "metadata": {},
     "output_type": "execute_result"
    }
   ],
   "source": [
    "set_config(display='diagram')\n",
    "linear_pipeline"
   ]
  },
  {
   "cell_type": "code",
   "execution_count": 20,
   "metadata": {},
   "outputs": [
    {
     "name": "stdout",
     "output_type": "stream",
     "text": [
      "runtime: 22.3\n"
     ]
    }
   ],
   "source": [
    "start = t.time()\n",
    "linear_scores= cross_validate(linear_pipeline , X_train, y_train, cv=5, scoring='neg_mean_squared_error')\n",
    "end= t.time()\n",
    "print('runtime:', round((end - start),1))"
   ]
  },
  {
   "cell_type": "code",
   "execution_count": 21,
   "metadata": {},
   "outputs": [
    {
     "data": {
      "text/plain": [
       "1920.1"
      ]
     },
     "execution_count": 21,
     "metadata": {},
     "output_type": "execute_result"
    }
   ],
   "source": [
    "rmse_linear= np.sqrt(-linear_scores['test_score'].mean()).round(1)\n",
    "rmse_linear"
   ]
  },
  {
   "cell_type": "code",
   "execution_count": 22,
   "metadata": {},
   "outputs": [
    {
     "data": {
      "text/plain": [
       "1921.9"
      ]
     },
     "execution_count": 22,
     "metadata": {},
     "output_type": "execute_result"
    }
   ],
   "source": [
    "linear_pipeline.fit(X_train, y_train)\n",
    "linearRegression_prediction= linear_pipeline.predict(X_test)\n",
    "test_score_linearRegression= np.sqrt(mean_squared_error(y_test, linearRegression_prediction)).round(1)\n",
    "test_score_linearRegression"
   ]
  },
  {
   "cell_type": "markdown",
   "metadata": {},
   "source": [
    "#### ElasticNetRegressor"
   ]
  },
  {
   "cell_type": "code",
   "execution_count": 23,
   "metadata": {},
   "outputs": [],
   "source": [
    "elastic_model= ElasticNet(random_state=42)\n",
    "elastic_pipeline= Pipeline(steps=[('preprocesing', preprocessor), ('elastic_model', elastic_model)])"
   ]
  },
  {
   "cell_type": "code",
   "execution_count": 24,
   "metadata": {},
   "outputs": [],
   "source": [
    "#elastic_pipeline.get_params().keys()"
   ]
  },
  {
   "cell_type": "code",
   "execution_count": 25,
   "metadata": {},
   "outputs": [],
   "source": [
    "params= dict(elastic_model__l1_ratio= [.1, .5, .7, .9, .95, .99, 1], elastic_model__alpha= [0.5, 1, 1.5], elastic_model__max_iter= [10000])"
   ]
  },
  {
   "cell_type": "code",
   "execution_count": 26,
   "metadata": {},
   "outputs": [
    {
     "data": {
      "text/html": [
       "<style>#sk-fb922280-d6df-46b5-a67f-2551aafa68dc {color: black;background-color: white;}#sk-fb922280-d6df-46b5-a67f-2551aafa68dc pre{padding: 0;}#sk-fb922280-d6df-46b5-a67f-2551aafa68dc div.sk-toggleable {background-color: white;}#sk-fb922280-d6df-46b5-a67f-2551aafa68dc label.sk-toggleable__label {cursor: pointer;display: block;width: 100%;margin-bottom: 0;padding: 0.3em;box-sizing: border-box;text-align: center;}#sk-fb922280-d6df-46b5-a67f-2551aafa68dc div.sk-toggleable__content {max-height: 0;max-width: 0;overflow: hidden;text-align: left;background-color: #f0f8ff;}#sk-fb922280-d6df-46b5-a67f-2551aafa68dc div.sk-toggleable__content pre {margin: 0.2em;color: black;border-radius: 0.25em;background-color: #f0f8ff;}#sk-fb922280-d6df-46b5-a67f-2551aafa68dc input.sk-toggleable__control:checked~div.sk-toggleable__content {max-height: 200px;max-width: 100%;overflow: auto;}#sk-fb922280-d6df-46b5-a67f-2551aafa68dc div.sk-estimator input.sk-toggleable__control:checked~label.sk-toggleable__label {background-color: #d4ebff;}#sk-fb922280-d6df-46b5-a67f-2551aafa68dc div.sk-label input.sk-toggleable__control:checked~label.sk-toggleable__label {background-color: #d4ebff;}#sk-fb922280-d6df-46b5-a67f-2551aafa68dc input.sk-hidden--visually {border: 0;clip: rect(1px 1px 1px 1px);clip: rect(1px, 1px, 1px, 1px);height: 1px;margin: -1px;overflow: hidden;padding: 0;position: absolute;width: 1px;}#sk-fb922280-d6df-46b5-a67f-2551aafa68dc div.sk-estimator {font-family: monospace;background-color: #f0f8ff;border: 1px dotted black;border-radius: 0.25em;box-sizing: border-box;margin-bottom: 0.5em;}#sk-fb922280-d6df-46b5-a67f-2551aafa68dc div.sk-estimator:hover {background-color: #d4ebff;}#sk-fb922280-d6df-46b5-a67f-2551aafa68dc div.sk-parallel-item::after {content: \"\";width: 100%;border-bottom: 1px solid gray;flex-grow: 1;}#sk-fb922280-d6df-46b5-a67f-2551aafa68dc div.sk-label:hover label.sk-toggleable__label {background-color: #d4ebff;}#sk-fb922280-d6df-46b5-a67f-2551aafa68dc div.sk-serial::before {content: \"\";position: absolute;border-left: 1px solid gray;box-sizing: border-box;top: 2em;bottom: 0;left: 50%;}#sk-fb922280-d6df-46b5-a67f-2551aafa68dc div.sk-serial {display: flex;flex-direction: column;align-items: center;background-color: white;padding-right: 0.2em;padding-left: 0.2em;}#sk-fb922280-d6df-46b5-a67f-2551aafa68dc div.sk-item {z-index: 1;}#sk-fb922280-d6df-46b5-a67f-2551aafa68dc div.sk-parallel {display: flex;align-items: stretch;justify-content: center;background-color: white;}#sk-fb922280-d6df-46b5-a67f-2551aafa68dc div.sk-parallel::before {content: \"\";position: absolute;border-left: 1px solid gray;box-sizing: border-box;top: 2em;bottom: 0;left: 50%;}#sk-fb922280-d6df-46b5-a67f-2551aafa68dc div.sk-parallel-item {display: flex;flex-direction: column;position: relative;background-color: white;}#sk-fb922280-d6df-46b5-a67f-2551aafa68dc div.sk-parallel-item:first-child::after {align-self: flex-end;width: 50%;}#sk-fb922280-d6df-46b5-a67f-2551aafa68dc div.sk-parallel-item:last-child::after {align-self: flex-start;width: 50%;}#sk-fb922280-d6df-46b5-a67f-2551aafa68dc div.sk-parallel-item:only-child::after {width: 0;}#sk-fb922280-d6df-46b5-a67f-2551aafa68dc div.sk-dashed-wrapped {border: 1px dashed gray;margin: 0 0.4em 0.5em 0.4em;box-sizing: border-box;padding-bottom: 0.4em;background-color: white;position: relative;}#sk-fb922280-d6df-46b5-a67f-2551aafa68dc div.sk-label label {font-family: monospace;font-weight: bold;background-color: white;display: inline-block;line-height: 1.2em;}#sk-fb922280-d6df-46b5-a67f-2551aafa68dc div.sk-label-container {position: relative;z-index: 2;text-align: center;}#sk-fb922280-d6df-46b5-a67f-2551aafa68dc div.sk-container {display: inline-block;position: relative;}</style><div id=\"sk-fb922280-d6df-46b5-a67f-2551aafa68dc\" class\"sk-top-container\"><div class=\"sk-container\"><div class=\"sk-item sk-dashed-wrapped\"><div class=\"sk-label-container\"><div class=\"sk-label sk-toggleable\"><input class=\"sk-toggleable__control sk-hidden--visually\" id=\"38790401-f1f4-4f62-9bd8-9c2e46dfd046\" type=\"checkbox\" ><label class=\"sk-toggleable__label\" for=\"38790401-f1f4-4f62-9bd8-9c2e46dfd046\">Pipeline</label><div class=\"sk-toggleable__content\"><pre>Pipeline(steps=[('preprocesing',\n",
       "                 ColumnTransformer(transformers=[('number',\n",
       "                                                  Pipeline(steps=[('scale',\n",
       "                                                                   StandardScaler())]),\n",
       "                                                  ['RegistrationYear', 'Power',\n",
       "                                                   'Mileage']),\n",
       "                                                 ('category',\n",
       "                                                  Pipeline(steps=[('one-hot',\n",
       "                                                                   OneHotEncoder(drop='if_binary',\n",
       "                                                                                 handle_unknown='ignore'))]),\n",
       "                                                  ['VehicleType', 'Gearbox',\n",
       "                                                   'Model', 'FuelType', 'Brand',\n",
       "                                                   'NotRepaired'])])),\n",
       "                ('elastic_model', ElasticNet(random_state=42))])</pre></div></div></div><div class=\"sk-serial\"><div class=\"sk-item sk-dashed-wrapped\"><div class=\"sk-label-container\"><div class=\"sk-label sk-toggleable\"><input class=\"sk-toggleable__control sk-hidden--visually\" id=\"d89a25cf-7edd-4e2e-b4ff-721e74ba063b\" type=\"checkbox\" ><label class=\"sk-toggleable__label\" for=\"d89a25cf-7edd-4e2e-b4ff-721e74ba063b\">preprocesing: ColumnTransformer</label><div class=\"sk-toggleable__content\"><pre>ColumnTransformer(transformers=[('number',\n",
       "                                 Pipeline(steps=[('scale', StandardScaler())]),\n",
       "                                 ['RegistrationYear', 'Power', 'Mileage']),\n",
       "                                ('category',\n",
       "                                 Pipeline(steps=[('one-hot',\n",
       "                                                  OneHotEncoder(drop='if_binary',\n",
       "                                                                handle_unknown='ignore'))]),\n",
       "                                 ['VehicleType', 'Gearbox', 'Model', 'FuelType',\n",
       "                                  'Brand', 'NotRepaired'])])</pre></div></div></div><div class=\"sk-parallel\"><div class=\"sk-parallel-item\"><div class=\"sk-item\"><div class=\"sk-label-container\"><div class=\"sk-label sk-toggleable\"><input class=\"sk-toggleable__control sk-hidden--visually\" id=\"c1c22a86-955f-4bf2-914e-a0e113da8b88\" type=\"checkbox\" ><label class=\"sk-toggleable__label\" for=\"c1c22a86-955f-4bf2-914e-a0e113da8b88\">number</label><div class=\"sk-toggleable__content\"><pre>['RegistrationYear', 'Power', 'Mileage']</pre></div></div></div><div class=\"sk-serial\"><div class=\"sk-item\"><div class=\"sk-serial\"><div class=\"sk-item\"><div class=\"sk-estimator sk-toggleable\"><input class=\"sk-toggleable__control sk-hidden--visually\" id=\"20189e44-4ff8-40c0-bca2-6df03ce53322\" type=\"checkbox\" ><label class=\"sk-toggleable__label\" for=\"20189e44-4ff8-40c0-bca2-6df03ce53322\">StandardScaler</label><div class=\"sk-toggleable__content\"><pre>StandardScaler()</pre></div></div></div></div></div></div></div></div><div class=\"sk-parallel-item\"><div class=\"sk-item\"><div class=\"sk-label-container\"><div class=\"sk-label sk-toggleable\"><input class=\"sk-toggleable__control sk-hidden--visually\" id=\"75545b37-dcd0-41ed-a2ce-cf06393cb568\" type=\"checkbox\" ><label class=\"sk-toggleable__label\" for=\"75545b37-dcd0-41ed-a2ce-cf06393cb568\">category</label><div class=\"sk-toggleable__content\"><pre>['VehicleType', 'Gearbox', 'Model', 'FuelType', 'Brand', 'NotRepaired']</pre></div></div></div><div class=\"sk-serial\"><div class=\"sk-item\"><div class=\"sk-serial\"><div class=\"sk-item\"><div class=\"sk-estimator sk-toggleable\"><input class=\"sk-toggleable__control sk-hidden--visually\" id=\"e10dcd68-83fc-4fbd-8942-bd543b2bc510\" type=\"checkbox\" ><label class=\"sk-toggleable__label\" for=\"e10dcd68-83fc-4fbd-8942-bd543b2bc510\">OneHotEncoder</label><div class=\"sk-toggleable__content\"><pre>OneHotEncoder(drop='if_binary', handle_unknown='ignore')</pre></div></div></div></div></div></div></div></div></div></div><div class=\"sk-item\"><div class=\"sk-estimator sk-toggleable\"><input class=\"sk-toggleable__control sk-hidden--visually\" id=\"f053b621-9139-4c28-a3d0-c803fc94a175\" type=\"checkbox\" ><label class=\"sk-toggleable__label\" for=\"f053b621-9139-4c28-a3d0-c803fc94a175\">ElasticNet</label><div class=\"sk-toggleable__content\"><pre>ElasticNet(random_state=42)</pre></div></div></div></div></div></div></div>"
      ],
      "text/plain": [
       "Pipeline(steps=[('preprocesing',\n",
       "                 ColumnTransformer(transformers=[('number',\n",
       "                                                  Pipeline(steps=[('scale',\n",
       "                                                                   StandardScaler())]),\n",
       "                                                  ['RegistrationYear', 'Power',\n",
       "                                                   'Mileage']),\n",
       "                                                 ('category',\n",
       "                                                  Pipeline(steps=[('one-hot',\n",
       "                                                                   OneHotEncoder(drop='if_binary',\n",
       "                                                                                 handle_unknown='ignore'))]),\n",
       "                                                  ['VehicleType', 'Gearbox',\n",
       "                                                   'Model', 'FuelType', 'Brand',\n",
       "                                                   'NotRepaired'])])),\n",
       "                ('elastic_model', ElasticNet(random_state=42))])"
      ]
     },
     "execution_count": 26,
     "metadata": {},
     "output_type": "execute_result"
    }
   ],
   "source": [
    "elastic_pipeline"
   ]
  },
  {
   "cell_type": "code",
   "execution_count": 27,
   "metadata": {
    "tags": []
   },
   "outputs": [
    {
     "name": "stdout",
     "output_type": "stream",
     "text": [
      "runtime: 255.0\n"
     ]
    }
   ],
   "source": [
    "start = t.time()\n",
    "elasticNet= HalvingGridSearchCV(elastic_pipeline, param_grid= params, cv=3, scoring='neg_mean_squared_error', random_state=42)\n",
    "elasticNet.fit(X_train, y_train)\n",
    "end= t.time()\n",
    "print('runtime:', round((end - start), 1))"
   ]
  },
  {
   "cell_type": "code",
   "execution_count": 28,
   "metadata": {},
   "outputs": [
    {
     "data": {
      "text/plain": [
       "1939.5"
      ]
     },
     "execution_count": 28,
     "metadata": {},
     "output_type": "execute_result"
    }
   ],
   "source": [
    "elasticNet_score= np.sqrt(-elasticNet.best_score_).round(1)\n",
    "elasticNet_score"
   ]
  },
  {
   "cell_type": "code",
   "execution_count": 29,
   "metadata": {},
   "outputs": [
    {
     "data": {
      "text/plain": [
       "{'elastic_model__alpha': 0.5,\n",
       " 'elastic_model__l1_ratio': 1,\n",
       " 'elastic_model__max_iter': 10000}"
      ]
     },
     "execution_count": 29,
     "metadata": {},
     "output_type": "execute_result"
    }
   ],
   "source": [
    "elasticNet.best_params_"
   ]
  },
  {
   "cell_type": "code",
   "execution_count": 30,
   "metadata": {},
   "outputs": [
    {
     "data": {
      "text/plain": [
       "1938.5"
      ]
     },
     "execution_count": 30,
     "metadata": {},
     "output_type": "execute_result"
    }
   ],
   "source": [
    "elasticNet_prediction= elasticNet.predict(X_test)\n",
    "test_score_elasticNet= np.sqrt(mean_squared_error(y_test, elasticNet_prediction)).round(1)\n",
    "test_score_elasticNet"
   ]
  },
  {
   "cell_type": "markdown",
   "metadata": {},
   "source": [
    "#### RandomForestRegressor"
   ]
  },
  {
   "cell_type": "code",
   "execution_count": 31,
   "metadata": {},
   "outputs": [],
   "source": [
    "randomForest_model= RandomForestRegressor(random_state=42)"
   ]
  },
  {
   "cell_type": "code",
   "execution_count": 32,
   "metadata": {},
   "outputs": [],
   "source": [
    "randomForest_pipeline = Pipeline(steps=[\n",
    "    ('preprocess', preprocessor),\n",
    "    ('randomForest_model', randomForest_model)\n",
    "])"
   ]
  },
  {
   "cell_type": "code",
   "execution_count": 33,
   "metadata": {},
   "outputs": [],
   "source": [
    "#randomForest_pipeline.get_params().keys()"
   ]
  },
  {
   "cell_type": "code",
   "execution_count": 34,
   "metadata": {},
   "outputs": [],
   "source": [
    "params= dict(randomForest_model__n_estimators=[50, 100], randomForest_model__max_depth= [3,5])"
   ]
  },
  {
   "cell_type": "code",
   "execution_count": 35,
   "metadata": {},
   "outputs": [
    {
     "data": {
      "text/html": [
       "<style>#sk-1c0020c7-ca8d-4921-9a1d-4d5f0d3b7c76 {color: black;background-color: white;}#sk-1c0020c7-ca8d-4921-9a1d-4d5f0d3b7c76 pre{padding: 0;}#sk-1c0020c7-ca8d-4921-9a1d-4d5f0d3b7c76 div.sk-toggleable {background-color: white;}#sk-1c0020c7-ca8d-4921-9a1d-4d5f0d3b7c76 label.sk-toggleable__label {cursor: pointer;display: block;width: 100%;margin-bottom: 0;padding: 0.3em;box-sizing: border-box;text-align: center;}#sk-1c0020c7-ca8d-4921-9a1d-4d5f0d3b7c76 div.sk-toggleable__content {max-height: 0;max-width: 0;overflow: hidden;text-align: left;background-color: #f0f8ff;}#sk-1c0020c7-ca8d-4921-9a1d-4d5f0d3b7c76 div.sk-toggleable__content pre {margin: 0.2em;color: black;border-radius: 0.25em;background-color: #f0f8ff;}#sk-1c0020c7-ca8d-4921-9a1d-4d5f0d3b7c76 input.sk-toggleable__control:checked~div.sk-toggleable__content {max-height: 200px;max-width: 100%;overflow: auto;}#sk-1c0020c7-ca8d-4921-9a1d-4d5f0d3b7c76 div.sk-estimator input.sk-toggleable__control:checked~label.sk-toggleable__label {background-color: #d4ebff;}#sk-1c0020c7-ca8d-4921-9a1d-4d5f0d3b7c76 div.sk-label input.sk-toggleable__control:checked~label.sk-toggleable__label {background-color: #d4ebff;}#sk-1c0020c7-ca8d-4921-9a1d-4d5f0d3b7c76 input.sk-hidden--visually {border: 0;clip: rect(1px 1px 1px 1px);clip: rect(1px, 1px, 1px, 1px);height: 1px;margin: -1px;overflow: hidden;padding: 0;position: absolute;width: 1px;}#sk-1c0020c7-ca8d-4921-9a1d-4d5f0d3b7c76 div.sk-estimator {font-family: monospace;background-color: #f0f8ff;border: 1px dotted black;border-radius: 0.25em;box-sizing: border-box;margin-bottom: 0.5em;}#sk-1c0020c7-ca8d-4921-9a1d-4d5f0d3b7c76 div.sk-estimator:hover {background-color: #d4ebff;}#sk-1c0020c7-ca8d-4921-9a1d-4d5f0d3b7c76 div.sk-parallel-item::after {content: \"\";width: 100%;border-bottom: 1px solid gray;flex-grow: 1;}#sk-1c0020c7-ca8d-4921-9a1d-4d5f0d3b7c76 div.sk-label:hover label.sk-toggleable__label {background-color: #d4ebff;}#sk-1c0020c7-ca8d-4921-9a1d-4d5f0d3b7c76 div.sk-serial::before {content: \"\";position: absolute;border-left: 1px solid gray;box-sizing: border-box;top: 2em;bottom: 0;left: 50%;}#sk-1c0020c7-ca8d-4921-9a1d-4d5f0d3b7c76 div.sk-serial {display: flex;flex-direction: column;align-items: center;background-color: white;padding-right: 0.2em;padding-left: 0.2em;}#sk-1c0020c7-ca8d-4921-9a1d-4d5f0d3b7c76 div.sk-item {z-index: 1;}#sk-1c0020c7-ca8d-4921-9a1d-4d5f0d3b7c76 div.sk-parallel {display: flex;align-items: stretch;justify-content: center;background-color: white;}#sk-1c0020c7-ca8d-4921-9a1d-4d5f0d3b7c76 div.sk-parallel::before {content: \"\";position: absolute;border-left: 1px solid gray;box-sizing: border-box;top: 2em;bottom: 0;left: 50%;}#sk-1c0020c7-ca8d-4921-9a1d-4d5f0d3b7c76 div.sk-parallel-item {display: flex;flex-direction: column;position: relative;background-color: white;}#sk-1c0020c7-ca8d-4921-9a1d-4d5f0d3b7c76 div.sk-parallel-item:first-child::after {align-self: flex-end;width: 50%;}#sk-1c0020c7-ca8d-4921-9a1d-4d5f0d3b7c76 div.sk-parallel-item:last-child::after {align-self: flex-start;width: 50%;}#sk-1c0020c7-ca8d-4921-9a1d-4d5f0d3b7c76 div.sk-parallel-item:only-child::after {width: 0;}#sk-1c0020c7-ca8d-4921-9a1d-4d5f0d3b7c76 div.sk-dashed-wrapped {border: 1px dashed gray;margin: 0 0.4em 0.5em 0.4em;box-sizing: border-box;padding-bottom: 0.4em;background-color: white;position: relative;}#sk-1c0020c7-ca8d-4921-9a1d-4d5f0d3b7c76 div.sk-label label {font-family: monospace;font-weight: bold;background-color: white;display: inline-block;line-height: 1.2em;}#sk-1c0020c7-ca8d-4921-9a1d-4d5f0d3b7c76 div.sk-label-container {position: relative;z-index: 2;text-align: center;}#sk-1c0020c7-ca8d-4921-9a1d-4d5f0d3b7c76 div.sk-container {display: inline-block;position: relative;}</style><div id=\"sk-1c0020c7-ca8d-4921-9a1d-4d5f0d3b7c76\" class\"sk-top-container\"><div class=\"sk-container\"><div class=\"sk-item sk-dashed-wrapped\"><div class=\"sk-label-container\"><div class=\"sk-label sk-toggleable\"><input class=\"sk-toggleable__control sk-hidden--visually\" id=\"2bb2cc7d-cb40-4ad9-b21e-bf1344255fa3\" type=\"checkbox\" ><label class=\"sk-toggleable__label\" for=\"2bb2cc7d-cb40-4ad9-b21e-bf1344255fa3\">Pipeline</label><div class=\"sk-toggleable__content\"><pre>Pipeline(steps=[('preprocess',\n",
       "                 ColumnTransformer(transformers=[('number',\n",
       "                                                  Pipeline(steps=[('scale',\n",
       "                                                                   StandardScaler())]),\n",
       "                                                  ['RegistrationYear', 'Power',\n",
       "                                                   'Mileage']),\n",
       "                                                 ('category',\n",
       "                                                  Pipeline(steps=[('one-hot',\n",
       "                                                                   OneHotEncoder(drop='if_binary',\n",
       "                                                                                 handle_unknown='ignore'))]),\n",
       "                                                  ['VehicleType', 'Gearbox',\n",
       "                                                   'Model', 'FuelType', 'Brand',\n",
       "                                                   'NotRepaired'])])),\n",
       "                ('randomForest_model', RandomForestRegressor(random_state=42))])</pre></div></div></div><div class=\"sk-serial\"><div class=\"sk-item sk-dashed-wrapped\"><div class=\"sk-label-container\"><div class=\"sk-label sk-toggleable\"><input class=\"sk-toggleable__control sk-hidden--visually\" id=\"89dce9ff-a53c-47aa-a14a-d31a46fcc3f2\" type=\"checkbox\" ><label class=\"sk-toggleable__label\" for=\"89dce9ff-a53c-47aa-a14a-d31a46fcc3f2\">preprocess: ColumnTransformer</label><div class=\"sk-toggleable__content\"><pre>ColumnTransformer(transformers=[('number',\n",
       "                                 Pipeline(steps=[('scale', StandardScaler())]),\n",
       "                                 ['RegistrationYear', 'Power', 'Mileage']),\n",
       "                                ('category',\n",
       "                                 Pipeline(steps=[('one-hot',\n",
       "                                                  OneHotEncoder(drop='if_binary',\n",
       "                                                                handle_unknown='ignore'))]),\n",
       "                                 ['VehicleType', 'Gearbox', 'Model', 'FuelType',\n",
       "                                  'Brand', 'NotRepaired'])])</pre></div></div></div><div class=\"sk-parallel\"><div class=\"sk-parallel-item\"><div class=\"sk-item\"><div class=\"sk-label-container\"><div class=\"sk-label sk-toggleable\"><input class=\"sk-toggleable__control sk-hidden--visually\" id=\"46178ef7-694c-418d-b7c1-dec84292f077\" type=\"checkbox\" ><label class=\"sk-toggleable__label\" for=\"46178ef7-694c-418d-b7c1-dec84292f077\">number</label><div class=\"sk-toggleable__content\"><pre>['RegistrationYear', 'Power', 'Mileage']</pre></div></div></div><div class=\"sk-serial\"><div class=\"sk-item\"><div class=\"sk-serial\"><div class=\"sk-item\"><div class=\"sk-estimator sk-toggleable\"><input class=\"sk-toggleable__control sk-hidden--visually\" id=\"1a49e2b7-c9a2-4ae0-af0a-cbdbb54d8f40\" type=\"checkbox\" ><label class=\"sk-toggleable__label\" for=\"1a49e2b7-c9a2-4ae0-af0a-cbdbb54d8f40\">StandardScaler</label><div class=\"sk-toggleable__content\"><pre>StandardScaler()</pre></div></div></div></div></div></div></div></div><div class=\"sk-parallel-item\"><div class=\"sk-item\"><div class=\"sk-label-container\"><div class=\"sk-label sk-toggleable\"><input class=\"sk-toggleable__control sk-hidden--visually\" id=\"4e93c0ae-0941-422a-824f-70f24e056d5e\" type=\"checkbox\" ><label class=\"sk-toggleable__label\" for=\"4e93c0ae-0941-422a-824f-70f24e056d5e\">category</label><div class=\"sk-toggleable__content\"><pre>['VehicleType', 'Gearbox', 'Model', 'FuelType', 'Brand', 'NotRepaired']</pre></div></div></div><div class=\"sk-serial\"><div class=\"sk-item\"><div class=\"sk-serial\"><div class=\"sk-item\"><div class=\"sk-estimator sk-toggleable\"><input class=\"sk-toggleable__control sk-hidden--visually\" id=\"8cf0c5b7-6d39-439c-a2e5-4c43073c81a8\" type=\"checkbox\" ><label class=\"sk-toggleable__label\" for=\"8cf0c5b7-6d39-439c-a2e5-4c43073c81a8\">OneHotEncoder</label><div class=\"sk-toggleable__content\"><pre>OneHotEncoder(drop='if_binary', handle_unknown='ignore')</pre></div></div></div></div></div></div></div></div></div></div><div class=\"sk-item\"><div class=\"sk-estimator sk-toggleable\"><input class=\"sk-toggleable__control sk-hidden--visually\" id=\"e062dd65-c22c-4b1b-830a-290899b61924\" type=\"checkbox\" ><label class=\"sk-toggleable__label\" for=\"e062dd65-c22c-4b1b-830a-290899b61924\">RandomForestRegressor</label><div class=\"sk-toggleable__content\"><pre>RandomForestRegressor(random_state=42)</pre></div></div></div></div></div></div></div>"
      ],
      "text/plain": [
       "Pipeline(steps=[('preprocess',\n",
       "                 ColumnTransformer(transformers=[('number',\n",
       "                                                  Pipeline(steps=[('scale',\n",
       "                                                                   StandardScaler())]),\n",
       "                                                  ['RegistrationYear', 'Power',\n",
       "                                                   'Mileage']),\n",
       "                                                 ('category',\n",
       "                                                  Pipeline(steps=[('one-hot',\n",
       "                                                                   OneHotEncoder(drop='if_binary',\n",
       "                                                                                 handle_unknown='ignore'))]),\n",
       "                                                  ['VehicleType', 'Gearbox',\n",
       "                                                   'Model', 'FuelType', 'Brand',\n",
       "                                                   'NotRepaired'])])),\n",
       "                ('randomForest_model', RandomForestRegressor(random_state=42))])"
      ]
     },
     "execution_count": 35,
     "metadata": {},
     "output_type": "execute_result"
    }
   ],
   "source": [
    "randomForest_pipeline"
   ]
  },
  {
   "cell_type": "code",
   "execution_count": 36,
   "metadata": {},
   "outputs": [
    {
     "name": "stdout",
     "output_type": "stream",
     "text": [
      "runtime: 150.3\n"
     ]
    }
   ],
   "source": [
    "start = t.time()\n",
    "randomForest= HalvingGridSearchCV(randomForest_pipeline, param_grid= params, cv=3, scoring='neg_mean_squared_error', random_state=42)\n",
    "randomForest.fit(X_train, y_train)\n",
    "end= t.time()\n",
    "print('runtime:', round((end - start), 1))"
   ]
  },
  {
   "cell_type": "code",
   "execution_count": 37,
   "metadata": {},
   "outputs": [],
   "source": [
    "#sklearn.metrics.SCORERS.keys()"
   ]
  },
  {
   "cell_type": "code",
   "execution_count": 38,
   "metadata": {},
   "outputs": [
    {
     "data": {
      "text/plain": [
       "1884.5"
      ]
     },
     "execution_count": 38,
     "metadata": {},
     "output_type": "execute_result"
    }
   ],
   "source": [
    "randomForest_score= np.sqrt(-randomForest.best_score_).round(1)\n",
    "randomForest_score"
   ]
  },
  {
   "cell_type": "code",
   "execution_count": 39,
   "metadata": {},
   "outputs": [
    {
     "data": {
      "text/plain": [
       "{'randomForest_model__max_depth': 5, 'randomForest_model__n_estimators': 100}"
      ]
     },
     "execution_count": 39,
     "metadata": {},
     "output_type": "execute_result"
    }
   ],
   "source": [
    "randomForest.best_params_"
   ]
  },
  {
   "cell_type": "code",
   "execution_count": 40,
   "metadata": {},
   "outputs": [
    {
     "data": {
      "text/plain": [
       "1870.0"
      ]
     },
     "execution_count": 40,
     "metadata": {},
     "output_type": "execute_result"
    }
   ],
   "source": [
    "randomForest_prediction= randomForest.predict(X_test)\n",
    "test_score_randomForest= np.sqrt(mean_squared_error(y_test, randomForest_prediction)).round(1)\n",
    "test_score_randomForest"
   ]
  },
  {
   "cell_type": "markdown",
   "metadata": {},
   "source": [
    "#### AdaBoostRegressor"
   ]
  },
  {
   "cell_type": "code",
   "execution_count": 41,
   "metadata": {},
   "outputs": [],
   "source": [
    "adaBoost_model= AdaBoostRegressor(random_state=42)"
   ]
  },
  {
   "cell_type": "code",
   "execution_count": 42,
   "metadata": {},
   "outputs": [],
   "source": [
    "adaBoost_pipeline = Pipeline(steps=[\n",
    "    ('preprocess', preprocessor),\n",
    "    ('adaBoost_model', adaBoost_model)\n",
    "])"
   ]
  },
  {
   "cell_type": "code",
   "execution_count": 43,
   "metadata": {},
   "outputs": [],
   "source": [
    "#adaBoost_pipeline.get_params().keys()"
   ]
  },
  {
   "cell_type": "code",
   "execution_count": 44,
   "metadata": {},
   "outputs": [],
   "source": [
    "params= dict(adaBoost_model__n_estimators=[50, 100], adaBoost_model__learning_rate= [ 0.01, 0.2])"
   ]
  },
  {
   "cell_type": "code",
   "execution_count": 45,
   "metadata": {},
   "outputs": [
    {
     "data": {
      "text/html": [
       "<style>#sk-fd7d3548-b071-4c08-b7e7-f1ee851a11d0 {color: black;background-color: white;}#sk-fd7d3548-b071-4c08-b7e7-f1ee851a11d0 pre{padding: 0;}#sk-fd7d3548-b071-4c08-b7e7-f1ee851a11d0 div.sk-toggleable {background-color: white;}#sk-fd7d3548-b071-4c08-b7e7-f1ee851a11d0 label.sk-toggleable__label {cursor: pointer;display: block;width: 100%;margin-bottom: 0;padding: 0.3em;box-sizing: border-box;text-align: center;}#sk-fd7d3548-b071-4c08-b7e7-f1ee851a11d0 div.sk-toggleable__content {max-height: 0;max-width: 0;overflow: hidden;text-align: left;background-color: #f0f8ff;}#sk-fd7d3548-b071-4c08-b7e7-f1ee851a11d0 div.sk-toggleable__content pre {margin: 0.2em;color: black;border-radius: 0.25em;background-color: #f0f8ff;}#sk-fd7d3548-b071-4c08-b7e7-f1ee851a11d0 input.sk-toggleable__control:checked~div.sk-toggleable__content {max-height: 200px;max-width: 100%;overflow: auto;}#sk-fd7d3548-b071-4c08-b7e7-f1ee851a11d0 div.sk-estimator input.sk-toggleable__control:checked~label.sk-toggleable__label {background-color: #d4ebff;}#sk-fd7d3548-b071-4c08-b7e7-f1ee851a11d0 div.sk-label input.sk-toggleable__control:checked~label.sk-toggleable__label {background-color: #d4ebff;}#sk-fd7d3548-b071-4c08-b7e7-f1ee851a11d0 input.sk-hidden--visually {border: 0;clip: rect(1px 1px 1px 1px);clip: rect(1px, 1px, 1px, 1px);height: 1px;margin: -1px;overflow: hidden;padding: 0;position: absolute;width: 1px;}#sk-fd7d3548-b071-4c08-b7e7-f1ee851a11d0 div.sk-estimator {font-family: monospace;background-color: #f0f8ff;border: 1px dotted black;border-radius: 0.25em;box-sizing: border-box;margin-bottom: 0.5em;}#sk-fd7d3548-b071-4c08-b7e7-f1ee851a11d0 div.sk-estimator:hover {background-color: #d4ebff;}#sk-fd7d3548-b071-4c08-b7e7-f1ee851a11d0 div.sk-parallel-item::after {content: \"\";width: 100%;border-bottom: 1px solid gray;flex-grow: 1;}#sk-fd7d3548-b071-4c08-b7e7-f1ee851a11d0 div.sk-label:hover label.sk-toggleable__label {background-color: #d4ebff;}#sk-fd7d3548-b071-4c08-b7e7-f1ee851a11d0 div.sk-serial::before {content: \"\";position: absolute;border-left: 1px solid gray;box-sizing: border-box;top: 2em;bottom: 0;left: 50%;}#sk-fd7d3548-b071-4c08-b7e7-f1ee851a11d0 div.sk-serial {display: flex;flex-direction: column;align-items: center;background-color: white;padding-right: 0.2em;padding-left: 0.2em;}#sk-fd7d3548-b071-4c08-b7e7-f1ee851a11d0 div.sk-item {z-index: 1;}#sk-fd7d3548-b071-4c08-b7e7-f1ee851a11d0 div.sk-parallel {display: flex;align-items: stretch;justify-content: center;background-color: white;}#sk-fd7d3548-b071-4c08-b7e7-f1ee851a11d0 div.sk-parallel::before {content: \"\";position: absolute;border-left: 1px solid gray;box-sizing: border-box;top: 2em;bottom: 0;left: 50%;}#sk-fd7d3548-b071-4c08-b7e7-f1ee851a11d0 div.sk-parallel-item {display: flex;flex-direction: column;position: relative;background-color: white;}#sk-fd7d3548-b071-4c08-b7e7-f1ee851a11d0 div.sk-parallel-item:first-child::after {align-self: flex-end;width: 50%;}#sk-fd7d3548-b071-4c08-b7e7-f1ee851a11d0 div.sk-parallel-item:last-child::after {align-self: flex-start;width: 50%;}#sk-fd7d3548-b071-4c08-b7e7-f1ee851a11d0 div.sk-parallel-item:only-child::after {width: 0;}#sk-fd7d3548-b071-4c08-b7e7-f1ee851a11d0 div.sk-dashed-wrapped {border: 1px dashed gray;margin: 0 0.4em 0.5em 0.4em;box-sizing: border-box;padding-bottom: 0.4em;background-color: white;position: relative;}#sk-fd7d3548-b071-4c08-b7e7-f1ee851a11d0 div.sk-label label {font-family: monospace;font-weight: bold;background-color: white;display: inline-block;line-height: 1.2em;}#sk-fd7d3548-b071-4c08-b7e7-f1ee851a11d0 div.sk-label-container {position: relative;z-index: 2;text-align: center;}#sk-fd7d3548-b071-4c08-b7e7-f1ee851a11d0 div.sk-container {display: inline-block;position: relative;}</style><div id=\"sk-fd7d3548-b071-4c08-b7e7-f1ee851a11d0\" class\"sk-top-container\"><div class=\"sk-container\"><div class=\"sk-item sk-dashed-wrapped\"><div class=\"sk-label-container\"><div class=\"sk-label sk-toggleable\"><input class=\"sk-toggleable__control sk-hidden--visually\" id=\"c6bbc70e-a6e1-42c6-b67d-f6ff28c2721b\" type=\"checkbox\" ><label class=\"sk-toggleable__label\" for=\"c6bbc70e-a6e1-42c6-b67d-f6ff28c2721b\">Pipeline</label><div class=\"sk-toggleable__content\"><pre>Pipeline(steps=[('preprocess',\n",
       "                 ColumnTransformer(transformers=[('number',\n",
       "                                                  Pipeline(steps=[('scale',\n",
       "                                                                   StandardScaler())]),\n",
       "                                                  ['RegistrationYear', 'Power',\n",
       "                                                   'Mileage']),\n",
       "                                                 ('category',\n",
       "                                                  Pipeline(steps=[('one-hot',\n",
       "                                                                   OneHotEncoder(drop='if_binary',\n",
       "                                                                                 handle_unknown='ignore'))]),\n",
       "                                                  ['VehicleType', 'Gearbox',\n",
       "                                                   'Model', 'FuelType', 'Brand',\n",
       "                                                   'NotRepaired'])])),\n",
       "                ('adaBoost_model', AdaBoostRegressor(random_state=42))])</pre></div></div></div><div class=\"sk-serial\"><div class=\"sk-item sk-dashed-wrapped\"><div class=\"sk-label-container\"><div class=\"sk-label sk-toggleable\"><input class=\"sk-toggleable__control sk-hidden--visually\" id=\"15c35fd9-39b1-42c2-87eb-247662791b70\" type=\"checkbox\" ><label class=\"sk-toggleable__label\" for=\"15c35fd9-39b1-42c2-87eb-247662791b70\">preprocess: ColumnTransformer</label><div class=\"sk-toggleable__content\"><pre>ColumnTransformer(transformers=[('number',\n",
       "                                 Pipeline(steps=[('scale', StandardScaler())]),\n",
       "                                 ['RegistrationYear', 'Power', 'Mileage']),\n",
       "                                ('category',\n",
       "                                 Pipeline(steps=[('one-hot',\n",
       "                                                  OneHotEncoder(drop='if_binary',\n",
       "                                                                handle_unknown='ignore'))]),\n",
       "                                 ['VehicleType', 'Gearbox', 'Model', 'FuelType',\n",
       "                                  'Brand', 'NotRepaired'])])</pre></div></div></div><div class=\"sk-parallel\"><div class=\"sk-parallel-item\"><div class=\"sk-item\"><div class=\"sk-label-container\"><div class=\"sk-label sk-toggleable\"><input class=\"sk-toggleable__control sk-hidden--visually\" id=\"d54318e1-56c3-4781-832e-7c645c19e6d3\" type=\"checkbox\" ><label class=\"sk-toggleable__label\" for=\"d54318e1-56c3-4781-832e-7c645c19e6d3\">number</label><div class=\"sk-toggleable__content\"><pre>['RegistrationYear', 'Power', 'Mileage']</pre></div></div></div><div class=\"sk-serial\"><div class=\"sk-item\"><div class=\"sk-serial\"><div class=\"sk-item\"><div class=\"sk-estimator sk-toggleable\"><input class=\"sk-toggleable__control sk-hidden--visually\" id=\"3872290c-13c7-4162-9449-89c8f1f20710\" type=\"checkbox\" ><label class=\"sk-toggleable__label\" for=\"3872290c-13c7-4162-9449-89c8f1f20710\">StandardScaler</label><div class=\"sk-toggleable__content\"><pre>StandardScaler()</pre></div></div></div></div></div></div></div></div><div class=\"sk-parallel-item\"><div class=\"sk-item\"><div class=\"sk-label-container\"><div class=\"sk-label sk-toggleable\"><input class=\"sk-toggleable__control sk-hidden--visually\" id=\"a1f97b0f-54d1-4ea4-b0ab-6531cb4ecf66\" type=\"checkbox\" ><label class=\"sk-toggleable__label\" for=\"a1f97b0f-54d1-4ea4-b0ab-6531cb4ecf66\">category</label><div class=\"sk-toggleable__content\"><pre>['VehicleType', 'Gearbox', 'Model', 'FuelType', 'Brand', 'NotRepaired']</pre></div></div></div><div class=\"sk-serial\"><div class=\"sk-item\"><div class=\"sk-serial\"><div class=\"sk-item\"><div class=\"sk-estimator sk-toggleable\"><input class=\"sk-toggleable__control sk-hidden--visually\" id=\"9d3b6ba6-b9a8-4137-a26e-1159cb5aafb3\" type=\"checkbox\" ><label class=\"sk-toggleable__label\" for=\"9d3b6ba6-b9a8-4137-a26e-1159cb5aafb3\">OneHotEncoder</label><div class=\"sk-toggleable__content\"><pre>OneHotEncoder(drop='if_binary', handle_unknown='ignore')</pre></div></div></div></div></div></div></div></div></div></div><div class=\"sk-item\"><div class=\"sk-estimator sk-toggleable\"><input class=\"sk-toggleable__control sk-hidden--visually\" id=\"b9d35047-ad75-4c5c-9963-284b40ec3ffd\" type=\"checkbox\" ><label class=\"sk-toggleable__label\" for=\"b9d35047-ad75-4c5c-9963-284b40ec3ffd\">AdaBoostRegressor</label><div class=\"sk-toggleable__content\"><pre>AdaBoostRegressor(random_state=42)</pre></div></div></div></div></div></div></div>"
      ],
      "text/plain": [
       "Pipeline(steps=[('preprocess',\n",
       "                 ColumnTransformer(transformers=[('number',\n",
       "                                                  Pipeline(steps=[('scale',\n",
       "                                                                   StandardScaler())]),\n",
       "                                                  ['RegistrationYear', 'Power',\n",
       "                                                   'Mileage']),\n",
       "                                                 ('category',\n",
       "                                                  Pipeline(steps=[('one-hot',\n",
       "                                                                   OneHotEncoder(drop='if_binary',\n",
       "                                                                                 handle_unknown='ignore'))]),\n",
       "                                                  ['VehicleType', 'Gearbox',\n",
       "                                                   'Model', 'FuelType', 'Brand',\n",
       "                                                   'NotRepaired'])])),\n",
       "                ('adaBoost_model', AdaBoostRegressor(random_state=42))])"
      ]
     },
     "execution_count": 45,
     "metadata": {},
     "output_type": "execute_result"
    }
   ],
   "source": [
    "adaBoost_pipeline"
   ]
  },
  {
   "cell_type": "code",
   "execution_count": 46,
   "metadata": {},
   "outputs": [
    {
     "name": "stdout",
     "output_type": "stream",
     "text": [
      "runtime: 132.0\n"
     ]
    }
   ],
   "source": [
    "start = t.time()\n",
    "adaBoost= HalvingGridSearchCV(adaBoost_pipeline, param_grid= params, cv=3, scoring='neg_mean_squared_error', random_state=42)\n",
    "adaBoost.fit(X_train, y_train)\n",
    "end= t.time()\n",
    "print('runtime:', round((end - start), 1))"
   ]
  },
  {
   "cell_type": "code",
   "execution_count": 47,
   "metadata": {},
   "outputs": [
    {
     "data": {
      "text/plain": [
       "2125.8"
      ]
     },
     "execution_count": 47,
     "metadata": {},
     "output_type": "execute_result"
    }
   ],
   "source": [
    "adaBoost_score= np.sqrt(-adaBoost.best_score_).round(1)\n",
    "adaBoost_score"
   ]
  },
  {
   "cell_type": "code",
   "execution_count": 48,
   "metadata": {},
   "outputs": [
    {
     "data": {
      "text/plain": [
       "{'adaBoost_model__learning_rate': 0.2, 'adaBoost_model__n_estimators': 50}"
      ]
     },
     "execution_count": 48,
     "metadata": {},
     "output_type": "execute_result"
    }
   ],
   "source": [
    "adaBoost.best_params_"
   ]
  },
  {
   "cell_type": "code",
   "execution_count": 49,
   "metadata": {},
   "outputs": [
    {
     "data": {
      "text/plain": [
       "2139.0"
      ]
     },
     "execution_count": 49,
     "metadata": {},
     "output_type": "execute_result"
    }
   ],
   "source": [
    "adaBoost_prediction= adaBoost.predict(X_test)\n",
    "test_score_adaBoost= np.sqrt(mean_squared_error(y_test, adaBoost_prediction)).round(1)\n",
    "test_score_adaBoost"
   ]
  },
  {
   "cell_type": "markdown",
   "metadata": {},
   "source": [
    "#### GradientBoostingRegressor"
   ]
  },
  {
   "cell_type": "code",
   "execution_count": 50,
   "metadata": {},
   "outputs": [],
   "source": [
    "gradB_model= GradientBoostingRegressor(random_state=42)"
   ]
  },
  {
   "cell_type": "code",
   "execution_count": 51,
   "metadata": {},
   "outputs": [],
   "source": [
    "gradB_pipeline = Pipeline(steps=[\n",
    "    ('preprocess', preprocessor),\n",
    "    ('gradB_model', gradB_model)\n",
    "])"
   ]
  },
  {
   "cell_type": "code",
   "execution_count": 52,
   "metadata": {},
   "outputs": [],
   "source": [
    "#gradB_pipeline.get_params().keys()"
   ]
  },
  {
   "cell_type": "code",
   "execution_count": 53,
   "metadata": {},
   "outputs": [],
   "source": [
    "params= dict(gradB_model__n_estimators= [100, 200] )"
   ]
  },
  {
   "cell_type": "code",
   "execution_count": 54,
   "metadata": {},
   "outputs": [
    {
     "data": {
      "text/html": [
       "<style>#sk-886a93cc-631e-4b0d-91d0-286a71be2743 {color: black;background-color: white;}#sk-886a93cc-631e-4b0d-91d0-286a71be2743 pre{padding: 0;}#sk-886a93cc-631e-4b0d-91d0-286a71be2743 div.sk-toggleable {background-color: white;}#sk-886a93cc-631e-4b0d-91d0-286a71be2743 label.sk-toggleable__label {cursor: pointer;display: block;width: 100%;margin-bottom: 0;padding: 0.3em;box-sizing: border-box;text-align: center;}#sk-886a93cc-631e-4b0d-91d0-286a71be2743 div.sk-toggleable__content {max-height: 0;max-width: 0;overflow: hidden;text-align: left;background-color: #f0f8ff;}#sk-886a93cc-631e-4b0d-91d0-286a71be2743 div.sk-toggleable__content pre {margin: 0.2em;color: black;border-radius: 0.25em;background-color: #f0f8ff;}#sk-886a93cc-631e-4b0d-91d0-286a71be2743 input.sk-toggleable__control:checked~div.sk-toggleable__content {max-height: 200px;max-width: 100%;overflow: auto;}#sk-886a93cc-631e-4b0d-91d0-286a71be2743 div.sk-estimator input.sk-toggleable__control:checked~label.sk-toggleable__label {background-color: #d4ebff;}#sk-886a93cc-631e-4b0d-91d0-286a71be2743 div.sk-label input.sk-toggleable__control:checked~label.sk-toggleable__label {background-color: #d4ebff;}#sk-886a93cc-631e-4b0d-91d0-286a71be2743 input.sk-hidden--visually {border: 0;clip: rect(1px 1px 1px 1px);clip: rect(1px, 1px, 1px, 1px);height: 1px;margin: -1px;overflow: hidden;padding: 0;position: absolute;width: 1px;}#sk-886a93cc-631e-4b0d-91d0-286a71be2743 div.sk-estimator {font-family: monospace;background-color: #f0f8ff;border: 1px dotted black;border-radius: 0.25em;box-sizing: border-box;margin-bottom: 0.5em;}#sk-886a93cc-631e-4b0d-91d0-286a71be2743 div.sk-estimator:hover {background-color: #d4ebff;}#sk-886a93cc-631e-4b0d-91d0-286a71be2743 div.sk-parallel-item::after {content: \"\";width: 100%;border-bottom: 1px solid gray;flex-grow: 1;}#sk-886a93cc-631e-4b0d-91d0-286a71be2743 div.sk-label:hover label.sk-toggleable__label {background-color: #d4ebff;}#sk-886a93cc-631e-4b0d-91d0-286a71be2743 div.sk-serial::before {content: \"\";position: absolute;border-left: 1px solid gray;box-sizing: border-box;top: 2em;bottom: 0;left: 50%;}#sk-886a93cc-631e-4b0d-91d0-286a71be2743 div.sk-serial {display: flex;flex-direction: column;align-items: center;background-color: white;padding-right: 0.2em;padding-left: 0.2em;}#sk-886a93cc-631e-4b0d-91d0-286a71be2743 div.sk-item {z-index: 1;}#sk-886a93cc-631e-4b0d-91d0-286a71be2743 div.sk-parallel {display: flex;align-items: stretch;justify-content: center;background-color: white;}#sk-886a93cc-631e-4b0d-91d0-286a71be2743 div.sk-parallel::before {content: \"\";position: absolute;border-left: 1px solid gray;box-sizing: border-box;top: 2em;bottom: 0;left: 50%;}#sk-886a93cc-631e-4b0d-91d0-286a71be2743 div.sk-parallel-item {display: flex;flex-direction: column;position: relative;background-color: white;}#sk-886a93cc-631e-4b0d-91d0-286a71be2743 div.sk-parallel-item:first-child::after {align-self: flex-end;width: 50%;}#sk-886a93cc-631e-4b0d-91d0-286a71be2743 div.sk-parallel-item:last-child::after {align-self: flex-start;width: 50%;}#sk-886a93cc-631e-4b0d-91d0-286a71be2743 div.sk-parallel-item:only-child::after {width: 0;}#sk-886a93cc-631e-4b0d-91d0-286a71be2743 div.sk-dashed-wrapped {border: 1px dashed gray;margin: 0 0.4em 0.5em 0.4em;box-sizing: border-box;padding-bottom: 0.4em;background-color: white;position: relative;}#sk-886a93cc-631e-4b0d-91d0-286a71be2743 div.sk-label label {font-family: monospace;font-weight: bold;background-color: white;display: inline-block;line-height: 1.2em;}#sk-886a93cc-631e-4b0d-91d0-286a71be2743 div.sk-label-container {position: relative;z-index: 2;text-align: center;}#sk-886a93cc-631e-4b0d-91d0-286a71be2743 div.sk-container {display: inline-block;position: relative;}</style><div id=\"sk-886a93cc-631e-4b0d-91d0-286a71be2743\" class\"sk-top-container\"><div class=\"sk-container\"><div class=\"sk-item sk-dashed-wrapped\"><div class=\"sk-label-container\"><div class=\"sk-label sk-toggleable\"><input class=\"sk-toggleable__control sk-hidden--visually\" id=\"f13f2f8f-bee5-4325-bd94-617a135ac0b1\" type=\"checkbox\" ><label class=\"sk-toggleable__label\" for=\"f13f2f8f-bee5-4325-bd94-617a135ac0b1\">Pipeline</label><div class=\"sk-toggleable__content\"><pre>Pipeline(steps=[('preprocess',\n",
       "                 ColumnTransformer(transformers=[('number',\n",
       "                                                  Pipeline(steps=[('scale',\n",
       "                                                                   StandardScaler())]),\n",
       "                                                  ['RegistrationYear', 'Power',\n",
       "                                                   'Mileage']),\n",
       "                                                 ('category',\n",
       "                                                  Pipeline(steps=[('one-hot',\n",
       "                                                                   OneHotEncoder(drop='if_binary',\n",
       "                                                                                 handle_unknown='ignore'))]),\n",
       "                                                  ['VehicleType', 'Gearbox',\n",
       "                                                   'Model', 'FuelType', 'Brand',\n",
       "                                                   'NotRepaired'])])),\n",
       "                ('gradB_model', GradientBoostingRegressor(random_state=42))])</pre></div></div></div><div class=\"sk-serial\"><div class=\"sk-item sk-dashed-wrapped\"><div class=\"sk-label-container\"><div class=\"sk-label sk-toggleable\"><input class=\"sk-toggleable__control sk-hidden--visually\" id=\"08872b0d-d684-4314-8851-12d1cb85d345\" type=\"checkbox\" ><label class=\"sk-toggleable__label\" for=\"08872b0d-d684-4314-8851-12d1cb85d345\">preprocess: ColumnTransformer</label><div class=\"sk-toggleable__content\"><pre>ColumnTransformer(transformers=[('number',\n",
       "                                 Pipeline(steps=[('scale', StandardScaler())]),\n",
       "                                 ['RegistrationYear', 'Power', 'Mileage']),\n",
       "                                ('category',\n",
       "                                 Pipeline(steps=[('one-hot',\n",
       "                                                  OneHotEncoder(drop='if_binary',\n",
       "                                                                handle_unknown='ignore'))]),\n",
       "                                 ['VehicleType', 'Gearbox', 'Model', 'FuelType',\n",
       "                                  'Brand', 'NotRepaired'])])</pre></div></div></div><div class=\"sk-parallel\"><div class=\"sk-parallel-item\"><div class=\"sk-item\"><div class=\"sk-label-container\"><div class=\"sk-label sk-toggleable\"><input class=\"sk-toggleable__control sk-hidden--visually\" id=\"db942457-9ecc-4845-ad0f-0ee1df783458\" type=\"checkbox\" ><label class=\"sk-toggleable__label\" for=\"db942457-9ecc-4845-ad0f-0ee1df783458\">number</label><div class=\"sk-toggleable__content\"><pre>['RegistrationYear', 'Power', 'Mileage']</pre></div></div></div><div class=\"sk-serial\"><div class=\"sk-item\"><div class=\"sk-serial\"><div class=\"sk-item\"><div class=\"sk-estimator sk-toggleable\"><input class=\"sk-toggleable__control sk-hidden--visually\" id=\"3fc39ca8-0719-4b21-b7b3-0bab7f69949d\" type=\"checkbox\" ><label class=\"sk-toggleable__label\" for=\"3fc39ca8-0719-4b21-b7b3-0bab7f69949d\">StandardScaler</label><div class=\"sk-toggleable__content\"><pre>StandardScaler()</pre></div></div></div></div></div></div></div></div><div class=\"sk-parallel-item\"><div class=\"sk-item\"><div class=\"sk-label-container\"><div class=\"sk-label sk-toggleable\"><input class=\"sk-toggleable__control sk-hidden--visually\" id=\"9e4c180a-fe4c-4bd7-8d65-206e49090d79\" type=\"checkbox\" ><label class=\"sk-toggleable__label\" for=\"9e4c180a-fe4c-4bd7-8d65-206e49090d79\">category</label><div class=\"sk-toggleable__content\"><pre>['VehicleType', 'Gearbox', 'Model', 'FuelType', 'Brand', 'NotRepaired']</pre></div></div></div><div class=\"sk-serial\"><div class=\"sk-item\"><div class=\"sk-serial\"><div class=\"sk-item\"><div class=\"sk-estimator sk-toggleable\"><input class=\"sk-toggleable__control sk-hidden--visually\" id=\"777943cc-3c2a-4920-93bd-ce152444511d\" type=\"checkbox\" ><label class=\"sk-toggleable__label\" for=\"777943cc-3c2a-4920-93bd-ce152444511d\">OneHotEncoder</label><div class=\"sk-toggleable__content\"><pre>OneHotEncoder(drop='if_binary', handle_unknown='ignore')</pre></div></div></div></div></div></div></div></div></div></div><div class=\"sk-item\"><div class=\"sk-estimator sk-toggleable\"><input class=\"sk-toggleable__control sk-hidden--visually\" id=\"c78428e5-7da4-49bb-81f2-1781f92835e3\" type=\"checkbox\" ><label class=\"sk-toggleable__label\" for=\"c78428e5-7da4-49bb-81f2-1781f92835e3\">GradientBoostingRegressor</label><div class=\"sk-toggleable__content\"><pre>GradientBoostingRegressor(random_state=42)</pre></div></div></div></div></div></div></div>"
      ],
      "text/plain": [
       "Pipeline(steps=[('preprocess',\n",
       "                 ColumnTransformer(transformers=[('number',\n",
       "                                                  Pipeline(steps=[('scale',\n",
       "                                                                   StandardScaler())]),\n",
       "                                                  ['RegistrationYear', 'Power',\n",
       "                                                   'Mileage']),\n",
       "                                                 ('category',\n",
       "                                                  Pipeline(steps=[('one-hot',\n",
       "                                                                   OneHotEncoder(drop='if_binary',\n",
       "                                                                                 handle_unknown='ignore'))]),\n",
       "                                                  ['VehicleType', 'Gearbox',\n",
       "                                                   'Model', 'FuelType', 'Brand',\n",
       "                                                   'NotRepaired'])])),\n",
       "                ('gradB_model', GradientBoostingRegressor(random_state=42))])"
      ]
     },
     "execution_count": 54,
     "metadata": {},
     "output_type": "execute_result"
    }
   ],
   "source": [
    "gradB_pipeline"
   ]
  },
  {
   "cell_type": "code",
   "execution_count": 55,
   "metadata": {},
   "outputs": [
    {
     "name": "stdout",
     "output_type": "stream",
     "text": [
      "runtime: 96.4\n"
     ]
    }
   ],
   "source": [
    "start = t.time()\n",
    "gradientBoosting= HalvingGridSearchCV(gradB_pipeline, param_grid= params, cv=3, scoring='neg_mean_squared_error', random_state=42)\n",
    "gradientBoosting.fit(X_train, y_train)\n",
    "end= t.time()\n",
    "print('runtime:', round((end - start), 1))"
   ]
  },
  {
   "cell_type": "code",
   "execution_count": 56,
   "metadata": {},
   "outputs": [
    {
     "data": {
      "text/plain": [
       "1491.4"
      ]
     },
     "execution_count": 56,
     "metadata": {},
     "output_type": "execute_result"
    }
   ],
   "source": [
    "gradientBoosting_score= np.sqrt(-gradientBoosting.best_score_).round(1)\n",
    "gradientBoosting_score"
   ]
  },
  {
   "cell_type": "code",
   "execution_count": 57,
   "metadata": {},
   "outputs": [
    {
     "data": {
      "text/plain": [
       "{'gradB_model__n_estimators': 200}"
      ]
     },
     "execution_count": 57,
     "metadata": {},
     "output_type": "execute_result"
    }
   ],
   "source": [
    "gradientBoosting.best_params_"
   ]
  },
  {
   "cell_type": "code",
   "execution_count": 58,
   "metadata": {},
   "outputs": [
    {
     "data": {
      "text/plain": [
       "1495.8"
      ]
     },
     "execution_count": 58,
     "metadata": {},
     "output_type": "execute_result"
    }
   ],
   "source": [
    "gradientBoosting_prediction= gradientBoosting.predict(X_test)\n",
    "test_score_gradientBoosting= np.sqrt(mean_squared_error(y_test, gradientBoosting_prediction)).round(1)\n",
    "test_score_gradientBoosting"
   ]
  },
  {
   "cell_type": "markdown",
   "metadata": {},
   "source": [
    "## 3. Conclusion"
   ]
  },
  {
   "cell_type": "markdown",
   "metadata": {},
   "source": [
    "Score performance:\n",
    "\n",
    "- several estimators and hyperparameters have been tested for the prediction of the used cars price: Linear regression, ElasticNet regression, RandomForest regression, AdaBoost regression and gradientBoosting regression. \n",
    "- the Linear regression has been selected as the baseline estimator with rmse value of 1921.9, which constitutes about 50% error off the mean price (4002.5)...\n",
    "- 2 models proved as improvements to this value: RandomForest regression (rmse= 1870.0) and GradientBoosting regression (rmse= 1495.8). \n",
    "- gradient boosting proved to yield the optimal predictor with the least rmse value.  \n",
    "\n",
    "Runtime performance: \n",
    "- in terms of runtime performance the best performance is that of linear regression because there was no hyperparameter tuning (16.2 seconds), followed by gradient boosting regression (90.3 seconds). \n",
    "\n",
    "overall: the best performance in both runtime and rmse terms, was that of GradientBoosting regression."
   ]
  },
  {
   "cell_type": "markdown",
   "metadata": {},
   "source": [
    "<div class=\"alert alert-warning\">\n",
    "<b>Reviewer's comment</b>\n",
    "\t  \n",
    "Excellent work! You tried several different models, did some hyperaparameter tuning with cross-validation and analyzed the models' performance both in terms of their error and runtime.\n",
    "    \n",
    "One thing I would suggest is to measure the time it takes to train only the model with fixed hyperparameters, because otherwise the runtime of a grid search depends on how many combinations we're considering. Also, it would be nice to separately measure the time it takes to make predictions for each model (this is probably even more important metric: because the model is used to make predictions much more often than it is trained).\n",
    "\t  \n",
    "</div>"
   ]
  },
  {
   "cell_type": "code",
   "execution_count": null,
   "metadata": {},
   "outputs": [],
   "source": []
  }
 ],
 "metadata": {
  "ExecuteTimeLog": [
   {
    "duration": 1717,
    "start_time": "2021-11-14T05:32:02.094Z"
   },
   {
    "duration": -205,
    "start_time": "2021-11-14T05:32:04.020Z"
   },
   {
    "duration": -210,
    "start_time": "2021-11-14T05:32:04.026Z"
   }
  ],
  "interpreter": {
   "hash": "23300995598eec4bcf6bd89cf02d1c3675e8b2616661418dbbf5580aa901878d"
  },
  "kernelspec": {
   "display_name": "Python 3",
   "language": "python",
   "name": "python3"
  },
  "language_info": {
   "codemirror_mode": {
    "name": "ipython",
    "version": 3
   },
   "file_extension": ".py",
   "mimetype": "text/x-python",
   "name": "python",
   "nbconvert_exporter": "python",
   "pygments_lexer": "ipython3",
   "version": "3.9.7"
  },
  "toc": {
   "base_numbering": 1,
   "nav_menu": {},
   "number_sections": true,
   "sideBar": true,
   "skip_h1_title": true,
   "title_cell": "Table of Contents",
   "title_sidebar": "Contents",
   "toc_cell": false,
   "toc_position": {},
   "toc_section_display": true,
   "toc_window_display": false
  }
 },
 "nbformat": 4,
 "nbformat_minor": 2
}
