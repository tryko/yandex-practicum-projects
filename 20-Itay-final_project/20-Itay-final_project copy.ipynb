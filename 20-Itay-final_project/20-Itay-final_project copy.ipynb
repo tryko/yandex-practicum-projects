{
 "cells": [
  {
   "cell_type": "markdown",
   "metadata": {},
   "source": [
    "**Review**\n",
    "\n",
    "Hi, my name is Dmitry and I will be reviewing your project.\n",
    "  \n",
    "You can find my comments in colored markdown cells:\n",
    "  \n",
    "<div class=\"alert alert-success\">\n",
    "  If everything is done successfully.\n",
    "</div>\n",
    "  \n",
    "<div class=\"alert alert-warning\">\n",
    "  If I have some (optional) suggestions, or questions to think about, or general comments.\n",
    "</div>\n",
    "  \n",
    "<div class=\"alert alert-danger\">\n",
    "  If a section requires some corrections. Work can't be accepted with red comments.\n",
    "</div>\n",
    "  \n",
    "Please don't remove my comments, as it will make further review iterations much harder for me.\n",
    "  \n",
    "Feel free to reply to my comments or ask questions using the following template:\n",
    "  \n",
    "<div class=\"alert alert-info\">\n",
    "  For your comments and questions.\n",
    "</div>\n",
    "  \n",
    "First of all, thank you for turning in the project! You did an excellent job overall, there's just one tiny problem that needs to be fixed before the code is accepted. It should be very straightforward though!"
   ]
  },
  {
   "cell_type": "markdown",
   "metadata": {
    "toc": true
   },
   "source": [
    "<h1>Table of Contents<span class=\"tocSkip\"></span></h1>\n",
    "<div class=\"toc\"><ul class=\"toc-item\"><li><span><a href=\"#Instalations,-Imports,-Utils-and-Loading-data\" data-toc-modified-id=\"Instalations,-Imports,-Utils-and-Loading-data-1\"><span class=\"toc-item-num\">1&nbsp;&nbsp;</span>Instalations, Imports, Utils and Loading data</a></span><ul class=\"toc-item\"><li><span><a href=\"#Instalations\" data-toc-modified-id=\"Instalations-1.1\"><span class=\"toc-item-num\">1.1&nbsp;&nbsp;</span>Instalations</a></span></li><li><span><a href=\"#Imports\" data-toc-modified-id=\"Imports-1.2\"><span class=\"toc-item-num\">1.2&nbsp;&nbsp;</span>Imports</a></span></li><li><span><a href=\"#Utils\" data-toc-modified-id=\"Utils-1.3\"><span class=\"toc-item-num\">1.3&nbsp;&nbsp;</span>Utils</a></span></li><li><span><a href=\"#Loading-Data\" data-toc-modified-id=\"Loading-Data-1.4\"><span class=\"toc-item-num\">1.4&nbsp;&nbsp;</span>Loading Data</a></span></li></ul></li><li><span><a href=\"#EDA\" data-toc-modified-id=\"EDA-2\"><span class=\"toc-item-num\">2&nbsp;&nbsp;</span>EDA</a></span><ul class=\"toc-item\"><li><span><a href=\"#Looking-at-DataFrames-Data\" data-toc-modified-id=\"Looking-at-DataFrames-Data-2.1\"><span class=\"toc-item-num\">2.1&nbsp;&nbsp;</span>Looking at DataFrames Data</a></span></li><li><span><a href=\"#Info\" data-toc-modified-id=\"Info-2.2\"><span class=\"toc-item-num\">2.2&nbsp;&nbsp;</span>Info</a></span></li><li><span><a href=\"#Value-Counts\" data-toc-modified-id=\"Value-Counts-2.3\"><span class=\"toc-item-num\">2.3&nbsp;&nbsp;</span>Value Counts</a></span></li><li><span><a href=\"#Duplicates\" data-toc-modified-id=\"Duplicates-2.4\"><span class=\"toc-item-num\">2.4&nbsp;&nbsp;</span>Duplicates</a></span></li><li><span><a href=\"#Missing-Values\" data-toc-modified-id=\"Missing-Values-2.5\"><span class=\"toc-item-num\">2.5&nbsp;&nbsp;</span>Missing Values</a></span></li><li><span><a href=\"#Merging-DataFrames\" data-toc-modified-id=\"Merging-DataFrames-2.6\"><span class=\"toc-item-num\">2.6&nbsp;&nbsp;</span>Merging DataFrames</a></span></li><li><span><a href=\"#Handeling-Missing-values-from-merge\" data-toc-modified-id=\"Handeling-Missing-values-from-merge-2.7\"><span class=\"toc-item-num\">2.7&nbsp;&nbsp;</span>Handeling Missing values from merge</a></span></li><li><span><a href=\"#Handeling-missing-values-and-types\" data-toc-modified-id=\"Handeling-missing-values-and-types-2.8\"><span class=\"toc-item-num\">2.8&nbsp;&nbsp;</span>Handeling missing values and types</a></span><ul class=\"toc-item\"><li><span><a href=\"#Create-is_customer\" data-toc-modified-id=\"Create-is_customer-2.8.1\"><span class=\"toc-item-num\">2.8.1&nbsp;&nbsp;</span>Create is_customer</a></span></li><li><span><a href=\"#begin_date-and-end_date\" data-toc-modified-id=\"begin_date-and-end_date-2.8.2\"><span class=\"toc-item-num\">2.8.2&nbsp;&nbsp;</span>begin_date and end_date</a></span></li><li><span><a href=\"#type-column\" data-toc-modified-id=\"type-column-2.8.3\"><span class=\"toc-item-num\">2.8.3&nbsp;&nbsp;</span>type column</a></span></li><li><span><a href=\"#total_charges\" data-toc-modified-id=\"total_charges-2.8.4\"><span class=\"toc-item-num\">2.8.4&nbsp;&nbsp;</span>total_charges</a></span></li></ul></li><li><span><a href=\"#Feature-Engineering\" data-toc-modified-id=\"Feature-Engineering-2.9\"><span class=\"toc-item-num\">2.9&nbsp;&nbsp;</span>Feature Engineering</a></span><ul class=\"toc-item\"><li><span><a href=\"#Creating-month_duration\" data-toc-modified-id=\"Creating-month_duration-2.9.1\"><span class=\"toc-item-num\">2.9.1&nbsp;&nbsp;</span>Creating month_duration</a></span></li><li><span><a href=\"#Spliting-begin_date-to-year-and-month-columns-Dropping-date-columns\" data-toc-modified-id=\"Spliting-begin_date-to-year-and-month-columns-Dropping-date-columns-2.9.2\"><span class=\"toc-item-num\">2.9.2&nbsp;&nbsp;</span><del>Spliting begin_date to year and month columns</del> Dropping date columns</a></span></li><li><span><a href=\"#Downcasting-int-columns\" data-toc-modified-id=\"Downcasting-int-columns-2.9.3\"><span class=\"toc-item-num\">2.9.3&nbsp;&nbsp;</span>Downcasting int columns</a></span></li></ul></li></ul></li><li><span><a href=\"#Data-Analysis\" data-toc-modified-id=\"Data-Analysis-3\"><span class=\"toc-item-num\">3&nbsp;&nbsp;</span>Data Analysis</a></span><ul class=\"toc-item\"><li><ul class=\"toc-item\"><li><span><a href=\"#Class-Balance\" data-toc-modified-id=\"Class-Balance-3.0.1\"><span class=\"toc-item-num\">3.0.1&nbsp;&nbsp;</span>Class Balance</a></span></li><li><span><a href=\"#Correlation\" data-toc-modified-id=\"Correlation-3.0.2\"><span class=\"toc-item-num\">3.0.2&nbsp;&nbsp;</span>Correlation</a></span></li></ul></li></ul></li><li><span><a href=\"#Preparing-For-Model-Training\" data-toc-modified-id=\"Preparing-For-Model-Training-4\"><span class=\"toc-item-num\">4&nbsp;&nbsp;</span>Preparing For Model Training</a></span><ul class=\"toc-item\"><li><ul class=\"toc-item\"><li><span><a href=\"#DummyClassifier\" data-toc-modified-id=\"DummyClassifier-4.0.1\"><span class=\"toc-item-num\">4.0.1&nbsp;&nbsp;</span>DummyClassifier</a></span></li><li><span><a href=\"#LogisticRegression\" data-toc-modified-id=\"LogisticRegression-4.0.2\"><span class=\"toc-item-num\">4.0.2&nbsp;&nbsp;</span>LogisticRegression</a></span></li><li><span><a href=\"#Random-Forest\" data-toc-modified-id=\"Random-Forest-4.0.3\"><span class=\"toc-item-num\">4.0.3&nbsp;&nbsp;</span>Random Forest</a></span></li><li><span><a href=\"#CatBoost\" data-toc-modified-id=\"CatBoost-4.0.4\"><span class=\"toc-item-num\">4.0.4&nbsp;&nbsp;</span>CatBoost</a></span><ul class=\"toc-item\"><li><span><a href=\"#SMOTE\" data-toc-modified-id=\"SMOTE-4.0.4.1\"><span class=\"toc-item-num\">4.0.4.1&nbsp;&nbsp;</span>SMOTE</a></span></li></ul></li></ul></li></ul></li><li><span><a href=\"#Conclusions\" data-toc-modified-id=\"Conclusions-5\"><span class=\"toc-item-num\">5&nbsp;&nbsp;</span>Conclusions</a></span></li></ul></div>"
   ]
  },
  {
   "cell_type": "markdown",
   "metadata": {},
   "source": [
    "## Instalations, Imports, Utils and Loading data"
   ]
  },
  {
   "cell_type": "markdown",
   "metadata": {},
   "source": [
    "### Instalations"
   ]
  },
  {
   "cell_type": "code",
   "execution_count": null,
   "metadata": {
    "scrolled": true
   },
   "outputs": [],
   "source": [
    "%pip install pandas --upgrade         \n",
    "%pip install numpy                    \n",
    "%pip install -U matplotlib             \n",
    "%pip install seaborn --upgrade         \n",
    "%pip install plotly --upgrade          \n",
    "%pip install sidetable                 \n",
    "%pip install -U scikit-learn --upgrade \n"
   ]
  },
  {
   "cell_type": "code",
   "execution_count": null,
   "metadata": {},
   "outputs": [],
   "source": [
    "%pip install -U imbalanced-learn"
   ]
  },
  {
   "cell_type": "code",
   "execution_count": null,
   "metadata": {},
   "outputs": [],
   "source": [
    "%pip install catboost"
   ]
  },
  {
   "cell_type": "markdown",
   "metadata": {},
   "source": [
    "### Imports"
   ]
  },
  {
   "cell_type": "code",
   "execution_count": 1,
   "metadata": {},
   "outputs": [],
   "source": [
    "# Importing pandas libarary.\n",
    "import pandas as pd\n",
    "\n",
    "# Importing NumPy library.\n",
    "import numpy as np\n",
    "\n",
    "# Importing Visualizations\n",
    "import matplotlib\n",
    "import matplotlib.pyplot as plt\n",
    "import seaborn as sns\n",
    "from sklearn.metrics import ConfusionMatrixDisplay\n",
    "\n",
    "# Best parameter search \n",
    "from sklearn.model_selection import GridSearchCV\n",
    "\n",
    "# utils:\n",
    "from sklearn.preprocessing import MinMaxScaler, StandardScaler, OrdinalEncoder,OneHotEncoder       \n",
    "from sklearn.model_selection import train_test_split                 \n",
    "import re                                            \n",
    "from time import perf_counter as timer               \n",
    "from IPython.display import display_html "
   ]
  },
  {
   "cell_type": "markdown",
   "metadata": {},
   "source": [
    "### Utils"
   ]
  },
  {
   "cell_type": "code",
   "execution_count": 2,
   "metadata": {},
   "outputs": [],
   "source": [
    "def side_by_side_display(df_ls, captions=[], title=''):\n",
    "    # \"four\" if i%4==0 else \"six\" if i%6==0  else i\n",
    "    df_ls = [df if type(df) == pd.DataFrame else pd.DataFrame(df) for df in df_ls]\n",
    "    df_to_display = ''\n",
    "    for i in range(len(df_ls)):\n",
    "        if 0 <= i < len(captions):\n",
    "            caption = captions[i]\n",
    "        else:\n",
    "            caption = ''\n",
    "        df_style = df_ls[i].style.set_table_attributes(\"style='display:inline'\").set_caption(caption)\n",
    "        df_to_display += df_style._repr_html_()\n",
    "    print(title)\n",
    "    display_html(df_to_display, raw=True)\n",
    "    "
   ]
  },
  {
   "cell_type": "code",
   "execution_count": 3,
   "metadata": {},
   "outputs": [],
   "source": [
    "from functools import reduce"
   ]
  },
  {
   "cell_type": "code",
   "execution_count": 4,
   "metadata": {},
   "outputs": [],
   "source": [
    "from IPython.display import display\n",
    "pd.options.display.max_rows = 100"
   ]
  },
  {
   "cell_type": "code",
   "execution_count": 5,
   "metadata": {},
   "outputs": [],
   "source": [
    "import sys\n",
    "import warnings\n",
    "if not sys.warnoptions:\n",
    "    warnings.simplefilter(\"ignore\")"
   ]
  },
  {
   "cell_type": "code",
   "execution_count": 6,
   "metadata": {},
   "outputs": [],
   "source": [
    "# Converting the default of pandas to show regular numbers instead of Scientific Notation.\n",
    "pd.set_option('display.float_format', lambda x: '%.3f' % x)"
   ]
  },
  {
   "cell_type": "code",
   "execution_count": 7,
   "metadata": {},
   "outputs": [],
   "source": [
    "# sets default size of plots\n",
    "matplotlib.style.use('ggplot')"
   ]
  },
  {
   "cell_type": "markdown",
   "metadata": {},
   "source": [
    "### Loading Data"
   ]
  },
  {
   "cell_type": "code",
   "execution_count": 137,
   "metadata": {},
   "outputs": [],
   "source": [
    "# Loading data\n",
    "try:\n",
    "    df_contract = pd.read_csv('./contract.csv')\n",
    "    df_personal = pd.read_csv('./personal.csv')\n",
    "    df_internet = pd.read_csv('./internet.csv')\n",
    "    df_phone = pd.read_csv('./phone.csv')\n",
    "except:   \n",
    "    df_contract = pd.read_csv('/datasets/final_provider/contract.csv')\n",
    "    df_personal = pd.read_csv('/datasets/final_provider/personal.csv')\n",
    "    df_internet = pd.read_csv('/datasets/final_provider/internet.csv')\n",
    "    df_phone = pd.read_csv('/datasets/final_provider/phone.csv')\n",
    "    \n",
    "dfs = [df_contract, df_personal, df_internet, df_phone]"
   ]
  },
  {
   "cell_type": "code",
   "execution_count": 138,
   "metadata": {},
   "outputs": [],
   "source": [
    "names= ['contract','pesonal','internet','phone']\n",
    "for i in range(len(dfs)):\n",
    "    dfs[i].name= names[i]"
   ]
  },
  {
   "cell_type": "markdown",
   "metadata": {},
   "source": [
    "Lowring the columns names:"
   ]
  },
  {
   "cell_type": "code",
   "execution_count": 139,
   "metadata": {},
   "outputs": [],
   "source": [
    "def convert(name):\n",
    "    pattern = re.compile(r\"[A-Z]{2,}(?=[A-Z][a-z]+[0-9]*|\\b)|[A-Z]?[a-z]+[0-9]*|[A-Z]|[0-9]+\")\n",
    "    found = pattern.findall(name)\n",
    "    s1 = \"_\".join(found)\n",
    "    return s1.lower()"
   ]
  },
  {
   "cell_type": "code",
   "execution_count": 140,
   "metadata": {},
   "outputs": [],
   "source": [
    "# Changes the columns names to lower case and separate the words using _ e.g:\n",
    "# BoldMove => bold_move.\n",
    "for df in dfs:\n",
    "    new_columns = [convert(col) for col in df.columns.to_list()]\n",
    "    df.columns = new_columns"
   ]
  },
  {
   "cell_type": "markdown",
   "metadata": {},
   "source": [
    "## EDA"
   ]
  },
  {
   "cell_type": "markdown",
   "metadata": {},
   "source": [
    "### Looking at DataFrames Data"
   ]
  },
  {
   "cell_type": "code",
   "execution_count": 141,
   "metadata": {},
   "outputs": [
    {
     "data": {
      "text/plain": [
       "'contract'"
      ]
     },
     "metadata": {},
     "output_type": "display_data"
    },
    {
     "data": {
      "text/html": [
       "<div>\n",
       "<style scoped>\n",
       "    .dataframe tbody tr th:only-of-type {\n",
       "        vertical-align: middle;\n",
       "    }\n",
       "\n",
       "    .dataframe tbody tr th {\n",
       "        vertical-align: top;\n",
       "    }\n",
       "\n",
       "    .dataframe thead th {\n",
       "        text-align: right;\n",
       "    }\n",
       "</style>\n",
       "<table border=\"1\" class=\"dataframe\">\n",
       "  <thead>\n",
       "    <tr style=\"text-align: right;\">\n",
       "      <th></th>\n",
       "      <th>customer_id</th>\n",
       "      <th>begin_date</th>\n",
       "      <th>end_date</th>\n",
       "      <th>type</th>\n",
       "      <th>paperless_billing</th>\n",
       "      <th>payment_method</th>\n",
       "      <th>monthly_charges</th>\n",
       "      <th>total_charges</th>\n",
       "    </tr>\n",
       "  </thead>\n",
       "  <tbody>\n",
       "    <tr>\n",
       "      <th>0</th>\n",
       "      <td>7590-VHVEG</td>\n",
       "      <td>2020-01-01</td>\n",
       "      <td>No</td>\n",
       "      <td>Month-to-month</td>\n",
       "      <td>Yes</td>\n",
       "      <td>Electronic check</td>\n",
       "      <td>29.850</td>\n",
       "      <td>29.85</td>\n",
       "    </tr>\n",
       "    <tr>\n",
       "      <th>1</th>\n",
       "      <td>5575-GNVDE</td>\n",
       "      <td>2017-04-01</td>\n",
       "      <td>No</td>\n",
       "      <td>One year</td>\n",
       "      <td>No</td>\n",
       "      <td>Mailed check</td>\n",
       "      <td>56.950</td>\n",
       "      <td>1889.5</td>\n",
       "    </tr>\n",
       "    <tr>\n",
       "      <th>2</th>\n",
       "      <td>3668-QPYBK</td>\n",
       "      <td>2019-10-01</td>\n",
       "      <td>2019-12-01 00:00:00</td>\n",
       "      <td>Month-to-month</td>\n",
       "      <td>Yes</td>\n",
       "      <td>Mailed check</td>\n",
       "      <td>53.850</td>\n",
       "      <td>108.15</td>\n",
       "    </tr>\n",
       "  </tbody>\n",
       "</table>\n",
       "</div>"
      ],
      "text/plain": [
       "  customer_id  begin_date             end_date            type  \\\n",
       "0  7590-VHVEG  2020-01-01                   No  Month-to-month   \n",
       "1  5575-GNVDE  2017-04-01                   No        One year   \n",
       "2  3668-QPYBK  2019-10-01  2019-12-01 00:00:00  Month-to-month   \n",
       "\n",
       "  paperless_billing    payment_method  monthly_charges total_charges  \n",
       "0               Yes  Electronic check           29.850         29.85  \n",
       "1                No      Mailed check           56.950        1889.5  \n",
       "2               Yes      Mailed check           53.850        108.15  "
      ]
     },
     "metadata": {},
     "output_type": "display_data"
    },
    {
     "name": "stdout",
     "output_type": "stream",
     "text": [
      "-----------\n"
     ]
    },
    {
     "data": {
      "text/plain": [
       "'pesonal'"
      ]
     },
     "metadata": {},
     "output_type": "display_data"
    },
    {
     "data": {
      "text/html": [
       "<div>\n",
       "<style scoped>\n",
       "    .dataframe tbody tr th:only-of-type {\n",
       "        vertical-align: middle;\n",
       "    }\n",
       "\n",
       "    .dataframe tbody tr th {\n",
       "        vertical-align: top;\n",
       "    }\n",
       "\n",
       "    .dataframe thead th {\n",
       "        text-align: right;\n",
       "    }\n",
       "</style>\n",
       "<table border=\"1\" class=\"dataframe\">\n",
       "  <thead>\n",
       "    <tr style=\"text-align: right;\">\n",
       "      <th></th>\n",
       "      <th>customer_id</th>\n",
       "      <th>gender</th>\n",
       "      <th>senior_citizen</th>\n",
       "      <th>partner</th>\n",
       "      <th>dependents</th>\n",
       "    </tr>\n",
       "  </thead>\n",
       "  <tbody>\n",
       "    <tr>\n",
       "      <th>0</th>\n",
       "      <td>7590-VHVEG</td>\n",
       "      <td>Female</td>\n",
       "      <td>0</td>\n",
       "      <td>Yes</td>\n",
       "      <td>No</td>\n",
       "    </tr>\n",
       "    <tr>\n",
       "      <th>1</th>\n",
       "      <td>5575-GNVDE</td>\n",
       "      <td>Male</td>\n",
       "      <td>0</td>\n",
       "      <td>No</td>\n",
       "      <td>No</td>\n",
       "    </tr>\n",
       "    <tr>\n",
       "      <th>2</th>\n",
       "      <td>3668-QPYBK</td>\n",
       "      <td>Male</td>\n",
       "      <td>0</td>\n",
       "      <td>No</td>\n",
       "      <td>No</td>\n",
       "    </tr>\n",
       "  </tbody>\n",
       "</table>\n",
       "</div>"
      ],
      "text/plain": [
       "  customer_id  gender  senior_citizen partner dependents\n",
       "0  7590-VHVEG  Female               0     Yes         No\n",
       "1  5575-GNVDE    Male               0      No         No\n",
       "2  3668-QPYBK    Male               0      No         No"
      ]
     },
     "metadata": {},
     "output_type": "display_data"
    },
    {
     "name": "stdout",
     "output_type": "stream",
     "text": [
      "-----------\n"
     ]
    },
    {
     "data": {
      "text/plain": [
       "'internet'"
      ]
     },
     "metadata": {},
     "output_type": "display_data"
    },
    {
     "data": {
      "text/html": [
       "<div>\n",
       "<style scoped>\n",
       "    .dataframe tbody tr th:only-of-type {\n",
       "        vertical-align: middle;\n",
       "    }\n",
       "\n",
       "    .dataframe tbody tr th {\n",
       "        vertical-align: top;\n",
       "    }\n",
       "\n",
       "    .dataframe thead th {\n",
       "        text-align: right;\n",
       "    }\n",
       "</style>\n",
       "<table border=\"1\" class=\"dataframe\">\n",
       "  <thead>\n",
       "    <tr style=\"text-align: right;\">\n",
       "      <th></th>\n",
       "      <th>customer_id</th>\n",
       "      <th>internet_service</th>\n",
       "      <th>online_security</th>\n",
       "      <th>online_backup</th>\n",
       "      <th>device_protection</th>\n",
       "      <th>tech_support</th>\n",
       "      <th>streaming_tv</th>\n",
       "      <th>streaming_movies</th>\n",
       "    </tr>\n",
       "  </thead>\n",
       "  <tbody>\n",
       "    <tr>\n",
       "      <th>0</th>\n",
       "      <td>7590-VHVEG</td>\n",
       "      <td>DSL</td>\n",
       "      <td>No</td>\n",
       "      <td>Yes</td>\n",
       "      <td>No</td>\n",
       "      <td>No</td>\n",
       "      <td>No</td>\n",
       "      <td>No</td>\n",
       "    </tr>\n",
       "    <tr>\n",
       "      <th>1</th>\n",
       "      <td>5575-GNVDE</td>\n",
       "      <td>DSL</td>\n",
       "      <td>Yes</td>\n",
       "      <td>No</td>\n",
       "      <td>Yes</td>\n",
       "      <td>No</td>\n",
       "      <td>No</td>\n",
       "      <td>No</td>\n",
       "    </tr>\n",
       "    <tr>\n",
       "      <th>2</th>\n",
       "      <td>3668-QPYBK</td>\n",
       "      <td>DSL</td>\n",
       "      <td>Yes</td>\n",
       "      <td>Yes</td>\n",
       "      <td>No</td>\n",
       "      <td>No</td>\n",
       "      <td>No</td>\n",
       "      <td>No</td>\n",
       "    </tr>\n",
       "  </tbody>\n",
       "</table>\n",
       "</div>"
      ],
      "text/plain": [
       "  customer_id internet_service online_security online_backup  \\\n",
       "0  7590-VHVEG              DSL              No           Yes   \n",
       "1  5575-GNVDE              DSL             Yes            No   \n",
       "2  3668-QPYBK              DSL             Yes           Yes   \n",
       "\n",
       "  device_protection tech_support streaming_tv streaming_movies  \n",
       "0                No           No           No               No  \n",
       "1               Yes           No           No               No  \n",
       "2                No           No           No               No  "
      ]
     },
     "metadata": {},
     "output_type": "display_data"
    },
    {
     "name": "stdout",
     "output_type": "stream",
     "text": [
      "-----------\n"
     ]
    },
    {
     "data": {
      "text/plain": [
       "'phone'"
      ]
     },
     "metadata": {},
     "output_type": "display_data"
    },
    {
     "data": {
      "text/html": [
       "<div>\n",
       "<style scoped>\n",
       "    .dataframe tbody tr th:only-of-type {\n",
       "        vertical-align: middle;\n",
       "    }\n",
       "\n",
       "    .dataframe tbody tr th {\n",
       "        vertical-align: top;\n",
       "    }\n",
       "\n",
       "    .dataframe thead th {\n",
       "        text-align: right;\n",
       "    }\n",
       "</style>\n",
       "<table border=\"1\" class=\"dataframe\">\n",
       "  <thead>\n",
       "    <tr style=\"text-align: right;\">\n",
       "      <th></th>\n",
       "      <th>customer_id</th>\n",
       "      <th>multiple_lines</th>\n",
       "    </tr>\n",
       "  </thead>\n",
       "  <tbody>\n",
       "    <tr>\n",
       "      <th>0</th>\n",
       "      <td>5575-GNVDE</td>\n",
       "      <td>No</td>\n",
       "    </tr>\n",
       "    <tr>\n",
       "      <th>1</th>\n",
       "      <td>3668-QPYBK</td>\n",
       "      <td>No</td>\n",
       "    </tr>\n",
       "    <tr>\n",
       "      <th>2</th>\n",
       "      <td>9237-HQITU</td>\n",
       "      <td>No</td>\n",
       "    </tr>\n",
       "  </tbody>\n",
       "</table>\n",
       "</div>"
      ],
      "text/plain": [
       "  customer_id multiple_lines\n",
       "0  5575-GNVDE             No\n",
       "1  3668-QPYBK             No\n",
       "2  9237-HQITU             No"
      ]
     },
     "metadata": {},
     "output_type": "display_data"
    },
    {
     "name": "stdout",
     "output_type": "stream",
     "text": [
      "-----------\n"
     ]
    }
   ],
   "source": [
    "for df in dfs:\n",
    "    display(df.name, df.head(3))\n",
    "    print('-----------')"
   ]
  },
  {
   "cell_type": "markdown",
   "metadata": {},
   "source": [
    "Some Observations:<br>\n",
    "All dataframes have customerID, so I will disregard from this column.\n",
    "* contract: \n",
    "    * StartDate: holds the date of customer joining\n",
    "    * EndDate: is our target, hold either \"no\" or date\n",
    "    * Type: seems like a categorical or binary\n",
    "    * PaperlessBilling: binary column\n",
    "    * PaymentMethod: seems categorical.\n",
    "* pesonal:\n",
    "    * All columns, seem to be binary\n",
    "* internet:\n",
    "    * InternetService: seems categorical\n",
    "    * rest of the columns seem to be binary\n",
    "* phone:\n",
    "    * MultipleLines: categorical"
   ]
  },
  {
   "cell_type": "markdown",
   "metadata": {},
   "source": [
    "### Info"
   ]
  },
  {
   "cell_type": "code",
   "execution_count": 142,
   "metadata": {},
   "outputs": [
    {
     "name": "stdout",
     "output_type": "stream",
     "text": [
      "contract\n",
      "<class 'pandas.core.frame.DataFrame'>\n",
      "RangeIndex: 7043 entries, 0 to 7042\n",
      "Data columns (total 8 columns):\n",
      " #   Column             Non-Null Count  Dtype  \n",
      "---  ------             --------------  -----  \n",
      " 0   customer_id        7043 non-null   object \n",
      " 1   begin_date         7043 non-null   object \n",
      " 2   end_date           7043 non-null   object \n",
      " 3   type               7043 non-null   object \n",
      " 4   paperless_billing  7043 non-null   object \n",
      " 5   payment_method     7043 non-null   object \n",
      " 6   monthly_charges    7043 non-null   float64\n",
      " 7   total_charges      7043 non-null   object \n",
      "dtypes: float64(1), object(7)\n",
      "memory usage: 440.3+ KB\n"
     ]
    },
    {
     "data": {
      "text/plain": [
       "None"
      ]
     },
     "metadata": {},
     "output_type": "display_data"
    },
    {
     "name": "stdout",
     "output_type": "stream",
     "text": [
      "pesonal\n",
      "<class 'pandas.core.frame.DataFrame'>\n",
      "RangeIndex: 7043 entries, 0 to 7042\n",
      "Data columns (total 5 columns):\n",
      " #   Column          Non-Null Count  Dtype \n",
      "---  ------          --------------  ----- \n",
      " 0   customer_id     7043 non-null   object\n",
      " 1   gender          7043 non-null   object\n",
      " 2   senior_citizen  7043 non-null   int64 \n",
      " 3   partner         7043 non-null   object\n",
      " 4   dependents      7043 non-null   object\n",
      "dtypes: int64(1), object(4)\n",
      "memory usage: 275.2+ KB\n"
     ]
    },
    {
     "data": {
      "text/plain": [
       "None"
      ]
     },
     "metadata": {},
     "output_type": "display_data"
    },
    {
     "name": "stdout",
     "output_type": "stream",
     "text": [
      "internet\n",
      "<class 'pandas.core.frame.DataFrame'>\n",
      "RangeIndex: 5517 entries, 0 to 5516\n",
      "Data columns (total 8 columns):\n",
      " #   Column             Non-Null Count  Dtype \n",
      "---  ------             --------------  ----- \n",
      " 0   customer_id        5517 non-null   object\n",
      " 1   internet_service   5517 non-null   object\n",
      " 2   online_security    5517 non-null   object\n",
      " 3   online_backup      5517 non-null   object\n",
      " 4   device_protection  5517 non-null   object\n",
      " 5   tech_support       5517 non-null   object\n",
      " 6   streaming_tv       5517 non-null   object\n",
      " 7   streaming_movies   5517 non-null   object\n",
      "dtypes: object(8)\n",
      "memory usage: 344.9+ KB\n"
     ]
    },
    {
     "data": {
      "text/plain": [
       "None"
      ]
     },
     "metadata": {},
     "output_type": "display_data"
    },
    {
     "name": "stdout",
     "output_type": "stream",
     "text": [
      "phone\n",
      "<class 'pandas.core.frame.DataFrame'>\n",
      "RangeIndex: 6361 entries, 0 to 6360\n",
      "Data columns (total 2 columns):\n",
      " #   Column          Non-Null Count  Dtype \n",
      "---  ------          --------------  ----- \n",
      " 0   customer_id     6361 non-null   object\n",
      " 1   multiple_lines  6361 non-null   object\n",
      "dtypes: object(2)\n",
      "memory usage: 99.5+ KB\n"
     ]
    },
    {
     "data": {
      "text/plain": [
       "None"
      ]
     },
     "metadata": {},
     "output_type": "display_data"
    }
   ],
   "source": [
    "for df in dfs:\n",
    "    print(df.name)\n",
    "    display(df.info())"
   ]
  },
  {
   "cell_type": "markdown",
   "metadata": {},
   "source": [
    "Observastions regarding info:\n",
    "\n",
    "* contract:\n",
    "    * begin_date: change to date type\n",
    "    * end_date: delete and change data to two other columns:\n",
    "        * duration: the difference between the current time and start date.\n",
    "        * is_customer: binary column if a customer_id is still a customer\n",
    "    * type,paperless_billing,payment_method: count how many values and change to categorical or binary.\n",
    "    * total_charges: change to float\n",
    "\n",
    "* personal:\n",
    "    * gender: change to binary\n",
    "    * senior_citizen: can change to 16 bit\n",
    "    * partner, dependent: count how many values and change to categorical or binary\n",
    "\n",
    "* internet:\n",
    "    * count how many values and change all columns to categorical or binary\n",
    "    \n",
    "* phone:\n",
    "    * count how many values and change all columns to categorical or binary"
   ]
  },
  {
   "cell_type": "markdown",
   "metadata": {},
   "source": [
    "### Value Counts"
   ]
  },
  {
   "cell_type": "code",
   "execution_count": 143,
   "metadata": {},
   "outputs": [
    {
     "data": {
      "text/plain": [
       "Index(['customer_id', 'begin_date', 'end_date', 'type', 'paperless_billing',\n",
       "       'payment_method', 'monthly_charges', 'total_charges'],\n",
       "      dtype='object')"
      ]
     },
     "execution_count": 143,
     "metadata": {},
     "output_type": "execute_result"
    }
   ],
   "source": [
    "df_contract.columns"
   ]
  },
  {
   "cell_type": "code",
   "execution_count": 144,
   "metadata": {
    "scrolled": true
   },
   "outputs": [
    {
     "name": "stdout",
     "output_type": "stream",
     "text": [
      "contract\n",
      "7590-VHVEG    1\n",
      "3791-LGQCY    1\n",
      "6008-NAIXK    1\n",
      "5956-YHHRX    1\n",
      "5365-LLFYV    1\n",
      "             ..\n",
      "9796-MVYXX    1\n",
      "2637-FKFSY    1\n",
      "1552-AAGRX    1\n",
      "4304-TSPVK    1\n",
      "3186-AJIEK    1\n",
      "Name: customer_id, Length: 7043, dtype: int64\n",
      "2014-02-01    366\n",
      "2019-10-01    237\n",
      "2019-11-01    237\n",
      "2019-09-01    237\n",
      "2020-01-01    233\n",
      "2019-12-01    220\n",
      "2014-03-01    178\n",
      "2019-07-01    156\n",
      "2019-08-01    146\n",
      "2019-06-01    141\n",
      "2019-02-01    128\n",
      "2019-05-01    123\n",
      "2019-01-01    114\n",
      "2014-04-01    114\n",
      "2019-03-01    110\n",
      "2019-04-01    108\n",
      "2018-08-01    100\n",
      "2018-09-01    100\n",
      "2018-11-01     99\n",
      "2014-07-01     98\n",
      "2014-05-01     98\n",
      "2014-06-01     97\n",
      "2017-03-01     94\n",
      "2018-02-01     91\n",
      "2017-12-01     90\n",
      "2018-12-01     90\n",
      "2018-03-01     89\n",
      "2018-06-01     84\n",
      "2014-08-01     82\n",
      "2017-11-01     82\n",
      "2015-10-01     81\n",
      "2018-04-01     81\n",
      "2014-10-01     80\n",
      "2015-02-01     80\n",
      "2018-07-01     80\n",
      "2015-06-01     79\n",
      "2018-10-01     78\n",
      "2014-11-01     77\n",
      "2014-12-01     75\n",
      "2015-01-01     75\n",
      "2016-09-01     74\n",
      "2015-05-01     74\n",
      "2015-11-01     74\n",
      "2016-02-01     73\n",
      "2017-09-01     73\n",
      "2018-01-01     73\n",
      "2016-04-01     73\n",
      "2014-09-01     72\n",
      "2017-08-01     71\n",
      "2015-04-01     69\n",
      "2016-05-01     68\n",
      "2015-12-01     68\n",
      "2015-09-01     67\n",
      "2016-08-01     67\n",
      "2015-08-01     66\n",
      "2017-04-01     66\n",
      "2017-05-01     66\n",
      "2017-07-01     65\n",
      "2016-10-01     65\n",
      "2018-05-01     65\n",
      "2017-01-01     64\n",
      "2017-06-01     62\n",
      "2015-07-01     61\n",
      "2016-03-01     61\n",
      "2016-06-01     59\n",
      "2016-07-01     58\n",
      "2016-12-01     58\n",
      "2015-03-01     58\n",
      "2017-10-01     57\n",
      "2016-01-01     57\n",
      "2017-02-01     55\n",
      "2016-11-01     50\n",
      "2020-02-01     11\n",
      "2014-01-01      7\n",
      "2013-10-01      3\n",
      "2013-12-01      3\n",
      "2013-11-01      2\n",
      "Name: begin_date, dtype: int64\n",
      "No                     5174\n",
      "2019-11-01 00:00:00     485\n",
      "2019-12-01 00:00:00     466\n",
      "2020-01-01 00:00:00     460\n",
      "2019-10-01 00:00:00     458\n",
      "Name: end_date, dtype: int64\n",
      "Month-to-month    3875\n",
      "Two year          1695\n",
      "One year          1473\n",
      "Name: type, dtype: int64\n",
      "Yes    4171\n",
      "No     2872\n",
      "Name: paperless_billing, dtype: int64\n",
      "Electronic check             2365\n",
      "Mailed check                 1612\n",
      "Bank transfer (automatic)    1544\n",
      "Credit card (automatic)      1522\n",
      "Name: payment_method, dtype: int64\n",
      "20.050     61\n",
      "19.850     45\n",
      "19.950     44\n",
      "19.900     44\n",
      "20.000     43\n",
      "           ..\n",
      "23.650      1\n",
      "114.700     1\n",
      "43.650      1\n",
      "87.800      1\n",
      "78.700      1\n",
      "Name: monthly_charges, Length: 1585, dtype: int64\n",
      "          11\n",
      "20.2      11\n",
      "19.75      9\n",
      "20.05      8\n",
      "19.9       8\n",
      "          ..\n",
      "6849.4     1\n",
      "692.35     1\n",
      "130.15     1\n",
      "3211.9     1\n",
      "6844.5     1\n",
      "Name: total_charges, Length: 6531, dtype: int64\n"
     ]
    }
   ],
   "source": [
    "print(df_contract.name)\n",
    "for col in df_contract.columns:\n",
    "    print(df_contract[col].value_counts())"
   ]
  },
  {
   "cell_type": "markdown",
   "metadata": {},
   "source": [
    "Observations df_contract:\n",
    "* there are no duplicates in customer_id\n",
    "* all begin_date start at the first of the month.\n",
    "* end date has 4 values, 4 are dates the rest in string of \"No\"\n",
    "* type, paperless_billing, payment_method can be easily one hot encoded\n",
    "* total_charges has 11 values that are \" \""
   ]
  },
  {
   "cell_type": "code",
   "execution_count": 145,
   "metadata": {},
   "outputs": [
    {
     "name": "stdout",
     "output_type": "stream",
     "text": [
      "pesonal\n",
      "7590-VHVEG    1\n",
      "3791-LGQCY    1\n",
      "6008-NAIXK    1\n",
      "5956-YHHRX    1\n",
      "5365-LLFYV    1\n",
      "             ..\n",
      "9796-MVYXX    1\n",
      "2637-FKFSY    1\n",
      "1552-AAGRX    1\n",
      "4304-TSPVK    1\n",
      "3186-AJIEK    1\n",
      "Name: customer_id, Length: 7043, dtype: int64\n",
      "Male      3555\n",
      "Female    3488\n",
      "Name: gender, dtype: int64\n",
      "0    5901\n",
      "1    1142\n",
      "Name: senior_citizen, dtype: int64\n",
      "No     3641\n",
      "Yes    3402\n",
      "Name: partner, dtype: int64\n",
      "No     4933\n",
      "Yes    2110\n",
      "Name: dependents, dtype: int64\n"
     ]
    }
   ],
   "source": [
    "print(df_personal.name)\n",
    "for col in df_personal.columns:\n",
    "    print(df_personal[col].value_counts())"
   ]
  },
  {
   "cell_type": "markdown",
   "metadata": {},
   "source": [
    "Observations df_personal:\n",
    "* besides the type the data has no weird values"
   ]
  },
  {
   "cell_type": "code",
   "execution_count": 146,
   "metadata": {},
   "outputs": [
    {
     "name": "stdout",
     "output_type": "stream",
     "text": [
      "internet\n",
      "7590-VHVEG    1\n",
      "5181-OABFK    1\n",
      "9356-AXGMP    1\n",
      "5176-OLSKT    1\n",
      "7508-DQAKK    1\n",
      "             ..\n",
      "1104-FEJAM    1\n",
      "2972-YDYUW    1\n",
      "4238-JSSWH    1\n",
      "0869-PAPRP    1\n",
      "3186-AJIEK    1\n",
      "Name: customer_id, Length: 5517, dtype: int64\n",
      "Fiber optic    3096\n",
      "DSL            2421\n",
      "Name: internet_service, dtype: int64\n",
      "No     3498\n",
      "Yes    2019\n",
      "Name: online_security, dtype: int64\n",
      "No     3088\n",
      "Yes    2429\n",
      "Name: online_backup, dtype: int64\n",
      "No     3095\n",
      "Yes    2422\n",
      "Name: device_protection, dtype: int64\n",
      "No     3473\n",
      "Yes    2044\n",
      "Name: tech_support, dtype: int64\n",
      "No     2810\n",
      "Yes    2707\n",
      "Name: streaming_tv, dtype: int64\n",
      "No     2785\n",
      "Yes    2732\n",
      "Name: streaming_movies, dtype: int64\n"
     ]
    }
   ],
   "source": [
    "print(df_internet.name)\n",
    "for col in df_internet.columns:\n",
    "    print(df_internet[col].value_counts())"
   ]
  },
  {
   "cell_type": "markdown",
   "metadata": {},
   "source": [
    "Observations df_internet:\n",
    "* beside the types there are not weird values"
   ]
  },
  {
   "cell_type": "code",
   "execution_count": 147,
   "metadata": {},
   "outputs": [
    {
     "name": "stdout",
     "output_type": "stream",
     "text": [
      "phone\n",
      "5575-GNVDE    1\n",
      "0980-FEXWF    1\n",
      "8082-GHXOP    1\n",
      "3393-FMZPV    1\n",
      "8701-DGLVH    1\n",
      "             ..\n",
      "8197-BFWVU    1\n",
      "9154-QDGTH    1\n",
      "8499-BRXTD    1\n",
      "8552-OBVRU    1\n",
      "3186-AJIEK    1\n",
      "Name: customer_id, Length: 6361, dtype: int64\n",
      "No     3390\n",
      "Yes    2971\n",
      "Name: multiple_lines, dtype: int64\n"
     ]
    }
   ],
   "source": [
    "print(df_phone.name)\n",
    "for col in df_phone.columns:\n",
    "    print(df_phone[col].value_counts())"
   ]
  },
  {
   "cell_type": "markdown",
   "metadata": {},
   "source": [
    "Observations df_phone:\n",
    "* beside the types there are not weird values"
   ]
  },
  {
   "cell_type": "markdown",
   "metadata": {},
   "source": [
    "### Duplicates"
   ]
  },
  {
   "cell_type": "code",
   "execution_count": 148,
   "metadata": {},
   "outputs": [
    {
     "name": "stdout",
     "output_type": "stream",
     "text": [
      "0 duplicates in contract\n",
      "0 duplicates in pesonal\n",
      "0 duplicates in internet\n",
      "0 duplicates in phone\n"
     ]
    }
   ],
   "source": [
    "for df in dfs:\n",
    "    print(f\"{df.duplicated().sum()} duplicates in {df.name}\")"
   ]
  },
  {
   "cell_type": "markdown",
   "metadata": {},
   "source": [
    "### Missing Values"
   ]
  },
  {
   "cell_type": "code",
   "execution_count": 149,
   "metadata": {},
   "outputs": [
    {
     "data": {
      "text/plain": [
       "customer_id          0\n",
       "begin_date           0\n",
       "end_date             0\n",
       "type                 0\n",
       "paperless_billing    0\n",
       "payment_method       0\n",
       "monthly_charges      0\n",
       "total_charges        0\n",
       "dtype: int64"
      ]
     },
     "metadata": {},
     "output_type": "display_data"
    },
    {
     "data": {
      "text/plain": [
       "customer_id       0\n",
       "gender            0\n",
       "senior_citizen    0\n",
       "partner           0\n",
       "dependents        0\n",
       "dtype: int64"
      ]
     },
     "metadata": {},
     "output_type": "display_data"
    },
    {
     "data": {
      "text/plain": [
       "customer_id          0\n",
       "internet_service     0\n",
       "online_security      0\n",
       "online_backup        0\n",
       "device_protection    0\n",
       "tech_support         0\n",
       "streaming_tv         0\n",
       "streaming_movies     0\n",
       "dtype: int64"
      ]
     },
     "metadata": {},
     "output_type": "display_data"
    },
    {
     "data": {
      "text/plain": [
       "customer_id       0\n",
       "multiple_lines    0\n",
       "dtype: int64"
      ]
     },
     "metadata": {},
     "output_type": "display_data"
    }
   ],
   "source": [
    "for df in dfs:\n",
    "    display(df.isna().sum())"
   ]
  },
  {
   "cell_type": "markdown",
   "metadata": {},
   "source": [
    "Excelent! There are no missing values."
   ]
  },
  {
   "cell_type": "markdown",
   "metadata": {},
   "source": [
    "### Merging DataFrames"
   ]
  },
  {
   "cell_type": "code",
   "execution_count": 150,
   "metadata": {},
   "outputs": [],
   "source": [
    "df = reduce(lambda left, right: pd.merge(left , right,on = [\"customer_id\"],how = \"outer\"),dfs)"
   ]
  },
  {
   "cell_type": "markdown",
   "metadata": {},
   "source": [
    "Lets look at our data."
   ]
  },
  {
   "cell_type": "code",
   "execution_count": 151,
   "metadata": {},
   "outputs": [
    {
     "data": {
      "text/html": [
       "<div>\n",
       "<style scoped>\n",
       "    .dataframe tbody tr th:only-of-type {\n",
       "        vertical-align: middle;\n",
       "    }\n",
       "\n",
       "    .dataframe tbody tr th {\n",
       "        vertical-align: top;\n",
       "    }\n",
       "\n",
       "    .dataframe thead th {\n",
       "        text-align: right;\n",
       "    }\n",
       "</style>\n",
       "<table border=\"1\" class=\"dataframe\">\n",
       "  <thead>\n",
       "    <tr style=\"text-align: right;\">\n",
       "      <th></th>\n",
       "      <th>customer_id</th>\n",
       "      <th>begin_date</th>\n",
       "      <th>end_date</th>\n",
       "      <th>type</th>\n",
       "      <th>paperless_billing</th>\n",
       "      <th>payment_method</th>\n",
       "      <th>monthly_charges</th>\n",
       "      <th>total_charges</th>\n",
       "      <th>gender</th>\n",
       "      <th>senior_citizen</th>\n",
       "      <th>partner</th>\n",
       "      <th>dependents</th>\n",
       "      <th>internet_service</th>\n",
       "      <th>online_security</th>\n",
       "      <th>online_backup</th>\n",
       "      <th>device_protection</th>\n",
       "      <th>tech_support</th>\n",
       "      <th>streaming_tv</th>\n",
       "      <th>streaming_movies</th>\n",
       "      <th>multiple_lines</th>\n",
       "    </tr>\n",
       "  </thead>\n",
       "  <tbody>\n",
       "    <tr>\n",
       "      <th>0</th>\n",
       "      <td>7590-VHVEG</td>\n",
       "      <td>2020-01-01</td>\n",
       "      <td>No</td>\n",
       "      <td>Month-to-month</td>\n",
       "      <td>Yes</td>\n",
       "      <td>Electronic check</td>\n",
       "      <td>29.850</td>\n",
       "      <td>29.85</td>\n",
       "      <td>Female</td>\n",
       "      <td>0</td>\n",
       "      <td>Yes</td>\n",
       "      <td>No</td>\n",
       "      <td>DSL</td>\n",
       "      <td>No</td>\n",
       "      <td>Yes</td>\n",
       "      <td>No</td>\n",
       "      <td>No</td>\n",
       "      <td>No</td>\n",
       "      <td>No</td>\n",
       "      <td>NaN</td>\n",
       "    </tr>\n",
       "    <tr>\n",
       "      <th>1</th>\n",
       "      <td>5575-GNVDE</td>\n",
       "      <td>2017-04-01</td>\n",
       "      <td>No</td>\n",
       "      <td>One year</td>\n",
       "      <td>No</td>\n",
       "      <td>Mailed check</td>\n",
       "      <td>56.950</td>\n",
       "      <td>1889.5</td>\n",
       "      <td>Male</td>\n",
       "      <td>0</td>\n",
       "      <td>No</td>\n",
       "      <td>No</td>\n",
       "      <td>DSL</td>\n",
       "      <td>Yes</td>\n",
       "      <td>No</td>\n",
       "      <td>Yes</td>\n",
       "      <td>No</td>\n",
       "      <td>No</td>\n",
       "      <td>No</td>\n",
       "      <td>No</td>\n",
       "    </tr>\n",
       "    <tr>\n",
       "      <th>2</th>\n",
       "      <td>3668-QPYBK</td>\n",
       "      <td>2019-10-01</td>\n",
       "      <td>2019-12-01 00:00:00</td>\n",
       "      <td>Month-to-month</td>\n",
       "      <td>Yes</td>\n",
       "      <td>Mailed check</td>\n",
       "      <td>53.850</td>\n",
       "      <td>108.15</td>\n",
       "      <td>Male</td>\n",
       "      <td>0</td>\n",
       "      <td>No</td>\n",
       "      <td>No</td>\n",
       "      <td>DSL</td>\n",
       "      <td>Yes</td>\n",
       "      <td>Yes</td>\n",
       "      <td>No</td>\n",
       "      <td>No</td>\n",
       "      <td>No</td>\n",
       "      <td>No</td>\n",
       "      <td>No</td>\n",
       "    </tr>\n",
       "    <tr>\n",
       "      <th>3</th>\n",
       "      <td>7795-CFOCW</td>\n",
       "      <td>2016-05-01</td>\n",
       "      <td>No</td>\n",
       "      <td>One year</td>\n",
       "      <td>No</td>\n",
       "      <td>Bank transfer (automatic)</td>\n",
       "      <td>42.300</td>\n",
       "      <td>1840.75</td>\n",
       "      <td>Male</td>\n",
       "      <td>0</td>\n",
       "      <td>No</td>\n",
       "      <td>No</td>\n",
       "      <td>DSL</td>\n",
       "      <td>Yes</td>\n",
       "      <td>No</td>\n",
       "      <td>Yes</td>\n",
       "      <td>Yes</td>\n",
       "      <td>No</td>\n",
       "      <td>No</td>\n",
       "      <td>NaN</td>\n",
       "    </tr>\n",
       "    <tr>\n",
       "      <th>4</th>\n",
       "      <td>9237-HQITU</td>\n",
       "      <td>2019-09-01</td>\n",
       "      <td>2019-11-01 00:00:00</td>\n",
       "      <td>Month-to-month</td>\n",
       "      <td>Yes</td>\n",
       "      <td>Electronic check</td>\n",
       "      <td>70.700</td>\n",
       "      <td>151.65</td>\n",
       "      <td>Female</td>\n",
       "      <td>0</td>\n",
       "      <td>No</td>\n",
       "      <td>No</td>\n",
       "      <td>Fiber optic</td>\n",
       "      <td>No</td>\n",
       "      <td>No</td>\n",
       "      <td>No</td>\n",
       "      <td>No</td>\n",
       "      <td>No</td>\n",
       "      <td>No</td>\n",
       "      <td>No</td>\n",
       "    </tr>\n",
       "    <tr>\n",
       "      <th>...</th>\n",
       "      <td>...</td>\n",
       "      <td>...</td>\n",
       "      <td>...</td>\n",
       "      <td>...</td>\n",
       "      <td>...</td>\n",
       "      <td>...</td>\n",
       "      <td>...</td>\n",
       "      <td>...</td>\n",
       "      <td>...</td>\n",
       "      <td>...</td>\n",
       "      <td>...</td>\n",
       "      <td>...</td>\n",
       "      <td>...</td>\n",
       "      <td>...</td>\n",
       "      <td>...</td>\n",
       "      <td>...</td>\n",
       "      <td>...</td>\n",
       "      <td>...</td>\n",
       "      <td>...</td>\n",
       "      <td>...</td>\n",
       "    </tr>\n",
       "    <tr>\n",
       "      <th>7038</th>\n",
       "      <td>6840-RESVB</td>\n",
       "      <td>2018-02-01</td>\n",
       "      <td>No</td>\n",
       "      <td>One year</td>\n",
       "      <td>Yes</td>\n",
       "      <td>Mailed check</td>\n",
       "      <td>84.800</td>\n",
       "      <td>1990.5</td>\n",
       "      <td>Male</td>\n",
       "      <td>0</td>\n",
       "      <td>Yes</td>\n",
       "      <td>Yes</td>\n",
       "      <td>DSL</td>\n",
       "      <td>Yes</td>\n",
       "      <td>No</td>\n",
       "      <td>Yes</td>\n",
       "      <td>Yes</td>\n",
       "      <td>Yes</td>\n",
       "      <td>Yes</td>\n",
       "      <td>Yes</td>\n",
       "    </tr>\n",
       "    <tr>\n",
       "      <th>7039</th>\n",
       "      <td>2234-XADUH</td>\n",
       "      <td>2014-02-01</td>\n",
       "      <td>No</td>\n",
       "      <td>One year</td>\n",
       "      <td>Yes</td>\n",
       "      <td>Credit card (automatic)</td>\n",
       "      <td>103.200</td>\n",
       "      <td>7362.9</td>\n",
       "      <td>Female</td>\n",
       "      <td>0</td>\n",
       "      <td>Yes</td>\n",
       "      <td>Yes</td>\n",
       "      <td>Fiber optic</td>\n",
       "      <td>No</td>\n",
       "      <td>Yes</td>\n",
       "      <td>Yes</td>\n",
       "      <td>No</td>\n",
       "      <td>Yes</td>\n",
       "      <td>Yes</td>\n",
       "      <td>Yes</td>\n",
       "    </tr>\n",
       "    <tr>\n",
       "      <th>7040</th>\n",
       "      <td>4801-JZAZL</td>\n",
       "      <td>2019-03-01</td>\n",
       "      <td>No</td>\n",
       "      <td>Month-to-month</td>\n",
       "      <td>Yes</td>\n",
       "      <td>Electronic check</td>\n",
       "      <td>29.600</td>\n",
       "      <td>346.45</td>\n",
       "      <td>Female</td>\n",
       "      <td>0</td>\n",
       "      <td>Yes</td>\n",
       "      <td>Yes</td>\n",
       "      <td>DSL</td>\n",
       "      <td>Yes</td>\n",
       "      <td>No</td>\n",
       "      <td>No</td>\n",
       "      <td>No</td>\n",
       "      <td>No</td>\n",
       "      <td>No</td>\n",
       "      <td>NaN</td>\n",
       "    </tr>\n",
       "    <tr>\n",
       "      <th>7041</th>\n",
       "      <td>8361-LTMKD</td>\n",
       "      <td>2019-07-01</td>\n",
       "      <td>2019-11-01 00:00:00</td>\n",
       "      <td>Month-to-month</td>\n",
       "      <td>Yes</td>\n",
       "      <td>Mailed check</td>\n",
       "      <td>74.400</td>\n",
       "      <td>306.6</td>\n",
       "      <td>Male</td>\n",
       "      <td>1</td>\n",
       "      <td>Yes</td>\n",
       "      <td>No</td>\n",
       "      <td>Fiber optic</td>\n",
       "      <td>No</td>\n",
       "      <td>No</td>\n",
       "      <td>No</td>\n",
       "      <td>No</td>\n",
       "      <td>No</td>\n",
       "      <td>No</td>\n",
       "      <td>Yes</td>\n",
       "    </tr>\n",
       "    <tr>\n",
       "      <th>7042</th>\n",
       "      <td>3186-AJIEK</td>\n",
       "      <td>2014-08-01</td>\n",
       "      <td>No</td>\n",
       "      <td>Two year</td>\n",
       "      <td>Yes</td>\n",
       "      <td>Bank transfer (automatic)</td>\n",
       "      <td>105.650</td>\n",
       "      <td>6844.5</td>\n",
       "      <td>Male</td>\n",
       "      <td>0</td>\n",
       "      <td>No</td>\n",
       "      <td>No</td>\n",
       "      <td>Fiber optic</td>\n",
       "      <td>Yes</td>\n",
       "      <td>No</td>\n",
       "      <td>Yes</td>\n",
       "      <td>Yes</td>\n",
       "      <td>Yes</td>\n",
       "      <td>Yes</td>\n",
       "      <td>No</td>\n",
       "    </tr>\n",
       "  </tbody>\n",
       "</table>\n",
       "<p>7043 rows × 20 columns</p>\n",
       "</div>"
      ],
      "text/plain": [
       "     customer_id  begin_date             end_date            type  \\\n",
       "0     7590-VHVEG  2020-01-01                   No  Month-to-month   \n",
       "1     5575-GNVDE  2017-04-01                   No        One year   \n",
       "2     3668-QPYBK  2019-10-01  2019-12-01 00:00:00  Month-to-month   \n",
       "3     7795-CFOCW  2016-05-01                   No        One year   \n",
       "4     9237-HQITU  2019-09-01  2019-11-01 00:00:00  Month-to-month   \n",
       "...          ...         ...                  ...             ...   \n",
       "7038  6840-RESVB  2018-02-01                   No        One year   \n",
       "7039  2234-XADUH  2014-02-01                   No        One year   \n",
       "7040  4801-JZAZL  2019-03-01                   No  Month-to-month   \n",
       "7041  8361-LTMKD  2019-07-01  2019-11-01 00:00:00  Month-to-month   \n",
       "7042  3186-AJIEK  2014-08-01                   No        Two year   \n",
       "\n",
       "     paperless_billing             payment_method  monthly_charges  \\\n",
       "0                  Yes           Electronic check           29.850   \n",
       "1                   No               Mailed check           56.950   \n",
       "2                  Yes               Mailed check           53.850   \n",
       "3                   No  Bank transfer (automatic)           42.300   \n",
       "4                  Yes           Electronic check           70.700   \n",
       "...                ...                        ...              ...   \n",
       "7038               Yes               Mailed check           84.800   \n",
       "7039               Yes    Credit card (automatic)          103.200   \n",
       "7040               Yes           Electronic check           29.600   \n",
       "7041               Yes               Mailed check           74.400   \n",
       "7042               Yes  Bank transfer (automatic)          105.650   \n",
       "\n",
       "     total_charges  gender  senior_citizen partner dependents  \\\n",
       "0            29.85  Female               0     Yes         No   \n",
       "1           1889.5    Male               0      No         No   \n",
       "2           108.15    Male               0      No         No   \n",
       "3          1840.75    Male               0      No         No   \n",
       "4           151.65  Female               0      No         No   \n",
       "...            ...     ...             ...     ...        ...   \n",
       "7038        1990.5    Male               0     Yes        Yes   \n",
       "7039        7362.9  Female               0     Yes        Yes   \n",
       "7040        346.45  Female               0     Yes        Yes   \n",
       "7041         306.6    Male               1     Yes         No   \n",
       "7042        6844.5    Male               0      No         No   \n",
       "\n",
       "     internet_service online_security online_backup device_protection  \\\n",
       "0                 DSL              No           Yes                No   \n",
       "1                 DSL             Yes            No               Yes   \n",
       "2                 DSL             Yes           Yes                No   \n",
       "3                 DSL             Yes            No               Yes   \n",
       "4         Fiber optic              No            No                No   \n",
       "...               ...             ...           ...               ...   \n",
       "7038              DSL             Yes            No               Yes   \n",
       "7039      Fiber optic              No           Yes               Yes   \n",
       "7040              DSL             Yes            No                No   \n",
       "7041      Fiber optic              No            No                No   \n",
       "7042      Fiber optic             Yes            No               Yes   \n",
       "\n",
       "     tech_support streaming_tv streaming_movies multiple_lines  \n",
       "0              No           No               No            NaN  \n",
       "1              No           No               No             No  \n",
       "2              No           No               No             No  \n",
       "3             Yes           No               No            NaN  \n",
       "4              No           No               No             No  \n",
       "...           ...          ...              ...            ...  \n",
       "7038          Yes          Yes              Yes            Yes  \n",
       "7039           No          Yes              Yes            Yes  \n",
       "7040           No           No               No            NaN  \n",
       "7041           No           No               No            Yes  \n",
       "7042          Yes          Yes              Yes             No  \n",
       "\n",
       "[7043 rows x 20 columns]"
      ]
     },
     "execution_count": 151,
     "metadata": {},
     "output_type": "execute_result"
    }
   ],
   "source": [
    "df"
   ]
  },
  {
   "cell_type": "code",
   "execution_count": 152,
   "metadata": {},
   "outputs": [
    {
     "name": "stdout",
     "output_type": "stream",
     "text": [
      "<class 'pandas.core.frame.DataFrame'>\n",
      "Int64Index: 7043 entries, 0 to 7042\n",
      "Data columns (total 20 columns):\n",
      " #   Column             Non-Null Count  Dtype  \n",
      "---  ------             --------------  -----  \n",
      " 0   customer_id        7043 non-null   object \n",
      " 1   begin_date         7043 non-null   object \n",
      " 2   end_date           7043 non-null   object \n",
      " 3   type               7043 non-null   object \n",
      " 4   paperless_billing  7043 non-null   object \n",
      " 5   payment_method     7043 non-null   object \n",
      " 6   monthly_charges    7043 non-null   float64\n",
      " 7   total_charges      7043 non-null   object \n",
      " 8   gender             7043 non-null   object \n",
      " 9   senior_citizen     7043 non-null   int64  \n",
      " 10  partner            7043 non-null   object \n",
      " 11  dependents         7043 non-null   object \n",
      " 12  internet_service   5517 non-null   object \n",
      " 13  online_security    5517 non-null   object \n",
      " 14  online_backup      5517 non-null   object \n",
      " 15  device_protection  5517 non-null   object \n",
      " 16  tech_support       5517 non-null   object \n",
      " 17  streaming_tv       5517 non-null   object \n",
      " 18  streaming_movies   5517 non-null   object \n",
      " 19  multiple_lines     6361 non-null   object \n",
      "dtypes: float64(1), int64(1), object(18)\n",
      "memory usage: 1.1+ MB\n"
     ]
    }
   ],
   "source": [
    "df.info()"
   ]
  },
  {
   "cell_type": "markdown",
   "metadata": {},
   "source": [
    "After observing value counts we can identify colukmns that are categorical."
   ]
  },
  {
   "cell_type": "code",
   "execution_count": 153,
   "metadata": {},
   "outputs": [],
   "source": [
    "categorical_cols = ['payment_method', 'type']"
   ]
  },
  {
   "cell_type": "markdown",
   "metadata": {},
   "source": [
    "<div class=\"alert alert-success\">\n",
    "<b>Reviewer's comment</b>\n",
    "\n",
    "Dataframes are merged correctly!\n",
    "\n",
    "</div>"
   ]
  },
  {
   "cell_type": "markdown",
   "metadata": {},
   "source": [
    "We can see there are some NAN values. since there are fewer observations in internet and phone than in contract and personal.\n",
    "\n",
    "------\n",
    "### Handeling Missing values from merge"
   ]
  },
  {
   "cell_type": "code",
   "execution_count": 154,
   "metadata": {},
   "outputs": [],
   "source": [
    "internet_nan_index = df[df.internet_service.isna()].index"
   ]
  },
  {
   "cell_type": "code",
   "execution_count": 155,
   "metadata": {},
   "outputs": [],
   "source": [
    "phone_nan_index = df[df.multiple_lines.isna()].index"
   ]
  },
  {
   "cell_type": "code",
   "execution_count": 156,
   "metadata": {},
   "outputs": [
    {
     "data": {
      "text/plain": [
       "0"
      ]
     },
     "execution_count": 156,
     "metadata": {},
     "output_type": "execute_result"
    }
   ],
   "source": [
    "internet_nan_index.isin(phone_nan_index).sum()"
   ]
  },
  {
   "cell_type": "markdown",
   "metadata": {},
   "source": [
    "There are no customers who has internet service NAN and phone NAN.<br>\n",
    "This means there are no paying customers without any service.\n",
    "\n",
    "Lets also add a column to tell us if a user has a phone or not, since multiple_lines just tells us what kind of phone we can still infer if he has a phone at all.<br>\n",
    "We will do the same with internet.\n",
    "\n",
    "get_dummies can handle na values by creating there own column"
   ]
  },
  {
   "cell_type": "code",
   "execution_count": 157,
   "metadata": {},
   "outputs": [],
   "source": [
    "# df['has_phone'] = df.multiple_lines.map({'Yes': 1, 'No':1})"
   ]
  },
  {
   "cell_type": "code",
   "execution_count": 158,
   "metadata": {},
   "outputs": [],
   "source": [
    "# Handeling phone and internet users\n",
    "df = pd.get_dummies(df, columns=['multiple_lines', 'internet_service'], drop_first=True, dummy_na=True)"
   ]
  },
  {
   "cell_type": "code",
   "execution_count": 159,
   "metadata": {},
   "outputs": [
    {
     "data": {
      "text/html": [
       "<div>\n",
       "<style scoped>\n",
       "    .dataframe tbody tr th:only-of-type {\n",
       "        vertical-align: middle;\n",
       "    }\n",
       "\n",
       "    .dataframe tbody tr th {\n",
       "        vertical-align: top;\n",
       "    }\n",
       "\n",
       "    .dataframe thead th {\n",
       "        text-align: right;\n",
       "    }\n",
       "</style>\n",
       "<table border=\"1\" class=\"dataframe\">\n",
       "  <thead>\n",
       "    <tr style=\"text-align: right;\">\n",
       "      <th></th>\n",
       "      <th>customer_id</th>\n",
       "      <th>begin_date</th>\n",
       "      <th>end_date</th>\n",
       "      <th>type</th>\n",
       "      <th>paperless_billing</th>\n",
       "      <th>payment_method</th>\n",
       "      <th>monthly_charges</th>\n",
       "      <th>total_charges</th>\n",
       "      <th>gender</th>\n",
       "      <th>senior_citizen</th>\n",
       "      <th>...</th>\n",
       "      <th>online_security</th>\n",
       "      <th>online_backup</th>\n",
       "      <th>device_protection</th>\n",
       "      <th>tech_support</th>\n",
       "      <th>streaming_tv</th>\n",
       "      <th>streaming_movies</th>\n",
       "      <th>multiple_lines_Yes</th>\n",
       "      <th>multiple_lines_nan</th>\n",
       "      <th>internet_service_Fiber optic</th>\n",
       "      <th>internet_service_nan</th>\n",
       "    </tr>\n",
       "  </thead>\n",
       "  <tbody>\n",
       "    <tr>\n",
       "      <th>0</th>\n",
       "      <td>7590-VHVEG</td>\n",
       "      <td>2020-01-01</td>\n",
       "      <td>No</td>\n",
       "      <td>Month-to-month</td>\n",
       "      <td>Yes</td>\n",
       "      <td>Electronic check</td>\n",
       "      <td>29.850</td>\n",
       "      <td>29.85</td>\n",
       "      <td>Female</td>\n",
       "      <td>0</td>\n",
       "      <td>...</td>\n",
       "      <td>No</td>\n",
       "      <td>Yes</td>\n",
       "      <td>No</td>\n",
       "      <td>No</td>\n",
       "      <td>No</td>\n",
       "      <td>No</td>\n",
       "      <td>0</td>\n",
       "      <td>1</td>\n",
       "      <td>0</td>\n",
       "      <td>0</td>\n",
       "    </tr>\n",
       "    <tr>\n",
       "      <th>1</th>\n",
       "      <td>5575-GNVDE</td>\n",
       "      <td>2017-04-01</td>\n",
       "      <td>No</td>\n",
       "      <td>One year</td>\n",
       "      <td>No</td>\n",
       "      <td>Mailed check</td>\n",
       "      <td>56.950</td>\n",
       "      <td>1889.5</td>\n",
       "      <td>Male</td>\n",
       "      <td>0</td>\n",
       "      <td>...</td>\n",
       "      <td>Yes</td>\n",
       "      <td>No</td>\n",
       "      <td>Yes</td>\n",
       "      <td>No</td>\n",
       "      <td>No</td>\n",
       "      <td>No</td>\n",
       "      <td>0</td>\n",
       "      <td>0</td>\n",
       "      <td>0</td>\n",
       "      <td>0</td>\n",
       "    </tr>\n",
       "    <tr>\n",
       "      <th>2</th>\n",
       "      <td>3668-QPYBK</td>\n",
       "      <td>2019-10-01</td>\n",
       "      <td>2019-12-01 00:00:00</td>\n",
       "      <td>Month-to-month</td>\n",
       "      <td>Yes</td>\n",
       "      <td>Mailed check</td>\n",
       "      <td>53.850</td>\n",
       "      <td>108.15</td>\n",
       "      <td>Male</td>\n",
       "      <td>0</td>\n",
       "      <td>...</td>\n",
       "      <td>Yes</td>\n",
       "      <td>Yes</td>\n",
       "      <td>No</td>\n",
       "      <td>No</td>\n",
       "      <td>No</td>\n",
       "      <td>No</td>\n",
       "      <td>0</td>\n",
       "      <td>0</td>\n",
       "      <td>0</td>\n",
       "      <td>0</td>\n",
       "    </tr>\n",
       "    <tr>\n",
       "      <th>3</th>\n",
       "      <td>7795-CFOCW</td>\n",
       "      <td>2016-05-01</td>\n",
       "      <td>No</td>\n",
       "      <td>One year</td>\n",
       "      <td>No</td>\n",
       "      <td>Bank transfer (automatic)</td>\n",
       "      <td>42.300</td>\n",
       "      <td>1840.75</td>\n",
       "      <td>Male</td>\n",
       "      <td>0</td>\n",
       "      <td>...</td>\n",
       "      <td>Yes</td>\n",
       "      <td>No</td>\n",
       "      <td>Yes</td>\n",
       "      <td>Yes</td>\n",
       "      <td>No</td>\n",
       "      <td>No</td>\n",
       "      <td>0</td>\n",
       "      <td>1</td>\n",
       "      <td>0</td>\n",
       "      <td>0</td>\n",
       "    </tr>\n",
       "    <tr>\n",
       "      <th>4</th>\n",
       "      <td>9237-HQITU</td>\n",
       "      <td>2019-09-01</td>\n",
       "      <td>2019-11-01 00:00:00</td>\n",
       "      <td>Month-to-month</td>\n",
       "      <td>Yes</td>\n",
       "      <td>Electronic check</td>\n",
       "      <td>70.700</td>\n",
       "      <td>151.65</td>\n",
       "      <td>Female</td>\n",
       "      <td>0</td>\n",
       "      <td>...</td>\n",
       "      <td>No</td>\n",
       "      <td>No</td>\n",
       "      <td>No</td>\n",
       "      <td>No</td>\n",
       "      <td>No</td>\n",
       "      <td>No</td>\n",
       "      <td>0</td>\n",
       "      <td>0</td>\n",
       "      <td>1</td>\n",
       "      <td>0</td>\n",
       "    </tr>\n",
       "    <tr>\n",
       "      <th>...</th>\n",
       "      <td>...</td>\n",
       "      <td>...</td>\n",
       "      <td>...</td>\n",
       "      <td>...</td>\n",
       "      <td>...</td>\n",
       "      <td>...</td>\n",
       "      <td>...</td>\n",
       "      <td>...</td>\n",
       "      <td>...</td>\n",
       "      <td>...</td>\n",
       "      <td>...</td>\n",
       "      <td>...</td>\n",
       "      <td>...</td>\n",
       "      <td>...</td>\n",
       "      <td>...</td>\n",
       "      <td>...</td>\n",
       "      <td>...</td>\n",
       "      <td>...</td>\n",
       "      <td>...</td>\n",
       "      <td>...</td>\n",
       "      <td>...</td>\n",
       "    </tr>\n",
       "    <tr>\n",
       "      <th>7038</th>\n",
       "      <td>6840-RESVB</td>\n",
       "      <td>2018-02-01</td>\n",
       "      <td>No</td>\n",
       "      <td>One year</td>\n",
       "      <td>Yes</td>\n",
       "      <td>Mailed check</td>\n",
       "      <td>84.800</td>\n",
       "      <td>1990.5</td>\n",
       "      <td>Male</td>\n",
       "      <td>0</td>\n",
       "      <td>...</td>\n",
       "      <td>Yes</td>\n",
       "      <td>No</td>\n",
       "      <td>Yes</td>\n",
       "      <td>Yes</td>\n",
       "      <td>Yes</td>\n",
       "      <td>Yes</td>\n",
       "      <td>1</td>\n",
       "      <td>0</td>\n",
       "      <td>0</td>\n",
       "      <td>0</td>\n",
       "    </tr>\n",
       "    <tr>\n",
       "      <th>7039</th>\n",
       "      <td>2234-XADUH</td>\n",
       "      <td>2014-02-01</td>\n",
       "      <td>No</td>\n",
       "      <td>One year</td>\n",
       "      <td>Yes</td>\n",
       "      <td>Credit card (automatic)</td>\n",
       "      <td>103.200</td>\n",
       "      <td>7362.9</td>\n",
       "      <td>Female</td>\n",
       "      <td>0</td>\n",
       "      <td>...</td>\n",
       "      <td>No</td>\n",
       "      <td>Yes</td>\n",
       "      <td>Yes</td>\n",
       "      <td>No</td>\n",
       "      <td>Yes</td>\n",
       "      <td>Yes</td>\n",
       "      <td>1</td>\n",
       "      <td>0</td>\n",
       "      <td>1</td>\n",
       "      <td>0</td>\n",
       "    </tr>\n",
       "    <tr>\n",
       "      <th>7040</th>\n",
       "      <td>4801-JZAZL</td>\n",
       "      <td>2019-03-01</td>\n",
       "      <td>No</td>\n",
       "      <td>Month-to-month</td>\n",
       "      <td>Yes</td>\n",
       "      <td>Electronic check</td>\n",
       "      <td>29.600</td>\n",
       "      <td>346.45</td>\n",
       "      <td>Female</td>\n",
       "      <td>0</td>\n",
       "      <td>...</td>\n",
       "      <td>Yes</td>\n",
       "      <td>No</td>\n",
       "      <td>No</td>\n",
       "      <td>No</td>\n",
       "      <td>No</td>\n",
       "      <td>No</td>\n",
       "      <td>0</td>\n",
       "      <td>1</td>\n",
       "      <td>0</td>\n",
       "      <td>0</td>\n",
       "    </tr>\n",
       "    <tr>\n",
       "      <th>7041</th>\n",
       "      <td>8361-LTMKD</td>\n",
       "      <td>2019-07-01</td>\n",
       "      <td>2019-11-01 00:00:00</td>\n",
       "      <td>Month-to-month</td>\n",
       "      <td>Yes</td>\n",
       "      <td>Mailed check</td>\n",
       "      <td>74.400</td>\n",
       "      <td>306.6</td>\n",
       "      <td>Male</td>\n",
       "      <td>1</td>\n",
       "      <td>...</td>\n",
       "      <td>No</td>\n",
       "      <td>No</td>\n",
       "      <td>No</td>\n",
       "      <td>No</td>\n",
       "      <td>No</td>\n",
       "      <td>No</td>\n",
       "      <td>1</td>\n",
       "      <td>0</td>\n",
       "      <td>1</td>\n",
       "      <td>0</td>\n",
       "    </tr>\n",
       "    <tr>\n",
       "      <th>7042</th>\n",
       "      <td>3186-AJIEK</td>\n",
       "      <td>2014-08-01</td>\n",
       "      <td>No</td>\n",
       "      <td>Two year</td>\n",
       "      <td>Yes</td>\n",
       "      <td>Bank transfer (automatic)</td>\n",
       "      <td>105.650</td>\n",
       "      <td>6844.5</td>\n",
       "      <td>Male</td>\n",
       "      <td>0</td>\n",
       "      <td>...</td>\n",
       "      <td>Yes</td>\n",
       "      <td>No</td>\n",
       "      <td>Yes</td>\n",
       "      <td>Yes</td>\n",
       "      <td>Yes</td>\n",
       "      <td>Yes</td>\n",
       "      <td>0</td>\n",
       "      <td>0</td>\n",
       "      <td>1</td>\n",
       "      <td>0</td>\n",
       "    </tr>\n",
       "  </tbody>\n",
       "</table>\n",
       "<p>7043 rows × 22 columns</p>\n",
       "</div>"
      ],
      "text/plain": [
       "     customer_id  begin_date             end_date            type  \\\n",
       "0     7590-VHVEG  2020-01-01                   No  Month-to-month   \n",
       "1     5575-GNVDE  2017-04-01                   No        One year   \n",
       "2     3668-QPYBK  2019-10-01  2019-12-01 00:00:00  Month-to-month   \n",
       "3     7795-CFOCW  2016-05-01                   No        One year   \n",
       "4     9237-HQITU  2019-09-01  2019-11-01 00:00:00  Month-to-month   \n",
       "...          ...         ...                  ...             ...   \n",
       "7038  6840-RESVB  2018-02-01                   No        One year   \n",
       "7039  2234-XADUH  2014-02-01                   No        One year   \n",
       "7040  4801-JZAZL  2019-03-01                   No  Month-to-month   \n",
       "7041  8361-LTMKD  2019-07-01  2019-11-01 00:00:00  Month-to-month   \n",
       "7042  3186-AJIEK  2014-08-01                   No        Two year   \n",
       "\n",
       "     paperless_billing             payment_method  monthly_charges  \\\n",
       "0                  Yes           Electronic check           29.850   \n",
       "1                   No               Mailed check           56.950   \n",
       "2                  Yes               Mailed check           53.850   \n",
       "3                   No  Bank transfer (automatic)           42.300   \n",
       "4                  Yes           Electronic check           70.700   \n",
       "...                ...                        ...              ...   \n",
       "7038               Yes               Mailed check           84.800   \n",
       "7039               Yes    Credit card (automatic)          103.200   \n",
       "7040               Yes           Electronic check           29.600   \n",
       "7041               Yes               Mailed check           74.400   \n",
       "7042               Yes  Bank transfer (automatic)          105.650   \n",
       "\n",
       "     total_charges  gender  senior_citizen  ... online_security online_backup  \\\n",
       "0            29.85  Female               0  ...              No           Yes   \n",
       "1           1889.5    Male               0  ...             Yes            No   \n",
       "2           108.15    Male               0  ...             Yes           Yes   \n",
       "3          1840.75    Male               0  ...             Yes            No   \n",
       "4           151.65  Female               0  ...              No            No   \n",
       "...            ...     ...             ...  ...             ...           ...   \n",
       "7038        1990.5    Male               0  ...             Yes            No   \n",
       "7039        7362.9  Female               0  ...              No           Yes   \n",
       "7040        346.45  Female               0  ...             Yes            No   \n",
       "7041         306.6    Male               1  ...              No            No   \n",
       "7042        6844.5    Male               0  ...             Yes            No   \n",
       "\n",
       "     device_protection tech_support streaming_tv streaming_movies  \\\n",
       "0                   No           No           No               No   \n",
       "1                  Yes           No           No               No   \n",
       "2                   No           No           No               No   \n",
       "3                  Yes          Yes           No               No   \n",
       "4                   No           No           No               No   \n",
       "...                ...          ...          ...              ...   \n",
       "7038               Yes          Yes          Yes              Yes   \n",
       "7039               Yes           No          Yes              Yes   \n",
       "7040                No           No           No               No   \n",
       "7041                No           No           No               No   \n",
       "7042               Yes          Yes          Yes              Yes   \n",
       "\n",
       "     multiple_lines_Yes multiple_lines_nan  internet_service_Fiber optic  \\\n",
       "0                     0                  1                             0   \n",
       "1                     0                  0                             0   \n",
       "2                     0                  0                             0   \n",
       "3                     0                  1                             0   \n",
       "4                     0                  0                             1   \n",
       "...                 ...                ...                           ...   \n",
       "7038                  1                  0                             0   \n",
       "7039                  1                  0                             1   \n",
       "7040                  0                  1                             0   \n",
       "7041                  1                  0                             1   \n",
       "7042                  0                  0                             1   \n",
       "\n",
       "      internet_service_nan  \n",
       "0                        0  \n",
       "1                        0  \n",
       "2                        0  \n",
       "3                        0  \n",
       "4                        0  \n",
       "...                    ...  \n",
       "7038                     0  \n",
       "7039                     0  \n",
       "7040                     0  \n",
       "7041                     0  \n",
       "7042                     0  \n",
       "\n",
       "[7043 rows x 22 columns]"
      ]
     },
     "execution_count": 159,
     "metadata": {},
     "output_type": "execute_result"
    }
   ],
   "source": [
    "df"
   ]
  },
  {
   "cell_type": "code",
   "execution_count": 160,
   "metadata": {},
   "outputs": [],
   "source": [
    "\n",
    "col_name_to_fix = {'internet_service_Fiber optic':'has_fiber',\n",
    "                   'multiple_lines_Yes':'has_multiple_lines',\n",
    "                   'multiple_lines_nan': 'has_phone',\n",
    "                   'internet_service_nan':'has_internet'}\n",
    "df.rename(columns=col_name_to_fix, inplace=True)\n",
    "new_columns = [convert(col) for col in df.columns.to_list()]\n",
    "df.columns = new_columns\n"
   ]
  },
  {
   "cell_type": "code",
   "execution_count": 161,
   "metadata": {},
   "outputs": [],
   "source": [
    "df.has_phone = df.has_phone.map({1:0, 0:1})"
   ]
  },
  {
   "cell_type": "code",
   "execution_count": 162,
   "metadata": {},
   "outputs": [],
   "source": [
    "df.has_internet = df.has_internet.map({1:0, 0:1})"
   ]
  },
  {
   "cell_type": "code",
   "execution_count": 163,
   "metadata": {},
   "outputs": [
    {
     "data": {
      "text/html": [
       "<div>\n",
       "<style scoped>\n",
       "    .dataframe tbody tr th:only-of-type {\n",
       "        vertical-align: middle;\n",
       "    }\n",
       "\n",
       "    .dataframe tbody tr th {\n",
       "        vertical-align: top;\n",
       "    }\n",
       "\n",
       "    .dataframe thead th {\n",
       "        text-align: right;\n",
       "    }\n",
       "</style>\n",
       "<table border=\"1\" class=\"dataframe\">\n",
       "  <thead>\n",
       "    <tr style=\"text-align: right;\">\n",
       "      <th></th>\n",
       "      <th>customer_id</th>\n",
       "      <th>begin_date</th>\n",
       "      <th>end_date</th>\n",
       "      <th>type</th>\n",
       "      <th>paperless_billing</th>\n",
       "      <th>payment_method</th>\n",
       "      <th>monthly_charges</th>\n",
       "      <th>total_charges</th>\n",
       "      <th>gender</th>\n",
       "      <th>senior_citizen</th>\n",
       "      <th>...</th>\n",
       "      <th>online_security</th>\n",
       "      <th>online_backup</th>\n",
       "      <th>device_protection</th>\n",
       "      <th>tech_support</th>\n",
       "      <th>streaming_tv</th>\n",
       "      <th>streaming_movies</th>\n",
       "      <th>has_multiple_lines</th>\n",
       "      <th>has_phone</th>\n",
       "      <th>has_fiber</th>\n",
       "      <th>has_internet</th>\n",
       "    </tr>\n",
       "  </thead>\n",
       "  <tbody>\n",
       "    <tr>\n",
       "      <th>0</th>\n",
       "      <td>7590-VHVEG</td>\n",
       "      <td>2020-01-01</td>\n",
       "      <td>No</td>\n",
       "      <td>Month-to-month</td>\n",
       "      <td>Yes</td>\n",
       "      <td>Electronic check</td>\n",
       "      <td>29.850</td>\n",
       "      <td>29.85</td>\n",
       "      <td>Female</td>\n",
       "      <td>0</td>\n",
       "      <td>...</td>\n",
       "      <td>No</td>\n",
       "      <td>Yes</td>\n",
       "      <td>No</td>\n",
       "      <td>No</td>\n",
       "      <td>No</td>\n",
       "      <td>No</td>\n",
       "      <td>0</td>\n",
       "      <td>0</td>\n",
       "      <td>0</td>\n",
       "      <td>1</td>\n",
       "    </tr>\n",
       "    <tr>\n",
       "      <th>1</th>\n",
       "      <td>5575-GNVDE</td>\n",
       "      <td>2017-04-01</td>\n",
       "      <td>No</td>\n",
       "      <td>One year</td>\n",
       "      <td>No</td>\n",
       "      <td>Mailed check</td>\n",
       "      <td>56.950</td>\n",
       "      <td>1889.5</td>\n",
       "      <td>Male</td>\n",
       "      <td>0</td>\n",
       "      <td>...</td>\n",
       "      <td>Yes</td>\n",
       "      <td>No</td>\n",
       "      <td>Yes</td>\n",
       "      <td>No</td>\n",
       "      <td>No</td>\n",
       "      <td>No</td>\n",
       "      <td>0</td>\n",
       "      <td>1</td>\n",
       "      <td>0</td>\n",
       "      <td>1</td>\n",
       "    </tr>\n",
       "    <tr>\n",
       "      <th>2</th>\n",
       "      <td>3668-QPYBK</td>\n",
       "      <td>2019-10-01</td>\n",
       "      <td>2019-12-01 00:00:00</td>\n",
       "      <td>Month-to-month</td>\n",
       "      <td>Yes</td>\n",
       "      <td>Mailed check</td>\n",
       "      <td>53.850</td>\n",
       "      <td>108.15</td>\n",
       "      <td>Male</td>\n",
       "      <td>0</td>\n",
       "      <td>...</td>\n",
       "      <td>Yes</td>\n",
       "      <td>Yes</td>\n",
       "      <td>No</td>\n",
       "      <td>No</td>\n",
       "      <td>No</td>\n",
       "      <td>No</td>\n",
       "      <td>0</td>\n",
       "      <td>1</td>\n",
       "      <td>0</td>\n",
       "      <td>1</td>\n",
       "    </tr>\n",
       "    <tr>\n",
       "      <th>3</th>\n",
       "      <td>7795-CFOCW</td>\n",
       "      <td>2016-05-01</td>\n",
       "      <td>No</td>\n",
       "      <td>One year</td>\n",
       "      <td>No</td>\n",
       "      <td>Bank transfer (automatic)</td>\n",
       "      <td>42.300</td>\n",
       "      <td>1840.75</td>\n",
       "      <td>Male</td>\n",
       "      <td>0</td>\n",
       "      <td>...</td>\n",
       "      <td>Yes</td>\n",
       "      <td>No</td>\n",
       "      <td>Yes</td>\n",
       "      <td>Yes</td>\n",
       "      <td>No</td>\n",
       "      <td>No</td>\n",
       "      <td>0</td>\n",
       "      <td>0</td>\n",
       "      <td>0</td>\n",
       "      <td>1</td>\n",
       "    </tr>\n",
       "    <tr>\n",
       "      <th>4</th>\n",
       "      <td>9237-HQITU</td>\n",
       "      <td>2019-09-01</td>\n",
       "      <td>2019-11-01 00:00:00</td>\n",
       "      <td>Month-to-month</td>\n",
       "      <td>Yes</td>\n",
       "      <td>Electronic check</td>\n",
       "      <td>70.700</td>\n",
       "      <td>151.65</td>\n",
       "      <td>Female</td>\n",
       "      <td>0</td>\n",
       "      <td>...</td>\n",
       "      <td>No</td>\n",
       "      <td>No</td>\n",
       "      <td>No</td>\n",
       "      <td>No</td>\n",
       "      <td>No</td>\n",
       "      <td>No</td>\n",
       "      <td>0</td>\n",
       "      <td>1</td>\n",
       "      <td>1</td>\n",
       "      <td>1</td>\n",
       "    </tr>\n",
       "  </tbody>\n",
       "</table>\n",
       "<p>5 rows × 22 columns</p>\n",
       "</div>"
      ],
      "text/plain": [
       "  customer_id  begin_date             end_date            type  \\\n",
       "0  7590-VHVEG  2020-01-01                   No  Month-to-month   \n",
       "1  5575-GNVDE  2017-04-01                   No        One year   \n",
       "2  3668-QPYBK  2019-10-01  2019-12-01 00:00:00  Month-to-month   \n",
       "3  7795-CFOCW  2016-05-01                   No        One year   \n",
       "4  9237-HQITU  2019-09-01  2019-11-01 00:00:00  Month-to-month   \n",
       "\n",
       "  paperless_billing             payment_method  monthly_charges total_charges  \\\n",
       "0               Yes           Electronic check           29.850         29.85   \n",
       "1                No               Mailed check           56.950        1889.5   \n",
       "2               Yes               Mailed check           53.850        108.15   \n",
       "3                No  Bank transfer (automatic)           42.300       1840.75   \n",
       "4               Yes           Electronic check           70.700        151.65   \n",
       "\n",
       "   gender  senior_citizen  ... online_security online_backup  \\\n",
       "0  Female               0  ...              No           Yes   \n",
       "1    Male               0  ...             Yes            No   \n",
       "2    Male               0  ...             Yes           Yes   \n",
       "3    Male               0  ...             Yes            No   \n",
       "4  Female               0  ...              No            No   \n",
       "\n",
       "  device_protection tech_support streaming_tv streaming_movies  \\\n",
       "0                No           No           No               No   \n",
       "1               Yes           No           No               No   \n",
       "2                No           No           No               No   \n",
       "3               Yes          Yes           No               No   \n",
       "4                No           No           No               No   \n",
       "\n",
       "  has_multiple_lines has_phone  has_fiber  has_internet  \n",
       "0                  0         0          0             1  \n",
       "1                  0         1          0             1  \n",
       "2                  0         1          0             1  \n",
       "3                  0         0          0             1  \n",
       "4                  0         1          1             1  \n",
       "\n",
       "[5 rows x 22 columns]"
      ]
     },
     "execution_count": 163,
     "metadata": {},
     "output_type": "execute_result"
    }
   ],
   "source": [
    "df.head()"
   ]
  },
  {
   "cell_type": "code",
   "execution_count": 164,
   "metadata": {},
   "outputs": [
    {
     "data": {
      "text/html": [
       "<div>\n",
       "<style scoped>\n",
       "    .dataframe tbody tr th:only-of-type {\n",
       "        vertical-align: middle;\n",
       "    }\n",
       "\n",
       "    .dataframe tbody tr th {\n",
       "        vertical-align: top;\n",
       "    }\n",
       "\n",
       "    .dataframe thead th {\n",
       "        text-align: right;\n",
       "    }\n",
       "</style>\n",
       "<table border=\"1\" class=\"dataframe\">\n",
       "  <thead>\n",
       "    <tr style=\"text-align: right;\">\n",
       "      <th></th>\n",
       "      <th>customer_id</th>\n",
       "      <th>begin_date</th>\n",
       "      <th>end_date</th>\n",
       "      <th>type</th>\n",
       "      <th>paperless_billing</th>\n",
       "      <th>payment_method</th>\n",
       "      <th>monthly_charges</th>\n",
       "      <th>total_charges</th>\n",
       "      <th>gender</th>\n",
       "      <th>senior_citizen</th>\n",
       "      <th>...</th>\n",
       "      <th>online_security</th>\n",
       "      <th>online_backup</th>\n",
       "      <th>device_protection</th>\n",
       "      <th>tech_support</th>\n",
       "      <th>streaming_tv</th>\n",
       "      <th>streaming_movies</th>\n",
       "      <th>has_multiple_lines</th>\n",
       "      <th>has_phone</th>\n",
       "      <th>has_fiber</th>\n",
       "      <th>has_internet</th>\n",
       "    </tr>\n",
       "  </thead>\n",
       "  <tbody>\n",
       "    <tr>\n",
       "      <th>0</th>\n",
       "      <td>7590-VHVEG</td>\n",
       "      <td>2020-01-01</td>\n",
       "      <td>No</td>\n",
       "      <td>Month-to-month</td>\n",
       "      <td>Yes</td>\n",
       "      <td>Electronic check</td>\n",
       "      <td>29.850</td>\n",
       "      <td>29.85</td>\n",
       "      <td>Female</td>\n",
       "      <td>0</td>\n",
       "      <td>...</td>\n",
       "      <td>No</td>\n",
       "      <td>Yes</td>\n",
       "      <td>No</td>\n",
       "      <td>No</td>\n",
       "      <td>No</td>\n",
       "      <td>No</td>\n",
       "      <td>0</td>\n",
       "      <td>0</td>\n",
       "      <td>0</td>\n",
       "      <td>1</td>\n",
       "    </tr>\n",
       "    <tr>\n",
       "      <th>1</th>\n",
       "      <td>5575-GNVDE</td>\n",
       "      <td>2017-04-01</td>\n",
       "      <td>No</td>\n",
       "      <td>One year</td>\n",
       "      <td>No</td>\n",
       "      <td>Mailed check</td>\n",
       "      <td>56.950</td>\n",
       "      <td>1889.5</td>\n",
       "      <td>Male</td>\n",
       "      <td>0</td>\n",
       "      <td>...</td>\n",
       "      <td>Yes</td>\n",
       "      <td>No</td>\n",
       "      <td>Yes</td>\n",
       "      <td>No</td>\n",
       "      <td>No</td>\n",
       "      <td>No</td>\n",
       "      <td>0</td>\n",
       "      <td>1</td>\n",
       "      <td>0</td>\n",
       "      <td>1</td>\n",
       "    </tr>\n",
       "    <tr>\n",
       "      <th>2</th>\n",
       "      <td>3668-QPYBK</td>\n",
       "      <td>2019-10-01</td>\n",
       "      <td>2019-12-01 00:00:00</td>\n",
       "      <td>Month-to-month</td>\n",
       "      <td>Yes</td>\n",
       "      <td>Mailed check</td>\n",
       "      <td>53.850</td>\n",
       "      <td>108.15</td>\n",
       "      <td>Male</td>\n",
       "      <td>0</td>\n",
       "      <td>...</td>\n",
       "      <td>Yes</td>\n",
       "      <td>Yes</td>\n",
       "      <td>No</td>\n",
       "      <td>No</td>\n",
       "      <td>No</td>\n",
       "      <td>No</td>\n",
       "      <td>0</td>\n",
       "      <td>1</td>\n",
       "      <td>0</td>\n",
       "      <td>1</td>\n",
       "    </tr>\n",
       "  </tbody>\n",
       "</table>\n",
       "<p>3 rows × 22 columns</p>\n",
       "</div>"
      ],
      "text/plain": [
       "  customer_id  begin_date             end_date            type  \\\n",
       "0  7590-VHVEG  2020-01-01                   No  Month-to-month   \n",
       "1  5575-GNVDE  2017-04-01                   No        One year   \n",
       "2  3668-QPYBK  2019-10-01  2019-12-01 00:00:00  Month-to-month   \n",
       "\n",
       "  paperless_billing    payment_method  monthly_charges total_charges  gender  \\\n",
       "0               Yes  Electronic check           29.850         29.85  Female   \n",
       "1                No      Mailed check           56.950        1889.5    Male   \n",
       "2               Yes      Mailed check           53.850        108.15    Male   \n",
       "\n",
       "   senior_citizen  ... online_security online_backup device_protection  \\\n",
       "0               0  ...              No           Yes                No   \n",
       "1               0  ...             Yes            No               Yes   \n",
       "2               0  ...             Yes           Yes                No   \n",
       "\n",
       "  tech_support streaming_tv streaming_movies has_multiple_lines has_phone  \\\n",
       "0           No           No               No                  0         0   \n",
       "1           No           No               No                  0         1   \n",
       "2           No           No               No                  0         1   \n",
       "\n",
       "   has_fiber  has_internet  \n",
       "0          0             1  \n",
       "1          0             1  \n",
       "2          0             1  \n",
       "\n",
       "[3 rows x 22 columns]"
      ]
     },
     "execution_count": 164,
     "metadata": {},
     "output_type": "execute_result"
    }
   ],
   "source": [
    "df.head(3)"
   ]
  },
  {
   "cell_type": "markdown",
   "metadata": {},
   "source": [
    "Now that we handled NAN values after merge we will correct the rest of the columns by using get dummies."
   ]
  },
  {
   "cell_type": "code",
   "execution_count": 165,
   "metadata": {},
   "outputs": [],
   "source": [
    "cols = []\n",
    "for col in df:\n",
    "    if len(df[col].value_counts()) == 2:\n",
    "        cols.append(col)\n",
    "        \n",
    "df = pd.get_dummies(df, columns=cols, drop_first=True)"
   ]
  },
  {
   "cell_type": "code",
   "execution_count": 166,
   "metadata": {},
   "outputs": [],
   "source": [
    "# taking care of column names\n",
    "for col in cols:\n",
    "    for df_col in df.columns:\n",
    "        if col in df_col:\n",
    "            df.rename(columns={df_col:col}, inplace=True)"
   ]
  },
  {
   "cell_type": "code",
   "execution_count": 167,
   "metadata": {},
   "outputs": [
    {
     "data": {
      "text/plain": [
       "0            customer_id\n",
       "1             begin_date\n",
       "2               end_date\n",
       "3                   type\n",
       "4         payment_method\n",
       "5        monthly_charges\n",
       "6          total_charges\n",
       "7      paperless_billing\n",
       "8                 gender\n",
       "9         senior_citizen\n",
       "10               partner\n",
       "11            dependents\n",
       "12       online_security\n",
       "13         online_backup\n",
       "14     device_protection\n",
       "15          tech_support\n",
       "16          streaming_tv\n",
       "17      streaming_movies\n",
       "18    has_multiple_lines\n",
       "19             has_phone\n",
       "20             has_fiber\n",
       "21          has_internet\n",
       "dtype: object"
      ]
     },
     "execution_count": 167,
     "metadata": {},
     "output_type": "execute_result"
    }
   ],
   "source": [
    "pd.Series(df.columns)"
   ]
  },
  {
   "cell_type": "code",
   "execution_count": 168,
   "metadata": {},
   "outputs": [],
   "source": [
    "df.rename(columns={'gender':'is_male'},inplace=True)"
   ]
  },
  {
   "cell_type": "code",
   "execution_count": 169,
   "metadata": {},
   "outputs": [
    {
     "name": "stdout",
     "output_type": "stream",
     "text": [
      "<class 'pandas.core.frame.DataFrame'>\n",
      "Int64Index: 7043 entries, 0 to 7042\n",
      "Data columns (total 22 columns):\n",
      " #   Column              Non-Null Count  Dtype  \n",
      "---  ------              --------------  -----  \n",
      " 0   customer_id         7043 non-null   object \n",
      " 1   begin_date          7043 non-null   object \n",
      " 2   end_date            7043 non-null   object \n",
      " 3   type                7043 non-null   object \n",
      " 4   payment_method      7043 non-null   object \n",
      " 5   monthly_charges     7043 non-null   float64\n",
      " 6   total_charges       7043 non-null   object \n",
      " 7   paperless_billing   7043 non-null   uint8  \n",
      " 8   is_male             7043 non-null   uint8  \n",
      " 9   senior_citizen      7043 non-null   uint8  \n",
      " 10  partner             7043 non-null   uint8  \n",
      " 11  dependents          7043 non-null   uint8  \n",
      " 12  online_security     7043 non-null   uint8  \n",
      " 13  online_backup       7043 non-null   uint8  \n",
      " 14  device_protection   7043 non-null   uint8  \n",
      " 15  tech_support        7043 non-null   uint8  \n",
      " 16  streaming_tv        7043 non-null   uint8  \n",
      " 17  streaming_movies    7043 non-null   uint8  \n",
      " 18  has_multiple_lines  7043 non-null   uint8  \n",
      " 19  has_phone           7043 non-null   uint8  \n",
      " 20  has_fiber           7043 non-null   uint8  \n",
      " 21  has_internet        7043 non-null   uint8  \n",
      "dtypes: float64(1), object(6), uint8(15)\n",
      "memory usage: 543.4+ KB\n"
     ]
    }
   ],
   "source": [
    "df.info()"
   ]
  },
  {
   "cell_type": "markdown",
   "metadata": {},
   "source": [
    "We have dealt with all the columns in internet and phone users we can start taking care of columns in contract and personal.\n",
    "\n",
    "### Handeling missing values and types"
   ]
  },
  {
   "cell_type": "markdown",
   "metadata": {},
   "source": [
    "#### Create is_customer"
   ]
  },
  {
   "cell_type": "code",
   "execution_count": 170,
   "metadata": {},
   "outputs": [
    {
     "data": {
      "text/plain": [
       "5174"
      ]
     },
     "execution_count": 170,
     "metadata": {},
     "output_type": "execute_result"
    }
   ],
   "source": [
    "df[df.end_date== 'No']['end_date'].count()"
   ]
  },
  {
   "cell_type": "markdown",
   "metadata": {},
   "source": [
    "We have quite a lot of **No** values in **end_date**.<br>\n",
    "All the **No** values represent users who are still customers.\n",
    "\n",
    "----\n",
    "Lets split end date to: is_customer\n"
   ]
  },
  {
   "cell_type": "code",
   "execution_count": 171,
   "metadata": {},
   "outputs": [],
   "source": [
    "df['is_customer'] = df.end_date.apply(lambda x: 1 if x == 'No' else 0)"
   ]
  },
  {
   "cell_type": "code",
   "execution_count": 172,
   "metadata": {},
   "outputs": [],
   "source": [
    "df.is_customer = df.is_customer.astype('uint8')"
   ]
  },
  {
   "cell_type": "code",
   "execution_count": 173,
   "metadata": {},
   "outputs": [
    {
     "data": {
      "text/plain": [
       "5174"
      ]
     },
     "execution_count": 173,
     "metadata": {},
     "output_type": "execute_result"
    }
   ],
   "source": [
    "df.is_customer.sum()"
   ]
  },
  {
   "cell_type": "markdown",
   "metadata": {},
   "source": [
    "#### begin_date and end_date\n",
    "\n",
    "We will change types and fix NAN values"
   ]
  },
  {
   "cell_type": "code",
   "execution_count": 174,
   "metadata": {},
   "outputs": [],
   "source": [
    "# begin_date\n",
    "df.begin_date = pd.to_datetime(df.begin_date, errors='coerce')"
   ]
  },
  {
   "cell_type": "code",
   "execution_count": 175,
   "metadata": {},
   "outputs": [],
   "source": [
    "df.end_date = pd.to_datetime(df.end_date, errors='coerce')"
   ]
  },
  {
   "cell_type": "code",
   "execution_count": 176,
   "metadata": {},
   "outputs": [],
   "source": [
    "max_date = max(df.end_date.max(), df.begin_date.max())"
   ]
  },
  {
   "cell_type": "code",
   "execution_count": 177,
   "metadata": {},
   "outputs": [
    {
     "data": {
      "text/plain": [
       "Timestamp('2020-02-01 00:00:00')"
      ]
     },
     "execution_count": 177,
     "metadata": {},
     "output_type": "execute_result"
    }
   ],
   "source": [
    "max_date"
   ]
  },
  {
   "cell_type": "code",
   "execution_count": 178,
   "metadata": {},
   "outputs": [],
   "source": [
    "df.end_date.fillna(max_date, inplace=True)"
   ]
  },
  {
   "cell_type": "code",
   "execution_count": 179,
   "metadata": {},
   "outputs": [
    {
     "data": {
      "text/plain": [
       "0"
      ]
     },
     "execution_count": 179,
     "metadata": {},
     "output_type": "execute_result"
    }
   ],
   "source": [
    "df.end_date.isna().sum()"
   ]
  },
  {
   "cell_type": "code",
   "execution_count": 180,
   "metadata": {},
   "outputs": [
    {
     "name": "stdout",
     "output_type": "stream",
     "text": [
      "<class 'pandas.core.frame.DataFrame'>\n",
      "Int64Index: 7043 entries, 0 to 7042\n",
      "Data columns (total 23 columns):\n",
      " #   Column              Non-Null Count  Dtype         \n",
      "---  ------              --------------  -----         \n",
      " 0   customer_id         7043 non-null   object        \n",
      " 1   begin_date          7043 non-null   datetime64[ns]\n",
      " 2   end_date            7043 non-null   datetime64[ns]\n",
      " 3   type                7043 non-null   object        \n",
      " 4   payment_method      7043 non-null   object        \n",
      " 5   monthly_charges     7043 non-null   float64       \n",
      " 6   total_charges       7043 non-null   object        \n",
      " 7   paperless_billing   7043 non-null   uint8         \n",
      " 8   is_male             7043 non-null   uint8         \n",
      " 9   senior_citizen      7043 non-null   uint8         \n",
      " 10  partner             7043 non-null   uint8         \n",
      " 11  dependents          7043 non-null   uint8         \n",
      " 12  online_security     7043 non-null   uint8         \n",
      " 13  online_backup       7043 non-null   uint8         \n",
      " 14  device_protection   7043 non-null   uint8         \n",
      " 15  tech_support        7043 non-null   uint8         \n",
      " 16  streaming_tv        7043 non-null   uint8         \n",
      " 17  streaming_movies    7043 non-null   uint8         \n",
      " 18  has_multiple_lines  7043 non-null   uint8         \n",
      " 19  has_phone           7043 non-null   uint8         \n",
      " 20  has_fiber           7043 non-null   uint8         \n",
      " 21  has_internet        7043 non-null   uint8         \n",
      " 22  is_customer         7043 non-null   uint8         \n",
      "dtypes: datetime64[ns](2), float64(1), object(4), uint8(16)\n",
      "memory usage: 550.2+ KB\n"
     ]
    }
   ],
   "source": [
    "df.info()"
   ]
  },
  {
   "cell_type": "markdown",
   "metadata": {},
   "source": [
    "#### type column\n",
    "\n",
    "I will handletype while working on the model trying different ways."
   ]
  },
  {
   "cell_type": "markdown",
   "metadata": {},
   "source": [
    "#### total_charges\n",
    "* changing type\n",
    "* taking care of NAN values"
   ]
  },
  {
   "cell_type": "code",
   "execution_count": 181,
   "metadata": {},
   "outputs": [],
   "source": [
    "df.total_charges = pd.to_numeric(df.total_charges, errors='coerce', downcast='float')"
   ]
  },
  {
   "cell_type": "code",
   "execution_count": 182,
   "metadata": {},
   "outputs": [
    {
     "data": {
      "text/html": [
       "<div>\n",
       "<style scoped>\n",
       "    .dataframe tbody tr th:only-of-type {\n",
       "        vertical-align: middle;\n",
       "    }\n",
       "\n",
       "    .dataframe tbody tr th {\n",
       "        vertical-align: top;\n",
       "    }\n",
       "\n",
       "    .dataframe thead th {\n",
       "        text-align: right;\n",
       "    }\n",
       "</style>\n",
       "<table border=\"1\" class=\"dataframe\">\n",
       "  <thead>\n",
       "    <tr style=\"text-align: right;\">\n",
       "      <th></th>\n",
       "      <th>customer_id</th>\n",
       "      <th>begin_date</th>\n",
       "      <th>end_date</th>\n",
       "      <th>type</th>\n",
       "      <th>payment_method</th>\n",
       "      <th>monthly_charges</th>\n",
       "      <th>total_charges</th>\n",
       "      <th>paperless_billing</th>\n",
       "      <th>is_male</th>\n",
       "      <th>senior_citizen</th>\n",
       "      <th>...</th>\n",
       "      <th>online_backup</th>\n",
       "      <th>device_protection</th>\n",
       "      <th>tech_support</th>\n",
       "      <th>streaming_tv</th>\n",
       "      <th>streaming_movies</th>\n",
       "      <th>has_multiple_lines</th>\n",
       "      <th>has_phone</th>\n",
       "      <th>has_fiber</th>\n",
       "      <th>has_internet</th>\n",
       "      <th>is_customer</th>\n",
       "    </tr>\n",
       "  </thead>\n",
       "  <tbody>\n",
       "    <tr>\n",
       "      <th>488</th>\n",
       "      <td>4472-LVYGI</td>\n",
       "      <td>2020-02-01</td>\n",
       "      <td>2020-02-01</td>\n",
       "      <td>Two year</td>\n",
       "      <td>Bank transfer (automatic)</td>\n",
       "      <td>52.550</td>\n",
       "      <td>NaN</td>\n",
       "      <td>1</td>\n",
       "      <td>0</td>\n",
       "      <td>0</td>\n",
       "      <td>...</td>\n",
       "      <td>0</td>\n",
       "      <td>1</td>\n",
       "      <td>1</td>\n",
       "      <td>1</td>\n",
       "      <td>0</td>\n",
       "      <td>0</td>\n",
       "      <td>0</td>\n",
       "      <td>0</td>\n",
       "      <td>1</td>\n",
       "      <td>1</td>\n",
       "    </tr>\n",
       "    <tr>\n",
       "      <th>753</th>\n",
       "      <td>3115-CZMZD</td>\n",
       "      <td>2020-02-01</td>\n",
       "      <td>2020-02-01</td>\n",
       "      <td>Two year</td>\n",
       "      <td>Mailed check</td>\n",
       "      <td>20.250</td>\n",
       "      <td>NaN</td>\n",
       "      <td>0</td>\n",
       "      <td>1</td>\n",
       "      <td>0</td>\n",
       "      <td>...</td>\n",
       "      <td>0</td>\n",
       "      <td>0</td>\n",
       "      <td>0</td>\n",
       "      <td>0</td>\n",
       "      <td>0</td>\n",
       "      <td>0</td>\n",
       "      <td>1</td>\n",
       "      <td>0</td>\n",
       "      <td>0</td>\n",
       "      <td>1</td>\n",
       "    </tr>\n",
       "    <tr>\n",
       "      <th>936</th>\n",
       "      <td>5709-LVOEQ</td>\n",
       "      <td>2020-02-01</td>\n",
       "      <td>2020-02-01</td>\n",
       "      <td>Two year</td>\n",
       "      <td>Mailed check</td>\n",
       "      <td>80.850</td>\n",
       "      <td>NaN</td>\n",
       "      <td>0</td>\n",
       "      <td>0</td>\n",
       "      <td>0</td>\n",
       "      <td>...</td>\n",
       "      <td>1</td>\n",
       "      <td>1</td>\n",
       "      <td>0</td>\n",
       "      <td>1</td>\n",
       "      <td>1</td>\n",
       "      <td>0</td>\n",
       "      <td>1</td>\n",
       "      <td>0</td>\n",
       "      <td>1</td>\n",
       "      <td>1</td>\n",
       "    </tr>\n",
       "    <tr>\n",
       "      <th>1082</th>\n",
       "      <td>4367-NUYAO</td>\n",
       "      <td>2020-02-01</td>\n",
       "      <td>2020-02-01</td>\n",
       "      <td>Two year</td>\n",
       "      <td>Mailed check</td>\n",
       "      <td>25.750</td>\n",
       "      <td>NaN</td>\n",
       "      <td>0</td>\n",
       "      <td>1</td>\n",
       "      <td>0</td>\n",
       "      <td>...</td>\n",
       "      <td>0</td>\n",
       "      <td>0</td>\n",
       "      <td>0</td>\n",
       "      <td>0</td>\n",
       "      <td>0</td>\n",
       "      <td>1</td>\n",
       "      <td>1</td>\n",
       "      <td>0</td>\n",
       "      <td>0</td>\n",
       "      <td>1</td>\n",
       "    </tr>\n",
       "    <tr>\n",
       "      <th>1340</th>\n",
       "      <td>1371-DWPAZ</td>\n",
       "      <td>2020-02-01</td>\n",
       "      <td>2020-02-01</td>\n",
       "      <td>Two year</td>\n",
       "      <td>Credit card (automatic)</td>\n",
       "      <td>56.050</td>\n",
       "      <td>NaN</td>\n",
       "      <td>0</td>\n",
       "      <td>0</td>\n",
       "      <td>0</td>\n",
       "      <td>...</td>\n",
       "      <td>1</td>\n",
       "      <td>1</td>\n",
       "      <td>1</td>\n",
       "      <td>1</td>\n",
       "      <td>0</td>\n",
       "      <td>0</td>\n",
       "      <td>0</td>\n",
       "      <td>0</td>\n",
       "      <td>1</td>\n",
       "      <td>1</td>\n",
       "    </tr>\n",
       "    <tr>\n",
       "      <th>3331</th>\n",
       "      <td>7644-OMVMY</td>\n",
       "      <td>2020-02-01</td>\n",
       "      <td>2020-02-01</td>\n",
       "      <td>Two year</td>\n",
       "      <td>Mailed check</td>\n",
       "      <td>19.850</td>\n",
       "      <td>NaN</td>\n",
       "      <td>0</td>\n",
       "      <td>1</td>\n",
       "      <td>0</td>\n",
       "      <td>...</td>\n",
       "      <td>0</td>\n",
       "      <td>0</td>\n",
       "      <td>0</td>\n",
       "      <td>0</td>\n",
       "      <td>0</td>\n",
       "      <td>0</td>\n",
       "      <td>1</td>\n",
       "      <td>0</td>\n",
       "      <td>0</td>\n",
       "      <td>1</td>\n",
       "    </tr>\n",
       "    <tr>\n",
       "      <th>3826</th>\n",
       "      <td>3213-VVOLG</td>\n",
       "      <td>2020-02-01</td>\n",
       "      <td>2020-02-01</td>\n",
       "      <td>Two year</td>\n",
       "      <td>Mailed check</td>\n",
       "      <td>25.350</td>\n",
       "      <td>NaN</td>\n",
       "      <td>0</td>\n",
       "      <td>1</td>\n",
       "      <td>0</td>\n",
       "      <td>...</td>\n",
       "      <td>0</td>\n",
       "      <td>0</td>\n",
       "      <td>0</td>\n",
       "      <td>0</td>\n",
       "      <td>0</td>\n",
       "      <td>1</td>\n",
       "      <td>1</td>\n",
       "      <td>0</td>\n",
       "      <td>0</td>\n",
       "      <td>1</td>\n",
       "    </tr>\n",
       "    <tr>\n",
       "      <th>4380</th>\n",
       "      <td>2520-SGTTA</td>\n",
       "      <td>2020-02-01</td>\n",
       "      <td>2020-02-01</td>\n",
       "      <td>Two year</td>\n",
       "      <td>Mailed check</td>\n",
       "      <td>20.000</td>\n",
       "      <td>NaN</td>\n",
       "      <td>0</td>\n",
       "      <td>0</td>\n",
       "      <td>0</td>\n",
       "      <td>...</td>\n",
       "      <td>0</td>\n",
       "      <td>0</td>\n",
       "      <td>0</td>\n",
       "      <td>0</td>\n",
       "      <td>0</td>\n",
       "      <td>0</td>\n",
       "      <td>1</td>\n",
       "      <td>0</td>\n",
       "      <td>0</td>\n",
       "      <td>1</td>\n",
       "    </tr>\n",
       "    <tr>\n",
       "      <th>5218</th>\n",
       "      <td>2923-ARZLG</td>\n",
       "      <td>2020-02-01</td>\n",
       "      <td>2020-02-01</td>\n",
       "      <td>One year</td>\n",
       "      <td>Mailed check</td>\n",
       "      <td>19.700</td>\n",
       "      <td>NaN</td>\n",
       "      <td>1</td>\n",
       "      <td>1</td>\n",
       "      <td>0</td>\n",
       "      <td>...</td>\n",
       "      <td>0</td>\n",
       "      <td>0</td>\n",
       "      <td>0</td>\n",
       "      <td>0</td>\n",
       "      <td>0</td>\n",
       "      <td>0</td>\n",
       "      <td>1</td>\n",
       "      <td>0</td>\n",
       "      <td>0</td>\n",
       "      <td>1</td>\n",
       "    </tr>\n",
       "    <tr>\n",
       "      <th>6670</th>\n",
       "      <td>4075-WKNIU</td>\n",
       "      <td>2020-02-01</td>\n",
       "      <td>2020-02-01</td>\n",
       "      <td>Two year</td>\n",
       "      <td>Mailed check</td>\n",
       "      <td>73.350</td>\n",
       "      <td>NaN</td>\n",
       "      <td>0</td>\n",
       "      <td>0</td>\n",
       "      <td>0</td>\n",
       "      <td>...</td>\n",
       "      <td>1</td>\n",
       "      <td>1</td>\n",
       "      <td>1</td>\n",
       "      <td>1</td>\n",
       "      <td>0</td>\n",
       "      <td>1</td>\n",
       "      <td>1</td>\n",
       "      <td>0</td>\n",
       "      <td>1</td>\n",
       "      <td>1</td>\n",
       "    </tr>\n",
       "    <tr>\n",
       "      <th>6754</th>\n",
       "      <td>2775-SEFEE</td>\n",
       "      <td>2020-02-01</td>\n",
       "      <td>2020-02-01</td>\n",
       "      <td>Two year</td>\n",
       "      <td>Bank transfer (automatic)</td>\n",
       "      <td>61.900</td>\n",
       "      <td>NaN</td>\n",
       "      <td>1</td>\n",
       "      <td>1</td>\n",
       "      <td>0</td>\n",
       "      <td>...</td>\n",
       "      <td>1</td>\n",
       "      <td>0</td>\n",
       "      <td>1</td>\n",
       "      <td>0</td>\n",
       "      <td>0</td>\n",
       "      <td>1</td>\n",
       "      <td>1</td>\n",
       "      <td>0</td>\n",
       "      <td>1</td>\n",
       "      <td>1</td>\n",
       "    </tr>\n",
       "  </tbody>\n",
       "</table>\n",
       "<p>11 rows × 23 columns</p>\n",
       "</div>"
      ],
      "text/plain": [
       "     customer_id begin_date   end_date      type             payment_method  \\\n",
       "488   4472-LVYGI 2020-02-01 2020-02-01  Two year  Bank transfer (automatic)   \n",
       "753   3115-CZMZD 2020-02-01 2020-02-01  Two year               Mailed check   \n",
       "936   5709-LVOEQ 2020-02-01 2020-02-01  Two year               Mailed check   \n",
       "1082  4367-NUYAO 2020-02-01 2020-02-01  Two year               Mailed check   \n",
       "1340  1371-DWPAZ 2020-02-01 2020-02-01  Two year    Credit card (automatic)   \n",
       "3331  7644-OMVMY 2020-02-01 2020-02-01  Two year               Mailed check   \n",
       "3826  3213-VVOLG 2020-02-01 2020-02-01  Two year               Mailed check   \n",
       "4380  2520-SGTTA 2020-02-01 2020-02-01  Two year               Mailed check   \n",
       "5218  2923-ARZLG 2020-02-01 2020-02-01  One year               Mailed check   \n",
       "6670  4075-WKNIU 2020-02-01 2020-02-01  Two year               Mailed check   \n",
       "6754  2775-SEFEE 2020-02-01 2020-02-01  Two year  Bank transfer (automatic)   \n",
       "\n",
       "      monthly_charges  total_charges  paperless_billing  is_male  \\\n",
       "488            52.550            NaN                  1        0   \n",
       "753            20.250            NaN                  0        1   \n",
       "936            80.850            NaN                  0        0   \n",
       "1082           25.750            NaN                  0        1   \n",
       "1340           56.050            NaN                  0        0   \n",
       "3331           19.850            NaN                  0        1   \n",
       "3826           25.350            NaN                  0        1   \n",
       "4380           20.000            NaN                  0        0   \n",
       "5218           19.700            NaN                  1        1   \n",
       "6670           73.350            NaN                  0        0   \n",
       "6754           61.900            NaN                  1        1   \n",
       "\n",
       "      senior_citizen  ...  online_backup  device_protection  tech_support  \\\n",
       "488                0  ...              0                  1             1   \n",
       "753                0  ...              0                  0             0   \n",
       "936                0  ...              1                  1             0   \n",
       "1082               0  ...              0                  0             0   \n",
       "1340               0  ...              1                  1             1   \n",
       "3331               0  ...              0                  0             0   \n",
       "3826               0  ...              0                  0             0   \n",
       "4380               0  ...              0                  0             0   \n",
       "5218               0  ...              0                  0             0   \n",
       "6670               0  ...              1                  1             1   \n",
       "6754               0  ...              1                  0             1   \n",
       "\n",
       "      streaming_tv  streaming_movies  has_multiple_lines  has_phone  \\\n",
       "488              1                 0                   0          0   \n",
       "753              0                 0                   0          1   \n",
       "936              1                 1                   0          1   \n",
       "1082             0                 0                   1          1   \n",
       "1340             1                 0                   0          0   \n",
       "3331             0                 0                   0          1   \n",
       "3826             0                 0                   1          1   \n",
       "4380             0                 0                   0          1   \n",
       "5218             0                 0                   0          1   \n",
       "6670             1                 0                   1          1   \n",
       "6754             0                 0                   1          1   \n",
       "\n",
       "      has_fiber  has_internet  is_customer  \n",
       "488           0             1            1  \n",
       "753           0             0            1  \n",
       "936           0             1            1  \n",
       "1082          0             0            1  \n",
       "1340          0             1            1  \n",
       "3331          0             0            1  \n",
       "3826          0             0            1  \n",
       "4380          0             0            1  \n",
       "5218          0             0            1  \n",
       "6670          0             1            1  \n",
       "6754          0             1            1  \n",
       "\n",
       "[11 rows x 23 columns]"
      ]
     },
     "execution_count": 182,
     "metadata": {},
     "output_type": "execute_result"
    }
   ],
   "source": [
    "df[df.total_charges.isna()]"
   ]
  },
  {
   "cell_type": "markdown",
   "metadata": {},
   "source": [
    "We can see that we have 11 NAN values. <br>\n",
    "All values are  from 2020-02-01 date. <br>\n",
    "Perhaps filling them with monthly_charge or filling them with 0.<br>\n",
    "To help us decide lets look at **begin_date** 2020-01-01 and see **total_charges**"
   ]
  },
  {
   "cell_type": "code",
   "execution_count": 183,
   "metadata": {},
   "outputs": [
    {
     "data": {
      "text/html": [
       "<div>\n",
       "<style scoped>\n",
       "    .dataframe tbody tr th:only-of-type {\n",
       "        vertical-align: middle;\n",
       "    }\n",
       "\n",
       "    .dataframe tbody tr th {\n",
       "        vertical-align: top;\n",
       "    }\n",
       "\n",
       "    .dataframe thead th {\n",
       "        text-align: right;\n",
       "    }\n",
       "</style>\n",
       "<table border=\"1\" class=\"dataframe\">\n",
       "  <thead>\n",
       "    <tr style=\"text-align: right;\">\n",
       "      <th></th>\n",
       "      <th>customer_id</th>\n",
       "      <th>begin_date</th>\n",
       "      <th>end_date</th>\n",
       "      <th>type</th>\n",
       "      <th>payment_method</th>\n",
       "      <th>monthly_charges</th>\n",
       "      <th>total_charges</th>\n",
       "      <th>paperless_billing</th>\n",
       "      <th>is_male</th>\n",
       "      <th>senior_citizen</th>\n",
       "      <th>...</th>\n",
       "      <th>online_backup</th>\n",
       "      <th>device_protection</th>\n",
       "      <th>tech_support</th>\n",
       "      <th>streaming_tv</th>\n",
       "      <th>streaming_movies</th>\n",
       "      <th>has_multiple_lines</th>\n",
       "      <th>has_phone</th>\n",
       "      <th>has_fiber</th>\n",
       "      <th>has_internet</th>\n",
       "      <th>is_customer</th>\n",
       "    </tr>\n",
       "  </thead>\n",
       "  <tbody>\n",
       "    <tr>\n",
       "      <th>0</th>\n",
       "      <td>7590-VHVEG</td>\n",
       "      <td>2020-01-01</td>\n",
       "      <td>2020-02-01</td>\n",
       "      <td>Month-to-month</td>\n",
       "      <td>Electronic check</td>\n",
       "      <td>29.850</td>\n",
       "      <td>29.850</td>\n",
       "      <td>1</td>\n",
       "      <td>0</td>\n",
       "      <td>0</td>\n",
       "      <td>...</td>\n",
       "      <td>1</td>\n",
       "      <td>0</td>\n",
       "      <td>0</td>\n",
       "      <td>0</td>\n",
       "      <td>0</td>\n",
       "      <td>0</td>\n",
       "      <td>0</td>\n",
       "      <td>0</td>\n",
       "      <td>1</td>\n",
       "      <td>1</td>\n",
       "    </tr>\n",
       "    <tr>\n",
       "      <th>33</th>\n",
       "      <td>7310-EGVHZ</td>\n",
       "      <td>2020-01-01</td>\n",
       "      <td>2020-02-01</td>\n",
       "      <td>Month-to-month</td>\n",
       "      <td>Bank transfer (automatic)</td>\n",
       "      <td>20.200</td>\n",
       "      <td>20.200</td>\n",
       "      <td>0</td>\n",
       "      <td>1</td>\n",
       "      <td>0</td>\n",
       "      <td>...</td>\n",
       "      <td>0</td>\n",
       "      <td>0</td>\n",
       "      <td>0</td>\n",
       "      <td>0</td>\n",
       "      <td>0</td>\n",
       "      <td>0</td>\n",
       "      <td>1</td>\n",
       "      <td>0</td>\n",
       "      <td>0</td>\n",
       "      <td>1</td>\n",
       "    </tr>\n",
       "    <tr>\n",
       "      <th>34</th>\n",
       "      <td>3413-BMNZE</td>\n",
       "      <td>2020-01-01</td>\n",
       "      <td>2020-02-01</td>\n",
       "      <td>Month-to-month</td>\n",
       "      <td>Bank transfer (automatic)</td>\n",
       "      <td>45.250</td>\n",
       "      <td>45.250</td>\n",
       "      <td>0</td>\n",
       "      <td>1</td>\n",
       "      <td>1</td>\n",
       "      <td>...</td>\n",
       "      <td>0</td>\n",
       "      <td>0</td>\n",
       "      <td>0</td>\n",
       "      <td>0</td>\n",
       "      <td>0</td>\n",
       "      <td>0</td>\n",
       "      <td>1</td>\n",
       "      <td>0</td>\n",
       "      <td>1</td>\n",
       "      <td>1</td>\n",
       "    </tr>\n",
       "    <tr>\n",
       "      <th>70</th>\n",
       "      <td>2273-QCKXA</td>\n",
       "      <td>2020-01-01</td>\n",
       "      <td>2020-02-01</td>\n",
       "      <td>Month-to-month</td>\n",
       "      <td>Mailed check</td>\n",
       "      <td>49.050</td>\n",
       "      <td>49.050</td>\n",
       "      <td>0</td>\n",
       "      <td>1</td>\n",
       "      <td>0</td>\n",
       "      <td>...</td>\n",
       "      <td>0</td>\n",
       "      <td>0</td>\n",
       "      <td>1</td>\n",
       "      <td>0</td>\n",
       "      <td>0</td>\n",
       "      <td>0</td>\n",
       "      <td>1</td>\n",
       "      <td>0</td>\n",
       "      <td>1</td>\n",
       "      <td>1</td>\n",
       "    </tr>\n",
       "    <tr>\n",
       "      <th>91</th>\n",
       "      <td>2424-WVHPL</td>\n",
       "      <td>2020-01-01</td>\n",
       "      <td>2020-02-01</td>\n",
       "      <td>Month-to-month</td>\n",
       "      <td>Electronic check</td>\n",
       "      <td>74.700</td>\n",
       "      <td>74.700</td>\n",
       "      <td>0</td>\n",
       "      <td>1</td>\n",
       "      <td>1</td>\n",
       "      <td>...</td>\n",
       "      <td>0</td>\n",
       "      <td>0</td>\n",
       "      <td>1</td>\n",
       "      <td>0</td>\n",
       "      <td>0</td>\n",
       "      <td>0</td>\n",
       "      <td>1</td>\n",
       "      <td>1</td>\n",
       "      <td>1</td>\n",
       "      <td>1</td>\n",
       "    </tr>\n",
       "    <tr>\n",
       "      <th>...</th>\n",
       "      <td>...</td>\n",
       "      <td>...</td>\n",
       "      <td>...</td>\n",
       "      <td>...</td>\n",
       "      <td>...</td>\n",
       "      <td>...</td>\n",
       "      <td>...</td>\n",
       "      <td>...</td>\n",
       "      <td>...</td>\n",
       "      <td>...</td>\n",
       "      <td>...</td>\n",
       "      <td>...</td>\n",
       "      <td>...</td>\n",
       "      <td>...</td>\n",
       "      <td>...</td>\n",
       "      <td>...</td>\n",
       "      <td>...</td>\n",
       "      <td>...</td>\n",
       "      <td>...</td>\n",
       "      <td>...</td>\n",
       "      <td>...</td>\n",
       "    </tr>\n",
       "    <tr>\n",
       "      <th>6840</th>\n",
       "      <td>1724-IQWNM</td>\n",
       "      <td>2020-01-01</td>\n",
       "      <td>2020-02-01</td>\n",
       "      <td>Month-to-month</td>\n",
       "      <td>Mailed check</td>\n",
       "      <td>19.300</td>\n",
       "      <td>19.300</td>\n",
       "      <td>1</td>\n",
       "      <td>1</td>\n",
       "      <td>0</td>\n",
       "      <td>...</td>\n",
       "      <td>0</td>\n",
       "      <td>0</td>\n",
       "      <td>0</td>\n",
       "      <td>0</td>\n",
       "      <td>0</td>\n",
       "      <td>0</td>\n",
       "      <td>1</td>\n",
       "      <td>0</td>\n",
       "      <td>0</td>\n",
       "      <td>1</td>\n",
       "    </tr>\n",
       "    <tr>\n",
       "      <th>6845</th>\n",
       "      <td>6127-IYJOZ</td>\n",
       "      <td>2020-01-01</td>\n",
       "      <td>2020-02-01</td>\n",
       "      <td>Month-to-month</td>\n",
       "      <td>Mailed check</td>\n",
       "      <td>45.850</td>\n",
       "      <td>45.850</td>\n",
       "      <td>1</td>\n",
       "      <td>1</td>\n",
       "      <td>1</td>\n",
       "      <td>...</td>\n",
       "      <td>0</td>\n",
       "      <td>0</td>\n",
       "      <td>0</td>\n",
       "      <td>0</td>\n",
       "      <td>0</td>\n",
       "      <td>0</td>\n",
       "      <td>1</td>\n",
       "      <td>0</td>\n",
       "      <td>1</td>\n",
       "      <td>1</td>\n",
       "    </tr>\n",
       "    <tr>\n",
       "      <th>6909</th>\n",
       "      <td>9108-EJFJP</td>\n",
       "      <td>2020-01-01</td>\n",
       "      <td>2020-02-01</td>\n",
       "      <td>Month-to-month</td>\n",
       "      <td>Mailed check</td>\n",
       "      <td>53.550</td>\n",
       "      <td>53.550</td>\n",
       "      <td>1</td>\n",
       "      <td>0</td>\n",
       "      <td>0</td>\n",
       "      <td>...</td>\n",
       "      <td>1</td>\n",
       "      <td>0</td>\n",
       "      <td>0</td>\n",
       "      <td>0</td>\n",
       "      <td>0</td>\n",
       "      <td>0</td>\n",
       "      <td>1</td>\n",
       "      <td>0</td>\n",
       "      <td>1</td>\n",
       "      <td>1</td>\n",
       "    </tr>\n",
       "    <tr>\n",
       "      <th>6979</th>\n",
       "      <td>5351-QESIO</td>\n",
       "      <td>2020-01-01</td>\n",
       "      <td>2020-02-01</td>\n",
       "      <td>Month-to-month</td>\n",
       "      <td>Mailed check</td>\n",
       "      <td>24.200</td>\n",
       "      <td>24.200</td>\n",
       "      <td>0</td>\n",
       "      <td>1</td>\n",
       "      <td>0</td>\n",
       "      <td>...</td>\n",
       "      <td>0</td>\n",
       "      <td>0</td>\n",
       "      <td>0</td>\n",
       "      <td>0</td>\n",
       "      <td>0</td>\n",
       "      <td>0</td>\n",
       "      <td>0</td>\n",
       "      <td>0</td>\n",
       "      <td>1</td>\n",
       "      <td>1</td>\n",
       "    </tr>\n",
       "    <tr>\n",
       "      <th>7016</th>\n",
       "      <td>1471-GIQKQ</td>\n",
       "      <td>2020-01-01</td>\n",
       "      <td>2020-02-01</td>\n",
       "      <td>Month-to-month</td>\n",
       "      <td>Electronic check</td>\n",
       "      <td>49.950</td>\n",
       "      <td>49.950</td>\n",
       "      <td>0</td>\n",
       "      <td>0</td>\n",
       "      <td>0</td>\n",
       "      <td>...</td>\n",
       "      <td>1</td>\n",
       "      <td>0</td>\n",
       "      <td>0</td>\n",
       "      <td>0</td>\n",
       "      <td>0</td>\n",
       "      <td>0</td>\n",
       "      <td>1</td>\n",
       "      <td>0</td>\n",
       "      <td>1</td>\n",
       "      <td>1</td>\n",
       "    </tr>\n",
       "  </tbody>\n",
       "</table>\n",
       "<p>233 rows × 23 columns</p>\n",
       "</div>"
      ],
      "text/plain": [
       "     customer_id begin_date   end_date            type  \\\n",
       "0     7590-VHVEG 2020-01-01 2020-02-01  Month-to-month   \n",
       "33    7310-EGVHZ 2020-01-01 2020-02-01  Month-to-month   \n",
       "34    3413-BMNZE 2020-01-01 2020-02-01  Month-to-month   \n",
       "70    2273-QCKXA 2020-01-01 2020-02-01  Month-to-month   \n",
       "91    2424-WVHPL 2020-01-01 2020-02-01  Month-to-month   \n",
       "...          ...        ...        ...             ...   \n",
       "6840  1724-IQWNM 2020-01-01 2020-02-01  Month-to-month   \n",
       "6845  6127-IYJOZ 2020-01-01 2020-02-01  Month-to-month   \n",
       "6909  9108-EJFJP 2020-01-01 2020-02-01  Month-to-month   \n",
       "6979  5351-QESIO 2020-01-01 2020-02-01  Month-to-month   \n",
       "7016  1471-GIQKQ 2020-01-01 2020-02-01  Month-to-month   \n",
       "\n",
       "                 payment_method  monthly_charges  total_charges  \\\n",
       "0              Electronic check           29.850         29.850   \n",
       "33    Bank transfer (automatic)           20.200         20.200   \n",
       "34    Bank transfer (automatic)           45.250         45.250   \n",
       "70                 Mailed check           49.050         49.050   \n",
       "91             Electronic check           74.700         74.700   \n",
       "...                         ...              ...            ...   \n",
       "6840               Mailed check           19.300         19.300   \n",
       "6845               Mailed check           45.850         45.850   \n",
       "6909               Mailed check           53.550         53.550   \n",
       "6979               Mailed check           24.200         24.200   \n",
       "7016           Electronic check           49.950         49.950   \n",
       "\n",
       "      paperless_billing  is_male  senior_citizen  ...  online_backup  \\\n",
       "0                     1        0               0  ...              1   \n",
       "33                    0        1               0  ...              0   \n",
       "34                    0        1               1  ...              0   \n",
       "70                    0        1               0  ...              0   \n",
       "91                    0        1               1  ...              0   \n",
       "...                 ...      ...             ...  ...            ...   \n",
       "6840                  1        1               0  ...              0   \n",
       "6845                  1        1               1  ...              0   \n",
       "6909                  1        0               0  ...              1   \n",
       "6979                  0        1               0  ...              0   \n",
       "7016                  0        0               0  ...              1   \n",
       "\n",
       "      device_protection  tech_support  streaming_tv  streaming_movies  \\\n",
       "0                     0             0             0                 0   \n",
       "33                    0             0             0                 0   \n",
       "34                    0             0             0                 0   \n",
       "70                    0             1             0                 0   \n",
       "91                    0             1             0                 0   \n",
       "...                 ...           ...           ...               ...   \n",
       "6840                  0             0             0                 0   \n",
       "6845                  0             0             0                 0   \n",
       "6909                  0             0             0                 0   \n",
       "6979                  0             0             0                 0   \n",
       "7016                  0             0             0                 0   \n",
       "\n",
       "      has_multiple_lines  has_phone  has_fiber  has_internet  is_customer  \n",
       "0                      0          0          0             1            1  \n",
       "33                     0          1          0             0            1  \n",
       "34                     0          1          0             1            1  \n",
       "70                     0          1          0             1            1  \n",
       "91                     0          1          1             1            1  \n",
       "...                  ...        ...        ...           ...          ...  \n",
       "6840                   0          1          0             0            1  \n",
       "6845                   0          1          0             1            1  \n",
       "6909                   0          1          0             1            1  \n",
       "6979                   0          0          0             1            1  \n",
       "7016                   0          1          0             1            1  \n",
       "\n",
       "[233 rows x 23 columns]"
      ]
     },
     "execution_count": 183,
     "metadata": {},
     "output_type": "execute_result"
    }
   ],
   "source": [
    "df[df.begin_date == '2020-01-01']"
   ]
  },
  {
   "cell_type": "markdown",
   "metadata": {},
   "source": [
    "We can see that **monthly-charges** equals **total_charges** so we will fill our NAN values with 0."
   ]
  },
  {
   "cell_type": "code",
   "execution_count": 184,
   "metadata": {},
   "outputs": [],
   "source": [
    "df.total_charges.fillna(0, inplace=True)"
   ]
  },
  {
   "cell_type": "code",
   "execution_count": 185,
   "metadata": {},
   "outputs": [
    {
     "name": "stdout",
     "output_type": "stream",
     "text": [
      "<class 'pandas.core.frame.DataFrame'>\n",
      "Int64Index: 7043 entries, 0 to 7042\n",
      "Data columns (total 23 columns):\n",
      " #   Column              Non-Null Count  Dtype         \n",
      "---  ------              --------------  -----         \n",
      " 0   customer_id         7043 non-null   object        \n",
      " 1   begin_date          7043 non-null   datetime64[ns]\n",
      " 2   end_date            7043 non-null   datetime64[ns]\n",
      " 3   type                7043 non-null   object        \n",
      " 4   payment_method      7043 non-null   object        \n",
      " 5   monthly_charges     7043 non-null   float64       \n",
      " 6   total_charges       7043 non-null   float32       \n",
      " 7   paperless_billing   7043 non-null   uint8         \n",
      " 8   is_male             7043 non-null   uint8         \n",
      " 9   senior_citizen      7043 non-null   uint8         \n",
      " 10  partner             7043 non-null   uint8         \n",
      " 11  dependents          7043 non-null   uint8         \n",
      " 12  online_security     7043 non-null   uint8         \n",
      " 13  online_backup       7043 non-null   uint8         \n",
      " 14  device_protection   7043 non-null   uint8         \n",
      " 15  tech_support        7043 non-null   uint8         \n",
      " 16  streaming_tv        7043 non-null   uint8         \n",
      " 17  streaming_movies    7043 non-null   uint8         \n",
      " 18  has_multiple_lines  7043 non-null   uint8         \n",
      " 19  has_phone           7043 non-null   uint8         \n",
      " 20  has_fiber           7043 non-null   uint8         \n",
      " 21  has_internet        7043 non-null   uint8         \n",
      " 22  is_customer         7043 non-null   uint8         \n",
      "dtypes: datetime64[ns](2), float32(1), float64(1), object(3), uint8(16)\n",
      "memory usage: 522.7+ KB\n"
     ]
    }
   ],
   "source": [
    "df.info()"
   ]
  },
  {
   "cell_type": "markdown",
   "metadata": {},
   "source": [
    "Making sure the values in total_charges make sense. **no outliers**"
   ]
  },
  {
   "cell_type": "code",
   "execution_count": 186,
   "metadata": {},
   "outputs": [
    {
     "data": {
      "text/html": [
       "<div>\n",
       "<style scoped>\n",
       "    .dataframe tbody tr th:only-of-type {\n",
       "        vertical-align: middle;\n",
       "    }\n",
       "\n",
       "    .dataframe tbody tr th {\n",
       "        vertical-align: top;\n",
       "    }\n",
       "\n",
       "    .dataframe thead th {\n",
       "        text-align: right;\n",
       "    }\n",
       "</style>\n",
       "<table border=\"1\" class=\"dataframe\">\n",
       "  <thead>\n",
       "    <tr style=\"text-align: right;\">\n",
       "      <th></th>\n",
       "      <th>customer_id</th>\n",
       "      <th>begin_date</th>\n",
       "      <th>end_date</th>\n",
       "      <th>type</th>\n",
       "      <th>paperless_billing</th>\n",
       "      <th>payment_method</th>\n",
       "      <th>monthly_charges</th>\n",
       "      <th>total_charges</th>\n",
       "    </tr>\n",
       "  </thead>\n",
       "  <tbody>\n",
       "    <tr>\n",
       "      <th>1704</th>\n",
       "      <td>0107-YHINA</td>\n",
       "      <td>2019-10-01</td>\n",
       "      <td>2019-11-01 00:00:00</td>\n",
       "      <td>Month-to-month</td>\n",
       "      <td>Yes</td>\n",
       "      <td>Electronic check</td>\n",
       "      <td>99.750</td>\n",
       "      <td>99.75</td>\n",
       "    </tr>\n",
       "    <tr>\n",
       "      <th>5788</th>\n",
       "      <td>4815-GBTCD</td>\n",
       "      <td>2019-10-01</td>\n",
       "      <td>No</td>\n",
       "      <td>Month-to-month</td>\n",
       "      <td>Yes</td>\n",
       "      <td>Electronic check</td>\n",
       "      <td>25.150</td>\n",
       "      <td>99.95</td>\n",
       "    </tr>\n",
       "    <tr>\n",
       "      <th>6715</th>\n",
       "      <td>1173-XZPYF</td>\n",
       "      <td>2019-03-01</td>\n",
       "      <td>No</td>\n",
       "      <td>Month-to-month</td>\n",
       "      <td>Yes</td>\n",
       "      <td>Electronic check</td>\n",
       "      <td>89.200</td>\n",
       "      <td>990.3</td>\n",
       "    </tr>\n",
       "    <tr>\n",
       "      <th>3643</th>\n",
       "      <td>9451-WLYRI</td>\n",
       "      <td>2015-09-01</td>\n",
       "      <td>No</td>\n",
       "      <td>One year</td>\n",
       "      <td>No</td>\n",
       "      <td>Credit card (automatic)</td>\n",
       "      <td>19.050</td>\n",
       "      <td>990.45</td>\n",
       "    </tr>\n",
       "    <tr>\n",
       "      <th>1014</th>\n",
       "      <td>4695-VADHF</td>\n",
       "      <td>2018-07-01</td>\n",
       "      <td>2020-01-01 00:00:00</td>\n",
       "      <td>Month-to-month</td>\n",
       "      <td>No</td>\n",
       "      <td>Electronic check</td>\n",
       "      <td>57.450</td>\n",
       "      <td>990.85</td>\n",
       "    </tr>\n",
       "    <tr>\n",
       "      <th>4677</th>\n",
       "      <td>8443-WVPSS</td>\n",
       "      <td>2018-12-01</td>\n",
       "      <td>2019-10-01 00:00:00</td>\n",
       "      <td>Month-to-month</td>\n",
       "      <td>Yes</td>\n",
       "      <td>Electronic check</td>\n",
       "      <td>99.850</td>\n",
       "      <td>990.9</td>\n",
       "    </tr>\n",
       "    <tr>\n",
       "      <th>3949</th>\n",
       "      <td>4495-LHSSK</td>\n",
       "      <td>2018-08-01</td>\n",
       "      <td>No</td>\n",
       "      <td>Month-to-month</td>\n",
       "      <td>No</td>\n",
       "      <td>Mailed check</td>\n",
       "      <td>57.650</td>\n",
       "      <td>992.7</td>\n",
       "    </tr>\n",
       "    <tr>\n",
       "      <th>6994</th>\n",
       "      <td>0804-YGEQV</td>\n",
       "      <td>2016-07-01</td>\n",
       "      <td>No</td>\n",
       "      <td>One year</td>\n",
       "      <td>Yes</td>\n",
       "      <td>Bank transfer (automatic)</td>\n",
       "      <td>24.450</td>\n",
       "      <td>993.15</td>\n",
       "    </tr>\n",
       "    <tr>\n",
       "      <th>1603</th>\n",
       "      <td>7459-RRWQZ</td>\n",
       "      <td>2018-09-01</td>\n",
       "      <td>2019-12-01 00:00:00</td>\n",
       "      <td>Month-to-month</td>\n",
       "      <td>Yes</td>\n",
       "      <td>Bank transfer (automatic)</td>\n",
       "      <td>64.650</td>\n",
       "      <td>994.55</td>\n",
       "    </tr>\n",
       "    <tr>\n",
       "      <th>479</th>\n",
       "      <td>6227-HWPWX</td>\n",
       "      <td>2018-07-01</td>\n",
       "      <td>2019-10-01 00:00:00</td>\n",
       "      <td>Month-to-month</td>\n",
       "      <td>No</td>\n",
       "      <td>Bank transfer (automatic)</td>\n",
       "      <td>69.000</td>\n",
       "      <td>994.8</td>\n",
       "    </tr>\n",
       "    <tr>\n",
       "      <th>5842</th>\n",
       "      <td>2971-SGAFL</td>\n",
       "      <td>2019-01-01</td>\n",
       "      <td>No</td>\n",
       "      <td>Month-to-month</td>\n",
       "      <td>Yes</td>\n",
       "      <td>Electronic check</td>\n",
       "      <td>78.750</td>\n",
       "      <td>995.35</td>\n",
       "    </tr>\n",
       "    <tr>\n",
       "      <th>2715</th>\n",
       "      <td>0484-JPBRU</td>\n",
       "      <td>2016-09-01</td>\n",
       "      <td>No</td>\n",
       "      <td>Month-to-month</td>\n",
       "      <td>Yes</td>\n",
       "      <td>Bank transfer (automatic)</td>\n",
       "      <td>25.250</td>\n",
       "      <td>996.45</td>\n",
       "    </tr>\n",
       "    <tr>\n",
       "      <th>348</th>\n",
       "      <td>6243-OZGFH</td>\n",
       "      <td>2018-03-01</td>\n",
       "      <td>No</td>\n",
       "      <td>Month-to-month</td>\n",
       "      <td>Yes</td>\n",
       "      <td>Electronic check</td>\n",
       "      <td>44.950</td>\n",
       "      <td>996.85</td>\n",
       "    </tr>\n",
       "    <tr>\n",
       "      <th>1935</th>\n",
       "      <td>7297-DVYGA</td>\n",
       "      <td>2015-11-01</td>\n",
       "      <td>No</td>\n",
       "      <td>One year</td>\n",
       "      <td>Yes</td>\n",
       "      <td>Bank transfer (automatic)</td>\n",
       "      <td>19.850</td>\n",
       "      <td>996.95</td>\n",
       "    </tr>\n",
       "    <tr>\n",
       "      <th>6179</th>\n",
       "      <td>6328-ZPBGN</td>\n",
       "      <td>2018-11-01</td>\n",
       "      <td>2019-10-01 00:00:00</td>\n",
       "      <td>Month-to-month</td>\n",
       "      <td>Yes</td>\n",
       "      <td>Bank transfer (automatic)</td>\n",
       "      <td>95.150</td>\n",
       "      <td>997.65</td>\n",
       "    </tr>\n",
       "    <tr>\n",
       "      <th>6646</th>\n",
       "      <td>8249-THVEC</td>\n",
       "      <td>2015-11-01</td>\n",
       "      <td>No</td>\n",
       "      <td>One year</td>\n",
       "      <td>No</td>\n",
       "      <td>Mailed check</td>\n",
       "      <td>19.400</td>\n",
       "      <td>997.75</td>\n",
       "    </tr>\n",
       "    <tr>\n",
       "      <th>5598</th>\n",
       "      <td>6051-PTVNS</td>\n",
       "      <td>2015-07-01</td>\n",
       "      <td>No</td>\n",
       "      <td>One year</td>\n",
       "      <td>No</td>\n",
       "      <td>Credit card (automatic)</td>\n",
       "      <td>19.150</td>\n",
       "      <td>998.1</td>\n",
       "    </tr>\n",
       "    <tr>\n",
       "      <th>3686</th>\n",
       "      <td>5899-MQZZL</td>\n",
       "      <td>2018-12-01</td>\n",
       "      <td>2020-01-01 00:00:00</td>\n",
       "      <td>Month-to-month</td>\n",
       "      <td>Yes</td>\n",
       "      <td>Mailed check</td>\n",
       "      <td>75.000</td>\n",
       "      <td>999.45</td>\n",
       "    </tr>\n",
       "    <tr>\n",
       "      <th>3353</th>\n",
       "      <td>4536-PLEQY</td>\n",
       "      <td>2019-02-01</td>\n",
       "      <td>No</td>\n",
       "      <td>Month-to-month</td>\n",
       "      <td>Yes</td>\n",
       "      <td>Credit card (automatic)</td>\n",
       "      <td>85.050</td>\n",
       "      <td>999.8</td>\n",
       "    </tr>\n",
       "    <tr>\n",
       "      <th>2845</th>\n",
       "      <td>9093-FPDLG</td>\n",
       "      <td>2019-03-01</td>\n",
       "      <td>No</td>\n",
       "      <td>Month-to-month</td>\n",
       "      <td>Yes</td>\n",
       "      <td>Electronic check</td>\n",
       "      <td>94.200</td>\n",
       "      <td>999.9</td>\n",
       "    </tr>\n",
       "  </tbody>\n",
       "</table>\n",
       "</div>"
      ],
      "text/plain": [
       "     customer_id  begin_date             end_date            type  \\\n",
       "1704  0107-YHINA  2019-10-01  2019-11-01 00:00:00  Month-to-month   \n",
       "5788  4815-GBTCD  2019-10-01                   No  Month-to-month   \n",
       "6715  1173-XZPYF  2019-03-01                   No  Month-to-month   \n",
       "3643  9451-WLYRI  2015-09-01                   No        One year   \n",
       "1014  4695-VADHF  2018-07-01  2020-01-01 00:00:00  Month-to-month   \n",
       "4677  8443-WVPSS  2018-12-01  2019-10-01 00:00:00  Month-to-month   \n",
       "3949  4495-LHSSK  2018-08-01                   No  Month-to-month   \n",
       "6994  0804-YGEQV  2016-07-01                   No        One year   \n",
       "1603  7459-RRWQZ  2018-09-01  2019-12-01 00:00:00  Month-to-month   \n",
       "479   6227-HWPWX  2018-07-01  2019-10-01 00:00:00  Month-to-month   \n",
       "5842  2971-SGAFL  2019-01-01                   No  Month-to-month   \n",
       "2715  0484-JPBRU  2016-09-01                   No  Month-to-month   \n",
       "348   6243-OZGFH  2018-03-01                   No  Month-to-month   \n",
       "1935  7297-DVYGA  2015-11-01                   No        One year   \n",
       "6179  6328-ZPBGN  2018-11-01  2019-10-01 00:00:00  Month-to-month   \n",
       "6646  8249-THVEC  2015-11-01                   No        One year   \n",
       "5598  6051-PTVNS  2015-07-01                   No        One year   \n",
       "3686  5899-MQZZL  2018-12-01  2020-01-01 00:00:00  Month-to-month   \n",
       "3353  4536-PLEQY  2019-02-01                   No  Month-to-month   \n",
       "2845  9093-FPDLG  2019-03-01                   No  Month-to-month   \n",
       "\n",
       "     paperless_billing             payment_method  monthly_charges  \\\n",
       "1704               Yes           Electronic check           99.750   \n",
       "5788               Yes           Electronic check           25.150   \n",
       "6715               Yes           Electronic check           89.200   \n",
       "3643                No    Credit card (automatic)           19.050   \n",
       "1014                No           Electronic check           57.450   \n",
       "4677               Yes           Electronic check           99.850   \n",
       "3949                No               Mailed check           57.650   \n",
       "6994               Yes  Bank transfer (automatic)           24.450   \n",
       "1603               Yes  Bank transfer (automatic)           64.650   \n",
       "479                 No  Bank transfer (automatic)           69.000   \n",
       "5842               Yes           Electronic check           78.750   \n",
       "2715               Yes  Bank transfer (automatic)           25.250   \n",
       "348                Yes           Electronic check           44.950   \n",
       "1935               Yes  Bank transfer (automatic)           19.850   \n",
       "6179               Yes  Bank transfer (automatic)           95.150   \n",
       "6646                No               Mailed check           19.400   \n",
       "5598                No    Credit card (automatic)           19.150   \n",
       "3686               Yes               Mailed check           75.000   \n",
       "3353               Yes    Credit card (automatic)           85.050   \n",
       "2845               Yes           Electronic check           94.200   \n",
       "\n",
       "     total_charges  \n",
       "1704         99.75  \n",
       "5788         99.95  \n",
       "6715         990.3  \n",
       "3643        990.45  \n",
       "1014        990.85  \n",
       "4677         990.9  \n",
       "3949         992.7  \n",
       "6994        993.15  \n",
       "1603        994.55  \n",
       "479          994.8  \n",
       "5842        995.35  \n",
       "2715        996.45  \n",
       "348         996.85  \n",
       "1935        996.95  \n",
       "6179        997.65  \n",
       "6646        997.75  \n",
       "5598         998.1  \n",
       "3686        999.45  \n",
       "3353         999.8  \n",
       "2845         999.9  "
      ]
     },
     "execution_count": 186,
     "metadata": {},
     "output_type": "execute_result"
    }
   ],
   "source": [
    "df_contract.sort_values(by='total_charges').tail(20)"
   ]
  },
  {
   "cell_type": "code",
   "execution_count": 187,
   "metadata": {},
   "outputs": [
    {
     "data": {
      "text/html": [
       "<div>\n",
       "<style scoped>\n",
       "    .dataframe tbody tr th:only-of-type {\n",
       "        vertical-align: middle;\n",
       "    }\n",
       "\n",
       "    .dataframe tbody tr th {\n",
       "        vertical-align: top;\n",
       "    }\n",
       "\n",
       "    .dataframe thead th {\n",
       "        text-align: right;\n",
       "    }\n",
       "</style>\n",
       "<table border=\"1\" class=\"dataframe\">\n",
       "  <thead>\n",
       "    <tr style=\"text-align: right;\">\n",
       "      <th></th>\n",
       "      <th>customer_id</th>\n",
       "      <th>begin_date</th>\n",
       "      <th>end_date</th>\n",
       "      <th>type</th>\n",
       "      <th>paperless_billing</th>\n",
       "      <th>payment_method</th>\n",
       "      <th>monthly_charges</th>\n",
       "      <th>total_charges</th>\n",
       "    </tr>\n",
       "  </thead>\n",
       "  <tbody>\n",
       "    <tr>\n",
       "      <th>936</th>\n",
       "      <td>5709-LVOEQ</td>\n",
       "      <td>2020-02-01</td>\n",
       "      <td>No</td>\n",
       "      <td>Two year</td>\n",
       "      <td>No</td>\n",
       "      <td>Mailed check</td>\n",
       "      <td>80.850</td>\n",
       "      <td></td>\n",
       "    </tr>\n",
       "    <tr>\n",
       "      <th>3826</th>\n",
       "      <td>3213-VVOLG</td>\n",
       "      <td>2020-02-01</td>\n",
       "      <td>No</td>\n",
       "      <td>Two year</td>\n",
       "      <td>No</td>\n",
       "      <td>Mailed check</td>\n",
       "      <td>25.350</td>\n",
       "      <td></td>\n",
       "    </tr>\n",
       "    <tr>\n",
       "      <th>4380</th>\n",
       "      <td>2520-SGTTA</td>\n",
       "      <td>2020-02-01</td>\n",
       "      <td>No</td>\n",
       "      <td>Two year</td>\n",
       "      <td>No</td>\n",
       "      <td>Mailed check</td>\n",
       "      <td>20.000</td>\n",
       "      <td></td>\n",
       "    </tr>\n",
       "    <tr>\n",
       "      <th>753</th>\n",
       "      <td>3115-CZMZD</td>\n",
       "      <td>2020-02-01</td>\n",
       "      <td>No</td>\n",
       "      <td>Two year</td>\n",
       "      <td>No</td>\n",
       "      <td>Mailed check</td>\n",
       "      <td>20.250</td>\n",
       "      <td></td>\n",
       "    </tr>\n",
       "    <tr>\n",
       "      <th>5218</th>\n",
       "      <td>2923-ARZLG</td>\n",
       "      <td>2020-02-01</td>\n",
       "      <td>No</td>\n",
       "      <td>One year</td>\n",
       "      <td>Yes</td>\n",
       "      <td>Mailed check</td>\n",
       "      <td>19.700</td>\n",
       "      <td></td>\n",
       "    </tr>\n",
       "    <tr>\n",
       "      <th>3331</th>\n",
       "      <td>7644-OMVMY</td>\n",
       "      <td>2020-02-01</td>\n",
       "      <td>No</td>\n",
       "      <td>Two year</td>\n",
       "      <td>No</td>\n",
       "      <td>Mailed check</td>\n",
       "      <td>19.850</td>\n",
       "      <td></td>\n",
       "    </tr>\n",
       "    <tr>\n",
       "      <th>6754</th>\n",
       "      <td>2775-SEFEE</td>\n",
       "      <td>2020-02-01</td>\n",
       "      <td>No</td>\n",
       "      <td>Two year</td>\n",
       "      <td>Yes</td>\n",
       "      <td>Bank transfer (automatic)</td>\n",
       "      <td>61.900</td>\n",
       "      <td></td>\n",
       "    </tr>\n",
       "    <tr>\n",
       "      <th>6670</th>\n",
       "      <td>4075-WKNIU</td>\n",
       "      <td>2020-02-01</td>\n",
       "      <td>No</td>\n",
       "      <td>Two year</td>\n",
       "      <td>No</td>\n",
       "      <td>Mailed check</td>\n",
       "      <td>73.350</td>\n",
       "      <td></td>\n",
       "    </tr>\n",
       "    <tr>\n",
       "      <th>1340</th>\n",
       "      <td>1371-DWPAZ</td>\n",
       "      <td>2020-02-01</td>\n",
       "      <td>No</td>\n",
       "      <td>Two year</td>\n",
       "      <td>No</td>\n",
       "      <td>Credit card (automatic)</td>\n",
       "      <td>56.050</td>\n",
       "      <td></td>\n",
       "    </tr>\n",
       "    <tr>\n",
       "      <th>488</th>\n",
       "      <td>4472-LVYGI</td>\n",
       "      <td>2020-02-01</td>\n",
       "      <td>No</td>\n",
       "      <td>Two year</td>\n",
       "      <td>Yes</td>\n",
       "      <td>Bank transfer (automatic)</td>\n",
       "      <td>52.550</td>\n",
       "      <td></td>\n",
       "    </tr>\n",
       "    <tr>\n",
       "      <th>1082</th>\n",
       "      <td>4367-NUYAO</td>\n",
       "      <td>2020-02-01</td>\n",
       "      <td>No</td>\n",
       "      <td>Two year</td>\n",
       "      <td>No</td>\n",
       "      <td>Mailed check</td>\n",
       "      <td>25.750</td>\n",
       "      <td></td>\n",
       "    </tr>\n",
       "    <tr>\n",
       "      <th>105</th>\n",
       "      <td>6180-YBIQI</td>\n",
       "      <td>2019-09-01</td>\n",
       "      <td>No</td>\n",
       "      <td>Month-to-month</td>\n",
       "      <td>No</td>\n",
       "      <td>Mailed check</td>\n",
       "      <td>24.300</td>\n",
       "      <td>100.2</td>\n",
       "    </tr>\n",
       "    <tr>\n",
       "      <th>4459</th>\n",
       "      <td>3178-FESZO</td>\n",
       "      <td>2019-11-01</td>\n",
       "      <td>2019-12-01 00:00:00</td>\n",
       "      <td>Month-to-month</td>\n",
       "      <td>Yes</td>\n",
       "      <td>Credit card (automatic)</td>\n",
       "      <td>100.250</td>\n",
       "      <td>100.25</td>\n",
       "    </tr>\n",
       "    <tr>\n",
       "      <th>1723</th>\n",
       "      <td>2587-YNLES</td>\n",
       "      <td>2019-08-01</td>\n",
       "      <td>No</td>\n",
       "      <td>Two year</td>\n",
       "      <td>No</td>\n",
       "      <td>Mailed check</td>\n",
       "      <td>20.100</td>\n",
       "      <td>100.35</td>\n",
       "    </tr>\n",
       "    <tr>\n",
       "      <th>2124</th>\n",
       "      <td>7802-EFKNY</td>\n",
       "      <td>2019-08-01</td>\n",
       "      <td>2020-01-01 00:00:00</td>\n",
       "      <td>Month-to-month</td>\n",
       "      <td>Yes</td>\n",
       "      <td>Electronic check</td>\n",
       "      <td>24.950</td>\n",
       "      <td>100.4</td>\n",
       "    </tr>\n",
       "    <tr>\n",
       "      <th>2208</th>\n",
       "      <td>7216-EWTRS</td>\n",
       "      <td>2019-11-01</td>\n",
       "      <td>2019-12-01 00:00:00</td>\n",
       "      <td>Month-to-month</td>\n",
       "      <td>Yes</td>\n",
       "      <td>Electronic check</td>\n",
       "      <td>100.800</td>\n",
       "      <td>100.8</td>\n",
       "    </tr>\n",
       "    <tr>\n",
       "      <th>460</th>\n",
       "      <td>4719-UMSIY</td>\n",
       "      <td>2019-08-01</td>\n",
       "      <td>No</td>\n",
       "      <td>Month-to-month</td>\n",
       "      <td>No</td>\n",
       "      <td>Mailed check</td>\n",
       "      <td>19.650</td>\n",
       "      <td>100.9</td>\n",
       "    </tr>\n",
       "    <tr>\n",
       "      <th>3883</th>\n",
       "      <td>8104-OSKWT</td>\n",
       "      <td>2019-02-01</td>\n",
       "      <td>No</td>\n",
       "      <td>Month-to-month</td>\n",
       "      <td>Yes</td>\n",
       "      <td>Electronic check</td>\n",
       "      <td>79.800</td>\n",
       "      <td>1001.2</td>\n",
       "    </tr>\n",
       "    <tr>\n",
       "      <th>2799</th>\n",
       "      <td>7009-PCARS</td>\n",
       "      <td>2015-07-01</td>\n",
       "      <td>No</td>\n",
       "      <td>One year</td>\n",
       "      <td>No</td>\n",
       "      <td>Bank transfer (automatic)</td>\n",
       "      <td>19.100</td>\n",
       "      <td>1001.5</td>\n",
       "    </tr>\n",
       "    <tr>\n",
       "      <th>5337</th>\n",
       "      <td>6705-LNMDD</td>\n",
       "      <td>2018-06-01</td>\n",
       "      <td>No</td>\n",
       "      <td>Month-to-month</td>\n",
       "      <td>No</td>\n",
       "      <td>Mailed check</td>\n",
       "      <td>50.000</td>\n",
       "      <td>1003.05</td>\n",
       "    </tr>\n",
       "  </tbody>\n",
       "</table>\n",
       "</div>"
      ],
      "text/plain": [
       "     customer_id  begin_date             end_date            type  \\\n",
       "936   5709-LVOEQ  2020-02-01                   No        Two year   \n",
       "3826  3213-VVOLG  2020-02-01                   No        Two year   \n",
       "4380  2520-SGTTA  2020-02-01                   No        Two year   \n",
       "753   3115-CZMZD  2020-02-01                   No        Two year   \n",
       "5218  2923-ARZLG  2020-02-01                   No        One year   \n",
       "3331  7644-OMVMY  2020-02-01                   No        Two year   \n",
       "6754  2775-SEFEE  2020-02-01                   No        Two year   \n",
       "6670  4075-WKNIU  2020-02-01                   No        Two year   \n",
       "1340  1371-DWPAZ  2020-02-01                   No        Two year   \n",
       "488   4472-LVYGI  2020-02-01                   No        Two year   \n",
       "1082  4367-NUYAO  2020-02-01                   No        Two year   \n",
       "105   6180-YBIQI  2019-09-01                   No  Month-to-month   \n",
       "4459  3178-FESZO  2019-11-01  2019-12-01 00:00:00  Month-to-month   \n",
       "1723  2587-YNLES  2019-08-01                   No        Two year   \n",
       "2124  7802-EFKNY  2019-08-01  2020-01-01 00:00:00  Month-to-month   \n",
       "2208  7216-EWTRS  2019-11-01  2019-12-01 00:00:00  Month-to-month   \n",
       "460   4719-UMSIY  2019-08-01                   No  Month-to-month   \n",
       "3883  8104-OSKWT  2019-02-01                   No  Month-to-month   \n",
       "2799  7009-PCARS  2015-07-01                   No        One year   \n",
       "5337  6705-LNMDD  2018-06-01                   No  Month-to-month   \n",
       "\n",
       "     paperless_billing             payment_method  monthly_charges  \\\n",
       "936                 No               Mailed check           80.850   \n",
       "3826                No               Mailed check           25.350   \n",
       "4380                No               Mailed check           20.000   \n",
       "753                 No               Mailed check           20.250   \n",
       "5218               Yes               Mailed check           19.700   \n",
       "3331                No               Mailed check           19.850   \n",
       "6754               Yes  Bank transfer (automatic)           61.900   \n",
       "6670                No               Mailed check           73.350   \n",
       "1340                No    Credit card (automatic)           56.050   \n",
       "488                Yes  Bank transfer (automatic)           52.550   \n",
       "1082                No               Mailed check           25.750   \n",
       "105                 No               Mailed check           24.300   \n",
       "4459               Yes    Credit card (automatic)          100.250   \n",
       "1723                No               Mailed check           20.100   \n",
       "2124               Yes           Electronic check           24.950   \n",
       "2208               Yes           Electronic check          100.800   \n",
       "460                 No               Mailed check           19.650   \n",
       "3883               Yes           Electronic check           79.800   \n",
       "2799                No  Bank transfer (automatic)           19.100   \n",
       "5337                No               Mailed check           50.000   \n",
       "\n",
       "     total_charges  \n",
       "936                 \n",
       "3826                \n",
       "4380                \n",
       "753                 \n",
       "5218                \n",
       "3331                \n",
       "6754                \n",
       "6670                \n",
       "1340                \n",
       "488                 \n",
       "1082                \n",
       "105          100.2  \n",
       "4459        100.25  \n",
       "1723        100.35  \n",
       "2124         100.4  \n",
       "2208         100.8  \n",
       "460          100.9  \n",
       "3883        1001.2  \n",
       "2799        1001.5  \n",
       "5337       1003.05  "
      ]
     },
     "execution_count": 187,
     "metadata": {},
     "output_type": "execute_result"
    }
   ],
   "source": [
    "df_contract.sort_values(by='total_charges').head(20)"
   ]
  },
  {
   "cell_type": "markdown",
   "metadata": {},
   "source": [
    "df_contract total_charges seems fine now."
   ]
  },
  {
   "cell_type": "markdown",
   "metadata": {},
   "source": [
    "### Feature Engineering\n",
    "\n",
    "We will create:\n",
    "* month_duration\n",
    "* Month\n",
    "* year\n",
    "\n",
    "These will mostlikly replace our begin date and end date columns."
   ]
  },
  {
   "cell_type": "markdown",
   "metadata": {},
   "source": [
    "#### Creating month_duration"
   ]
  },
  {
   "cell_type": "code",
   "execution_count": 189,
   "metadata": {},
   "outputs": [],
   "source": [
    "df['days_duration'] = (df['end_date'] - df['begin_date']).astype(np.timedelta64(1, 'D'))\n"
   ]
  },
  {
   "cell_type": "code",
   "execution_count": 111,
   "metadata": {},
   "outputs": [],
   "source": [
    "# df['months_duration'] = df.end_date.dt.to_period('D').view(dtype='int64') - df.begin_date.dt.to_period('D').view(dtype='int64')"
   ]
  },
  {
   "cell_type": "code",
   "execution_count": 190,
   "metadata": {},
   "outputs": [
    {
     "data": {
      "text/html": [
       "<div>\n",
       "<style scoped>\n",
       "    .dataframe tbody tr th:only-of-type {\n",
       "        vertical-align: middle;\n",
       "    }\n",
       "\n",
       "    .dataframe tbody tr th {\n",
       "        vertical-align: top;\n",
       "    }\n",
       "\n",
       "    .dataframe thead th {\n",
       "        text-align: right;\n",
       "    }\n",
       "</style>\n",
       "<table border=\"1\" class=\"dataframe\">\n",
       "  <thead>\n",
       "    <tr style=\"text-align: right;\">\n",
       "      <th></th>\n",
       "      <th>customer_id</th>\n",
       "      <th>begin_date</th>\n",
       "      <th>end_date</th>\n",
       "      <th>type</th>\n",
       "      <th>payment_method</th>\n",
       "      <th>monthly_charges</th>\n",
       "      <th>total_charges</th>\n",
       "      <th>paperless_billing</th>\n",
       "      <th>is_male</th>\n",
       "      <th>senior_citizen</th>\n",
       "      <th>...</th>\n",
       "      <th>device_protection</th>\n",
       "      <th>tech_support</th>\n",
       "      <th>streaming_tv</th>\n",
       "      <th>streaming_movies</th>\n",
       "      <th>has_multiple_lines</th>\n",
       "      <th>has_phone</th>\n",
       "      <th>has_fiber</th>\n",
       "      <th>has_internet</th>\n",
       "      <th>is_customer</th>\n",
       "      <th>days_duration</th>\n",
       "    </tr>\n",
       "  </thead>\n",
       "  <tbody>\n",
       "    <tr>\n",
       "      <th>0</th>\n",
       "      <td>7590-VHVEG</td>\n",
       "      <td>2020-01-01</td>\n",
       "      <td>2020-02-01</td>\n",
       "      <td>Month-to-month</td>\n",
       "      <td>Electronic check</td>\n",
       "      <td>29.850</td>\n",
       "      <td>29.850</td>\n",
       "      <td>1</td>\n",
       "      <td>0</td>\n",
       "      <td>0</td>\n",
       "      <td>...</td>\n",
       "      <td>0</td>\n",
       "      <td>0</td>\n",
       "      <td>0</td>\n",
       "      <td>0</td>\n",
       "      <td>0</td>\n",
       "      <td>0</td>\n",
       "      <td>0</td>\n",
       "      <td>1</td>\n",
       "      <td>1</td>\n",
       "      <td>31.000</td>\n",
       "    </tr>\n",
       "    <tr>\n",
       "      <th>1</th>\n",
       "      <td>5575-GNVDE</td>\n",
       "      <td>2017-04-01</td>\n",
       "      <td>2020-02-01</td>\n",
       "      <td>One year</td>\n",
       "      <td>Mailed check</td>\n",
       "      <td>56.950</td>\n",
       "      <td>1889.500</td>\n",
       "      <td>0</td>\n",
       "      <td>1</td>\n",
       "      <td>0</td>\n",
       "      <td>...</td>\n",
       "      <td>1</td>\n",
       "      <td>0</td>\n",
       "      <td>0</td>\n",
       "      <td>0</td>\n",
       "      <td>0</td>\n",
       "      <td>1</td>\n",
       "      <td>0</td>\n",
       "      <td>1</td>\n",
       "      <td>1</td>\n",
       "      <td>1036.000</td>\n",
       "    </tr>\n",
       "    <tr>\n",
       "      <th>2</th>\n",
       "      <td>3668-QPYBK</td>\n",
       "      <td>2019-10-01</td>\n",
       "      <td>2019-12-01</td>\n",
       "      <td>Month-to-month</td>\n",
       "      <td>Mailed check</td>\n",
       "      <td>53.850</td>\n",
       "      <td>108.150</td>\n",
       "      <td>1</td>\n",
       "      <td>1</td>\n",
       "      <td>0</td>\n",
       "      <td>...</td>\n",
       "      <td>0</td>\n",
       "      <td>0</td>\n",
       "      <td>0</td>\n",
       "      <td>0</td>\n",
       "      <td>0</td>\n",
       "      <td>1</td>\n",
       "      <td>0</td>\n",
       "      <td>1</td>\n",
       "      <td>0</td>\n",
       "      <td>61.000</td>\n",
       "    </tr>\n",
       "    <tr>\n",
       "      <th>3</th>\n",
       "      <td>7795-CFOCW</td>\n",
       "      <td>2016-05-01</td>\n",
       "      <td>2020-02-01</td>\n",
       "      <td>One year</td>\n",
       "      <td>Bank transfer (automatic)</td>\n",
       "      <td>42.300</td>\n",
       "      <td>1840.750</td>\n",
       "      <td>0</td>\n",
       "      <td>1</td>\n",
       "      <td>0</td>\n",
       "      <td>...</td>\n",
       "      <td>1</td>\n",
       "      <td>1</td>\n",
       "      <td>0</td>\n",
       "      <td>0</td>\n",
       "      <td>0</td>\n",
       "      <td>0</td>\n",
       "      <td>0</td>\n",
       "      <td>1</td>\n",
       "      <td>1</td>\n",
       "      <td>1371.000</td>\n",
       "    </tr>\n",
       "    <tr>\n",
       "      <th>4</th>\n",
       "      <td>9237-HQITU</td>\n",
       "      <td>2019-09-01</td>\n",
       "      <td>2019-11-01</td>\n",
       "      <td>Month-to-month</td>\n",
       "      <td>Electronic check</td>\n",
       "      <td>70.700</td>\n",
       "      <td>151.650</td>\n",
       "      <td>1</td>\n",
       "      <td>0</td>\n",
       "      <td>0</td>\n",
       "      <td>...</td>\n",
       "      <td>0</td>\n",
       "      <td>0</td>\n",
       "      <td>0</td>\n",
       "      <td>0</td>\n",
       "      <td>0</td>\n",
       "      <td>1</td>\n",
       "      <td>1</td>\n",
       "      <td>1</td>\n",
       "      <td>0</td>\n",
       "      <td>61.000</td>\n",
       "    </tr>\n",
       "  </tbody>\n",
       "</table>\n",
       "<p>5 rows × 24 columns</p>\n",
       "</div>"
      ],
      "text/plain": [
       "  customer_id begin_date   end_date            type  \\\n",
       "0  7590-VHVEG 2020-01-01 2020-02-01  Month-to-month   \n",
       "1  5575-GNVDE 2017-04-01 2020-02-01        One year   \n",
       "2  3668-QPYBK 2019-10-01 2019-12-01  Month-to-month   \n",
       "3  7795-CFOCW 2016-05-01 2020-02-01        One year   \n",
       "4  9237-HQITU 2019-09-01 2019-11-01  Month-to-month   \n",
       "\n",
       "              payment_method  monthly_charges  total_charges  \\\n",
       "0           Electronic check           29.850         29.850   \n",
       "1               Mailed check           56.950       1889.500   \n",
       "2               Mailed check           53.850        108.150   \n",
       "3  Bank transfer (automatic)           42.300       1840.750   \n",
       "4           Electronic check           70.700        151.650   \n",
       "\n",
       "   paperless_billing  is_male  senior_citizen  ...  device_protection  \\\n",
       "0                  1        0               0  ...                  0   \n",
       "1                  0        1               0  ...                  1   \n",
       "2                  1        1               0  ...                  0   \n",
       "3                  0        1               0  ...                  1   \n",
       "4                  1        0               0  ...                  0   \n",
       "\n",
       "   tech_support  streaming_tv  streaming_movies  has_multiple_lines  \\\n",
       "0             0             0                 0                   0   \n",
       "1             0             0                 0                   0   \n",
       "2             0             0                 0                   0   \n",
       "3             1             0                 0                   0   \n",
       "4             0             0                 0                   0   \n",
       "\n",
       "   has_phone  has_fiber  has_internet  is_customer  days_duration  \n",
       "0          0          0             1            1         31.000  \n",
       "1          1          0             1            1       1036.000  \n",
       "2          1          0             1            0         61.000  \n",
       "3          0          0             1            1       1371.000  \n",
       "4          1          1             1            0         61.000  \n",
       "\n",
       "[5 rows x 24 columns]"
      ]
     },
     "execution_count": 190,
     "metadata": {},
     "output_type": "execute_result"
    }
   ],
   "source": [
    "df.head()"
   ]
  },
  {
   "cell_type": "markdown",
   "metadata": {},
   "source": [
    "#### <del>Spliting begin_date to year and month columns</del> Dropping date columns\n",
    "Since we have extracted the important information we can drop date columns"
   ]
  },
  {
   "cell_type": "code",
   "execution_count": 191,
   "metadata": {},
   "outputs": [],
   "source": [
    "df.drop(['begin_date','end_date'], axis=1, inplace=True)\n",
    "\n"
   ]
  },
  {
   "cell_type": "markdown",
   "metadata": {},
   "source": [
    "#### Downcasting int columns"
   ]
  },
  {
   "cell_type": "code",
   "execution_count": 192,
   "metadata": {},
   "outputs": [],
   "source": [
    "for col in df.columns:\n",
    "    if df[col].dtype == 'int':\n",
    "        df[col] = pd.to_numeric(df[col],downcast='integer')"
   ]
  },
  {
   "cell_type": "code",
   "execution_count": 193,
   "metadata": {},
   "outputs": [
    {
     "name": "stdout",
     "output_type": "stream",
     "text": [
      "<class 'pandas.core.frame.DataFrame'>\n",
      "Int64Index: 7043 entries, 0 to 7042\n",
      "Data columns (total 22 columns):\n",
      " #   Column              Non-Null Count  Dtype  \n",
      "---  ------              --------------  -----  \n",
      " 0   customer_id         7043 non-null   object \n",
      " 1   type                7043 non-null   object \n",
      " 2   payment_method      7043 non-null   object \n",
      " 3   monthly_charges     7043 non-null   float64\n",
      " 4   total_charges       7043 non-null   float32\n",
      " 5   paperless_billing   7043 non-null   uint8  \n",
      " 6   is_male             7043 non-null   uint8  \n",
      " 7   senior_citizen      7043 non-null   uint8  \n",
      " 8   partner             7043 non-null   uint8  \n",
      " 9   dependents          7043 non-null   uint8  \n",
      " 10  online_security     7043 non-null   uint8  \n",
      " 11  online_backup       7043 non-null   uint8  \n",
      " 12  device_protection   7043 non-null   uint8  \n",
      " 13  tech_support        7043 non-null   uint8  \n",
      " 14  streaming_tv        7043 non-null   uint8  \n",
      " 15  streaming_movies    7043 non-null   uint8  \n",
      " 16  has_multiple_lines  7043 non-null   uint8  \n",
      " 17  has_phone           7043 non-null   uint8  \n",
      " 18  has_fiber           7043 non-null   uint8  \n",
      " 19  has_internet        7043 non-null   uint8  \n",
      " 20  is_customer         7043 non-null   uint8  \n",
      " 21  days_duration       7043 non-null   float64\n",
      "dtypes: float32(1), float64(2), object(3), uint8(16)\n",
      "memory usage: 467.7+ KB\n"
     ]
    }
   ],
   "source": [
    "df.info()"
   ]
  },
  {
   "cell_type": "markdown",
   "metadata": {},
   "source": [
    "We still have payment_method that hold categorical values.\n",
    "\n",
    "We can:\n",
    "* OHE\n",
    "* let models like LGBM handle them\n",
    "\n",
    "We will leave them for now and before working on our models handle these approaches."
   ]
  },
  {
   "cell_type": "markdown",
   "metadata": {},
   "source": [
    "<div class=\"alert alert-danger\">\n",
    "<b>Reviewer's comment</b>\n",
    "\n",
    "The preprocessing looks good! One small problem: using a combination of `months_duration` and `begin_month` and `begin_year` creates target leakage: it is easy to reconstruct the `EndDate` from these features, and then it is trivial to figure out if the client churns. Nevertheless, `months_duration` is a good feature and it doesn't create data leakage on its own, so you can just remove `begin_month` and `begin_year` to fix this problem\n",
    "\n",
    "</div>"
   ]
  },
  {
   "cell_type": "markdown",
   "metadata": {},
   "source": [
    "<div class=\"alert alert-info\">\n",
    "<b>Itay comment</b>\n",
    "\n",
    "You are correct, when I tried more iterations on catboost I was able to reach 1.00 ROC on test.\n",
    "</div>"
   ]
  },
  {
   "cell_type": "markdown",
   "metadata": {},
   "source": [
    "## Data Analysis\n",
    "Now that we have our data ready we can preform some analysis to better understand our dataframe."
   ]
  },
  {
   "cell_type": "markdown",
   "metadata": {},
   "source": [
    "#### Class Balance\n",
    "\n",
    "Since our aim is to preform classification we will first see how the distribution between classes."
   ]
  },
  {
   "cell_type": "code",
   "execution_count": 194,
   "metadata": {},
   "outputs": [
    {
     "data": {
      "image/png": "[encoded data removed]",
      "text/plain": [
       "<Figure size 1440x720 with 1 Axes>"
      ]
     },
     "metadata": {},
     "output_type": "display_data"
    }
   ],
   "source": [
    "class_count = df.is_customer.value_counts()\n",
    "class_prect = (np.round(df.is_customer.value_counts(normalize=True).sort_values()*100,2)).values\n",
    "x_customer = ['not_customer', 'customer']\n",
    "\n",
    "fig, ax = plt.subplots(figsize=(20,10))\n",
    "sns.barplot(x = [1,0], y = class_count)\n",
    "ax.set_xticklabels(labels=x_customer, ha='right')\n",
    "for i in range(len(class_prect)):\n",
    "    ax.text(i -0.05, class_count[i] + 50   ,s=f\"{class_prect[i]}%\", fontsize=15)\n",
    "\n",
    "plt.title('how many customer_id are still customers')\n",
    "plt.xticks(fontsize=20);"
   ]
  },
  {
   "cell_type": "markdown",
   "metadata": {},
   "source": [
    "We see our classes are imbalanced.\n",
    "* about 73% of our customer_id are still customers.\n",
    "\n",
    "This will affect how we split our data to train and test.\n",
    "\n",
    "-----\n",
    "Can we find correlation between our features?"
   ]
  },
  {
   "cell_type": "code",
   "execution_count": 195,
   "metadata": {},
   "outputs": [
    {
     "data": {
      "text/plain": [
       "is_customer      has_fiber         -0.308\n",
       "has_fiber        is_customer       -0.308\n",
       "is_customer      has_internet      -0.228\n",
       "has_internet     is_customer       -0.228\n",
       "dependents       senior_citizen    -0.211\n",
       "                                    ...  \n",
       "has_internet     monthly_charges    0.764\n",
       "has_fiber        monthly_charges    0.787\n",
       "monthly_charges  has_fiber          0.787\n",
       "total_charges    days_duration      0.826\n",
       "days_duration    total_charges      0.826\n",
       "Length: 342, dtype: float64"
      ]
     },
     "execution_count": 195,
     "metadata": {},
     "output_type": "execute_result"
    }
   ],
   "source": [
    "corr = df.corr()\n",
    "\n",
    "s = corr.unstack()\n",
    "so = s.sort_values(kind=\"quicksort\")\n",
    "so[so[:] != 1]"
   ]
  },
  {
   "cell_type": "markdown",
   "metadata": {},
   "source": [
    "#### Correlation\n"
   ]
  },
  {
   "cell_type": "code",
   "execution_count": 196,
   "metadata": {},
   "outputs": [
    {
     "data": {
      "image/png": "[encoded data removed]",
      "text/plain": [
       "<Figure size 1080x720 with 2 Axes>"
      ]
     },
     "metadata": {},
     "output_type": "display_data"
    }
   ],
   "source": [
    "plt.figure(figsize=(15,10))\n",
    "ax = sns.heatmap(round(df.corr(),2), annot=True)\n",
    "\n",
    "bottom, top = ax.get_ylim()\n",
    "ax.set_ylim(bottom + 0.5, top - 0.5);\n",
    "plt.yticks(rotation=0);\n",
    "plt.title('Correlation Matrix of Features', size = 16)\n",
    "plt.show();\n"
   ]
  },
  {
   "cell_type": "markdown",
   "metadata": {},
   "source": [
    "We can see is_male has very low correlation in all columns so we can drop it."
   ]
  },
  {
   "cell_type": "code",
   "execution_count": 197,
   "metadata": {},
   "outputs": [],
   "source": [
    "df.drop(['is_male'],axis=1, inplace=True)"
   ]
  },
  {
   "cell_type": "markdown",
   "metadata": {},
   "source": [
    "<div class=\"alert alert-success\">\n",
    "<b>Reviewer's comment</b>\n",
    "\n",
    "Nice EDA!\n",
    "\n",
    "</div>"
   ]
  },
  {
   "cell_type": "markdown",
   "metadata": {},
   "source": [
    "## Preparing For Model Training\n",
    "\n",
    "* train_test_split\n",
    "* taking care of categorical columns in different ways:\n",
    "    * ordinal, for type it seems like a good idea\n",
    "    * keeping them as is, some columns \n",
    "\n",
    "\n",
    "Since our objective is to predict custmers that leave, we care more that our model is able to minimize our false positive.<br>\n",
    "Meaning **minimize** the number of customers predicted to stay but actually leave.\n",
    "\n",
    "Metrics:\n",
    "* ROC AUC\n",
    "* Confusion matrix that display false negative"
   ]
  },
  {
   "cell_type": "markdown",
   "metadata": {},
   "source": [
    "Experiments to do:\n",
    "* With SMOTE, without\n",
    "* type:\n",
    "    * Handeling categorical\n",
    "    * ordinal\n",
    "    * OHE\n",
    "    * Keep as is\n",
    "* payment_method:\n",
    "    * Handeling categorical\n",
    "    * OHE\n",
    "    * Keep as is\n",
    "\n",
    "#### ML Imports"
   ]
  },
  {
   "cell_type": "code",
   "execution_count": 198,
   "metadata": {},
   "outputs": [],
   "source": [
    "\n",
    "# Importing classifiers models.\n",
    "from sklearn.ensemble import RandomForestClassifier\n",
    "from sklearn.linear_model import LogisticRegression\n",
    "from sklearn.dummy import DummyClassifier\n",
    "from catboost import CatBoostClassifier\n",
    "\n",
    "# Pipeline:\n",
    "from sklearn.compose import make_column_transformer\n",
    "from imblearn.pipeline import Pipeline, make_pipeline\n",
    "\n",
    "# Importing Metrics, Classification.\n",
    "from sklearn.metrics import roc_auc_score\n",
    "from sklearn.metrics import f1_score\n",
    "from sklearn.metrics import recall_score\n",
    "from sklearn.metrics import confusion_matrix\n",
    "\n",
    "# Sampeling\n",
    "from imblearn.over_sampling import SMOTE\n",
    "from imblearn.combine import SMOTEENN, SMOTETomek\n",
    "\n",
    "# Column encoders\n",
    "from category_encoders import TargetEncoder\n",
    "from sklearn.compose import ColumnTransformer"
   ]
  },
  {
   "cell_type": "markdown",
   "metadata": {},
   "source": [
    "#### Helper functions"
   ]
  },
  {
   "cell_type": "code",
   "execution_count": 199,
   "metadata": {},
   "outputs": [],
   "source": [
    "def report():\n",
    "    return ''"
   ]
  },
  {
   "cell_type": "code",
   "execution_count": 200,
   "metadata": {},
   "outputs": [],
   "source": [
    "def product(*args, repeat=1):\n",
    "    '''Took product from itertools and changed for my needs'''\n",
    "    # product('ABCD', 'xy') --> Ax Ay Bx By Cx Cy Dx Dy\n",
    "    # product(range(2), repeat=3) --> 000 001 010 011 100 101 110 111\n",
    "    pools = [tuple(pool) for pool in args] * repeat\n",
    "    result = [[]]\n",
    "    for pool in pools:\n",
    "        result = [x+[y] if y != '' else x for x in result for y in pool ]\n",
    "    for prod in result:\n",
    "        yield list(prod)"
   ]
  },
  {
   "cell_type": "code",
   "execution_count": 201,
   "metadata": {},
   "outputs": [],
   "source": [
    "def run_tests(tests, model, X_train, y_train, param_grid={}):\n",
    "    '''Runs over tests and get score'''\n",
    "    best_score = 0    \n",
    "    for test in tests:\n",
    "        pipeline = make_pipeline(*test, model )\n",
    "        search = GridSearchCV(pipeline, param_grid=param_grid, cv= 5, scoring = 'roc_auc')\n",
    "        search.fit(X_train, y_train)\n",
    "        if best_score < search.best_score_:\n",
    "            best_score = search.best_score_\n",
    "    return best_score"
   ]
  },
  {
   "cell_type": "code",
   "execution_count": 202,
   "metadata": {},
   "outputs": [],
   "source": [
    "import sklearn.metrics as metrics\n",
    "\n",
    "def evaluate_model(model, train_features, train_target, test_features, test_target):\n",
    "    \n",
    "    eval_stats = {}\n",
    "    \n",
    "    fig, axs = plt.subplots(1, 3, figsize=(20, 6)) \n",
    "    \n",
    "    for type, features, target in (('train', train_features, train_target), ('test', test_features, test_target)):\n",
    "        \n",
    "        eval_stats[type] = {}\n",
    "    \n",
    "        pred_target = model.predict(features)\n",
    "        pred_proba = model.predict_proba(features)[:, 1]\n",
    "        \n",
    "        # F1\n",
    "        f1_thresholds = np.arange(0, 1.01, 0.05)\n",
    "        f1_scores = [metrics.f1_score(target, pred_proba>=threshold) for threshold in f1_thresholds]\n",
    "        \n",
    "        # ROC\n",
    "        fpr, tpr, roc_thresholds = metrics.roc_curve(target, pred_proba)\n",
    "        roc_auc = metrics.roc_auc_score(target, pred_proba)    \n",
    "        eval_stats[type]['ROC AUC'] = roc_auc\n",
    "\n",
    "        # PRC\n",
    "        precision, recall, pr_thresholds = metrics.precision_recall_curve(target, pred_proba)\n",
    "        aps = metrics.average_precision_score(target, pred_proba)\n",
    "        eval_stats[type]['APS'] = aps\n",
    "        \n",
    "        if type == 'train':\n",
    "            color = 'blue'\n",
    "        else:\n",
    "            color = 'green'\n",
    "\n",
    "        # F1 Score\n",
    "        ax = axs[0]\n",
    "        max_f1_score_idx = np.argmax(f1_scores)\n",
    "        ax.plot(f1_thresholds, f1_scores, color=color, label=f'{type}, max={f1_scores[max_f1_score_idx]:.2f} @ {f1_thresholds[max_f1_score_idx]:.2f}')\n",
    "        # setting crosses for some thresholds\n",
    "        for threshold in (0.2, 0.4, 0.5, 0.6, 0.8):\n",
    "            closest_value_idx = np.argmin(np.abs(f1_thresholds-threshold))\n",
    "            marker_color = 'orange' if threshold != 0.5 else 'red'\n",
    "            ax.plot(f1_thresholds[closest_value_idx], f1_scores[closest_value_idx], color=marker_color, marker='X', markersize=7)\n",
    "        ax.set_xlim([-0.02, 1.02])    \n",
    "        ax.set_ylim([-0.02, 1.02])\n",
    "        ax.set_xlabel('threshold')\n",
    "        ax.set_ylabel('F1')\n",
    "        ax.legend(loc='lower center')\n",
    "        ax.set_title(f'F1 Score') \n",
    "\n",
    "        # ROC\n",
    "        ax = axs[1]    \n",
    "        ax.plot(fpr, tpr, color=color, label=f'{type}, ROC AUC={roc_auc:.2f}')\n",
    "        # setting crosses for some thresholds\n",
    "        for threshold in (0.2, 0.4, 0.5, 0.6, 0.8):\n",
    "            closest_value_idx = np.argmin(np.abs(roc_thresholds-threshold))\n",
    "            marker_color = 'orange' if threshold != 0.5 else 'red'            \n",
    "            ax.plot(fpr[closest_value_idx], tpr[closest_value_idx], color=marker_color, marker='X', markersize=7)\n",
    "        ax.plot([0, 1], [0, 1], color='grey', linestyle='--')\n",
    "        ax.set_xlim([-0.02, 1.02])    \n",
    "        ax.set_ylim([-0.02, 1.02])\n",
    "        ax.set_xlabel('FPR')\n",
    "        ax.set_ylabel('TPR')\n",
    "        ax.legend(loc='lower center')        \n",
    "        ax.set_title(f'ROC Curve')\n",
    "        \n",
    "        # PRC\n",
    "        ax = axs[2]\n",
    "        ax.plot(recall, precision, color=color, label=f'{type}, AP={aps:.2f}')\n",
    "        # setting crosses for some thresholds\n",
    "        for threshold in (0.2, 0.4, 0.5, 0.6, 0.8):\n",
    "            closest_value_idx = np.argmin(np.abs(pr_thresholds-threshold))\n",
    "            marker_color = 'orange' if threshold != 0.5 else 'red'\n",
    "            ax.plot(recall[closest_value_idx], precision[closest_value_idx], color=marker_color, marker='X', markersize=7)\n",
    "        ax.set_xlim([-0.02, 1.02])    \n",
    "        ax.set_ylim([-0.02, 1.02])\n",
    "        ax.set_xlabel('recall')\n",
    "        ax.set_ylabel('precision')\n",
    "        ax.legend(loc='lower center')\n",
    "        ax.set_title(f'PRC')        \n",
    "\n",
    "        eval_stats[type]['Accuracy'] = metrics.accuracy_score(target, pred_target)\n",
    "        eval_stats[type]['F1'] = metrics.f1_score(target, pred_target)\n",
    "    \n",
    "    df_eval_stats = pd.DataFrame(eval_stats)\n",
    "    df_eval_stats = df_eval_stats.round(2)\n",
    "    df_eval_stats = df_eval_stats.reindex(index=('Accuracy', 'F1', 'APS', 'ROC AUC'))\n",
    "    \n",
    "    print(df_eval_stats)\n",
    "    \n",
    "    return"
   ]
  },
  {
   "cell_type": "markdown",
   "metadata": {},
   "source": [
    "#### Preparing variables:"
   ]
  },
  {
   "cell_type": "code",
   "execution_count": 203,
   "metadata": {},
   "outputs": [],
   "source": [
    "# Sampeling technichs list\n",
    "sampeling = [SMOTE(random_state=42)]"
   ]
  },
  {
   "cell_type": "code",
   "execution_count": 204,
   "metadata": {},
   "outputs": [],
   "source": [
    "# Scalers List\n",
    "scalers = [MinMaxScaler()]"
   ]
  },
  {
   "cell_type": "code",
   "execution_count": 205,
   "metadata": {},
   "outputs": [],
   "source": [
    "# Can be used by all models\n",
    "ordinal_tf = ColumnTransformer(transformers=[\n",
    "    ('ordinal',OrdinalEncoder(),['type','payment_method']),\n",
    "],remainder='passthrough')\n",
    "\n",
    "# Can be used by all models\n",
    "ohe_tf = ColumnTransformer(transformers=[\n",
    "    ('ohe',OneHotEncoder(drop='first', sparse=False, handle_unknown='ignore'),['type','payment_method']),\n",
    "],remainder='passthrough')\n",
    "\n",
    "# Can be used by all models\n",
    "ohe_ordinal_tf = ColumnTransformer(transformers=[\n",
    "    ('ordinal',OrdinalEncoder(),['type']),\n",
    "    ('ohe',OneHotEncoder(drop='first', sparse=False, handle_unknown='ignore'),['payment_method']),\n",
    "],remainder='passthrough')\n",
    "\n",
    "# Can be used by all models\n",
    "target_enco_tf = ColumnTransformer(transformers=[\n",
    "    ('target_enco',TargetEncoder(),['type', 'payment_method']),\n",
    "],remainder='passthrough')\n",
    "\n",
    "transformers = [ ohe_tf, ohe_ordinal_tf]"
   ]
  },
  {
   "cell_type": "markdown",
   "metadata": {},
   "source": [
    "Making sure test_creator works:"
   ]
  },
  {
   "cell_type": "markdown",
   "metadata": {},
   "source": [
    "#### Creating features and target variables"
   ]
  },
  {
   "cell_type": "code",
   "execution_count": 206,
   "metadata": {},
   "outputs": [],
   "source": [
    "df_copy = df.copy()"
   ]
  },
  {
   "cell_type": "code",
   "execution_count": 207,
   "metadata": {},
   "outputs": [],
   "source": [
    "y = df_copy.is_customer\n",
    "X = df_copy.drop(columns=['customer_id', 'is_customer'])"
   ]
  },
  {
   "cell_type": "code",
   "execution_count": 208,
   "metadata": {},
   "outputs": [],
   "source": [
    "X_train, X_test, y_train, y_test = train_test_split(\n",
    "    X, y, test_size=0.2, random_state=12345, stratify=y)"
   ]
  },
  {
   "cell_type": "markdown",
   "metadata": {},
   "source": [
    "<div class=\"alert alert-success\">\n",
    "<b>Reviewer's comment</b>\n",
    "\n",
    "The data is split into train and test sets, the proportions are reasonable. It's nice that you use stratification!\n",
    "\n",
    "</div>"
   ]
  },
  {
   "cell_type": "markdown",
   "metadata": {},
   "source": [
    "#### CatBoost"
   ]
  },
  {
   "cell_type": "code",
   "execution_count": 209,
   "metadata": {},
   "outputs": [],
   "source": [
    "# param_grid = {\n",
    "#                 'catboostclassifier__depth'         : [4, 6, 10],\n",
    "#                 'catboostclassifier__learning_rate' : [0.01,0.001,0.0001],\n",
    "#                 'catboostclassifier__iterations'    : [10, 20, 50]\n",
    "#             }"
   ]
  },
  {
   "cell_type": "code",
   "execution_count": 210,
   "metadata": {},
   "outputs": [
    {
     "data": {
      "text/html": [
       "<div>\n",
       "<style scoped>\n",
       "    .dataframe tbody tr th:only-of-type {\n",
       "        vertical-align: middle;\n",
       "    }\n",
       "\n",
       "    .dataframe tbody tr th {\n",
       "        vertical-align: top;\n",
       "    }\n",
       "\n",
       "    .dataframe thead th {\n",
       "        text-align: right;\n",
       "    }\n",
       "</style>\n",
       "<table border=\"1\" class=\"dataframe\">\n",
       "  <thead>\n",
       "    <tr style=\"text-align: right;\">\n",
       "      <th></th>\n",
       "      <th>type</th>\n",
       "      <th>payment_method</th>\n",
       "      <th>monthly_charges</th>\n",
       "      <th>total_charges</th>\n",
       "      <th>paperless_billing</th>\n",
       "      <th>senior_citizen</th>\n",
       "      <th>partner</th>\n",
       "      <th>dependents</th>\n",
       "      <th>online_security</th>\n",
       "      <th>online_backup</th>\n",
       "      <th>device_protection</th>\n",
       "      <th>tech_support</th>\n",
       "      <th>streaming_tv</th>\n",
       "      <th>streaming_movies</th>\n",
       "      <th>has_multiple_lines</th>\n",
       "      <th>has_phone</th>\n",
       "      <th>has_fiber</th>\n",
       "      <th>has_internet</th>\n",
       "      <th>days_duration</th>\n",
       "    </tr>\n",
       "  </thead>\n",
       "  <tbody>\n",
       "    <tr>\n",
       "      <th>5781</th>\n",
       "      <td>Month-to-month</td>\n",
       "      <td>Electronic check</td>\n",
       "      <td>89.200</td>\n",
       "      <td>2383.600</td>\n",
       "      <td>1</td>\n",
       "      <td>0</td>\n",
       "      <td>0</td>\n",
       "      <td>0</td>\n",
       "      <td>0</td>\n",
       "      <td>0</td>\n",
       "      <td>1</td>\n",
       "      <td>1</td>\n",
       "      <td>0</td>\n",
       "      <td>1</td>\n",
       "      <td>0</td>\n",
       "      <td>1</td>\n",
       "      <td>1</td>\n",
       "      <td>1</td>\n",
       "      <td>822.000</td>\n",
       "    </tr>\n",
       "    <tr>\n",
       "      <th>3830</th>\n",
       "      <td>Month-to-month</td>\n",
       "      <td>Electronic check</td>\n",
       "      <td>100.200</td>\n",
       "      <td>420.200</td>\n",
       "      <td>1</td>\n",
       "      <td>0</td>\n",
       "      <td>1</td>\n",
       "      <td>0</td>\n",
       "      <td>0</td>\n",
       "      <td>1</td>\n",
       "      <td>0</td>\n",
       "      <td>0</td>\n",
       "      <td>1</td>\n",
       "      <td>1</td>\n",
       "      <td>1</td>\n",
       "      <td>1</td>\n",
       "      <td>1</td>\n",
       "      <td>1</td>\n",
       "      <td>123.000</td>\n",
       "    </tr>\n",
       "    <tr>\n",
       "      <th>1425</th>\n",
       "      <td>Month-to-month</td>\n",
       "      <td>Electronic check</td>\n",
       "      <td>74.150</td>\n",
       "      <td>741.400</td>\n",
       "      <td>1</td>\n",
       "      <td>0</td>\n",
       "      <td>1</td>\n",
       "      <td>0</td>\n",
       "      <td>0</td>\n",
       "      <td>0</td>\n",
       "      <td>1</td>\n",
       "      <td>1</td>\n",
       "      <td>1</td>\n",
       "      <td>1</td>\n",
       "      <td>0</td>\n",
       "      <td>1</td>\n",
       "      <td>0</td>\n",
       "      <td>1</td>\n",
       "      <td>365.000</td>\n",
       "    </tr>\n",
       "    <tr>\n",
       "      <th>6451</th>\n",
       "      <td>One year</td>\n",
       "      <td>Electronic check</td>\n",
       "      <td>116.250</td>\n",
       "      <td>7862.250</td>\n",
       "      <td>1</td>\n",
       "      <td>1</td>\n",
       "      <td>1</td>\n",
       "      <td>1</td>\n",
       "      <td>1</td>\n",
       "      <td>1</td>\n",
       "      <td>1</td>\n",
       "      <td>1</td>\n",
       "      <td>1</td>\n",
       "      <td>1</td>\n",
       "      <td>1</td>\n",
       "      <td>1</td>\n",
       "      <td>1</td>\n",
       "      <td>1</td>\n",
       "      <td>2010.000</td>\n",
       "    </tr>\n",
       "    <tr>\n",
       "      <th>3416</th>\n",
       "      <td>Month-to-month</td>\n",
       "      <td>Mailed check</td>\n",
       "      <td>69.850</td>\n",
       "      <td>837.500</td>\n",
       "      <td>1</td>\n",
       "      <td>0</td>\n",
       "      <td>0</td>\n",
       "      <td>1</td>\n",
       "      <td>1</td>\n",
       "      <td>0</td>\n",
       "      <td>0</td>\n",
       "      <td>0</td>\n",
       "      <td>1</td>\n",
       "      <td>1</td>\n",
       "      <td>0</td>\n",
       "      <td>1</td>\n",
       "      <td>0</td>\n",
       "      <td>1</td>\n",
       "      <td>365.000</td>\n",
       "    </tr>\n",
       "    <tr>\n",
       "      <th>...</th>\n",
       "      <td>...</td>\n",
       "      <td>...</td>\n",
       "      <td>...</td>\n",
       "      <td>...</td>\n",
       "      <td>...</td>\n",
       "      <td>...</td>\n",
       "      <td>...</td>\n",
       "      <td>...</td>\n",
       "      <td>...</td>\n",
       "      <td>...</td>\n",
       "      <td>...</td>\n",
       "      <td>...</td>\n",
       "      <td>...</td>\n",
       "      <td>...</td>\n",
       "      <td>...</td>\n",
       "      <td>...</td>\n",
       "      <td>...</td>\n",
       "      <td>...</td>\n",
       "      <td>...</td>\n",
       "    </tr>\n",
       "    <tr>\n",
       "      <th>1633</th>\n",
       "      <td>Month-to-month</td>\n",
       "      <td>Electronic check</td>\n",
       "      <td>43.800</td>\n",
       "      <td>43.800</td>\n",
       "      <td>0</td>\n",
       "      <td>0</td>\n",
       "      <td>0</td>\n",
       "      <td>0</td>\n",
       "      <td>0</td>\n",
       "      <td>0</td>\n",
       "      <td>0</td>\n",
       "      <td>0</td>\n",
       "      <td>0</td>\n",
       "      <td>0</td>\n",
       "      <td>0</td>\n",
       "      <td>1</td>\n",
       "      <td>0</td>\n",
       "      <td>1</td>\n",
       "      <td>31.000</td>\n",
       "    </tr>\n",
       "    <tr>\n",
       "      <th>819</th>\n",
       "      <td>Two year</td>\n",
       "      <td>Credit card (automatic)</td>\n",
       "      <td>88.000</td>\n",
       "      <td>5986.450</td>\n",
       "      <td>1</td>\n",
       "      <td>0</td>\n",
       "      <td>1</td>\n",
       "      <td>0</td>\n",
       "      <td>1</td>\n",
       "      <td>1</td>\n",
       "      <td>0</td>\n",
       "      <td>1</td>\n",
       "      <td>0</td>\n",
       "      <td>0</td>\n",
       "      <td>1</td>\n",
       "      <td>1</td>\n",
       "      <td>1</td>\n",
       "      <td>1</td>\n",
       "      <td>2132.000</td>\n",
       "    </tr>\n",
       "    <tr>\n",
       "      <th>2464</th>\n",
       "      <td>Month-to-month</td>\n",
       "      <td>Electronic check</td>\n",
       "      <td>77.150</td>\n",
       "      <td>77.150</td>\n",
       "      <td>1</td>\n",
       "      <td>0</td>\n",
       "      <td>0</td>\n",
       "      <td>0</td>\n",
       "      <td>0</td>\n",
       "      <td>0</td>\n",
       "      <td>0</td>\n",
       "      <td>0</td>\n",
       "      <td>0</td>\n",
       "      <td>0</td>\n",
       "      <td>1</td>\n",
       "      <td>1</td>\n",
       "      <td>1</td>\n",
       "      <td>1</td>\n",
       "      <td>30.000</td>\n",
       "    </tr>\n",
       "    <tr>\n",
       "      <th>665</th>\n",
       "      <td>Month-to-month</td>\n",
       "      <td>Mailed check</td>\n",
       "      <td>74.750</td>\n",
       "      <td>238.100</td>\n",
       "      <td>1</td>\n",
       "      <td>0</td>\n",
       "      <td>0</td>\n",
       "      <td>0</td>\n",
       "      <td>0</td>\n",
       "      <td>0</td>\n",
       "      <td>1</td>\n",
       "      <td>0</td>\n",
       "      <td>0</td>\n",
       "      <td>0</td>\n",
       "      <td>0</td>\n",
       "      <td>1</td>\n",
       "      <td>1</td>\n",
       "      <td>1</td>\n",
       "      <td>92.000</td>\n",
       "    </tr>\n",
       "    <tr>\n",
       "      <th>6596</th>\n",
       "      <td>One year</td>\n",
       "      <td>Electronic check</td>\n",
       "      <td>81.250</td>\n",
       "      <td>5567.550</td>\n",
       "      <td>0</td>\n",
       "      <td>0</td>\n",
       "      <td>0</td>\n",
       "      <td>0</td>\n",
       "      <td>1</td>\n",
       "      <td>1</td>\n",
       "      <td>1</td>\n",
       "      <td>1</td>\n",
       "      <td>1</td>\n",
       "      <td>0</td>\n",
       "      <td>1</td>\n",
       "      <td>1</td>\n",
       "      <td>0</td>\n",
       "      <td>1</td>\n",
       "      <td>1949.000</td>\n",
       "    </tr>\n",
       "  </tbody>\n",
       "</table>\n",
       "<p>5634 rows × 19 columns</p>\n",
       "</div>"
      ],
      "text/plain": [
       "                type           payment_method  monthly_charges  total_charges  \\\n",
       "5781  Month-to-month         Electronic check           89.200       2383.600   \n",
       "3830  Month-to-month         Electronic check          100.200        420.200   \n",
       "1425  Month-to-month         Electronic check           74.150        741.400   \n",
       "6451        One year         Electronic check          116.250       7862.250   \n",
       "3416  Month-to-month             Mailed check           69.850        837.500   \n",
       "...              ...                      ...              ...            ...   \n",
       "1633  Month-to-month         Electronic check           43.800         43.800   \n",
       "819         Two year  Credit card (automatic)           88.000       5986.450   \n",
       "2464  Month-to-month         Electronic check           77.150         77.150   \n",
       "665   Month-to-month             Mailed check           74.750        238.100   \n",
       "6596        One year         Electronic check           81.250       5567.550   \n",
       "\n",
       "      paperless_billing  senior_citizen  partner  dependents  online_security  \\\n",
       "5781                  1               0        0           0                0   \n",
       "3830                  1               0        1           0                0   \n",
       "1425                  1               0        1           0                0   \n",
       "6451                  1               1        1           1                1   \n",
       "3416                  1               0        0           1                1   \n",
       "...                 ...             ...      ...         ...              ...   \n",
       "1633                  0               0        0           0                0   \n",
       "819                   1               0        1           0                1   \n",
       "2464                  1               0        0           0                0   \n",
       "665                   1               0        0           0                0   \n",
       "6596                  0               0        0           0                1   \n",
       "\n",
       "      online_backup  device_protection  tech_support  streaming_tv  \\\n",
       "5781              0                  1             1             0   \n",
       "3830              1                  0             0             1   \n",
       "1425              0                  1             1             1   \n",
       "6451              1                  1             1             1   \n",
       "3416              0                  0             0             1   \n",
       "...             ...                ...           ...           ...   \n",
       "1633              0                  0             0             0   \n",
       "819               1                  0             1             0   \n",
       "2464              0                  0             0             0   \n",
       "665               0                  1             0             0   \n",
       "6596              1                  1             1             1   \n",
       "\n",
       "      streaming_movies  has_multiple_lines  has_phone  has_fiber  \\\n",
       "5781                 1                   0          1          1   \n",
       "3830                 1                   1          1          1   \n",
       "1425                 1                   0          1          0   \n",
       "6451                 1                   1          1          1   \n",
       "3416                 1                   0          1          0   \n",
       "...                ...                 ...        ...        ...   \n",
       "1633                 0                   0          1          0   \n",
       "819                  0                   1          1          1   \n",
       "2464                 0                   1          1          1   \n",
       "665                  0                   0          1          1   \n",
       "6596                 0                   1          1          0   \n",
       "\n",
       "      has_internet  days_duration  \n",
       "5781             1        822.000  \n",
       "3830             1        123.000  \n",
       "1425             1        365.000  \n",
       "6451             1       2010.000  \n",
       "3416             1        365.000  \n",
       "...            ...            ...  \n",
       "1633             1         31.000  \n",
       "819              1       2132.000  \n",
       "2464             1         30.000  \n",
       "665              1         92.000  \n",
       "6596             1       1949.000  \n",
       "\n",
       "[5634 rows x 19 columns]"
      ]
     },
     "execution_count": 210,
     "metadata": {},
     "output_type": "execute_result"
    }
   ],
   "source": [
    "X_train"
   ]
  },
  {
   "cell_type": "code",
   "execution_count": 211,
   "metadata": {},
   "outputs": [],
   "source": [
    "cat_model = CatBoostClassifier(verbose=False)"
   ]
  },
  {
   "cell_type": "code",
   "execution_count": 212,
   "metadata": {},
   "outputs": [],
   "source": [
    "tests = list(product(transformers, scalers, sampeling))"
   ]
  },
  {
   "cell_type": "code",
   "execution_count": 213,
   "metadata": {},
   "outputs": [],
   "source": [
    "tests = product(transformers, scalers)\n",
    "cb_best_score = run_tests(tests,  cat_model, X_train, y_train )"
   ]
  },
  {
   "cell_type": "code",
   "execution_count": 214,
   "metadata": {},
   "outputs": [
    {
     "data": {
      "text/plain": [
       "0.9035933987256668"
      ]
     },
     "execution_count": 214,
     "metadata": {},
     "output_type": "execute_result"
    }
   ],
   "source": [
    "cb_best_score"
   ]
  },
  {
   "cell_type": "code",
   "execution_count": null,
   "metadata": {},
   "outputs": [],
   "source": [
    "# # creating pipline in order to utilize scaling and cross-validation when running gridsearch\n",
    "# pipeline = Pipeline([(\"scaler\", StandardScaler()),\n",
    "#                      (\"log_reg\",LogisticRegression(random_state = 12345))])\n",
    "\n",
    "# log_reg_params = {\n",
    "#                   'log_reg__class_weight'   : ['balanced'],#[None, 'balanced'],\n",
    "#                   'log_reg__penalty'        : ['l2'],#['l1', 'l2', 'elasticnet', None],\n",
    "#                   'log_reg__solver'         : ['sag'],#['saga', 'newton-cg', 'liblinear', 'sag', 'lbfgs'],\n",
    "#                   'log_reg__C'              : [52],#np.arange(23.6, 70, 0.1),\n",
    "#                   'log_reg__max_iter'       : [7],#np.arange(1, 10, 1)\n",
    "#                  }\n",
    "\n",
    "# log_grid_pipeline = GridSearchCV(pipeline, param_grid = log_reg_params, cv = 5,\n",
    "#                                  scoring = 'roc_auc').fit(X_train, y_train)\n",
    "# best_params = log_grid_pipeline.best_params_\n",
    "# best_params"
   ]
  },
  {
   "cell_type": "markdown",
   "metadata": {},
   "source": [
    "Making sure our target has as close as posibble ratios with the original data and test."
   ]
  },
  {
   "cell_type": "code",
   "execution_count": null,
   "metadata": {},
   "outputs": [],
   "source": [
    "side_by_side_display([y_train.value_counts(normalize=True), y_test.value_counts(normalize=True)], ['train','test'], 'target count')"
   ]
  },
  {
   "cell_type": "markdown",
   "metadata": {},
   "source": [
    "#### DummyClassifier"
   ]
  },
  {
   "cell_type": "code",
   "execution_count": null,
   "metadata": {},
   "outputs": [],
   "source": [
    "X_train.head()"
   ]
  },
  {
   "cell_type": "code",
   "execution_count": null,
   "metadata": {},
   "outputs": [],
   "source": [
    "dummy_clf = DummyClassifier(strategy=\"most_frequent\").fit(X_train, y_train)"
   ]
  },
  {
   "cell_type": "code",
   "execution_count": null,
   "metadata": {},
   "outputs": [],
   "source": [
    "evaluate_model(dummy_clf, X_train, y_train, X_test, y_test)"
   ]
  },
  {
   "cell_type": "markdown",
   "metadata": {},
   "source": [
    "DummyClassifier gave us a base model.\n",
    "Getting 0.5 is pretty much the same as tossing a coin."
   ]
  },
  {
   "cell_type": "markdown",
   "metadata": {},
   "source": [
    "<div class=\"alert alert-success\">\n",
    "<b>Reviewer's comment</b>\n",
    "\n",
    "Good to have a baseline!\n",
    "\n",
    "</div>"
   ]
  },
  {
   "cell_type": "markdown",
   "metadata": {},
   "source": [
    "#### LogisticRegression"
   ]
  },
  {
   "cell_type": "code",
   "execution_count": null,
   "metadata": {},
   "outputs": [],
   "source": [
    "lr_clf = LogisticRegression(random_state=42, class_weight='balanced').fit(X_train, y_train)"
   ]
  },
  {
   "cell_type": "code",
   "execution_count": null,
   "metadata": {},
   "outputs": [],
   "source": [
    "evaluate_model(lr_clf, X_train, y_train, X_test, y_test)"
   ]
  },
  {
   "cell_type": "markdown",
   "metadata": {},
   "source": [
    "Meaning LogisticRegression predicted 112 to stay but they left. <br>\n",
    "In general LogisticRegression did quite poorly.\n"
   ]
  },
  {
   "cell_type": "markdown",
   "metadata": {},
   "source": [
    "#### Random Forest"
   ]
  },
  {
   "cell_type": "code",
   "execution_count": null,
   "metadata": {},
   "outputs": [],
   "source": [
    "rfc = RandomForestClassifier(random_state=42)"
   ]
  },
  {
   "cell_type": "code",
   "execution_count": null,
   "metadata": {},
   "outputs": [],
   "source": [
    "param_grid = { \n",
    "    'n_estimators': [10, 50, 100, 200, 500],\n",
    "    'max_features': ['auto', 'sqrt', 'log2'],\n",
    "    'max_depth' : [4,8,12,16,20,30],\n",
    "    'criterion' :['gini', 'entropy'],\n",
    "    'class_weight': ['balanced']\n",
    "}\n",
    "\n",
    "CV_rfc = GridSearchCV(estimator=rfc, param_grid=param_grid, cv= 5)\n",
    "CV_rfc.fit(X_train, y_train)"
   ]
  },
  {
   "cell_type": "code",
   "execution_count": null,
   "metadata": {},
   "outputs": [],
   "source": [
    "CV_rfc.best_params_"
   ]
  },
  {
   "cell_type": "code",
   "execution_count": null,
   "metadata": {},
   "outputs": [],
   "source": [
    "rfc1 = RandomForestClassifier(random_state=42, **CV_rfc.best_params_).fit(X_train, y_train)"
   ]
  },
  {
   "cell_type": "code",
   "execution_count": null,
   "metadata": {},
   "outputs": [],
   "source": [
    "evaluate_model(rfc1, X_train, y_train, X_test, y_test)"
   ]
  },
  {
   "cell_type": "markdown",
   "metadata": {},
   "source": [
    "We have reached ROC AUC of more than 8.8"
   ]
  },
  {
   "cell_type": "markdown",
   "metadata": {},
   "source": [
    "#### CatBoost"
   ]
  },
  {
   "cell_type": "code",
   "execution_count": null,
   "metadata": {},
   "outputs": [],
   "source": [
    "scalar = MinMaxScaler()\n",
    "X_train_scaled = scalar.fit_transform(X_train)\n",
    "X_test_scaled = scalar.transform(X_test)"
   ]
  },
  {
   "cell_type": "code",
   "execution_count": null,
   "metadata": {},
   "outputs": [],
   "source": [
    "cat_model = CatBoostClassifier(iterations=2000,\n",
    "                           loss_function='Logloss',\n",
    "                           learning_rate=0.0001,\n",
    "                           depth=16,\n",
    "                           verbose=True).fit(X_train, y_train)"
   ]
  },
  {
   "cell_type": "code",
   "execution_count": null,
   "metadata": {},
   "outputs": [],
   "source": [
    "evaluate_model(cat_model, X_train, y_train, X_test, y_test)"
   ]
  },
  {
   "cell_type": "markdown",
   "metadata": {},
   "source": [
    "We have gained a better score with just 10 iterations. "
   ]
  },
  {
   "cell_type": "markdown",
   "metadata": {},
   "source": [
    "##### SMOTE"
   ]
  },
  {
   "cell_type": "code",
   "execution_count": null,
   "metadata": {},
   "outputs": [],
   "source": [
    "from imblearn.over_sampling import SMOTE"
   ]
  },
  {
   "cell_type": "code",
   "execution_count": null,
   "metadata": {},
   "outputs": [],
   "source": [
    "sm = SMOTE(random_state=42)\n",
    "X_res, y_res = sm.fit_resample(X_train, y_train)"
   ]
  },
  {
   "cell_type": "code",
   "execution_count": null,
   "metadata": {},
   "outputs": [],
   "source": [
    "scalar = MinMaxScaler()\n",
    "X_res_scaled = scalar.fit_transform(X_res)\n",
    "X_test_scaled = scalar.transform(X_test)"
   ]
  },
  {
   "cell_type": "code",
   "execution_count": null,
   "metadata": {},
   "outputs": [],
   "source": [
    "\n",
    "cat_model = CatBoostClassifier(iterations=10,\n",
    "                           loss_function='Logloss',\n",
    "                           verbose=True).fit(X_res_scaled, y_res)"
   ]
  },
  {
   "cell_type": "code",
   "execution_count": null,
   "metadata": {},
   "outputs": [],
   "source": [
    "evaluate_model(cat_model, X_res_scaled, y_res, X_test_scaled, y_test)\n"
   ]
  },
  {
   "cell_type": "markdown",
   "metadata": {},
   "source": [
    "it seems SMOTE gave us a worse score."
   ]
  },
  {
   "cell_type": "markdown",
   "metadata": {},
   "source": [
    "## Conclusions"
   ]
  },
  {
   "cell_type": "markdown",
   "metadata": {},
   "source": [
    "* Most of our customers have stayed with the company, about 75%.\n",
    "  We can improve our retention by about 25%.\n",
    "* We notice that customers leave at around these monthes: October, November, December, January.<br>\n",
    "  We should put more focus on customers that are predicted to leave around these months, also a good time to increase our client base.\n",
    "* The best models are gradient boosting models, catboost preformed particualy well."
   ]
  },
  {
   "cell_type": "markdown",
   "metadata": {},
   "source": [
    "<div class=\"alert alert-danger\">\n",
    "<b>Reviewer's comment</b>\n",
    "\n",
    "It's great that you tried a few different models and tuned their hyperparameters using a cross-validated grid search, but unfortunately due to the target leakage problem, the metrics are not trustworthy. Please fix the problem with target leakage and re-run the modeling section\n",
    "\n",
    "</div>"
   ]
  }
 ],
 "metadata": {
  "ExecuteTimeLog": [
   {
    "duration": 64320,
    "start_time": "2021-12-12T12:44:52.298Z"
   },
   {
    "duration": 349,
    "start_time": "2021-12-12T12:46:22.274Z"
   },
   {
    "duration": 4,
    "start_time": "2021-12-12T12:46:22.733Z"
   },
   {
    "duration": 305,
    "start_time": "2021-12-12T12:46:23.260Z"
   },
   {
    "duration": 2950,
    "start_time": "2021-12-12T12:46:32.271Z"
   },
   {
    "duration": 4,
    "start_time": "2021-12-12T12:46:37.759Z"
   },
   {
    "duration": 4,
    "start_time": "2021-12-12T12:46:38.455Z"
   },
   {
    "duration": 4,
    "start_time": "2021-12-12T12:46:39.095Z"
   },
   {
    "duration": 514,
    "start_time": "2021-12-12T12:46:39.906Z"
   },
   {
    "duration": 10,
    "start_time": "2021-12-12T12:47:09.285Z"
   },
   {
    "duration": 3,
    "start_time": "2021-12-12T12:47:13.278Z"
   },
   {
    "duration": 95,
    "start_time": "2021-12-12T14:59:10.490Z"
   },
   {
    "duration": 26,
    "start_time": "2021-12-12T14:59:13.958Z"
   },
   {
    "duration": 18,
    "start_time": "2021-12-12T15:01:19.762Z"
   },
   {
    "duration": 19,
    "start_time": "2021-12-12T15:01:26.652Z"
   },
   {
    "duration": 12,
    "start_time": "2021-12-12T15:01:39.626Z"
   },
   {
    "duration": 38951,
    "start_time": "2021-12-12T19:03:22.943Z"
   },
   {
    "duration": 10,
    "start_time": "2021-12-12T19:04:01.897Z"
   },
   {
    "duration": 10,
    "start_time": "2021-12-12T19:04:01.911Z"
   },
   {
    "duration": 6,
    "start_time": "2021-12-12T19:04:01.924Z"
   },
   {
    "duration": 27,
    "start_time": "2021-12-12T19:04:01.933Z"
   },
   {
    "duration": 18,
    "start_time": "2021-12-12T19:04:01.962Z"
   },
   {
    "duration": 108,
    "start_time": "2021-12-12T19:04:01.983Z"
   },
   {
    "duration": 624,
    "start_time": "2021-12-12T19:04:51.917Z"
   },
   {
    "duration": 5,
    "start_time": "2021-12-12T19:08:21.266Z"
   },
   {
    "duration": 47,
    "start_time": "2021-12-12T19:09:27.477Z"
   },
   {
    "duration": 65,
    "start_time": "2021-12-12T19:16:35.725Z"
   },
   {
    "duration": 52,
    "start_time": "2021-12-12T19:17:03.691Z"
   },
   {
    "duration": 112,
    "start_time": "2021-12-12T19:22:38.964Z"
   },
   {
    "duration": 5,
    "start_time": "2021-12-12T19:22:40.505Z"
   },
   {
    "duration": 343,
    "start_time": "2021-12-12T19:22:44.595Z"
   },
   {
    "duration": 7,
    "start_time": "2021-12-12T19:22:50.811Z"
   },
   {
    "duration": 57,
    "start_time": "2021-12-12T19:22:54.277Z"
   },
   {
    "duration": 95,
    "start_time": "2021-12-12T19:24:38.135Z"
   },
   {
    "duration": 5,
    "start_time": "2021-12-12T19:24:39.885Z"
   },
   {
    "duration": 6,
    "start_time": "2021-12-12T19:24:41.340Z"
   },
   {
    "duration": 56,
    "start_time": "2021-12-12T19:24:43.189Z"
   },
   {
    "duration": 60,
    "start_time": "2021-12-12T19:26:17.139Z"
   },
   {
    "duration": 3623,
    "start_time": "2021-12-12T19:38:34.691Z"
   },
   {
    "duration": 4120,
    "start_time": "2021-12-12T19:39:03.138Z"
   },
   {
    "duration": 9,
    "start_time": "2021-12-12T19:39:25.029Z"
   },
   {
    "duration": 16,
    "start_time": "2021-12-12T19:39:26.179Z"
   },
   {
    "duration": 5,
    "start_time": "2021-12-12T19:39:45.455Z"
   },
   {
    "duration": 4290,
    "start_time": "2021-12-12T19:43:13.766Z"
   },
   {
    "duration": 6,
    "start_time": "2021-12-12T19:43:18.732Z"
   },
   {
    "duration": 8,
    "start_time": "2021-12-12T19:43:48.293Z"
   },
   {
    "duration": 15,
    "start_time": "2021-12-12T19:49:09.971Z"
   },
   {
    "duration": 25,
    "start_time": "2021-12-12T19:49:34.727Z"
   },
   {
    "duration": 6,
    "start_time": "2021-12-12T19:54:37.231Z"
   },
   {
    "duration": 4,
    "start_time": "2021-12-12T19:54:43.182Z"
   },
   {
    "duration": 792,
    "start_time": "2021-12-12T19:54:47.749Z"
   },
   {
    "duration": 6,
    "start_time": "2021-12-12T19:54:57.321Z"
   },
   {
    "duration": 119,
    "start_time": "2021-12-12T19:55:16.678Z"
   },
   {
    "duration": 5,
    "start_time": "2021-12-12T19:55:18.428Z"
   },
   {
    "duration": 4,
    "start_time": "2021-12-12T19:55:25.273Z"
   },
   {
    "duration": 5,
    "start_time": "2021-12-12T19:55:28.025Z"
   },
   {
    "duration": 5,
    "start_time": "2021-12-12T19:55:46.888Z"
   },
   {
    "duration": 146,
    "start_time": "2021-12-12T20:10:52.789Z"
   },
   {
    "duration": 4,
    "start_time": "2021-12-12T20:10:56.611Z"
   },
   {
    "duration": 49,
    "start_time": "2021-12-12T20:10:58.533Z"
   },
   {
    "duration": 26,
    "start_time": "2021-12-12T20:11:00.692Z"
   },
   {
    "duration": 4,
    "start_time": "2021-12-12T20:16:09.087Z"
   },
   {
    "duration": 39,
    "start_time": "2021-12-12T20:16:22.423Z"
   },
   {
    "duration": 25,
    "start_time": "2021-12-12T20:16:23.264Z"
   },
   {
    "duration": 4,
    "start_time": "2021-12-12T20:17:03.107Z"
   },
   {
    "duration": 9,
    "start_time": "2021-12-12T20:17:03.440Z"
   },
   {
    "duration": 24,
    "start_time": "2021-12-12T20:17:04.001Z"
   },
   {
    "duration": 301,
    "start_time": "2021-12-12T20:17:36.794Z"
   },
   {
    "duration": 24,
    "start_time": "2021-12-12T20:17:40.774Z"
   },
   {
    "duration": 784,
    "start_time": "2021-12-12T20:18:45.856Z"
   },
   {
    "duration": 3666,
    "start_time": "2021-12-12T20:19:24.628Z"
   },
   {
    "duration": 102,
    "start_time": "2021-12-12T20:20:01.519Z"
   },
   {
    "duration": 4,
    "start_time": "2021-12-12T20:20:01.720Z"
   },
   {
    "duration": 6,
    "start_time": "2021-12-12T20:20:02.071Z"
   },
   {
    "duration": 47,
    "start_time": "2021-12-12T20:20:02.596Z"
   },
   {
    "duration": 56,
    "start_time": "2021-12-12T20:20:03.098Z"
   },
   {
    "duration": 27,
    "start_time": "2021-12-12T20:20:05.780Z"
   },
   {
    "duration": 8,
    "start_time": "2021-12-12T20:20:06.698Z"
   },
   {
    "duration": 6,
    "start_time": "2021-12-12T20:20:08.600Z"
   },
   {
    "duration": 7,
    "start_time": "2021-12-12T20:20:10.570Z"
   },
   {
    "duration": 6,
    "start_time": "2021-12-12T20:20:16.558Z"
   },
   {
    "duration": 299,
    "start_time": "2021-12-12T20:20:19.401Z"
   },
   {
    "duration": 103,
    "start_time": "2021-12-12T20:21:03.045Z"
   },
   {
    "duration": 4,
    "start_time": "2021-12-12T20:21:03.216Z"
   },
   {
    "duration": 5,
    "start_time": "2021-12-12T20:21:03.560Z"
   },
   {
    "duration": 49,
    "start_time": "2021-12-12T20:21:04.090Z"
   },
   {
    "duration": 59,
    "start_time": "2021-12-12T20:21:04.610Z"
   },
   {
    "duration": 32,
    "start_time": "2021-12-12T20:21:05.103Z"
   },
   {
    "duration": 10,
    "start_time": "2021-12-12T20:21:11.998Z"
   },
   {
    "duration": 6,
    "start_time": "2021-12-12T20:21:12.774Z"
   },
   {
    "duration": 8,
    "start_time": "2021-12-12T20:21:13.727Z"
   },
   {
    "duration": 4,
    "start_time": "2021-12-12T20:21:15.920Z"
   },
   {
    "duration": 316,
    "start_time": "2021-12-12T20:21:19.917Z"
   },
   {
    "duration": 15,
    "start_time": "2021-12-12T20:21:28.732Z"
   },
   {
    "duration": 478,
    "start_time": "2021-12-12T20:21:47.225Z"
   },
   {
    "duration": 373,
    "start_time": "2021-12-12T20:21:52.225Z"
   },
   {
    "duration": 95,
    "start_time": "2021-12-12T20:22:40.517Z"
   },
   {
    "duration": 5,
    "start_time": "2021-12-12T20:22:40.701Z"
   },
   {
    "duration": 5,
    "start_time": "2021-12-12T20:22:41.066Z"
   },
   {
    "duration": 41,
    "start_time": "2021-12-12T20:22:41.609Z"
   },
   {
    "duration": 53,
    "start_time": "2021-12-12T20:22:42.144Z"
   },
   {
    "duration": 28,
    "start_time": "2021-12-12T20:22:42.662Z"
   },
   {
    "duration": 9,
    "start_time": "2021-12-12T20:22:45.297Z"
   },
   {
    "duration": 6,
    "start_time": "2021-12-12T20:22:46.067Z"
   },
   {
    "duration": 8,
    "start_time": "2021-12-12T20:22:46.613Z"
   },
   {
    "duration": 4,
    "start_time": "2021-12-12T20:22:47.633Z"
   },
   {
    "duration": 417,
    "start_time": "2021-12-12T20:22:48.109Z"
   },
   {
    "duration": 15,
    "start_time": "2021-12-12T20:22:50.618Z"
   },
   {
    "duration": 9,
    "start_time": "2021-12-12T20:22:51.361Z"
   },
   {
    "duration": 26,
    "start_time": "2021-12-12T20:22:57.275Z"
   },
   {
    "duration": 6,
    "start_time": "2021-12-12T20:24:30.517Z"
   },
   {
    "duration": 24,
    "start_time": "2021-12-12T20:24:32.243Z"
   },
   {
    "duration": 6,
    "start_time": "2021-12-12T20:24:39.842Z"
   },
   {
    "duration": 26,
    "start_time": "2021-12-12T20:24:41.760Z"
   },
   {
    "duration": 95,
    "start_time": "2021-12-12T20:24:50.296Z"
   },
   {
    "duration": 4,
    "start_time": "2021-12-12T20:24:50.464Z"
   },
   {
    "duration": 6,
    "start_time": "2021-12-12T20:24:50.818Z"
   },
   {
    "duration": 45,
    "start_time": "2021-12-12T20:24:51.355Z"
   },
   {
    "duration": 51,
    "start_time": "2021-12-12T20:24:51.852Z"
   },
   {
    "duration": 24,
    "start_time": "2021-12-12T20:24:52.343Z"
   },
   {
    "duration": 8,
    "start_time": "2021-12-12T20:24:55.083Z"
   },
   {
    "duration": 5,
    "start_time": "2021-12-12T20:24:55.641Z"
   },
   {
    "duration": 9,
    "start_time": "2021-12-12T20:24:56.409Z"
   },
   {
    "duration": 5,
    "start_time": "2021-12-12T20:24:57.314Z"
   },
   {
    "duration": 306,
    "start_time": "2021-12-12T20:24:58.350Z"
   },
   {
    "duration": 17,
    "start_time": "2021-12-12T20:24:58.992Z"
   },
   {
    "duration": 7,
    "start_time": "2021-12-12T20:25:01.145Z"
   },
   {
    "duration": 96,
    "start_time": "2021-12-12T20:30:47.878Z"
   },
   {
    "duration": 4,
    "start_time": "2021-12-12T20:30:48.015Z"
   },
   {
    "duration": 6,
    "start_time": "2021-12-12T20:30:48.342Z"
   },
   {
    "duration": 42,
    "start_time": "2021-12-12T20:30:48.833Z"
   },
   {
    "duration": 54,
    "start_time": "2021-12-12T20:30:49.316Z"
   },
   {
    "duration": 26,
    "start_time": "2021-12-12T20:30:49.796Z"
   },
   {
    "duration": 9,
    "start_time": "2021-12-12T20:30:52.522Z"
   },
   {
    "duration": 6,
    "start_time": "2021-12-12T20:30:53.274Z"
   },
   {
    "duration": 10,
    "start_time": "2021-12-12T20:30:54.069Z"
   },
   {
    "duration": 3,
    "start_time": "2021-12-12T20:30:55.212Z"
   },
   {
    "duration": 8,
    "start_time": "2021-12-12T20:30:56.035Z"
   },
   {
    "duration": 21,
    "start_time": "2021-12-12T20:31:06.592Z"
   },
   {
    "duration": 4,
    "start_time": "2021-12-12T20:31:11.917Z"
   },
   {
    "duration": 296,
    "start_time": "2021-12-12T20:31:13.257Z"
   },
   {
    "duration": 16,
    "start_time": "2021-12-12T20:31:14.858Z"
   },
   {
    "duration": 6,
    "start_time": "2021-12-12T20:31:20.675Z"
   },
   {
    "duration": 17,
    "start_time": "2021-12-12T20:31:25.543Z"
   },
   {
    "duration": 8,
    "start_time": "2021-12-12T20:55:44.573Z"
   },
   {
    "duration": 91,
    "start_time": "2021-12-12T20:56:51.565Z"
   },
   {
    "duration": 1063,
    "start_time": "2021-12-12T20:57:13.943Z"
   },
   {
    "duration": 95,
    "start_time": "2021-12-12T20:57:52.866Z"
   },
   {
    "duration": 9,
    "start_time": "2021-12-12T20:58:16.666Z"
   },
   {
    "duration": 8,
    "start_time": "2021-12-12T20:58:17.608Z"
   },
   {
    "duration": 8,
    "start_time": "2021-12-12T20:58:32.274Z"
   },
   {
    "duration": 8,
    "start_time": "2021-12-12T20:58:49.141Z"
   },
   {
    "duration": 12,
    "start_time": "2021-12-12T21:02:14.006Z"
   },
   {
    "duration": 23,
    "start_time": "2021-12-12T21:02:14.740Z"
   },
   {
    "duration": 1759,
    "start_time": "2021-12-12T21:03:23.520Z"
   },
   {
    "duration": 6,
    "start_time": "2021-12-12T21:03:39.054Z"
   },
   {
    "duration": 24,
    "start_time": "2021-12-12T21:03:39.973Z"
   },
   {
    "duration": 118,
    "start_time": "2021-12-12T21:04:52.826Z"
   },
   {
    "duration": 6,
    "start_time": "2021-12-12T21:05:05.326Z"
   },
   {
    "duration": 5,
    "start_time": "2021-12-12T21:05:06.367Z"
   },
   {
    "duration": 98,
    "start_time": "2021-12-12T21:05:15.887Z"
   },
   {
    "duration": 5,
    "start_time": "2021-12-12T21:05:16.072Z"
   },
   {
    "duration": 6,
    "start_time": "2021-12-12T21:05:16.431Z"
   },
   {
    "duration": 44,
    "start_time": "2021-12-12T21:05:16.955Z"
   },
   {
    "duration": 53,
    "start_time": "2021-12-12T21:05:17.481Z"
   },
   {
    "duration": 26,
    "start_time": "2021-12-12T21:05:19.304Z"
   },
   {
    "duration": 8,
    "start_time": "2021-12-12T21:05:19.332Z"
   },
   {
    "duration": 5,
    "start_time": "2021-12-12T21:05:19.343Z"
   },
   {
    "duration": 14,
    "start_time": "2021-12-12T21:05:19.350Z"
   },
   {
    "duration": 3,
    "start_time": "2021-12-12T21:05:19.383Z"
   },
   {
    "duration": 9,
    "start_time": "2021-12-12T21:05:19.566Z"
   },
   {
    "duration": 15,
    "start_time": "2021-12-12T21:05:19.749Z"
   },
   {
    "duration": 4,
    "start_time": "2021-12-12T21:05:20.382Z"
   },
   {
    "duration": 297,
    "start_time": "2021-12-12T21:05:20.551Z"
   },
   {
    "duration": 17,
    "start_time": "2021-12-12T21:05:20.984Z"
   },
   {
    "duration": 6,
    "start_time": "2021-12-12T21:05:21.183Z"
   },
   {
    "duration": 15,
    "start_time": "2021-12-12T21:05:23.224Z"
   },
   {
    "duration": 7,
    "start_time": "2021-12-12T21:05:23.606Z"
   },
   {
    "duration": 9,
    "start_time": "2021-12-12T21:05:23.782Z"
   },
   {
    "duration": 6,
    "start_time": "2021-12-12T21:05:24.375Z"
   },
   {
    "duration": 7,
    "start_time": "2021-12-12T21:05:24.567Z"
   },
   {
    "duration": 12,
    "start_time": "2021-12-12T21:05:24.735Z"
   },
   {
    "duration": 25,
    "start_time": "2021-12-12T21:05:25.079Z"
   },
   {
    "duration": 5,
    "start_time": "2021-12-12T21:05:25.543Z"
   },
   {
    "duration": 4,
    "start_time": "2021-12-12T21:05:27.823Z"
   },
   {
    "duration": 22,
    "start_time": "2021-12-12T21:05:32.101Z"
   },
   {
    "duration": 97,
    "start_time": "2021-12-12T21:07:35.732Z"
   },
   {
    "duration": 4,
    "start_time": "2021-12-12T21:07:35.908Z"
   },
   {
    "duration": 5,
    "start_time": "2021-12-12T21:07:36.288Z"
   },
   {
    "duration": 42,
    "start_time": "2021-12-12T21:07:36.822Z"
   },
   {
    "duration": 53,
    "start_time": "2021-12-12T21:07:37.333Z"
   },
   {
    "duration": 24,
    "start_time": "2021-12-12T21:07:37.855Z"
   },
   {
    "duration": 8,
    "start_time": "2021-12-12T21:07:38.364Z"
   },
   {
    "duration": 5,
    "start_time": "2021-12-12T21:07:38.539Z"
   },
   {
    "duration": 8,
    "start_time": "2021-12-12T21:07:39.293Z"
   },
   {
    "duration": 3,
    "start_time": "2021-12-12T21:07:39.636Z"
   },
   {
    "duration": 8,
    "start_time": "2021-12-12T21:07:39.821Z"
   },
   {
    "duration": 16,
    "start_time": "2021-12-12T21:07:42.580Z"
   },
   {
    "duration": 4,
    "start_time": "2021-12-12T21:07:42.759Z"
   },
   {
    "duration": 297,
    "start_time": "2021-12-12T21:07:42.933Z"
   },
   {
    "duration": 15,
    "start_time": "2021-12-12T21:07:43.233Z"
   },
   {
    "duration": 7,
    "start_time": "2021-12-12T21:07:43.525Z"
   },
   {
    "duration": 16,
    "start_time": "2021-12-12T21:07:43.709Z"
   },
   {
    "duration": 8,
    "start_time": "2021-12-12T21:07:45.773Z"
   },
   {
    "duration": 9,
    "start_time": "2021-12-12T21:07:46.235Z"
   },
   {
    "duration": 8,
    "start_time": "2021-12-12T21:07:46.659Z"
   },
   {
    "duration": 7,
    "start_time": "2021-12-12T21:07:49.356Z"
   },
   {
    "duration": 12,
    "start_time": "2021-12-12T21:07:50.012Z"
   },
   {
    "duration": 23,
    "start_time": "2021-12-12T21:07:50.698Z"
   },
   {
    "duration": 18,
    "start_time": "2021-12-12T21:07:56.436Z"
   },
   {
    "duration": 2227,
    "start_time": "2021-12-12T21:08:03.488Z"
   },
   {
    "duration": 5,
    "start_time": "2021-12-12T21:08:38.945Z"
   },
   {
    "duration": 23,
    "start_time": "2021-12-12T21:08:40.089Z"
   },
   {
    "duration": 16,
    "start_time": "2021-12-12T21:08:51.729Z"
   },
   {
    "duration": 7,
    "start_time": "2021-12-12T21:09:28.206Z"
   },
   {
    "duration": 96,
    "start_time": "2021-12-12T21:10:03.586Z"
   },
   {
    "duration": 4,
    "start_time": "2021-12-12T21:10:03.753Z"
   },
   {
    "duration": 5,
    "start_time": "2021-12-12T21:10:04.082Z"
   },
   {
    "duration": 46,
    "start_time": "2021-12-12T21:10:04.595Z"
   },
   {
    "duration": 51,
    "start_time": "2021-12-12T21:10:05.115Z"
   },
   {
    "duration": 26,
    "start_time": "2021-12-12T21:10:05.610Z"
   },
   {
    "duration": 8,
    "start_time": "2021-12-12T21:10:06.136Z"
   },
   {
    "duration": 5,
    "start_time": "2021-12-12T21:10:06.298Z"
   },
   {
    "duration": 8,
    "start_time": "2021-12-12T21:10:06.627Z"
   },
   {
    "duration": 3,
    "start_time": "2021-12-12T21:10:06.942Z"
   },
   {
    "duration": 9,
    "start_time": "2021-12-12T21:10:07.101Z"
   },
   {
    "duration": 17,
    "start_time": "2021-12-12T21:10:09.991Z"
   },
   {
    "duration": 6,
    "start_time": "2021-12-12T21:10:10.170Z"
   },
   {
    "duration": 568,
    "start_time": "2021-12-12T21:10:10.349Z"
   },
   {
    "duration": 22,
    "start_time": "2021-12-12T21:10:10.920Z"
   },
   {
    "duration": 8,
    "start_time": "2021-12-12T21:10:10.982Z"
   },
   {
    "duration": 23,
    "start_time": "2021-12-12T21:10:11.399Z"
   },
   {
    "duration": 7,
    "start_time": "2021-12-12T21:10:13.083Z"
   },
   {
    "duration": 8,
    "start_time": "2021-12-12T21:10:13.598Z"
   },
   {
    "duration": 8,
    "start_time": "2021-12-12T21:10:13.893Z"
   },
   {
    "duration": 6,
    "start_time": "2021-12-12T21:10:15.637Z"
   },
   {
    "duration": 8,
    "start_time": "2021-12-12T21:10:17.005Z"
   },
   {
    "duration": 13,
    "start_time": "2021-12-12T21:10:17.710Z"
   },
   {
    "duration": 17,
    "start_time": "2021-12-12T21:10:19.462Z"
   },
   {
    "duration": 5,
    "start_time": "2021-12-12T21:10:37.231Z"
   },
   {
    "duration": 17,
    "start_time": "2021-12-12T21:10:40.824Z"
   },
   {
    "duration": 97,
    "start_time": "2021-12-12T21:11:37.047Z"
   },
   {
    "duration": 4,
    "start_time": "2021-12-12T21:11:37.227Z"
   },
   {
    "duration": 5,
    "start_time": "2021-12-12T21:11:37.584Z"
   },
   {
    "duration": 47,
    "start_time": "2021-12-12T21:11:38.124Z"
   },
   {
    "duration": 54,
    "start_time": "2021-12-12T21:11:38.649Z"
   },
   {
    "duration": 35,
    "start_time": "2021-12-12T21:11:39.161Z"
   },
   {
    "duration": 9,
    "start_time": "2021-12-12T21:11:39.682Z"
   },
   {
    "duration": 5,
    "start_time": "2021-12-12T21:11:39.855Z"
   },
   {
    "duration": 7,
    "start_time": "2021-12-12T21:11:40.191Z"
   },
   {
    "duration": 4,
    "start_time": "2021-12-12T21:11:40.519Z"
   },
   {
    "duration": 8,
    "start_time": "2021-12-12T21:11:40.669Z"
   },
   {
    "duration": 17,
    "start_time": "2021-12-12T21:11:40.840Z"
   },
   {
    "duration": 4,
    "start_time": "2021-12-12T21:11:43.874Z"
   },
   {
    "duration": 302,
    "start_time": "2021-12-12T21:11:44.069Z"
   },
   {
    "duration": 16,
    "start_time": "2021-12-12T21:11:44.447Z"
   },
   {
    "duration": 6,
    "start_time": "2021-12-12T21:11:44.624Z"
   },
   {
    "duration": 16,
    "start_time": "2021-12-12T21:11:44.794Z"
   },
   {
    "duration": 7,
    "start_time": "2021-12-12T21:11:47.027Z"
   },
   {
    "duration": 7,
    "start_time": "2021-12-12T21:11:47.194Z"
   },
   {
    "duration": 8,
    "start_time": "2021-12-12T21:11:47.683Z"
   },
   {
    "duration": 6,
    "start_time": "2021-12-12T21:11:47.885Z"
   },
   {
    "duration": 7,
    "start_time": "2021-12-12T21:11:51.588Z"
   },
   {
    "duration": 13,
    "start_time": "2021-12-12T21:11:52.922Z"
   },
   {
    "duration": 16,
    "start_time": "2021-12-12T21:11:53.755Z"
   },
   {
    "duration": 5,
    "start_time": "2021-12-12T21:13:33.280Z"
   },
   {
    "duration": 18,
    "start_time": "2021-12-12T21:13:34.156Z"
   },
   {
    "duration": 5,
    "start_time": "2021-12-12T21:13:58.700Z"
   },
   {
    "duration": 17,
    "start_time": "2021-12-12T21:13:59.493Z"
   },
   {
    "duration": 4,
    "start_time": "2021-12-12T21:14:30.216Z"
   },
   {
    "duration": 17,
    "start_time": "2021-12-12T21:15:42.904Z"
   },
   {
    "duration": 327,
    "start_time": "2021-12-12T21:21:00.516Z"
   },
   {
    "duration": 21,
    "start_time": "2021-12-12T21:21:28.378Z"
   },
   {
    "duration": 119,
    "start_time": "2021-12-13T00:39:16.301Z"
   },
   {
    "duration": 4,
    "start_time": "2021-12-13T00:39:18.221Z"
   },
   {
    "duration": 41,
    "start_time": "2021-12-13T00:39:21.885Z"
   },
   {
    "duration": 66054,
    "start_time": "2021-12-14T12:01:54.217Z"
   },
   {
    "duration": 2887,
    "start_time": "2021-12-14T12:03:06.656Z"
   },
   {
    "duration": 4,
    "start_time": "2021-12-14T12:03:13.832Z"
   },
   {
    "duration": 4,
    "start_time": "2021-12-14T12:03:14.720Z"
   },
   {
    "duration": 3,
    "start_time": "2021-12-14T12:03:15.331Z"
   },
   {
    "duration": 4,
    "start_time": "2021-12-14T12:03:15.720Z"
   },
   {
    "duration": 216,
    "start_time": "2021-12-14T12:03:27.377Z"
   },
   {
    "duration": 5,
    "start_time": "2021-12-14T12:03:30.183Z"
   },
   {
    "duration": 517,
    "start_time": "2021-12-14T12:04:15.395Z"
   },
   {
    "duration": 339,
    "start_time": "2021-12-14T12:05:17.250Z"
   },
   {
    "duration": 441,
    "start_time": "2021-12-14T12:05:33.977Z"
   },
   {
    "duration": 564,
    "start_time": "2021-12-14T12:05:52.045Z"
   },
   {
    "duration": 6,
    "start_time": "2021-12-14T12:06:00.226Z"
   },
   {
    "duration": 214,
    "start_time": "2021-12-14T12:08:25.292Z"
   },
   {
    "duration": 5,
    "start_time": "2021-12-14T12:08:26.194Z"
   },
   {
    "duration": 109,
    "start_time": "2021-12-14T12:08:28.226Z"
   },
   {
    "duration": 5,
    "start_time": "2021-12-14T12:08:32.620Z"
   },
   {
    "duration": 213,
    "start_time": "2021-12-14T12:08:34.795Z"
   },
   {
    "duration": 4,
    "start_time": "2021-12-14T12:08:35.377Z"
   },
   {
    "duration": 6,
    "start_time": "2021-12-14T12:08:44.570Z"
   },
   {
    "duration": 215,
    "start_time": "2021-12-14T12:08:51.851Z"
   },
   {
    "duration": 5,
    "start_time": "2021-12-14T12:08:52.369Z"
   },
   {
    "duration": 5,
    "start_time": "2021-12-14T12:08:54.466Z"
   },
   {
    "duration": 8,
    "start_time": "2021-12-14T12:09:01.223Z"
   },
   {
    "duration": 37,
    "start_time": "2021-12-14T12:09:27.482Z"
   },
   {
    "duration": 227,
    "start_time": "2021-12-14T12:09:51.225Z"
   },
   {
    "duration": 4,
    "start_time": "2021-12-14T12:09:51.810Z"
   },
   {
    "duration": 5,
    "start_time": "2021-12-14T12:09:52.911Z"
   },
   {
    "duration": 36,
    "start_time": "2021-12-14T12:09:53.906Z"
   },
   {
    "duration": 308,
    "start_time": "2021-12-14T12:10:09.104Z"
   },
   {
    "duration": 4,
    "start_time": "2021-12-14T12:10:09.461Z"
   },
   {
    "duration": 6,
    "start_time": "2021-12-14T12:10:10.341Z"
   },
   {
    "duration": 36,
    "start_time": "2021-12-14T12:10:11.081Z"
   },
   {
    "duration": 217,
    "start_time": "2021-12-14T12:10:31.836Z"
   },
   {
    "duration": 4,
    "start_time": "2021-12-14T12:10:32.067Z"
   },
   {
    "duration": 5,
    "start_time": "2021-12-14T12:10:32.699Z"
   },
   {
    "duration": 40,
    "start_time": "2021-12-14T12:10:33.117Z"
   },
   {
    "duration": 339,
    "start_time": "2021-12-14T12:11:42.133Z"
   },
   {
    "duration": 4,
    "start_time": "2021-12-14T12:11:43.100Z"
   },
   {
    "duration": 6,
    "start_time": "2021-12-14T12:11:43.526Z"
   },
   {
    "duration": 36,
    "start_time": "2021-12-14T12:11:44.317Z"
   },
   {
    "duration": 368,
    "start_time": "2021-12-14T12:13:00.535Z"
   },
   {
    "duration": 4,
    "start_time": "2021-12-14T12:13:00.906Z"
   },
   {
    "duration": 6,
    "start_time": "2021-12-14T12:13:01.614Z"
   },
   {
    "duration": 42,
    "start_time": "2021-12-14T12:13:02.462Z"
   },
   {
    "duration": 242,
    "start_time": "2021-12-14T12:13:30.667Z"
   },
   {
    "duration": 4,
    "start_time": "2021-12-14T12:13:30.930Z"
   },
   {
    "duration": 367,
    "start_time": "2021-12-14T12:13:31.467Z"
   },
   {
    "duration": 459,
    "start_time": "2021-12-14T12:13:31.379Z"
   },
   {
    "duration": 204,
    "start_time": "2021-12-14T12:13:37.250Z"
   },
   {
    "duration": 4,
    "start_time": "2021-12-14T12:13:37.521Z"
   },
   {
    "duration": 6,
    "start_time": "2021-12-14T12:13:38.004Z"
   },
   {
    "duration": 201,
    "start_time": "2021-12-14T12:18:32.673Z"
   },
   {
    "duration": 4,
    "start_time": "2021-12-14T12:18:32.876Z"
   },
   {
    "duration": 6,
    "start_time": "2021-12-14T12:18:33.406Z"
   },
   {
    "duration": 40,
    "start_time": "2021-12-14T12:18:34.260Z"
   },
   {
    "duration": 217,
    "start_time": "2021-12-14T12:18:47.829Z"
   },
   {
    "duration": 4,
    "start_time": "2021-12-14T12:18:48.641Z"
   },
   {
    "duration": 1662,
    "start_time": "2021-12-14T12:20:32.895Z"
   },
   {
    "duration": 4,
    "start_time": "2021-12-14T12:20:34.560Z"
   },
   {
    "duration": 6,
    "start_time": "2021-12-14T12:20:34.566Z"
   },
   {
    "duration": 37,
    "start_time": "2021-12-14T12:20:35.416Z"
   },
   {
    "duration": 2981,
    "start_time": "2021-12-14T12:22:24.112Z"
   },
   {
    "duration": 5,
    "start_time": "2021-12-14T12:22:27.096Z"
   },
   {
    "duration": 12569,
    "start_time": "2021-12-14T12:22:27.105Z"
   },
   {
    "duration": 743,
    "start_time": "2021-12-14T12:24:35.453Z"
   },
   {
    "duration": 4,
    "start_time": "2021-12-14T12:24:36.199Z"
   },
   {
    "duration": 6,
    "start_time": "2021-12-14T12:24:36.820Z"
   },
   {
    "duration": 35,
    "start_time": "2021-12-14T12:24:37.863Z"
   },
   {
    "duration": 269,
    "start_time": "2021-12-14T12:24:51.261Z"
   },
   {
    "duration": 4,
    "start_time": "2021-12-14T12:24:51.640Z"
   },
   {
    "duration": 5,
    "start_time": "2021-12-14T12:24:52.513Z"
   },
   {
    "duration": 38,
    "start_time": "2021-12-14T12:24:53.084Z"
   },
   {
    "duration": 514,
    "start_time": "2021-12-14T12:25:04.893Z"
   },
   {
    "duration": 4,
    "start_time": "2021-12-14T12:25:05.409Z"
   },
   {
    "duration": 6,
    "start_time": "2021-12-14T12:25:05.684Z"
   },
   {
    "duration": 35,
    "start_time": "2021-12-14T12:25:06.183Z"
   },
   {
    "duration": 530,
    "start_time": "2021-12-14T12:26:02.899Z"
   },
   {
    "duration": 4,
    "start_time": "2021-12-14T12:26:03.432Z"
   },
   {
    "duration": 6,
    "start_time": "2021-12-14T12:26:03.617Z"
   },
   {
    "duration": 45,
    "start_time": "2021-12-14T12:26:04.196Z"
   },
   {
    "duration": 234,
    "start_time": "2021-12-14T12:26:18.648Z"
   },
   {
    "duration": 4,
    "start_time": "2021-12-14T12:26:18.885Z"
   },
   {
    "duration": 11,
    "start_time": "2021-12-14T12:26:18.891Z"
   },
   {
    "duration": 39,
    "start_time": "2021-12-14T12:26:18.905Z"
   },
   {
    "duration": 225,
    "start_time": "2021-12-14T12:30:59.396Z"
   },
   {
    "duration": 5,
    "start_time": "2021-12-14T12:30:59.716Z"
   },
   {
    "duration": 4,
    "start_time": "2021-12-14T12:31:01.066Z"
   },
   {
    "duration": 6,
    "start_time": "2021-12-14T12:31:01.772Z"
   },
   {
    "duration": 36,
    "start_time": "2021-12-14T12:31:02.303Z"
   },
   {
    "duration": 216,
    "start_time": "2021-12-14T12:32:09.540Z"
   },
   {
    "duration": 4,
    "start_time": "2021-12-14T12:32:09.996Z"
   },
   {
    "duration": 6,
    "start_time": "2021-12-14T12:32:11.849Z"
   },
   {
    "duration": 35,
    "start_time": "2021-12-14T12:32:12.547Z"
   },
   {
    "duration": 212,
    "start_time": "2021-12-14T12:32:23.563Z"
   },
   {
    "duration": 5,
    "start_time": "2021-12-14T12:32:24.006Z"
   },
   {
    "duration": 6,
    "start_time": "2021-12-14T12:32:26.237Z"
   },
   {
    "duration": 36,
    "start_time": "2021-12-14T12:32:26.653Z"
   },
   {
    "duration": 210,
    "start_time": "2021-12-14T12:32:51.279Z"
   },
   {
    "duration": 3,
    "start_time": "2021-12-14T12:32:51.502Z"
   },
   {
    "duration": 3,
    "start_time": "2021-12-14T12:32:52.176Z"
   },
   {
    "duration": 5,
    "start_time": "2021-12-14T12:32:52.559Z"
   },
   {
    "duration": 36,
    "start_time": "2021-12-14T12:32:53.274Z"
   },
   {
    "duration": 41,
    "start_time": "2021-12-14T12:33:13.988Z"
   },
   {
    "duration": 58,
    "start_time": "2021-12-14T12:33:14.526Z"
   },
   {
    "duration": 28,
    "start_time": "2021-12-14T12:33:15.052Z"
   },
   {
    "duration": 9,
    "start_time": "2021-12-14T12:33:15.570Z"
   },
   {
    "duration": 6,
    "start_time": "2021-12-14T12:33:15.768Z"
   },
   {
    "duration": 8,
    "start_time": "2021-12-14T12:33:16.146Z"
   },
   {
    "duration": 4,
    "start_time": "2021-12-14T12:33:16.542Z"
   },
   {
    "duration": 8,
    "start_time": "2021-12-14T12:33:16.734Z"
   },
   {
    "duration": 15,
    "start_time": "2021-12-14T12:33:22.051Z"
   },
   {
    "duration": 4,
    "start_time": "2021-12-14T12:33:22.253Z"
   },
   {
    "duration": 308,
    "start_time": "2021-12-14T12:33:22.451Z"
   },
   {
    "duration": 16,
    "start_time": "2021-12-14T12:33:22.761Z"
   },
   {
    "duration": 7,
    "start_time": "2021-12-14T12:33:22.796Z"
   },
   {
    "duration": 18,
    "start_time": "2021-12-14T12:33:23.271Z"
   },
   {
    "duration": 8,
    "start_time": "2021-12-14T12:33:26.486Z"
   },
   {
    "duration": 8,
    "start_time": "2021-12-14T12:33:26.694Z"
   },
   {
    "duration": 9,
    "start_time": "2021-12-14T12:33:26.894Z"
   },
   {
    "duration": 7,
    "start_time": "2021-12-14T12:33:27.096Z"
   },
   {
    "duration": 7,
    "start_time": "2021-12-14T12:33:27.294Z"
   },
   {
    "duration": 13,
    "start_time": "2021-12-14T12:33:29.119Z"
   },
   {
    "duration": 4,
    "start_time": "2021-12-14T12:33:56.851Z"
   },
   {
    "duration": 16,
    "start_time": "2021-12-14T12:33:57.757Z"
   },
   {
    "duration": 6,
    "start_time": "2021-12-14T12:34:13.513Z"
   },
   {
    "duration": 5194,
    "start_time": "2021-12-14T12:37:03.994Z"
   },
   {
    "duration": 583,
    "start_time": "2021-12-14T12:37:08.608Z"
   },
   {
    "duration": 4,
    "start_time": "2021-12-14T12:37:11.551Z"
   },
   {
    "duration": 6,
    "start_time": "2021-12-14T12:37:13.164Z"
   },
   {
    "duration": 4,
    "start_time": "2021-12-14T12:37:26.221Z"
   },
   {
    "duration": 4,
    "start_time": "2021-12-14T12:37:28.021Z"
   },
   {
    "duration": 7,
    "start_time": "2021-12-14T12:37:28.341Z"
   },
   {
    "duration": 4,
    "start_time": "2021-12-14T12:37:51.805Z"
   },
   {
    "duration": 4,
    "start_time": "2021-12-14T12:37:52.109Z"
   },
   {
    "duration": 7,
    "start_time": "2021-12-14T12:37:52.645Z"
   },
   {
    "duration": 5,
    "start_time": "2021-12-14T12:38:04.665Z"
   },
   {
    "duration": 4,
    "start_time": "2021-12-14T12:38:05.033Z"
   },
   {
    "duration": 7,
    "start_time": "2021-12-14T12:38:05.449Z"
   },
   {
    "duration": 2121,
    "start_time": "2021-12-14T12:38:45.894Z"
   },
   {
    "duration": 477,
    "start_time": "2021-12-14T12:38:47.542Z"
   },
   {
    "duration": 728,
    "start_time": "2021-12-14T12:38:55.999Z"
   },
   {
    "duration": 5,
    "start_time": "2021-12-14T12:38:56.730Z"
   },
   {
    "duration": 3,
    "start_time": "2021-12-14T12:38:57.071Z"
   },
   {
    "duration": 4,
    "start_time": "2021-12-14T12:38:57.838Z"
   },
   {
    "duration": 7,
    "start_time": "2021-12-14T12:38:58.447Z"
   },
   {
    "duration": 5,
    "start_time": "2021-12-14T12:39:00.079Z"
   },
   {
    "duration": 38,
    "start_time": "2021-12-14T12:39:00.367Z"
   },
   {
    "duration": 42,
    "start_time": "2021-12-14T12:39:06.704Z"
   },
   {
    "duration": 51,
    "start_time": "2021-12-14T12:39:07.240Z"
   },
   {
    "duration": 25,
    "start_time": "2021-12-14T12:39:07.792Z"
   },
   {
    "duration": 8,
    "start_time": "2021-12-14T12:39:08.310Z"
   },
   {
    "duration": 6,
    "start_time": "2021-12-14T12:39:08.478Z"
   },
   {
    "duration": 9,
    "start_time": "2021-12-14T12:39:08.814Z"
   },
   {
    "duration": 4,
    "start_time": "2021-12-14T12:39:11.818Z"
   },
   {
    "duration": 8,
    "start_time": "2021-12-14T12:39:12.007Z"
   },
   {
    "duration": 15,
    "start_time": "2021-12-14T12:39:12.186Z"
   },
   {
    "duration": 4,
    "start_time": "2021-12-14T12:39:12.367Z"
   },
   {
    "duration": 302,
    "start_time": "2021-12-14T12:39:12.554Z"
   },
   {
    "duration": 16,
    "start_time": "2021-12-14T12:39:12.858Z"
   },
   {
    "duration": 5,
    "start_time": "2021-12-14T12:39:12.916Z"
   },
   {
    "duration": 16,
    "start_time": "2021-12-14T12:39:15.251Z"
   },
   {
    "duration": 8,
    "start_time": "2021-12-14T12:39:16.035Z"
   },
   {
    "duration": 8,
    "start_time": "2021-12-14T12:39:16.220Z"
   },
   {
    "duration": 8,
    "start_time": "2021-12-14T12:39:17.947Z"
   },
   {
    "duration": 6,
    "start_time": "2021-12-14T12:39:18.140Z"
   },
   {
    "duration": 7,
    "start_time": "2021-12-14T12:39:18.410Z"
   },
   {
    "duration": 14,
    "start_time": "2021-12-14T12:39:22.346Z"
   },
   {
    "duration": 6,
    "start_time": "2021-12-14T12:39:27.731Z"
   },
   {
    "duration": 4,
    "start_time": "2021-12-14T12:39:55.861Z"
   },
   {
    "duration": 4,
    "start_time": "2021-12-14T12:39:56.466Z"
   },
   {
    "duration": 7,
    "start_time": "2021-12-14T12:39:57.231Z"
   },
   {
    "duration": 4,
    "start_time": "2021-12-14T12:40:35.439Z"
   },
   {
    "duration": 4,
    "start_time": "2021-12-14T12:40:35.855Z"
   },
   {
    "duration": 6,
    "start_time": "2021-12-14T12:40:36.315Z"
   },
   {
    "duration": 4,
    "start_time": "2021-12-14T12:41:25.193Z"
   },
   {
    "duration": 5,
    "start_time": "2021-12-14T12:41:25.488Z"
   },
   {
    "duration": 7,
    "start_time": "2021-12-14T12:41:25.904Z"
   },
   {
    "duration": 3,
    "start_time": "2021-12-14T12:41:38.687Z"
   },
   {
    "duration": 4,
    "start_time": "2021-12-14T12:41:39.044Z"
   },
   {
    "duration": 8,
    "start_time": "2021-12-14T12:41:39.444Z"
   },
   {
    "duration": 5,
    "start_time": "2021-12-14T12:42:01.000Z"
   },
   {
    "duration": 5,
    "start_time": "2021-12-14T12:42:01.328Z"
   },
   {
    "duration": 9,
    "start_time": "2021-12-14T12:42:01.660Z"
   },
   {
    "duration": 4,
    "start_time": "2021-12-14T12:42:09.217Z"
   },
   {
    "duration": 4,
    "start_time": "2021-12-14T12:42:09.834Z"
   },
   {
    "duration": 7,
    "start_time": "2021-12-14T12:42:10.313Z"
   },
   {
    "duration": 805,
    "start_time": "2021-12-14T12:42:16.601Z"
   },
   {
    "duration": 4,
    "start_time": "2021-12-14T12:42:17.968Z"
   },
   {
    "duration": 6,
    "start_time": "2021-12-14T12:42:20.025Z"
   },
   {
    "duration": 5,
    "start_time": "2021-12-14T12:42:20.384Z"
   },
   {
    "duration": 7,
    "start_time": "2021-12-14T12:42:20.912Z"
   },
   {
    "duration": 6,
    "start_time": "2021-12-14T12:42:22.496Z"
   },
   {
    "duration": 38,
    "start_time": "2021-12-14T12:42:23.264Z"
   },
   {
    "duration": 3,
    "start_time": "2021-12-14T12:42:59.359Z"
   },
   {
    "duration": 4,
    "start_time": "2021-12-14T12:42:59.729Z"
   },
   {
    "duration": 5,
    "start_time": "2021-12-14T12:43:00.143Z"
   },
   {
    "duration": 4,
    "start_time": "2021-12-14T12:43:17.235Z"
   },
   {
    "duration": 4,
    "start_time": "2021-12-14T12:43:17.548Z"
   },
   {
    "duration": 6,
    "start_time": "2021-12-14T12:43:18.003Z"
   },
   {
    "duration": 204,
    "start_time": "2021-12-14T12:43:25.366Z"
   },
   {
    "duration": 4,
    "start_time": "2021-12-14T12:43:27.264Z"
   },
   {
    "duration": 5,
    "start_time": "2021-12-14T12:43:31.911Z"
   },
   {
    "duration": 36,
    "start_time": "2021-12-14T12:43:32.727Z"
   },
   {
    "duration": 5,
    "start_time": "2021-12-14T12:44:04.350Z"
   },
   {
    "duration": 4,
    "start_time": "2021-12-14T12:44:04.686Z"
   },
   {
    "duration": 8,
    "start_time": "2021-12-14T12:44:05.414Z"
   },
   {
    "duration": 4,
    "start_time": "2021-12-14T12:44:57.638Z"
   },
   {
    "duration": 4,
    "start_time": "2021-12-14T12:44:57.959Z"
   },
   {
    "duration": 10,
    "start_time": "2021-12-14T12:44:58.421Z"
   },
   {
    "duration": 4,
    "start_time": "2021-12-14T12:46:03.348Z"
   },
   {
    "duration": 5,
    "start_time": "2021-12-14T12:46:03.707Z"
   },
   {
    "duration": 782,
    "start_time": "2021-12-14T12:46:04.492Z"
   },
   {
    "duration": 3,
    "start_time": "2021-12-14T12:46:47.812Z"
   },
   {
    "duration": 5,
    "start_time": "2021-12-14T12:46:48.307Z"
   },
   {
    "duration": 8,
    "start_time": "2021-12-14T12:46:48.740Z"
   },
   {
    "duration": 4,
    "start_time": "2021-12-14T12:47:10.070Z"
   },
   {
    "duration": 5,
    "start_time": "2021-12-14T12:47:10.363Z"
   },
   {
    "duration": 8,
    "start_time": "2021-12-14T12:47:10.651Z"
   },
   {
    "duration": 4,
    "start_time": "2021-12-14T12:47:31.780Z"
   },
   {
    "duration": 4,
    "start_time": "2021-12-14T12:47:32.092Z"
   },
   {
    "duration": 6,
    "start_time": "2021-12-14T12:47:32.636Z"
   },
   {
    "duration": 4,
    "start_time": "2021-12-14T12:47:46.242Z"
   },
   {
    "duration": 4,
    "start_time": "2021-12-14T12:47:47.744Z"
   },
   {
    "duration": 8,
    "start_time": "2021-12-14T12:47:47.751Z"
   },
   {
    "duration": 4,
    "start_time": "2021-12-14T12:47:59.848Z"
   },
   {
    "duration": 4,
    "start_time": "2021-12-14T12:48:00.113Z"
   },
   {
    "duration": 7,
    "start_time": "2021-12-14T12:48:00.626Z"
   },
   {
    "duration": 3,
    "start_time": "2021-12-14T12:48:12.885Z"
   },
   {
    "duration": 4,
    "start_time": "2021-12-14T12:48:13.140Z"
   },
   {
    "duration": 7,
    "start_time": "2021-12-14T12:48:13.532Z"
   },
   {
    "duration": 4,
    "start_time": "2021-12-14T12:48:40.524Z"
   },
   {
    "duration": 7,
    "start_time": "2021-12-14T12:48:41.157Z"
   },
   {
    "duration": 4,
    "start_time": "2021-12-14T12:48:51.780Z"
   },
   {
    "duration": 4,
    "start_time": "2021-12-14T12:48:52.270Z"
   },
   {
    "duration": 7,
    "start_time": "2021-12-14T12:48:55.605Z"
   },
   {
    "duration": 4,
    "start_time": "2021-12-14T12:49:44.094Z"
   },
   {
    "duration": 8,
    "start_time": "2021-12-14T12:49:44.950Z"
   },
   {
    "duration": 4,
    "start_time": "2021-12-14T12:49:59.306Z"
   },
   {
    "duration": 4,
    "start_time": "2021-12-14T12:49:59.650Z"
   },
   {
    "duration": 8,
    "start_time": "2021-12-14T12:50:00.268Z"
   },
   {
    "duration": 4,
    "start_time": "2021-12-14T12:50:35.473Z"
   },
   {
    "duration": 4,
    "start_time": "2021-12-14T12:50:36.162Z"
   },
   {
    "duration": 11,
    "start_time": "2021-12-14T12:50:36.899Z"
   },
   {
    "duration": 4,
    "start_time": "2021-12-14T12:50:50.898Z"
   },
   {
    "duration": 4,
    "start_time": "2021-12-14T12:50:51.397Z"
   },
   {
    "duration": 8,
    "start_time": "2021-12-14T12:50:52.127Z"
   },
   {
    "duration": 4,
    "start_time": "2021-12-14T12:51:44.193Z"
   },
   {
    "duration": 5,
    "start_time": "2021-12-14T12:51:44.539Z"
   },
   {
    "duration": 9,
    "start_time": "2021-12-14T12:51:45.029Z"
   },
   {
    "duration": 4,
    "start_time": "2021-12-14T12:52:22.543Z"
   },
   {
    "duration": 4,
    "start_time": "2021-12-14T12:52:22.854Z"
   },
   {
    "duration": 8,
    "start_time": "2021-12-14T12:52:23.407Z"
   },
   {
    "duration": 3,
    "start_time": "2021-12-14T12:52:57.528Z"
   },
   {
    "duration": 4,
    "start_time": "2021-12-14T12:52:57.896Z"
   },
   {
    "duration": 9,
    "start_time": "2021-12-14T12:52:58.449Z"
   },
   {
    "duration": 4,
    "start_time": "2021-12-14T12:53:27.567Z"
   },
   {
    "duration": 4,
    "start_time": "2021-12-14T12:53:27.932Z"
   },
   {
    "duration": 7,
    "start_time": "2021-12-14T12:53:28.404Z"
   },
   {
    "duration": 3,
    "start_time": "2021-12-14T12:53:37.708Z"
   },
   {
    "duration": 4,
    "start_time": "2021-12-14T12:53:38.027Z"
   },
   {
    "duration": 10,
    "start_time": "2021-12-14T12:53:38.315Z"
   },
   {
    "duration": 4,
    "start_time": "2021-12-14T12:54:44.891Z"
   },
   {
    "duration": 4,
    "start_time": "2021-12-14T12:54:45.131Z"
   },
   {
    "duration": 754,
    "start_time": "2021-12-14T12:54:45.781Z"
   },
   {
    "duration": 4,
    "start_time": "2021-12-14T12:55:17.428Z"
   },
   {
    "duration": 771,
    "start_time": "2021-12-14T12:55:18.789Z"
   },
   {
    "duration": 6,
    "start_time": "2021-12-14T12:55:29.167Z"
   },
   {
    "duration": 4,
    "start_time": "2021-12-14T12:55:29.471Z"
   },
   {
    "duration": 838,
    "start_time": "2021-12-14T12:55:29.785Z"
   },
   {
    "duration": 4,
    "start_time": "2021-12-14T12:56:25.228Z"
   },
   {
    "duration": 4,
    "start_time": "2021-12-14T12:56:25.588Z"
   },
   {
    "duration": 992,
    "start_time": "2021-12-14T12:56:26.119Z"
   },
   {
    "duration": 5,
    "start_time": "2021-12-14T13:00:09.570Z"
   },
   {
    "duration": 7,
    "start_time": "2021-12-14T13:00:10.021Z"
   },
   {
    "duration": 255,
    "start_time": "2021-12-14T13:00:44.641Z"
   },
   {
    "duration": 4,
    "start_time": "2021-12-14T13:00:44.972Z"
   },
   {
    "duration": 5,
    "start_time": "2021-12-14T13:00:45.684Z"
   },
   {
    "duration": 6,
    "start_time": "2021-12-14T13:00:45.900Z"
   },
   {
    "duration": 5,
    "start_time": "2021-12-14T13:00:46.110Z"
   },
   {
    "duration": 37,
    "start_time": "2021-12-14T13:00:46.311Z"
   },
   {
    "duration": 42,
    "start_time": "2021-12-14T13:00:46.884Z"
   },
   {
    "duration": 57,
    "start_time": "2021-12-14T13:00:47.403Z"
   },
   {
    "duration": 28,
    "start_time": "2021-12-14T13:00:47.970Z"
   },
   {
    "duration": 4692,
    "start_time": "2021-12-14T13:00:48.521Z"
   },
   {
    "duration": 478,
    "start_time": "2021-12-14T13:00:52.739Z"
   },
   {
    "duration": 477,
    "start_time": "2021-12-14T13:00:52.742Z"
   },
   {
    "duration": 475,
    "start_time": "2021-12-14T13:00:52.746Z"
   },
   {
    "duration": 473,
    "start_time": "2021-12-14T13:00:52.749Z"
   },
   {
    "duration": 473,
    "start_time": "2021-12-14T13:00:52.751Z"
   },
   {
    "duration": 472,
    "start_time": "2021-12-14T13:00:52.754Z"
   },
   {
    "duration": 471,
    "start_time": "2021-12-14T13:00:52.756Z"
   },
   {
    "duration": 470,
    "start_time": "2021-12-14T13:00:52.759Z"
   },
   {
    "duration": 469,
    "start_time": "2021-12-14T13:00:52.761Z"
   },
   {
    "duration": 468,
    "start_time": "2021-12-14T13:00:52.764Z"
   },
   {
    "duration": 8,
    "start_time": "2021-12-14T13:00:54.313Z"
   },
   {
    "duration": 450,
    "start_time": "2021-12-14T13:00:54.503Z"
   },
   {
    "duration": 583,
    "start_time": "2021-12-14T13:00:54.372Z"
   },
   {
    "duration": 489,
    "start_time": "2021-12-14T13:00:54.467Z"
   },
   {
    "duration": 375,
    "start_time": "2021-12-14T13:00:55.071Z"
   },
   {
    "duration": 586,
    "start_time": "2021-12-14T13:00:54.862Z"
   },
   {
    "duration": 6,
    "start_time": "2021-12-14T13:00:55.643Z"
   },
   {
    "duration": 5,
    "start_time": "2021-12-14T13:00:55.810Z"
   },
   {
    "duration": 6,
    "start_time": "2021-12-14T13:00:55.984Z"
   },
   {
    "duration": 17,
    "start_time": "2021-12-14T13:00:57.935Z"
   },
   {
    "duration": 385,
    "start_time": "2021-12-14T13:00:59.328Z"
   },
   {
    "duration": 255,
    "start_time": "2021-12-14T13:01:40.647Z"
   },
   {
    "duration": 4,
    "start_time": "2021-12-14T13:01:41.037Z"
   },
   {
    "duration": 4,
    "start_time": "2021-12-14T13:01:42.119Z"
   },
   {
    "duration": 6,
    "start_time": "2021-12-14T13:01:42.924Z"
   },
   {
    "duration": 5,
    "start_time": "2021-12-14T13:01:45.345Z"
   },
   {
    "duration": 36,
    "start_time": "2021-12-14T13:01:45.799Z"
   },
   {
    "duration": 324,
    "start_time": "2021-12-14T13:01:56.289Z"
   },
   {
    "duration": 5,
    "start_time": "2021-12-14T13:01:56.832Z"
   },
   {
    "duration": 5,
    "start_time": "2021-12-14T13:02:00.171Z"
   },
   {
    "duration": 220,
    "start_time": "2021-12-14T13:02:09.584Z"
   },
   {
    "duration": 4,
    "start_time": "2021-12-14T13:02:10.032Z"
   },
   {
    "duration": 5,
    "start_time": "2021-12-14T13:02:11.344Z"
   },
   {
    "duration": 5,
    "start_time": "2021-12-14T13:02:18.513Z"
   },
   {
    "duration": 36,
    "start_time": "2021-12-14T13:02:18.970Z"
   },
   {
    "duration": 222,
    "start_time": "2021-12-14T13:02:34.804Z"
   },
   {
    "duration": 4,
    "start_time": "2021-12-14T13:02:35.294Z"
   },
   {
    "duration": 5,
    "start_time": "2021-12-14T13:02:37.020Z"
   },
   {
    "duration": 5,
    "start_time": "2021-12-14T13:02:39.140Z"
   },
   {
    "duration": 37,
    "start_time": "2021-12-14T13:02:39.897Z"
   },
   {
    "duration": 247,
    "start_time": "2021-12-14T13:02:54.677Z"
   },
   {
    "duration": 4,
    "start_time": "2021-12-14T13:02:54.973Z"
   },
   {
    "duration": 4,
    "start_time": "2021-12-14T13:02:55.809Z"
   },
   {
    "duration": 8,
    "start_time": "2021-12-14T13:02:56.453Z"
   },
   {
    "duration": 5,
    "start_time": "2021-12-14T13:02:58.417Z"
   },
   {
    "duration": 38,
    "start_time": "2021-12-14T13:02:59.107Z"
   },
   {
    "duration": 293,
    "start_time": "2021-12-14T13:32:33.918Z"
   },
   {
    "duration": 4,
    "start_time": "2021-12-14T13:32:34.228Z"
   },
   {
    "duration": 5,
    "start_time": "2021-12-14T13:32:35.427Z"
   },
   {
    "duration": 12,
    "start_time": "2021-12-14T13:32:37.751Z"
   },
   {
    "duration": 208,
    "start_time": "2021-12-14T13:32:59.242Z"
   },
   {
    "duration": 4,
    "start_time": "2021-12-14T13:33:02.606Z"
   },
   {
    "duration": 6,
    "start_time": "2021-12-14T13:33:04.572Z"
   },
   {
    "duration": 36,
    "start_time": "2021-12-14T13:33:10.448Z"
   },
   {
    "duration": 219,
    "start_time": "2021-12-14T13:33:32.120Z"
   },
   {
    "duration": 4,
    "start_time": "2021-12-14T13:33:32.913Z"
   },
   {
    "duration": 4,
    "start_time": "2021-12-14T13:33:34.588Z"
   },
   {
    "duration": 7,
    "start_time": "2021-12-14T13:33:40.528Z"
   },
   {
    "duration": 37,
    "start_time": "2021-12-14T13:33:41.533Z"
   },
   {
    "duration": 8,
    "start_time": "2021-12-14T13:33:58.478Z"
   },
   {
    "duration": 4,
    "start_time": "2021-12-14T13:35:01.302Z"
   },
   {
    "duration": 494,
    "start_time": "2021-12-14T13:35:02.885Z"
   },
   {
    "duration": 4,
    "start_time": "2021-12-14T13:35:03.437Z"
   },
   {
    "duration": 4,
    "start_time": "2021-12-14T13:35:04.175Z"
   },
   {
    "duration": 8,
    "start_time": "2021-12-14T13:35:05.469Z"
   },
   {
    "duration": 9,
    "start_time": "2021-12-14T13:35:08.599Z"
   },
   {
    "duration": 36,
    "start_time": "2021-12-14T13:35:15.703Z"
   },
   {
    "duration": 296,
    "start_time": "2021-12-14T13:35:43.915Z"
   },
   {
    "duration": 4,
    "start_time": "2021-12-14T13:35:44.345Z"
   },
   {
    "duration": 5,
    "start_time": "2021-12-14T13:35:45.416Z"
   },
   {
    "duration": 237,
    "start_time": "2021-12-14T13:36:01.277Z"
   },
   {
    "duration": 5,
    "start_time": "2021-12-14T13:36:01.559Z"
   },
   {
    "duration": 5,
    "start_time": "2021-12-14T13:36:02.117Z"
   },
   {
    "duration": 11,
    "start_time": "2021-12-14T13:36:02.456Z"
   },
   {
    "duration": 236,
    "start_time": "2021-12-14T13:36:19.560Z"
   },
   {
    "duration": 4,
    "start_time": "2021-12-14T13:36:19.799Z"
   },
   {
    "duration": 6,
    "start_time": "2021-12-14T13:36:20.094Z"
   },
   {
    "duration": 11,
    "start_time": "2021-12-14T13:36:20.262Z"
   },
   {
    "duration": 35,
    "start_time": "2021-12-14T13:36:20.504Z"
   },
   {
    "duration": 221,
    "start_time": "2021-12-14T13:36:35.163Z"
   },
   {
    "duration": 4,
    "start_time": "2021-12-14T13:36:35.674Z"
   },
   {
    "duration": 5,
    "start_time": "2021-12-14T13:36:37.075Z"
   },
   {
    "duration": 9,
    "start_time": "2021-12-14T13:36:38.291Z"
   },
   {
    "duration": 39,
    "start_time": "2021-12-14T13:36:40.843Z"
   },
   {
    "duration": 238,
    "start_time": "2021-12-14T13:37:10.631Z"
   },
   {
    "duration": 4,
    "start_time": "2021-12-14T13:37:10.872Z"
   },
   {
    "duration": 5,
    "start_time": "2021-12-14T13:37:11.170Z"
   },
   {
    "duration": 10,
    "start_time": "2021-12-14T13:37:11.341Z"
   },
   {
    "duration": 36,
    "start_time": "2021-12-14T13:37:11.524Z"
   },
   {
    "duration": 289,
    "start_time": "2021-12-14T13:37:35.843Z"
   },
   {
    "duration": 4,
    "start_time": "2021-12-14T13:37:36.819Z"
   },
   {
    "duration": 6,
    "start_time": "2021-12-14T13:37:37.827Z"
   },
   {
    "duration": 12,
    "start_time": "2021-12-14T13:37:44.731Z"
   },
   {
    "duration": 225,
    "start_time": "2021-12-14T13:39:14.147Z"
   },
   {
    "duration": 4,
    "start_time": "2021-12-14T13:39:14.403Z"
   },
   {
    "duration": 4,
    "start_time": "2021-12-14T13:39:15.164Z"
   },
   {
    "duration": 9,
    "start_time": "2021-12-14T13:39:15.828Z"
   },
   {
    "duration": 35,
    "start_time": "2021-12-14T13:39:23.580Z"
   },
   {
    "duration": 225,
    "start_time": "2021-12-14T13:40:35.397Z"
   },
   {
    "duration": 4,
    "start_time": "2021-12-14T13:40:35.625Z"
   },
   {
    "duration": 127,
    "start_time": "2021-12-14T13:40:35.932Z"
   },
   {
    "duration": 12,
    "start_time": "2021-12-14T13:40:36.101Z"
   },
   {
    "duration": 36,
    "start_time": "2021-12-14T13:40:36.288Z"
   },
   {
    "duration": 235,
    "start_time": "2021-12-14T13:48:38.227Z"
   },
   {
    "duration": 5,
    "start_time": "2021-12-14T13:48:38.465Z"
   },
   {
    "duration": 5,
    "start_time": "2021-12-14T13:48:40.106Z"
   },
   {
    "duration": 10,
    "start_time": "2021-12-14T13:48:41.916Z"
   },
   {
    "duration": 39,
    "start_time": "2021-12-14T13:48:44.254Z"
   },
   {
    "duration": 4,
    "start_time": "2021-12-14T13:51:48.217Z"
   },
   {
    "duration": 234,
    "start_time": "2021-12-14T13:51:50.547Z"
   },
   {
    "duration": 4,
    "start_time": "2021-12-14T13:51:50.783Z"
   },
   {
    "duration": 4,
    "start_time": "2021-12-14T13:51:51.165Z"
   },
   {
    "duration": 8,
    "start_time": "2021-12-14T13:51:51.717Z"
   },
   {
    "duration": 36,
    "start_time": "2021-12-14T13:52:10.481Z"
   },
   {
    "duration": 4,
    "start_time": "2021-12-14T13:53:00.709Z"
   },
   {
    "duration": 1053,
    "start_time": "2021-12-14T13:53:01.494Z"
   },
   {
    "duration": 222,
    "start_time": "2021-12-14T13:53:04.269Z"
   },
   {
    "duration": 5,
    "start_time": "2021-12-14T13:53:04.494Z"
   },
   {
    "duration": 4,
    "start_time": "2021-12-14T13:53:04.813Z"
   },
   {
    "duration": 1027,
    "start_time": "2021-12-14T13:53:05.318Z"
   },
   {
    "duration": 5,
    "start_time": "2021-12-14T13:53:28.521Z"
   },
   {
    "duration": 11,
    "start_time": "2021-12-14T13:53:29.772Z"
   },
   {
    "duration": 230,
    "start_time": "2021-12-14T13:54:20.783Z"
   },
   {
    "duration": 5,
    "start_time": "2021-12-14T13:54:21.015Z"
   },
   {
    "duration": 5,
    "start_time": "2021-12-14T13:54:21.300Z"
   },
   {
    "duration": 8,
    "start_time": "2021-12-14T13:54:21.812Z"
   },
   {
    "duration": 220,
    "start_time": "2021-12-14T13:54:28.733Z"
   },
   {
    "duration": 4,
    "start_time": "2021-12-14T13:54:28.956Z"
   },
   {
    "duration": 4,
    "start_time": "2021-12-14T13:54:29.213Z"
   },
   {
    "duration": 5,
    "start_time": "2021-12-14T13:54:29.382Z"
   },
   {
    "duration": 37,
    "start_time": "2021-12-14T13:54:29.543Z"
   },
   {
    "duration": 217,
    "start_time": "2021-12-14T13:54:38.189Z"
   },
   {
    "duration": 6,
    "start_time": "2021-12-14T13:54:38.409Z"
   },
   {
    "duration": 4,
    "start_time": "2021-12-14T13:54:38.701Z"
   },
   {
    "duration": 5,
    "start_time": "2021-12-14T13:54:38.869Z"
   },
   {
    "duration": 39,
    "start_time": "2021-12-14T13:54:39.039Z"
   },
   {
    "duration": 49,
    "start_time": "2021-12-14T13:54:57.120Z"
   },
   {
    "duration": 58,
    "start_time": "2021-12-14T13:54:57.647Z"
   },
   {
    "duration": 25,
    "start_time": "2021-12-14T13:54:58.168Z"
   },
   {
    "duration": 9,
    "start_time": "2021-12-14T13:54:58.682Z"
   },
   {
    "duration": 6,
    "start_time": "2021-12-14T13:54:58.845Z"
   },
   {
    "duration": 8,
    "start_time": "2021-12-14T13:55:04.421Z"
   },
   {
    "duration": 4,
    "start_time": "2021-12-14T13:55:04.784Z"
   },
   {
    "duration": 8,
    "start_time": "2021-12-14T13:55:04.968Z"
   },
   {
    "duration": 17,
    "start_time": "2021-12-14T13:55:05.146Z"
   },
   {
    "duration": 4,
    "start_time": "2021-12-14T13:55:05.301Z"
   },
   {
    "duration": 326,
    "start_time": "2021-12-14T13:55:05.455Z"
   },
   {
    "duration": 16,
    "start_time": "2021-12-14T13:55:06.905Z"
   },
   {
    "duration": 7,
    "start_time": "2021-12-14T13:55:07.077Z"
   },
   {
    "duration": 16,
    "start_time": "2021-12-14T13:55:07.247Z"
   },
   {
    "duration": 8,
    "start_time": "2021-12-14T13:55:08.889Z"
   },
   {
    "duration": 8,
    "start_time": "2021-12-14T13:55:09.098Z"
   },
   {
    "duration": 8,
    "start_time": "2021-12-14T13:55:09.661Z"
   },
   {
    "duration": 6,
    "start_time": "2021-12-14T13:55:10.569Z"
   },
   {
    "duration": 8,
    "start_time": "2021-12-14T13:55:10.857Z"
   },
   {
    "duration": 12,
    "start_time": "2021-12-14T13:55:11.945Z"
   },
   {
    "duration": 5,
    "start_time": "2021-12-14T13:55:13.554Z"
   },
   {
    "duration": 5,
    "start_time": "2021-12-14T13:55:29.304Z"
   },
   {
    "duration": 6,
    "start_time": "2021-12-14T13:55:30.139Z"
   },
   {
    "duration": 24,
    "start_time": "2021-12-14T13:55:43.471Z"
   },
   {
    "duration": 26797,
    "start_time": "2021-12-14T13:56:22.985Z"
   },
   {
    "duration": 2484,
    "start_time": "2021-12-14T13:56:49.785Z"
   },
   {
    "duration": 3,
    "start_time": "2021-12-14T13:56:52.272Z"
   },
   {
    "duration": 6,
    "start_time": "2021-12-14T13:56:52.277Z"
   },
   {
    "duration": 6,
    "start_time": "2021-12-14T13:56:52.285Z"
   },
   {
    "duration": 5,
    "start_time": "2021-12-14T13:56:52.294Z"
   },
   {
    "duration": 232,
    "start_time": "2021-12-14T13:56:52.301Z"
   },
   {
    "duration": 4,
    "start_time": "2021-12-14T13:56:52.536Z"
   },
   {
    "duration": 6,
    "start_time": "2021-12-14T13:56:52.543Z"
   },
   {
    "duration": 6,
    "start_time": "2021-12-14T13:56:52.551Z"
   },
   {
    "duration": 42,
    "start_time": "2021-12-14T13:56:52.559Z"
   },
   {
    "duration": 71,
    "start_time": "2021-12-14T13:56:52.604Z"
   },
   {
    "duration": 84,
    "start_time": "2021-12-14T13:56:52.678Z"
   },
   {
    "duration": 26,
    "start_time": "2021-12-14T13:56:52.764Z"
   },
   {
    "duration": 9,
    "start_time": "2021-12-14T13:56:52.792Z"
   },
   {
    "duration": 6,
    "start_time": "2021-12-14T13:56:52.803Z"
   },
   {
    "duration": 52,
    "start_time": "2021-12-14T13:56:52.812Z"
   },
   {
    "duration": 4,
    "start_time": "2021-12-14T13:56:52.868Z"
   },
   {
    "duration": 10,
    "start_time": "2021-12-14T13:56:52.875Z"
   },
   {
    "duration": 17,
    "start_time": "2021-12-14T13:56:52.888Z"
   },
   {
    "duration": 5,
    "start_time": "2021-12-14T13:56:52.908Z"
   },
   {
    "duration": 347,
    "start_time": "2021-12-14T13:56:52.915Z"
   },
   {
    "duration": 15,
    "start_time": "2021-12-14T13:56:53.269Z"
   },
   {
    "duration": 8,
    "start_time": "2021-12-14T13:56:53.288Z"
   },
   {
    "duration": 16,
    "start_time": "2021-12-14T13:56:53.298Z"
   },
   {
    "duration": 48,
    "start_time": "2021-12-14T13:56:53.317Z"
   },
   {
    "duration": 7,
    "start_time": "2021-12-14T13:56:53.368Z"
   },
   {
    "duration": 9,
    "start_time": "2021-12-14T13:56:53.377Z"
   },
   {
    "duration": 7,
    "start_time": "2021-12-14T13:56:53.388Z"
   },
   {
    "duration": 8,
    "start_time": "2021-12-14T13:56:53.397Z"
   },
   {
    "duration": 58,
    "start_time": "2021-12-14T13:56:53.407Z"
   },
   {
    "duration": 5,
    "start_time": "2021-12-14T13:56:53.467Z"
   },
   {
    "duration": 4,
    "start_time": "2021-12-14T13:56:53.475Z"
   },
   {
    "duration": 7,
    "start_time": "2021-12-14T13:56:53.481Z"
   },
   {
    "duration": 25,
    "start_time": "2021-12-14T13:56:53.490Z"
   },
   {
    "duration": 47,
    "start_time": "2021-12-14T13:56:53.517Z"
   },
   {
    "duration": 100,
    "start_time": "2021-12-14T13:56:53.566Z"
   },
   {
    "duration": 226,
    "start_time": "2021-12-14T16:03:16.450Z"
   },
   {
    "duration": 4,
    "start_time": "2021-12-14T16:03:16.679Z"
   },
   {
    "duration": 5,
    "start_time": "2021-12-14T16:03:17.026Z"
   },
   {
    "duration": 5,
    "start_time": "2021-12-14T16:03:17.210Z"
   },
   {
    "duration": 37,
    "start_time": "2021-12-14T16:03:17.379Z"
   },
   {
    "duration": 42,
    "start_time": "2021-12-14T16:03:17.916Z"
   },
   {
    "duration": 57,
    "start_time": "2021-12-14T16:03:18.434Z"
   },
   {
    "duration": 59,
    "start_time": "2021-12-14T16:04:06.471Z"
   },
   {
    "duration": 27,
    "start_time": "2021-12-14T16:05:03.458Z"
   },
   {
    "duration": 6,
    "start_time": "2021-12-14T16:05:47.023Z"
   },
   {
    "duration": 135,
    "start_time": "2021-12-14T16:10:37.960Z"
   },
   {
    "duration": 17,
    "start_time": "2021-12-14T16:10:45.832Z"
   },
   {
    "duration": 21,
    "start_time": "2021-12-14T16:12:33.061Z"
   },
   {
    "duration": 13,
    "start_time": "2021-12-14T16:13:39.052Z"
   },
   {
    "duration": 12,
    "start_time": "2021-12-14T16:14:00.519Z"
   },
   {
    "duration": 25,
    "start_time": "2021-12-14T16:15:25.906Z"
   },
   {
    "duration": 27,
    "start_time": "2021-12-14T16:17:16.417Z"
   },
   {
    "duration": 25,
    "start_time": "2021-12-14T16:17:34.498Z"
   },
   {
    "duration": 7,
    "start_time": "2021-12-14T16:21:06.198Z"
   },
   {
    "duration": 18,
    "start_time": "2021-12-14T16:21:29.577Z"
   },
   {
    "duration": 6,
    "start_time": "2021-12-14T16:23:26.606Z"
   },
   {
    "duration": 9,
    "start_time": "2021-12-14T16:24:32.415Z"
   },
   {
    "duration": 13,
    "start_time": "2021-12-14T16:24:33.324Z"
   },
   {
    "duration": 746,
    "start_time": "2021-12-14T16:24:44.757Z"
   },
   {
    "duration": 20,
    "start_time": "2021-12-14T16:24:49.719Z"
   },
   {
    "duration": 9,
    "start_time": "2021-12-14T16:30:38.147Z"
   },
   {
    "duration": 5,
    "start_time": "2021-12-14T16:30:39.011Z"
   },
   {
    "duration": 8,
    "start_time": "2021-12-14T16:30:40.048Z"
   },
   {
    "duration": 5,
    "start_time": "2021-12-14T16:30:42.291Z"
   },
   {
    "duration": 13,
    "start_time": "2021-12-14T16:30:43.137Z"
   },
   {
    "duration": 24,
    "start_time": "2021-12-14T16:30:43.714Z"
   },
   {
    "duration": 6,
    "start_time": "2021-12-14T16:30:54.349Z"
   },
   {
    "duration": 505,
    "start_time": "2021-12-14T16:30:54.581Z"
   },
   {
    "duration": 17,
    "start_time": "2021-12-14T16:30:55.090Z"
   },
   {
    "duration": 6,
    "start_time": "2021-12-14T16:30:57.956Z"
   },
   {
    "duration": 399,
    "start_time": "2021-12-14T16:31:27.617Z"
   },
   {
    "duration": 411,
    "start_time": "2021-12-14T16:31:37.860Z"
   },
   {
    "duration": 6,
    "start_time": "2021-12-14T16:33:39.306Z"
   },
   {
    "duration": 18,
    "start_time": "2021-12-14T16:33:47.824Z"
   },
   {
    "duration": 6,
    "start_time": "2021-12-14T16:34:26.464Z"
   },
   {
    "duration": 18,
    "start_time": "2021-12-14T16:34:31.818Z"
   },
   {
    "duration": 8,
    "start_time": "2021-12-14T16:37:29.829Z"
   },
   {
    "duration": 37,
    "start_time": "2021-12-14T16:37:35.333Z"
   },
   {
    "duration": 663,
    "start_time": "2021-12-14T16:38:17.785Z"
   },
   {
    "duration": 27,
    "start_time": "2021-12-14T16:38:28.515Z"
   },
   {
    "duration": 37957,
    "start_time": "2021-12-14T16:38:58.675Z"
   },
   {
    "duration": 10,
    "start_time": "2021-12-14T16:39:36.635Z"
   },
   {
    "duration": 7,
    "start_time": "2021-12-14T16:39:36.648Z"
   },
   {
    "duration": 10,
    "start_time": "2021-12-14T16:39:36.658Z"
   },
   {
    "duration": 7,
    "start_time": "2021-12-14T16:39:36.672Z"
   },
   {
    "duration": 6,
    "start_time": "2021-12-14T16:39:36.682Z"
   },
   {
    "duration": 263,
    "start_time": "2021-12-14T16:39:36.690Z"
   },
   {
    "duration": 7,
    "start_time": "2021-12-14T16:39:36.957Z"
   },
   {
    "duration": 21,
    "start_time": "2021-12-14T16:39:36.969Z"
   },
   {
    "duration": 10,
    "start_time": "2021-12-14T16:39:36.992Z"
   },
   {
    "duration": 66,
    "start_time": "2021-12-14T16:39:37.004Z"
   },
   {
    "duration": 95,
    "start_time": "2021-12-14T16:39:37.073Z"
   },
   {
    "duration": 103,
    "start_time": "2021-12-14T16:39:37.172Z"
   },
   {
    "duration": 7,
    "start_time": "2021-12-14T16:39:37.278Z"
   },
   {
    "duration": 33,
    "start_time": "2021-12-14T16:39:37.288Z"
   },
   {
    "duration": 48,
    "start_time": "2021-12-14T16:39:37.324Z"
   },
   {
    "duration": 22,
    "start_time": "2021-12-14T16:39:37.375Z"
   },
   {
    "duration": 11,
    "start_time": "2021-12-14T16:39:37.400Z"
   },
   {
    "duration": 68,
    "start_time": "2021-12-14T16:39:37.414Z"
   },
   {
    "duration": 29,
    "start_time": "2021-12-14T16:39:37.485Z"
   },
   {
    "duration": 55,
    "start_time": "2021-12-14T16:39:37.517Z"
   },
   {
    "duration": 5,
    "start_time": "2021-12-14T16:39:37.575Z"
   },
   {
    "duration": 11,
    "start_time": "2021-12-14T16:39:37.585Z"
   },
   {
    "duration": 60,
    "start_time": "2021-12-14T16:39:37.599Z"
   },
   {
    "duration": 13,
    "start_time": "2021-12-14T16:39:37.663Z"
   },
   {
    "duration": 8,
    "start_time": "2021-12-14T16:39:37.679Z"
   },
   {
    "duration": 9,
    "start_time": "2021-12-14T16:39:37.690Z"
   },
   {
    "duration": 5,
    "start_time": "2021-12-14T16:39:37.702Z"
   },
   {
    "duration": 56,
    "start_time": "2021-12-14T16:39:37.710Z"
   },
   {
    "duration": 19,
    "start_time": "2021-12-14T16:39:37.769Z"
   },
   {
    "duration": 5,
    "start_time": "2021-12-14T16:39:37.790Z"
   },
   {
    "duration": 337,
    "start_time": "2021-12-14T16:39:37.797Z"
   },
   {
    "duration": 29,
    "start_time": "2021-12-14T16:39:38.137Z"
   },
   {
    "duration": 8,
    "start_time": "2021-12-14T16:39:38.168Z"
   },
   {
    "duration": 18,
    "start_time": "2021-12-14T16:39:38.179Z"
   },
   {
    "duration": 10,
    "start_time": "2021-12-14T16:39:38.199Z"
   },
   {
    "duration": 27,
    "start_time": "2021-12-14T16:41:09.814Z"
   },
   {
    "duration": 15,
    "start_time": "2021-12-14T16:50:47.485Z"
   },
   {
    "duration": 10,
    "start_time": "2021-12-14T16:51:13.641Z"
   },
   {
    "duration": 8,
    "start_time": "2021-12-14T16:51:14.657Z"
   },
   {
    "duration": 10,
    "start_time": "2021-12-14T16:51:17.468Z"
   },
   {
    "duration": 8,
    "start_time": "2021-12-14T16:51:19.346Z"
   },
   {
    "duration": 8,
    "start_time": "2021-12-14T16:51:21.526Z"
   },
   {
    "duration": 18,
    "start_time": "2021-12-14T16:51:32.876Z"
   },
   {
    "duration": 6,
    "start_time": "2021-12-14T16:51:35.476Z"
   },
   {
    "duration": 4,
    "start_time": "2021-12-14T16:51:40.333Z"
   },
   {
    "duration": 6,
    "start_time": "2021-12-14T16:51:41.115Z"
   },
   {
    "duration": 35,
    "start_time": "2021-12-14T16:51:50.094Z"
   },
   {
    "duration": 16,
    "start_time": "2021-12-14T16:52:23.985Z"
   },
   {
    "duration": 27937,
    "start_time": "2021-12-14T17:24:17.154Z"
   },
   {
    "duration": 2486,
    "start_time": "2021-12-14T17:24:45.094Z"
   },
   {
    "duration": 4,
    "start_time": "2021-12-14T17:24:47.583Z"
   },
   {
    "duration": 7,
    "start_time": "2021-12-14T17:24:47.589Z"
   },
   {
    "duration": 8,
    "start_time": "2021-12-14T17:24:47.598Z"
   },
   {
    "duration": 6,
    "start_time": "2021-12-14T17:24:47.608Z"
   },
   {
    "duration": 231,
    "start_time": "2021-12-14T17:24:47.616Z"
   },
   {
    "duration": 4,
    "start_time": "2021-12-14T17:24:47.851Z"
   },
   {
    "duration": 6,
    "start_time": "2021-12-14T17:24:47.857Z"
   },
   {
    "duration": 8,
    "start_time": "2021-12-14T17:24:47.865Z"
   },
   {
    "duration": 41,
    "start_time": "2021-12-14T17:24:47.876Z"
   },
   {
    "duration": 75,
    "start_time": "2021-12-14T17:24:47.920Z"
   },
   {
    "duration": 94,
    "start_time": "2021-12-14T17:24:47.998Z"
   },
   {
    "duration": 7,
    "start_time": "2021-12-14T17:24:48.095Z"
   },
   {
    "duration": 77,
    "start_time": "2021-12-14T17:24:48.105Z"
   },
   {
    "duration": 17,
    "start_time": "2021-12-14T17:24:48.185Z"
   },
   {
    "duration": 55,
    "start_time": "2021-12-14T17:24:48.205Z"
   },
   {
    "duration": 14,
    "start_time": "2021-12-14T17:24:48.263Z"
   },
   {
    "duration": 25,
    "start_time": "2021-12-14T17:24:48.280Z"
   },
   {
    "duration": 66,
    "start_time": "2021-12-14T17:24:48.307Z"
   },
   {
    "duration": 18,
    "start_time": "2021-12-14T17:24:56.366Z"
   },
   {
    "duration": 5,
    "start_time": "2021-12-14T17:24:57.242Z"
   },
   {
    "duration": 8,
    "start_time": "2021-12-14T17:24:57.633Z"
   },
   {
    "duration": 17,
    "start_time": "2021-12-14T17:24:58.057Z"
   },
   {
    "duration": 6,
    "start_time": "2021-12-14T17:25:41.352Z"
   },
   {
    "duration": 558,
    "start_time": "2021-12-14T17:25:42.152Z"
   },
   {
    "duration": 5,
    "start_time": "2021-12-14T17:25:47.105Z"
   },
   {
    "duration": 9,
    "start_time": "2021-12-14T17:25:57.804Z"
   },
   {
    "duration": 6,
    "start_time": "2021-12-14T17:25:59.444Z"
   },
   {
    "duration": 8,
    "start_time": "2021-12-14T17:26:01.592Z"
   },
   {
    "duration": 3,
    "start_time": "2021-12-14T17:26:12.895Z"
   },
   {
    "duration": 8,
    "start_time": "2021-12-14T17:26:13.117Z"
   },
   {
    "duration": 17,
    "start_time": "2021-12-14T17:26:13.395Z"
   },
   {
    "duration": 4,
    "start_time": "2021-12-14T17:26:13.644Z"
   },
   {
    "duration": 306,
    "start_time": "2021-12-14T17:26:15.253Z"
   },
   {
    "duration": 16,
    "start_time": "2021-12-14T17:26:16.430Z"
   },
   {
    "duration": 16,
    "start_time": "2021-12-14T17:43:17.026Z"
   },
   {
    "duration": 7,
    "start_time": "2021-12-14T17:44:12.844Z"
   },
   {
    "duration": 17,
    "start_time": "2021-12-14T17:44:13.554Z"
   },
   {
    "duration": 8,
    "start_time": "2021-12-14T17:44:26.153Z"
   },
   {
    "duration": 22,
    "start_time": "2021-12-14T17:44:29.255Z"
   },
   {
    "duration": 8,
    "start_time": "2021-12-14T17:44:37.894Z"
   },
   {
    "duration": 8,
    "start_time": "2021-12-14T17:44:39.478Z"
   },
   {
    "duration": 9,
    "start_time": "2021-12-14T17:44:43.537Z"
   },
   {
    "duration": 6,
    "start_time": "2021-12-14T17:44:45.776Z"
   },
   {
    "duration": 103,
    "start_time": "2021-12-14T17:44:46.880Z"
   },
   {
    "duration": 12,
    "start_time": "2021-12-14T17:45:17.351Z"
   },
   {
    "duration": 6,
    "start_time": "2021-12-14T17:45:17.994Z"
   },
   {
    "duration": 4,
    "start_time": "2021-12-14T17:45:21.736Z"
   },
   {
    "duration": 24,
    "start_time": "2021-12-14T17:45:26.831Z"
   },
   {
    "duration": 27277,
    "start_time": "2021-12-14T17:45:51.108Z"
   },
   {
    "duration": 2536,
    "start_time": "2021-12-14T17:46:18.389Z"
   },
   {
    "duration": 5,
    "start_time": "2021-12-14T17:46:20.929Z"
   },
   {
    "duration": 5,
    "start_time": "2021-12-14T17:46:20.938Z"
   },
   {
    "duration": 16,
    "start_time": "2021-12-14T17:46:20.945Z"
   },
   {
    "duration": 5,
    "start_time": "2021-12-14T17:46:20.965Z"
   },
   {
    "duration": 316,
    "start_time": "2021-12-14T17:46:20.973Z"
   },
   {
    "duration": 6,
    "start_time": "2021-12-14T17:46:21.292Z"
   },
   {
    "duration": 5,
    "start_time": "2021-12-14T17:46:21.302Z"
   },
   {
    "duration": 8,
    "start_time": "2021-12-14T17:46:21.310Z"
   },
   {
    "duration": 65,
    "start_time": "2021-12-14T17:46:21.320Z"
   },
   {
    "duration": 78,
    "start_time": "2021-12-14T17:46:21.388Z"
   },
   {
    "duration": 97,
    "start_time": "2021-12-14T17:46:21.468Z"
   },
   {
    "duration": 7,
    "start_time": "2021-12-14T17:46:21.567Z"
   },
   {
    "duration": 30,
    "start_time": "2021-12-14T17:46:21.577Z"
   },
   {
    "duration": 58,
    "start_time": "2021-12-14T17:46:21.610Z"
   },
   {
    "duration": 24,
    "start_time": "2021-12-14T17:46:21.671Z"
   },
   {
    "duration": 14,
    "start_time": "2021-12-14T17:46:21.699Z"
   },
   {
    "duration": 27,
    "start_time": "2021-12-14T17:46:21.761Z"
   },
   {
    "duration": 29,
    "start_time": "2021-12-14T17:46:21.791Z"
   },
   {
    "duration": 18,
    "start_time": "2021-12-14T17:46:21.860Z"
   },
   {
    "duration": 7,
    "start_time": "2021-12-14T17:46:21.880Z"
   },
   {
    "duration": 13,
    "start_time": "2021-12-14T17:46:21.889Z"
   },
   {
    "duration": 17,
    "start_time": "2021-12-14T17:46:21.904Z"
   },
   {
    "duration": 38,
    "start_time": "2021-12-14T17:46:21.923Z"
   },
   {
    "duration": 9,
    "start_time": "2021-12-14T17:46:21.963Z"
   },
   {
    "duration": 10,
    "start_time": "2021-12-14T17:46:21.977Z"
   },
   {
    "duration": 10,
    "start_time": "2021-12-14T17:46:21.990Z"
   },
   {
    "duration": 17,
    "start_time": "2021-12-14T17:46:22.003Z"
   },
   {
    "duration": 7,
    "start_time": "2021-12-14T17:46:22.023Z"
   },
   {
    "duration": 9,
    "start_time": "2021-12-14T17:46:22.060Z"
   },
   {
    "duration": 22,
    "start_time": "2021-12-14T17:46:22.071Z"
   },
   {
    "duration": 4,
    "start_time": "2021-12-14T17:46:22.095Z"
   },
   {
    "duration": 332,
    "start_time": "2021-12-14T17:46:22.101Z"
   },
   {
    "duration": 15,
    "start_time": "2021-12-14T17:46:22.436Z"
   },
   {
    "duration": 6,
    "start_time": "2021-12-14T17:46:22.460Z"
   },
   {
    "duration": 112,
    "start_time": "2021-12-14T17:46:22.468Z"
   },
   {
    "duration": 9,
    "start_time": "2021-12-14T17:46:22.583Z"
   },
   {
    "duration": 23,
    "start_time": "2021-12-14T17:46:22.594Z"
   },
   {
    "duration": 41,
    "start_time": "2021-12-14T17:46:22.619Z"
   },
   {
    "duration": 8,
    "start_time": "2021-12-14T17:46:22.662Z"
   },
   {
    "duration": 10,
    "start_time": "2021-12-14T17:46:22.672Z"
   },
   {
    "duration": 11,
    "start_time": "2021-12-14T17:46:22.685Z"
   },
   {
    "duration": 9,
    "start_time": "2021-12-14T17:46:22.698Z"
   },
   {
    "duration": 54,
    "start_time": "2021-12-14T17:46:22.709Z"
   },
   {
    "duration": 6,
    "start_time": "2021-12-14T17:46:22.766Z"
   },
   {
    "duration": 37423,
    "start_time": "2021-12-14T17:47:00.056Z"
   },
   {
    "duration": 9,
    "start_time": "2021-12-14T17:47:37.483Z"
   },
   {
    "duration": 9,
    "start_time": "2021-12-14T17:47:37.495Z"
   },
   {
    "duration": 5,
    "start_time": "2021-12-14T17:47:37.506Z"
   },
   {
    "duration": 7,
    "start_time": "2021-12-14T17:47:37.513Z"
   },
   {
    "duration": 6,
    "start_time": "2021-12-14T17:47:37.522Z"
   },
   {
    "duration": 224,
    "start_time": "2021-12-14T17:47:37.531Z"
   },
   {
    "duration": 4,
    "start_time": "2021-12-14T17:47:37.759Z"
   },
   {
    "duration": 6,
    "start_time": "2021-12-14T17:47:37.765Z"
   },
   {
    "duration": 6,
    "start_time": "2021-12-14T17:47:37.774Z"
   },
   {
    "duration": 76,
    "start_time": "2021-12-14T17:47:37.782Z"
   },
   {
    "duration": 42,
    "start_time": "2021-12-14T17:47:37.861Z"
   },
   {
    "duration": 89,
    "start_time": "2021-12-14T17:47:37.905Z"
   },
   {
    "duration": 5,
    "start_time": "2021-12-14T17:47:37.996Z"
   },
   {
    "duration": 64,
    "start_time": "2021-12-14T17:47:38.003Z"
   },
   {
    "duration": 16,
    "start_time": "2021-12-14T17:47:38.069Z"
   },
   {
    "duration": 20,
    "start_time": "2021-12-14T17:47:38.087Z"
   },
   {
    "duration": 11,
    "start_time": "2021-12-14T17:47:38.109Z"
   },
   {
    "duration": 27,
    "start_time": "2021-12-14T17:47:38.159Z"
   },
   {
    "duration": 25,
    "start_time": "2021-12-14T17:47:38.188Z"
   },
   {
    "duration": 56,
    "start_time": "2021-12-14T17:47:38.216Z"
   },
   {
    "duration": 7,
    "start_time": "2021-12-14T17:47:38.275Z"
   },
   {
    "duration": 8,
    "start_time": "2021-12-14T17:47:38.290Z"
   },
   {
    "duration": 59,
    "start_time": "2021-12-14T17:47:38.302Z"
   },
   {
    "duration": 9,
    "start_time": "2021-12-14T17:47:38.364Z"
   },
   {
    "duration": 7,
    "start_time": "2021-12-14T17:47:38.375Z"
   },
   {
    "duration": 10,
    "start_time": "2021-12-14T17:47:38.385Z"
   },
   {
    "duration": 7,
    "start_time": "2021-12-14T17:47:38.397Z"
   },
   {
    "duration": 59,
    "start_time": "2021-12-14T17:47:38.407Z"
   },
   {
    "duration": 8,
    "start_time": "2021-12-14T17:47:38.469Z"
   },
   {
    "duration": 13,
    "start_time": "2021-12-14T17:47:38.480Z"
   },
   {
    "duration": 19,
    "start_time": "2021-12-14T17:47:38.495Z"
   },
   {
    "duration": 4,
    "start_time": "2021-12-14T17:47:38.516Z"
   },
   {
    "duration": 338,
    "start_time": "2021-12-14T17:47:38.523Z"
   },
   {
    "duration": 16,
    "start_time": "2021-12-14T17:47:38.863Z"
   },
   {
    "duration": 9,
    "start_time": "2021-12-14T17:47:38.881Z"
   },
   {
    "duration": 23,
    "start_time": "2021-12-14T17:47:38.892Z"
   },
   {
    "duration": 13,
    "start_time": "2021-12-14T17:47:38.918Z"
   },
   {
    "duration": 47,
    "start_time": "2021-12-14T17:47:38.934Z"
   },
   {
    "duration": 8,
    "start_time": "2021-12-14T17:47:38.984Z"
   },
   {
    "duration": 16,
    "start_time": "2021-12-14T17:47:38.994Z"
   },
   {
    "duration": 10,
    "start_time": "2021-12-14T17:47:39.013Z"
   },
   {
    "duration": 7,
    "start_time": "2021-12-14T17:47:39.060Z"
   },
   {
    "duration": 19,
    "start_time": "2021-12-14T17:47:39.070Z"
   },
   {
    "duration": 12,
    "start_time": "2021-12-14T17:49:42.671Z"
   },
   {
    "duration": 6,
    "start_time": "2021-12-14T17:49:47.520Z"
   },
   {
    "duration": 1704,
    "start_time": "2021-12-14T17:49:54.835Z"
   },
   {
    "duration": 4,
    "start_time": "2021-12-14T17:50:02.331Z"
   },
   {
    "duration": 21,
    "start_time": "2021-12-14T17:50:03.372Z"
   },
   {
    "duration": 22,
    "start_time": "2021-12-14T17:50:06.794Z"
   },
   {
    "duration": 25,
    "start_time": "2021-12-14T17:50:14.980Z"
   },
   {
    "duration": 21,
    "start_time": "2021-12-14T17:50:27.928Z"
   },
   {
    "duration": 485,
    "start_time": "2021-12-14T17:50:58.245Z"
   },
   {
    "duration": 366,
    "start_time": "2021-12-14T17:51:37.266Z"
   },
   {
    "duration": 25,
    "start_time": "2021-12-14T17:51:46.282Z"
   },
   {
    "duration": 379,
    "start_time": "2021-12-14T17:52:57.275Z"
   },
   {
    "duration": 18,
    "start_time": "2021-12-14T17:53:05.563Z"
   },
   {
    "duration": 27479,
    "start_time": "2021-12-14T17:57:28.701Z"
   },
   {
    "duration": 10,
    "start_time": "2021-12-14T17:57:56.184Z"
   },
   {
    "duration": 11,
    "start_time": "2021-12-14T17:57:56.197Z"
   },
   {
    "duration": 4,
    "start_time": "2021-12-14T17:57:56.211Z"
   },
   {
    "duration": 11,
    "start_time": "2021-12-14T17:57:56.218Z"
   },
   {
    "duration": 10,
    "start_time": "2021-12-14T17:57:56.232Z"
   },
   {
    "duration": 393,
    "start_time": "2021-12-14T17:57:56.244Z"
   },
   {
    "duration": 4,
    "start_time": "2021-12-14T17:57:56.641Z"
   },
   {
    "duration": 7,
    "start_time": "2021-12-14T17:57:56.648Z"
   },
   {
    "duration": 6,
    "start_time": "2021-12-14T17:57:56.658Z"
   },
   {
    "duration": 41,
    "start_time": "2021-12-14T17:57:56.666Z"
   },
   {
    "duration": 85,
    "start_time": "2021-12-14T17:57:56.709Z"
   },
   {
    "duration": 93,
    "start_time": "2021-12-14T17:57:56.797Z"
   },
   {
    "duration": 5,
    "start_time": "2021-12-14T17:57:56.893Z"
   },
   {
    "duration": 69,
    "start_time": "2021-12-14T17:57:56.901Z"
   },
   {
    "duration": 17,
    "start_time": "2021-12-14T17:57:56.972Z"
   },
   {
    "duration": 19,
    "start_time": "2021-12-14T17:57:56.991Z"
   },
   {
    "duration": 54,
    "start_time": "2021-12-14T17:57:57.013Z"
   },
   {
    "duration": 27,
    "start_time": "2021-12-14T17:57:57.070Z"
   },
   {
    "duration": 62,
    "start_time": "2021-12-14T17:57:57.100Z"
   },
   {
    "duration": 18,
    "start_time": "2021-12-14T17:57:57.164Z"
   },
   {
    "duration": 6,
    "start_time": "2021-12-14T17:57:57.185Z"
   },
   {
    "duration": 8,
    "start_time": "2021-12-14T17:57:57.199Z"
   },
   {
    "duration": 58,
    "start_time": "2021-12-14T17:57:57.210Z"
   },
   {
    "duration": 9,
    "start_time": "2021-12-14T17:57:57.271Z"
   },
   {
    "duration": 7,
    "start_time": "2021-12-14T17:57:57.283Z"
   },
   {
    "duration": 9,
    "start_time": "2021-12-14T17:57:57.293Z"
   },
   {
    "duration": 5,
    "start_time": "2021-12-14T17:57:57.304Z"
   },
   {
    "duration": 50,
    "start_time": "2021-12-14T17:57:57.311Z"
   },
   {
    "duration": 3,
    "start_time": "2021-12-14T17:57:57.363Z"
   },
   {
    "duration": 10,
    "start_time": "2021-12-14T17:57:57.368Z"
   },
   {
    "duration": 19,
    "start_time": "2021-12-14T17:57:57.380Z"
   },
   {
    "duration": 4,
    "start_time": "2021-12-14T17:57:57.401Z"
   },
   {
    "duration": 353,
    "start_time": "2021-12-14T17:57:57.407Z"
   },
   {
    "duration": 17,
    "start_time": "2021-12-14T17:57:57.762Z"
   },
   {
    "duration": 7,
    "start_time": "2021-12-14T17:57:57.782Z"
   },
   {
    "duration": 17,
    "start_time": "2021-12-14T17:57:57.792Z"
   },
   {
    "duration": 49,
    "start_time": "2021-12-14T17:57:57.812Z"
   },
   {
    "duration": 26,
    "start_time": "2021-12-14T17:57:57.863Z"
   },
   {
    "duration": 8,
    "start_time": "2021-12-14T17:57:57.891Z"
   },
   {
    "duration": 10,
    "start_time": "2021-12-14T17:57:57.901Z"
   },
   {
    "duration": 46,
    "start_time": "2021-12-14T17:57:57.913Z"
   },
   {
    "duration": 7,
    "start_time": "2021-12-14T17:57:57.962Z"
   },
   {
    "duration": 9,
    "start_time": "2021-12-14T17:57:57.972Z"
   },
   {
    "duration": 14,
    "start_time": "2021-12-14T17:57:57.984Z"
   },
   {
    "duration": 7,
    "start_time": "2021-12-14T17:57:58.001Z"
   },
   {
    "duration": 5,
    "start_time": "2021-12-14T17:57:58.011Z"
   },
   {
    "duration": 31,
    "start_time": "2021-12-14T17:57:58.060Z"
   },
   {
    "duration": 16,
    "start_time": "2021-12-14T18:00:40.565Z"
   },
   {
    "duration": 22,
    "start_time": "2021-12-14T18:00:53.356Z"
   },
   {
    "duration": 21,
    "start_time": "2021-12-14T18:01:03.081Z"
   },
   {
    "duration": 20,
    "start_time": "2021-12-14T18:01:16.201Z"
   },
   {
    "duration": 17,
    "start_time": "2021-12-14T18:05:35.373Z"
   },
   {
    "duration": 13,
    "start_time": "2021-12-14T18:06:31.076Z"
   },
   {
    "duration": 8,
    "start_time": "2021-12-14T18:07:03.386Z"
   },
   {
    "duration": 13,
    "start_time": "2021-12-14T18:08:05.946Z"
   },
   {
    "duration": 15,
    "start_time": "2021-12-14T18:08:06.808Z"
   },
   {
    "duration": 15,
    "start_time": "2021-12-14T18:08:43.862Z"
   },
   {
    "duration": 8,
    "start_time": "2021-12-14T18:09:17.203Z"
   },
   {
    "duration": 15,
    "start_time": "2021-12-14T18:16:48.914Z"
   },
   {
    "duration": 258,
    "start_time": "2021-12-14T18:17:05.384Z"
   },
   {
    "duration": 27,
    "start_time": "2021-12-14T18:17:06.616Z"
   },
   {
    "duration": 29120,
    "start_time": "2021-12-14T18:17:31.220Z"
   },
   {
    "duration": 10,
    "start_time": "2021-12-14T18:18:00.343Z"
   },
   {
    "duration": 7,
    "start_time": "2021-12-14T18:18:00.356Z"
   },
   {
    "duration": 7,
    "start_time": "2021-12-14T18:18:00.366Z"
   },
   {
    "duration": 10,
    "start_time": "2021-12-14T18:18:00.376Z"
   },
   {
    "duration": 14,
    "start_time": "2021-12-14T18:18:00.388Z"
   },
   {
    "duration": 226,
    "start_time": "2021-12-14T18:18:00.404Z"
   },
   {
    "duration": 4,
    "start_time": "2021-12-14T18:18:00.634Z"
   },
   {
    "duration": 5,
    "start_time": "2021-12-14T18:18:00.642Z"
   },
   {
    "duration": 10,
    "start_time": "2021-12-14T18:18:00.649Z"
   },
   {
    "duration": 39,
    "start_time": "2021-12-14T18:18:00.662Z"
   },
   {
    "duration": 75,
    "start_time": "2021-12-14T18:18:00.704Z"
   },
   {
    "duration": 93,
    "start_time": "2021-12-14T18:18:00.781Z"
   },
   {
    "duration": 7,
    "start_time": "2021-12-14T18:18:00.877Z"
   },
   {
    "duration": 30,
    "start_time": "2021-12-14T18:18:00.887Z"
   },
   {
    "duration": 53,
    "start_time": "2021-12-14T18:18:00.919Z"
   },
   {
    "duration": 21,
    "start_time": "2021-12-14T18:18:00.975Z"
   },
   {
    "duration": 22,
    "start_time": "2021-12-14T18:18:00.999Z"
   },
   {
    "duration": 79,
    "start_time": "2021-12-14T18:18:01.024Z"
   },
   {
    "duration": 31,
    "start_time": "2021-12-14T18:18:01.105Z"
   },
   {
    "duration": 35,
    "start_time": "2021-12-14T18:18:01.139Z"
   },
   {
    "duration": 14,
    "start_time": "2021-12-14T18:18:01.177Z"
   },
   {
    "duration": 9,
    "start_time": "2021-12-14T18:18:01.197Z"
   },
   {
    "duration": 51,
    "start_time": "2021-12-14T18:18:01.209Z"
   },
   {
    "duration": 6,
    "start_time": "2021-12-14T18:18:01.263Z"
   },
   {
    "duration": 16,
    "start_time": "2021-12-14T18:18:01.272Z"
   },
   {
    "duration": 15,
    "start_time": "2021-12-14T18:18:01.291Z"
   },
   {
    "duration": 16,
    "start_time": "2021-12-14T18:18:01.308Z"
   },
   {
    "duration": 21,
    "start_time": "2021-12-14T18:18:01.327Z"
   },
   {
    "duration": 3,
    "start_time": "2021-12-14T18:18:01.359Z"
   },
   {
    "duration": 22,
    "start_time": "2021-12-14T18:18:01.364Z"
   },
   {
    "duration": 20,
    "start_time": "2021-12-14T18:18:01.389Z"
   },
   {
    "duration": 11,
    "start_time": "2021-12-14T18:18:01.412Z"
   },
   {
    "duration": 324,
    "start_time": "2021-12-14T18:18:01.426Z"
   },
   {
    "duration": 19,
    "start_time": "2021-12-14T18:18:01.752Z"
   },
   {
    "duration": 8,
    "start_time": "2021-12-14T18:18:01.774Z"
   },
   {
    "duration": 23,
    "start_time": "2021-12-14T18:18:01.784Z"
   },
   {
    "duration": 14,
    "start_time": "2021-12-14T18:18:01.809Z"
   },
   {
    "duration": 48,
    "start_time": "2021-12-14T18:18:01.826Z"
   },
   {
    "duration": 7,
    "start_time": "2021-12-14T18:18:01.877Z"
   },
   {
    "duration": 27,
    "start_time": "2021-12-14T18:18:01.887Z"
   },
   {
    "duration": 9,
    "start_time": "2021-12-14T18:18:01.916Z"
   },
   {
    "duration": 10,
    "start_time": "2021-12-14T18:18:01.927Z"
   },
   {
    "duration": 26,
    "start_time": "2021-12-14T18:18:01.939Z"
   },
   {
    "duration": 17,
    "start_time": "2021-12-14T18:18:01.967Z"
   },
   {
    "duration": 5,
    "start_time": "2021-12-14T18:18:01.987Z"
   },
   {
    "duration": 12,
    "start_time": "2021-12-14T18:18:01.994Z"
   },
   {
    "duration": 31,
    "start_time": "2021-12-14T18:18:02.008Z"
   },
   {
    "duration": 15,
    "start_time": "2021-12-14T18:18:02.060Z"
   },
   {
    "duration": 22,
    "start_time": "2021-12-14T18:18:02.077Z"
   },
   {
    "duration": 15,
    "start_time": "2021-12-14T18:18:02.101Z"
   },
   {
    "duration": 56,
    "start_time": "2021-12-14T18:18:02.119Z"
   },
   {
    "duration": 12,
    "start_time": "2021-12-14T18:18:02.177Z"
   },
   {
    "duration": 16,
    "start_time": "2021-12-14T18:18:02.191Z"
   },
   {
    "duration": 50,
    "start_time": "2021-12-14T18:18:02.209Z"
   },
   {
    "duration": 381,
    "start_time": "2021-12-14T18:20:29.079Z"
   },
   {
    "duration": 5,
    "start_time": "2021-12-14T18:20:40.528Z"
   },
   {
    "duration": 5,
    "start_time": "2021-12-14T18:20:54.481Z"
   },
   {
    "duration": 17,
    "start_time": "2021-12-14T18:21:15.924Z"
   },
   {
    "duration": 19,
    "start_time": "2021-12-14T18:21:16.655Z"
   },
   {
    "duration": 382,
    "start_time": "2021-12-14T18:22:10.660Z"
   },
   {
    "duration": 17,
    "start_time": "2021-12-14T18:22:19.320Z"
   },
   {
    "duration": 12,
    "start_time": "2021-12-14T18:22:45.506Z"
   },
   {
    "duration": 5,
    "start_time": "2021-12-14T18:24:31.675Z"
   },
   {
    "duration": 13,
    "start_time": "2021-12-14T18:24:32.447Z"
   },
   {
    "duration": 13,
    "start_time": "2021-12-14T18:25:40.447Z"
   },
   {
    "duration": 7,
    "start_time": "2021-12-14T18:26:45.627Z"
   },
   {
    "duration": 12,
    "start_time": "2021-12-14T18:26:46.517Z"
   },
   {
    "duration": 32816,
    "start_time": "2021-12-14T21:02:49.015Z"
   },
   {
    "duration": 11,
    "start_time": "2021-12-14T21:03:21.834Z"
   },
   {
    "duration": 16,
    "start_time": "2021-12-14T21:03:21.848Z"
   },
   {
    "duration": 10,
    "start_time": "2021-12-14T21:03:21.870Z"
   },
   {
    "duration": 8,
    "start_time": "2021-12-14T21:03:21.883Z"
   },
   {
    "duration": 9,
    "start_time": "2021-12-14T21:03:21.894Z"
   },
   {
    "duration": 245,
    "start_time": "2021-12-14T21:03:21.905Z"
   },
   {
    "duration": 5,
    "start_time": "2021-12-14T21:03:22.154Z"
   },
   {
    "duration": 18,
    "start_time": "2021-12-14T21:03:22.164Z"
   },
   {
    "duration": 8,
    "start_time": "2021-12-14T21:03:22.185Z"
   },
   {
    "duration": 40,
    "start_time": "2021-12-14T21:03:22.195Z"
   },
   {
    "duration": 48,
    "start_time": "2021-12-14T21:03:22.263Z"
   },
   {
    "duration": 98,
    "start_time": "2021-12-14T21:03:22.313Z"
   },
   {
    "duration": 5,
    "start_time": "2021-12-14T21:03:22.414Z"
   },
   {
    "duration": 32,
    "start_time": "2021-12-14T21:03:22.464Z"
   },
   {
    "duration": 19,
    "start_time": "2021-12-14T21:03:22.500Z"
   },
   {
    "duration": 69,
    "start_time": "2021-12-14T21:03:22.522Z"
   },
   {
    "duration": 12,
    "start_time": "2021-12-14T21:03:22.593Z"
   },
   {
    "duration": 68,
    "start_time": "2021-12-14T21:03:22.608Z"
   },
   {
    "duration": 27,
    "start_time": "2021-12-14T21:03:22.679Z"
   },
   {
    "duration": 18,
    "start_time": "2021-12-14T21:03:22.708Z"
   },
   {
    "duration": 36,
    "start_time": "2021-12-14T21:03:22.728Z"
   },
   {
    "duration": 16,
    "start_time": "2021-12-14T21:03:22.771Z"
   },
   {
    "duration": 20,
    "start_time": "2021-12-14T21:03:22.790Z"
   },
   {
    "duration": 8,
    "start_time": "2021-12-14T21:03:22.812Z"
   },
   {
    "duration": 175,
    "start_time": "2021-12-14T21:06:42.513Z"
   },
   {
    "duration": 19,
    "start_time": "2021-12-14T21:06:47.124Z"
   },
   {
    "duration": 14,
    "start_time": "2021-12-14T21:07:02.575Z"
   },
   {
    "duration": 23,
    "start_time": "2021-12-14T21:08:04.073Z"
   },
   {
    "duration": 29,
    "start_time": "2021-12-14T21:08:24.950Z"
   },
   {
    "duration": 410,
    "start_time": "2021-12-14T21:09:44.417Z"
   },
   {
    "duration": 22,
    "start_time": "2021-12-14T21:09:47.173Z"
   },
   {
    "duration": 41595,
    "start_time": "2021-12-15T09:11:01.014Z"
   },
   {
    "duration": 2591,
    "start_time": "2021-12-15T09:11:42.611Z"
   },
   {
    "duration": 3,
    "start_time": "2021-12-15T09:11:45.205Z"
   },
   {
    "duration": 7,
    "start_time": "2021-12-15T09:11:45.210Z"
   },
   {
    "duration": 17260,
    "start_time": "2021-12-15T09:54:58.874Z"
   },
   {
    "duration": 1719,
    "start_time": "2021-12-15T09:55:16.136Z"
   },
   {
    "duration": 2,
    "start_time": "2021-12-15T09:55:17.857Z"
   },
   {
    "duration": 5,
    "start_time": "2021-12-15T09:55:17.862Z"
   },
   {
    "duration": 7,
    "start_time": "2021-12-15T09:55:17.868Z"
   },
   {
    "duration": 5,
    "start_time": "2021-12-15T09:55:17.876Z"
   },
   {
    "duration": 178,
    "start_time": "2021-12-15T09:55:17.882Z"
   },
   {
    "duration": 3,
    "start_time": "2021-12-15T09:55:18.063Z"
   },
   {
    "duration": 5,
    "start_time": "2021-12-15T09:55:18.069Z"
   },
   {
    "duration": 6,
    "start_time": "2021-12-15T09:55:18.076Z"
   },
   {
    "duration": 30,
    "start_time": "2021-12-15T09:55:18.084Z"
   },
   {
    "duration": 56,
    "start_time": "2021-12-15T09:55:18.116Z"
   },
   {
    "duration": 37,
    "start_time": "2021-12-15T09:55:18.173Z"
   },
   {
    "duration": 4,
    "start_time": "2021-12-15T09:55:18.212Z"
   },
   {
    "duration": 55,
    "start_time": "2021-12-15T09:55:18.217Z"
   },
   {
    "duration": 10,
    "start_time": "2021-12-15T09:55:18.274Z"
   },
   {
    "duration": 46,
    "start_time": "2021-12-15T09:55:18.285Z"
   },
   {
    "duration": 7,
    "start_time": "2021-12-15T09:55:18.333Z"
   },
   {
    "duration": 18,
    "start_time": "2021-12-15T09:55:18.341Z"
   },
   {
    "duration": 19,
    "start_time": "2021-12-15T09:55:18.361Z"
   },
   {
    "duration": 12,
    "start_time": "2021-12-15T09:55:18.382Z"
   },
   {
    "duration": 5,
    "start_time": "2021-12-15T09:55:18.396Z"
   },
   {
    "duration": 7,
    "start_time": "2021-12-15T09:55:18.405Z"
   },
   {
    "duration": 13,
    "start_time": "2021-12-15T09:55:18.414Z"
   },
   {
    "duration": 40,
    "start_time": "2021-12-15T09:55:18.428Z"
   },
   {
    "duration": 395,
    "start_time": "2021-12-15T09:55:18.469Z"
   },
   {
    "duration": 1594,
    "start_time": "2021-12-15T09:55:17.272Z"
   },
   {
    "duration": 1593,
    "start_time": "2021-12-15T09:55:17.274Z"
   },
   {
    "duration": 1589,
    "start_time": "2021-12-15T09:55:17.279Z"
   },
   {
    "duration": 1587,
    "start_time": "2021-12-15T09:55:17.282Z"
   },
   {
    "duration": 1585,
    "start_time": "2021-12-15T09:55:17.285Z"
   },
   {
    "duration": 1585,
    "start_time": "2021-12-15T09:55:17.286Z"
   },
   {
    "duration": 1584,
    "start_time": "2021-12-15T09:55:17.289Z"
   },
   {
    "duration": 1584,
    "start_time": "2021-12-15T09:55:17.290Z"
   },
   {
    "duration": 1582,
    "start_time": "2021-12-15T09:55:17.293Z"
   },
   {
    "duration": 1581,
    "start_time": "2021-12-15T09:55:17.295Z"
   },
   {
    "duration": 1580,
    "start_time": "2021-12-15T09:55:17.297Z"
   },
   {
    "duration": 1580,
    "start_time": "2021-12-15T09:55:17.298Z"
   },
   {
    "duration": 1579,
    "start_time": "2021-12-15T09:55:17.300Z"
   },
   {
    "duration": 1577,
    "start_time": "2021-12-15T09:55:17.303Z"
   },
   {
    "duration": 1576,
    "start_time": "2021-12-15T09:55:17.305Z"
   },
   {
    "duration": 1575,
    "start_time": "2021-12-15T09:55:17.307Z"
   },
   {
    "duration": 1571,
    "start_time": "2021-12-15T09:55:17.313Z"
   },
   {
    "duration": 1570,
    "start_time": "2021-12-15T09:55:17.315Z"
   },
   {
    "duration": 1568,
    "start_time": "2021-12-15T09:55:17.318Z"
   },
   {
    "duration": 1568,
    "start_time": "2021-12-15T09:55:17.319Z"
   },
   {
    "duration": 1567,
    "start_time": "2021-12-15T09:55:17.322Z"
   },
   {
    "duration": 1494,
    "start_time": "2021-12-15T09:55:17.396Z"
   },
   {
    "duration": 1493,
    "start_time": "2021-12-15T09:55:17.398Z"
   },
   {
    "duration": 1492,
    "start_time": "2021-12-15T09:55:17.400Z"
   },
   {
    "duration": 1490,
    "start_time": "2021-12-15T09:55:17.403Z"
   },
   {
    "duration": 1490,
    "start_time": "2021-12-15T09:55:17.405Z"
   },
   {
    "duration": 1489,
    "start_time": "2021-12-15T09:55:17.407Z"
   },
   {
    "duration": 1480,
    "start_time": "2021-12-15T09:55:17.417Z"
   },
   {
    "duration": 1479,
    "start_time": "2021-12-15T09:55:17.419Z"
   },
   {
    "duration": 1479,
    "start_time": "2021-12-15T09:55:17.420Z"
   },
   {
    "duration": 1479,
    "start_time": "2021-12-15T09:55:17.422Z"
   },
   {
    "duration": 1478,
    "start_time": "2021-12-15T09:55:17.424Z"
   },
   {
    "duration": 1476,
    "start_time": "2021-12-15T09:55:17.427Z"
   },
   {
    "duration": 1476,
    "start_time": "2021-12-15T09:55:17.428Z"
   },
   {
    "duration": 1475,
    "start_time": "2021-12-15T09:55:17.430Z"
   },
   {
    "duration": 1474,
    "start_time": "2021-12-15T09:55:17.432Z"
   },
   {
    "duration": 1528,
    "start_time": "2021-12-15T09:55:17.434Z"
   },
   {
    "duration": 1528,
    "start_time": "2021-12-15T09:55:17.436Z"
   },
   {
    "duration": 4,
    "start_time": "2021-12-15T09:55:36.187Z"
   },
   {
    "duration": 13,
    "start_time": "2021-12-15T09:55:53.346Z"
   },
   {
    "duration": 13,
    "start_time": "2021-12-15T09:55:53.586Z"
   },
   {
    "duration": 6,
    "start_time": "2021-12-15T09:55:54.194Z"
   },
   {
    "duration": 4,
    "start_time": "2021-12-15T09:55:54.362Z"
   },
   {
    "duration": 6,
    "start_time": "2021-12-15T09:55:54.730Z"
   },
   {
    "duration": 3,
    "start_time": "2021-12-15T09:55:55.090Z"
   },
   {
    "duration": 7,
    "start_time": "2021-12-15T09:55:55.282Z"
   },
   {
    "duration": 11,
    "start_time": "2021-12-15T09:55:55.452Z"
   },
   {
    "duration": 3,
    "start_time": "2021-12-15T09:55:55.641Z"
   },
   {
    "duration": 150,
    "start_time": "2021-12-15T09:55:55.842Z"
   },
   {
    "duration": 82,
    "start_time": "2021-12-15T09:55:56.034Z"
   },
   {
    "duration": 6,
    "start_time": "2021-12-15T09:55:56.227Z"
   },
   {
    "duration": 12,
    "start_time": "2021-12-15T09:55:56.410Z"
   },
   {
    "duration": 6,
    "start_time": "2021-12-15T09:55:56.780Z"
   },
   {
    "duration": 15,
    "start_time": "2021-12-15T09:55:56.986Z"
   },
   {
    "duration": 6,
    "start_time": "2021-12-15T09:55:57.379Z"
   },
   {
    "duration": 6,
    "start_time": "2021-12-15T09:55:57.576Z"
   },
   {
    "duration": 6,
    "start_time": "2021-12-15T09:55:57.778Z"
   },
   {
    "duration": 5,
    "start_time": "2021-12-15T09:55:57.985Z"
   },
   {
    "duration": 6,
    "start_time": "2021-12-15T09:55:58.178Z"
   },
   {
    "duration": 9,
    "start_time": "2021-12-15T09:55:58.568Z"
   },
   {
    "duration": 5,
    "start_time": "2021-12-15T09:55:58.768Z"
   },
   {
    "duration": 3,
    "start_time": "2021-12-15T09:55:58.937Z"
   },
   {
    "duration": 12,
    "start_time": "2021-12-15T09:55:59.125Z"
   },
   {
    "duration": 11,
    "start_time": "2021-12-15T09:55:59.305Z"
   },
   {
    "duration": 15,
    "start_time": "2021-12-15T09:55:59.489Z"
   },
   {
    "duration": 10,
    "start_time": "2021-12-15T09:55:59.682Z"
   },
   {
    "duration": 14,
    "start_time": "2021-12-15T09:56:00.049Z"
   },
   {
    "duration": 9,
    "start_time": "2021-12-15T09:56:00.667Z"
   },
   {
    "duration": 10,
    "start_time": "2021-12-15T09:56:01.483Z"
   },
   {
    "duration": 10,
    "start_time": "2021-12-15T09:56:05.746Z"
   },
   {
    "duration": 4,
    "start_time": "2021-12-15T09:56:05.945Z"
   },
   {
    "duration": 13,
    "start_time": "2021-12-15T09:56:06.138Z"
   },
   {
    "duration": 3,
    "start_time": "2021-12-15T09:56:06.330Z"
   },
   {
    "duration": 3,
    "start_time": "2021-12-15T09:56:06.538Z"
   },
   {
    "duration": 8,
    "start_time": "2021-12-15T09:56:06.730Z"
   },
   {
    "duration": 4,
    "start_time": "2021-12-15T09:56:07.090Z"
   },
   {
    "duration": 8,
    "start_time": "2021-12-15T09:57:24.723Z"
   },
   {
    "duration": 302,
    "start_time": "2021-12-15T09:58:29.363Z"
   },
   {
    "duration": 348,
    "start_time": "2021-12-15T09:58:36.584Z"
   },
   {
    "duration": 3,
    "start_time": "2021-12-15T10:00:07.965Z"
   },
   {
    "duration": 26,
    "start_time": "2021-12-15T10:00:32.862Z"
   },
   {
    "duration": 24,
    "start_time": "2021-12-15T10:00:34.157Z"
   },
   {
    "duration": 11,
    "start_time": "2021-12-15T10:01:46.894Z"
   },
   {
    "duration": 8,
    "start_time": "2021-12-15T10:07:44.522Z"
   },
   {
    "duration": 4,
    "start_time": "2021-12-15T10:08:04.589Z"
   },
   {
    "duration": 4,
    "start_time": "2021-12-15T10:08:24.186Z"
   },
   {
    "duration": 82,
    "start_time": "2021-12-15T10:09:04.631Z"
   },
   {
    "duration": 21,
    "start_time": "2021-12-15T10:17:35.052Z"
   },
   {
    "duration": 14,
    "start_time": "2021-12-15T10:18:29.764Z"
   },
   {
    "duration": 20,
    "start_time": "2021-12-15T10:20:57.899Z"
   },
   {
    "duration": 14,
    "start_time": "2021-12-15T10:21:13.207Z"
   },
   {
    "duration": 352,
    "start_time": "2021-12-15T10:25:47.627Z"
   },
   {
    "duration": 15,
    "start_time": "2021-12-15T10:27:45.342Z"
   },
   {
    "duration": 18,
    "start_time": "2021-12-15T10:27:55.367Z"
   },
   {
    "duration": 13,
    "start_time": "2021-12-15T10:28:59.510Z"
   },
   {
    "duration": 10,
    "start_time": "2021-12-15T10:29:23.460Z"
   },
   {
    "duration": 8,
    "start_time": "2021-12-15T10:29:27.219Z"
   },
   {
    "duration": 17676,
    "start_time": "2021-12-15T10:33:13.199Z"
   },
   {
    "duration": 1785,
    "start_time": "2021-12-15T10:33:30.878Z"
   },
   {
    "duration": 4,
    "start_time": "2021-12-15T10:33:32.667Z"
   },
   {
    "duration": 9,
    "start_time": "2021-12-15T10:33:32.673Z"
   },
   {
    "duration": 10,
    "start_time": "2021-12-15T10:33:32.683Z"
   },
   {
    "duration": 12,
    "start_time": "2021-12-15T10:33:32.694Z"
   },
   {
    "duration": 11,
    "start_time": "2021-12-15T10:33:32.708Z"
   },
   {
    "duration": 178,
    "start_time": "2021-12-15T10:33:32.721Z"
   },
   {
    "duration": 3,
    "start_time": "2021-12-15T10:33:32.901Z"
   },
   {
    "duration": 22,
    "start_time": "2021-12-15T10:33:32.905Z"
   },
   {
    "duration": 14,
    "start_time": "2021-12-15T10:33:32.929Z"
   },
   {
    "duration": 52,
    "start_time": "2021-12-15T10:33:32.945Z"
   },
   {
    "duration": 33,
    "start_time": "2021-12-15T10:33:32.999Z"
   },
   {
    "duration": 52,
    "start_time": "2021-12-15T10:33:33.033Z"
   },
   {
    "duration": 4,
    "start_time": "2021-12-15T10:33:33.087Z"
   },
   {
    "duration": 33,
    "start_time": "2021-12-15T10:33:33.092Z"
   },
   {
    "duration": 17,
    "start_time": "2021-12-15T10:33:33.126Z"
   },
   {
    "duration": 38,
    "start_time": "2021-12-15T10:33:33.144Z"
   },
   {
    "duration": 9,
    "start_time": "2021-12-15T10:33:33.183Z"
   },
   {
    "duration": 36,
    "start_time": "2021-12-15T10:33:33.194Z"
   },
   {
    "duration": 26,
    "start_time": "2021-12-15T10:33:33.232Z"
   },
   {
    "duration": 21,
    "start_time": "2021-12-15T10:33:33.260Z"
   },
   {
    "duration": 7,
    "start_time": "2021-12-15T10:33:33.284Z"
   },
   {
    "duration": 26,
    "start_time": "2021-12-15T10:33:33.293Z"
   },
   {
    "duration": 17,
    "start_time": "2021-12-15T10:33:33.321Z"
   },
   {
    "duration": 32,
    "start_time": "2021-12-15T10:33:33.339Z"
   },
   {
    "duration": 13,
    "start_time": "2021-12-15T10:33:33.372Z"
   },
   {
    "duration": 21,
    "start_time": "2021-12-15T10:33:33.386Z"
   },
   {
    "duration": 27,
    "start_time": "2021-12-15T10:33:33.409Z"
   },
   {
    "duration": 63,
    "start_time": "2021-12-15T10:33:33.437Z"
   },
   {
    "duration": 20,
    "start_time": "2021-12-15T10:33:33.502Z"
   },
   {
    "duration": 17,
    "start_time": "2021-12-15T10:33:33.523Z"
   },
   {
    "duration": 20,
    "start_time": "2021-12-15T10:33:33.542Z"
   },
   {
    "duration": 80,
    "start_time": "2021-12-15T10:33:33.564Z"
   },
   {
    "duration": 15,
    "start_time": "2021-12-15T10:33:33.646Z"
   },
   {
    "duration": 14,
    "start_time": "2021-12-15T10:33:33.663Z"
   },
   {
    "duration": 177,
    "start_time": "2021-12-15T10:33:33.678Z"
   },
   {
    "duration": 10,
    "start_time": "2021-12-15T10:33:33.857Z"
   },
   {
    "duration": 22,
    "start_time": "2021-12-15T10:33:33.869Z"
   },
   {
    "duration": 28,
    "start_time": "2021-12-15T10:33:33.893Z"
   },
   {
    "duration": 17,
    "start_time": "2021-12-15T10:33:33.922Z"
   },
   {
    "duration": 33,
    "start_time": "2021-12-15T10:33:33.941Z"
   },
   {
    "duration": 6,
    "start_time": "2021-12-15T10:33:33.977Z"
   },
   {
    "duration": 32,
    "start_time": "2021-12-15T10:33:33.984Z"
   },
   {
    "duration": 18,
    "start_time": "2021-12-15T10:33:34.017Z"
   },
   {
    "duration": 18,
    "start_time": "2021-12-15T10:33:34.037Z"
   },
   {
    "duration": 25,
    "start_time": "2021-12-15T10:33:34.056Z"
   },
   {
    "duration": 10,
    "start_time": "2021-12-15T10:34:52.660Z"
   },
   {
    "duration": 8,
    "start_time": "2021-12-15T10:35:06.720Z"
   },
   {
    "duration": 3,
    "start_time": "2021-12-15T10:35:21.785Z"
   },
   {
    "duration": 13,
    "start_time": "2021-12-15T10:35:24.209Z"
   },
   {
    "duration": 14,
    "start_time": "2021-12-15T10:35:39.452Z"
   },
   {
    "duration": 11,
    "start_time": "2021-12-15T10:36:01.839Z"
   },
   {
    "duration": 10,
    "start_time": "2021-12-15T10:36:57.579Z"
   },
   {
    "duration": 10,
    "start_time": "2021-12-15T10:36:58.243Z"
   },
   {
    "duration": 10,
    "start_time": "2021-12-15T10:37:00.083Z"
   },
   {
    "duration": 379,
    "start_time": "2021-12-15T10:37:40.347Z"
   },
   {
    "duration": 4,
    "start_time": "2021-12-15T10:38:18.148Z"
   },
   {
    "duration": 8,
    "start_time": "2021-12-15T10:38:18.983Z"
   },
   {
    "duration": 10,
    "start_time": "2021-12-15T10:38:28.594Z"
   },
   {
    "duration": 4,
    "start_time": "2021-12-15T10:38:31.640Z"
   },
   {
    "duration": 12,
    "start_time": "2021-12-15T10:38:51.668Z"
   },
   {
    "duration": 3,
    "start_time": "2021-12-15T10:38:53.208Z"
   },
   {
    "duration": 4,
    "start_time": "2021-12-15T10:38:56.140Z"
   },
   {
    "duration": 8,
    "start_time": "2021-12-15T10:39:01.709Z"
   },
   {
    "duration": 4,
    "start_time": "2021-12-15T10:39:54.557Z"
   },
   {
    "duration": 5,
    "start_time": "2021-12-15T10:40:25.030Z"
   },
   {
    "duration": 10,
    "start_time": "2021-12-15T10:40:25.409Z"
   },
   {
    "duration": 24,
    "start_time": "2021-12-15T10:40:45.934Z"
   },
   {
    "duration": 18,
    "start_time": "2021-12-15T10:40:50.223Z"
   },
   {
    "duration": 17,
    "start_time": "2021-12-15T10:41:04.041Z"
   },
   {
    "duration": 3,
    "start_time": "2021-12-15T10:42:42.380Z"
   },
   {
    "duration": 21,
    "start_time": "2021-12-15T10:42:45.486Z"
   },
   {
    "duration": 23,
    "start_time": "2021-12-15T10:42:46.159Z"
   },
   {
    "duration": 13,
    "start_time": "2021-12-15T10:42:56.128Z"
   },
   {
    "duration": 272,
    "start_time": "2021-12-15T10:43:30.298Z"
   },
   {
    "duration": 6,
    "start_time": "2021-12-15T10:43:51.533Z"
   },
   {
    "duration": 4,
    "start_time": "2021-12-15T10:43:52.428Z"
   },
   {
    "duration": 6,
    "start_time": "2021-12-15T10:43:53.932Z"
   },
   {
    "duration": 3,
    "start_time": "2021-12-15T10:46:21.441Z"
   },
   {
    "duration": 5,
    "start_time": "2021-12-15T10:46:54.853Z"
   },
   {
    "duration": 19,
    "start_time": "2021-12-15T10:46:55.943Z"
   },
   {
    "duration": 20,
    "start_time": "2021-12-15T10:47:04.894Z"
   },
   {
    "duration": 5,
    "start_time": "2021-12-15T10:49:37.080Z"
   },
   {
    "duration": 21,
    "start_time": "2021-12-15T10:49:44.313Z"
   },
   {
    "duration": 13,
    "start_time": "2021-12-15T10:59:11.817Z"
   },
   {
    "duration": 19,
    "start_time": "2021-12-15T10:59:13.926Z"
   },
   {
    "duration": 3,
    "start_time": "2021-12-15T10:59:42.074Z"
   },
   {
    "duration": 13,
    "start_time": "2021-12-15T10:59:56.739Z"
   },
   {
    "duration": 21,
    "start_time": "2021-12-15T10:59:59.538Z"
   },
   {
    "duration": 12,
    "start_time": "2021-12-15T11:01:11.763Z"
   },
   {
    "duration": 20,
    "start_time": "2021-12-15T11:01:18.181Z"
   },
   {
    "duration": 4,
    "start_time": "2021-12-15T11:07:17.638Z"
   },
   {
    "duration": 19,
    "start_time": "2021-12-15T11:07:19.465Z"
   },
   {
    "duration": 7,
    "start_time": "2021-12-15T11:08:37.444Z"
   },
   {
    "duration": 12,
    "start_time": "2021-12-15T11:08:44.271Z"
   },
   {
    "duration": 14,
    "start_time": "2021-12-15T11:08:44.886Z"
   },
   {
    "duration": 8,
    "start_time": "2021-12-15T11:08:45.438Z"
   },
   {
    "duration": 8,
    "start_time": "2021-12-15T11:09:52.848Z"
   },
   {
    "duration": 14,
    "start_time": "2021-12-15T11:10:00.459Z"
   },
   {
    "duration": 6,
    "start_time": "2021-12-15T11:11:03.769Z"
   },
   {
    "duration": 14,
    "start_time": "2021-12-15T11:11:04.728Z"
   },
   {
    "duration": 9,
    "start_time": "2021-12-15T11:14:19.663Z"
   },
   {
    "duration": 18245,
    "start_time": "2021-12-15T11:37:49.534Z"
   },
   {
    "duration": 7,
    "start_time": "2021-12-15T11:38:07.781Z"
   },
   {
    "duration": 7,
    "start_time": "2021-12-15T11:38:07.790Z"
   },
   {
    "duration": 5,
    "start_time": "2021-12-15T11:38:07.799Z"
   },
   {
    "duration": 6,
    "start_time": "2021-12-15T11:38:07.805Z"
   },
   {
    "duration": 7,
    "start_time": "2021-12-15T11:38:07.813Z"
   },
   {
    "duration": 8,
    "start_time": "2021-12-15T11:38:07.821Z"
   },
   {
    "duration": 175,
    "start_time": "2021-12-15T11:38:07.831Z"
   },
   {
    "duration": 3,
    "start_time": "2021-12-15T11:38:08.008Z"
   },
   {
    "duration": 7,
    "start_time": "2021-12-15T11:38:08.013Z"
   },
   {
    "duration": 8,
    "start_time": "2021-12-15T11:38:08.021Z"
   },
   {
    "duration": 27,
    "start_time": "2021-12-15T11:38:08.030Z"
   },
   {
    "duration": 25,
    "start_time": "2021-12-15T11:38:08.058Z"
   },
   {
    "duration": 34,
    "start_time": "2021-12-15T11:38:08.084Z"
   },
   {
    "duration": 3,
    "start_time": "2021-12-15T11:38:08.119Z"
   },
   {
    "duration": 50,
    "start_time": "2021-12-15T11:38:08.124Z"
   },
   {
    "duration": 10,
    "start_time": "2021-12-15T11:38:08.175Z"
   },
   {
    "duration": 12,
    "start_time": "2021-12-15T11:38:08.187Z"
   },
   {
    "duration": 8,
    "start_time": "2021-12-15T11:38:08.200Z"
   },
   {
    "duration": 17,
    "start_time": "2021-12-15T11:38:08.210Z"
   },
   {
    "duration": 49,
    "start_time": "2021-12-15T11:38:08.229Z"
   },
   {
    "duration": 11,
    "start_time": "2021-12-15T11:38:08.280Z"
   },
   {
    "duration": 6,
    "start_time": "2021-12-15T11:38:08.294Z"
   },
   {
    "duration": 9,
    "start_time": "2021-12-15T11:38:08.302Z"
   },
   {
    "duration": 14,
    "start_time": "2021-12-15T11:38:08.313Z"
   },
   {
    "duration": 9,
    "start_time": "2021-12-15T11:38:08.328Z"
   },
   {
    "duration": 26,
    "start_time": "2021-12-15T11:38:08.338Z"
   },
   {
    "duration": 13,
    "start_time": "2021-12-15T11:38:08.365Z"
   },
   {
    "duration": 12,
    "start_time": "2021-12-15T11:38:08.379Z"
   },
   {
    "duration": 8,
    "start_time": "2021-12-15T11:38:08.392Z"
   },
   {
    "duration": 8,
    "start_time": "2021-12-15T11:38:08.401Z"
   },
   {
    "duration": 12,
    "start_time": "2021-12-15T11:38:08.410Z"
   },
   {
    "duration": 7,
    "start_time": "2021-12-15T11:38:08.423Z"
   },
   {
    "duration": 10,
    "start_time": "2021-12-15T11:38:08.432Z"
   },
   {
    "duration": 26,
    "start_time": "2021-12-15T11:38:08.444Z"
   },
   {
    "duration": 5,
    "start_time": "2021-12-15T11:38:54.856Z"
   },
   {
    "duration": 4,
    "start_time": "2021-12-15T11:39:17.469Z"
   },
   {
    "duration": 17,
    "start_time": "2021-12-15T11:39:53.970Z"
   },
   {
    "duration": 33,
    "start_time": "2021-12-15T11:41:35.000Z"
   },
   {
    "duration": 18694,
    "start_time": "2021-12-15T11:42:28.141Z"
   },
   {
    "duration": 1987,
    "start_time": "2021-12-15T11:42:46.837Z"
   },
   {
    "duration": 3,
    "start_time": "2021-12-15T11:42:48.825Z"
   },
   {
    "duration": 5,
    "start_time": "2021-12-15T11:42:48.830Z"
   },
   {
    "duration": 5,
    "start_time": "2021-12-15T11:42:48.837Z"
   },
   {
    "duration": 6,
    "start_time": "2021-12-15T11:42:48.844Z"
   },
   {
    "duration": 5,
    "start_time": "2021-12-15T11:42:48.851Z"
   },
   {
    "duration": 191,
    "start_time": "2021-12-15T11:42:48.858Z"
   },
   {
    "duration": 3,
    "start_time": "2021-12-15T11:42:49.051Z"
   },
   {
    "duration": 6,
    "start_time": "2021-12-15T11:42:49.055Z"
   },
   {
    "duration": 8,
    "start_time": "2021-12-15T11:42:49.063Z"
   },
   {
    "duration": 36,
    "start_time": "2021-12-15T11:42:49.073Z"
   },
   {
    "duration": 26,
    "start_time": "2021-12-15T11:42:49.111Z"
   },
   {
    "duration": 75,
    "start_time": "2021-12-15T11:42:49.138Z"
   },
   {
    "duration": 4,
    "start_time": "2021-12-15T11:42:49.215Z"
   },
   {
    "duration": 54,
    "start_time": "2021-12-15T11:42:49.221Z"
   },
   {
    "duration": 17,
    "start_time": "2021-12-15T11:42:49.277Z"
   },
   {
    "duration": 16,
    "start_time": "2021-12-15T11:42:49.297Z"
   },
   {
    "duration": 8,
    "start_time": "2021-12-15T11:42:49.315Z"
   },
   {
    "duration": 52,
    "start_time": "2021-12-15T11:42:49.324Z"
   },
   {
    "duration": 19,
    "start_time": "2021-12-15T11:42:49.378Z"
   },
   {
    "duration": 13,
    "start_time": "2021-12-15T11:42:49.399Z"
   },
   {
    "duration": 4,
    "start_time": "2021-12-15T11:42:49.417Z"
   },
   {
    "duration": 44,
    "start_time": "2021-12-15T11:42:49.424Z"
   },
   {
    "duration": 17,
    "start_time": "2021-12-15T11:42:49.470Z"
   },
   {
    "duration": 6,
    "start_time": "2021-12-15T11:42:49.490Z"
   },
   {
    "duration": 5,
    "start_time": "2021-12-15T11:42:49.499Z"
   },
   {
    "duration": 15,
    "start_time": "2021-12-15T11:42:49.506Z"
   },
   {
    "duration": 42,
    "start_time": "2021-12-15T11:42:49.523Z"
   },
   {
    "duration": 86,
    "start_time": "2021-12-15T11:42:49.567Z"
   },
   {
    "duration": 5,
    "start_time": "2021-12-15T11:42:49.663Z"
   },
   {
    "duration": 8,
    "start_time": "2021-12-15T11:42:49.670Z"
   },
   {
    "duration": 3,
    "start_time": "2021-12-15T11:42:49.680Z"
   },
   {
    "duration": 12,
    "start_time": "2021-12-15T11:42:49.685Z"
   },
   {
    "duration": 12,
    "start_time": "2021-12-15T11:42:49.699Z"
   },
   {
    "duration": 60,
    "start_time": "2021-12-15T11:42:49.713Z"
   },
   {
    "duration": 4,
    "start_time": "2021-12-15T11:42:49.775Z"
   },
   {
    "duration": 164,
    "start_time": "2021-12-15T11:42:49.780Z"
   },
   {
    "duration": 11,
    "start_time": "2021-12-15T11:42:49.946Z"
   },
   {
    "duration": 7,
    "start_time": "2021-12-15T11:42:49.963Z"
   },
   {
    "duration": 26,
    "start_time": "2021-12-15T11:42:49.972Z"
   },
   {
    "duration": 15,
    "start_time": "2021-12-15T11:42:50.000Z"
   },
   {
    "duration": 23,
    "start_time": "2021-12-15T11:42:50.017Z"
   },
   {
    "duration": 5,
    "start_time": "2021-12-15T11:42:50.042Z"
   },
   {
    "duration": 16,
    "start_time": "2021-12-15T11:42:50.049Z"
   },
   {
    "duration": 12,
    "start_time": "2021-12-15T11:42:50.066Z"
   },
   {
    "duration": 15,
    "start_time": "2021-12-15T11:42:50.079Z"
   },
   {
    "duration": 15,
    "start_time": "2021-12-15T11:42:50.096Z"
   },
   {
    "duration": 28,
    "start_time": "2021-12-15T11:42:50.113Z"
   },
   {
    "duration": 6,
    "start_time": "2021-12-15T11:42:50.143Z"
   },
   {
    "duration": 22,
    "start_time": "2021-12-15T11:42:50.150Z"
   },
   {
    "duration": 19,
    "start_time": "2021-12-15T11:42:50.174Z"
   },
   {
    "duration": 18,
    "start_time": "2021-12-15T11:42:50.196Z"
   },
   {
    "duration": 8,
    "start_time": "2021-12-15T11:42:50.216Z"
   },
   {
    "duration": 17,
    "start_time": "2021-12-15T11:42:50.226Z"
   },
   {
    "duration": 19,
    "start_time": "2021-12-15T11:42:50.244Z"
   },
   {
    "duration": 17,
    "start_time": "2021-12-15T11:42:50.265Z"
   },
   {
    "duration": 16,
    "start_time": "2021-12-15T11:42:50.285Z"
   },
   {
    "duration": 18,
    "start_time": "2021-12-15T11:42:50.303Z"
   },
   {
    "duration": 22,
    "start_time": "2021-12-15T11:42:50.323Z"
   },
   {
    "duration": 5,
    "start_time": "2021-12-15T11:42:50.347Z"
   },
   {
    "duration": 11,
    "start_time": "2021-12-15T11:42:50.353Z"
   },
   {
    "duration": 15,
    "start_time": "2021-12-15T11:42:50.366Z"
   },
   {
    "duration": 10,
    "start_time": "2021-12-15T11:42:50.383Z"
   },
   {
    "duration": 24,
    "start_time": "2021-12-15T11:42:50.395Z"
   },
   {
    "duration": 15,
    "start_time": "2021-12-15T11:42:50.420Z"
   },
   {
    "duration": 25,
    "start_time": "2021-12-15T11:42:50.436Z"
   },
   {
    "duration": 74,
    "start_time": "2021-12-15T11:42:50.468Z"
   },
   {
    "duration": 12,
    "start_time": "2021-12-15T11:42:50.544Z"
   },
   {
    "duration": 10,
    "start_time": "2021-12-15T11:42:50.558Z"
   },
   {
    "duration": 13,
    "start_time": "2021-12-15T11:42:50.570Z"
   },
   {
    "duration": 14,
    "start_time": "2021-12-15T11:42:50.586Z"
   },
   {
    "duration": 36,
    "start_time": "2021-12-15T11:42:50.602Z"
   },
   {
    "duration": 21,
    "start_time": "2021-12-15T11:42:50.640Z"
   },
   {
    "duration": 17,
    "start_time": "2021-12-15T11:42:50.663Z"
   },
   {
    "duration": 16,
    "start_time": "2021-12-15T11:42:50.682Z"
   },
   {
    "duration": 23,
    "start_time": "2021-12-15T11:42:50.699Z"
   },
   {
    "duration": 18902,
    "start_time": "2021-12-15T11:45:41.421Z"
   },
   {
    "duration": 7,
    "start_time": "2021-12-15T11:46:00.325Z"
   },
   {
    "duration": 28,
    "start_time": "2021-12-15T11:46:00.334Z"
   },
   {
    "duration": 24,
    "start_time": "2021-12-15T11:46:00.364Z"
   },
   {
    "duration": 12,
    "start_time": "2021-12-15T11:46:00.389Z"
   },
   {
    "duration": 17,
    "start_time": "2021-12-15T11:46:00.403Z"
   },
   {
    "duration": 8,
    "start_time": "2021-12-15T11:46:00.422Z"
   },
   {
    "duration": 681,
    "start_time": "2021-12-15T11:46:00.433Z"
   },
   {
    "duration": 4,
    "start_time": "2021-12-15T11:46:01.116Z"
   },
   {
    "duration": 14,
    "start_time": "2021-12-15T11:46:01.122Z"
   },
   {
    "duration": 21,
    "start_time": "2021-12-15T11:46:01.138Z"
   },
   {
    "duration": 51,
    "start_time": "2021-12-15T11:46:01.161Z"
   },
   {
    "duration": 48,
    "start_time": "2021-12-15T11:46:01.213Z"
   },
   {
    "duration": 42,
    "start_time": "2021-12-15T11:46:01.263Z"
   },
   {
    "duration": 5,
    "start_time": "2021-12-15T11:46:01.307Z"
   },
   {
    "duration": 66,
    "start_time": "2021-12-15T11:46:01.314Z"
   },
   {
    "duration": 14,
    "start_time": "2021-12-15T11:46:01.382Z"
   },
   {
    "duration": 31,
    "start_time": "2021-12-15T11:46:01.398Z"
   },
   {
    "duration": 21,
    "start_time": "2021-12-15T11:46:01.431Z"
   },
   {
    "duration": 26,
    "start_time": "2021-12-15T11:46:01.454Z"
   },
   {
    "duration": 18,
    "start_time": "2021-12-15T11:46:01.482Z"
   },
   {
    "duration": 15,
    "start_time": "2021-12-15T11:46:01.501Z"
   },
   {
    "duration": 18,
    "start_time": "2021-12-15T11:46:01.520Z"
   },
   {
    "duration": 52,
    "start_time": "2021-12-15T11:46:01.541Z"
   },
   {
    "duration": 47,
    "start_time": "2021-12-15T11:46:01.595Z"
   },
   {
    "duration": 11,
    "start_time": "2021-12-15T11:46:01.644Z"
   },
   {
    "duration": 18,
    "start_time": "2021-12-15T11:46:01.657Z"
   },
   {
    "duration": 24,
    "start_time": "2021-12-15T11:46:01.677Z"
   },
   {
    "duration": 16,
    "start_time": "2021-12-15T11:46:01.703Z"
   },
   {
    "duration": 6,
    "start_time": "2021-12-15T11:46:01.721Z"
   },
   {
    "duration": 51,
    "start_time": "2021-12-15T11:46:01.729Z"
   },
   {
    "duration": 12,
    "start_time": "2021-12-15T11:46:01.782Z"
   },
   {
    "duration": 13,
    "start_time": "2021-12-15T11:46:01.795Z"
   },
   {
    "duration": 43,
    "start_time": "2021-12-15T11:46:01.810Z"
   },
   {
    "duration": 20,
    "start_time": "2021-12-15T11:46:01.855Z"
   },
   {
    "duration": 65,
    "start_time": "2021-12-15T11:46:01.876Z"
   },
   {
    "duration": 34,
    "start_time": "2021-12-15T11:46:01.943Z"
   },
   {
    "duration": 167,
    "start_time": "2021-12-15T11:46:01.978Z"
   },
   {
    "duration": 9,
    "start_time": "2021-12-15T11:46:02.147Z"
   },
   {
    "duration": 11,
    "start_time": "2021-12-15T11:46:02.158Z"
   },
   {
    "duration": 17,
    "start_time": "2021-12-15T11:46:02.170Z"
   },
   {
    "duration": 13,
    "start_time": "2021-12-15T11:46:02.188Z"
   },
   {
    "duration": 21,
    "start_time": "2021-12-15T11:46:02.203Z"
   },
   {
    "duration": 5,
    "start_time": "2021-12-15T11:46:02.226Z"
   },
   {
    "duration": 9,
    "start_time": "2021-12-15T11:46:02.233Z"
   },
   {
    "duration": 13,
    "start_time": "2021-12-15T11:46:02.243Z"
   },
   {
    "duration": 9,
    "start_time": "2021-12-15T11:46:02.263Z"
   },
   {
    "duration": 19,
    "start_time": "2021-12-15T11:46:02.273Z"
   },
   {
    "duration": 29,
    "start_time": "2021-12-15T11:46:02.294Z"
   },
   {
    "duration": 7,
    "start_time": "2021-12-15T11:46:02.325Z"
   },
   {
    "duration": 22,
    "start_time": "2021-12-15T11:46:02.333Z"
   },
   {
    "duration": 14,
    "start_time": "2021-12-15T11:46:02.357Z"
   },
   {
    "duration": 23,
    "start_time": "2021-12-15T11:46:02.373Z"
   },
   {
    "duration": 27,
    "start_time": "2021-12-15T11:46:02.398Z"
   },
   {
    "duration": 14,
    "start_time": "2021-12-15T11:46:02.427Z"
   },
   {
    "duration": 14,
    "start_time": "2021-12-15T11:46:02.442Z"
   },
   {
    "duration": 17,
    "start_time": "2021-12-15T11:46:02.458Z"
   },
   {
    "duration": 20,
    "start_time": "2021-12-15T11:46:02.477Z"
   },
   {
    "duration": 15,
    "start_time": "2021-12-15T11:46:02.499Z"
   },
   {
    "duration": 18,
    "start_time": "2021-12-15T11:46:02.516Z"
   },
   {
    "duration": 4,
    "start_time": "2021-12-15T11:46:02.536Z"
   },
   {
    "duration": 27,
    "start_time": "2021-12-15T11:46:02.541Z"
   },
   {
    "duration": 31,
    "start_time": "2021-12-15T11:46:02.569Z"
   },
   {
    "duration": 18,
    "start_time": "2021-12-15T11:46:02.602Z"
   },
   {
    "duration": 22,
    "start_time": "2021-12-15T11:46:02.621Z"
   },
   {
    "duration": 11,
    "start_time": "2021-12-15T11:46:02.645Z"
   },
   {
    "duration": 25,
    "start_time": "2021-12-15T11:46:02.658Z"
   },
   {
    "duration": 15,
    "start_time": "2021-12-15T11:46:02.688Z"
   },
   {
    "duration": 13,
    "start_time": "2021-12-15T11:46:02.705Z"
   },
   {
    "duration": 8,
    "start_time": "2021-12-15T11:46:02.719Z"
   },
   {
    "duration": 12,
    "start_time": "2021-12-15T11:46:02.728Z"
   },
   {
    "duration": 22,
    "start_time": "2021-12-15T11:46:02.742Z"
   },
   {
    "duration": 5,
    "start_time": "2021-12-15T11:48:06.802Z"
   },
   {
    "duration": 378,
    "start_time": "2021-12-15T11:50:24.078Z"
   },
   {
    "duration": 3,
    "start_time": "2021-12-15T11:50:26.912Z"
   },
   {
    "duration": 812,
    "start_time": "2021-12-15T11:50:27.400Z"
   },
   {
    "duration": 4,
    "start_time": "2021-12-15T11:51:58.081Z"
   },
   {
    "duration": 4,
    "start_time": "2021-12-15T11:51:59.128Z"
   },
   {
    "duration": 8,
    "start_time": "2021-12-15T11:52:03.218Z"
   },
   {
    "duration": 20,
    "start_time": "2021-12-15T11:52:12.405Z"
   },
   {
    "duration": 4,
    "start_time": "2021-12-15T11:52:29.553Z"
   },
   {
    "duration": 10,
    "start_time": "2021-12-15T11:52:37.902Z"
   },
   {
    "duration": 27,
    "start_time": "2021-12-15T11:52:39.359Z"
   },
   {
    "duration": 22,
    "start_time": "2021-12-15T11:52:55.651Z"
   },
   {
    "duration": 3,
    "start_time": "2021-12-15T11:54:22.431Z"
   },
   {
    "duration": 4,
    "start_time": "2021-12-15T11:54:24.254Z"
   },
   {
    "duration": 7,
    "start_time": "2021-12-15T11:54:26.310Z"
   },
   {
    "duration": 30,
    "start_time": "2021-12-15T11:54:27.062Z"
   },
   {
    "duration": 8,
    "start_time": "2021-12-15T11:54:41.146Z"
   },
   {
    "duration": 274,
    "start_time": "2021-12-15T11:54:50.114Z"
   },
   {
    "duration": 5,
    "start_time": "2021-12-15T11:55:07.104Z"
   },
   {
    "duration": 2,
    "start_time": "2021-12-15T11:57:14.453Z"
   },
   {
    "duration": 3,
    "start_time": "2021-12-15T11:57:14.952Z"
   },
   {
    "duration": 7,
    "start_time": "2021-12-15T11:57:15.477Z"
   },
   {
    "duration": 5,
    "start_time": "2021-12-15T11:57:15.973Z"
   },
   {
    "duration": 8,
    "start_time": "2021-12-15T11:57:16.761Z"
   },
   {
    "duration": 7,
    "start_time": "2021-12-15T11:57:30.237Z"
   },
   {
    "duration": 18,
    "start_time": "2021-12-15T11:57:48.590Z"
   },
   {
    "duration": 13,
    "start_time": "2021-12-15T11:57:49.614Z"
   },
   {
    "duration": 8,
    "start_time": "2021-12-15T11:57:50.074Z"
   },
   {
    "duration": 7,
    "start_time": "2021-12-15T11:58:01.173Z"
   },
   {
    "duration": 15,
    "start_time": "2021-12-15T11:58:02.537Z"
   },
   {
    "duration": 8,
    "start_time": "2021-12-15T11:59:08.917Z"
   },
   {
    "duration": 14,
    "start_time": "2021-12-15T11:59:09.608Z"
   },
   {
    "duration": 8,
    "start_time": "2021-12-15T11:59:31.797Z"
   },
   {
    "duration": 14,
    "start_time": "2021-12-15T11:59:32.119Z"
   },
   {
    "duration": 293,
    "start_time": "2021-12-15T19:51:32.515Z"
   },
   {
    "duration": 1226,
    "start_time": "2021-12-15T19:51:42.729Z"
   },
   {
    "duration": 319,
    "start_time": "2021-12-15T19:52:57.334Z"
   },
   {
    "duration": 314,
    "start_time": "2021-12-15T19:53:03.066Z"
   },
   {
    "duration": 348,
    "start_time": "2021-12-15T19:53:58.219Z"
   },
   {
    "duration": 6,
    "start_time": "2021-12-15T20:11:28.153Z"
   },
   {
    "duration": 57,
    "start_time": "2021-12-15T20:16:41.216Z"
   },
   {
    "duration": 19,
    "start_time": "2021-12-15T20:17:26.305Z"
   },
   {
    "duration": 311,
    "start_time": "2021-12-15T20:18:46.807Z"
   },
   {
    "duration": 166231,
    "start_time": "2021-12-15T20:18:58.278Z"
   },
   {
    "duration": 36,
    "start_time": "2021-12-15T20:24:16.015Z"
   },
   {
    "duration": 267,
    "start_time": "2021-12-15T20:26:19.457Z"
   },
   {
    "duration": 13,
    "start_time": "2021-12-15T20:26:22.987Z"
   },
   {
    "duration": 30,
    "start_time": "2021-12-15T20:26:48.576Z"
   },
   {
    "duration": 17,
    "start_time": "2021-12-15T21:13:47.728Z"
   },
   {
    "duration": 30,
    "start_time": "2021-12-15T21:13:53.791Z"
   },
   {
    "duration": 44625,
    "start_time": "2021-12-16T16:12:19.144Z"
   },
   {
    "duration": 1913,
    "start_time": "2021-12-16T16:13:03.771Z"
   },
   {
    "duration": 4,
    "start_time": "2021-12-16T16:13:49.607Z"
   },
   {
    "duration": 3,
    "start_time": "2021-12-16T16:13:49.829Z"
   },
   {
    "duration": 3,
    "start_time": "2021-12-16T16:13:50.028Z"
   },
   {
    "duration": 3,
    "start_time": "2021-12-16T16:13:50.843Z"
   },
   {
    "duration": 3,
    "start_time": "2021-12-16T16:13:51.900Z"
   },
   {
    "duration": 179,
    "start_time": "2021-12-16T16:13:53.412Z"
   },
   {
    "duration": 4,
    "start_time": "2021-12-16T16:13:55.523Z"
   },
   {
    "duration": 4,
    "start_time": "2021-12-16T16:13:56.960Z"
   },
   {
    "duration": 3,
    "start_time": "2021-12-16T16:14:01.152Z"
   },
   {
    "duration": 26,
    "start_time": "2021-12-16T16:14:02.908Z"
   },
   {
    "duration": 26,
    "start_time": "2021-12-16T16:14:09.778Z"
   },
   {
    "duration": 31,
    "start_time": "2021-12-16T16:14:13.622Z"
   },
   {
    "duration": 30,
    "start_time": "2021-12-16T16:14:20.406Z"
   },
   {
    "duration": 91,
    "start_time": "2021-12-16T16:14:34.508Z"
   },
   {
    "duration": 30,
    "start_time": "2021-12-16T16:14:40.863Z"
   },
   {
    "duration": 35,
    "start_time": "2021-12-16T16:14:56.820Z"
   },
   {
    "duration": 12,
    "start_time": "2021-12-16T16:16:22.025Z"
   },
   {
    "duration": 13,
    "start_time": "2021-12-16T16:16:25.079Z"
   },
   {
    "duration": 8,
    "start_time": "2021-12-16T16:16:33.030Z"
   },
   {
    "duration": 18,
    "start_time": "2021-12-16T16:16:38.717Z"
   },
   {
    "duration": 23,
    "start_time": "2021-12-16T16:16:45.327Z"
   },
   {
    "duration": 21,
    "start_time": "2021-12-16T16:18:03.742Z"
   },
   {
    "duration": 14,
    "start_time": "2021-12-16T16:18:15.382Z"
   },
   {
    "duration": 6,
    "start_time": "2021-12-16T16:20:09.673Z"
   },
   {
    "duration": 21,
    "start_time": "2021-12-16T16:20:22.215Z"
   },
   {
    "duration": 17,
    "start_time": "2021-12-16T16:20:23.214Z"
   },
   {
    "duration": 16,
    "start_time": "2021-12-16T16:20:34.988Z"
   },
   {
    "duration": 6,
    "start_time": "2021-12-16T16:23:50.264Z"
   },
   {
    "duration": 4,
    "start_time": "2021-12-16T16:24:14.124Z"
   },
   {
    "duration": 5484,
    "start_time": "2021-12-16T16:24:33.588Z"
   },
   {
    "duration": 253,
    "start_time": "2021-12-16T16:24:56.337Z"
   },
   {
    "duration": 4397,
    "start_time": "2021-12-16T16:25:49.016Z"
   },
   {
    "duration": 236,
    "start_time": "2021-12-16T16:26:50.674Z"
   },
   {
    "duration": 8,
    "start_time": "2021-12-16T16:26:58.043Z"
   },
   {
    "duration": 23,
    "start_time": "2021-12-16T16:27:07.206Z"
   },
   {
    "duration": 12,
    "start_time": "2021-12-16T16:27:29.414Z"
   },
   {
    "duration": 6,
    "start_time": "2021-12-16T16:27:30.159Z"
   },
   {
    "duration": 20,
    "start_time": "2021-12-16T16:31:16.887Z"
   },
   {
    "duration": 16,
    "start_time": "2021-12-16T16:32:32.592Z"
   },
   {
    "duration": 10,
    "start_time": "2021-12-16T16:38:16.994Z"
   },
   {
    "duration": 16,
    "start_time": "2021-12-16T16:38:17.977Z"
   },
   {
    "duration": 15,
    "start_time": "2021-12-16T16:39:15.433Z"
   },
   {
    "duration": 7,
    "start_time": "2021-12-16T16:41:13.941Z"
   },
   {
    "duration": 9,
    "start_time": "2021-12-16T16:41:14.701Z"
   },
   {
    "duration": 18,
    "start_time": "2021-12-16T16:41:15.340Z"
   },
   {
    "duration": 7,
    "start_time": "2021-12-16T16:42:02.079Z"
   },
   {
    "duration": 9,
    "start_time": "2021-12-16T16:42:02.695Z"
   },
   {
    "duration": 15,
    "start_time": "2021-12-16T16:42:03.330Z"
   },
   {
    "duration": 6,
    "start_time": "2021-12-16T16:42:48.254Z"
   },
   {
    "duration": 334,
    "start_time": "2021-12-16T17:20:53.335Z"
   },
   {
    "duration": 237,
    "start_time": "2021-12-16T17:21:03.967Z"
   },
   {
    "duration": 265,
    "start_time": "2021-12-16T17:21:08.293Z"
   },
   {
    "duration": 5,
    "start_time": "2021-12-16T17:21:16.397Z"
   },
   {
    "duration": 5,
    "start_time": "2021-12-16T17:21:31.748Z"
   },
   {
    "duration": 35,
    "start_time": "2021-12-16T17:22:48.032Z"
   },
   {
    "duration": 18,
    "start_time": "2021-12-16T17:22:53.914Z"
   },
   {
    "duration": 18,
    "start_time": "2021-12-16T17:28:44.268Z"
   },
   {
    "duration": 18,
    "start_time": "2021-12-16T17:28:46.828Z"
   },
   {
    "duration": 4,
    "start_time": "2021-12-16T17:29:04.717Z"
   },
   {
    "duration": 21,
    "start_time": "2021-12-16T17:29:13.698Z"
   },
   {
    "duration": 8,
    "start_time": "2021-12-16T17:29:25.044Z"
   },
   {
    "duration": 3,
    "start_time": "2021-12-16T17:29:26.514Z"
   },
   {
    "duration": 18,
    "start_time": "2021-12-16T17:29:33.961Z"
   },
   {
    "duration": 20931,
    "start_time": "2021-12-16T17:29:58.420Z"
   },
   {
    "duration": 6,
    "start_time": "2021-12-16T17:30:19.353Z"
   },
   {
    "duration": 6,
    "start_time": "2021-12-16T17:30:19.361Z"
   },
   {
    "duration": 4,
    "start_time": "2021-12-16T17:30:19.369Z"
   },
   {
    "duration": 5,
    "start_time": "2021-12-16T17:30:19.375Z"
   },
   {
    "duration": 5,
    "start_time": "2021-12-16T17:30:19.381Z"
   },
   {
    "duration": 5,
    "start_time": "2021-12-16T17:30:19.388Z"
   },
   {
    "duration": 169,
    "start_time": "2021-12-16T17:30:19.396Z"
   },
   {
    "duration": 4,
    "start_time": "2021-12-16T17:30:19.567Z"
   },
   {
    "duration": 6,
    "start_time": "2021-12-16T17:30:19.573Z"
   },
   {
    "duration": 5,
    "start_time": "2021-12-16T17:30:19.581Z"
   },
   {
    "duration": 37,
    "start_time": "2021-12-16T17:30:19.588Z"
   },
   {
    "duration": 72,
    "start_time": "2021-12-16T17:30:19.627Z"
   },
   {
    "duration": 4,
    "start_time": "2021-12-16T17:30:19.700Z"
   },
   {
    "duration": 18,
    "start_time": "2021-12-16T17:30:19.705Z"
   },
   {
    "duration": 10,
    "start_time": "2021-12-16T17:30:19.724Z"
   },
   {
    "duration": 12,
    "start_time": "2021-12-16T17:30:19.736Z"
   },
   {
    "duration": 40,
    "start_time": "2021-12-16T17:30:19.749Z"
   },
   {
    "duration": 19,
    "start_time": "2021-12-16T17:30:19.791Z"
   },
   {
    "duration": 18,
    "start_time": "2021-12-16T17:30:19.812Z"
   },
   {
    "duration": 22,
    "start_time": "2021-12-16T17:30:19.832Z"
   },
   {
    "duration": 45,
    "start_time": "2021-12-16T17:30:19.856Z"
   },
   {
    "duration": 19,
    "start_time": "2021-12-16T17:30:19.905Z"
   },
   {
    "duration": 5,
    "start_time": "2021-12-16T17:30:19.926Z"
   },
   {
    "duration": 13,
    "start_time": "2021-12-16T17:30:19.933Z"
   },
   {
    "duration": 30,
    "start_time": "2021-12-16T17:30:19.948Z"
   },
   {
    "duration": 16,
    "start_time": "2021-12-16T17:30:19.980Z"
   },
   {
    "duration": 51,
    "start_time": "2021-12-16T17:30:19.998Z"
   },
   {
    "duration": 4,
    "start_time": "2021-12-16T17:30:20.051Z"
   },
   {
    "duration": 9,
    "start_time": "2021-12-16T17:31:00.470Z"
   },
   {
    "duration": 17104,
    "start_time": "2021-12-16T17:31:36.473Z"
   },
   {
    "duration": 6,
    "start_time": "2021-12-16T17:31:53.578Z"
   },
   {
    "duration": 7,
    "start_time": "2021-12-16T17:31:53.586Z"
   },
   {
    "duration": 5,
    "start_time": "2021-12-16T17:31:53.594Z"
   },
   {
    "duration": 5,
    "start_time": "2021-12-16T17:31:53.600Z"
   },
   {
    "duration": 5,
    "start_time": "2021-12-16T17:31:53.606Z"
   },
   {
    "duration": 5,
    "start_time": "2021-12-16T17:31:53.612Z"
   },
   {
    "duration": 163,
    "start_time": "2021-12-16T17:31:53.619Z"
   },
   {
    "duration": 3,
    "start_time": "2021-12-16T17:31:53.784Z"
   },
   {
    "duration": 5,
    "start_time": "2021-12-16T17:31:53.789Z"
   },
   {
    "duration": 5,
    "start_time": "2021-12-16T17:31:53.796Z"
   },
   {
    "duration": 44,
    "start_time": "2021-12-16T17:31:53.803Z"
   },
   {
    "duration": 67,
    "start_time": "2021-12-16T17:31:53.849Z"
   },
   {
    "duration": 5,
    "start_time": "2021-12-16T17:31:53.918Z"
   },
   {
    "duration": 19,
    "start_time": "2021-12-16T17:31:53.925Z"
   },
   {
    "duration": 45,
    "start_time": "2021-12-16T17:31:53.946Z"
   },
   {
    "duration": 13,
    "start_time": "2021-12-16T17:31:53.992Z"
   },
   {
    "duration": 8,
    "start_time": "2021-12-16T17:31:54.007Z"
   },
   {
    "duration": 17,
    "start_time": "2021-12-16T17:31:54.016Z"
   },
   {
    "duration": 17,
    "start_time": "2021-12-16T17:31:54.035Z"
   },
   {
    "duration": 57,
    "start_time": "2021-12-16T17:31:54.053Z"
   },
   {
    "duration": 14,
    "start_time": "2021-12-16T17:31:54.111Z"
   },
   {
    "duration": 16,
    "start_time": "2021-12-16T17:31:54.128Z"
   },
   {
    "duration": 5,
    "start_time": "2021-12-16T17:31:54.146Z"
   },
   {
    "duration": 8,
    "start_time": "2021-12-16T17:31:54.152Z"
   },
   {
    "duration": 30,
    "start_time": "2021-12-16T17:31:54.161Z"
   },
   {
    "duration": 5,
    "start_time": "2021-12-16T17:31:54.192Z"
   },
   {
    "duration": 40,
    "start_time": "2021-12-16T17:31:54.199Z"
   },
   {
    "duration": 18,
    "start_time": "2021-12-16T17:32:12.006Z"
   },
   {
    "duration": 6,
    "start_time": "2021-12-16T17:33:58.248Z"
   },
   {
    "duration": 3,
    "start_time": "2021-12-16T17:33:59.217Z"
   },
   {
    "duration": 17,
    "start_time": "2021-12-16T17:34:04.151Z"
   },
   {
    "duration": 6,
    "start_time": "2021-12-16T17:34:56.252Z"
   },
   {
    "duration": 13,
    "start_time": "2021-12-16T17:35:02.054Z"
   },
   {
    "duration": 14,
    "start_time": "2021-12-16T17:35:49.543Z"
   },
   {
    "duration": 14,
    "start_time": "2021-12-16T17:35:56.243Z"
   },
   {
    "duration": 114,
    "start_time": "2021-12-16T17:44:04.854Z"
   },
   {
    "duration": 241,
    "start_time": "2021-12-16T17:44:08.727Z"
   },
   {
    "duration": 236,
    "start_time": "2021-12-16T17:44:48.541Z"
   },
   {
    "duration": 5,
    "start_time": "2021-12-16T17:44:54.549Z"
   },
   {
    "duration": 12,
    "start_time": "2021-12-16T17:45:07.563Z"
   },
   {
    "duration": 5,
    "start_time": "2021-12-16T17:45:33.677Z"
   },
   {
    "duration": 16,
    "start_time": "2021-12-16T17:45:51.014Z"
   },
   {
    "duration": 5,
    "start_time": "2021-12-16T17:47:49.441Z"
   },
   {
    "duration": 233,
    "start_time": "2021-12-16T17:48:08.822Z"
   },
   {
    "duration": 78,
    "start_time": "2021-12-16T17:48:13.831Z"
   },
   {
    "duration": 239,
    "start_time": "2021-12-16T17:48:17.355Z"
   },
   {
    "duration": 6,
    "start_time": "2021-12-16T17:48:26.565Z"
   },
   {
    "duration": 231,
    "start_time": "2021-12-16T17:52:12.754Z"
   },
   {
    "duration": 4,
    "start_time": "2021-12-16T17:52:16.080Z"
   },
   {
    "duration": 3,
    "start_time": "2021-12-16T17:52:16.795Z"
   },
   {
    "duration": 18,
    "start_time": "2021-12-16T17:52:26.451Z"
   },
   {
    "duration": 4,
    "start_time": "2021-12-16T17:54:02.403Z"
   },
   {
    "duration": 21,
    "start_time": "2021-12-16T18:00:30.028Z"
   },
   {
    "duration": 26,
    "start_time": "2021-12-16T18:01:38.751Z"
   },
   {
    "duration": 12,
    "start_time": "2021-12-16T18:01:49.399Z"
   },
   {
    "duration": 19448,
    "start_time": "2021-12-16T18:05:03.330Z"
   },
   {
    "duration": 6,
    "start_time": "2021-12-16T18:05:22.781Z"
   },
   {
    "duration": 16,
    "start_time": "2021-12-16T18:05:22.789Z"
   },
   {
    "duration": 28,
    "start_time": "2021-12-16T18:05:22.807Z"
   },
   {
    "duration": 12,
    "start_time": "2021-12-16T18:05:22.837Z"
   },
   {
    "duration": 24,
    "start_time": "2021-12-16T18:05:22.851Z"
   },
   {
    "duration": 11,
    "start_time": "2021-12-16T18:05:22.876Z"
   },
   {
    "duration": 184,
    "start_time": "2021-12-16T18:05:22.889Z"
   },
   {
    "duration": 3,
    "start_time": "2021-12-16T18:05:23.075Z"
   },
   {
    "duration": 19,
    "start_time": "2021-12-16T18:05:23.079Z"
   },
   {
    "duration": 19,
    "start_time": "2021-12-16T18:05:23.099Z"
   },
   {
    "duration": 51,
    "start_time": "2021-12-16T18:05:23.120Z"
   },
   {
    "duration": 36,
    "start_time": "2021-12-16T18:05:23.172Z"
   },
   {
    "duration": 15,
    "start_time": "2021-12-16T18:05:23.209Z"
   },
   {
    "duration": 17,
    "start_time": "2021-12-16T18:05:23.226Z"
   },
   {
    "duration": 10,
    "start_time": "2021-12-16T18:05:23.245Z"
   },
   {
    "duration": 34,
    "start_time": "2021-12-16T18:05:23.257Z"
   },
   {
    "duration": 12,
    "start_time": "2021-12-16T18:05:23.293Z"
   },
   {
    "duration": 26,
    "start_time": "2021-12-16T18:05:23.306Z"
   },
   {
    "duration": 33,
    "start_time": "2021-12-16T18:05:23.334Z"
   },
   {
    "duration": 21,
    "start_time": "2021-12-16T18:05:23.368Z"
   },
   {
    "duration": 20,
    "start_time": "2021-12-16T18:05:23.390Z"
   },
   {
    "duration": 22,
    "start_time": "2021-12-16T18:05:34.694Z"
   },
   {
    "duration": 7,
    "start_time": "2021-12-16T18:05:39.150Z"
   },
   {
    "duration": 7,
    "start_time": "2021-12-16T18:05:39.593Z"
   },
   {
    "duration": 4,
    "start_time": "2021-12-16T18:05:40.369Z"
   },
   {
    "duration": 3,
    "start_time": "2021-12-16T18:05:40.674Z"
   },
   {
    "duration": 5,
    "start_time": "2021-12-16T18:05:42.464Z"
   },
   {
    "duration": 9,
    "start_time": "2021-12-16T18:05:44.697Z"
   },
   {
    "duration": 16,
    "start_time": "2021-12-16T18:06:01.090Z"
   },
   {
    "duration": 58,
    "start_time": "2021-12-16T18:06:06.938Z"
   },
   {
    "duration": 16,
    "start_time": "2021-12-16T18:06:07.801Z"
   },
   {
    "duration": 4,
    "start_time": "2021-12-16T18:06:11.409Z"
   },
   {
    "duration": 18,
    "start_time": "2021-12-16T18:06:24.662Z"
   },
   {
    "duration": 20155,
    "start_time": "2021-12-16T18:06:49.343Z"
   },
   {
    "duration": 6,
    "start_time": "2021-12-16T18:07:09.500Z"
   },
   {
    "duration": 7,
    "start_time": "2021-12-16T18:07:09.508Z"
   },
   {
    "duration": 7,
    "start_time": "2021-12-16T18:07:09.516Z"
   },
   {
    "duration": 5,
    "start_time": "2021-12-16T18:07:09.525Z"
   },
   {
    "duration": 5,
    "start_time": "2021-12-16T18:07:09.531Z"
   },
   {
    "duration": 6,
    "start_time": "2021-12-16T18:07:09.538Z"
   },
   {
    "duration": 163,
    "start_time": "2021-12-16T18:07:09.547Z"
   },
   {
    "duration": 4,
    "start_time": "2021-12-16T18:07:09.712Z"
   },
   {
    "duration": 6,
    "start_time": "2021-12-16T18:07:09.717Z"
   },
   {
    "duration": 5,
    "start_time": "2021-12-16T18:07:09.724Z"
   },
   {
    "duration": 30,
    "start_time": "2021-12-16T18:07:09.731Z"
   },
   {
    "duration": 53,
    "start_time": "2021-12-16T18:07:09.762Z"
   },
   {
    "duration": 4,
    "start_time": "2021-12-16T18:07:09.817Z"
   },
   {
    "duration": 26,
    "start_time": "2021-12-16T18:07:09.823Z"
   },
   {
    "duration": 45,
    "start_time": "2021-12-16T18:07:09.850Z"
   },
   {
    "duration": 14,
    "start_time": "2021-12-16T18:07:09.896Z"
   },
   {
    "duration": 7,
    "start_time": "2021-12-16T18:07:09.912Z"
   },
   {
    "duration": 16,
    "start_time": "2021-12-16T18:07:09.921Z"
   },
   {
    "duration": 55,
    "start_time": "2021-12-16T18:07:09.939Z"
   },
   {
    "duration": 22,
    "start_time": "2021-12-16T18:07:09.996Z"
   },
   {
    "duration": 17,
    "start_time": "2021-12-16T18:07:10.020Z"
   },
   {
    "duration": 15,
    "start_time": "2021-12-16T18:07:10.041Z"
   },
   {
    "duration": 33,
    "start_time": "2021-12-16T18:07:10.058Z"
   },
   {
    "duration": 6,
    "start_time": "2021-12-16T18:07:10.093Z"
   },
   {
    "duration": 8,
    "start_time": "2021-12-16T18:07:10.101Z"
   },
   {
    "duration": 9,
    "start_time": "2021-12-16T18:07:10.110Z"
   },
   {
    "duration": 7,
    "start_time": "2021-12-16T18:07:10.120Z"
   },
   {
    "duration": 40,
    "start_time": "2021-12-16T18:08:14.907Z"
   },
   {
    "duration": 14,
    "start_time": "2021-12-16T18:08:20.450Z"
   },
   {
    "duration": 4,
    "start_time": "2021-12-16T18:15:23.646Z"
   },
   {
    "duration": 4,
    "start_time": "2021-12-16T18:16:01.501Z"
   },
   {
    "duration": 17596,
    "start_time": "2021-12-16T18:19:29.328Z"
   },
   {
    "duration": 6,
    "start_time": "2021-12-16T18:19:46.926Z"
   },
   {
    "duration": 23,
    "start_time": "2021-12-16T18:19:46.933Z"
   },
   {
    "duration": 20,
    "start_time": "2021-12-16T18:19:46.958Z"
   },
   {
    "duration": 10,
    "start_time": "2021-12-16T18:19:46.979Z"
   },
   {
    "duration": 25,
    "start_time": "2021-12-16T18:19:46.992Z"
   },
   {
    "duration": 16,
    "start_time": "2021-12-16T18:19:47.019Z"
   },
   {
    "duration": 180,
    "start_time": "2021-12-16T18:19:47.037Z"
   },
   {
    "duration": 3,
    "start_time": "2021-12-16T18:19:47.219Z"
   },
   {
    "duration": 12,
    "start_time": "2021-12-16T18:19:47.223Z"
   },
   {
    "duration": 16,
    "start_time": "2021-12-16T18:19:47.236Z"
   },
   {
    "duration": 55,
    "start_time": "2021-12-16T18:19:47.253Z"
   },
   {
    "duration": 34,
    "start_time": "2021-12-16T18:19:47.309Z"
   },
   {
    "duration": 3,
    "start_time": "2021-12-16T18:19:47.345Z"
   },
   {
    "duration": 52,
    "start_time": "2021-12-16T18:19:47.350Z"
   },
   {
    "duration": 16,
    "start_time": "2021-12-16T18:19:47.404Z"
   },
   {
    "duration": 13,
    "start_time": "2021-12-16T18:19:47.421Z"
   },
   {
    "duration": 7,
    "start_time": "2021-12-16T18:19:47.435Z"
   },
   {
    "duration": 51,
    "start_time": "2021-12-16T18:19:47.443Z"
   },
   {
    "duration": 18,
    "start_time": "2021-12-16T18:19:47.496Z"
   },
   {
    "duration": 24,
    "start_time": "2021-12-16T18:19:47.515Z"
   },
   {
    "duration": 14,
    "start_time": "2021-12-16T18:19:47.540Z"
   },
   {
    "duration": 47,
    "start_time": "2021-12-16T18:19:47.557Z"
   },
   {
    "duration": 4,
    "start_time": "2021-12-16T18:19:47.606Z"
   },
   {
    "duration": 8,
    "start_time": "2021-12-16T18:19:47.612Z"
   },
   {
    "duration": 7,
    "start_time": "2021-12-16T18:19:47.621Z"
   },
   {
    "duration": 7,
    "start_time": "2021-12-16T18:19:47.630Z"
   },
   {
    "duration": 10,
    "start_time": "2021-12-16T18:19:47.639Z"
   },
   {
    "duration": 6,
    "start_time": "2021-12-16T18:20:45.274Z"
   },
   {
    "duration": 16361,
    "start_time": "2021-12-16T18:21:16.674Z"
   },
   {
    "duration": 6,
    "start_time": "2021-12-16T18:21:33.037Z"
   },
   {
    "duration": 11,
    "start_time": "2021-12-16T18:21:33.045Z"
   },
   {
    "duration": 8,
    "start_time": "2021-12-16T18:21:33.058Z"
   },
   {
    "duration": 8,
    "start_time": "2021-12-16T18:21:33.067Z"
   },
   {
    "duration": 7,
    "start_time": "2021-12-16T18:21:33.076Z"
   },
   {
    "duration": 5,
    "start_time": "2021-12-16T18:21:33.084Z"
   },
   {
    "duration": 172,
    "start_time": "2021-12-16T18:21:33.091Z"
   },
   {
    "duration": 3,
    "start_time": "2021-12-16T18:21:33.265Z"
   },
   {
    "duration": 22,
    "start_time": "2021-12-16T18:21:33.269Z"
   },
   {
    "duration": 15,
    "start_time": "2021-12-16T18:21:33.292Z"
   },
   {
    "duration": 43,
    "start_time": "2021-12-16T18:21:33.308Z"
   },
   {
    "duration": 43,
    "start_time": "2021-12-16T18:21:33.353Z"
   },
   {
    "duration": 4,
    "start_time": "2021-12-16T18:21:33.398Z"
   },
   {
    "duration": 43,
    "start_time": "2021-12-16T18:21:33.404Z"
   },
   {
    "duration": 12,
    "start_time": "2021-12-16T18:21:33.448Z"
   },
   {
    "duration": 28,
    "start_time": "2021-12-16T18:21:33.462Z"
   },
   {
    "duration": 17,
    "start_time": "2021-12-16T18:21:33.492Z"
   },
   {
    "duration": 30,
    "start_time": "2021-12-16T18:21:33.511Z"
   },
   {
    "duration": 18,
    "start_time": "2021-12-16T18:21:33.543Z"
   },
   {
    "duration": 28,
    "start_time": "2021-12-16T18:21:33.563Z"
   },
   {
    "duration": 13,
    "start_time": "2021-12-16T18:21:33.593Z"
   },
   {
    "duration": 19,
    "start_time": "2021-12-16T18:21:33.608Z"
   },
   {
    "duration": 19,
    "start_time": "2021-12-16T18:24:10.419Z"
   },
   {
    "duration": 8,
    "start_time": "2021-12-16T18:24:36.155Z"
   },
   {
    "duration": 493,
    "start_time": "2021-12-16T18:24:37.827Z"
   },
   {
    "duration": 7,
    "start_time": "2021-12-16T18:24:54.829Z"
   },
   {
    "duration": 315,
    "start_time": "2021-12-16T18:24:57.200Z"
   },
   {
    "duration": 4,
    "start_time": "2021-12-16T18:25:33.649Z"
   },
   {
    "duration": 4,
    "start_time": "2021-12-16T18:25:36.160Z"
   },
   {
    "duration": 5,
    "start_time": "2021-12-16T18:26:58.311Z"
   },
   {
    "duration": 10,
    "start_time": "2021-12-16T18:31:38.892Z"
   },
   {
    "duration": 23,
    "start_time": "2021-12-16T18:31:43.492Z"
   },
   {
    "duration": 3,
    "start_time": "2021-12-16T18:32:30.833Z"
   },
   {
    "duration": 23,
    "start_time": "2021-12-16T18:32:34.428Z"
   },
   {
    "duration": 242,
    "start_time": "2021-12-16T18:33:02.013Z"
   },
   {
    "duration": 11,
    "start_time": "2021-12-16T18:33:44.610Z"
   },
   {
    "duration": 21,
    "start_time": "2021-12-16T18:33:47.856Z"
   },
   {
    "duration": 3,
    "start_time": "2021-12-16T18:34:23.407Z"
   },
   {
    "duration": 22,
    "start_time": "2021-12-16T18:34:30.888Z"
   },
   {
    "duration": 17,
    "start_time": "2021-12-16T18:34:52.199Z"
   },
   {
    "duration": 108,
    "start_time": "2021-12-16T18:36:37.275Z"
   },
   {
    "duration": 42,
    "start_time": "2021-12-16T18:37:46.182Z"
   },
   {
    "duration": 6,
    "start_time": "2021-12-16T18:37:47.761Z"
   },
   {
    "duration": 21,
    "start_time": "2021-12-16T18:37:54.837Z"
   },
   {
    "duration": 5,
    "start_time": "2021-12-16T18:38:50.441Z"
   },
   {
    "duration": 3,
    "start_time": "2021-12-16T18:40:26.678Z"
   },
   {
    "duration": 5,
    "start_time": "2021-12-16T18:40:31.997Z"
   },
   {
    "duration": 16905,
    "start_time": "2021-12-16T18:42:32.307Z"
   },
   {
    "duration": 1595,
    "start_time": "2021-12-16T18:42:49.214Z"
   },
   {
    "duration": 2,
    "start_time": "2021-12-16T18:42:50.811Z"
   },
   {
    "duration": 6,
    "start_time": "2021-12-16T18:42:50.816Z"
   },
   {
    "duration": 7,
    "start_time": "2021-12-16T18:42:50.823Z"
   },
   {
    "duration": 6,
    "start_time": "2021-12-16T18:42:50.832Z"
   },
   {
    "duration": 7,
    "start_time": "2021-12-16T18:42:50.839Z"
   },
   {
    "duration": 166,
    "start_time": "2021-12-16T18:42:50.848Z"
   },
   {
    "duration": 3,
    "start_time": "2021-12-16T18:42:51.016Z"
   },
   {
    "duration": 6,
    "start_time": "2021-12-16T18:42:51.021Z"
   },
   {
    "duration": 7,
    "start_time": "2021-12-16T18:42:51.028Z"
   },
   {
    "duration": 35,
    "start_time": "2021-12-16T18:42:51.036Z"
   },
   {
    "duration": 35,
    "start_time": "2021-12-16T18:42:51.088Z"
   },
   {
    "duration": 4,
    "start_time": "2021-12-16T18:42:51.124Z"
   },
   {
    "duration": 18,
    "start_time": "2021-12-16T18:42:51.130Z"
   },
   {
    "duration": 42,
    "start_time": "2021-12-16T18:42:51.149Z"
   },
   {
    "duration": 13,
    "start_time": "2021-12-16T18:42:51.193Z"
   },
   {
    "duration": 7,
    "start_time": "2021-12-16T18:42:51.207Z"
   },
   {
    "duration": 20,
    "start_time": "2021-12-16T18:42:51.216Z"
   },
   {
    "duration": 16,
    "start_time": "2021-12-16T18:42:51.238Z"
   },
   {
    "duration": 46,
    "start_time": "2021-12-16T18:42:51.255Z"
   },
   {
    "duration": 15,
    "start_time": "2021-12-16T18:42:51.303Z"
   },
   {
    "duration": 15,
    "start_time": "2021-12-16T18:42:51.322Z"
   },
   {
    "duration": 8,
    "start_time": "2021-12-16T18:42:51.339Z"
   },
   {
    "duration": 5,
    "start_time": "2021-12-16T18:42:51.348Z"
   },
   {
    "duration": 34,
    "start_time": "2021-12-16T18:42:51.355Z"
   },
   {
    "duration": 10,
    "start_time": "2021-12-16T18:42:58.215Z"
   },
   {
    "duration": 4,
    "start_time": "2021-12-16T18:42:59.207Z"
   },
   {
    "duration": 16,
    "start_time": "2021-12-16T18:43:00.717Z"
   },
   {
    "duration": 5,
    "start_time": "2021-12-16T18:43:52.291Z"
   },
   {
    "duration": 4,
    "start_time": "2021-12-16T18:43:53.746Z"
   },
   {
    "duration": 96,
    "start_time": "2021-12-16T18:44:10.081Z"
   },
   {
    "duration": 6,
    "start_time": "2021-12-16T18:44:11.331Z"
   },
   {
    "duration": 5,
    "start_time": "2021-12-16T18:44:14.443Z"
   },
   {
    "duration": 4,
    "start_time": "2021-12-16T18:44:54.550Z"
   },
   {
    "duration": 17,
    "start_time": "2021-12-16T18:45:00.431Z"
   },
   {
    "duration": 6,
    "start_time": "2021-12-16T18:46:08.661Z"
   },
   {
    "duration": 6,
    "start_time": "2021-12-16T18:46:09.701Z"
   },
   {
    "duration": 6,
    "start_time": "2021-12-16T18:46:28.997Z"
   },
   {
    "duration": 4,
    "start_time": "2021-12-16T18:48:49.236Z"
   },
   {
    "duration": 3,
    "start_time": "2021-12-16T18:48:49.821Z"
   },
   {
    "duration": 4,
    "start_time": "2021-12-16T18:48:50.551Z"
   },
   {
    "duration": 7,
    "start_time": "2021-12-16T18:49:03.558Z"
   },
   {
    "duration": 5,
    "start_time": "2021-12-16T18:50:03.843Z"
   },
   {
    "duration": 19,
    "start_time": "2021-12-16T18:50:05.701Z"
   },
   {
    "duration": 21,
    "start_time": "2021-12-16T18:50:14.655Z"
   },
   {
    "duration": 27,
    "start_time": "2021-12-16T18:50:18.824Z"
   },
   {
    "duration": 12,
    "start_time": "2021-12-16T18:50:21.417Z"
   },
   {
    "duration": 18351,
    "start_time": "2021-12-16T18:52:49.111Z"
   },
   {
    "duration": 5,
    "start_time": "2021-12-16T18:53:07.465Z"
   },
   {
    "duration": 7,
    "start_time": "2021-12-16T18:53:07.473Z"
   },
   {
    "duration": 4,
    "start_time": "2021-12-16T18:53:07.482Z"
   },
   {
    "duration": 5,
    "start_time": "2021-12-16T18:53:07.487Z"
   },
   {
    "duration": 3,
    "start_time": "2021-12-16T18:53:07.494Z"
   },
   {
    "duration": 5,
    "start_time": "2021-12-16T18:53:07.499Z"
   },
   {
    "duration": 225,
    "start_time": "2021-12-16T18:53:07.507Z"
   },
   {
    "duration": 3,
    "start_time": "2021-12-16T18:53:07.734Z"
   },
   {
    "duration": 6,
    "start_time": "2021-12-16T18:53:07.739Z"
   },
   {
    "duration": 5,
    "start_time": "2021-12-16T18:53:07.748Z"
   },
   {
    "duration": 37,
    "start_time": "2021-12-16T18:53:07.755Z"
   },
   {
    "duration": 40,
    "start_time": "2021-12-16T18:53:07.794Z"
   },
   {
    "duration": 4,
    "start_time": "2021-12-16T18:53:07.836Z"
   },
   {
    "duration": 63,
    "start_time": "2021-12-16T18:53:07.842Z"
   },
   {
    "duration": 11,
    "start_time": "2021-12-16T18:53:07.907Z"
   },
   {
    "duration": 14,
    "start_time": "2021-12-16T18:53:07.920Z"
   },
   {
    "duration": 8,
    "start_time": "2021-12-16T18:53:07.937Z"
   },
   {
    "duration": 20,
    "start_time": "2021-12-16T18:53:07.947Z"
   },
   {
    "duration": 39,
    "start_time": "2021-12-16T18:53:07.968Z"
   },
   {
    "duration": 25,
    "start_time": "2021-12-16T18:53:08.009Z"
   },
   {
    "duration": 16,
    "start_time": "2021-12-16T18:53:08.036Z"
   },
   {
    "duration": 17,
    "start_time": "2021-12-16T18:53:08.088Z"
   },
   {
    "duration": 9,
    "start_time": "2021-12-16T18:53:08.107Z"
   },
   {
    "duration": 8,
    "start_time": "2021-12-16T18:53:08.117Z"
   },
   {
    "duration": 8,
    "start_time": "2021-12-16T18:53:08.127Z"
   },
   {
    "duration": 15,
    "start_time": "2021-12-16T18:53:08.136Z"
   },
   {
    "duration": 4,
    "start_time": "2021-12-16T18:53:08.153Z"
   },
   {
    "duration": 41,
    "start_time": "2021-12-16T18:53:08.160Z"
   },
   {
    "duration": 36,
    "start_time": "2021-12-16T18:53:08.203Z"
   },
   {
    "duration": 5,
    "start_time": "2021-12-16T18:53:08.241Z"
   },
   {
    "duration": 8,
    "start_time": "2021-12-16T18:53:08.248Z"
   },
   {
    "duration": 4,
    "start_time": "2021-12-16T18:53:08.257Z"
   },
   {
    "duration": 19,
    "start_time": "2021-12-16T18:53:08.288Z"
   },
   {
    "duration": 5,
    "start_time": "2021-12-16T18:53:08.309Z"
   },
   {
    "duration": 7,
    "start_time": "2021-12-16T18:53:08.315Z"
   },
   {
    "duration": 7,
    "start_time": "2021-12-16T18:53:08.324Z"
   },
   {
    "duration": 17,
    "start_time": "2021-12-16T18:58:05.055Z"
   },
   {
    "duration": 6,
    "start_time": "2021-12-16T18:58:07.377Z"
   },
   {
    "duration": 6,
    "start_time": "2021-12-16T19:00:29.825Z"
   },
   {
    "duration": 23,
    "start_time": "2021-12-16T19:00:38.417Z"
   },
   {
    "duration": 6,
    "start_time": "2021-12-16T19:01:45.865Z"
   },
   {
    "duration": 1831,
    "start_time": "2021-12-16T19:02:09.895Z"
   },
   {
    "duration": 899,
    "start_time": "2021-12-16T19:02:50.538Z"
   },
   {
    "duration": 18676,
    "start_time": "2021-12-16T19:04:22.765Z"
   },
   {
    "duration": 1591,
    "start_time": "2021-12-16T19:04:41.443Z"
   },
   {
    "duration": 2,
    "start_time": "2021-12-16T19:04:43.036Z"
   },
   {
    "duration": 5,
    "start_time": "2021-12-16T19:04:43.040Z"
   },
   {
    "duration": 5,
    "start_time": "2021-12-16T19:04:43.046Z"
   },
   {
    "duration": 5,
    "start_time": "2021-12-16T19:04:43.052Z"
   },
   {
    "duration": 5,
    "start_time": "2021-12-16T19:04:43.058Z"
   },
   {
    "duration": 175,
    "start_time": "2021-12-16T19:04:43.065Z"
   },
   {
    "duration": 3,
    "start_time": "2021-12-16T19:04:43.242Z"
   },
   {
    "duration": 5,
    "start_time": "2021-12-16T19:04:43.246Z"
   },
   {
    "duration": 6,
    "start_time": "2021-12-16T19:04:43.252Z"
   },
   {
    "duration": 32,
    "start_time": "2021-12-16T19:04:43.260Z"
   },
   {
    "duration": 36,
    "start_time": "2021-12-16T19:04:43.293Z"
   },
   {
    "duration": 4,
    "start_time": "2021-12-16T19:04:43.330Z"
   },
   {
    "duration": 18,
    "start_time": "2021-12-16T19:04:43.335Z"
   },
   {
    "duration": 42,
    "start_time": "2021-12-16T19:04:43.355Z"
   },
   {
    "duration": 15,
    "start_time": "2021-12-16T19:04:43.398Z"
   },
   {
    "duration": 8,
    "start_time": "2021-12-16T19:04:43.414Z"
   },
   {
    "duration": 16,
    "start_time": "2021-12-16T19:04:43.424Z"
   },
   {
    "duration": 49,
    "start_time": "2021-12-16T19:04:43.441Z"
   },
   {
    "duration": 23,
    "start_time": "2021-12-16T19:04:43.492Z"
   },
   {
    "duration": 14,
    "start_time": "2021-12-16T19:04:43.517Z"
   },
   {
    "duration": 16,
    "start_time": "2021-12-16T19:04:43.534Z"
   },
   {
    "duration": 6,
    "start_time": "2021-12-16T19:04:43.552Z"
   },
   {
    "duration": 5,
    "start_time": "2021-12-16T19:04:43.588Z"
   },
   {
    "duration": 12,
    "start_time": "2021-12-16T19:04:43.595Z"
   },
   {
    "duration": 10,
    "start_time": "2021-12-16T19:04:43.609Z"
   },
   {
    "duration": 3,
    "start_time": "2021-12-16T19:04:43.620Z"
   },
   {
    "duration": 16,
    "start_time": "2021-12-16T19:04:43.624Z"
   },
   {
    "duration": 118,
    "start_time": "2021-12-16T19:04:43.642Z"
   },
   {
    "duration": 5,
    "start_time": "2021-12-16T19:04:43.761Z"
   },
   {
    "duration": 9,
    "start_time": "2021-12-16T19:04:43.768Z"
   },
   {
    "duration": 11,
    "start_time": "2021-12-16T19:04:43.779Z"
   },
   {
    "duration": 19,
    "start_time": "2021-12-16T19:04:43.794Z"
   },
   {
    "duration": 5,
    "start_time": "2021-12-16T19:06:02.483Z"
   },
   {
    "duration": 44,
    "start_time": "2021-12-16T19:06:23.678Z"
   },
   {
    "duration": 10,
    "start_time": "2021-12-16T19:06:35.156Z"
   },
   {
    "duration": 6,
    "start_time": "2021-12-16T19:06:46.361Z"
   },
   {
    "duration": 6,
    "start_time": "2021-12-16T19:08:39.981Z"
   },
   {
    "duration": 4,
    "start_time": "2021-12-16T19:08:49.880Z"
   },
   {
    "duration": 6,
    "start_time": "2021-12-16T19:09:51.829Z"
   },
   {
    "duration": 6,
    "start_time": "2021-12-16T19:09:53.384Z"
   },
   {
    "duration": 6,
    "start_time": "2021-12-16T19:09:54.512Z"
   },
   {
    "duration": 3,
    "start_time": "2021-12-16T19:10:16.540Z"
   },
   {
    "duration": 4,
    "start_time": "2021-12-16T19:10:17.095Z"
   },
   {
    "duration": 4,
    "start_time": "2021-12-16T19:10:17.671Z"
   },
   {
    "duration": 13,
    "start_time": "2021-12-16T19:10:32.099Z"
   },
   {
    "duration": 4,
    "start_time": "2021-12-16T19:11:09.322Z"
   },
   {
    "duration": 14,
    "start_time": "2021-12-16T19:11:14.393Z"
   },
   {
    "duration": 4,
    "start_time": "2021-12-16T19:11:38.157Z"
   },
   {
    "duration": 7,
    "start_time": "2021-12-16T19:13:46.870Z"
   },
   {
    "duration": 12,
    "start_time": "2021-12-16T19:14:18.014Z"
   },
   {
    "duration": 5,
    "start_time": "2021-12-16T19:14:39.855Z"
   },
   {
    "duration": 17,
    "start_time": "2021-12-16T19:14:40.816Z"
   },
   {
    "duration": 20,
    "start_time": "2021-12-16T19:14:44.659Z"
   },
   {
    "duration": 27,
    "start_time": "2021-12-16T19:14:47.915Z"
   },
   {
    "duration": 11,
    "start_time": "2021-12-16T19:14:49.666Z"
   },
   {
    "duration": 16,
    "start_time": "2021-12-16T19:15:18.047Z"
   },
   {
    "duration": 15,
    "start_time": "2021-12-16T19:15:18.738Z"
   },
   {
    "duration": 4,
    "start_time": "2021-12-16T19:18:46.882Z"
   },
   {
    "duration": 17,
    "start_time": "2021-12-16T19:18:56.715Z"
   },
   {
    "duration": 6,
    "start_time": "2021-12-16T19:24:46.234Z"
   },
   {
    "duration": 16,
    "start_time": "2021-12-16T19:24:48.029Z"
   },
   {
    "duration": 8,
    "start_time": "2021-12-16T19:27:20.449Z"
   },
   {
    "duration": 25,
    "start_time": "2021-12-16T19:27:22.376Z"
   },
   {
    "duration": 412,
    "start_time": "2021-12-16T19:27:23.245Z"
   },
   {
    "duration": 7,
    "start_time": "2021-12-16T19:27:37.111Z"
   },
   {
    "duration": 19,
    "start_time": "2021-12-16T19:27:58.006Z"
   },
   {
    "duration": 24,
    "start_time": "2021-12-16T19:28:35.041Z"
   },
   {
    "duration": 19,
    "start_time": "2021-12-16T19:29:27.381Z"
   },
   {
    "duration": 14,
    "start_time": "2021-12-16T19:32:05.502Z"
   },
   {
    "duration": 243,
    "start_time": "2021-12-16T19:32:23.661Z"
   },
   {
    "duration": 10,
    "start_time": "2021-12-16T19:32:31.418Z"
   },
   {
    "duration": 3,
    "start_time": "2021-12-16T19:35:05.463Z"
   },
   {
    "duration": 4,
    "start_time": "2021-12-16T19:35:20.833Z"
   },
   {
    "duration": 6,
    "start_time": "2021-12-16T19:35:28.800Z"
   },
   {
    "duration": 4,
    "start_time": "2021-12-16T19:35:34.824Z"
   },
   {
    "duration": 256,
    "start_time": "2021-12-16T19:35:39.164Z"
   },
   {
    "duration": 248,
    "start_time": "2021-12-16T19:35:42.311Z"
   },
   {
    "duration": 4,
    "start_time": "2021-12-16T19:35:51.560Z"
   },
   {
    "duration": 154,
    "start_time": "2021-12-16T19:40:31.495Z"
   },
   {
    "duration": 8,
    "start_time": "2021-12-16T19:40:36.325Z"
   },
   {
    "duration": 11,
    "start_time": "2021-12-16T19:40:47.152Z"
   },
   {
    "duration": 278,
    "start_time": "2021-12-16T23:20:11.386Z"
   },
   {
    "duration": 270,
    "start_time": "2021-12-16T23:21:04.969Z"
   },
   {
    "duration": 230,
    "start_time": "2021-12-16T23:22:07.515Z"
   },
   {
    "duration": 503,
    "start_time": "2021-12-16T23:22:58.310Z"
   },
   {
    "duration": 234,
    "start_time": "2021-12-16T23:24:17.798Z"
   },
   {
    "duration": 251,
    "start_time": "2021-12-16T23:24:27.275Z"
   },
   {
    "duration": 85,
    "start_time": "2021-12-16T23:26:43.117Z"
   },
   {
    "duration": 79,
    "start_time": "2021-12-16T23:27:03.302Z"
   },
   {
    "duration": 416,
    "start_time": "2021-12-16T23:27:21.528Z"
   },
   {
    "duration": 466,
    "start_time": "2021-12-16T23:28:16.881Z"
   },
   {
    "duration": 392,
    "start_time": "2021-12-16T23:28:30.491Z"
   },
   {
    "duration": 581,
    "start_time": "2021-12-16T23:28:41.315Z"
   },
   {
    "duration": 261,
    "start_time": "2021-12-16T23:31:38.444Z"
   },
   {
    "duration": 5,
    "start_time": "2021-12-16T23:31:44.195Z"
   },
   {
    "duration": 5,
    "start_time": "2021-12-16T23:31:51.140Z"
   },
   {
    "duration": 5,
    "start_time": "2021-12-16T23:32:01.815Z"
   },
   {
    "duration": 5,
    "start_time": "2021-12-16T23:32:06.243Z"
   },
   {
    "duration": 4,
    "start_time": "2021-12-16T23:32:17.544Z"
   },
   {
    "duration": 916,
    "start_time": "2021-12-16T23:32:28.892Z"
   },
   {
    "duration": 108,
    "start_time": "2021-12-16T23:39:39.028Z"
   },
   {
    "duration": 553,
    "start_time": "2021-12-16T23:40:44.412Z"
   },
   {
    "duration": 34,
    "start_time": "2021-12-16T23:41:42.319Z"
   },
   {
    "duration": 491,
    "start_time": "2021-12-16T23:44:47.784Z"
   },
   {
    "duration": 323,
    "start_time": "2021-12-16T23:45:10.047Z"
   },
   {
    "duration": 267,
    "start_time": "2021-12-16T23:45:12.610Z"
   },
   {
    "duration": 244,
    "start_time": "2021-12-16T23:49:06.178Z"
   },
   {
    "duration": 238,
    "start_time": "2021-12-16T23:49:17.201Z"
   },
   {
    "duration": 4,
    "start_time": "2021-12-16T23:50:47.625Z"
   },
   {
    "duration": 497,
    "start_time": "2021-12-16T23:52:27.401Z"
   },
   {
    "duration": 3,
    "start_time": "2021-12-16T23:52:36.164Z"
   },
   {
    "duration": 267,
    "start_time": "2021-12-16T23:52:36.637Z"
   },
   {
    "duration": 242,
    "start_time": "2021-12-16T23:53:51.062Z"
   },
   {
    "duration": 242,
    "start_time": "2021-12-16T23:54:02.553Z"
   },
   {
    "duration": 384,
    "start_time": "2021-12-16T23:54:09.505Z"
   },
   {
    "duration": 203,
    "start_time": "2021-12-16T23:54:15.641Z"
   },
   {
    "duration": 258,
    "start_time": "2021-12-16T23:54:19.682Z"
   },
   {
    "duration": 255,
    "start_time": "2021-12-16T23:55:48.878Z"
   },
   {
    "duration": 229,
    "start_time": "2021-12-16T23:56:06.480Z"
   },
   {
    "duration": 247,
    "start_time": "2021-12-16T23:56:14.753Z"
   },
   {
    "duration": 6,
    "start_time": "2021-12-16T23:56:44.654Z"
   },
   {
    "duration": 3,
    "start_time": "2021-12-16T23:56:48.648Z"
   },
   {
    "duration": 3,
    "start_time": "2021-12-16T23:56:49.357Z"
   },
   {
    "duration": 226,
    "start_time": "2021-12-16T23:56:49.989Z"
   },
   {
    "duration": 212,
    "start_time": "2021-12-16T23:56:56.701Z"
   },
   {
    "duration": 231,
    "start_time": "2021-12-16T23:57:01.984Z"
   },
   {
    "duration": 208,
    "start_time": "2021-12-16T23:57:05.638Z"
   },
   {
    "duration": 216,
    "start_time": "2021-12-16T23:57:21.520Z"
   },
   {
    "duration": 183,
    "start_time": "2021-12-16T23:57:41.929Z"
   },
   {
    "duration": 715,
    "start_time": "2021-12-16T23:59:12.445Z"
   },
   {
    "duration": 3,
    "start_time": "2021-12-16T23:59:14.537Z"
   },
   {
    "duration": 3,
    "start_time": "2021-12-16T23:59:14.823Z"
   },
   {
    "duration": 393,
    "start_time": "2021-12-16T23:59:53.123Z"
   },
   {
    "duration": 88,
    "start_time": "2021-12-17T00:00:58.831Z"
   },
   {
    "duration": 244,
    "start_time": "2021-12-17T00:01:02.359Z"
   },
   {
    "duration": 4,
    "start_time": "2021-12-17T00:01:45.418Z"
   },
   {
    "duration": 208,
    "start_time": "2021-12-17T00:01:55.835Z"
   },
   {
    "duration": 264,
    "start_time": "2021-12-17T00:02:03.269Z"
   },
   {
    "duration": 7,
    "start_time": "2021-12-17T00:02:39.591Z"
   },
   {
    "duration": 239,
    "start_time": "2021-12-17T00:02:43.159Z"
   },
   {
    "duration": 3,
    "start_time": "2021-12-17T00:02:57.661Z"
   },
   {
    "duration": 4,
    "start_time": "2021-12-17T00:02:57.975Z"
   },
   {
    "duration": 6,
    "start_time": "2021-12-17T00:02:58.193Z"
   },
   {
    "duration": 2,
    "start_time": "2021-12-17T00:02:58.373Z"
   },
   {
    "duration": 172,
    "start_time": "2021-12-17T00:02:58.552Z"
   },
   {
    "duration": 6,
    "start_time": "2021-12-17T00:03:17.696Z"
   },
   {
    "duration": 3,
    "start_time": "2021-12-17T00:03:18.470Z"
   },
   {
    "duration": 207,
    "start_time": "2021-12-17T00:03:18.839Z"
   },
   {
    "duration": 248,
    "start_time": "2021-12-17T00:03:39.771Z"
   },
   {
    "duration": 3,
    "start_time": "2021-12-17T00:03:42.892Z"
   },
   {
    "duration": 4,
    "start_time": "2021-12-17T00:03:44.690Z"
   },
   {
    "duration": 3,
    "start_time": "2021-12-17T00:03:55.390Z"
   },
   {
    "duration": 4,
    "start_time": "2021-12-17T00:03:56.216Z"
   },
   {
    "duration": 3,
    "start_time": "2021-12-17T00:03:59.138Z"
   },
   {
    "duration": 4,
    "start_time": "2021-12-17T00:03:59.665Z"
   },
   {
    "duration": 6,
    "start_time": "2021-12-17T00:04:00.199Z"
   },
   {
    "duration": 261,
    "start_time": "2021-12-17T00:04:14.887Z"
   },
   {
    "duration": 3,
    "start_time": "2021-12-17T00:04:15.631Z"
   },
   {
    "duration": 4,
    "start_time": "2021-12-17T00:04:57.169Z"
   },
   {
    "duration": 3,
    "start_time": "2021-12-17T00:04:57.921Z"
   },
   {
    "duration": 4,
    "start_time": "2021-12-17T00:05:01.943Z"
   },
   {
    "duration": 3,
    "start_time": "2021-12-17T00:05:06.719Z"
   },
   {
    "duration": 4,
    "start_time": "2021-12-17T00:05:07.128Z"
   },
   {
    "duration": 3,
    "start_time": "2021-12-17T00:05:14.768Z"
   },
   {
    "duration": 4,
    "start_time": "2021-12-17T00:05:15.287Z"
   },
   {
    "duration": 5,
    "start_time": "2021-12-17T00:05:26.083Z"
   },
   {
    "duration": 6,
    "start_time": "2021-12-17T00:05:41.810Z"
   },
   {
    "duration": 3,
    "start_time": "2021-12-17T00:05:42.431Z"
   },
   {
    "duration": 233,
    "start_time": "2021-12-17T00:05:43.577Z"
   },
   {
    "duration": 198,
    "start_time": "2021-12-17T00:06:15.714Z"
   },
   {
    "duration": 249,
    "start_time": "2021-12-17T00:06:22.758Z"
   },
   {
    "duration": 357,
    "start_time": "2021-12-17T00:06:26.960Z"
   },
   {
    "duration": 179,
    "start_time": "2021-12-17T00:06:31.429Z"
   },
   {
    "duration": 211,
    "start_time": "2021-12-17T00:06:36.798Z"
   },
   {
    "duration": 240,
    "start_time": "2021-12-17T00:06:42.654Z"
   },
   {
    "duration": 3,
    "start_time": "2021-12-17T00:06:55.698Z"
   },
   {
    "duration": 176,
    "start_time": "2021-12-17T00:06:59.739Z"
   },
   {
    "duration": 223,
    "start_time": "2021-12-17T00:07:54.489Z"
   },
   {
    "duration": 24,
    "start_time": "2021-12-17T00:42:52.916Z"
   },
   {
    "duration": 24,
    "start_time": "2021-12-17T00:43:46.930Z"
   },
   {
    "duration": 30,
    "start_time": "2021-12-17T00:44:12.423Z"
   },
   {
    "duration": 16,
    "start_time": "2021-12-17T00:46:06.773Z"
   },
   {
    "duration": 16,
    "start_time": "2021-12-17T00:46:28.238Z"
   },
   {
    "duration": 237,
    "start_time": "2021-12-17T00:49:42.991Z"
   },
   {
    "duration": 4,
    "start_time": "2021-12-17T00:49:53.016Z"
   },
   {
    "duration": 235,
    "start_time": "2021-12-17T12:31:20.813Z"
   },
   {
    "duration": 439395,
    "start_time": "2021-12-21T00:26:28.033Z"
   },
   {
    "duration": 15228,
    "start_time": "2021-12-21T00:41:01.137Z"
   },
   {
    "duration": 7143,
    "start_time": "2021-12-21T00:41:16.367Z"
   },
   {
    "duration": 1186,
    "start_time": "2021-12-21T00:53:11.411Z"
   },
   {
    "duration": 5,
    "start_time": "2021-12-21T00:53:12.920Z"
   },
   {
    "duration": 3,
    "start_time": "2021-12-21T00:53:15.393Z"
   },
   {
    "duration": 5,
    "start_time": "2021-12-21T00:53:15.637Z"
   },
   {
    "duration": 3,
    "start_time": "2021-12-21T00:53:15.839Z"
   },
   {
    "duration": 2,
    "start_time": "2021-12-21T00:53:16.346Z"
   },
   {
    "duration": 7,
    "start_time": "2021-12-21T00:53:16.350Z"
   },
   {
    "duration": 146,
    "start_time": "2021-12-21T00:53:16.615Z"
   },
   {
    "duration": 3,
    "start_time": "2021-12-21T00:53:16.806Z"
   },
   {
    "duration": 3,
    "start_time": "2021-12-21T00:53:17.168Z"
   },
   {
    "duration": 4,
    "start_time": "2021-12-21T00:53:17.383Z"
   },
   {
    "duration": 31,
    "start_time": "2021-12-21T00:53:17.907Z"
   },
   {
    "duration": 38,
    "start_time": "2021-12-21T00:53:18.747Z"
   },
   {
    "duration": 4,
    "start_time": "2021-12-21T00:53:22.123Z"
   },
   {
    "duration": 18,
    "start_time": "2021-12-21T00:53:22.331Z"
   },
   {
    "duration": 12,
    "start_time": "2021-12-21T00:53:22.700Z"
   },
   {
    "duration": 14,
    "start_time": "2021-12-21T00:53:23.076Z"
   },
   {
    "duration": 8,
    "start_time": "2021-12-21T00:53:25.076Z"
   },
   {
    "duration": 18,
    "start_time": "2021-12-21T00:53:25.648Z"
   },
   {
    "duration": 17,
    "start_time": "2021-12-21T00:53:26.009Z"
   },
   {
    "duration": 20,
    "start_time": "2021-12-21T00:53:28.321Z"
   },
   {
    "duration": 15,
    "start_time": "2021-12-21T00:53:28.680Z"
   },
   {
    "duration": 16,
    "start_time": "2021-12-21T00:53:29.097Z"
   },
   {
    "duration": 8,
    "start_time": "2021-12-21T00:53:31.489Z"
   },
   {
    "duration": 4,
    "start_time": "2021-12-21T00:53:31.671Z"
   },
   {
    "duration": 4,
    "start_time": "2021-12-21T00:53:31.873Z"
   },
   {
    "duration": 11,
    "start_time": "2021-12-21T00:53:34.146Z"
   },
   {
    "duration": 4,
    "start_time": "2021-12-21T00:53:34.352Z"
   },
   {
    "duration": 16,
    "start_time": "2021-12-21T00:53:34.538Z"
   },
   {
    "duration": 6,
    "start_time": "2021-12-21T00:53:35.042Z"
   },
   {
    "duration": 15,
    "start_time": "2021-12-21T00:53:35.050Z"
   },
   {
    "duration": 38,
    "start_time": "2021-12-21T00:53:37.208Z"
   },
   {
    "duration": 7,
    "start_time": "2021-12-21T00:53:38.058Z"
   },
   {
    "duration": 5,
    "start_time": "2021-12-21T00:53:39.911Z"
   },
   {
    "duration": 5,
    "start_time": "2021-12-21T00:53:39.918Z"
   },
   {
    "duration": 14,
    "start_time": "2021-12-21T00:53:40.068Z"
   },
   {
    "duration": 7,
    "start_time": "2021-12-21T00:53:46.410Z"
   },
   {
    "duration": 6,
    "start_time": "2021-12-21T00:53:47.498Z"
   },
   {
    "duration": 3,
    "start_time": "2021-12-21T00:53:48.128Z"
   },
   {
    "duration": 5,
    "start_time": "2021-12-21T00:53:48.345Z"
   },
   {
    "duration": 6,
    "start_time": "2021-12-21T00:53:50.374Z"
   },
   {
    "duration": 7,
    "start_time": "2021-12-21T00:53:50.600Z"
   },
   {
    "duration": 4,
    "start_time": "2021-12-21T00:53:50.801Z"
   },
   {
    "duration": 4,
    "start_time": "2021-12-21T00:53:51.000Z"
   },
   {
    "duration": 3,
    "start_time": "2021-12-21T00:53:51.664Z"
   },
   {
    "duration": 5,
    "start_time": "2021-12-21T00:53:51.896Z"
   },
   {
    "duration": 14,
    "start_time": "2021-12-21T00:53:52.078Z"
   },
   {
    "duration": 8,
    "start_time": "2021-12-21T00:53:54.833Z"
   },
   {
    "duration": 13,
    "start_time": "2021-12-21T00:53:55.457Z"
   },
   {
    "duration": 6,
    "start_time": "2021-12-21T00:53:58.169Z"
   },
   {
    "duration": 18,
    "start_time": "2021-12-21T00:53:58.417Z"
   },
   {
    "duration": 20,
    "start_time": "2021-12-21T00:54:03.023Z"
   },
   {
    "duration": 4,
    "start_time": "2021-12-21T00:54:03.688Z"
   },
   {
    "duration": 13,
    "start_time": "2021-12-21T00:54:09.788Z"
   },
   {
    "duration": 16,
    "start_time": "2021-12-21T00:54:10.805Z"
   },
   {
    "duration": 16,
    "start_time": "2021-12-21T00:54:12.981Z"
   },
   {
    "duration": 6,
    "start_time": "2021-12-21T00:54:17.110Z"
   },
   {
    "duration": 15,
    "start_time": "2021-12-21T00:54:17.854Z"
   },
   {
    "duration": 1735,
    "start_time": "2021-12-21T00:54:58.628Z"
   },
   {
    "duration": 2,
    "start_time": "2021-12-21T00:56:02.207Z"
   },
   {
    "duration": 2,
    "start_time": "2021-12-21T00:56:03.534Z"
   },
   {
    "duration": 6,
    "start_time": "2021-12-21T00:56:04.043Z"
   },
   {
    "duration": 13,
    "start_time": "2021-12-21T00:56:04.733Z"
   },
   {
    "duration": 318,
    "start_time": "2021-12-21T00:56:25.779Z"
   },
   {
    "duration": 19,
    "start_time": "2021-12-21T00:56:27.971Z"
   },
   {
    "duration": 307,
    "start_time": "2021-12-21T00:56:29.883Z"
   },
   {
    "duration": 2401,
    "start_time": "2021-12-21T00:56:30.291Z"
   },
   {
    "duration": 2302,
    "start_time": "2021-12-21T00:56:40.789Z"
   },
   {
    "duration": 5,
    "start_time": "2021-12-21T00:56:47.659Z"
   },
   {
    "duration": 14,
    "start_time": "2021-12-21T00:56:55.606Z"
   },
   {
    "duration": 3,
    "start_time": "2021-12-21T00:56:58.575Z"
   },
   {
    "duration": 5,
    "start_time": "2021-12-21T00:57:00.103Z"
   },
   {
    "duration": 3,
    "start_time": "2021-12-21T00:57:04.878Z"
   },
   {
    "duration": 9,
    "start_time": "2021-12-21T00:57:05.112Z"
   },
   {
    "duration": 392,
    "start_time": "2021-12-21T00:57:13.865Z"
   },
   {
    "duration": 4,
    "start_time": "2021-12-21T00:57:19.206Z"
   },
   {
    "duration": 696,
    "start_time": "2021-12-21T00:57:19.744Z"
   },
   {
    "duration": 297,
    "start_time": "2021-12-21T00:57:38.817Z"
   },
   {
    "duration": 298,
    "start_time": "2021-12-21T00:57:58.755Z"
   },
   {
    "duration": 295,
    "start_time": "2021-12-21T00:58:31.194Z"
   },
   {
    "duration": 15,
    "start_time": "2021-12-21T00:59:22.736Z"
   },
   {
    "duration": 5,
    "start_time": "2021-12-21T01:00:45.242Z"
   },
   {
    "duration": 196,
    "start_time": "2021-12-21T01:01:27.364Z"
   },
   {
    "duration": 5,
    "start_time": "2021-12-21T01:01:32.780Z"
   },
   {
    "duration": 11,
    "start_time": "2021-12-21T01:01:33.073Z"
   },
   {
    "duration": 324,
    "start_time": "2021-12-21T01:01:36.678Z"
   },
   {
    "duration": 18,
    "start_time": "2021-12-21T01:01:37.350Z"
   },
   {
    "duration": 2229,
    "start_time": "2021-12-21T01:01:37.410Z"
   },
   {
    "duration": 189,
    "start_time": "2021-12-21T01:01:39.641Z"
   },
   {
    "duration": -1871,
    "start_time": "2021-12-21T01:01:41.703Z"
   },
   {
    "duration": 4,
    "start_time": "2021-12-21T01:01:40.658Z"
   },
   {
    "duration": 5,
    "start_time": "2021-12-21T01:01:40.846Z"
   },
   {
    "duration": 4,
    "start_time": "2021-12-21T01:01:41.050Z"
   },
   {
    "duration": 8,
    "start_time": "2021-12-21T01:01:41.228Z"
   },
   {
    "duration": 8,
    "start_time": "2021-12-21T01:01:43.096Z"
   },
   {
    "duration": 16,
    "start_time": "2021-12-21T01:01:45.031Z"
   },
   {
    "duration": 3,
    "start_time": "2021-12-21T01:01:45.927Z"
   },
   {
    "duration": 672,
    "start_time": "2021-12-21T01:01:46.790Z"
   },
   {
    "duration": 346,
    "start_time": "2021-12-21T01:01:51.054Z"
   },
   {
    "duration": 1242,
    "start_time": "2021-12-21T01:01:52.462Z"
   }
  ],
  "kernelspec": {
   "display_name": "Python 3",
   "language": "python",
   "name": "python3"
  },
  "language_info": {
   "codemirror_mode": {
    "name": "ipython",
    "version": 3
   },
   "file_extension": ".py",
   "mimetype": "text/x-python",
   "name": "python",
   "nbconvert_exporter": "python",
   "pygments_lexer": "ipython3",
   "version": "3.8.8"
  },
  "toc": {
   "base_numbering": 1,
   "nav_menu": {},
   "number_sections": true,
   "sideBar": true,
   "skip_h1_title": true,
   "title_cell": "Table of Contents",
   "title_sidebar": "Contents",
   "toc_cell": true,
   "toc_position": {
    "height": "calc(100% - 180px)",
    "left": "10px",
    "top": "150px",
    "width": "384px"
   },
   "toc_section_display": true,
   "toc_window_display": true
  }
 },
 "nbformat": 4,
 "nbformat_minor": 2
}
