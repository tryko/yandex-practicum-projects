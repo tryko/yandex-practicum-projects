{
 "cells": [
  {
   "cell_type": "markdown",
   "metadata": {},
   "source": [
    "<div class=\"alert alert-success\">\n",
    "<b>Reviewer's comment V2</b>\n",
    "\t  \n",
    "Thanks for taking the time to improve the project! It's accepted now. Good luck on the next sprint! \n",
    "\t  \n",
    "</div>"
   ]
  },
  {
   "cell_type": "markdown",
   "metadata": {},
   "source": [
    "**Review**\n",
    "\t  \n",
    "Hi, my name is Dmitry and I will be reviewing your project.\n",
    "  \n",
    "You can find my comments in colored markdown cells:\n",
    "  \n",
    "<div class=\"alert alert-success\">\n",
    "  If everything is done successfully.\n",
    "</div>\n",
    "  \n",
    "<div class=\"alert alert-warning\">\n",
    "  If I have some (optional) suggestions, or questions to think about, or general comments.\n",
    "</div>\n",
    "  \n",
    "<div class=\"alert alert-danger\">\n",
    "  If a section requires some corrections. Work can't be accepted with red comments.\n",
    "</div>\n",
    "  \n",
    "Please don't remove my comments, as it will make further review iterations much harder for me.\n",
    "  \n",
    "Feel free to reply to my comments or ask questions using the following template:\n",
    "  \n",
    "<div class=\"alert alert-info\">\n",
    "  For your comments and questions.\n",
    "</div>\n",
    "  \n",
    "First of all, thank you for turning in the project! You did a pretty good job overall, although there are a couple of problems that need to be fixed before the project can be accepted. Good luck!"
   ]
  },
  {
   "cell_type": "markdown",
   "metadata": {},
   "source": [
    "Rusty Bargain used car sales service is developing an app to attract new customers. In that app, you can quickly find out the market value of your car. You have access to historical data: technical specifications, trim versions, and prices. You need to build the model to determine the value. \n",
    "\n",
    "Rusty Bargain is interested in:\n",
    "\n",
    "- the quality of the prediction;\n",
    "- the speed of the prediction;\n",
    "- the time required for training"
   ]
  },
  {
   "cell_type": "markdown",
   "metadata": {},
   "source": [
    "## Libraries"
   ]
  },
  {
   "cell_type": "code",
   "execution_count": 1,
   "metadata": {},
   "outputs": [],
   "source": [
    "!pip install -q --user --upgrade pandas seaborn sklearn scikit-learn category_encoders lightgbm xgboost catboost"
   ]
  },
  {
   "cell_type": "code",
   "execution_count": 2,
   "metadata": {},
   "outputs": [],
   "source": [
    "import os, warnings\n",
    "from IPython.display import display, Markdown\n",
    "from pprint import pprint\n",
    "\n",
    "from time import perf_counter as timer\n",
    "from datetime import timedelta\n",
    "\n",
    "import numpy as np\n",
    "import pandas as pd\n",
    "import seaborn as sns\n",
    "\n",
    "from sklearn.pipeline import Pipeline, make_pipeline\n",
    "from sklearn.compose import ColumnTransformer, make_column_transformer\n",
    "\n",
    "from sklearn.impute import SimpleImputer, KNNImputer\n",
    "from sklearn.preprocessing import StandardScaler, OrdinalEncoder, OneHotEncoder\n",
    "from sklearn.decomposition import PCA\n",
    "from category_encoders import BinaryEncoder\n",
    "\n",
    "# from sklearn.feature_selection import SelectKBest, f_regression, mutual_info_regression\n",
    "\n",
    "from sklearn.model_selection import train_test_split, cross_validate\n",
    "from sklearn.metrics import make_scorer, mean_squared_error, mean_absolute_error, r2_score\n",
    "\n",
    "from sklearn.experimental import enable_halving_search_cv\n",
    "from sklearn.model_selection import HalvingRandomSearchCV\n",
    "\n",
    "from sklearn.dummy import DummyRegressor\n",
    "from sklearn.linear_model import LinearRegression, Lasso\n",
    "from sklearn.tree import DecisionTreeRegressor\n",
    "from sklearn.ensemble import RandomForestRegressor\n",
    "\n",
    "import lightgbm as lgb\n",
    "import xgboost as xgb\n",
    "import catboost as cb"
   ]
  },
  {
   "cell_type": "code",
   "execution_count": 3,
   "metadata": {},
   "outputs": [],
   "source": [
    "random_state = 42"
   ]
  },
  {
   "cell_type": "code",
   "execution_count": 4,
   "metadata": {},
   "outputs": [],
   "source": [
    "def ignore_warnings(func):\n",
    "    \n",
    "    def wrap(*args, **kwargs):\n",
    "        with warnings.catch_warnings():\n",
    "            warnings.simplefilter('ignore')\n",
    "            return func(*args, **kwargs)\n",
    "        \n",
    "    return wrap"
   ]
  },
  {
   "cell_type": "markdown",
   "metadata": {},
   "source": [
    "## Data preparation\n",
    "***"
   ]
  },
  {
   "cell_type": "markdown",
   "metadata": {},
   "source": [
    "### Features:\n",
    "    DateCrawled — date profile was downloaded from the database\n",
    "    VehicleType — vehicle body type\n",
    "    RegistrationYear — vehicle registration year\n",
    "    Gearbox — gearbox type\n",
    "    Power — power (hp)\n",
    "    Model — vehicle model\n",
    "    Mileage — mileage (measured in km due to dataset's regional specifics)\n",
    "    RegistrationMonth — vehicle registration month\n",
    "    FuelType — fuel type\n",
    "    Brand — vehicle brand\n",
    "    NotRepaired — vehicle repaired or not\n",
    "    DateCreated — date of profile creation\n",
    "    NumberOfPictures — number of vehicle pictures\n",
    "    PostalCode — postal code of profile owner (user)\n",
    "    LastSeen — date of the last activity of the user\n",
    "    \n",
    "### Target:\n",
    "    Price — price (Euro)"
   ]
  },
  {
   "cell_type": "code",
   "execution_count": 5,
   "metadata": {},
   "outputs": [],
   "source": [
    "def find_file(filename):\n",
    "    \"\"\"Returns file path under /datasets directory, if exists, otherwise uses local dir\"\"\"\n",
    "    \n",
    "    filepath = f'/datasets/{filename}'\n",
    "    if not os.path.isfile(filepath):\n",
    "        filepath = filename\n",
    "        \n",
    "    return filepath\n",
    "\n",
    "# find_file(filename)"
   ]
  },
  {
   "cell_type": "code",
   "execution_count": 6,
   "metadata": {},
   "outputs": [],
   "source": [
    "filename = 'car_data.csv'"
   ]
  },
  {
   "cell_type": "code",
   "execution_count": 7,
   "metadata": {},
   "outputs": [],
   "source": [
    "filename = find_file(filename)"
   ]
  },
  {
   "cell_type": "code",
   "execution_count": 8,
   "metadata": {},
   "outputs": [
    {
     "name": "stdout",
     "output_type": "stream",
     "text": [
      " 39M\tcar_data.csv\n",
      "  354370 car_data.csv\n",
      "DateCrawled,Price,VehicleType,RegistrationYear,Gearbox,Power,Model,Mileage,RegistrationMonth,FuelType,Brand,NotRepaired,DateCreated,NumberOfPictures,PostalCode,LastSeen\n",
      "24/03/2016 11:52,480,,1993,manual,0,golf,150000,0,petrol,volkswagen,,24/03/2016 00:00,0,70435,07/04/2016 03:16\n"
     ]
    }
   ],
   "source": [
    "!du -h \"$filename\"\n",
    "!wc -l \"$filename\"\n",
    "!head -n2 \"$filename\""
   ]
  },
  {
   "cell_type": "markdown",
   "metadata": {},
   "source": [
    "39mb csv file, ~354k entries."
   ]
  },
  {
   "cell_type": "code",
   "execution_count": 9,
   "metadata": {},
   "outputs": [
    {
     "name": "stdout",
     "output_type": "stream",
     "text": [
      "CPU times: user 488 ms, sys: 50.7 ms, total: 538 ms\n",
      "Wall time: 538 ms\n"
     ]
    }
   ],
   "source": [
    "%%time\n",
    "df = pd.read_csv(filename)"
   ]
  },
  {
   "cell_type": "code",
   "execution_count": 10,
   "metadata": {},
   "outputs": [
    {
     "data": {
      "text/html": [
       "<div>\n",
       "<style scoped>\n",
       "    .dataframe tbody tr th:only-of-type {\n",
       "        vertical-align: middle;\n",
       "    }\n",
       "\n",
       "    .dataframe tbody tr th {\n",
       "        vertical-align: top;\n",
       "    }\n",
       "\n",
       "    .dataframe thead th {\n",
       "        text-align: right;\n",
       "    }\n",
       "</style>\n",
       "<table border=\"1\" class=\"dataframe\">\n",
       "  <thead>\n",
       "    <tr style=\"text-align: right;\">\n",
       "      <th></th>\n",
       "      <th>DateCrawled</th>\n",
       "      <th>Price</th>\n",
       "      <th>VehicleType</th>\n",
       "      <th>RegistrationYear</th>\n",
       "      <th>Gearbox</th>\n",
       "      <th>Power</th>\n",
       "      <th>Model</th>\n",
       "      <th>Mileage</th>\n",
       "      <th>RegistrationMonth</th>\n",
       "      <th>FuelType</th>\n",
       "      <th>Brand</th>\n",
       "      <th>NotRepaired</th>\n",
       "      <th>DateCreated</th>\n",
       "      <th>NumberOfPictures</th>\n",
       "      <th>PostalCode</th>\n",
       "      <th>LastSeen</th>\n",
       "    </tr>\n",
       "  </thead>\n",
       "  <tbody>\n",
       "    <tr>\n",
       "      <th>0</th>\n",
       "      <td>24/03/2016 11:52</td>\n",
       "      <td>480</td>\n",
       "      <td>NaN</td>\n",
       "      <td>1993</td>\n",
       "      <td>manual</td>\n",
       "      <td>0</td>\n",
       "      <td>golf</td>\n",
       "      <td>150000</td>\n",
       "      <td>0</td>\n",
       "      <td>petrol</td>\n",
       "      <td>volkswagen</td>\n",
       "      <td>NaN</td>\n",
       "      <td>24/03/2016 00:00</td>\n",
       "      <td>0</td>\n",
       "      <td>70435</td>\n",
       "      <td>07/04/2016 03:16</td>\n",
       "    </tr>\n",
       "    <tr>\n",
       "      <th>1</th>\n",
       "      <td>24/03/2016 10:58</td>\n",
       "      <td>18300</td>\n",
       "      <td>coupe</td>\n",
       "      <td>2011</td>\n",
       "      <td>manual</td>\n",
       "      <td>190</td>\n",
       "      <td>NaN</td>\n",
       "      <td>125000</td>\n",
       "      <td>5</td>\n",
       "      <td>gasoline</td>\n",
       "      <td>audi</td>\n",
       "      <td>yes</td>\n",
       "      <td>24/03/2016 00:00</td>\n",
       "      <td>0</td>\n",
       "      <td>66954</td>\n",
       "      <td>07/04/2016 01:46</td>\n",
       "    </tr>\n",
       "    <tr>\n",
       "      <th>2</th>\n",
       "      <td>14/03/2016 12:52</td>\n",
       "      <td>9800</td>\n",
       "      <td>suv</td>\n",
       "      <td>2004</td>\n",
       "      <td>auto</td>\n",
       "      <td>163</td>\n",
       "      <td>grand</td>\n",
       "      <td>125000</td>\n",
       "      <td>8</td>\n",
       "      <td>gasoline</td>\n",
       "      <td>jeep</td>\n",
       "      <td>NaN</td>\n",
       "      <td>14/03/2016 00:00</td>\n",
       "      <td>0</td>\n",
       "      <td>90480</td>\n",
       "      <td>05/04/2016 12:47</td>\n",
       "    </tr>\n",
       "    <tr>\n",
       "      <th>3</th>\n",
       "      <td>17/03/2016 16:54</td>\n",
       "      <td>1500</td>\n",
       "      <td>small</td>\n",
       "      <td>2001</td>\n",
       "      <td>manual</td>\n",
       "      <td>75</td>\n",
       "      <td>golf</td>\n",
       "      <td>150000</td>\n",
       "      <td>6</td>\n",
       "      <td>petrol</td>\n",
       "      <td>volkswagen</td>\n",
       "      <td>no</td>\n",
       "      <td>17/03/2016 00:00</td>\n",
       "      <td>0</td>\n",
       "      <td>91074</td>\n",
       "      <td>17/03/2016 17:40</td>\n",
       "    </tr>\n",
       "    <tr>\n",
       "      <th>4</th>\n",
       "      <td>31/03/2016 17:25</td>\n",
       "      <td>3600</td>\n",
       "      <td>small</td>\n",
       "      <td>2008</td>\n",
       "      <td>manual</td>\n",
       "      <td>69</td>\n",
       "      <td>fabia</td>\n",
       "      <td>90000</td>\n",
       "      <td>7</td>\n",
       "      <td>gasoline</td>\n",
       "      <td>skoda</td>\n",
       "      <td>no</td>\n",
       "      <td>31/03/2016 00:00</td>\n",
       "      <td>0</td>\n",
       "      <td>60437</td>\n",
       "      <td>06/04/2016 10:17</td>\n",
       "    </tr>\n",
       "  </tbody>\n",
       "</table>\n",
       "</div>"
      ],
      "text/plain": [
       "        DateCrawled  Price VehicleType  RegistrationYear Gearbox  Power  \\\n",
       "0  24/03/2016 11:52    480         NaN              1993  manual      0   \n",
       "1  24/03/2016 10:58  18300       coupe              2011  manual    190   \n",
       "2  14/03/2016 12:52   9800         suv              2004    auto    163   \n",
       "3  17/03/2016 16:54   1500       small              2001  manual     75   \n",
       "4  31/03/2016 17:25   3600       small              2008  manual     69   \n",
       "\n",
       "   Model  Mileage  RegistrationMonth  FuelType       Brand NotRepaired  \\\n",
       "0   golf   150000                  0    petrol  volkswagen         NaN   \n",
       "1    NaN   125000                  5  gasoline        audi         yes   \n",
       "2  grand   125000                  8  gasoline        jeep         NaN   \n",
       "3   golf   150000                  6    petrol  volkswagen          no   \n",
       "4  fabia    90000                  7  gasoline       skoda          no   \n",
       "\n",
       "        DateCreated  NumberOfPictures  PostalCode          LastSeen  \n",
       "0  24/03/2016 00:00                 0       70435  07/04/2016 03:16  \n",
       "1  24/03/2016 00:00                 0       66954  07/04/2016 01:46  \n",
       "2  14/03/2016 00:00                 0       90480  05/04/2016 12:47  \n",
       "3  17/03/2016 00:00                 0       91074  17/03/2016 17:40  \n",
       "4  31/03/2016 00:00                 0       60437  06/04/2016 10:17  "
      ]
     },
     "execution_count": 10,
     "metadata": {},
     "output_type": "execute_result"
    }
   ],
   "source": [
    "df.head()"
   ]
  },
  {
   "cell_type": "code",
   "execution_count": 11,
   "metadata": {},
   "outputs": [],
   "source": [
    "df.drop(['DateCrawled', 'LastSeen', 'PostalCode', 'DateCreated'], axis=1, inplace=True)"
   ]
  },
  {
   "cell_type": "code",
   "execution_count": 12,
   "metadata": {},
   "outputs": [
    {
     "name": "stdout",
     "output_type": "stream",
     "text": [
      "<class 'pandas.core.frame.DataFrame'>\n",
      "RangeIndex: 354369 entries, 0 to 354368\n",
      "Data columns (total 12 columns):\n",
      " #   Column             Non-Null Count   Dtype \n",
      "---  ------             --------------   ----- \n",
      " 0   Price              354369 non-null  int64 \n",
      " 1   VehicleType        316879 non-null  object\n",
      " 2   RegistrationYear   354369 non-null  int64 \n",
      " 3   Gearbox            334536 non-null  object\n",
      " 4   Power              354369 non-null  int64 \n",
      " 5   Model              334664 non-null  object\n",
      " 6   Mileage            354369 non-null  int64 \n",
      " 7   RegistrationMonth  354369 non-null  int64 \n",
      " 8   FuelType           321474 non-null  object\n",
      " 9   Brand              354369 non-null  object\n",
      " 10  NotRepaired        283215 non-null  object\n",
      " 11  NumberOfPictures   354369 non-null  int64 \n",
      "dtypes: int64(6), object(6)\n",
      "memory usage: 137.3 MB\n"
     ]
    }
   ],
   "source": [
    "df.info(memory_usage='deep')"
   ]
  },
  {
   "cell_type": "markdown",
   "metadata": {},
   "source": [
    "High memory usage, can optimize by downcasting types."
   ]
  },
  {
   "cell_type": "code",
   "execution_count": 13,
   "metadata": {},
   "outputs": [
    {
     "data": {
      "text/plain": [
       "Price                int64\n",
       "RegistrationYear     int64\n",
       "Power                int64\n",
       "Mileage              int64\n",
       "RegistrationMonth    int64\n",
       "NumberOfPictures     int64\n",
       "dtype: object"
      ]
     },
     "execution_count": 13,
     "metadata": {},
     "output_type": "execute_result"
    }
   ],
   "source": [
    "int_subset = df.select_dtypes('integer')\n",
    "int_subset.dtypes"
   ]
  },
  {
   "cell_type": "code",
   "execution_count": 14,
   "metadata": {},
   "outputs": [
    {
     "data": {
      "text/plain": [
       "Price                int16\n",
       "RegistrationYear     int16\n",
       "Power                int16\n",
       "Mileage              int32\n",
       "RegistrationMonth     int8\n",
       "NumberOfPictures      int8\n",
       "dtype: object"
      ]
     },
     "execution_count": 14,
     "metadata": {},
     "output_type": "execute_result"
    }
   ],
   "source": [
    "df[int_subset.columns] = int_subset.apply(pd.to_numeric, downcast='integer')\n",
    "df.select_dtypes('integer').dtypes"
   ]
  },
  {
   "cell_type": "code",
   "execution_count": 15,
   "metadata": {},
   "outputs": [],
   "source": [
    "del int_subset"
   ]
  },
  {
   "cell_type": "code",
   "execution_count": 16,
   "metadata": {},
   "outputs": [
    {
     "name": "stdout",
     "output_type": "stream",
     "text": [
      "<class 'pandas.core.frame.DataFrame'>\n",
      "RangeIndex: 354369 entries, 0 to 354368\n",
      "Columns: 12 entries, Price to NumberOfPictures\n",
      "dtypes: int16(3), int32(1), int8(2), object(6)\n",
      "memory usage: 125.1 MB\n"
     ]
    }
   ],
   "source": [
    "df.info(memory_usage='deep', verbose=False)"
   ]
  },
  {
   "cell_type": "code",
   "execution_count": 17,
   "metadata": {},
   "outputs": [],
   "source": [
    "# df.select_dtypes('O')"
   ]
  },
  {
   "cell_type": "code",
   "execution_count": 18,
   "metadata": {
    "scrolled": true
   },
   "outputs": [
    {
     "data": {
      "text/html": [
       "<div>\n",
       "<style scoped>\n",
       "    .dataframe tbody tr th:only-of-type {\n",
       "        vertical-align: middle;\n",
       "    }\n",
       "\n",
       "    .dataframe tbody tr th {\n",
       "        vertical-align: top;\n",
       "    }\n",
       "\n",
       "    .dataframe thead th {\n",
       "        text-align: right;\n",
       "    }\n",
       "</style>\n",
       "<table border=\"1\" class=\"dataframe\">\n",
       "  <thead>\n",
       "    <tr style=\"text-align: right;\">\n",
       "      <th></th>\n",
       "      <th>Price</th>\n",
       "      <th>RegistrationYear</th>\n",
       "      <th>Power</th>\n",
       "      <th>Mileage</th>\n",
       "      <th>RegistrationMonth</th>\n",
       "      <th>NumberOfPictures</th>\n",
       "    </tr>\n",
       "  </thead>\n",
       "  <tbody>\n",
       "    <tr>\n",
       "      <th>count</th>\n",
       "      <td>354369.000000</td>\n",
       "      <td>354369.000000</td>\n",
       "      <td>354369.000000</td>\n",
       "      <td>354369.000000</td>\n",
       "      <td>354369.000000</td>\n",
       "      <td>354369.0</td>\n",
       "    </tr>\n",
       "    <tr>\n",
       "      <th>mean</th>\n",
       "      <td>4416.656776</td>\n",
       "      <td>2004.234448</td>\n",
       "      <td>110.094337</td>\n",
       "      <td>128211.172535</td>\n",
       "      <td>5.714645</td>\n",
       "      <td>0.0</td>\n",
       "    </tr>\n",
       "    <tr>\n",
       "      <th>std</th>\n",
       "      <td>4514.158514</td>\n",
       "      <td>90.227958</td>\n",
       "      <td>189.850405</td>\n",
       "      <td>37905.341530</td>\n",
       "      <td>3.726421</td>\n",
       "      <td>0.0</td>\n",
       "    </tr>\n",
       "    <tr>\n",
       "      <th>min</th>\n",
       "      <td>0.000000</td>\n",
       "      <td>1000.000000</td>\n",
       "      <td>0.000000</td>\n",
       "      <td>5000.000000</td>\n",
       "      <td>0.000000</td>\n",
       "      <td>0.0</td>\n",
       "    </tr>\n",
       "    <tr>\n",
       "      <th>25%</th>\n",
       "      <td>1050.000000</td>\n",
       "      <td>1999.000000</td>\n",
       "      <td>69.000000</td>\n",
       "      <td>125000.000000</td>\n",
       "      <td>3.000000</td>\n",
       "      <td>0.0</td>\n",
       "    </tr>\n",
       "    <tr>\n",
       "      <th>50%</th>\n",
       "      <td>2700.000000</td>\n",
       "      <td>2003.000000</td>\n",
       "      <td>105.000000</td>\n",
       "      <td>150000.000000</td>\n",
       "      <td>6.000000</td>\n",
       "      <td>0.0</td>\n",
       "    </tr>\n",
       "    <tr>\n",
       "      <th>75%</th>\n",
       "      <td>6400.000000</td>\n",
       "      <td>2008.000000</td>\n",
       "      <td>143.000000</td>\n",
       "      <td>150000.000000</td>\n",
       "      <td>9.000000</td>\n",
       "      <td>0.0</td>\n",
       "    </tr>\n",
       "    <tr>\n",
       "      <th>max</th>\n",
       "      <td>20000.000000</td>\n",
       "      <td>9999.000000</td>\n",
       "      <td>20000.000000</td>\n",
       "      <td>150000.000000</td>\n",
       "      <td>12.000000</td>\n",
       "      <td>0.0</td>\n",
       "    </tr>\n",
       "  </tbody>\n",
       "</table>\n",
       "</div>"
      ],
      "text/plain": [
       "               Price  RegistrationYear          Power        Mileage  \\\n",
       "count  354369.000000     354369.000000  354369.000000  354369.000000   \n",
       "mean     4416.656776       2004.234448     110.094337  128211.172535   \n",
       "std      4514.158514         90.227958     189.850405   37905.341530   \n",
       "min         0.000000       1000.000000       0.000000    5000.000000   \n",
       "25%      1050.000000       1999.000000      69.000000  125000.000000   \n",
       "50%      2700.000000       2003.000000     105.000000  150000.000000   \n",
       "75%      6400.000000       2008.000000     143.000000  150000.000000   \n",
       "max     20000.000000       9999.000000   20000.000000  150000.000000   \n",
       "\n",
       "       RegistrationMonth  NumberOfPictures  \n",
       "count      354369.000000          354369.0  \n",
       "mean            5.714645               0.0  \n",
       "std             3.726421               0.0  \n",
       "min             0.000000               0.0  \n",
       "25%             3.000000               0.0  \n",
       "50%             6.000000               0.0  \n",
       "75%             9.000000               0.0  \n",
       "max            12.000000               0.0  "
      ]
     },
     "execution_count": 18,
     "metadata": {},
     "output_type": "execute_result"
    }
   ],
   "source": [
    "df.describe()"
   ]
  },
  {
   "cell_type": "code",
   "execution_count": 19,
   "metadata": {},
   "outputs": [],
   "source": [
    "df.drop('NumberOfPictures', axis=1, inplace=True)"
   ]
  },
  {
   "cell_type": "markdown",
   "metadata": {},
   "source": [
    "<div class=\"alert alert-success\">\n",
    "<b>Reviewer's comment</b>\n",
    "\t  \n",
    "Great, the data was loaded and inspected. You also dropped a constant feature, well done!\n",
    "\t  \n",
    "</div>"
   ]
  },
  {
   "cell_type": "markdown",
   "metadata": {},
   "source": [
    "## EDA"
   ]
  },
  {
   "cell_type": "code",
   "execution_count": 20,
   "metadata": {},
   "outputs": [],
   "source": [
    "def rows_ratio(row_count, point=2):\n",
    "    print('{:,} / {:,} ({}%)'.format(row_count, df.shape[0], (row_count/df.shape[0]*100).round(point)))"
   ]
  },
  {
   "cell_type": "markdown",
   "metadata": {},
   "source": [
    "### RegistrationYear"
   ]
  },
  {
   "cell_type": "code",
   "execution_count": 21,
   "metadata": {},
   "outputs": [
    {
     "data": {
      "image/png": "[encoded data removed]",
      "text/plain": [
       "<Figure size 432x288 with 1 Axes>"
      ]
     },
     "metadata": {
      "needs_background": "light"
     },
     "output_type": "display_data"
    }
   ],
   "source": [
    "df['RegistrationYear'].plot.box();"
   ]
  },
  {
   "cell_type": "code",
   "execution_count": 22,
   "metadata": {},
   "outputs": [
    {
     "data": {
      "text/plain": [
       "array([1000, 1001, 1039, 1111, 1200, 1234, 1253, 1255, 1300, 1400, 1500,\n",
       "       1600, 1602, 1688, 1800, 1910, 1915, 1919, 1920, 1923, 1925, 1927,\n",
       "       1928, 1929, 1930, 1931, 1932, 1933, 1934, 1935, 1936, 1937, 1938,\n",
       "       1940, 1941, 1942, 1943, 1944, 1945, 1946, 1947, 1948, 1949, 1950,\n",
       "       1951, 1952, 1953, 1954, 1955, 1956, 1957, 1958, 1959, 1960, 1961,\n",
       "       1962, 1963, 1964, 1965, 1966, 1967, 1968, 1969, 1970, 1971, 1972,\n",
       "       1973, 1974, 1975, 1976, 1977, 1978, 1979, 1980, 1981, 1982, 1983,\n",
       "       1984, 1985, 1986, 1987, 1988, 1989, 1990, 1991, 1992, 1993, 1994,\n",
       "       1995, 1996, 1997, 1998, 1999, 2000, 2001, 2002, 2003, 2004, 2005,\n",
       "       2006, 2007, 2008, 2009, 2010, 2011, 2012, 2013, 2014, 2015, 2016,\n",
       "       2017, 2018, 2019, 2066, 2200, 2222, 2290, 2500, 2800, 2900, 3000,\n",
       "       3200, 3500, 3700, 3800, 4000, 4100, 4500, 4800, 5000, 5300, 5555,\n",
       "       5600, 5900, 5911, 6000, 6500, 7000, 7100, 7500, 7800, 8000, 8200,\n",
       "       8455, 8500, 8888, 9000, 9229, 9450, 9996, 9999], dtype=int16)"
      ]
     },
     "execution_count": 22,
     "metadata": {},
     "output_type": "execute_result"
    }
   ],
   "source": [
    "np.array(sorted(df['RegistrationYear'].unique()))"
   ]
  },
  {
   "cell_type": "code",
   "execution_count": 23,
   "metadata": {},
   "outputs": [
    {
     "name": "stdout",
     "output_type": "stream",
     "text": [
      "171 / 354,369 (0.05%)\n"
     ]
    }
   ],
   "source": [
    "reg_year_outliers = ((df['RegistrationYear'] < 1900) | (df['RegistrationYear'] > 2021))\n",
    "rows_ratio(reg_year_outliers.sum())"
   ]
  },
  {
   "cell_type": "code",
   "execution_count": 24,
   "metadata": {},
   "outputs": [
    {
     "data": {
      "text/html": [
       "<div>\n",
       "<style scoped>\n",
       "    .dataframe tbody tr th:only-of-type {\n",
       "        vertical-align: middle;\n",
       "    }\n",
       "\n",
       "    .dataframe tbody tr th {\n",
       "        vertical-align: top;\n",
       "    }\n",
       "\n",
       "    .dataframe thead th {\n",
       "        text-align: right;\n",
       "    }\n",
       "</style>\n",
       "<table border=\"1\" class=\"dataframe\">\n",
       "  <thead>\n",
       "    <tr style=\"text-align: right;\">\n",
       "      <th></th>\n",
       "      <th>Price</th>\n",
       "      <th>VehicleType</th>\n",
       "      <th>RegistrationYear</th>\n",
       "      <th>Gearbox</th>\n",
       "      <th>Power</th>\n",
       "      <th>Model</th>\n",
       "      <th>Mileage</th>\n",
       "      <th>RegistrationMonth</th>\n",
       "      <th>FuelType</th>\n",
       "      <th>Brand</th>\n",
       "      <th>NotRepaired</th>\n",
       "    </tr>\n",
       "  </thead>\n",
       "  <tbody>\n",
       "    <tr>\n",
       "      <th>622</th>\n",
       "      <td>0</td>\n",
       "      <td>NaN</td>\n",
       "      <td>1111</td>\n",
       "      <td>NaN</td>\n",
       "      <td>0</td>\n",
       "      <td>NaN</td>\n",
       "      <td>5000</td>\n",
       "      <td>0</td>\n",
       "      <td>NaN</td>\n",
       "      <td>opel</td>\n",
       "      <td>NaN</td>\n",
       "    </tr>\n",
       "    <tr>\n",
       "      <th>12946</th>\n",
       "      <td>49</td>\n",
       "      <td>NaN</td>\n",
       "      <td>5000</td>\n",
       "      <td>NaN</td>\n",
       "      <td>0</td>\n",
       "      <td>golf</td>\n",
       "      <td>5000</td>\n",
       "      <td>12</td>\n",
       "      <td>NaN</td>\n",
       "      <td>volkswagen</td>\n",
       "      <td>NaN</td>\n",
       "    </tr>\n",
       "    <tr>\n",
       "      <th>15147</th>\n",
       "      <td>0</td>\n",
       "      <td>NaN</td>\n",
       "      <td>9999</td>\n",
       "      <td>NaN</td>\n",
       "      <td>0</td>\n",
       "      <td>NaN</td>\n",
       "      <td>10000</td>\n",
       "      <td>0</td>\n",
       "      <td>NaN</td>\n",
       "      <td>sonstige_autos</td>\n",
       "      <td>NaN</td>\n",
       "    </tr>\n",
       "    <tr>\n",
       "      <th>15870</th>\n",
       "      <td>1700</td>\n",
       "      <td>NaN</td>\n",
       "      <td>3200</td>\n",
       "      <td>NaN</td>\n",
       "      <td>0</td>\n",
       "      <td>NaN</td>\n",
       "      <td>5000</td>\n",
       "      <td>0</td>\n",
       "      <td>NaN</td>\n",
       "      <td>sonstige_autos</td>\n",
       "      <td>NaN</td>\n",
       "    </tr>\n",
       "    <tr>\n",
       "      <th>16062</th>\n",
       "      <td>190</td>\n",
       "      <td>NaN</td>\n",
       "      <td>1000</td>\n",
       "      <td>NaN</td>\n",
       "      <td>0</td>\n",
       "      <td>mondeo</td>\n",
       "      <td>5000</td>\n",
       "      <td>0</td>\n",
       "      <td>NaN</td>\n",
       "      <td>ford</td>\n",
       "      <td>NaN</td>\n",
       "    </tr>\n",
       "    <tr>\n",
       "      <th>...</th>\n",
       "      <td>...</td>\n",
       "      <td>...</td>\n",
       "      <td>...</td>\n",
       "      <td>...</td>\n",
       "      <td>...</td>\n",
       "      <td>...</td>\n",
       "      <td>...</td>\n",
       "      <td>...</td>\n",
       "      <td>...</td>\n",
       "      <td>...</td>\n",
       "      <td>...</td>\n",
       "    </tr>\n",
       "    <tr>\n",
       "      <th>340548</th>\n",
       "      <td>0</td>\n",
       "      <td>NaN</td>\n",
       "      <td>3500</td>\n",
       "      <td>manual</td>\n",
       "      <td>75</td>\n",
       "      <td>NaN</td>\n",
       "      <td>5000</td>\n",
       "      <td>3</td>\n",
       "      <td>petrol</td>\n",
       "      <td>sonstige_autos</td>\n",
       "      <td>NaN</td>\n",
       "    </tr>\n",
       "    <tr>\n",
       "      <th>340759</th>\n",
       "      <td>700</td>\n",
       "      <td>NaN</td>\n",
       "      <td>1600</td>\n",
       "      <td>manual</td>\n",
       "      <td>1600</td>\n",
       "      <td>a3</td>\n",
       "      <td>150000</td>\n",
       "      <td>4</td>\n",
       "      <td>petrol</td>\n",
       "      <td>audi</td>\n",
       "      <td>no</td>\n",
       "    </tr>\n",
       "    <tr>\n",
       "      <th>341791</th>\n",
       "      <td>1</td>\n",
       "      <td>NaN</td>\n",
       "      <td>3000</td>\n",
       "      <td>NaN</td>\n",
       "      <td>0</td>\n",
       "      <td>zafira</td>\n",
       "      <td>5000</td>\n",
       "      <td>0</td>\n",
       "      <td>NaN</td>\n",
       "      <td>opel</td>\n",
       "      <td>NaN</td>\n",
       "    </tr>\n",
       "    <tr>\n",
       "      <th>348830</th>\n",
       "      <td>1</td>\n",
       "      <td>NaN</td>\n",
       "      <td>1000</td>\n",
       "      <td>NaN</td>\n",
       "      <td>1000</td>\n",
       "      <td>NaN</td>\n",
       "      <td>150000</td>\n",
       "      <td>0</td>\n",
       "      <td>NaN</td>\n",
       "      <td>sonstige_autos</td>\n",
       "      <td>NaN</td>\n",
       "    </tr>\n",
       "    <tr>\n",
       "      <th>351682</th>\n",
       "      <td>11500</td>\n",
       "      <td>NaN</td>\n",
       "      <td>1800</td>\n",
       "      <td>NaN</td>\n",
       "      <td>16</td>\n",
       "      <td>other</td>\n",
       "      <td>5000</td>\n",
       "      <td>6</td>\n",
       "      <td>petrol</td>\n",
       "      <td>fiat</td>\n",
       "      <td>NaN</td>\n",
       "    </tr>\n",
       "  </tbody>\n",
       "</table>\n",
       "<p>171 rows × 11 columns</p>\n",
       "</div>"
      ],
      "text/plain": [
       "        Price VehicleType  RegistrationYear Gearbox  Power   Model  Mileage  \\\n",
       "622         0         NaN              1111     NaN      0     NaN     5000   \n",
       "12946      49         NaN              5000     NaN      0    golf     5000   \n",
       "15147       0         NaN              9999     NaN      0     NaN    10000   \n",
       "15870    1700         NaN              3200     NaN      0     NaN     5000   \n",
       "16062     190         NaN              1000     NaN      0  mondeo     5000   \n",
       "...       ...         ...               ...     ...    ...     ...      ...   \n",
       "340548      0         NaN              3500  manual     75     NaN     5000   \n",
       "340759    700         NaN              1600  manual   1600      a3   150000   \n",
       "341791      1         NaN              3000     NaN      0  zafira     5000   \n",
       "348830      1         NaN              1000     NaN   1000     NaN   150000   \n",
       "351682  11500         NaN              1800     NaN     16   other     5000   \n",
       "\n",
       "        RegistrationMonth FuelType           Brand NotRepaired  \n",
       "622                     0      NaN            opel         NaN  \n",
       "12946                  12      NaN      volkswagen         NaN  \n",
       "15147                   0      NaN  sonstige_autos         NaN  \n",
       "15870                   0      NaN  sonstige_autos         NaN  \n",
       "16062                   0      NaN            ford         NaN  \n",
       "...                   ...      ...             ...         ...  \n",
       "340548                  3   petrol  sonstige_autos         NaN  \n",
       "340759                  4   petrol            audi          no  \n",
       "341791                  0      NaN            opel         NaN  \n",
       "348830                  0      NaN  sonstige_autos         NaN  \n",
       "351682                  6   petrol            fiat         NaN  \n",
       "\n",
       "[171 rows x 11 columns]"
      ]
     },
     "execution_count": 24,
     "metadata": {},
     "output_type": "execute_result"
    }
   ],
   "source": [
    "df[reg_year_outliers]"
   ]
  },
  {
   "cell_type": "markdown",
   "metadata": {},
   "source": [
    "Besides having an invalid RegistrationYear,  \n",
    "some these observations also have invalid data in other features (Price, VehicleType, Gearbox, Power, etc..).  \n",
    "Since it represents a very small fraction of all observations (0.05%), can safely drop them."
   ]
  },
  {
   "cell_type": "code",
   "execution_count": 25,
   "metadata": {},
   "outputs": [],
   "source": [
    "df.drop(df[reg_year_outliers].index, inplace=True)"
   ]
  },
  {
   "cell_type": "code",
   "execution_count": 26,
   "metadata": {},
   "outputs": [
    {
     "data": {
      "text/plain": [
       "array([1910, 1915, 1919, 1920, 1923, 1925, 1927, 1928, 1929, 1930, 1931,\n",
       "       1932, 1933, 1934, 1935, 1936, 1937, 1938, 1940, 1941, 1942, 1943,\n",
       "       1944, 1945, 1946, 1947, 1948, 1949, 1950, 1951, 1952, 1953, 1954,\n",
       "       1955, 1956, 1957, 1958, 1959, 1960, 1961, 1962, 1963, 1964, 1965,\n",
       "       1966, 1967, 1968, 1969, 1970, 1971, 1972, 1973, 1974, 1975, 1976,\n",
       "       1977, 1978, 1979, 1980, 1981, 1982, 1983, 1984, 1985, 1986, 1987,\n",
       "       1988, 1989, 1990, 1991, 1992, 1993, 1994, 1995, 1996, 1997, 1998,\n",
       "       1999, 2000, 2001, 2002, 2003, 2004, 2005, 2006, 2007, 2008, 2009,\n",
       "       2010, 2011, 2012, 2013, 2014, 2015, 2016, 2017, 2018, 2019],\n",
       "      dtype=int16)"
      ]
     },
     "execution_count": 26,
     "metadata": {},
     "output_type": "execute_result"
    }
   ],
   "source": [
    "np.array(sorted(df['RegistrationYear'].unique()))"
   ]
  },
  {
   "cell_type": "markdown",
   "metadata": {},
   "source": [
    "### RegistrationMonth"
   ]
  },
  {
   "cell_type": "code",
   "execution_count": 27,
   "metadata": {
    "scrolled": true
   },
   "outputs": [
    {
     "data": {
      "text/plain": [
       "count    354198.000000\n",
       "mean          5.716819\n",
       "std           3.725539\n",
       "min           0.000000\n",
       "25%           3.000000\n",
       "50%           6.000000\n",
       "75%           9.000000\n",
       "max          12.000000\n",
       "Name: RegistrationMonth, dtype: float64"
      ]
     },
     "execution_count": 27,
     "metadata": {},
     "output_type": "execute_result"
    }
   ],
   "source": [
    "df['RegistrationMonth'].describe()"
   ]
  },
  {
   "cell_type": "code",
   "execution_count": 28,
   "metadata": {},
   "outputs": [
    {
     "name": "stdout",
     "output_type": "stream",
     "text": [
      "37,220 / 354,198 (10.51%)\n"
     ]
    }
   ],
   "source": [
    "rows_ratio((df['RegistrationMonth'] == 0).sum())"
   ]
  },
  {
   "cell_type": "code",
   "execution_count": 29,
   "metadata": {},
   "outputs": [],
   "source": [
    "df['RegistrationMonth'].replace(0, np.NaN, inplace=True)"
   ]
  },
  {
   "cell_type": "markdown",
   "metadata": {},
   "source": [
    "### NotRepaired"
   ]
  },
  {
   "cell_type": "code",
   "execution_count": 30,
   "metadata": {},
   "outputs": [],
   "source": [
    "df['Repaired'] = df['NotRepaired'].map({'yes': 0, 'no': 1})\n",
    "df.drop('NotRepaired', axis=1, inplace=True)"
   ]
  },
  {
   "cell_type": "markdown",
   "metadata": {},
   "source": [
    "### Price"
   ]
  },
  {
   "cell_type": "code",
   "execution_count": 31,
   "metadata": {},
   "outputs": [
    {
     "data": {
      "text/plain": [
       "count    354198.000000\n",
       "mean       4417.651314\n",
       "std        4514.081022\n",
       "min           0.000000\n",
       "25%        1050.000000\n",
       "50%        2700.000000\n",
       "75%        6400.000000\n",
       "max       20000.000000\n",
       "Name: Price, dtype: float64"
      ]
     },
     "execution_count": 31,
     "metadata": {},
     "output_type": "execute_result"
    }
   ],
   "source": [
    "df['Price'].describe()"
   ]
  },
  {
   "cell_type": "code",
   "execution_count": 32,
   "metadata": {},
   "outputs": [
    {
     "data": {
      "image/png": "[encoded data removed]",
      "text/plain": [
       "<Figure size 432x288 with 1 Axes>"
      ]
     },
     "metadata": {
      "needs_background": "light"
     },
     "output_type": "display_data"
    }
   ],
   "source": [
    "df['Price'].plot.box();"
   ]
  },
  {
   "cell_type": "code",
   "execution_count": 33,
   "metadata": {},
   "outputs": [
    {
     "data": {
      "text/html": [
       "<div>\n",
       "<style scoped>\n",
       "    .dataframe tbody tr th:only-of-type {\n",
       "        vertical-align: middle;\n",
       "    }\n",
       "\n",
       "    .dataframe tbody tr th {\n",
       "        vertical-align: top;\n",
       "    }\n",
       "\n",
       "    .dataframe thead th {\n",
       "        text-align: right;\n",
       "    }\n",
       "</style>\n",
       "<table border=\"1\" class=\"dataframe\">\n",
       "  <thead>\n",
       "    <tr style=\"text-align: right;\">\n",
       "      <th></th>\n",
       "      <th>Price</th>\n",
       "      <th>VehicleType</th>\n",
       "      <th>RegistrationYear</th>\n",
       "      <th>Gearbox</th>\n",
       "      <th>Power</th>\n",
       "      <th>Model</th>\n",
       "      <th>Mileage</th>\n",
       "      <th>RegistrationMonth</th>\n",
       "      <th>FuelType</th>\n",
       "      <th>Brand</th>\n",
       "      <th>Repaired</th>\n",
       "    </tr>\n",
       "  </thead>\n",
       "  <tbody>\n",
       "    <tr>\n",
       "      <th>172</th>\n",
       "      <td>19750</td>\n",
       "      <td>convertible</td>\n",
       "      <td>2006</td>\n",
       "      <td>manual</td>\n",
       "      <td>305</td>\n",
       "      <td>mustang</td>\n",
       "      <td>50000</td>\n",
       "      <td>7.0</td>\n",
       "      <td>petrol</td>\n",
       "      <td>ford</td>\n",
       "      <td>1.0</td>\n",
       "    </tr>\n",
       "    <tr>\n",
       "      <th>337</th>\n",
       "      <td>18880</td>\n",
       "      <td>bus</td>\n",
       "      <td>2014</td>\n",
       "      <td>manual</td>\n",
       "      <td>116</td>\n",
       "      <td>5_reihe</td>\n",
       "      <td>20000</td>\n",
       "      <td>11.0</td>\n",
       "      <td>gasoline</td>\n",
       "      <td>mazda</td>\n",
       "      <td>1.0</td>\n",
       "    </tr>\n",
       "    <tr>\n",
       "      <th>484</th>\n",
       "      <td>19900</td>\n",
       "      <td>bus</td>\n",
       "      <td>2009</td>\n",
       "      <td>manual</td>\n",
       "      <td>150</td>\n",
       "      <td>viano</td>\n",
       "      <td>90000</td>\n",
       "      <td>5.0</td>\n",
       "      <td>gasoline</td>\n",
       "      <td>mercedes_benz</td>\n",
       "      <td>1.0</td>\n",
       "    </tr>\n",
       "    <tr>\n",
       "      <th>1360</th>\n",
       "      <td>19850</td>\n",
       "      <td>sedan</td>\n",
       "      <td>2013</td>\n",
       "      <td>auto</td>\n",
       "      <td>150</td>\n",
       "      <td>golf</td>\n",
       "      <td>60000</td>\n",
       "      <td>6.0</td>\n",
       "      <td>gasoline</td>\n",
       "      <td>volkswagen</td>\n",
       "      <td>1.0</td>\n",
       "    </tr>\n",
       "    <tr>\n",
       "      <th>1515</th>\n",
       "      <td>20000</td>\n",
       "      <td>sedan</td>\n",
       "      <td>2010</td>\n",
       "      <td>auto</td>\n",
       "      <td>239</td>\n",
       "      <td>a6</td>\n",
       "      <td>150000</td>\n",
       "      <td>5.0</td>\n",
       "      <td>gasoline</td>\n",
       "      <td>audi</td>\n",
       "      <td>1.0</td>\n",
       "    </tr>\n",
       "    <tr>\n",
       "      <th>...</th>\n",
       "      <td>...</td>\n",
       "      <td>...</td>\n",
       "      <td>...</td>\n",
       "      <td>...</td>\n",
       "      <td>...</td>\n",
       "      <td>...</td>\n",
       "      <td>...</td>\n",
       "      <td>...</td>\n",
       "      <td>...</td>\n",
       "      <td>...</td>\n",
       "      <td>...</td>\n",
       "    </tr>\n",
       "    <tr>\n",
       "      <th>353193</th>\n",
       "      <td>19500</td>\n",
       "      <td>bus</td>\n",
       "      <td>1970</td>\n",
       "      <td>auto</td>\n",
       "      <td>69</td>\n",
       "      <td>transporter</td>\n",
       "      <td>30000</td>\n",
       "      <td>11.0</td>\n",
       "      <td>petrol</td>\n",
       "      <td>volkswagen</td>\n",
       "      <td>NaN</td>\n",
       "    </tr>\n",
       "    <tr>\n",
       "      <th>353590</th>\n",
       "      <td>19950</td>\n",
       "      <td>wagon</td>\n",
       "      <td>2009</td>\n",
       "      <td>manual</td>\n",
       "      <td>265</td>\n",
       "      <td>other</td>\n",
       "      <td>125000</td>\n",
       "      <td>1.0</td>\n",
       "      <td>petrol</td>\n",
       "      <td>audi</td>\n",
       "      <td>1.0</td>\n",
       "    </tr>\n",
       "    <tr>\n",
       "      <th>354045</th>\n",
       "      <td>20000</td>\n",
       "      <td>coupe</td>\n",
       "      <td>2006</td>\n",
       "      <td>auto</td>\n",
       "      <td>476</td>\n",
       "      <td>other</td>\n",
       "      <td>125000</td>\n",
       "      <td>7.0</td>\n",
       "      <td>petrol</td>\n",
       "      <td>mercedes_benz</td>\n",
       "      <td>1.0</td>\n",
       "    </tr>\n",
       "    <tr>\n",
       "      <th>354178</th>\n",
       "      <td>19990</td>\n",
       "      <td>small</td>\n",
       "      <td>2014</td>\n",
       "      <td>auto</td>\n",
       "      <td>185</td>\n",
       "      <td>a1</td>\n",
       "      <td>10000</td>\n",
       "      <td>2.0</td>\n",
       "      <td>petrol</td>\n",
       "      <td>audi</td>\n",
       "      <td>1.0</td>\n",
       "    </tr>\n",
       "    <tr>\n",
       "      <th>354319</th>\n",
       "      <td>19800</td>\n",
       "      <td>sedan</td>\n",
       "      <td>2011</td>\n",
       "      <td>manual</td>\n",
       "      <td>170</td>\n",
       "      <td>1er</td>\n",
       "      <td>80000</td>\n",
       "      <td>12.0</td>\n",
       "      <td>petrol</td>\n",
       "      <td>bmw</td>\n",
       "      <td>1.0</td>\n",
       "    </tr>\n",
       "  </tbody>\n",
       "</table>\n",
       "<p>3555 rows × 11 columns</p>\n",
       "</div>"
      ],
      "text/plain": [
       "        Price  VehicleType  RegistrationYear Gearbox  Power        Model  \\\n",
       "172     19750  convertible              2006  manual    305      mustang   \n",
       "337     18880          bus              2014  manual    116      5_reihe   \n",
       "484     19900          bus              2009  manual    150        viano   \n",
       "1360    19850        sedan              2013    auto    150         golf   \n",
       "1515    20000        sedan              2010    auto    239           a6   \n",
       "...       ...          ...               ...     ...    ...          ...   \n",
       "353193  19500          bus              1970    auto     69  transporter   \n",
       "353590  19950        wagon              2009  manual    265        other   \n",
       "354045  20000        coupe              2006    auto    476        other   \n",
       "354178  19990        small              2014    auto    185           a1   \n",
       "354319  19800        sedan              2011  manual    170          1er   \n",
       "\n",
       "        Mileage  RegistrationMonth  FuelType          Brand  Repaired  \n",
       "172       50000                7.0    petrol           ford       1.0  \n",
       "337       20000               11.0  gasoline          mazda       1.0  \n",
       "484       90000                5.0  gasoline  mercedes_benz       1.0  \n",
       "1360      60000                6.0  gasoline     volkswagen       1.0  \n",
       "1515     150000                5.0  gasoline           audi       1.0  \n",
       "...         ...                ...       ...            ...       ...  \n",
       "353193    30000               11.0    petrol     volkswagen       NaN  \n",
       "353590   125000                1.0    petrol           audi       1.0  \n",
       "354045   125000                7.0    petrol  mercedes_benz       1.0  \n",
       "354178    10000                2.0    petrol           audi       1.0  \n",
       "354319    80000               12.0    petrol            bmw       1.0  \n",
       "\n",
       "[3555 rows x 11 columns]"
      ]
     },
     "execution_count": 33,
     "metadata": {},
     "output_type": "execute_result"
    }
   ],
   "source": [
    "df[df['Price'] >= df['Price'].quantile(.99)]"
   ]
  },
  {
   "cell_type": "markdown",
   "metadata": {},
   "source": [
    "Suspected upper outlier prices seem normal for the combination of features chosen (type, brand, model)."
   ]
  },
  {
   "cell_type": "code",
   "execution_count": 34,
   "metadata": {
    "scrolled": false
   },
   "outputs": [
    {
     "data": {
      "text/html": [
       "<div>\n",
       "<style scoped>\n",
       "    .dataframe tbody tr th:only-of-type {\n",
       "        vertical-align: middle;\n",
       "    }\n",
       "\n",
       "    .dataframe tbody tr th {\n",
       "        vertical-align: top;\n",
       "    }\n",
       "\n",
       "    .dataframe thead th {\n",
       "        text-align: right;\n",
       "    }\n",
       "</style>\n",
       "<table border=\"1\" class=\"dataframe\">\n",
       "  <thead>\n",
       "    <tr style=\"text-align: right;\">\n",
       "      <th></th>\n",
       "      <th>Price</th>\n",
       "      <th>VehicleType</th>\n",
       "      <th>RegistrationYear</th>\n",
       "      <th>Gearbox</th>\n",
       "      <th>Power</th>\n",
       "      <th>Model</th>\n",
       "      <th>Mileage</th>\n",
       "      <th>RegistrationMonth</th>\n",
       "      <th>FuelType</th>\n",
       "      <th>Brand</th>\n",
       "      <th>Repaired</th>\n",
       "    </tr>\n",
       "  </thead>\n",
       "  <tbody>\n",
       "    <tr>\n",
       "      <th>1076</th>\n",
       "      <td>45</td>\n",
       "      <td>NaN</td>\n",
       "      <td>2015</td>\n",
       "      <td>NaN</td>\n",
       "      <td>0</td>\n",
       "      <td>other</td>\n",
       "      <td>5000</td>\n",
       "      <td>NaN</td>\n",
       "      <td>NaN</td>\n",
       "      <td>mini</td>\n",
       "      <td>NaN</td>\n",
       "    </tr>\n",
       "    <tr>\n",
       "      <th>1459</th>\n",
       "      <td>30</td>\n",
       "      <td>NaN</td>\n",
       "      <td>2015</td>\n",
       "      <td>NaN</td>\n",
       "      <td>0</td>\n",
       "      <td>NaN</td>\n",
       "      <td>5000</td>\n",
       "      <td>NaN</td>\n",
       "      <td>NaN</td>\n",
       "      <td>seat</td>\n",
       "      <td>NaN</td>\n",
       "    </tr>\n",
       "    <tr>\n",
       "      <th>1788</th>\n",
       "      <td>80</td>\n",
       "      <td>NaN</td>\n",
       "      <td>2016</td>\n",
       "      <td>NaN</td>\n",
       "      <td>0</td>\n",
       "      <td>fiesta</td>\n",
       "      <td>5000</td>\n",
       "      <td>NaN</td>\n",
       "      <td>NaN</td>\n",
       "      <td>ford</td>\n",
       "      <td>0.0</td>\n",
       "    </tr>\n",
       "    <tr>\n",
       "      <th>2503</th>\n",
       "      <td>99</td>\n",
       "      <td>NaN</td>\n",
       "      <td>2008</td>\n",
       "      <td>NaN</td>\n",
       "      <td>0</td>\n",
       "      <td>NaN</td>\n",
       "      <td>20000</td>\n",
       "      <td>NaN</td>\n",
       "      <td>NaN</td>\n",
       "      <td>sonstige_autos</td>\n",
       "      <td>NaN</td>\n",
       "    </tr>\n",
       "    <tr>\n",
       "      <th>2687</th>\n",
       "      <td>90</td>\n",
       "      <td>small</td>\n",
       "      <td>2001</td>\n",
       "      <td>manual</td>\n",
       "      <td>0</td>\n",
       "      <td>twingo</td>\n",
       "      <td>150000</td>\n",
       "      <td>NaN</td>\n",
       "      <td>petrol</td>\n",
       "      <td>renault</td>\n",
       "      <td>0.0</td>\n",
       "    </tr>\n",
       "  </tbody>\n",
       "</table>\n",
       "</div>"
      ],
      "text/plain": [
       "      Price VehicleType  RegistrationYear Gearbox  Power   Model  Mileage  \\\n",
       "1076     45         NaN              2015     NaN      0   other     5000   \n",
       "1459     30         NaN              2015     NaN      0     NaN     5000   \n",
       "1788     80         NaN              2016     NaN      0  fiesta     5000   \n",
       "2503     99         NaN              2008     NaN      0     NaN    20000   \n",
       "2687     90       small              2001  manual      0  twingo   150000   \n",
       "\n",
       "      RegistrationMonth FuelType           Brand  Repaired  \n",
       "1076                NaN      NaN            mini       NaN  \n",
       "1459                NaN      NaN            seat       NaN  \n",
       "1788                NaN      NaN            ford       0.0  \n",
       "2503                NaN      NaN  sonstige_autos       NaN  \n",
       "2687                NaN   petrol         renault       0.0  "
      ]
     },
     "execution_count": 34,
     "metadata": {},
     "output_type": "execute_result"
    }
   ],
   "source": [
    "df.loc[(df['Price'] > 10) & (df['Price'] < 100) & (df['RegistrationYear'] > 2000)].head()"
   ]
  },
  {
   "cell_type": "markdown",
   "metadata": {},
   "source": [
    "Price doesn't make sense for the selected vehicles' years. Treating data as erroneous."
   ]
  },
  {
   "cell_type": "code",
   "execution_count": 35,
   "metadata": {},
   "outputs": [
    {
     "data": {
      "text/plain": [
       "19377"
      ]
     },
     "execution_count": 35,
     "metadata": {},
     "output_type": "execute_result"
    }
   ],
   "source": [
    "price_outliers = df[df['Price'] <= df['Price'].quantile(.05)]\n",
    "price_outliers.shape[0]"
   ]
  },
  {
   "cell_type": "code",
   "execution_count": 36,
   "metadata": {
    "scrolled": true
   },
   "outputs": [
    {
     "data": {
      "text/plain": [
       "5.47"
      ]
     },
     "execution_count": 36,
     "metadata": {},
     "output_type": "execute_result"
    }
   ],
   "source": [
    "round(price_outliers.shape[0] / df.shape[0] * 100, 2)"
   ]
  },
  {
   "cell_type": "markdown",
   "metadata": {},
   "source": [
    "Price selected outliers make up 5.47% of the dataframe, dropping."
   ]
  },
  {
   "cell_type": "code",
   "execution_count": 37,
   "metadata": {},
   "outputs": [],
   "source": [
    "df.drop(price_outliers.index, inplace=True)"
   ]
  },
  {
   "cell_type": "markdown",
   "metadata": {},
   "source": [
    "### Power"
   ]
  },
  {
   "cell_type": "code",
   "execution_count": 38,
   "metadata": {},
   "outputs": [
    {
     "data": {
      "text/plain": [
       "count    334821.000000\n",
       "mean        112.413295\n",
       "std         187.138288\n",
       "min           0.000000\n",
       "25%          72.000000\n",
       "50%         105.000000\n",
       "75%         143.000000\n",
       "max       20000.000000\n",
       "Name: Power, dtype: float64"
      ]
     },
     "execution_count": 38,
     "metadata": {},
     "output_type": "execute_result"
    }
   ],
   "source": [
    "df['Power'].describe()"
   ]
  },
  {
   "cell_type": "code",
   "execution_count": 39,
   "metadata": {},
   "outputs": [
    {
     "data": {
      "image/png": "[encoded data removed]",
      "text/plain": [
       "<Figure size 432x288 with 1 Axes>"
      ]
     },
     "metadata": {
      "needs_background": "light"
     },
     "output_type": "display_data"
    }
   ],
   "source": [
    "df['Power'].plot.box();"
   ]
  },
  {
   "cell_type": "code",
   "execution_count": 40,
   "metadata": {},
   "outputs": [
    {
     "data": {
      "text/html": [
       "<div>\n",
       "<style scoped>\n",
       "    .dataframe tbody tr th:only-of-type {\n",
       "        vertical-align: middle;\n",
       "    }\n",
       "\n",
       "    .dataframe tbody tr th {\n",
       "        vertical-align: top;\n",
       "    }\n",
       "\n",
       "    .dataframe thead th {\n",
       "        text-align: right;\n",
       "    }\n",
       "</style>\n",
       "<table border=\"1\" class=\"dataframe\">\n",
       "  <thead>\n",
       "    <tr style=\"text-align: right;\">\n",
       "      <th></th>\n",
       "      <th>Price</th>\n",
       "      <th>VehicleType</th>\n",
       "      <th>RegistrationYear</th>\n",
       "      <th>Gearbox</th>\n",
       "      <th>Power</th>\n",
       "      <th>Model</th>\n",
       "      <th>Mileage</th>\n",
       "      <th>RegistrationMonth</th>\n",
       "      <th>FuelType</th>\n",
       "      <th>Brand</th>\n",
       "      <th>Repaired</th>\n",
       "    </tr>\n",
       "  </thead>\n",
       "  <tbody>\n",
       "    <tr>\n",
       "      <th>7661</th>\n",
       "      <td>1499</td>\n",
       "      <td>small</td>\n",
       "      <td>1999</td>\n",
       "      <td>manual</td>\n",
       "      <td>7515</td>\n",
       "      <td>lupo</td>\n",
       "      <td>150000</td>\n",
       "      <td>4.0</td>\n",
       "      <td>petrol</td>\n",
       "      <td>volkswagen</td>\n",
       "      <td>NaN</td>\n",
       "    </tr>\n",
       "    <tr>\n",
       "      <th>19092</th>\n",
       "      <td>9750</td>\n",
       "      <td>wagon</td>\n",
       "      <td>2005</td>\n",
       "      <td>auto</td>\n",
       "      <td>2729</td>\n",
       "      <td>5er</td>\n",
       "      <td>150000</td>\n",
       "      <td>7.0</td>\n",
       "      <td>gasoline</td>\n",
       "      <td>bmw</td>\n",
       "      <td>1.0</td>\n",
       "    </tr>\n",
       "    <tr>\n",
       "      <th>25232</th>\n",
       "      <td>10900</td>\n",
       "      <td>bus</td>\n",
       "      <td>2009</td>\n",
       "      <td>manual</td>\n",
       "      <td>10520</td>\n",
       "      <td>caddy</td>\n",
       "      <td>150000</td>\n",
       "      <td>6.0</td>\n",
       "      <td>gasoline</td>\n",
       "      <td>volkswagen</td>\n",
       "      <td>1.0</td>\n",
       "    </tr>\n",
       "    <tr>\n",
       "      <th>33952</th>\n",
       "      <td>3740</td>\n",
       "      <td>small</td>\n",
       "      <td>2006</td>\n",
       "      <td>manual</td>\n",
       "      <td>6920</td>\n",
       "      <td>aygo</td>\n",
       "      <td>90000</td>\n",
       "      <td>10.0</td>\n",
       "      <td>NaN</td>\n",
       "      <td>toyota</td>\n",
       "      <td>1.0</td>\n",
       "    </tr>\n",
       "    <tr>\n",
       "      <th>36206</th>\n",
       "      <td>5400</td>\n",
       "      <td>NaN</td>\n",
       "      <td>2017</td>\n",
       "      <td>manual</td>\n",
       "      <td>2017</td>\n",
       "      <td>transporter</td>\n",
       "      <td>150000</td>\n",
       "      <td>8.0</td>\n",
       "      <td>gasoline</td>\n",
       "      <td>volkswagen</td>\n",
       "      <td>NaN</td>\n",
       "    </tr>\n",
       "    <tr>\n",
       "      <th>...</th>\n",
       "      <td>...</td>\n",
       "      <td>...</td>\n",
       "      <td>...</td>\n",
       "      <td>...</td>\n",
       "      <td>...</td>\n",
       "      <td>...</td>\n",
       "      <td>...</td>\n",
       "      <td>...</td>\n",
       "      <td>...</td>\n",
       "      <td>...</td>\n",
       "      <td>...</td>\n",
       "    </tr>\n",
       "    <tr>\n",
       "      <th>346639</th>\n",
       "      <td>1300</td>\n",
       "      <td>sedan</td>\n",
       "      <td>2000</td>\n",
       "      <td>manual</td>\n",
       "      <td>12512</td>\n",
       "      <td>carisma</td>\n",
       "      <td>150000</td>\n",
       "      <td>9.0</td>\n",
       "      <td>petrol</td>\n",
       "      <td>mitsubishi</td>\n",
       "      <td>NaN</td>\n",
       "    </tr>\n",
       "    <tr>\n",
       "      <th>346690</th>\n",
       "      <td>7498</td>\n",
       "      <td>NaN</td>\n",
       "      <td>2017</td>\n",
       "      <td>auto</td>\n",
       "      <td>2018</td>\n",
       "      <td>5er</td>\n",
       "      <td>150000</td>\n",
       "      <td>9.0</td>\n",
       "      <td>NaN</td>\n",
       "      <td>bmw</td>\n",
       "      <td>1.0</td>\n",
       "    </tr>\n",
       "    <tr>\n",
       "      <th>348137</th>\n",
       "      <td>850</td>\n",
       "      <td>sedan</td>\n",
       "      <td>1993</td>\n",
       "      <td>auto</td>\n",
       "      <td>9012</td>\n",
       "      <td>golf</td>\n",
       "      <td>150000</td>\n",
       "      <td>NaN</td>\n",
       "      <td>petrol</td>\n",
       "      <td>volkswagen</td>\n",
       "      <td>NaN</td>\n",
       "    </tr>\n",
       "    <tr>\n",
       "      <th>348237</th>\n",
       "      <td>3000</td>\n",
       "      <td>coupe</td>\n",
       "      <td>2007</td>\n",
       "      <td>manual</td>\n",
       "      <td>2007</td>\n",
       "      <td>corsa</td>\n",
       "      <td>150000</td>\n",
       "      <td>3.0</td>\n",
       "      <td>gasoline</td>\n",
       "      <td>opel</td>\n",
       "      <td>0.0</td>\n",
       "    </tr>\n",
       "    <tr>\n",
       "      <th>348668</th>\n",
       "      <td>1000</td>\n",
       "      <td>wagon</td>\n",
       "      <td>1996</td>\n",
       "      <td>manual</td>\n",
       "      <td>2598</td>\n",
       "      <td>a6</td>\n",
       "      <td>150000</td>\n",
       "      <td>7.0</td>\n",
       "      <td>NaN</td>\n",
       "      <td>audi</td>\n",
       "      <td>NaN</td>\n",
       "    </tr>\n",
       "  </tbody>\n",
       "</table>\n",
       "<p>106 rows × 11 columns</p>\n",
       "</div>"
      ],
      "text/plain": [
       "        Price VehicleType  RegistrationYear Gearbox  Power        Model  \\\n",
       "7661     1499       small              1999  manual   7515         lupo   \n",
       "19092    9750       wagon              2005    auto   2729          5er   \n",
       "25232   10900         bus              2009  manual  10520        caddy   \n",
       "33952    3740       small              2006  manual   6920         aygo   \n",
       "36206    5400         NaN              2017  manual   2017  transporter   \n",
       "...       ...         ...               ...     ...    ...          ...   \n",
       "346639   1300       sedan              2000  manual  12512      carisma   \n",
       "346690   7498         NaN              2017    auto   2018          5er   \n",
       "348137    850       sedan              1993    auto   9012         golf   \n",
       "348237   3000       coupe              2007  manual   2007        corsa   \n",
       "348668   1000       wagon              1996  manual   2598           a6   \n",
       "\n",
       "        Mileage  RegistrationMonth  FuelType       Brand  Repaired  \n",
       "7661     150000                4.0    petrol  volkswagen       NaN  \n",
       "19092    150000                7.0  gasoline         bmw       1.0  \n",
       "25232    150000                6.0  gasoline  volkswagen       1.0  \n",
       "33952     90000               10.0       NaN      toyota       1.0  \n",
       "36206    150000                8.0  gasoline  volkswagen       NaN  \n",
       "...         ...                ...       ...         ...       ...  \n",
       "346639   150000                9.0    petrol  mitsubishi       NaN  \n",
       "346690   150000                9.0       NaN         bmw       1.0  \n",
       "348137   150000                NaN    petrol  volkswagen       NaN  \n",
       "348237   150000                3.0  gasoline        opel       0.0  \n",
       "348668   150000                7.0       NaN        audi       NaN  \n",
       "\n",
       "[106 rows x 11 columns]"
      ]
     },
     "execution_count": 40,
     "metadata": {},
     "output_type": "execute_result"
    }
   ],
   "source": [
    "df[df['Power'] > 2000]"
   ]
  },
  {
   "cell_type": "markdown",
   "metadata": {},
   "source": [
    "Supercars have horse power (hp) in the range of 1000 - 2000,  \n",
    "anything above that (particulary for the above models) should be considered as an error."
   ]
  },
  {
   "cell_type": "code",
   "execution_count": 41,
   "metadata": {},
   "outputs": [],
   "source": [
    "df.loc[df['Power'] > 500, 'Power'] = np.NaN"
   ]
  },
  {
   "cell_type": "code",
   "execution_count": 42,
   "metadata": {},
   "outputs": [],
   "source": [
    "power_outliers = df[df['Power'] < 30]"
   ]
  },
  {
   "cell_type": "code",
   "execution_count": 43,
   "metadata": {},
   "outputs": [
    {
     "data": {
      "text/plain": [
       "10.09"
      ]
     },
     "execution_count": 43,
     "metadata": {},
     "output_type": "execute_result"
    }
   ],
   "source": [
    "round(power_outliers.shape[0] / df.shape[0] * 100, 2)"
   ]
  },
  {
   "cell_type": "code",
   "execution_count": 44,
   "metadata": {},
   "outputs": [],
   "source": [
    "df.loc[power_outliers.index, 'Power'] = np.NaN"
   ]
  },
  {
   "cell_type": "code",
   "execution_count": null,
   "metadata": {},
   "outputs": [],
   "source": []
  },
  {
   "cell_type": "code",
   "execution_count": null,
   "metadata": {},
   "outputs": [],
   "source": []
  },
  {
   "cell_type": "markdown",
   "metadata": {},
   "source": [
    "### Duplicated entries"
   ]
  },
  {
   "cell_type": "code",
   "execution_count": 45,
   "metadata": {},
   "outputs": [
    {
     "name": "stdout",
     "output_type": "stream",
     "text": [
      "duplicated rows: 25,741 / 334,821 (7.7%)\n"
     ]
    },
    {
     "data": {
      "text/html": [
       "<div>\n",
       "<style scoped>\n",
       "    .dataframe tbody tr th:only-of-type {\n",
       "        vertical-align: middle;\n",
       "    }\n",
       "\n",
       "    .dataframe tbody tr th {\n",
       "        vertical-align: top;\n",
       "    }\n",
       "\n",
       "    .dataframe thead th {\n",
       "        text-align: right;\n",
       "    }\n",
       "</style>\n",
       "<table border=\"1\" class=\"dataframe\">\n",
       "  <thead>\n",
       "    <tr style=\"text-align: right;\">\n",
       "      <th></th>\n",
       "      <th>Price</th>\n",
       "      <th>VehicleType</th>\n",
       "      <th>RegistrationYear</th>\n",
       "      <th>Gearbox</th>\n",
       "      <th>Power</th>\n",
       "      <th>Model</th>\n",
       "      <th>Mileage</th>\n",
       "      <th>RegistrationMonth</th>\n",
       "      <th>FuelType</th>\n",
       "      <th>Brand</th>\n",
       "      <th>Repaired</th>\n",
       "    </tr>\n",
       "  </thead>\n",
       "  <tbody>\n",
       "    <tr>\n",
       "      <th>172058</th>\n",
       "      <td>2200</td>\n",
       "      <td>sedan</td>\n",
       "      <td>1973</td>\n",
       "      <td>manual</td>\n",
       "      <td>101.0</td>\n",
       "      <td>100</td>\n",
       "      <td>80000</td>\n",
       "      <td>7.0</td>\n",
       "      <td>petrol</td>\n",
       "      <td>audi</td>\n",
       "      <td>1.0</td>\n",
       "    </tr>\n",
       "    <tr>\n",
       "      <th>290498</th>\n",
       "      <td>2200</td>\n",
       "      <td>sedan</td>\n",
       "      <td>1973</td>\n",
       "      <td>manual</td>\n",
       "      <td>101.0</td>\n",
       "      <td>100</td>\n",
       "      <td>80000</td>\n",
       "      <td>7.0</td>\n",
       "      <td>petrol</td>\n",
       "      <td>audi</td>\n",
       "      <td>1.0</td>\n",
       "    </tr>\n",
       "    <tr>\n",
       "      <th>170734</th>\n",
       "      <td>3800</td>\n",
       "      <td>sedan</td>\n",
       "      <td>1985</td>\n",
       "      <td>manual</td>\n",
       "      <td>90.0</td>\n",
       "      <td>100</td>\n",
       "      <td>100000</td>\n",
       "      <td>10.0</td>\n",
       "      <td>petrol</td>\n",
       "      <td>audi</td>\n",
       "      <td>1.0</td>\n",
       "    </tr>\n",
       "    <tr>\n",
       "      <th>266762</th>\n",
       "      <td>3800</td>\n",
       "      <td>sedan</td>\n",
       "      <td>1985</td>\n",
       "      <td>manual</td>\n",
       "      <td>90.0</td>\n",
       "      <td>100</td>\n",
       "      <td>100000</td>\n",
       "      <td>10.0</td>\n",
       "      <td>petrol</td>\n",
       "      <td>audi</td>\n",
       "      <td>1.0</td>\n",
       "    </tr>\n",
       "  </tbody>\n",
       "</table>\n",
       "</div>"
      ],
      "text/plain": [
       "        Price VehicleType  RegistrationYear Gearbox  Power Model  Mileage  \\\n",
       "172058   2200       sedan              1973  manual  101.0   100    80000   \n",
       "290498   2200       sedan              1973  manual  101.0   100    80000   \n",
       "170734   3800       sedan              1985  manual   90.0   100   100000   \n",
       "266762   3800       sedan              1985  manual   90.0   100   100000   \n",
       "\n",
       "        RegistrationMonth FuelType Brand  Repaired  \n",
       "172058                7.0   petrol  audi       1.0  \n",
       "290498                7.0   petrol  audi       1.0  \n",
       "170734               10.0   petrol  audi       1.0  \n",
       "266762               10.0   petrol  audi       1.0  "
      ]
     },
     "metadata": {},
     "output_type": "display_data"
    }
   ],
   "source": [
    "def dup_report(df):\n",
    "    \n",
    "    dup_count = df.duplicated().sum()\n",
    "    \n",
    "    print('duplicated rows: {:,} / {:,} ({:.1%})'.format(dup_count, df.shape[0], dup_count / df.shape[0]))\n",
    "    \n",
    "    display(df[df.duplicated(keep=False)]\n",
    "            .sort_values(['Model', 'RegistrationYear', 'Power', 'Mileage'])\n",
    "            .head(4))\n",
    "    \n",
    "dup_report(df)"
   ]
  },
  {
   "cell_type": "code",
   "execution_count": 46,
   "metadata": {},
   "outputs": [],
   "source": [
    "df.drop_duplicates(inplace=True)"
   ]
  },
  {
   "cell_type": "code",
   "execution_count": 47,
   "metadata": {},
   "outputs": [
    {
     "data": {
      "text/plain": [
       "(309080, 11)"
      ]
     },
     "execution_count": 47,
     "metadata": {},
     "output_type": "execute_result"
    }
   ],
   "source": [
    "df.shape"
   ]
  },
  {
   "cell_type": "markdown",
   "metadata": {},
   "source": [
    "### Missing values"
   ]
  },
  {
   "cell_type": "code",
   "execution_count": 48,
   "metadata": {},
   "outputs": [
    {
     "name": "stdout",
     "output_type": "stream",
     "text": [
      "rows: 103,832 / 309,080 (33.6%)\n"
     ]
    },
    {
     "data": {
      "text/html": [
       "<style type=\"text/css\">\n",
       "</style>\n",
       "<table id=\"T_c7e24_\">\n",
       "  <thead>\n",
       "    <tr>\n",
       "      <th class=\"blank level0\" >&nbsp;</th>\n",
       "      <th class=\"col_heading level0 col0\" >count</th>\n",
       "      <th class=\"col_heading level0 col1\" >percent (%)</th>\n",
       "    </tr>\n",
       "  </thead>\n",
       "  <tbody>\n",
       "    <tr>\n",
       "      <th id=\"T_c7e24_level0_row0\" class=\"row_heading level0 row0\" >VehicleType</th>\n",
       "      <td id=\"T_c7e24_row0_col0\" class=\"data row0 col0\" >29,428</td>\n",
       "      <td id=\"T_c7e24_row0_col1\" class=\"data row0 col1\" >9.5</td>\n",
       "    </tr>\n",
       "    <tr>\n",
       "      <th id=\"T_c7e24_level0_row1\" class=\"row_heading level0 row1\" >Gearbox</th>\n",
       "      <td id=\"T_c7e24_row1_col0\" class=\"data row1 col0\" >13,708</td>\n",
       "      <td id=\"T_c7e24_row1_col1\" class=\"data row1 col1\" >4.4</td>\n",
       "    </tr>\n",
       "    <tr>\n",
       "      <th id=\"T_c7e24_level0_row2\" class=\"row_heading level0 row2\" >Power</th>\n",
       "      <td id=\"T_c7e24_row2_col0\" class=\"data row2 col0\" >31,869</td>\n",
       "      <td id=\"T_c7e24_row2_col1\" class=\"data row2 col1\" >10.3</td>\n",
       "    </tr>\n",
       "    <tr>\n",
       "      <th id=\"T_c7e24_level0_row3\" class=\"row_heading level0 row3\" >Model</th>\n",
       "      <td id=\"T_c7e24_row3_col0\" class=\"data row3 col0\" >15,657</td>\n",
       "      <td id=\"T_c7e24_row3_col1\" class=\"data row3 col1\" >5.1</td>\n",
       "    </tr>\n",
       "    <tr>\n",
       "      <th id=\"T_c7e24_level0_row4\" class=\"row_heading level0 row4\" >RegistrationMonth</th>\n",
       "      <td id=\"T_c7e24_row4_col0\" class=\"data row4 col0\" >27,850</td>\n",
       "      <td id=\"T_c7e24_row4_col1\" class=\"data row4 col1\" >9.0</td>\n",
       "    </tr>\n",
       "    <tr>\n",
       "      <th id=\"T_c7e24_level0_row5\" class=\"row_heading level0 row5\" >FuelType</th>\n",
       "      <td id=\"T_c7e24_row5_col0\" class=\"data row5 col0\" >25,747</td>\n",
       "      <td id=\"T_c7e24_row5_col1\" class=\"data row5 col1\" >8.3</td>\n",
       "    </tr>\n",
       "    <tr>\n",
       "      <th id=\"T_c7e24_level0_row6\" class=\"row_heading level0 row6\" >Repaired</th>\n",
       "      <td id=\"T_c7e24_row6_col0\" class=\"data row6 col0\" >57,883</td>\n",
       "      <td id=\"T_c7e24_row6_col1\" class=\"data row6 col1\" >18.7</td>\n",
       "    </tr>\n",
       "  </tbody>\n",
       "</table>\n"
      ],
      "text/plain": [
       "<pandas.io.formats.style.Styler at 0x13fa8fd60>"
      ]
     },
     "metadata": {},
     "output_type": "display_data"
    },
    {
     "data": {
      "text/markdown": [
       "#### Variables values"
      ],
      "text/plain": [
       "<IPython.core.display.Markdown object>"
      ]
     },
     "metadata": {},
     "output_type": "display_data"
    },
    {
     "name": "stdout",
     "output_type": "stream",
     "text": [
      "\n",
      "sedan          26.1\n",
      "small          22.2\n",
      "wagon          18.6\n",
      "NaN             9.5\n",
      "bus             8.5\n",
      "convertible     5.9\n",
      "coupe           4.7\n",
      "suv             3.5\n",
      "other           0.9\n",
      "Name: VehicleType, dtype: float64\n",
      "\n",
      "manual    76.4\n",
      "auto      19.2\n",
      "NaN        4.4\n",
      "Name: Gearbox, dtype: float64\n",
      "\n",
      "NaN      10.3\n",
      "75.0      6.7\n",
      "60.0      4.3\n",
      "150.0     4.1\n",
      "101.0     3.8\n",
      "         ... \n",
      "457.0     0.0\n",
      "475.0     0.0\n",
      "248.0     0.0\n",
      "490.0     0.0\n",
      "377.0     0.0\n",
      "Name: Power, Length: 383, dtype: float64\n",
      "\n",
      "golf                  8.1\n",
      "other                 7.1\n",
      "3er                   5.6\n",
      "NaN                   5.1\n",
      "polo                  3.5\n",
      "                     ... \n",
      "elefantino            0.0\n",
      "rangerover            0.0\n",
      "serie_3               0.0\n",
      "range_rover_evoque    0.0\n",
      "serie_1               0.0\n",
      "Name: Model, Length: 251, dtype: float64\n",
      "\n",
      "3.0     9.9\n",
      "6.0     9.0\n",
      "NaN     9.0\n",
      "4.0     8.5\n",
      "5.0     8.4\n",
      "7.0     7.9\n",
      "10.0    7.5\n",
      "12.0    6.9\n",
      "11.0    6.9\n",
      "9.0     6.8\n",
      "1.0     6.6\n",
      "8.0     6.5\n",
      "2.0     6.1\n",
      "Name: RegistrationMonth, dtype: float64\n",
      "\n",
      "petrol      61.4\n",
      "gasoline    28.4\n",
      "NaN          8.3\n",
      "lpg          1.5\n",
      "cng          0.2\n",
      "hybrid       0.1\n",
      "other        0.0\n",
      "electric     0.0\n",
      "Name: FuelType, dtype: float64\n",
      "\n",
      "1.0    71.6\n",
      "NaN    18.7\n",
      "0.0     9.7\n",
      "Name: Repaired, dtype: float64\n",
      "\n"
     ]
    }
   ],
   "source": [
    "def na_report(df, show_null=False, verbose=True):\n",
    "    \n",
    "    na_count = df.isna().sum()\n",
    "    \n",
    "    report = pd.concat([\n",
    "        na_count.rename('count'),\n",
    "        (na_count / df.shape[0] * 100).rename('percent (%)').round(1)\n",
    "    ], axis=1)\n",
    "    \n",
    "    na_rows = df.isna().any(1).sum()\n",
    "    print('rows: {:,} / {:,} ({:.1%})'.format(na_rows, df.shape[0], na_rows / df.shape[0]))\n",
    "    \n",
    "    na_vars = report[report['count'] > 0]\n",
    "    \n",
    "    if show_null:\n",
    "        display(report.style.format('{:,}'))\n",
    "    else:\n",
    "        display(na_vars.style.format('{:,}'))\n",
    "        \n",
    "    if verbose:\n",
    "        display(Markdown('#### Variables values'))\n",
    "        print()\n",
    "        for col in na_vars.index:\n",
    "            print((df[col].value_counts(dropna=False, normalize=True) * 100).round(1))\n",
    "            print()\n",
    "\n",
    "na_report(df)"
   ]
  },
  {
   "cell_type": "markdown",
   "metadata": {},
   "source": [
    "<div class=\"alert alert-warning\">\n",
    "<b>Reviewer's comment</b>\n",
    "\t  \n",
    "You explored the data and removed outliers in RegistrationYear. Would be nice if you looked at distributions of other columns (power, price, etc.), maybe there are also some strange values there\n",
    "\t  \n",
    "</div>"
   ]
  },
  {
   "cell_type": "markdown",
   "metadata": {},
   "source": [
    "<div class=\"alert alert-info\">\n",
    "<b>Student's comment v.1</b>\n",
    "    \n",
    "I've updated above.\n",
    "</div>"
   ]
  },
  {
   "cell_type": "markdown",
   "metadata": {},
   "source": [
    "<div class=\"alert alert-success\">\n",
    "<b>Reviewer's comment V2</b>\n",
    "\t  \n",
    "Awesome!\n",
    "\t  \n",
    "</div>"
   ]
  },
  {
   "cell_type": "markdown",
   "metadata": {},
   "source": [
    "## Model training\n",
    "***"
   ]
  },
  {
   "cell_type": "code",
   "execution_count": 49,
   "metadata": {},
   "outputs": [],
   "source": [
    "def make_preprocess_pipeline(median=True, binary=True, ordinal=True, ohe=True,\n",
    "                             before=[], after=[]):\n",
    "    components = []\n",
    "    \n",
    "    if median:\n",
    "        components.append((SimpleImputer(strategy='median'), [\n",
    "            'RegistrationYear',\n",
    "            'RegistrationMonth',\n",
    "            'Power',\n",
    "            'Mileage'\n",
    "        ]))\n",
    "        \n",
    "    if binary:\n",
    "        components.append((BinaryEncoder(), [\n",
    "            'Brand',\n",
    "            'Model'\n",
    "        ]))\n",
    "                          \n",
    "    if ordinal:\n",
    "        components.append((make_pipeline(\n",
    "            OrdinalEncoder(handle_unknown='use_encoded_value', unknown_value=-1),\n",
    "            SimpleImputer(strategy='constant', fill_value=-1),\n",
    "        ),[\n",
    "            'VehicleType',\n",
    "            'FuelType'\n",
    "        ]))\n",
    "    \n",
    "    if ohe:\n",
    "        components.append((OneHotEncoder(sparse=False, drop='first', handle_unknown='ignore'), [\n",
    "            'Gearbox',\n",
    "            'Repaired',\n",
    "        ]))\n",
    "    \n",
    "    return make_pipeline(\n",
    "        *before,\n",
    "        make_column_transformer(*components, remainder='passthrough'),\n",
    "        *after,\n",
    "    )"
   ]
  },
  {
   "cell_type": "code",
   "execution_count": 50,
   "metadata": {},
   "outputs": [],
   "source": [
    "def get_feature_names_out(pipeline):\n",
    "    \n",
    "    def extract_names(transformer, features=None):\n",
    "        \n",
    "        if transformer == 'passthrough':\n",
    "            return features\n",
    "        \n",
    "        extracted = []\n",
    "        if hasattr(transformer, 'get_feature_names_out'):\n",
    "            extracted = transformer.get_feature_names_out(features)\n",
    "        elif hasattr(transformer, 'get_feature_names'):\n",
    "            extracted = transformer.get_feature_names()\n",
    "                \n",
    "        return extracted if len(extracted) > 0 else features\n",
    "        \n",
    "    \n",
    "    out = []\n",
    "    # print(pipeline)\n",
    "    \n",
    "    for name, transformer, features in pipeline.named_steps['columntransformer'].transformers_:\n",
    "        # print(name, transformer, features)\n",
    "        \n",
    "        if isinstance(transformer, Pipeline):\n",
    "            extracted = set()\n",
    "            \n",
    "            for _, step in transformer.steps:\n",
    "                extracted.update(extract_names(step, features))\n",
    "                \n",
    "            out.extend(extracted)\n",
    "        else:\n",
    "            out.extend(extract_names(transformer, features))\n",
    "        \n",
    "    return out"
   ]
  },
  {
   "cell_type": "code",
   "execution_count": 51,
   "metadata": {
    "scrolled": false
   },
   "outputs": [
    {
     "name": "stderr",
     "output_type": "stream",
     "text": [
      "/usr/local/Caskroom/miniconda/base/lib/python3.8/site-packages/category_encoders/utils.py:21: FutureWarning: is_categorical is deprecated and will be removed in a future version.  Use is_categorical_dtype instead\n",
      "  elif pd.api.types.is_categorical(cols):\n"
     ]
    },
    {
     "name": "stdout",
     "output_type": "stream",
     "text": [
      "CPU times: user 770 ms, sys: 119 ms, total: 889 ms\n",
      "Wall time: 889 ms\n"
     ]
    },
    {
     "data": {
      "text/html": [
       "<div>\n",
       "<style scoped>\n",
       "    .dataframe tbody tr th:only-of-type {\n",
       "        vertical-align: middle;\n",
       "    }\n",
       "\n",
       "    .dataframe tbody tr th {\n",
       "        vertical-align: top;\n",
       "    }\n",
       "\n",
       "    .dataframe thead th {\n",
       "        text-align: right;\n",
       "    }\n",
       "</style>\n",
       "<table border=\"1\" class=\"dataframe\">\n",
       "  <thead>\n",
       "    <tr style=\"text-align: right;\">\n",
       "      <th></th>\n",
       "      <th>RegistrationYear</th>\n",
       "      <th>RegistrationMonth</th>\n",
       "      <th>Power</th>\n",
       "      <th>Mileage</th>\n",
       "      <th>Brand_0</th>\n",
       "      <th>Brand_1</th>\n",
       "      <th>Brand_2</th>\n",
       "      <th>Brand_3</th>\n",
       "      <th>Brand_4</th>\n",
       "      <th>Brand_5</th>\n",
       "      <th>...</th>\n",
       "      <th>Model_6</th>\n",
       "      <th>Model_7</th>\n",
       "      <th>Model_8</th>\n",
       "      <th>FuelType</th>\n",
       "      <th>VehicleType</th>\n",
       "      <th>Gearbox_manual</th>\n",
       "      <th>Gearbox_nan</th>\n",
       "      <th>Repaired_1.0</th>\n",
       "      <th>Repaired_nan</th>\n",
       "      <th>0</th>\n",
       "    </tr>\n",
       "  </thead>\n",
       "  <tbody>\n",
       "    <tr>\n",
       "      <th>0</th>\n",
       "      <td>1993.0</td>\n",
       "      <td>6.0</td>\n",
       "      <td>111.0</td>\n",
       "      <td>150000.0</td>\n",
       "      <td>0.0</td>\n",
       "      <td>0.0</td>\n",
       "      <td>0.0</td>\n",
       "      <td>0.0</td>\n",
       "      <td>0.0</td>\n",
       "      <td>0.0</td>\n",
       "      <td>...</td>\n",
       "      <td>0.0</td>\n",
       "      <td>0.0</td>\n",
       "      <td>1.0</td>\n",
       "      <td>-1.0</td>\n",
       "      <td>6.0</td>\n",
       "      <td>1.0</td>\n",
       "      <td>0.0</td>\n",
       "      <td>0.0</td>\n",
       "      <td>1.0</td>\n",
       "      <td>480.0</td>\n",
       "    </tr>\n",
       "    <tr>\n",
       "      <th>1</th>\n",
       "      <td>2011.0</td>\n",
       "      <td>5.0</td>\n",
       "      <td>190.0</td>\n",
       "      <td>125000.0</td>\n",
       "      <td>0.0</td>\n",
       "      <td>0.0</td>\n",
       "      <td>0.0</td>\n",
       "      <td>0.0</td>\n",
       "      <td>0.0</td>\n",
       "      <td>1.0</td>\n",
       "      <td>...</td>\n",
       "      <td>0.0</td>\n",
       "      <td>1.0</td>\n",
       "      <td>0.0</td>\n",
       "      <td>2.0</td>\n",
       "      <td>2.0</td>\n",
       "      <td>1.0</td>\n",
       "      <td>0.0</td>\n",
       "      <td>0.0</td>\n",
       "      <td>0.0</td>\n",
       "      <td>18300.0</td>\n",
       "    </tr>\n",
       "    <tr>\n",
       "      <th>2</th>\n",
       "      <td>2004.0</td>\n",
       "      <td>8.0</td>\n",
       "      <td>163.0</td>\n",
       "      <td>125000.0</td>\n",
       "      <td>0.0</td>\n",
       "      <td>0.0</td>\n",
       "      <td>0.0</td>\n",
       "      <td>0.0</td>\n",
       "      <td>0.0</td>\n",
       "      <td>1.0</td>\n",
       "      <td>...</td>\n",
       "      <td>0.0</td>\n",
       "      <td>1.0</td>\n",
       "      <td>1.0</td>\n",
       "      <td>6.0</td>\n",
       "      <td>2.0</td>\n",
       "      <td>0.0</td>\n",
       "      <td>0.0</td>\n",
       "      <td>0.0</td>\n",
       "      <td>1.0</td>\n",
       "      <td>9800.0</td>\n",
       "    </tr>\n",
       "    <tr>\n",
       "      <th>3</th>\n",
       "      <td>2001.0</td>\n",
       "      <td>6.0</td>\n",
       "      <td>75.0</td>\n",
       "      <td>150000.0</td>\n",
       "      <td>0.0</td>\n",
       "      <td>0.0</td>\n",
       "      <td>0.0</td>\n",
       "      <td>0.0</td>\n",
       "      <td>0.0</td>\n",
       "      <td>0.0</td>\n",
       "      <td>...</td>\n",
       "      <td>0.0</td>\n",
       "      <td>0.0</td>\n",
       "      <td>1.0</td>\n",
       "      <td>5.0</td>\n",
       "      <td>6.0</td>\n",
       "      <td>1.0</td>\n",
       "      <td>0.0</td>\n",
       "      <td>1.0</td>\n",
       "      <td>0.0</td>\n",
       "      <td>1500.0</td>\n",
       "    </tr>\n",
       "    <tr>\n",
       "      <th>4</th>\n",
       "      <td>2008.0</td>\n",
       "      <td>7.0</td>\n",
       "      <td>69.0</td>\n",
       "      <td>90000.0</td>\n",
       "      <td>0.0</td>\n",
       "      <td>0.0</td>\n",
       "      <td>0.0</td>\n",
       "      <td>0.0</td>\n",
       "      <td>1.0</td>\n",
       "      <td>0.0</td>\n",
       "      <td>...</td>\n",
       "      <td>1.0</td>\n",
       "      <td>0.0</td>\n",
       "      <td>0.0</td>\n",
       "      <td>5.0</td>\n",
       "      <td>2.0</td>\n",
       "      <td>1.0</td>\n",
       "      <td>0.0</td>\n",
       "      <td>1.0</td>\n",
       "      <td>0.0</td>\n",
       "      <td>3600.0</td>\n",
       "    </tr>\n",
       "    <tr>\n",
       "      <th>...</th>\n",
       "      <td>...</td>\n",
       "      <td>...</td>\n",
       "      <td>...</td>\n",
       "      <td>...</td>\n",
       "      <td>...</td>\n",
       "      <td>...</td>\n",
       "      <td>...</td>\n",
       "      <td>...</td>\n",
       "      <td>...</td>\n",
       "      <td>...</td>\n",
       "      <td>...</td>\n",
       "      <td>...</td>\n",
       "      <td>...</td>\n",
       "      <td>...</td>\n",
       "      <td>...</td>\n",
       "      <td>...</td>\n",
       "      <td>...</td>\n",
       "      <td>...</td>\n",
       "      <td>...</td>\n",
       "      <td>...</td>\n",
       "      <td>...</td>\n",
       "    </tr>\n",
       "    <tr>\n",
       "      <th>309075</th>\n",
       "      <td>2004.0</td>\n",
       "      <td>5.0</td>\n",
       "      <td>225.0</td>\n",
       "      <td>150000.0</td>\n",
       "      <td>0.0</td>\n",
       "      <td>0.0</td>\n",
       "      <td>0.0</td>\n",
       "      <td>1.0</td>\n",
       "      <td>1.0</td>\n",
       "      <td>0.0</td>\n",
       "      <td>...</td>\n",
       "      <td>0.0</td>\n",
       "      <td>0.0</td>\n",
       "      <td>0.0</td>\n",
       "      <td>4.0</td>\n",
       "      <td>6.0</td>\n",
       "      <td>1.0</td>\n",
       "      <td>0.0</td>\n",
       "      <td>0.0</td>\n",
       "      <td>0.0</td>\n",
       "      <td>3200.0</td>\n",
       "    </tr>\n",
       "    <tr>\n",
       "      <th>309076</th>\n",
       "      <td>2005.0</td>\n",
       "      <td>1.0</td>\n",
       "      <td>111.0</td>\n",
       "      <td>20000.0</td>\n",
       "      <td>0.0</td>\n",
       "      <td>0.0</td>\n",
       "      <td>1.0</td>\n",
       "      <td>1.0</td>\n",
       "      <td>1.0</td>\n",
       "      <td>1.0</td>\n",
       "      <td>...</td>\n",
       "      <td>0.0</td>\n",
       "      <td>1.0</td>\n",
       "      <td>0.0</td>\n",
       "      <td>-1.0</td>\n",
       "      <td>-1.0</td>\n",
       "      <td>0.0</td>\n",
       "      <td>1.0</td>\n",
       "      <td>0.0</td>\n",
       "      <td>1.0</td>\n",
       "      <td>2200.0</td>\n",
       "    </tr>\n",
       "    <tr>\n",
       "      <th>309077</th>\n",
       "      <td>2000.0</td>\n",
       "      <td>3.0</td>\n",
       "      <td>101.0</td>\n",
       "      <td>125000.0</td>\n",
       "      <td>0.0</td>\n",
       "      <td>0.0</td>\n",
       "      <td>1.0</td>\n",
       "      <td>0.0</td>\n",
       "      <td>0.0</td>\n",
       "      <td>1.0</td>\n",
       "      <td>...</td>\n",
       "      <td>1.0</td>\n",
       "      <td>0.0</td>\n",
       "      <td>1.0</td>\n",
       "      <td>1.0</td>\n",
       "      <td>6.0</td>\n",
       "      <td>0.0</td>\n",
       "      <td>0.0</td>\n",
       "      <td>1.0</td>\n",
       "      <td>0.0</td>\n",
       "      <td>1199.0</td>\n",
       "    </tr>\n",
       "    <tr>\n",
       "      <th>309078</th>\n",
       "      <td>1996.0</td>\n",
       "      <td>3.0</td>\n",
       "      <td>102.0</td>\n",
       "      <td>150000.0</td>\n",
       "      <td>0.0</td>\n",
       "      <td>0.0</td>\n",
       "      <td>0.0</td>\n",
       "      <td>0.0</td>\n",
       "      <td>0.0</td>\n",
       "      <td>0.0</td>\n",
       "      <td>...</td>\n",
       "      <td>1.0</td>\n",
       "      <td>1.0</td>\n",
       "      <td>0.0</td>\n",
       "      <td>0.0</td>\n",
       "      <td>2.0</td>\n",
       "      <td>1.0</td>\n",
       "      <td>0.0</td>\n",
       "      <td>1.0</td>\n",
       "      <td>0.0</td>\n",
       "      <td>9200.0</td>\n",
       "    </tr>\n",
       "    <tr>\n",
       "      <th>309079</th>\n",
       "      <td>2002.0</td>\n",
       "      <td>6.0</td>\n",
       "      <td>100.0</td>\n",
       "      <td>150000.0</td>\n",
       "      <td>0.0</td>\n",
       "      <td>0.0</td>\n",
       "      <td>0.0</td>\n",
       "      <td>0.0</td>\n",
       "      <td>0.0</td>\n",
       "      <td>0.0</td>\n",
       "      <td>...</td>\n",
       "      <td>0.0</td>\n",
       "      <td>0.0</td>\n",
       "      <td>1.0</td>\n",
       "      <td>7.0</td>\n",
       "      <td>2.0</td>\n",
       "      <td>1.0</td>\n",
       "      <td>0.0</td>\n",
       "      <td>0.0</td>\n",
       "      <td>1.0</td>\n",
       "      <td>3400.0</td>\n",
       "    </tr>\n",
       "  </tbody>\n",
       "</table>\n",
       "<p>309080 rows × 27 columns</p>\n",
       "</div>"
      ],
      "text/plain": [
       "        RegistrationYear  RegistrationMonth  Power   Mileage  Brand_0  \\\n",
       "0                 1993.0                6.0  111.0  150000.0      0.0   \n",
       "1                 2011.0                5.0  190.0  125000.0      0.0   \n",
       "2                 2004.0                8.0  163.0  125000.0      0.0   \n",
       "3                 2001.0                6.0   75.0  150000.0      0.0   \n",
       "4                 2008.0                7.0   69.0   90000.0      0.0   \n",
       "...                  ...                ...    ...       ...      ...   \n",
       "309075            2004.0                5.0  225.0  150000.0      0.0   \n",
       "309076            2005.0                1.0  111.0   20000.0      0.0   \n",
       "309077            2000.0                3.0  101.0  125000.0      0.0   \n",
       "309078            1996.0                3.0  102.0  150000.0      0.0   \n",
       "309079            2002.0                6.0  100.0  150000.0      0.0   \n",
       "\n",
       "        Brand_1  Brand_2  Brand_3  Brand_4  Brand_5  ...  Model_6  Model_7  \\\n",
       "0           0.0      0.0      0.0      0.0      0.0  ...      0.0      0.0   \n",
       "1           0.0      0.0      0.0      0.0      1.0  ...      0.0      1.0   \n",
       "2           0.0      0.0      0.0      0.0      1.0  ...      0.0      1.0   \n",
       "3           0.0      0.0      0.0      0.0      0.0  ...      0.0      0.0   \n",
       "4           0.0      0.0      0.0      1.0      0.0  ...      1.0      0.0   \n",
       "...         ...      ...      ...      ...      ...  ...      ...      ...   \n",
       "309075      0.0      0.0      1.0      1.0      0.0  ...      0.0      0.0   \n",
       "309076      0.0      1.0      1.0      1.0      1.0  ...      0.0      1.0   \n",
       "309077      0.0      1.0      0.0      0.0      1.0  ...      1.0      0.0   \n",
       "309078      0.0      0.0      0.0      0.0      0.0  ...      1.0      1.0   \n",
       "309079      0.0      0.0      0.0      0.0      0.0  ...      0.0      0.0   \n",
       "\n",
       "        Model_8  FuelType  VehicleType  Gearbox_manual  Gearbox_nan  \\\n",
       "0           1.0      -1.0          6.0             1.0          0.0   \n",
       "1           0.0       2.0          2.0             1.0          0.0   \n",
       "2           1.0       6.0          2.0             0.0          0.0   \n",
       "3           1.0       5.0          6.0             1.0          0.0   \n",
       "4           0.0       5.0          2.0             1.0          0.0   \n",
       "...         ...       ...          ...             ...          ...   \n",
       "309075      0.0       4.0          6.0             1.0          0.0   \n",
       "309076      0.0      -1.0         -1.0             0.0          1.0   \n",
       "309077      1.0       1.0          6.0             0.0          0.0   \n",
       "309078      0.0       0.0          2.0             1.0          0.0   \n",
       "309079      1.0       7.0          2.0             1.0          0.0   \n",
       "\n",
       "        Repaired_1.0  Repaired_nan        0  \n",
       "0                0.0           1.0    480.0  \n",
       "1                0.0           0.0  18300.0  \n",
       "2                0.0           1.0   9800.0  \n",
       "3                1.0           0.0   1500.0  \n",
       "4                1.0           0.0   3600.0  \n",
       "...              ...           ...      ...  \n",
       "309075           0.0           0.0   3200.0  \n",
       "309076           0.0           1.0   2200.0  \n",
       "309077           1.0           0.0   1199.0  \n",
       "309078           1.0           0.0   9200.0  \n",
       "309079           0.0           1.0   3400.0  \n",
       "\n",
       "[309080 rows x 27 columns]"
      ]
     },
     "execution_count": 51,
     "metadata": {},
     "output_type": "execute_result"
    }
   ],
   "source": [
    "%%time\n",
    "\n",
    "# features preprocessing results\n",
    "\n",
    "p_df = (lambda pipe:pd.DataFrame(pipe.fit_transform(df), columns=get_feature_names_out(pipe))\n",
    ")(make_preprocess_pipeline(\n",
    "    # after=[StandardScaler()]\n",
    "))\n",
    "\n",
    "p_df"
   ]
  },
  {
   "cell_type": "markdown",
   "metadata": {},
   "source": [
    "<div class=\"alert alert-success\">\n",
    "<b>Reviewer's comment</b>\n",
    "\t  \n",
    "The pipeline for imputing missing values and encoding categorical features looks great!\n",
    "\t  \n",
    "</div>"
   ]
  },
  {
   "cell_type": "code",
   "execution_count": 52,
   "metadata": {
    "scrolled": true
   },
   "outputs": [],
   "source": [
    "# sns.heatmap(p_df.corr().mask(np.tril(np.ones(p_df.corr().shape)) == False));"
   ]
  },
  {
   "cell_type": "code",
   "execution_count": 53,
   "metadata": {},
   "outputs": [],
   "source": [
    "del p_df"
   ]
  },
  {
   "cell_type": "code",
   "execution_count": 54,
   "metadata": {},
   "outputs": [],
   "source": [
    "X = df.drop('Price', axis=1)"
   ]
  },
  {
   "cell_type": "code",
   "execution_count": 55,
   "metadata": {},
   "outputs": [],
   "source": [
    "y = df['Price']"
   ]
  },
  {
   "cell_type": "code",
   "execution_count": 56,
   "metadata": {},
   "outputs": [],
   "source": [
    "# rmse = make_scorer(lambda y_true,y_pred:np.sqrt(mean_squared_error(y_true, y_pred)))"
   ]
  },
  {
   "cell_type": "code",
   "execution_count": 57,
   "metadata": {},
   "outputs": [],
   "source": [
    "scoring = 'neg_root_mean_squared_error'"
   ]
  },
  {
   "cell_type": "markdown",
   "metadata": {},
   "source": [
    "<div class=\"alert alert-danger\">\n",
    "<s><b>Reviewer's comment</b>\n",
    "\t  \n",
    "In scikit-learn there is a convention that higher values returned by the scorer are better (so, like accuracy, F1 score, precision, recall, etc.). This is done so that `GridSearchCV` and other similar functions always maximize the 'score'. Error functions (like RMSE, MAE) are the opposite: they return lower values when the performance is better. Minimizing the error function `f` is the same thing as maximizing `-f`, so to comply with scikit-learn convention, their sign is flipped. When you're using a custom scorer this is done by passing `greater_is_better=False` parameter. If you don't do this, the grid search (or halving random search) is maximizing the error, that's why the performance of your models only got worse after hyperparameter tuning :)\n",
    "    \n",
    "By the way, there are quite a few [predefined metrics](https://scikit-learn.org/stable/modules/model_evaluation.html#common-cases-predefined-values) in scikit-learn, RMSE is one of them: `scoring='neg_root_mean_squared_error'`.\n",
    "\t  \n",
    "</div>"
   ]
  },
  {
   "cell_type": "markdown",
   "metadata": {},
   "source": [
    "<div class=\"alert alert-info\">\n",
    "<b>Student's comment v.1</b>\n",
    "    \n",
    "That's why my results seemed very strange. <br>\n",
    "I have noticed that the hypertuning had worse results and it did raise a flag, just couldn't pinpoint the issue. <br>\n",
    "We've even done it in the previous project, an oversight on my part, Thanks.\n",
    "</div>"
   ]
  },
  {
   "cell_type": "markdown",
   "metadata": {},
   "source": [
    "<div class=\"alert alert-success\">\n",
    "<b>Reviewer's comment V2</b>\n",
    "\t  \n",
    "Great, now it's correct!\n",
    "\t  \n",
    "</div>"
   ]
  },
  {
   "cell_type": "code",
   "execution_count": 58,
   "metadata": {},
   "outputs": [],
   "source": [
    "def get_feature_importance(pipeline, features=None):\n",
    "    \n",
    "    if not features:\n",
    "        features = get_feature_names_out(pipeline[0])\n",
    "        \n",
    "    model = pipeline[-1]\n",
    "    \n",
    "    scores = []\n",
    "    if hasattr(model, 'feature_importances_'):\n",
    "        scores = model.feature_importances_\n",
    "    elif hasattr(model, 'coef_'):\n",
    "        scores = model.coef_\n",
    "        \n",
    "    if len(scores) == len(features):\n",
    "        return pd.Series(scores, features)\n",
    "    else:\n",
    "        return scores"
   ]
  },
  {
   "cell_type": "code",
   "execution_count": 59,
   "metadata": {},
   "outputs": [],
   "source": [
    "def evaluate_score(y_true, y_pred):\n",
    "    print('RMSE: {:.2f}'.format(np.sqrt(mean_squared_error(y_true, y_pred))))\n",
    "    print('MAE: {:.2f}'.format(mean_absolute_error(y_true, y_pred)))\n",
    "    print('R2: {:.2f}'.format(r2_score(y_true, y_pred)))\n",
    "    print()"
   ]
  },
  {
   "cell_type": "code",
   "execution_count": 60,
   "metadata": {},
   "outputs": [],
   "source": [
    "@ignore_warnings\n",
    "def evaluate_model(model, X, y, test_size=.2, scoring=scoring, fit_params={},\n",
    "                   cv=0, after_preprocess=[], hyper_params={}, title=True, verbose=False):\n",
    "    \n",
    "    if title:\n",
    "        display(Markdown('### '+model.__class__.__name__))\n",
    "    \n",
    "    X_train, X_test, y_train, y_test = train_test_split(X, y,\n",
    "                                                        test_size=test_size,\n",
    "                                                        random_state=random_state)\n",
    "    fit_time = None\n",
    "    predict_time = None\n",
    "    \n",
    "    pipeline = Pipeline([\n",
    "        ('preprocess', make_preprocess_pipeline(after=[\n",
    "            StandardScaler(),\n",
    "            *after_preprocess,\n",
    "        ])),\n",
    "        ('model' , model),\n",
    "    ])\n",
    "    \n",
    "    if hyper_params:\n",
    "        hyper_params = {('model__'+k if not k.startswith('model__') else k):v \n",
    "                  for k, v in hyper_params.items()}\n",
    "        \n",
    "        search = HalvingRandomSearchCV(pipeline, hyper_params, \n",
    "                                       scoring=scoring,\n",
    "                                       n_jobs=-1, random_state=random_state)\n",
    "        search.fit(X_train, y_train, **fit_params)\n",
    "        pipeline = search.best_estimator_\n",
    "        \n",
    "        print('best params\\n')\n",
    "        pprint(search.best_params_)\n",
    "        print()\n",
    "        \n",
    "        fit_time = search.cv_results_['mean_fit_time'].mean()\n",
    "        predict_time = search.cv_results_['mean_score_time'].mean()\n",
    "    elif cv:\n",
    "        print('cross validate\\n')\n",
    "        \n",
    "        cv = cross_validate(pipeline, X_train, y_train, scoring=scoring)\n",
    "        fit_time = cv['fit_time'].mean()\n",
    "        predict_time = cv['score_time'].mean()\n",
    "        \n",
    "        pprint(cv, width=1)\n",
    "        print()\n",
    "        \n",
    "        pipeline.fit(X_train, y_train, **fit_params)\n",
    "    else:\n",
    "        fit_time = timer()\n",
    "        pipeline.fit(X_train, y_train, **fit_params)\n",
    "        fit_time = timer() - fit_time\n",
    "    \n",
    "    \n",
    "    if not predict_time:\n",
    "        predict_time = timer()\n",
    "        y_pred = pipeline.predict(X_test)\n",
    "        predict_time = timer() - predict_time\n",
    "    else:\n",
    "        y_pred = pipeline.predict(X_test)\n",
    "    \n",
    "    if verbose:\n",
    "        print('feature importance\\n')\n",
    "        print(get_feature_importance(pipeline))\n",
    "        print()\n",
    "        \n",
    "    evaluate_score(y_test, y_pred)\n",
    "    \n",
    "    print('train time:  ', timedelta(seconds=round(fit_time)))\n",
    "    print('predict time:', timedelta(seconds=round(predict_time)))\n",
    "    print()"
   ]
  },
  {
   "cell_type": "markdown",
   "metadata": {},
   "source": [
    "<div class=\"alert alert-success\">\n",
    "<b>Reviewer's comment</b>\n",
    "\t  \n",
    "The function for tuning hyperparameters and evaluating the final model on the test set looks good\n",
    "\t  \n",
    "</div>"
   ]
  },
  {
   "cell_type": "code",
   "execution_count": 61,
   "metadata": {},
   "outputs": [
    {
     "data": {
      "text/plain": [
       "(4651.99299857642, 2950.0)"
      ]
     },
     "execution_count": 61,
     "metadata": {},
     "output_type": "execute_result"
    }
   ],
   "source": [
    "y.mean(), y.median()"
   ]
  },
  {
   "cell_type": "code",
   "execution_count": 62,
   "metadata": {
    "scrolled": false
   },
   "outputs": [
    {
     "data": {
      "text/markdown": [
       "### Dummy model"
      ],
      "text/plain": [
       "<IPython.core.display.Markdown object>"
      ]
     },
     "metadata": {},
     "output_type": "display_data"
    },
    {
     "name": "stdout",
     "output_type": "stream",
     "text": [
      "strategy='mean'\n",
      "\n",
      "RMSE: 4497.49\n",
      "MAE: 3527.97\n",
      "R2: -0.00\n",
      "\n",
      "train time:   0:00:01\n",
      "predict time: 0:00:00\n",
      "\n",
      "\n",
      "strategy='median'\n",
      "\n",
      "RMSE: 4793.71\n",
      "MAE: 3254.15\n",
      "R2: -0.14\n",
      "\n",
      "train time:   0:00:01\n",
      "predict time: 0:00:00\n",
      "\n",
      "\n",
      "CPU times: user 1.75 s, sys: 279 ms, total: 2.03 s\n",
      "Wall time: 2.03 s\n"
     ]
    }
   ],
   "source": [
    "%%time\n",
    "\n",
    "display(Markdown('### Dummy model'))\n",
    "\n",
    "for strategy in [\"mean\", \"median\"]:\n",
    "    print(f\"strategy='{strategy}'\", '', sep='\\n')\n",
    "    evaluate_model(DummyRegressor(strategy=strategy), X, y, cv=0, title=False, verbose=False)\n",
    "    print()"
   ]
  },
  {
   "cell_type": "markdown",
   "metadata": {},
   "source": [
    "Established a baseline score with a constant dummy model."
   ]
  },
  {
   "cell_type": "code",
   "execution_count": 63,
   "metadata": {
    "scrolled": false
   },
   "outputs": [
    {
     "data": {
      "text/markdown": [
       "### LinearRegression"
      ],
      "text/plain": [
       "<IPython.core.display.Markdown object>"
      ]
     },
     "metadata": {},
     "output_type": "display_data"
    },
    {
     "name": "stdout",
     "output_type": "stream",
     "text": [
      "RMSE: 3069.70\n",
      "MAE: 2191.19\n",
      "R2: 0.53\n",
      "\n",
      "train time:   0:00:01\n",
      "predict time: 0:00:00\n",
      "\n",
      "CPU times: user 1.89 s, sys: 253 ms, total: 2.15 s\n",
      "Wall time: 1.26 s\n"
     ]
    }
   ],
   "source": [
    "%%time\n",
    "evaluate_model(LinearRegression(), X, y)#, verbose=True)"
   ]
  },
  {
   "cell_type": "markdown",
   "metadata": {},
   "source": [
    "Linear Regression is doing better than baseline, sanity check passed."
   ]
  },
  {
   "cell_type": "code",
   "execution_count": 64,
   "metadata": {},
   "outputs": [
    {
     "data": {
      "text/markdown": [
       "### Lasso"
      ],
      "text/plain": [
       "<IPython.core.display.Markdown object>"
      ]
     },
     "metadata": {},
     "output_type": "display_data"
    },
    {
     "name": "stdout",
     "output_type": "stream",
     "text": [
      "feature importance\n",
      "\n",
      "RegistrationYear     1059.148392\n",
      "RegistrationMonth      -8.075317\n",
      "Power                2022.988959\n",
      "Mileage             -1649.043067\n",
      "Brand_0                 0.000000\n",
      "Brand_1              -132.943985\n",
      "Brand_2                -5.835253\n",
      "Brand_3              -318.615341\n",
      "Brand_4              -198.083465\n",
      "Brand_5                83.272744\n",
      "Brand_6              -348.639414\n",
      "Model_0                 0.000000\n",
      "Model_1               169.629235\n",
      "Model_2               240.316230\n",
      "Model_3               -56.623086\n",
      "Model_4               -70.809664\n",
      "Model_5               216.492439\n",
      "Model_6                67.587717\n",
      "Model_7               128.942837\n",
      "Model_8               160.611819\n",
      "FuelType              196.766982\n",
      "VehicleType          -371.648913\n",
      "Gearbox_manual       -257.039428\n",
      "Gearbox_nan          -292.081676\n",
      "Repaired_1.0          939.879288\n",
      "Repaired_nan          260.200798\n",
      "dtype: float64\n",
      "\n",
      "RMSE: 3069.66\n",
      "MAE: 2190.92\n",
      "R2: 0.53\n",
      "\n",
      "train time:   0:00:01\n",
      "predict time: 0:00:00\n",
      "\n",
      "CPU times: user 2.86 s, sys: 261 ms, total: 3.12 s\n",
      "Wall time: 1.18 s\n"
     ]
    }
   ],
   "source": [
    "%%time\n",
    "evaluate_model(Lasso(random_state=random_state), X, y, verbose=True)"
   ]
  },
  {
   "cell_type": "code",
   "execution_count": 65,
   "metadata": {},
   "outputs": [
    {
     "data": {
      "text/markdown": [
       "### DecisionTreeRegressor"
      ],
      "text/plain": [
       "<IPython.core.display.Markdown object>"
      ]
     },
     "metadata": {},
     "output_type": "display_data"
    },
    {
     "name": "stdout",
     "output_type": "stream",
     "text": [
      "RMSE: 2293.69\n",
      "MAE: 1342.50\n",
      "R2: 0.74\n",
      "\n",
      "train time:   0:00:02\n",
      "predict time: 0:00:00\n",
      "\n",
      "CPU times: user 3.35 s, sys: 155 ms, total: 3.5 s\n",
      "Wall time: 2.59 s\n"
     ]
    }
   ],
   "source": [
    "%%time\n",
    "evaluate_model(DecisionTreeRegressor(random_state=random_state), X, y)#, verbose=True)"
   ]
  },
  {
   "cell_type": "code",
   "execution_count": 158,
   "metadata": {},
   "outputs": [
    {
     "data": {
      "text/markdown": [
       "### RandomForestRegressor"
      ],
      "text/plain": [
       "<IPython.core.display.Markdown object>"
      ]
     },
     "metadata": {},
     "output_type": "display_data"
    },
    {
     "name": "stdout",
     "output_type": "stream",
     "text": [
      "RMSE: 1727.81\n",
      "MAE: 1061.95\n",
      "R2: 0.85\n",
      "\n",
      "train time:   0:01:43\n",
      "predict time: 0:00:03\n",
      "\n",
      "CPU times: user 1min 44s, sys: 879 ms, total: 1min 45s\n",
      "Wall time: 1min 45s\n"
     ]
    }
   ],
   "source": [
    "%%time\n",
    "evaluate_model(RandomForestRegressor(random_state=random_state), X, y)"
   ]
  },
  {
   "cell_type": "code",
   "execution_count": 159,
   "metadata": {
    "scrolled": false
   },
   "outputs": [],
   "source": [
    "# %%time\n",
    "# evaluate_model(RandomForestRegressor(random_state=random_state), X, y, hyper_params={\n",
    "#     'n_estimators': [100, 130, 200, 400],\n",
    "# })#, verbose=True)"
   ]
  },
  {
   "cell_type": "markdown",
   "metadata": {},
   "source": [
    "### LightGBM"
   ]
  },
  {
   "cell_type": "code",
   "execution_count": 67,
   "metadata": {},
   "outputs": [
    {
     "data": {
      "text/markdown": [
       "### LGBMRegressor"
      ],
      "text/plain": [
       "<IPython.core.display.Markdown object>"
      ]
     },
     "metadata": {},
     "output_type": "display_data"
    },
    {
     "name": "stdout",
     "output_type": "stream",
     "text": [
      "RMSE: 1784.77\n",
      "MAE: 1131.73\n",
      "R2: 0.84\n",
      "\n",
      "train time:   0:00:01\n",
      "predict time: 0:00:00\n",
      "\n",
      "CPU times: user 9.79 s, sys: 248 ms, total: 10 s\n",
      "Wall time: 1.74 s\n"
     ]
    }
   ],
   "source": [
    "%%time\n",
    "evaluate_model(lgb.LGBMRegressor(n_jobs=-1, random_state=random_state), X, y, fit_params={\n",
    "    'model__eval_metric': scoring,\n",
    "})"
   ]
  },
  {
   "cell_type": "code",
   "execution_count": 73,
   "metadata": {},
   "outputs": [
    {
     "data": {
      "text/markdown": [
       "### LGBMRegressor"
      ],
      "text/plain": [
       "<IPython.core.display.Markdown object>"
      ]
     },
     "metadata": {},
     "output_type": "display_data"
    },
    {
     "name": "stdout",
     "output_type": "stream",
     "text": [
      "best params\n",
      "\n",
      "{'model__learning_rate': 0.1,\n",
      " 'model__max_depth': 5,\n",
      " 'model__n_estimators': 150,\n",
      " 'model__num_leaves': 25}\n",
      "\n",
      "RMSE: 1805.67\n",
      "MAE: 1147.63\n",
      "R2: 0.84\n",
      "\n",
      "train time:   0:00:00\n",
      "predict time: 0:00:00\n",
      "\n",
      "CPU times: user 48.1 s, sys: 7.55 s, total: 55.6 s\n",
      "Wall time: 1min 17s\n"
     ]
    }
   ],
   "source": [
    "%%time\n",
    "evaluate_model(lgb.LGBMRegressor(n_jobs=-1, random_state=random_state), X, y, fit_params={\n",
    "    'model__eval_metric': scoring,\n",
    "}, hyper_params=dict(\n",
    "    num_leaves=[25, 31, 40],\n",
    "    max_depth=[-1, 5, 10, 50],\n",
    "    learning_rate=[1, 1e-1, 1e-2],\n",
    "    n_estimators=[80, 100, 150],\n",
    "))"
   ]
  },
  {
   "cell_type": "markdown",
   "metadata": {},
   "source": [
    "### XGBoost"
   ]
  },
  {
   "cell_type": "code",
   "execution_count": 66,
   "metadata": {},
   "outputs": [
    {
     "data": {
      "text/markdown": [
       "### XGBRegressor"
      ],
      "text/plain": [
       "<IPython.core.display.Markdown object>"
      ]
     },
     "metadata": {},
     "output_type": "display_data"
    },
    {
     "name": "stdout",
     "output_type": "stream",
     "text": [
      "RMSE: 1696.88\n",
      "MAE: 1068.44\n",
      "R2: 0.86\n",
      "\n",
      "train time:   0:00:07\n",
      "predict time: 0:00:00\n",
      "\n",
      "CPU times: user 1min 16s, sys: 395 ms, total: 1min 16s\n",
      "Wall time: 7.29 s\n"
     ]
    }
   ],
   "source": [
    "%%time\n",
    "evaluate_model(xgb.XGBRegressor(n_jobs=-1, random_state=random_state), X, y)"
   ]
  },
  {
   "cell_type": "code",
   "execution_count": 71,
   "metadata": {},
   "outputs": [
    {
     "data": {
      "text/markdown": [
       "### XGBRegressor"
      ],
      "text/plain": [
       "<IPython.core.display.Markdown object>"
      ]
     },
     "metadata": {},
     "output_type": "display_data"
    },
    {
     "name": "stdout",
     "output_type": "stream",
     "text": [
      "best params\n",
      "\n",
      "{'model__booster': 'dart',\n",
      " 'model__learning_rate': 0.1,\n",
      " 'model__max_depth': 200,\n",
      " 'model__n_estimators': 100}\n",
      "\n",
      "RMSE: 1818.93\n",
      "MAE: 1100.72\n",
      "R2: 0.84\n",
      "\n",
      "train time:   0:00:01\n",
      "predict time: 0:00:00\n",
      "\n",
      "CPU times: user 1h 3min 2s, sys: 1min 18s, total: 1h 4min 21s\n",
      "Wall time: 10min 48s\n"
     ]
    }
   ],
   "source": [
    "%%time\n",
    "evaluate_model(xgb.XGBRegressor(n_jobs=-1, random_state=random_state), X, y, hyper_params={\n",
    "    'booster': ['gbtree', 'gblinear', 'dart'],\n",
    "    'n_estimators': [0, 10, 100],\n",
    "    'max_depth': [0, 10, 100],\n",
    "    'learning_rate': [1, 1e-1, 1e-2],\n",
    "})"
   ]
  },
  {
   "cell_type": "markdown",
   "metadata": {},
   "source": [
    "### CatBoost"
   ]
  },
  {
   "cell_type": "code",
   "execution_count": 69,
   "metadata": {},
   "outputs": [
    {
     "data": {
      "text/markdown": [
       "### CatBoostRegressor"
      ],
      "text/plain": [
       "<IPython.core.display.Markdown object>"
      ]
     },
     "metadata": {},
     "output_type": "display_data"
    },
    {
     "name": "stdout",
     "output_type": "stream",
     "text": [
      "RMSE: 1670.47\n",
      "MAE: 1045.51\n",
      "R2: 0.86\n",
      "\n",
      "train time:   0:00:13\n",
      "predict time: 0:00:00\n",
      "\n",
      "CPU times: user 1min 44s, sys: 1.6 s, total: 1min 46s\n",
      "Wall time: 14 s\n"
     ]
    }
   ],
   "source": [
    "%%time\n",
    "evaluate_model(cb.CatBoostRegressor(logging_level='Silent', random_seed=random_state), X, y)"
   ]
  },
  {
   "cell_type": "code",
   "execution_count": 72,
   "metadata": {
    "scrolled": false
   },
   "outputs": [
    {
     "data": {
      "text/markdown": [
       "### CatBoostRegressor"
      ],
      "text/plain": [
       "<IPython.core.display.Markdown object>"
      ]
     },
     "metadata": {},
     "output_type": "display_data"
    },
    {
     "name": "stdout",
     "output_type": "stream",
     "text": [
      "best params\n",
      "\n",
      "{'model__depth': 5, 'model__learning_rate': 1}\n",
      "\n",
      "RMSE: 1704.00\n",
      "MAE: 1061.15\n",
      "R2: 0.86\n",
      "\n",
      "train time:   0:00:02\n",
      "predict time: 0:00:00\n",
      "\n",
      "CPU times: user 1min 39s, sys: 2.37 s, total: 1min 41s\n",
      "Wall time: 45.1 s\n"
     ]
    }
   ],
   "source": [
    "%%time\n",
    "evaluate_model(cb.CatBoostRegressor(logging_level='Silent', random_seed=random_state), X, y, hyper_params={\n",
    "    'learning_rate': [1, 1e-1, 1e-2],\n",
    "    'depth': [0, 1, 5, 10],\n",
    "})"
   ]
  },
  {
   "cell_type": "markdown",
   "metadata": {},
   "source": [
    "<div class=\"alert alert-success\">\n",
    "<b>Reviewer's comment</b>\n",
    "\t  \n",
    "Excellent, you tried a few different models, tuned their hypeparameters with cross-validation and evaluated the final models on the test set.\n",
    "\t  \n",
    "</div>"
   ]
  },
  {
   "cell_type": "code",
   "execution_count": 70,
   "metadata": {
    "scrolled": false
   },
   "outputs": [],
   "source": [
    "# %%time\n",
    "\n",
    "# pipeline = make_preprocess_pipeline(after=[StandardScaler()])\n",
    "# X_pre = pd.DataFrame(pipeline.fit_transform(df), columns=get_feature_names_out(pipeline))\n",
    "# display(data.head())\n",
    "\n",
    "# X_train, X_test, y_train, y_test = train_test_split(X_pre, y,\n",
    "#                                                     test_size=0.2,\n",
    "#                                                     random_state=random_state)\n",
    "\n",
    "# model = cb.CatBoostRegressor(logging_level='Silent', random_seed=random_state)\n",
    "# _ = model.grid_search({\n",
    "#     'learning_rate': [1, 1e-1, 1e-2],\n",
    "#     'depth': [0, 1, 5, 10],\n",
    "# }, X_train, y_train)\n",
    "# print()\n",
    "\n",
    "# evaluate_score(y_test, model.predict(X_test))"
   ]
  },
  {
   "cell_type": "markdown",
   "metadata": {},
   "source": [
    "<div class=\"alert alert-danger\">\n",
    "<s><b>Reviewer's comment</b>\n",
    "\t  \n",
    "Unfortunately, when you use your pipeline on the whole dataset before splitting it into train and test, it causes data leakage (in particular, you're imputing missing values based on a median calculated on the whole data, and then using mean and standard deviation calculated on the whole data, including the test set, to scale the whole dataset), which is evident in the difference of scores obtained with catboost using a proper procedure, the same you used for other models (`RMSE = 1771`) and applying the preprocessing pipeline to the whole dataset (`RMSE = 30`).\n",
    "    \n",
    "In general, when your model suddenly improves by its RMSE by 98% (or if it just gets some very small error value from the start), it's a very big indicator that there is some kind of leakage going on, so it's a good idea to double check everything: do the train and test set have zero overlap? is cross-validation done correctly? are there some features that could leak target? if it's a time series, is the data without shuffling? etc.\n",
    "\n",
    "\t  \n",
    "</div>"
   ]
  },
  {
   "cell_type": "markdown",
   "metadata": {},
   "source": [
    "<div class=\"alert alert-info\">\n",
    "<b>Student's comment v.1</b>\n",
    "    \n",
    "I've noticed the disproportional RMSE compared to previous scores, left it so you could tell me where I went wrong. <br>\n",
    "Now it makes sense, thanks.\n",
    "    \n",
    "I'm still getting worse results for LGBM, XGB AND CB with hyperparameters tuning. <br>\n",
    "What am I doing wrong? or is it the choice of parameters?\n",
    "</div>"
   ]
  },
  {
   "cell_type": "markdown",
   "metadata": {},
   "source": [
    "<div class=\"alert alert-warning\">\n",
    "<b>Reviewer's comment V2</b>\n",
    "\t  \n",
    "Yeah, although I've just now noticed what is probably the real cause (I don't think just standard scaling could give such extreme results, but my point still stands): `X_pre = pd.DataFrame(pipeline.fit_transform(df), columns=get_feature_names_out(pipeline))` — here `df` includes the target variable :)\n",
    "    \n",
    "The reason your models are not getting better with hyperparameter tuning is probably due to the hyperparameter values you tried. First of all, the defaults should be pretty good themselves (they are default for a reason). Second, as you're using a randomized search, it would be better to supply the ranges where to search for hyperparameters, rather than just specific values. E.g. `randint(1,10)` instead of `[1, 5, 10]`. Check out [scikit-learns docs](https://scikit-learn.org/stable/modules/grid_search.html#randomized-parameter-optimization) for more information on that (and other useful tips on hyperparameter tuning). In general, tuning hyperparameters of a model is hard, so I would advise to try just slightly changing each hyperparameter on its own to try to get a feel how it affects the model, and then figure out the reasonable ranges to check in some kind of randomized search (also docs of the library supplying the model might have some tips about tuning its hyperparameters, for example [lightgbm](https://lightgbm.readthedocs.io/en/latest/Parameters-Tuning.html)).\n",
    "\t  \n",
    "</div>"
   ]
  },
  {
   "cell_type": "code",
   "execution_count": 74,
   "metadata": {},
   "outputs": [],
   "source": [
    "# model.get_params()"
   ]
  },
  {
   "cell_type": "markdown",
   "metadata": {},
   "source": [
    "## Model analysis\n",
    "***"
   ]
  },
  {
   "cell_type": "markdown",
   "metadata": {},
   "source": [
    "Linear models (Linear Regression, Lasso) are very fast (1.3s), but have a high error rate (3k RMSE).  \n",
    "Decision tree is almost as fast (2.8s) and does somewhat better than the linear models (2.3k RMSE).  \n",
    "Random Forest scored considerably better (1.7k RMSE) - but at the price of being very slow to train (1min 43sec).\n",
    "\n",
    "LightGBM scored 1800 RMSE, and is very fast at 2s,  \n",
    "XGBoost scored 1700 RMSE in 8s,  \n",
    "and CatBoost scored 1670 RMSE in 13s.\n",
    "\n",
    "All of the models are close to 0 sec predict time.\n",
    "\n",
    "XGBoost and CatBoost are on par,  \n",
    "CatBoost being the winner by a small margin."
   ]
  },
  {
   "cell_type": "markdown",
   "metadata": {},
   "source": [
    "<div class=\"alert alert-danger\">\n",
    "<s><b>Reviewer's comment</b>\n",
    "\t  \n",
    "As noted above, the 30 RMSE of catboost is not reliable, but rather a result of data leakage. Please review the conclusions after fixing the problems above!\n",
    "\t  \n",
    "</div>"
   ]
  },
  {
   "cell_type": "markdown",
   "metadata": {},
   "source": [
    "<div class=\"alert alert-success\">\n",
    "<b>Reviewer's comment V2</b>\n",
    "\t  \n",
    "Fixed!\n",
    "\t  \n",
    "</div>"
   ]
  },
  {
   "cell_type": "markdown",
   "metadata": {},
   "source": [
    "<div class=\"alert alert-warning\">\n",
    "<b>Reviewer's comment</b>\n",
    "\t  \n",
    "It would also be interesting to separately measure the fitting time and prediction time for the models\n",
    "\t  \n",
    "</div>"
   ]
  },
  {
   "cell_type": "markdown",
   "metadata": {},
   "source": [
    "# Checklist\n",
    "***"
   ]
  },
  {
   "cell_type": "markdown",
   "metadata": {},
   "source": [
    "Type 'x' to check. Then press Shift+Enter."
   ]
  },
  {
   "cell_type": "markdown",
   "metadata": {},
   "source": [
    "- [x]  Jupyter Notebook is open\n",
    "- [x]  Code is error free\n",
    "- [x]  The cells with the code have been arranged in order of execution\n",
    "- [x]  The data has been downloaded and prepared\n",
    "- [x]  The models have been trained\n",
    "- [x]  The analysis of speed and quality of the models has been performed"
   ]
  },
  {
   "cell_type": "code",
   "execution_count": null,
   "metadata": {},
   "outputs": [],
   "source": []
  }
 ],
 "metadata": {
  "ExecuteTimeLog": [
   {
    "duration": 9,
    "start_time": "2021-11-08T15:37:51.360Z"
   },
   {
    "duration": 4,
    "start_time": "2021-11-08T15:38:31.128Z"
   },
   {
    "duration": 4,
    "start_time": "2021-11-08T15:47:50.912Z"
   },
   {
    "duration": 4,
    "start_time": "2021-11-08T15:47:54.005Z"
   }
  ],
  "kernelspec": {
   "display_name": "Python 3",
   "language": "python",
   "name": "python3"
  },
  "language_info": {
   "codemirror_mode": {
    "name": "ipython",
    "version": 3
   },
   "file_extension": ".py",
   "mimetype": "text/x-python",
   "name": "python",
   "nbconvert_exporter": "python",
   "pygments_lexer": "ipython3",
   "version": "3.7.8"
  },
  "toc": {
   "base_numbering": 1,
   "nav_menu": {},
   "number_sections": true,
   "sideBar": true,
   "skip_h1_title": true,
   "title_cell": "Table of Contents",
   "title_sidebar": "Contents",
   "toc_cell": false,
   "toc_position": {},
   "toc_section_display": true,
   "toc_window_display": false
  }
 },
 "nbformat": 4,
 "nbformat_minor": 2
}
