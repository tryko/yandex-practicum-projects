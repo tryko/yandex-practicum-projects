{
 "cells": [
  {
   "cell_type": "markdown",
   "metadata": {},
   "source": [
    "## To the reviewer\n",
    "Hey, My name is Yoad :),<br> \n",
    "I would like to thank you for taking the time to go over my project.<br>\n",
    "I hope that you'll find it interesting and clear, and I'm looking forward to read your comments and suggestions."
   ]
  },
  {
   "cell_type": "markdown",
   "metadata": {},
   "source": [
    "----"
   ]
  },
  {
   "cell_type": "markdown",
   "metadata": {},
   "source": [
    "# Plan Recommendation Model For Megalin's Subscribers\n",
    "\n",
    "Megaline has found that many of their subscribers use legacy plans.<br>\n",
    "A model needs to be developed based on subscriber's behavior who already made the switch to the new plans, so it could analyze the behavior of subscribers on legacy plans and suggest one of the new plans to them."
   ]
  },
  {
   "cell_type": "markdown",
   "metadata": {},
   "source": [
    "## Decription of the data\n",
    "##### The `users_behavior` table:\n",
    " * `сalls` — Number of calls.\n",
    " * `minutes` — Total call duration in minutes.\n",
    " * `messages` — Number of text messages.\n",
    " * `mb_used` — Internet traffic used in MB.\n",
    " * `is_ultra` — Plan for the current month (Ultra - 1, Smart - 0)."
   ]
  },
  {
   "cell_type": "markdown",
   "metadata": {},
   "source": [
    "----"
   ]
  },
  {
   "cell_type": "markdown",
   "metadata": {},
   "source": [
    "## Tables Of Contents \n",
    "<a class=\"anchor\" id=\"table_of_contents\"></a><br>\n",
    "- [**First Look at The Data**](#chapter1)\n",
    "  - [Users Behavior](#chapter2)\n",
    "- [**Data Preprocessing**](#chapter5)\n",
    "  - [Duplicated Values](#chapter7)\n",
    "- [**Data Modeling**](#chapter9)\n",
    "  - [Data Splitting](#chapter10)\n",
    "  - [Investigate The Quality of Different Models](#chapter11)\n",
    "      - [Decision Tree](#chapter12)\n",
    "      - [Random Forest](#chapter13)\n",
    "      - [Logistic Regression](#chapter14)\n",
    "      - [Conclusion](#chapter17)\n",
    "  - [Checking Quality Using The Test Data](#chapter15)\n",
    "      - [Conclusion](#chapter18)\n",
    "  - [Model Sanity Check](#chapter16)\n",
    "  - [Conclusion](#chapter19)"
   ]
  },
  {
   "cell_type": "markdown",
   "metadata": {},
   "source": [
    "----"
   ]
  },
  {
   "cell_type": "markdown",
   "metadata": {},
   "source": [
    "## First Look at The Data \n",
    "<a class=\"anchor\" id=\"chapter1\"></a>\n",
    "[Go back to the Table of Contents](#table_of_contents)"
   ]
  },
  {
   "cell_type": "markdown",
   "metadata": {},
   "source": [
    "### Please Note: \n",
    "**There are some libraries that are not updated on the platform.<br>\n",
    "In order for the code to run properly, remove the # sign in the following commands and execute them, then restart the kernel.<br>\n",
    "Thank you.**"
   ]
  },
  {
   "cell_type": "code",
   "execution_count": 1,
   "metadata": {
    "scrolled": true
   },
   "outputs": [],
   "source": [
    "# !pip install pandas --upgrade"
   ]
  },
  {
   "cell_type": "code",
   "execution_count": 2,
   "metadata": {},
   "outputs": [],
   "source": [
    "# !pip install -U scikit-learn --upgrade"
   ]
  },
  {
   "cell_type": "code",
   "execution_count": 3,
   "metadata": {},
   "outputs": [],
   "source": [
    "# Importing pandas libarary.\n",
    "import pandas as pd\n",
    "\n",
    "# Importing models.\n",
    "from sklearn.tree import DecisionTreeClassifier\n",
    "from sklearn.ensemble import RandomForestClassifier\n",
    "from sklearn.linear_model import LogisticRegression\n",
    "from sklearn.dummy import DummyClassifier\n",
    "\n",
    "# Importing metric and splitting libraries.\n",
    "from sklearn.metrics import accuracy_score\n",
    "from sklearn.model_selection import train_test_split\n",
    "\n",
    "# Importing joblib.\n",
    "from joblib import dump"
   ]
  },
  {
   "cell_type": "code",
   "execution_count": 4,
   "metadata": {},
   "outputs": [],
   "source": [
    "# By using try-except method the data can load on the platform, as well as locally.\n",
    "\n",
    "try:\n",
    "    # Loading the data in the .csv files into a variable (locally)\n",
    "    df = pd.read_csv('users_behavior.csv')\n",
    "    \n",
    "except:   \n",
    "    # Loading the data in the .csv files into a variable (platform)\n",
    "    df = pd.read_csv('/datasets/users_behavior.csv')"
   ]
  },
  {
   "cell_type": "markdown",
   "metadata": {},
   "source": [
    "### Users Behavior\n",
    "<a class=\"anchor\" id=\"chapter2\"></a>\n",
    "[Go back to the Table of Contents](#table_of_contents)"
   ]
  },
  {
   "cell_type": "markdown",
   "metadata": {},
   "source": [
    "Our first step is to examine the entire set of data and determine if there are any missing values, as well as the types of data, since we already know the data was prepared, we will just make sure it is correct."
   ]
  },
  {
   "cell_type": "code",
   "execution_count": 5,
   "metadata": {},
   "outputs": [
    {
     "name": "stdout",
     "output_type": "stream",
     "text": [
      "<class 'pandas.core.frame.DataFrame'>\n",
      "RangeIndex: 3214 entries, 0 to 3213\n",
      "Data columns (total 5 columns):\n",
      " #   Column    Non-Null Count  Dtype  \n",
      "---  ------    --------------  -----  \n",
      " 0   calls     3214 non-null   float64\n",
      " 1   minutes   3214 non-null   float64\n",
      " 2   messages  3214 non-null   float64\n",
      " 3   mb_used   3214 non-null   float64\n",
      " 4   is_ultra  3214 non-null   int64  \n",
      "dtypes: float64(4), int64(1)\n",
      "memory usage: 125.7 KB\n"
     ]
    }
   ],
   "source": [
    "df.info(memory_usage='deep')"
   ]
  },
  {
   "cell_type": "markdown",
   "metadata": {},
   "source": [
    "- No missing values in the data.\n",
    "- We won't change any data types, as it might conflict with our model training.\n",
    "- The memory usage of the data is pretty low as it is so there is no reason to optimize."
   ]
  },
  {
   "cell_type": "markdown",
   "metadata": {},
   "source": [
    "Printing 5 rows randomly from the dataset to examine the data."
   ]
  },
  {
   "cell_type": "code",
   "execution_count": 6,
   "metadata": {},
   "outputs": [
    {
     "data": {
      "text/html": [
       "<div>\n",
       "<style scoped>\n",
       "    .dataframe tbody tr th:only-of-type {\n",
       "        vertical-align: middle;\n",
       "    }\n",
       "\n",
       "    .dataframe tbody tr th {\n",
       "        vertical-align: top;\n",
       "    }\n",
       "\n",
       "    .dataframe thead th {\n",
       "        text-align: right;\n",
       "    }\n",
       "</style>\n",
       "<table border=\"1\" class=\"dataframe\">\n",
       "  <thead>\n",
       "    <tr style=\"text-align: right;\">\n",
       "      <th></th>\n",
       "      <th>calls</th>\n",
       "      <th>minutes</th>\n",
       "      <th>messages</th>\n",
       "      <th>mb_used</th>\n",
       "      <th>is_ultra</th>\n",
       "    </tr>\n",
       "  </thead>\n",
       "  <tbody>\n",
       "    <tr>\n",
       "      <th>1321</th>\n",
       "      <td>56.0</td>\n",
       "      <td>302.74</td>\n",
       "      <td>70.0</td>\n",
       "      <td>29223.17</td>\n",
       "      <td>0</td>\n",
       "    </tr>\n",
       "    <tr>\n",
       "      <th>2844</th>\n",
       "      <td>21.0</td>\n",
       "      <td>188.44</td>\n",
       "      <td>9.0</td>\n",
       "      <td>7414.17</td>\n",
       "      <td>0</td>\n",
       "    </tr>\n",
       "    <tr>\n",
       "      <th>645</th>\n",
       "      <td>84.0</td>\n",
       "      <td>572.48</td>\n",
       "      <td>5.0</td>\n",
       "      <td>28775.89</td>\n",
       "      <td>1</td>\n",
       "    </tr>\n",
       "    <tr>\n",
       "      <th>854</th>\n",
       "      <td>94.0</td>\n",
       "      <td>728.12</td>\n",
       "      <td>41.0</td>\n",
       "      <td>17962.51</td>\n",
       "      <td>0</td>\n",
       "    </tr>\n",
       "    <tr>\n",
       "      <th>1725</th>\n",
       "      <td>85.0</td>\n",
       "      <td>645.72</td>\n",
       "      <td>0.0</td>\n",
       "      <td>14586.92</td>\n",
       "      <td>0</td>\n",
       "    </tr>\n",
       "  </tbody>\n",
       "</table>\n",
       "</div>"
      ],
      "text/plain": [
       "      calls  minutes  messages   mb_used  is_ultra\n",
       "1321   56.0   302.74      70.0  29223.17         0\n",
       "2844   21.0   188.44       9.0   7414.17         0\n",
       "645    84.0   572.48       5.0  28775.89         1\n",
       "854    94.0   728.12      41.0  17962.51         0\n",
       "1725   85.0   645.72       0.0  14586.92         0"
      ]
     },
     "execution_count": 6,
     "metadata": {},
     "output_type": "execute_result"
    }
   ],
   "source": [
    "df.sample(5)"
   ]
  },
  {
   "cell_type": "markdown",
   "metadata": {},
   "source": [
    "Using describe() we can now get even more detailed information about our data."
   ]
  },
  {
   "cell_type": "code",
   "execution_count": 7,
   "metadata": {},
   "outputs": [
    {
     "data": {
      "text/html": [
       "<div>\n",
       "<style scoped>\n",
       "    .dataframe tbody tr th:only-of-type {\n",
       "        vertical-align: middle;\n",
       "    }\n",
       "\n",
       "    .dataframe tbody tr th {\n",
       "        vertical-align: top;\n",
       "    }\n",
       "\n",
       "    .dataframe thead th {\n",
       "        text-align: right;\n",
       "    }\n",
       "</style>\n",
       "<table border=\"1\" class=\"dataframe\">\n",
       "  <thead>\n",
       "    <tr style=\"text-align: right;\">\n",
       "      <th></th>\n",
       "      <th>calls</th>\n",
       "      <th>minutes</th>\n",
       "      <th>messages</th>\n",
       "      <th>mb_used</th>\n",
       "      <th>is_ultra</th>\n",
       "    </tr>\n",
       "  </thead>\n",
       "  <tbody>\n",
       "    <tr>\n",
       "      <th>count</th>\n",
       "      <td>3214.000000</td>\n",
       "      <td>3214.000000</td>\n",
       "      <td>3214.000000</td>\n",
       "      <td>3214.000000</td>\n",
       "      <td>3214.000000</td>\n",
       "    </tr>\n",
       "    <tr>\n",
       "      <th>mean</th>\n",
       "      <td>63.038892</td>\n",
       "      <td>438.208787</td>\n",
       "      <td>38.281269</td>\n",
       "      <td>17207.673836</td>\n",
       "      <td>0.306472</td>\n",
       "    </tr>\n",
       "    <tr>\n",
       "      <th>std</th>\n",
       "      <td>33.236368</td>\n",
       "      <td>234.569872</td>\n",
       "      <td>36.148326</td>\n",
       "      <td>7570.968246</td>\n",
       "      <td>0.461100</td>\n",
       "    </tr>\n",
       "    <tr>\n",
       "      <th>min</th>\n",
       "      <td>0.000000</td>\n",
       "      <td>0.000000</td>\n",
       "      <td>0.000000</td>\n",
       "      <td>0.000000</td>\n",
       "      <td>0.000000</td>\n",
       "    </tr>\n",
       "    <tr>\n",
       "      <th>25%</th>\n",
       "      <td>40.000000</td>\n",
       "      <td>274.575000</td>\n",
       "      <td>9.000000</td>\n",
       "      <td>12491.902500</td>\n",
       "      <td>0.000000</td>\n",
       "    </tr>\n",
       "    <tr>\n",
       "      <th>50%</th>\n",
       "      <td>62.000000</td>\n",
       "      <td>430.600000</td>\n",
       "      <td>30.000000</td>\n",
       "      <td>16943.235000</td>\n",
       "      <td>0.000000</td>\n",
       "    </tr>\n",
       "    <tr>\n",
       "      <th>75%</th>\n",
       "      <td>82.000000</td>\n",
       "      <td>571.927500</td>\n",
       "      <td>57.000000</td>\n",
       "      <td>21424.700000</td>\n",
       "      <td>1.000000</td>\n",
       "    </tr>\n",
       "    <tr>\n",
       "      <th>max</th>\n",
       "      <td>244.000000</td>\n",
       "      <td>1632.060000</td>\n",
       "      <td>224.000000</td>\n",
       "      <td>49745.730000</td>\n",
       "      <td>1.000000</td>\n",
       "    </tr>\n",
       "  </tbody>\n",
       "</table>\n",
       "</div>"
      ],
      "text/plain": [
       "             calls      minutes     messages       mb_used     is_ultra\n",
       "count  3214.000000  3214.000000  3214.000000   3214.000000  3214.000000\n",
       "mean     63.038892   438.208787    38.281269  17207.673836     0.306472\n",
       "std      33.236368   234.569872    36.148326   7570.968246     0.461100\n",
       "min       0.000000     0.000000     0.000000      0.000000     0.000000\n",
       "25%      40.000000   274.575000     9.000000  12491.902500     0.000000\n",
       "50%      62.000000   430.600000    30.000000  16943.235000     0.000000\n",
       "75%      82.000000   571.927500    57.000000  21424.700000     1.000000\n",
       "max     244.000000  1632.060000   224.000000  49745.730000     1.000000"
      ]
     },
     "execution_count": 7,
     "metadata": {},
     "output_type": "execute_result"
    }
   ],
   "source": [
    "df.describe()"
   ]
  },
  {
   "cell_type": "markdown",
   "metadata": {},
   "source": [
    "- No weird or negative values here."
   ]
  },
  {
   "cell_type": "markdown",
   "metadata": {},
   "source": [
    "### Duplicated Values\n",
    "<a class=\"anchor\" id=\"chapter7\"></a>\n",
    "[Go back to the Table of Contents](#table_of_contents)"
   ]
  },
  {
   "cell_type": "markdown",
   "metadata": {},
   "source": [
    "Looking for duplicated rows in the data sets."
   ]
  },
  {
   "cell_type": "code",
   "execution_count": 8,
   "metadata": {},
   "outputs": [
    {
     "name": "stdout",
     "output_type": "stream",
     "text": [
      "Number of duplicated rows in logs: 0\n"
     ]
    }
   ],
   "source": [
    "print('Number of duplicated rows in logs:', df.duplicated().sum())"
   ]
  },
  {
   "cell_type": "markdown",
   "metadata": {},
   "source": [
    "#### Conclusion"
   ]
  },
  {
   "cell_type": "markdown",
   "metadata": {},
   "source": [
    "**At first glance of the data we conclude that:**\n",
    "- There are no missing values.\n",
    "- No duplicates in our data.\n",
    "- There is no need to optimize the data.\n",
    "- We don't observe any weird values in our data.\n",
    "- **Our target is: is_ultra column**\n",
    "- **Our features are all the rest of the columns.**"
   ]
  },
  {
   "cell_type": "markdown",
   "metadata": {},
   "source": [
    "----"
   ]
  },
  {
   "cell_type": "markdown",
   "metadata": {},
   "source": [
    "## Data Modeling\n",
    "<a class=\"anchor\" id=\"chapter9\"></a>\n",
    "[Go back to the Table of Contents](#table_of_contents)"
   ]
  },
  {
   "cell_type": "markdown",
   "metadata": {},
   "source": [
    "### Data Splitting\n",
    "<a class=\"anchor\" id=\"chapter10\"></a>\n",
    "[Go back to the Table of Contents](#table_of_contents)"
   ]
  },
  {
   "cell_type": "markdown",
   "metadata": {},
   "source": [
    "Because we only have one data set, we need to split it into train data, validation data and test data so that we can test our models.<br>\n",
    "Our data will be split into three parts: the training data, the validation data, and the test data.<br>\n",
    "We'll split the data into 3:1:1 ratio."
   ]
  },
  {
   "cell_type": "markdown",
   "metadata": {},
   "source": [
    "Splitting the data into the first two parts:\n",
    "- df_train: 60% of the data.\n",
    "- df_valid_test: 40% of the data."
   ]
  },
  {
   "cell_type": "code",
   "execution_count": 9,
   "metadata": {},
   "outputs": [],
   "source": [
    "df_train, df_valid_test = train_test_split(df, test_size=0.4, random_state=12345)"
   ]
  },
  {
   "cell_type": "markdown",
   "metadata": {},
   "source": [
    "Now we'll split df_valid_test (40% of the original) into two parts:\n",
    "- df_valid: 50% of the data.\n",
    "- df_test: 50% of the data."
   ]
  },
  {
   "cell_type": "code",
   "execution_count": 10,
   "metadata": {},
   "outputs": [],
   "source": [
    "df_valid, df_test = train_test_split(df_valid_test, test_size=0.5, random_state=12345)"
   ]
  },
  {
   "cell_type": "markdown",
   "metadata": {},
   "source": [
    "Now we've created 3 different data sets, \n",
    "- **train** data is **60%** of the original, \n",
    "- **validation** data is **20%** of the original,\n",
    "- **test** data is **20%** of the original."
   ]
  },
  {
   "cell_type": "markdown",
   "metadata": {},
   "source": [
    "##### df_train"
   ]
  },
  {
   "cell_type": "code",
   "execution_count": 11,
   "metadata": {},
   "outputs": [
    {
     "name": "stdout",
     "output_type": "stream",
     "text": [
      "The length of df_train is: 1928\n"
     ]
    }
   ],
   "source": [
    "print('The length of df_train is:',len(df_train))"
   ]
  },
  {
   "cell_type": "code",
   "execution_count": 12,
   "metadata": {},
   "outputs": [
    {
     "name": "stdout",
     "output_type": "stream",
     "text": [
      "<class 'pandas.core.frame.DataFrame'>\n",
      "Int64Index: 1928 entries, 3027 to 482\n",
      "Data columns (total 5 columns):\n",
      " #   Column    Non-Null Count  Dtype  \n",
      "---  ------    --------------  -----  \n",
      " 0   calls     1928 non-null   float64\n",
      " 1   minutes   1928 non-null   float64\n",
      " 2   messages  1928 non-null   float64\n",
      " 3   mb_used   1928 non-null   float64\n",
      " 4   is_ultra  1928 non-null   int64  \n",
      "dtypes: float64(4), int64(1)\n",
      "memory usage: 90.4 KB\n"
     ]
    }
   ],
   "source": [
    "df_train.info()"
   ]
  },
  {
   "cell_type": "markdown",
   "metadata": {},
   "source": [
    "##### df_valid"
   ]
  },
  {
   "cell_type": "code",
   "execution_count": 13,
   "metadata": {},
   "outputs": [
    {
     "name": "stdout",
     "output_type": "stream",
     "text": [
      "The length of df_valid is: 643\n"
     ]
    }
   ],
   "source": [
    "print('The length of df_valid is:',len(df_valid))"
   ]
  },
  {
   "cell_type": "code",
   "execution_count": 14,
   "metadata": {
    "scrolled": true
   },
   "outputs": [
    {
     "name": "stdout",
     "output_type": "stream",
     "text": [
      "<class 'pandas.core.frame.DataFrame'>\n",
      "Int64Index: 643 entries, 1386 to 3197\n",
      "Data columns (total 5 columns):\n",
      " #   Column    Non-Null Count  Dtype  \n",
      "---  ------    --------------  -----  \n",
      " 0   calls     643 non-null    float64\n",
      " 1   minutes   643 non-null    float64\n",
      " 2   messages  643 non-null    float64\n",
      " 3   mb_used   643 non-null    float64\n",
      " 4   is_ultra  643 non-null    int64  \n",
      "dtypes: float64(4), int64(1)\n",
      "memory usage: 30.1 KB\n"
     ]
    }
   ],
   "source": [
    "df_valid.info()"
   ]
  },
  {
   "cell_type": "markdown",
   "metadata": {},
   "source": [
    "##### df_test"
   ]
  },
  {
   "cell_type": "code",
   "execution_count": 15,
   "metadata": {},
   "outputs": [
    {
     "name": "stdout",
     "output_type": "stream",
     "text": [
      "The length of df_test is: 643\n"
     ]
    }
   ],
   "source": [
    "print('The length of df_test is:',len(df_test))"
   ]
  },
  {
   "cell_type": "code",
   "execution_count": 16,
   "metadata": {},
   "outputs": [
    {
     "name": "stdout",
     "output_type": "stream",
     "text": [
      "<class 'pandas.core.frame.DataFrame'>\n",
      "Int64Index: 643 entries, 160 to 2313\n",
      "Data columns (total 5 columns):\n",
      " #   Column    Non-Null Count  Dtype  \n",
      "---  ------    --------------  -----  \n",
      " 0   calls     643 non-null    float64\n",
      " 1   minutes   643 non-null    float64\n",
      " 2   messages  643 non-null    float64\n",
      " 3   mb_used   643 non-null    float64\n",
      " 4   is_ultra  643 non-null    int64  \n",
      "dtypes: float64(4), int64(1)\n",
      "memory usage: 30.1 KB\n"
     ]
    }
   ],
   "source": [
    "df_test.info()"
   ]
  },
  {
   "cell_type": "markdown",
   "metadata": {},
   "source": [
    "#### Conclusion\n",
    "- We've created 3 data sets from the original data set.\n",
    "- Train data is 60% of the original.\n",
    "- Validation data is 20% of the original.\n",
    "- Test data is 20% of the original."
   ]
  },
  {
   "cell_type": "markdown",
   "metadata": {},
   "source": [
    "### Investigate The Quality of Different Models\n",
    "<a class=\"anchor\" id=\"chapter11\"></a>\n",
    "[Go back to the Table of Contents](#table_of_contents)"
   ]
  },
  {
   "cell_type": "markdown",
   "metadata": {},
   "source": [
    "We will analyze the different model options at our disposal to find the best fit for our data.<br>\n",
    "Each target and feature in the data sets will be assigned a variable."
   ]
  },
  {
   "cell_type": "code",
   "execution_count": 17,
   "metadata": {},
   "outputs": [],
   "source": [
    "train_features = df_train.drop(['is_ultra'], axis=1)\n",
    "train_target = df_train['is_ultra']\n",
    "valid_features = df_valid.drop(['is_ultra'], axis=1)\n",
    "valid_target = df_valid['is_ultra']\n",
    "test_features = df_test.drop(['is_ultra'], axis=1)\n",
    "test_target = df_test['is_ultra']"
   ]
  },
  {
   "cell_type": "markdown",
   "metadata": {},
   "source": [
    "#### Decision Tree\n",
    "<a class=\"anchor\" id=\"chapter12\"></a>\n",
    "[Go back to the Table of Contents](#table_of_contents)"
   ]
  },
  {
   "cell_type": "markdown",
   "metadata": {},
   "source": [
    "Let's check a decision tree model on our train and validation data to find the best fit.<br>\n",
    "\n",
    "Considering that we train the model on part of the data and validate it on other parts of the data which it didn't train on, we can expect that the highest score of the validation will indicate the quality of our model training.<br>\n",
    "\n",
    "In this way, we can determine the best hyperparameter tweaking for our model."
   ]
  },
  {
   "cell_type": "markdown",
   "metadata": {},
   "source": [
    "- Our model will be created using a function, which will get its hyperparameters from the iteration block below."
   ]
  },
  {
   "cell_type": "code",
   "execution_count": 18,
   "metadata": {},
   "outputs": [],
   "source": [
    "# A function to create the model with the right hyper parameters for each iteration.\n",
    "def decision_tree_creation(depth):\n",
    "    model = DecisionTreeClassifier(random_state = 12345, max_depth = depth)\n",
    "    return model.fit(train_features, train_target)"
   ]
  },
  {
   "cell_type": "markdown",
   "metadata": {},
   "source": [
    "- We will iterate over different tree depths and choose the best.\n",
    "- The way to do this is to use a for loop that checks each time for an increasing value of depth and appends that score to a dataframe."
   ]
  },
  {
   "cell_type": "code",
   "execution_count": 19,
   "metadata": {},
   "outputs": [
    {
     "data": {
      "text/html": [
       "<div>\n",
       "<style scoped>\n",
       "    .dataframe tbody tr th:only-of-type {\n",
       "        vertical-align: middle;\n",
       "    }\n",
       "\n",
       "    .dataframe tbody tr th {\n",
       "        vertical-align: top;\n",
       "    }\n",
       "\n",
       "    .dataframe thead th {\n",
       "        text-align: right;\n",
       "    }\n",
       "</style>\n",
       "<table border=\"1\" class=\"dataframe\">\n",
       "  <thead>\n",
       "    <tr style=\"text-align: right;\">\n",
       "      <th></th>\n",
       "      <th>max_depth</th>\n",
       "      <th>train_accuracy</th>\n",
       "      <th>validation_accuracy</th>\n",
       "    </tr>\n",
       "  </thead>\n",
       "  <tbody>\n",
       "    <tr>\n",
       "      <th>2</th>\n",
       "      <td>3</td>\n",
       "      <td>80.757261</td>\n",
       "      <td>78.538103</td>\n",
       "    </tr>\n",
       "    <tr>\n",
       "      <th>5</th>\n",
       "      <td>6</td>\n",
       "      <td>83.765560</td>\n",
       "      <td>78.382582</td>\n",
       "    </tr>\n",
       "    <tr>\n",
       "      <th>6</th>\n",
       "      <td>7</td>\n",
       "      <td>85.580913</td>\n",
       "      <td>78.227061</td>\n",
       "    </tr>\n",
       "  </tbody>\n",
       "</table>\n",
       "</div>"
      ],
      "text/plain": [
       "   max_depth  train_accuracy  validation_accuracy\n",
       "2          3       80.757261            78.538103\n",
       "5          6       83.765560            78.382582\n",
       "6          7       85.580913            78.227061"
      ]
     },
     "execution_count": 19,
     "metadata": {},
     "output_type": "execute_result"
    }
   ],
   "source": [
    "# Iterating over different depths of the model and appending to a dataframe.\n",
    "accuracy = []\n",
    "for depth in range(1, 21):\n",
    "        model = decision_tree_creation(depth)\n",
    "        train_score = model.score(train_features, train_target)\n",
    "        valid_score = model.score(valid_features, valid_target)\n",
    "        \n",
    "        accuracy.append(\n",
    "            {\n",
    "            'max_depth': depth,\n",
    "            'train_accuracy': train_score * 100,\n",
    "            'validation_accuracy': valid_score * 100\n",
    "            }\n",
    "                        )\n",
    "accuracy = pd.DataFrame(accuracy)\n",
    "accuracy.sort_values(by=['validation_accuracy'], ascending=False).head(3)"
   ]
  },
  {
   "cell_type": "markdown",
   "metadata": {},
   "source": [
    "##### Conclusion\n",
    "- We've iterated over 20 different tree depths.\n",
    "- **The most accurate max_depth is 3 with a score of 78.53%**"
   ]
  },
  {
   "cell_type": "markdown",
   "metadata": {},
   "source": [
    "#### Random Forest\n",
    "<a class=\"anchor\" id=\"chapter13\"></a>\n",
    "[Go back to the Table of Contents](#table_of_contents)"
   ]
  },
  {
   "cell_type": "markdown",
   "metadata": {},
   "source": [
    "In the same way as with the decision tree model, we'll iterate over different n_estimators values to find the most accurate one."
   ]
  },
  {
   "cell_type": "markdown",
   "metadata": {},
   "source": [
    "- Our model will be created using a function, which will get its hyperparameters from the iteration block below."
   ]
  },
  {
   "cell_type": "code",
   "execution_count": 20,
   "metadata": {},
   "outputs": [],
   "source": [
    "def random_forest_creation(n_est):\n",
    "    model = RandomForestClassifier(random_state = 12345, n_estimators = n_est)\n",
    "    return model.fit(train_features, train_target)"
   ]
  },
  {
   "cell_type": "markdown",
   "metadata": {},
   "source": [
    "- We will iterate over different n_estimators values and choose the best.\n",
    "- The way to do this is to use a for loop that checks each time for an increasing value of trees trained and appends that and the score to a dataframe."
   ]
  },
  {
   "cell_type": "code",
   "execution_count": 21,
   "metadata": {
    "scrolled": true
   },
   "outputs": [
    {
     "data": {
      "text/html": [
       "<div>\n",
       "<style scoped>\n",
       "    .dataframe tbody tr th:only-of-type {\n",
       "        vertical-align: middle;\n",
       "    }\n",
       "\n",
       "    .dataframe tbody tr th {\n",
       "        vertical-align: top;\n",
       "    }\n",
       "\n",
       "    .dataframe thead th {\n",
       "        text-align: right;\n",
       "    }\n",
       "</style>\n",
       "<table border=\"1\" class=\"dataframe\">\n",
       "  <thead>\n",
       "    <tr style=\"text-align: right;\">\n",
       "      <th></th>\n",
       "      <th>n_estimators</th>\n",
       "      <th>train_accuracy</th>\n",
       "      <th>validation_accuracy</th>\n",
       "    </tr>\n",
       "  </thead>\n",
       "  <tbody>\n",
       "    <tr>\n",
       "      <th>17</th>\n",
       "      <td>18</td>\n",
       "      <td>98.755187</td>\n",
       "      <td>79.315708</td>\n",
       "    </tr>\n",
       "    <tr>\n",
       "      <th>18</th>\n",
       "      <td>19</td>\n",
       "      <td>99.118257</td>\n",
       "      <td>78.849145</td>\n",
       "    </tr>\n",
       "    <tr>\n",
       "      <th>19</th>\n",
       "      <td>20</td>\n",
       "      <td>98.910788</td>\n",
       "      <td>78.693624</td>\n",
       "    </tr>\n",
       "  </tbody>\n",
       "</table>\n",
       "</div>"
      ],
      "text/plain": [
       "    n_estimators  train_accuracy  validation_accuracy\n",
       "17            18       98.755187            79.315708\n",
       "18            19       99.118257            78.849145\n",
       "19            20       98.910788            78.693624"
      ]
     },
     "execution_count": 21,
     "metadata": {},
     "output_type": "execute_result"
    }
   ],
   "source": [
    "accuracy = []\n",
    "for n_est in range(1, 21):\n",
    "        model = random_forest_creation(n_est)\n",
    "        train_score = model.score(train_features, train_target)\n",
    "        valid_score = model.score(valid_features, valid_target)\n",
    "\n",
    "        accuracy.append(\n",
    "            {\n",
    "            'n_estimators': n_est,\n",
    "            'train_accuracy': train_score * 100,\n",
    "            'validation_accuracy': valid_score * 100\n",
    "            }\n",
    "                        )\n",
    "accuracy = pd.DataFrame(accuracy)\n",
    "accuracy.sort_values(by=['validation_accuracy'], ascending=False).head(3)"
   ]
  },
  {
   "cell_type": "markdown",
   "metadata": {},
   "source": [
    "##### Conclusion\n",
    "- We've iterated over 20 different values of trees trained.\n",
    "- **The most accurate n_estimators is 18 with a score of 79.31%**\n",
    "- The Random Forest score is slightly higher than the decision tree, but we need to take into account that it is slower, and it might have a significantly longer training time than the decision tree."
   ]
  },
  {
   "cell_type": "markdown",
   "metadata": {},
   "source": [
    "#### Logistic Regression\n",
    "<a class=\"anchor\" id=\"chapter14\"></a>\n",
    "[Go back to the Table of Contents](#table_of_contents)"
   ]
  },
  {
   "cell_type": "markdown",
   "metadata": {},
   "source": [
    "With Logistic Regression, we don't have max_depth or n_estimator to iterate over, so here we'll just train the model and check dor it's score."
   ]
  },
  {
   "cell_type": "code",
   "execution_count": 22,
   "metadata": {},
   "outputs": [
    {
     "name": "stdout",
     "output_type": "stream",
     "text": [
      "Train Score: 71.6% , Validation Score: 70.9%\n"
     ]
    }
   ],
   "source": [
    "model = LogisticRegression(random_state=12345, solver='liblinear')\n",
    "model.fit(train_features, train_target)\n",
    "train_score = model.score(train_features, train_target)\n",
    "valid_score = model.score(valid_features, valid_target)\n",
    "print(\"Train Score: {:.1f}%\".format(train_score * 100),\",\",\n",
    "      \"Validation Score: {:.1f}%\".format(valid_score * 100)\n",
    "     )"
   ]
  },
  {
   "cell_type": "markdown",
   "metadata": {},
   "source": [
    "##### Conclusion\n",
    "- **The score of the validation data set (75.9%)** is higher than **the training set (75.1%)**, which means that the model is doing a good job classifying the data.\n",
    "- However, it is the least accurate from all 3 models we tested."
   ]
  },
  {
   "cell_type": "markdown",
   "metadata": {},
   "source": [
    "#### Conclusion\n",
    "<a class=\"anchor\" id=\"chapter17\"></a>\n",
    "[Go back to the Table of Contents](#table_of_contents)\n",
    "\n",
    "We checked 3 different classification models, and got the following results:\n",
    "- **Decision Tree** most accurate training was **max_depth = 3** with **accuracy of 78.5%** on the validation data.\n",
    "- **Random Forest** most accurate training was **n_estimators = 18** with **accuracy of 79.3%** on the validation data.\n",
    "- **Logistic Regression** most accurate training was **accuracy of 75.9%** on the validation data.\n",
    "<br>\n",
    "\n",
    "\n",
    "- **Random Forest is the most accurate model** out of the 3 we tested, but we need to take into account that the difference between random forest and decision tree are not that big, and if we had a large data to classify we might see a much slower process with random forest compared to decision tree.\n",
    "- **Decision Tree is the 2nd most accurate** and we should take into account that it is **not by a large margin**.\n",
    "- **Logistic Regression was the least accurate** of the 3 models we tested."
   ]
  },
  {
   "cell_type": "markdown",
   "metadata": {},
   "source": [
    "### Checking Quality Using The Test Data\n",
    "<a class=\"anchor\" id=\"chapter15\"></a>\n",
    "[Go back to the Table of Contents](#table_of_contents)"
   ]
  },
  {
   "cell_type": "markdown",
   "metadata": {},
   "source": [
    "After we have tweaked our hyperparameters, we can test our models against our test data and see if they are successful."
   ]
  },
  {
   "cell_type": "markdown",
   "metadata": {},
   "source": [
    "#### Decision Tree\n",
    "<a class=\"anchor\" id=\"chapter12\"></a>\n",
    "[Go back to the Table of Contents](#table_of_contents)"
   ]
  },
  {
   "cell_type": "code",
   "execution_count": 23,
   "metadata": {},
   "outputs": [
    {
     "name": "stdout",
     "output_type": "stream",
     "text": [
      "Train Score: 80.8% , Test Score: 77.9%\n"
     ]
    }
   ],
   "source": [
    "model = DecisionTreeClassifier(random_state = 12345, max_depth = 3)\n",
    "model.fit(train_features, train_target)\n",
    "train_score = model.score(train_features, train_target)\n",
    "test_score = model.score(test_features, test_target)\n",
    "print(\"Train Score: {:.1f}%\".format(train_score * 100),\",\",\n",
    "      \"Test Score: {:.1f}%\".format(test_score * 100))"
   ]
  },
  {
   "cell_type": "markdown",
   "metadata": {},
   "source": [
    "##### Conclusion\n",
    "- We used max_depth = 3 as it was the most accurate for our data.\n",
    "- **The test score is 77.9%**\n",
    "- We can see that we didn't lose much accuracy with our test data, that is a good sign that our model is successfully classifying our data.\n",
    "- And we are over our threshold of 75%!"
   ]
  },
  {
   "cell_type": "markdown",
   "metadata": {},
   "source": [
    "#### Random Forest\n",
    "<a class=\"anchor\" id=\"chapter13\"></a>\n",
    "[Go back to the Table of Contents](#table_of_contents)"
   ]
  },
  {
   "cell_type": "code",
   "execution_count": 24,
   "metadata": {},
   "outputs": [
    {
     "name": "stdout",
     "output_type": "stream",
     "text": [
      "Train Score: 98.8% , Test Score: 78.5%\n"
     ]
    }
   ],
   "source": [
    "model = RandomForestClassifier(random_state = 12345, n_estimators = 18)\n",
    "model.fit(train_features, train_target)\n",
    "train_score = model.score(train_features, train_target)\n",
    "test_score = model.score(test_features, test_target)\n",
    "print(\"Train Score: {:.1f}%\".format(train_score * 100),\",\",\n",
    "      \"Test Score: {:.1f}%\".format(test_score * 100))"
   ]
  },
  {
   "cell_type": "markdown",
   "metadata": {},
   "source": [
    "##### Conclusion\n",
    "- We used n_estimators = 18 as it was the most accurate for our data.\n",
    "- **The test score is 78.5%**\n",
    "- We can see that we didn't lose much accuracy with our test data, that is a good sign that our model is successfully classifying our data.\n",
    "- And we are over our threshold of 75%!"
   ]
  },
  {
   "cell_type": "markdown",
   "metadata": {},
   "source": [
    "#### Logistic Regression\n",
    "<a class=\"anchor\" id=\"chapter14\"></a>\n",
    "[Go back to the Table of Contents](#table_of_contents)"
   ]
  },
  {
   "cell_type": "code",
   "execution_count": 25,
   "metadata": {},
   "outputs": [
    {
     "name": "stdout",
     "output_type": "stream",
     "text": [
      "Train Score: 71.577% , Test Score: 68.896%\n"
     ]
    }
   ],
   "source": [
    "model = LogisticRegression(random_state=12345, solver='liblinear')\n",
    "model.fit(train_features, train_target)\n",
    "train_score = model.score(train_features, train_target)\n",
    "test_score = model.score(test_features, test_target)\n",
    "print(\"Train Score: {:.3f}%\".format(train_score * 100),\",\",\n",
    "      \"Test Score: {:.3f}%\".format(test_score * 100)\n",
    "     )"
   ]
  },
  {
   "cell_type": "markdown",
   "metadata": {},
   "source": [
    "##### Conclusion\n",
    "- **The test score is 74.028%**\n",
    "- Unfortunately this model doesn't meet our threshold of success and we can not use it any further."
   ]
  },
  {
   "cell_type": "markdown",
   "metadata": {},
   "source": [
    "#### Conclusion\n",
    "<a class=\"anchor\" id=\"chapter18\"></a>\n",
    "[Go back to the Table of Contents](#table_of_contents)\n",
    "\n",
    "- We used our most accurate tweaks of the model's hyperparameters and tested each one against our test data.\n",
    "- On all of our models we lost some accuracy.\n",
    "- **The most accurate model is Random Forest with a score of 78.5%.**\n",
    "- **Then** we have **Decision Tree with a score of 77.9%.**\n",
    "- **Logistic Regression is out of the picture** as **it does not meet the threshold of success 75%.**"
   ]
  },
  {
   "cell_type": "markdown",
   "metadata": {},
   "source": [
    "### Model Sanity Check\n",
    "<a class=\"anchor\" id=\"chapter16\"></a>\n",
    "[Go back to the Table of Contents](#table_of_contents)"
   ]
  },
  {
   "cell_type": "markdown",
   "metadata": {},
   "source": [
    "To be sure that our model works, we need to check it against chance, or against a dummy model that will also classify the data and predict the most frequent label. <br>\n",
    "A lower model score than the dummy score indicates that our model is irrelevant."
   ]
  },
  {
   "cell_type": "code",
   "execution_count": 26,
   "metadata": {},
   "outputs": [
    {
     "name": "stdout",
     "output_type": "stream",
     "text": [
      "Dummy Model Score: 69.243%\n"
     ]
    }
   ],
   "source": [
    "dummy_model = DummyClassifier(random_state=12345, strategy=\"most_frequent\")\n",
    "dummy_model.fit(train_features, train_target)\n",
    "dummy_score = dummy_model.score(train_features, train_target)\n",
    "print(\"Dummy Model Score: {:.3f}%\".format(dummy_score * 100))"
   ]
  },
  {
   "cell_type": "markdown",
   "metadata": {},
   "source": [
    "##### Conclusion\n",
    "- Our dummy model's score is lower than all of our tested models which indicates that they perform better than chance and we could rest assured that they are performing the job that they need to."
   ]
  },
  {
   "cell_type": "markdown",
   "metadata": {},
   "source": [
    "----"
   ]
  },
  {
   "cell_type": "markdown",
   "metadata": {},
   "source": [
    "## Conclusion\n",
    "<a class=\"anchor\" id=\"chapter19\"></a>\n",
    "[Go back to the Table of Contents](#table_of_contents)\n",
    "\n"
   ]
  },
  {
   "cell_type": "markdown",
   "metadata": {},
   "source": [
    "Our study looked at the best model, and the best model tweaks, that will help us recommend the best new plan for legacy subscribers of Megaline's services.\n",
    "\n",
    "In order to achieve the highest accuracy of prediction, we recommend using a Random Forest model with 18 estimators.\n",
    "Random Forest, while accurate, can also be slow.<br>\n",
    "If speed is important, we can use the second most accurate model, Decision Tree, where the difference in accuracy is less than 1% but we gain a much higher prediction speed."
   ]
  },
  {
   "cell_type": "markdown",
   "metadata": {},
   "source": [
    "----"
   ]
  }
 ],
 "metadata": {
  "ExecuteTimeLog": [
   {
    "duration": 1397,
    "start_time": "2021-06-29T19:17:13.255Z"
   },
   {
    "duration": 273,
    "start_time": "2021-06-29T19:17:14.655Z"
   },
   {
    "duration": 28,
    "start_time": "2021-06-29T19:17:14.932Z"
   },
   {
    "duration": 49,
    "start_time": "2021-06-29T19:17:14.963Z"
   },
   {
    "duration": 53,
    "start_time": "2021-06-29T19:17:15.014Z"
   },
   {
    "duration": 107,
    "start_time": "2021-06-29T19:17:15.070Z"
   },
   {
    "duration": 25,
    "start_time": "2021-06-29T19:17:15.181Z"
   },
   {
    "duration": 24,
    "start_time": "2021-06-29T19:17:15.210Z"
   },
   {
    "duration": 64,
    "start_time": "2021-06-29T19:17:15.237Z"
   },
   {
    "duration": 1393,
    "start_time": "2021-06-29T19:17:15.304Z"
   },
   {
    "duration": 7,
    "start_time": "2021-06-29T19:17:16.701Z"
   },
   {
    "duration": 44,
    "start_time": "2021-06-29T19:17:16.711Z"
   },
   {
    "duration": 1394,
    "start_time": "2021-06-29T19:17:16.757Z"
   },
   {
    "duration": 6,
    "start_time": "2021-06-29T19:17:18.153Z"
   },
   {
    "duration": 1708,
    "start_time": "2021-06-29T19:17:18.162Z"
   },
   {
    "duration": 92,
    "start_time": "2021-06-29T19:17:19.873Z"
   },
   {
    "duration": 110,
    "start_time": "2021-06-29T19:17:19.967Z"
   },
   {
    "duration": 22,
    "start_time": "2021-06-29T19:17:20.080Z"
   },
   {
    "duration": 8,
    "start_time": "2021-06-29T19:17:20.104Z"
   },
   {
    "duration": 6,
    "start_time": "2021-06-29T19:17:20.115Z"
   },
   {
    "duration": 10,
    "start_time": "2021-06-29T19:17:20.123Z"
   },
   {
    "duration": 16,
    "start_time": "2021-06-29T19:17:20.136Z"
   },
   {
    "duration": 47,
    "start_time": "2021-06-29T19:17:20.158Z"
   },
   {
    "duration": 55,
    "start_time": "2021-06-29T19:17:20.209Z"
   },
   {
    "duration": 68,
    "start_time": "2021-06-29T19:17:20.266Z"
   },
   {
    "duration": 27,
    "start_time": "2021-06-29T19:17:20.337Z"
   },
   {
    "duration": 9,
    "start_time": "2021-06-29T19:17:20.367Z"
   },
   {
    "duration": 22,
    "start_time": "2021-06-29T19:17:20.379Z"
   },
   {
    "duration": 2102,
    "start_time": "2021-06-29T19:17:20.403Z"
   },
   {
    "duration": 33,
    "start_time": "2021-06-29T19:17:22.507Z"
   },
   {
    "duration": 385,
    "start_time": "2021-06-29T19:17:22.543Z"
   },
   {
    "duration": 423,
    "start_time": "2021-06-29T19:17:22.931Z"
   },
   {
    "duration": 353,
    "start_time": "2021-06-29T19:17:23.356Z"
   },
   {
    "duration": 348,
    "start_time": "2021-06-29T19:17:23.711Z"
   },
   {
    "duration": 18,
    "start_time": "2021-06-29T19:17:24.062Z"
   },
   {
    "duration": 317,
    "start_time": "2021-06-29T19:17:24.083Z"
   },
   {
    "duration": 348,
    "start_time": "2021-06-29T19:17:24.403Z"
   },
   {
    "duration": 319,
    "start_time": "2021-06-29T19:17:24.754Z"
   },
   {
    "duration": 434,
    "start_time": "2021-06-29T19:17:25.076Z"
   },
   {
    "duration": 301,
    "start_time": "2021-06-29T19:17:25.513Z"
   },
   {
    "duration": 293,
    "start_time": "2021-06-29T19:17:25.817Z"
   },
   {
    "duration": 287,
    "start_time": "2021-06-29T19:17:26.113Z"
   },
   {
    "duration": 14,
    "start_time": "2021-06-29T19:17:26.403Z"
   },
   {
    "duration": 238,
    "start_time": "2021-06-29T19:17:26.419Z"
   },
   {
    "duration": 10,
    "start_time": "2021-06-29T19:17:26.659Z"
   },
   {
    "duration": 248,
    "start_time": "2021-06-29T19:17:26.671Z"
   },
   {
    "duration": 11,
    "start_time": "2021-06-29T19:17:26.922Z"
   },
   {
    "duration": 223,
    "start_time": "2021-06-29T19:17:26.936Z"
   },
   {
    "duration": 231,
    "start_time": "2021-06-29T19:17:27.162Z"
   },
   {
    "duration": 16,
    "start_time": "2021-06-29T19:17:27.400Z"
   },
   {
    "duration": 306,
    "start_time": "2021-06-29T19:17:27.419Z"
   },
   {
    "duration": 304,
    "start_time": "2021-06-29T19:17:27.728Z"
   },
   {
    "duration": 17,
    "start_time": "2021-06-29T19:17:28.035Z"
   },
   {
    "duration": 291,
    "start_time": "2021-06-29T19:17:28.055Z"
   },
   {
    "duration": 362,
    "start_time": "2021-06-29T19:17:28.349Z"
   },
   {
    "duration": 16,
    "start_time": "2021-06-29T19:17:28.713Z"
   },
   {
    "duration": 327,
    "start_time": "2021-06-29T19:17:28.731Z"
   },
   {
    "duration": 309,
    "start_time": "2021-06-29T19:17:29.060Z"
   },
   {
    "duration": 360,
    "start_time": "2021-06-29T19:17:29.371Z"
   },
   {
    "duration": 8,
    "start_time": "2021-06-29T19:17:29.733Z"
   },
   {
    "duration": 218,
    "start_time": "2021-06-29T19:17:29.744Z"
   },
   {
    "duration": 11,
    "start_time": "2021-06-29T19:17:29.964Z"
   },
   {
    "duration": 378,
    "start_time": "2021-06-29T19:17:29.977Z"
   },
   {
    "duration": 49,
    "start_time": "2021-06-29T19:17:30.358Z"
   },
   {
    "duration": 361,
    "start_time": "2021-06-29T19:17:30.409Z"
   },
   {
    "duration": 10,
    "start_time": "2021-06-29T19:17:30.772Z"
   },
   {
    "duration": 51,
    "start_time": "2021-06-29T19:17:30.784Z"
   },
   {
    "duration": 11,
    "start_time": "2021-06-29T19:17:30.842Z"
   },
   {
    "duration": 54,
    "start_time": "2021-06-29T19:17:30.856Z"
   },
   {
    "duration": 16,
    "start_time": "2021-06-29T19:17:30.912Z"
   },
   {
    "duration": 502,
    "start_time": "2021-06-29T19:17:30.931Z"
   },
   {
    "duration": 1091,
    "start_time": "2021-06-29T19:17:31.435Z"
   },
   {
    "duration": 7,
    "start_time": "2021-06-29T19:53:57.847Z"
   },
   {
    "duration": 8,
    "start_time": "2021-06-29T19:54:02.965Z"
   },
   {
    "duration": 9,
    "start_time": "2021-06-29T20:00:57.353Z"
   },
   {
    "duration": 2277,
    "start_time": "2021-06-29T20:34:29.426Z"
   },
   {
    "duration": 2019,
    "start_time": "2021-06-29T20:35:04.500Z"
   },
   {
    "duration": 2754,
    "start_time": "2021-06-29T20:36:07.220Z"
   },
   {
    "duration": 2087,
    "start_time": "2021-06-29T20:36:34.335Z"
   },
   {
    "duration": 2132,
    "start_time": "2021-06-29T20:36:44.539Z"
   },
   {
    "duration": 1806,
    "start_time": "2021-06-29T20:36:54.594Z"
   },
   {
    "duration": 203,
    "start_time": "2021-06-29T20:39:52.181Z"
   },
   {
    "duration": 223,
    "start_time": "2021-06-29T20:40:03.173Z"
   },
   {
    "duration": 3921,
    "start_time": "2021-06-29T20:56:40.628Z"
   },
   {
    "duration": 4443,
    "start_time": "2021-06-29T20:58:05.408Z"
   },
   {
    "duration": 7,
    "start_time": "2021-06-29T20:59:19.834Z"
   },
   {
    "duration": 978,
    "start_time": "2021-06-29T21:00:18.224Z"
   },
   {
    "duration": 937,
    "start_time": "2021-06-29T21:00:43.970Z"
   },
   {
    "duration": 1079,
    "start_time": "2021-06-29T21:01:35.784Z"
   },
   {
    "duration": 92,
    "start_time": "2021-06-29T21:04:23.888Z"
   },
   {
    "duration": 1589,
    "start_time": "2021-06-30T14:01:20.147Z"
   },
   {
    "duration": 318,
    "start_time": "2021-06-30T14:01:21.739Z"
   },
   {
    "duration": 27,
    "start_time": "2021-06-30T14:01:22.060Z"
   },
   {
    "duration": 26,
    "start_time": "2021-06-30T14:01:22.090Z"
   },
   {
    "duration": 92,
    "start_time": "2021-06-30T14:01:22.118Z"
   },
   {
    "duration": 105,
    "start_time": "2021-06-30T14:01:22.213Z"
   },
   {
    "duration": 10,
    "start_time": "2021-06-30T14:01:22.320Z"
   },
   {
    "duration": 40,
    "start_time": "2021-06-30T14:01:22.333Z"
   },
   {
    "duration": 49,
    "start_time": "2021-06-30T14:01:22.377Z"
   },
   {
    "duration": 1509,
    "start_time": "2021-06-30T14:01:22.429Z"
   },
   {
    "duration": 8,
    "start_time": "2021-06-30T14:01:23.941Z"
   },
   {
    "duration": 71,
    "start_time": "2021-06-30T14:01:23.963Z"
   },
   {
    "duration": 2556,
    "start_time": "2021-06-30T14:01:24.037Z"
   },
   {
    "duration": 7,
    "start_time": "2021-06-30T14:01:26.596Z"
   },
   {
    "duration": 2071,
    "start_time": "2021-06-30T14:01:26.606Z"
   },
   {
    "duration": 90,
    "start_time": "2021-06-30T14:01:28.679Z"
   },
   {
    "duration": 123,
    "start_time": "2021-06-30T14:01:28.772Z"
   },
   {
    "duration": 13,
    "start_time": "2021-06-30T14:01:28.898Z"
   },
   {
    "duration": 15,
    "start_time": "2021-06-30T14:01:28.914Z"
   },
   {
    "duration": 30,
    "start_time": "2021-06-30T14:01:28.932Z"
   },
   {
    "duration": 9,
    "start_time": "2021-06-30T14:01:28.965Z"
   },
   {
    "duration": 12,
    "start_time": "2021-06-30T14:01:28.977Z"
   },
   {
    "duration": 14,
    "start_time": "2021-06-30T14:01:28.997Z"
   },
   {
    "duration": 98,
    "start_time": "2021-06-30T14:01:29.016Z"
   },
   {
    "duration": 73,
    "start_time": "2021-06-30T14:01:29.117Z"
   },
   {
    "duration": 31,
    "start_time": "2021-06-30T14:01:29.193Z"
   },
   {
    "duration": 10,
    "start_time": "2021-06-30T14:01:29.227Z"
   },
   {
    "duration": 3,
    "start_time": "2021-06-30T14:01:29.261Z"
   },
   {
    "duration": 2316,
    "start_time": "2021-06-30T14:01:29.267Z"
   },
   {
    "duration": 34,
    "start_time": "2021-06-30T14:01:31.586Z"
   },
   {
    "duration": 465,
    "start_time": "2021-06-30T14:01:31.623Z"
   },
   {
    "duration": 380,
    "start_time": "2021-06-30T14:01:32.091Z"
   },
   {
    "duration": 387,
    "start_time": "2021-06-30T14:01:32.474Z"
   },
   {
    "duration": 390,
    "start_time": "2021-06-30T14:01:32.864Z"
   },
   {
    "duration": 20,
    "start_time": "2021-06-30T14:01:33.257Z"
   },
   {
    "duration": 327,
    "start_time": "2021-06-30T14:01:33.279Z"
   },
   {
    "duration": 355,
    "start_time": "2021-06-30T14:01:33.609Z"
   },
   {
    "duration": 325,
    "start_time": "2021-06-30T14:01:33.967Z"
   },
   {
    "duration": 643,
    "start_time": "2021-06-30T14:01:34.294Z"
   },
   {
    "duration": 463,
    "start_time": "2021-06-30T14:01:34.940Z"
   },
   {
    "duration": 317,
    "start_time": "2021-06-30T14:01:35.406Z"
   },
   {
    "duration": 1842,
    "start_time": "2021-06-30T14:01:35.726Z"
   },
   {
    "duration": 245,
    "start_time": "2021-06-30T14:01:37.570Z"
   },
   {
    "duration": 11,
    "start_time": "2021-06-30T14:01:37.817Z"
   },
   {
    "duration": 243,
    "start_time": "2021-06-30T14:01:37.830Z"
   },
   {
    "duration": 13,
    "start_time": "2021-06-30T14:01:38.076Z"
   },
   {
    "duration": 263,
    "start_time": "2021-06-30T14:01:38.092Z"
   },
   {
    "duration": 13,
    "start_time": "2021-06-30T14:01:38.363Z"
   },
   {
    "duration": 229,
    "start_time": "2021-06-30T14:01:38.379Z"
   },
   {
    "duration": 312,
    "start_time": "2021-06-30T14:01:38.611Z"
   },
   {
    "duration": 17,
    "start_time": "2021-06-30T14:01:38.926Z"
   },
   {
    "duration": 326,
    "start_time": "2021-06-30T14:01:38.962Z"
   },
   {
    "duration": 325,
    "start_time": "2021-06-30T14:01:39.290Z"
   },
   {
    "duration": 18,
    "start_time": "2021-06-30T14:01:39.618Z"
   },
   {
    "duration": 299,
    "start_time": "2021-06-30T14:01:39.638Z"
   },
   {
    "duration": 328,
    "start_time": "2021-06-30T14:01:39.939Z"
   },
   {
    "duration": 18,
    "start_time": "2021-06-30T14:01:40.269Z"
   },
   {
    "duration": 347,
    "start_time": "2021-06-30T14:01:40.290Z"
   },
   {
    "duration": 334,
    "start_time": "2021-06-30T14:01:40.639Z"
   },
   {
    "duration": 1616,
    "start_time": "2021-06-30T14:01:40.976Z"
   },
   {
    "duration": 576,
    "start_time": "2021-06-30T14:01:42.595Z"
   },
   {
    "duration": 10,
    "start_time": "2021-06-30T14:01:43.174Z"
   },
   {
    "duration": 257,
    "start_time": "2021-06-30T14:01:43.188Z"
   },
   {
    "duration": 20,
    "start_time": "2021-06-30T14:01:43.447Z"
   },
   {
    "duration": 465,
    "start_time": "2021-06-30T14:01:43.470Z"
   },
   {
    "duration": 51,
    "start_time": "2021-06-30T14:01:43.937Z"
   },
   {
    "duration": 375,
    "start_time": "2021-06-30T14:01:43.990Z"
   },
   {
    "duration": 12,
    "start_time": "2021-06-30T14:01:44.372Z"
   },
   {
    "duration": 1366,
    "start_time": "2021-06-30T14:01:44.386Z"
   },
   {
    "duration": 11,
    "start_time": "2021-06-30T14:01:45.763Z"
   },
   {
    "duration": 1434,
    "start_time": "2021-06-30T14:01:45.776Z"
   },
   {
    "duration": 17,
    "start_time": "2021-06-30T14:01:47.212Z"
   },
   {
    "duration": 515,
    "start_time": "2021-06-30T14:01:47.232Z"
   },
   {
    "duration": 1136,
    "start_time": "2021-06-30T14:01:47.750Z"
   },
   {
    "duration": 371,
    "start_time": "2021-06-30T17:51:18.858Z"
   },
   {
    "duration": 1540,
    "start_time": "2021-06-30T17:51:46.959Z"
   },
   {
    "duration": 349,
    "start_time": "2021-06-30T17:51:48.502Z"
   },
   {
    "duration": 27,
    "start_time": "2021-06-30T17:51:48.854Z"
   },
   {
    "duration": 43,
    "start_time": "2021-06-30T17:51:48.883Z"
   },
   {
    "duration": 58,
    "start_time": "2021-06-30T17:51:48.929Z"
   },
   {
    "duration": 198,
    "start_time": "2021-06-30T17:51:48.990Z"
   },
   {
    "duration": 11,
    "start_time": "2021-06-30T17:51:49.191Z"
   },
   {
    "duration": 67,
    "start_time": "2021-06-30T17:51:49.208Z"
   },
   {
    "duration": 86,
    "start_time": "2021-06-30T17:51:49.279Z"
   },
   {
    "duration": 1496,
    "start_time": "2021-06-30T17:51:49.368Z"
   },
   {
    "duration": 7,
    "start_time": "2021-06-30T17:51:50.866Z"
   },
   {
    "duration": 8,
    "start_time": "2021-06-30T17:51:50.876Z"
   },
   {
    "duration": 76,
    "start_time": "2021-06-30T17:51:50.887Z"
   },
   {
    "duration": 1496,
    "start_time": "2021-06-30T17:51:50.966Z"
   },
   {
    "duration": 7,
    "start_time": "2021-06-30T17:51:52.464Z"
   },
   {
    "duration": 2116,
    "start_time": "2021-06-30T17:51:52.474Z"
   },
   {
    "duration": 95,
    "start_time": "2021-06-30T17:51:54.593Z"
   },
   {
    "duration": 128,
    "start_time": "2021-06-30T17:51:54.691Z"
   },
   {
    "duration": 17,
    "start_time": "2021-06-30T17:51:54.825Z"
   },
   {
    "duration": 22,
    "start_time": "2021-06-30T17:51:54.844Z"
   },
   {
    "duration": 18,
    "start_time": "2021-06-30T17:51:54.869Z"
   },
   {
    "duration": 17,
    "start_time": "2021-06-30T17:51:54.890Z"
   },
   {
    "duration": 10,
    "start_time": "2021-06-30T17:51:54.925Z"
   },
   {
    "duration": 40,
    "start_time": "2021-06-30T17:51:54.938Z"
   },
   {
    "duration": 111,
    "start_time": "2021-06-30T17:51:54.981Z"
   },
   {
    "duration": 103,
    "start_time": "2021-06-30T17:51:55.095Z"
   },
   {
    "duration": 54,
    "start_time": "2021-06-30T17:51:55.201Z"
   },
   {
    "duration": 14,
    "start_time": "2021-06-30T17:51:55.258Z"
   },
   {
    "duration": 12,
    "start_time": "2021-06-30T17:51:55.275Z"
   },
   {
    "duration": 2311,
    "start_time": "2021-06-30T17:51:55.289Z"
   },
   {
    "duration": 44,
    "start_time": "2021-06-30T17:51:57.602Z"
   },
   {
    "duration": 329,
    "start_time": "2021-06-30T17:51:57.648Z"
   },
   {
    "duration": 371,
    "start_time": "2021-06-30T17:51:57.980Z"
   },
   {
    "duration": 386,
    "start_time": "2021-06-30T17:51:58.354Z"
   },
   {
    "duration": 596,
    "start_time": "2021-06-30T17:51:58.742Z"
   },
   {
    "duration": 19,
    "start_time": "2021-06-30T17:51:59.341Z"
   },
   {
    "duration": 344,
    "start_time": "2021-06-30T17:51:59.362Z"
   },
   {
    "duration": 372,
    "start_time": "2021-06-30T17:51:59.709Z"
   },
   {
    "duration": 454,
    "start_time": "2021-06-30T17:52:00.084Z"
   },
   {
    "duration": 443,
    "start_time": "2021-06-30T17:52:00.540Z"
   },
   {
    "duration": 316,
    "start_time": "2021-06-30T17:52:00.985Z"
   },
   {
    "duration": 314,
    "start_time": "2021-06-30T17:52:01.304Z"
   },
   {
    "duration": 1745,
    "start_time": "2021-06-30T17:52:01.620Z"
   },
   {
    "duration": 250,
    "start_time": "2021-06-30T17:52:03.367Z"
   },
   {
    "duration": 15,
    "start_time": "2021-06-30T17:52:03.625Z"
   },
   {
    "duration": 386,
    "start_time": "2021-06-30T17:52:03.643Z"
   },
   {
    "duration": 16,
    "start_time": "2021-06-30T17:52:04.032Z"
   },
   {
    "duration": 263,
    "start_time": "2021-06-30T17:52:04.050Z"
   },
   {
    "duration": 16,
    "start_time": "2021-06-30T17:52:04.316Z"
   },
   {
    "duration": 232,
    "start_time": "2021-06-30T17:52:04.335Z"
   },
   {
    "duration": 309,
    "start_time": "2021-06-30T17:52:04.569Z"
   },
   {
    "duration": 17,
    "start_time": "2021-06-30T17:52:04.880Z"
   },
   {
    "duration": 342,
    "start_time": "2021-06-30T17:52:04.900Z"
   },
   {
    "duration": 330,
    "start_time": "2021-06-30T17:52:05.244Z"
   },
   {
    "duration": 23,
    "start_time": "2021-06-30T17:52:05.576Z"
   },
   {
    "duration": 488,
    "start_time": "2021-06-30T17:52:05.603Z"
   },
   {
    "duration": 321,
    "start_time": "2021-06-30T17:52:06.094Z"
   },
   {
    "duration": 21,
    "start_time": "2021-06-30T17:52:06.417Z"
   },
   {
    "duration": 348,
    "start_time": "2021-06-30T17:52:06.441Z"
   },
   {
    "duration": 338,
    "start_time": "2021-06-30T17:52:06.792Z"
   },
   {
    "duration": 1049,
    "start_time": "2021-06-30T17:52:07.133Z"
   },
   {
    "duration": 386,
    "start_time": "2021-06-30T17:52:08.185Z"
   },
   {
    "duration": 8,
    "start_time": "2021-06-30T17:52:08.573Z"
   },
   {
    "duration": 243,
    "start_time": "2021-06-30T17:52:08.583Z"
   },
   {
    "duration": 11,
    "start_time": "2021-06-30T17:52:08.829Z"
   },
   {
    "duration": 476,
    "start_time": "2021-06-30T17:52:08.843Z"
   },
   {
    "duration": 42,
    "start_time": "2021-06-30T17:52:09.325Z"
   },
   {
    "duration": 407,
    "start_time": "2021-06-30T17:52:09.377Z"
   },
   {
    "duration": 11,
    "start_time": "2021-06-30T17:52:09.787Z"
   },
   {
    "duration": 1317,
    "start_time": "2021-06-30T17:52:09.801Z"
   },
   {
    "duration": 13,
    "start_time": "2021-06-30T17:52:11.125Z"
   },
   {
    "duration": 1325,
    "start_time": "2021-06-30T17:52:11.140Z"
   },
   {
    "duration": 18,
    "start_time": "2021-06-30T17:52:12.467Z"
   },
   {
    "duration": 898,
    "start_time": "2021-06-30T17:52:12.488Z"
   },
   {
    "duration": 1931,
    "start_time": "2021-06-30T17:52:13.389Z"
   },
   {
    "duration": 90,
    "start_time": "2021-06-30T17:55:38.112Z"
   },
   {
    "duration": 4,
    "start_time": "2021-06-30T18:04:27.338Z"
   },
   {
    "duration": 317,
    "start_time": "2021-06-30T18:04:27.350Z"
   },
   {
    "duration": 28,
    "start_time": "2021-06-30T18:04:27.670Z"
   },
   {
    "duration": 35,
    "start_time": "2021-06-30T18:04:27.702Z"
   },
   {
    "duration": 64,
    "start_time": "2021-06-30T18:04:27.741Z"
   },
   {
    "duration": 116,
    "start_time": "2021-06-30T18:04:27.808Z"
   },
   {
    "duration": 8,
    "start_time": "2021-06-30T18:04:27.926Z"
   },
   {
    "duration": 24,
    "start_time": "2021-06-30T18:04:27.937Z"
   },
   {
    "duration": 122,
    "start_time": "2021-06-30T18:04:27.965Z"
   },
   {
    "duration": 2882,
    "start_time": "2021-06-30T18:04:28.093Z"
   },
   {
    "duration": 7,
    "start_time": "2021-06-30T18:04:30.979Z"
   },
   {
    "duration": 67,
    "start_time": "2021-06-30T18:04:30.988Z"
   },
   {
    "duration": 1480,
    "start_time": "2021-06-30T18:04:31.057Z"
   },
   {
    "duration": 7,
    "start_time": "2021-06-30T18:04:32.539Z"
   },
   {
    "duration": 2263,
    "start_time": "2021-06-30T18:04:32.548Z"
   },
   {
    "duration": 83,
    "start_time": "2021-06-30T18:04:34.814Z"
   },
   {
    "duration": 134,
    "start_time": "2021-06-30T18:04:34.900Z"
   },
   {
    "duration": 14,
    "start_time": "2021-06-30T18:04:35.036Z"
   },
   {
    "duration": 10,
    "start_time": "2021-06-30T18:04:35.053Z"
   },
   {
    "duration": 9,
    "start_time": "2021-06-30T18:04:35.065Z"
   },
   {
    "duration": 11,
    "start_time": "2021-06-30T18:04:35.076Z"
   },
   {
    "duration": 49,
    "start_time": "2021-06-30T18:04:35.090Z"
   },
   {
    "duration": 34,
    "start_time": "2021-06-30T18:04:35.142Z"
   },
   {
    "duration": 71,
    "start_time": "2021-06-30T18:04:35.179Z"
   },
   {
    "duration": 51,
    "start_time": "2021-06-30T18:04:35.253Z"
   },
   {
    "duration": 31,
    "start_time": "2021-06-30T18:04:35.324Z"
   },
   {
    "duration": 6,
    "start_time": "2021-06-30T18:04:35.357Z"
   },
   {
    "duration": 18,
    "start_time": "2021-06-30T18:04:35.367Z"
   },
   {
    "duration": 6,
    "start_time": "2021-06-30T18:04:38.718Z"
   },
   {
    "duration": 24,
    "start_time": "2021-06-30T18:05:07.907Z"
   },
   {
    "duration": 7,
    "start_time": "2021-06-30T18:06:20.614Z"
   },
   {
    "duration": 17,
    "start_time": "2021-06-30T18:06:29.534Z"
   },
   {
    "duration": 2270,
    "start_time": "2021-06-30T18:09:31.150Z"
   },
   {
    "duration": 6,
    "start_time": "2021-06-30T18:09:55.103Z"
   },
   {
    "duration": 6,
    "start_time": "2021-06-30T18:09:58.652Z"
   },
   {
    "duration": 7,
    "start_time": "2021-06-30T18:10:04.502Z"
   },
   {
    "duration": 6,
    "start_time": "2021-06-30T18:10:16.005Z"
   },
   {
    "duration": 6,
    "start_time": "2021-06-30T18:10:25.693Z"
   },
   {
    "duration": 7,
    "start_time": "2021-06-30T18:10:30.172Z"
   },
   {
    "duration": 6,
    "start_time": "2021-06-30T18:10:33.653Z"
   },
   {
    "duration": 2193,
    "start_time": "2021-06-30T18:10:43.068Z"
   },
   {
    "duration": 2495,
    "start_time": "2021-06-30T18:41:27.682Z"
   },
   {
    "duration": 6,
    "start_time": "2021-06-30T18:41:47.054Z"
   },
   {
    "duration": 322,
    "start_time": "2021-06-30T18:41:47.070Z"
   },
   {
    "duration": 38,
    "start_time": "2021-06-30T18:41:47.394Z"
   },
   {
    "duration": 26,
    "start_time": "2021-06-30T18:41:47.435Z"
   },
   {
    "duration": 94,
    "start_time": "2021-06-30T18:41:47.464Z"
   },
   {
    "duration": 101,
    "start_time": "2021-06-30T18:41:47.560Z"
   },
   {
    "duration": 6,
    "start_time": "2021-06-30T18:41:47.663Z"
   },
   {
    "duration": 25,
    "start_time": "2021-06-30T18:41:47.671Z"
   },
   {
    "duration": 72,
    "start_time": "2021-06-30T18:41:47.698Z"
   },
   {
    "duration": 1615,
    "start_time": "2021-06-30T18:41:47.774Z"
   },
   {
    "duration": 7,
    "start_time": "2021-06-30T18:41:49.392Z"
   },
   {
    "duration": 59,
    "start_time": "2021-06-30T18:41:49.401Z"
   },
   {
    "duration": 1482,
    "start_time": "2021-06-30T18:41:49.462Z"
   },
   {
    "duration": 6,
    "start_time": "2021-06-30T18:41:50.947Z"
   },
   {
    "duration": 2116,
    "start_time": "2021-06-30T18:41:50.956Z"
   },
   {
    "duration": 105,
    "start_time": "2021-06-30T18:41:53.074Z"
   },
   {
    "duration": 200,
    "start_time": "2021-06-30T18:41:53.181Z"
   },
   {
    "duration": 15,
    "start_time": "2021-06-30T18:41:53.384Z"
   },
   {
    "duration": 8,
    "start_time": "2021-06-30T18:41:53.424Z"
   },
   {
    "duration": 6,
    "start_time": "2021-06-30T18:41:53.435Z"
   },
   {
    "duration": 10,
    "start_time": "2021-06-30T18:41:53.444Z"
   },
   {
    "duration": 16,
    "start_time": "2021-06-30T18:41:53.457Z"
   },
   {
    "duration": 57,
    "start_time": "2021-06-30T18:41:53.475Z"
   },
   {
    "duration": 56,
    "start_time": "2021-06-30T18:41:53.534Z"
   },
   {
    "duration": 76,
    "start_time": "2021-06-30T18:41:53.592Z"
   },
   {
    "duration": 28,
    "start_time": "2021-06-30T18:41:53.670Z"
   },
   {
    "duration": 27,
    "start_time": "2021-06-30T18:41:53.700Z"
   },
   {
    "duration": 4,
    "start_time": "2021-06-30T18:41:53.732Z"
   },
   {
    "duration": 2134,
    "start_time": "2021-06-30T18:41:53.739Z"
   },
   {
    "duration": 3,
    "start_time": "2021-06-30T18:41:55.875Z"
   },
   {
    "duration": 48,
    "start_time": "2021-06-30T18:41:55.881Z"
   },
   {
    "duration": 325,
    "start_time": "2021-06-30T18:41:55.932Z"
   },
   {
    "duration": 379,
    "start_time": "2021-06-30T18:41:56.260Z"
   },
   {
    "duration": 385,
    "start_time": "2021-06-30T18:41:56.642Z"
   },
   {
    "duration": 388,
    "start_time": "2021-06-30T18:41:57.029Z"
   },
   {
    "duration": 20,
    "start_time": "2021-06-30T18:41:57.419Z"
   },
   {
    "duration": 413,
    "start_time": "2021-06-30T18:41:57.441Z"
   },
   {
    "duration": 361,
    "start_time": "2021-06-30T18:41:57.857Z"
   },
   {
    "duration": 548,
    "start_time": "2021-06-30T18:41:58.223Z"
   },
   {
    "duration": 606,
    "start_time": "2021-06-30T18:41:58.774Z"
   },
   {
    "duration": 311,
    "start_time": "2021-06-30T18:41:59.382Z"
   },
   {
    "duration": 306,
    "start_time": "2021-06-30T18:41:59.695Z"
   },
   {
    "duration": 1780,
    "start_time": "2021-06-30T18:42:00.004Z"
   },
   {
    "duration": 1472,
    "start_time": "2021-06-30T19:22:01.963Z"
   },
   {
    "duration": 347,
    "start_time": "2021-06-30T19:22:03.437Z"
   },
   {
    "duration": 27,
    "start_time": "2021-06-30T19:22:03.787Z"
   },
   {
    "duration": 28,
    "start_time": "2021-06-30T19:22:03.825Z"
   },
   {
    "duration": 74,
    "start_time": "2021-06-30T19:22:03.855Z"
   },
   {
    "duration": 108,
    "start_time": "2021-06-30T19:22:03.932Z"
   },
   {
    "duration": 11,
    "start_time": "2021-06-30T19:22:04.042Z"
   },
   {
    "duration": 27,
    "start_time": "2021-06-30T19:22:04.057Z"
   },
   {
    "duration": 70,
    "start_time": "2021-06-30T19:22:04.087Z"
   },
   {
    "duration": 1597,
    "start_time": "2021-06-30T19:22:04.159Z"
   },
   {
    "duration": 7,
    "start_time": "2021-06-30T19:22:05.758Z"
   },
   {
    "duration": 65,
    "start_time": "2021-06-30T19:22:05.767Z"
   },
   {
    "duration": 1484,
    "start_time": "2021-06-30T19:22:05.834Z"
   },
   {
    "duration": 6,
    "start_time": "2021-06-30T19:22:07.323Z"
   },
   {
    "duration": 2095,
    "start_time": "2021-06-30T19:22:07.332Z"
   },
   {
    "duration": 94,
    "start_time": "2021-06-30T19:22:09.430Z"
   },
   {
    "duration": 120,
    "start_time": "2021-06-30T19:22:09.527Z"
   },
   {
    "duration": 13,
    "start_time": "2021-06-30T19:22:09.649Z"
   },
   {
    "duration": 11,
    "start_time": "2021-06-30T19:22:09.666Z"
   },
   {
    "duration": 7,
    "start_time": "2021-06-30T19:22:09.680Z"
   },
   {
    "duration": 43,
    "start_time": "2021-06-30T19:22:09.690Z"
   },
   {
    "duration": 10,
    "start_time": "2021-06-30T19:22:09.736Z"
   },
   {
    "duration": 14,
    "start_time": "2021-06-30T19:22:09.752Z"
   },
   {
    "duration": 90,
    "start_time": "2021-06-30T19:22:09.770Z"
   },
   {
    "duration": 64,
    "start_time": "2021-06-30T19:22:09.862Z"
   },
   {
    "duration": 30,
    "start_time": "2021-06-30T19:22:09.928Z"
   },
   {
    "duration": 10,
    "start_time": "2021-06-30T19:22:09.960Z"
   },
   {
    "duration": 8,
    "start_time": "2021-06-30T19:22:09.972Z"
   },
   {
    "duration": 2199,
    "start_time": "2021-06-30T19:22:09.982Z"
   },
   {
    "duration": 3,
    "start_time": "2021-06-30T19:22:12.184Z"
   },
   {
    "duration": 55,
    "start_time": "2021-06-30T19:22:12.190Z"
   },
   {
    "duration": 320,
    "start_time": "2021-06-30T19:22:12.247Z"
   },
   {
    "duration": 367,
    "start_time": "2021-06-30T19:22:12.570Z"
   },
   {
    "duration": 384,
    "start_time": "2021-06-30T19:22:12.940Z"
   },
   {
    "duration": 383,
    "start_time": "2021-06-30T19:22:13.326Z"
   },
   {
    "duration": 26,
    "start_time": "2021-06-30T19:22:13.712Z"
   },
   {
    "duration": 320,
    "start_time": "2021-06-30T19:22:13.740Z"
   },
   {
    "duration": 357,
    "start_time": "2021-06-30T19:22:14.063Z"
   },
   {
    "duration": 341,
    "start_time": "2021-06-30T19:22:14.425Z"
   },
   {
    "duration": 449,
    "start_time": "2021-06-30T19:22:14.768Z"
   },
   {
    "duration": 333,
    "start_time": "2021-06-30T19:22:15.219Z"
   },
   {
    "duration": 309,
    "start_time": "2021-06-30T19:22:15.555Z"
   },
   {
    "duration": 1750,
    "start_time": "2021-06-30T19:22:15.866Z"
   },
   {
    "duration": 244,
    "start_time": "2021-06-30T19:22:17.619Z"
   },
   {
    "duration": 11,
    "start_time": "2021-06-30T19:22:17.865Z"
   },
   {
    "duration": 512,
    "start_time": "2021-06-30T19:22:17.880Z"
   },
   {
    "duration": 14,
    "start_time": "2021-06-30T19:22:18.395Z"
   },
   {
    "duration": 433,
    "start_time": "2021-06-30T19:22:18.424Z"
   },
   {
    "duration": 15,
    "start_time": "2021-06-30T19:22:18.860Z"
   },
   {
    "duration": 402,
    "start_time": "2021-06-30T19:22:18.878Z"
   },
   {
    "duration": 503,
    "start_time": "2021-06-30T19:22:19.289Z"
   },
   {
    "duration": 30,
    "start_time": "2021-06-30T19:22:19.796Z"
   },
   {
    "duration": 335,
    "start_time": "2021-06-30T19:22:19.829Z"
   },
   {
    "duration": 342,
    "start_time": "2021-06-30T19:22:20.166Z"
   },
   {
    "duration": 25,
    "start_time": "2021-06-30T19:22:20.510Z"
   },
   {
    "duration": 297,
    "start_time": "2021-06-30T19:22:20.538Z"
   },
   {
    "duration": 327,
    "start_time": "2021-06-30T19:22:20.837Z"
   },
   {
    "duration": 18,
    "start_time": "2021-06-30T19:22:21.166Z"
   },
   {
    "duration": 350,
    "start_time": "2021-06-30T19:22:21.187Z"
   },
   {
    "duration": 336,
    "start_time": "2021-06-30T19:22:21.540Z"
   },
   {
    "duration": 1149,
    "start_time": "2021-06-30T19:22:21.879Z"
   },
   {
    "duration": 375,
    "start_time": "2021-06-30T19:22:23.030Z"
   },
   {
    "duration": 23,
    "start_time": "2021-06-30T19:22:23.409Z"
   },
   {
    "duration": 232,
    "start_time": "2021-06-30T19:22:23.434Z"
   },
   {
    "duration": 12,
    "start_time": "2021-06-30T19:22:23.669Z"
   },
   {
    "duration": 483,
    "start_time": "2021-06-30T19:22:23.684Z"
   },
   {
    "duration": 57,
    "start_time": "2021-06-30T19:22:24.170Z"
   },
   {
    "duration": 391,
    "start_time": "2021-06-30T19:22:24.236Z"
   },
   {
    "duration": 17,
    "start_time": "2021-06-30T19:22:24.630Z"
   },
   {
    "duration": 2228,
    "start_time": "2021-06-30T19:22:24.650Z"
   },
   {
    "duration": 15,
    "start_time": "2021-06-30T19:22:26.881Z"
   },
   {
    "duration": 1444,
    "start_time": "2021-06-30T19:22:26.899Z"
   },
   {
    "duration": 18,
    "start_time": "2021-06-30T19:22:28.346Z"
   },
   {
    "duration": 523,
    "start_time": "2021-06-30T19:22:28.367Z"
   },
   {
    "duration": 1126,
    "start_time": "2021-06-30T19:22:28.893Z"
   },
   {
    "duration": 1440,
    "start_time": "2021-07-01T15:12:23.358Z"
   },
   {
    "duration": 538,
    "start_time": "2021-07-01T15:12:24.801Z"
   },
   {
    "duration": 27,
    "start_time": "2021-07-01T15:12:25.342Z"
   },
   {
    "duration": 47,
    "start_time": "2021-07-01T15:12:25.373Z"
   },
   {
    "duration": 62,
    "start_time": "2021-07-01T15:12:25.423Z"
   },
   {
    "duration": 120,
    "start_time": "2021-07-01T15:12:25.488Z"
   },
   {
    "duration": 11,
    "start_time": "2021-07-01T15:12:25.611Z"
   },
   {
    "duration": 25,
    "start_time": "2021-07-01T15:12:25.627Z"
   },
   {
    "duration": 78,
    "start_time": "2021-07-01T15:12:25.655Z"
   },
   {
    "duration": 1617,
    "start_time": "2021-07-01T15:12:25.736Z"
   },
   {
    "duration": 6,
    "start_time": "2021-07-01T15:12:27.355Z"
   },
   {
    "duration": 5,
    "start_time": "2021-07-01T15:12:29.505Z"
   },
   {
    "duration": 3869,
    "start_time": "2021-07-08T14:41:59.440Z"
   },
   {
    "duration": 3182,
    "start_time": "2021-07-08T14:42:03.312Z"
   },
   {
    "duration": 1313,
    "start_time": "2021-07-08T14:42:06.497Z"
   },
   {
    "duration": 3264,
    "start_time": "2021-07-08T14:42:07.813Z"
   },
   {
    "duration": 1538,
    "start_time": "2021-07-08T14:42:11.080Z"
   },
   {
    "duration": 657,
    "start_time": "2021-07-08T14:42:12.621Z"
   },
   {
    "duration": 25,
    "start_time": "2021-07-08T14:42:13.280Z"
   },
   {
    "duration": 24,
    "start_time": "2021-07-08T14:42:13.311Z"
   },
   {
    "duration": 66,
    "start_time": "2021-07-08T14:42:13.339Z"
   },
   {
    "duration": 20,
    "start_time": "2021-07-08T14:42:13.409Z"
   },
   {
    "duration": 47,
    "start_time": "2021-07-08T14:42:13.432Z"
   },
   {
    "duration": 42,
    "start_time": "2021-07-08T14:42:13.482Z"
   },
   {
    "duration": 43,
    "start_time": "2021-07-08T14:42:13.527Z"
   },
   {
    "duration": 14,
    "start_time": "2021-07-08T14:42:13.573Z"
   },
   {
    "duration": 126,
    "start_time": "2021-07-08T14:42:13.590Z"
   },
   {
    "duration": 10,
    "start_time": "2021-07-08T14:42:13.718Z"
   },
   {
    "duration": 36,
    "start_time": "2021-07-08T14:42:13.731Z"
   },
   {
    "duration": 9,
    "start_time": "2021-07-08T14:42:13.771Z"
   },
   {
    "duration": 18,
    "start_time": "2021-07-08T14:42:13.782Z"
   },
   {
    "duration": 28,
    "start_time": "2021-07-08T14:42:13.803Z"
   },
   {
    "duration": 70,
    "start_time": "2021-07-08T14:42:13.834Z"
   },
   {
    "duration": 20,
    "start_time": "2021-07-08T14:42:13.907Z"
   },
   {
    "duration": 47,
    "start_time": "2021-07-08T14:42:13.933Z"
   },
   {
    "duration": 11,
    "start_time": "2021-07-08T14:42:13.984Z"
   },
   {
    "duration": 17,
    "start_time": "2021-07-08T14:42:13.997Z"
   },
   {
    "duration": 8,
    "start_time": "2021-07-08T14:42:14.016Z"
   },
   {
    "duration": 52,
    "start_time": "2021-07-08T14:42:14.026Z"
   },
   {
    "duration": 24,
    "start_time": "2021-07-08T14:42:14.080Z"
   },
   {
    "duration": 16,
    "start_time": "2021-07-08T14:42:14.106Z"
   },
   {
    "duration": 9,
    "start_time": "2021-07-08T14:42:14.125Z"
   },
   {
    "duration": 10,
    "start_time": "2021-07-08T14:42:14.167Z"
   },
   {
    "duration": 13,
    "start_time": "2021-07-08T14:42:14.179Z"
   },
   {
    "duration": 11,
    "start_time": "2021-07-08T14:42:14.195Z"
   },
   {
    "duration": 6,
    "start_time": "2021-07-08T14:42:14.209Z"
   },
   {
    "duration": 105,
    "start_time": "2021-07-08T14:42:14.218Z"
   },
   {
    "duration": 57,
    "start_time": "2021-07-08T14:42:14.326Z"
   },
   {
    "duration": 27,
    "start_time": "2021-07-08T14:42:14.386Z"
   },
   {
    "duration": 11,
    "start_time": "2021-07-08T14:42:14.416Z"
   },
   {
    "duration": 44,
    "start_time": "2021-07-08T14:42:14.430Z"
   },
   {
    "duration": 11,
    "start_time": "2021-07-08T14:42:14.477Z"
   },
   {
    "duration": 35,
    "start_time": "2021-07-08T14:42:14.491Z"
   },
   {
    "duration": 67,
    "start_time": "2021-07-08T14:42:14.529Z"
   },
   {
    "duration": 30,
    "start_time": "2021-07-08T14:42:14.599Z"
   },
   {
    "duration": 44,
    "start_time": "2021-07-08T14:42:14.632Z"
   },
   {
    "duration": 21,
    "start_time": "2021-07-08T14:42:14.679Z"
   },
   {
    "duration": 87,
    "start_time": "2021-07-08T14:42:14.703Z"
   },
   {
    "duration": 16,
    "start_time": "2021-07-08T14:42:14.793Z"
   },
   {
    "duration": 12,
    "start_time": "2021-07-08T14:42:14.811Z"
   },
   {
    "duration": 47,
    "start_time": "2021-07-08T14:42:14.825Z"
   },
   {
    "duration": 22,
    "start_time": "2021-07-08T14:42:14.874Z"
   },
   {
    "duration": 7,
    "start_time": "2021-07-08T14:42:14.899Z"
   },
   {
    "duration": 17,
    "start_time": "2021-07-08T14:42:14.908Z"
   },
   {
    "duration": 60,
    "start_time": "2021-07-08T14:42:14.929Z"
   },
   {
    "duration": 5,
    "start_time": "2021-07-08T14:42:14.991Z"
   },
   {
    "duration": 22,
    "start_time": "2021-07-08T14:42:14.998Z"
   },
   {
    "duration": 14,
    "start_time": "2021-07-08T14:42:15.022Z"
   },
   {
    "duration": 10,
    "start_time": "2021-07-08T14:42:15.039Z"
   },
   {
    "duration": 6,
    "start_time": "2021-07-08T14:42:15.068Z"
   },
   {
    "duration": 8,
    "start_time": "2021-07-08T14:42:15.076Z"
   },
   {
    "duration": 18,
    "start_time": "2021-07-08T14:42:15.086Z"
   },
   {
    "duration": 8,
    "start_time": "2021-07-08T14:42:15.106Z"
   },
   {
    "duration": 61,
    "start_time": "2021-07-08T14:42:15.116Z"
   },
   {
    "duration": 10,
    "start_time": "2021-07-08T14:42:15.179Z"
   },
   {
    "duration": 18,
    "start_time": "2021-07-08T14:42:15.191Z"
   },
   {
    "duration": 11,
    "start_time": "2021-07-08T14:42:15.211Z"
   },
   {
    "duration": 15,
    "start_time": "2021-07-08T14:42:15.224Z"
   },
   {
    "duration": 20,
    "start_time": "2021-07-08T14:42:15.267Z"
   },
   {
    "duration": 5,
    "start_time": "2021-07-08T14:42:15.296Z"
   },
   {
    "duration": 11,
    "start_time": "2021-07-08T14:42:15.304Z"
   },
   {
    "duration": 13,
    "start_time": "2021-07-08T14:42:15.318Z"
   },
   {
    "duration": 37,
    "start_time": "2021-07-08T14:42:15.333Z"
   },
   {
    "duration": 17,
    "start_time": "2021-07-08T14:42:15.372Z"
   },
   {
    "duration": 19,
    "start_time": "2021-07-08T14:42:15.391Z"
   },
   {
    "duration": 13,
    "start_time": "2021-07-08T14:42:15.413Z"
   },
   {
    "duration": 522,
    "start_time": "2021-07-08T14:42:15.428Z"
   },
   {
    "duration": 27,
    "start_time": "2021-07-08T14:42:15.952Z"
   },
   {
    "duration": 130,
    "start_time": "2021-07-08T14:42:15.981Z"
   },
   {
    "duration": 7,
    "start_time": "2021-07-08T14:42:16.113Z"
   },
   {
    "duration": 16,
    "start_time": "2021-07-08T14:42:16.122Z"
   },
   {
    "duration": 38,
    "start_time": "2021-07-08T14:42:16.141Z"
   },
   {
    "duration": 541,
    "start_time": "2021-07-08T14:42:16.181Z"
   },
   {
    "duration": 1551,
    "start_time": "2021-07-08T14:42:16.725Z"
   },
   {
    "duration": -89,
    "start_time": "2021-07-08T14:42:18.368Z"
   },
   {
    "duration": -94,
    "start_time": "2021-07-08T14:42:18.376Z"
   },
   {
    "duration": -100,
    "start_time": "2021-07-08T14:42:18.384Z"
   },
   {
    "duration": -106,
    "start_time": "2021-07-08T14:42:18.392Z"
   },
   {
    "duration": -111,
    "start_time": "2021-07-08T14:42:18.400Z"
   },
   {
    "duration": -116,
    "start_time": "2021-07-08T14:42:18.407Z"
   },
   {
    "duration": -122,
    "start_time": "2021-07-08T14:42:18.415Z"
   },
   {
    "duration": -127,
    "start_time": "2021-07-08T14:42:18.422Z"
   },
   {
    "duration": -130,
    "start_time": "2021-07-08T14:42:18.428Z"
   },
   {
    "duration": -135,
    "start_time": "2021-07-08T14:42:18.435Z"
   },
   {
    "duration": -139,
    "start_time": "2021-07-08T14:42:18.441Z"
   },
   {
    "duration": -144,
    "start_time": "2021-07-08T14:42:18.448Z"
   },
   {
    "duration": -148,
    "start_time": "2021-07-08T14:42:18.454Z"
   },
   {
    "duration": -152,
    "start_time": "2021-07-08T14:42:18.461Z"
   },
   {
    "duration": -170,
    "start_time": "2021-07-08T14:42:18.481Z"
   },
   {
    "duration": -178,
    "start_time": "2021-07-08T14:42:18.490Z"
   },
   {
    "duration": -133,
    "start_time": "2021-07-08T14:42:18.499Z"
   },
   {
    "duration": -138,
    "start_time": "2021-07-08T14:42:18.507Z"
   },
   {
    "duration": -144,
    "start_time": "2021-07-08T14:42:18.515Z"
   },
   {
    "duration": -149,
    "start_time": "2021-07-08T14:42:18.522Z"
   },
   {
    "duration": -155,
    "start_time": "2021-07-08T14:42:18.530Z"
   },
   {
    "duration": -160,
    "start_time": "2021-07-08T14:42:18.538Z"
   },
   {
    "duration": 4615,
    "start_time": "2021-07-08T14:45:13.637Z"
   },
   {
    "duration": 3398,
    "start_time": "2021-07-08T14:45:35.775Z"
   },
   {
    "duration": 9348,
    "start_time": "2021-07-08T14:46:23.430Z"
   },
   {
    "duration": 14230,
    "start_time": "2021-07-08T14:46:32.780Z"
   },
   {
    "duration": 4143,
    "start_time": "2021-07-08T14:46:54.785Z"
   },
   {
    "duration": 6886,
    "start_time": "2021-07-08T14:47:04.991Z"
   },
   {
    "duration": 4250,
    "start_time": "2021-07-08T14:47:25.212Z"
   },
   {
    "duration": 3935,
    "start_time": "2021-07-08T14:47:29.465Z"
   },
   {
    "duration": 3938,
    "start_time": "2021-07-08T14:47:33.403Z"
   },
   {
    "duration": 3804,
    "start_time": "2021-07-08T14:47:37.344Z"
   },
   {
    "duration": 2017,
    "start_time": "2021-07-08T14:47:41.150Z"
   },
   {
    "duration": 487,
    "start_time": "2021-07-08T14:47:43.169Z"
   },
   {
    "duration": 264,
    "start_time": "2021-07-08T14:47:43.659Z"
   },
   {
    "duration": 69,
    "start_time": "2021-07-08T14:47:43.929Z"
   },
   {
    "duration": 37,
    "start_time": "2021-07-08T14:47:44.002Z"
   },
   {
    "duration": 41,
    "start_time": "2021-07-08T14:47:44.042Z"
   },
   {
    "duration": 17,
    "start_time": "2021-07-08T14:47:44.086Z"
   },
   {
    "duration": 63,
    "start_time": "2021-07-08T14:47:44.106Z"
   },
   {
    "duration": 21,
    "start_time": "2021-07-08T14:47:44.172Z"
   },
   {
    "duration": 23,
    "start_time": "2021-07-08T14:47:44.196Z"
   },
   {
    "duration": 102,
    "start_time": "2021-07-08T14:47:44.222Z"
   },
   {
    "duration": 15,
    "start_time": "2021-07-08T14:47:44.327Z"
   },
   {
    "duration": 39,
    "start_time": "2021-07-08T14:47:44.345Z"
   },
   {
    "duration": 20,
    "start_time": "2021-07-08T14:47:44.387Z"
   },
   {
    "duration": 22,
    "start_time": "2021-07-08T14:47:44.410Z"
   },
   {
    "duration": 54,
    "start_time": "2021-07-08T14:47:44.435Z"
   },
   {
    "duration": 27,
    "start_time": "2021-07-08T14:47:44.492Z"
   },
   {
    "duration": 16,
    "start_time": "2021-07-08T14:47:44.521Z"
   },
   {
    "duration": 39,
    "start_time": "2021-07-08T14:47:44.544Z"
   },
   {
    "duration": 10,
    "start_time": "2021-07-08T14:47:44.587Z"
   },
   {
    "duration": 19,
    "start_time": "2021-07-08T14:47:44.601Z"
   },
   {
    "duration": 44,
    "start_time": "2021-07-08T14:47:44.623Z"
   },
   {
    "duration": 17,
    "start_time": "2021-07-08T14:47:44.670Z"
   },
   {
    "duration": 18,
    "start_time": "2021-07-08T14:47:44.690Z"
   },
   {
    "duration": 56,
    "start_time": "2021-07-08T14:47:44.711Z"
   },
   {
    "duration": 10,
    "start_time": "2021-07-08T14:47:44.771Z"
   },
   {
    "duration": 33,
    "start_time": "2021-07-08T14:47:44.784Z"
   },
   {
    "duration": 20,
    "start_time": "2021-07-08T14:47:44.819Z"
   },
   {
    "duration": 24,
    "start_time": "2021-07-08T14:47:44.841Z"
   },
   {
    "duration": 18,
    "start_time": "2021-07-08T14:47:44.869Z"
   },
   {
    "duration": 66,
    "start_time": "2021-07-08T14:47:44.890Z"
   },
   {
    "duration": 50,
    "start_time": "2021-07-08T14:47:44.958Z"
   },
   {
    "duration": 32,
    "start_time": "2021-07-08T14:47:45.011Z"
   },
   {
    "duration": 27,
    "start_time": "2021-07-08T14:47:45.045Z"
   },
   {
    "duration": 22,
    "start_time": "2021-07-08T14:47:45.075Z"
   },
   {
    "duration": 17,
    "start_time": "2021-07-08T14:47:45.100Z"
   },
   {
    "duration": 56,
    "start_time": "2021-07-08T14:47:45.120Z"
   },
   {
    "duration": 36,
    "start_time": "2021-07-08T14:47:45.178Z"
   },
   {
    "duration": 52,
    "start_time": "2021-07-08T14:47:45.216Z"
   },
   {
    "duration": 19,
    "start_time": "2021-07-08T14:47:45.271Z"
   },
   {
    "duration": 26,
    "start_time": "2021-07-08T14:47:45.293Z"
   },
   {
    "duration": 69,
    "start_time": "2021-07-08T14:47:45.322Z"
   },
   {
    "duration": 17,
    "start_time": "2021-07-08T14:47:45.394Z"
   },
   {
    "duration": 45,
    "start_time": "2021-07-08T14:47:45.414Z"
   },
   {
    "duration": 20,
    "start_time": "2021-07-08T14:47:45.462Z"
   },
   {
    "duration": 21,
    "start_time": "2021-07-08T14:47:45.484Z"
   },
   {
    "duration": 6,
    "start_time": "2021-07-08T14:47:45.507Z"
   },
   {
    "duration": 31,
    "start_time": "2021-07-08T14:47:45.515Z"
   },
   {
    "duration": 31,
    "start_time": "2021-07-08T14:47:45.567Z"
   },
   {
    "duration": 4,
    "start_time": "2021-07-08T14:47:45.601Z"
   },
   {
    "duration": 15,
    "start_time": "2021-07-08T14:47:45.607Z"
   },
   {
    "duration": 13,
    "start_time": "2021-07-08T14:47:45.625Z"
   },
   {
    "duration": 9,
    "start_time": "2021-07-08T14:47:45.640Z"
   },
   {
    "duration": 6,
    "start_time": "2021-07-08T14:47:45.667Z"
   },
   {
    "duration": 13,
    "start_time": "2021-07-08T14:47:45.675Z"
   },
   {
    "duration": 24,
    "start_time": "2021-07-08T14:47:45.690Z"
   },
   {
    "duration": 13,
    "start_time": "2021-07-08T14:47:45.716Z"
   },
   {
    "duration": 44,
    "start_time": "2021-07-08T14:47:45.731Z"
   },
   {
    "duration": 18,
    "start_time": "2021-07-08T14:47:45.777Z"
   },
   {
    "duration": 18,
    "start_time": "2021-07-08T14:47:45.797Z"
   },
   {
    "duration": 12,
    "start_time": "2021-07-08T14:47:45.817Z"
   },
   {
    "duration": 11,
    "start_time": "2021-07-08T14:47:45.832Z"
   },
   {
    "duration": 20,
    "start_time": "2021-07-08T14:47:45.868Z"
   },
   {
    "duration": 5,
    "start_time": "2021-07-08T14:47:45.896Z"
   },
   {
    "duration": 13,
    "start_time": "2021-07-08T14:47:45.904Z"
   },
   {
    "duration": 11,
    "start_time": "2021-07-08T14:47:45.919Z"
   },
   {
    "duration": 42,
    "start_time": "2021-07-08T14:47:45.933Z"
   },
   {
    "duration": 18,
    "start_time": "2021-07-08T14:47:45.978Z"
   },
   {
    "duration": 27,
    "start_time": "2021-07-08T14:47:45.999Z"
   },
   {
    "duration": 16,
    "start_time": "2021-07-08T14:47:46.028Z"
   },
   {
    "duration": 422,
    "start_time": "2021-07-08T14:47:46.047Z"
   },
   {
    "duration": 21,
    "start_time": "2021-07-08T14:47:46.472Z"
   },
   {
    "duration": 773,
    "start_time": "2021-07-08T14:47:46.495Z"
   },
   {
    "duration": 7,
    "start_time": "2021-07-08T14:47:47.270Z"
   },
   {
    "duration": 14,
    "start_time": "2021-07-08T14:47:47.280Z"
   },
   {
    "duration": 23,
    "start_time": "2021-07-08T14:47:47.297Z"
   },
   {
    "duration": 369,
    "start_time": "2021-07-08T14:47:47.323Z"
   },
   {
    "duration": 754,
    "start_time": "2021-07-08T14:47:47.695Z"
   },
   {
    "duration": 21,
    "start_time": "2021-07-08T14:47:48.451Z"
   },
   {
    "duration": 22,
    "start_time": "2021-07-08T14:47:48.474Z"
   },
   {
    "duration": 13,
    "start_time": "2021-07-08T14:47:48.498Z"
   },
   {
    "duration": 25,
    "start_time": "2021-07-08T14:47:48.514Z"
   },
   {
    "duration": 18,
    "start_time": "2021-07-08T14:47:48.541Z"
   },
   {
    "duration": 368,
    "start_time": "2021-07-08T14:47:48.562Z"
   },
   {
    "duration": 751,
    "start_time": "2021-07-08T14:47:48.932Z"
   },
   {
    "duration": 10,
    "start_time": "2021-07-08T14:47:49.685Z"
   },
   {
    "duration": 13,
    "start_time": "2021-07-08T14:47:49.698Z"
   },
   {
    "duration": 15,
    "start_time": "2021-07-08T14:47:49.713Z"
   },
   {
    "duration": 38,
    "start_time": "2021-07-08T14:47:49.731Z"
   },
   {
    "duration": 9,
    "start_time": "2021-07-08T14:47:49.772Z"
   },
   {
    "duration": 231,
    "start_time": "2021-07-08T14:47:49.784Z"
   },
   {
    "duration": 400,
    "start_time": "2021-07-08T14:47:50.018Z"
   },
   {
    "duration": 10,
    "start_time": "2021-07-08T14:47:50.421Z"
   },
   {
    "duration": 37,
    "start_time": "2021-07-08T14:47:50.434Z"
   },
   {
    "duration": 9,
    "start_time": "2021-07-08T14:47:50.473Z"
   },
   {
    "duration": 15,
    "start_time": "2021-07-08T14:47:50.485Z"
   },
   {
    "duration": 20,
    "start_time": "2021-07-08T14:47:50.502Z"
   },
   {
    "duration": 151,
    "start_time": "2021-07-08T14:47:50.524Z"
   },
   {
    "duration": 9,
    "start_time": "2021-07-08T14:47:50.678Z"
   },
   {
    "duration": 13,
    "start_time": "2021-07-08T14:47:50.690Z"
   },
   {
    "duration": 5,
    "start_time": "2021-07-08T16:31:59.921Z"
   },
   {
    "duration": 7,
    "start_time": "2021-07-08T16:31:59.929Z"
   },
   {
    "duration": 6,
    "start_time": "2021-07-08T16:31:59.939Z"
   },
   {
    "duration": 10,
    "start_time": "2021-07-08T16:31:59.948Z"
   },
   {
    "duration": 1684,
    "start_time": "2021-07-08T16:31:59.960Z"
   },
   {
    "duration": 631,
    "start_time": "2021-07-08T16:32:01.648Z"
   },
   {
    "duration": 23,
    "start_time": "2021-07-08T16:32:02.283Z"
   },
   {
    "duration": 23,
    "start_time": "2021-07-08T16:32:02.309Z"
   },
   {
    "duration": 64,
    "start_time": "2021-07-08T16:32:02.335Z"
   },
   {
    "duration": 19,
    "start_time": "2021-07-08T16:32:02.402Z"
   },
   {
    "duration": 45,
    "start_time": "2021-07-08T16:32:02.424Z"
   },
   {
    "duration": 37,
    "start_time": "2021-07-08T16:32:02.472Z"
   },
   {
    "duration": 15,
    "start_time": "2021-07-08T16:32:02.512Z"
   },
   {
    "duration": 45,
    "start_time": "2021-07-08T16:32:02.529Z"
   },
   {
    "duration": 128,
    "start_time": "2021-07-08T16:32:02.577Z"
   },
   {
    "duration": 9,
    "start_time": "2021-07-08T16:32:02.708Z"
   },
   {
    "duration": 13,
    "start_time": "2021-07-08T16:32:02.725Z"
   },
   {
    "duration": 15,
    "start_time": "2021-07-08T16:32:02.771Z"
   },
   {
    "duration": 18,
    "start_time": "2021-07-08T16:32:02.789Z"
   },
   {
    "duration": 76,
    "start_time": "2021-07-08T16:32:02.810Z"
   },
   {
    "duration": 42,
    "start_time": "2021-07-08T16:32:02.889Z"
   },
   {
    "duration": 44,
    "start_time": "2021-07-08T16:32:02.934Z"
   },
   {
    "duration": 19,
    "start_time": "2021-07-08T16:32:02.982Z"
   },
   {
    "duration": 12,
    "start_time": "2021-07-08T16:32:03.003Z"
   },
   {
    "duration": 63,
    "start_time": "2021-07-08T16:32:03.017Z"
   },
   {
    "duration": 8,
    "start_time": "2021-07-08T16:32:03.084Z"
   },
   {
    "duration": 16,
    "start_time": "2021-07-08T16:32:03.095Z"
   },
   {
    "duration": 17,
    "start_time": "2021-07-08T16:32:03.114Z"
   },
   {
    "duration": 50,
    "start_time": "2021-07-08T16:32:03.134Z"
   },
   {
    "duration": 11,
    "start_time": "2021-07-08T16:32:03.186Z"
   },
   {
    "duration": 10,
    "start_time": "2021-07-08T16:32:03.200Z"
   },
   {
    "duration": 13,
    "start_time": "2021-07-08T16:32:03.212Z"
   },
   {
    "duration": 41,
    "start_time": "2021-07-08T16:32:03.227Z"
   },
   {
    "duration": 7,
    "start_time": "2021-07-08T16:32:03.272Z"
   },
   {
    "duration": 102,
    "start_time": "2021-07-08T16:32:03.282Z"
   },
   {
    "duration": 43,
    "start_time": "2021-07-08T16:32:03.387Z"
   },
   {
    "duration": 60,
    "start_time": "2021-07-08T16:32:03.433Z"
   },
   {
    "duration": 10,
    "start_time": "2021-07-08T16:32:03.497Z"
   },
   {
    "duration": 20,
    "start_time": "2021-07-08T16:32:03.509Z"
   },
   {
    "duration": 44,
    "start_time": "2021-07-08T16:32:03.532Z"
   },
   {
    "duration": 36,
    "start_time": "2021-07-08T16:32:03.579Z"
   },
   {
    "duration": 58,
    "start_time": "2021-07-08T16:32:03.618Z"
   },
   {
    "duration": 30,
    "start_time": "2021-07-08T16:32:03.679Z"
   },
   {
    "duration": 17,
    "start_time": "2021-07-08T16:32:03.712Z"
   },
   {
    "duration": 22,
    "start_time": "2021-07-08T16:32:03.769Z"
   },
   {
    "duration": 47,
    "start_time": "2021-07-08T16:32:03.794Z"
   },
   {
    "duration": 17,
    "start_time": "2021-07-08T16:32:03.874Z"
   },
   {
    "duration": 11,
    "start_time": "2021-07-08T16:32:03.895Z"
   },
   {
    "duration": 18,
    "start_time": "2021-07-08T16:32:03.908Z"
   },
   {
    "duration": 59,
    "start_time": "2021-07-08T16:32:03.928Z"
   },
   {
    "duration": 6,
    "start_time": "2021-07-08T16:32:03.989Z"
   },
   {
    "duration": 14,
    "start_time": "2021-07-08T16:32:03.997Z"
   },
   {
    "duration": 65,
    "start_time": "2021-07-08T16:32:04.013Z"
   },
   {
    "duration": 5,
    "start_time": "2021-07-08T16:32:04.082Z"
   },
   {
    "duration": 15,
    "start_time": "2021-07-08T16:32:04.089Z"
   },
   {
    "duration": 5,
    "start_time": "2021-07-08T16:32:04.106Z"
   },
   {
    "duration": 6,
    "start_time": "2021-07-08T16:32:04.114Z"
   },
   {
    "duration": 6,
    "start_time": "2021-07-08T16:32:04.122Z"
   },
   {
    "duration": 41,
    "start_time": "2021-07-08T16:32:04.131Z"
   },
   {
    "duration": 36,
    "start_time": "2021-07-08T16:32:04.177Z"
   },
   {
    "duration": 20,
    "start_time": "2021-07-08T16:32:04.215Z"
   },
   {
    "duration": 33,
    "start_time": "2021-07-08T16:32:04.238Z"
   },
   {
    "duration": 11,
    "start_time": "2021-07-08T16:32:04.274Z"
   },
   {
    "duration": 14,
    "start_time": "2021-07-08T16:32:04.288Z"
   },
   {
    "duration": 11,
    "start_time": "2021-07-08T16:32:04.305Z"
   },
   {
    "duration": 58,
    "start_time": "2021-07-08T16:32:04.319Z"
   },
   {
    "duration": 21,
    "start_time": "2021-07-08T16:32:04.381Z"
   },
   {
    "duration": 5,
    "start_time": "2021-07-08T16:32:04.404Z"
   },
   {
    "duration": 6,
    "start_time": "2021-07-08T16:32:04.411Z"
   },
   {
    "duration": 8,
    "start_time": "2021-07-08T16:32:04.420Z"
   },
   {
    "duration": 44,
    "start_time": "2021-07-08T16:32:04.431Z"
   },
   {
    "duration": 17,
    "start_time": "2021-07-08T16:32:04.481Z"
   },
   {
    "duration": 16,
    "start_time": "2021-07-08T16:32:04.500Z"
   },
   {
    "duration": 49,
    "start_time": "2021-07-08T16:32:04.518Z"
   },
   {
    "duration": 541,
    "start_time": "2021-07-08T16:32:04.570Z"
   },
   {
    "duration": 18,
    "start_time": "2021-07-08T16:32:05.113Z"
   },
   {
    "duration": 140,
    "start_time": "2021-07-08T16:32:05.133Z"
   },
   {
    "duration": 9,
    "start_time": "2021-07-08T16:32:05.276Z"
   },
   {
    "duration": 12,
    "start_time": "2021-07-08T16:32:05.288Z"
   },
   {
    "duration": 20,
    "start_time": "2021-07-08T16:32:05.303Z"
   },
   {
    "duration": 585,
    "start_time": "2021-07-08T16:32:05.326Z"
   },
   {
    "duration": 983,
    "start_time": "2021-07-08T16:32:05.914Z"
   },
   {
    "duration": -30,
    "start_time": "2021-07-08T16:32:06.929Z"
   },
   {
    "duration": -38,
    "start_time": "2021-07-08T16:32:06.939Z"
   },
   {
    "duration": -44,
    "start_time": "2021-07-08T16:32:06.946Z"
   },
   {
    "duration": -51,
    "start_time": "2021-07-08T16:32:06.955Z"
   },
   {
    "duration": -61,
    "start_time": "2021-07-08T16:32:06.966Z"
   },
   {
    "duration": -66,
    "start_time": "2021-07-08T16:32:06.973Z"
   },
   {
    "duration": -74,
    "start_time": "2021-07-08T16:32:06.983Z"
   },
   {
    "duration": -79,
    "start_time": "2021-07-08T16:32:06.989Z"
   },
   {
    "duration": -88,
    "start_time": "2021-07-08T16:32:06.999Z"
   },
   {
    "duration": -93,
    "start_time": "2021-07-08T16:32:07.006Z"
   },
   {
    "duration": -101,
    "start_time": "2021-07-08T16:32:07.015Z"
   },
   {
    "duration": -106,
    "start_time": "2021-07-08T16:32:07.022Z"
   },
   {
    "duration": -130,
    "start_time": "2021-07-08T16:32:07.047Z"
   },
   {
    "duration": -136,
    "start_time": "2021-07-08T16:32:07.054Z"
   },
   {
    "duration": -143,
    "start_time": "2021-07-08T16:32:07.063Z"
   },
   {
    "duration": -149,
    "start_time": "2021-07-08T16:32:07.070Z"
   },
   {
    "duration": -157,
    "start_time": "2021-07-08T16:32:07.079Z"
   },
   {
    "duration": -161,
    "start_time": "2021-07-08T16:32:07.085Z"
   },
   {
    "duration": -171,
    "start_time": "2021-07-08T16:32:07.096Z"
   },
   {
    "duration": -175,
    "start_time": "2021-07-08T16:32:07.101Z"
   },
   {
    "duration": -184,
    "start_time": "2021-07-08T16:32:07.111Z"
   },
   {
    "duration": -190,
    "start_time": "2021-07-08T16:32:07.118Z"
   },
   {
    "duration": 4,
    "start_time": "2021-07-08T16:33:09.993Z"
   },
   {
    "duration": 21,
    "start_time": "2021-07-08T16:33:09.999Z"
   },
   {
    "duration": 128871,
    "start_time": "2021-07-08T16:33:10.023Z"
   },
   {
    "duration": 1920,
    "start_time": "2021-07-08T16:35:18.902Z"
   },
   {
    "duration": 657,
    "start_time": "2021-07-08T16:35:20.824Z"
   },
   {
    "duration": 25,
    "start_time": "2021-07-08T16:35:21.483Z"
   },
   {
    "duration": 29,
    "start_time": "2021-07-08T16:35:21.514Z"
   },
   {
    "duration": 67,
    "start_time": "2021-07-08T16:35:21.547Z"
   },
   {
    "duration": 18,
    "start_time": "2021-07-08T16:35:21.616Z"
   },
   {
    "duration": 42,
    "start_time": "2021-07-08T16:35:21.636Z"
   },
   {
    "duration": 36,
    "start_time": "2021-07-08T16:35:21.684Z"
   },
   {
    "duration": 15,
    "start_time": "2021-07-08T16:35:21.722Z"
   },
   {
    "duration": 20,
    "start_time": "2021-07-08T16:35:21.769Z"
   },
   {
    "duration": 135,
    "start_time": "2021-07-08T16:35:21.792Z"
   },
   {
    "duration": 9,
    "start_time": "2021-07-08T16:35:21.929Z"
   },
   {
    "duration": 33,
    "start_time": "2021-07-08T16:35:21.940Z"
   },
   {
    "duration": 17,
    "start_time": "2021-07-08T16:35:21.978Z"
   },
   {
    "duration": 23,
    "start_time": "2021-07-08T16:35:21.998Z"
   },
   {
    "duration": 77,
    "start_time": "2021-07-08T16:35:22.024Z"
   },
   {
    "duration": 48,
    "start_time": "2021-07-08T16:35:22.104Z"
   },
   {
    "duration": 36,
    "start_time": "2021-07-08T16:35:22.155Z"
   },
   {
    "duration": 21,
    "start_time": "2021-07-08T16:35:22.201Z"
   },
   {
    "duration": 11,
    "start_time": "2021-07-08T16:35:22.226Z"
   },
   {
    "duration": 26,
    "start_time": "2021-07-08T16:35:22.270Z"
   },
   {
    "duration": 8,
    "start_time": "2021-07-08T16:35:22.298Z"
   },
   {
    "duration": 15,
    "start_time": "2021-07-08T16:35:22.309Z"
   },
   {
    "duration": 57,
    "start_time": "2021-07-08T16:35:22.327Z"
   },
   {
    "duration": 18,
    "start_time": "2021-07-08T16:35:22.386Z"
   },
   {
    "duration": 10,
    "start_time": "2021-07-08T16:35:22.407Z"
   },
   {
    "duration": 51,
    "start_time": "2021-07-08T16:35:22.419Z"
   },
   {
    "duration": 16,
    "start_time": "2021-07-08T16:35:22.473Z"
   },
   {
    "duration": 10,
    "start_time": "2021-07-08T16:35:22.492Z"
   },
   {
    "duration": 6,
    "start_time": "2021-07-08T16:35:22.505Z"
   },
   {
    "duration": 111,
    "start_time": "2021-07-08T16:35:22.514Z"
   },
   {
    "duration": 61,
    "start_time": "2021-07-08T16:35:22.627Z"
   },
   {
    "duration": 30,
    "start_time": "2021-07-08T16:35:22.691Z"
   },
   {
    "duration": 8,
    "start_time": "2021-07-08T16:35:22.723Z"
   },
   {
    "duration": 55,
    "start_time": "2021-07-08T16:35:22.733Z"
   },
   {
    "duration": 11,
    "start_time": "2021-07-08T16:35:22.790Z"
   },
   {
    "duration": 35,
    "start_time": "2021-07-08T16:35:22.804Z"
   },
   {
    "duration": 41,
    "start_time": "2021-07-08T16:35:22.867Z"
   },
   {
    "duration": 27,
    "start_time": "2021-07-08T16:35:22.911Z"
   },
   {
    "duration": 45,
    "start_time": "2021-07-08T16:35:22.941Z"
   },
   {
    "duration": 24,
    "start_time": "2021-07-08T16:35:22.988Z"
   },
   {
    "duration": 80,
    "start_time": "2021-07-08T16:35:23.014Z"
   },
   {
    "duration": 14,
    "start_time": "2021-07-08T16:35:23.097Z"
   },
   {
    "duration": 10,
    "start_time": "2021-07-08T16:35:23.113Z"
   },
   {
    "duration": 17,
    "start_time": "2021-07-08T16:35:23.126Z"
   },
   {
    "duration": 46,
    "start_time": "2021-07-08T16:35:23.145Z"
   },
   {
    "duration": 6,
    "start_time": "2021-07-08T16:35:23.194Z"
   },
   {
    "duration": 17,
    "start_time": "2021-07-08T16:35:23.202Z"
   },
   {
    "duration": 69,
    "start_time": "2021-07-08T16:35:23.221Z"
   },
   {
    "duration": 6,
    "start_time": "2021-07-08T16:35:23.293Z"
   },
   {
    "duration": 21,
    "start_time": "2021-07-08T16:35:23.302Z"
   },
   {
    "duration": 5,
    "start_time": "2021-07-08T16:35:23.326Z"
   },
   {
    "duration": 37,
    "start_time": "2021-07-08T16:35:23.334Z"
   },
   {
    "duration": 13,
    "start_time": "2021-07-08T16:35:23.374Z"
   },
   {
    "duration": 9,
    "start_time": "2021-07-08T16:35:23.390Z"
   },
   {
    "duration": 24,
    "start_time": "2021-07-08T16:35:23.402Z"
   },
   {
    "duration": 46,
    "start_time": "2021-07-08T16:35:23.429Z"
   },
   {
    "duration": 19,
    "start_time": "2021-07-08T16:35:23.479Z"
   },
   {
    "duration": 5,
    "start_time": "2021-07-08T16:35:23.501Z"
   },
   {
    "duration": 21,
    "start_time": "2021-07-08T16:35:23.509Z"
   },
   {
    "duration": 48,
    "start_time": "2021-07-08T16:35:23.532Z"
   },
   {
    "duration": 18,
    "start_time": "2021-07-08T16:35:23.584Z"
   },
   {
    "duration": 19,
    "start_time": "2021-07-08T16:35:23.604Z"
   },
   {
    "duration": 7,
    "start_time": "2021-07-08T16:35:23.671Z"
   },
   {
    "duration": 7,
    "start_time": "2021-07-08T16:35:23.682Z"
   },
   {
    "duration": 20,
    "start_time": "2021-07-08T16:35:23.691Z"
   },
   {
    "duration": 9,
    "start_time": "2021-07-08T16:35:23.713Z"
   },
   {
    "duration": 45,
    "start_time": "2021-07-08T16:35:23.725Z"
   },
   {
    "duration": 21,
    "start_time": "2021-07-08T16:35:23.773Z"
   },
   {
    "duration": 13,
    "start_time": "2021-07-08T16:35:23.797Z"
   },
   {
    "duration": 543,
    "start_time": "2021-07-08T16:35:23.813Z"
   },
   {
    "duration": 28,
    "start_time": "2021-07-08T16:35:24.359Z"
   },
   {
    "duration": 158,
    "start_time": "2021-07-08T16:35:24.389Z"
   },
   {
    "duration": 7,
    "start_time": "2021-07-08T16:35:24.549Z"
   },
   {
    "duration": 15,
    "start_time": "2021-07-08T16:35:24.566Z"
   },
   {
    "duration": 16,
    "start_time": "2021-07-08T16:35:24.584Z"
   },
   {
    "duration": 430,
    "start_time": "2021-07-08T16:35:24.603Z"
   },
   {
    "duration": 808,
    "start_time": "2021-07-08T16:35:25.035Z"
   },
   {
    "duration": 22,
    "start_time": "2021-07-08T16:35:25.845Z"
   },
   {
    "duration": 15,
    "start_time": "2021-07-08T16:35:25.871Z"
   },
   {
    "duration": 13,
    "start_time": "2021-07-08T16:35:25.889Z"
   },
   {
    "duration": 16,
    "start_time": "2021-07-08T16:35:25.904Z"
   },
   {
    "duration": 22,
    "start_time": "2021-07-08T16:35:25.923Z"
   },
   {
    "duration": 527,
    "start_time": "2021-07-08T16:35:25.968Z"
   },
   {
    "duration": 853,
    "start_time": "2021-07-08T16:35:26.499Z"
   },
   {
    "duration": 19,
    "start_time": "2021-07-08T16:35:27.355Z"
   },
   {
    "duration": 21,
    "start_time": "2021-07-08T16:35:27.377Z"
   },
   {
    "duration": 18,
    "start_time": "2021-07-08T16:35:27.400Z"
   },
   {
    "duration": 12,
    "start_time": "2021-07-08T16:35:27.420Z"
   },
   {
    "duration": 31,
    "start_time": "2021-07-08T16:35:27.435Z"
   },
   {
    "duration": 246,
    "start_time": "2021-07-08T16:35:27.469Z"
   },
   {
    "duration": 443,
    "start_time": "2021-07-08T16:35:27.717Z"
   },
   {
    "duration": 15,
    "start_time": "2021-07-08T16:35:28.162Z"
   },
   {
    "duration": 19,
    "start_time": "2021-07-08T16:35:28.181Z"
   },
   {
    "duration": 8,
    "start_time": "2021-07-08T16:35:28.203Z"
   },
   {
    "duration": 15,
    "start_time": "2021-07-08T16:35:28.213Z"
   },
   {
    "duration": 61,
    "start_time": "2021-07-08T16:35:28.230Z"
   },
   {
    "duration": 162,
    "start_time": "2021-07-08T16:35:28.294Z"
   },
   {
    "duration": 19,
    "start_time": "2021-07-08T16:35:28.458Z"
   },
   {
    "duration": 14,
    "start_time": "2021-07-08T16:35:28.480Z"
   },
   {
    "duration": 11,
    "start_time": "2021-07-08T18:58:11.812Z"
   },
   {
    "duration": 4,
    "start_time": "2021-07-08T18:58:18.673Z"
   },
   {
    "duration": 15,
    "start_time": "2021-07-08T18:58:18.682Z"
   },
   {
    "duration": 111134,
    "start_time": "2021-07-08T18:58:18.700Z"
   },
   {
    "duration": 5,
    "start_time": "2021-07-08T19:00:09.837Z"
   },
   {
    "duration": 627,
    "start_time": "2021-07-08T19:00:09.845Z"
   },
   {
    "duration": 23,
    "start_time": "2021-07-08T19:00:10.475Z"
   },
   {
    "duration": 17,
    "start_time": "2021-07-08T19:00:10.500Z"
   },
   {
    "duration": 63,
    "start_time": "2021-07-08T19:00:10.520Z"
   },
   {
    "duration": 18,
    "start_time": "2021-07-08T19:00:10.586Z"
   },
   {
    "duration": 16,
    "start_time": "2021-07-08T19:00:10.608Z"
   },
   {
    "duration": 62,
    "start_time": "2021-07-08T19:00:10.627Z"
   },
   {
    "duration": 22,
    "start_time": "2021-07-08T19:00:10.692Z"
   },
   {
    "duration": 50,
    "start_time": "2021-07-08T19:00:10.717Z"
   },
   {
    "duration": 175,
    "start_time": "2021-07-08T19:00:10.770Z"
   },
   {
    "duration": 21,
    "start_time": "2021-07-08T19:00:10.948Z"
   },
   {
    "duration": 23,
    "start_time": "2021-07-08T19:00:10.972Z"
   },
   {
    "duration": 22,
    "start_time": "2021-07-08T19:00:10.997Z"
   },
   {
    "duration": 21,
    "start_time": "2021-07-08T19:00:11.022Z"
   },
   {
    "duration": 45,
    "start_time": "2021-07-08T19:00:11.045Z"
   },
   {
    "duration": 76,
    "start_time": "2021-07-08T19:00:11.093Z"
   },
   {
    "duration": 15,
    "start_time": "2021-07-08T19:00:11.172Z"
   },
   {
    "duration": 26,
    "start_time": "2021-07-08T19:00:11.190Z"
   },
   {
    "duration": 13,
    "start_time": "2021-07-08T19:00:11.219Z"
   },
   {
    "duration": 21,
    "start_time": "2021-07-08T19:00:11.268Z"
   },
   {
    "duration": 10,
    "start_time": "2021-07-08T19:00:11.292Z"
   },
   {
    "duration": 28,
    "start_time": "2021-07-08T19:00:11.304Z"
   },
   {
    "duration": 50,
    "start_time": "2021-07-08T19:00:11.334Z"
   },
   {
    "duration": 23,
    "start_time": "2021-07-08T19:00:11.392Z"
   },
   {
    "duration": 12,
    "start_time": "2021-07-08T19:00:11.419Z"
   },
   {
    "duration": 42,
    "start_time": "2021-07-08T19:00:11.434Z"
   },
   {
    "duration": 17,
    "start_time": "2021-07-08T19:00:11.478Z"
   },
   {
    "duration": 12,
    "start_time": "2021-07-08T19:00:11.498Z"
   },
   {
    "duration": 26,
    "start_time": "2021-07-08T19:00:11.513Z"
   },
   {
    "duration": 107,
    "start_time": "2021-07-08T19:00:11.541Z"
   },
   {
    "duration": 72,
    "start_time": "2021-07-08T19:00:11.651Z"
   },
   {
    "duration": 55,
    "start_time": "2021-07-08T19:00:11.726Z"
   },
   {
    "duration": 10,
    "start_time": "2021-07-08T19:00:11.784Z"
   },
   {
    "duration": 18,
    "start_time": "2021-07-08T19:00:11.797Z"
   },
   {
    "duration": 13,
    "start_time": "2021-07-08T19:00:11.818Z"
   },
   {
    "duration": 56,
    "start_time": "2021-07-08T19:00:11.869Z"
   },
   {
    "duration": 51,
    "start_time": "2021-07-08T19:00:11.927Z"
   },
   {
    "duration": 26,
    "start_time": "2021-07-08T19:00:11.981Z"
   },
   {
    "duration": 15,
    "start_time": "2021-07-08T19:00:12.010Z"
   },
   {
    "duration": 46,
    "start_time": "2021-07-08T19:00:12.028Z"
   },
   {
    "duration": 42,
    "start_time": "2021-07-08T19:00:12.076Z"
   },
   {
    "duration": 15,
    "start_time": "2021-07-08T19:00:12.120Z"
   },
   {
    "duration": 39,
    "start_time": "2021-07-08T19:00:12.138Z"
   },
   {
    "duration": 17,
    "start_time": "2021-07-08T19:00:12.179Z"
   },
   {
    "duration": 20,
    "start_time": "2021-07-08T19:00:12.198Z"
   },
   {
    "duration": 7,
    "start_time": "2021-07-08T19:00:12.220Z"
   },
   {
    "duration": 49,
    "start_time": "2021-07-08T19:00:12.230Z"
   },
   {
    "duration": 33,
    "start_time": "2021-07-08T19:00:12.282Z"
   },
   {
    "duration": 6,
    "start_time": "2021-07-08T19:00:12.318Z"
   },
   {
    "duration": 51,
    "start_time": "2021-07-08T19:00:12.327Z"
   },
   {
    "duration": 10,
    "start_time": "2021-07-08T19:00:12.381Z"
   },
   {
    "duration": 10140,
    "start_time": "2021-07-17T19:59:08.494Z"
   },
   {
    "duration": 11987,
    "start_time": "2021-07-17T19:59:21.454Z"
   },
   {
    "duration": 8610,
    "start_time": "2021-07-17T19:59:33.444Z"
   },
   {
    "duration": 4844,
    "start_time": "2021-07-17T19:59:44.714Z"
   },
   {
    "duration": 4465,
    "start_time": "2021-07-17T19:59:50.119Z"
   },
   {
    "duration": 4822,
    "start_time": "2021-07-17T19:59:56.885Z"
   },
   {
    "duration": 4748,
    "start_time": "2021-07-17T20:00:10.562Z"
   },
   {
    "duration": 4052,
    "start_time": "2021-07-17T20:00:15.313Z"
   },
   {
    "duration": 4313,
    "start_time": "2021-07-17T20:00:19.369Z"
   },
   {
    "duration": 3658,
    "start_time": "2021-07-17T20:00:23.686Z"
   },
   {
    "duration": 3623,
    "start_time": "2021-07-17T20:00:27.347Z"
   },
   {
    "duration": 3284,
    "start_time": "2021-07-17T20:00:30.973Z"
   },
   {
    "duration": 2007,
    "start_time": "2021-07-17T20:00:34.260Z"
   },
   {
    "duration": 172,
    "start_time": "2021-07-17T20:00:36.269Z"
   },
   {
    "duration": 21,
    "start_time": "2021-07-17T20:00:36.445Z"
   },
   {
    "duration": 30,
    "start_time": "2021-07-17T20:00:36.469Z"
   },
   {
    "duration": 66,
    "start_time": "2021-07-17T20:00:36.501Z"
   },
   {
    "duration": 38,
    "start_time": "2021-07-17T20:00:36.570Z"
   },
   {
    "duration": 762,
    "start_time": "2021-07-17T20:00:36.611Z"
   },
   {
    "duration": 28,
    "start_time": "2021-07-17T20:00:37.375Z"
   },
   {
    "duration": 11,
    "start_time": "2021-07-17T20:00:37.406Z"
   },
   {
    "duration": 7,
    "start_time": "2021-07-17T20:00:37.420Z"
   },
   {
    "duration": 49,
    "start_time": "2021-07-17T20:00:37.429Z"
   },
   {
    "duration": 33,
    "start_time": "2021-07-17T20:00:37.481Z"
   },
   {
    "duration": 6,
    "start_time": "2021-07-17T20:00:37.516Z"
   },
   {
    "duration": 43,
    "start_time": "2021-07-17T20:00:37.525Z"
   },
   {
    "duration": 21,
    "start_time": "2021-07-17T20:00:37.571Z"
   },
   {
    "duration": 28,
    "start_time": "2021-07-17T20:00:37.594Z"
   },
   {
    "duration": 42,
    "start_time": "2021-07-17T20:00:37.624Z"
   },
   {
    "duration": 21,
    "start_time": "2021-07-17T20:00:37.669Z"
   },
   {
    "duration": 24,
    "start_time": "2021-07-17T20:00:37.692Z"
   },
   {
    "duration": 50,
    "start_time": "2021-07-17T20:00:37.719Z"
   },
   {
    "duration": 6,
    "start_time": "2021-07-17T20:00:37.776Z"
   },
   {
    "duration": 7,
    "start_time": "2021-07-17T20:00:37.787Z"
   },
   {
    "duration": 20,
    "start_time": "2021-07-17T20:00:37.797Z"
   },
   {
    "duration": 8,
    "start_time": "2021-07-17T20:00:37.820Z"
   },
   {
    "duration": 54,
    "start_time": "2021-07-17T20:00:37.831Z"
   },
   {
    "duration": 21,
    "start_time": "2021-07-17T20:00:37.888Z"
   },
   {
    "duration": 10,
    "start_time": "2021-07-17T20:00:37.912Z"
   },
   {
    "duration": 747,
    "start_time": "2021-07-17T20:00:37.925Z"
   },
   {
    "duration": 11,
    "start_time": "2021-07-17T20:00:38.675Z"
   },
   {
    "duration": 6,
    "start_time": "2021-07-17T20:00:38.689Z"
   },
   {
    "duration": 8,
    "start_time": "2021-07-17T20:00:38.698Z"
   },
   {
    "duration": 404,
    "start_time": "2021-07-17T20:00:38.709Z"
   },
   {
    "duration": 5,
    "start_time": "2021-07-17T20:00:39.115Z"
   },
   {
    "duration": 21,
    "start_time": "2021-07-17T20:00:39.123Z"
   },
   {
    "duration": 34,
    "start_time": "2021-07-17T20:00:39.147Z"
   },
   {
    "duration": 491,
    "start_time": "2021-07-17T20:00:39.184Z"
   },
   {
    "duration": 8,
    "start_time": "2021-07-17T20:00:39.677Z"
   },
   {
    "duration": 6,
    "start_time": "2021-07-17T20:00:39.687Z"
   },
   {
    "duration": 10,
    "start_time": "2021-07-17T20:00:39.696Z"
   },
   {
    "duration": 439,
    "start_time": "2021-07-17T20:00:39.709Z"
   },
   {
    "duration": 18,
    "start_time": "2021-07-17T20:00:40.151Z"
   },
   {
    "duration": 9,
    "start_time": "2021-07-17T20:00:40.172Z"
   },
   {
    "duration": 6,
    "start_time": "2021-07-17T20:00:40.183Z"
   },
   {
    "duration": 7,
    "start_time": "2021-07-17T20:00:40.192Z"
   },
   {
    "duration": 300,
    "start_time": "2021-07-17T20:00:40.201Z"
   },
   {
    "duration": 4,
    "start_time": "2021-07-17T20:00:40.504Z"
   },
   {
    "duration": 19,
    "start_time": "2021-07-17T20:00:40.510Z"
   },
   {
    "duration": 35,
    "start_time": "2021-07-17T20:00:40.532Z"
   },
   {
    "duration": 424,
    "start_time": "2021-07-17T20:00:40.569Z"
   },
   {
    "duration": 13,
    "start_time": "2021-07-17T20:00:40.996Z"
   },
   {
    "duration": 13,
    "start_time": "2021-07-17T20:00:41.011Z"
   },
   {
    "duration": 6,
    "start_time": "2021-07-17T20:00:41.026Z"
   },
   {
    "duration": 588,
    "start_time": "2021-07-17T20:00:41.035Z"
   },
   {
    "duration": 11,
    "start_time": "2021-07-17T20:00:41.626Z"
   },
   {
    "duration": 47,
    "start_time": "2021-07-17T20:00:41.639Z"
   },
   {
    "duration": 534,
    "start_time": "2021-07-17T20:00:41.689Z"
   },
   {
    "duration": 12,
    "start_time": "2021-07-17T20:00:42.225Z"
   },
   {
    "duration": 34,
    "start_time": "2021-07-17T20:00:42.239Z"
   },
   {
    "duration": 4,
    "start_time": "2021-07-17T20:00:42.276Z"
   },
   {
    "duration": 2146,
    "start_time": "2021-07-17T20:00:42.282Z"
   },
   {
    "duration": 36,
    "start_time": "2021-07-17T20:00:44.431Z"
   },
   {
    "duration": 423,
    "start_time": "2021-07-17T20:00:44.470Z"
   },
   {
    "duration": 10,
    "start_time": "2021-07-17T20:00:44.896Z"
   },
   {
    "duration": 6,
    "start_time": "2021-07-17T20:00:44.909Z"
   },
   {
    "duration": 12,
    "start_time": "2021-07-17T20:00:44.918Z"
   },
   {
    "duration": 4,
    "start_time": "2021-07-17T20:00:44.932Z"
   },
   {
    "duration": 37,
    "start_time": "2021-07-17T20:00:44.939Z"
   },
   {
    "duration": 4,
    "start_time": "2021-07-17T20:00:44.978Z"
   },
   {
    "duration": 342,
    "start_time": "2021-07-17T20:00:44.985Z"
   },
   {
    "duration": 9,
    "start_time": "2021-07-17T20:00:45.329Z"
   },
   {
    "duration": 35,
    "start_time": "2021-07-17T20:00:45.340Z"
   },
   {
    "duration": 10,
    "start_time": "2021-07-17T20:00:45.378Z"
   },
   {
    "duration": 454,
    "start_time": "2021-07-17T20:00:45.391Z"
   },
   {
    "duration": 24,
    "start_time": "2021-07-17T20:00:45.848Z"
   },
   {
    "duration": 12,
    "start_time": "2021-07-17T20:00:45.882Z"
   },
   {
    "duration": 12,
    "start_time": "2021-07-17T20:00:45.897Z"
   },
   {
    "duration": 335,
    "start_time": "2021-07-17T20:00:45.912Z"
   },
   {
    "duration": 24,
    "start_time": "2021-07-17T20:00:46.249Z"
   },
   {
    "duration": 12,
    "start_time": "2021-07-17T20:00:46.276Z"
   },
   {
    "duration": 7,
    "start_time": "2021-07-17T20:00:46.290Z"
   },
   {
    "duration": 8,
    "start_time": "2021-07-17T20:00:46.300Z"
   },
   {
    "duration": 56,
    "start_time": "2021-07-17T20:00:46.311Z"
   },
   {
    "duration": 13,
    "start_time": "2021-07-17T20:00:46.370Z"
   },
   {
    "duration": 7,
    "start_time": "2021-07-17T20:00:46.386Z"
   },
   {
    "duration": 10,
    "start_time": "2021-07-17T20:00:46.395Z"
   },
   {
    "duration": 7,
    "start_time": "2021-07-17T20:22:27.296Z"
   },
   {
    "duration": 7,
    "start_time": "2021-07-17T20:22:29.242Z"
   },
   {
    "duration": 13,
    "start_time": "2021-07-17T21:36:49.541Z"
   },
   {
    "duration": 12,
    "start_time": "2021-07-17T21:39:14.948Z"
   },
   {
    "duration": 123,
    "start_time": "2021-07-17T22:16:47.503Z"
   },
   {
    "duration": 5,
    "start_time": "2021-07-18T18:56:19.510Z"
   },
   {
    "duration": 9,
    "start_time": "2021-07-18T18:56:19.517Z"
   },
   {
    "duration": 7,
    "start_time": "2021-07-18T18:56:19.529Z"
   },
   {
    "duration": 6,
    "start_time": "2021-07-18T18:56:19.539Z"
   },
   {
    "duration": 5,
    "start_time": "2021-07-18T18:56:19.548Z"
   },
   {
    "duration": 5,
    "start_time": "2021-07-18T18:56:19.556Z"
   },
   {
    "duration": 2036,
    "start_time": "2021-07-18T18:56:19.564Z"
   },
   {
    "duration": -68,
    "start_time": "2021-07-18T18:56:21.675Z"
   },
   {
    "duration": -78,
    "start_time": "2021-07-18T18:56:21.686Z"
   },
   {
    "duration": -90,
    "start_time": "2021-07-18T18:56:21.699Z"
   },
   {
    "duration": -97,
    "start_time": "2021-07-18T18:56:21.708Z"
   },
   {
    "duration": -108,
    "start_time": "2021-07-18T18:56:21.720Z"
   },
   {
    "duration": -119,
    "start_time": "2021-07-18T18:56:21.732Z"
   },
   {
    "duration": -126,
    "start_time": "2021-07-18T18:56:21.741Z"
   },
   {
    "duration": -139,
    "start_time": "2021-07-18T18:56:21.755Z"
   },
   {
    "duration": -150,
    "start_time": "2021-07-18T18:56:21.767Z"
   },
   {
    "duration": -158,
    "start_time": "2021-07-18T18:56:21.777Z"
   },
   {
    "duration": -166,
    "start_time": "2021-07-18T18:56:21.786Z"
   },
   {
    "duration": -176,
    "start_time": "2021-07-18T18:56:21.797Z"
   },
   {
    "duration": -185,
    "start_time": "2021-07-18T18:56:21.807Z"
   },
   {
    "duration": -194,
    "start_time": "2021-07-18T18:56:21.818Z"
   },
   {
    "duration": -204,
    "start_time": "2021-07-18T18:56:21.829Z"
   },
   {
    "duration": -211,
    "start_time": "2021-07-18T18:56:21.838Z"
   },
   {
    "duration": -221,
    "start_time": "2021-07-18T18:56:21.849Z"
   },
   {
    "duration": -231,
    "start_time": "2021-07-18T18:56:21.860Z"
   },
   {
    "duration": -239,
    "start_time": "2021-07-18T18:56:21.870Z"
   },
   {
    "duration": -248,
    "start_time": "2021-07-18T18:56:21.880Z"
   },
   {
    "duration": -258,
    "start_time": "2021-07-18T18:56:21.892Z"
   },
   {
    "duration": -267,
    "start_time": "2021-07-18T18:56:21.902Z"
   },
   {
    "duration": -277,
    "start_time": "2021-07-18T18:56:21.913Z"
   },
   {
    "duration": -287,
    "start_time": "2021-07-18T18:56:21.925Z"
   },
   {
    "duration": -366,
    "start_time": "2021-07-18T18:56:22.005Z"
   },
   {
    "duration": -375,
    "start_time": "2021-07-18T18:56:22.015Z"
   },
   {
    "duration": -383,
    "start_time": "2021-07-18T18:56:22.025Z"
   },
   {
    "duration": -394,
    "start_time": "2021-07-18T18:56:22.037Z"
   },
   {
    "duration": -401,
    "start_time": "2021-07-18T18:56:22.045Z"
   },
   {
    "duration": -394,
    "start_time": "2021-07-18T18:56:22.056Z"
   },
   {
    "duration": -404,
    "start_time": "2021-07-18T18:56:22.067Z"
   },
   {
    "duration": -411,
    "start_time": "2021-07-18T18:56:22.076Z"
   },
   {
    "duration": -420,
    "start_time": "2021-07-18T18:56:22.086Z"
   },
   {
    "duration": -427,
    "start_time": "2021-07-18T18:56:22.094Z"
   },
   {
    "duration": -437,
    "start_time": "2021-07-18T18:56:22.106Z"
   },
   {
    "duration": -447,
    "start_time": "2021-07-18T18:56:22.117Z"
   },
   {
    "duration": -455,
    "start_time": "2021-07-18T18:56:22.126Z"
   },
   {
    "duration": -464,
    "start_time": "2021-07-18T18:56:22.137Z"
   },
   {
    "duration": -473,
    "start_time": "2021-07-18T18:56:22.147Z"
   },
   {
    "duration": -480,
    "start_time": "2021-07-18T18:56:22.156Z"
   },
   {
    "duration": -491,
    "start_time": "2021-07-18T18:56:22.168Z"
   },
   {
    "duration": -501,
    "start_time": "2021-07-18T18:56:22.180Z"
   },
   {
    "duration": -509,
    "start_time": "2021-07-18T18:56:22.189Z"
   },
   {
    "duration": -519,
    "start_time": "2021-07-18T18:56:22.200Z"
   },
   {
    "duration": -528,
    "start_time": "2021-07-18T18:56:22.211Z"
   },
   {
    "duration": -536,
    "start_time": "2021-07-18T18:56:22.220Z"
   },
   {
    "duration": -546,
    "start_time": "2021-07-18T18:56:22.231Z"
   },
   {
    "duration": -553,
    "start_time": "2021-07-18T18:56:22.240Z"
   },
   {
    "duration": -563,
    "start_time": "2021-07-18T18:56:22.251Z"
   },
   {
    "duration": -572,
    "start_time": "2021-07-18T18:56:22.262Z"
   },
   {
    "duration": -580,
    "start_time": "2021-07-18T18:56:22.271Z"
   },
   {
    "duration": -590,
    "start_time": "2021-07-18T18:56:22.283Z"
   },
   {
    "duration": -599,
    "start_time": "2021-07-18T18:56:22.293Z"
   },
   {
    "duration": -608,
    "start_time": "2021-07-18T18:56:22.303Z"
   },
   {
    "duration": -619,
    "start_time": "2021-07-18T18:56:22.316Z"
   },
   {
    "duration": -628,
    "start_time": "2021-07-18T18:56:22.326Z"
   },
   {
    "duration": -675,
    "start_time": "2021-07-18T18:56:22.374Z"
   },
   {
    "duration": -622,
    "start_time": "2021-07-18T18:56:22.384Z"
   },
   {
    "duration": -630,
    "start_time": "2021-07-18T18:56:22.394Z"
   },
   {
    "duration": -640,
    "start_time": "2021-07-18T18:56:22.406Z"
   },
   {
    "duration": -648,
    "start_time": "2021-07-18T18:56:22.415Z"
   },
   {
    "duration": -658,
    "start_time": "2021-07-18T18:56:22.426Z"
   },
   {
    "duration": -667,
    "start_time": "2021-07-18T18:56:22.437Z"
   },
   {
    "duration": -675,
    "start_time": "2021-07-18T18:56:22.446Z"
   },
   {
    "duration": -683,
    "start_time": "2021-07-18T18:56:22.456Z"
   },
   {
    "duration": -691,
    "start_time": "2021-07-18T18:56:22.465Z"
   },
   {
    "duration": -701,
    "start_time": "2021-07-18T18:56:22.476Z"
   },
   {
    "duration": -712,
    "start_time": "2021-07-18T18:56:22.488Z"
   },
   {
    "duration": -717,
    "start_time": "2021-07-18T18:56:22.495Z"
   },
   {
    "duration": -728,
    "start_time": "2021-07-18T18:56:22.507Z"
   },
   {
    "duration": -738,
    "start_time": "2021-07-18T18:56:22.518Z"
   },
   {
    "duration": -745,
    "start_time": "2021-07-18T18:56:22.527Z"
   },
   {
    "duration": -756,
    "start_time": "2021-07-18T18:56:22.539Z"
   },
   {
    "duration": -767,
    "start_time": "2021-07-18T18:56:22.551Z"
   },
   {
    "duration": -773,
    "start_time": "2021-07-18T18:56:22.559Z"
   },
   {
    "duration": -784,
    "start_time": "2021-07-18T18:56:22.572Z"
   },
   {
    "duration": -794,
    "start_time": "2021-07-18T18:56:22.584Z"
   },
   {
    "duration": -801,
    "start_time": "2021-07-18T18:56:22.592Z"
   },
   {
    "duration": -810,
    "start_time": "2021-07-18T18:56:22.602Z"
   },
   {
    "duration": -816,
    "start_time": "2021-07-18T18:56:22.610Z"
   },
   {
    "duration": -826,
    "start_time": "2021-07-18T18:56:22.621Z"
   },
   {
    "duration": -836,
    "start_time": "2021-07-18T18:56:22.633Z"
   },
   {
    "duration": -779,
    "start_time": "2021-07-18T18:56:22.641Z"
   },
   {
    "duration": -788,
    "start_time": "2021-07-18T18:56:22.651Z"
   },
   {
    "duration": 17585,
    "start_time": "2021-07-18T18:57:09.101Z"
   },
   {
    "duration": 5,
    "start_time": "2021-07-18T18:57:35.094Z"
   },
   {
    "duration": 5,
    "start_time": "2021-07-18T18:57:35.103Z"
   },
   {
    "duration": 4,
    "start_time": "2021-07-18T18:57:35.111Z"
   },
   {
    "duration": 16,
    "start_time": "2021-07-18T18:57:35.120Z"
   },
   {
    "duration": 7429,
    "start_time": "2021-07-18T18:57:35.140Z"
   },
   {
    "duration": 1665,
    "start_time": "2021-07-18T18:57:42.573Z"
   },
   {
    "duration": 167,
    "start_time": "2021-07-18T18:57:44.241Z"
   },
   {
    "duration": 18,
    "start_time": "2021-07-18T18:57:44.411Z"
   },
   {
    "duration": 51,
    "start_time": "2021-07-18T18:57:44.432Z"
   },
   {
    "duration": 47,
    "start_time": "2021-07-18T18:57:44.486Z"
   },
   {
    "duration": 59,
    "start_time": "2021-07-18T18:57:44.536Z"
   },
   {
    "duration": 780,
    "start_time": "2021-07-18T18:57:44.597Z"
   },
   {
    "duration": 27,
    "start_time": "2021-07-18T18:57:45.379Z"
   },
   {
    "duration": 11,
    "start_time": "2021-07-18T18:57:45.409Z"
   },
   {
    "duration": 4,
    "start_time": "2021-07-18T18:57:45.423Z"
   },
   {
    "duration": 51,
    "start_time": "2021-07-18T18:57:45.430Z"
   },
   {
    "duration": 37,
    "start_time": "2021-07-18T18:57:45.484Z"
   },
   {
    "duration": 6,
    "start_time": "2021-07-18T18:57:45.524Z"
   },
   {
    "duration": 11,
    "start_time": "2021-07-18T18:57:45.561Z"
   },
   {
    "duration": 22,
    "start_time": "2021-07-18T18:57:45.575Z"
   },
   {
    "duration": 24,
    "start_time": "2021-07-18T18:57:45.600Z"
   },
   {
    "duration": 21,
    "start_time": "2021-07-18T18:57:45.663Z"
   },
   {
    "duration": 33,
    "start_time": "2021-07-18T18:57:45.686Z"
   },
   {
    "duration": 23,
    "start_time": "2021-07-18T18:57:45.722Z"
   },
   {
    "duration": 19,
    "start_time": "2021-07-18T18:57:45.763Z"
   },
   {
    "duration": 8,
    "start_time": "2021-07-18T18:57:45.786Z"
   },
   {
    "duration": 6,
    "start_time": "2021-07-18T18:57:45.797Z"
   },
   {
    "duration": 4,
    "start_time": "2021-07-18T18:57:45.806Z"
   },
   {
    "duration": 58,
    "start_time": "2021-07-18T18:57:45.812Z"
   },
   {
    "duration": 7,
    "start_time": "2021-07-18T18:57:45.873Z"
   },
   {
    "duration": 22,
    "start_time": "2021-07-18T18:57:45.883Z"
   },
   {
    "duration": 55,
    "start_time": "2021-07-18T18:57:45.907Z"
   },
   {
    "duration": 10,
    "start_time": "2021-07-18T18:57:45.964Z"
   },
   {
    "duration": 1027,
    "start_time": "2021-07-18T18:57:45.976Z"
   },
   {
    "duration": 12,
    "start_time": "2021-07-18T18:57:47.005Z"
   },
   {
    "duration": 6,
    "start_time": "2021-07-18T18:57:47.020Z"
   },
   {
    "duration": 34,
    "start_time": "2021-07-18T18:57:47.028Z"
   },
   {
    "duration": 696,
    "start_time": "2021-07-18T18:57:47.065Z"
   },
   {
    "duration": 3,
    "start_time": "2021-07-18T18:57:47.764Z"
   },
   {
    "duration": 30,
    "start_time": "2021-07-18T18:57:47.769Z"
   },
   {
    "duration": 17,
    "start_time": "2021-07-18T18:57:47.801Z"
   },
   {
    "duration": 817,
    "start_time": "2021-07-18T18:57:47.820Z"
   },
   {
    "duration": 9,
    "start_time": "2021-07-18T18:57:48.640Z"
   },
   {
    "duration": 4,
    "start_time": "2021-07-18T18:57:48.663Z"
   },
   {
    "duration": 8,
    "start_time": "2021-07-18T18:57:48.669Z"
   },
   {
    "duration": 805,
    "start_time": "2021-07-18T18:57:48.679Z"
   },
   {
    "duration": 7,
    "start_time": "2021-07-18T18:57:49.487Z"
   },
   {
    "duration": 17,
    "start_time": "2021-07-18T18:57:49.497Z"
   },
   {
    "duration": 6,
    "start_time": "2021-07-18T18:57:49.516Z"
   },
   {
    "duration": 38,
    "start_time": "2021-07-18T18:57:49.525Z"
   },
   {
    "duration": 515,
    "start_time": "2021-07-18T18:57:49.566Z"
   },
   {
    "duration": 4,
    "start_time": "2021-07-18T18:57:50.085Z"
   },
   {
    "duration": 20,
    "start_time": "2021-07-18T18:57:50.092Z"
   },
   {
    "duration": 19,
    "start_time": "2021-07-18T18:57:50.114Z"
   },
   {
    "duration": 796,
    "start_time": "2021-07-18T18:57:50.135Z"
   },
   {
    "duration": 14,
    "start_time": "2021-07-18T18:57:50.934Z"
   },
   {
    "duration": 9,
    "start_time": "2021-07-18T18:57:50.963Z"
   },
   {
    "duration": 17,
    "start_time": "2021-07-18T18:57:50.974Z"
   },
   {
    "duration": 6,
    "start_time": "2021-07-18T18:57:50.994Z"
   },
   {
    "duration": 893,
    "start_time": "2021-07-18T18:57:51.002Z"
   },
   {
    "duration": 11,
    "start_time": "2021-07-18T18:57:51.897Z"
   },
   {
    "duration": 52,
    "start_time": "2021-07-18T18:57:51.910Z"
   },
   {
    "duration": 1130,
    "start_time": "2021-07-18T18:57:51.964Z"
   },
   {
    "duration": 12,
    "start_time": "2021-07-18T18:57:53.097Z"
   },
   {
    "duration": 20,
    "start_time": "2021-07-18T18:57:53.113Z"
   },
   {
    "duration": 29,
    "start_time": "2021-07-18T18:57:53.135Z"
   },
   {
    "duration": 4442,
    "start_time": "2021-07-18T18:57:53.167Z"
   },
   {
    "duration": 15,
    "start_time": "2021-07-18T18:57:57.611Z"
   },
   {
    "duration": 719,
    "start_time": "2021-07-18T18:57:57.629Z"
   },
   {
    "duration": 11,
    "start_time": "2021-07-18T18:57:58.364Z"
   },
   {
    "duration": 6,
    "start_time": "2021-07-18T18:57:58.378Z"
   },
   {
    "duration": 13,
    "start_time": "2021-07-18T18:57:58.386Z"
   },
   {
    "duration": 8,
    "start_time": "2021-07-18T18:57:58.401Z"
   },
   {
    "duration": 12,
    "start_time": "2021-07-18T18:57:58.412Z"
   },
   {
    "duration": 5,
    "start_time": "2021-07-18T18:57:58.426Z"
   },
   {
    "duration": 622,
    "start_time": "2021-07-18T18:57:58.434Z"
   },
   {
    "duration": 8,
    "start_time": "2021-07-18T18:57:59.062Z"
   },
   {
    "duration": 11,
    "start_time": "2021-07-18T18:57:59.074Z"
   },
   {
    "duration": 10,
    "start_time": "2021-07-18T18:57:59.088Z"
   },
   {
    "duration": 1076,
    "start_time": "2021-07-18T18:57:59.101Z"
   },
   {
    "duration": 16,
    "start_time": "2021-07-18T18:58:00.180Z"
   },
   {
    "duration": 32,
    "start_time": "2021-07-18T18:58:00.199Z"
   },
   {
    "duration": 28,
    "start_time": "2021-07-18T18:58:00.234Z"
   },
   {
    "duration": 758,
    "start_time": "2021-07-18T18:58:00.265Z"
   },
   {
    "duration": 13,
    "start_time": "2021-07-18T18:58:01.026Z"
   },
   {
    "duration": 28,
    "start_time": "2021-07-18T18:58:01.043Z"
   },
   {
    "duration": 19,
    "start_time": "2021-07-18T18:58:01.073Z"
   },
   {
    "duration": 36,
    "start_time": "2021-07-18T18:58:01.094Z"
   },
   {
    "duration": 18,
    "start_time": "2021-07-18T18:58:01.133Z"
   },
   {
    "duration": 22,
    "start_time": "2021-07-18T18:58:01.153Z"
   },
   {
    "duration": 16,
    "start_time": "2021-07-18T19:05:50.610Z"
   },
   {
    "duration": 542,
    "start_time": "2021-07-19T08:40:15.063Z"
   },
   {
    "duration": 3,
    "start_time": "2021-07-19T08:40:24.515Z"
   },
   {
    "duration": 7,
    "start_time": "2021-07-19T08:40:24.521Z"
   },
   {
    "duration": 10,
    "start_time": "2021-07-19T08:40:24.531Z"
   },
   {
    "duration": 15,
    "start_time": "2021-07-19T08:40:24.544Z"
   },
   {
    "duration": 19286,
    "start_time": "2021-07-19T08:40:24.561Z"
   },
   {
    "duration": 2173,
    "start_time": "2021-07-19T08:40:43.851Z"
   },
   {
    "duration": 169,
    "start_time": "2021-07-19T08:40:46.029Z"
   },
   {
    "duration": 28,
    "start_time": "2021-07-19T08:40:46.202Z"
   },
   {
    "duration": 60,
    "start_time": "2021-07-19T08:40:46.232Z"
   },
   {
    "duration": 68,
    "start_time": "2021-07-19T08:40:46.295Z"
   },
   {
    "duration": 39,
    "start_time": "2021-07-19T08:40:46.365Z"
   },
   {
    "duration": 636,
    "start_time": "2021-07-19T08:40:46.406Z"
   },
   {
    "duration": 28,
    "start_time": "2021-07-19T08:40:47.044Z"
   },
   {
    "duration": 11,
    "start_time": "2021-07-19T08:40:47.074Z"
   },
   {
    "duration": 13,
    "start_time": "2021-07-19T08:40:47.087Z"
   },
   {
    "duration": 25,
    "start_time": "2021-07-19T08:40:47.103Z"
   },
   {
    "duration": 62,
    "start_time": "2021-07-19T08:40:47.130Z"
   },
   {
    "duration": 6,
    "start_time": "2021-07-19T08:40:47.197Z"
   },
   {
    "duration": 12,
    "start_time": "2021-07-19T08:40:47.206Z"
   },
   {
    "duration": 62,
    "start_time": "2021-07-19T08:40:47.220Z"
   },
   {
    "duration": 25,
    "start_time": "2021-07-19T08:40:47.285Z"
   },
   {
    "duration": 54,
    "start_time": "2021-07-19T08:40:47.312Z"
   },
   {
    "duration": 22,
    "start_time": "2021-07-19T08:40:47.369Z"
   },
   {
    "duration": 23,
    "start_time": "2021-07-19T08:40:47.394Z"
   },
   {
    "duration": 46,
    "start_time": "2021-07-19T08:40:47.420Z"
   },
   {
    "duration": 8,
    "start_time": "2021-07-19T08:40:47.468Z"
   },
   {
    "duration": 9,
    "start_time": "2021-07-19T08:40:47.478Z"
   },
   {
    "duration": 11,
    "start_time": "2021-07-19T08:40:47.490Z"
   },
   {
    "duration": 21,
    "start_time": "2021-07-19T08:40:47.503Z"
   },
   {
    "duration": 8,
    "start_time": "2021-07-19T08:40:47.562Z"
   },
   {
    "duration": 20,
    "start_time": "2021-07-19T08:40:47.573Z"
   },
   {
    "duration": 21,
    "start_time": "2021-07-19T08:40:47.595Z"
   },
   {
    "duration": 48,
    "start_time": "2021-07-19T08:40:47.618Z"
   },
   {
    "duration": 1110,
    "start_time": "2021-07-19T08:40:47.669Z"
   },
   {
    "duration": 12,
    "start_time": "2021-07-19T08:40:48.781Z"
   },
   {
    "duration": 12,
    "start_time": "2021-07-19T08:40:48.796Z"
   },
   {
    "duration": 5,
    "start_time": "2021-07-19T08:40:48.862Z"
   },
   {
    "duration": 831,
    "start_time": "2021-07-19T08:40:48.870Z"
   },
   {
    "duration": 4,
    "start_time": "2021-07-19T08:40:49.704Z"
   },
   {
    "duration": 20,
    "start_time": "2021-07-19T08:40:49.710Z"
   },
   {
    "duration": 111,
    "start_time": "2021-07-19T08:40:49.732Z"
   },
   {
    "duration": 632,
    "start_time": "2021-07-19T08:40:49.846Z"
   },
   {
    "duration": 7,
    "start_time": "2021-07-19T08:40:50.480Z"
   },
   {
    "duration": 14,
    "start_time": "2021-07-19T08:40:50.489Z"
   },
   {
    "duration": 10,
    "start_time": "2021-07-19T08:40:50.506Z"
   },
   {
    "duration": 395,
    "start_time": "2021-07-19T08:40:55.128Z"
   },
   {
    "duration": 782,
    "start_time": "2021-07-19T08:41:01.341Z"
   },
   {
    "duration": 785,
    "start_time": "2021-07-19T08:41:48.572Z"
   },
   {
    "duration": 773,
    "start_time": "2021-07-19T08:41:58.650Z"
   },
   {
    "duration": 1151,
    "start_time": "2021-07-19T08:44:06.443Z"
   },
   {
    "duration": 4,
    "start_time": "2021-07-19T08:44:18.931Z"
   },
   {
    "duration": 26,
    "start_time": "2021-07-19T08:44:18.938Z"
   },
   {
    "duration": 26,
    "start_time": "2021-07-19T08:44:18.967Z"
   },
   {
    "duration": 25,
    "start_time": "2021-07-19T08:44:18.996Z"
   },
   {
    "duration": 8898,
    "start_time": "2021-07-19T08:44:19.023Z"
   },
   {
    "duration": 1602,
    "start_time": "2021-07-19T08:44:27.924Z"
   },
   {
    "duration": 174,
    "start_time": "2021-07-19T08:44:29.530Z"
   },
   {
    "duration": 18,
    "start_time": "2021-07-19T08:44:29.707Z"
   },
   {
    "duration": 37,
    "start_time": "2021-07-19T08:44:29.728Z"
   },
   {
    "duration": 41,
    "start_time": "2021-07-19T08:44:29.768Z"
   },
   {
    "duration": 58,
    "start_time": "2021-07-19T08:44:29.811Z"
   },
   {
    "duration": 725,
    "start_time": "2021-07-19T08:44:29.871Z"
   },
   {
    "duration": 24,
    "start_time": "2021-07-19T08:44:30.598Z"
   },
   {
    "duration": 25,
    "start_time": "2021-07-19T08:44:30.624Z"
   },
   {
    "duration": 14,
    "start_time": "2021-07-19T08:44:30.652Z"
   },
   {
    "duration": 34,
    "start_time": "2021-07-19T08:44:30.669Z"
   },
   {
    "duration": 34,
    "start_time": "2021-07-19T08:44:30.706Z"
   },
   {
    "duration": 7,
    "start_time": "2021-07-19T08:44:30.762Z"
   },
   {
    "duration": 26,
    "start_time": "2021-07-19T08:44:30.776Z"
   },
   {
    "duration": 64,
    "start_time": "2021-07-19T08:44:30.808Z"
   },
   {
    "duration": 35,
    "start_time": "2021-07-19T08:44:30.876Z"
   },
   {
    "duration": 28,
    "start_time": "2021-07-19T08:44:30.914Z"
   },
   {
    "duration": 41,
    "start_time": "2021-07-19T08:44:30.945Z"
   },
   {
    "duration": 34,
    "start_time": "2021-07-19T08:44:30.989Z"
   },
   {
    "duration": 26,
    "start_time": "2021-07-19T08:44:31.026Z"
   },
   {
    "duration": 29,
    "start_time": "2021-07-19T08:44:31.062Z"
   },
   {
    "duration": 19,
    "start_time": "2021-07-19T08:44:31.093Z"
   },
   {
    "duration": 18,
    "start_time": "2021-07-19T08:44:31.114Z"
   },
   {
    "duration": 25,
    "start_time": "2021-07-19T08:44:31.135Z"
   },
   {
    "duration": 10,
    "start_time": "2021-07-19T08:44:31.163Z"
   },
   {
    "duration": 50,
    "start_time": "2021-07-19T08:44:31.176Z"
   },
   {
    "duration": 21,
    "start_time": "2021-07-19T08:44:31.229Z"
   },
   {
    "duration": 24,
    "start_time": "2021-07-19T08:44:31.252Z"
   },
   {
    "duration": 986,
    "start_time": "2021-07-19T08:44:31.278Z"
   },
   {
    "duration": 11,
    "start_time": "2021-07-19T08:44:32.267Z"
   },
   {
    "duration": 63,
    "start_time": "2021-07-19T08:44:32.280Z"
   },
   {
    "duration": 11,
    "start_time": "2021-07-19T08:44:32.346Z"
   },
   {
    "duration": 645,
    "start_time": "2021-07-19T08:44:32.360Z"
   },
   {
    "duration": 4,
    "start_time": "2021-07-19T08:44:33.007Z"
   },
   {
    "duration": 19,
    "start_time": "2021-07-19T08:44:33.014Z"
   },
   {
    "duration": 38,
    "start_time": "2021-07-19T08:44:33.036Z"
   },
   {
    "duration": 630,
    "start_time": "2021-07-19T08:44:33.077Z"
   },
   {
    "duration": 6,
    "start_time": "2021-07-19T08:44:33.710Z"
   },
   {
    "duration": 12,
    "start_time": "2021-07-19T08:44:33.718Z"
   },
   {
    "duration": 14,
    "start_time": "2021-07-19T08:44:33.733Z"
   },
   {
    "duration": 781,
    "start_time": "2021-07-19T08:44:33.762Z"
   },
   {
    "duration": 16,
    "start_time": "2021-07-19T08:44:34.546Z"
   },
   {
    "duration": 15,
    "start_time": "2021-07-19T08:44:34.564Z"
   },
   {
    "duration": 17,
    "start_time": "2021-07-19T08:44:34.581Z"
   },
   {
    "duration": 16,
    "start_time": "2021-07-19T08:44:34.601Z"
   },
   {
    "duration": 512,
    "start_time": "2021-07-19T08:44:34.619Z"
   },
   {
    "duration": 5,
    "start_time": "2021-07-19T08:44:35.134Z"
   },
   {
    "duration": 35,
    "start_time": "2021-07-19T08:44:35.143Z"
   },
   {
    "duration": 30,
    "start_time": "2021-07-19T08:44:35.181Z"
   },
   {
    "duration": 657,
    "start_time": "2021-07-19T08:44:35.219Z"
   },
   {
    "duration": 12,
    "start_time": "2021-07-19T08:44:35.880Z"
   },
   {
    "duration": 10,
    "start_time": "2021-07-19T08:44:35.894Z"
   },
   {
    "duration": 14,
    "start_time": "2021-07-19T08:44:35.906Z"
   },
   {
    "duration": 8,
    "start_time": "2021-07-19T08:44:35.922Z"
   },
   {
    "duration": 850,
    "start_time": "2021-07-19T08:44:35.961Z"
   },
   {
    "duration": 10,
    "start_time": "2021-07-19T08:44:36.814Z"
   },
   {
    "duration": 54,
    "start_time": "2021-07-19T08:44:36.826Z"
   },
   {
    "duration": 1085,
    "start_time": "2021-07-19T08:44:36.882Z"
   },
   {
    "duration": 13,
    "start_time": "2021-07-19T08:44:37.969Z"
   },
   {
    "duration": 21,
    "start_time": "2021-07-19T08:44:37.985Z"
   },
   {
    "duration": 9,
    "start_time": "2021-07-19T08:44:38.008Z"
   },
   {
    "duration": 6000,
    "start_time": "2021-07-19T08:44:38.020Z"
   },
   {
    "duration": 21,
    "start_time": "2021-07-19T08:44:44.023Z"
   },
   {
    "duration": 702,
    "start_time": "2021-07-19T08:44:44.046Z"
   },
   {
    "duration": 20,
    "start_time": "2021-07-19T08:44:44.750Z"
   },
   {
    "duration": 8,
    "start_time": "2021-07-19T08:44:44.773Z"
   },
   {
    "duration": 15,
    "start_time": "2021-07-19T08:44:44.783Z"
   },
   {
    "duration": 6,
    "start_time": "2021-07-19T08:44:44.801Z"
   },
   {
    "duration": 14,
    "start_time": "2021-07-19T08:44:44.809Z"
   },
   {
    "duration": 40,
    "start_time": "2021-07-19T08:44:44.826Z"
   },
   {
    "duration": 578,
    "start_time": "2021-07-19T08:44:44.869Z"
   },
   {
    "duration": 16,
    "start_time": "2021-07-19T08:44:45.450Z"
   },
   {
    "duration": 11,
    "start_time": "2021-07-19T08:44:45.470Z"
   },
   {
    "duration": 11,
    "start_time": "2021-07-19T08:44:45.483Z"
   },
   {
    "duration": 730,
    "start_time": "2021-07-19T08:44:45.497Z"
   },
   {
    "duration": 13,
    "start_time": "2021-07-19T08:44:46.231Z"
   },
   {
    "duration": 14,
    "start_time": "2021-07-19T08:44:46.262Z"
   },
   {
    "duration": 14,
    "start_time": "2021-07-19T08:44:46.279Z"
   },
   {
    "duration": 669,
    "start_time": "2021-07-19T08:44:46.295Z"
   },
   {
    "duration": 11,
    "start_time": "2021-07-19T08:44:46.968Z"
   },
   {
    "duration": 12,
    "start_time": "2021-07-19T08:44:46.982Z"
   },
   {
    "duration": 13,
    "start_time": "2021-07-19T08:44:46.996Z"
   },
   {
    "duration": 50,
    "start_time": "2021-07-19T08:44:47.012Z"
   },
   {
    "duration": 14,
    "start_time": "2021-07-19T08:44:47.065Z"
   },
   {
    "duration": 11,
    "start_time": "2021-07-19T08:44:47.081Z"
   },
   {
    "duration": 822,
    "start_time": "2021-07-19T08:54:32.411Z"
   },
   {
    "duration": 832,
    "start_time": "2021-07-19T08:55:30.983Z"
   },
   {
    "duration": 844,
    "start_time": "2021-07-19T09:22:15.496Z"
   },
   {
    "duration": 875,
    "start_time": "2021-07-19T09:22:37.458Z"
   },
   {
    "duration": 830,
    "start_time": "2021-07-19T09:52:12.931Z"
   },
   {
    "duration": 969,
    "start_time": "2021-07-19T09:52:22.686Z"
   },
   {
    "duration": 859,
    "start_time": "2021-07-19T09:52:27.591Z"
   },
   {
    "duration": 821,
    "start_time": "2021-07-19T09:52:31.844Z"
   },
   {
    "duration": 831,
    "start_time": "2021-07-19T09:52:41.101Z"
   },
   {
    "duration": 829,
    "start_time": "2021-07-19T09:52:47.289Z"
   },
   {
    "duration": 3,
    "start_time": "2021-07-22T13:33:07.456Z"
   },
   {
    "duration": 6,
    "start_time": "2021-07-22T13:33:07.461Z"
   },
   {
    "duration": 6,
    "start_time": "2021-07-22T13:33:07.469Z"
   },
   {
    "duration": 4,
    "start_time": "2021-07-22T13:33:07.477Z"
   },
   {
    "duration": 4,
    "start_time": "2021-07-22T13:33:07.483Z"
   },
   {
    "duration": 7,
    "start_time": "2021-07-22T13:33:07.489Z"
   },
   {
    "duration": 1544,
    "start_time": "2021-07-22T13:33:07.498Z"
   },
   {
    "duration": -30,
    "start_time": "2021-07-22T13:33:09.075Z"
   },
   {
    "duration": -33,
    "start_time": "2021-07-22T13:33:09.078Z"
   },
   {
    "duration": -36,
    "start_time": "2021-07-22T13:33:09.082Z"
   },
   {
    "duration": -125,
    "start_time": "2021-07-22T13:33:09.172Z"
   },
   {
    "duration": -131,
    "start_time": "2021-07-22T13:33:09.179Z"
   },
   {
    "duration": -133,
    "start_time": "2021-07-22T13:33:09.182Z"
   },
   {
    "duration": -135,
    "start_time": "2021-07-22T13:33:09.185Z"
   },
   {
    "duration": -139,
    "start_time": "2021-07-22T13:33:09.190Z"
   },
   {
    "duration": -142,
    "start_time": "2021-07-22T13:33:09.194Z"
   },
   {
    "duration": -146,
    "start_time": "2021-07-22T13:33:09.198Z"
   },
   {
    "duration": -150,
    "start_time": "2021-07-22T13:33:09.203Z"
   },
   {
    "duration": -153,
    "start_time": "2021-07-22T13:33:09.207Z"
   },
   {
    "duration": -155,
    "start_time": "2021-07-22T13:33:09.210Z"
   },
   {
    "duration": -157,
    "start_time": "2021-07-22T13:33:09.213Z"
   },
   {
    "duration": -159,
    "start_time": "2021-07-22T13:33:09.216Z"
   },
   {
    "duration": -162,
    "start_time": "2021-07-22T13:33:09.220Z"
   },
   {
    "duration": -165,
    "start_time": "2021-07-22T13:33:09.224Z"
   },
   {
    "duration": -169,
    "start_time": "2021-07-22T13:33:09.229Z"
   },
   {
    "duration": -171,
    "start_time": "2021-07-22T13:33:09.232Z"
   },
   {
    "duration": -174,
    "start_time": "2021-07-22T13:33:09.236Z"
   },
   {
    "duration": -175,
    "start_time": "2021-07-22T13:33:09.238Z"
   },
   {
    "duration": -177,
    "start_time": "2021-07-22T13:33:09.241Z"
   },
   {
    "duration": -180,
    "start_time": "2021-07-22T13:33:09.245Z"
   },
   {
    "duration": -183,
    "start_time": "2021-07-22T13:33:09.248Z"
   },
   {
    "duration": -213,
    "start_time": "2021-07-22T13:33:09.279Z"
   },
   {
    "duration": -216,
    "start_time": "2021-07-22T13:33:09.283Z"
   },
   {
    "duration": -218,
    "start_time": "2021-07-22T13:33:09.286Z"
   },
   {
    "duration": -221,
    "start_time": "2021-07-22T13:33:09.289Z"
   },
   {
    "duration": -224,
    "start_time": "2021-07-22T13:33:09.293Z"
   },
   {
    "duration": -227,
    "start_time": "2021-07-22T13:33:09.297Z"
   },
   {
    "duration": -230,
    "start_time": "2021-07-22T13:33:09.301Z"
   },
   {
    "duration": -231,
    "start_time": "2021-07-22T13:33:09.303Z"
   },
   {
    "duration": 3,
    "start_time": "2021-07-22T13:33:56.277Z"
   },
   {
    "duration": 6,
    "start_time": "2021-07-22T13:33:56.282Z"
   },
   {
    "duration": 10,
    "start_time": "2021-07-22T13:33:56.289Z"
   },
   {
    "duration": 9,
    "start_time": "2021-07-22T13:33:56.301Z"
   },
   {
    "duration": 1168,
    "start_time": "2021-07-22T13:33:56.311Z"
   },
   {
    "duration": 392,
    "start_time": "2021-07-22T13:33:57.480Z"
   },
   {
    "duration": 6,
    "start_time": "2021-07-22T13:33:57.874Z"
   },
   {
    "duration": 13,
    "start_time": "2021-07-22T13:33:57.882Z"
   },
   {
    "duration": 18,
    "start_time": "2021-07-22T13:33:57.896Z"
   },
   {
    "duration": 978,
    "start_time": "2021-07-22T13:33:57.915Z"
   },
   {
    "duration": -111,
    "start_time": "2021-07-22T13:33:59.007Z"
   },
   {
    "duration": -114,
    "start_time": "2021-07-22T13:33:59.011Z"
   },
   {
    "duration": -119,
    "start_time": "2021-07-22T13:33:59.017Z"
   },
   {
    "duration": -122,
    "start_time": "2021-07-22T13:33:59.021Z"
   },
   {
    "duration": -183,
    "start_time": "2021-07-22T13:33:59.084Z"
   },
   {
    "duration": -185,
    "start_time": "2021-07-22T13:33:59.087Z"
   },
   {
    "duration": -187,
    "start_time": "2021-07-22T13:33:59.091Z"
   },
   {
    "duration": -190,
    "start_time": "2021-07-22T13:33:59.095Z"
   },
   {
    "duration": -191,
    "start_time": "2021-07-22T13:33:59.098Z"
   },
   {
    "duration": -194,
    "start_time": "2021-07-22T13:33:59.102Z"
   },
   {
    "duration": -195,
    "start_time": "2021-07-22T13:33:59.105Z"
   },
   {
    "duration": -197,
    "start_time": "2021-07-22T13:33:59.108Z"
   },
   {
    "duration": -172,
    "start_time": "2021-07-22T13:33:59.112Z"
   },
   {
    "duration": -174,
    "start_time": "2021-07-22T13:33:59.115Z"
   },
   {
    "duration": -175,
    "start_time": "2021-07-22T13:33:59.118Z"
   },
   {
    "duration": -176,
    "start_time": "2021-07-22T13:33:59.121Z"
   },
   {
    "duration": -177,
    "start_time": "2021-07-22T13:33:59.123Z"
   },
   {
    "duration": -179,
    "start_time": "2021-07-22T13:33:59.126Z"
   },
   {
    "duration": -180,
    "start_time": "2021-07-22T13:33:59.129Z"
   },
   {
    "duration": -181,
    "start_time": "2021-07-22T13:33:59.131Z"
   },
   {
    "duration": -183,
    "start_time": "2021-07-22T13:33:59.134Z"
   },
   {
    "duration": -185,
    "start_time": "2021-07-22T13:33:59.137Z"
   },
   {
    "duration": -186,
    "start_time": "2021-07-22T13:33:59.140Z"
   },
   {
    "duration": -187,
    "start_time": "2021-07-22T13:33:59.142Z"
   },
   {
    "duration": -189,
    "start_time": "2021-07-22T13:33:59.145Z"
   },
   {
    "duration": -189,
    "start_time": "2021-07-22T13:33:59.147Z"
   },
   {
    "duration": -191,
    "start_time": "2021-07-22T13:33:59.150Z"
   },
   {
    "duration": 7045,
    "start_time": "2021-07-22T13:34:26.193Z"
   },
   {
    "duration": 6858,
    "start_time": "2021-07-22T13:34:33.240Z"
   },
   {
    "duration": 4911,
    "start_time": "2021-07-22T13:34:40.100Z"
   },
   {
    "duration": 4746,
    "start_time": "2021-07-22T13:34:45.013Z"
   },
   {
    "duration": 1392,
    "start_time": "2021-07-22T13:34:49.761Z"
   },
   {
    "duration": 157,
    "start_time": "2021-07-22T13:34:51.155Z"
   },
   {
    "duration": 10,
    "start_time": "2021-07-22T13:34:51.314Z"
   },
   {
    "duration": 12,
    "start_time": "2021-07-22T13:34:51.328Z"
   },
   {
    "duration": 15,
    "start_time": "2021-07-22T13:34:51.343Z"
   },
   {
    "duration": 301,
    "start_time": "2021-07-22T13:34:51.360Z"
   },
   {
    "duration": 9,
    "start_time": "2021-07-22T13:34:51.663Z"
   },
   {
    "duration": 14,
    "start_time": "2021-07-22T13:34:51.674Z"
   },
   {
    "duration": 21,
    "start_time": "2021-07-22T13:34:51.690Z"
   },
   {
    "duration": 316,
    "start_time": "2021-07-22T13:34:51.712Z"
   },
   {
    "duration": 14,
    "start_time": "2021-07-22T13:34:52.030Z"
   },
   {
    "duration": 22,
    "start_time": "2021-07-22T13:34:52.046Z"
   },
   {
    "duration": 11,
    "start_time": "2021-07-22T13:34:52.069Z"
   },
   {
    "duration": 11,
    "start_time": "2021-07-22T13:34:52.082Z"
   },
   {
    "duration": 385,
    "start_time": "2021-07-22T13:34:52.094Z"
   },
   {
    "duration": 8,
    "start_time": "2021-07-22T13:34:52.481Z"
   },
   {
    "duration": 15,
    "start_time": "2021-07-22T13:34:52.490Z"
   },
   {
    "duration": 11,
    "start_time": "2021-07-22T13:34:52.506Z"
   },
   {
    "duration": 4,
    "start_time": "2021-07-22T13:34:52.521Z"
   },
   {
    "duration": 17,
    "start_time": "2021-07-22T13:34:52.527Z"
   },
   {
    "duration": 9,
    "start_time": "2021-07-22T13:34:52.546Z"
   },
   {
    "duration": 3,
    "start_time": "2021-07-22T13:34:52.557Z"
   },
   {
    "duration": 13,
    "start_time": "2021-07-22T13:34:52.561Z"
   },
   {
    "duration": 22,
    "start_time": "2021-07-22T13:34:52.576Z"
   },
   {
    "duration": 20,
    "start_time": "2021-07-22T13:34:52.600Z"
   },
   {
    "duration": 11,
    "start_time": "2021-07-22T13:34:52.622Z"
   },
   {
    "duration": 19,
    "start_time": "2021-07-22T13:34:52.635Z"
   },
   {
    "duration": 26,
    "start_time": "2021-07-22T13:34:52.656Z"
   },
   {
    "duration": 26,
    "start_time": "2021-07-22T13:34:52.684Z"
   },
   {
    "duration": 1074,
    "start_time": "2021-07-22T13:34:52.712Z"
   },
   {
    "duration": 202,
    "start_time": "2021-07-22T13:34:53.788Z"
   },
   {
    "duration": 8,
    "start_time": "2021-07-22T13:34:53.992Z"
   },
   {
    "duration": 18,
    "start_time": "2021-07-22T13:34:54.002Z"
   },
   {
    "duration": 6,
    "start_time": "2021-08-11T08:51:25.070Z"
   },
   {
    "duration": 4,
    "start_time": "2021-08-11T08:51:25.083Z"
   },
   {
    "duration": 4,
    "start_time": "2021-08-11T08:51:25.093Z"
   },
   {
    "duration": 5,
    "start_time": "2021-08-11T08:51:25.100Z"
   },
   {
    "duration": 8,
    "start_time": "2021-08-11T08:51:25.108Z"
   },
   {
    "duration": 2611,
    "start_time": "2021-08-11T08:51:25.119Z"
   },
   {
    "duration": 8,
    "start_time": "2021-08-11T08:51:27.735Z"
   },
   {
    "duration": 0,
    "start_time": "2021-08-11T08:51:27.745Z"
   },
   {
    "duration": -72,
    "start_time": "2021-08-11T08:51:27.819Z"
   },
   {
    "duration": -643,
    "start_time": "2021-08-11T08:51:28.392Z"
   },
   {
    "duration": -650,
    "start_time": "2021-08-11T08:51:28.401Z"
   },
   {
    "duration": -657,
    "start_time": "2021-08-11T08:51:28.409Z"
   },
   {
    "duration": -663,
    "start_time": "2021-08-11T08:51:28.417Z"
   },
   {
    "duration": -668,
    "start_time": "2021-08-11T08:51:28.424Z"
   },
   {
    "duration": -674,
    "start_time": "2021-08-11T08:51:28.432Z"
   },
   {
    "duration": -680,
    "start_time": "2021-08-11T08:51:28.440Z"
   },
   {
    "duration": -687,
    "start_time": "2021-08-11T08:51:28.449Z"
   },
   {
    "duration": -694,
    "start_time": "2021-08-11T08:51:28.458Z"
   },
   {
    "duration": -701,
    "start_time": "2021-08-11T08:51:28.466Z"
   },
   {
    "duration": -708,
    "start_time": "2021-08-11T08:51:28.475Z"
   },
   {
    "duration": -714,
    "start_time": "2021-08-11T08:51:28.484Z"
   },
   {
    "duration": -730,
    "start_time": "2021-08-11T08:51:28.502Z"
   },
   {
    "duration": -739,
    "start_time": "2021-08-11T08:51:28.512Z"
   },
   {
    "duration": -750,
    "start_time": "2021-08-11T08:51:28.525Z"
   },
   {
    "duration": -757,
    "start_time": "2021-08-11T08:51:28.534Z"
   },
   {
    "duration": -773,
    "start_time": "2021-08-11T08:51:28.552Z"
   },
   {
    "duration": -789,
    "start_time": "2021-08-11T08:51:28.570Z"
   },
   {
    "duration": -984,
    "start_time": "2021-08-11T08:51:28.767Z"
   },
   {
    "duration": -995,
    "start_time": "2021-08-11T08:51:28.780Z"
   },
   {
    "duration": -1005,
    "start_time": "2021-08-11T08:51:28.791Z"
   },
   {
    "duration": -1012,
    "start_time": "2021-08-11T08:51:28.800Z"
   },
   {
    "duration": -1019,
    "start_time": "2021-08-11T08:51:28.809Z"
   },
   {
    "duration": -1026,
    "start_time": "2021-08-11T08:51:28.818Z"
   },
   {
    "duration": -1033,
    "start_time": "2021-08-11T08:51:28.827Z"
   },
   {
    "duration": -1039,
    "start_time": "2021-08-11T08:51:28.835Z"
   },
   {
    "duration": -1047,
    "start_time": "2021-08-11T08:51:28.844Z"
   },
   {
    "duration": -1053,
    "start_time": "2021-08-11T08:51:28.852Z"
   },
   {
    "duration": -1084,
    "start_time": "2021-08-11T08:51:28.884Z"
   },
   {
    "duration": -1043,
    "start_time": "2021-08-11T08:51:28.898Z"
   },
   {
    "duration": -1052,
    "start_time": "2021-08-11T08:51:28.909Z"
   },
   {
    "duration": -1058,
    "start_time": "2021-08-11T08:51:28.917Z"
   },
   {
    "duration": -1067,
    "start_time": "2021-08-11T08:51:28.927Z"
   },
   {
    "duration": -1073,
    "start_time": "2021-08-11T08:51:28.935Z"
   },
   {
    "duration": -1079,
    "start_time": "2021-08-11T08:51:28.943Z"
   },
   {
    "duration": -1086,
    "start_time": "2021-08-11T08:51:28.952Z"
   },
   {
    "duration": -1092,
    "start_time": "2021-08-11T08:51:28.960Z"
   },
   {
    "duration": -1098,
    "start_time": "2021-08-11T08:51:28.968Z"
   },
   {
    "duration": -1105,
    "start_time": "2021-08-11T08:51:28.977Z"
   },
   {
    "duration": -1142,
    "start_time": "2021-08-11T08:51:29.015Z"
   },
   {
    "duration": -1151,
    "start_time": "2021-08-11T08:51:29.026Z"
   },
   {
    "duration": -1159,
    "start_time": "2021-08-11T08:51:29.036Z"
   },
   {
    "duration": -1168,
    "start_time": "2021-08-11T08:51:29.047Z"
   },
   {
    "duration": -1175,
    "start_time": "2021-08-11T08:51:29.056Z"
   },
   {
    "duration": -1184,
    "start_time": "2021-08-11T08:51:29.067Z"
   },
   {
    "duration": -1193,
    "start_time": "2021-08-11T08:51:29.078Z"
   },
   {
    "duration": -1201,
    "start_time": "2021-08-11T08:51:29.088Z"
   },
   {
    "duration": -1210,
    "start_time": "2021-08-11T08:51:29.099Z"
   },
   {
    "duration": -1231,
    "start_time": "2021-08-11T08:51:29.121Z"
   },
   {
    "duration": -1176,
    "start_time": "2021-08-11T08:51:29.133Z"
   },
   {
    "duration": -1187,
    "start_time": "2021-08-11T08:51:29.146Z"
   },
   {
    "duration": -1197,
    "start_time": "2021-08-11T08:51:29.158Z"
   },
   {
    "duration": -1208,
    "start_time": "2021-08-11T08:51:29.171Z"
   },
   {
    "duration": -1216,
    "start_time": "2021-08-11T08:51:29.181Z"
   },
   {
    "duration": -1226,
    "start_time": "2021-08-11T08:51:29.193Z"
   },
   {
    "duration": -1234,
    "start_time": "2021-08-11T08:51:29.203Z"
   },
   {
    "duration": -1243,
    "start_time": "2021-08-11T08:51:29.214Z"
   },
   {
    "duration": -1302,
    "start_time": "2021-08-11T08:51:29.275Z"
   },
   {
    "duration": -1310,
    "start_time": "2021-08-11T08:51:29.285Z"
   },
   {
    "duration": -1318,
    "start_time": "2021-08-11T08:51:29.295Z"
   },
   {
    "duration": -1325,
    "start_time": "2021-08-11T08:51:29.305Z"
   },
   {
    "duration": -1331,
    "start_time": "2021-08-11T08:51:29.313Z"
   },
   {
    "duration": -1338,
    "start_time": "2021-08-11T08:51:29.322Z"
   },
   {
    "duration": -1346,
    "start_time": "2021-08-11T08:51:29.332Z"
   },
   {
    "duration": -1354,
    "start_time": "2021-08-11T08:51:29.342Z"
   },
   {
    "duration": -1361,
    "start_time": "2021-08-11T08:51:29.351Z"
   },
   {
    "duration": -1369,
    "start_time": "2021-08-11T08:51:29.361Z"
   },
   {
    "duration": -1351,
    "start_time": "2021-08-11T08:51:29.406Z"
   },
   {
    "duration": -1358,
    "start_time": "2021-08-11T08:51:29.415Z"
   },
   {
    "duration": -1367,
    "start_time": "2021-08-11T08:51:29.426Z"
   },
   {
    "duration": -1374,
    "start_time": "2021-08-11T08:51:29.437Z"
   },
   {
    "duration": -1382,
    "start_time": "2021-08-11T08:51:29.447Z"
   },
   {
    "duration": -1390,
    "start_time": "2021-08-11T08:51:29.457Z"
   },
   {
    "duration": -1398,
    "start_time": "2021-08-11T08:51:29.467Z"
   },
   {
    "duration": -1407,
    "start_time": "2021-08-11T08:51:29.478Z"
   },
   {
    "duration": -1415,
    "start_time": "2021-08-11T08:51:29.488Z"
   },
   {
    "duration": -1448,
    "start_time": "2021-08-11T08:51:29.523Z"
   },
   {
    "duration": -1459,
    "start_time": "2021-08-11T08:51:29.535Z"
   },
   {
    "duration": -1469,
    "start_time": "2021-08-11T08:51:29.547Z"
   },
   {
    "duration": -1480,
    "start_time": "2021-08-11T08:51:29.560Z"
   },
   {
    "duration": -1492,
    "start_time": "2021-08-11T08:51:29.574Z"
   },
   {
    "duration": -1502,
    "start_time": "2021-08-11T08:51:29.586Z"
   },
   {
    "duration": -1516,
    "start_time": "2021-08-11T08:51:29.601Z"
   },
   {
    "duration": -1526,
    "start_time": "2021-08-11T08:51:29.613Z"
   },
   {
    "duration": -1567,
    "start_time": "2021-08-11T08:51:29.656Z"
   },
   {
    "duration": -1580,
    "start_time": "2021-08-11T08:51:29.671Z"
   },
   {
    "duration": -1527,
    "start_time": "2021-08-11T08:51:29.681Z"
   },
   {
    "duration": -1534,
    "start_time": "2021-08-11T08:51:29.690Z"
   },
   {
    "duration": -1543,
    "start_time": "2021-08-11T08:51:29.701Z"
   },
   {
    "duration": -1551,
    "start_time": "2021-08-11T08:51:29.710Z"
   },
   {
    "duration": -1558,
    "start_time": "2021-08-11T08:51:29.719Z"
   },
   {
    "duration": -1564,
    "start_time": "2021-08-11T08:51:29.727Z"
   },
   {
    "duration": -1570,
    "start_time": "2021-08-11T08:51:29.736Z"
   },
   {
    "duration": -1578,
    "start_time": "2021-08-11T08:51:29.745Z"
   },
   {
    "duration": -1613,
    "start_time": "2021-08-11T08:51:29.782Z"
   },
   {
    "duration": -1626,
    "start_time": "2021-08-11T08:51:29.797Z"
   },
   {
    "duration": -1634,
    "start_time": "2021-08-11T08:51:29.807Z"
   },
   {
    "duration": -1643,
    "start_time": "2021-08-11T08:51:29.817Z"
   },
   {
    "duration": -1653,
    "start_time": "2021-08-11T08:51:29.829Z"
   },
   {
    "duration": -1663,
    "start_time": "2021-08-11T08:51:29.840Z"
   },
   {
    "duration": -1674,
    "start_time": "2021-08-11T08:51:29.853Z"
   },
   {
    "duration": -1684,
    "start_time": "2021-08-11T08:51:29.864Z"
   },
   {
    "duration": -1696,
    "start_time": "2021-08-11T08:51:29.878Z"
   },
   {
    "duration": -1736,
    "start_time": "2021-08-11T08:51:29.919Z"
   },
   {
    "duration": -1751,
    "start_time": "2021-08-11T08:51:29.936Z"
   },
   {
    "duration": -1759,
    "start_time": "2021-08-11T08:51:29.945Z"
   },
   {
    "duration": -1769,
    "start_time": "2021-08-11T08:51:29.957Z"
   },
   {
    "duration": -1779,
    "start_time": "2021-08-11T08:51:29.968Z"
   },
   {
    "duration": -1787,
    "start_time": "2021-08-11T08:51:29.978Z"
   },
   {
    "duration": -1794,
    "start_time": "2021-08-11T08:51:29.986Z"
   },
   {
    "duration": 10784,
    "start_time": "2021-08-11T08:52:33.514Z"
   },
   {
    "duration": 455,
    "start_time": "2021-08-11T08:52:46.304Z"
   },
   {
    "duration": 4,
    "start_time": "2021-08-11T08:53:04.329Z"
   },
   {
    "duration": 19,
    "start_time": "2021-08-11T08:53:04.338Z"
   },
   {
    "duration": 44,
    "start_time": "2021-08-11T08:53:04.360Z"
   },
   {
    "duration": 33,
    "start_time": "2021-08-11T08:53:04.408Z"
   },
   {
    "duration": 33,
    "start_time": "2021-08-11T08:53:04.444Z"
   },
   {
    "duration": 52,
    "start_time": "2021-08-11T08:53:04.479Z"
   },
   {
    "duration": 2028,
    "start_time": "2021-08-11T08:53:04.533Z"
   },
   {
    "duration": 937,
    "start_time": "2021-08-11T08:53:06.564Z"
   },
   {
    "duration": 4,
    "start_time": "2021-08-11T08:53:07.506Z"
   },
   {
    "duration": 228,
    "start_time": "2021-08-11T08:53:07.515Z"
   },
   {
    "duration": 34,
    "start_time": "2021-08-11T08:53:07.746Z"
   },
   {
    "duration": 861,
    "start_time": "2021-08-11T08:53:07.782Z"
   },
   {
    "duration": 273,
    "start_time": "2021-08-11T08:53:08.646Z"
   },
   {
    "duration": 15,
    "start_time": "2021-08-11T08:53:08.921Z"
   },
   {
    "duration": 67,
    "start_time": "2021-08-11T08:53:08.939Z"
   },
   {
    "duration": 16,
    "start_time": "2021-08-11T08:53:09.008Z"
   },
   {
    "duration": 34,
    "start_time": "2021-08-11T08:53:09.026Z"
   },
   {
    "duration": 96,
    "start_time": "2021-08-11T08:53:09.063Z"
   },
   {
    "duration": 14,
    "start_time": "2021-08-11T08:53:09.161Z"
   },
   {
    "duration": 43,
    "start_time": "2021-08-11T08:53:09.178Z"
   },
   {
    "duration": 34,
    "start_time": "2021-08-11T08:53:09.224Z"
   },
   {
    "duration": 39,
    "start_time": "2021-08-11T08:53:09.261Z"
   },
   {
    "duration": 30,
    "start_time": "2021-08-11T08:53:09.303Z"
   },
   {
    "duration": 17,
    "start_time": "2021-08-11T08:53:09.341Z"
   },
   {
    "duration": 40,
    "start_time": "2021-08-11T08:53:09.362Z"
   },
   {
    "duration": 54,
    "start_time": "2021-08-11T08:53:09.405Z"
   },
   {
    "duration": 27,
    "start_time": "2021-08-11T08:53:09.463Z"
   },
   {
    "duration": 28,
    "start_time": "2021-08-11T08:53:09.493Z"
   },
   {
    "duration": 35,
    "start_time": "2021-08-11T08:53:09.524Z"
   },
   {
    "duration": 176,
    "start_time": "2021-08-11T08:53:09.562Z"
   },
   {
    "duration": 22,
    "start_time": "2021-08-11T08:53:09.741Z"
   },
   {
    "duration": 23,
    "start_time": "2021-08-11T08:53:09.766Z"
   },
   {
    "duration": 52,
    "start_time": "2021-08-11T08:53:09.791Z"
   },
   {
    "duration": 4740,
    "start_time": "2021-08-11T08:53:09.846Z"
   },
   {
    "duration": 5085,
    "start_time": "2021-08-11T08:53:14.588Z"
   },
   {
    "duration": 118,
    "start_time": "2021-08-11T08:53:19.675Z"
   },
   {
    "duration": 1294,
    "start_time": "2021-08-11T08:53:19.795Z"
   },
   {
    "duration": -43,
    "start_time": "2021-08-11T08:53:21.136Z"
   },
   {
    "duration": -154,
    "start_time": "2021-08-11T08:53:21.249Z"
   },
   {
    "duration": -203,
    "start_time": "2021-08-11T08:53:21.299Z"
   },
   {
    "duration": -472,
    "start_time": "2021-08-11T08:53:21.569Z"
   },
   {
    "duration": -479,
    "start_time": "2021-08-11T08:53:21.578Z"
   },
   {
    "duration": -485,
    "start_time": "2021-08-11T08:53:21.585Z"
   },
   {
    "duration": -494,
    "start_time": "2021-08-11T08:53:21.595Z"
   },
   {
    "duration": -500,
    "start_time": "2021-08-11T08:53:21.603Z"
   },
   {
    "duration": -508,
    "start_time": "2021-08-11T08:53:21.612Z"
   },
   {
    "duration": -514,
    "start_time": "2021-08-11T08:53:21.619Z"
   },
   {
    "duration": -522,
    "start_time": "2021-08-11T08:53:21.628Z"
   },
   {
    "duration": -527,
    "start_time": "2021-08-11T08:53:21.635Z"
   },
   {
    "duration": -536,
    "start_time": "2021-08-11T08:53:21.645Z"
   },
   {
    "duration": -543,
    "start_time": "2021-08-11T08:53:21.653Z"
   },
   {
    "duration": -551,
    "start_time": "2021-08-11T08:53:21.662Z"
   },
   {
    "duration": -570,
    "start_time": "2021-08-11T08:53:21.682Z"
   },
   {
    "duration": -578,
    "start_time": "2021-08-11T08:53:21.692Z"
   },
   {
    "duration": -584,
    "start_time": "2021-08-11T08:53:21.699Z"
   },
   {
    "duration": -591,
    "start_time": "2021-08-11T08:53:21.707Z"
   },
   {
    "duration": -597,
    "start_time": "2021-08-11T08:53:21.714Z"
   },
   {
    "duration": -604,
    "start_time": "2021-08-11T08:53:21.722Z"
   },
   {
    "duration": -612,
    "start_time": "2021-08-11T08:53:21.731Z"
   },
   {
    "duration": -619,
    "start_time": "2021-08-11T08:53:21.740Z"
   },
   {
    "duration": -626,
    "start_time": "2021-08-11T08:53:21.748Z"
   },
   {
    "duration": -633,
    "start_time": "2021-08-11T08:53:21.756Z"
   },
   {
    "duration": -638,
    "start_time": "2021-08-11T08:53:21.763Z"
   },
   {
    "duration": -645,
    "start_time": "2021-08-11T08:53:21.771Z"
   },
   {
    "duration": -652,
    "start_time": "2021-08-11T08:53:21.779Z"
   },
   {
    "duration": -693,
    "start_time": "2021-08-11T08:53:21.821Z"
   },
   {
    "duration": -703,
    "start_time": "2021-08-11T08:53:21.832Z"
   },
   {
    "duration": -686,
    "start_time": "2021-08-11T08:53:21.840Z"
   },
   {
    "duration": -692,
    "start_time": "2021-08-11T08:53:21.848Z"
   },
   {
    "duration": -699,
    "start_time": "2021-08-11T08:53:21.856Z"
   },
   {
    "duration": -705,
    "start_time": "2021-08-11T08:53:21.863Z"
   },
   {
    "duration": -712,
    "start_time": "2021-08-11T08:53:21.872Z"
   },
   {
    "duration": -717,
    "start_time": "2021-08-11T08:53:21.878Z"
   },
   {
    "duration": -724,
    "start_time": "2021-08-11T08:53:21.886Z"
   },
   {
    "duration": -730,
    "start_time": "2021-08-11T08:53:21.893Z"
   },
   {
    "duration": -737,
    "start_time": "2021-08-11T08:53:21.901Z"
   },
   {
    "duration": -742,
    "start_time": "2021-08-11T08:53:21.908Z"
   },
   {
    "duration": -749,
    "start_time": "2021-08-11T08:53:21.916Z"
   },
   {
    "duration": -785,
    "start_time": "2021-08-11T08:53:21.953Z"
   },
   {
    "duration": -793,
    "start_time": "2021-08-11T08:53:21.962Z"
   },
   {
    "duration": -799,
    "start_time": "2021-08-11T08:53:21.970Z"
   },
   {
    "duration": -806,
    "start_time": "2021-08-11T08:53:21.978Z"
   },
   {
    "duration": -813,
    "start_time": "2021-08-11T08:53:21.986Z"
   },
   {
    "duration": -821,
    "start_time": "2021-08-11T08:53:21.995Z"
   },
   {
    "duration": -828,
    "start_time": "2021-08-11T08:53:22.003Z"
   },
   {
    "duration": -835,
    "start_time": "2021-08-11T08:53:22.012Z"
   },
   {
    "duration": -841,
    "start_time": "2021-08-11T08:53:22.019Z"
   },
   {
    "duration": -849,
    "start_time": "2021-08-11T08:53:22.028Z"
   },
   {
    "duration": -855,
    "start_time": "2021-08-11T08:53:22.035Z"
   },
   {
    "duration": -862,
    "start_time": "2021-08-11T08:53:22.044Z"
   },
   {
    "duration": -895,
    "start_time": "2021-08-11T08:53:22.078Z"
   },
   {
    "duration": -975,
    "start_time": "2021-08-11T08:53:22.159Z"
   },
   {
    "duration": -980,
    "start_time": "2021-08-11T08:53:22.165Z"
   },
   {
    "duration": -986,
    "start_time": "2021-08-11T08:53:22.172Z"
   },
   {
    "duration": -1003,
    "start_time": "2021-08-11T08:53:22.191Z"
   },
   {
    "duration": -1012,
    "start_time": "2021-08-11T08:53:22.201Z"
   },
   {
    "duration": -1019,
    "start_time": "2021-08-11T08:53:22.209Z"
   },
   {
    "duration": -965,
    "start_time": "2021-08-11T08:53:22.219Z"
   },
   {
    "duration": -971,
    "start_time": "2021-08-11T08:53:22.227Z"
   },
   {
    "duration": -978,
    "start_time": "2021-08-11T08:53:22.235Z"
   },
   {
    "duration": -984,
    "start_time": "2021-08-11T08:53:22.243Z"
   },
   {
    "duration": -992,
    "start_time": "2021-08-11T08:53:22.252Z"
   },
   {
    "duration": -998,
    "start_time": "2021-08-11T08:53:22.259Z"
   },
   {
    "duration": -1005,
    "start_time": "2021-08-11T08:53:22.267Z"
   },
   {
    "duration": -1011,
    "start_time": "2021-08-11T08:53:22.275Z"
   },
   {
    "duration": -1018,
    "start_time": "2021-08-11T08:53:22.283Z"
   },
   {
    "duration": -1035,
    "start_time": "2021-08-11T08:53:22.302Z"
   },
   {
    "duration": -1043,
    "start_time": "2021-08-11T08:53:22.311Z"
   },
   {
    "duration": -1049,
    "start_time": "2021-08-11T08:53:22.318Z"
   },
   {
    "duration": -1053,
    "start_time": "2021-08-11T08:53:22.324Z"
   },
   {
    "duration": -1060,
    "start_time": "2021-08-11T08:53:22.332Z"
   },
   {
    "duration": -1066,
    "start_time": "2021-08-11T08:53:22.339Z"
   },
   {
    "duration": -1071,
    "start_time": "2021-08-11T08:53:22.345Z"
   },
   {
    "duration": -1075,
    "start_time": "2021-08-11T08:53:22.351Z"
   },
   {
    "duration": -1081,
    "start_time": "2021-08-11T08:53:22.358Z"
   },
   {
    "duration": -1086,
    "start_time": "2021-08-11T08:53:22.364Z"
   },
   {
    "duration": -1092,
    "start_time": "2021-08-11T08:53:22.371Z"
   },
   {
    "duration": -1098,
    "start_time": "2021-08-11T08:53:22.379Z"
   },
   {
    "duration": -1105,
    "start_time": "2021-08-11T08:53:22.387Z"
   },
   {
    "duration": -1112,
    "start_time": "2021-08-11T08:53:22.395Z"
   },
   {
    "duration": 9436,
    "start_time": "2021-08-11T08:53:45.194Z"
   },
   {
    "duration": 3690,
    "start_time": "2021-08-11T08:53:55.892Z"
   },
   {
    "duration": 7559,
    "start_time": "2021-08-11T08:54:03.866Z"
   },
   {
    "duration": 4275,
    "start_time": "2021-08-11T08:54:13.583Z"
   },
   {
    "duration": 20582,
    "start_time": "2021-08-11T08:54:19.988Z"
   },
   {
    "duration": 5,
    "start_time": "2021-08-11T08:55:04.746Z"
   },
   {
    "duration": 14,
    "start_time": "2021-08-11T08:55:04.754Z"
   },
   {
    "duration": 5,
    "start_time": "2021-08-11T08:55:04.772Z"
   },
   {
    "duration": 9,
    "start_time": "2021-08-11T08:55:04.780Z"
   },
   {
    "duration": 8,
    "start_time": "2021-08-11T08:55:04.791Z"
   },
   {
    "duration": 7,
    "start_time": "2021-08-11T08:55:04.802Z"
   },
   {
    "duration": 2146,
    "start_time": "2021-08-11T08:55:04.811Z"
   },
   {
    "duration": 870,
    "start_time": "2021-08-11T08:55:06.962Z"
   },
   {
    "duration": 3,
    "start_time": "2021-08-11T08:55:07.836Z"
   },
   {
    "duration": 207,
    "start_time": "2021-08-11T08:55:07.842Z"
   },
   {
    "duration": 30,
    "start_time": "2021-08-11T08:55:08.051Z"
   },
   {
    "duration": 779,
    "start_time": "2021-08-11T08:55:08.083Z"
   },
   {
    "duration": 303,
    "start_time": "2021-08-11T08:55:08.865Z"
   },
   {
    "duration": 18,
    "start_time": "2021-08-11T08:55:09.170Z"
   },
   {
    "duration": 86,
    "start_time": "2021-08-11T08:55:09.191Z"
   },
   {
    "duration": 19,
    "start_time": "2021-08-11T08:55:09.280Z"
   },
   {
    "duration": 10,
    "start_time": "2021-08-11T08:55:09.301Z"
   },
   {
    "duration": 53,
    "start_time": "2021-08-11T08:55:09.314Z"
   },
   {
    "duration": 13,
    "start_time": "2021-08-11T08:55:09.370Z"
   },
   {
    "duration": 26,
    "start_time": "2021-08-11T08:55:09.386Z"
   },
   {
    "duration": 58,
    "start_time": "2021-08-11T08:55:09.415Z"
   },
   {
    "duration": 15,
    "start_time": "2021-08-11T08:55:09.476Z"
   },
   {
    "duration": 58,
    "start_time": "2021-08-11T08:55:09.501Z"
   },
   {
    "duration": 16,
    "start_time": "2021-08-11T08:55:09.566Z"
   },
   {
    "duration": 24,
    "start_time": "2021-08-11T08:55:09.586Z"
   },
   {
    "duration": 43,
    "start_time": "2021-08-11T08:55:09.613Z"
   },
   {
    "duration": 9,
    "start_time": "2021-08-11T08:55:09.659Z"
   },
   {
    "duration": 17,
    "start_time": "2021-08-11T08:55:09.671Z"
   },
   {
    "duration": 23,
    "start_time": "2021-08-11T08:55:09.690Z"
   },
   {
    "duration": 180,
    "start_time": "2021-08-11T08:55:09.716Z"
   },
   {
    "duration": 18,
    "start_time": "2021-08-11T08:55:09.899Z"
   },
   {
    "duration": 8,
    "start_time": "2021-08-11T08:55:09.920Z"
   },
   {
    "duration": 60,
    "start_time": "2021-08-11T08:55:09.930Z"
   },
   {
    "duration": 4473,
    "start_time": "2021-08-11T08:55:09.993Z"
   },
   {
    "duration": 4080,
    "start_time": "2021-08-11T08:55:14.468Z"
   },
   {
    "duration": 126,
    "start_time": "2021-08-11T08:55:18.550Z"
   },
   {
    "duration": 645,
    "start_time": "2021-08-11T08:55:18.678Z"
   },
   {
    "duration": 267,
    "start_time": "2021-08-11T08:55:19.326Z"
   },
   {
    "duration": 123,
    "start_time": "2021-08-11T08:55:19.597Z"
   },
   {
    "duration": 131,
    "start_time": "2021-08-11T08:55:19.723Z"
   },
   {
    "duration": 100,
    "start_time": "2021-08-11T08:55:19.856Z"
   },
   {
    "duration": 29,
    "start_time": "2021-08-11T08:55:19.959Z"
   },
   {
    "duration": 129,
    "start_time": "2021-08-11T08:55:19.990Z"
   },
   {
    "duration": 120,
    "start_time": "2021-08-11T08:55:20.121Z"
   },
   {
    "duration": 82,
    "start_time": "2021-08-11T08:55:20.244Z"
   },
   {
    "duration": 31,
    "start_time": "2021-08-11T08:55:20.329Z"
   },
   {
    "duration": 2359,
    "start_time": "2021-08-11T08:55:20.363Z"
   },
   {
    "duration": 2901,
    "start_time": "2021-08-11T08:55:22.725Z"
   },
   {
    "duration": 64,
    "start_time": "2021-08-11T08:55:25.628Z"
   },
   {
    "duration": 67,
    "start_time": "2021-08-11T08:55:25.695Z"
   },
   {
    "duration": 15,
    "start_time": "2021-08-11T08:55:25.765Z"
   },
   {
    "duration": 71,
    "start_time": "2021-08-11T08:55:25.783Z"
   },
   {
    "duration": 10,
    "start_time": "2021-08-11T08:55:25.857Z"
   },
   {
    "duration": 17,
    "start_time": "2021-08-11T08:55:25.870Z"
   },
   {
    "duration": 264,
    "start_time": "2021-08-11T08:55:25.890Z"
   },
   {
    "duration": 214,
    "start_time": "2021-08-11T08:55:26.157Z"
   },
   {
    "duration": 53,
    "start_time": "2021-08-11T08:55:26.373Z"
   },
   {
    "duration": 153,
    "start_time": "2021-08-11T08:55:26.428Z"
   },
   {
    "duration": 27,
    "start_time": "2021-08-11T08:55:26.584Z"
   },
   {
    "duration": 996,
    "start_time": "2021-08-11T08:55:26.614Z"
   },
   {
    "duration": 8,
    "start_time": "2021-08-11T08:55:27.612Z"
   },
   {
    "duration": 9,
    "start_time": "2021-08-11T08:55:27.623Z"
   },
   {
    "duration": 39,
    "start_time": "2021-08-11T08:55:27.635Z"
   },
   {
    "duration": 24,
    "start_time": "2021-08-11T08:55:27.677Z"
   },
   {
    "duration": 120,
    "start_time": "2021-08-11T08:55:27.704Z"
   },
   {
    "duration": 7,
    "start_time": "2021-08-11T08:55:27.826Z"
   },
   {
    "duration": 785,
    "start_time": "2021-08-11T08:55:27.835Z"
   },
   {
    "duration": 562,
    "start_time": "2021-08-11T08:55:28.629Z"
   },
   {
    "duration": 61,
    "start_time": "2021-08-11T08:55:29.195Z"
   },
   {
    "duration": 29,
    "start_time": "2021-08-11T08:55:29.259Z"
   },
   {
    "duration": 65,
    "start_time": "2021-08-11T08:55:29.291Z"
   },
   {
    "duration": 23,
    "start_time": "2021-08-11T08:55:29.359Z"
   },
   {
    "duration": 40,
    "start_time": "2021-08-11T08:55:29.385Z"
   },
   {
    "duration": 935,
    "start_time": "2021-08-11T08:55:29.456Z"
   },
   {
    "duration": 42,
    "start_time": "2021-08-11T08:55:30.394Z"
   },
   {
    "duration": 878,
    "start_time": "2021-08-11T08:55:30.438Z"
   },
   {
    "duration": 5,
    "start_time": "2021-08-11T08:55:31.318Z"
   },
   {
    "duration": 30,
    "start_time": "2021-08-11T08:55:31.326Z"
   },
   {
    "duration": 51,
    "start_time": "2021-08-11T08:55:31.358Z"
   },
   {
    "duration": 501,
    "start_time": "2021-08-11T08:55:31.411Z"
   },
   {
    "duration": 522,
    "start_time": "2021-08-11T08:55:31.914Z"
   },
   {
    "duration": 23,
    "start_time": "2021-08-11T08:55:32.439Z"
   },
   {
    "duration": 113,
    "start_time": "2021-08-11T08:55:32.464Z"
   },
   {
    "duration": 1005,
    "start_time": "2021-08-11T08:55:32.579Z"
   },
   {
    "duration": 46,
    "start_time": "2021-08-11T08:55:33.587Z"
   },
   {
    "duration": 940,
    "start_time": "2021-08-11T08:55:33.654Z"
   },
   {
    "duration": 30,
    "start_time": "2021-08-11T08:55:34.596Z"
   },
   {
    "duration": 63,
    "start_time": "2021-08-11T08:55:34.629Z"
   },
   {
    "duration": 883,
    "start_time": "2021-08-11T08:55:34.694Z"
   },
   {
    "duration": 41,
    "start_time": "2021-08-11T08:55:35.579Z"
   },
   {
    "duration": 871,
    "start_time": "2021-08-11T08:55:35.623Z"
   },
   {
    "duration": 5,
    "start_time": "2021-08-11T08:55:36.496Z"
   },
   {
    "duration": 23,
    "start_time": "2021-08-11T08:55:36.503Z"
   },
   {
    "duration": 284,
    "start_time": "2021-08-11T08:55:36.529Z"
   },
   {
    "duration": 484,
    "start_time": "2021-08-11T08:55:36.815Z"
   },
   {
    "duration": 99,
    "start_time": "2021-08-11T08:55:37.301Z"
   },
   {
    "duration": 14,
    "start_time": "2021-08-11T08:55:37.403Z"
   },
   {
    "duration": 5,
    "start_time": "2021-08-11T08:55:37.420Z"
   },
   {
    "duration": 292,
    "start_time": "2021-08-11T08:55:37.427Z"
   },
   {
    "duration": 249,
    "start_time": "2021-08-11T08:55:37.722Z"
   },
   {
    "duration": 3029,
    "start_time": "2021-08-11T08:55:37.973Z"
   },
   {
    "duration": 5,
    "start_time": "2021-08-11T08:55:41.006Z"
   },
   {
    "duration": 45,
    "start_time": "2021-08-11T08:55:41.014Z"
   },
   {
    "duration": 25,
    "start_time": "2021-08-11T08:55:41.062Z"
   },
   {
    "duration": 10,
    "start_time": "2021-08-11T08:55:41.090Z"
   },
   {
    "duration": 6,
    "start_time": "2021-08-11T08:55:41.156Z"
   },
   {
    "duration": 201,
    "start_time": "2021-08-11T08:55:41.166Z"
   },
   {
    "duration": 12,
    "start_time": "2021-08-11T08:55:41.369Z"
   },
   {
    "duration": 75,
    "start_time": "2021-08-11T08:55:41.384Z"
   },
   {
    "duration": 10,
    "start_time": "2021-08-11T08:55:41.461Z"
   },
   {
    "duration": 9,
    "start_time": "2021-08-11T08:55:41.474Z"
   },
   {
    "duration": 611,
    "start_time": "2021-08-11T08:55:41.486Z"
   },
   {
    "duration": 133,
    "start_time": "2021-08-11T08:55:42.100Z"
   },
   {
    "duration": 25,
    "start_time": "2021-08-11T08:55:42.236Z"
   },
   {
    "duration": 18,
    "start_time": "2021-08-11T08:55:42.264Z"
   },
   {
    "duration": 69,
    "start_time": "2021-08-11T08:55:42.285Z"
   },
   {
    "duration": 955,
    "start_time": "2021-08-11T08:55:42.357Z"
   },
   {
    "duration": 45,
    "start_time": "2021-08-11T08:55:43.315Z"
   },
   {
    "duration": 21,
    "start_time": "2021-08-11T08:55:43.362Z"
   },
   {
    "duration": 305,
    "start_time": "2021-08-11T08:55:43.385Z"
   },
   {
    "duration": 5,
    "start_time": "2021-08-16T04:36:47.153Z"
   },
   {
    "duration": 5,
    "start_time": "2021-08-16T04:36:47.161Z"
   },
   {
    "duration": 4,
    "start_time": "2021-08-16T04:36:47.170Z"
   },
   {
    "duration": 3,
    "start_time": "2021-08-16T04:36:47.178Z"
   },
   {
    "duration": 1151,
    "start_time": "2021-08-16T04:36:47.184Z"
   },
   {
    "duration": -476,
    "start_time": "2021-08-16T04:36:48.816Z"
   },
   {
    "duration": -493,
    "start_time": "2021-08-16T04:36:48.834Z"
   },
   {
    "duration": -495,
    "start_time": "2021-08-16T04:36:48.838Z"
   },
   {
    "duration": -498,
    "start_time": "2021-08-16T04:36:48.842Z"
   },
   {
    "duration": -499,
    "start_time": "2021-08-16T04:36:48.845Z"
   },
   {
    "duration": -500,
    "start_time": "2021-08-16T04:36:48.847Z"
   },
   {
    "duration": -502,
    "start_time": "2021-08-16T04:36:48.850Z"
   },
   {
    "duration": -503,
    "start_time": "2021-08-16T04:36:48.852Z"
   },
   {
    "duration": -514,
    "start_time": "2021-08-16T04:36:48.864Z"
   },
   {
    "duration": -516,
    "start_time": "2021-08-16T04:36:48.868Z"
   },
   {
    "duration": -517,
    "start_time": "2021-08-16T04:36:48.870Z"
   },
   {
    "duration": -519,
    "start_time": "2021-08-16T04:36:48.873Z"
   },
   {
    "duration": -521,
    "start_time": "2021-08-16T04:36:48.877Z"
   },
   {
    "duration": -523,
    "start_time": "2021-08-16T04:36:48.880Z"
   },
   {
    "duration": -523,
    "start_time": "2021-08-16T04:36:48.882Z"
   },
   {
    "duration": -525,
    "start_time": "2021-08-16T04:36:48.885Z"
   },
   {
    "duration": -527,
    "start_time": "2021-08-16T04:36:48.888Z"
   },
   {
    "duration": -527,
    "start_time": "2021-08-16T04:36:48.890Z"
   },
   {
    "duration": -529,
    "start_time": "2021-08-16T04:36:48.893Z"
   },
   {
    "duration": -530,
    "start_time": "2021-08-16T04:36:48.895Z"
   },
   {
    "duration": -532,
    "start_time": "2021-08-16T04:36:48.898Z"
   },
   {
    "duration": -532,
    "start_time": "2021-08-16T04:36:48.900Z"
   },
   {
    "duration": -534,
    "start_time": "2021-08-16T04:36:48.903Z"
   },
   {
    "duration": -535,
    "start_time": "2021-08-16T04:36:48.905Z"
   },
   {
    "duration": -536,
    "start_time": "2021-08-16T04:36:48.908Z"
   },
   {
    "duration": -537,
    "start_time": "2021-08-16T04:36:48.910Z"
   },
   {
    "duration": -538,
    "start_time": "2021-08-16T04:36:48.912Z"
   },
   {
    "duration": -545,
    "start_time": "2021-08-16T04:36:48.921Z"
   },
   {
    "duration": -549,
    "start_time": "2021-08-16T04:36:48.926Z"
   },
   {
    "duration": -559,
    "start_time": "2021-08-16T04:36:48.938Z"
   },
   {
    "duration": -561,
    "start_time": "2021-08-16T04:36:48.941Z"
   },
   {
    "duration": -562,
    "start_time": "2021-08-16T04:36:48.944Z"
   },
   {
    "duration": -563,
    "start_time": "2021-08-16T04:36:48.946Z"
   },
   {
    "duration": -572,
    "start_time": "2021-08-16T04:36:48.956Z"
   },
   {
    "duration": -572,
    "start_time": "2021-08-16T04:36:48.958Z"
   },
   {
    "duration": -574,
    "start_time": "2021-08-16T04:36:48.961Z"
   },
   {
    "duration": -576,
    "start_time": "2021-08-16T04:36:48.964Z"
   },
   {
    "duration": -577,
    "start_time": "2021-08-16T04:36:48.967Z"
   },
   {
    "duration": -579,
    "start_time": "2021-08-16T04:36:48.970Z"
   },
   {
    "duration": -580,
    "start_time": "2021-08-16T04:36:48.972Z"
   },
   {
    "duration": -582,
    "start_time": "2021-08-16T04:36:48.975Z"
   },
   {
    "duration": -590,
    "start_time": "2021-08-16T04:36:48.985Z"
   },
   {
    "duration": -542,
    "start_time": "2021-08-16T04:36:48.997Z"
   },
   {
    "duration": -542,
    "start_time": "2021-08-16T04:36:48.999Z"
   },
   {
    "duration": -543,
    "start_time": "2021-08-16T04:36:49.002Z"
   },
   {
    "duration": -544,
    "start_time": "2021-08-16T04:36:49.004Z"
   },
   {
    "duration": -545,
    "start_time": "2021-08-16T04:36:49.007Z"
   },
   {
    "duration": -546,
    "start_time": "2021-08-16T04:36:49.009Z"
   },
   {
    "duration": -547,
    "start_time": "2021-08-16T04:36:49.012Z"
   },
   {
    "duration": -548,
    "start_time": "2021-08-16T04:36:49.014Z"
   },
   {
    "duration": 6,
    "start_time": "2021-08-16T05:28:38.200Z"
   },
   {
    "duration": 5,
    "start_time": "2021-08-16T05:28:38.209Z"
   },
   {
    "duration": 5,
    "start_time": "2021-08-16T05:28:38.218Z"
   },
   {
    "duration": 6,
    "start_time": "2021-08-16T05:28:38.226Z"
   },
   {
    "duration": 1101,
    "start_time": "2021-08-16T05:28:38.234Z"
   },
   {
    "duration": -263,
    "start_time": "2021-08-16T05:28:39.603Z"
   },
   {
    "duration": -264,
    "start_time": "2021-08-16T05:28:39.606Z"
   },
   {
    "duration": -269,
    "start_time": "2021-08-16T05:28:39.612Z"
   },
   {
    "duration": -270,
    "start_time": "2021-08-16T05:28:39.614Z"
   },
   {
    "duration": -271,
    "start_time": "2021-08-16T05:28:39.617Z"
   },
   {
    "duration": -272,
    "start_time": "2021-08-16T05:28:39.619Z"
   },
   {
    "duration": -274,
    "start_time": "2021-08-16T05:28:39.622Z"
   },
   {
    "duration": -275,
    "start_time": "2021-08-16T05:28:39.624Z"
   },
   {
    "duration": -277,
    "start_time": "2021-08-16T05:28:39.628Z"
   },
   {
    "duration": -277,
    "start_time": "2021-08-16T05:28:39.630Z"
   },
   {
    "duration": -280,
    "start_time": "2021-08-16T05:28:39.634Z"
   },
   {
    "duration": -282,
    "start_time": "2021-08-16T05:28:39.637Z"
   },
   {
    "duration": -285,
    "start_time": "2021-08-16T05:28:39.642Z"
   },
   {
    "duration": -287,
    "start_time": "2021-08-16T05:28:39.645Z"
   },
   {
    "duration": -289,
    "start_time": "2021-08-16T05:28:39.648Z"
   },
   {
    "duration": -290,
    "start_time": "2021-08-16T05:28:39.650Z"
   },
   {
    "duration": -292,
    "start_time": "2021-08-16T05:28:39.653Z"
   },
   {
    "duration": -292,
    "start_time": "2021-08-16T05:28:39.655Z"
   },
   {
    "duration": -293,
    "start_time": "2021-08-16T05:28:39.657Z"
   },
   {
    "duration": -295,
    "start_time": "2021-08-16T05:28:39.660Z"
   },
   {
    "duration": -297,
    "start_time": "2021-08-16T05:28:39.663Z"
   },
   {
    "duration": -297,
    "start_time": "2021-08-16T05:28:39.665Z"
   },
   {
    "duration": -298,
    "start_time": "2021-08-16T05:28:39.667Z"
   },
   {
    "duration": -300,
    "start_time": "2021-08-16T05:28:39.670Z"
   },
   {
    "duration": -326,
    "start_time": "2021-08-16T05:28:39.698Z"
   },
   {
    "duration": -341,
    "start_time": "2021-08-16T05:28:39.714Z"
   },
   {
    "duration": -343,
    "start_time": "2021-08-16T05:28:39.717Z"
   },
   {
    "duration": -345,
    "start_time": "2021-08-16T05:28:39.720Z"
   },
   {
    "duration": -347,
    "start_time": "2021-08-16T05:28:39.723Z"
   },
   {
    "duration": -349,
    "start_time": "2021-08-16T05:28:39.727Z"
   },
   {
    "duration": -350,
    "start_time": "2021-08-16T05:28:39.729Z"
   },
   {
    "duration": -352,
    "start_time": "2021-08-16T05:28:39.732Z"
   },
   {
    "duration": -352,
    "start_time": "2021-08-16T05:28:39.734Z"
   },
   {
    "duration": -353,
    "start_time": "2021-08-16T05:28:39.736Z"
   },
   {
    "duration": -355,
    "start_time": "2021-08-16T05:28:39.739Z"
   },
   {
    "duration": -356,
    "start_time": "2021-08-16T05:28:39.741Z"
   },
   {
    "duration": -357,
    "start_time": "2021-08-16T05:28:39.744Z"
   },
   {
    "duration": -358,
    "start_time": "2021-08-16T05:28:39.746Z"
   },
   {
    "duration": -360,
    "start_time": "2021-08-16T05:28:39.749Z"
   },
   {
    "duration": -361,
    "start_time": "2021-08-16T05:28:39.751Z"
   },
   {
    "duration": -362,
    "start_time": "2021-08-16T05:28:39.753Z"
   },
   {
    "duration": -362,
    "start_time": "2021-08-16T05:28:39.755Z"
   },
   {
    "duration": -364,
    "start_time": "2021-08-16T05:28:39.758Z"
   },
   {
    "duration": -365,
    "start_time": "2021-08-16T05:28:39.760Z"
   },
   {
    "duration": -366,
    "start_time": "2021-08-16T05:28:39.763Z"
   },
   {
    "duration": -367,
    "start_time": "2021-08-16T05:28:39.765Z"
   },
   {
    "duration": -369,
    "start_time": "2021-08-16T05:28:39.768Z"
   },
   {
    "duration": -370,
    "start_time": "2021-08-16T05:28:39.770Z"
   },
   {
    "duration": -372,
    "start_time": "2021-08-16T05:28:39.773Z"
   },
   {
    "duration": -374,
    "start_time": "2021-08-16T05:28:39.776Z"
   },
   {
    "duration": 16595,
    "start_time": "2021-08-16T05:31:08.846Z"
   },
   {
    "duration": 8657,
    "start_time": "2021-08-16T05:31:25.444Z"
   },
   {
    "duration": 4113,
    "start_time": "2021-08-16T05:31:34.104Z"
   },
   {
    "duration": 20137,
    "start_time": "2021-08-16T05:31:38.220Z"
   },
   {
    "duration": 1219,
    "start_time": "2021-08-16T05:31:58.360Z"
   },
   {
    "duration": 200,
    "start_time": "2021-08-16T05:31:59.582Z"
   },
   {
    "duration": 12,
    "start_time": "2021-08-16T05:31:59.784Z"
   },
   {
    "duration": 22,
    "start_time": "2021-08-16T05:31:59.801Z"
   },
   {
    "duration": 1071,
    "start_time": "2021-08-16T05:31:59.827Z"
   },
   {
    "duration": 5,
    "start_time": "2021-08-16T05:32:00.900Z"
   },
   {
    "duration": 25,
    "start_time": "2021-08-16T05:32:00.908Z"
   },
   {
    "duration": 20,
    "start_time": "2021-08-16T05:32:00.936Z"
   },
   {
    "duration": 15,
    "start_time": "2021-08-16T05:32:00.959Z"
   },
   {
    "duration": 23,
    "start_time": "2021-08-16T05:32:00.977Z"
   },
   {
    "duration": 24,
    "start_time": "2021-08-16T05:32:01.002Z"
   },
   {
    "duration": 32,
    "start_time": "2021-08-16T05:32:01.028Z"
   },
   {
    "duration": 28,
    "start_time": "2021-08-16T05:32:01.062Z"
   },
   {
    "duration": 31,
    "start_time": "2021-08-16T05:32:01.092Z"
   },
   {
    "duration": 30,
    "start_time": "2021-08-16T05:32:01.125Z"
   },
   {
    "duration": 31,
    "start_time": "2021-08-16T05:32:01.157Z"
   },
   {
    "duration": 35,
    "start_time": "2021-08-16T05:32:01.190Z"
   },
   {
    "duration": 18,
    "start_time": "2021-08-16T05:32:01.228Z"
   },
   {
    "duration": 22,
    "start_time": "2021-08-16T05:32:01.252Z"
   },
   {
    "duration": 26,
    "start_time": "2021-08-16T05:32:01.278Z"
   },
   {
    "duration": 24,
    "start_time": "2021-08-16T05:32:01.307Z"
   },
   {
    "duration": 50,
    "start_time": "2021-08-16T05:32:01.333Z"
   },
   {
    "duration": 54,
    "start_time": "2021-08-16T05:32:01.386Z"
   },
   {
    "duration": 45,
    "start_time": "2021-08-16T05:32:01.443Z"
   },
   {
    "duration": 40,
    "start_time": "2021-08-16T05:32:01.491Z"
   },
   {
    "duration": 30,
    "start_time": "2021-08-16T05:32:01.534Z"
   },
   {
    "duration": 35,
    "start_time": "2021-08-16T05:32:01.567Z"
   },
   {
    "duration": 39,
    "start_time": "2021-08-16T05:32:01.604Z"
   },
   {
    "duration": 26,
    "start_time": "2021-08-16T05:32:01.645Z"
   },
   {
    "duration": 26,
    "start_time": "2021-08-16T05:32:01.673Z"
   },
   {
    "duration": 443,
    "start_time": "2021-08-16T05:32:01.701Z"
   },
   {
    "duration": 705,
    "start_time": "2021-08-16T05:32:02.147Z"
   },
   {
    "duration": 19,
    "start_time": "2021-08-16T05:32:02.855Z"
   },
   {
    "duration": 294,
    "start_time": "2021-08-16T05:32:02.878Z"
   },
   {
    "duration": 12,
    "start_time": "2021-08-16T05:32:03.176Z"
   },
   {
    "duration": 70,
    "start_time": "2021-08-16T05:32:03.191Z"
   },
   {
    "duration": 22,
    "start_time": "2021-08-16T05:32:03.264Z"
   },
   {
    "duration": 122,
    "start_time": "2021-08-16T05:32:03.288Z"
   },
   {
    "duration": 5,
    "start_time": "2021-08-16T05:32:03.412Z"
   },
   {
    "duration": 108,
    "start_time": "2021-08-16T05:32:03.419Z"
   },
   {
    "duration": 8,
    "start_time": "2021-08-16T05:32:03.530Z"
   },
   {
    "duration": 101,
    "start_time": "2021-08-16T05:32:03.555Z"
   },
   {
    "duration": 6,
    "start_time": "2021-08-16T05:32:03.658Z"
   },
   {
    "duration": 112,
    "start_time": "2021-08-16T05:32:03.667Z"
   },
   {
    "duration": 8,
    "start_time": "2021-08-16T05:32:03.781Z"
   },
   {
    "duration": 131,
    "start_time": "2021-08-16T05:32:03.792Z"
   },
   {
    "duration": 32,
    "start_time": "2021-08-16T05:32:03.926Z"
   },
   {
    "duration": 594,
    "start_time": "2021-08-16T05:32:03.961Z"
   },
   {
    "duration": 1425,
    "start_time": "2021-08-16T05:32:04.558Z"
   },
   {
    "duration": 13,
    "start_time": "2021-08-16T05:32:05.986Z"
   },
   {
    "duration": 20,
    "start_time": "2021-08-16T05:32:06.002Z"
   },
   {
    "duration": 7,
    "start_time": "2021-08-16T06:22:58.061Z"
   },
   {
    "duration": 6,
    "start_time": "2021-08-16T06:23:07.614Z"
   },
   {
    "duration": 4537,
    "start_time": "2021-08-16T06:28:13.605Z"
   },
   {
    "duration": 4283,
    "start_time": "2021-08-16T06:28:18.145Z"
   },
   {
    "duration": 4107,
    "start_time": "2021-08-16T06:28:22.431Z"
   },
   {
    "duration": 3967,
    "start_time": "2021-08-16T06:28:26.541Z"
   },
   {
    "duration": 1260,
    "start_time": "2021-08-16T06:28:30.511Z"
   },
   {
    "duration": 216,
    "start_time": "2021-08-16T06:28:31.773Z"
   },
   {
    "duration": 11,
    "start_time": "2021-08-16T06:28:31.991Z"
   },
   {
    "duration": 34,
    "start_time": "2021-08-16T06:28:32.007Z"
   },
   {
    "duration": 1249,
    "start_time": "2021-08-16T06:28:32.044Z"
   },
   {
    "duration": 5,
    "start_time": "2021-08-16T06:28:33.295Z"
   },
   {
    "duration": 14,
    "start_time": "2021-08-16T06:28:33.302Z"
   },
   {
    "duration": 17,
    "start_time": "2021-08-16T06:28:33.318Z"
   },
   {
    "duration": 31,
    "start_time": "2021-08-16T06:28:33.337Z"
   },
   {
    "duration": 13,
    "start_time": "2021-08-16T06:28:33.371Z"
   },
   {
    "duration": 13,
    "start_time": "2021-08-16T06:28:33.387Z"
   },
   {
    "duration": 14,
    "start_time": "2021-08-16T06:28:33.403Z"
   },
   {
    "duration": 50,
    "start_time": "2021-08-16T06:28:33.420Z"
   },
   {
    "duration": 25,
    "start_time": "2021-08-16T06:28:33.472Z"
   },
   {
    "duration": 16,
    "start_time": "2021-08-16T06:28:33.500Z"
   },
   {
    "duration": 35,
    "start_time": "2021-08-16T06:28:33.557Z"
   },
   {
    "duration": 12,
    "start_time": "2021-08-16T06:28:33.595Z"
   },
   {
    "duration": 16,
    "start_time": "2021-08-16T06:28:33.610Z"
   },
   {
    "duration": 11,
    "start_time": "2021-08-16T06:28:33.656Z"
   },
   {
    "duration": 16,
    "start_time": "2021-08-16T06:28:33.670Z"
   },
   {
    "duration": 10,
    "start_time": "2021-08-16T06:28:33.688Z"
   },
   {
    "duration": 12,
    "start_time": "2021-08-16T06:28:33.701Z"
   },
   {
    "duration": 65,
    "start_time": "2021-08-16T06:28:33.716Z"
   },
   {
    "duration": 7,
    "start_time": "2021-08-16T06:28:33.784Z"
   },
   {
    "duration": 19,
    "start_time": "2021-08-16T06:28:33.794Z"
   },
   {
    "duration": 7,
    "start_time": "2021-08-16T06:28:33.815Z"
   },
   {
    "duration": 8,
    "start_time": "2021-08-16T06:28:33.855Z"
   },
   {
    "duration": 9,
    "start_time": "2021-08-16T06:28:33.866Z"
   },
   {
    "duration": 26,
    "start_time": "2021-08-16T06:28:33.877Z"
   },
   {
    "duration": 24,
    "start_time": "2021-08-16T06:28:33.905Z"
   },
   {
    "duration": 461,
    "start_time": "2021-08-16T06:28:33.932Z"
   },
   {
    "duration": 743,
    "start_time": "2021-08-16T06:28:34.395Z"
   },
   {
    "duration": 29,
    "start_time": "2021-08-16T06:28:35.141Z"
   },
   {
    "duration": 204,
    "start_time": "2021-08-16T06:28:35.172Z"
   },
   {
    "duration": 10,
    "start_time": "2021-08-16T06:28:35.379Z"
   },
   {
    "duration": 66,
    "start_time": "2021-08-16T06:28:35.392Z"
   },
   {
    "duration": 26,
    "start_time": "2021-08-16T06:28:35.460Z"
   },
   {
    "duration": 121,
    "start_time": "2021-08-16T06:28:35.488Z"
   },
   {
    "duration": 5,
    "start_time": "2021-08-16T06:28:35.611Z"
   },
   {
    "duration": 118,
    "start_time": "2021-08-16T06:28:35.617Z"
   },
   {
    "duration": 18,
    "start_time": "2021-08-16T06:28:35.738Z"
   },
   {
    "duration": 103,
    "start_time": "2021-08-16T06:28:35.759Z"
   },
   {
    "duration": 5,
    "start_time": "2021-08-16T06:28:35.864Z"
   },
   {
    "duration": 111,
    "start_time": "2021-08-16T06:28:35.872Z"
   },
   {
    "duration": 6,
    "start_time": "2021-08-16T06:28:35.985Z"
   },
   {
    "duration": 128,
    "start_time": "2021-08-16T06:28:35.994Z"
   },
   {
    "duration": 13,
    "start_time": "2021-08-16T06:28:36.125Z"
   },
   {
    "duration": 27,
    "start_time": "2021-08-16T06:28:36.140Z"
   },
   {
    "duration": 20,
    "start_time": "2021-08-16T06:28:36.170Z"
   },
   {
    "duration": 16,
    "start_time": "2021-08-16T06:28:36.193Z"
   },
   {
    "duration": 51,
    "start_time": "2021-08-16T06:28:36.212Z"
   },
   {
    "duration": 119,
    "start_time": "2021-08-16T10:39:38.310Z"
   },
   {
    "duration": 411,
    "start_time": "2021-08-16T10:39:42.636Z"
   },
   {
    "duration": 10886,
    "start_time": "2021-08-23T12:50:12.676Z"
   },
   {
    "duration": 8082,
    "start_time": "2021-08-23T12:50:23.565Z"
   },
   {
    "duration": 7866,
    "start_time": "2021-08-23T12:50:31.650Z"
   },
   {
    "duration": 26079,
    "start_time": "2021-08-23T12:50:39.519Z"
   },
   {
    "duration": 5300,
    "start_time": "2021-08-23T12:51:05.601Z"
   },
   {
    "duration": 1168,
    "start_time": "2021-08-23T12:51:10.904Z"
   },
   {
    "duration": 120,
    "start_time": "2021-08-23T12:51:12.074Z"
   },
   {
    "duration": 19,
    "start_time": "2021-08-23T12:51:12.198Z"
   },
   {
    "duration": 28,
    "start_time": "2021-08-23T12:51:12.220Z"
   },
   {
    "duration": 1030,
    "start_time": "2021-08-23T12:51:12.250Z"
   },
   {
    "duration": 4,
    "start_time": "2021-08-23T12:51:13.283Z"
   },
   {
    "duration": 11,
    "start_time": "2021-08-23T12:51:13.290Z"
   },
   {
    "duration": 38,
    "start_time": "2021-08-23T12:51:13.303Z"
   },
   {
    "duration": 46,
    "start_time": "2021-08-23T12:51:13.343Z"
   },
   {
    "duration": 13,
    "start_time": "2021-08-23T12:51:13.392Z"
   },
   {
    "duration": 23,
    "start_time": "2021-08-23T12:51:13.408Z"
   },
   {
    "duration": 23,
    "start_time": "2021-08-23T12:51:13.462Z"
   },
   {
    "duration": 26,
    "start_time": "2021-08-23T12:51:13.488Z"
   },
   {
    "duration": 49,
    "start_time": "2021-08-23T12:51:13.517Z"
   },
   {
    "duration": 17,
    "start_time": "2021-08-23T12:51:13.569Z"
   },
   {
    "duration": 22,
    "start_time": "2021-08-23T12:51:13.588Z"
   },
   {
    "duration": 14,
    "start_time": "2021-08-23T12:51:13.613Z"
   },
   {
    "duration": 7,
    "start_time": "2021-08-23T12:51:13.661Z"
   },
   {
    "duration": 19,
    "start_time": "2021-08-23T12:51:13.672Z"
   },
   {
    "duration": 11,
    "start_time": "2021-08-23T12:51:13.693Z"
   },
   {
    "duration": 664,
    "start_time": "2021-08-23T12:51:13.706Z"
   },
   {
    "duration": 10,
    "start_time": "2021-08-23T12:51:14.373Z"
   },
   {
    "duration": 177,
    "start_time": "2021-08-23T12:51:14.385Z"
   },
   {
    "duration": 18,
    "start_time": "2021-08-23T12:51:14.564Z"
   },
   {
    "duration": 120,
    "start_time": "2021-08-23T12:51:14.585Z"
   },
   {
    "duration": 125,
    "start_time": "2021-08-23T12:51:14.708Z"
   },
   {
    "duration": 112,
    "start_time": "2021-08-23T12:51:14.835Z"
   },
   {
    "duration": 23,
    "start_time": "2021-08-23T12:51:14.949Z"
   },
   {
    "duration": 101,
    "start_time": "2021-08-23T12:51:14.974Z"
   },
   {
    "duration": 63,
    "start_time": "2021-08-23T12:51:15.077Z"
   },
   {
    "duration": 23,
    "start_time": "2021-08-23T12:51:15.142Z"
   },
   {
    "duration": 2299,
    "start_time": "2021-08-23T12:51:15.168Z"
   },
   {
    "duration": 14,
    "start_time": "2021-08-23T12:51:17.470Z"
   },
   {
    "duration": 39,
    "start_time": "2021-08-23T12:51:17.487Z"
   },
   {
    "duration": 34,
    "start_time": "2021-08-23T12:51:17.528Z"
   },
   {
    "duration": 89,
    "start_time": "2021-08-23T12:51:17.564Z"
   },
   {
    "duration": 7,
    "start_time": "2021-08-23T12:51:17.655Z"
   },
   {
    "duration": 29,
    "start_time": "2021-08-23T12:51:17.664Z"
   },
   {
    "duration": 75,
    "start_time": "2021-08-23T12:51:17.695Z"
   },
   {
    "duration": 26,
    "start_time": "2021-08-23T12:51:17.773Z"
   },
   {
    "duration": 69,
    "start_time": "2021-08-23T12:51:17.801Z"
   },
   {
    "duration": 12,
    "start_time": "2021-08-23T12:51:17.872Z"
   },
   {
    "duration": 82,
    "start_time": "2021-08-23T12:51:17.887Z"
   },
   {
    "duration": 11,
    "start_time": "2021-08-23T12:51:17.971Z"
   },
   {
    "duration": 84,
    "start_time": "2021-08-23T12:51:17.984Z"
   },
   {
    "duration": 95,
    "start_time": "2021-08-23T12:51:18.070Z"
   },
   {
    "duration": 100,
    "start_time": "2021-08-23T12:51:18.168Z"
   },
   {
    "duration": 97,
    "start_time": "2021-08-23T12:51:18.271Z"
   },
   {
    "duration": 93,
    "start_time": "2021-08-23T12:51:18.371Z"
   },
   {
    "duration": 8,
    "start_time": "2021-08-23T12:51:18.467Z"
   },
   {
    "duration": 111,
    "start_time": "2021-08-23T12:51:18.478Z"
   },
   {
    "duration": 19,
    "start_time": "2021-08-23T12:51:18.592Z"
   },
   {
    "duration": 112,
    "start_time": "2021-08-23T12:51:18.613Z"
   },
   {
    "duration": 206,
    "start_time": "2021-08-23T12:51:18.727Z"
   },
   {
    "duration": 3683,
    "start_time": "2021-08-23T12:52:00.835Z"
   },
   {
    "duration": 4377,
    "start_time": "2021-08-23T12:52:04.521Z"
   },
   {
    "duration": 3022,
    "start_time": "2021-08-23T12:52:08.902Z"
   },
   {
    "duration": 794,
    "start_time": "2021-08-23T12:52:11.927Z"
   },
   {
    "duration": 119,
    "start_time": "2021-08-23T12:52:12.723Z"
   },
   {
    "duration": 18,
    "start_time": "2021-08-23T12:52:12.845Z"
   },
   {
    "duration": 22,
    "start_time": "2021-08-23T12:52:12.866Z"
   },
   {
    "duration": 348,
    "start_time": "2021-08-23T12:52:12.893Z"
   },
   {
    "duration": -13,
    "start_time": "2021-08-23T12:52:13.260Z"
   },
   {
    "duration": -21,
    "start_time": "2021-08-23T12:52:13.270Z"
   },
   {
    "duration": -83,
    "start_time": "2021-08-23T12:52:13.334Z"
   },
   {
    "duration": -85,
    "start_time": "2021-08-23T12:52:13.339Z"
   },
   {
    "duration": -98,
    "start_time": "2021-08-23T12:52:13.354Z"
   },
   {
    "duration": -100,
    "start_time": "2021-08-23T12:52:13.358Z"
   },
   {
    "duration": -103,
    "start_time": "2021-08-23T12:52:13.364Z"
   },
   {
    "duration": -107,
    "start_time": "2021-08-23T12:52:13.370Z"
   },
   {
    "duration": -110,
    "start_time": "2021-08-23T12:52:13.375Z"
   },
   {
    "duration": -154,
    "start_time": "2021-08-23T12:52:13.421Z"
   },
   {
    "duration": -157,
    "start_time": "2021-08-23T12:52:13.427Z"
   },
   {
    "duration": -159,
    "start_time": "2021-08-23T12:52:13.431Z"
   },
   {
    "duration": -162,
    "start_time": "2021-08-23T12:52:13.436Z"
   },
   {
    "duration": -193,
    "start_time": "2021-08-23T12:52:13.469Z"
   },
   {
    "duration": -197,
    "start_time": "2021-08-23T12:52:13.475Z"
   },
   {
    "duration": -243,
    "start_time": "2021-08-23T12:52:13.524Z"
   },
   {
    "duration": -247,
    "start_time": "2021-08-23T12:52:13.530Z"
   },
   {
    "duration": -248,
    "start_time": "2021-08-23T12:52:13.534Z"
   },
   {
    "duration": -250,
    "start_time": "2021-08-23T12:52:13.538Z"
   },
   {
    "duration": -251,
    "start_time": "2021-08-23T12:52:13.542Z"
   },
   {
    "duration": -254,
    "start_time": "2021-08-23T12:52:13.547Z"
   },
   {
    "duration": -257,
    "start_time": "2021-08-23T12:52:13.552Z"
   },
   {
    "duration": -262,
    "start_time": "2021-08-23T12:52:13.559Z"
   },
   {
    "duration": -263,
    "start_time": "2021-08-23T12:52:13.563Z"
   },
   {
    "duration": -267,
    "start_time": "2021-08-23T12:52:13.569Z"
   },
   {
    "duration": -270,
    "start_time": "2021-08-23T12:52:13.573Z"
   },
   {
    "duration": -216,
    "start_time": "2021-08-23T12:52:13.578Z"
   },
   {
    "duration": -219,
    "start_time": "2021-08-23T12:52:13.583Z"
   },
   {
    "duration": -322,
    "start_time": "2021-08-23T12:52:13.689Z"
   },
   {
    "duration": -339,
    "start_time": "2021-08-23T12:52:13.708Z"
   },
   {
    "duration": -340,
    "start_time": "2021-08-23T12:52:13.711Z"
   },
   {
    "duration": -377,
    "start_time": "2021-08-23T12:52:13.751Z"
   },
   {
    "duration": -382,
    "start_time": "2021-08-23T12:52:13.758Z"
   },
   {
    "duration": -385,
    "start_time": "2021-08-23T12:52:13.763Z"
   },
   {
    "duration": -387,
    "start_time": "2021-08-23T12:52:13.768Z"
   },
   {
    "duration": -389,
    "start_time": "2021-08-23T12:52:13.772Z"
   },
   {
    "duration": -391,
    "start_time": "2021-08-23T12:52:13.777Z"
   },
   {
    "duration": -392,
    "start_time": "2021-08-23T12:52:13.781Z"
   },
   {
    "duration": -394,
    "start_time": "2021-08-23T12:52:13.785Z"
   },
   {
    "duration": -396,
    "start_time": "2021-08-23T12:52:13.789Z"
   },
   {
    "duration": -398,
    "start_time": "2021-08-23T12:52:13.793Z"
   },
   {
    "duration": -399,
    "start_time": "2021-08-23T12:52:13.796Z"
   },
   {
    "duration": -337,
    "start_time": "2021-08-23T12:52:13.799Z"
   },
   {
    "duration": -339,
    "start_time": "2021-08-23T12:52:13.803Z"
   },
   {
    "duration": -340,
    "start_time": "2021-08-23T12:52:13.807Z"
   },
   {
    "duration": -342,
    "start_time": "2021-08-23T12:52:13.811Z"
   },
   {
    "duration": -345,
    "start_time": "2021-08-23T12:52:13.816Z"
   },
   {
    "duration": -345,
    "start_time": "2021-08-23T12:52:13.819Z"
   },
   {
    "duration": -347,
    "start_time": "2021-08-23T12:52:13.823Z"
   },
   {
    "duration": 5,
    "start_time": "2021-08-23T12:52:22.317Z"
   },
   {
    "duration": 6,
    "start_time": "2021-08-23T12:52:22.324Z"
   },
   {
    "duration": 6,
    "start_time": "2021-08-23T12:52:22.333Z"
   },
   {
    "duration": 807,
    "start_time": "2021-08-23T12:52:22.342Z"
   },
   {
    "duration": 118,
    "start_time": "2021-08-23T12:52:23.152Z"
   },
   {
    "duration": 19,
    "start_time": "2021-08-23T12:52:23.272Z"
   },
   {
    "duration": 38,
    "start_time": "2021-08-23T12:52:23.295Z"
   },
   {
    "duration": 328,
    "start_time": "2021-08-23T12:52:23.336Z"
   },
   {
    "duration": -52,
    "start_time": "2021-08-23T12:52:23.720Z"
   },
   {
    "duration": -72,
    "start_time": "2021-08-23T12:52:23.742Z"
   },
   {
    "duration": -79,
    "start_time": "2021-08-23T12:52:23.750Z"
   },
   {
    "duration": -82,
    "start_time": "2021-08-23T12:52:23.755Z"
   },
   {
    "duration": -85,
    "start_time": "2021-08-23T12:52:23.760Z"
   },
   {
    "duration": -89,
    "start_time": "2021-08-23T12:52:23.765Z"
   },
   {
    "duration": -92,
    "start_time": "2021-08-23T12:52:23.770Z"
   },
   {
    "duration": -95,
    "start_time": "2021-08-23T12:52:23.774Z"
   },
   {
    "duration": -98,
    "start_time": "2021-08-23T12:52:23.778Z"
   },
   {
    "duration": -101,
    "start_time": "2021-08-23T12:52:23.783Z"
   },
   {
    "duration": -105,
    "start_time": "2021-08-23T12:52:23.788Z"
   },
   {
    "duration": -142,
    "start_time": "2021-08-23T12:52:23.826Z"
   },
   {
    "duration": -145,
    "start_time": "2021-08-23T12:52:23.831Z"
   },
   {
    "duration": -148,
    "start_time": "2021-08-23T12:52:23.835Z"
   },
   {
    "duration": -152,
    "start_time": "2021-08-23T12:52:23.841Z"
   },
   {
    "duration": -156,
    "start_time": "2021-08-23T12:52:23.846Z"
   },
   {
    "duration": -159,
    "start_time": "2021-08-23T12:52:23.850Z"
   },
   {
    "duration": -160,
    "start_time": "2021-08-23T12:52:23.853Z"
   },
   {
    "duration": -162,
    "start_time": "2021-08-23T12:52:23.857Z"
   },
   {
    "duration": -166,
    "start_time": "2021-08-23T12:52:23.862Z"
   },
   {
    "duration": -170,
    "start_time": "2021-08-23T12:52:23.867Z"
   },
   {
    "duration": -172,
    "start_time": "2021-08-23T12:52:23.871Z"
   },
   {
    "duration": -175,
    "start_time": "2021-08-23T12:52:23.876Z"
   },
   {
    "duration": -204,
    "start_time": "2021-08-23T12:52:23.906Z"
   },
   {
    "duration": -208,
    "start_time": "2021-08-23T12:52:23.912Z"
   },
   {
    "duration": -210,
    "start_time": "2021-08-23T12:52:23.916Z"
   },
   {
    "duration": -214,
    "start_time": "2021-08-23T12:52:23.921Z"
   },
   {
    "duration": -162,
    "start_time": "2021-08-23T12:52:23.925Z"
   },
   {
    "duration": -165,
    "start_time": "2021-08-23T12:52:23.930Z"
   },
   {
    "duration": -168,
    "start_time": "2021-08-23T12:52:23.934Z"
   },
   {
    "duration": -170,
    "start_time": "2021-08-23T12:52:23.938Z"
   },
   {
    "duration": -172,
    "start_time": "2021-08-23T12:52:23.942Z"
   },
   {
    "duration": -176,
    "start_time": "2021-08-23T12:52:23.947Z"
   },
   {
    "duration": -222,
    "start_time": "2021-08-23T12:52:23.995Z"
   },
   {
    "duration": -269,
    "start_time": "2021-08-23T12:52:24.043Z"
   },
   {
    "duration": -271,
    "start_time": "2021-08-23T12:52:24.047Z"
   },
   {
    "duration": -273,
    "start_time": "2021-08-23T12:52:24.050Z"
   },
   {
    "duration": -316,
    "start_time": "2021-08-23T12:52:24.094Z"
   },
   {
    "duration": -319,
    "start_time": "2021-08-23T12:52:24.099Z"
   },
   {
    "duration": -325,
    "start_time": "2021-08-23T12:52:24.107Z"
   },
   {
    "duration": -331,
    "start_time": "2021-08-23T12:52:24.114Z"
   },
   {
    "duration": -337,
    "start_time": "2021-08-23T12:52:24.122Z"
   },
   {
    "duration": -341,
    "start_time": "2021-08-23T12:52:24.127Z"
   },
   {
    "duration": -343,
    "start_time": "2021-08-23T12:52:24.131Z"
   },
   {
    "duration": -345,
    "start_time": "2021-08-23T12:52:24.135Z"
   },
   {
    "duration": -347,
    "start_time": "2021-08-23T12:52:24.138Z"
   },
   {
    "duration": -350,
    "start_time": "2021-08-23T12:52:24.142Z"
   },
   {
    "duration": -351,
    "start_time": "2021-08-23T12:52:24.145Z"
   },
   {
    "duration": -354,
    "start_time": "2021-08-23T12:52:24.149Z"
   },
   {
    "duration": 4,
    "start_time": "2021-08-23T12:53:18.512Z"
   },
   {
    "duration": 13,
    "start_time": "2021-08-23T12:53:18.519Z"
   },
   {
    "duration": 10,
    "start_time": "2021-08-23T12:53:18.535Z"
   },
   {
    "duration": 13,
    "start_time": "2021-08-23T12:53:18.548Z"
   },
   {
    "duration": 792,
    "start_time": "2021-08-23T12:53:18.563Z"
   },
   {
    "duration": 127,
    "start_time": "2021-08-23T12:53:19.357Z"
   },
   {
    "duration": 18,
    "start_time": "2021-08-23T12:53:19.488Z"
   },
   {
    "duration": 34,
    "start_time": "2021-08-23T12:53:19.509Z"
   },
   {
    "duration": 1017,
    "start_time": "2021-08-23T12:53:19.546Z"
   },
   {
    "duration": 5,
    "start_time": "2021-08-23T12:53:20.565Z"
   },
   {
    "duration": 15,
    "start_time": "2021-08-23T12:53:20.572Z"
   },
   {
    "duration": 39,
    "start_time": "2021-08-23T12:53:20.590Z"
   },
   {
    "duration": 47,
    "start_time": "2021-08-23T12:53:20.632Z"
   },
   {
    "duration": 12,
    "start_time": "2021-08-23T12:53:20.681Z"
   },
   {
    "duration": 28,
    "start_time": "2021-08-23T12:53:20.696Z"
   },
   {
    "duration": 39,
    "start_time": "2021-08-23T12:53:20.726Z"
   },
   {
    "duration": 32,
    "start_time": "2021-08-23T12:53:20.767Z"
   },
   {
    "duration": 20,
    "start_time": "2021-08-23T12:53:20.801Z"
   },
   {
    "duration": 9,
    "start_time": "2021-08-23T12:53:20.827Z"
   },
   {
    "duration": 18,
    "start_time": "2021-08-23T12:53:20.861Z"
   },
   {
    "duration": 15,
    "start_time": "2021-08-23T12:53:20.882Z"
   },
   {
    "duration": 9,
    "start_time": "2021-08-23T12:53:20.901Z"
   },
   {
    "duration": 58,
    "start_time": "2021-08-23T12:53:20.913Z"
   },
   {
    "duration": 15,
    "start_time": "2021-08-23T12:53:20.974Z"
   },
   {
    "duration": 592,
    "start_time": "2021-08-23T12:53:20.992Z"
   },
   {
    "duration": 12,
    "start_time": "2021-08-23T12:53:21.587Z"
   },
   {
    "duration": 165,
    "start_time": "2021-08-23T12:53:21.601Z"
   },
   {
    "duration": 18,
    "start_time": "2021-08-23T12:53:21.769Z"
   },
   {
    "duration": 119,
    "start_time": "2021-08-23T12:53:21.790Z"
   },
   {
    "duration": 214,
    "start_time": "2021-08-23T12:53:21.911Z"
   },
   {
    "duration": 107,
    "start_time": "2021-08-23T12:53:22.127Z"
   },
   {
    "duration": 31,
    "start_time": "2021-08-23T12:53:22.236Z"
   },
   {
    "duration": 91,
    "start_time": "2021-08-23T12:53:22.270Z"
   },
   {
    "duration": 64,
    "start_time": "2021-08-23T12:53:22.363Z"
   },
   {
    "duration": 6,
    "start_time": "2021-08-23T12:53:22.429Z"
   },
   {
    "duration": 2317,
    "start_time": "2021-08-23T12:53:22.437Z"
   },
   {
    "duration": 15,
    "start_time": "2021-08-23T12:53:24.756Z"
   },
   {
    "duration": 29,
    "start_time": "2021-08-23T12:53:24.774Z"
   },
   {
    "duration": 19,
    "start_time": "2021-08-23T12:53:24.806Z"
   },
   {
    "duration": 99,
    "start_time": "2021-08-23T12:53:24.827Z"
   },
   {
    "duration": 7,
    "start_time": "2021-08-23T12:53:24.929Z"
   },
   {
    "duration": 33,
    "start_time": "2021-08-23T12:53:24.939Z"
   },
   {
    "duration": 86,
    "start_time": "2021-08-23T12:53:24.975Z"
   },
   {
    "duration": 23,
    "start_time": "2021-08-23T12:53:25.063Z"
   },
   {
    "duration": 72,
    "start_time": "2021-08-23T12:53:25.089Z"
   },
   {
    "duration": 11,
    "start_time": "2021-08-23T12:53:25.164Z"
   },
   {
    "duration": 84,
    "start_time": "2021-08-23T12:53:25.178Z"
   },
   {
    "duration": 12,
    "start_time": "2021-08-23T12:53:25.264Z"
   },
   {
    "duration": 92,
    "start_time": "2021-08-23T12:53:25.279Z"
   },
   {
    "duration": 97,
    "start_time": "2021-08-23T12:53:25.374Z"
   },
   {
    "duration": 73,
    "start_time": "2021-08-23T12:53:25.473Z"
   },
   {
    "duration": 78,
    "start_time": "2021-08-23T12:53:25.562Z"
   },
   {
    "duration": 97,
    "start_time": "2021-08-23T12:53:25.643Z"
   },
   {
    "duration": 8,
    "start_time": "2021-08-23T12:53:25.763Z"
   },
   {
    "duration": 109,
    "start_time": "2021-08-23T12:53:25.780Z"
   },
   {
    "duration": 20,
    "start_time": "2021-08-23T12:53:25.892Z"
   },
   {
    "duration": 112,
    "start_time": "2021-08-23T12:53:25.914Z"
   },
   {
    "duration": 111,
    "start_time": "2021-08-23T12:53:26.028Z"
   },
   {
    "duration": 5888,
    "start_time": "2021-08-23T13:41:23.611Z"
   },
   {
    "duration": 5883,
    "start_time": "2021-08-23T13:41:23.619Z"
   },
   {
    "duration": 5873,
    "start_time": "2021-08-23T13:41:23.631Z"
   },
   {
    "duration": 5868,
    "start_time": "2021-08-23T13:41:23.639Z"
   },
   {
    "duration": 5866,
    "start_time": "2021-08-23T13:41:23.643Z"
   },
   {
    "duration": 5861,
    "start_time": "2021-08-23T13:41:23.649Z"
   },
   {
    "duration": 5852,
    "start_time": "2021-08-23T13:41:23.660Z"
   },
   {
    "duration": 5847,
    "start_time": "2021-08-23T13:41:23.666Z"
   },
   {
    "duration": 5843,
    "start_time": "2021-08-23T13:41:23.672Z"
   },
   {
    "duration": 5836,
    "start_time": "2021-08-23T13:41:23.680Z"
   },
   {
    "duration": 5830,
    "start_time": "2021-08-23T13:41:23.687Z"
   },
   {
    "duration": 5825,
    "start_time": "2021-08-23T13:41:23.693Z"
   },
   {
    "duration": 5818,
    "start_time": "2021-08-23T13:41:23.702Z"
   },
   {
    "duration": 5811,
    "start_time": "2021-08-23T13:41:23.710Z"
   },
   {
    "duration": 5792,
    "start_time": "2021-08-23T13:41:23.730Z"
   },
   {
    "duration": 5781,
    "start_time": "2021-08-23T13:41:23.742Z"
   },
   {
    "duration": 5776,
    "start_time": "2021-08-23T13:41:23.748Z"
   },
   {
    "duration": 5767,
    "start_time": "2021-08-23T13:41:23.758Z"
   },
   {
    "duration": 5814,
    "start_time": "2021-08-23T13:41:23.765Z"
   },
   {
    "duration": 5808,
    "start_time": "2021-08-23T13:41:23.774Z"
   },
   {
    "duration": 5803,
    "start_time": "2021-08-23T13:41:23.780Z"
   },
   {
    "duration": 5796,
    "start_time": "2021-08-23T13:41:23.789Z"
   },
   {
    "duration": 5793,
    "start_time": "2021-08-23T13:41:23.794Z"
   },
   {
    "duration": 5787,
    "start_time": "2021-08-23T13:41:23.803Z"
   },
   {
    "duration": 5788,
    "start_time": "2021-08-23T13:41:23.809Z"
   },
   {
    "duration": 5783,
    "start_time": "2021-08-23T13:41:23.816Z"
   },
   {
    "duration": 5777,
    "start_time": "2021-08-23T13:41:23.824Z"
   },
   {
    "duration": 5542,
    "start_time": "2021-08-23T13:41:24.061Z"
   },
   {
    "duration": 5530,
    "start_time": "2021-08-23T13:41:24.075Z"
   },
   {
    "duration": 5525,
    "start_time": "2021-08-23T13:41:24.081Z"
   },
   {
    "duration": 5521,
    "start_time": "2021-08-23T13:41:24.087Z"
   },
   {
    "duration": 5517,
    "start_time": "2021-08-23T13:41:24.092Z"
   },
   {
    "duration": 5513,
    "start_time": "2021-08-23T13:41:24.098Z"
   },
   {
    "duration": 5507,
    "start_time": "2021-08-23T13:41:24.105Z"
   },
   {
    "duration": 5556,
    "start_time": "2021-08-23T13:41:24.110Z"
   },
   {
    "duration": 5531,
    "start_time": "2021-08-23T13:41:24.138Z"
   },
   {
    "duration": 5536,
    "start_time": "2021-08-23T13:41:24.142Z"
   },
   {
    "duration": 5533,
    "start_time": "2021-08-23T13:41:24.147Z"
   },
   {
    "duration": 5534,
    "start_time": "2021-08-23T13:41:24.152Z"
   },
   {
    "duration": 5530,
    "start_time": "2021-08-23T13:41:24.158Z"
   },
   {
    "duration": 5533,
    "start_time": "2021-08-23T13:41:24.162Z"
   },
   {
    "duration": 5531,
    "start_time": "2021-08-23T13:41:24.167Z"
   },
   {
    "duration": 5528,
    "start_time": "2021-08-23T13:41:24.172Z"
   },
   {
    "duration": 5515,
    "start_time": "2021-08-23T13:41:24.187Z"
   },
   {
    "duration": 5513,
    "start_time": "2021-08-23T13:41:24.191Z"
   },
   {
    "duration": 5509,
    "start_time": "2021-08-23T13:41:24.196Z"
   },
   {
    "duration": 5504,
    "start_time": "2021-08-23T13:41:24.202Z"
   },
   {
    "duration": 5499,
    "start_time": "2021-08-23T13:41:24.208Z"
   },
   {
    "duration": 5496,
    "start_time": "2021-08-23T13:41:24.213Z"
   },
   {
    "duration": 5492,
    "start_time": "2021-08-23T13:41:24.218Z"
   },
   {
    "duration": 5488,
    "start_time": "2021-08-23T13:41:24.223Z"
   },
   {
    "duration": 5484,
    "start_time": "2021-08-23T13:41:24.229Z"
   },
   {
    "duration": 5481,
    "start_time": "2021-08-23T13:41:24.233Z"
   },
   {
    "duration": 5477,
    "start_time": "2021-08-23T13:41:24.239Z"
   },
   {
    "duration": 5473,
    "start_time": "2021-08-23T13:41:24.244Z"
   },
   {
    "duration": 5465,
    "start_time": "2021-08-23T13:41:24.253Z"
   },
   {
    "duration": 5461,
    "start_time": "2021-08-23T13:41:24.258Z"
   },
   {
    "duration": 5458,
    "start_time": "2021-08-23T13:41:24.263Z"
   },
   {
    "duration": 4,
    "start_time": "2021-08-23T13:41:50.936Z"
   },
   {
    "duration": 16,
    "start_time": "2021-08-23T13:41:50.942Z"
   },
   {
    "duration": 12,
    "start_time": "2021-08-23T13:41:50.961Z"
   },
   {
    "duration": 31,
    "start_time": "2021-08-23T13:41:50.976Z"
   },
   {
    "duration": 1334,
    "start_time": "2021-08-23T13:41:51.010Z"
   },
   {
    "duration": 6148,
    "start_time": "2021-08-23T13:41:46.203Z"
   },
   {
    "duration": 6139,
    "start_time": "2021-08-23T13:41:46.213Z"
   },
   {
    "duration": 6126,
    "start_time": "2021-08-23T13:41:46.228Z"
   },
   {
    "duration": 6122,
    "start_time": "2021-08-23T13:41:46.233Z"
   },
   {
    "duration": 6119,
    "start_time": "2021-08-23T13:41:46.238Z"
   },
   {
    "duration": 6116,
    "start_time": "2021-08-23T13:41:46.242Z"
   },
   {
    "duration": 6111,
    "start_time": "2021-08-23T13:41:46.249Z"
   },
   {
    "duration": 6108,
    "start_time": "2021-08-23T13:41:46.253Z"
   },
   {
    "duration": 6105,
    "start_time": "2021-08-23T13:41:46.258Z"
   },
   {
    "duration": 6101,
    "start_time": "2021-08-23T13:41:46.263Z"
   },
   {
    "duration": 6098,
    "start_time": "2021-08-23T13:41:46.268Z"
   },
   {
    "duration": 6095,
    "start_time": "2021-08-23T13:41:46.272Z"
   },
   {
    "duration": 6092,
    "start_time": "2021-08-23T13:41:46.277Z"
   },
   {
    "duration": 6090,
    "start_time": "2021-08-23T13:41:46.282Z"
   },
   {
    "duration": 6089,
    "start_time": "2021-08-23T13:41:46.287Z"
   },
   {
    "duration": 6078,
    "start_time": "2021-08-23T13:41:46.300Z"
   },
   {
    "duration": 6076,
    "start_time": "2021-08-23T13:41:46.305Z"
   },
   {
    "duration": 6073,
    "start_time": "2021-08-23T13:41:46.310Z"
   },
   {
    "duration": 6074,
    "start_time": "2021-08-23T13:41:46.316Z"
   },
   {
    "duration": 6071,
    "start_time": "2021-08-23T13:41:46.321Z"
   },
   {
    "duration": 6067,
    "start_time": "2021-08-23T13:41:46.327Z"
   },
   {
    "duration": 6039,
    "start_time": "2021-08-23T13:41:46.358Z"
   },
   {
    "duration": 6036,
    "start_time": "2021-08-23T13:41:46.363Z"
   },
   {
    "duration": 6028,
    "start_time": "2021-08-23T13:41:46.374Z"
   },
   {
    "duration": 5997,
    "start_time": "2021-08-23T13:41:46.407Z"
   },
   {
    "duration": 5994,
    "start_time": "2021-08-23T13:41:46.412Z"
   },
   {
    "duration": 5964,
    "start_time": "2021-08-23T13:41:46.444Z"
   },
   {
    "duration": 5962,
    "start_time": "2021-08-23T13:41:46.448Z"
   },
   {
    "duration": 5958,
    "start_time": "2021-08-23T13:41:46.454Z"
   },
   {
    "duration": 5924,
    "start_time": "2021-08-23T13:41:46.490Z"
   },
   {
    "duration": 5921,
    "start_time": "2021-08-23T13:41:46.496Z"
   },
   {
    "duration": 5796,
    "start_time": "2021-08-23T13:41:46.623Z"
   },
   {
    "duration": 5793,
    "start_time": "2021-08-23T13:41:46.628Z"
   },
   {
    "duration": 5790,
    "start_time": "2021-08-23T13:41:46.633Z"
   },
   {
    "duration": 5786,
    "start_time": "2021-08-23T13:41:46.638Z"
   },
   {
    "duration": 5823,
    "start_time": "2021-08-23T13:41:46.643Z"
   },
   {
    "duration": 5820,
    "start_time": "2021-08-23T13:41:46.648Z"
   },
   {
    "duration": 5817,
    "start_time": "2021-08-23T13:41:46.652Z"
   },
   {
    "duration": 5813,
    "start_time": "2021-08-23T13:41:46.657Z"
   },
   {
    "duration": 5703,
    "start_time": "2021-08-23T13:41:46.769Z"
   },
   {
    "duration": 5699,
    "start_time": "2021-08-23T13:41:46.774Z"
   },
   {
    "duration": 5698,
    "start_time": "2021-08-23T13:41:46.779Z"
   },
   {
    "duration": 5697,
    "start_time": "2021-08-23T13:41:46.783Z"
   },
   {
    "duration": 5687,
    "start_time": "2021-08-23T13:41:46.796Z"
   },
   {
    "duration": 5686,
    "start_time": "2021-08-23T13:41:46.801Z"
   },
   {
    "duration": 5684,
    "start_time": "2021-08-23T13:41:46.805Z"
   },
   {
    "duration": 5652,
    "start_time": "2021-08-23T13:41:46.840Z"
   },
   {
    "duration": 5648,
    "start_time": "2021-08-23T13:41:46.845Z"
   },
   {
    "duration": 5646,
    "start_time": "2021-08-23T13:41:46.849Z"
   },
   {
    "duration": 5643,
    "start_time": "2021-08-23T13:41:46.854Z"
   },
   {
    "duration": 5640,
    "start_time": "2021-08-23T13:41:46.859Z"
   },
   {
    "duration": 5638,
    "start_time": "2021-08-23T13:41:46.863Z"
   },
   {
    "duration": 5636,
    "start_time": "2021-08-23T13:41:46.868Z"
   },
   {
    "duration": 15820,
    "start_time": "2021-08-23T13:43:52.821Z"
   },
   {
    "duration": 5505,
    "start_time": "2021-08-23T13:44:08.644Z"
   },
   {
    "duration": 25369,
    "start_time": "2021-08-23T13:44:14.153Z"
   },
   {
    "duration": 6684,
    "start_time": "2021-08-23T13:44:39.526Z"
   },
   {
    "duration": 877,
    "start_time": "2021-08-23T13:44:46.212Z"
   },
   {
    "duration": 207,
    "start_time": "2021-08-23T13:44:47.092Z"
   },
   {
    "duration": 30,
    "start_time": "2021-08-23T13:44:47.302Z"
   },
   {
    "duration": 44,
    "start_time": "2021-08-23T13:44:47.338Z"
   },
   {
    "duration": 1257,
    "start_time": "2021-08-23T13:44:47.386Z"
   },
   {
    "duration": 6,
    "start_time": "2021-08-23T13:44:48.646Z"
   },
   {
    "duration": 19,
    "start_time": "2021-08-23T13:44:48.655Z"
   },
   {
    "duration": 26,
    "start_time": "2021-08-23T13:44:48.677Z"
   },
   {
    "duration": 66,
    "start_time": "2021-08-23T13:44:48.706Z"
   },
   {
    "duration": 16,
    "start_time": "2021-08-23T13:44:48.776Z"
   },
   {
    "duration": 23,
    "start_time": "2021-08-23T13:44:48.795Z"
   },
   {
    "duration": 55,
    "start_time": "2021-08-23T13:44:48.821Z"
   },
   {
    "duration": 31,
    "start_time": "2021-08-23T13:44:48.879Z"
   },
   {
    "duration": 21,
    "start_time": "2021-08-23T13:44:48.912Z"
   },
   {
    "duration": 35,
    "start_time": "2021-08-23T13:44:48.936Z"
   },
   {
    "duration": 24,
    "start_time": "2021-08-23T13:44:48.974Z"
   },
   {
    "duration": 13,
    "start_time": "2021-08-23T13:44:49.000Z"
   },
   {
    "duration": 50,
    "start_time": "2021-08-23T13:44:49.017Z"
   },
   {
    "duration": 21,
    "start_time": "2021-08-23T13:44:49.076Z"
   },
   {
    "duration": 21,
    "start_time": "2021-08-23T13:44:49.100Z"
   },
   {
    "duration": 690,
    "start_time": "2021-08-23T13:44:49.123Z"
   },
   {
    "duration": 12,
    "start_time": "2021-08-23T13:44:49.816Z"
   },
   {
    "duration": 238,
    "start_time": "2021-08-23T13:44:49.831Z"
   },
   {
    "duration": 24,
    "start_time": "2021-08-23T13:44:50.073Z"
   },
   {
    "duration": 167,
    "start_time": "2021-08-23T13:44:50.100Z"
   },
   {
    "duration": 205,
    "start_time": "2021-08-23T13:44:50.271Z"
   },
   {
    "duration": 138,
    "start_time": "2021-08-23T13:44:50.479Z"
   },
   {
    "duration": 17,
    "start_time": "2021-08-23T13:44:50.620Z"
   },
   {
    "duration": 108,
    "start_time": "2021-08-23T13:44:50.639Z"
   },
   {
    "duration": 85,
    "start_time": "2021-08-23T13:44:50.750Z"
   },
   {
    "duration": 6,
    "start_time": "2021-08-23T13:44:50.837Z"
   },
   {
    "duration": 2788,
    "start_time": "2021-08-23T13:44:50.867Z"
   },
   {
    "duration": 22,
    "start_time": "2021-08-23T13:44:53.657Z"
   },
   {
    "duration": 724,
    "start_time": "2021-08-23T13:44:53.683Z"
   },
   {
    "duration": 649,
    "start_time": "2021-08-23T13:44:54.410Z"
   },
   {
    "duration": 1487,
    "start_time": "2021-08-23T13:44:55.061Z"
   },
   {
    "duration": 415,
    "start_time": "2021-08-23T13:44:56.551Z"
   },
   {
    "duration": 1966,
    "start_time": "2021-08-23T13:44:56.970Z"
   },
   {
    "duration": 120,
    "start_time": "2021-08-23T13:44:58.938Z"
   },
   {
    "duration": 19,
    "start_time": "2021-08-23T13:44:59.061Z"
   },
   {
    "duration": 84,
    "start_time": "2021-08-23T13:44:59.086Z"
   },
   {
    "duration": 18,
    "start_time": "2021-08-23T13:44:59.174Z"
   },
   {
    "duration": 115,
    "start_time": "2021-08-23T13:44:59.195Z"
   },
   {
    "duration": 11,
    "start_time": "2021-08-23T13:44:59.313Z"
   },
   {
    "duration": 99,
    "start_time": "2021-08-23T13:44:59.326Z"
   },
   {
    "duration": 103,
    "start_time": "2021-08-23T13:44:59.427Z"
   },
   {
    "duration": 113,
    "start_time": "2021-08-23T13:44:59.534Z"
   },
   {
    "duration": 96,
    "start_time": "2021-08-23T13:44:59.649Z"
   },
   {
    "duration": 105,
    "start_time": "2021-08-23T13:44:59.747Z"
   },
   {
    "duration": 11,
    "start_time": "2021-08-23T13:44:59.868Z"
   },
   {
    "duration": 127,
    "start_time": "2021-08-23T13:44:59.883Z"
   },
   {
    "duration": 16,
    "start_time": "2021-08-23T13:45:00.012Z"
   },
   {
    "duration": 127,
    "start_time": "2021-08-23T13:45:00.031Z"
   },
   {
    "duration": 133,
    "start_time": "2021-08-23T13:45:00.161Z"
   },
   {
    "duration": 315,
    "start_time": "2021-08-24T17:06:32.270Z"
   },
   {
    "duration": 11545,
    "start_time": "2021-08-24T17:06:39.556Z"
   },
   {
    "duration": 3936,
    "start_time": "2021-08-24T17:06:51.103Z"
   },
   {
    "duration": 19517,
    "start_time": "2021-08-24T17:06:55.043Z"
   },
   {
    "duration": 6122,
    "start_time": "2021-08-24T17:07:14.563Z"
   },
   {
    "duration": 779,
    "start_time": "2021-08-24T17:07:20.688Z"
   },
   {
    "duration": 121,
    "start_time": "2021-08-24T17:07:21.469Z"
   },
   {
    "duration": 19,
    "start_time": "2021-08-24T17:07:21.592Z"
   },
   {
    "duration": 37,
    "start_time": "2021-08-24T17:07:21.615Z"
   },
   {
    "duration": 1011,
    "start_time": "2021-08-24T17:07:21.656Z"
   },
   {
    "duration": 4,
    "start_time": "2021-08-24T17:07:22.669Z"
   },
   {
    "duration": 20,
    "start_time": "2021-08-24T17:07:22.676Z"
   },
   {
    "duration": 48,
    "start_time": "2021-08-24T17:07:22.698Z"
   },
   {
    "duration": 33,
    "start_time": "2021-08-24T17:07:22.749Z"
   },
   {
    "duration": 13,
    "start_time": "2021-08-24T17:07:22.785Z"
   },
   {
    "duration": 46,
    "start_time": "2021-08-24T17:07:22.800Z"
   },
   {
    "duration": 32,
    "start_time": "2021-08-24T17:07:22.849Z"
   },
   {
    "duration": 31,
    "start_time": "2021-08-24T17:07:22.883Z"
   },
   {
    "duration": 28,
    "start_time": "2021-08-24T17:07:22.917Z"
   },
   {
    "duration": 23,
    "start_time": "2021-08-24T17:07:22.947Z"
   },
   {
    "duration": 37,
    "start_time": "2021-08-24T17:07:22.973Z"
   },
   {
    "duration": 13,
    "start_time": "2021-08-24T17:07:23.013Z"
   },
   {
    "duration": 13,
    "start_time": "2021-08-24T17:07:23.029Z"
   },
   {
    "duration": 21,
    "start_time": "2021-08-24T17:07:23.048Z"
   },
   {
    "duration": 20,
    "start_time": "2021-08-24T17:07:23.072Z"
   },
   {
    "duration": 594,
    "start_time": "2021-08-24T17:07:23.094Z"
   },
   {
    "duration": 71,
    "start_time": "2021-08-24T17:07:23.691Z"
   },
   {
    "duration": 16,
    "start_time": "2021-08-24T17:07:23.765Z"
   },
   {
    "duration": 199,
    "start_time": "2021-08-24T17:07:23.783Z"
   },
   {
    "duration": 20,
    "start_time": "2021-08-24T17:07:23.985Z"
   },
   {
    "duration": 103,
    "start_time": "2021-08-24T17:07:24.063Z"
   },
   {
    "duration": 178,
    "start_time": "2021-08-24T17:07:24.168Z"
   },
   {
    "duration": 119,
    "start_time": "2021-08-24T17:07:24.349Z"
   },
   {
    "duration": 16,
    "start_time": "2021-08-24T17:07:24.470Z"
   },
   {
    "duration": 102,
    "start_time": "2021-08-24T17:07:24.488Z"
   },
   {
    "duration": 69,
    "start_time": "2021-08-24T17:07:24.593Z"
   },
   {
    "duration": 6,
    "start_time": "2021-08-24T17:07:24.664Z"
   },
   {
    "duration": 2291,
    "start_time": "2021-08-24T17:07:24.672Z"
   },
   {
    "duration": 12,
    "start_time": "2021-08-24T17:07:26.965Z"
   },
   {
    "duration": 20,
    "start_time": "2021-08-24T17:07:26.979Z"
   },
   {
    "duration": 18,
    "start_time": "2021-08-24T17:07:27.001Z"
   },
   {
    "duration": 108,
    "start_time": "2021-08-24T17:07:27.021Z"
   },
   {
    "duration": 7,
    "start_time": "2021-08-24T17:07:27.132Z"
   },
   {
    "duration": 29,
    "start_time": "2021-08-24T17:07:27.141Z"
   },
   {
    "duration": 63,
    "start_time": "2021-08-24T17:07:27.172Z"
   },
   {
    "duration": 35,
    "start_time": "2021-08-24T17:07:27.238Z"
   },
   {
    "duration": 71,
    "start_time": "2021-08-24T17:07:27.275Z"
   },
   {
    "duration": 22,
    "start_time": "2021-08-24T17:07:27.349Z"
   },
   {
    "duration": 94,
    "start_time": "2021-08-24T17:07:27.374Z"
   },
   {
    "duration": 16,
    "start_time": "2021-08-24T17:07:27.472Z"
   },
   {
    "duration": 92,
    "start_time": "2021-08-24T17:07:27.490Z"
   },
   {
    "duration": 87,
    "start_time": "2021-08-24T17:07:27.584Z"
   },
   {
    "duration": 93,
    "start_time": "2021-08-24T17:07:27.673Z"
   },
   {
    "duration": 73,
    "start_time": "2021-08-24T17:07:27.769Z"
   },
   {
    "duration": 93,
    "start_time": "2021-08-24T17:07:27.844Z"
   },
   {
    "duration": 24,
    "start_time": "2021-08-24T17:07:27.939Z"
   },
   {
    "duration": 110,
    "start_time": "2021-08-24T17:07:27.966Z"
   },
   {
    "duration": 19,
    "start_time": "2021-08-24T17:07:28.080Z"
   },
   {
    "duration": 137,
    "start_time": "2021-08-24T17:07:28.102Z"
   },
   {
    "duration": 99,
    "start_time": "2021-08-24T17:07:28.242Z"
   },
   {
    "duration": 482,
    "start_time": "2021-08-24T17:08:22.647Z"
   },
   {
    "duration": 270,
    "start_time": "2021-08-24T17:08:36.246Z"
   },
   {
    "duration": 594,
    "start_time": "2021-08-24T17:08:47.578Z"
   },
   {
    "duration": 309,
    "start_time": "2021-08-24T17:08:52.514Z"
   },
   {
    "duration": 33,
    "start_time": "2021-08-24T17:09:09.017Z"
   },
   {
    "duration": 508,
    "start_time": "2021-08-24T17:24:06.083Z"
   },
   {
    "duration": 9,
    "start_time": "2021-08-24T17:25:43.564Z"
   },
   {
    "duration": 16,
    "start_time": "2021-08-24T17:25:46.656Z"
   },
   {
    "duration": 3813,
    "start_time": "2021-08-24T17:28:31.100Z"
   },
   {
    "duration": 3076,
    "start_time": "2021-08-24T17:28:34.916Z"
   },
   {
    "duration": 3754,
    "start_time": "2021-08-24T17:28:37.995Z"
   },
   {
    "duration": 3082,
    "start_time": "2021-08-24T17:28:41.752Z"
   },
   {
    "duration": 811,
    "start_time": "2021-08-24T17:28:44.837Z"
   },
   {
    "duration": 135,
    "start_time": "2021-08-24T17:28:45.650Z"
   },
   {
    "duration": 19,
    "start_time": "2021-08-24T17:28:45.787Z"
   },
   {
    "duration": 26,
    "start_time": "2021-08-24T17:28:45.810Z"
   },
   {
    "duration": 1046,
    "start_time": "2021-08-24T17:28:45.839Z"
   },
   {
    "duration": 4,
    "start_time": "2021-08-24T17:28:46.888Z"
   },
   {
    "duration": 16,
    "start_time": "2021-08-24T17:28:46.895Z"
   },
   {
    "duration": 30,
    "start_time": "2021-08-24T17:28:46.913Z"
   },
   {
    "duration": 49,
    "start_time": "2021-08-24T17:28:46.946Z"
   },
   {
    "duration": 16,
    "start_time": "2021-08-24T17:28:46.998Z"
   },
   {
    "duration": 53,
    "start_time": "2021-08-24T17:28:47.017Z"
   },
   {
    "duration": 24,
    "start_time": "2021-08-24T17:28:47.072Z"
   },
   {
    "duration": 22,
    "start_time": "2021-08-24T17:28:47.099Z"
   },
   {
    "duration": 50,
    "start_time": "2021-08-24T17:28:47.124Z"
   },
   {
    "duration": 10,
    "start_time": "2021-08-24T17:28:47.177Z"
   },
   {
    "duration": 23,
    "start_time": "2021-08-24T17:28:47.190Z"
   },
   {
    "duration": 14,
    "start_time": "2021-08-24T17:28:47.216Z"
   },
   {
    "duration": 8,
    "start_time": "2021-08-24T17:28:47.263Z"
   },
   {
    "duration": 18,
    "start_time": "2021-08-24T17:28:47.276Z"
   },
   {
    "duration": 14,
    "start_time": "2021-08-24T17:28:47.298Z"
   },
   {
    "duration": 591,
    "start_time": "2021-08-24T17:28:47.315Z"
   },
   {
    "duration": 53,
    "start_time": "2021-08-24T17:28:47.909Z"
   },
   {
    "duration": 123,
    "start_time": "2021-08-24T17:28:47.964Z"
   },
   {
    "duration": 83,
    "start_time": "2021-08-24T17:28:48.090Z"
   },
   {
    "duration": 98,
    "start_time": "2021-08-24T17:28:48.175Z"
   },
   {
    "duration": 200,
    "start_time": "2021-08-24T17:28:48.275Z"
   },
   {
    "duration": 124,
    "start_time": "2021-08-24T17:28:48.478Z"
   },
   {
    "duration": 16,
    "start_time": "2021-08-24T17:28:48.605Z"
   },
   {
    "duration": 106,
    "start_time": "2021-08-24T17:28:48.624Z"
   },
   {
    "duration": 79,
    "start_time": "2021-08-24T17:28:48.732Z"
   },
   {
    "duration": 9,
    "start_time": "2021-08-24T17:28:48.813Z"
   },
   {
    "duration": 2220,
    "start_time": "2021-08-24T17:28:48.825Z"
   },
   {
    "duration": 18,
    "start_time": "2021-08-24T17:28:51.048Z"
   },
   {
    "duration": 8,
    "start_time": "2021-08-24T17:28:51.069Z"
   },
   {
    "duration": 17,
    "start_time": "2021-08-24T17:28:51.080Z"
   },
   {
    "duration": 23,
    "start_time": "2021-08-24T17:28:51.101Z"
   },
   {
    "duration": 110,
    "start_time": "2021-08-24T17:28:51.126Z"
   },
   {
    "duration": 24,
    "start_time": "2021-08-24T17:28:51.238Z"
   },
   {
    "duration": 15,
    "start_time": "2021-08-24T17:28:51.265Z"
   },
   {
    "duration": 80,
    "start_time": "2021-08-24T17:28:51.282Z"
   },
   {
    "duration": 11,
    "start_time": "2021-08-24T17:28:51.365Z"
   },
   {
    "duration": 85,
    "start_time": "2021-08-24T17:28:51.378Z"
   },
   {
    "duration": 11,
    "start_time": "2021-08-24T17:28:51.466Z"
   },
   {
    "duration": 748,
    "start_time": "2021-08-24T17:28:51.479Z"
   },
   {
    "duration": -136,
    "start_time": "2021-08-24T17:28:52.366Z"
   },
   {
    "duration": -183,
    "start_time": "2021-08-24T17:28:52.415Z"
   },
   {
    "duration": -206,
    "start_time": "2021-08-24T17:28:52.439Z"
   },
   {
    "duration": -212,
    "start_time": "2021-08-24T17:28:52.447Z"
   },
   {
    "duration": -216,
    "start_time": "2021-08-24T17:28:52.453Z"
   },
   {
    "duration": -223,
    "start_time": "2021-08-24T17:28:52.461Z"
   },
   {
    "duration": -228,
    "start_time": "2021-08-24T17:28:52.468Z"
   },
   {
    "duration": -234,
    "start_time": "2021-08-24T17:28:52.475Z"
   },
   {
    "duration": -239,
    "start_time": "2021-08-24T17:28:52.482Z"
   },
   {
    "duration": -245,
    "start_time": "2021-08-24T17:28:52.489Z"
   },
   {
    "duration": -251,
    "start_time": "2021-08-24T17:28:52.497Z"
   },
   {
    "duration": 10,
    "start_time": "2021-08-24T17:29:36.800Z"
   },
   {
    "duration": 19,
    "start_time": "2021-08-24T17:29:36.813Z"
   },
   {
    "duration": 100,
    "start_time": "2021-08-24T17:29:36.836Z"
   },
   {
    "duration": 33,
    "start_time": "2021-08-24T17:29:36.939Z"
   },
   {
    "duration": 69,
    "start_time": "2021-08-24T17:29:36.975Z"
   },
   {
    "duration": 24,
    "start_time": "2021-08-24T17:29:37.046Z"
   },
   {
    "duration": 65,
    "start_time": "2021-08-24T17:29:37.072Z"
   },
   {
    "duration": 12,
    "start_time": "2021-08-24T17:29:37.163Z"
   },
   {
    "duration": 87,
    "start_time": "2021-08-24T17:29:37.179Z"
   },
   {
    "duration": 76,
    "start_time": "2021-08-24T17:29:37.268Z"
   },
   {
    "duration": 80,
    "start_time": "2021-08-24T17:29:37.362Z"
   },
   {
    "duration": 93,
    "start_time": "2021-08-24T17:29:37.444Z"
   },
   {
    "duration": 96,
    "start_time": "2021-08-24T17:29:37.539Z"
   },
   {
    "duration": 28,
    "start_time": "2021-08-24T17:29:37.637Z"
   },
   {
    "duration": 116,
    "start_time": "2021-08-24T17:29:37.667Z"
   },
   {
    "duration": 33,
    "start_time": "2021-08-24T17:29:37.785Z"
   },
   {
    "duration": 121,
    "start_time": "2021-08-24T17:29:37.820Z"
   },
   {
    "duration": 119,
    "start_time": "2021-08-24T17:29:37.943Z"
   },
   {
    "duration": 1109,
    "start_time": "2021-09-17T12:14:32.329Z"
   },
   {
    "duration": 5628,
    "start_time": "2021-09-17T12:14:34.949Z"
   },
   {
    "duration": 393,
    "start_time": "2021-09-17T12:15:00.375Z"
   },
   {
    "duration": 6,
    "start_time": "2021-09-17T12:15:11.489Z"
   },
   {
    "duration": 6,
    "start_time": "2021-09-17T12:15:12.623Z"
   },
   {
    "duration": 9,
    "start_time": "2021-09-17T12:15:14.704Z"
   },
   {
    "duration": 6,
    "start_time": "2021-09-17T12:15:16.090Z"
   },
   {
    "duration": 6,
    "start_time": "2021-09-17T12:15:17.239Z"
   },
   {
    "duration": 6,
    "start_time": "2021-09-17T12:15:20.995Z"
   },
   {
    "duration": 16,
    "start_time": "2021-09-17T12:15:27.228Z"
   },
   {
    "duration": 7807,
    "start_time": "2021-09-17T12:16:00.684Z"
   },
   {
    "duration": 9457,
    "start_time": "2021-09-17T12:16:08.493Z"
   },
   {
    "duration": 18,
    "start_time": "2021-09-17T12:16:30.849Z"
   },
   {
    "duration": 3,
    "start_time": "2021-09-17T12:22:21.736Z"
   },
   {
    "duration": 13,
    "start_time": "2021-09-17T12:22:21.741Z"
   },
   {
    "duration": 1784,
    "start_time": "2021-09-17T12:22:21.756Z"
   },
   {
    "duration": 142,
    "start_time": "2021-09-17T12:22:23.542Z"
   },
   {
    "duration": 2,
    "start_time": "2021-09-17T12:22:23.686Z"
   },
   {
    "duration": 28,
    "start_time": "2021-09-17T12:22:23.690Z"
   },
   {
    "duration": 17,
    "start_time": "2021-09-17T12:22:23.720Z"
   },
   {
    "duration": 38,
    "start_time": "2021-09-17T12:22:23.739Z"
   },
   {
    "duration": 20,
    "start_time": "2021-09-17T12:22:23.779Z"
   },
   {
    "duration": 12,
    "start_time": "2021-09-17T12:22:23.801Z"
   },
   {
    "duration": 24,
    "start_time": "2021-09-17T12:22:23.815Z"
   },
   {
    "duration": 21,
    "start_time": "2021-09-17T12:22:23.841Z"
   },
   {
    "duration": 13,
    "start_time": "2021-09-17T12:22:23.864Z"
   },
   {
    "duration": 13,
    "start_time": "2021-09-17T12:22:23.878Z"
   },
   {
    "duration": 17,
    "start_time": "2021-09-17T12:22:23.893Z"
   },
   {
    "duration": 16,
    "start_time": "2021-09-17T12:22:23.911Z"
   },
   {
    "duration": 220,
    "start_time": "2021-09-17T12:22:23.928Z"
   },
   {
    "duration": 246,
    "start_time": "2021-09-17T12:22:24.150Z"
   },
   {
    "duration": 198,
    "start_time": "2021-09-17T12:22:24.400Z"
   },
   {
    "duration": 205,
    "start_time": "2021-09-17T12:22:24.600Z"
   },
   {
    "duration": 3,
    "start_time": "2021-09-17T12:22:24.807Z"
   },
   {
    "duration": 1156,
    "start_time": "2021-09-17T12:22:24.812Z"
   },
   {
    "duration": 17,
    "start_time": "2021-09-17T12:22:25.970Z"
   },
   {
    "duration": 1013,
    "start_time": "2021-09-17T12:22:53.779Z"
   },
   {
    "duration": 16,
    "start_time": "2021-09-17T12:24:12.102Z"
   },
   {
    "duration": 15,
    "start_time": "2021-09-17T12:24:28.503Z"
   },
   {
    "duration": 17,
    "start_time": "2021-09-17T12:24:41.230Z"
   },
   {
    "duration": 186,
    "start_time": "2021-09-17T12:26:51.112Z"
   },
   {
    "duration": 195,
    "start_time": "2021-09-17T12:27:04.612Z"
   },
   {
    "duration": 117,
    "start_time": "2021-09-17T12:37:03.153Z"
   },
   {
    "duration": 18,
    "start_time": "2021-09-17T12:37:07.182Z"
   },
   {
    "duration": 84,
    "start_time": "2021-09-17T12:37:43.476Z"
   },
   {
    "duration": 19,
    "start_time": "2021-09-17T12:38:46.350Z"
   },
   {
    "duration": 86,
    "start_time": "2021-09-17T12:38:48.161Z"
   },
   {
    "duration": 16,
    "start_time": "2021-09-17T12:39:07.701Z"
   },
   {
    "duration": 12,
    "start_time": "2021-09-17T12:40:23.610Z"
   },
   {
    "duration": 17,
    "start_time": "2021-09-17T12:42:41.862Z"
   },
   {
    "duration": 18,
    "start_time": "2021-09-17T12:42:49.006Z"
   },
   {
    "duration": 16,
    "start_time": "2021-09-17T12:43:04.495Z"
   },
   {
    "duration": 83,
    "start_time": "2021-09-17T12:43:11.225Z"
   },
   {
    "duration": 12,
    "start_time": "2021-09-17T12:43:19.742Z"
   },
   {
    "duration": 3,
    "start_time": "2021-09-18T09:47:03.344Z"
   },
   {
    "duration": 3,
    "start_time": "2021-09-18T09:47:12.323Z"
   },
   {
    "duration": 6,
    "start_time": "2021-09-18T09:47:12.328Z"
   },
   {
    "duration": 1478,
    "start_time": "2021-09-18T09:47:12.336Z"
   },
   {
    "duration": 212,
    "start_time": "2021-09-18T09:47:13.816Z"
   },
   {
    "duration": 2,
    "start_time": "2021-09-18T09:47:14.030Z"
   },
   {
    "duration": 11,
    "start_time": "2021-09-18T09:47:14.034Z"
   },
   {
    "duration": 16,
    "start_time": "2021-09-18T09:47:14.047Z"
   },
   {
    "duration": 22,
    "start_time": "2021-09-18T09:47:14.064Z"
   },
   {
    "duration": 6,
    "start_time": "2021-09-18T09:47:14.090Z"
   },
   {
    "duration": 4,
    "start_time": "2021-09-18T09:47:14.099Z"
   },
   {
    "duration": 7,
    "start_time": "2021-09-18T09:47:14.105Z"
   },
   {
    "duration": 12,
    "start_time": "2021-09-18T09:47:14.113Z"
   },
   {
    "duration": 17,
    "start_time": "2021-09-18T09:47:14.126Z"
   },
   {
    "duration": 32,
    "start_time": "2021-09-18T09:47:14.145Z"
   },
   {
    "duration": 9,
    "start_time": "2021-09-18T09:47:14.179Z"
   },
   {
    "duration": 6,
    "start_time": "2021-09-18T09:47:14.190Z"
   },
   {
    "duration": 193,
    "start_time": "2021-09-18T09:47:14.198Z"
   },
   {
    "duration": 3,
    "start_time": "2021-09-18T09:47:14.392Z"
   },
   {
    "duration": 1005,
    "start_time": "2021-09-18T09:47:14.396Z"
   },
   {
    "duration": 16,
    "start_time": "2021-09-18T09:47:15.402Z"
   },
   {
    "duration": 11,
    "start_time": "2021-09-18T09:47:15.419Z"
   },
   {
    "duration": 106,
    "start_time": "2021-09-18T09:47:15.432Z"
   },
   {
    "duration": 16,
    "start_time": "2021-09-18T09:47:15.539Z"
   },
   {
    "duration": 6,
    "start_time": "2021-09-18T09:51:36.592Z"
   },
   {
    "duration": 6,
    "start_time": "2021-09-18T09:54:28.897Z"
   },
   {
    "duration": 5,
    "start_time": "2021-09-18T09:55:53.104Z"
   },
   {
    "duration": 4,
    "start_time": "2021-09-18T10:08:33.371Z"
   },
   {
    "duration": 3,
    "start_time": "2021-09-18T10:08:48.486Z"
   },
   {
    "duration": 3,
    "start_time": "2021-09-18T10:08:54.840Z"
   }
  ],
  "kernelspec": {
   "display_name": "Python 3",
   "language": "python",
   "name": "python3"
  },
  "language_info": {
   "codemirror_mode": {
    "name": "ipython",
    "version": 3
   },
   "file_extension": ".py",
   "mimetype": "text/x-python",
   "name": "python",
   "nbconvert_exporter": "python",
   "pygments_lexer": "ipython3",
   "version": "3.8.8"
  },
  "toc": {
   "base_numbering": 1,
   "nav_menu": {},
   "number_sections": true,
   "sideBar": true,
   "skip_h1_title": true,
   "title_cell": "Table of Contents",
   "title_sidebar": "Contents",
   "toc_cell": false,
   "toc_position": {},
   "toc_section_display": true,
   "toc_window_display": false
  },
  "toc-autonumbering": true,
  "toc-showtags": false
 },
 "nbformat": 4,
 "nbformat_minor": 4
}
