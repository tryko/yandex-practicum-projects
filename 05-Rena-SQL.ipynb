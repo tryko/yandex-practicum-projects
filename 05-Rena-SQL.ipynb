{
 "cells": [
  {
   "cell_type": "markdown",
   "metadata": {},
   "source": [
    "Dear Reviewer,\n",
    "\n",
    "Nice to e-meet you. Thank you for reviewing my work.\n",
    "\n",
    "Rena Bracha"
   ]
  },
  {
   "cell_type": "markdown",
   "metadata": {},
   "source": [
    "<hr style=\"border: 2px solid green;\" />\n",
    "\n",
    "Hello, Rena!🤚 \n",
    "\n",
    "My name is Kseniya Vishnevskaya. I'm going to review your project 😊 \n",
    "\n",
    "✏️You can find my comments in <font color='green'>green</font>, <font color='orange'>yellow</font> or <font color='red'>red</font> boxes like this:\n",
    "\n",
    "<div style=\"border:solid green 2px; padding: 20px\"> <b>Success:</b><br>\n",
    "    I'm using green color if everything is done perfectly.</div>       \n",
    "<br>\n",
    "<div style=\"border:solid orange 2px; padding: 20px\"> <b>Remarks:</b><br>\n",
    "    if I can give some recommendations</div>   \n",
    "<br>\n",
    "<div style=\"border:solid red 2px; padding: 20px\"> <b>Needs fixing:</b><br>\n",
    "    if the block requires some corrections. Work can't be accepted with the red comments</div>\n",
    " \n",
    "Further in the file you can see my comments, try to take them into account when performing the next tasks. **Please, don't delete them.** :)\n",
    "\n",
    "Let's work on the project in dialogue: if you change something in the project or respond to my comments, write about it. It will be easier for me to track the changes if you highlight your comments:\n",
    "\n",
    "<div class=\"alert alert-info\" style=\"border:solid blue 2px; padding: 20px\"> <b>Student comment:</b> In the blue boxes you can leave comments and ask questions.</div>\n",
    "\n",
    "\n",
    "<hr style=\"border: 2px solid green;\" />"
   ]
  },
  {
   "cell_type": "markdown",
   "metadata": {},
   "source": [
    "### <font color='orange'>General feedback</font>"
   ]
  },
  {
   "cell_type": "markdown",
   "metadata": {},
   "source": [
    "<div style=\"border:solid green 2px; padding: 20px\"> <b>Success :</b><br>\n",
    "    Your project looks pretty good! 😊. It's clear you've put a lot of effort into it. I especially  liked the style, code formatting, detailed conclusions, visualization you've made and testing hypothesis. Glad to say that your project  has been accepted. Congratulations! 🥳 Good luck on the next sprint! </div>"
   ]
  },
  {
   "cell_type": "markdown",
   "metadata": {},
   "source": [
    "<div style=\"border:solid orange 2px; padding: 20px\"> <b>Remarks :</b><br>\n",
    "    There are some comments for further improvement. They don't mean that you did anything wrong, but they're things we wanted to point out that can help you further develop your skills. \n",
    "\n",
    "And also I leave several links that can help you to make your further projects even better:\n",
    "\n",
    "* Interesting charts in matplotlib library:\n",
    "\n",
    "    <a>https://www.machinelearningplus.com/plots/top-50-matplotlib-visualizations-the-master-plots-python/</a>\n",
    "\n",
    "*  Some information about T-test:\n",
    "\n",
    "    <a>https://towardsdatascience.com/inferential-statistics-series-t-test-using-numpy-2718f8f9bf2f</a>\n",
    "        \n",
    "      <a>https://www.hackdeploy.com/python-t-test-a-friendly-guide/<a>\n",
    "          \n",
    "\n",
    "* Some information about pandas:\n",
    "     \n",
    "   <a> https://towardsdatascience.com/style-pandas-dataframe-like-a-master-6b02bf6468b0</a>\n",
    "   \n",
    "</div>"
   ]
  },
  {
   "cell_type": "markdown",
   "metadata": {},
   "source": [
    "## Research on Zuber, a ride-sharing company\n",
    "Zuber is a new comer to the ride-sharing industry. They are about to launch their business in Chicago. They have some data and want to find patterns: what are passenger preferences and how do external factors such as weather impact on rides?\n",
    "\n",
    "**Project outline** \n",
    "<br>Note: this python project refers to \"Step 4. Exploratory data analysis (Python)\" and \"Step 5. Testing hypotheses (Python)\" of the project description available on the Platform. This is a continuation of the analysis previously conducted in SQL (Steps. 1-3 on the Platform).\n",
    "\n",
    "* Study a database.\n",
    "* Analyze data from competitors.\n",
    "* Test a hypothesis about the impact of weather on ride durations.\n",
    "* Conclusion\n",
    "\n",
    "**Datasets**\n",
    "<br>In addition to the data you retrieved in the previous tasks, we have been given the following CSVs:\n",
    "1. /datasets/project_sql_result_01.csv\n",
    "<br>This contains the following data:\n",
    "<br>o company_name: taxi company name\n",
    "<br>o trips_amount: the number of rides for each taxi company on November 15-16, 2017\n",
    "\n",
    "\n",
    "\n",
    "2. /datasets/project_sql_result_04.csv\n",
    "<br>This contains the following data:\n",
    "<br>o dropoff_location_name: Chicago neighborhoods where rides ended\n",
    "<br>o average_trips: the average number of rides that ended in each neighborhood in November 2017.\n",
    "\n",
    "\n",
    "\n",
    "3. /datasets/project_sql_result_07.csv\n",
    "<br>This contains the result of the last query (\"Working with Databases\", task 6/6) — the data on rides from the Loop to O'Hare International Airport. These are the table's field values:\n",
    "<br>o start_ts: pickup date and time\n",
    "<br>o weather_conditions: weather conditions at the moment the ride started\n",
    "<br>o duration_seconds: ride duration in seconds"
   ]
  },
  {
   "cell_type": "markdown",
   "metadata": {},
   "source": [
    "## Table of Contents <a class=\"anchor\" id=\"table_of_contents\"></a>"
   ]
  },
  {
   "cell_type": "markdown",
   "metadata": {},
   "source": [
    "* [Loading Files and Studying General Information](#chapter3)\n",
    "    * [Libraries](#section_3_1)\n",
    "    * [Data Files](#section_3_2)\n",
    "    * [Preliminary Data Exploration](#section_3_3)\n",
    "    * [Conclusion](#section_3_4)\n",
    "* [Data Preprocessing](#chapter4)\n",
    "    * [Column Value Renaming](#section_4_1)\n",
    "    * [Data Type Conversions ](#section_4_2)\n",
    "    * [Identifying Duplicates](#section_4_3)                    \n",
    "    * [Conclusion](#section_4_4)\n",
    "* [Data Analysis](#chapter5)\n",
    "    * [Identify the top 10 neighborhoods in terms of drop-offs](#section_5_1)\n",
    "    * [Make graphs: taxi companies and number of rides, top 10 neighborhoods by number of dropoffs](#section_5_2)\n",
    "    * [Draw conclusions based on each graph and explain the results](#section_5_3)\n",
    "* [Testing Hypotheses](#chapter6)\n",
    "    * [Hypothesis: \"The average duration of rides from the Loop to O'Hare International Airport changes on rainy Saturdays.\"](#section_6_1)\n",
    "    * [Conclusion](#section_6_2)\n",
    "* [Overal Conclusions](#chapter7)"
   ]
  },
  {
   "cell_type": "markdown",
   "metadata": {},
   "source": [
    "<div style=\"border:solid green 2px; padding: 20px\"> <b>Success:</b><br>\n",
    "    Excellent work! Thank you for writing a detailed description of the project, the intaractive project plan, and what tasks you are going to accomplish in the process. It's great that you also have a description of the data 👍</div>    "
   ]
  },
  {
   "cell_type": "markdown",
   "metadata": {},
   "source": [
    "## Loading Files and Studying General Information <a class=\"anchor\" id=\"chapter3\"></a>\n",
    "\n",
    "[Go back to the Table of Contents](#table_of_contents)"
   ]
  },
  {
   "cell_type": "markdown",
   "metadata": {},
   "source": [
    "### Libraries <a class=\"anchor\" id=\"section_3_1\"></a>\n",
    "\n",
    "[Go back to the Table of Contents](#table_of_contents)"
   ]
  },
  {
   "cell_type": "code",
   "execution_count": 49,
   "metadata": {},
   "outputs": [],
   "source": [
    "# Import sys so no warnings will be issued. \n",
    "import sys\n",
    "if not sys.warnoptions:\n",
    "    import warnings\n",
    "    warnings.simplefilter(\"ignore\")\n",
    "    \n",
    "# Import various libraries.\n",
    "import pandas as pd\n",
    "import numpy as np\n",
    "from functools import reduce\n",
    "import matplotlib.pyplot as plt\n",
    "import seaborn as sns\n",
    "from scipy import stats as st\n",
    "import string\n",
    "import re"
   ]
  },
  {
   "cell_type": "markdown",
   "metadata": {},
   "source": [
    "### Data Files <a class=\"anchor\" id=\"section_3_2\"></a>\n",
    "\n",
    "[Go back to the Table of Contents](#table_of_contents)"
   ]
  },
  {
   "cell_type": "code",
   "execution_count": 50,
   "metadata": {},
   "outputs": [],
   "source": [
    "# Enable data file loading in two environments: one local and one on the Platform. \n",
    "# For the csv files, define the separator to be a comma. \n",
    "try:\n",
    "    data01 = pd.read_csv('project_sql_result_01.csv', sep = ',')\n",
    "    data04 = pd.read_csv('project_sql_result_04.csv', sep = ',')\n",
    "    data07 = pd.read_csv('project_sql_result_07.csv', sep = ',')\n",
    "    \n",
    "except:\n",
    "    data01 = pd.read_csv('/datasets/project_sql_result_01.csv', sep = ',')\n",
    "    data04 = pd.read_csv('/datasets/project_sql_result_04.csv', sep = ',')\n",
    "    data07 = pd.read_csv('/datasets/project_sql_result_07.csv', sep = ',')"
   ]
  },
  {
   "cell_type": "markdown",
   "metadata": {},
   "source": [
    "<div style=\"border:solid green 2px; padding: 20px\"> <b>Success:</b><br>\n",
    "    Very well that you keep all libraries in a separate cell and use try-except method. </div> "
   ]
  },
  {
   "cell_type": "markdown",
   "metadata": {},
   "source": [
    "<div style=\"border:solid orange 2px; padding: 20px\"> <b>Remarks:</b><br>\n",
    "    It is better to give the tables more meaningful names, so it was immediately clear what data are contained in them.</div>   "
   ]
  },
  {
   "cell_type": "markdown",
   "metadata": {},
   "source": [
    "### Preliminary Data Exploration <a class=\"anchor\" id=\"section_3_3\"></a>\n",
    "\n",
    "[Go back to the Table of Contents](#table_of_contents)"
   ]
  },
  {
   "cell_type": "markdown",
   "metadata": {},
   "source": [
    "**data01**\n",
    "<br>o company_name: taxi company name\n",
    "<br>o trips_amount: the number of rides for each taxi company on November 15-16, 2017"
   ]
  },
  {
   "cell_type": "code",
   "execution_count": 51,
   "metadata": {},
   "outputs": [
    {
     "data": {
      "text/html": [
       "<div>\n",
       "<style scoped>\n",
       "    .dataframe tbody tr th:only-of-type {\n",
       "        vertical-align: middle;\n",
       "    }\n",
       "\n",
       "    .dataframe tbody tr th {\n",
       "        vertical-align: top;\n",
       "    }\n",
       "\n",
       "    .dataframe thead th {\n",
       "        text-align: right;\n",
       "    }\n",
       "</style>\n",
       "<table border=\"1\" class=\"dataframe\">\n",
       "  <thead>\n",
       "    <tr style=\"text-align: right;\">\n",
       "      <th></th>\n",
       "      <th>company_name</th>\n",
       "      <th>trips_amount</th>\n",
       "    </tr>\n",
       "  </thead>\n",
       "  <tbody>\n",
       "    <tr>\n",
       "      <td>21</td>\n",
       "      <td>American United</td>\n",
       "      <td>1404</td>\n",
       "    </tr>\n",
       "    <tr>\n",
       "      <td>46</td>\n",
       "      <td>3620 - 52292 David K. Cab Corp.</td>\n",
       "      <td>21</td>\n",
       "    </tr>\n",
       "    <tr>\n",
       "      <td>32</td>\n",
       "      <td>Leonard Cab Co</td>\n",
       "      <td>147</td>\n",
       "    </tr>\n",
       "    <tr>\n",
       "      <td>10</td>\n",
       "      <td>Choice Taxi Association</td>\n",
       "      <td>5015</td>\n",
       "    </tr>\n",
       "    <tr>\n",
       "      <td>33</td>\n",
       "      <td>Metro Jet Taxi A</td>\n",
       "      <td>146</td>\n",
       "    </tr>\n",
       "  </tbody>\n",
       "</table>\n",
       "</div>"
      ],
      "text/plain": [
       "                       company_name  trips_amount\n",
       "21                  American United          1404\n",
       "46  3620 - 52292 David K. Cab Corp.            21\n",
       "32                   Leonard Cab Co           147\n",
       "10          Choice Taxi Association          5015\n",
       "33                 Metro Jet Taxi A           146"
      ]
     },
     "execution_count": 51,
     "metadata": {},
     "output_type": "execute_result"
    }
   ],
   "source": [
    "# Get a first impression of the data.\n",
    "#data01.head()\n",
    "#data01.tail()\n",
    "data01.sample(5)"
   ]
  },
  {
   "cell_type": "markdown",
   "metadata": {},
   "source": [
    "'company_name': inconsistent format - some names have prefixes (e.g. number - number ). When we run a search on the column, we will look for a partial string inside the names so the presence or absence of a prefix will not interfere. But given how it is written right now, it will not allow the names to be sorted alphabetically. We will investigate further later."
   ]
  },
  {
   "cell_type": "code",
   "execution_count": 52,
   "metadata": {},
   "outputs": [
    {
     "name": "stdout",
     "output_type": "stream",
     "text": [
      "<class 'pandas.core.frame.DataFrame'>\n",
      "RangeIndex: 64 entries, 0 to 63\n",
      "Data columns (total 2 columns):\n",
      "company_name    64 non-null object\n",
      "trips_amount    64 non-null int64\n",
      "dtypes: int64(1), object(1)\n",
      "memory usage: 1.1+ KB\n"
     ]
    }
   ],
   "source": [
    "# View general information.\n",
    "data01.info()"
   ]
  },
  {
   "cell_type": "markdown",
   "metadata": {},
   "source": [
    "* No missing values in either one of the columns. \n",
    "* The correctness of the data type of 'company_name' is confirmed. \n",
    "* The correctness of the data type of 'trips_amount' is confirmed. "
   ]
  },
  {
   "cell_type": "code",
   "execution_count": 53,
   "metadata": {},
   "outputs": [
    {
     "data": {
      "text/html": [
       "<div>\n",
       "<style scoped>\n",
       "    .dataframe tbody tr th:only-of-type {\n",
       "        vertical-align: middle;\n",
       "    }\n",
       "\n",
       "    .dataframe tbody tr th {\n",
       "        vertical-align: top;\n",
       "    }\n",
       "\n",
       "    .dataframe thead th {\n",
       "        text-align: right;\n",
       "    }\n",
       "</style>\n",
       "<table border=\"1\" class=\"dataframe\">\n",
       "  <thead>\n",
       "    <tr style=\"text-align: right;\">\n",
       "      <th></th>\n",
       "      <th>trips_amount</th>\n",
       "    </tr>\n",
       "  </thead>\n",
       "  <tbody>\n",
       "    <tr>\n",
       "      <td>count</td>\n",
       "      <td>64.000000</td>\n",
       "    </tr>\n",
       "    <tr>\n",
       "      <td>mean</td>\n",
       "      <td>2145.484375</td>\n",
       "    </tr>\n",
       "    <tr>\n",
       "      <td>std</td>\n",
       "      <td>3812.310186</td>\n",
       "    </tr>\n",
       "    <tr>\n",
       "      <td>min</td>\n",
       "      <td>2.000000</td>\n",
       "    </tr>\n",
       "    <tr>\n",
       "      <td>25%</td>\n",
       "      <td>20.750000</td>\n",
       "    </tr>\n",
       "    <tr>\n",
       "      <td>50%</td>\n",
       "      <td>178.500000</td>\n",
       "    </tr>\n",
       "    <tr>\n",
       "      <td>75%</td>\n",
       "      <td>2106.500000</td>\n",
       "    </tr>\n",
       "    <tr>\n",
       "      <td>max</td>\n",
       "      <td>19558.000000</td>\n",
       "    </tr>\n",
       "  </tbody>\n",
       "</table>\n",
       "</div>"
      ],
      "text/plain": [
       "       trips_amount\n",
       "count     64.000000\n",
       "mean    2145.484375\n",
       "std     3812.310186\n",
       "min        2.000000\n",
       "25%       20.750000\n",
       "50%      178.500000\n",
       "75%     2106.500000\n",
       "max    19558.000000"
      ]
     },
     "execution_count": 53,
     "metadata": {},
     "output_type": "execute_result"
    }
   ],
   "source": [
    "# View description statistics.\n",
    "data01.describe()"
   ]
  },
  {
   "cell_type": "markdown",
   "metadata": {},
   "source": [
    "We can tell from min, max and std that the difference in the number of rides between popular and not-so-popular cab companies is very large. "
   ]
  },
  {
   "cell_type": "code",
   "execution_count": 54,
   "metadata": {},
   "outputs": [
    {
     "data": {
      "text/plain": [
       "array(['Flash Cab', 'Taxi Affiliation Services', 'Medallion Leasing',\n",
       "       'Yellow Cab', 'Taxi Affiliation Service Yellow',\n",
       "       'Chicago Carriage Cab Corp', 'City Service', 'Sun Taxi',\n",
       "       'Star North Management LLC', 'Blue Ribbon Taxi Association Inc.',\n",
       "       'Choice Taxi Association', 'Globe Taxi',\n",
       "       'Dispatch Taxi Affiliation', 'Nova Taxi Affiliation Llc',\n",
       "       'Patriot Taxi Dba Peace Taxi Association',\n",
       "       'Checker Taxi Affiliation', 'Blue Diamond',\n",
       "       'Chicago Medallion Management', '24 Seven Taxi',\n",
       "       'Chicago Medallion Leasing INC', 'Checker Taxi', 'American United',\n",
       "       'Chicago Independents', 'KOAM Taxi Association', 'Chicago Taxicab',\n",
       "       'Top Cab Affiliation', 'Gold Coast Taxi',\n",
       "       'Service Taxi Association', '5 Star Taxi', '303 Taxi',\n",
       "       'Setare Inc', 'American United Taxi Affiliation', 'Leonard Cab Co',\n",
       "       'Metro Jet Taxi A', 'Norshore Cab', '6742 - 83735 Tasha Ride Inc',\n",
       "       '3591 - 63480 Chuks Cab', '1469 - 64126 Omar Jada',\n",
       "       '6743 - 78771 Luhak Corp', '0118 - 42111 Godfrey S. Awir',\n",
       "       '6574 - Babylon Express Inc.', 'Chicago Star Taxicab',\n",
       "       '1085 - 72312 N and W Cab Co', '2809 - 95474 C & D Cab Co Inc.',\n",
       "       '2092 - 61288 Sbeih Company', '3011 - 66308 JBL Cab Inc.',\n",
       "       '3620 - 52292 David K. Cab Corp.', '4615 - 83503 Tyrone Henderson',\n",
       "       '3623 - 72222 Arrington Enterprises', '5074 - 54002 Ahzmi Inc',\n",
       "       '2823 - 73307 Lee Express Inc', '4623 - 27290 Jay Kim',\n",
       "       '3721 - Santamaria Express', '5006 - 39261 Salifu Bawa',\n",
       "       '2192 - 73487 Zeymane Corp', '6057 - 24657 Richard Addo',\n",
       "       '5997 - 65283 AW Services Inc.', 'Metro Group',\n",
       "       '5062 - 34841 Sam Mestas', '4053 - 40193 Adwar H. Nikola',\n",
       "       '2733 - 74600 Benny Jona', '5874 - 73628 Sergey Cab Corp.',\n",
       "       '2241 - 44667 - Felman Corp', '3556 - 36214 RC Andrews Cab'],\n",
       "      dtype=object)"
      ]
     },
     "execution_count": 54,
     "metadata": {},
     "output_type": "execute_result"
    }
   ],
   "source": [
    "# Look at the unique values of the categorical variable.\n",
    "# Using unique() rather than value_counts() so I can check all the values. \n",
    "data01['company_name'].unique()"
   ]
  },
  {
   "cell_type": "markdown",
   "metadata": {},
   "source": [
    "Some company names are prefixed with \"number-number\". We will investigate this further later. "
   ]
  },
  {
   "cell_type": "markdown",
   "metadata": {},
   "source": [
    "**data04**\n",
    "<br>o dropoff_location_name: Chicago neighborhoods where rides ended\n",
    "<br>o average_trips: the average number of rides that ended in each neighborhood in November 2017."
   ]
  },
  {
   "cell_type": "code",
   "execution_count": 55,
   "metadata": {},
   "outputs": [
    {
     "data": {
      "text/html": [
       "<div>\n",
       "<style scoped>\n",
       "    .dataframe tbody tr th:only-of-type {\n",
       "        vertical-align: middle;\n",
       "    }\n",
       "\n",
       "    .dataframe tbody tr th {\n",
       "        vertical-align: top;\n",
       "    }\n",
       "\n",
       "    .dataframe thead th {\n",
       "        text-align: right;\n",
       "    }\n",
       "</style>\n",
       "<table border=\"1\" class=\"dataframe\">\n",
       "  <thead>\n",
       "    <tr style=\"text-align: right;\">\n",
       "      <th></th>\n",
       "      <th>dropoff_location_name</th>\n",
       "      <th>average_trips</th>\n",
       "    </tr>\n",
       "  </thead>\n",
       "  <tbody>\n",
       "    <tr>\n",
       "      <td>30</td>\n",
       "      <td>United Center</td>\n",
       "      <td>178.900000</td>\n",
       "    </tr>\n",
       "    <tr>\n",
       "      <td>48</td>\n",
       "      <td>Austin</td>\n",
       "      <td>44.433333</td>\n",
       "    </tr>\n",
       "    <tr>\n",
       "      <td>67</td>\n",
       "      <td>Auburn Gresham</td>\n",
       "      <td>15.166667</td>\n",
       "    </tr>\n",
       "    <tr>\n",
       "      <td>66</td>\n",
       "      <td>Washington Park</td>\n",
       "      <td>16.033333</td>\n",
       "    </tr>\n",
       "    <tr>\n",
       "      <td>89</td>\n",
       "      <td>Mount Greenwood</td>\n",
       "      <td>3.137931</td>\n",
       "    </tr>\n",
       "  </tbody>\n",
       "</table>\n",
       "</div>"
      ],
      "text/plain": [
       "   dropoff_location_name  average_trips\n",
       "30         United Center     178.900000\n",
       "48                Austin      44.433333\n",
       "67        Auburn Gresham      15.166667\n",
       "66       Washington Park      16.033333\n",
       "89       Mount Greenwood       3.137931"
      ]
     },
     "execution_count": 55,
     "metadata": {},
     "output_type": "execute_result"
    }
   ],
   "source": [
    "# Get a first impression of the data.\n",
    "#data04.head()\n",
    "#data04.tail()\n",
    "data04.sample(5)"
   ]
  },
  {
   "cell_type": "markdown",
   "metadata": {},
   "source": [
    "Round off 'average_trips' to the nearest whole number. "
   ]
  },
  {
   "cell_type": "code",
   "execution_count": 56,
   "metadata": {},
   "outputs": [
    {
     "name": "stdout",
     "output_type": "stream",
     "text": [
      "<class 'pandas.core.frame.DataFrame'>\n",
      "RangeIndex: 94 entries, 0 to 93\n",
      "Data columns (total 2 columns):\n",
      "dropoff_location_name    94 non-null object\n",
      "average_trips            94 non-null float64\n",
      "dtypes: float64(1), object(1)\n",
      "memory usage: 1.6+ KB\n"
     ]
    }
   ],
   "source": [
    "# View general information.\n",
    "data04.info()"
   ]
  },
  {
   "cell_type": "markdown",
   "metadata": {},
   "source": [
    "* No missing values.\n",
    "* The correctness of the data type of 'dropoff_location_name' is confirmed.\n",
    "* Convert the data type of 'average_trips' from float to int since trips should be counted in whole numbers."
   ]
  },
  {
   "cell_type": "code",
   "execution_count": 57,
   "metadata": {},
   "outputs": [
    {
     "data": {
      "text/html": [
       "<div>\n",
       "<style scoped>\n",
       "    .dataframe tbody tr th:only-of-type {\n",
       "        vertical-align: middle;\n",
       "    }\n",
       "\n",
       "    .dataframe tbody tr th {\n",
       "        vertical-align: top;\n",
       "    }\n",
       "\n",
       "    .dataframe thead th {\n",
       "        text-align: right;\n",
       "    }\n",
       "</style>\n",
       "<table border=\"1\" class=\"dataframe\">\n",
       "  <thead>\n",
       "    <tr style=\"text-align: right;\">\n",
       "      <th></th>\n",
       "      <th>average_trips</th>\n",
       "    </tr>\n",
       "  </thead>\n",
       "  <tbody>\n",
       "    <tr>\n",
       "      <td>count</td>\n",
       "      <td>94.000000</td>\n",
       "    </tr>\n",
       "    <tr>\n",
       "      <td>mean</td>\n",
       "      <td>599.953728</td>\n",
       "    </tr>\n",
       "    <tr>\n",
       "      <td>std</td>\n",
       "      <td>1714.591098</td>\n",
       "    </tr>\n",
       "    <tr>\n",
       "      <td>min</td>\n",
       "      <td>1.800000</td>\n",
       "    </tr>\n",
       "    <tr>\n",
       "      <td>25%</td>\n",
       "      <td>14.266667</td>\n",
       "    </tr>\n",
       "    <tr>\n",
       "      <td>50%</td>\n",
       "      <td>52.016667</td>\n",
       "    </tr>\n",
       "    <tr>\n",
       "      <td>75%</td>\n",
       "      <td>298.858333</td>\n",
       "    </tr>\n",
       "    <tr>\n",
       "      <td>max</td>\n",
       "      <td>10727.466667</td>\n",
       "    </tr>\n",
       "  </tbody>\n",
       "</table>\n",
       "</div>"
      ],
      "text/plain": [
       "       average_trips\n",
       "count      94.000000\n",
       "mean      599.953728\n",
       "std      1714.591098\n",
       "min         1.800000\n",
       "25%        14.266667\n",
       "50%        52.016667\n",
       "75%       298.858333\n",
       "max     10727.466667"
      ]
     },
     "execution_count": 57,
     "metadata": {},
     "output_type": "execute_result"
    }
   ],
   "source": [
    "# View description statistics.\n",
    "data04.describe()"
   ]
  },
  {
   "cell_type": "markdown",
   "metadata": {},
   "source": [
    "We can tell from min, max and std that the difference in the number of visits between popular and not-so-popular neighbourhoods is very large. "
   ]
  },
  {
   "cell_type": "code",
   "execution_count": 58,
   "metadata": {},
   "outputs": [],
   "source": [
    "# Look at the unique values of the categorical variable. \n",
    "# Using unique() rather than value_counts() so I can check all the values. \n",
    "#data04['dropoff_location_name'].unique()"
   ]
  },
  {
   "cell_type": "markdown",
   "metadata": {},
   "source": [
    "**data07**\n",
    "<br>This contains the result of the last query — the data on rides from the Loop to O'Hare International Airport. These are the table's field values:\n",
    "<br>o start_ts: pickup date and time\n",
    "<br>o weather_conditions: weather conditions at the moment the ride started\n",
    "<br>o duration_seconds: ride duration in seconds"
   ]
  },
  {
   "cell_type": "code",
   "execution_count": 59,
   "metadata": {},
   "outputs": [
    {
     "data": {
      "text/html": [
       "<div>\n",
       "<style scoped>\n",
       "    .dataframe tbody tr th:only-of-type {\n",
       "        vertical-align: middle;\n",
       "    }\n",
       "\n",
       "    .dataframe tbody tr th {\n",
       "        vertical-align: top;\n",
       "    }\n",
       "\n",
       "    .dataframe thead th {\n",
       "        text-align: right;\n",
       "    }\n",
       "</style>\n",
       "<table border=\"1\" class=\"dataframe\">\n",
       "  <thead>\n",
       "    <tr style=\"text-align: right;\">\n",
       "      <th></th>\n",
       "      <th>start_ts</th>\n",
       "      <th>weather_conditions</th>\n",
       "      <th>duration_seconds</th>\n",
       "    </tr>\n",
       "  </thead>\n",
       "  <tbody>\n",
       "    <tr>\n",
       "      <td>1041</td>\n",
       "      <td>2017-11-11 08:00:00</td>\n",
       "      <td>Good</td>\n",
       "      <td>1200.0</td>\n",
       "    </tr>\n",
       "    <tr>\n",
       "      <td>620</td>\n",
       "      <td>2017-11-11 10:00:00</td>\n",
       "      <td>Good</td>\n",
       "      <td>1200.0</td>\n",
       "    </tr>\n",
       "    <tr>\n",
       "      <td>193</td>\n",
       "      <td>2017-11-25 05:00:00</td>\n",
       "      <td>Good</td>\n",
       "      <td>1487.0</td>\n",
       "    </tr>\n",
       "    <tr>\n",
       "      <td>878</td>\n",
       "      <td>2017-11-11 10:00:00</td>\n",
       "      <td>Good</td>\n",
       "      <td>1560.0</td>\n",
       "    </tr>\n",
       "    <tr>\n",
       "      <td>1061</td>\n",
       "      <td>2017-11-18 16:00:00</td>\n",
       "      <td>Bad</td>\n",
       "      <td>2186.0</td>\n",
       "    </tr>\n",
       "  </tbody>\n",
       "</table>\n",
       "</div>"
      ],
      "text/plain": [
       "                 start_ts weather_conditions  duration_seconds\n",
       "1041  2017-11-11 08:00:00               Good            1200.0\n",
       "620   2017-11-11 10:00:00               Good            1200.0\n",
       "193   2017-11-25 05:00:00               Good            1487.0\n",
       "878   2017-11-11 10:00:00               Good            1560.0\n",
       "1061  2017-11-18 16:00:00                Bad            2186.0"
      ]
     },
     "execution_count": 59,
     "metadata": {},
     "output_type": "execute_result"
    }
   ],
   "source": [
    "# Get a first impression of the data.\n",
    "#data07.head()\n",
    "#data07.tail()\n",
    "data07.sample(5)"
   ]
  },
  {
   "cell_type": "markdown",
   "metadata": {},
   "source": [
    "<div style=\"border:solid orange 2px; padding: 20px\"> <b>Remarks:</b><br>\n",
    "    \n",
    "   If you notice something unusual in the data when you use `sample()`, you can fix the output of certain lines using the `random_state` parameter. Please, visit this link:\n",
    "\n",
    "  <a>https://pandas.pydata.org/pandas-docs/stable/reference/api/pandas.DataFrame.sample.html</a>\n",
    "</div>   \n",
    "<br>"
   ]
  },
  {
   "cell_type": "code",
   "execution_count": 60,
   "metadata": {},
   "outputs": [
    {
     "name": "stdout",
     "output_type": "stream",
     "text": [
      "<class 'pandas.core.frame.DataFrame'>\n",
      "RangeIndex: 1068 entries, 0 to 1067\n",
      "Data columns (total 3 columns):\n",
      "start_ts              1068 non-null object\n",
      "weather_conditions    1068 non-null object\n",
      "duration_seconds      1068 non-null float64\n",
      "dtypes: float64(1), object(2)\n",
      "memory usage: 25.2+ KB\n"
     ]
    }
   ],
   "source": [
    "# View general information.\n",
    "data07.info()"
   ]
  },
  {
   "cell_type": "markdown",
   "metadata": {},
   "source": [
    "* No missing values.\n",
    "* Convert the data type of 'start_ts' from object to datetime to enable operations in the column. \n",
    "* The correctness of the data type of 'weather_conditions' is confirmed.\n",
    "* Convert the data type of 'duration_seconds' from float to int since there is no need for such precision in this context."
   ]
  },
  {
   "cell_type": "code",
   "execution_count": 61,
   "metadata": {},
   "outputs": [
    {
     "data": {
      "text/html": [
       "<div>\n",
       "<style scoped>\n",
       "    .dataframe tbody tr th:only-of-type {\n",
       "        vertical-align: middle;\n",
       "    }\n",
       "\n",
       "    .dataframe tbody tr th {\n",
       "        vertical-align: top;\n",
       "    }\n",
       "\n",
       "    .dataframe thead th {\n",
       "        text-align: right;\n",
       "    }\n",
       "</style>\n",
       "<table border=\"1\" class=\"dataframe\">\n",
       "  <thead>\n",
       "    <tr style=\"text-align: right;\">\n",
       "      <th></th>\n",
       "      <th>duration_seconds</th>\n",
       "    </tr>\n",
       "  </thead>\n",
       "  <tbody>\n",
       "    <tr>\n",
       "      <td>count</td>\n",
       "      <td>1068.000000</td>\n",
       "    </tr>\n",
       "    <tr>\n",
       "      <td>mean</td>\n",
       "      <td>2071.731273</td>\n",
       "    </tr>\n",
       "    <tr>\n",
       "      <td>std</td>\n",
       "      <td>769.461125</td>\n",
       "    </tr>\n",
       "    <tr>\n",
       "      <td>min</td>\n",
       "      <td>0.000000</td>\n",
       "    </tr>\n",
       "    <tr>\n",
       "      <td>25%</td>\n",
       "      <td>1438.250000</td>\n",
       "    </tr>\n",
       "    <tr>\n",
       "      <td>50%</td>\n",
       "      <td>1980.000000</td>\n",
       "    </tr>\n",
       "    <tr>\n",
       "      <td>75%</td>\n",
       "      <td>2580.000000</td>\n",
       "    </tr>\n",
       "    <tr>\n",
       "      <td>max</td>\n",
       "      <td>7440.000000</td>\n",
       "    </tr>\n",
       "  </tbody>\n",
       "</table>\n",
       "</div>"
      ],
      "text/plain": [
       "       duration_seconds\n",
       "count       1068.000000\n",
       "mean        2071.731273\n",
       "std          769.461125\n",
       "min            0.000000\n",
       "25%         1438.250000\n",
       "50%         1980.000000\n",
       "75%         2580.000000\n",
       "max         7440.000000"
      ]
     },
     "execution_count": 61,
     "metadata": {},
     "output_type": "execute_result"
    }
   ],
   "source": [
    "# View description statistics.\n",
    "data07.describe()"
   ]
  },
  {
   "cell_type": "markdown",
   "metadata": {},
   "source": [
    "<div style=\"border:solid green 2px; padding: 20px\"> <b>Success:</b><br>\n",
    "  \n",
    "   I like that you use a variety of methods, including `sample()`, `info()` and  `describe()` when studying general information in tables. Well done!</div>  "
   ]
  },
  {
   "cell_type": "code",
   "execution_count": 62,
   "metadata": {},
   "outputs": [
    {
     "data": {
      "text/html": [
       "<div>\n",
       "<style scoped>\n",
       "    .dataframe tbody tr th:only-of-type {\n",
       "        vertical-align: middle;\n",
       "    }\n",
       "\n",
       "    .dataframe tbody tr th {\n",
       "        vertical-align: top;\n",
       "    }\n",
       "\n",
       "    .dataframe thead th {\n",
       "        text-align: right;\n",
       "    }\n",
       "</style>\n",
       "<table border=\"1\" class=\"dataframe\">\n",
       "  <thead>\n",
       "    <tr style=\"text-align: right;\">\n",
       "      <th></th>\n",
       "      <th>start_ts</th>\n",
       "      <th>weather_conditions</th>\n",
       "      <th>duration_seconds</th>\n",
       "    </tr>\n",
       "  </thead>\n",
       "  <tbody>\n",
       "    <tr>\n",
       "      <td>163</td>\n",
       "      <td>2017-11-11 09:00:00</td>\n",
       "      <td>Good</td>\n",
       "      <td>0.0</td>\n",
       "    </tr>\n",
       "    <tr>\n",
       "      <td>168</td>\n",
       "      <td>2017-11-11 07:00:00</td>\n",
       "      <td>Good</td>\n",
       "      <td>0.0</td>\n",
       "    </tr>\n",
       "    <tr>\n",
       "      <td>204</td>\n",
       "      <td>2017-11-18 19:00:00</td>\n",
       "      <td>Good</td>\n",
       "      <td>0.0</td>\n",
       "    </tr>\n",
       "    <tr>\n",
       "      <td>552</td>\n",
       "      <td>2017-11-04 01:00:00</td>\n",
       "      <td>Good</td>\n",
       "      <td>0.0</td>\n",
       "    </tr>\n",
       "    <tr>\n",
       "      <td>801</td>\n",
       "      <td>2017-11-04 09:00:00</td>\n",
       "      <td>Good</td>\n",
       "      <td>0.0</td>\n",
       "    </tr>\n",
       "    <tr>\n",
       "      <td>1063</td>\n",
       "      <td>2017-11-25 11:00:00</td>\n",
       "      <td>Good</td>\n",
       "      <td>0.0</td>\n",
       "    </tr>\n",
       "  </tbody>\n",
       "</table>\n",
       "</div>"
      ],
      "text/plain": [
       "                 start_ts weather_conditions  duration_seconds\n",
       "163   2017-11-11 09:00:00               Good               0.0\n",
       "168   2017-11-11 07:00:00               Good               0.0\n",
       "204   2017-11-18 19:00:00               Good               0.0\n",
       "552   2017-11-04 01:00:00               Good               0.0\n",
       "801   2017-11-04 09:00:00               Good               0.0\n",
       "1063  2017-11-25 11:00:00               Good               0.0"
      ]
     },
     "execution_count": 62,
     "metadata": {},
     "output_type": "execute_result"
    }
   ],
   "source": [
    "# Check where 'duration_seconds' is 0. \n",
    "zero_entries = data07.query('duration_seconds == 0')\n",
    "zero_entries"
   ]
  },
  {
   "cell_type": "markdown",
   "metadata": {},
   "source": [
    "There is no 'rain' or 'storm' - it is all sunny weather, but it lasted zero seconds? Probably, these are record logging errors. "
   ]
  },
  {
   "cell_type": "code",
   "execution_count": 63,
   "metadata": {},
   "outputs": [
    {
     "data": {
      "text/html": [
       "<div>\n",
       "<style scoped>\n",
       "    .dataframe tbody tr th:only-of-type {\n",
       "        vertical-align: middle;\n",
       "    }\n",
       "\n",
       "    .dataframe tbody tr th {\n",
       "        vertical-align: top;\n",
       "    }\n",
       "\n",
       "    .dataframe thead th {\n",
       "        text-align: right;\n",
       "    }\n",
       "</style>\n",
       "<table border=\"1\" class=\"dataframe\">\n",
       "  <thead>\n",
       "    <tr style=\"text-align: right;\">\n",
       "      <th></th>\n",
       "      <th>zero_values</th>\n",
       "      <th>%</th>\n",
       "    </tr>\n",
       "  </thead>\n",
       "  <tbody>\n",
       "    <tr>\n",
       "      <td>start_ts</td>\n",
       "      <td>6</td>\n",
       "      <td>0.56</td>\n",
       "    </tr>\n",
       "    <tr>\n",
       "      <td>weather_conditions</td>\n",
       "      <td>6</td>\n",
       "      <td>0.56</td>\n",
       "    </tr>\n",
       "    <tr>\n",
       "      <td>duration_seconds</td>\n",
       "      <td>6</td>\n",
       "      <td>0.56</td>\n",
       "    </tr>\n",
       "  </tbody>\n",
       "</table>\n",
       "</div>"
      ],
      "text/plain": [
       "                    zero_values     %\n",
       "start_ts                      6  0.56\n",
       "weather_conditions            6  0.56\n",
       "duration_seconds              6  0.56"
      ]
     },
     "execution_count": 63,
     "metadata": {},
     "output_type": "execute_result"
    }
   ],
   "source": [
    "# Calculate the percentage of the zero entry records in the dataset. \n",
    "zero_values = zero_entries.count().to_frame('zero_values')\n",
    "zero_values['%'] = round(zero_entries.count()/len(data07) * 100, 2) \n",
    "zero_values"
   ]
  },
  {
   "cell_type": "code",
   "execution_count": 64,
   "metadata": {},
   "outputs": [
    {
     "data": {
      "text/html": [
       "<div>\n",
       "<style scoped>\n",
       "    .dataframe tbody tr th:only-of-type {\n",
       "        vertical-align: middle;\n",
       "    }\n",
       "\n",
       "    .dataframe tbody tr th {\n",
       "        vertical-align: top;\n",
       "    }\n",
       "\n",
       "    .dataframe thead th {\n",
       "        text-align: right;\n",
       "    }\n",
       "</style>\n",
       "<table border=\"1\" class=\"dataframe\">\n",
       "  <thead>\n",
       "    <tr style=\"text-align: right;\">\n",
       "      <th></th>\n",
       "      <th>duration_seconds</th>\n",
       "    </tr>\n",
       "  </thead>\n",
       "  <tbody>\n",
       "    <tr>\n",
       "      <td>count</td>\n",
       "      <td>882.000000</td>\n",
       "    </tr>\n",
       "    <tr>\n",
       "      <td>mean</td>\n",
       "      <td>2013.278912</td>\n",
       "    </tr>\n",
       "    <tr>\n",
       "      <td>std</td>\n",
       "      <td>743.565217</td>\n",
       "    </tr>\n",
       "    <tr>\n",
       "      <td>min</td>\n",
       "      <td>60.000000</td>\n",
       "    </tr>\n",
       "    <tr>\n",
       "      <td>25%</td>\n",
       "      <td>1397.250000</td>\n",
       "    </tr>\n",
       "    <tr>\n",
       "      <td>50%</td>\n",
       "      <td>1800.000000</td>\n",
       "    </tr>\n",
       "    <tr>\n",
       "      <td>75%</td>\n",
       "      <td>2460.000000</td>\n",
       "    </tr>\n",
       "    <tr>\n",
       "      <td>max</td>\n",
       "      <td>7440.000000</td>\n",
       "    </tr>\n",
       "  </tbody>\n",
       "</table>\n",
       "</div>"
      ],
      "text/plain": [
       "       duration_seconds\n",
       "count        882.000000\n",
       "mean        2013.278912\n",
       "std          743.565217\n",
       "min           60.000000\n",
       "25%         1397.250000\n",
       "50%         1800.000000\n",
       "75%         2460.000000\n",
       "max         7440.000000"
      ]
     },
     "execution_count": 64,
     "metadata": {},
     "output_type": "execute_result"
    }
   ],
   "source": [
    "# Check the descriptive statistics of 'Good' weather records which are greater than 0 seconds. \n",
    "data07[(data07['weather_conditions'] == \"Good\") & (data07['duration_seconds'] > 0)].describe()"
   ]
  },
  {
   "cell_type": "markdown",
   "metadata": {},
   "source": [
    "The average duration is 34 minutes while the maximum is 2 hours with a standard deviation of 12 minutes. (This is supposed to be Chicago. Not Norway in January?!) Luckily, this accounts for 0.56% of the dataset only. Let's leave the values as they are without replacing them. "
   ]
  },
  {
   "cell_type": "markdown",
   "metadata": {},
   "source": [
    "<div style=\"border:solid green 2px; padding: 20px\"> <b>Success:</b><br>\n",
    "    😄 Yep, agree. That's a very reasonable point.</div>"
   ]
  },
  {
   "cell_type": "code",
   "execution_count": 65,
   "metadata": {},
   "outputs": [
    {
     "data": {
      "text/plain": [
       "Good    888\n",
       "Bad     180\n",
       "Name: weather_conditions, dtype: int64"
      ]
     },
     "execution_count": 65,
     "metadata": {},
     "output_type": "execute_result"
    }
   ],
   "source": [
    "# Look at the unique values of the categorical variable. \n",
    "data07['weather_conditions'].value_counts()"
   ]
  },
  {
   "cell_type": "markdown",
   "metadata": {},
   "source": [
    "The two sample sizes are very different."
   ]
  },
  {
   "cell_type": "markdown",
   "metadata": {},
   "source": [
    "### Conclusion <a class=\"anchor\" id=\"section_3_4\"></a>\n",
    "\n",
    "[Go back to the Table of Contents](#table_of_contents)"
   ]
  },
  {
   "cell_type": "markdown",
   "metadata": {},
   "source": [
    "**data01**\n",
    "<br>Total rows: 64\n",
    "<br>Total columns: 2\n",
    "\n",
    "* Data contained\n",
    "<br>o company_name: taxi company name\n",
    "<br>o trips_amount: the number of rides for each taxi company on November 15-16, 2017\n",
    "\n",
    "\n",
    "* 'company_name'\n",
    "<br>o Inconsistent format - some names are prefixed with \"number-number\". Search will be fine if we look for substrings inside the names. Alphabetical sorting will be a problem. Will investigate further and handle appropriately later.\n",
    "<br>o No missing values. \n",
    "<br>o The data type is correct.  \n",
    "\n",
    "\n",
    "* 'trips_amount'\n",
    "<br>o No missing values. \n",
    "<br>o The data type is correct. \n",
    "<br>o We can see in the descriptive statsitics the difference in the number of rides between popular and not-so-popular cab companies is very large. \n",
    "\n",
    "\n",
    "\n",
    "**data04**\n",
    "<br>Total rows: 94\n",
    "<br>Total columns: 2\n",
    "\n",
    "* Data contained\n",
    "<br>o dropoff_location_name: Chicago neighborhoods where rides ended\n",
    "<br>o average_trips: the average number of rides that ended in each neighborhood in November 2017.\n",
    "\n",
    "\n",
    "* 'dropoff_location_name'\n",
    "<br>o No missing values. \n",
    "<br>o The data type is correct.  \n",
    "\n",
    "\n",
    "* 'average_trips'\n",
    "<br>o No missing values. \n",
    "<br>o Convert the data type from float to int.\n",
    "<br>o We can see in the descriptive statsitics the difference in the number of visits between popular and not-so-popular neighbourhoods is very large. \n",
    "\n",
    "\n",
    "\n",
    "**data07**\n",
    "<br>Total rows: 1068\n",
    "<br>Total columns: 3\n",
    "\n",
    "* Data contained\n",
    "<br>o start_ts: pickup date and time\n",
    "<br>o weather_conditions: weather conditions at the moment the ride started\n",
    "<br>o duration_seconds: ride duration in seconds\n",
    "\n",
    "\n",
    "* 'start_ts'\n",
    "<br>o No missing values. \n",
    "<br>o Convert the data type from object to datetime (format='%Y-%m-%d %H:%M:%S').\n",
    "<br>o We can see in the descriptive statsitics the difference in the number of visits between popular and not-so-popular neighbourhoods is very large. \n",
    "\n",
    "\n",
    "* 'weather_conditions'\n",
    "<br>o No missing values.\n",
    "<br>o The data type is correct.  \n",
    "\n",
    "\n",
    "* 'duration_seconds'\n",
    "<br>o No missing values.\n",
    "<br>o Convert the data type from float to int."
   ]
  },
  {
   "cell_type": "markdown",
   "metadata": {},
   "source": [
    "<div style=\"border:solid green 2px; padding: 20px\"> <b>Success:</b><br>\n",
    "    Well, it's all good here. Thanks for the detailed conclusions 🙂 </div>"
   ]
  },
  {
   "cell_type": "markdown",
   "metadata": {},
   "source": [
    "## Data Preprocessing <a class=\"anchor\" id=\"chapter4\"></a>\n",
    "\n",
    "[Go back to the Table of Contents](#table_of_contents)"
   ]
  },
  {
   "cell_type": "markdown",
   "metadata": {},
   "source": [
    "### Column Value Renaming <a class=\"anchor\" id=\"section_4_1\"></a>\n",
    "\n",
    "[Go back to the Table of Contents](#table_of_contents)"
   ]
  },
  {
   "cell_type": "code",
   "execution_count": 66,
   "metadata": {},
   "outputs": [],
   "source": [
    "# View the unique values. \n",
    "#sorted(data01['company_name'].unique())"
   ]
  },
  {
   "cell_type": "markdown",
   "metadata": {},
   "source": [
    "Some cab company names have prefixes (e.g. \"number-number\"). this will not allow for alphabetical sorting. \n",
    "\n",
    "\n",
    "Remove the following patterns of characters sequentially (i.e. after removing the first pattern, look for the second pattern, after that, for the third pattern) and replacing them with an empty string (i.e. eliminate the substring):\n",
    "\n",
    "    1. \"any sequence of numbers\" \"space\" \"hyphen\" \"space\" \"any sequence of numbers\" \"space\" \n",
    "       (e.g. '0118 - 42111 Godfrey S.Awir')\n",
    "    2. \"any sequence of numbers\" \"space\" \"hyphen\" \"space\" \"any sequence of letters\"\"space\" \"any sequence of letters\" \"comma\"\n",
    "       (e.g. '3721 - Santamaria Express, Alvaro Santamaria')\n",
    "    3. \"hyphen\" \"space\" \"any sequence of letters\" \"space\" \"any sequence of letters\" \"comma\" \"space\"\n",
    "       (e.g. '- Felman Corp, Manuel Alonso')\n",
    "    4. \"any sequence of numbers\" \"space\" \"hyphen\" \"space\"\n",
    "       (e.g. '6574 - Babylon Express Inc.')\n",
    "    \n",
    "       \n",
    "Note: \n",
    "* '24 Seven Taxi', '303 Taxi' and '5 Star Taxi' are exceptions in that the number is part of the company name. So the number will not be removed from these. \n",
    "* After checking on the WWW, a conclusion has been reached to keep 'Chicago Medallion Leasing INC' and 'Chicago Medallion Management' entries separate as they are now in the dataset, although they are an affiliate company to each other. Similarly, City Service Taxi is an affiliate company of Medallion Management Corp. The same goes for the possible link between American United Taxi Affiliation and Taxi Affiliation Services since they are both at the same address (3351 W Addison St. Chicago). There may be a good reason as to why the separate entries were made (perhaps, it depends on the history of how the businesses were developed and merged). Had this been in a real work scenario, I would call the taxi companies in Chicago to clarify. "
   ]
  },
  {
   "cell_type": "code",
   "execution_count": 67,
   "metadata": {},
   "outputs": [],
   "source": [
    "# Make a copy of the original 'company_name' column and keep it.\n",
    "company_name_copy = data01['company_name']\n",
    "data01['company_name_tidy'] = company_name_copy\n",
    "\n",
    "# Search for the pattern and remove it in the order that they appear in the list. \n",
    "patterns = [r'\\d+ - \\d+ ', r'\\d+ - [A-z]+ [A-z]+, ', r'- [A-z]+ [A-z]+, ', r'\\d+ - ']\n",
    "for i in range (len(patterns)):\n",
    "    data01['company_name_tidy'] = data01['company_name_tidy'].str.replace(patterns[i], '')\n",
    "\n",
    "# Verify it worked.\n",
    "#sorted(data01['company_name_tidy'].unique())\n",
    "\n",
    "# Make sure all 64 values are accounted for.\n",
    "#data01['company_name_tidy'].count()"
   ]
  },
  {
   "cell_type": "markdown",
   "metadata": {},
   "source": [
    "<div style=\"border:solid green 2px; padding: 20px\"> <b>Success:</b><br>\n",
    "    Wow, it's really great that you use a regular expression in your project!</div>  "
   ]
  },
  {
   "cell_type": "markdown",
   "metadata": {},
   "source": [
    "<div style=\"border:solid orange 2px; padding: 20px\"> <b>Remarks:</b><br>\n",
    "    Using a regular expression, you can do this part without the loop. This link can be helpful:\n",
    "        \n",
    "<a>https://stackoverflow.com/a/22591024/11664121</a> <br></div> "
   ]
  },
  {
   "cell_type": "markdown",
   "metadata": {},
   "source": [
    "There seem to be duplicates due to inconsistent naming (e.g. 'Chicago Medallion Leasing INC' and 'Medallion Leasin').\n",
    "\n",
    "Combine 'trips_amount' then remove the duplicates."
   ]
  },
  {
   "cell_type": "code",
   "execution_count": 68,
   "metadata": {},
   "outputs": [
    {
     "data": {
      "text/html": [
       "<div>\n",
       "<style scoped>\n",
       "    .dataframe tbody tr th:only-of-type {\n",
       "        vertical-align: middle;\n",
       "    }\n",
       "\n",
       "    .dataframe tbody tr th {\n",
       "        vertical-align: top;\n",
       "    }\n",
       "\n",
       "    .dataframe thead th {\n",
       "        text-align: right;\n",
       "    }\n",
       "</style>\n",
       "<table border=\"1\" class=\"dataframe\">\n",
       "  <thead>\n",
       "    <tr style=\"text-align: right;\">\n",
       "      <th></th>\n",
       "      <th>company_name</th>\n",
       "      <th>trips_amount</th>\n",
       "      <th>company_name_tidy</th>\n",
       "      <th>matched</th>\n",
       "      <th>comma_count</th>\n",
       "    </tr>\n",
       "  </thead>\n",
       "  <tbody>\n",
       "    <tr>\n",
       "      <td>15</td>\n",
       "      <td>Checker Taxi Affiliation</td>\n",
       "      <td>2216</td>\n",
       "      <td>Checker Taxi Affiliation</td>\n",
       "      <td>Checker Taxi Affiliation, Checker Taxi</td>\n",
       "      <td>1</td>\n",
       "    </tr>\n",
       "    <tr>\n",
       "      <td>19</td>\n",
       "      <td>Chicago Medallion Leasing INC</td>\n",
       "      <td>1607</td>\n",
       "      <td>Chicago Medallion Leasing INC</td>\n",
       "      <td>Medallion Leasing, Chicago Medallion Leasing INC</td>\n",
       "      <td>1</td>\n",
       "    </tr>\n",
       "    <tr>\n",
       "      <td>31</td>\n",
       "      <td>American United Taxi Affiliation</td>\n",
       "      <td>210</td>\n",
       "      <td>American United Taxi Affiliation</td>\n",
       "      <td>American United, American United Taxi Affiliation</td>\n",
       "      <td>1</td>\n",
       "    </tr>\n",
       "  </tbody>\n",
       "</table>\n",
       "</div>"
      ],
      "text/plain": [
       "                        company_name  trips_amount  \\\n",
       "15          Checker Taxi Affiliation          2216   \n",
       "19     Chicago Medallion Leasing INC          1607   \n",
       "31  American United Taxi Affiliation           210   \n",
       "\n",
       "                   company_name_tidy  \\\n",
       "15          Checker Taxi Affiliation   \n",
       "19     Chicago Medallion Leasing INC   \n",
       "31  American United Taxi Affiliation   \n",
       "\n",
       "                                              matched  comma_count  \n",
       "15             Checker Taxi Affiliation, Checker Taxi            1  \n",
       "19   Medallion Leasing, Chicago Medallion Leasing INC            1  \n",
       "31  American United, American United Taxi Affiliation            1  "
      ]
     },
     "execution_count": 68,
     "metadata": {},
     "output_type": "execute_result"
    }
   ],
   "source": [
    "# Get the unique values and store them in a list. \n",
    "my_list = data01['company_name_tidy'].unique().tolist()\n",
    "\n",
    "# Check which string is contained inside which string to look for similar company names in order to find duplicates.\n",
    "data01['matched'] = data01['company_name_tidy'].apply(lambda x: ', '.join([m for m in my_list if m in x])).replace('',np.nan)\n",
    "\n",
    "# Count the number of commas in the list in each row of 'matched', i.e. the duplicates.\n",
    "data01['comma_count'] = data01['matched'].apply(lambda x: str.count(x, ','))\n",
    "\n",
    "# List the duplicate company names.\n",
    "data01.query('comma_count > 0')"
   ]
  },
  {
   "cell_type": "code",
   "execution_count": 69,
   "metadata": {},
   "outputs": [
    {
     "data": {
      "text/html": [
       "<div>\n",
       "<style scoped>\n",
       "    .dataframe tbody tr th:only-of-type {\n",
       "        vertical-align: middle;\n",
       "    }\n",
       "\n",
       "    .dataframe tbody tr th {\n",
       "        vertical-align: top;\n",
       "    }\n",
       "\n",
       "    .dataframe thead th {\n",
       "        text-align: right;\n",
       "    }\n",
       "</style>\n",
       "<table border=\"1\" class=\"dataframe\">\n",
       "  <thead>\n",
       "    <tr style=\"text-align: right;\">\n",
       "      <th></th>\n",
       "      <th>company_name</th>\n",
       "      <th>trips_amount</th>\n",
       "      <th>company_name_tidy</th>\n",
       "      <th>matched</th>\n",
       "      <th>comma_count</th>\n",
       "    </tr>\n",
       "  </thead>\n",
       "  <tbody>\n",
       "    <tr>\n",
       "      <td>2</td>\n",
       "      <td>Medallion Leasing</td>\n",
       "      <td>10367</td>\n",
       "      <td>Medallion Leasing</td>\n",
       "      <td>Medallion Leasing</td>\n",
       "      <td>0</td>\n",
       "    </tr>\n",
       "    <tr>\n",
       "      <td>20</td>\n",
       "      <td>Checker Taxi</td>\n",
       "      <td>1486</td>\n",
       "      <td>Checker Taxi</td>\n",
       "      <td>Checker Taxi</td>\n",
       "      <td>0</td>\n",
       "    </tr>\n",
       "    <tr>\n",
       "      <td>21</td>\n",
       "      <td>American United</td>\n",
       "      <td>1404</td>\n",
       "      <td>American United</td>\n",
       "      <td>American United</td>\n",
       "      <td>0</td>\n",
       "    </tr>\n",
       "  </tbody>\n",
       "</table>\n",
       "</div>"
      ],
      "text/plain": [
       "         company_name  trips_amount  company_name_tidy            matched  \\\n",
       "2   Medallion Leasing         10367  Medallion Leasing  Medallion Leasing   \n",
       "20       Checker Taxi          1486       Checker Taxi       Checker Taxi   \n",
       "21    American United          1404    American United    American United   \n",
       "\n",
       "    comma_count  \n",
       "2             0  \n",
       "20            0  \n",
       "21            0  "
      ]
     },
     "execution_count": 69,
     "metadata": {},
     "output_type": "execute_result"
    }
   ],
   "source": [
    "# Check 'trips_amount' for the three company name duplicates. COMMENT THIS OUT\n",
    "data01[data01['company_name_tidy'].isin([\"Checker Taxi\", \"Medallion Leasing\", \"American United\"])]"
   ]
  },
  {
   "cell_type": "markdown",
   "metadata": {},
   "source": [
    "Side Note to the creator of the project: project_sql_result_01.csv available for download seems to be different from the one in /dataset/. The downloadable csv file contains \"Medallion Leasin\" as opposed to \"Medallion Leasing\"."
   ]
  },
  {
   "cell_type": "code",
   "execution_count": 70,
   "metadata": {},
   "outputs": [],
   "source": [
    "# Make a copy of trips_amount to keep the original values.\n",
    "trips_amount_copy = data01['trips_amount']\n",
    "data01['trips_amount_tidy'] = trips_amount_copy\n",
    "\n",
    "# Make a dictionary of the 'company_name' and 'trips_amount' to combine. \n",
    "to_combine = {\"Checker Taxi Affiliation\": 1486, \"Chicago Medallion Leasing INC\": 10367, \"American United Taxi Affiliation\": 1404}\n",
    "\n",
    "for key, value in to_combine.items():\n",
    "    data01.loc[data01['company_name_tidy'] == key, 'trips_amount_tidy'] += value\n",
    "\n",
    "# Delete the row for \"Checker Taxi\", \"Medallion Leasin\" and \"American United\" by the indices.\n",
    "data01 = data01.drop(labels=[2, 20, 21], axis = 0)"
   ]
  },
  {
   "cell_type": "code",
   "execution_count": 71,
   "metadata": {},
   "outputs": [],
   "source": [
    "# Verify it worked. \n",
    "#data01.query('company_name_tidy == \"Chicago Medallion Leasing INC\"')\n",
    "#data01.query('company_name_tidy == \"Checker Taxi Affiliation\"')\n",
    "#data01.query('company_name_tidy == \"American United Taxi Affiliation\"')\n",
    "\n",
    "# Confirm the total number of rows. \n",
    "#len(data01)"
   ]
  },
  {
   "cell_type": "markdown",
   "metadata": {},
   "source": [
    "The cab company names can be sorted alphabetically, and there are no duplicates due to variations in the way the names are written. "
   ]
  },
  {
   "cell_type": "markdown",
   "metadata": {},
   "source": [
    "<div style=\"border:solid green 2px; padding: 20px\"> <b>Success:</b><br>\n",
    "    \n",
    "   Excellent, I agree with the preprocessing of the data in the company names. It's great that you did some in-depth analysis here.\n",
    " </div>"
   ]
  },
  {
   "cell_type": "markdown",
   "metadata": {},
   "source": [
    "### Data Type Conversions <a class=\"anchor\" id=\"section_4_2\"></a>\n",
    "\n",
    "[Go back to the Table of Contents](#table_of_contents)"
   ]
  },
  {
   "cell_type": "code",
   "execution_count": 24,
   "metadata": {},
   "outputs": [],
   "source": [
    "# Convert the data type of 'average_trips' in data04 from float to int. \n",
    "data04['average_trips'] = data04['average_trips'].astype(int)\n",
    "\n",
    "# Verify it worked. \n",
    "#data04.info()"
   ]
  },
  {
   "cell_type": "code",
   "execution_count": 25,
   "metadata": {},
   "outputs": [],
   "source": [
    "# Convert the data type of 'start_ts' in data04 from object to datetime. \n",
    "data07['start_ts'] = pd.to_datetime(data07['start_ts'], format='%Y-%m-%d %H:%M:%S')\n",
    "\n",
    "# Convert the data type of 'duration_seconds' in data04 from float to int. \n",
    "data07['duration_seconds'] = data07['duration_seconds'].astype(int)\n",
    "\n",
    "# Verify it worked. \n",
    "#data07.info()"
   ]
  },
  {
   "cell_type": "markdown",
   "metadata": {},
   "source": [
    "<div style=\"border:solid orange 2px; padding: 20px\"> <b>Remarks:</b><br>\n",
    "    \n",
    "   It's great that you did the data type conversion, but still the `duration_seconds` column is not worth converting to `int` format, because it may slightly distort our data.\n",
    "\n",
    " Please visit this link, there is information on how to optimise data types and downsize them: \n",
    "    <a>https://vincentteyssier.medium.com/optimizing-the-size-of-a-pandas-dataframe-for-low-memory-environment-5f07db3d72e</a>\n",
    "</div> "
   ]
  },
  {
   "cell_type": "markdown",
   "metadata": {},
   "source": [
    "### Identifying Duplicates <a class=\"anchor\" id=\"section_4_3\"></a>\n",
    "\n",
    "[Go back to the Table of Contents](#table_of_contents)"
   ]
  },
  {
   "cell_type": "code",
   "execution_count": 39,
   "metadata": {},
   "outputs": [
    {
     "data": {
      "text/plain": [
       "197"
      ]
     },
     "execution_count": 39,
     "metadata": {},
     "output_type": "execute_result"
    }
   ],
   "source": [
    "# Look for duplicate rows where they are identical column for column. \n",
    "#data01.duplicated().sum()\n",
    "#data04.duplicated().sum()\n",
    "duplicates = data07.duplicated().sum()\n",
    "duplicates"
   ]
  },
  {
   "cell_type": "markdown",
   "metadata": {},
   "source": [
    "<div style=\"border:solid orange 2px; padding: 20px\"> <b>Remarks:</b><br>\n",
    "    It is better to uncomment this part to show whether there are duplicates in the other tables.</div>   "
   ]
  },
  {
   "cell_type": "markdown",
   "metadata": {},
   "source": [
    "There are 197 complete duplicates."
   ]
  },
  {
   "cell_type": "code",
   "execution_count": 40,
   "metadata": {},
   "outputs": [
    {
     "data": {
      "text/html": [
       "<div>\n",
       "<style scoped>\n",
       "    .dataframe tbody tr th:only-of-type {\n",
       "        vertical-align: middle;\n",
       "    }\n",
       "\n",
       "    .dataframe tbody tr th {\n",
       "        vertical-align: top;\n",
       "    }\n",
       "\n",
       "    .dataframe thead th {\n",
       "        text-align: right;\n",
       "    }\n",
       "</style>\n",
       "<table border=\"1\" class=\"dataframe\">\n",
       "  <thead>\n",
       "    <tr style=\"text-align: right;\">\n",
       "      <th></th>\n",
       "      <th>start_ts</th>\n",
       "      <th>weather_conditions</th>\n",
       "      <th>duration_seconds</th>\n",
       "    </tr>\n",
       "  </thead>\n",
       "  <tbody>\n",
       "    <tr>\n",
       "      <td>462</td>\n",
       "      <td>2017-11-04 05:00:00</td>\n",
       "      <td>Good</td>\n",
       "      <td>1200</td>\n",
       "    </tr>\n",
       "    <tr>\n",
       "      <td>541</td>\n",
       "      <td>2017-11-04 05:00:00</td>\n",
       "      <td>Good</td>\n",
       "      <td>1200</td>\n",
       "    </tr>\n",
       "    <tr>\n",
       "      <td>681</td>\n",
       "      <td>2017-11-04 06:00:00</td>\n",
       "      <td>Good</td>\n",
       "      <td>1267</td>\n",
       "    </tr>\n",
       "    <tr>\n",
       "      <td>682</td>\n",
       "      <td>2017-11-04 06:00:00</td>\n",
       "      <td>Good</td>\n",
       "      <td>1267</td>\n",
       "    </tr>\n",
       "    <tr>\n",
       "      <td>332</td>\n",
       "      <td>2017-11-04 07:00:00</td>\n",
       "      <td>Good</td>\n",
       "      <td>1140</td>\n",
       "    </tr>\n",
       "    <tr>\n",
       "      <td>...</td>\n",
       "      <td>...</td>\n",
       "      <td>...</td>\n",
       "      <td>...</td>\n",
       "    </tr>\n",
       "    <tr>\n",
       "      <td>831</td>\n",
       "      <td>2017-11-25 11:00:00</td>\n",
       "      <td>Good</td>\n",
       "      <td>1680</td>\n",
       "    </tr>\n",
       "    <tr>\n",
       "      <td>53</td>\n",
       "      <td>2017-11-25 12:00:00</td>\n",
       "      <td>Good</td>\n",
       "      <td>1380</td>\n",
       "    </tr>\n",
       "    <tr>\n",
       "      <td>255</td>\n",
       "      <td>2017-11-25 12:00:00</td>\n",
       "      <td>Good</td>\n",
       "      <td>1380</td>\n",
       "    </tr>\n",
       "    <tr>\n",
       "      <td>929</td>\n",
       "      <td>2017-11-25 12:00:00</td>\n",
       "      <td>Good</td>\n",
       "      <td>1440</td>\n",
       "    </tr>\n",
       "    <tr>\n",
       "      <td>1058</td>\n",
       "      <td>2017-11-25 12:00:00</td>\n",
       "      <td>Good</td>\n",
       "      <td>1440</td>\n",
       "    </tr>\n",
       "  </tbody>\n",
       "</table>\n",
       "<p>312 rows × 3 columns</p>\n",
       "</div>"
      ],
      "text/plain": [
       "                start_ts weather_conditions  duration_seconds\n",
       "462  2017-11-04 05:00:00               Good              1200\n",
       "541  2017-11-04 05:00:00               Good              1200\n",
       "681  2017-11-04 06:00:00               Good              1267\n",
       "682  2017-11-04 06:00:00               Good              1267\n",
       "332  2017-11-04 07:00:00               Good              1140\n",
       "...                  ...                ...               ...\n",
       "831  2017-11-25 11:00:00               Good              1680\n",
       "53   2017-11-25 12:00:00               Good              1380\n",
       "255  2017-11-25 12:00:00               Good              1380\n",
       "929  2017-11-25 12:00:00               Good              1440\n",
       "1058 2017-11-25 12:00:00               Good              1440\n",
       "\n",
       "[312 rows x 3 columns]"
      ]
     },
     "execution_count": 40,
     "metadata": {},
     "output_type": "execute_result"
    }
   ],
   "source": [
    "# View all the duplicate rows. Explicitly specify the column names in a specific order to confirm the duplicates.\n",
    "data07[data07.duplicated(keep=False)].sort_values(['start_ts', 'duration_seconds', 'weather_conditions'])"
   ]
  },
  {
   "cell_type": "markdown",
   "metadata": {},
   "source": [
    "<div style=\"border:solid orange 2px; padding: 20px\"> <b>Remarks:</b><br>\n",
    "   \n",
    "   When outputting tables please use `head()`, `tail()` or `sample()` that show several rows, because otherwise when you use, for example, GitHub, to build a portfolio of projects your table will expand all the way around and take up a lot of space.\n",
    "    \n",
    "</div>   "
   ]
  },
  {
   "cell_type": "code",
   "execution_count": 41,
   "metadata": {},
   "outputs": [
    {
     "data": {
      "text/plain": [
       "18.45"
      ]
     },
     "execution_count": 41,
     "metadata": {},
     "output_type": "execute_result"
    }
   ],
   "source": [
    "# Calculate the percentage of the duplicate entry records in the dataset. \n",
    "round(duplicates/len(data07) * 100, 2)"
   ]
  },
  {
   "cell_type": "markdown",
   "metadata": {},
   "source": [
    "Multiple rides that started on the same date at exactly the same hour (which is totally plausible), under the same weather conditions (which is logical since the date and time are the same), that lasted exactly the same amount of time down to the last second? - this last bit, though not impossible, is highly unlikely. And there are 18.45% of such cases in the dataset. \n",
    "\n",
    "'data07' dataset is not explicitly linked to other datasets by a reference key, and even if it was, at least one copy of the duplicate records still exists in 'data07' so the data will not be lost, and the linking datasets can be reindexed.  \n",
    "\n",
    "\n",
    "Let's remove the duplicates. "
   ]
  },
  {
   "cell_type": "code",
   "execution_count": 42,
   "metadata": {},
   "outputs": [],
   "source": [
    "# Remove the duplicates.\n",
    "data07 = data07.drop_duplicates()\n",
    "\n",
    "# Verify it worked (there should be 1068 - 197 = 871 rows).\n",
    "#data07.info()"
   ]
  },
  {
   "cell_type": "markdown",
   "metadata": {},
   "source": [
    "<div style=\"border:solid orange 2px; padding: 20px\"> <b>Remarks:</b><br>\n",
    "    The percentage of duplicates turned out to be quite high. In this case, it is better to ask colleagues for clarification of why there are so many duplicates, perhaps it is not an accident and makes some sense.</div> "
   ]
  },
  {
   "cell_type": "markdown",
   "metadata": {},
   "source": [
    "### Conclusion <a class=\"anchor\" id=\"section_4_4\"></a>\n",
    "\n",
    "[Go back to the Table of Contents](#table_of_contents)"
   ]
  },
  {
   "cell_type": "markdown",
   "metadata": {},
   "source": [
    "**data01**\n",
    "* 'company_name': \n",
    "<br>o All the prefix patterns were identified and removed to enable correct alphabetical sorting.\n",
    "<br>o After resolving the issue of inconsistent company names, duplicates were removed and 'trips_amount' was combined between the duplicates.\n",
    "\n",
    "\n",
    "**data04**\n",
    "* 'average_trips': the data type was converted from float to int. \n",
    "\n",
    "\n",
    "**date07**\n",
    "* 'start_ts': the data type was converted from object to datetime. \n",
    "* 'duration_seconds': the data type was converted from float to int. \n",
    "* Complete duplicates were removed.\n",
    "\n",
    "\n",
    "Note: there were no missing values that had to be taken care of.  "
   ]
  },
  {
   "cell_type": "markdown",
   "metadata": {},
   "source": [
    "<div style=\"border:solid green 2px; padding: 20px\"> <b>Success:</b><br>\n",
    "    Thank you for writing the conclusions 👍 </div> "
   ]
  },
  {
   "cell_type": "markdown",
   "metadata": {},
   "source": [
    "## Data Analysis <a class=\"anchor\" id=\"chapter5\"></a>\n",
    "\n",
    "[Go back to the Table of Contents](#table_of_contents)"
   ]
  },
  {
   "cell_type": "markdown",
   "metadata": {},
   "source": [
    "### Identify the top 10 neighborhoods in terms of drop-offs <a class=\"anchor\" id=\"section_5_1\"></a>\n",
    "\n",
    "[Go back to the Table of Contents](#table_of_contents)"
   ]
  },
  {
   "cell_type": "code",
   "execution_count": 43,
   "metadata": {},
   "outputs": [
    {
     "data": {
      "text/html": [
       "<div>\n",
       "<style scoped>\n",
       "    .dataframe tbody tr th:only-of-type {\n",
       "        vertical-align: middle;\n",
       "    }\n",
       "\n",
       "    .dataframe tbody tr th {\n",
       "        vertical-align: top;\n",
       "    }\n",
       "\n",
       "    .dataframe thead th {\n",
       "        text-align: right;\n",
       "    }\n",
       "</style>\n",
       "<table border=\"1\" class=\"dataframe\">\n",
       "  <thead>\n",
       "    <tr style=\"text-align: right;\">\n",
       "      <th></th>\n",
       "      <th>dropoff_location_name</th>\n",
       "      <th>average_trips</th>\n",
       "    </tr>\n",
       "  </thead>\n",
       "  <tbody>\n",
       "    <tr>\n",
       "      <td>0</td>\n",
       "      <td>Loop</td>\n",
       "      <td>10727</td>\n",
       "    </tr>\n",
       "    <tr>\n",
       "      <td>1</td>\n",
       "      <td>River North</td>\n",
       "      <td>9523</td>\n",
       "    </tr>\n",
       "    <tr>\n",
       "      <td>2</td>\n",
       "      <td>Streeterville</td>\n",
       "      <td>6664</td>\n",
       "    </tr>\n",
       "    <tr>\n",
       "      <td>3</td>\n",
       "      <td>West Loop</td>\n",
       "      <td>5163</td>\n",
       "    </tr>\n",
       "    <tr>\n",
       "      <td>4</td>\n",
       "      <td>O'Hare</td>\n",
       "      <td>2546</td>\n",
       "    </tr>\n",
       "    <tr>\n",
       "      <td>5</td>\n",
       "      <td>Lake View</td>\n",
       "      <td>2420</td>\n",
       "    </tr>\n",
       "    <tr>\n",
       "      <td>6</td>\n",
       "      <td>Grant Park</td>\n",
       "      <td>2068</td>\n",
       "    </tr>\n",
       "    <tr>\n",
       "      <td>7</td>\n",
       "      <td>Museum Campus</td>\n",
       "      <td>1510</td>\n",
       "    </tr>\n",
       "    <tr>\n",
       "      <td>8</td>\n",
       "      <td>Gold Coast</td>\n",
       "      <td>1364</td>\n",
       "    </tr>\n",
       "    <tr>\n",
       "      <td>9</td>\n",
       "      <td>Sheffield &amp; DePaul</td>\n",
       "      <td>1259</td>\n",
       "    </tr>\n",
       "  </tbody>\n",
       "</table>\n",
       "</div>"
      ],
      "text/plain": [
       "  dropoff_location_name  average_trips\n",
       "0                  Loop          10727\n",
       "1           River North           9523\n",
       "2         Streeterville           6664\n",
       "3             West Loop           5163\n",
       "4                O'Hare           2546\n",
       "5             Lake View           2420\n",
       "6            Grant Park           2068\n",
       "7         Museum Campus           1510\n",
       "8            Gold Coast           1364\n",
       "9    Sheffield & DePaul           1259"
      ]
     },
     "execution_count": 43,
     "metadata": {},
     "output_type": "execute_result"
    }
   ],
   "source": [
    "# Sort the data in descending order of 'average_trips'.\n",
    "top10_neighbourhoods = data04.sort_values('average_trips', ascending = False).head(10)\n",
    "\n",
    "# View the list. \n",
    "top10_neighbourhoods"
   ]
  },
  {
   "cell_type": "markdown",
   "metadata": {},
   "source": [
    "The top 10 neighbourhoods in terms of the number of drop-offs are as above. "
   ]
  },
  {
   "cell_type": "markdown",
   "metadata": {},
   "source": [
    "<div style=\"border:solid green 2px; padding: 20px\"> <b>Success:</b><br>\n",
    "    Perfect, you identifyed the top 10 neighborhoods in terms of drop-offs correctly. </div>       "
   ]
  },
  {
   "cell_type": "markdown",
   "metadata": {},
   "source": [
    "### Make graphs: taxi companies and number of rides, top 10 neighborhoods by number of dropoffs <a class=\"anchor\" id=\"section_5_2\"></a>\n",
    "\n",
    "[Go back to the Table of Contents](#table_of_contents)"
   ]
  },
  {
   "cell_type": "code",
   "execution_count": 44,
   "metadata": {},
   "outputs": [],
   "source": [
    "# Write a function to plot a horizontal bar chart. \n",
    "def plot_barh(df, x_grid, y_grid, chart_title, x_title, y_title):\n",
    "    ax = df.plot(kind='barh', figsize=(20,30), color=\"purple\", fontsize=16, x=x_grid, y=y_grid);\n",
    "    ax.set_alpha(0.8)\n",
    "    ax.set_title(chart_title, fontsize=18)\n",
    "    ax.set_xlabel(x_title, fontsize=18);\n",
    "    ax.set_ylabel(y_title, fontsize=18);    \n",
    "    ax.legend(loc = \"lower right\", fontsize = 18);\n",
    "\n",
    "    # Add labels to the bars. \n",
    "    for i in ax.patches:\n",
    "        # get_width pulls left or right; get_y pushes up or down\n",
    "        ax.text(i.get_width()+.3, i.get_y()+.38, str(round((i.get_width()), 2)), fontsize=15, color='black')\n",
    "\n",
    "    # invert for largest on top \n",
    "    ax.invert_yaxis();"
   ]
  },
  {
   "cell_type": "code",
   "execution_count": 45,
   "metadata": {},
   "outputs": [],
   "source": [
    "# Prepare the data for plotting. \n",
    "plot_taxis = data01[['company_name_tidy', 'trips_amount_tidy']].sort_values('trips_amount_tidy', ascending=False)\n",
    "\n",
    "# Plot a horizontal bar chart of the number of rides per taxi company. \n",
    "df_to_plot = plot_taxis\n",
    "x_axis = 'company_name_tidy'\n",
    "y_axis = 'trips_amount_tidy'\n",
    "chart_title = \"Number of Rides per Taxi Company\"\n",
    "x_title = \"Number of Trips\"\n",
    "y_title = \"Taxi Company\"\n",
    "\n",
    "#plot_barh(df_to_plot, x_axis, y_axis, chart_title, x_title, y_title)"
   ]
  },
  {
   "cell_type": "markdown",
   "metadata": {},
   "source": [
    "To enhance readability, put all the taxi companies with less than 40 trips in a group called 'Other' and replot the chart."
   ]
  },
  {
   "cell_type": "code",
   "execution_count": 46,
   "metadata": {},
   "outputs": [
    {
     "data": {
      "image/png": "[encoded data removed]",
      "text/plain": [
       "<Figure size 1440x2160 with 1 Axes>"
      ]
     },
     "metadata": {
      "needs_background": "light"
     },
     "output_type": "display_data"
    }
   ],
   "source": [
    "# Make a copy of 'company_name'. \n",
    "company_name_copy = plot_taxis['company_name_tidy']\n",
    "plot_taxis['company_name_display'] = company_name_copy\n",
    "\n",
    "# Replace the company name with 'Other' fpr those less than 40 trips. \n",
    "plot_taxis.loc[plot_taxis['trips_amount_tidy'] < 40, 'company_name_display'] = 'Other'\n",
    "\n",
    "# Verify it worked. \n",
    "#plot_taxis.tail()\n",
    "\n",
    "# Create a pivot table to group all the taxi companies that should go into 'Other'.\n",
    "plot_taxis2 = plot_taxis.pivot_table(index='company_name_display', values = 'trips_amount_tidy', aggfunc = 'sum').sort_values('trips_amount_tidy', ascending=False).reset_index()\n",
    "#plot_taxis2\n",
    "\n",
    "# Replot the horizontal bar chart of the number of rides per taxi company. \n",
    "df_to_plot = plot_taxis2\n",
    "x_axis = 'company_name_display'\n",
    "y_axis = 'trips_amount_tidy'\n",
    "chart_title = \"Number of Rides per Taxi Company\"\n",
    "x_title = \"Number of Rides\"\n",
    "y_title = \"Taxi Company\"\n",
    "\n",
    "plot_barh(df_to_plot, x_axis, y_axis, chart_title, x_title, y_title)"
   ]
  },
  {
   "cell_type": "markdown",
   "metadata": {},
   "source": [
    "Flash Cab is the clear winner. "
   ]
  },
  {
   "cell_type": "code",
   "execution_count": 47,
   "metadata": {},
   "outputs": [
    {
     "data": {
      "image/png": "[encoded data removed]",
      "text/plain": [
       "<Figure size 1224x720 with 1 Axes>"
      ]
     },
     "metadata": {
      "needs_background": "light"
     },
     "output_type": "display_data"
    }
   ],
   "source": [
    "# Write a function to plot a lollypop chart.     \n",
    "def plot_lolloypop_chart(df, x_grid, y_grid, y_bottom, l_color, d_color, c_title, y_label, x_label, col0, col1):\n",
    "\n",
    "    #First create an empty canvas. \n",
    "    fig, ax = plt.subplots(figsize = (17, 10))\n",
    "\n",
    "    # Plot the chart lines. \n",
    "    ax.vlines(x = x_grid, ymin = y_grid, ymax = y_bottom, color = l_color, alpha = 0.7, linewidth = 2) \n",
    "\n",
    "    # Plot the chart dots. \n",
    "    ax.scatter(x = x_grid, y = y_grid, s = 75, color = d_color, alpha = 0.7)\n",
    "\n",
    "    # Label the chart. \n",
    "    ax.set_title(c_title, fontdict = {'size': 15})\n",
    "    ax.set_ylabel(y_label, fontsize = 14)\n",
    "    ax.set_xlabel(x_label, fontsize = 14)\n",
    "    ax.set_xticks(x_grid)\n",
    "    ax.set_xticklabels(x_grid, rotation = 90, fontsize = 14)\n",
    "\n",
    "    # Add labels to the dots. \n",
    "    for row in df.itertuples():\n",
    "        ax.text(row[1], row[2] + 30, s = round(row[2], 2))\n",
    "        \n",
    "        \n",
    "# Plot the lollypop chart.\n",
    "dataframe_to_plot = top10_neighbourhoods\n",
    "x_axis = top10_neighbourhoods.dropoff_location_name\n",
    "y_axis = top10_neighbourhoods.average_trips\n",
    "y_lower_limit = 0\n",
    "line_colour = 'purple'\n",
    "dot_colour = 'black'\n",
    "chart_title = 'Top 10 Neighbourhoods by Taxi Rides'\n",
    "y_title = 'Number of Drop-Offs'\n",
    "x_title = 'Neighbourhoods'\n",
    "column0 = 'dropoff_location_name'\n",
    "column1 = 'average_trips'\n",
    "\n",
    "plot_lolloypop_chart(dataframe_to_plot, x_axis, y_axis, y_lower_limit, line_colour, dot_colour, chart_title, y_title, x_title, column0, column1)"
   ]
  },
  {
   "cell_type": "markdown",
   "metadata": {},
   "source": [
    "The top 10 popular destination neighbourhoods in taxi rides are as above. "
   ]
  },
  {
   "cell_type": "markdown",
   "metadata": {},
   "source": [
    "<div style=\"border:solid green 2px; padding: 20px\"> <b>Success:</b><br>\n",
    "   It is great when the graph and its axes are signed.\n",
    "This way it's easier to understand what's shown on the graph. It's especially great that you sign the columns with the actual values in your charts. Good job!☺️</div>       "
   ]
  },
  {
   "cell_type": "markdown",
   "metadata": {},
   "source": [
    "### Draw conclusions based on each graph and explain the results <a class=\"anchor\" id=\"section_5_3\"></a>\n",
    "\n",
    "[Go back to the Table of Contents](#table_of_contents)"
   ]
  },
  {
   "cell_type": "markdown",
   "metadata": {},
   "source": [
    "[Neighbourhoods]\n",
    "* The Loop is the \"capital\" of the city of Chicago, and the city's international airport is in O'Hare. The major popular neighbourhoods (see below) are all within walking distance from the Loop. It is understandable that these two locations rank high in the list. \n",
    "\n",
    "\n",
    "\n",
    "* The artsy River North, the luxury shopping Streetville district and the West Loop foodies' paradise all surround the Loop from the North-East to the West. The neighbourhoods have all the hallmarks of taxi ride destinations popular to both tourists and locals alike. \n",
    "\n",
    "\n",
    "\n",
    "* Lake View, Sheffield & DePaul and West Loop are three of the best residential areas in Chicago. Lake View is known for its arts and culture, and the neighbourhood of DePaul is home to DePaul University, the largest Catholic university in the US. The neighbouring Sheffield is a popular and logical choice for students to settle down during the semesters. Lake View is three neighbourhoods away to the North from the Loop, and Sheffield & DePaul, two neighbourds away. In other words, they are at a distance that is a little far for a stroll, but very convenient for a taxi ride. \n",
    "\n",
    "\n",
    "\n",
    "* Gold Coast, the historic district of Chicago, lies directly to the North of the Loop. Grant Park is Chicago's answer to New York's Central Park. Together with Museum Campus, a 57-acre museum park that sits near Lake Michigan in the West of the Loop, it is a nice short ride to these suburbs from the Loop.  \n",
    "\n",
    "\n",
    "\n",
    "[Taxi Company Popularity]\n",
    "* Flash Cab offers flat rates from the Loop to the suburbs for corporate account holders, and advertises that they provide a door-to-door service to the desired terminal gate at the airport for an attractive price. These service models seem to have helped them secure the leader's position. In terms of google search, Flash Cab does not appear on the first page of the search result, though it is the first one listed in the Related Searches at the bottom of the search result page.  \n",
    "\n",
    "\n",
    "\n",
    "* Chicago Medallion Leasing INC (an affiliated company of Chicago Medallion Management Corp, which is also an affiliated company of City Service Taxi) is highly ranked on the first page in google search with both keywords, \"taxi\" and \"cab\". This visibility may be key to them gaining the number of rides. \n",
    "\n",
    "\n",
    "\n",
    "* Yellow Cab is the first to appear in google's organic search result (after the ads). This accessibility, together with the iconic association people have between the colour yellow and taxis, may be key to them being in the fourth place. \n",
    "\n",
    "\n",
    "* Taxi Affiliation Services have no company web site and do not publish a very clear description as to what exactly their business entails. In LinkedIn, they write that they \"provide support services to transportation companies in five states and over twenty separate municipalities including Chicago, Baltimore, and New York City. TAS provides IT and dispatching services, insurance analysis, accounting and bookkeeping services, and back office support.\" It seems that they are a group of many taxi hire businesses. Their size may be key to them being in the third place. \n",
    "\n",
    "Note: many \"affiliations\" and \"associations\" catch the eye. The city of Chicago the taxi market to tens of thousands of for-hire vehicles - \"rideshare\" or Transportation Network Provider vehicles - in 2014. Three years later in 2017, thousands of small taxi operators found themselves unable to keep up with loan payments for their taxi medallions and high operating costs imposed by the city, and faced foreclosure on their medallions. They probably found a way to survive the sudden change in the business climate through uniting their businesses and working together as a group. \n",
    "\n",
    "\n",
    "Disclaimer: the search result I get now in 2021 is bound to be different than the data from 2017 that we were given for the project. \n",
    "<br>o The taxi company names that appear in the search result that do not appear in the data are businesses that were established after 2017 (e.g. Chicago Quick Taxi Cab Service has been in the business since a little over five years ago).\n",
    "<br>o There is a really bad review for Flash Cab in yelp, which, in turn, ranks American United at the top. "
   ]
  },
  {
   "cell_type": "markdown",
   "metadata": {},
   "source": [
    "<div style=\"border:solid green 2px; padding: 20px\"> <b>Success:</b><br>\n",
    "   Great job! Thanks for the in-depth analysis and detailed conclusions 👏 </div>"
   ]
  },
  {
   "cell_type": "markdown",
   "metadata": {},
   "source": [
    "## Testing Hypotheses <a class=\"anchor\" id=\"chapter6\"></a>\n",
    "\n",
    "[Go back to the Table of Contents](#table_of_contents)"
   ]
  },
  {
   "cell_type": "markdown",
   "metadata": {},
   "source": [
    "project_sql_result_07.csv contains the result of the last query - the data on rides from the Loop to O'Hare International Airport. Remember, these are the table's field values:\n",
    "<br>o start_ts - pickup date and time\n",
    "<br>o weather_conditions - weather conditions at the moment the ride started\n",
    "<br>o duration_seconds - ride duration in seconds\n",
    "\n",
    "Decide where to set the significance level (alpha) on your own.\n",
    "\n",
    "Explain:\n",
    "how you formed the null and alternative hypotheses\n",
    "what criterion you used to test the hypotheses and why"
   ]
  },
  {
   "cell_type": "markdown",
   "metadata": {},
   "source": [
    "### Hypothesis: \"The average duration of rides from the Loop to O'Hare International Airport changes on rainy Saturdays.\" <a class=\"anchor\" id=\"section_6_1\"></a>\n",
    "\n",
    "[Go back to the Table of Contents](#table_of_contents)"
   ]
  },
  {
   "cell_type": "code",
   "execution_count": 48,
   "metadata": {},
   "outputs": [
    {
     "data": {
      "text/plain": [
       "Saturday    871\n",
       "Name: day_of_week, dtype: int64"
      ]
     },
     "execution_count": 48,
     "metadata": {},
     "output_type": "execute_result"
    }
   ],
   "source": [
    "# Add the day of the week to the dataset. \n",
    "data07['day_of_week'] = data07['start_ts'].dt.day_name()\n",
    "\n",
    "# Check the result.\n",
    "data07['day_of_week'].value_counts()"
   ]
  },
  {
   "cell_type": "markdown",
   "metadata": {},
   "source": [
    "All the dates in the dataset are Saturdays. "
   ]
  },
  {
   "cell_type": "code",
   "execution_count": 49,
   "metadata": {},
   "outputs": [
    {
     "data": {
      "text/plain": [
       "Good    723\n",
       "Bad     148\n",
       "Name: weather_conditions, dtype: int64"
      ]
     },
     "execution_count": 49,
     "metadata": {},
     "output_type": "execute_result"
    }
   ],
   "source": [
    "# Look at the unique values of the categorical variable. \n",
    "data07['weather_conditions'].value_counts()"
   ]
  },
  {
   "cell_type": "markdown",
   "metadata": {},
   "source": [
    "The ratio of 'Good' to 'Bad' weathers is almost 5 to 1 and, therefore, is unbalanced. However, we should be OK since we will be working with the average in each category. "
   ]
  },
  {
   "cell_type": "code",
   "execution_count": 50,
   "metadata": {},
   "outputs": [],
   "source": [
    "# Prepare the arrays, one for days with good weather and another for days with bad weather.\n",
    "good_days = data07.query('weather_conditions == \"Good\"')\n",
    "bad_days = data07.query('weather_conditions == \"Bad\"')\n",
    "\n",
    "good_days = data07.loc[data07['weather_conditions'] == 'Good', 'duration_seconds']\n",
    "bad_days = data07.loc[data07['weather_conditions'] == 'Bad', 'duration_seconds']\n",
    "\n",
    "# View the datasets.\n",
    "#good_days\n",
    "#bad_days"
   ]
  },
  {
   "cell_type": "code",
   "execution_count": 51,
   "metadata": {},
   "outputs": [
    {
     "name": "stdout",
     "output_type": "stream",
     "text": [
      "good days sample size: 723\n",
      "bad days sample size: 148\n",
      "\n",
      "good days average ride duration: 2032.25\n",
      "bad days average ride duration: 2409.23\n",
      "\n",
      "good days variance: 598216.951081022\n",
      "bad days variance: 564819.443463872\n",
      "\n",
      "good days std: 773.4448597547353\n",
      "bad days std: 751.5447049004283\n"
     ]
    }
   ],
   "source": [
    "# Write a function for peforming some preliminary checks in order to know which statistical test to choose.\n",
    "def get_stats(name1, name2, df1, df2):\n",
    "    \n",
    "    # Check the sample sizes.\n",
    "    sample_size1 = len(df1)\n",
    "    sample_size2 = len(df2)\n",
    "    print(name1, 'sample size:', sample_size1)\n",
    "    print(name2, 'sample size:', sample_size2)\n",
    "    print()\n",
    "\n",
    "    # Calculate the means of the ride durations.\n",
    "    average_ride_duration1 = round(df1.mean(), 2)\n",
    "    average_ride_duration2 = round(df2.mean(), 2)\n",
    "    print(name1, 'average ride duration:', average_ride_duration1)\n",
    "    print(name2, 'average ride duration:', average_ride_duration2)\n",
    "    print()\n",
    "\n",
    "    # Calculate the variances.\n",
    "    variance1 = df1.var()\n",
    "    variance2 = df2.var()\n",
    "    print(name1, 'variance:', variance1)\n",
    "    print(name2, 'variance:', variance2)\n",
    "    print()\n",
    "\n",
    "    # Calculate the standard deviation.\n",
    "    std1 = df1.std()\n",
    "    std2 = df2.std()\n",
    "    print(name1, 'std:', std1)\n",
    "    print(name2, 'std:', std2)\n",
    "\n",
    "# Call the function.\n",
    "sample_name1 = 'good days'\n",
    "sample_name2 = 'bad days'\n",
    "sample1 = good_days\n",
    "sample2 = bad_days\n",
    "\n",
    "get_stats(sample_name1, sample_name2, sample1, sample2)"
   ]
  },
  {
   "cell_type": "markdown",
   "metadata": {},
   "source": [
    "The standard deviations of the two samples are different. There is no need to run Levene's test."
   ]
  },
  {
   "cell_type": "markdown",
   "metadata": {},
   "source": [
    "The standard deviations of the two samples are different but the sample sizes are very different, too. So let's check their variances with Levene's test to be doubly sure.\n",
    "\n",
    "A null hypothesis takes the form of \"the measures of location of two populations are equal to each other\". So, in our case, the null hypothesis will be:\n",
    "\n",
    "* H0 = \"The variance of the sample of ride durations from the Loop to O'Hare International Airport on Saturdays with good weather is equal to that of the sample of ride durations between the same two locations on Saturdays with bad weather.\"\n",
    "\n",
    "In case the null hypothesis is rejected, i.e. there is sufficient evidence against it, we need to set up the hypothesis for the not-equal-to alternative. So, in our case, the alternative hypothesis will be:\n",
    "\n",
    "* H1 = \"The variance of the sample of ride durations from the Loop to O'Hare International Airport on Saturdays with good weather is different from that of the sample of ride durations between the same two locations on Saturdays with bad weather.\"\n",
    "\n",
    "Note: in Levene's test, a small p-value suggests that the populations do NOT have equal variances, i.e.\n",
    "\n",
    "If pvalue < 0.05, it implies unequal variances, therefore, go for H1.\n",
    "<br>If pvalue >= 0.05, it implies equal variances, therefore, go for H0."
   ]
  },
  {
   "cell_type": "markdown",
   "metadata": {},
   "source": [
    "<div style=\"border:solid orange 2px; padding: 20px\"> <b>Remarks:</b><br>\n",
    "    Please, pay attention, that \"equal\" conception is not appliable in case of distributions. It's better to use \"statistical insignificant difference\" or \"belonging to the same statistical population\"  to formulate the null hypothesis instead of it.</div>"
   ]
  },
  {
   "cell_type": "markdown",
   "metadata": {},
   "source": [
    "Check the data distribution to decide whether to go for the median-based test or the mean-based test. \n",
    "\n",
    "Three variations of Levene’s test are possible. The possibilities and their recommended usages are:\n",
    "* ‘median’ : Recommended for skewed (non-normal) distributions.\n",
    "* ‘mean’ : Recommended for symmetric, moderate-tailed distributions.\n",
    "* ‘trimmed’ : Recommended for heavy-tailed distributions."
   ]
  },
  {
   "cell_type": "code",
   "execution_count": 52,
   "metadata": {},
   "outputs": [
    {
     "data": {
      "image/png": "[encoded data removed]",
      "text/plain": [
       "<Figure size 720x432 with 1 Axes>"
      ]
     },
     "metadata": {},
     "output_type": "display_data"
    }
   ],
   "source": [
    "# Write a function that plot two boxplots side by side. \n",
    "def plot_side_by_side_boxplots(df1, df2, c_title, c_xlabel, c_ylabel):\n",
    "\n",
    "    sns.set_style(\"whitegrid\")\n",
    "    plt.figure(figsize=(10,6))\n",
    "    plt.suptitle(c_title)\n",
    "    plt.xlabel(c_xlabel, size= 'x-large')\n",
    "    plt.ylabel(c_ylabel, size='x-large')\n",
    "    plt.ticklabel_format(useOffset = False, style = 'plain', axis='y')\n",
    "    plt.boxplot([df1, df2])\n",
    "    plt.show()\n",
    "    \n",
    "# Plot boxplots for the data slices. \n",
    "sample1 = good_days\n",
    "sample2 = bad_days\n",
    "chart_title = \"Saturdays per Weather\"\n",
    "chart_xlabel = 'Weather (1 = Good Weather, 2 = Bad Weather)'\n",
    "chart_ylabel = 'Number of Saturdays'\n",
    "\n",
    "plot_side_by_side_boxplots(sample1, sample2, chart_title, chart_xlabel, chart_ylabel)"
   ]
  },
  {
   "cell_type": "markdown",
   "metadata": {},
   "source": [
    "The graphs are skewed to the right. So go for the median-based test. "
   ]
  },
  {
   "cell_type": "code",
   "execution_count": 53,
   "metadata": {},
   "outputs": [
    {
     "name": "stdout",
     "output_type": "stream",
     "text": [
      "median -based p-value: 0.9806770360671218\n",
      "We can't reject the null hypothesis centered at the median\n"
     ]
    }
   ],
   "source": [
    "# Write a function that performs Levene's test.\n",
    "def run_levenes_test(df1, df2, b, a):\n",
    "    \n",
    "    # Set the critical statistical significance. \n",
    "    alpha = a\n",
    "\n",
    "    # Levene's test\n",
    "    results = st.levene(df1, df2, center = b)\n",
    "    print(b, '-based p-value:', results.pvalue)\n",
    "\n",
    "    if results.pvalue < alpha:\n",
    "        print('We reject the null hypothesis centered at the', b)\n",
    "    else:\n",
    "        print(\"We can't reject the null hypothesis centered at the\", b) \n",
    "              \n",
    "# Run the test. \n",
    "sample1 = good_days\n",
    "sample2 = bad_days\n",
    "base = 'median'\n",
    "critical_value = 0.05\n",
    "\n",
    "run_levenes_test(sample1, sample2, base, critical_value)"
   ]
  },
  {
   "cell_type": "markdown",
   "metadata": {},
   "source": [
    "The pvalue is greater than 0.05, which means the variances of the two samples are deemed equal, i.e. we go for H0."
   ]
  },
  {
   "cell_type": "markdown",
   "metadata": {},
   "source": [
    "<div style=\"border:solid green 2px; padding: 20px\"> <b>Success:</b><br>\n",
    "    Well done for making the necessary checks to choose which statistical test is best to use in this case 👍 </div>       "
   ]
  },
  {
   "cell_type": "markdown",
   "metadata": {},
   "source": [
    "**Formulate the null and alternative hypotheses and explain how.**\n",
    "\n",
    "We have two samples of ride durations: one on Saturdays with good weather, and another on Saturdays with bad weather. The two samples are independent of each other. We want to compare the mean ride durations of these two samples. \n",
    "\n",
    "The null hypothesis will be:\n",
    "\n",
    "* H0 = \"The average duration of rides from the Loop to O'Hare International Airport on Saturdays with good weather is equal to that of rides between the same two locations on Saturdays with bad weather.\"\n",
    "\n",
    "The alternative hypothesis will be:\n",
    "\n",
    "* H1 = \"The average duration of rides from the Loop to O'Hare International Airport on Saturdays with good weather is different from that of rides between the same two locations on Saturdays with bad weather.\"\n",
    "\n",
    "\n",
    "**Explain the criterion you used to test the hypotheses and why.**\n",
    "\n",
    "Use Welch's t-test\n",
    "<br>Reason: Welch's t-test allows us to compare two datasets and not just the two mean values. At first glance, the mean ride durations of the two samples are not close. Whether or not the difference between these numbers is significant depends on the variances of the samples, which were confirmed to be equal by Levene's test. The sizes of the two samples are very different.\n",
    "\n",
    "Welch's test is an adaptation of Student's t-test, and is more reliable when the two samples have unequal variances and/or unequal sample sizes like they are in our case. \n",
    "\n",
    "\n",
    "When performing the statistical test, set the following criteria: \n",
    "* Set equal_var = True\n",
    "<br>Reason: the variances of the two samples are deemed equal.\n",
    "* Set the statistical significance level of 5%, i.e. alpha = 0.05\n",
    "<br>Reason: since this is not a test that needs strict accuracy, we are using the most commonly used value. \n",
    "\n",
    "If the p-value is less than alpha, we reject the hypothesis. \n",
    "\n",
    "If pvalue < 0.05, we reject the hypothesis, therefore, go for H1.\n",
    "If pvalue >= 0.05, we accept the hypothesis, therefore, go for H0."
   ]
  },
  {
   "cell_type": "code",
   "execution_count": 54,
   "metadata": {},
   "outputs": [
    {
     "name": "stdout",
     "output_type": "stream",
     "text": [
      "p-value: 7.397770692813604e-08\n",
      "We reject the null hypothesis\n"
     ]
    }
   ],
   "source": [
    "# Write a function that performs Welch's test.\n",
    "def run_welchs_test(df1, df2, var_bool, a):\n",
    "\n",
    "    # Take the standard accepted value for the critical statistical significance.\n",
    "    alpha = a\n",
    "\n",
    "    results = st.ttest_ind(df1, df2, equal_var=var_bool)\n",
    "\n",
    "    print('p-value:', results.pvalue)\n",
    "\n",
    "    if results.pvalue < alpha:\n",
    "        print('We reject the null hypothesis')\n",
    "    else:\n",
    "        print(\"We can't reject the null hypothesis\") \n",
    "\n",
    "# Run the test. \n",
    "sample1 = good_days\n",
    "sample2 = bad_days\n",
    "var_equality = True\n",
    "critical_value = 0.05\n",
    "\n",
    "run_welchs_test(sample1, sample2, var_equality, critical_value)"
   ]
  },
  {
   "cell_type": "markdown",
   "metadata": {},
   "source": [
    "The p-value tells us that there is a 7.4e-06% probability of getting a difference that size or larger, assuming that H0 is correct. Since the p-value is very small, it indicates that such an observed outcome would be highly unlikely under the null hypothesis, meaning \"The average duration of rides from the Loop to O'Hare International Airport on Saturdays with good weather is different from that of rides between the same two locations on Saturdays with bad weather.\". "
   ]
  },
  {
   "cell_type": "markdown",
   "metadata": {},
   "source": [
    "### Conclusion <a class=\"anchor\" id=\"section_6_2\"></a>\n",
    "\n",
    "[Go back to the Table of Contents](#table_of_contents)"
   ]
  },
  {
   "cell_type": "markdown",
   "metadata": {},
   "source": [
    "Our hypothesis that the duration of rides from the Loop to O'Hare International Airport changes on rainy Saturdays was tested using Levene's and Welch's tests and was accepted. A ride on a Saturday when the weather is bad tends to be longer than a ride on a Saturday when the weather is good. Probably, this is related to people being cautious and driving more slowly due to treacherous road conditions when the weather is bad. "
   ]
  },
  {
   "cell_type": "markdown",
   "metadata": {},
   "source": [
    "<div style=\"border:solid green 2px; padding: 20px\"> <b>Success:</b><br>\n",
    "    The statistical test is correct and we reject the null hypothesis. It's great that you wrote your assumption as to why this is happening.</div>   "
   ]
  },
  {
   "cell_type": "markdown",
   "metadata": {},
   "source": [
    "## Overall conclusion <a class=\"anchor\" id=\"chapter7\"></a>\n",
    "\n",
    "[Go back to the Table of Contents](#table_of_contents)"
   ]
  },
  {
   "cell_type": "markdown",
   "metadata": {},
   "source": [
    "In preparation for the business launch in Chicago, Zuber would like to find out about popular destinations in the local scene, conduct some competitive analysis, and check whether or not weather has any effect on ride durations. \n",
    "\n",
    "\n",
    "A few suggestions as a result of analysing the given data:\n",
    "\n",
    "* In addition to the traffic conditions, take the road conditions into account as influenced by the weather. Advise customers to leave early because the ride is expected to be longer than usual due to bad weather causing bad traffic conditions on weekends, for example. People like to know what is going to happen. People do not like surprises. Communication is key. \n",
    "\n",
    "\n",
    "* Have a \"Bad Weather Day\" promo and make the ride service visible and accessible at an affordable price on bad weather. It is along the lines of umbrella shops raking in on a rainy day. \n",
    "\n",
    "\n",
    "* Raise visibility by being ranked high in search results, and use eye-catching ads. Make the ride service accessible both on the web and mobile with a light and simple UI. \n",
    "\n",
    "\n",
    "* Incorporate information about the local neighbourhoods. Ask customers what they are looking for and make suggestions on where to go. \n",
    "\n",
    "\n",
    "* Divide the area map of the city of Chicago and its suburbs into zones of concentric circles much like the London Underground where each zone contains several neighbourhoods. Instead of using the meter or quoting a per-destination price prior to the journey, lay out in the open the exact fares on a zone-base. It enhances the impression of freedom of mobility, flexibility and accessibility. Transparency is key. \n",
    "\n",
    "\n",
    "* Personalise each ride to accommodate for customers' wishes and preferences. Collect data to understand the range of reasons why a person might choose a taxi over the public transport (convenience of being able to take a direct route, privacy and intimacy with other riders, the attention on detail from a customer service minded driver,...etc).\n",
    "\n",
    "\n",
    "\n",
    "<br>[Datasets]\n",
    "1. The names of taxi company names and the number of rides for each company for November 15-16, 2017\n",
    "2. The names of Chicago neighbourhoods which were the customers' destinations and the number of trips taken to each of those destinations in November 2017\n",
    "3. The result of the last SQL query run on the Platform, which is the the pickup date and time, the weather (either good or bad), and the ride duration in seconds\n",
    " \n",
    "\n",
    "\n",
    "<br>[Specifics - Data preprocessing (on the Platform)]\n",
    "* A webpage in HTML format was parsed to extract the data on weather in Chicago in November 2017. \n",
    "\n",
    "\n",
    "* Various SQL queries were written to extract data from a database:\n",
    "<br>o the number of rides per taxi company for November 15-16, 2017\n",
    "<br>o the number of rides for taxi companies whose name contains \"Yellow\" or \"Blue\" for November 1-7, 2017\n",
    "<br>o the number of rides of two most popular taxi companies, placing the rest into a single group for November 1-7, 2017\n",
    "<br>o the IDs for two neighbourhoods specified\n",
    "<br>o the hourly weather conditions, categorised into 'Good' and 'Bad'\n",
    "<br>o all the rides between the Loop and O'Hare International Airport in Chicago on a Saturday, indicating the duration of the ride, the day's weather condition (Note: the rides where no information is available on the weather condition were excluded) \n",
    "\n",
    "\n",
    "<br>[Specifics - Data preprocessing (on jupyter hub)]\n",
    "* Column value renaming\n",
    "<br>o Inconsistency in the naming format was resolved to enable alphabetical sorting in 'company_name'. \n",
    "\n",
    "\n",
    "* Data type conversions\n",
    "<br>o The data type of 'average_trips' was converted from float to int to be consistent with the data type of 'trips_amount' and also it makes more sense to express the number of trips in whole numbers. \n",
    "<br>o The data type of 'start_ts' was converted from object to datetime to enable datetime operations.\n",
    "<br>o The data type of 'duration_seconds' was converted from float to int to round off the values to the nearest seconds. \n",
    "\n",
    "\n",
    "* Removal of duplicates\n",
    "<br>o After the variations in 'company_name' was resolved, duplicates were identified which were then removed. \n",
    "<br>o Complete duplicates were removed from the dataset of weather conditions. \n",
    "\n",
    "Note: there were no missing values in the three datasets given. \n",
    "\n",
    "\n",
    "\n",
    "<br>[Specifics - Analysis]\n",
    "* The top ten neighbourhoods in Chicago were identified and a lolloypop chart was plotted to compare the popularity in terms of the number of rides which terminated at those destinations. \n",
    "\n",
    "* A bar chart was plotted to compare the popularity of taxi companies in terms of the number of rides.\n",
    "\n",
    "* The reasons for popularity of the top ten neighbourhoods were investigated. Some neighbourhoods are bustling with arts and culture, some offer a plethora of culinary experiences, some are sought-after residential areas, and some are a university town and its neighbour with convenient accommodations for students. \n",
    "\n",
    "* The reasons for popularity of the top four taxi companies seem to be \"low-margin high-turnover\" business models, a membership with benefits for regular rides, high visibility and accessibility in web search results and impressionable choice of company names. \n",
    "\n",
    "\n",
    "<br>[Specifics - Testing the hypothesis]\n",
    "<br>Our hypothesis that the duration of rides from the Loop to O'Hare International Airport changes on rainy Saturdays was tested using Levene's and Welch's tests and was accepted. A ride on a Saturday when the weather is bad tends to be longer than a ride on a Saturday when the weather is good. Probably, this is related to people being cautious and driving more slowly due to treacherous road conditions when the weather is bad. \n",
    "\n",
    "<br>Note: the project description on the platform says that we will be testing \"test a hypothesis about the impact of weather on ride frequency\" but we tested on ride duration instead."
   ]
  },
  {
   "cell_type": "markdown",
   "metadata": {},
   "source": [
    "<div style=\"border:solid green 2px; padding: 20px\"> <b>Success:</b><br>\n",
    "    Well done, you wrote detailed conclusions. Thanks a lot for your work! 🙂  </div>   "
   ]
  },
  {
   "cell_type": "code",
   "execution_count": null,
   "metadata": {},
   "outputs": [],
   "source": []
  }
 ],
 "metadata": {
  "ExecuteTimeLog": [
   {
    "duration": 2016,
    "start_time": "2021-07-17T20:25:18.724Z"
   },
   {
    "duration": 6,
    "start_time": "2021-07-17T20:25:36.258Z"
   },
   {
    "duration": 299,
    "start_time": "2021-07-17T20:25:55.641Z"
   },
   {
    "duration": 15,
    "start_time": "2021-07-17T20:26:14.120Z"
   },
   {
    "duration": 8,
    "start_time": "2021-07-17T20:26:26.200Z"
   },
   {
    "duration": 17,
    "start_time": "2021-07-17T20:26:37.544Z"
   },
   {
    "duration": 6,
    "start_time": "2021-07-17T20:26:49.353Z"
   },
   {
    "duration": 12,
    "start_time": "2021-07-17T20:27:17.108Z"
   },
   {
    "duration": 7,
    "start_time": "2021-07-17T20:27:30.072Z"
   },
   {
    "duration": 16,
    "start_time": "2021-07-17T20:27:43.097Z"
   },
   {
    "duration": 3,
    "start_time": "2021-07-17T20:27:55.873Z"
   },
   {
    "duration": 11,
    "start_time": "2021-07-17T20:28:06.825Z"
   },
   {
    "duration": 8,
    "start_time": "2021-07-17T20:28:12.456Z"
   },
   {
    "duration": 17,
    "start_time": "2021-07-17T20:28:24.337Z"
   },
   {
    "duration": 24,
    "start_time": "2021-07-17T20:28:30.241Z"
   },
   {
    "duration": 18,
    "start_time": "2021-07-17T20:28:58.713Z"
   },
   {
    "duration": 20,
    "start_time": "2021-07-17T20:29:04.106Z"
   },
   {
    "duration": 10,
    "start_time": "2021-07-17T20:29:16.657Z"
   },
   {
    "duration": 3,
    "start_time": "2021-07-17T20:29:59.038Z"
   },
   {
    "duration": 10,
    "start_time": "2021-07-17T20:30:12.058Z"
   },
   {
    "duration": 24,
    "start_time": "2021-07-17T20:30:22.146Z"
   },
   {
    "duration": 13,
    "start_time": "2021-07-17T20:30:29.194Z"
   },
   {
    "duration": 26,
    "start_time": "2021-07-17T20:30:35.162Z"
   },
   {
    "duration": 397,
    "start_time": "2021-07-17T20:30:37.954Z"
   },
   {
    "duration": 10,
    "start_time": "2021-07-17T20:30:57.538Z"
   },
   {
    "duration": 293,
    "start_time": "2021-07-17T20:31:06.227Z"
   },
   {
    "duration": 9,
    "start_time": "2021-07-17T20:31:15.698Z"
   },
   {
    "duration": 22,
    "start_time": "2021-07-17T20:31:16.676Z"
   },
   {
    "duration": 18,
    "start_time": "2021-07-17T20:31:19.747Z"
   },
   {
    "duration": 11,
    "start_time": "2021-07-17T20:32:23.234Z"
   },
   {
    "duration": 20,
    "start_time": "2021-07-17T20:32:56.811Z"
   },
   {
    "duration": 13,
    "start_time": "2021-07-17T20:33:25.122Z"
   },
   {
    "duration": 19,
    "start_time": "2021-07-17T20:33:54.163Z"
   },
   {
    "duration": 3,
    "start_time": "2021-07-17T20:34:04.275Z"
   },
   {
    "duration": 5,
    "start_time": "2021-07-17T20:36:51.942Z"
   },
   {
    "duration": 4,
    "start_time": "2021-07-17T20:36:54.922Z"
   },
   {
    "duration": 5,
    "start_time": "2021-07-17T20:37:18.178Z"
   },
   {
    "duration": 9,
    "start_time": "2021-07-17T20:37:23.066Z"
   },
   {
    "duration": 8,
    "start_time": "2021-07-17T20:37:35.505Z"
   },
   {
    "duration": 22,
    "start_time": "2021-07-17T20:37:53.578Z"
   },
   {
    "duration": 6,
    "start_time": "2021-07-17T20:37:59.514Z"
   },
   {
    "duration": 8,
    "start_time": "2021-07-17T20:38:11.362Z"
   },
   {
    "duration": 11,
    "start_time": "2021-07-17T20:39:08.119Z"
   },
   {
    "duration": 8,
    "start_time": "2021-07-17T20:39:36.159Z"
   },
   {
    "duration": 8,
    "start_time": "2021-07-17T20:39:37.307Z"
   },
   {
    "duration": 1982,
    "start_time": "2021-07-17T20:39:47.740Z"
   },
   {
    "duration": 683,
    "start_time": "2021-07-17T20:40:08.197Z"
   },
   {
    "duration": 11,
    "start_time": "2021-07-17T20:41:11.679Z"
   },
   {
    "duration": 7,
    "start_time": "2021-07-17T20:41:20.259Z"
   },
   {
    "duration": 13,
    "start_time": "2021-07-17T20:41:33.164Z"
   },
   {
    "duration": 12,
    "start_time": "2021-07-17T20:41:37.293Z"
   },
   {
    "duration": 344,
    "start_time": "2021-07-17T20:42:04.028Z"
   },
   {
    "duration": 9,
    "start_time": "2021-07-17T20:42:17.382Z"
   },
   {
    "duration": 8,
    "start_time": "2021-07-17T20:42:37.013Z"
   },
   {
    "duration": 1475,
    "start_time": "2021-07-18T12:12:05.642Z"
   },
   {
    "duration": 237,
    "start_time": "2021-07-18T12:12:07.120Z"
   },
   {
    "duration": 15,
    "start_time": "2021-07-18T12:12:07.360Z"
   },
   {
    "duration": 11,
    "start_time": "2021-07-18T12:12:07.378Z"
   },
   {
    "duration": 23,
    "start_time": "2021-07-18T12:12:07.392Z"
   },
   {
    "duration": 38,
    "start_time": "2021-07-18T12:12:07.418Z"
   },
   {
    "duration": 12,
    "start_time": "2021-07-18T12:12:07.459Z"
   },
   {
    "duration": 9,
    "start_time": "2021-07-18T12:12:07.478Z"
   },
   {
    "duration": 20,
    "start_time": "2021-07-18T12:12:07.491Z"
   },
   {
    "duration": 42,
    "start_time": "2021-07-18T12:12:07.514Z"
   },
   {
    "duration": 19,
    "start_time": "2021-07-18T12:12:07.558Z"
   },
   {
    "duration": 13,
    "start_time": "2021-07-18T12:12:07.580Z"
   },
   {
    "duration": 22,
    "start_time": "2021-07-18T12:12:07.596Z"
   },
   {
    "duration": 40,
    "start_time": "2021-07-18T12:12:07.620Z"
   },
   {
    "duration": 15,
    "start_time": "2021-07-18T12:12:07.663Z"
   },
   {
    "duration": 31,
    "start_time": "2021-07-18T12:12:07.681Z"
   },
   {
    "duration": 7,
    "start_time": "2021-07-18T12:12:07.715Z"
   },
   {
    "duration": 32,
    "start_time": "2021-07-18T12:12:07.724Z"
   },
   {
    "duration": 14,
    "start_time": "2021-07-18T12:12:07.759Z"
   },
   {
    "duration": 27,
    "start_time": "2021-07-18T12:12:07.776Z"
   },
   {
    "duration": 22,
    "start_time": "2021-07-18T12:12:07.806Z"
   },
   {
    "duration": 35,
    "start_time": "2021-07-18T12:12:07.830Z"
   },
   {
    "duration": 8,
    "start_time": "2021-07-18T12:12:07.869Z"
   },
   {
    "duration": 15,
    "start_time": "2021-07-18T12:12:07.879Z"
   },
   {
    "duration": 16,
    "start_time": "2021-07-18T12:12:07.897Z"
   },
   {
    "duration": 6,
    "start_time": "2021-07-18T12:12:21.756Z"
   },
   {
    "duration": 226,
    "start_time": "2021-07-18T12:12:21.766Z"
   },
   {
    "duration": 10,
    "start_time": "2021-07-18T12:12:21.995Z"
   },
   {
    "duration": 15,
    "start_time": "2021-07-18T12:12:22.008Z"
   },
   {
    "duration": 20,
    "start_time": "2021-07-18T12:12:22.026Z"
   },
   {
    "duration": 7,
    "start_time": "2021-07-18T12:12:22.048Z"
   },
   {
    "duration": 10,
    "start_time": "2021-07-18T12:12:22.057Z"
   },
   {
    "duration": 8,
    "start_time": "2021-07-18T12:12:22.069Z"
   },
   {
    "duration": 22,
    "start_time": "2021-07-18T12:12:22.079Z"
   },
   {
    "duration": 3,
    "start_time": "2021-07-18T12:12:22.105Z"
   },
   {
    "duration": 52,
    "start_time": "2021-07-18T12:12:22.110Z"
   },
   {
    "duration": 9,
    "start_time": "2021-07-18T12:12:22.165Z"
   },
   {
    "duration": 18,
    "start_time": "2021-07-18T12:12:22.176Z"
   },
   {
    "duration": 13,
    "start_time": "2021-07-18T12:12:22.197Z"
   },
   {
    "duration": 50,
    "start_time": "2021-07-18T12:12:22.212Z"
   },
   {
    "duration": 18,
    "start_time": "2021-07-18T12:12:22.265Z"
   },
   {
    "duration": 7,
    "start_time": "2021-07-18T12:12:22.286Z"
   },
   {
    "duration": 8,
    "start_time": "2021-07-18T12:12:22.296Z"
   },
   {
    "duration": 52,
    "start_time": "2021-07-18T12:12:22.306Z"
   },
   {
    "duration": 22,
    "start_time": "2021-07-18T12:12:22.360Z"
   },
   {
    "duration": 12,
    "start_time": "2021-07-18T12:12:22.385Z"
   },
   {
    "duration": 18,
    "start_time": "2021-07-18T12:12:22.400Z"
   },
   {
    "duration": 8,
    "start_time": "2021-07-18T12:12:56.274Z"
   },
   {
    "duration": 5,
    "start_time": "2021-07-18T12:13:06.163Z"
   },
   {
    "duration": 238,
    "start_time": "2021-07-18T12:13:06.173Z"
   },
   {
    "duration": 12,
    "start_time": "2021-07-18T12:13:06.414Z"
   },
   {
    "duration": 13,
    "start_time": "2021-07-18T12:13:06.430Z"
   },
   {
    "duration": 19,
    "start_time": "2021-07-18T12:13:06.447Z"
   },
   {
    "duration": 8,
    "start_time": "2021-07-18T12:13:06.469Z"
   },
   {
    "duration": 13,
    "start_time": "2021-07-18T12:13:06.480Z"
   },
   {
    "duration": 12,
    "start_time": "2021-07-18T12:13:06.496Z"
   },
   {
    "duration": 51,
    "start_time": "2021-07-18T12:13:06.514Z"
   },
   {
    "duration": 3,
    "start_time": "2021-07-18T12:13:06.570Z"
   },
   {
    "duration": 16,
    "start_time": "2021-07-18T12:13:06.576Z"
   },
   {
    "duration": 8,
    "start_time": "2021-07-18T12:13:06.594Z"
   },
   {
    "duration": 59,
    "start_time": "2021-07-18T12:13:06.604Z"
   },
   {
    "duration": 13,
    "start_time": "2021-07-18T12:13:06.666Z"
   },
   {
    "duration": 21,
    "start_time": "2021-07-18T12:13:06.682Z"
   },
   {
    "duration": 59,
    "start_time": "2021-07-18T12:13:06.706Z"
   },
   {
    "duration": 11,
    "start_time": "2021-07-18T12:13:06.768Z"
   },
   {
    "duration": 7,
    "start_time": "2021-07-18T12:13:06.782Z"
   },
   {
    "duration": 18,
    "start_time": "2021-07-18T12:13:06.792Z"
   },
   {
    "duration": 52,
    "start_time": "2021-07-18T12:13:06.813Z"
   },
   {
    "duration": 14,
    "start_time": "2021-07-18T12:13:06.868Z"
   },
   {
    "duration": 20,
    "start_time": "2021-07-18T12:13:06.885Z"
   },
   {
    "duration": 46,
    "start_time": "2021-07-18T12:13:06.908Z"
   },
   {
    "duration": 7,
    "start_time": "2021-07-18T12:13:09.058Z"
   },
   {
    "duration": 711,
    "start_time": "2021-07-18T12:36:17.996Z"
   },
   {
    "duration": 130,
    "start_time": "2021-07-18T18:43:43.799Z"
   }
  ],
  "kernelspec": {
   "display_name": "Python 3",
   "language": "python",
   "name": "python3"
  },
  "language_info": {
   "codemirror_mode": {
    "name": "ipython",
    "version": 3
   },
   "file_extension": ".py",
   "mimetype": "text/x-python",
   "name": "python",
   "nbconvert_exporter": "python",
   "pygments_lexer": "ipython3",
   "version": "3.8.5"
  },
  "toc": {
   "base_numbering": 1,
   "nav_menu": {},
   "number_sections": true,
   "sideBar": true,
   "skip_h1_title": true,
   "title_cell": "Table of Contents",
   "title_sidebar": "Contents",
   "toc_cell": false,
   "toc_position": {},
   "toc_section_display": true,
   "toc_window_display": true
  }
 },
 "nbformat": 4,
 "nbformat_minor": 2
}
