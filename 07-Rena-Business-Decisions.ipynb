{
 "cells": [
  {
   "cell_type": "markdown",
   "metadata": {},
   "source": [
    "<div class=\"alert alert-info\" role=\"alert\">\n",
    "Dear Reviewer,\n",
    "\n",
    "<br>Nice to e-meet you. Thank you for reviewing my work.\n",
    "\n",
    "<br>Rena Bracha\n",
    "</div>"
   ]
  },
  {
   "cell_type": "markdown",
   "metadata": {},
   "source": [
    "Hi Rena. I'm Svetlana and will review your project. I've added all my comments to new cells with different coloring. Please don't delete my comments.\n",
    "\n",
    "\n",
    "The first time I see a mistake, I'll just point it out and let you find it and fix it yourself. In a real job, your boss will do the same, and I'm trying to prepare you to work as an Data Analyst. But if you can't handle this task yet, I'll give you a more accurate hint at the next check.\n",
    "\n",
    "<div class=\"alert alert-success\" role=\"alert\">\n",
    "Reviewer's comment v. 1:\n",
    "    \n",
    "If you did something great I'm using green color for my comment\n",
    "</div>\n",
    "\n",
    "<div class=\"alert alert-warning\" role=\"alert\">\n",
    "Reviewer's comment v. 1:\n",
    "    \n",
    "If I want to give you advice or think that something can be improved, then I'll use yellow. This is an optional recommendation.\n",
    "</div>\n",
    "\n",
    "<div class=\"alert alert-danger\" role=\"alert\">\n",
    "Reviewer's comment v. 1:\n",
    "    \n",
    "If the topic requires some extra work so I can accept it then the color will be red\n",
    "</div>\n",
    "\n",
    "## Review v. 1<a class=\"tocSkip\">\n",
    "\n",
    "Thank you! Your project has been received. You've done a lot of work. However, unfortunately, your project is not quite ready for review. The code doesn’t run because of error. I believe you can easily fix it! "
   ]
  },
  {
   "cell_type": "markdown",
   "metadata": {},
   "source": [
    "<div class=\"alert alert-info\" role=\"alert\">\n",
    "Hi Svetlana,\n",
    "\n",
    "<br>Goodness! I have fixed it and the code runs. \n",
    "<br>I would appreciate it if you could review the rest of my project. \n",
    "\n",
    "Thank you. \n",
    "\n",
    "<br>Rena Bracha\n",
    "</div>"
   ]
  },
  {
   "cell_type": "markdown",
   "metadata": {},
   "source": [
    "## Review v. 2<a class=\"tocSkip\">\n",
    "\n",
    "You've worked really hard and submitted a solid project. While there's room for improvement, on the whole, your project is looking good. There are few things that need to be corrected in your project. They're mostly minor issues that are easy to fix. There are also some comments for improvement. They don’t mean that you’ve done anything wrong, but they’re things we wanted to point out that can help you further develop your skills. One more time and you'll have it!"
   ]
  },
  {
   "cell_type": "markdown",
   "metadata": {},
   "source": [
    "<div class=\"alert alert-info\" role=\"alert\">\n",
    "Hi Svetlana,\n",
    "\n",
    "<br>Thank you for reviewing my project thoroughly as usual. I have made the additions as per your instructions. I would appreciate it if you could go over them just one more time. \n",
    "    \n",
    "Thank you!\n",
    "\n",
    "<br>Rena Bracha\n",
    "</div>"
   ]
  },
  {
   "cell_type": "markdown",
   "metadata": {},
   "source": [
    "## Review v. 3<a class=\"tocSkip\">\n",
    "\n",
    "Congratulations! Your project now is perfect. I'm glad to say that your project has been accepted. Keep up the good work, and good luck on the next sprint! "
   ]
  },
  {
   "cell_type": "markdown",
   "metadata": {},
   "source": [
    "# Boosting revenue through A/B testing\n",
    "\n",
    "\n",
    "The Marketing Department at a big online store has compiled a list of hypotheses that may help boost revenue. In this project, we will prioritise the hypotheses, launch an A/B test, and analyze the results to see whether we have succeeded in increasing the conversion rate and average order size.\n",
    "\n",
    "\n",
    "**Project Outline**\n",
    "\n",
    "There are two parts to the project:\n",
    "\n",
    "\n",
    "Part 1. Prioritizing Hypotheses\n",
    "<br>The file hypotheses_us.csv contains nine hypotheses on boosting the store's revenue. Reach, Impact, Confidence, and Effort metrics are specified for each hypothesis.\n",
    "<br>o Apply the ICE framework to prioritize hypotheses. \n",
    "<br>o Apply the RICE framework to prioritize hypotheses. \n",
    "<br>o Offer an explanation for the difference between ICE and RICE in the prioritization of the hypotheses.\n",
    "\n",
    "\n",
    "Part 2. A/B Test Analysis\n",
    "<br>The files orders_us.csv and visits_us.csv contain the results of an A/B test. Make conclusions and conjectures at every juncture.\n",
    "\n",
    "1. Analyse the results using the following graphs: \n",
    "<br>o cumulative revenue by group,\n",
    "<br>o cumulative average order size by group, and \n",
    "<br>o the relative difference in cumulative average order size for group B compared with group A.\n",
    "\n",
    "2. Calculate each group's conversion rate, and plot a graph. \n",
    "\n",
    "3. Analyse the number of orders per user.\n",
    "<br>o Calculate and plot a graph. \n",
    "<br>o Calculate the percentiles. Identify an anomaly.\n",
    "\n",
    "4. Analyse the order prices.\n",
    "<br>o Plot a graph. \n",
    "<br>o Calculate the percentiles. Identify an anomaly. \n",
    "\n",
    "5. Verify the following differences are statistically significant:\n",
    "<br>o conversion between the groups (raw data)\n",
    "<br>o average order size between the groups (raw data)\n",
    "<br>o conversion between the groups (excluding anomalies)\n",
    "<br>o average order size between the groups (excluding anomalies) \n",
    "\n",
    "6. Make a decision based on the test results. \n",
    "\n",
    "\n",
    "**Dataset**\n",
    "* Hypotheses compiled by the Marketing Department (hypotheses_us.csv)\n",
    "<br>o Hypotheses: brief descriptions of the hypotheses\n",
    "<br>o Reach: user reach, on a scale of one to ten\n",
    "<br>o Impact: impact on users, on a scale of one to ten\n",
    "<br>o Confidence: confidence in the hypothesis, on a scale of one to ten\n",
    "<br>o Effort: the resources required to test a hypothesis, on a scale of one to ten. The higher the Effort value, the more resource-intensive the test.\n",
    "\n",
    "\n",
    "* Data on orders (orders_us.csv)\n",
    "<br>o transactionId: order identifier\n",
    "<br>o visitorId: identifier of the user who placed the order\n",
    "<br>o date: the date of the order\n",
    "<br>o revenue: the revenue generated from the order\n",
    "<br>o group: the A/B test group that the user belongs to\n",
    "\n",
    "\n",
    "* Data on visitors to the website (visits_us.csv)\n",
    "<br>o date: the date the user visited the website\n",
    "<br>o group: the A/B test test group that the user belongs to\n",
    "<br>o visits: the number of visits on the date specified in the A/B test group specified"
   ]
  },
  {
   "cell_type": "markdown",
   "metadata": {},
   "source": [
    "## Tables of Contents <a class=\"anchor\" id=\"table_of_contents\"></a>"
   ]
  },
  {
   "cell_type": "markdown",
   "metadata": {},
   "source": [
    "* [Download the data and prepare it for analysis](#chapter1)\n",
    "    * [Libraries](#section_1_1)\n",
    "    * [Data Files](#section_1_2)\n",
    "    * [Data optimisation](#section_1_3)\n",
    "    * [Preliminary Data Exploration](#section_1_4)\n",
    "    * [Conclusion](#section_1_5)\n",
    "* [Part 1. Prioritizing Hypotheses](#chapter2)\n",
    "    * [Task: Apply the ICE framework to prioritize hypotheses. Sort them in descending order of priority.](#section_2_1)\n",
    "    * [Task: Apply the RICE framework to prioritize hypotheses. Sort them in descending order of priority.](#section_2_2)\n",
    "    * [Task: Task: Show how the prioritization of hypotheses changes when you use RICE instead of ICE . Provide an explanation for the changes.](#section_2_3)\n",
    "* [Part 2. A/B Test Analysis](#chapter3)\n",
    "    * [Task: Graph cumulative revenue by group. Make conclusions and conjectures.](#section_3_1)\n",
    "    * [Task: Graph cumulative average order size by group. Make conclusions and conjectures.](#section_3_2)\n",
    "    * [Task: Graph the relative difference in cumulative average order size for group B compared with group A. Make conclusions and conjectures.](#section_3_3)\n",
    "    * [Task: Calculate each group's conversion rate as the ratio of orders to the number of visits for each day. Plot the daily conversion rates of the two groups and describe the difference. Draw conclusions and make conjectures.](#section_3_4)\n",
    "    * [Task: Plot a scatter chart of the number of orders per user. Make conclusions and conjectures. ](#section_3_5)\n",
    "    * [Task: Calculate the 95th and 99th percentiles for the number of orders per user. Define the point at which a data point becomes an anomaly.](#section_3_6)\n",
    "    * [Task: Plot a scatter chart of order prices. Make conclusions and conjectures.](#section_3_7)\n",
    "    * [Task: Calculate the 95th and 99th percentiles of order prices. Define the point at which a data point becomes an anomaly.](#section_3_8)\n",
    "    * [Task: Find the statistical significance of the difference in conversion between the groups using the raw data. Make conclusions and conjectures.](#section_3_9)\n",
    "    * [Task: Find the statistical significance of the difference in average order size between the groups using the raw data. Make conclusions and conjectures.](#section_3_10)\n",
    "    * [Task:Find the statistical significance of the difference in conversion between the groups using the filtered data. Make conclusions and conjectures.](#section_3_11)\n",
    "    * [Task: Find the statistical significance of the difference in average order size between the groups using the filtered data. Make conclusions and conjectures.](#section_3_12)\n",
    "    * [Task: Make a decision based on the test results.](#section_3_13)"
   ]
  },
  {
   "cell_type": "markdown",
   "metadata": {},
   "source": [
    "<div class=\"alert alert-warning\" role=\"alert\">\n",
    "Reviewer's comment v. 1:\n",
    "\n",
    "Good job that you described the project in details, but it will be better to formulate a goal of the project explicitly.\n",
    "</div>"
   ]
  },
  {
   "cell_type": "markdown",
   "metadata": {},
   "source": [
    "<div class=\"alert alert-info\" role=\"alert\">\n",
    "Student's comment v. 1:\n",
    "\n",
    "I have rephrased the project's introductory paragraph to expliclitly state the objectives of the A/B test. \n",
    "</div>"
   ]
  },
  {
   "cell_type": "markdown",
   "metadata": {},
   "source": [
    "## Download the data and prepare it for analysis <a class=\"anchor\" id=\"chapter1\"></a>\n",
    "\n",
    "[Go back to the Table of Contents](#table_of_contents)"
   ]
  },
  {
   "cell_type": "markdown",
   "metadata": {},
   "source": [
    "### Libraries <a class=\"anchor\" id=\"section_1_1\"></a>\n",
    "\n",
    "[Go back to the Table of Contents](#table_of_contents)"
   ]
  },
  {
   "cell_type": "code",
   "execution_count": 1,
   "metadata": {},
   "outputs": [],
   "source": [
    "# Import sys so no warnings will be issued. \n",
    "import sys\n",
    "if not sys.warnoptions:\n",
    "    import warnings\n",
    "    warnings.simplefilter(\"ignore\")\n",
    "    \n",
    "# Import various libraries.\n",
    "import pandas as pd\n",
    "import numpy as np\n",
    "import matplotlib.pyplot as plt\n",
    "import seaborn as sns\n",
    "from scipy import stats as st"
   ]
  },
  {
   "cell_type": "markdown",
   "metadata": {},
   "source": [
    "### Data files <a class=\"anchor\" id=\"section_1_2\"></a>\n",
    "\n",
    "[Go back to the Table of Contents](#table_of_contents)"
   ]
  },
  {
   "cell_type": "code",
   "execution_count": 2,
   "metadata": {},
   "outputs": [],
   "source": [
    "# Enable data file loading in two environments: one local and one on the Platform. \n",
    "# For the csv file, define the separator to be a comma. \n",
    "# Load the first 500 rows for starters. \n",
    "try:\n",
    "    hypotheses_log = pd.read_csv('hypotheses_us.csv', sep = ';', nrows=500)\n",
    "    orders_log = pd.read_csv('orders_us.csv', sep = ',', nrows=500)\n",
    "    visits_log = pd.read_csv('visits_us.csv', sep = ',', nrows=500)\n",
    "except:\n",
    "    hypotheses_log = pd.read_csv('/datasets/hypotheses_us.csv', sep = ';', nrows=500)\n",
    "    orders_log = pd.read_csv('/datasets/orders_us.csv', sep = ',', nrows=500)\n",
    "    visits_log = pd.read_csv('/datasets/visits_us.csv', sep = ',', nrows=500)"
   ]
  },
  {
   "cell_type": "markdown",
   "metadata": {},
   "source": [
    "<div class=\"alert alert-success\" role=\"alert\">\n",
    "Reviewer's comment v. 1:\n",
    "\n",
    "Well done for using try-except for the path to the file.\n",
    "</div>"
   ]
  },
  {
   "cell_type": "markdown",
   "metadata": {},
   "source": [
    "### Data optimisation <a class=\"anchor\" id=\"section_1_3\"></a>\n",
    "\n",
    "[Go back to the Table of Contents](#table_of_contents)\n",
    "\n",
    "Look for object data types that can be converted into category or datetime data types to save memory space."
   ]
  },
  {
   "cell_type": "code",
   "execution_count": 3,
   "metadata": {},
   "outputs": [],
   "source": [
    "# Look at the first 10 rows. Display long texts in their entirety.\n",
    "pd.options.display.max_colwidth = 200\n",
    "#display(hypotheses_log.head(10))\n",
    "#display(orders_log.head(10))\n",
    "#visits_log.head(10)"
   ]
  },
  {
   "cell_type": "code",
   "execution_count": 4,
   "metadata": {},
   "outputs": [],
   "source": [
    "# Check the data types, memory usage and identify the target of conversion to category data type.\n",
    "#display(hypotheses_log.info(memory_usage='deep'))\n",
    "#display(orders_log.info(memory_usage='deep'))\n",
    "#visits_log.info(memory_usage='deep')"
   ]
  },
  {
   "cell_type": "code",
   "execution_count": 5,
   "metadata": {},
   "outputs": [],
   "source": [
    "# Check the ranges of the values in the hypotheses_log dataset.\n",
    "#orders_log.describe()\n",
    "#orders_log.describe(include='object')\n",
    "#orders_log['date'].value_counts(sort=True)\n",
    "\n",
    "# Check the ranges of the values in the visits_log dataset.\n",
    "#visits_log.describe()\n",
    "#visits_log.describe(include='object')\n",
    "#visits_log['date'].value_counts(sort=True)"
   ]
  },
  {
   "cell_type": "markdown",
   "metadata": {},
   "source": [
    "* hypotheses_log\n",
    "<br>o Note the memory usage: 1.6 KB.\n",
    "<br>o Change the column names to lowercase. \n",
    "<br>o 'Hypothesis': convert from object data type to category.\n",
    "<br>o 'Reach', 'Impact', 'Confidence', 'Effort': first, it looked as though converting to int8 would suffice. But when we get to the stage of calcuing ICE and RICE scores, we get an overflow. So convert from int64 data type to uint16.\n",
    "\n",
    "\n",
    "* orders_log\n",
    "<br>o Note the memory usage: 72.9 KB.\n",
    "<br>o Change the column names to the conventional format: 'transactionId', 'visitorId'\n",
    "<br>o 'transactionId': min = 4.919758e+06 (4,919,758), max = 4.288552e+09 (4,288,552,000). Unsigned. uint32 will not do (max = 2,147,483,647). No data type conversion.\n",
    "<br>o 'visitorId': the same as above. No data type conversion.\n",
    "<br>o 'date': min = 2019-08-01, max = 2019-08-29. Convert from object data type to datetime of format '%Y-%M-%D'.\n",
    "<br>o 'revenue': min = 5.10000, max = 19,920.40000. In terms of range, float16 (-32,768/32,767) should be enough, but the convertion results in the mean and std of 'inf' in the descriptive statistics. Convert from float64 data type to float32.\n",
    "<br>o 'group': convert from object data type to category.\n",
    "\n",
    "\n",
    "* visits_log\n",
    "<br>o Note the memory usage: 8.2 KB.\n",
    "<br>o 'date': confirmed the format match 'date' in the orders_log dataset. Convert from object data type to datetime of format '%Y-%M-%D'. \n",
    "<br>o 'date': min = 2019-08-01, max = 2019-08-31. Confirmed the values in the orders_log dataset are within the value range of the visits_log dataset. \n",
    "<br>o 'group': convert from object data type to category. Confirmed the unique values match those in 'group' in the orders_log dataset.\n",
    "<br>o 'visits': min = 361, max = 770. Unsigned. Convert from int64 data type to uint16 (0/65535). "
   ]
  },
  {
   "cell_type": "markdown",
   "metadata": {},
   "source": [
    "<div class=\"alert alert-success\" role=\"alert\">\n",
    "Reviewer's comment v. 1:\n",
    "\n",
    "Ok :)\n",
    "</div>"
   ]
  },
  {
   "cell_type": "code",
   "execution_count": 6,
   "metadata": {},
   "outputs": [],
   "source": [
    "# Reload the data files using converted data types that will reduce the memory usage.\n",
    "try:    \n",
    "    hypotheses_log = pd.read_csv('hypotheses_us.csv', sep = ';', dtype={'Hypothesis': 'category', 'Reach': 'uint16', 'Impact': 'uint16', 'Confidence': 'uint16', 'Effort': 'uint16'})\n",
    "    orders_log = pd.read_csv('orders_us.csv', sep = ',', dtype={'revenue': 'float32', 'group': 'category'}, parse_dates=['date'])\n",
    "    visits_log = pd.read_csv('visits_us.csv', sep = ',', dtype={'group': 'category', 'visits': 'uint16'}, parse_dates=['date'])\n",
    "except:\n",
    "    hypotheses_log = pd.read_csv('/datasets/hypotheses_us.csv', sep = ';', dtype={'Hypothesis': 'category', 'Reach': 'uint16', 'Impact': 'uint16', 'Confidence': 'uint16', 'Effort': 'uint16'})\n",
    "    orders_log = pd.read_csv('/datasets/orders_us.csv', sep = ',', dtype={'revenue': 'float32', 'group': 'category'}, parse_dates=['date'])    \n",
    "    visits_log = pd.read_csv('/datasets/visits_us.csv', sep = ',', dtype={'group': 'category', 'visits': 'uint16'}, parse_dates=['date'])"
   ]
  },
  {
   "cell_type": "code",
   "execution_count": 7,
   "metadata": {},
   "outputs": [],
   "source": [
    "# Change the column names to lowercase. \n",
    "hypotheses_log.columns = hypotheses_log.columns.str.lower()\n",
    "\n",
    "# Change the column names to follow conventions and enhance readability. \n",
    "orders_log.rename(columns={'transactionId':'transaction_id', 'visitorId':'visitor_id'}, inplace=True)"
   ]
  },
  {
   "cell_type": "code",
   "execution_count": 8,
   "metadata": {},
   "outputs": [],
   "source": [
    "# Verify the values have not been distorted. \n",
    "#display(hypotheses_log.head())\n",
    "#display(orders_log.head())\n",
    "#visits_log.head()"
   ]
  },
  {
   "cell_type": "code",
   "execution_count": 9,
   "metadata": {},
   "outputs": [],
   "source": [
    "# Verify the decrease in memory usage and change in the column names. \n",
    "#display(hypotheses_log.info(memory_usage='deep'))\n",
    "#display(orders_log.info(memory_usage='deep'))\n",
    "#visits_log.info(memory_usage='deep')"
   ]
  },
  {
   "cell_type": "markdown",
   "metadata": {},
   "source": [
    "* Column names of the hypothese_log and orders_log datasets were modified to snake case for readability.\n",
    "\n",
    "\n",
    "* Memory usage has been reduced in all but one dataset:\n",
    "<br>o hypothese_log: from 1.6 KB to 1.8 KB. Interesting that the data conversion had a reverse effect and the memory usage increased by 0.2 KB. These are the correct data types, so not reversing to the previous data types just for saving 0.1 KB.\n",
    "<br>o visits_log: from 72.9 KB to 31.9 KB.\n",
    "<br>o orders_log: from 8.2 KB to 926.0 bytes."
   ]
  },
  {
   "cell_type": "markdown",
   "metadata": {},
   "source": [
    "<div class=\"alert alert-success\" role=\"alert\">\n",
    "Reviewer's comment v. 1:\n",
    "\n",
    "Good job that you optimized data types.\n",
    "</div>"
   ]
  },
  {
   "cell_type": "markdown",
   "metadata": {},
   "source": [
    "### Preliminary Data Exploration <a class=\"anchor\" id=\"section_1_4\"></a>\n",
    "\n",
    "[Go back to the Table of Contents](#table_of_contents)"
   ]
  },
  {
   "cell_type": "markdown",
   "metadata": {},
   "source": [
    "**Get familiar with the data.**"
   ]
  },
  {
   "cell_type": "code",
   "execution_count": 10,
   "metadata": {},
   "outputs": [],
   "source": [
    "#display(hypotheses_log.head(10))\n",
    "\n",
    "#display(visits_log.head(10))\n",
    "#display(visits_log.tail(10))\n",
    "#visits_log.sample(10)\n",
    "\n",
    "#display(orders_log.head(10))\n",
    "#display(orders_log.tail(10))\n",
    "#orders_log.sample(10)"
   ]
  },
  {
   "cell_type": "code",
   "execution_count": 11,
   "metadata": {},
   "outputs": [],
   "source": [
    "#display(hypotheses_log.info())\n",
    "#display(visits_log.info())\n",
    "#orders_log.info()"
   ]
  },
  {
   "cell_type": "markdown",
   "metadata": {},
   "source": [
    "* There are data on orders for a period between 2019-08-01 and 2019-08-29. \n",
    "* There are data on online store visits between 2019-08-01 and 2019-08-31.\n",
    "* 62 visits to the online store resulted in 1197 orders, which translates to 19 orders per visit on average. \n",
    "* No missing values in any of the datasets. "
   ]
  },
  {
   "cell_type": "markdown",
   "metadata": {},
   "source": [
    "<div class=\"alert alert-success\" role=\"alert\">\n",
    "Reviewer's comment v. 1:\n",
    "\n",
    "Yes, you are right :)\n",
    "</div>"
   ]
  },
  {
   "cell_type": "code",
   "execution_count": 12,
   "metadata": {},
   "outputs": [
    {
     "data": {
      "text/html": [
       "<div>\n",
       "<style scoped>\n",
       "    .dataframe tbody tr th:only-of-type {\n",
       "        vertical-align: middle;\n",
       "    }\n",
       "\n",
       "    .dataframe tbody tr th {\n",
       "        vertical-align: top;\n",
       "    }\n",
       "\n",
       "    .dataframe thead th {\n",
       "        text-align: right;\n",
       "    }\n",
       "</style>\n",
       "<table border=\"1\" class=\"dataframe\">\n",
       "  <thead>\n",
       "    <tr style=\"text-align: right;\">\n",
       "      <th></th>\n",
       "      <th>hypothesis</th>\n",
       "      <th>reach</th>\n",
       "      <th>impact</th>\n",
       "      <th>confidence</th>\n",
       "      <th>effort</th>\n",
       "    </tr>\n",
       "  </thead>\n",
       "  <tbody>\n",
       "    <tr>\n",
       "      <td>1</td>\n",
       "      <td>Launch your own delivery service. This will shorten delivery time</td>\n",
       "      <td>2</td>\n",
       "      <td>5</td>\n",
       "      <td>4</td>\n",
       "      <td>10</td>\n",
       "    </tr>\n",
       "    <tr>\n",
       "      <td>3</td>\n",
       "      <td>Change the category structure. This will increase conversion since users will find the products they want more quickly</td>\n",
       "      <td>8</td>\n",
       "      <td>3</td>\n",
       "      <td>3</td>\n",
       "      <td>8</td>\n",
       "    </tr>\n",
       "    <tr>\n",
       "      <td>0</td>\n",
       "      <td>Add two new channels for attracting traffic. This will bring 30% more users</td>\n",
       "      <td>3</td>\n",
       "      <td>10</td>\n",
       "      <td>8</td>\n",
       "      <td>6</td>\n",
       "    </tr>\n",
       "    <tr>\n",
       "      <td>7</td>\n",
       "      <td>Add a subscription form to all the main pages. This will help you compile a mailing list</td>\n",
       "      <td>10</td>\n",
       "      <td>7</td>\n",
       "      <td>8</td>\n",
       "      <td>5</td>\n",
       "    </tr>\n",
       "    <tr>\n",
       "      <td>8</td>\n",
       "      <td>Launch a promotion that gives users discounts on their birthdays</td>\n",
       "      <td>1</td>\n",
       "      <td>9</td>\n",
       "      <td>9</td>\n",
       "      <td>5</td>\n",
       "    </tr>\n",
       "    <tr>\n",
       "      <td>2</td>\n",
       "      <td>Add product recommendation blocks to the store's site. This will increase conversion and average purchase size</td>\n",
       "      <td>8</td>\n",
       "      <td>3</td>\n",
       "      <td>7</td>\n",
       "      <td>3</td>\n",
       "    </tr>\n",
       "    <tr>\n",
       "      <td>5</td>\n",
       "      <td>Add a customer review page. This will increase the number of orders</td>\n",
       "      <td>3</td>\n",
       "      <td>2</td>\n",
       "      <td>2</td>\n",
       "      <td>3</td>\n",
       "    </tr>\n",
       "    <tr>\n",
       "      <td>6</td>\n",
       "      <td>Show banners with current offers and sales on the main page. This will boost conversion</td>\n",
       "      <td>5</td>\n",
       "      <td>3</td>\n",
       "      <td>8</td>\n",
       "      <td>3</td>\n",
       "    </tr>\n",
       "    <tr>\n",
       "      <td>4</td>\n",
       "      <td>Change the background color on the main page. This will increase user engagement</td>\n",
       "      <td>3</td>\n",
       "      <td>1</td>\n",
       "      <td>1</td>\n",
       "      <td>1</td>\n",
       "    </tr>\n",
       "  </tbody>\n",
       "</table>\n",
       "</div>"
      ],
      "text/plain": [
       "                                                                                                               hypothesis  \\\n",
       "1                                                       Launch your own delivery service. This will shorten delivery time   \n",
       "3  Change the category structure. This will increase conversion since users will find the products they want more quickly   \n",
       "0                                             Add two new channels for attracting traffic. This will bring 30% more users   \n",
       "7                                Add a subscription form to all the main pages. This will help you compile a mailing list   \n",
       "8                                                        Launch a promotion that gives users discounts on their birthdays   \n",
       "2          Add product recommendation blocks to the store's site. This will increase conversion and average purchase size   \n",
       "5                                                     Add a customer review page. This will increase the number of orders   \n",
       "6                                 Show banners with current offers and sales on the main page. This will boost conversion   \n",
       "4                                        Change the background color on the main page. This will increase user engagement   \n",
       "\n",
       "   reach  impact  confidence  effort  \n",
       "1      2       5           4      10  \n",
       "3      8       3           3       8  \n",
       "0      3      10           8       6  \n",
       "7     10       7           8       5  \n",
       "8      1       9           9       5  \n",
       "2      8       3           7       3  \n",
       "5      3       2           2       3  \n",
       "6      5       3           8       3  \n",
       "4      3       1           1       1  "
      ]
     },
     "execution_count": 12,
     "metadata": {},
     "output_type": "execute_result"
    }
   ],
   "source": [
    "# Check how the hypotheses are ranked in each metric...\n",
    "#hypotheses_log.sort_values('reach', ascending=False)\n",
    "#hypotheses_log.sort_values('impact', ascending=False)\n",
    "#hypotheses_log.sort_values('confidence', ascending=False)\n",
    "hypotheses_log.sort_values('effort', ascending=False)"
   ]
  },
  {
   "cell_type": "markdown",
   "metadata": {},
   "source": [
    "* Top 'Reach' score: Add a subscription form to all the main pages. This will help you compile a mailing list\n",
    "* Top 'Impact' score: Add two new channels for attracting traffic. This will bring 30% more users\t\n",
    "* Top 'Confidence' score: Launch a promotion that gives users discounts on their birthdays\n",
    "* Top 'Effort' score: Launch your own delivery service. This will shorten delivery time\t\n",
    "* All-rounder: Add a subscription form to all the main pages. This will help you compile a mailing list\t\n",
    "\n",
    "The key metric in the project is revenue, which we are trying to increase."
   ]
  },
  {
   "cell_type": "markdown",
   "metadata": {},
   "source": [
    "<div class=\"alert alert-success\" role=\"alert\">\n",
    "Reviewer's comment v. 1:\n",
    "\n",
    "Yes, you correctly noted that the key metric in the project is revenue.\n",
    "</div>"
   ]
  },
  {
   "cell_type": "code",
   "execution_count": 13,
   "metadata": {},
   "outputs": [
    {
     "data": {
      "text/html": [
       "<div>\n",
       "<style scoped>\n",
       "    .dataframe tbody tr th:only-of-type {\n",
       "        vertical-align: middle;\n",
       "    }\n",
       "\n",
       "    .dataframe tbody tr th {\n",
       "        vertical-align: top;\n",
       "    }\n",
       "\n",
       "    .dataframe thead th {\n",
       "        text-align: right;\n",
       "    }\n",
       "</style>\n",
       "<table border=\"1\" class=\"dataframe\">\n",
       "  <thead>\n",
       "    <tr style=\"text-align: right;\">\n",
       "      <th></th>\n",
       "      <th>visits</th>\n",
       "    </tr>\n",
       "  </thead>\n",
       "  <tbody>\n",
       "    <tr>\n",
       "      <td>count</td>\n",
       "      <td>62.000000</td>\n",
       "    </tr>\n",
       "    <tr>\n",
       "      <td>mean</td>\n",
       "      <td>607.290323</td>\n",
       "    </tr>\n",
       "    <tr>\n",
       "      <td>std</td>\n",
       "      <td>114.400560</td>\n",
       "    </tr>\n",
       "    <tr>\n",
       "      <td>min</td>\n",
       "      <td>361.000000</td>\n",
       "    </tr>\n",
       "    <tr>\n",
       "      <td>25%</td>\n",
       "      <td>534.000000</td>\n",
       "    </tr>\n",
       "    <tr>\n",
       "      <td>50%</td>\n",
       "      <td>624.500000</td>\n",
       "    </tr>\n",
       "    <tr>\n",
       "      <td>75%</td>\n",
       "      <td>710.500000</td>\n",
       "    </tr>\n",
       "    <tr>\n",
       "      <td>max</td>\n",
       "      <td>770.000000</td>\n",
       "    </tr>\n",
       "  </tbody>\n",
       "</table>\n",
       "</div>"
      ],
      "text/plain": [
       "           visits\n",
       "count   62.000000\n",
       "mean   607.290323\n",
       "std    114.400560\n",
       "min    361.000000\n",
       "25%    534.000000\n",
       "50%    624.500000\n",
       "75%    710.500000\n",
       "max    770.000000"
      ]
     },
     "metadata": {},
     "output_type": "display_data"
    },
    {
     "data": {
      "text/plain": [
       "37652"
      ]
     },
     "metadata": {},
     "output_type": "display_data"
    }
   ],
   "source": [
    "# Check the descriptive statistics.\n",
    "display(visits_log.describe())\n",
    "\n",
    "# Find the total number of visits during the entire period of the test.\n",
    "total_visits = visits_log['visits'].sum()\n",
    "display(total_visits)"
   ]
  },
  {
   "cell_type": "markdown",
   "metadata": {},
   "source": [
    "* There were 37652 visits to the online store, which translates to somewhere between 361 and 770 visits a day on average in each group.\n",
    "* The term \"visits\" is rather ambiguous - does it mean \"sessions\" or \"unique visitors\"? We will look at the orders data to find the most likely interpretation."
   ]
  },
  {
   "cell_type": "code",
   "execution_count": 14,
   "metadata": {},
   "outputs": [
    {
     "data": {
      "text/html": [
       "<div>\n",
       "<style scoped>\n",
       "    .dataframe tbody tr th:only-of-type {\n",
       "        vertical-align: middle;\n",
       "    }\n",
       "\n",
       "    .dataframe tbody tr th {\n",
       "        vertical-align: top;\n",
       "    }\n",
       "\n",
       "    .dataframe thead th {\n",
       "        text-align: right;\n",
       "    }\n",
       "</style>\n",
       "<table border=\"1\" class=\"dataframe\">\n",
       "  <thead>\n",
       "    <tr style=\"text-align: right;\">\n",
       "      <th></th>\n",
       "      <th>transaction_id</th>\n",
       "      <th>visitor_id</th>\n",
       "      <th>revenue</th>\n",
       "    </tr>\n",
       "  </thead>\n",
       "  <tbody>\n",
       "    <tr>\n",
       "      <td>count</td>\n",
       "      <td>1.197000e+03</td>\n",
       "      <td>1.197000e+03</td>\n",
       "      <td>1197.000000</td>\n",
       "    </tr>\n",
       "    <tr>\n",
       "      <td>mean</td>\n",
       "      <td>2.155621e+09</td>\n",
       "      <td>2.165960e+09</td>\n",
       "      <td>131.491638</td>\n",
       "    </tr>\n",
       "    <tr>\n",
       "      <td>std</td>\n",
       "      <td>1.229085e+09</td>\n",
       "      <td>1.236014e+09</td>\n",
       "      <td>603.004761</td>\n",
       "    </tr>\n",
       "    <tr>\n",
       "      <td>min</td>\n",
       "      <td>1.062393e+06</td>\n",
       "      <td>5.114589e+06</td>\n",
       "      <td>5.000000</td>\n",
       "    </tr>\n",
       "    <tr>\n",
       "      <td>25%</td>\n",
       "      <td>1.166776e+09</td>\n",
       "      <td>1.111826e+09</td>\n",
       "      <td>20.799999</td>\n",
       "    </tr>\n",
       "    <tr>\n",
       "      <td>50%</td>\n",
       "      <td>2.145194e+09</td>\n",
       "      <td>2.217985e+09</td>\n",
       "      <td>50.200001</td>\n",
       "    </tr>\n",
       "    <tr>\n",
       "      <td>75%</td>\n",
       "      <td>3.237740e+09</td>\n",
       "      <td>3.177606e+09</td>\n",
       "      <td>130.399994</td>\n",
       "    </tr>\n",
       "    <tr>\n",
       "      <td>max</td>\n",
       "      <td>4.293856e+09</td>\n",
       "      <td>4.283872e+09</td>\n",
       "      <td>19920.400391</td>\n",
       "    </tr>\n",
       "  </tbody>\n",
       "</table>\n",
       "</div>"
      ],
      "text/plain": [
       "       transaction_id    visitor_id       revenue\n",
       "count    1.197000e+03  1.197000e+03   1197.000000\n",
       "mean     2.155621e+09  2.165960e+09    131.491638\n",
       "std      1.229085e+09  1.236014e+09    603.004761\n",
       "min      1.062393e+06  5.114589e+06      5.000000\n",
       "25%      1.166776e+09  1.111826e+09     20.799999\n",
       "50%      2.145194e+09  2.217985e+09     50.200001\n",
       "75%      3.237740e+09  3.177606e+09    130.399994\n",
       "max      4.293856e+09  4.283872e+09  19920.400391"
      ]
     },
     "metadata": {},
     "output_type": "display_data"
    },
    {
     "data": {
      "text/plain": [
       "count                    1197\n",
       "unique                     31\n",
       "top       2019-08-05 00:00:00\n",
       "freq                       48\n",
       "first     2019-08-01 00:00:00\n",
       "last      2019-08-31 00:00:00\n",
       "Name: date, dtype: object"
      ]
     },
     "metadata": {},
     "output_type": "display_data"
    },
    {
     "data": {
      "image/png": "[encoded data removed]",
      "text/plain": [
       "<Figure size 432x432 with 1 Axes>"
      ]
     },
     "metadata": {
      "needs_background": "light"
     },
     "output_type": "display_data"
    }
   ],
   "source": [
    "# Check the descriptive statistics... \n",
    "display(orders_log.describe())\n",
    "display(orders_log['date'].describe())\n",
    "\n",
    "#...and whether there are outliers in the revenue values in a boxplot. \n",
    "revenue_data = orders_log.revenue\n",
    "revenue_data.plot(kind='box', figsize=(6,6))\n",
    "plt.suptitle(\"Distribution of Revenues\")\n",
    "plt.ylabel(\"currency units\", size='x-large');"
   ]
  },
  {
   "cell_type": "code",
   "execution_count": 15,
   "metadata": {},
   "outputs": [
    {
     "name": "stdout",
     "output_type": "stream",
     "text": [
      "294.7999858856201\n"
     ]
    },
    {
     "data": {
      "image/png": "[encoded data removed]",
      "text/plain": [
       "<Figure size 432x432 with 1 Axes>"
      ]
     },
     "metadata": {
      "needs_background": "light"
     },
     "output_type": "display_data"
    }
   ],
   "source": [
    "# Recalculate the Q3+1.5 upper limit.\n",
    "IQR = orders_log.revenue.quantile(0.75) - orders_log.revenue.quantile(0.25)\n",
    "upper_limit = orders_log.revenue.quantile(0.75) + IQR * 1.5\n",
    "print(upper_limit)\n",
    "\n",
    "# Exclude the outliers and replot the boxplot to see the details better. \n",
    "revenue_data2 = orders_log.loc[orders_log['revenue'] < 130, 'revenue']\n",
    "revenue_data2.plot(kind='box', figsize=(6,6))\n",
    "plt.suptitle(\"Distribution of Revenues\")\n",
    "plt.ylabel(\"currency units\", size='x-large');"
   ]
  },
  {
   "cell_type": "markdown",
   "metadata": {},
   "source": [
    "* An average daily revenue is 131.49 currency units with a rather large std of 603.00 where min = 5.00 and max = 19920.40. The mean daily revenue is 2.6 times the median. The distribution is skewed to the right with a heavy tail with the maximum value pulling it up. \n",
    "* According to the calculation, the upper limit is 294.80, but the boxplot seems to think that anything above 130.00 is an outlier. \n",
    "* The number of orders peaked on August 5, 2019. Investigating the reason for the peak is not in the scope for now."
   ]
  },
  {
   "cell_type": "code",
   "execution_count": 16,
   "metadata": {},
   "outputs": [
    {
     "data": {
      "text/plain": [
       "1031"
      ]
     },
     "metadata": {},
     "output_type": "display_data"
    },
    {
     "data": {
      "text/html": [
       "<div>\n",
       "<style scoped>\n",
       "    .dataframe tbody tr th:only-of-type {\n",
       "        vertical-align: middle;\n",
       "    }\n",
       "\n",
       "    .dataframe tbody tr th {\n",
       "        vertical-align: top;\n",
       "    }\n",
       "\n",
       "    .dataframe thead th {\n",
       "        text-align: right;\n",
       "    }\n",
       "</style>\n",
       "<table border=\"1\" class=\"dataframe\">\n",
       "  <thead>\n",
       "    <tr style=\"text-align: right;\">\n",
       "      <th></th>\n",
       "      <th>visitor_id</th>\n",
       "    </tr>\n",
       "  </thead>\n",
       "  <tbody>\n",
       "    <tr>\n",
       "      <td>count</td>\n",
       "      <td>31.000000</td>\n",
       "    </tr>\n",
       "    <tr>\n",
       "      <td>mean</td>\n",
       "      <td>37.032258</td>\n",
       "    </tr>\n",
       "    <tr>\n",
       "      <td>std</td>\n",
       "      <td>6.750229</td>\n",
       "    </tr>\n",
       "    <tr>\n",
       "      <td>min</td>\n",
       "      <td>23.000000</td>\n",
       "    </tr>\n",
       "    <tr>\n",
       "      <td>25%</td>\n",
       "      <td>32.000000</td>\n",
       "    </tr>\n",
       "    <tr>\n",
       "      <td>50%</td>\n",
       "      <td>39.000000</td>\n",
       "    </tr>\n",
       "    <tr>\n",
       "      <td>75%</td>\n",
       "      <td>42.000000</td>\n",
       "    </tr>\n",
       "    <tr>\n",
       "      <td>max</td>\n",
       "      <td>47.000000</td>\n",
       "    </tr>\n",
       "  </tbody>\n",
       "</table>\n",
       "</div>"
      ],
      "text/plain": [
       "       visitor_id\n",
       "count   31.000000\n",
       "mean    37.032258\n",
       "std      6.750229\n",
       "min     23.000000\n",
       "25%     32.000000\n",
       "50%     39.000000\n",
       "75%     42.000000\n",
       "max     47.000000"
      ]
     },
     "execution_count": 16,
     "metadata": {},
     "output_type": "execute_result"
    }
   ],
   "source": [
    "# Check the total number of unique users who placed orders.\n",
    "unique_users = orders_log['visitor_id'].nunique()\n",
    "display(unique_users)\n",
    "\n",
    "# Check the number of unique users per day in both groups together.\n",
    "users_per_day = orders_log.groupby('date').agg({'visitor_id': 'nunique'})\n",
    "users_per_day.describe()"
   ]
  },
  {
   "cell_type": "markdown",
   "metadata": {},
   "source": [
    "* There are 1031 unique users in total who placed 1197 orders during the period of the test. \n",
    "* There are somewhere between 23 and 47 unique users on daily average in the two groups together who placed orders. \n",
    "* Say, taking 770 as the daily average number of \"visits\" to the online store and 47 as the daily average number of unique users who placed orders, the conversion rate is 6% (= 47 / 770). It makes sense to interpret the number of \"visits\" in the visits_log dataset as the number of \"unique users\" who visited the online store on a specific date, some of who placed orders and were registered in the orders_log dataset, and others who did not place an order and therefore did not enter the orders_log dataset. "
   ]
  },
  {
   "cell_type": "code",
   "execution_count": 17,
   "metadata": {},
   "outputs": [
    {
     "data": {
      "text/html": [
       "<div>\n",
       "<style scoped>\n",
       "    .dataframe tbody tr th:only-of-type {\n",
       "        vertical-align: middle;\n",
       "    }\n",
       "\n",
       "    .dataframe tbody tr th {\n",
       "        vertical-align: top;\n",
       "    }\n",
       "\n",
       "    .dataframe thead th {\n",
       "        text-align: right;\n",
       "    }\n",
       "</style>\n",
       "<table border=\"1\" class=\"dataframe\">\n",
       "  <thead>\n",
       "    <tr style=\"text-align: right;\">\n",
       "      <th></th>\n",
       "      <th>group</th>\n",
       "      <th>transaction_id</th>\n",
       "      <th>visitor_id</th>\n",
       "      <th>order_user_ratio</th>\n",
       "    </tr>\n",
       "  </thead>\n",
       "  <tbody>\n",
       "    <tr>\n",
       "      <td>0</td>\n",
       "      <td>A</td>\n",
       "      <td>557</td>\n",
       "      <td>503</td>\n",
       "      <td>1.1074</td>\n",
       "    </tr>\n",
       "    <tr>\n",
       "      <td>1</td>\n",
       "      <td>B</td>\n",
       "      <td>640</td>\n",
       "      <td>586</td>\n",
       "      <td>1.0922</td>\n",
       "    </tr>\n",
       "  </tbody>\n",
       "</table>\n",
       "</div>"
      ],
      "text/plain": [
       "  group  transaction_id  visitor_id order_user_ratio\n",
       "0     A             557         503           1.1074\n",
       "1     B             640         586           1.0922"
      ]
     },
     "execution_count": 17,
     "metadata": {},
     "output_type": "execute_result"
    }
   ],
   "source": [
    "# Find the ratio of the number of orders to the number of unique users in each group.\n",
    "orders_and_users = (orders_log.drop(['date'], axis=1).groupby('group', as_index=False).agg({'transaction_id': 'count', 'visitor_id': 'nunique'}))\n",
    "orders_and_users['order_user_ratio'] = (orders_and_users['transaction_id']/orders_and_users['visitor_id']).map(lambda x: \"{0:.4f}\".format(x))\n",
    "orders_and_users"
   ]
  },
  {
   "cell_type": "markdown",
   "metadata": {},
   "source": [
    "* There are 1089 unique users in total with 83 more unique users in group B than in group A. Earlier, there were 1031 total unique users. We will check this discrepancy of 58. Perhaps, they had been allotted to both groups. \n",
    "* Group A has a higher per-user order quantity than group A. Which was the Control Group and which was the Treatment Group?"
   ]
  },
  {
   "cell_type": "code",
   "execution_count": 18,
   "metadata": {},
   "outputs": [
    {
     "data": {
      "text/html": [
       "<div>\n",
       "<style scoped>\n",
       "    .dataframe tbody tr th:only-of-type {\n",
       "        vertical-align: middle;\n",
       "    }\n",
       "\n",
       "    .dataframe tbody tr th {\n",
       "        vertical-align: top;\n",
       "    }\n",
       "\n",
       "    .dataframe thead th {\n",
       "        text-align: right;\n",
       "    }\n",
       "</style>\n",
       "<table border=\"1\" class=\"dataframe\">\n",
       "  <thead>\n",
       "    <tr style=\"text-align: right;\">\n",
       "      <th>group</th>\n",
       "      <th>A</th>\n",
       "      <th>B</th>\n",
       "    </tr>\n",
       "    <tr>\n",
       "      <th>date</th>\n",
       "      <th></th>\n",
       "      <th></th>\n",
       "    </tr>\n",
       "  </thead>\n",
       "  <tbody>\n",
       "    <tr>\n",
       "      <td>2019-08-01</td>\n",
       "      <td>24</td>\n",
       "      <td>21</td>\n",
       "    </tr>\n",
       "    <tr>\n",
       "      <td>2019-08-02</td>\n",
       "      <td>20</td>\n",
       "      <td>24</td>\n",
       "    </tr>\n",
       "    <tr>\n",
       "      <td>2019-08-03</td>\n",
       "      <td>24</td>\n",
       "      <td>16</td>\n",
       "    </tr>\n",
       "    <tr>\n",
       "      <td>2019-08-04</td>\n",
       "      <td>16</td>\n",
       "      <td>17</td>\n",
       "    </tr>\n",
       "    <tr>\n",
       "      <td>2019-08-05</td>\n",
       "      <td>25</td>\n",
       "      <td>23</td>\n",
       "    </tr>\n",
       "  </tbody>\n",
       "</table>\n",
       "</div>"
      ],
      "text/plain": [
       "group        A   B\n",
       "date              \n",
       "2019-08-01  24  21\n",
       "2019-08-02  20  24\n",
       "2019-08-03  24  16\n",
       "2019-08-04  16  17\n",
       "2019-08-05  25  23"
      ]
     },
     "metadata": {},
     "output_type": "display_data"
    },
    {
     "data": {
      "image/png": "[encoded data removed]",
      "text/plain": [
       "<Figure size 720x432 with 1 Axes>"
      ]
     },
     "metadata": {
      "needs_background": "light"
     },
     "output_type": "display_data"
    }
   ],
   "source": [
    "# Check the distribution of unique users between the two groups per day. \n",
    "n_users_per_group_per_day0 = orders_log.pivot_table(index='date', columns='group', values='visitor_id', aggfunc='count')\n",
    "display(n_users_per_group_per_day0.head())\n",
    "\n",
    "# Visualise the distribution in a graph. \n",
    "n_users_per_group_per_day0.plot(figsize=(10, 6), kind='line');\n",
    "plt.suptitle(\"Number of Unique Users per Group per Day\")\n",
    "plt.ylabel('Number of Unique Users', size='x-large')\n",
    "plt.xlabel('Date', size= 'x-large');\n",
    "plt.show()"
   ]
  },
  {
   "cell_type": "markdown",
   "metadata": {},
   "source": [
    "There are often more unique users in group B than in group A. Let us first investigate our suspicion that there may be unique users who were placed in both groups A and B to account for the discrepancy of 58."
   ]
  },
  {
   "cell_type": "markdown",
   "metadata": {},
   "source": [
    "**Check whether each unique user belongs to only one group.**"
   ]
  },
  {
   "cell_type": "markdown",
   "metadata": {},
   "source": [
    "<div class=\"alert alert-danger\" role=\"alert\">\n",
    "Reviewer's comment v. 1:\n",
    "    \n",
    "Please fix the error below (code doesn't run). \n",
    "</div>"
   ]
  },
  {
   "cell_type": "markdown",
   "metadata": {},
   "source": [
    "<div class=\"alert alert-info\" role=\"alert\">\n",
    "Student's comment v.1:\n",
    "    \n",
    "I have fixed it and the code now runs till the end of the project. I would appreciate it if you could continue your review \n",
    "</div>"
   ]
  },
  {
   "cell_type": "markdown",
   "metadata": {},
   "source": [
    "<div class=\"alert alert-success\" role=\"alert\">\n",
    "Reviewer's comment v. 2:\n",
    "\n",
    "Great, now it works :)\n",
    "</div>"
   ]
  },
  {
   "cell_type": "code",
   "execution_count": 19,
   "metadata": {},
   "outputs": [
    {
     "data": {
      "text/html": [
       "<div>\n",
       "<style scoped>\n",
       "    .dataframe tbody tr th:only-of-type {\n",
       "        vertical-align: middle;\n",
       "    }\n",
       "\n",
       "    .dataframe tbody tr th {\n",
       "        vertical-align: top;\n",
       "    }\n",
       "\n",
       "    .dataframe thead th {\n",
       "        text-align: right;\n",
       "    }\n",
       "</style>\n",
       "<table border=\"1\" class=\"dataframe\">\n",
       "  <thead>\n",
       "    <tr style=\"text-align: right;\">\n",
       "      <th></th>\n",
       "      <th>visitor_id</th>\n",
       "      <th>group</th>\n",
       "    </tr>\n",
       "  </thead>\n",
       "  <tbody>\n",
       "    <tr>\n",
       "      <td>0</td>\n",
       "      <td>5114589</td>\n",
       "      <td>1</td>\n",
       "    </tr>\n",
       "    <tr>\n",
       "      <td>1</td>\n",
       "      <td>6958315</td>\n",
       "      <td>1</td>\n",
       "    </tr>\n",
       "    <tr>\n",
       "      <td>2</td>\n",
       "      <td>8300375</td>\n",
       "      <td>2</td>\n",
       "    </tr>\n",
       "    <tr>\n",
       "      <td>3</td>\n",
       "      <td>11685486</td>\n",
       "      <td>1</td>\n",
       "    </tr>\n",
       "    <tr>\n",
       "      <td>4</td>\n",
       "      <td>39475350</td>\n",
       "      <td>1</td>\n",
       "    </tr>\n",
       "    <tr>\n",
       "      <td>...</td>\n",
       "      <td>...</td>\n",
       "      <td>...</td>\n",
       "    </tr>\n",
       "    <tr>\n",
       "      <td>1026</td>\n",
       "      <td>4266935830</td>\n",
       "      <td>2</td>\n",
       "    </tr>\n",
       "    <tr>\n",
       "      <td>1027</td>\n",
       "      <td>4278982564</td>\n",
       "      <td>1</td>\n",
       "    </tr>\n",
       "    <tr>\n",
       "      <td>1028</td>\n",
       "      <td>4279090005</td>\n",
       "      <td>1</td>\n",
       "    </tr>\n",
       "    <tr>\n",
       "      <td>1029</td>\n",
       "      <td>4281247801</td>\n",
       "      <td>1</td>\n",
       "    </tr>\n",
       "    <tr>\n",
       "      <td>1030</td>\n",
       "      <td>4283872382</td>\n",
       "      <td>1</td>\n",
       "    </tr>\n",
       "  </tbody>\n",
       "</table>\n",
       "<p>1031 rows × 2 columns</p>\n",
       "</div>"
      ],
      "text/plain": [
       "      visitor_id  group\n",
       "0        5114589      1\n",
       "1        6958315      1\n",
       "2        8300375      2\n",
       "3       11685486      1\n",
       "4       39475350      1\n",
       "...          ...    ...\n",
       "1026  4266935830      2\n",
       "1027  4278982564      1\n",
       "1028  4279090005      1\n",
       "1029  4281247801      1\n",
       "1030  4283872382      1\n",
       "\n",
       "[1031 rows x 2 columns]"
      ]
     },
     "metadata": {},
     "output_type": "display_data"
    },
    {
     "data": {
      "text/plain": [
       "58"
      ]
     },
     "metadata": {},
     "output_type": "display_data"
    }
   ],
   "source": [
    "n_groups_per_user = orders_log.groupby('visitor_id').agg({'group': 'nunique'}).reset_index()\n",
    "display(n_groups_per_user)\n",
    "\n",
    "# Count how many unique users there are who belong to more than one group.\n",
    "display(len(n_groups_per_user[n_groups_per_user['group'] > 1]))"
   ]
  },
  {
   "cell_type": "markdown",
   "metadata": {},
   "source": [
    "Of the 1031 unique users, 58 belonged to different groups on different days, when each unique user should have been in **either** group A **or** group B. It seems that no A/A testing was performed prior to going ahead with the A/B testing to make sure that the server was working correctly at spliting the incoming users into two groups or that the logic for the splitting was correctly implemented...\n",
    "\n",
    "\n",
    "The natures of the hypotheses suggest that two versions of the store website existed:\n",
    "* \"Add two new channels for attracting traffic.\" \n",
    "<br>-> Suggests there were two differently designed site structures, one for each channel.\n",
    "\n",
    "* \"Launch your own delivery service.\" \n",
    "<br>-> Suggests there was one version of the website with a delivery service option and one without. \n",
    "\n",
    "* \"Add product recommendation blocks to the store's site.\" \n",
    "<br>-> Suggests the product recommendation blocks were displayed on one version of the website, and not on the other one. \n",
    "\n",
    "* \"Change the category structure.\" \n",
    "<br>-> Suggests there were two versions of the category structure.\n",
    "\n",
    "* \"Change the background color on the main page.\" \n",
    "<br>-> Suggests there were two versions of the main page with different background colours.\n",
    "\n",
    "* \"Add a customer review page.\" \n",
    "<br>-> Suggests the customer review page was displayed on one website, and not on the other one.  \n",
    "\n",
    "* \"Show banners with current offers and sales on the main page.\" \n",
    "<br>-> Suggests the banners were shown on one version of the main page and not on the other one. \n",
    "\n",
    "* \"Add a subscription form to all the main pages.\" \n",
    "<br>-> Suggests there was one version of the main pages with a subscription form, and one without.  \n",
    "\n",
    "* \"Launch a promotion that gives users discounts on their birthdays.\"\n",
    "<br>-> Suggests the promotion was shown on one version of the website, and not on the other one. \n",
    "\n",
    "\n",
    "To isolate the effect of a factor, we need to take two groups standing on an equal footing, with (ideally) the only difference between the two being the factor whose effect is being tested. \n",
    "\n",
    "\n",
    "In our case, those users who belonged to both groups were exposed to both versions of (some of) the website features: either to both the old and the new versions of an existing feature (e.g. the main page background colour) or to both the presence and the absence of a new feature (e.g. a delivery service option). That makes it impossible for us to ascertain which version of a feature influenced the users' shopping behaviour. Therefore, we will have to remove the results of these users from our datasets. It will translate to a data loss of 5.63%, which is acceptable (any data loss is regrettable, but we have no choice in this case)."
   ]
  },
  {
   "cell_type": "markdown",
   "metadata": {},
   "source": [
    "<div class=\"alert alert-success\" role=\"alert\">\n",
    "Reviewer's comment v. 1:\n",
    "\n",
    "Well done that you removed user belonging to both groups.\n",
    "</div>"
   ]
  },
  {
   "cell_type": "code",
   "execution_count": 20,
   "metadata": {},
   "outputs": [
    {
     "data": {
      "text/html": [
       "<div>\n",
       "<style scoped>\n",
       "    .dataframe tbody tr th:only-of-type {\n",
       "        vertical-align: middle;\n",
       "    }\n",
       "\n",
       "    .dataframe tbody tr th {\n",
       "        vertical-align: top;\n",
       "    }\n",
       "\n",
       "    .dataframe thead th {\n",
       "        text-align: right;\n",
       "    }\n",
       "</style>\n",
       "<table border=\"1\" class=\"dataframe\">\n",
       "  <thead>\n",
       "    <tr style=\"text-align: right;\">\n",
       "      <th></th>\n",
       "      <th>transaction_id</th>\n",
       "      <th>visitor_id</th>\n",
       "      <th>date</th>\n",
       "      <th>revenue</th>\n",
       "      <th>group</th>\n",
       "    </tr>\n",
       "  </thead>\n",
       "  <tbody>\n",
       "    <tr>\n",
       "      <td>0</td>\n",
       "      <td>3667963787</td>\n",
       "      <td>3312258926</td>\n",
       "      <td>2019-08-15</td>\n",
       "      <td>30.400000</td>\n",
       "      <td>B</td>\n",
       "    </tr>\n",
       "    <tr>\n",
       "      <td>1</td>\n",
       "      <td>2804400009</td>\n",
       "      <td>3642806036</td>\n",
       "      <td>2019-08-15</td>\n",
       "      <td>15.200000</td>\n",
       "      <td>B</td>\n",
       "    </tr>\n",
       "    <tr>\n",
       "      <td>3</td>\n",
       "      <td>3797467345</td>\n",
       "      <td>1196621759</td>\n",
       "      <td>2019-08-15</td>\n",
       "      <td>155.100006</td>\n",
       "      <td>B</td>\n",
       "    </tr>\n",
       "    <tr>\n",
       "      <td>4</td>\n",
       "      <td>2282983706</td>\n",
       "      <td>2322279887</td>\n",
       "      <td>2019-08-15</td>\n",
       "      <td>40.500000</td>\n",
       "      <td>B</td>\n",
       "    </tr>\n",
       "    <tr>\n",
       "      <td>5</td>\n",
       "      <td>182168103</td>\n",
       "      <td>935554773</td>\n",
       "      <td>2019-08-15</td>\n",
       "      <td>35.000000</td>\n",
       "      <td>B</td>\n",
       "    </tr>\n",
       "    <tr>\n",
       "      <td>...</td>\n",
       "      <td>...</td>\n",
       "      <td>...</td>\n",
       "      <td>...</td>\n",
       "      <td>...</td>\n",
       "      <td>...</td>\n",
       "    </tr>\n",
       "    <tr>\n",
       "      <td>1191</td>\n",
       "      <td>3592955527</td>\n",
       "      <td>608641596</td>\n",
       "      <td>2019-08-14</td>\n",
       "      <td>255.699997</td>\n",
       "      <td>B</td>\n",
       "    </tr>\n",
       "    <tr>\n",
       "      <td>1192</td>\n",
       "      <td>2662137336</td>\n",
       "      <td>3733762160</td>\n",
       "      <td>2019-08-14</td>\n",
       "      <td>100.800003</td>\n",
       "      <td>B</td>\n",
       "    </tr>\n",
       "    <tr>\n",
       "      <td>1193</td>\n",
       "      <td>2203539145</td>\n",
       "      <td>370388673</td>\n",
       "      <td>2019-08-14</td>\n",
       "      <td>50.099998</td>\n",
       "      <td>A</td>\n",
       "    </tr>\n",
       "    <tr>\n",
       "      <td>1194</td>\n",
       "      <td>1807773912</td>\n",
       "      <td>573423106</td>\n",
       "      <td>2019-08-14</td>\n",
       "      <td>165.300003</td>\n",
       "      <td>A</td>\n",
       "    </tr>\n",
       "    <tr>\n",
       "      <td>1196</td>\n",
       "      <td>3936777065</td>\n",
       "      <td>2108080724</td>\n",
       "      <td>2019-08-15</td>\n",
       "      <td>3120.100098</td>\n",
       "      <td>B</td>\n",
       "    </tr>\n",
       "  </tbody>\n",
       "</table>\n",
       "<p>1016 rows × 5 columns</p>\n",
       "</div>"
      ],
      "text/plain": [
       "      transaction_id  visitor_id       date      revenue group\n",
       "0         3667963787  3312258926 2019-08-15    30.400000     B\n",
       "1         2804400009  3642806036 2019-08-15    15.200000     B\n",
       "3         3797467345  1196621759 2019-08-15   155.100006     B\n",
       "4         2282983706  2322279887 2019-08-15    40.500000     B\n",
       "5          182168103   935554773 2019-08-15    35.000000     B\n",
       "...              ...         ...        ...          ...   ...\n",
       "1191      3592955527   608641596 2019-08-14   255.699997     B\n",
       "1192      2662137336  3733762160 2019-08-14   100.800003     B\n",
       "1193      2203539145   370388673 2019-08-14    50.099998     A\n",
       "1194      1807773912   573423106 2019-08-14   165.300003     A\n",
       "1196      3936777065  2108080724 2019-08-15  3120.100098     B\n",
       "\n",
       "[1016 rows x 5 columns]"
      ]
     },
     "execution_count": 20,
     "metadata": {},
     "output_type": "execute_result"
    }
   ],
   "source": [
    "# Identify the unique users who belong to both groups. \n",
    "users_to_remove = n_groups_per_user.loc[n_groups_per_user['group'] > 1, 'visitor_id']\n",
    "\n",
    "# Create a new data slice without these users. \n",
    "orders_no_duplicates = orders_log[~orders_log['visitor_id'].isin(users_to_remove)]\n",
    "orders_no_duplicates"
   ]
  },
  {
   "cell_type": "code",
   "execution_count": 21,
   "metadata": {},
   "outputs": [
    {
     "data": {
      "text/html": [
       "<div>\n",
       "<style scoped>\n",
       "    .dataframe tbody tr th:only-of-type {\n",
       "        vertical-align: middle;\n",
       "    }\n",
       "\n",
       "    .dataframe tbody tr th {\n",
       "        vertical-align: top;\n",
       "    }\n",
       "\n",
       "    .dataframe thead th {\n",
       "        text-align: right;\n",
       "    }\n",
       "</style>\n",
       "<table border=\"1\" class=\"dataframe\">\n",
       "  <thead>\n",
       "    <tr style=\"text-align: right;\">\n",
       "      <th></th>\n",
       "      <th>transaction_id</th>\n",
       "      <th>visitor_id</th>\n",
       "      <th>revenue</th>\n",
       "    </tr>\n",
       "  </thead>\n",
       "  <tbody>\n",
       "    <tr>\n",
       "      <td>count</td>\n",
       "      <td>1.016000e+03</td>\n",
       "      <td>1.016000e+03</td>\n",
       "      <td>1016.000000</td>\n",
       "    </tr>\n",
       "    <tr>\n",
       "      <td>mean</td>\n",
       "      <td>2.155085e+09</td>\n",
       "      <td>2.128677e+09</td>\n",
       "      <td>130.770874</td>\n",
       "    </tr>\n",
       "    <tr>\n",
       "      <td>std</td>\n",
       "      <td>1.234372e+09</td>\n",
       "      <td>1.221578e+09</td>\n",
       "      <td>648.079834</td>\n",
       "    </tr>\n",
       "    <tr>\n",
       "      <td>min</td>\n",
       "      <td>1.062393e+06</td>\n",
       "      <td>5.114589e+06</td>\n",
       "      <td>5.000000</td>\n",
       "    </tr>\n",
       "    <tr>\n",
       "      <td>25%</td>\n",
       "      <td>1.143481e+09</td>\n",
       "      <td>1.043655e+09</td>\n",
       "      <td>20.775000</td>\n",
       "    </tr>\n",
       "    <tr>\n",
       "      <td>50%</td>\n",
       "      <td>2.144499e+09</td>\n",
       "      <td>2.150274e+09</td>\n",
       "      <td>50.099998</td>\n",
       "    </tr>\n",
       "    <tr>\n",
       "      <td>75%</td>\n",
       "      <td>3.256513e+09</td>\n",
       "      <td>3.146991e+09</td>\n",
       "      <td>126.950003</td>\n",
       "    </tr>\n",
       "    <tr>\n",
       "      <td>max</td>\n",
       "      <td>4.288552e+09</td>\n",
       "      <td>4.283872e+09</td>\n",
       "      <td>19920.400391</td>\n",
       "    </tr>\n",
       "  </tbody>\n",
       "</table>\n",
       "</div>"
      ],
      "text/plain": [
       "       transaction_id    visitor_id       revenue\n",
       "count    1.016000e+03  1.016000e+03   1016.000000\n",
       "mean     2.155085e+09  2.128677e+09    130.770874\n",
       "std      1.234372e+09  1.221578e+09    648.079834\n",
       "min      1.062393e+06  5.114589e+06      5.000000\n",
       "25%      1.143481e+09  1.043655e+09     20.775000\n",
       "50%      2.144499e+09  2.150274e+09     50.099998\n",
       "75%      3.256513e+09  3.146991e+09    126.950003\n",
       "max      4.288552e+09  4.283872e+09  19920.400391"
      ]
     },
     "metadata": {},
     "output_type": "display_data"
    },
    {
     "data": {
      "text/plain": [
       "973"
      ]
     },
     "execution_count": 21,
     "metadata": {},
     "output_type": "execute_result"
    }
   ],
   "source": [
    "# View the change in the descriptive statistics....\n",
    "display(orders_no_duplicates.describe())\n",
    "\n",
    "# ...and the change in the number of unique users. \n",
    "orders_no_duplicates['visitor_id'].nunique()"
   ]
  },
  {
   "cell_type": "markdown",
   "metadata": {},
   "source": [
    "The number of orders went down by 15% to 1016, and the number of unique users down by % to 973. The average number of orders per user is now 1.04 down by 0.12 from 1.16. "
   ]
  },
  {
   "cell_type": "code",
   "execution_count": 22,
   "metadata": {},
   "outputs": [
    {
     "data": {
      "text/html": [
       "<div>\n",
       "<style scoped>\n",
       "    .dataframe tbody tr th:only-of-type {\n",
       "        vertical-align: middle;\n",
       "    }\n",
       "\n",
       "    .dataframe tbody tr th {\n",
       "        vertical-align: top;\n",
       "    }\n",
       "\n",
       "    .dataframe thead th {\n",
       "        text-align: right;\n",
       "    }\n",
       "</style>\n",
       "<table border=\"1\" class=\"dataframe\">\n",
       "  <thead>\n",
       "    <tr style=\"text-align: right;\">\n",
       "      <th>group</th>\n",
       "      <th>A</th>\n",
       "      <th>B</th>\n",
       "    </tr>\n",
       "    <tr>\n",
       "      <th>date</th>\n",
       "      <th></th>\n",
       "      <th></th>\n",
       "    </tr>\n",
       "  </thead>\n",
       "  <tbody>\n",
       "    <tr>\n",
       "      <td>2019-08-01</td>\n",
       "      <td>23</td>\n",
       "      <td>17</td>\n",
       "    </tr>\n",
       "    <tr>\n",
       "      <td>2019-08-02</td>\n",
       "      <td>19</td>\n",
       "      <td>23</td>\n",
       "    </tr>\n",
       "    <tr>\n",
       "      <td>2019-08-03</td>\n",
       "      <td>24</td>\n",
       "      <td>14</td>\n",
       "    </tr>\n",
       "    <tr>\n",
       "      <td>2019-08-04</td>\n",
       "      <td>11</td>\n",
       "      <td>14</td>\n",
       "    </tr>\n",
       "    <tr>\n",
       "      <td>2019-08-05</td>\n",
       "      <td>22</td>\n",
       "      <td>21</td>\n",
       "    </tr>\n",
       "  </tbody>\n",
       "</table>\n",
       "</div>"
      ],
      "text/plain": [
       "group        A   B\n",
       "date              \n",
       "2019-08-01  23  17\n",
       "2019-08-02  19  23\n",
       "2019-08-03  24  14\n",
       "2019-08-04  11  14\n",
       "2019-08-05  22  21"
      ]
     },
     "metadata": {},
     "output_type": "display_data"
    },
    {
     "data": {
      "image/png": "[encoded data removed]",
      "text/plain": [
       "<Figure size 720x432 with 1 Axes>"
      ]
     },
     "metadata": {
      "needs_background": "light"
     },
     "output_type": "display_data"
    }
   ],
   "source": [
    "# After removing them, will we still have unique users both groups on every date in the dataset?\n",
    "# Will we still have more or less an equal number of unique users in each group?\n",
    "n_users_per_group_per_day = orders_no_duplicates.pivot_table(index='date', columns='group', values='visitor_id', aggfunc='count')\n",
    "display(n_users_per_group_per_day.head())\n",
    "\n",
    "# Visualise the differences in a graph. \n",
    "n_users_per_group_per_day.plot(figsize=(10, 6), kind='line');\n",
    "plt.suptitle(\"Number of Unique Users per Group per Day\")\n",
    "plt.ylabel('Number of Unique Users', size='x-large')\n",
    "plt.xlabel('Date', size= 'x-large')\n",
    "plt.show()"
   ]
  },
  {
   "cell_type": "markdown",
   "metadata": {},
   "source": [
    "Thankfully, the graph is very similar to the previous graph before the doubly-allocated unique users were removed. The height of some of the peaks have changed a little, but there are no major changes. "
   ]
  },
  {
   "cell_type": "markdown",
   "metadata": {},
   "source": [
    "<div class=\"alert alert-success\" role=\"alert\">\n",
    "Reviewer's comment v. 1:\n",
    "\n",
    "Ok :)\n",
    "</div>"
   ]
  },
  {
   "cell_type": "code",
   "execution_count": 23,
   "metadata": {},
   "outputs": [
    {
     "data": {
      "text/html": [
       "<div>\n",
       "<style scoped>\n",
       "    .dataframe tbody tr th:only-of-type {\n",
       "        vertical-align: middle;\n",
       "    }\n",
       "\n",
       "    .dataframe tbody tr th {\n",
       "        vertical-align: top;\n",
       "    }\n",
       "\n",
       "    .dataframe thead th {\n",
       "        text-align: right;\n",
       "    }\n",
       "</style>\n",
       "<table border=\"1\" class=\"dataframe\">\n",
       "  <thead>\n",
       "    <tr style=\"text-align: right;\">\n",
       "      <th></th>\n",
       "      <th>group</th>\n",
       "      <th>transaction_id</th>\n",
       "      <th>visitor_id</th>\n",
       "      <th>order_user_ratio</th>\n",
       "    </tr>\n",
       "  </thead>\n",
       "  <tbody>\n",
       "    <tr>\n",
       "      <td>0</td>\n",
       "      <td>A</td>\n",
       "      <td>468</td>\n",
       "      <td>445</td>\n",
       "      <td>1.0517</td>\n",
       "    </tr>\n",
       "    <tr>\n",
       "      <td>1</td>\n",
       "      <td>B</td>\n",
       "      <td>548</td>\n",
       "      <td>528</td>\n",
       "      <td>1.0379</td>\n",
       "    </tr>\n",
       "  </tbody>\n",
       "</table>\n",
       "</div>"
      ],
      "text/plain": [
       "  group  transaction_id  visitor_id order_user_ratio\n",
       "0     A             468         445           1.0517\n",
       "1     B             548         528           1.0379"
      ]
     },
     "execution_count": 23,
     "metadata": {},
     "output_type": "execute_result"
    }
   ],
   "source": [
    "# Re-check the number of visitors and orders in each group.\n",
    "# Find the ratio of the number of orders to the number of unique users in each group.\n",
    "orders_and_users1 = (orders_no_duplicates.drop(['date'], axis=1).groupby('group', as_index=False).agg({'transaction_id': 'count', 'visitor_id': 'nunique'}))\n",
    "orders_and_users1['order_user_ratio'] = (orders_and_users1['transaction_id']/orders_and_users1['visitor_id']).map(lambda x: \"{0:.4f}\".format(x))\n",
    "orders_and_users1"
   ]
  },
  {
   "cell_type": "markdown",
   "metadata": {},
   "source": [
    "* Group B still has 83 more unique users than group A. We have managed to maintain the same distribution as before the doubly-allocated unique users were removed from both groups.\n",
    "* Group A still has slighly higher per-user order quantity than group B, but the difference is less than before. "
   ]
  },
  {
   "cell_type": "markdown",
   "metadata": {},
   "source": [
    "Since we removed 58 unique users from groups A and B in the orders_log dataset, we need to adjust the number of visits in the vistis_us dataset. \n",
    "\n",
    "The number of visits in the visits_us dataset is aggregated by date, we can compare the number of total visits in the two datasets based on 'date'. "
   ]
  },
  {
   "cell_type": "code",
   "execution_count": 24,
   "metadata": {},
   "outputs": [],
   "source": [
    "# Create a data slice with the unique users who belonged to both groups and therefore were removed.\n",
    "orders_duplicates = orders_log[orders_log['visitor_id'].isin(users_to_remove)]\n",
    "#display(orders_duplicates.head())\n",
    "\n",
    "# Aggregate by 'date' to see how many unique visitors they add up to. \n",
    "visits_removed = orders_duplicates.pivot_table(index='date', columns='group', values='visitor_id', aggfunc='count').fillna(0)\n",
    "#display(visits_removed.head())\n",
    "\n",
    "# Rearrange the visits_log dataset in the same format as the visits_removed dataset.\n",
    "visits_rearranged = visits_log.pivot_table(index='date', columns='group', values='visits', aggfunc='sum')\n",
    "#display(visits_rearranged.head())\n",
    "\n",
    "# Subtract the numbers of visits in the visits_removed dataset from the vists_rearranged dataset.\n",
    "visits_no_duplicates = (visits_rearranged - visits_removed)\n",
    "#visits_no_duplicates.head()"
   ]
  },
  {
   "cell_type": "code",
   "execution_count": 25,
   "metadata": {},
   "outputs": [
    {
     "data": {
      "text/html": [
       "<div>\n",
       "<style scoped>\n",
       "    .dataframe tbody tr th:only-of-type {\n",
       "        vertical-align: middle;\n",
       "    }\n",
       "\n",
       "    .dataframe tbody tr th {\n",
       "        vertical-align: top;\n",
       "    }\n",
       "\n",
       "    .dataframe thead th {\n",
       "        text-align: right;\n",
       "    }\n",
       "</style>\n",
       "<table border=\"1\" class=\"dataframe\">\n",
       "  <thead>\n",
       "    <tr style=\"text-align: right;\">\n",
       "      <th>group</th>\n",
       "      <th>A</th>\n",
       "      <th>B</th>\n",
       "    </tr>\n",
       "  </thead>\n",
       "  <tbody>\n",
       "    <tr>\n",
       "      <td>count</td>\n",
       "      <td>31.000000</td>\n",
       "      <td>31.000000</td>\n",
       "    </tr>\n",
       "    <tr>\n",
       "      <td>mean</td>\n",
       "      <td>601.516129</td>\n",
       "      <td>607.225806</td>\n",
       "    </tr>\n",
       "    <tr>\n",
       "      <td>std</td>\n",
       "      <td>111.986568</td>\n",
       "      <td>117.584214</td>\n",
       "    </tr>\n",
       "    <tr>\n",
       "      <td>min</td>\n",
       "      <td>361.000000</td>\n",
       "      <td>368.000000</td>\n",
       "    </tr>\n",
       "    <tr>\n",
       "      <td>25%</td>\n",
       "      <td>539.500000</td>\n",
       "      <td>532.500000</td>\n",
       "    </tr>\n",
       "    <tr>\n",
       "      <td>50%</td>\n",
       "      <td>618.000000</td>\n",
       "      <td>648.000000</td>\n",
       "    </tr>\n",
       "    <tr>\n",
       "      <td>75%</td>\n",
       "      <td>700.500000</td>\n",
       "      <td>708.500000</td>\n",
       "    </tr>\n",
       "    <tr>\n",
       "      <td>max</td>\n",
       "      <td>753.000000</td>\n",
       "      <td>768.000000</td>\n",
       "    </tr>\n",
       "  </tbody>\n",
       "</table>\n",
       "</div>"
      ],
      "text/plain": [
       "group           A           B\n",
       "count   31.000000   31.000000\n",
       "mean   601.516129  607.225806\n",
       "std    111.986568  117.584214\n",
       "min    361.000000  368.000000\n",
       "25%    539.500000  532.500000\n",
       "50%    618.000000  648.000000\n",
       "75%    700.500000  708.500000\n",
       "max    753.000000  768.000000"
      ]
     },
     "metadata": {},
     "output_type": "display_data"
    },
    {
     "data": {
      "image/png": "[encoded data removed]",
      "text/plain": [
       "<Figure size 432x432 with 1 Axes>"
      ]
     },
     "metadata": {
      "needs_background": "light"
     },
     "output_type": "display_data"
    }
   ],
   "source": [
    "# Check the descriptive statistics... \n",
    "display(visits_no_duplicates.describe())\n",
    "\n",
    "#...and whether there are outliers in the visit numbers in a boxplot. \n",
    "visits_no_duplicates.plot(kind='box', figsize=(6,6))\n",
    "plt.suptitle(\"Distribution of Number of Visits per Test Group\")\n",
    "plt.ylabel(\"Number of Visits\", size='x-large');"
   ]
  },
  {
   "cell_type": "markdown",
   "metadata": {},
   "source": [
    "Groups A and B share a fairly similar number of visits daily as well as descriptive statistics. "
   ]
  },
  {
   "cell_type": "markdown",
   "metadata": {},
   "source": [
    "**Check for duplicates.**"
   ]
  },
  {
   "cell_type": "code",
   "execution_count": 26,
   "metadata": {},
   "outputs": [
    {
     "data": {
      "text/plain": [
       "0"
      ]
     },
     "execution_count": 26,
     "metadata": {},
     "output_type": "execute_result"
    }
   ],
   "source": [
    "#orders_no_duplicates.duplicated().sum()\n",
    "visits_no_duplicates.duplicated().sum()"
   ]
  },
  {
   "cell_type": "markdown",
   "metadata": {},
   "source": [
    "There are no complete ducpliates in the datasets. "
   ]
  },
  {
   "cell_type": "markdown",
   "metadata": {},
   "source": [
    "<div class=\"alert alert-success\" role=\"alert\">\n",
    "Reviewer's comment v. 2:\n",
    "\n",
    "Yes, we don't have duplicates in our data.\n",
    "</div>"
   ]
  },
  {
   "cell_type": "markdown",
   "metadata": {},
   "source": [
    "**Look at the data distribution in more detail.**"
   ]
  },
  {
   "cell_type": "code",
   "execution_count": 27,
   "metadata": {},
   "outputs": [
    {
     "data": {
      "text/plain": [
       "group\n",
       "A    53212.000000\n",
       "B    79651.203125\n",
       "Name: revenue, dtype: float32"
      ]
     },
     "execution_count": 27,
     "metadata": {},
     "output_type": "execute_result"
    }
   ],
   "source": [
    "# Look at the total revenue from each group for the entire period. \n",
    "total_revenue_per_group = orders_no_duplicates.groupby('group')['revenue'].sum()\n",
    "total_revenue_per_group"
   ]
  },
  {
   "cell_type": "markdown",
   "metadata": {},
   "source": [
    "There revenue from group B is higher, seemingly because there are more users in group B than in group A. "
   ]
  },
  {
   "cell_type": "code",
   "execution_count": 28,
   "metadata": {},
   "outputs": [
    {
     "data": {
      "text/html": [
       "<div>\n",
       "<style scoped>\n",
       "    .dataframe tbody tr th:only-of-type {\n",
       "        vertical-align: middle;\n",
       "    }\n",
       "\n",
       "    .dataframe tbody tr th {\n",
       "        vertical-align: top;\n",
       "    }\n",
       "\n",
       "    .dataframe thead th {\n",
       "        text-align: right;\n",
       "    }\n",
       "</style>\n",
       "<table border=\"1\" class=\"dataframe\">\n",
       "  <thead>\n",
       "    <tr style=\"text-align: right;\">\n",
       "      <th>group</th>\n",
       "      <th>A</th>\n",
       "      <th>B</th>\n",
       "    </tr>\n",
       "    <tr>\n",
       "      <th>date</th>\n",
       "      <th></th>\n",
       "      <th></th>\n",
       "    </tr>\n",
       "  </thead>\n",
       "  <tbody>\n",
       "    <tr>\n",
       "      <td>2019-08-01</td>\n",
       "      <td>2266.599854</td>\n",
       "      <td>967.200012</td>\n",
       "    </tr>\n",
       "    <tr>\n",
       "      <td>2019-08-02</td>\n",
       "      <td>1468.300049</td>\n",
       "      <td>2568.100098</td>\n",
       "    </tr>\n",
       "    <tr>\n",
       "      <td>2019-08-03</td>\n",
       "      <td>1815.199951</td>\n",
       "      <td>1071.599976</td>\n",
       "    </tr>\n",
       "    <tr>\n",
       "      <td>2019-08-04</td>\n",
       "      <td>675.500000</td>\n",
       "      <td>1531.599976</td>\n",
       "    </tr>\n",
       "    <tr>\n",
       "      <td>2019-08-05</td>\n",
       "      <td>1398.000000</td>\n",
       "      <td>1449.300049</td>\n",
       "    </tr>\n",
       "    <tr>\n",
       "      <td>2019-08-06</td>\n",
       "      <td>668.400024</td>\n",
       "      <td>3369.300049</td>\n",
       "    </tr>\n",
       "    <tr>\n",
       "      <td>2019-08-07</td>\n",
       "      <td>1942.000000</td>\n",
       "      <td>3435.600098</td>\n",
       "    </tr>\n",
       "    <tr>\n",
       "      <td>2019-08-08</td>\n",
       "      <td>1404.799927</td>\n",
       "      <td>2379.899902</td>\n",
       "    </tr>\n",
       "    <tr>\n",
       "      <td>2019-08-09</td>\n",
       "      <td>2095.199951</td>\n",
       "      <td>1656.199951</td>\n",
       "    </tr>\n",
       "    <tr>\n",
       "      <td>2019-08-10</td>\n",
       "      <td>2387.500000</td>\n",
       "      <td>1674.799927</td>\n",
       "    </tr>\n",
       "    <tr>\n",
       "      <td>2019-08-11</td>\n",
       "      <td>963.399963</td>\n",
       "      <td>855.399963</td>\n",
       "    </tr>\n",
       "    <tr>\n",
       "      <td>2019-08-12</td>\n",
       "      <td>3448.800049</td>\n",
       "      <td>1657.800049</td>\n",
       "    </tr>\n",
       "    <tr>\n",
       "      <td>2019-08-13</td>\n",
       "      <td>4096.899902</td>\n",
       "      <td>1874.500000</td>\n",
       "    </tr>\n",
       "    <tr>\n",
       "      <td>2019-08-14</td>\n",
       "      <td>716.599976</td>\n",
       "      <td>1692.400024</td>\n",
       "    </tr>\n",
       "    <tr>\n",
       "      <td>2019-08-15</td>\n",
       "      <td>1275.299927</td>\n",
       "      <td>4849.500000</td>\n",
       "    </tr>\n",
       "    <tr>\n",
       "      <td>2019-08-16</td>\n",
       "      <td>1599.099976</td>\n",
       "      <td>1807.000000</td>\n",
       "    </tr>\n",
       "    <tr>\n",
       "      <td>2019-08-17</td>\n",
       "      <td>548.500000</td>\n",
       "      <td>1276.000000</td>\n",
       "    </tr>\n",
       "    <tr>\n",
       "      <td>2019-08-18</td>\n",
       "      <td>965.599976</td>\n",
       "      <td>568.500000</td>\n",
       "    </tr>\n",
       "    <tr>\n",
       "      <td>2019-08-19</td>\n",
       "      <td>2653.600098</td>\n",
       "      <td>22064.900391</td>\n",
       "    </tr>\n",
       "    <tr>\n",
       "      <td>2019-08-20</td>\n",
       "      <td>936.000000</td>\n",
       "      <td>2324.599854</td>\n",
       "    </tr>\n",
       "    <tr>\n",
       "      <td>2019-08-21</td>\n",
       "      <td>2678.899902</td>\n",
       "      <td>2200.199951</td>\n",
       "    </tr>\n",
       "    <tr>\n",
       "      <td>2019-08-22</td>\n",
       "      <td>1450.900024</td>\n",
       "      <td>2229.500000</td>\n",
       "    </tr>\n",
       "    <tr>\n",
       "      <td>2019-08-23</td>\n",
       "      <td>954.100037</td>\n",
       "      <td>1228.900024</td>\n",
       "    </tr>\n",
       "    <tr>\n",
       "      <td>2019-08-24</td>\n",
       "      <td>1912.099976</td>\n",
       "      <td>1405.699951</td>\n",
       "    </tr>\n",
       "    <tr>\n",
       "      <td>2019-08-25</td>\n",
       "      <td>818.200012</td>\n",
       "      <td>1255.300049</td>\n",
       "    </tr>\n",
       "    <tr>\n",
       "      <td>2019-08-26</td>\n",
       "      <td>2464.800049</td>\n",
       "      <td>2744.300049</td>\n",
       "    </tr>\n",
       "    <tr>\n",
       "      <td>2019-08-27</td>\n",
       "      <td>2934.699951</td>\n",
       "      <td>1746.900024</td>\n",
       "    </tr>\n",
       "    <tr>\n",
       "      <td>2019-08-28</td>\n",
       "      <td>1526.900024</td>\n",
       "      <td>1010.500000</td>\n",
       "    </tr>\n",
       "    <tr>\n",
       "      <td>2019-08-29</td>\n",
       "      <td>3068.899902</td>\n",
       "      <td>1681.199951</td>\n",
       "    </tr>\n",
       "    <tr>\n",
       "      <td>2019-08-30</td>\n",
       "      <td>1228.900024</td>\n",
       "      <td>3286.800049</td>\n",
       "    </tr>\n",
       "    <tr>\n",
       "      <td>2019-08-31</td>\n",
       "      <td>848.299988</td>\n",
       "      <td>1787.699951</td>\n",
       "    </tr>\n",
       "  </tbody>\n",
       "</table>\n",
       "</div>"
      ],
      "text/plain": [
       "group                 A             B\n",
       "date                                 \n",
       "2019-08-01  2266.599854    967.200012\n",
       "2019-08-02  1468.300049   2568.100098\n",
       "2019-08-03  1815.199951   1071.599976\n",
       "2019-08-04   675.500000   1531.599976\n",
       "2019-08-05  1398.000000   1449.300049\n",
       "2019-08-06   668.400024   3369.300049\n",
       "2019-08-07  1942.000000   3435.600098\n",
       "2019-08-08  1404.799927   2379.899902\n",
       "2019-08-09  2095.199951   1656.199951\n",
       "2019-08-10  2387.500000   1674.799927\n",
       "2019-08-11   963.399963    855.399963\n",
       "2019-08-12  3448.800049   1657.800049\n",
       "2019-08-13  4096.899902   1874.500000\n",
       "2019-08-14   716.599976   1692.400024\n",
       "2019-08-15  1275.299927   4849.500000\n",
       "2019-08-16  1599.099976   1807.000000\n",
       "2019-08-17   548.500000   1276.000000\n",
       "2019-08-18   965.599976    568.500000\n",
       "2019-08-19  2653.600098  22064.900391\n",
       "2019-08-20   936.000000   2324.599854\n",
       "2019-08-21  2678.899902   2200.199951\n",
       "2019-08-22  1450.900024   2229.500000\n",
       "2019-08-23   954.100037   1228.900024\n",
       "2019-08-24  1912.099976   1405.699951\n",
       "2019-08-25   818.200012   1255.300049\n",
       "2019-08-26  2464.800049   2744.300049\n",
       "2019-08-27  2934.699951   1746.900024\n",
       "2019-08-28  1526.900024   1010.500000\n",
       "2019-08-29  3068.899902   1681.199951\n",
       "2019-08-30  1228.900024   3286.800049\n",
       "2019-08-31   848.299988   1787.699951"
      ]
     },
     "metadata": {},
     "output_type": "display_data"
    },
    {
     "data": {
      "image/png": "[encoded data removed]",
      "text/plain": [
       "<Figure size 720x432 with 1 Axes>"
      ]
     },
     "metadata": {
      "needs_background": "light"
     },
     "output_type": "display_data"
    }
   ],
   "source": [
    "# Check how the total revenue per group changes from day to day.\n",
    "average_revenue_per_group_per_day = orders_no_duplicates.pivot_table(index = 'date', columns = 'group', values='revenue', aggfunc='sum')\n",
    "display(average_revenue_per_group_per_day)\n",
    "\n",
    "#...and visualise the changes.\n",
    "average_revenue_per_group_per_day.plot(figsize=(10, 6), kind='line')\n",
    "plt.suptitle(\"Total Revenue per Group per Day\")\n",
    "plt.ylabel(\"Currency Units\", size='x-large')\n",
    "plt.xlabel(\"Date\", size= 'x-large')\n",
    "plt.show()"
   ]
  },
  {
   "cell_type": "markdown",
   "metadata": {},
   "source": [
    "There is a peak on August 19, 2019 at 22064.90 currency units in group B. "
   ]
  },
  {
   "cell_type": "markdown",
   "metadata": {},
   "source": [
    "<div class=\"alert alert-success\" role=\"alert\">\n",
    "Reviewer's comment v. 2:\n",
    "\n",
    "You correctly noted that we have a peak August 19, 2019.\n",
    "</div>"
   ]
  },
  {
   "cell_type": "code",
   "execution_count": 29,
   "metadata": {},
   "outputs": [
    {
     "data": {
      "text/html": [
       "<div>\n",
       "<style scoped>\n",
       "    .dataframe tbody tr th:only-of-type {\n",
       "        vertical-align: middle;\n",
       "    }\n",
       "\n",
       "    .dataframe tbody tr th {\n",
       "        vertical-align: top;\n",
       "    }\n",
       "\n",
       "    .dataframe thead th {\n",
       "        text-align: right;\n",
       "    }\n",
       "</style>\n",
       "<table border=\"1\" class=\"dataframe\">\n",
       "  <thead>\n",
       "    <tr style=\"text-align: right;\">\n",
       "      <th></th>\n",
       "      <th>transaction_id</th>\n",
       "      <th>visitor_id</th>\n",
       "      <th>date</th>\n",
       "      <th>revenue</th>\n",
       "      <th>group</th>\n",
       "    </tr>\n",
       "  </thead>\n",
       "  <tbody>\n",
       "    <tr>\n",
       "      <td>425</td>\n",
       "      <td>590470918</td>\n",
       "      <td>1920142716</td>\n",
       "      <td>2019-08-19</td>\n",
       "      <td>19920.400391</td>\n",
       "      <td>B</td>\n",
       "    </tr>\n",
       "    <tr>\n",
       "      <td>527</td>\n",
       "      <td>1570513684</td>\n",
       "      <td>2837914161</td>\n",
       "      <td>2019-08-19</td>\n",
       "      <td>515.900024</td>\n",
       "      <td>B</td>\n",
       "    </tr>\n",
       "    <tr>\n",
       "      <td>461</td>\n",
       "      <td>2683113224</td>\n",
       "      <td>154576532</td>\n",
       "      <td>2019-08-19</td>\n",
       "      <td>410.500000</td>\n",
       "      <td>B</td>\n",
       "    </tr>\n",
       "    <tr>\n",
       "      <td>368</td>\n",
       "      <td>3268879337</td>\n",
       "      <td>2536252163</td>\n",
       "      <td>2019-08-19</td>\n",
       "      <td>310.100006</td>\n",
       "      <td>B</td>\n",
       "    </tr>\n",
       "    <tr>\n",
       "      <td>463</td>\n",
       "      <td>4170537404</td>\n",
       "      <td>290022471</td>\n",
       "      <td>2019-08-19</td>\n",
       "      <td>255.500000</td>\n",
       "      <td>B</td>\n",
       "    </tr>\n",
       "  </tbody>\n",
       "</table>\n",
       "</div>"
      ],
      "text/plain": [
       "     transaction_id  visitor_id       date       revenue group\n",
       "425       590470918  1920142716 2019-08-19  19920.400391     B\n",
       "527      1570513684  2837914161 2019-08-19    515.900024     B\n",
       "461      2683113224   154576532 2019-08-19    410.500000     B\n",
       "368      3268879337  2536252163 2019-08-19    310.100006     B\n",
       "463      4170537404   290022471 2019-08-19    255.500000     B"
      ]
     },
     "execution_count": 29,
     "metadata": {},
     "output_type": "execute_result"
    }
   ],
   "source": [
    "# Check which transactions belonging to which users contributed to the peak.\n",
    "orders_no_duplicates[(orders_no_duplicates['date'] == '2019-08-19') & (orders_no_duplicates['group'] == 'B')].sort_values(by='revenue', ascending=False).head()"
   ]
  },
  {
   "cell_type": "markdown",
   "metadata": {},
   "source": [
    "One visitor single-handedly brought up the revenue with an order of 19920.40 currency units. We will investigate this anomaly and its effect on the whole dataset in more detail later. "
   ]
  },
  {
   "cell_type": "code",
   "execution_count": 30,
   "metadata": {},
   "outputs": [
    {
     "data": {
      "text/html": [
       "<div>\n",
       "<style scoped>\n",
       "    .dataframe tbody tr th:only-of-type {\n",
       "        vertical-align: middle;\n",
       "    }\n",
       "\n",
       "    .dataframe tbody tr th {\n",
       "        vertical-align: top;\n",
       "    }\n",
       "\n",
       "    .dataframe thead th {\n",
       "        text-align: right;\n",
       "    }\n",
       "</style>\n",
       "<table border=\"1\" class=\"dataframe\">\n",
       "  <thead>\n",
       "    <tr style=\"text-align: right;\">\n",
       "      <th>group</th>\n",
       "      <th>A</th>\n",
       "      <th>B</th>\n",
       "    </tr>\n",
       "  </thead>\n",
       "  <tbody>\n",
       "    <tr>\n",
       "      <td>count</td>\n",
       "      <td>31.000000</td>\n",
       "      <td>31.000000</td>\n",
       "    </tr>\n",
       "    <tr>\n",
       "      <td>mean</td>\n",
       "      <td>601.516129</td>\n",
       "      <td>607.225806</td>\n",
       "    </tr>\n",
       "    <tr>\n",
       "      <td>std</td>\n",
       "      <td>111.986568</td>\n",
       "      <td>117.584214</td>\n",
       "    </tr>\n",
       "    <tr>\n",
       "      <td>min</td>\n",
       "      <td>361.000000</td>\n",
       "      <td>368.000000</td>\n",
       "    </tr>\n",
       "    <tr>\n",
       "      <td>25%</td>\n",
       "      <td>539.500000</td>\n",
       "      <td>532.500000</td>\n",
       "    </tr>\n",
       "    <tr>\n",
       "      <td>50%</td>\n",
       "      <td>618.000000</td>\n",
       "      <td>648.000000</td>\n",
       "    </tr>\n",
       "    <tr>\n",
       "      <td>75%</td>\n",
       "      <td>700.500000</td>\n",
       "      <td>708.500000</td>\n",
       "    </tr>\n",
       "    <tr>\n",
       "      <td>max</td>\n",
       "      <td>753.000000</td>\n",
       "      <td>768.000000</td>\n",
       "    </tr>\n",
       "  </tbody>\n",
       "</table>\n",
       "</div>"
      ],
      "text/plain": [
       "group           A           B\n",
       "count   31.000000   31.000000\n",
       "mean   601.516129  607.225806\n",
       "std    111.986568  117.584214\n",
       "min    361.000000  368.000000\n",
       "25%    539.500000  532.500000\n",
       "50%    618.000000  648.000000\n",
       "75%    700.500000  708.500000\n",
       "max    753.000000  768.000000"
      ]
     },
     "metadata": {},
     "output_type": "display_data"
    },
    {
     "data": {
      "image/png": "[encoded data removed]",
      "text/plain": [
       "<Figure size 432x432 with 1 Axes>"
      ]
     },
     "metadata": {
      "needs_background": "light"
     },
     "output_type": "display_data"
    }
   ],
   "source": [
    "# Check if there are are outliers in the visit numbers in a boxplot. \n",
    "display(visits_no_duplicates.describe())\n",
    "visits_no_duplicates.plot(kind='box', figsize=(6,6))\n",
    "plt.suptitle(\"Distribution of Number of Visits per Test Group\")\n",
    "plt.ylabel(\"Number of Visits\", size='x-large')\n",
    "plt.show();"
   ]
  },
  {
   "cell_type": "markdown",
   "metadata": {},
   "source": [
    "* The online store enjoys 600-607 visits a day on average in each group with a std of 111-117 where min = 361-368 and max = 753-768. Seemingly, the median is not very far from the mean.  \n",
    "* There are no outliers but the distribution of the number of visits is skewed to the left in both groups. In other words, the online store is more likely to receive less than 532-539 visits a day in each group than more. "
   ]
  },
  {
   "cell_type": "markdown",
   "metadata": {},
   "source": [
    "<div class=\"alert alert-success\" role=\"alert\">\n",
    "Reviewer's comment v. 2:\n",
    "\n",
    "Yes, the distribution of the number of visits is skewed to the left in both groups. \n",
    "</div>"
   ]
  },
  {
   "cell_type": "markdown",
   "metadata": {},
   "source": [
    "### Conclusion <a class=\"anchor\" id=\"section_1_5\"></a>\n",
    "\n",
    "[Go back to the Table of Contents](#table_of_contents)"
   ]
  },
  {
   "cell_type": "markdown",
   "metadata": {},
   "source": [
    "* There are nine hypotheses.\n",
    "\n",
    "\n",
    "* 58 unique users were discovered to have been allotted to both groups A and B. Due to the nature of the hypotheses (and of A/B tests), they had to be removed from the group results.\n",
    "\n",
    "\n",
    "The data distributions and statistics are as below. The figures before the correction of the doubly-allotted unique users can be found inside the square brackets. \n",
    "\n",
    "<br>o period (31 days): 2019-08-01 - 2019-08-31 \n",
    "<br>o orders: total = 1016 [1197], total daily average = 32.77 [38.61], daily per-user average daily = 1.04 [1.16], per-group average = 19, min = 9, max = 31, median = 20 \n",
    "<br>o unique visitors: total = 973 [1031], total daily average = 33, daily group average = 18.89, min = 9, max = 31, median = 19.5 \n",
    "<br>o revenue (currency units): min = 5.00, max = 19920.40, average = 131.49, median = 50.20, outlier above 130.00  \n",
    "\n",
    "\n",
    "It was confirmed that a very similar distribution of unique users between the two groups on each date of the testing period was maintained after the removal of the doubly-allocated unique users from the test results."
   ]
  },
  {
   "cell_type": "markdown",
   "metadata": {},
   "source": [
    "<div class=\"alert alert-success\" role=\"alert\">\n",
    "Reviewer's comment v. 2:\n",
    "\n",
    "An excellent data analysis 👍👍👍\n",
    "</div>"
   ]
  },
  {
   "cell_type": "markdown",
   "metadata": {},
   "source": [
    "## Part 1. Prioritizing Hypotheses <a class=\"anchor\" id=\"chapter2\"></a>\n",
    "\n",
    "[Go back to the Table of Contents](#table_of_contents)\n",
    "\n",
    "The file hypotheses_us.csv contains nine hypotheses on boosting an online store's revenue with Reach, Impact, Confidence, and Effort specified for each."
   ]
  },
  {
   "cell_type": "markdown",
   "metadata": {},
   "source": [
    "### Task: Apply the ICE framework to prioritize hypotheses. Sort them in descending order of priority. <a class=\"anchor\" id=\"section_2_1\"></a>\n",
    "\n",
    "[Go back to the Table of Contents](#table_of_contents)"
   ]
  },
  {
   "cell_type": "markdown",
   "metadata": {},
   "source": [
    "There are two versions of ICE framework, and since the hypotheses_log dataset contains the 'effort' score, we will be using  the framework with the Impact, Confidence, Effort components expressed in the formula below:\n",
    "\n",
    "\\begin{equation*}\n",
    "{\\textrm{ICE score}} = \\frac{{\\textrm{Impact}} * {\\textrm{Confidence}}}{{\\textrm{Effort}}}\n",
    "\\end{equation*}\n",
    "\n",
    "The three components rate the following:\n",
    "* Impact — how strongly this update will affect the users, their experience, and their satisfaction with the product\n",
    "* Confidence — how sure you are that your product will affect them in this way\n",
    "* Effort — how much will it cost to test the hypothesis"
   ]
  },
  {
   "cell_type": "code",
   "execution_count": 31,
   "metadata": {},
   "outputs": [
    {
     "data": {
      "text/html": [
       "<div>\n",
       "<style scoped>\n",
       "    .dataframe tbody tr th:only-of-type {\n",
       "        vertical-align: middle;\n",
       "    }\n",
       "\n",
       "    .dataframe tbody tr th {\n",
       "        vertical-align: top;\n",
       "    }\n",
       "\n",
       "    .dataframe thead th {\n",
       "        text-align: right;\n",
       "    }\n",
       "</style>\n",
       "<table border=\"1\" class=\"dataframe\">\n",
       "  <thead>\n",
       "    <tr style=\"text-align: right;\">\n",
       "      <th></th>\n",
       "      <th>hypothesis</th>\n",
       "      <th>ice</th>\n",
       "    </tr>\n",
       "  </thead>\n",
       "  <tbody>\n",
       "    <tr>\n",
       "      <td>8</td>\n",
       "      <td>Launch a promotion that gives users discounts on their birthdays</td>\n",
       "      <td>16.200000</td>\n",
       "    </tr>\n",
       "    <tr>\n",
       "      <td>0</td>\n",
       "      <td>Add two new channels for attracting traffic. This will bring 30% more users</td>\n",
       "      <td>13.333333</td>\n",
       "    </tr>\n",
       "    <tr>\n",
       "      <td>7</td>\n",
       "      <td>Add a subscription form to all the main pages. This will help you compile a mailing list</td>\n",
       "      <td>11.200000</td>\n",
       "    </tr>\n",
       "    <tr>\n",
       "      <td>6</td>\n",
       "      <td>Show banners with current offers and sales on the main page. This will boost conversion</td>\n",
       "      <td>8.000000</td>\n",
       "    </tr>\n",
       "    <tr>\n",
       "      <td>2</td>\n",
       "      <td>Add product recommendation blocks to the store's site. This will increase conversion and average purchase size</td>\n",
       "      <td>7.000000</td>\n",
       "    </tr>\n",
       "    <tr>\n",
       "      <td>1</td>\n",
       "      <td>Launch your own delivery service. This will shorten delivery time</td>\n",
       "      <td>2.000000</td>\n",
       "    </tr>\n",
       "    <tr>\n",
       "      <td>5</td>\n",
       "      <td>Add a customer review page. This will increase the number of orders</td>\n",
       "      <td>1.333333</td>\n",
       "    </tr>\n",
       "    <tr>\n",
       "      <td>3</td>\n",
       "      <td>Change the category structure. This will increase conversion since users will find the products they want more quickly</td>\n",
       "      <td>1.125000</td>\n",
       "    </tr>\n",
       "    <tr>\n",
       "      <td>4</td>\n",
       "      <td>Change the background color on the main page. This will increase user engagement</td>\n",
       "      <td>1.000000</td>\n",
       "    </tr>\n",
       "  </tbody>\n",
       "</table>\n",
       "</div>"
      ],
      "text/plain": [
       "                                                                                                               hypothesis  \\\n",
       "8                                                        Launch a promotion that gives users discounts on their birthdays   \n",
       "0                                             Add two new channels for attracting traffic. This will bring 30% more users   \n",
       "7                                Add a subscription form to all the main pages. This will help you compile a mailing list   \n",
       "6                                 Show banners with current offers and sales on the main page. This will boost conversion   \n",
       "2          Add product recommendation blocks to the store's site. This will increase conversion and average purchase size   \n",
       "1                                                       Launch your own delivery service. This will shorten delivery time   \n",
       "5                                                     Add a customer review page. This will increase the number of orders   \n",
       "3  Change the category structure. This will increase conversion since users will find the products they want more quickly   \n",
       "4                                        Change the background color on the main page. This will increase user engagement   \n",
       "\n",
       "         ice  \n",
       "8  16.200000  \n",
       "0  13.333333  \n",
       "7  11.200000  \n",
       "6   8.000000  \n",
       "2   7.000000  \n",
       "1   2.000000  \n",
       "5   1.333333  \n",
       "3   1.125000  \n",
       "4   1.000000  "
      ]
     },
     "metadata": {},
     "output_type": "display_data"
    }
   ],
   "source": [
    "# Calculate the ICE score and store the scores in a new column.\n",
    "hypotheses_log['ice'] = (hypotheses_log['impact'] * hypotheses_log['confidence']) / hypotheses_log['effort']\n",
    "display(hypotheses_log[['hypothesis', 'ice']].sort_values(by='ice', ascending=False))"
   ]
  },
  {
   "cell_type": "markdown",
   "metadata": {},
   "source": [
    "According to the ICE score, \n",
    "\n",
    "1. Launch a promotion that gives users discounts on their birthdays.\n",
    "2. Add two new channels for attracting traffic. This will bring 30% more users.\n",
    "3. Add a subscription form to all the main pages. This will help you compile a mailing list.\n",
    "\n",
    "are the top three hypotheses with the biggest expected impact for the least cost. "
   ]
  },
  {
   "cell_type": "markdown",
   "metadata": {},
   "source": [
    "<div class=\"alert alert-success\" role=\"alert\">\n",
    "Reviewer's comment v. 2:\n",
    "\n",
    "Ok :)\n",
    "</div>"
   ]
  },
  {
   "cell_type": "markdown",
   "metadata": {},
   "source": [
    "### Task: Apply the RICE framework to prioritize hypotheses. Sort them in descending order of priority. <a class=\"anchor\" id=\"section_2_2\"></a>\n",
    "\n",
    "[Go back to the Table of Contents](#table_of_contents)"
   ]
  },
  {
   "cell_type": "markdown",
   "metadata": {},
   "source": [
    "We will be using the formula below:\n",
    "\n",
    "\\begin{equation*}\n",
    "{\\textrm{RICE score}} = \\frac{{\\textrm{Reach}} * {\\textrm{Impact}} * {\\textrm{Confidence}}}{{\\textrm{Effort}}}\n",
    "\\end{equation*}\n",
    "\n",
    "The four components rate the following:\n",
    "* Reach — how many users will be affected by the update you want to introduce\n",
    "* Impact — how strongly this update will affect the users, their experience, and their satisfaction with the product\n",
    "* Confidence — how sure you are that your product will affect them in this way\n",
    "* Effort — how much will it cost to test the hypothesis"
   ]
  },
  {
   "cell_type": "code",
   "execution_count": 32,
   "metadata": {},
   "outputs": [
    {
     "data": {
      "text/html": [
       "<div>\n",
       "<style scoped>\n",
       "    .dataframe tbody tr th:only-of-type {\n",
       "        vertical-align: middle;\n",
       "    }\n",
       "\n",
       "    .dataframe tbody tr th {\n",
       "        vertical-align: top;\n",
       "    }\n",
       "\n",
       "    .dataframe thead th {\n",
       "        text-align: right;\n",
       "    }\n",
       "</style>\n",
       "<table border=\"1\" class=\"dataframe\">\n",
       "  <thead>\n",
       "    <tr style=\"text-align: right;\">\n",
       "      <th></th>\n",
       "      <th>hypothesis</th>\n",
       "      <th>rice</th>\n",
       "    </tr>\n",
       "  </thead>\n",
       "  <tbody>\n",
       "    <tr>\n",
       "      <td>7</td>\n",
       "      <td>Add a subscription form to all the main pages. This will help you compile a mailing list</td>\n",
       "      <td>112.0</td>\n",
       "    </tr>\n",
       "    <tr>\n",
       "      <td>2</td>\n",
       "      <td>Add product recommendation blocks to the store's site. This will increase conversion and average purchase size</td>\n",
       "      <td>56.0</td>\n",
       "    </tr>\n",
       "    <tr>\n",
       "      <td>0</td>\n",
       "      <td>Add two new channels for attracting traffic. This will bring 30% more users</td>\n",
       "      <td>40.0</td>\n",
       "    </tr>\n",
       "    <tr>\n",
       "      <td>6</td>\n",
       "      <td>Show banners with current offers and sales on the main page. This will boost conversion</td>\n",
       "      <td>40.0</td>\n",
       "    </tr>\n",
       "    <tr>\n",
       "      <td>8</td>\n",
       "      <td>Launch a promotion that gives users discounts on their birthdays</td>\n",
       "      <td>16.2</td>\n",
       "    </tr>\n",
       "    <tr>\n",
       "      <td>3</td>\n",
       "      <td>Change the category structure. This will increase conversion since users will find the products they want more quickly</td>\n",
       "      <td>9.0</td>\n",
       "    </tr>\n",
       "    <tr>\n",
       "      <td>1</td>\n",
       "      <td>Launch your own delivery service. This will shorten delivery time</td>\n",
       "      <td>4.0</td>\n",
       "    </tr>\n",
       "    <tr>\n",
       "      <td>5</td>\n",
       "      <td>Add a customer review page. This will increase the number of orders</td>\n",
       "      <td>4.0</td>\n",
       "    </tr>\n",
       "    <tr>\n",
       "      <td>4</td>\n",
       "      <td>Change the background color on the main page. This will increase user engagement</td>\n",
       "      <td>3.0</td>\n",
       "    </tr>\n",
       "  </tbody>\n",
       "</table>\n",
       "</div>"
      ],
      "text/plain": [
       "                                                                                                               hypothesis  \\\n",
       "7                                Add a subscription form to all the main pages. This will help you compile a mailing list   \n",
       "2          Add product recommendation blocks to the store's site. This will increase conversion and average purchase size   \n",
       "0                                             Add two new channels for attracting traffic. This will bring 30% more users   \n",
       "6                                 Show banners with current offers and sales on the main page. This will boost conversion   \n",
       "8                                                        Launch a promotion that gives users discounts on their birthdays   \n",
       "3  Change the category structure. This will increase conversion since users will find the products they want more quickly   \n",
       "1                                                       Launch your own delivery service. This will shorten delivery time   \n",
       "5                                                     Add a customer review page. This will increase the number of orders   \n",
       "4                                        Change the background color on the main page. This will increase user engagement   \n",
       "\n",
       "    rice  \n",
       "7  112.0  \n",
       "2   56.0  \n",
       "0   40.0  \n",
       "6   40.0  \n",
       "8   16.2  \n",
       "3    9.0  \n",
       "1    4.0  \n",
       "5    4.0  \n",
       "4    3.0  "
      ]
     },
     "metadata": {},
     "output_type": "display_data"
    }
   ],
   "source": [
    "# Calculate the RICE score and store the scores in a new column.\n",
    "hypotheses_log['rice'] = (hypotheses_log['reach'] * hypotheses_log['impact'] * hypotheses_log['confidence']) / hypotheses_log['effort']\n",
    "display(hypotheses_log[['hypothesis', 'rice']].sort_values(by='rice', ascending=False))"
   ]
  },
  {
   "cell_type": "markdown",
   "metadata": {},
   "source": [
    "According to the RICE score, \n",
    "\n",
    "1. Add a subscription form to all the main pages. This will help you compile a mailing list.\n",
    "2. Add product recommendation blocks to the store's site. This will increase conversion and average purchase size.\n",
    "3. Add two new channels for attracting traffic. This will bring 30% more users.\n",
    "\n",
    "are the top three hypotheses. "
   ]
  },
  {
   "cell_type": "markdown",
   "metadata": {},
   "source": [
    "<div class=\"alert alert-success\" role=\"alert\">\n",
    "Reviewer's comment v. 2:\n",
    "\n",
    "You correctly calculated ICE scores and identified the highest priority hypotheses. It will be nice to show RICE and ICE scores on the same plot. This makes it easier to analyze.\n",
    "</div>"
   ]
  },
  {
   "cell_type": "markdown",
   "metadata": {},
   "source": [
    "### Task: Show how the prioritization of hypotheses changes when you use RICE instead of ICE . Provide an explanation for the changes. <a class=\"anchor\" id=\"section_2_3\"></a>\n",
    "\n",
    "[Go back to the Table of Contents](#table_of_contents)"
   ]
  },
  {
   "cell_type": "markdown",
   "metadata": {},
   "source": [
    "According to the ICE score, \n",
    "\n",
    "1. Launch a promotion that gives users discounts on their birthdays.\n",
    "2. Add two new channels for attracting traffic. This will bring 30% more users.\n",
    "3. Add a subscription form to all the main pages. This will help you compile a mailing list.\n",
    "\n",
    "are the top three hypotheses with the biggest expected impact for the least cost. The hypothesis \"Launch a promotion that gives users discounts on their birthdays.\" came out on top since it has the biggest score in the Impact component and the second biggest score in the Confidence component. \n",
    "\n",
    "According to the RICE score, \n",
    "\n",
    "1. Add a subscription form to all the main pages. This will help you compile a mailing list.\n",
    "2. Add product recommendation blocks to the store's site. This will increase conversion and average purchase size.\n",
    "3. Add two new channels for attracting traffic. This will bring 30% more users.\n",
    "\n",
    "are the top three hypotheses. The first and the third hypotheses had made it into the top three also in the ICE framework. Here, in the RICE framework, the hypothesis \"Show banners with current offers and sales on the main page.\" was ranked number one since it ranked the highest in the Reach component: in addition to the fact that it is one of the strongest hypotheses, it is deemed to affect the broadest number of users. "
   ]
  },
  {
   "cell_type": "markdown",
   "metadata": {},
   "source": [
    "<div class=\"alert alert-success\" role=\"alert\">\n",
    "Reviewer's comment v. 2:\n",
    "\n",
    "👍👍👍\n",
    "</div>"
   ]
  },
  {
   "cell_type": "markdown",
   "metadata": {},
   "source": [
    "## Part 2. A/B Test Analysis <a class=\"anchor\" id=\"chapter3\"></a>\n",
    "\n",
    "[Go back to the Table of Contents](#table_of_contents)\n",
    "\n",
    "You carried out an A/B test and got the results described in the files orders_us.csv and visits_us.csv. Analyze the A/B test."
   ]
  },
  {
   "cell_type": "code",
   "execution_count": 33,
   "metadata": {},
   "outputs": [
    {
     "data": {
      "text/html": [
       "<div>\n",
       "<style scoped>\n",
       "    .dataframe tbody tr th:only-of-type {\n",
       "        vertical-align: middle;\n",
       "    }\n",
       "\n",
       "    .dataframe tbody tr th {\n",
       "        vertical-align: top;\n",
       "    }\n",
       "\n",
       "    .dataframe thead th {\n",
       "        text-align: right;\n",
       "    }\n",
       "</style>\n",
       "<table border=\"1\" class=\"dataframe\">\n",
       "  <thead>\n",
       "    <tr style=\"text-align: right;\">\n",
       "      <th>group</th>\n",
       "      <th>A</th>\n",
       "      <th>B</th>\n",
       "      <th>date</th>\n",
       "    </tr>\n",
       "  </thead>\n",
       "  <tbody>\n",
       "    <tr>\n",
       "      <td>0</td>\n",
       "      <td>718.0</td>\n",
       "      <td>709.0</td>\n",
       "      <td>2019-08-01</td>\n",
       "    </tr>\n",
       "    <tr>\n",
       "      <td>1</td>\n",
       "      <td>618.0</td>\n",
       "      <td>580.0</td>\n",
       "      <td>2019-08-02</td>\n",
       "    </tr>\n",
       "    <tr>\n",
       "      <td>2</td>\n",
       "      <td>507.0</td>\n",
       "      <td>507.0</td>\n",
       "      <td>2019-08-03</td>\n",
       "    </tr>\n",
       "    <tr>\n",
       "      <td>3</td>\n",
       "      <td>712.0</td>\n",
       "      <td>767.0</td>\n",
       "      <td>2019-08-04</td>\n",
       "    </tr>\n",
       "    <tr>\n",
       "      <td>4</td>\n",
       "      <td>753.0</td>\n",
       "      <td>705.0</td>\n",
       "      <td>2019-08-05</td>\n",
       "    </tr>\n",
       "  </tbody>\n",
       "</table>\n",
       "</div>"
      ],
      "text/plain": [
       "group      A      B       date\n",
       "0      718.0  709.0 2019-08-01\n",
       "1      618.0  580.0 2019-08-02\n",
       "2      507.0  507.0 2019-08-03\n",
       "3      712.0  767.0 2019-08-04\n",
       "4      753.0  705.0 2019-08-05"
      ]
     },
     "metadata": {},
     "output_type": "display_data"
    }
   ],
   "source": [
    "# Transform the visits_no_duplicates dataset to a dataframe with a series of integers from 0 to 30 as the index.\n",
    "# Get the 'date' column as the index.\n",
    "visits_date = visits_rearranged.index\n",
    "visits_no_duplicates.columns = visits_no_duplicates.columns.add_categories('date')\n",
    "visits_no_duplicates['date'] = visits_date\n",
    "\n",
    "visits_index = pd.Series([0, 1, 2, 3, 4, 5, 6, 7, 8, 9, 10, 11, 12, 13, 14, 15, 16, 17, 18, 19, 20, 21, 22, 23, 24, 25, 26, 27, 28, 29, 30])\n",
    "visits_no_duplicates.set_index(visits_index, inplace=True)\n",
    "display(visits_no_duplicates.head())"
   ]
  },
  {
   "cell_type": "code",
   "execution_count": 34,
   "metadata": {},
   "outputs": [
    {
     "data": {
      "text/html": [
       "<div>\n",
       "<style scoped>\n",
       "    .dataframe tbody tr th:only-of-type {\n",
       "        vertical-align: middle;\n",
       "    }\n",
       "\n",
       "    .dataframe tbody tr th {\n",
       "        vertical-align: top;\n",
       "    }\n",
       "\n",
       "    .dataframe thead th {\n",
       "        text-align: right;\n",
       "    }\n",
       "</style>\n",
       "<table border=\"1\" class=\"dataframe\">\n",
       "  <thead>\n",
       "    <tr style=\"text-align: right;\">\n",
       "      <th></th>\n",
       "      <th>date</th>\n",
       "      <th>visits</th>\n",
       "      <th>group</th>\n",
       "    </tr>\n",
       "  </thead>\n",
       "  <tbody>\n",
       "    <tr>\n",
       "      <td>0</td>\n",
       "      <td>2019-08-01</td>\n",
       "      <td>718.0</td>\n",
       "      <td>A</td>\n",
       "    </tr>\n",
       "    <tr>\n",
       "      <td>1</td>\n",
       "      <td>2019-08-02</td>\n",
       "      <td>618.0</td>\n",
       "      <td>A</td>\n",
       "    </tr>\n",
       "    <tr>\n",
       "      <td>2</td>\n",
       "      <td>2019-08-03</td>\n",
       "      <td>507.0</td>\n",
       "      <td>A</td>\n",
       "    </tr>\n",
       "    <tr>\n",
       "      <td>3</td>\n",
       "      <td>2019-08-04</td>\n",
       "      <td>712.0</td>\n",
       "      <td>A</td>\n",
       "    </tr>\n",
       "    <tr>\n",
       "      <td>4</td>\n",
       "      <td>2019-08-05</td>\n",
       "      <td>753.0</td>\n",
       "      <td>A</td>\n",
       "    </tr>\n",
       "  </tbody>\n",
       "</table>\n",
       "</div>"
      ],
      "text/plain": [
       "        date  visits group\n",
       "0 2019-08-01   718.0     A\n",
       "1 2019-08-02   618.0     A\n",
       "2 2019-08-03   507.0     A\n",
       "3 2019-08-04   712.0     A\n",
       "4 2019-08-05   753.0     A"
      ]
     },
     "metadata": {},
     "output_type": "display_data"
    }
   ],
   "source": [
    "# Create a new dataframe.\n",
    "col_A = visits_no_duplicates[['date', 'A']]\n",
    "col_A.columns = ['date', 'visits']\n",
    "col_A['group'] = 'A'\n",
    "col_B = visits_no_duplicates[['date', 'B']]\n",
    "col_B.columns = ['date', 'visits']\n",
    "col_B['group'] = 'B'\n",
    "visits_log2 = pd.concat([col_A, col_B], axis=0)\n",
    "display(visits_log2.head())"
   ]
  },
  {
   "cell_type": "code",
   "execution_count": 35,
   "metadata": {},
   "outputs": [
    {
     "name": "stdout",
     "output_type": "stream",
     "text": [
      "<class 'pandas.core.frame.DataFrame'>\n",
      "Int64Index: 62 entries, 0 to 30\n",
      "Data columns (total 3 columns):\n",
      "date      62 non-null datetime64[ns]\n",
      "visits    62 non-null float64\n",
      "group     62 non-null category\n",
      "dtypes: category(1), datetime64[ns](1), float64(1)\n",
      "memory usage: 1.6 KB\n"
     ]
    }
   ],
   "source": [
    "# Verify the data types.\n",
    "#display(orders_no_duplicates.info())\n",
    "#visits_log2.info()\n",
    "\n",
    "# Convert the 'group' column in the visits_log2 dataset into category data type.\n",
    "visits_log2['group'] = visits_log2['group'].astype('category')\n",
    "visits_log2.info()"
   ]
  },
  {
   "cell_type": "markdown",
   "metadata": {},
   "source": [
    "### Task: Graph cumulative revenue by group. Make conclusions and conjectures. <a class=\"anchor\" id=\"section_1_1\"></a>\n",
    "\n",
    "[Go back to the Table of Contents](#table_of_contents)"
   ]
  },
  {
   "cell_type": "markdown",
   "metadata": {},
   "source": [
    "In order to prevent the peeking problem, analysts examine graphs. According to the central limit theorem, the values of cumulative metrics often converge and settle around a particular mean. Then a cumulative metric graph can help us decide whether to continue the test."
   ]
  },
  {
   "cell_type": "code",
   "execution_count": 36,
   "metadata": {},
   "outputs": [
    {
     "data": {
      "text/html": [
       "<div>\n",
       "<style scoped>\n",
       "    .dataframe tbody tr th:only-of-type {\n",
       "        vertical-align: middle;\n",
       "    }\n",
       "\n",
       "    .dataframe tbody tr th {\n",
       "        vertical-align: top;\n",
       "    }\n",
       "\n",
       "    .dataframe thead th {\n",
       "        text-align: right;\n",
       "    }\n",
       "</style>\n",
       "<table border=\"1\" class=\"dataframe\">\n",
       "  <thead>\n",
       "    <tr style=\"text-align: right;\">\n",
       "      <th></th>\n",
       "      <th>date</th>\n",
       "      <th>group</th>\n",
       "      <th>transaction_id</th>\n",
       "      <th>visitor_id</th>\n",
       "      <th>revenue</th>\n",
       "    </tr>\n",
       "  </thead>\n",
       "  <tbody>\n",
       "    <tr>\n",
       "      <td>0</td>\n",
       "      <td>2019-08-01</td>\n",
       "      <td>A</td>\n",
       "      <td>23</td>\n",
       "      <td>19</td>\n",
       "      <td>2266.599854</td>\n",
       "    </tr>\n",
       "    <tr>\n",
       "      <td>1</td>\n",
       "      <td>2019-08-02</td>\n",
       "      <td>A</td>\n",
       "      <td>19</td>\n",
       "      <td>18</td>\n",
       "      <td>1468.300049</td>\n",
       "    </tr>\n",
       "    <tr>\n",
       "      <td>2</td>\n",
       "      <td>2019-08-03</td>\n",
       "      <td>A</td>\n",
       "      <td>24</td>\n",
       "      <td>24</td>\n",
       "      <td>1815.199951</td>\n",
       "    </tr>\n",
       "    <tr>\n",
       "      <td>3</td>\n",
       "      <td>2019-08-04</td>\n",
       "      <td>A</td>\n",
       "      <td>11</td>\n",
       "      <td>11</td>\n",
       "      <td>675.500000</td>\n",
       "    </tr>\n",
       "    <tr>\n",
       "      <td>4</td>\n",
       "      <td>2019-08-05</td>\n",
       "      <td>A</td>\n",
       "      <td>22</td>\n",
       "      <td>22</td>\n",
       "      <td>1398.000000</td>\n",
       "    </tr>\n",
       "  </tbody>\n",
       "</table>\n",
       "</div>"
      ],
      "text/plain": [
       "        date group  transaction_id  visitor_id      revenue\n",
       "0 2019-08-01     A              23          19  2266.599854\n",
       "1 2019-08-02     A              19          18  1468.300049\n",
       "2 2019-08-03     A              24          24  1815.199951\n",
       "3 2019-08-04     A              11          11   675.500000\n",
       "4 2019-08-05     A              22          22  1398.000000"
      ]
     },
     "execution_count": 36,
     "metadata": {},
     "output_type": "execute_result"
    }
   ],
   "source": [
    "# Aggregate the orders data by date and group.\n",
    "orders_agg = orders_no_duplicates.groupby(['date', 'group']).agg({'transaction_id': 'count', 'visitor_id': 'nunique', 'revenue': 'sum'}).sort_values(by=['group', 'date']).reset_index()\n",
    "orders_agg.head()"
   ]
  },
  {
   "cell_type": "code",
   "execution_count": 37,
   "metadata": {},
   "outputs": [
    {
     "data": {
      "text/html": [
       "<div>\n",
       "<style scoped>\n",
       "    .dataframe tbody tr th:only-of-type {\n",
       "        vertical-align: middle;\n",
       "    }\n",
       "\n",
       "    .dataframe tbody tr th {\n",
       "        vertical-align: top;\n",
       "    }\n",
       "\n",
       "    .dataframe thead th {\n",
       "        text-align: right;\n",
       "    }\n",
       "</style>\n",
       "<table border=\"1\" class=\"dataframe\">\n",
       "  <thead>\n",
       "    <tr style=\"text-align: right;\">\n",
       "      <th></th>\n",
       "      <th>date</th>\n",
       "      <th>group</th>\n",
       "      <th>transaction_id</th>\n",
       "      <th>visitor_id</th>\n",
       "      <th>revenue</th>\n",
       "      <th>cum_orders</th>\n",
       "      <th>cum_shoppers</th>\n",
       "      <th>cum_revenue</th>\n",
       "    </tr>\n",
       "  </thead>\n",
       "  <tbody>\n",
       "    <tr>\n",
       "      <td>0</td>\n",
       "      <td>2019-08-01</td>\n",
       "      <td>A</td>\n",
       "      <td>23</td>\n",
       "      <td>19</td>\n",
       "      <td>2266.599854</td>\n",
       "      <td>23</td>\n",
       "      <td>19</td>\n",
       "      <td>2266.599854</td>\n",
       "    </tr>\n",
       "    <tr>\n",
       "      <td>1</td>\n",
       "      <td>2019-08-02</td>\n",
       "      <td>A</td>\n",
       "      <td>19</td>\n",
       "      <td>18</td>\n",
       "      <td>1468.300049</td>\n",
       "      <td>42</td>\n",
       "      <td>37</td>\n",
       "      <td>3734.899902</td>\n",
       "    </tr>\n",
       "    <tr>\n",
       "      <td>2</td>\n",
       "      <td>2019-08-03</td>\n",
       "      <td>A</td>\n",
       "      <td>24</td>\n",
       "      <td>24</td>\n",
       "      <td>1815.199951</td>\n",
       "      <td>66</td>\n",
       "      <td>61</td>\n",
       "      <td>5550.099609</td>\n",
       "    </tr>\n",
       "    <tr>\n",
       "      <td>3</td>\n",
       "      <td>2019-08-04</td>\n",
       "      <td>A</td>\n",
       "      <td>11</td>\n",
       "      <td>11</td>\n",
       "      <td>675.500000</td>\n",
       "      <td>77</td>\n",
       "      <td>72</td>\n",
       "      <td>6225.599609</td>\n",
       "    </tr>\n",
       "    <tr>\n",
       "      <td>4</td>\n",
       "      <td>2019-08-05</td>\n",
       "      <td>A</td>\n",
       "      <td>22</td>\n",
       "      <td>22</td>\n",
       "      <td>1398.000000</td>\n",
       "      <td>99</td>\n",
       "      <td>94</td>\n",
       "      <td>7623.599609</td>\n",
       "    </tr>\n",
       "  </tbody>\n",
       "</table>\n",
       "</div>"
      ],
      "text/plain": [
       "        date group  transaction_id  visitor_id      revenue  cum_orders  \\\n",
       "0 2019-08-01     A              23          19  2266.599854          23   \n",
       "1 2019-08-02     A              19          18  1468.300049          42   \n",
       "2 2019-08-03     A              24          24  1815.199951          66   \n",
       "3 2019-08-04     A              11          11   675.500000          77   \n",
       "4 2019-08-05     A              22          22  1398.000000          99   \n",
       "\n",
       "   cum_shoppers  cum_revenue  \n",
       "0            19  2266.599854  \n",
       "1            37  3734.899902  \n",
       "2            61  5550.099609  \n",
       "3            72  6225.599609  \n",
       "4            94  7623.599609  "
      ]
     },
     "execution_count": 37,
     "metadata": {},
     "output_type": "execute_result"
    }
   ],
   "source": [
    "# Find the cumulative data for orders. \n",
    "def cumulative_counts(group):\n",
    "    a = group['transaction_id'].cumsum()\n",
    "    b = group['visitor_id'].cumsum()\n",
    "    c = group['revenue'].cumsum()\n",
    "    group['cum_orders'] = a\n",
    "    group['cum_shoppers'] = b\n",
    "    group['cum_revenue'] = c\n",
    "    return group\n",
    "\n",
    "orders_agg = orders_agg.groupby('group').apply(cumulative_counts)\n",
    "orders_agg.head()"
   ]
  },
  {
   "cell_type": "code",
   "execution_count": 38,
   "metadata": {},
   "outputs": [
    {
     "data": {
      "text/html": [
       "<div>\n",
       "<style scoped>\n",
       "    .dataframe tbody tr th:only-of-type {\n",
       "        vertical-align: middle;\n",
       "    }\n",
       "\n",
       "    .dataframe tbody tr th {\n",
       "        vertical-align: top;\n",
       "    }\n",
       "\n",
       "    .dataframe thead th {\n",
       "        text-align: right;\n",
       "    }\n",
       "</style>\n",
       "<table border=\"1\" class=\"dataframe\">\n",
       "  <thead>\n",
       "    <tr style=\"text-align: right;\">\n",
       "      <th></th>\n",
       "      <th>date</th>\n",
       "      <th>group</th>\n",
       "      <th>visits</th>\n",
       "    </tr>\n",
       "  </thead>\n",
       "  <tbody>\n",
       "    <tr>\n",
       "      <td>0</td>\n",
       "      <td>2019-08-01</td>\n",
       "      <td>A</td>\n",
       "      <td>718.0</td>\n",
       "    </tr>\n",
       "    <tr>\n",
       "      <td>1</td>\n",
       "      <td>2019-08-02</td>\n",
       "      <td>A</td>\n",
       "      <td>618.0</td>\n",
       "    </tr>\n",
       "    <tr>\n",
       "      <td>2</td>\n",
       "      <td>2019-08-03</td>\n",
       "      <td>A</td>\n",
       "      <td>507.0</td>\n",
       "    </tr>\n",
       "    <tr>\n",
       "      <td>3</td>\n",
       "      <td>2019-08-04</td>\n",
       "      <td>A</td>\n",
       "      <td>712.0</td>\n",
       "    </tr>\n",
       "    <tr>\n",
       "      <td>4</td>\n",
       "      <td>2019-08-05</td>\n",
       "      <td>A</td>\n",
       "      <td>753.0</td>\n",
       "    </tr>\n",
       "  </tbody>\n",
       "</table>\n",
       "</div>"
      ],
      "text/plain": [
       "        date group  visits\n",
       "0 2019-08-01     A   718.0\n",
       "1 2019-08-02     A   618.0\n",
       "2 2019-08-03     A   507.0\n",
       "3 2019-08-04     A   712.0\n",
       "4 2019-08-05     A   753.0"
      ]
     },
     "execution_count": 38,
     "metadata": {},
     "output_type": "execute_result"
    }
   ],
   "source": [
    "# Aggregate the visits data.\n",
    "visits_agg = visits_log2.groupby(['date', 'group']).agg({'visits': 'sum'}).sort_values(by=['group', 'date']).reset_index()\n",
    "visits_agg.head()"
   ]
  },
  {
   "cell_type": "code",
   "execution_count": 39,
   "metadata": {},
   "outputs": [
    {
     "data": {
      "text/html": [
       "<div>\n",
       "<style scoped>\n",
       "    .dataframe tbody tr th:only-of-type {\n",
       "        vertical-align: middle;\n",
       "    }\n",
       "\n",
       "    .dataframe tbody tr th {\n",
       "        vertical-align: top;\n",
       "    }\n",
       "\n",
       "    .dataframe thead th {\n",
       "        text-align: right;\n",
       "    }\n",
       "</style>\n",
       "<table border=\"1\" class=\"dataframe\">\n",
       "  <thead>\n",
       "    <tr style=\"text-align: right;\">\n",
       "      <th></th>\n",
       "      <th>date</th>\n",
       "      <th>group</th>\n",
       "      <th>visits</th>\n",
       "      <th>cum_visits</th>\n",
       "    </tr>\n",
       "  </thead>\n",
       "  <tbody>\n",
       "    <tr>\n",
       "      <td>0</td>\n",
       "      <td>2019-08-01</td>\n",
       "      <td>A</td>\n",
       "      <td>718.0</td>\n",
       "      <td>718.0</td>\n",
       "    </tr>\n",
       "    <tr>\n",
       "      <td>1</td>\n",
       "      <td>2019-08-02</td>\n",
       "      <td>A</td>\n",
       "      <td>618.0</td>\n",
       "      <td>1336.0</td>\n",
       "    </tr>\n",
       "    <tr>\n",
       "      <td>2</td>\n",
       "      <td>2019-08-03</td>\n",
       "      <td>A</td>\n",
       "      <td>507.0</td>\n",
       "      <td>1843.0</td>\n",
       "    </tr>\n",
       "    <tr>\n",
       "      <td>3</td>\n",
       "      <td>2019-08-04</td>\n",
       "      <td>A</td>\n",
       "      <td>712.0</td>\n",
       "      <td>2555.0</td>\n",
       "    </tr>\n",
       "    <tr>\n",
       "      <td>4</td>\n",
       "      <td>2019-08-05</td>\n",
       "      <td>A</td>\n",
       "      <td>753.0</td>\n",
       "      <td>3308.0</td>\n",
       "    </tr>\n",
       "  </tbody>\n",
       "</table>\n",
       "</div>"
      ],
      "text/plain": [
       "        date group  visits  cum_visits\n",
       "0 2019-08-01     A   718.0       718.0\n",
       "1 2019-08-02     A   618.0      1336.0\n",
       "2 2019-08-03     A   507.0      1843.0\n",
       "3 2019-08-04     A   712.0      2555.0\n",
       "4 2019-08-05     A   753.0      3308.0"
      ]
     },
     "execution_count": 39,
     "metadata": {},
     "output_type": "execute_result"
    }
   ],
   "source": [
    "# Find the cumulative data for visits. \n",
    "def cumulative_counts2(group):\n",
    "    a = group['visits'].cumsum()\n",
    "    group['cum_visits'] = a    \n",
    "    return group\n",
    "\n",
    "visits_agg = visits_agg.groupby('group').apply(cumulative_counts2)\n",
    "visits_agg.head()"
   ]
  },
  {
   "cell_type": "code",
   "execution_count": 40,
   "metadata": {},
   "outputs": [
    {
     "data": {
      "text/html": [
       "<div>\n",
       "<style scoped>\n",
       "    .dataframe tbody tr th:only-of-type {\n",
       "        vertical-align: middle;\n",
       "    }\n",
       "\n",
       "    .dataframe tbody tr th {\n",
       "        vertical-align: top;\n",
       "    }\n",
       "\n",
       "    .dataframe thead th {\n",
       "        text-align: right;\n",
       "    }\n",
       "</style>\n",
       "<table border=\"1\" class=\"dataframe\">\n",
       "  <thead>\n",
       "    <tr style=\"text-align: right;\">\n",
       "      <th></th>\n",
       "      <th>date</th>\n",
       "      <th>group</th>\n",
       "      <th>transaction_id</th>\n",
       "      <th>visitor_id</th>\n",
       "      <th>revenue</th>\n",
       "      <th>cum_orders</th>\n",
       "      <th>cum_shoppers</th>\n",
       "      <th>cum_revenue</th>\n",
       "      <th>visits</th>\n",
       "      <th>cum_visits</th>\n",
       "    </tr>\n",
       "  </thead>\n",
       "  <tbody>\n",
       "    <tr>\n",
       "      <td>0</td>\n",
       "      <td>2019-08-01</td>\n",
       "      <td>A</td>\n",
       "      <td>23</td>\n",
       "      <td>19</td>\n",
       "      <td>2266.599854</td>\n",
       "      <td>23</td>\n",
       "      <td>19</td>\n",
       "      <td>2266.599854</td>\n",
       "      <td>718.0</td>\n",
       "      <td>718.0</td>\n",
       "    </tr>\n",
       "    <tr>\n",
       "      <td>1</td>\n",
       "      <td>2019-08-02</td>\n",
       "      <td>A</td>\n",
       "      <td>19</td>\n",
       "      <td>18</td>\n",
       "      <td>1468.300049</td>\n",
       "      <td>42</td>\n",
       "      <td>37</td>\n",
       "      <td>3734.899902</td>\n",
       "      <td>618.0</td>\n",
       "      <td>1336.0</td>\n",
       "    </tr>\n",
       "    <tr>\n",
       "      <td>2</td>\n",
       "      <td>2019-08-03</td>\n",
       "      <td>A</td>\n",
       "      <td>24</td>\n",
       "      <td>24</td>\n",
       "      <td>1815.199951</td>\n",
       "      <td>66</td>\n",
       "      <td>61</td>\n",
       "      <td>5550.099609</td>\n",
       "      <td>507.0</td>\n",
       "      <td>1843.0</td>\n",
       "    </tr>\n",
       "    <tr>\n",
       "      <td>3</td>\n",
       "      <td>2019-08-04</td>\n",
       "      <td>A</td>\n",
       "      <td>11</td>\n",
       "      <td>11</td>\n",
       "      <td>675.500000</td>\n",
       "      <td>77</td>\n",
       "      <td>72</td>\n",
       "      <td>6225.599609</td>\n",
       "      <td>712.0</td>\n",
       "      <td>2555.0</td>\n",
       "    </tr>\n",
       "    <tr>\n",
       "      <td>4</td>\n",
       "      <td>2019-08-05</td>\n",
       "      <td>A</td>\n",
       "      <td>22</td>\n",
       "      <td>22</td>\n",
       "      <td>1398.000000</td>\n",
       "      <td>99</td>\n",
       "      <td>94</td>\n",
       "      <td>7623.599609</td>\n",
       "      <td>753.0</td>\n",
       "      <td>3308.0</td>\n",
       "    </tr>\n",
       "  </tbody>\n",
       "</table>\n",
       "</div>"
      ],
      "text/plain": [
       "        date group  transaction_id  visitor_id      revenue  cum_orders  \\\n",
       "0 2019-08-01     A              23          19  2266.599854          23   \n",
       "1 2019-08-02     A              19          18  1468.300049          42   \n",
       "2 2019-08-03     A              24          24  1815.199951          66   \n",
       "3 2019-08-04     A              11          11   675.500000          77   \n",
       "4 2019-08-05     A              22          22  1398.000000          99   \n",
       "\n",
       "   cum_shoppers  cum_revenue  visits  cum_visits  \n",
       "0            19  2266.599854   718.0       718.0  \n",
       "1            37  3734.899902   618.0      1336.0  \n",
       "2            61  5550.099609   507.0      1843.0  \n",
       "3            72  6225.599609   712.0      2555.0  \n",
       "4            94  7623.599609   753.0      3308.0  "
      ]
     },
     "execution_count": 40,
     "metadata": {},
     "output_type": "execute_result"
    }
   ],
   "source": [
    "# Merge the data on orders and visits.\n",
    "cum_data = pd.merge(orders_agg, visits_agg, left_on=['date', 'group'], right_on=['date', 'group'])\n",
    "cum_data.head()"
   ]
  },
  {
   "cell_type": "code",
   "execution_count": 41,
   "metadata": {},
   "outputs": [
    {
     "data": {
      "image/png": "[encoded data removed]",
      "text/plain": [
       "<Figure size 432x288 with 1 Axes>"
      ]
     },
     "metadata": {
      "needs_background": "light"
     },
     "output_type": "display_data"
    }
   ],
   "source": [
    "# Prepare a dataframe with cumulative orders and cumulative revenue by day for group A.\n",
    "cum_revenue_a = cum_data[cum_data['group'] == 'A'][['date','cum_revenue', 'cum_orders']]\n",
    "\n",
    "# DataFrame with cumulative orders and cumulative revenue by day for group B.\n",
    "cum_revenue_b = cum_data[cum_data['group'] == 'B'][['date','cum_revenue', 'cum_orders']]\n",
    "\n",
    "# Plot the revenue graph for the groups. \n",
    "plt.plot(cum_revenue_a['date'], cum_revenue_a['cum_revenue'], label='A')\n",
    "plt.plot(cum_revenue_b['date'], cum_revenue_b['cum_revenue'], label='B')\n",
    "plt.xticks(rotation=90)\n",
    "plt.suptitle(\"Cumulative Revenue by Group\")\n",
    "plt.ylabel(\"Currency Units\", size='x-large')\n",
    "plt.xlabel(\"Date\", size= 'x-large')\n",
    "plt.legend();"
   ]
  },
  {
   "cell_type": "markdown",
   "metadata": {},
   "source": [
    "* The cumulative metrics of group A is consistently lower than those of group B. \n",
    "\n",
    "\n",
    "* Revenue is rising steadily throughout the whole period of the test. That is a good sign.\n",
    "\n",
    "\n",
    "* Both groups, especially group B, show spikes in revenue on certain dates. This may imply either a surge in the number of orders or the presence of very expensive orders in the sample. We will analyse such outliers later. \n",
    "\n",
    "\n",
    "* The graphs do not show a sign of converging and settling around a mean as stated by the central limit theorem. \n",
    "\n",
    "\n",
    "We will be analysing such outliers later on. "
   ]
  },
  {
   "cell_type": "markdown",
   "metadata": {},
   "source": [
    "<div class=\"alert alert-success\" role=\"alert\">\n",
    "Reviewer's comment v. 2:\n",
    "\n",
    "Yes, you correctly noted that we have an outliers.\n",
    "</div>"
   ]
  },
  {
   "cell_type": "markdown",
   "metadata": {},
   "source": [
    "### Task: Graph cumulative average order size by group. Make conclusions and conjectures. <a class=\"anchor\" id=\"section_1_1\"></a>\n",
    "\n",
    "[Go back to the Table of Contents](#table_of_contents)"
   ]
  },
  {
   "cell_type": "code",
   "execution_count": 42,
   "metadata": {},
   "outputs": [
    {
     "data": {
      "image/png": "[encoded data removed]",
      "text/plain": [
       "<Figure size 432x288 with 1 Axes>"
      ]
     },
     "metadata": {
      "needs_background": "light"
     },
     "output_type": "display_data"
    }
   ],
   "source": [
    "# Plot the average purchase size for each group by dividing the cumulative revenue by the cumulative number of orders.\n",
    "plt.plot(cum_revenue_a['date'], cum_revenue_a['cum_revenue'] / cum_revenue_a['cum_orders'], label='A')\n",
    "plt.plot(cum_revenue_b['date'], cum_revenue_b['cum_revenue'] / cum_revenue_b['cum_orders'], label='B')\n",
    "plt.legend()\n",
    "plt.xticks(rotation=90)\n",
    "plt.suptitle(\"Cumulative Average Order Size by Group\")\n",
    "plt.ylabel(\"Currency Units\", size='x-large')\n",
    "plt.xlabel(\"Date\", size= 'x-large');"
   ]
  },
  {
   "cell_type": "markdown",
   "metadata": {},
   "source": [
    "* Average purchase sizes fluctuate frequently throughout the period. \n",
    "\n",
    "\n",
    "* Group A and group B graphs behave as though they are almost a mirror image of each other: when the line of the group B graph rises at the beginning, the line of the group A graph line of the group A graph dips, and as the group A line starts recovering, the group B line starts going down with a delay of a few days. The two graph lines repeat this pattern a few times until the group B line culminates in a prominent peak then starts decreasing. If you extrapolate the two lines, they seem to converge given another month or so. \n",
    "\n",
    "\n",
    "* There are spikes, and there is especially a large one in group B. \n",
    "\n",
    "\n",
    "* The graph seems to stabilise for group A somewhat towards the end of the test, but has a sharp spike and continues to fall for group B. This surge may have been due to the presence of large, expensive orders. We need more data on this group to find the true average purchase size and establish its level."
   ]
  },
  {
   "cell_type": "markdown",
   "metadata": {},
   "source": [
    "<div class=\"alert alert-success\" role=\"alert\">\n",
    "Reviewer's comment v. 2:\n",
    "\n",
    "It's great that you analyzed the graph in details.\n",
    "</div>"
   ]
  },
  {
   "cell_type": "markdown",
   "metadata": {},
   "source": [
    "### Task: Graph the relative difference in cumulative average order size for group B compared with group A. Make conclusions and conjectures. <a class=\"anchor\" id=\"section_3_3\"></a>\n",
    "\n",
    "[Go back to the Table of Contents](#table_of_contents)"
   ]
  },
  {
   "cell_type": "markdown",
   "metadata": {},
   "source": [
    "To make differences between groups more obvious, analysts plot relative difference graphs. \n",
    "\n",
    "Each of its points is calculated using the equation below: \n",
    "\n",
    "\\begin{equation*}\n",
    "\\frac{\\textrm{group B cumulative metric}}{({\\textrm{group A cumulative metric}} - 1)}\n",
    "\\end{equation*}\n",
    "\n"
   ]
  },
  {
   "cell_type": "code",
   "execution_count": 43,
   "metadata": {},
   "outputs": [
    {
     "data": {
      "text/html": [
       "<div>\n",
       "<style scoped>\n",
       "    .dataframe tbody tr th:only-of-type {\n",
       "        vertical-align: middle;\n",
       "    }\n",
       "\n",
       "    .dataframe tbody tr th {\n",
       "        vertical-align: top;\n",
       "    }\n",
       "\n",
       "    .dataframe thead th {\n",
       "        text-align: right;\n",
       "    }\n",
       "</style>\n",
       "<table border=\"1\" class=\"dataframe\">\n",
       "  <thead>\n",
       "    <tr style=\"text-align: right;\">\n",
       "      <th></th>\n",
       "      <th>date</th>\n",
       "      <th>cum_revenue_a</th>\n",
       "      <th>cum_orders_a</th>\n",
       "      <th>cum_revenue_b</th>\n",
       "      <th>cum_orders_b</th>\n",
       "    </tr>\n",
       "  </thead>\n",
       "  <tbody>\n",
       "    <tr>\n",
       "      <td>0</td>\n",
       "      <td>2019-08-01</td>\n",
       "      <td>2266.599854</td>\n",
       "      <td>23</td>\n",
       "      <td>967.200012</td>\n",
       "      <td>17</td>\n",
       "    </tr>\n",
       "    <tr>\n",
       "      <td>1</td>\n",
       "      <td>2019-08-02</td>\n",
       "      <td>3734.899902</td>\n",
       "      <td>42</td>\n",
       "      <td>3535.300049</td>\n",
       "      <td>40</td>\n",
       "    </tr>\n",
       "    <tr>\n",
       "      <td>2</td>\n",
       "      <td>2019-08-03</td>\n",
       "      <td>5550.099609</td>\n",
       "      <td>66</td>\n",
       "      <td>4606.899902</td>\n",
       "      <td>54</td>\n",
       "    </tr>\n",
       "    <tr>\n",
       "      <td>3</td>\n",
       "      <td>2019-08-04</td>\n",
       "      <td>6225.599609</td>\n",
       "      <td>77</td>\n",
       "      <td>6138.500000</td>\n",
       "      <td>68</td>\n",
       "    </tr>\n",
       "    <tr>\n",
       "      <td>4</td>\n",
       "      <td>2019-08-05</td>\n",
       "      <td>7623.599609</td>\n",
       "      <td>99</td>\n",
       "      <td>7587.799805</td>\n",
       "      <td>89</td>\n",
       "    </tr>\n",
       "  </tbody>\n",
       "</table>\n",
       "</div>"
      ],
      "text/plain": [
       "        date  cum_revenue_a  cum_orders_a  cum_revenue_b  cum_orders_b\n",
       "0 2019-08-01    2266.599854            23     967.200012            17\n",
       "1 2019-08-02    3734.899902            42    3535.300049            40\n",
       "2 2019-08-03    5550.099609            66    4606.899902            54\n",
       "3 2019-08-04    6225.599609            77    6138.500000            68\n",
       "4 2019-08-05    7623.599609            99    7587.799805            89"
      ]
     },
     "execution_count": 43,
     "metadata": {},
     "output_type": "execute_result"
    }
   ],
   "source": [
    "# Join the cumulative revenue tables of the two groups.\n",
    "merged_cum_revenue = pd.merge(cum_revenue_a, cum_revenue_b, left_on='date', right_on='date', how='left', suffixes=['_a', '_b'])\n",
    "merged_cum_revenue.head()"
   ]
  },
  {
   "cell_type": "code",
   "execution_count": 44,
   "metadata": {},
   "outputs": [
    {
     "data": {
      "image/png": "[encoded data removed]",
      "text/plain": [
       "<Figure size 432x288 with 1 Axes>"
      ]
     },
     "metadata": {
      "needs_background": "light"
     },
     "output_type": "display_data"
    }
   ],
   "source": [
    "# Plot the relative difference between the cumulative average purchase size of group B, compared with that of group A.\n",
    "plt.plot(merged_cum_revenue['date'], (merged_cum_revenue['cum_revenue_b'] / merged_cum_revenue['cum_orders_b']) / (merged_cum_revenue['cum_revenue_a'] / merged_cum_revenue['cum_orders_a'])-1)\n",
    "\n",
    "# Add a reference line where y=0 to see the positive and negative differences more easily. \n",
    "plt.axhline(y=0, color='black', linestyle='--')\n",
    "plt.xticks(rotation=90)\n",
    "plt.suptitle(\"Relative Difference in Cumulative Average Order Size for Group B with respect to Group A\")\n",
    "plt.ylabel(\"Relative Difference (Ratio)\", size='x-large')\n",
    "plt.xlabel(\"Date\", size= 'x-large');"
   ]
  },
  {
   "cell_type": "markdown",
   "metadata": {},
   "source": [
    "* At several points the difference between the segments spikes. This means there must be some big orders and outliers! We will find them later.\n",
    "\n",
    "\n",
    "* At the beginning of the test, group B was lagging behind noticeably, but then it suddenly took the lead. Then its average purchase size fell, surged again even higher the previous time, and now it's steadily decreasing."
   ]
  },
  {
   "cell_type": "markdown",
   "metadata": {},
   "source": [
    "<div class=\"alert alert-success\" role=\"alert\">\n",
    "Reviewer's comment v. 2:\n",
    "\n",
    "Yes, you correctly noted that we have big orders.\n",
    "</div>"
   ]
  },
  {
   "cell_type": "markdown",
   "metadata": {},
   "source": [
    "### Task: Calculate each group's conversion rate as the ratio of orders to the number of visits for each day. Plot the daily conversion rates of the two groups and describe the difference. Draw conclusions and make conjectures. <a class=\"anchor\" id=\"section_3_4\"></a>\n",
    "\n",
    "[Go back to the Table of Contents](#table_of_contents)"
   ]
  },
  {
   "cell_type": "code",
   "execution_count": 45,
   "metadata": {},
   "outputs": [
    {
     "data": {
      "text/html": [
       "<div>\n",
       "<style scoped>\n",
       "    .dataframe tbody tr th:only-of-type {\n",
       "        vertical-align: middle;\n",
       "    }\n",
       "\n",
       "    .dataframe tbody tr th {\n",
       "        vertical-align: top;\n",
       "    }\n",
       "\n",
       "    .dataframe thead th {\n",
       "        text-align: right;\n",
       "    }\n",
       "</style>\n",
       "<table border=\"1\" class=\"dataframe\">\n",
       "  <thead>\n",
       "    <tr style=\"text-align: right;\">\n",
       "      <th></th>\n",
       "      <th>date</th>\n",
       "      <th>group</th>\n",
       "      <th>transaction_id</th>\n",
       "      <th>visitor_id</th>\n",
       "      <th>revenue</th>\n",
       "      <th>cum_orders</th>\n",
       "      <th>cum_shoppers</th>\n",
       "      <th>cum_revenue</th>\n",
       "      <th>visits</th>\n",
       "      <th>cum_visits</th>\n",
       "      <th>conversion</th>\n",
       "    </tr>\n",
       "  </thead>\n",
       "  <tbody>\n",
       "    <tr>\n",
       "      <td>0</td>\n",
       "      <td>2019-08-01</td>\n",
       "      <td>A</td>\n",
       "      <td>23</td>\n",
       "      <td>19</td>\n",
       "      <td>2266.599854</td>\n",
       "      <td>23</td>\n",
       "      <td>19</td>\n",
       "      <td>2266.599854</td>\n",
       "      <td>718.0</td>\n",
       "      <td>718.0</td>\n",
       "      <td>0.032033</td>\n",
       "    </tr>\n",
       "    <tr>\n",
       "      <td>1</td>\n",
       "      <td>2019-08-02</td>\n",
       "      <td>A</td>\n",
       "      <td>19</td>\n",
       "      <td>18</td>\n",
       "      <td>1468.300049</td>\n",
       "      <td>42</td>\n",
       "      <td>37</td>\n",
       "      <td>3734.899902</td>\n",
       "      <td>618.0</td>\n",
       "      <td>1336.0</td>\n",
       "      <td>0.031437</td>\n",
       "    </tr>\n",
       "    <tr>\n",
       "      <td>2</td>\n",
       "      <td>2019-08-03</td>\n",
       "      <td>A</td>\n",
       "      <td>24</td>\n",
       "      <td>24</td>\n",
       "      <td>1815.199951</td>\n",
       "      <td>66</td>\n",
       "      <td>61</td>\n",
       "      <td>5550.099609</td>\n",
       "      <td>507.0</td>\n",
       "      <td>1843.0</td>\n",
       "      <td>0.035811</td>\n",
       "    </tr>\n",
       "    <tr>\n",
       "      <td>3</td>\n",
       "      <td>2019-08-04</td>\n",
       "      <td>A</td>\n",
       "      <td>11</td>\n",
       "      <td>11</td>\n",
       "      <td>675.500000</td>\n",
       "      <td>77</td>\n",
       "      <td>72</td>\n",
       "      <td>6225.599609</td>\n",
       "      <td>712.0</td>\n",
       "      <td>2555.0</td>\n",
       "      <td>0.030137</td>\n",
       "    </tr>\n",
       "    <tr>\n",
       "      <td>4</td>\n",
       "      <td>2019-08-05</td>\n",
       "      <td>A</td>\n",
       "      <td>22</td>\n",
       "      <td>22</td>\n",
       "      <td>1398.000000</td>\n",
       "      <td>99</td>\n",
       "      <td>94</td>\n",
       "      <td>7623.599609</td>\n",
       "      <td>753.0</td>\n",
       "      <td>3308.0</td>\n",
       "      <td>0.029927</td>\n",
       "    </tr>\n",
       "  </tbody>\n",
       "</table>\n",
       "</div>"
      ],
      "text/plain": [
       "        date group  transaction_id  visitor_id      revenue  cum_orders  \\\n",
       "0 2019-08-01     A              23          19  2266.599854          23   \n",
       "1 2019-08-02     A              19          18  1468.300049          42   \n",
       "2 2019-08-03     A              24          24  1815.199951          66   \n",
       "3 2019-08-04     A              11          11   675.500000          77   \n",
       "4 2019-08-05     A              22          22  1398.000000          99   \n",
       "\n",
       "   cum_shoppers  cum_revenue  visits  cum_visits  conversion  \n",
       "0            19  2266.599854   718.0       718.0    0.032033  \n",
       "1            37  3734.899902   618.0      1336.0    0.031437  \n",
       "2            61  5550.099609   507.0      1843.0    0.035811  \n",
       "3            72  6225.599609   712.0      2555.0    0.030137  \n",
       "4            94  7623.599609   753.0      3308.0    0.029927  "
      ]
     },
     "execution_count": 45,
     "metadata": {},
     "output_type": "execute_result"
    }
   ],
   "source": [
    "# Calculate the daily converversion rate as the ratio of the number of orders to the number of visits for each group for each day.\n",
    "# And store it in the new column 'conversion' in the 'cumulative_data' table. \n",
    "cum_data['conversion'] = cum_data['cum_orders'] / cum_data['cum_visits']\n",
    "cum_data.head()"
   ]
  },
  {
   "cell_type": "code",
   "execution_count": 46,
   "metadata": {},
   "outputs": [
    {
     "data": {
      "image/png": "[encoded data removed]",
      "text/plain": [
       "<Figure size 432x288 with 1 Axes>"
      ]
     },
     "metadata": {
      "needs_background": "light"
     },
     "output_type": "display_data"
    }
   ],
   "source": [
    "# Store the data on each group in separate tables.\n",
    "cum_data_a = cum_data[cum_data['group']=='A']\n",
    "cum_data_b = cum_data[cum_data['group']=='B']\n",
    "\n",
    "# Plot the daily cumulative conversion graph of each group.\n",
    "plt.plot(cum_data_a['date'], cum_data_a['conversion'], label='A')\n",
    "plt.plot(cum_data_b['date'], cum_data_b['conversion'], label='B')\n",
    "plt.legend()\n",
    "plt.xticks(rotation=90)\n",
    "plt.suptitle(\"Conversion Rate per Group\")\n",
    "plt.ylabel(\"Conversion Rate\", size='x-large')\n",
    "plt.xlabel(\"Date\", size= 'x-large');"
   ]
  },
  {
   "cell_type": "markdown",
   "metadata": {},
   "source": [
    "* The conversion rate of group B started off much lower than that of group A. \n",
    "\n",
    "\n",
    "* The rate spiked for both groups within the space of a couple of days of each other and dropped sharply. \n",
    "\n",
    "\n",
    "* The rate of group B overtook that of group A.\n",
    "\n",
    "\n",
    "* Despite the various peaks, the conversion rate of group B shows a sign that it will stabilise around 0.029. It also loos like the conversion rate of group A will also stabilise around 0.026 after many peaks and troughs. "
   ]
  },
  {
   "cell_type": "markdown",
   "metadata": {},
   "source": [
    "<div class=\"alert alert-success\" role=\"alert\">\n",
    "Reviewer's comment v. 2:\n",
    "\n",
    "Yes, we have a fluctuations, but it oscillates around the same values. So, we can conclude that the conversion rate is stabilized by the end of the test.\n",
    "</div>"
   ]
  },
  {
   "cell_type": "markdown",
   "metadata": {},
   "source": [
    "**Addendum**\n",
    "\n",
    "Graph the relative difference in cumulative conversion rate for group B compared with group A."
   ]
  },
  {
   "cell_type": "code",
   "execution_count": 47,
   "metadata": {},
   "outputs": [],
   "source": [
    "# Prepare a data slice containing the date and conversion rate for each group. \n",
    "cum_conversion_a = cum_data_a[['date', 'conversion']]\n",
    "cum_conversion_b = cum_data_b[['date', 'conversion']]\n",
    "#display(cum_conversion_a.head())\n",
    "#cum_conversion_b.head()"
   ]
  },
  {
   "cell_type": "code",
   "execution_count": 48,
   "metadata": {},
   "outputs": [
    {
     "data": {
      "text/html": [
       "<div>\n",
       "<style scoped>\n",
       "    .dataframe tbody tr th:only-of-type {\n",
       "        vertical-align: middle;\n",
       "    }\n",
       "\n",
       "    .dataframe tbody tr th {\n",
       "        vertical-align: top;\n",
       "    }\n",
       "\n",
       "    .dataframe thead th {\n",
       "        text-align: right;\n",
       "    }\n",
       "</style>\n",
       "<table border=\"1\" class=\"dataframe\">\n",
       "  <thead>\n",
       "    <tr style=\"text-align: right;\">\n",
       "      <th></th>\n",
       "      <th>date</th>\n",
       "      <th>conversion_a</th>\n",
       "      <th>conversion_b</th>\n",
       "    </tr>\n",
       "  </thead>\n",
       "  <tbody>\n",
       "    <tr>\n",
       "      <td>0</td>\n",
       "      <td>2019-08-01</td>\n",
       "      <td>0.032033</td>\n",
       "      <td>0.023977</td>\n",
       "    </tr>\n",
       "    <tr>\n",
       "      <td>1</td>\n",
       "      <td>2019-08-02</td>\n",
       "      <td>0.031437</td>\n",
       "      <td>0.031032</td>\n",
       "    </tr>\n",
       "    <tr>\n",
       "      <td>2</td>\n",
       "      <td>2019-08-03</td>\n",
       "      <td>0.035811</td>\n",
       "      <td>0.030067</td>\n",
       "    </tr>\n",
       "    <tr>\n",
       "      <td>3</td>\n",
       "      <td>2019-08-04</td>\n",
       "      <td>0.030137</td>\n",
       "      <td>0.026531</td>\n",
       "    </tr>\n",
       "    <tr>\n",
       "      <td>4</td>\n",
       "      <td>2019-08-05</td>\n",
       "      <td>0.029927</td>\n",
       "      <td>0.027234</td>\n",
       "    </tr>\n",
       "  </tbody>\n",
       "</table>\n",
       "</div>"
      ],
      "text/plain": [
       "        date  conversion_a  conversion_b\n",
       "0 2019-08-01      0.032033      0.023977\n",
       "1 2019-08-02      0.031437      0.031032\n",
       "2 2019-08-03      0.035811      0.030067\n",
       "3 2019-08-04      0.030137      0.026531\n",
       "4 2019-08-05      0.029927      0.027234"
      ]
     },
     "execution_count": 48,
     "metadata": {},
     "output_type": "execute_result"
    }
   ],
   "source": [
    "# Join the cumulative conversion tables of the two groups. \n",
    "merged_cum_conversion = pd.merge(cum_conversion_a, cum_conversion_b, left_on='date', right_on='date', how='left', suffixes=['_a', '_b'])\n",
    "merged_cum_conversion.head()"
   ]
  },
  {
   "cell_type": "code",
   "execution_count": 49,
   "metadata": {},
   "outputs": [
    {
     "data": {
      "image/png": "[encoded data removed]",
      "text/plain": [
       "<Figure size 432x288 with 1 Axes>"
      ]
     },
     "metadata": {
      "needs_background": "light"
     },
     "output_type": "display_data"
    }
   ],
   "source": [
    "# Plot the relative difference between the cumulative conversion rate of group B, compared with that of group A.\n",
    "plt.plot(merged_cum_conversion['date'], \n",
    "         (merged_cum_conversion['conversion_b'] / merged_cum_conversion['conversion_a'] - 1))\n",
    "plt.xticks(rotation=90)\n",
    "plt.suptitle(\"Relative Difference in Cumulative Conversion Rate for Group B with respect to Group A\")\n",
    "plt.ylabel(\"Relative Difference (Ratio)\", size='x-large')\n",
    "plt.xlabel(\"Date\", size= 'x-large');\n",
    "\n",
    "# Add a reference line where y=0 to see the positive and negative differences more easily. \n",
    "plt.axhline(y=0, color='black', linestyle='--');"
   ]
  },
  {
   "cell_type": "markdown",
   "metadata": {},
   "source": [
    "At the beginning of the test, group B was lagging behind noticeably, but then it picked itself up and overtook the rate of group A. The rate was unstable with frequent ups and downs and was in downward trend in general but was on its way up towards the end of the test. "
   ]
  },
  {
   "cell_type": "markdown",
   "metadata": {},
   "source": [
    "<div class=\"alert alert-success\" role=\"alert\">\n",
    "Reviewer's comment v. 2:\n",
    "\n",
    "👍👍👍\n",
    "</div>"
   ]
  },
  {
   "cell_type": "markdown",
   "metadata": {},
   "source": [
    "### Task: Plot a scatter chart of the number of orders per user. Make conclusions and conjectures. <a class=\"anchor\" id=\"section_3_5\"></a>\n",
    "\n",
    "\n",
    "[Go back to the Table of Contents](#table_of_contents)"
   ]
  },
  {
   "cell_type": "markdown",
   "metadata": {},
   "source": [
    "We had observed in our graphs spikes in revenue in both groups (especially in group B) on certain dates, which seemed to imply either a surge in the number of orders or the presence of very expensive orders in the sample. We will investigate those outliers and surges now since they can distort the results of the A/B test. "
   ]
  },
  {
   "cell_type": "code",
   "execution_count": 50,
   "metadata": {},
   "outputs": [
    {
     "data": {
      "text/html": [
       "<div>\n",
       "<style scoped>\n",
       "    .dataframe tbody tr th:only-of-type {\n",
       "        vertical-align: middle;\n",
       "    }\n",
       "\n",
       "    .dataframe tbody tr th {\n",
       "        vertical-align: top;\n",
       "    }\n",
       "\n",
       "    .dataframe thead th {\n",
       "        text-align: right;\n",
       "    }\n",
       "</style>\n",
       "<table border=\"1\" class=\"dataframe\">\n",
       "  <thead>\n",
       "    <tr style=\"text-align: right;\">\n",
       "      <th></th>\n",
       "      <th>user_id</th>\n",
       "      <th>orders</th>\n",
       "    </tr>\n",
       "  </thead>\n",
       "  <tbody>\n",
       "    <tr>\n",
       "      <td>908</td>\n",
       "      <td>3967698036</td>\n",
       "      <td>3</td>\n",
       "    </tr>\n",
       "    <tr>\n",
       "      <td>55</td>\n",
       "      <td>249864742</td>\n",
       "      <td>3</td>\n",
       "    </tr>\n",
       "    <tr>\n",
       "      <td>478</td>\n",
       "      <td>2108163459</td>\n",
       "      <td>3</td>\n",
       "    </tr>\n",
       "    <tr>\n",
       "      <td>687</td>\n",
       "      <td>2988190573</td>\n",
       "      <td>3</td>\n",
       "    </tr>\n",
       "    <tr>\n",
       "      <td>890</td>\n",
       "      <td>3908431265</td>\n",
       "      <td>3</td>\n",
       "    </tr>\n",
       "  </tbody>\n",
       "</table>\n",
       "</div>"
      ],
      "text/plain": [
       "        user_id  orders\n",
       "908  3967698036       3\n",
       "55    249864742       3\n",
       "478  2108163459       3\n",
       "687  2988190573       3\n",
       "890  3908431265       3"
      ]
     },
     "execution_count": 50,
     "metadata": {},
     "output_type": "execute_result"
    }
   ],
   "source": [
    "# Group the data by unique users to find the number of orders per user.\n",
    "n_orders_per_user = orders_no_duplicates.drop(['group', 'revenue', 'date'], axis=1).groupby('visitor_id', as_index=False).agg({'transaction_id': 'nunique'})\n",
    "\n",
    "# Rename the columns for readability.\n",
    "n_orders_per_user.columns = ['user_id', 'orders']\n",
    "\n",
    "# Sort the table in descending order. \n",
    "n_orders_per_user.sort_values(by='orders', ascending=False).head()"
   ]
  },
  {
   "cell_type": "code",
   "execution_count": 51,
   "metadata": {},
   "outputs": [
    {
     "data": {
      "text/plain": [
       "user_id    36\n",
       "orders     36\n",
       "dtype: int64"
      ]
     },
     "metadata": {},
     "output_type": "display_data"
    },
    {
     "data": {
      "text/plain": [
       "973"
      ]
     },
     "metadata": {},
     "output_type": "display_data"
    },
    {
     "data": {
      "image/png": "[encoded data removed]",
      "text/plain": [
       "<Figure size 432x288 with 1 Axes>"
      ]
     },
     "metadata": {
      "needs_background": "light"
     },
     "output_type": "display_data"
    }
   ],
   "source": [
    "# Find the number of unique users who placed more than one order. \n",
    "n_multiple_orders = n_orders_per_user[n_orders_per_user['orders'] > 1].count()\n",
    "n_users = len(n_orders_per_user)\n",
    "display(n_multiple_orders)\n",
    "display(n_users)\n",
    "\n",
    "# Plot a distribution histogram with the number of orders per user.\n",
    "plt.hist(n_orders_per_user['orders'])\n",
    "plt.suptitle(\"Distribution of Number of Unique Users who Placed Orders\")\n",
    "plt.ylabel(\"Number of Unique Users\", size='x-large')\n",
    "plt.xlabel(\"Number of Orders per User\", size= 'x-large');"
   ]
  },
  {
   "cell_type": "markdown",
   "metadata": {},
   "source": [
    "* We saw in our preliminary data analysis that a user places 1.04 orders on average, and indeed, we see in the histogram that is what the majority does. \n",
    "\n",
    "\n",
    "* The histogram also shows us that there users who placed 2 and 3 orders each. Of the 973 unique users, there are 36 such users. "
   ]
  },
  {
   "cell_type": "code",
   "execution_count": 52,
   "metadata": {},
   "outputs": [
    {
     "data": {
      "image/png": "[encoded data removed]",
      "text/plain": [
       "<Figure size 432x288 with 1 Axes>"
      ]
     },
     "metadata": {
      "needs_background": "light"
     },
     "output_type": "display_data"
    }
   ],
   "source": [
    "# Plot a scatter chart with the number of orders per user.\n",
    "x_values = pd.Series(range(0, len(n_orders_per_user)))\n",
    "plt.scatter(x_values, n_orders_per_user['orders'])\n",
    "plt.suptitle(\"Scatter Plot of Number of Orders per User\")\n",
    "plt.ylabel(\"Number of Orders\", size='x-large')\n",
    "plt.xlabel(\"User ID\", size= 'x-large');"
   ]
  },
  {
   "cell_type": "markdown",
   "metadata": {},
   "source": [
    "The scatter plot confirms that there are users who placed two to three orders. \n",
    "\n",
    "Let us now determine whether we should consider them anomalies or not. "
   ]
  },
  {
   "cell_type": "markdown",
   "metadata": {},
   "source": [
    "<div class=\"alert alert-success\" role=\"alert\">\n",
    "Reviewer's comment v. 2:\n",
    "\n",
    "Ok :)\n",
    "</div>"
   ]
  },
  {
   "cell_type": "markdown",
   "metadata": {},
   "source": [
    "### Task: Calculate the 95th and 99th percentiles for the number of orders per user. Define the point at which a data point becomes an anomaly. <a class=\"anchor\" id=\"section_3_6\"></a>\n",
    "\n",
    "[Go back to the Table of Contents](#table_of_contents)"
   ]
  },
  {
   "cell_type": "code",
   "execution_count": 53,
   "metadata": {},
   "outputs": [
    {
     "data": {
      "text/plain": [
       "array([1., 1., 2.])"
      ]
     },
     "metadata": {},
     "output_type": "display_data"
    }
   ],
   "source": [
    "# Calculate percentiles for the number of orders per user.\n",
    "display(np.percentile(n_orders_per_user['orders'], [90, 95, 99])) "
   ]
  },
  {
   "cell_type": "markdown",
   "metadata": {},
   "source": [
    "Only 1% of the users made two or more orders. So we can define users who place more than one order to be considered as anomalies. "
   ]
  },
  {
   "cell_type": "markdown",
   "metadata": {},
   "source": [
    "<div class=\"alert alert-success\" role=\"alert\">\n",
    "Reviewer's comment v. 2:\n",
    "\n",
    "Excellent, the 90th, 95th and 99th percentiles of the number of orders per user were calculated correctly.\n",
    "</div>"
   ]
  },
  {
   "cell_type": "markdown",
   "metadata": {},
   "source": [
    "<div class=\"alert alert-success\" role=\"alert\">\n",
    "Reviewer's comment v. 2:\n",
    "\n",
    "Yes, we can consider more than one order as an anomaly.\n",
    "</div>"
   ]
  },
  {
   "cell_type": "markdown",
   "metadata": {},
   "source": [
    "### Task: Plot a scatter chart of order prices. Make conclusions and conjectures. <a class=\"anchor\" id=\"section_3_7\"></a>\n",
    "\n",
    "[Go back to the Table of Contents](#table_of_contents)"
   ]
  },
  {
   "cell_type": "code",
   "execution_count": 54,
   "metadata": {},
   "outputs": [
    {
     "data": {
      "text/html": [
       "<div>\n",
       "<style scoped>\n",
       "    .dataframe tbody tr th:only-of-type {\n",
       "        vertical-align: middle;\n",
       "    }\n",
       "\n",
       "    .dataframe tbody tr th {\n",
       "        vertical-align: top;\n",
       "    }\n",
       "\n",
       "    .dataframe thead th {\n",
       "        text-align: right;\n",
       "    }\n",
       "</style>\n",
       "<table border=\"1\" class=\"dataframe\">\n",
       "  <thead>\n",
       "    <tr style=\"text-align: right;\">\n",
       "      <th></th>\n",
       "      <th>transaction_id</th>\n",
       "      <th>visitor_id</th>\n",
       "      <th>date</th>\n",
       "      <th>revenue</th>\n",
       "      <th>group</th>\n",
       "    </tr>\n",
       "  </thead>\n",
       "  <tbody>\n",
       "    <tr>\n",
       "      <td>425</td>\n",
       "      <td>590470918</td>\n",
       "      <td>1920142716</td>\n",
       "      <td>2019-08-19</td>\n",
       "      <td>19920.400391</td>\n",
       "      <td>B</td>\n",
       "    </tr>\n",
       "    <tr>\n",
       "      <td>1196</td>\n",
       "      <td>3936777065</td>\n",
       "      <td>2108080724</td>\n",
       "      <td>2019-08-15</td>\n",
       "      <td>3120.100098</td>\n",
       "      <td>B</td>\n",
       "    </tr>\n",
       "    <tr>\n",
       "      <td>1136</td>\n",
       "      <td>666610489</td>\n",
       "      <td>1307669133</td>\n",
       "      <td>2019-08-13</td>\n",
       "      <td>1425.800049</td>\n",
       "      <td>A</td>\n",
       "    </tr>\n",
       "    <tr>\n",
       "      <td>744</td>\n",
       "      <td>3668308183</td>\n",
       "      <td>888512513</td>\n",
       "      <td>2019-08-27</td>\n",
       "      <td>1335.599976</td>\n",
       "      <td>B</td>\n",
       "    </tr>\n",
       "    <tr>\n",
       "      <td>743</td>\n",
       "      <td>3603576309</td>\n",
       "      <td>4133034833</td>\n",
       "      <td>2019-08-09</td>\n",
       "      <td>1050.000000</td>\n",
       "      <td>A</td>\n",
       "    </tr>\n",
       "    <tr>\n",
       "      <td>1103</td>\n",
       "      <td>1348774318</td>\n",
       "      <td>1164614297</td>\n",
       "      <td>2019-08-12</td>\n",
       "      <td>1025.800049</td>\n",
       "      <td>A</td>\n",
       "    </tr>\n",
       "    <tr>\n",
       "      <td>1099</td>\n",
       "      <td>316924019</td>\n",
       "      <td>148427295</td>\n",
       "      <td>2019-08-12</td>\n",
       "      <td>1015.900024</td>\n",
       "      <td>A</td>\n",
       "    </tr>\n",
       "    <tr>\n",
       "      <td>949</td>\n",
       "      <td>1347999392</td>\n",
       "      <td>887908475</td>\n",
       "      <td>2019-08-21</td>\n",
       "      <td>930.000000</td>\n",
       "      <td>A</td>\n",
       "    </tr>\n",
       "    <tr>\n",
       "      <td>940</td>\n",
       "      <td>2420050534</td>\n",
       "      <td>4003628586</td>\n",
       "      <td>2019-08-08</td>\n",
       "      <td>905.799988</td>\n",
       "      <td>B</td>\n",
       "    </tr>\n",
       "    <tr>\n",
       "      <td>613</td>\n",
       "      <td>4071177889</td>\n",
       "      <td>3931967268</td>\n",
       "      <td>2019-08-07</td>\n",
       "      <td>830.299988</td>\n",
       "      <td>B</td>\n",
       "    </tr>\n",
       "  </tbody>\n",
       "</table>\n",
       "</div>"
      ],
      "text/plain": [
       "      transaction_id  visitor_id       date       revenue group\n",
       "425        590470918  1920142716 2019-08-19  19920.400391     B\n",
       "1196      3936777065  2108080724 2019-08-15   3120.100098     B\n",
       "1136       666610489  1307669133 2019-08-13   1425.800049     A\n",
       "744       3668308183   888512513 2019-08-27   1335.599976     B\n",
       "743       3603576309  4133034833 2019-08-09   1050.000000     A\n",
       "1103      1348774318  1164614297 2019-08-12   1025.800049     A\n",
       "1099       316924019   148427295 2019-08-12   1015.900024     A\n",
       "949       1347999392   887908475 2019-08-21    930.000000     A\n",
       "940       2420050534  4003628586 2019-08-08    905.799988     B\n",
       "613       4071177889  3931967268 2019-08-07    830.299988     B"
      ]
     },
     "execution_count": 54,
     "metadata": {},
     "output_type": "execute_result"
    }
   ],
   "source": [
    "# Sort the data by 'revenue'. \n",
    "orders_no_duplicates.sort_values(by='revenue', ascending=False).head(10)"
   ]
  },
  {
   "cell_type": "markdown",
   "metadata": {},
   "source": [
    "We saw in the preliminary data analysis that the average revenue generated per transaction (i.e. order price) was 131.49 currency units with the median of 50.20 currency units. According to the boxplot, anything above 130.00 currency units was an outlier."
   ]
  },
  {
   "cell_type": "code",
   "execution_count": 55,
   "metadata": {},
   "outputs": [
    {
     "data": {
      "image/png": "[encoded data removed]",
      "text/plain": [
       "<Figure size 432x288 with 1 Axes>"
      ]
     },
     "metadata": {
      "needs_background": "light"
     },
     "output_type": "display_data"
    }
   ],
   "source": [
    "# Plot a distribution histogram of order prices.\n",
    "plt.hist(orders_no_duplicates['revenue'])\n",
    "plt.suptitle(\"Distribution of Order Prices per User\")\n",
    "plt.ylabel(\"Number of Users\", size='x-large')\n",
    "plt.xlabel(\"Order Price\", size= 'x-large');"
   ]
  },
  {
   "cell_type": "markdown",
   "metadata": {},
   "source": [
    "The majority of the order prices fall in the range of 0 and, say, 2500 currency units. However, the fact that the x-axis extends as far as 20000, it means that there are order prices as large as that (i.e. 19920.40 currency units) as we saw. But the fact that we do not even see any blue bars above 2500 along the x-axis means that those high values are scarce. "
   ]
  },
  {
   "cell_type": "code",
   "execution_count": 56,
   "metadata": {},
   "outputs": [
    {
     "data": {
      "image/png": "[encoded data removed]",
      "text/plain": [
       "<Figure size 432x288 with 1 Axes>"
      ]
     },
     "metadata": {
      "needs_background": "light"
     },
     "output_type": "display_data"
    }
   ],
   "source": [
    "# Plot a scatter chart with the order prices per user.\n",
    "x_values = pd.Series(range(0, len(orders_no_duplicates)))\n",
    "plt.scatter(x_values, orders_no_duplicates['revenue'])\n",
    "plt.suptitle(\"Scatter Plot of Order Prices per User\")\n",
    "plt.ylabel(\"Order Price\", size='x-large')\n",
    "plt.xlabel(\"User ID\", size= 'x-large');"
   ]
  },
  {
   "cell_type": "markdown",
   "metadata": {},
   "source": [
    "There are two very clearly visible datapoints above the cluster. They must belong to 19920.40 and 3120.10 currency units. \n",
    "\n",
    "\n",
    "Let us now determine whether we should consider them anomalies or not."
   ]
  },
  {
   "cell_type": "markdown",
   "metadata": {},
   "source": [
    "### Task: Calculate the 95th and 99th percentiles of order prices. Define the point at which a data point becomes an anomaly. <a class=\"anchor\" id=\"section_3_8\"></a>\n",
    "\n",
    "[Go back to the Table of Contents](#table_of_contents)"
   ]
  },
  {
   "cell_type": "code",
   "execution_count": 57,
   "metadata": {},
   "outputs": [
    {
     "data": {
      "text/plain": [
       "array([280.79998779, 414.27500153, 830.29998779])"
      ]
     },
     "metadata": {},
     "output_type": "display_data"
    }
   ],
   "source": [
    "# Calculate percentiles for the order prices.\n",
    "display(np.percentile(orders_no_duplicates['revenue'], [90, 95, 99])) "
   ]
  },
  {
   "cell_type": "markdown",
   "metadata": {},
   "source": [
    "Not more than 5% of orders cost more than 414.28 currency units, and not more than 1% cost more than 830.30 currency units. \n",
    "\n",
    "\n",
    "If it were based on the graph, above 3000 currency units would have been set as the limit for abnormal orders to exclude those at prices such as 3120 and 19920 currency units. However, the percentile calculation tells us that a price of 830 currency units is already extreme since it enters the top 1%. In general, the top 1-5% of observed values are referred to as being \"the most extreme\" and are filtered out. So, let us define the price of 830.30 currency units as the cut-off point beyond which data points become anomalies. "
   ]
  },
  {
   "cell_type": "markdown",
   "metadata": {},
   "source": [
    "<div class=\"alert alert-success\" role=\"alert\">\n",
    "Reviewer's comment v. 2:\n",
    "\n",
    "Yes, correct values of percentiles of order prices.\n",
    "</div>"
   ]
  },
  {
   "cell_type": "markdown",
   "metadata": {},
   "source": [
    "<div class=\"alert alert-danger\" role=\"alert\">\n",
    "Reviewer's comment v. 2:\n",
    "\n",
    "Could you please define the point at which a data becomes an anomaly?\n",
    "</div>"
   ]
  },
  {
   "cell_type": "markdown",
   "metadata": {},
   "source": [
    "<div class=\"alert alert-info\" role=\"alert\">\n",
    "Reviewer's comment v. 2:\n",
    "\n",
    "I have added a definition for a data point beyond which data become anomalies.\n",
    "</div>"
   ]
  },
  {
   "cell_type": "markdown",
   "metadata": {},
   "source": [
    "<div class=\"alert alert-success\" role=\"alert\">\n",
    "Reviewer's comment v. 3:\n",
    "\n",
    "Great, the point at which a data point becomes an anomaly is correctly defined.\n",
    "</div>"
   ]
  },
  {
   "cell_type": "markdown",
   "metadata": {},
   "source": [
    "### Task: Find the statistical significance of the difference in conversion between the groups using the raw data. Make conclusions and conjectures. <a class=\"anchor\" id=\"section_3_9\"></a>\n",
    "\n",
    "[Go back to the Table of Contents](#table_of_contents)"
   ]
  },
  {
   "cell_type": "markdown",
   "metadata": {},
   "source": [
    "The conversion rate of a group is calculated by dividing the sum of the orders by the total number of unique visitors to the online store. We will prepare a sample for each group whereby the sample will consist of all the unique users belonging to a group with an indication as to whether s/he made (one or more) orders or not. We will then calculate the statistical significance of the difference in conversion between the groups by applying the Mann-Whitney test. \n",
    "\n",
    "The null hypothesis is that there is no difference between the two groups' conversion rates. The alternative hypothesis says otherwise, that there is a difference. "
   ]
  },
  {
   "cell_type": "markdown",
   "metadata": {},
   "source": [
    "<div class=\"alert alert-success\" role=\"alert\">\n",
    "Reviewer's comment v. 3:\n",
    "\n",
    "Hypotheses formulation is correct :)\n",
    "</div>"
   ]
  },
  {
   "cell_type": "code",
   "execution_count": 58,
   "metadata": {},
   "outputs": [
    {
     "data": {
      "text/html": [
       "<div>\n",
       "<style scoped>\n",
       "    .dataframe tbody tr th:only-of-type {\n",
       "        vertical-align: middle;\n",
       "    }\n",
       "\n",
       "    .dataframe tbody tr th {\n",
       "        vertical-align: top;\n",
       "    }\n",
       "\n",
       "    .dataframe thead th {\n",
       "        text-align: right;\n",
       "    }\n",
       "</style>\n",
       "<table border=\"1\" class=\"dataframe\">\n",
       "  <thead>\n",
       "    <tr style=\"text-align: right;\">\n",
       "      <th></th>\n",
       "      <th>user_id</th>\n",
       "      <th>orders</th>\n",
       "    </tr>\n",
       "  </thead>\n",
       "  <tbody>\n",
       "    <tr>\n",
       "      <td>58</td>\n",
       "      <td>611059232</td>\n",
       "      <td>3</td>\n",
       "    </tr>\n",
       "    <tr>\n",
       "      <td>211</td>\n",
       "      <td>2108163459</td>\n",
       "      <td>3</td>\n",
       "    </tr>\n",
       "    <tr>\n",
       "      <td>310</td>\n",
       "      <td>2988190573</td>\n",
       "      <td>3</td>\n",
       "    </tr>\n",
       "    <tr>\n",
       "      <td>409</td>\n",
       "      <td>3908431265</td>\n",
       "      <td>3</td>\n",
       "    </tr>\n",
       "    <tr>\n",
       "      <td>416</td>\n",
       "      <td>3967698036</td>\n",
       "      <td>3</td>\n",
       "    </tr>\n",
       "  </tbody>\n",
       "</table>\n",
       "</div>"
      ],
      "text/plain": [
       "        user_id  orders\n",
       "58    611059232       3\n",
       "211  2108163459       3\n",
       "310  2988190573       3\n",
       "409  3908431265       3\n",
       "416  3967698036       3"
      ]
     },
     "metadata": {},
     "output_type": "display_data"
    },
    {
     "data": {
      "text/html": [
       "<div>\n",
       "<style scoped>\n",
       "    .dataframe tbody tr th:only-of-type {\n",
       "        vertical-align: middle;\n",
       "    }\n",
       "\n",
       "    .dataframe tbody tr th {\n",
       "        vertical-align: top;\n",
       "    }\n",
       "\n",
       "    .dataframe thead th {\n",
       "        text-align: right;\n",
       "    }\n",
       "</style>\n",
       "<table border=\"1\" class=\"dataframe\">\n",
       "  <thead>\n",
       "    <tr style=\"text-align: right;\">\n",
       "      <th></th>\n",
       "      <th>user_id</th>\n",
       "      <th>orders</th>\n",
       "    </tr>\n",
       "  </thead>\n",
       "  <tbody>\n",
       "    <tr>\n",
       "      <td>347</td>\n",
       "      <td>2742574263</td>\n",
       "      <td>3</td>\n",
       "    </tr>\n",
       "    <tr>\n",
       "      <td>33</td>\n",
       "      <td>249864742</td>\n",
       "      <td>3</td>\n",
       "    </tr>\n",
       "    <tr>\n",
       "      <td>486</td>\n",
       "      <td>3935952912</td>\n",
       "      <td>2</td>\n",
       "    </tr>\n",
       "    <tr>\n",
       "      <td>256</td>\n",
       "      <td>2025197455</td>\n",
       "      <td>2</td>\n",
       "    </tr>\n",
       "    <tr>\n",
       "      <td>418</td>\n",
       "      <td>3332057097</td>\n",
       "      <td>2</td>\n",
       "    </tr>\n",
       "  </tbody>\n",
       "</table>\n",
       "</div>"
      ],
      "text/plain": [
       "        user_id  orders\n",
       "347  2742574263       3\n",
       "33    249864742       3\n",
       "486  3935952912       2\n",
       "256  2025197455       2\n",
       "418  3332057097       2"
      ]
     },
     "execution_count": 58,
     "metadata": {},
     "output_type": "execute_result"
    }
   ],
   "source": [
    "# Prepare a table of unique users and the number of orders each user placed for each group. \n",
    "orders_users_a = orders_no_duplicates[orders_no_duplicates['group'] == 'A'].groupby('visitor_id', as_index=False).agg({'transaction_id': 'nunique'})\n",
    "orders_users_b = orders_no_duplicates[orders_no_duplicates['group'] == 'B'].groupby('visitor_id', as_index=False).agg({'transaction_id': 'nunique'})\n",
    "\n",
    "# Rename the columns for readability.\n",
    "orders_users_a.columns = ['user_id', 'orders']\n",
    "orders_users_b.columns = ['user_id', 'orders']\n",
    "\n",
    "display(orders_users_a.sort_values(by='orders', ascending=False).head())\n",
    "orders_users_b.sort_values(by='orders', ascending=False).head()"
   ]
  },
  {
   "cell_type": "code",
   "execution_count": 59,
   "metadata": {},
   "outputs": [
    {
     "data": {
      "text/plain": [
       "0.0    1\n",
       "1.0    1\n",
       "2.0    1\n",
       "3.0    1\n",
       "4.0    1\n",
       "Name: orders, dtype: int64"
      ]
     },
     "metadata": {},
     "output_type": "display_data"
    },
    {
     "data": {
      "text/plain": [
       "0.0    1\n",
       "1.0    1\n",
       "2.0    1\n",
       "3.0    1\n",
       "4.0    1\n",
       "Name: orders, dtype: int64"
      ]
     },
     "execution_count": 59,
     "metadata": {},
     "output_type": "execute_result"
    }
   ],
   "source": [
    "# Prepare a sample from each group based on the data of online store visits. \n",
    "\n",
    "# Get the total number of unique users who visited the online store in each group. \n",
    "# This includes both those who placed orders and those who did not. \n",
    "total_n_visits_a = visits_log2[visits_log2['group']=='A']['visits'].sum()\n",
    "total_n_visits_b = visits_log2[visits_log2['group']=='B']['visits'].sum()\n",
    "\n",
    "# Subtract the number of users who made orders from the total number of users who visited the online store.\n",
    "# This will be the upper limit of the indexes in the new list of all the users, some of who ordered and others who did not. \n",
    "index_limit_a = total_n_visits_a - len(orders_users_a['orders'])\n",
    "index_limit_b = total_n_visits_b - len(orders_users_b['orders'])\n",
    "\n",
    "# Create a list of all the users by joining two lists: a list of users who ordered, and another list, who did not. \n",
    "sample_a = pd.concat([orders_users_a['orders'], pd.Series(0, index=np.arange(index_limit_a), name = 'orders')],axis=0)\n",
    "sample_b = pd.concat([orders_users_b['orders'], pd.Series(0, index=np.arange(index_limit_b), name = 'orders')],axis=0) \n",
    "\n",
    "display(sample_a.head())\n",
    "sample_b.head()"
   ]
  },
  {
   "cell_type": "markdown",
   "metadata": {},
   "source": [
    "<div class=\"alert alert-danger\" role=\"alert\">\n",
    "Reviewer's comment v. 2:\n",
    "\n",
    "Please formulate the null and alternative hypotheses explicitly.\n",
    "</div>"
   ]
  },
  {
   "cell_type": "markdown",
   "metadata": {},
   "source": [
    "<div class=\"alert alert-info\" role=\"alert\">\n",
    "Reviewer's comment v. 2:\n",
    "\n",
    "I have added the null and alternative hypotheses. \n",
    "</div>"
   ]
  },
  {
   "cell_type": "markdown",
   "metadata": {},
   "source": [
    "<div class=\"alert alert-success\" role=\"alert\">\n",
    "Reviewer's comment v. 3:\n",
    "\n",
    "👍👍👍\n",
    "</div>"
   ]
  },
  {
   "cell_type": "code",
   "execution_count": 60,
   "metadata": {},
   "outputs": [
    {
     "name": "stdout",
     "output_type": "stream",
     "text": [
      "Conversion rate of group A: 0.025\n",
      "Conversion rate of group B: 0.029\n",
      "p-value: 0.005\n",
      "Relative conversion gain for group B: 0.160\n"
     ]
    }
   ],
   "source": [
    "# Find the conversion rate by dividing the sum of orders by the number of visits in each group.\n",
    "print(\"Conversion rate of group A: {0:.3f}\".format(sample_a.mean())) \n",
    "print(\"Conversion rate of group B: {0:.3f}\".format(sample_b.mean()))\n",
    "\n",
    "# Apply the Mann-Whitney test to calculate the statistical significance of the difference in conversion between the groups. \n",
    "print(\"p-value: {0:.3f}\".format(st.mannwhitneyu(sample_a, sample_b)[1]))\n",
    "\n",
    "# Find the relative conversion gain for group B.\n",
    "print(\"Relative conversion gain for group B: {0:.3f}\".format(sample_b.mean()/sample_a.mean()-1)) "
   ]
  },
  {
   "cell_type": "markdown",
   "metadata": {},
   "source": [
    "* p-value < 0.05, so we can reject the null hypothesis since there is a statistically significant difference in conversion between the two groups.\n",
    "\n",
    "* The relative conversion gain of group B is 16%. "
   ]
  },
  {
   "cell_type": "markdown",
   "metadata": {},
   "source": [
    "<div class=\"alert alert-success\" role=\"alert\">\n",
    "Reviewer's comment v. 2:\n",
    "\n",
    "Yes, there is a statistical significant difference in conversion.\n",
    "</div>"
   ]
  },
  {
   "cell_type": "markdown",
   "metadata": {},
   "source": [
    "### Task: Find the statistical significance of the difference in average order size between the groups using the raw data. Make conclusions and conjectures. <a class=\"anchor\" id=\"section_3_10\"></a>\n",
    "\n",
    "[Go back to the Table of Contents](#table_of_contents)"
   ]
  },
  {
   "cell_type": "markdown",
   "metadata": {},
   "source": [
    "We will prepare a sample for each group whereby the sample will consist of the prices of orders placed by each unique user belonging to a group. We will then calculate the statistical significance of the difference in the order sizes between the groups by applying the Mann-Whitney test. \n",
    "\n",
    "The null hypothesis is that there is no difference between the two groups' average order sizes. The alternative hypothesis says otherwise, that there is a difference. "
   ]
  },
  {
   "cell_type": "markdown",
   "metadata": {},
   "source": [
    "<div class=\"alert alert-danger\" role=\"alert\">\n",
    "Reviewer's comment v. 2:\n",
    "\n",
    "Could you please add hypotheses formulation?\n",
    "</div>"
   ]
  },
  {
   "cell_type": "markdown",
   "metadata": {},
   "source": [
    "<div class=\"alert alert-info\" role=\"alert\">\n",
    "Reviewer's comment v. 2:\n",
    "\n",
    "I have added the null and alternative hypotheses. \n",
    "</div>"
   ]
  },
  {
   "cell_type": "markdown",
   "metadata": {},
   "source": [
    "<div class=\"alert alert-success\" role=\"alert\">\n",
    "Reviewer's comment v. 3:\n",
    "\n",
    "Good job that you formulated the null and alternative hypotheses explicitly.\n",
    "</div>"
   ]
  },
  {
   "cell_type": "code",
   "execution_count": 61,
   "metadata": {},
   "outputs": [
    {
     "name": "stdout",
     "output_type": "stream",
     "text": [
      "p-value: 0.431\n",
      "Relative difference in average order size between groups A and B: 0.278\n"
     ]
    }
   ],
   "source": [
    "# Prepare the data slices for each group.  \n",
    "order_sizes_a = orders_no_duplicates[orders_no_duplicates['group']=='A']['revenue']\n",
    "order_sizes_b = orders_no_duplicates[orders_no_duplicates['group']=='B']['revenue']\n",
    "\n",
    "# Apply the Mann-Whitney test to calculate the statistical significance of the difference in the average order size \n",
    "# between the groups. \n",
    "print(\"p-value: {0:.3f}\".format(st.mannwhitneyu(order_sizes_a, order_sizes_b)[1]))\n",
    "\n",
    "# Find the relative difference in average order size between the groups.\n",
    "print(\"Relative difference in average order size between groups A and B: {0:.3f}\".format(order_sizes_b.mean() / order_sizes_a.mean()-1)) "
   ]
  },
  {
   "cell_type": "markdown",
   "metadata": {},
   "source": [
    "* p-value > 0.05, so there is no reason to reject the null hypothesis and conclude that average order size differs between the groups.\n",
    "\n",
    "* The average order size of group B is 0.278 times larger than that of group A."
   ]
  },
  {
   "cell_type": "markdown",
   "metadata": {},
   "source": [
    "<div class=\"alert alert-success\" role=\"alert\">\n",
    "Reviewer's comment v. 2:\n",
    "\n",
    "Yes, there is no a statistical significant difference in average order size.\n",
    "</div>"
   ]
  },
  {
   "cell_type": "markdown",
   "metadata": {},
   "source": [
    "### Task:Find the statistical significance of the difference in conversion between the groups using the filtered data. Make conclusions and conjectures.<a class=\"anchor\" id=\"section_3_11\"></a>\n",
    "\n",
    "[Go back to the Table of Contents](#table_of_contents)"
   ]
  },
  {
   "cell_type": "markdown",
   "metadata": {},
   "source": [
    "The 95th and 99th percentiles for average order size were 414.28 and 830.30 currency units, respectively. The 95th and 99th percentiles for the number of orders per user were 1 and 2 orders, respectively.\n",
    "\n",
    "\n",
    "In order to prepare filtered data, we need to define the criteria for \"anomalous users\" in terms of average order size and number of orders per user. \n",
    "\n",
    "\n",
    "Let us define anomalous users as those who placed two or more orders or a single order costing more than 830 currency units. This will result in 1% of users with the largest numbers of orders and/or with the most expensive orders. "
   ]
  },
  {
   "cell_type": "code",
   "execution_count": 62,
   "metadata": {},
   "outputs": [
    {
     "data": {
      "text/plain": [
       "1099    148427295\n",
       "33      249864742\n",
       "36      366673373\n",
       "51      406208401\n",
       "67      522292794\n",
       "dtype: int64"
      ]
     },
     "metadata": {},
     "output_type": "display_data"
    },
    {
     "data": {
      "text/plain": [
       "48"
      ]
     },
     "metadata": {},
     "output_type": "display_data"
    }
   ],
   "source": [
    "# Make a data slice with the users who placed two or more orders.\n",
    "users_many_orders = pd.concat([orders_users_a[orders_users_a['orders'] > 1]['user_id'], orders_users_b[orders_users_b['orders'] > 1]['user_id']], axis = 0)\n",
    "\n",
    " # Make a data slice with the users who placed orders costing more than 830 currency units. We'll join them in a table called abnormalUsers.\n",
    "users_expensive_orders = orders_no_duplicates[orders_no_duplicates['revenue'] > 830]['visitor_id']\n",
    "\n",
    "anomalous_users = pd.concat([users_many_orders, users_expensive_orders], axis = 0).drop_duplicates().sort_values()\n",
    "\n",
    "display(anomalous_users.head())\n",
    "display(anomalous_users.shape[0]) "
   ]
  },
  {
   "cell_type": "markdown",
   "metadata": {},
   "source": [
    "We have 48 anomalous users in total."
   ]
  },
  {
   "cell_type": "markdown",
   "metadata": {},
   "source": [
    "<div class=\"alert alert-success\" role=\"alert\">\n",
    "Reviewer's comment v. 2:\n",
    "\n",
    "Yes, the number of an anomaly users is correctly defined.\n",
    "</div>"
   ]
  },
  {
   "cell_type": "markdown",
   "metadata": {},
   "source": [
    "Let us try to find out how their actions affected the test results. \n",
    "\n",
    "We will calculate the statistical significance of the differences in conversion between the groups, using filtered data where the anomalous users have been excluded. "
   ]
  },
  {
   "cell_type": "code",
   "execution_count": 63,
   "metadata": {},
   "outputs": [
    {
     "data": {
      "text/plain": [
       "0.0    1\n",
       "1.0    1\n",
       "2.0    1\n",
       "3.0    1\n",
       "4.0    1\n",
       "Name: orders, dtype: int64"
      ]
     },
     "metadata": {},
     "output_type": "display_data"
    },
    {
     "data": {
      "text/plain": [
       "0.0    1\n",
       "1.0    1\n",
       "2.0    1\n",
       "3.0    1\n",
       "4.0    1\n",
       "Name: orders, dtype: int64"
      ]
     },
     "execution_count": 63,
     "metadata": {},
     "output_type": "execute_result"
    }
   ],
   "source": [
    "# Prepare samples of the number of orders per user for each test group.\n",
    "sample_a_filtered = pd.concat([orders_users_a[np.logical_not(orders_users_a['user_id'].isin(anomalous_users))]['orders'], \n",
    "                               pd.Series(0, index=np.arange(index_limit_a), name='orders')],axis=0)\n",
    "\n",
    "sample_b_filtered = pd.concat([orders_users_b[np.logical_not(orders_users_b['user_id'].isin(anomalous_users))]['orders'], \n",
    "                               pd.Series(0, index=np.arange(index_limit_b), name='orders')],axis=0) \n",
    "\n",
    "display(sample_a_filtered.head())\n",
    "sample_b_filtered.head()"
   ]
  },
  {
   "cell_type": "code",
   "execution_count": 64,
   "metadata": {},
   "outputs": [
    {
     "name": "stdout",
     "output_type": "stream",
     "text": [
      "Conversion rate of group A (filtered): 0.023\n",
      "Conversion rate of group B (filtered): 0.027\n",
      "p-value (filtered): 0.004\n",
      "Relative conversion gain for group B (filtered): 0.191\n"
     ]
    }
   ],
   "source": [
    "# Find the conversion rate by dividing the sum of orders by the number of visits in each group.\n",
    "print(\"Conversion rate of group A (filtered): {0:.3f}\".format(sample_a_filtered.mean())) \n",
    "print(\"Conversion rate of group B (filtered): {0:.3f}\".format(sample_b_filtered.mean()))\n",
    "\n",
    "# Apply the Mann-Whitney test to calculate the statistical significance of the difference in conversion. \n",
    "# between the groups using the filtered data. \n",
    "print(\"p-value (filtered): {0:.3f}\".format(st.mannwhitneyu(sample_a_filtered, sample_b_filtered)[1]))\n",
    "\n",
    "# Find the relative conversion gain for group B.\n",
    "print(\"Relative conversion gain for group B (filtered): {0:.3f}\".format(sample_b_filtered.mean()/sample_a_filtered.mean()-1)) "
   ]
  },
  {
   "cell_type": "markdown",
   "metadata": {},
   "source": [
    "The results for conversion hardly changed but the relative conversion gain for group B increased.\n",
    "\n",
    "<br>o Conversion rate of group A (raw cf. filtered): 0.025 cf. 0.023 -> down by 0.2 percentage points\n",
    "<br>o Conversion rate of group B (raw cf. filtered): 0.029 cf. 0.027 -> down by 0.2 percentage points\n",
    "<br>o p-value (raw cf. filtered): 0.005 cf. 0.004 -> down by 0.1 percentage points. So the difference is still statistically significant. \n",
    "<br>o Relative conversion gain for group B (raw cf. filtered): 0.160 cf. 0.191 -> up by 3.1 percetange points"
   ]
  },
  {
   "cell_type": "markdown",
   "metadata": {},
   "source": [
    "<div class=\"alert alert-success\" role=\"alert\">\n",
    "Reviewer's comment v. 2:\n",
    "\n",
    "Yes, you are right :)\n",
    "</div>"
   ]
  },
  {
   "cell_type": "markdown",
   "metadata": {},
   "source": [
    "### Task: Find the statistical significance of the difference in average order size between the groups using the filtered data. Make conclusions and conjectures. <a class=\"anchor\" id=\"section_3_12\"></a>\n",
    "\n",
    "[Go back to the Table of Contents](#table_of_contents)"
   ]
  },
  {
   "cell_type": "code",
   "execution_count": 65,
   "metadata": {},
   "outputs": [
    {
     "name": "stdout",
     "output_type": "stream",
     "text": [
      "p-value (filtered): 0.465\n",
      "Relative difference in average order size between groups A and B (filtered): 0.023\n"
     ]
    }
   ],
   "source": [
    "# Prepare the data slices for each group with the filtered data.  \n",
    "order_sizes_a_filtered = orders_no_duplicates[np.logical_and(orders_no_duplicates['group']=='A', np.logical_not(orders_no_duplicates['visitor_id'].isin(anomalous_users)))]['revenue']\n",
    "order_sizes_b_filtered = orders_no_duplicates[np.logical_and(orders_no_duplicates['group']=='B', np.logical_not(orders_no_duplicates['visitor_id'].isin(anomalous_users)))]['revenue']\n",
    "\n",
    "# Apply the Mann-Whitney test to calculate the statistical significance of the difference in the average order size \n",
    "# between the groups. \n",
    "print(\"p-value (filtered): {0:.3f}\".format(st.mannwhitneyu(order_sizes_a_filtered, order_sizes_b_filtered)[1]))\n",
    "\n",
    "# Find the relative difference in average order size between the groups.\n",
    "print(\"Relative difference in average order size between groups A and B (filtered): {0:.3f}\".format(order_sizes_b_filtered.mean() / order_sizes_a_filtered.mean()-1)) "
   ]
  },
  {
   "cell_type": "markdown",
   "metadata": {},
   "source": [
    "The p-value increased from 0.431 by 3.4 percentage points, indicating that the difference is not statistically significant, but now the difference between the groups is 2.3% instead of 27.8%. In other words, the difference in the average order size between the two groups decreased considerably. \n",
    "\n",
    "Although our general conclusions from the test did not change, this exercise demonstrates clearly how anomalies can affect A/B test results."
   ]
  },
  {
   "cell_type": "markdown",
   "metadata": {},
   "source": [
    "<div class=\"alert alert-success\" role=\"alert\">\n",
    "Reviewer's comment v. 2:\n",
    "\n",
    "Yes, you have made a correct conclusion :)\n",
    "</div>"
   ]
  },
  {
   "cell_type": "markdown",
   "metadata": {},
   "source": [
    "### Task: Make a decision based on the test results. <a class=\"anchor\" id=\"section_3_13\"></a>\n",
    "\n",
    "[Go back to the Table of Contents](#table_of_contents)\n",
    "\n",
    "The possible decisions are:\n",
    "1. Stop the test, consider one of the groups the leader.\n",
    "2. Stop the test, conclude that there is no difference between the groups.\n",
    "3. Continue the test."
   ]
  },
  {
   "cell_type": "markdown",
   "metadata": {},
   "source": [
    "The conversion rate and the average order size were calculated for test groups A and B, and the statistical significance of the difference in the two metrics was assessed by applying the Mann-Whitney test. The procedure was repeated twice: once prior to removing anomalous data on user behaviours that do not conform to the majority norm (such as more number of orders per user and exceptionally large single order prices), and once after the removal. \n",
    "\n",
    "\n",
    "The facts are as follows:\n",
    "* Relative conversion gain of group B: increased from 16% to 19% before and after the removal of anomalous data. respectively.\n",
    "\n",
    "\n",
    "* Difference in conversion rate: found to be statistically significant both before and after the removal of anomalous data. \n",
    "\n",
    "\n",
    "* Difference in average order size: group B was 27.8% larger than group A prior to the removal of anomalous data, and after the removal, the difference decreased to 2.3%. The difference was not found to be statistically significant both before and after the removal of anomalous data.\n",
    "\n",
    "\n",
    "* The graph of the relative difference in cumulative conversion rate between the groups shows us that group B started off slowly at the beginning of the test but overtook group A in the second week and stayed on top. After repeating many peaks and troughs, it was on the rise again towards the end of the test. Not enough time was given for the metric to converge and stabilise, so we cannot draw a definitive conclusion from this graph. At the current pace, we will need at least another month to see a sign of stabilisation. \n",
    "\n",
    "![alt text](rel_diff_cum_conv_rate_AB.png \"Comparison of Relative Difference in Cumulative Conversion Rate\")\n",
    "\n",
    "\n",
    "* The graph of the relative difference in cumulative average order size between the groups shows us that group B quickly rose in the first couple of days of the test and peaked, outperforming group A. It took a dive for a week or so doing a little worse than group A, but again quickly recovered and again surpassed group A. It showed a general decline in the second half of the test and the trend continued towards the end of the test. Again, not enough time was given for the metric to converge and stabilise, so we cannot draw a definitive conclusion from this graph. At the current pace, we will need at least another month to see a sign of stabilisation.\n",
    "\n",
    "![alt text](rel_diff_cum_avg_order_size_AB.PNG \"Comparison of Relative Difference in Cumulative Average Order Size\")\n",
    "\n",
    "\n",
    "\n",
    "Presumably, group A is the Control Group and group B is the Treatment Group. \n",
    "Based on the facts above, we can say that:\n",
    "* the factors applied to the Treatment Group managed to improve the conversion rate\n",
    "* the factors applied to the Treatment Group, however, did not make much difference to the average order size \n",
    "* an increased conversion rate does contribute to an increase in overal revenue, so the test was at least half successful.\n",
    "\n",
    "\n",
    "While I am aware of the operational cost of running the A/B test, I would like to suggest two possible courses of action as the next step:\n",
    "<br>a) either we stop the test and call it a success since we have managed to improve the conversion rate\n",
    "<br>b) or we can continue the test for another 1-1.5 months and see if we will be able to draw more definitive conclusions with regard to the average order size"
   ]
  },
  {
   "cell_type": "markdown",
   "metadata": {},
   "source": [
    "<div class=\"alert alert-success\" role=\"alert\">\n",
    "Reviewer's comment v. 2:\n",
    "\n",
    "Yes, you have made a correct decision. We can consider group B as a leader. But please describe all main results of the project (data, anomalies and so on).\n",
    "</div>"
   ]
  },
  {
   "cell_type": "code",
   "execution_count": null,
   "metadata": {},
   "outputs": [],
   "source": [
    "\n"
   ]
  }
 ],
 "metadata": {
  "ExecuteTimeLog": [
   {
    "duration": 1437,
    "start_time": "2021-08-15T22:10:27.078Z"
   },
   {
    "duration": 250,
    "start_time": "2021-08-15T22:10:28.518Z"
   },
   {
    "duration": 4,
    "start_time": "2021-08-15T22:10:28.770Z"
   },
   {
    "duration": 9,
    "start_time": "2021-08-15T22:10:28.777Z"
   },
   {
    "duration": 11,
    "start_time": "2021-08-15T22:10:28.788Z"
   },
   {
    "duration": 186,
    "start_time": "2021-08-15T22:10:28.802Z"
   },
   {
    "duration": 5,
    "start_time": "2021-08-15T22:10:28.991Z"
   },
   {
    "duration": 5,
    "start_time": "2021-08-15T22:10:29.000Z"
   },
   {
    "duration": 7,
    "start_time": "2021-08-15T22:10:29.009Z"
   },
   {
    "duration": 10,
    "start_time": "2021-08-15T22:10:29.019Z"
   },
   {
    "duration": 7,
    "start_time": "2021-08-15T22:10:29.031Z"
   },
   {
    "duration": 22,
    "start_time": "2021-08-15T22:10:29.040Z"
   },
   {
    "duration": 48,
    "start_time": "2021-08-15T22:10:29.065Z"
   },
   {
    "duration": 308,
    "start_time": "2021-08-15T22:10:29.115Z"
   },
   {
    "duration": 248,
    "start_time": "2021-08-15T22:10:29.426Z"
   },
   {
    "duration": 34,
    "start_time": "2021-08-15T22:10:29.676Z"
   },
   {
    "duration": 24,
    "start_time": "2021-08-15T22:10:29.712Z"
   },
   {
    "duration": 539,
    "start_time": "2021-08-15T22:10:29.738Z"
   },
   {
    "duration": 403,
    "start_time": "2021-08-15T22:10:30.280Z"
   },
   {
    "duration": 1232,
    "start_time": "2021-08-15T22:10:29.457Z"
   },
   {
    "duration": 1226,
    "start_time": "2021-08-15T22:10:29.464Z"
   },
   {
    "duration": 1223,
    "start_time": "2021-08-15T22:10:29.469Z"
   },
   {
    "duration": 1217,
    "start_time": "2021-08-15T22:10:29.476Z"
   },
   {
    "duration": 1214,
    "start_time": "2021-08-15T22:10:29.481Z"
   },
   {
    "duration": 1211,
    "start_time": "2021-08-15T22:10:29.485Z"
   },
   {
    "duration": 1208,
    "start_time": "2021-08-15T22:10:29.490Z"
   },
   {
    "duration": 1204,
    "start_time": "2021-08-15T22:10:29.495Z"
   },
   {
    "duration": 1201,
    "start_time": "2021-08-15T22:10:29.500Z"
   },
   {
    "duration": 1198,
    "start_time": "2021-08-15T22:10:29.504Z"
   },
   {
    "duration": 1183,
    "start_time": "2021-08-15T22:10:29.521Z"
   },
   {
    "duration": 1179,
    "start_time": "2021-08-15T22:10:29.526Z"
   },
   {
    "duration": 1176,
    "start_time": "2021-08-15T22:10:29.531Z"
   },
   {
    "duration": 1173,
    "start_time": "2021-08-15T22:10:29.535Z"
   },
   {
    "duration": 1169,
    "start_time": "2021-08-15T22:10:29.541Z"
   },
   {
    "duration": 1167,
    "start_time": "2021-08-15T22:10:29.545Z"
   },
   {
    "duration": 1162,
    "start_time": "2021-08-15T22:10:29.551Z"
   },
   {
    "duration": 1157,
    "start_time": "2021-08-15T22:10:29.557Z"
   },
   {
    "duration": 1154,
    "start_time": "2021-08-15T22:10:29.562Z"
   },
   {
    "duration": 1151,
    "start_time": "2021-08-15T22:10:29.566Z"
   },
   {
    "duration": 1148,
    "start_time": "2021-08-15T22:10:29.571Z"
   },
   {
    "duration": 1144,
    "start_time": "2021-08-15T22:10:29.576Z"
   },
   {
    "duration": 1141,
    "start_time": "2021-08-15T22:10:29.581Z"
   },
   {
    "duration": 1129,
    "start_time": "2021-08-15T22:10:29.594Z"
   },
   {
    "duration": 1125,
    "start_time": "2021-08-15T22:10:29.599Z"
   },
   {
    "duration": 1123,
    "start_time": "2021-08-15T22:10:29.603Z"
   },
   {
    "duration": 1118,
    "start_time": "2021-08-15T22:10:29.609Z"
   },
   {
    "duration": 1114,
    "start_time": "2021-08-15T22:10:29.615Z"
   },
   {
    "duration": 1109,
    "start_time": "2021-08-15T22:10:29.621Z"
   },
   {
    "duration": 1069,
    "start_time": "2021-08-15T22:10:29.663Z"
   },
   {
    "duration": 1065,
    "start_time": "2021-08-15T22:10:29.668Z"
   },
   {
    "duration": 1062,
    "start_time": "2021-08-15T22:10:29.672Z"
   },
   {
    "duration": 1059,
    "start_time": "2021-08-15T22:10:29.677Z"
   },
   {
    "duration": 1056,
    "start_time": "2021-08-15T22:10:29.681Z"
   },
   {
    "duration": 1117,
    "start_time": "2021-08-15T22:10:29.686Z"
   },
   {
    "duration": 1113,
    "start_time": "2021-08-15T22:10:29.691Z"
   },
   {
    "duration": 1102,
    "start_time": "2021-08-15T22:10:29.704Z"
   },
   {
    "duration": 1100,
    "start_time": "2021-08-15T22:10:29.708Z"
   },
   {
    "duration": 1097,
    "start_time": "2021-08-15T22:10:29.713Z"
   },
   {
    "duration": 1094,
    "start_time": "2021-08-15T22:10:29.717Z"
   },
   {
    "duration": 1069,
    "start_time": "2021-08-15T22:10:29.744Z"
   },
   {
    "duration": 1067,
    "start_time": "2021-08-15T22:10:29.748Z"
   },
   {
    "duration": 1063,
    "start_time": "2021-08-15T22:10:29.753Z"
   },
   {
    "duration": 1061,
    "start_time": "2021-08-15T22:10:29.757Z"
   },
   {
    "duration": 1058,
    "start_time": "2021-08-15T22:10:29.762Z"
   },
   {
    "duration": 1055,
    "start_time": "2021-08-15T22:10:29.766Z"
   },
   {
    "duration": 1440,
    "start_time": "2021-08-16T13:36:40.495Z"
   },
   {
    "duration": 235,
    "start_time": "2021-08-16T13:36:41.938Z"
   },
   {
    "duration": 3,
    "start_time": "2021-08-16T13:36:42.176Z"
   },
   {
    "duration": 8,
    "start_time": "2021-08-16T13:36:42.182Z"
   },
   {
    "duration": 7,
    "start_time": "2021-08-16T13:36:42.192Z"
   },
   {
    "duration": 188,
    "start_time": "2021-08-16T13:36:42.201Z"
   },
   {
    "duration": 6,
    "start_time": "2021-08-16T13:36:42.391Z"
   },
   {
    "duration": 6,
    "start_time": "2021-08-16T13:36:42.401Z"
   },
   {
    "duration": 12,
    "start_time": "2021-08-16T13:36:42.410Z"
   },
   {
    "duration": 14,
    "start_time": "2021-08-16T13:36:42.424Z"
   },
   {
    "duration": 12,
    "start_time": "2021-08-16T13:36:42.440Z"
   },
   {
    "duration": 26,
    "start_time": "2021-08-16T13:36:42.454Z"
   },
   {
    "duration": 21,
    "start_time": "2021-08-16T13:36:42.482Z"
   },
   {
    "duration": 321,
    "start_time": "2021-08-16T13:36:42.506Z"
   },
   {
    "duration": 255,
    "start_time": "2021-08-16T13:36:42.829Z"
   },
   {
    "duration": 23,
    "start_time": "2021-08-16T13:36:43.086Z"
   },
   {
    "duration": 46,
    "start_time": "2021-08-16T13:36:43.111Z"
   },
   {
    "duration": 532,
    "start_time": "2021-08-16T13:36:43.160Z"
   },
   {
    "duration": 678,
    "start_time": "2021-08-16T13:36:43.695Z"
   },
   {
    "duration": 2508,
    "start_time": "2021-08-16T13:36:41.872Z"
   },
   {
    "duration": 2505,
    "start_time": "2021-08-16T13:36:41.877Z"
   },
   {
    "duration": 2503,
    "start_time": "2021-08-16T13:36:41.881Z"
   },
   {
    "duration": 2502,
    "start_time": "2021-08-16T13:36:41.885Z"
   },
   {
    "duration": 2500,
    "start_time": "2021-08-16T13:36:41.889Z"
   },
   {
    "duration": 2499,
    "start_time": "2021-08-16T13:36:41.893Z"
   },
   {
    "duration": 2496,
    "start_time": "2021-08-16T13:36:41.898Z"
   },
   {
    "duration": 2494,
    "start_time": "2021-08-16T13:36:41.902Z"
   },
   {
    "duration": 2492,
    "start_time": "2021-08-16T13:36:41.906Z"
   },
   {
    "duration": 2478,
    "start_time": "2021-08-16T13:36:41.922Z"
   },
   {
    "duration": 2475,
    "start_time": "2021-08-16T13:36:41.927Z"
   },
   {
    "duration": 2472,
    "start_time": "2021-08-16T13:36:41.932Z"
   },
   {
    "duration": 2468,
    "start_time": "2021-08-16T13:36:41.938Z"
   },
   {
    "duration": 2465,
    "start_time": "2021-08-16T13:36:41.944Z"
   },
   {
    "duration": 2462,
    "start_time": "2021-08-16T13:36:41.949Z"
   },
   {
    "duration": 2458,
    "start_time": "2021-08-16T13:36:41.955Z"
   },
   {
    "duration": 2456,
    "start_time": "2021-08-16T13:36:41.959Z"
   },
   {
    "duration": 2492,
    "start_time": "2021-08-16T13:36:41.964Z"
   },
   {
    "duration": 2490,
    "start_time": "2021-08-16T13:36:41.968Z"
   },
   {
    "duration": 2488,
    "start_time": "2021-08-16T13:36:41.973Z"
   },
   {
    "duration": 2486,
    "start_time": "2021-08-16T13:36:41.977Z"
   },
   {
    "duration": 2482,
    "start_time": "2021-08-16T13:36:41.983Z"
   },
   {
    "duration": 2411,
    "start_time": "2021-08-16T13:36:42.056Z"
   },
   {
    "duration": 2215,
    "start_time": "2021-08-16T13:36:42.255Z"
   },
   {
    "duration": 2177,
    "start_time": "2021-08-16T13:36:42.295Z"
   },
   {
    "duration": 2175,
    "start_time": "2021-08-16T13:36:42.299Z"
   },
   {
    "duration": 2173,
    "start_time": "2021-08-16T13:36:42.303Z"
   },
   {
    "duration": 2171,
    "start_time": "2021-08-16T13:36:42.308Z"
   },
   {
    "duration": 2169,
    "start_time": "2021-08-16T13:36:42.312Z"
   },
   {
    "duration": 2167,
    "start_time": "2021-08-16T13:36:42.316Z"
   },
   {
    "duration": 2166,
    "start_time": "2021-08-16T13:36:42.320Z"
   },
   {
    "duration": 2162,
    "start_time": "2021-08-16T13:36:42.326Z"
   },
   {
    "duration": 2160,
    "start_time": "2021-08-16T13:36:42.330Z"
   },
   {
    "duration": 2158,
    "start_time": "2021-08-16T13:36:42.335Z"
   },
   {
    "duration": 2156,
    "start_time": "2021-08-16T13:36:42.339Z"
   },
   {
    "duration": 2212,
    "start_time": "2021-08-16T13:36:42.343Z"
   },
   {
    "duration": 2210,
    "start_time": "2021-08-16T13:36:42.347Z"
   },
   {
    "duration": 2208,
    "start_time": "2021-08-16T13:36:42.352Z"
   },
   {
    "duration": 2205,
    "start_time": "2021-08-16T13:36:42.356Z"
   },
   {
    "duration": 2201,
    "start_time": "2021-08-16T13:36:42.361Z"
   },
   {
    "duration": 2198,
    "start_time": "2021-08-16T13:36:42.365Z"
   },
   {
    "duration": 2196,
    "start_time": "2021-08-16T13:36:42.369Z"
   },
   {
    "duration": 2193,
    "start_time": "2021-08-16T13:36:42.373Z"
   },
   {
    "duration": 2190,
    "start_time": "2021-08-16T13:36:42.377Z"
   },
   {
    "duration": 2187,
    "start_time": "2021-08-16T13:36:42.381Z"
   },
   {
    "duration": 2184,
    "start_time": "2021-08-16T13:36:42.385Z"
   },
   {
    "duration": 1592,
    "start_time": "2021-08-16T14:20:10.027Z"
   },
   {
    "duration": 572,
    "start_time": "2021-08-16T14:20:11.621Z"
   },
   {
    "duration": 4,
    "start_time": "2021-08-16T14:20:12.197Z"
   },
   {
    "duration": 6,
    "start_time": "2021-08-16T14:20:12.205Z"
   },
   {
    "duration": 7,
    "start_time": "2021-08-16T14:20:12.215Z"
   },
   {
    "duration": 1451,
    "start_time": "2021-08-16T14:20:12.225Z"
   },
   {
    "duration": 6,
    "start_time": "2021-08-16T14:20:13.678Z"
   },
   {
    "duration": 14,
    "start_time": "2021-08-16T14:20:13.687Z"
   },
   {
    "duration": 18,
    "start_time": "2021-08-16T14:20:13.704Z"
   },
   {
    "duration": 19,
    "start_time": "2021-08-16T14:20:13.724Z"
   },
   {
    "duration": 24,
    "start_time": "2021-08-16T14:20:13.745Z"
   },
   {
    "duration": 24,
    "start_time": "2021-08-16T14:20:13.772Z"
   },
   {
    "duration": 20,
    "start_time": "2021-08-16T14:20:13.798Z"
   },
   {
    "duration": 307,
    "start_time": "2021-08-16T14:20:13.821Z"
   },
   {
    "duration": 266,
    "start_time": "2021-08-16T14:20:14.130Z"
   },
   {
    "duration": 23,
    "start_time": "2021-08-16T14:20:14.398Z"
   },
   {
    "duration": 49,
    "start_time": "2021-08-16T14:20:14.423Z"
   },
   {
    "duration": 557,
    "start_time": "2021-08-16T14:20:14.474Z"
   },
   {
    "duration": 605,
    "start_time": "2021-08-16T14:20:15.033Z"
   },
   {
    "duration": 2528,
    "start_time": "2021-08-16T14:20:13.116Z"
   },
   {
    "duration": 2524,
    "start_time": "2021-08-16T14:20:13.121Z"
   },
   {
    "duration": 2518,
    "start_time": "2021-08-16T14:20:13.128Z"
   },
   {
    "duration": 2501,
    "start_time": "2021-08-16T14:20:13.147Z"
   },
   {
    "duration": 2498,
    "start_time": "2021-08-16T14:20:13.151Z"
   },
   {
    "duration": 2493,
    "start_time": "2021-08-16T14:20:13.157Z"
   },
   {
    "duration": 2491,
    "start_time": "2021-08-16T14:20:13.161Z"
   },
   {
    "duration": 2487,
    "start_time": "2021-08-16T14:20:13.166Z"
   },
   {
    "duration": 2484,
    "start_time": "2021-08-16T14:20:13.170Z"
   },
   {
    "duration": 2481,
    "start_time": "2021-08-16T14:20:13.175Z"
   },
   {
    "duration": 2475,
    "start_time": "2021-08-16T14:20:13.182Z"
   },
   {
    "duration": 2472,
    "start_time": "2021-08-16T14:20:13.186Z"
   },
   {
    "duration": 2469,
    "start_time": "2021-08-16T14:20:13.191Z"
   },
   {
    "duration": 2466,
    "start_time": "2021-08-16T14:20:13.195Z"
   },
   {
    "duration": 2463,
    "start_time": "2021-08-16T14:20:13.199Z"
   },
   {
    "duration": 2460,
    "start_time": "2021-08-16T14:20:13.204Z"
   },
   {
    "duration": 2453,
    "start_time": "2021-08-16T14:20:13.212Z"
   },
   {
    "duration": 2448,
    "start_time": "2021-08-16T14:20:13.218Z"
   },
   {
    "duration": 2443,
    "start_time": "2021-08-16T14:20:13.225Z"
   },
   {
    "duration": 2440,
    "start_time": "2021-08-16T14:20:13.229Z"
   },
   {
    "duration": 2437,
    "start_time": "2021-08-16T14:20:13.233Z"
   },
   {
    "duration": 2435,
    "start_time": "2021-08-16T14:20:13.237Z"
   },
   {
    "duration": 2430,
    "start_time": "2021-08-16T14:20:13.243Z"
   },
   {
    "duration": 2428,
    "start_time": "2021-08-16T14:20:13.247Z"
   },
   {
    "duration": 2425,
    "start_time": "2021-08-16T14:20:13.251Z"
   },
   {
    "duration": 2421,
    "start_time": "2021-08-16T14:20:13.257Z"
   },
   {
    "duration": 2418,
    "start_time": "2021-08-16T14:20:13.261Z"
   },
   {
    "duration": 2415,
    "start_time": "2021-08-16T14:20:13.265Z"
   },
   {
    "duration": 2412,
    "start_time": "2021-08-16T14:20:13.270Z"
   },
   {
    "duration": 2407,
    "start_time": "2021-08-16T14:20:13.276Z"
   },
   {
    "duration": 2405,
    "start_time": "2021-08-16T14:20:13.280Z"
   },
   {
    "duration": 2402,
    "start_time": "2021-08-16T14:20:13.284Z"
   },
   {
    "duration": 2395,
    "start_time": "2021-08-16T14:20:13.292Z"
   },
   {
    "duration": 2391,
    "start_time": "2021-08-16T14:20:13.298Z"
   },
   {
    "duration": 2387,
    "start_time": "2021-08-16T14:20:13.303Z"
   },
   {
    "duration": 2383,
    "start_time": "2021-08-16T14:20:13.308Z"
   },
   {
    "duration": 2380,
    "start_time": "2021-08-16T14:20:13.313Z"
   },
   {
    "duration": 2377,
    "start_time": "2021-08-16T14:20:13.317Z"
   },
   {
    "duration": 2374,
    "start_time": "2021-08-16T14:20:13.322Z"
   },
   {
    "duration": 2371,
    "start_time": "2021-08-16T14:20:13.326Z"
   },
   {
    "duration": 2367,
    "start_time": "2021-08-16T14:20:13.331Z"
   },
   {
    "duration": 2421,
    "start_time": "2021-08-16T14:20:13.335Z"
   },
   {
    "duration": 2417,
    "start_time": "2021-08-16T14:20:13.341Z"
   },
   {
    "duration": 2412,
    "start_time": "2021-08-16T14:20:13.347Z"
   },
   {
    "duration": 2409,
    "start_time": "2021-08-16T14:20:13.352Z"
   },
   {
    "duration": 2405,
    "start_time": "2021-08-16T14:20:13.358Z"
   },
   {
    "duration": 1499,
    "start_time": "2021-08-22T12:46:08.413Z"
   },
   {
    "duration": 238,
    "start_time": "2021-08-22T12:46:09.915Z"
   },
   {
    "duration": 3,
    "start_time": "2021-08-22T12:46:10.156Z"
   },
   {
    "duration": 5,
    "start_time": "2021-08-22T12:46:10.162Z"
   },
   {
    "duration": 6,
    "start_time": "2021-08-22T12:46:10.170Z"
   },
   {
    "duration": 193,
    "start_time": "2021-08-22T12:46:10.178Z"
   },
   {
    "duration": 6,
    "start_time": "2021-08-22T12:46:10.374Z"
   },
   {
    "duration": 4,
    "start_time": "2021-08-22T12:46:10.384Z"
   },
   {
    "duration": 5,
    "start_time": "2021-08-22T12:46:10.391Z"
   },
   {
    "duration": 6,
    "start_time": "2021-08-22T12:46:10.398Z"
   },
   {
    "duration": 7,
    "start_time": "2021-08-22T12:46:10.407Z"
   },
   {
    "duration": 49,
    "start_time": "2021-08-22T12:46:10.416Z"
   },
   {
    "duration": 23,
    "start_time": "2021-08-22T12:46:10.467Z"
   },
   {
    "duration": 333,
    "start_time": "2021-08-22T12:46:10.492Z"
   },
   {
    "duration": 265,
    "start_time": "2021-08-22T12:46:10.827Z"
   },
   {
    "duration": 24,
    "start_time": "2021-08-22T12:46:11.095Z"
   },
   {
    "duration": 26,
    "start_time": "2021-08-22T12:46:35.089Z"
   },
   {
    "duration": 558,
    "start_time": "2021-08-22T12:46:37.279Z"
   },
   {
    "duration": 413,
    "start_time": "2021-08-22T12:46:44.807Z"
   },
   {
    "duration": 275,
    "start_time": "2021-08-22T12:48:18.424Z"
   },
   {
    "duration": 285,
    "start_time": "2021-08-22T12:48:22.944Z"
   },
   {
    "duration": 13,
    "start_time": "2021-08-22T12:48:48.358Z"
   },
   {
    "duration": 15,
    "start_time": "2021-08-22T12:49:14.507Z"
   },
   {
    "duration": 23,
    "start_time": "2021-08-22T12:49:25.991Z"
   },
   {
    "duration": 35,
    "start_time": "2021-08-22T12:49:34.822Z"
   },
   {
    "duration": 23,
    "start_time": "2021-08-22T12:50:04.072Z"
   },
   {
    "duration": 28,
    "start_time": "2021-08-22T12:50:04.976Z"
   },
   {
    "duration": 558,
    "start_time": "2021-08-22T12:50:05.959Z"
   },
   {
    "duration": 21,
    "start_time": "2021-08-22T12:50:06.776Z"
   },
   {
    "duration": 57,
    "start_time": "2021-08-22T12:50:08.128Z"
   },
   {
    "duration": 359,
    "start_time": "2021-08-22T12:50:08.631Z"
   },
   {
    "duration": 59,
    "start_time": "2021-08-22T12:50:30.544Z"
   },
   {
    "duration": 59,
    "start_time": "2021-08-22T12:51:05.241Z"
   },
   {
    "duration": 64,
    "start_time": "2021-08-22T12:51:15.144Z"
   },
   {
    "duration": 34,
    "start_time": "2021-08-22T12:53:17.496Z"
   },
   {
    "duration": 6,
    "start_time": "2021-08-22T12:54:02.327Z"
   },
   {
    "duration": 13,
    "start_time": "2021-08-22T12:54:30.210Z"
   },
   {
    "duration": 21,
    "start_time": "2021-08-22T12:54:57.230Z"
   },
   {
    "duration": 7,
    "start_time": "2021-08-22T12:55:20.326Z"
   },
   {
    "duration": 1412,
    "start_time": "2021-08-22T12:56:11.600Z"
   },
   {
    "duration": 248,
    "start_time": "2021-08-22T12:56:13.015Z"
   },
   {
    "duration": 4,
    "start_time": "2021-08-22T12:56:13.679Z"
   },
   {
    "duration": 3,
    "start_time": "2021-08-22T12:56:14.087Z"
   },
   {
    "duration": 3,
    "start_time": "2021-08-22T12:56:14.416Z"
   },
   {
    "duration": 267,
    "start_time": "2021-08-22T12:56:15.544Z"
   },
   {
    "duration": 6,
    "start_time": "2021-08-22T12:56:15.935Z"
   },
   {
    "duration": 3,
    "start_time": "2021-08-22T12:56:16.375Z"
   },
   {
    "duration": 3,
    "start_time": "2021-08-22T12:56:16.711Z"
   },
   {
    "duration": 3,
    "start_time": "2021-08-22T12:56:18.406Z"
   },
   {
    "duration": 4,
    "start_time": "2021-08-22T12:56:18.823Z"
   },
   {
    "duration": 20,
    "start_time": "2021-08-22T12:56:19.894Z"
   },
   {
    "duration": 22,
    "start_time": "2021-08-22T12:56:20.999Z"
   },
   {
    "duration": 307,
    "start_time": "2021-08-22T12:56:21.750Z"
   },
   {
    "duration": 251,
    "start_time": "2021-08-22T12:56:22.103Z"
   },
   {
    "duration": 24,
    "start_time": "2021-08-22T12:56:22.983Z"
   },
   {
    "duration": 35,
    "start_time": "2021-08-22T12:56:23.695Z"
   },
   {
    "duration": 551,
    "start_time": "2021-08-22T12:56:24.623Z"
   },
   {
    "duration": 15,
    "start_time": "2021-08-22T12:56:37.223Z"
   },
   {
    "duration": 34,
    "start_time": "2021-08-22T12:56:42.376Z"
   },
   {
    "duration": 534,
    "start_time": "2021-08-22T12:57:05.560Z"
   },
   {
    "duration": 28,
    "start_time": "2021-08-22T12:57:12.896Z"
   },
   {
    "duration": 24,
    "start_time": "2021-08-22T12:57:55.590Z"
   },
   {
    "duration": 9,
    "start_time": "2021-08-22T12:59:35.280Z"
   },
   {
    "duration": 7,
    "start_time": "2021-08-22T12:59:45.976Z"
   },
   {
    "duration": 24,
    "start_time": "2021-08-22T13:00:04.814Z"
   },
   {
    "duration": 5,
    "start_time": "2021-08-22T13:08:46.344Z"
   },
   {
    "duration": 8,
    "start_time": "2021-08-22T13:08:51.207Z"
   },
   {
    "duration": 21,
    "start_time": "2021-08-22T13:11:41.873Z"
   },
   {
    "duration": 95,
    "start_time": "2021-08-22T13:12:35.265Z"
   },
   {
    "duration": 21,
    "start_time": "2021-08-22T13:12:42.369Z"
   },
   {
    "duration": 17,
    "start_time": "2021-08-22T13:12:58.744Z"
   },
   {
    "duration": 21,
    "start_time": "2021-08-22T13:13:08.090Z"
   },
   {
    "duration": 9,
    "start_time": "2021-08-22T13:13:19.008Z"
   },
   {
    "duration": 24,
    "start_time": "2021-08-22T13:13:28.296Z"
   },
   {
    "duration": 30,
    "start_time": "2021-08-22T13:13:47.175Z"
   },
   {
    "duration": 559,
    "start_time": "2021-08-22T13:13:54.818Z"
   },
   {
    "duration": 21,
    "start_time": "2021-08-22T13:13:57.176Z"
   },
   {
    "duration": 113,
    "start_time": "2021-08-22T13:14:12.665Z"
   },
   {
    "duration": 96,
    "start_time": "2021-08-22T13:14:29.819Z"
   },
   {
    "duration": 63,
    "start_time": "2021-08-22T13:14:41.050Z"
   },
   {
    "duration": 319,
    "start_time": "2021-08-22T13:14:43.590Z"
   },
   {
    "duration": 8,
    "start_time": "2021-08-22T13:14:52.568Z"
   },
   {
    "duration": 10,
    "start_time": "2021-08-22T13:14:54.097Z"
   },
   {
    "duration": 542,
    "start_time": "2021-08-22T13:14:55.185Z"
   },
   {
    "duration": 18,
    "start_time": "2021-08-22T13:14:56.242Z"
   },
   {
    "duration": 302,
    "start_time": "2021-08-22T13:14:57.280Z"
   },
   {
    "duration": 17,
    "start_time": "2021-08-22T13:15:07.089Z"
   },
   {
    "duration": 17,
    "start_time": "2021-08-22T13:15:08.937Z"
   },
   {
    "duration": 20,
    "start_time": "2021-08-22T13:15:10.744Z"
   },
   {
    "duration": 27,
    "start_time": "2021-08-22T13:15:11.122Z"
   },
   {
    "duration": 10,
    "start_time": "2021-08-22T13:15:11.489Z"
   },
   {
    "duration": 118,
    "start_time": "2021-08-22T13:15:12.536Z"
   },
   {
    "duration": 39,
    "start_time": "2021-08-22T13:15:12.897Z"
   },
   {
    "duration": 26,
    "start_time": "2021-08-22T13:15:13.274Z"
   },
   {
    "duration": 27,
    "start_time": "2021-08-22T13:15:13.577Z"
   },
   {
    "duration": 26,
    "start_time": "2021-08-22T13:15:13.872Z"
   },
   {
    "duration": 365,
    "start_time": "2021-08-22T13:15:14.170Z"
   },
   {
    "duration": 334,
    "start_time": "2021-08-22T13:15:15.074Z"
   },
   {
    "duration": 21,
    "start_time": "2021-08-22T13:15:16.672Z"
   },
   {
    "duration": 420,
    "start_time": "2021-08-22T13:15:16.970Z"
   },
   {
    "duration": 21,
    "start_time": "2021-08-22T13:15:18.082Z"
   },
   {
    "duration": 342,
    "start_time": "2021-08-22T13:15:18.425Z"
   },
   {
    "duration": 6,
    "start_time": "2021-08-22T13:15:19.505Z"
   },
   {
    "duration": 18,
    "start_time": "2021-08-22T13:15:19.833Z"
   },
   {
    "duration": 400,
    "start_time": "2021-08-22T13:15:20.186Z"
   },
   {
    "duration": 17,
    "start_time": "2021-08-22T13:15:21.435Z"
   },
   {
    "duration": 317,
    "start_time": "2021-08-22T13:15:21.769Z"
   },
   {
    "duration": 434,
    "start_time": "2021-08-22T13:15:22.433Z"
   },
   {
    "duration": 6,
    "start_time": "2021-08-22T13:15:23.417Z"
   },
   {
    "duration": 16,
    "start_time": "2021-08-22T13:15:24.353Z"
   },
   {
    "duration": 333,
    "start_time": "2021-08-22T13:15:24.985Z"
   },
   {
    "duration": 434,
    "start_time": "2021-08-22T13:15:25.529Z"
   },
   {
    "duration": 7,
    "start_time": "2021-08-22T13:15:26.522Z"
   },
   {
    "duration": 31,
    "start_time": "2021-08-22T13:15:27.737Z"
   },
   {
    "duration": 22,
    "start_time": "2021-08-22T13:15:28.059Z"
   },
   {
    "duration": 13,
    "start_time": "2021-08-22T13:15:28.410Z"
   },
   {
    "duration": 12,
    "start_time": "2021-08-22T13:15:29.266Z"
   },
   {
    "duration": 17,
    "start_time": "2021-08-22T13:15:30.378Z"
   },
   {
    "duration": 21,
    "start_time": "2021-08-22T13:15:31.298Z"
   },
   {
    "duration": 12,
    "start_time": "2021-08-22T13:15:31.586Z"
   },
   {
    "duration": 15,
    "start_time": "2021-08-22T13:15:32.466Z"
   },
   {
    "duration": 22,
    "start_time": "2021-08-22T13:18:33.203Z"
   },
   {
    "duration": 6,
    "start_time": "2021-08-22T13:18:44.741Z"
   },
   {
    "duration": 239,
    "start_time": "2021-08-22T13:18:44.750Z"
   },
   {
    "duration": 3,
    "start_time": "2021-08-22T13:18:44.993Z"
   },
   {
    "duration": 15,
    "start_time": "2021-08-22T13:18:44.999Z"
   },
   {
    "duration": 12,
    "start_time": "2021-08-22T13:18:45.017Z"
   },
   {
    "duration": 200,
    "start_time": "2021-08-22T13:18:45.032Z"
   },
   {
    "duration": 6,
    "start_time": "2021-08-22T13:18:45.236Z"
   },
   {
    "duration": 5,
    "start_time": "2021-08-22T13:18:45.245Z"
   },
   {
    "duration": 9,
    "start_time": "2021-08-22T13:18:45.253Z"
   },
   {
    "duration": 6,
    "start_time": "2021-08-22T13:18:45.265Z"
   },
   {
    "duration": 6,
    "start_time": "2021-08-22T13:18:45.274Z"
   },
   {
    "duration": 20,
    "start_time": "2021-08-22T13:18:45.283Z"
   },
   {
    "duration": 25,
    "start_time": "2021-08-22T13:18:45.305Z"
   },
   {
    "duration": 307,
    "start_time": "2021-08-22T13:18:45.354Z"
   },
   {
    "duration": 259,
    "start_time": "2021-08-22T13:18:45.663Z"
   },
   {
    "duration": 39,
    "start_time": "2021-08-22T13:18:45.925Z"
   },
   {
    "duration": 19,
    "start_time": "2021-08-22T13:18:45.967Z"
   },
   {
    "duration": 635,
    "start_time": "2021-08-22T13:18:45.988Z"
   },
   {
    "duration": 13,
    "start_time": "2021-08-22T13:18:46.627Z"
   },
   {
    "duration": 20,
    "start_time": "2021-08-22T13:18:46.654Z"
   },
   {
    "duration": 5,
    "start_time": "2021-08-22T13:18:55.391Z"
   },
   {
    "duration": 251,
    "start_time": "2021-08-22T13:18:55.399Z"
   },
   {
    "duration": 4,
    "start_time": "2021-08-22T13:18:55.653Z"
   },
   {
    "duration": 7,
    "start_time": "2021-08-22T13:18:55.660Z"
   },
   {
    "duration": 11,
    "start_time": "2021-08-22T13:18:55.669Z"
   },
   {
    "duration": 195,
    "start_time": "2021-08-22T13:18:55.683Z"
   },
   {
    "duration": 6,
    "start_time": "2021-08-22T13:18:55.882Z"
   },
   {
    "duration": 6,
    "start_time": "2021-08-22T13:18:55.892Z"
   },
   {
    "duration": 9,
    "start_time": "2021-08-22T13:18:55.901Z"
   },
   {
    "duration": 12,
    "start_time": "2021-08-22T13:18:55.912Z"
   },
   {
    "duration": 8,
    "start_time": "2021-08-22T13:18:55.927Z"
   },
   {
    "duration": 24,
    "start_time": "2021-08-22T13:18:55.938Z"
   },
   {
    "duration": 23,
    "start_time": "2021-08-22T13:18:55.964Z"
   },
   {
    "duration": 318,
    "start_time": "2021-08-22T13:18:55.989Z"
   },
   {
    "duration": 275,
    "start_time": "2021-08-22T13:18:56.309Z"
   },
   {
    "duration": 26,
    "start_time": "2021-08-22T13:18:56.587Z"
   },
   {
    "duration": 50,
    "start_time": "2021-08-22T13:18:56.617Z"
   },
   {
    "duration": 554,
    "start_time": "2021-08-22T13:18:56.670Z"
   },
   {
    "duration": 25,
    "start_time": "2021-08-22T13:18:57.232Z"
   },
   {
    "duration": 34,
    "start_time": "2021-08-22T13:18:57.262Z"
   },
   {
    "duration": 27,
    "start_time": "2021-08-22T13:18:57.299Z"
   },
   {
    "duration": 58,
    "start_time": "2021-08-22T13:18:57.329Z"
   },
   {
    "duration": 615,
    "start_time": "2021-08-22T13:18:57.390Z"
   },
   {
    "duration": 23,
    "start_time": "2021-08-22T13:18:58.008Z"
   },
   {
    "duration": 75,
    "start_time": "2021-08-22T13:18:58.034Z"
   },
   {
    "duration": 337,
    "start_time": "2021-08-22T13:18:58.111Z"
   },
   {
    "duration": 7,
    "start_time": "2021-08-22T13:18:58.451Z"
   },
   {
    "duration": 11,
    "start_time": "2021-08-22T13:18:58.461Z"
   },
   {
    "duration": 559,
    "start_time": "2021-08-22T13:18:58.474Z"
   },
   {
    "duration": 29,
    "start_time": "2021-08-22T13:18:59.035Z"
   },
   {
    "duration": 324,
    "start_time": "2021-08-22T13:18:59.066Z"
   },
   {
    "duration": 17,
    "start_time": "2021-08-22T13:18:59.392Z"
   },
   {
    "duration": 45,
    "start_time": "2021-08-22T13:18:59.412Z"
   },
   {
    "duration": 28,
    "start_time": "2021-08-22T13:18:59.460Z"
   },
   {
    "duration": 29,
    "start_time": "2021-08-22T13:18:59.490Z"
   },
   {
    "duration": 41,
    "start_time": "2021-08-22T13:18:59.521Z"
   },
   {
    "duration": 30,
    "start_time": "2021-08-22T13:18:59.565Z"
   },
   {
    "duration": 71,
    "start_time": "2021-08-22T13:18:59.597Z"
   },
   {
    "duration": 27,
    "start_time": "2021-08-22T13:18:59.671Z"
   },
   {
    "duration": 57,
    "start_time": "2021-08-22T13:18:59.700Z"
   },
   {
    "duration": 27,
    "start_time": "2021-08-22T13:18:59.760Z"
   },
   {
    "duration": 373,
    "start_time": "2021-08-22T13:18:59.790Z"
   },
   {
    "duration": 380,
    "start_time": "2021-08-22T13:19:00.165Z"
   },
   {
    "duration": 21,
    "start_time": "2021-08-22T13:19:00.554Z"
   },
   {
    "duration": 452,
    "start_time": "2021-08-22T13:19:00.577Z"
   },
   {
    "duration": 25,
    "start_time": "2021-08-22T13:19:01.031Z"
   },
   {
    "duration": 458,
    "start_time": "2021-08-22T13:19:01.059Z"
   },
   {
    "duration": 7,
    "start_time": "2021-08-22T13:19:01.519Z"
   },
   {
    "duration": 38,
    "start_time": "2021-08-22T13:19:01.528Z"
   },
   {
    "duration": 415,
    "start_time": "2021-08-22T13:19:01.569Z"
   },
   {
    "duration": 18,
    "start_time": "2021-08-22T13:19:01.988Z"
   },
   {
    "duration": 344,
    "start_time": "2021-08-22T13:19:02.010Z"
   },
   {
    "duration": 418,
    "start_time": "2021-08-22T13:19:02.357Z"
   },
   {
    "duration": 8,
    "start_time": "2021-08-22T13:19:02.778Z"
   },
   {
    "duration": 17,
    "start_time": "2021-08-22T13:19:02.795Z"
   },
   {
    "duration": 361,
    "start_time": "2021-08-22T13:19:02.816Z"
   },
   {
    "duration": 401,
    "start_time": "2021-08-22T13:19:03.180Z"
   },
   {
    "duration": 6,
    "start_time": "2021-08-22T13:19:03.584Z"
   },
   {
    "duration": 30,
    "start_time": "2021-08-22T13:19:03.593Z"
   },
   {
    "duration": 21,
    "start_time": "2021-08-22T13:19:03.654Z"
   },
   {
    "duration": 12,
    "start_time": "2021-08-22T13:19:03.677Z"
   },
   {
    "duration": 13,
    "start_time": "2021-08-22T13:19:03.691Z"
   },
   {
    "duration": 54,
    "start_time": "2021-08-22T13:19:03.706Z"
   },
   {
    "duration": 17,
    "start_time": "2021-08-22T13:19:03.762Z"
   },
   {
    "duration": 13,
    "start_time": "2021-08-22T13:19:03.782Z"
   },
   {
    "duration": 14,
    "start_time": "2021-08-22T13:19:03.798Z"
   },
   {
    "duration": 92,
    "start_time": "2021-08-22T13:20:53.994Z"
   },
   {
    "duration": 1646,
    "start_time": "2021-08-23T13:03:17.400Z"
   },
   {
    "duration": 175,
    "start_time": "2021-08-23T13:03:19.049Z"
   },
   {
    "duration": 5,
    "start_time": "2021-08-23T13:03:19.227Z"
   },
   {
    "duration": 7,
    "start_time": "2021-08-23T13:03:19.235Z"
   },
   {
    "duration": 9,
    "start_time": "2021-08-23T13:03:19.244Z"
   },
   {
    "duration": 119,
    "start_time": "2021-08-23T13:03:19.256Z"
   },
   {
    "duration": 6,
    "start_time": "2021-08-23T13:03:19.377Z"
   },
   {
    "duration": 4,
    "start_time": "2021-08-23T13:03:19.388Z"
   },
   {
    "duration": 9,
    "start_time": "2021-08-23T13:03:19.395Z"
   },
   {
    "duration": 6,
    "start_time": "2021-08-23T13:03:19.407Z"
   },
   {
    "duration": 8,
    "start_time": "2021-08-23T13:03:19.415Z"
   },
   {
    "duration": 24,
    "start_time": "2021-08-23T13:03:19.426Z"
   },
   {
    "duration": 18,
    "start_time": "2021-08-23T13:03:19.453Z"
   },
   {
    "duration": 1000,
    "start_time": "2021-08-23T13:03:19.474Z"
   },
   {
    "duration": 187,
    "start_time": "2021-08-23T13:03:20.477Z"
   },
   {
    "duration": 44,
    "start_time": "2021-08-23T13:03:20.668Z"
   },
   {
    "duration": 20,
    "start_time": "2021-08-23T13:03:20.715Z"
   },
   {
    "duration": 414,
    "start_time": "2021-08-23T13:03:20.737Z"
   },
   {
    "duration": 19,
    "start_time": "2021-08-23T13:03:21.153Z"
   },
   {
    "duration": 129,
    "start_time": "2021-08-23T13:03:21.174Z"
   },
   {
    "duration": 28,
    "start_time": "2021-08-23T13:03:21.305Z"
   },
   {
    "duration": 421,
    "start_time": "2021-08-23T13:03:21.336Z"
   },
   {
    "duration": 35,
    "start_time": "2021-08-23T13:03:21.764Z"
   },
   {
    "duration": 38,
    "start_time": "2021-08-23T13:03:21.803Z"
   },
   {
    "duration": 240,
    "start_time": "2021-08-23T13:03:21.844Z"
   },
   {
    "duration": 17,
    "start_time": "2021-08-23T13:03:22.087Z"
   },
   {
    "duration": 11,
    "start_time": "2021-08-23T13:03:22.107Z"
   },
   {
    "duration": 399,
    "start_time": "2021-08-23T13:03:22.120Z"
   },
   {
    "duration": 17,
    "start_time": "2021-08-23T13:03:22.522Z"
   },
   {
    "duration": 252,
    "start_time": "2021-08-23T13:03:22.542Z"
   },
   {
    "duration": 15,
    "start_time": "2021-08-23T13:03:22.801Z"
   },
   {
    "duration": 23,
    "start_time": "2021-08-23T13:03:22.819Z"
   },
   {
    "duration": 21,
    "start_time": "2021-08-23T13:03:22.845Z"
   },
   {
    "duration": 51,
    "start_time": "2021-08-23T13:03:22.868Z"
   },
   {
    "duration": 21,
    "start_time": "2021-08-23T13:03:22.922Z"
   },
   {
    "duration": 56,
    "start_time": "2021-08-23T13:03:22.946Z"
   },
   {
    "duration": 31,
    "start_time": "2021-08-23T13:03:23.005Z"
   },
   {
    "duration": 21,
    "start_time": "2021-08-23T13:03:23.039Z"
   },
   {
    "duration": 49,
    "start_time": "2021-08-23T13:03:23.062Z"
   },
   {
    "duration": 24,
    "start_time": "2021-08-23T13:03:23.114Z"
   },
   {
    "duration": 310,
    "start_time": "2021-08-23T13:03:23.141Z"
   },
   {
    "duration": 290,
    "start_time": "2021-08-23T13:03:23.454Z"
   },
   {
    "duration": 18,
    "start_time": "2021-08-23T13:03:23.747Z"
   },
   {
    "duration": 401,
    "start_time": "2021-08-23T13:03:23.768Z"
   },
   {
    "duration": 19,
    "start_time": "2021-08-23T13:03:24.171Z"
   },
   {
    "duration": 310,
    "start_time": "2021-08-23T13:03:24.201Z"
   },
   {
    "duration": 7,
    "start_time": "2021-08-23T13:03:24.513Z"
   },
   {
    "duration": 21,
    "start_time": "2021-08-23T13:03:24.522Z"
   },
   {
    "duration": 402,
    "start_time": "2021-08-23T13:03:24.545Z"
   },
   {
    "duration": 16,
    "start_time": "2021-08-23T13:03:24.949Z"
   },
   {
    "duration": 255,
    "start_time": "2021-08-23T13:03:24.967Z"
   },
   {
    "duration": 243,
    "start_time": "2021-08-23T13:03:25.224Z"
   },
   {
    "duration": 6,
    "start_time": "2021-08-23T13:03:25.469Z"
   },
   {
    "duration": 35,
    "start_time": "2021-08-23T13:03:25.477Z"
   },
   {
    "duration": 331,
    "start_time": "2021-08-23T13:03:25.514Z"
   },
   {
    "duration": 228,
    "start_time": "2021-08-23T13:03:25.847Z"
   },
   {
    "duration": 6,
    "start_time": "2021-08-23T13:03:26.077Z"
   },
   {
    "duration": 41,
    "start_time": "2021-08-23T13:03:26.085Z"
   },
   {
    "duration": 16,
    "start_time": "2021-08-23T13:03:26.129Z"
   },
   {
    "duration": 17,
    "start_time": "2021-08-23T13:03:26.148Z"
   },
   {
    "duration": 43,
    "start_time": "2021-08-23T13:03:26.167Z"
   },
   {
    "duration": 32,
    "start_time": "2021-08-23T13:03:26.212Z"
   },
   {
    "duration": 23,
    "start_time": "2021-08-23T13:03:26.246Z"
   },
   {
    "duration": 29,
    "start_time": "2021-08-23T13:03:26.272Z"
   },
   {
    "duration": 15,
    "start_time": "2021-08-23T13:03:26.303Z"
   },
   {
    "duration": 126,
    "start_time": "2021-08-24T03:20:20.022Z"
   },
   {
    "duration": 121,
    "start_time": "2021-08-24T03:21:03.324Z"
   },
   {
    "duration": 1533,
    "start_time": "2021-08-25T01:57:58.288Z"
   },
   {
    "duration": 311,
    "start_time": "2021-08-25T01:57:59.824Z"
   },
   {
    "duration": 3,
    "start_time": "2021-08-25T01:58:00.138Z"
   },
   {
    "duration": 15,
    "start_time": "2021-08-25T01:58:00.144Z"
   },
   {
    "duration": 18,
    "start_time": "2021-08-25T01:58:00.162Z"
   },
   {
    "duration": 275,
    "start_time": "2021-08-25T01:58:00.183Z"
   },
   {
    "duration": 5,
    "start_time": "2021-08-25T01:58:00.461Z"
   },
   {
    "duration": 21,
    "start_time": "2021-08-25T01:58:00.470Z"
   },
   {
    "duration": 18,
    "start_time": "2021-08-25T01:58:00.494Z"
   },
   {
    "duration": 27,
    "start_time": "2021-08-25T01:58:00.515Z"
   },
   {
    "duration": 19,
    "start_time": "2021-08-25T01:58:00.545Z"
   },
   {
    "duration": 48,
    "start_time": "2021-08-25T01:58:00.566Z"
   },
   {
    "duration": 45,
    "start_time": "2021-08-25T01:58:00.616Z"
   },
   {
    "duration": 317,
    "start_time": "2021-08-25T01:58:00.663Z"
   },
   {
    "duration": 277,
    "start_time": "2021-08-25T01:58:00.983Z"
   },
   {
    "duration": 25,
    "start_time": "2021-08-25T01:58:01.263Z"
   },
   {
    "duration": 26,
    "start_time": "2021-08-25T01:58:01.290Z"
   },
   {
    "duration": 579,
    "start_time": "2021-08-25T01:58:01.319Z"
   },
   {
    "duration": 20,
    "start_time": "2021-08-25T01:58:01.901Z"
   },
   {
    "duration": 47,
    "start_time": "2021-08-25T01:58:01.923Z"
   },
   {
    "duration": 30,
    "start_time": "2021-08-25T01:58:01.972Z"
   },
   {
    "duration": 595,
    "start_time": "2021-08-25T01:58:02.005Z"
   },
   {
    "duration": 21,
    "start_time": "2021-08-25T01:58:02.606Z"
   },
   {
    "duration": 78,
    "start_time": "2021-08-25T01:58:02.630Z"
   },
   {
    "duration": 332,
    "start_time": "2021-08-25T01:58:02.711Z"
   },
   {
    "duration": 13,
    "start_time": "2021-08-25T01:58:03.045Z"
   },
   {
    "duration": 25,
    "start_time": "2021-08-25T01:58:03.060Z"
   },
   {
    "duration": 534,
    "start_time": "2021-08-25T01:58:03.087Z"
   },
   {
    "duration": 33,
    "start_time": "2021-08-25T01:58:03.623Z"
   },
   {
    "duration": 311,
    "start_time": "2021-08-25T01:58:03.658Z"
   },
   {
    "duration": 18,
    "start_time": "2021-08-25T01:58:03.972Z"
   },
   {
    "duration": 31,
    "start_time": "2021-08-25T01:58:03.994Z"
   },
   {
    "duration": 41,
    "start_time": "2021-08-25T01:58:04.028Z"
   },
   {
    "duration": 122,
    "start_time": "2021-08-25T01:58:04.072Z"
   },
   {
    "duration": 11,
    "start_time": "2021-08-25T01:58:04.197Z"
   },
   {
    "duration": 51,
    "start_time": "2021-08-25T01:58:04.212Z"
   },
   {
    "duration": 40,
    "start_time": "2021-08-25T01:58:04.266Z"
   },
   {
    "duration": 50,
    "start_time": "2021-08-25T01:58:04.310Z"
   },
   {
    "duration": 43,
    "start_time": "2021-08-25T01:58:04.362Z"
   },
   {
    "duration": 60,
    "start_time": "2021-08-25T01:58:04.407Z"
   },
   {
    "duration": 343,
    "start_time": "2021-08-25T01:58:04.470Z"
   },
   {
    "duration": 341,
    "start_time": "2021-08-25T01:58:04.816Z"
   },
   {
    "duration": 20,
    "start_time": "2021-08-25T01:58:05.160Z"
   },
   {
    "duration": 412,
    "start_time": "2021-08-25T01:58:05.183Z"
   },
   {
    "duration": 21,
    "start_time": "2021-08-25T01:58:05.597Z"
   },
   {
    "duration": 345,
    "start_time": "2021-08-25T01:58:05.621Z"
   },
   {
    "duration": 7,
    "start_time": "2021-08-25T01:58:05.968Z"
   },
   {
    "duration": 39,
    "start_time": "2021-08-25T01:58:05.978Z"
   },
   {
    "duration": 442,
    "start_time": "2021-08-25T01:58:06.019Z"
   },
   {
    "duration": 17,
    "start_time": "2021-08-25T01:58:06.463Z"
   },
   {
    "duration": 331,
    "start_time": "2021-08-25T01:58:06.483Z"
   },
   {
    "duration": 436,
    "start_time": "2021-08-25T01:58:06.816Z"
   },
   {
    "duration": 6,
    "start_time": "2021-08-25T01:58:07.254Z"
   },
   {
    "duration": 51,
    "start_time": "2021-08-25T01:58:07.263Z"
   },
   {
    "duration": 314,
    "start_time": "2021-08-25T01:58:07.316Z"
   },
   {
    "duration": 428,
    "start_time": "2021-08-25T01:58:07.632Z"
   },
   {
    "duration": 6,
    "start_time": "2021-08-25T01:58:08.062Z"
   },
   {
    "duration": 46,
    "start_time": "2021-08-25T01:58:08.070Z"
   },
   {
    "duration": 36,
    "start_time": "2021-08-25T01:58:08.118Z"
   },
   {
    "duration": 12,
    "start_time": "2021-08-25T01:58:08.157Z"
   },
   {
    "duration": 11,
    "start_time": "2021-08-25T01:58:08.172Z"
   },
   {
    "duration": 19,
    "start_time": "2021-08-25T01:58:08.185Z"
   },
   {
    "duration": 54,
    "start_time": "2021-08-25T01:58:08.206Z"
   },
   {
    "duration": 11,
    "start_time": "2021-08-25T01:58:08.262Z"
   },
   {
    "duration": 17,
    "start_time": "2021-08-25T01:58:08.275Z"
   }
  ],
  "kernelspec": {
   "display_name": "Python 3",
   "language": "python",
   "name": "python3"
  },
  "language_info": {
   "codemirror_mode": {
    "name": "ipython",
    "version": 3
   },
   "file_extension": ".py",
   "mimetype": "text/x-python",
   "name": "python",
   "nbconvert_exporter": "python",
   "pygments_lexer": "ipython3",
   "version": "3.8.5"
  },
  "toc": {
   "base_numbering": 1,
   "nav_menu": {},
   "number_sections": true,
   "sideBar": true,
   "skip_h1_title": false,
   "title_cell": "Table of Contents",
   "title_sidebar": "Contents",
   "toc_cell": false,
   "toc_position": {},
   "toc_section_display": true,
   "toc_window_display": false
  }
 },
 "nbformat": 4,
 "nbformat_minor": 4
}
