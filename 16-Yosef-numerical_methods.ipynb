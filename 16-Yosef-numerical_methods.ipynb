{
 "cells": [
  {
   "cell_type": "markdown",
   "metadata": {},
   "source": [
    "# Project description\n",
    "\n",
    "Rusty Bargain used car sales service is developing an app to attract new customers. In that app, you can quickly find out the market value of your car. You have access to historical data: technical specifications, trim versions, and prices. You need to build the model to determine the value.\n",
    "Rusty Bargain is interested in:\n",
    "\n",
    "* the quality of the prediction\n",
    "* the speed of the prediction\n",
    "* the time required for training\n",
    "\n",
    "## Data description\n",
    "\n",
    "### Features\n",
    "\n",
    "    DateCrawled — date profile was downloaded from the database\n",
    "    VehicleType — vehicle body type\n",
    "    RegistrationYear — vehicle registration year\n",
    "    Gearbox — gearbox type\n",
    "    Power — power (hp)\n",
    "    Model — vehicle model\n",
    "    Mileage — mileage (measured in km due to dataset's regional specifics)\n",
    "    RegistrationMonth — vehicle registration month\n",
    "    FuelType — fuel type\n",
    "    Brand — vehicle brand\n",
    "    NotRepaired — vehicle repaired or not\n",
    "    DateCreated — date of profile creation\n",
    "    NumberOfPictures — number of vehicle pictures\n",
    "    PostalCode — postal code of profile owner (user)\n",
    "    LastSeen — date of the last activity of the user\n",
    "\n",
    "### Target\n",
    "    Price — price (Euro)\n"
   ]
  },
  {
   "cell_type": "code",
   "execution_count": 1,
   "metadata": {},
   "outputs": [
    {
     "name": "stdout",
     "output_type": "stream",
     "text": [
      "Defaulting to user installation because normal site-packages is not writeable\n",
      "Requirement already up-to-date: pandas in /home/jovyan/.local/lib/python3.7/site-packages (1.3.4)\n",
      "Requirement already satisfied, skipping upgrade: numpy>=1.17.3; platform_machine != \"aarch64\" and platform_machine != \"arm64\" and python_version < \"3.10\" in /home/jovyan/.local/lib/python3.7/site-packages (from pandas) (1.21.4)\n",
      "Requirement already satisfied, skipping upgrade: python-dateutil>=2.7.3 in /opt/conda/lib/python3.7/site-packages (from pandas) (2.8.1)\n",
      "Requirement already satisfied, skipping upgrade: pytz>=2017.3 in /opt/conda/lib/python3.7/site-packages (from pandas) (2021.1)\n",
      "Requirement already satisfied, skipping upgrade: six>=1.5 in /opt/conda/lib/python3.7/site-packages (from python-dateutil>=2.7.3->pandas) (1.15.0)\n",
      "Defaulting to user installation because normal site-packages is not writeable\n",
      "Requirement already up-to-date: numpy in /home/jovyan/.local/lib/python3.7/site-packages (1.21.4)\n",
      "Defaulting to user installation because normal site-packages is not writeable\n",
      "Requirement already up-to-date: seaborn in /home/jovyan/.local/lib/python3.7/site-packages (0.11.2)\n",
      "Requirement already satisfied, skipping upgrade: pandas>=0.23 in /home/jovyan/.local/lib/python3.7/site-packages (from seaborn) (1.3.4)\n",
      "Requirement already satisfied, skipping upgrade: scipy>=1.0 in /opt/conda/lib/python3.7/site-packages (from seaborn) (1.4.1)\n",
      "Requirement already satisfied, skipping upgrade: matplotlib>=2.2 in /home/jovyan/.local/lib/python3.7/site-packages (from seaborn) (3.4.3)\n",
      "Requirement already satisfied, skipping upgrade: numpy>=1.15 in /home/jovyan/.local/lib/python3.7/site-packages (from seaborn) (1.21.4)\n",
      "Requirement already satisfied, skipping upgrade: python-dateutil>=2.7.3 in /opt/conda/lib/python3.7/site-packages (from pandas>=0.23->seaborn) (2.8.1)\n",
      "Requirement already satisfied, skipping upgrade: pytz>=2017.3 in /opt/conda/lib/python3.7/site-packages (from pandas>=0.23->seaborn) (2021.1)\n",
      "Requirement already satisfied, skipping upgrade: pillow>=6.2.0 in /opt/conda/lib/python3.7/site-packages (from matplotlib>=2.2->seaborn) (7.0.0)\n",
      "Requirement already satisfied, skipping upgrade: kiwisolver>=1.0.1 in /opt/conda/lib/python3.7/site-packages (from matplotlib>=2.2->seaborn) (1.3.1)\n",
      "Requirement already satisfied, skipping upgrade: cycler>=0.10 in /opt/conda/lib/python3.7/site-packages (from matplotlib>=2.2->seaborn) (0.10.0)\n",
      "Requirement already satisfied, skipping upgrade: pyparsing>=2.2.1 in /opt/conda/lib/python3.7/site-packages (from matplotlib>=2.2->seaborn) (2.4.7)\n",
      "Requirement already satisfied, skipping upgrade: six>=1.5 in /opt/conda/lib/python3.7/site-packages (from python-dateutil>=2.7.3->pandas>=0.23->seaborn) (1.15.0)\n",
      "Defaulting to user installation because normal site-packages is not writeable\n",
      "Requirement already up-to-date: matplotlib in /home/jovyan/.local/lib/python3.7/site-packages (3.4.3)\n",
      "Requirement already satisfied, skipping upgrade: pyparsing>=2.2.1 in /opt/conda/lib/python3.7/site-packages (from matplotlib) (2.4.7)\n",
      "Requirement already satisfied, skipping upgrade: numpy>=1.16 in /home/jovyan/.local/lib/python3.7/site-packages (from matplotlib) (1.21.4)\n",
      "Requirement already satisfied, skipping upgrade: pillow>=6.2.0 in /opt/conda/lib/python3.7/site-packages (from matplotlib) (7.0.0)\n",
      "Requirement already satisfied, skipping upgrade: python-dateutil>=2.7 in /opt/conda/lib/python3.7/site-packages (from matplotlib) (2.8.1)\n",
      "Requirement already satisfied, skipping upgrade: cycler>=0.10 in /opt/conda/lib/python3.7/site-packages (from matplotlib) (0.10.0)\n",
      "Requirement already satisfied, skipping upgrade: kiwisolver>=1.0.1 in /opt/conda/lib/python3.7/site-packages (from matplotlib) (1.3.1)\n",
      "Requirement already satisfied, skipping upgrade: six>=1.5 in /opt/conda/lib/python3.7/site-packages (from python-dateutil>=2.7->matplotlib) (1.15.0)\n",
      "Defaulting to user installation because normal site-packages is not writeable\n",
      "Requirement already up-to-date: scikit-learn in /home/jovyan/.local/lib/python3.7/site-packages (1.0.1)\n",
      "Requirement already satisfied, skipping upgrade: joblib>=0.11 in /opt/conda/lib/python3.7/site-packages (from scikit-learn) (1.0.1)\n",
      "Requirement already satisfied, skipping upgrade: numpy>=1.14.6 in /home/jovyan/.local/lib/python3.7/site-packages (from scikit-learn) (1.21.4)\n",
      "Requirement already satisfied, skipping upgrade: scipy>=1.1.0 in /opt/conda/lib/python3.7/site-packages (from scikit-learn) (1.4.1)\n",
      "Requirement already satisfied, skipping upgrade: threadpoolctl>=2.0.0 in /home/jovyan/.local/lib/python3.7/site-packages (from scikit-learn) (3.0.0)\n"
     ]
    }
   ],
   "source": [
    "!pip install -U pandas\n",
    "!pip install -U numpy\n",
    "!pip install -U seaborn\n",
    "!pip install -U matplotlib\n",
    "!pip install -U scikit-learn"
   ]
  },
  {
   "cell_type": "code",
   "execution_count": 2,
   "metadata": {},
   "outputs": [],
   "source": [
    "import os\n",
    "\n",
    "import numpy as np\n",
    "import pandas as pd\n",
    "import seaborn as sns\n",
    "import matplotlib.pyplot as plt\n",
    "\n",
    "from sklearn.model_selection import train_test_split\n",
    "from sklearn.preprocessing import StandardScaler\n",
    "from sklearn.metrics import mean_squared_error\n",
    "from sklearn.model_selection import GridSearchCV\n",
    "from sklearn.linear_model import LinearRegression\n",
    "from sklearn.ensemble import HistGradientBoostingRegressor\n",
    "from sklearn.pipeline import make_pipeline , Pipeline\n",
    "from sklearn.preprocessing import OrdinalEncoder\n",
    "from sklearn.compose import make_column_transformer, make_column_selector"
   ]
  },
  {
   "cell_type": "code",
   "execution_count": 3,
   "metadata": {},
   "outputs": [],
   "source": [
    "# import warnings\n",
    "# warnings.filterwarnings(\"ignore\")\n",
    "\n",
    "pd.set_option('display.max_columns', 20)\n",
    "pd.set_option('display.max_rows', 20)"
   ]
  },
  {
   "cell_type": "markdown",
   "metadata": {},
   "source": [
    "## Data preparation"
   ]
  },
  {
   "cell_type": "code",
   "execution_count": 4,
   "metadata": {},
   "outputs": [
    {
     "data": {
      "text/html": [
       "<div>\n",
       "<style scoped>\n",
       "    .dataframe tbody tr th:only-of-type {\n",
       "        vertical-align: middle;\n",
       "    }\n",
       "\n",
       "    .dataframe tbody tr th {\n",
       "        vertical-align: top;\n",
       "    }\n",
       "\n",
       "    .dataframe thead th {\n",
       "        text-align: right;\n",
       "    }\n",
       "</style>\n",
       "<table border=\"1\" class=\"dataframe\">\n",
       "  <thead>\n",
       "    <tr style=\"text-align: right;\">\n",
       "      <th></th>\n",
       "      <th>DateCrawled</th>\n",
       "      <th>Price</th>\n",
       "      <th>VehicleType</th>\n",
       "      <th>RegistrationYear</th>\n",
       "      <th>Gearbox</th>\n",
       "      <th>Power</th>\n",
       "      <th>Model</th>\n",
       "      <th>Mileage</th>\n",
       "      <th>RegistrationMonth</th>\n",
       "      <th>FuelType</th>\n",
       "      <th>Brand</th>\n",
       "      <th>NotRepaired</th>\n",
       "      <th>DateCreated</th>\n",
       "      <th>NumberOfPictures</th>\n",
       "      <th>PostalCode</th>\n",
       "      <th>LastSeen</th>\n",
       "    </tr>\n",
       "  </thead>\n",
       "  <tbody>\n",
       "    <tr>\n",
       "      <th>0</th>\n",
       "      <td>24/03/2016 11:52</td>\n",
       "      <td>480</td>\n",
       "      <td>NaN</td>\n",
       "      <td>1993</td>\n",
       "      <td>manual</td>\n",
       "      <td>0</td>\n",
       "      <td>golf</td>\n",
       "      <td>150000</td>\n",
       "      <td>0</td>\n",
       "      <td>petrol</td>\n",
       "      <td>volkswagen</td>\n",
       "      <td>NaN</td>\n",
       "      <td>24/03/2016 00:00</td>\n",
       "      <td>0</td>\n",
       "      <td>70435</td>\n",
       "      <td>07/04/2016 03:16</td>\n",
       "    </tr>\n",
       "    <tr>\n",
       "      <th>1</th>\n",
       "      <td>24/03/2016 10:58</td>\n",
       "      <td>18300</td>\n",
       "      <td>coupe</td>\n",
       "      <td>2011</td>\n",
       "      <td>manual</td>\n",
       "      <td>190</td>\n",
       "      <td>NaN</td>\n",
       "      <td>125000</td>\n",
       "      <td>5</td>\n",
       "      <td>gasoline</td>\n",
       "      <td>audi</td>\n",
       "      <td>yes</td>\n",
       "      <td>24/03/2016 00:00</td>\n",
       "      <td>0</td>\n",
       "      <td>66954</td>\n",
       "      <td>07/04/2016 01:46</td>\n",
       "    </tr>\n",
       "    <tr>\n",
       "      <th>2</th>\n",
       "      <td>14/03/2016 12:52</td>\n",
       "      <td>9800</td>\n",
       "      <td>suv</td>\n",
       "      <td>2004</td>\n",
       "      <td>auto</td>\n",
       "      <td>163</td>\n",
       "      <td>grand</td>\n",
       "      <td>125000</td>\n",
       "      <td>8</td>\n",
       "      <td>gasoline</td>\n",
       "      <td>jeep</td>\n",
       "      <td>NaN</td>\n",
       "      <td>14/03/2016 00:00</td>\n",
       "      <td>0</td>\n",
       "      <td>90480</td>\n",
       "      <td>05/04/2016 12:47</td>\n",
       "    </tr>\n",
       "    <tr>\n",
       "      <th>3</th>\n",
       "      <td>17/03/2016 16:54</td>\n",
       "      <td>1500</td>\n",
       "      <td>small</td>\n",
       "      <td>2001</td>\n",
       "      <td>manual</td>\n",
       "      <td>75</td>\n",
       "      <td>golf</td>\n",
       "      <td>150000</td>\n",
       "      <td>6</td>\n",
       "      <td>petrol</td>\n",
       "      <td>volkswagen</td>\n",
       "      <td>no</td>\n",
       "      <td>17/03/2016 00:00</td>\n",
       "      <td>0</td>\n",
       "      <td>91074</td>\n",
       "      <td>17/03/2016 17:40</td>\n",
       "    </tr>\n",
       "    <tr>\n",
       "      <th>4</th>\n",
       "      <td>31/03/2016 17:25</td>\n",
       "      <td>3600</td>\n",
       "      <td>small</td>\n",
       "      <td>2008</td>\n",
       "      <td>manual</td>\n",
       "      <td>69</td>\n",
       "      <td>fabia</td>\n",
       "      <td>90000</td>\n",
       "      <td>7</td>\n",
       "      <td>gasoline</td>\n",
       "      <td>skoda</td>\n",
       "      <td>no</td>\n",
       "      <td>31/03/2016 00:00</td>\n",
       "      <td>0</td>\n",
       "      <td>60437</td>\n",
       "      <td>06/04/2016 10:17</td>\n",
       "    </tr>\n",
       "  </tbody>\n",
       "</table>\n",
       "</div>"
      ],
      "text/plain": [
       "        DateCrawled  Price VehicleType  RegistrationYear Gearbox  Power  \\\n",
       "0  24/03/2016 11:52    480         NaN              1993  manual      0   \n",
       "1  24/03/2016 10:58  18300       coupe              2011  manual    190   \n",
       "2  14/03/2016 12:52   9800         suv              2004    auto    163   \n",
       "3  17/03/2016 16:54   1500       small              2001  manual     75   \n",
       "4  31/03/2016 17:25   3600       small              2008  manual     69   \n",
       "\n",
       "   Model  Mileage  RegistrationMonth  FuelType       Brand NotRepaired  \\\n",
       "0   golf   150000                  0    petrol  volkswagen         NaN   \n",
       "1    NaN   125000                  5  gasoline        audi         yes   \n",
       "2  grand   125000                  8  gasoline        jeep         NaN   \n",
       "3   golf   150000                  6    petrol  volkswagen          no   \n",
       "4  fabia    90000                  7  gasoline       skoda          no   \n",
       "\n",
       "        DateCreated  NumberOfPictures  PostalCode          LastSeen  \n",
       "0  24/03/2016 00:00                 0       70435  07/04/2016 03:16  \n",
       "1  24/03/2016 00:00                 0       66954  07/04/2016 01:46  \n",
       "2  14/03/2016 00:00                 0       90480  05/04/2016 12:47  \n",
       "3  17/03/2016 00:00                 0       91074  17/03/2016 17:40  \n",
       "4  31/03/2016 00:00                 0       60437  06/04/2016 10:17  "
      ]
     },
     "execution_count": 4,
     "metadata": {},
     "output_type": "execute_result"
    }
   ],
   "source": [
    "df = pd.read_csv(\"https://code.s3.yandex.net/datasets/car_data.csv\")\n",
    "df.head()"
   ]
  },
  {
   "cell_type": "code",
   "execution_count": 5,
   "metadata": {},
   "outputs": [
    {
     "name": "stdout",
     "output_type": "stream",
     "text": [
      "<class 'pandas.core.frame.DataFrame'>\n",
      "RangeIndex: 354369 entries, 0 to 354368\n",
      "Data columns (total 16 columns):\n",
      " #   Column             Non-Null Count   Dtype \n",
      "---  ------             --------------   ----- \n",
      " 0   DateCrawled        354369 non-null  object\n",
      " 1   Price              354369 non-null  int64 \n",
      " 2   VehicleType        316879 non-null  object\n",
      " 3   RegistrationYear   354369 non-null  int64 \n",
      " 4   Gearbox            334536 non-null  object\n",
      " 5   Power              354369 non-null  int64 \n",
      " 6   Model              334664 non-null  object\n",
      " 7   Mileage            354369 non-null  int64 \n",
      " 8   RegistrationMonth  354369 non-null  int64 \n",
      " 9   FuelType           321474 non-null  object\n",
      " 10  Brand              354369 non-null  object\n",
      " 11  NotRepaired        283215 non-null  object\n",
      " 12  DateCreated        354369 non-null  object\n",
      " 13  NumberOfPictures   354369 non-null  int64 \n",
      " 14  PostalCode         354369 non-null  int64 \n",
      " 15  LastSeen           354369 non-null  object\n",
      "dtypes: int64(7), object(9)\n",
      "memory usage: 43.3+ MB\n"
     ]
    }
   ],
   "source": [
    "df.info()"
   ]
  },
  {
   "cell_type": "code",
   "execution_count": 6,
   "metadata": {},
   "outputs": [],
   "source": [
    "df['DateCreated'] = pd.to_datetime(df['DateCreated'])\n",
    "df['DateCrawled'] = pd.to_datetime(df['DateCrawled'])\n",
    "df['LastSeen'] = pd.to_datetime(df['LastSeen'])"
   ]
  },
  {
   "cell_type": "code",
   "execution_count": 7,
   "metadata": {},
   "outputs": [],
   "source": [
    "df.columns = df.columns.to_series().apply(lambda x: x.lower())"
   ]
  },
  {
   "cell_type": "code",
   "execution_count": 8,
   "metadata": {},
   "outputs": [],
   "source": [
    "df = df.applymap(lambda s: s.lower() if type(s) == str else s)"
   ]
  },
  {
   "cell_type": "code",
   "execution_count": 9,
   "metadata": {},
   "outputs": [
    {
     "name": "stdout",
     "output_type": "stream",
     "text": [
      "<class 'pandas.core.frame.DataFrame'>\n",
      "RangeIndex: 354369 entries, 0 to 354368\n",
      "Data columns (total 16 columns):\n",
      " #   Column             Non-Null Count   Dtype         \n",
      "---  ------             --------------   -----         \n",
      " 0   datecrawled        354369 non-null  datetime64[ns]\n",
      " 1   price              354369 non-null  int64         \n",
      " 2   vehicletype        316879 non-null  object        \n",
      " 3   registrationyear   354369 non-null  int64         \n",
      " 4   gearbox            334536 non-null  object        \n",
      " 5   power              354369 non-null  int64         \n",
      " 6   model              334664 non-null  object        \n",
      " 7   mileage            354369 non-null  int64         \n",
      " 8   registrationmonth  354369 non-null  int64         \n",
      " 9   fueltype           321474 non-null  object        \n",
      " 10  brand              354369 non-null  object        \n",
      " 11  notrepaired        283215 non-null  object        \n",
      " 12  datecreated        354369 non-null  datetime64[ns]\n",
      " 13  numberofpictures   354369 non-null  int64         \n",
      " 14  postalcode         354369 non-null  int64         \n",
      " 15  lastseen           354369 non-null  datetime64[ns]\n",
      "dtypes: datetime64[ns](3), int64(7), object(6)\n",
      "memory usage: 43.3+ MB\n"
     ]
    }
   ],
   "source": [
    "df.info()"
   ]
  },
  {
   "cell_type": "markdown",
   "metadata": {},
   "source": [
    "## EDA"
   ]
  },
  {
   "cell_type": "markdown",
   "metadata": {},
   "source": [
    "* check nulls:"
   ]
  },
  {
   "cell_type": "code",
   "execution_count": 10,
   "metadata": {},
   "outputs": [
    {
     "data": {
      "text/html": [
       "<div>\n",
       "<style scoped>\n",
       "    .dataframe tbody tr th:only-of-type {\n",
       "        vertical-align: middle;\n",
       "    }\n",
       "\n",
       "    .dataframe tbody tr th {\n",
       "        vertical-align: top;\n",
       "    }\n",
       "\n",
       "    .dataframe thead th {\n",
       "        text-align: right;\n",
       "    }\n",
       "</style>\n",
       "<table border=\"1\" class=\"dataframe\">\n",
       "  <thead>\n",
       "    <tr style=\"text-align: right;\">\n",
       "      <th></th>\n",
       "      <th>vehicletype</th>\n",
       "      <th>gearbox</th>\n",
       "      <th>model</th>\n",
       "      <th>fueltype</th>\n",
       "      <th>notrepaired</th>\n",
       "    </tr>\n",
       "  </thead>\n",
       "  <tbody>\n",
       "    <tr>\n",
       "      <th>0</th>\n",
       "      <td>37490</td>\n",
       "      <td>19833</td>\n",
       "      <td>19705</td>\n",
       "      <td>32895</td>\n",
       "      <td>71154</td>\n",
       "    </tr>\n",
       "  </tbody>\n",
       "</table>\n",
       "</div>"
      ],
      "text/plain": [
       "   vehicletype  gearbox  model  fueltype  notrepaired\n",
       "0        37490    19833  19705     32895        71154"
      ]
     },
     "execution_count": 10,
     "metadata": {},
     "output_type": "execute_result"
    }
   ],
   "source": [
    "x = df.isna().sum()\n",
    "pd.DataFrame(x[x != 0]).transpose()"
   ]
  },
  {
   "cell_type": "code",
   "execution_count": 11,
   "metadata": {},
   "outputs": [
    {
     "data": {
      "text/html": [
       "<div>\n",
       "<style scoped>\n",
       "    .dataframe tbody tr th:only-of-type {\n",
       "        vertical-align: middle;\n",
       "    }\n",
       "\n",
       "    .dataframe tbody tr th {\n",
       "        vertical-align: top;\n",
       "    }\n",
       "\n",
       "    .dataframe thead th {\n",
       "        text-align: right;\n",
       "    }\n",
       "</style>\n",
       "<table border=\"1\" class=\"dataframe\">\n",
       "  <thead>\n",
       "    <tr style=\"text-align: right;\">\n",
       "      <th></th>\n",
       "      <th>datecrawled</th>\n",
       "      <th>price</th>\n",
       "      <th>registrationyear</th>\n",
       "      <th>power</th>\n",
       "      <th>mileage</th>\n",
       "      <th>registrationmonth</th>\n",
       "      <th>datecreated</th>\n",
       "      <th>numberofpictures</th>\n",
       "      <th>postalcode</th>\n",
       "      <th>lastseen</th>\n",
       "    </tr>\n",
       "  </thead>\n",
       "  <tbody>\n",
       "    <tr>\n",
       "      <th>min</th>\n",
       "      <td>2016-01-04 00:06:00</td>\n",
       "      <td>0.000000</td>\n",
       "      <td>1000.000000</td>\n",
       "      <td>0.000000</td>\n",
       "      <td>5000.000000</td>\n",
       "      <td>0.000000</td>\n",
       "      <td>2014-10-03 00:00:00</td>\n",
       "      <td>0.0</td>\n",
       "      <td>1067.000000</td>\n",
       "      <td>2016-01-04 00:15:00</td>\n",
       "    </tr>\n",
       "    <tr>\n",
       "      <th>max</th>\n",
       "      <td>2016-12-03 23:59:00</td>\n",
       "      <td>20000.000000</td>\n",
       "      <td>9999.000000</td>\n",
       "      <td>20000.000000</td>\n",
       "      <td>150000.000000</td>\n",
       "      <td>12.000000</td>\n",
       "      <td>2016-12-03 00:00:00</td>\n",
       "      <td>0.0</td>\n",
       "      <td>99998.000000</td>\n",
       "      <td>2016-12-03 23:54:00</td>\n",
       "    </tr>\n",
       "    <tr>\n",
       "      <th>mean</th>\n",
       "      <td>2016-04-27 09:10:19.547421184</td>\n",
       "      <td>4416.656776</td>\n",
       "      <td>2004.234448</td>\n",
       "      <td>110.094337</td>\n",
       "      <td>128211.172535</td>\n",
       "      <td>5.714645</td>\n",
       "      <td>2016-04-26 10:09:30.097271552</td>\n",
       "      <td>0.0</td>\n",
       "      <td>50508.689087</td>\n",
       "      <td>2016-05-08 02:24:54.781033216</td>\n",
       "    </tr>\n",
       "  </tbody>\n",
       "</table>\n",
       "</div>"
      ],
      "text/plain": [
       "                        datecrawled         price  registrationyear  \\\n",
       "min             2016-01-04 00:06:00      0.000000       1000.000000   \n",
       "max             2016-12-03 23:59:00  20000.000000       9999.000000   \n",
       "mean  2016-04-27 09:10:19.547421184   4416.656776       2004.234448   \n",
       "\n",
       "             power        mileage  registrationmonth  \\\n",
       "min       0.000000    5000.000000           0.000000   \n",
       "max   20000.000000  150000.000000          12.000000   \n",
       "mean    110.094337  128211.172535           5.714645   \n",
       "\n",
       "                        datecreated  numberofpictures    postalcode  \\\n",
       "min             2014-10-03 00:00:00               0.0   1067.000000   \n",
       "max             2016-12-03 00:00:00               0.0  99998.000000   \n",
       "mean  2016-04-26 10:09:30.097271552               0.0  50508.689087   \n",
       "\n",
       "                           lastseen  \n",
       "min             2016-01-04 00:15:00  \n",
       "max             2016-12-03 23:54:00  \n",
       "mean  2016-05-08 02:24:54.781033216  "
      ]
     },
     "execution_count": 11,
     "metadata": {},
     "output_type": "execute_result"
    }
   ],
   "source": [
    "df.describe(datetime_is_numeric=True).loc[['min', 'max', 'mean'], :]"
   ]
  },
  {
   "cell_type": "markdown",
   "metadata": {},
   "source": [
    "* all these \"dates\" columns and the postal code are about the user profile and not about the car , so they are meaningless for us.\n",
    "* number of pictures is 0 always.\n",
    "* i dont think we need the 'registration month' to do our predictions."
   ]
  },
  {
   "cell_type": "code",
   "execution_count": 12,
   "metadata": {},
   "outputs": [],
   "source": [
    "df.drop(columns=['numberofpictures', 'postalcode', 'lastseen',\n",
    "        'datecreated', 'registrationmonth', 'datecrawled', ], inplace=True)"
   ]
  },
  {
   "cell_type": "code",
   "execution_count": 13,
   "metadata": {},
   "outputs": [
    {
     "data": {
      "text/plain": [
       "sedan          91457\n",
       "small          79831\n",
       "wagon          65166\n",
       "bus            28775\n",
       "convertible    20203\n",
       "coupe          16163\n",
       "suv            11996\n",
       "other           3288\n",
       "Name: vehicletype, dtype: int64"
      ]
     },
     "execution_count": 13,
     "metadata": {},
     "output_type": "execute_result"
    }
   ],
   "source": [
    "df['vehicletype'].value_counts()"
   ]
  },
  {
   "cell_type": "markdown",
   "metadata": {},
   "source": [
    "* this \"other\" is like nulls for us, so we will replace it with nulls all over the table."
   ]
  },
  {
   "cell_type": "code",
   "execution_count": 14,
   "metadata": {},
   "outputs": [],
   "source": [
    "df = df.applymap(lambda s: np.nan if s == 'other' else s)"
   ]
  },
  {
   "cell_type": "code",
   "execution_count": 15,
   "metadata": {},
   "outputs": [
    {
     "data": {
      "text/html": [
       "<div>\n",
       "<style scoped>\n",
       "    .dataframe tbody tr th:only-of-type {\n",
       "        vertical-align: middle;\n",
       "    }\n",
       "\n",
       "    .dataframe tbody tr th {\n",
       "        vertical-align: top;\n",
       "    }\n",
       "\n",
       "    .dataframe thead th {\n",
       "        text-align: right;\n",
       "    }\n",
       "</style>\n",
       "<table border=\"1\" class=\"dataframe\">\n",
       "  <thead>\n",
       "    <tr style=\"text-align: right;\">\n",
       "      <th></th>\n",
       "      <th>vehicletype</th>\n",
       "      <th>gearbox</th>\n",
       "      <th>model</th>\n",
       "      <th>fueltype</th>\n",
       "      <th>notrepaired</th>\n",
       "    </tr>\n",
       "  </thead>\n",
       "  <tbody>\n",
       "    <tr>\n",
       "      <th>0</th>\n",
       "      <td>40778</td>\n",
       "      <td>19833</td>\n",
       "      <td>44126</td>\n",
       "      <td>33099</td>\n",
       "      <td>71154</td>\n",
       "    </tr>\n",
       "  </tbody>\n",
       "</table>\n",
       "</div>"
      ],
      "text/plain": [
       "   vehicletype  gearbox  model  fueltype  notrepaired\n",
       "0        40778    19833  44126     33099        71154"
      ]
     },
     "execution_count": 15,
     "metadata": {},
     "output_type": "execute_result"
    }
   ],
   "source": [
    "x = df.isna().sum()\n",
    "pd.DataFrame(x[x != 0]).transpose()"
   ]
  },
  {
   "cell_type": "markdown",
   "metadata": {},
   "source": [
    "* we have now more nulls"
   ]
  },
  {
   "cell_type": "code",
   "execution_count": 17,
   "metadata": {},
   "outputs": [
    {
     "data": {
      "text/plain": [
       "manual    268251\n",
       "auto       66285\n",
       "Name: gearbox, dtype: int64"
      ]
     },
     "execution_count": 17,
     "metadata": {},
     "output_type": "execute_result"
    }
   ],
   "source": [
    "df['gearbox'].value_counts()"
   ]
  },
  {
   "cell_type": "code",
   "execution_count": 18,
   "metadata": {},
   "outputs": [
    {
     "data": {
      "text/plain": [
       "0       40225\n",
       "75      24023\n",
       "60      15897\n",
       "150     14590\n",
       "101     13298\n",
       "        ...  \n",
       "610         1\n",
       "6006        1\n",
       "5815        1\n",
       "6018        1\n",
       "1241        1\n",
       "Name: power, Length: 712, dtype: int64"
      ]
     },
     "execution_count": 18,
     "metadata": {},
     "output_type": "execute_result"
    }
   ],
   "source": [
    "df['power'].value_counts()"
   ]
  },
  {
   "cell_type": "markdown",
   "metadata": {},
   "source": [
    "* i dont know about a vehicle with more than 800 ph. so we will remove these outliers:"
   ]
  },
  {
   "cell_type": "code",
   "execution_count": 19,
   "metadata": {},
   "outputs": [],
   "source": [
    "df = df[df['power'] < 800]"
   ]
  },
  {
   "cell_type": "code",
   "execution_count": 20,
   "metadata": {},
   "outputs": [
    {
     "data": {
      "text/plain": [
       "golf                  29212\n",
       "3er                   19745\n",
       "polo                  13054\n",
       "corsa                 12558\n",
       "astra                 10796\n",
       "                      ...  \n",
       "i3                        8\n",
       "serie_3                   4\n",
       "rangerover                4\n",
       "range_rover_evoque        2\n",
       "serie_1                   2\n",
       "Name: model, Length: 249, dtype: int64"
      ]
     },
     "execution_count": 20,
     "metadata": {},
     "output_type": "execute_result"
    }
   ],
   "source": [
    "df['model'].value_counts()"
   ]
  },
  {
   "cell_type": "code",
   "execution_count": 21,
   "metadata": {
    "scrolled": true
   },
   "outputs": [
    {
     "data": {
      "text/plain": [
       "petrol      216165\n",
       "gasoline     98644\n",
       "lpg           5306\n",
       "cng            563\n",
       "hybrid         233\n",
       "electric        90\n",
       "Name: fueltype, dtype: int64"
      ]
     },
     "execution_count": 21,
     "metadata": {},
     "output_type": "execute_result"
    }
   ],
   "source": [
    "df['fueltype'].value_counts()"
   ]
  },
  {
   "cell_type": "code",
   "execution_count": 22,
   "metadata": {},
   "outputs": [
    {
     "data": {
      "text/plain": [
       "volkswagen       76939\n",
       "opel             39879\n",
       "bmw              36881\n",
       "mercedes_benz    32017\n",
       "audi             29433\n",
       "                 ...  \n",
       "saab               526\n",
       "jaguar             505\n",
       "rover              486\n",
       "lancia             469\n",
       "lada               225\n",
       "Name: brand, Length: 40, dtype: int64"
      ]
     },
     "execution_count": 22,
     "metadata": {},
     "output_type": "execute_result"
    }
   ],
   "source": [
    "df['brand'].value_counts()"
   ]
  },
  {
   "cell_type": "code",
   "execution_count": 23,
   "metadata": {},
   "outputs": [
    {
     "data": {
      "text/plain": [
       "no     246989\n",
       "yes     36007\n",
       "Name: notrepaired, dtype: int64"
      ]
     },
     "execution_count": 23,
     "metadata": {},
     "output_type": "execute_result"
    }
   ],
   "source": [
    "df['notrepaired'].value_counts()"
   ]
  },
  {
   "cell_type": "markdown",
   "metadata": {},
   "source": [
    "* how much data we will lose if we remove the nulls ?"
   ]
  },
  {
   "cell_type": "code",
   "execution_count": 24,
   "metadata": {},
   "outputs": [
    {
     "data": {
      "text/plain": [
       "((354028, 10), (225831, 10))"
      ]
     },
     "execution_count": 24,
     "metadata": {},
     "output_type": "execute_result"
    }
   ],
   "source": [
    "df.shape ,df.dropna().shape"
   ]
  },
  {
   "cell_type": "markdown",
   "metadata": {},
   "source": [
    "* it's a lot of values, but we have a queit big data set. so i will drop them."
   ]
  },
  {
   "cell_type": "code",
   "execution_count": 25,
   "metadata": {},
   "outputs": [],
   "source": [
    "df = df.dropna()"
   ]
  },
  {
   "cell_type": "code",
   "execution_count": 26,
   "metadata": {},
   "outputs": [
    {
     "name": "stdout",
     "output_type": "stream",
     "text": [
      "<class 'pandas.core.frame.DataFrame'>\n",
      "Int64Index: 225831 entries, 3 to 354367\n",
      "Data columns (total 10 columns):\n",
      " #   Column            Non-Null Count   Dtype \n",
      "---  ------            --------------   ----- \n",
      " 0   price             225831 non-null  int64 \n",
      " 1   vehicletype       225831 non-null  object\n",
      " 2   registrationyear  225831 non-null  int64 \n",
      " 3   gearbox           225831 non-null  object\n",
      " 4   power             225831 non-null  int64 \n",
      " 5   model             225831 non-null  object\n",
      " 6   mileage           225831 non-null  int64 \n",
      " 7   fueltype          225831 non-null  object\n",
      " 8   brand             225831 non-null  object\n",
      " 9   notrepaired       225831 non-null  object\n",
      "dtypes: int64(4), object(6)\n",
      "memory usage: 19.0+ MB\n"
     ]
    }
   ],
   "source": [
    "df.info()"
   ]
  },
  {
   "cell_type": "markdown",
   "metadata": {},
   "source": [
    "* lets check the distributions:"
   ]
  },
  {
   "cell_type": "code",
   "execution_count": 27,
   "metadata": {},
   "outputs": [
    {
     "data": {
      "image/png": "[encoded data removed]",
      "text/plain": [
       "<Figure size 792x288 with 2 Axes>"
      ]
     },
     "metadata": {
      "needs_background": "light"
     },
     "output_type": "display_data"
    },
    {
     "data": {
      "image/png": "[encoded data removed]",
      "text/plain": [
       "<Figure size 792x288 with 2 Axes>"
      ]
     },
     "metadata": {
      "needs_background": "light"
     },
     "output_type": "display_data"
    },
    {
     "data": {
      "image/png": "[encoded data removed]",
      "text/plain": [
       "<Figure size 792x288 with 2 Axes>"
      ]
     },
     "metadata": {
      "needs_background": "light"
     },
     "output_type": "display_data"
    },
    {
     "data": {
      "image/png": "[encoded data removed]",
      "text/plain": [
       "<Figure size 792x288 with 2 Axes>"
      ]
     },
     "metadata": {
      "needs_background": "light"
     },
     "output_type": "display_data"
    }
   ],
   "source": [
    "for col in ['price', 'registrationyear', 'power', 'mileage']:\n",
    "    fig, axes = plt.subplots(nrows=1, ncols=2, figsize=(11, 4))\n",
    "    fig.suptitle(f\"Distribution of {col}\", fontsize=14)\n",
    "    sns.histplot(data=df, x=col, ax=axes[0], color=\"green\")\n",
    "    axes[1].axvline(df[col].mean(), color='red', linestyle=\"--\")\n",
    "    sns.boxplot(data=df, x=col, ax=axes[1])\n",
    "    sns.despine(left=True)"
   ]
  },
  {
   "cell_type": "markdown",
   "metadata": {},
   "source": [
    "* we will remove vehicles with power 0\n",
    "* we will remove vehicles with price 0\n",
    "* we will remove vehicles from before 1960"
   ]
  },
  {
   "cell_type": "code",
   "execution_count": 28,
   "metadata": {},
   "outputs": [],
   "source": [
    "df = df[df['power'] > 0]\n",
    "\n",
    "df = df[df['price'] > 0]\n",
    "\n",
    "df = df[df['registrationyear'] > 1960]"
   ]
  },
  {
   "cell_type": "code",
   "execution_count": 29,
   "metadata": {},
   "outputs": [
    {
     "data": {
      "text/html": [
       "<div>\n",
       "<style scoped>\n",
       "    .dataframe tbody tr th:only-of-type {\n",
       "        vertical-align: middle;\n",
       "    }\n",
       "\n",
       "    .dataframe tbody tr th {\n",
       "        vertical-align: top;\n",
       "    }\n",
       "\n",
       "    .dataframe thead th {\n",
       "        text-align: right;\n",
       "    }\n",
       "</style>\n",
       "<table border=\"1\" class=\"dataframe\">\n",
       "  <thead>\n",
       "    <tr style=\"text-align: right;\">\n",
       "      <th></th>\n",
       "      <th>price</th>\n",
       "      <th>registrationyear</th>\n",
       "      <th>power</th>\n",
       "      <th>mileage</th>\n",
       "    </tr>\n",
       "  </thead>\n",
       "  <tbody>\n",
       "    <tr>\n",
       "      <th>min</th>\n",
       "      <td>1.000000</td>\n",
       "      <td>1961.000000</td>\n",
       "      <td>1.000000</td>\n",
       "      <td>5000.000000</td>\n",
       "    </tr>\n",
       "    <tr>\n",
       "      <th>max</th>\n",
       "      <td>20000.000000</td>\n",
       "      <td>2018.000000</td>\n",
       "      <td>776.000000</td>\n",
       "      <td>150000.000000</td>\n",
       "    </tr>\n",
       "    <tr>\n",
       "      <th>mean</th>\n",
       "      <td>5314.829516</td>\n",
       "      <td>2003.380156</td>\n",
       "      <td>122.432343</td>\n",
       "      <td>127264.099101</td>\n",
       "    </tr>\n",
       "  </tbody>\n",
       "</table>\n",
       "</div>"
      ],
      "text/plain": [
       "             price  registrationyear       power        mileage\n",
       "min       1.000000       1961.000000    1.000000    5000.000000\n",
       "max   20000.000000       2018.000000  776.000000  150000.000000\n",
       "mean   5314.829516       2003.380156  122.432343  127264.099101"
      ]
     },
     "execution_count": 29,
     "metadata": {},
     "output_type": "execute_result"
    }
   ],
   "source": [
    "df.describe(datetime_is_numeric=True).loc[['min', 'max', 'mean'], :]"
   ]
  },
  {
   "cell_type": "code",
   "execution_count": 30,
   "metadata": {},
   "outputs": [
    {
     "data": {
      "image/png": "[encoded data removed]",
      "text/plain": [
       "<Figure size 936x288 with 2 Axes>"
      ]
     },
     "metadata": {
      "needs_background": "light"
     },
     "output_type": "display_data"
    },
    {
     "data": {
      "image/png": "[encoded data removed]",
      "text/plain": [
       "<Figure size 936x288 with 2 Axes>"
      ]
     },
     "metadata": {
      "needs_background": "light"
     },
     "output_type": "display_data"
    },
    {
     "data": {
      "image/png": "[encoded data removed]",
      "text/plain": [
       "<Figure size 936x288 with 2 Axes>"
      ]
     },
     "metadata": {
      "needs_background": "light"
     },
     "output_type": "display_data"
    },
    {
     "data": {
      "image/png": "[encoded data removed]",
      "text/plain": [
       "<Figure size 936x288 with 2 Axes>"
      ]
     },
     "metadata": {
      "needs_background": "light"
     },
     "output_type": "display_data"
    }
   ],
   "source": [
    "for col in ['price', 'registrationyear', 'power', 'mileage']:\n",
    "    fig, axes = plt.subplots(nrows=1, ncols=2, figsize=(13, 4))\n",
    "    fig.suptitle(f\"Distribution of {col}\", fontsize=14)\n",
    "    sns.histplot(data=df, x=col, ax=axes[0], color=\"green\")\n",
    "    axes[1].axvline(df[col].mean(), color='red', linestyle=\"--\")\n",
    "    sns.boxplot(data=df, x=col, ax=axes[1])\n",
    "    sns.despine(left=True)"
   ]
  },
  {
   "cell_type": "code",
   "execution_count": 31,
   "metadata": {},
   "outputs": [
    {
     "data": {
      "text/plain": [
       "(214730, 10)"
      ]
     },
     "execution_count": 31,
     "metadata": {},
     "output_type": "execute_result"
    }
   ],
   "source": [
    "df.shape"
   ]
  },
  {
   "cell_type": "markdown",
   "metadata": {},
   "source": [
    "## ML"
   ]
  },
  {
   "cell_type": "markdown",
   "metadata": {},
   "source": [
    "first, what we could to turn to numerical values, we would do:"
   ]
  },
  {
   "cell_type": "code",
   "execution_count": 33,
   "metadata": {},
   "outputs": [],
   "source": [
    "df['notrepaired'] = df['notrepaired'].map({'no': 0, \"yes\": 1})"
   ]
  },
  {
   "cell_type": "code",
   "execution_count": 34,
   "metadata": {},
   "outputs": [
    {
     "data": {
      "text/plain": [
       "manual    170191\n",
       "auto       44539\n",
       "Name: gearbox, dtype: int64"
      ]
     },
     "execution_count": 34,
     "metadata": {},
     "output_type": "execute_result"
    }
   ],
   "source": [
    "df['gearbox'].value_counts()"
   ]
  },
  {
   "cell_type": "code",
   "execution_count": 35,
   "metadata": {},
   "outputs": [],
   "source": [
    "df['gearbox'] = df['gearbox'].map({'manual': 0, \"auto\": 1})"
   ]
  },
  {
   "cell_type": "code",
   "execution_count": 36,
   "metadata": {},
   "outputs": [],
   "source": [
    "df = df.rename(columns={\"gearbox\": \"autogear\"})"
   ]
  },
  {
   "cell_type": "code",
   "execution_count": 37,
   "metadata": {},
   "outputs": [
    {
     "name": "stdout",
     "output_type": "stream",
     "text": [
      "<class 'pandas.core.frame.DataFrame'>\n",
      "Int64Index: 214730 entries, 3 to 354367\n",
      "Data columns (total 10 columns):\n",
      " #   Column            Non-Null Count   Dtype \n",
      "---  ------            --------------   ----- \n",
      " 0   price             214730 non-null  int64 \n",
      " 1   vehicletype       214730 non-null  object\n",
      " 2   registrationyear  214730 non-null  int64 \n",
      " 3   autogear          214730 non-null  int64 \n",
      " 4   power             214730 non-null  int64 \n",
      " 5   model             214730 non-null  object\n",
      " 6   mileage           214730 non-null  int64 \n",
      " 7   fueltype          214730 non-null  object\n",
      " 8   brand             214730 non-null  object\n",
      " 9   notrepaired       214730 non-null  int64 \n",
      "dtypes: int64(6), object(4)\n",
      "memory usage: 26.1+ MB\n"
     ]
    }
   ],
   "source": [
    "df.info()"
   ]
  },
  {
   "cell_type": "code",
   "execution_count": 38,
   "metadata": {},
   "outputs": [
    {
     "data": {
      "text/html": [
       "<div>\n",
       "<style scoped>\n",
       "    .dataframe tbody tr th:only-of-type {\n",
       "        vertical-align: middle;\n",
       "    }\n",
       "\n",
       "    .dataframe tbody tr th {\n",
       "        vertical-align: top;\n",
       "    }\n",
       "\n",
       "    .dataframe thead th {\n",
       "        text-align: right;\n",
       "    }\n",
       "</style>\n",
       "<table border=\"1\" class=\"dataframe\">\n",
       "  <thead>\n",
       "    <tr style=\"text-align: right;\">\n",
       "      <th></th>\n",
       "      <th>price</th>\n",
       "      <th>vehicletype</th>\n",
       "      <th>registrationyear</th>\n",
       "      <th>autogear</th>\n",
       "      <th>power</th>\n",
       "      <th>model</th>\n",
       "      <th>mileage</th>\n",
       "      <th>fueltype</th>\n",
       "      <th>brand</th>\n",
       "      <th>notrepaired</th>\n",
       "    </tr>\n",
       "  </thead>\n",
       "  <tbody>\n",
       "    <tr>\n",
       "      <th>3</th>\n",
       "      <td>1500</td>\n",
       "      <td>small</td>\n",
       "      <td>2001</td>\n",
       "      <td>0</td>\n",
       "      <td>75</td>\n",
       "      <td>golf</td>\n",
       "      <td>150000</td>\n",
       "      <td>petrol</td>\n",
       "      <td>volkswagen</td>\n",
       "      <td>0</td>\n",
       "    </tr>\n",
       "    <tr>\n",
       "      <th>4</th>\n",
       "      <td>3600</td>\n",
       "      <td>small</td>\n",
       "      <td>2008</td>\n",
       "      <td>0</td>\n",
       "      <td>69</td>\n",
       "      <td>fabia</td>\n",
       "      <td>90000</td>\n",
       "      <td>gasoline</td>\n",
       "      <td>skoda</td>\n",
       "      <td>0</td>\n",
       "    </tr>\n",
       "    <tr>\n",
       "      <th>5</th>\n",
       "      <td>650</td>\n",
       "      <td>sedan</td>\n",
       "      <td>1995</td>\n",
       "      <td>0</td>\n",
       "      <td>102</td>\n",
       "      <td>3er</td>\n",
       "      <td>150000</td>\n",
       "      <td>petrol</td>\n",
       "      <td>bmw</td>\n",
       "      <td>1</td>\n",
       "    </tr>\n",
       "    <tr>\n",
       "      <th>6</th>\n",
       "      <td>2200</td>\n",
       "      <td>convertible</td>\n",
       "      <td>2004</td>\n",
       "      <td>0</td>\n",
       "      <td>109</td>\n",
       "      <td>2_reihe</td>\n",
       "      <td>150000</td>\n",
       "      <td>petrol</td>\n",
       "      <td>peugeot</td>\n",
       "      <td>0</td>\n",
       "    </tr>\n",
       "    <tr>\n",
       "      <th>10</th>\n",
       "      <td>2000</td>\n",
       "      <td>sedan</td>\n",
       "      <td>2004</td>\n",
       "      <td>0</td>\n",
       "      <td>105</td>\n",
       "      <td>3_reihe</td>\n",
       "      <td>150000</td>\n",
       "      <td>petrol</td>\n",
       "      <td>mazda</td>\n",
       "      <td>0</td>\n",
       "    </tr>\n",
       "  </tbody>\n",
       "</table>\n",
       "</div>"
      ],
      "text/plain": [
       "    price  vehicletype  registrationyear  autogear  power    model  mileage  \\\n",
       "3    1500        small              2001         0     75     golf   150000   \n",
       "4    3600        small              2008         0     69    fabia    90000   \n",
       "5     650        sedan              1995         0    102      3er   150000   \n",
       "6    2200  convertible              2004         0    109  2_reihe   150000   \n",
       "10   2000        sedan              2004         0    105  3_reihe   150000   \n",
       "\n",
       "    fueltype       brand  notrepaired  \n",
       "3     petrol  volkswagen            0  \n",
       "4   gasoline       skoda            0  \n",
       "5     petrol         bmw            1  \n",
       "6     petrol     peugeot            0  \n",
       "10    petrol       mazda            0  "
      ]
     },
     "execution_count": 38,
     "metadata": {},
     "output_type": "execute_result"
    }
   ],
   "source": [
    "df.head()"
   ]
  },
  {
   "cell_type": "markdown",
   "metadata": {},
   "source": [
    "## Sanity check - Linear regression"
   ]
  },
  {
   "cell_type": "markdown",
   "metadata": {},
   "source": [
    "* we have some categorical columns with too many variables to do \"one hot encoding\" - like the \"model\" column. \n",
    "* we use the linear regression just for sanity check.\n",
    "* so we will drop these columns."
   ]
  },
  {
   "cell_type": "code",
   "execution_count": 39,
   "metadata": {},
   "outputs": [],
   "source": [
    "y = df[\"price\"]\n",
    "X = pd.get_dummies(df.drop(columns=['price', 'model']), drop_first=True)"
   ]
  },
  {
   "cell_type": "code",
   "execution_count": 40,
   "metadata": {},
   "outputs": [],
   "source": [
    "X_train, X_test, y_train, y_test = train_test_split(\n",
    "    X, y, test_size=0.2, random_state=42)"
   ]
  },
  {
   "cell_type": "code",
   "execution_count": 41,
   "metadata": {},
   "outputs": [],
   "source": [
    "scalar = StandardScaler()\n",
    "X_train_scaled = scalar.fit_transform(X_train)\n",
    "X_test_scaled = scalar.transform(X_test)"
   ]
  },
  {
   "cell_type": "code",
   "execution_count": 42,
   "metadata": {},
   "outputs": [
    {
     "name": "stdout",
     "output_type": "stream",
     "text": [
      "CPU times: user 1.21 s, sys: 353 ms, total: 1.57 s\n",
      "Wall time: 1.56 s\n"
     ]
    },
    {
     "data": {
      "text/plain": [
       "LinearRegression()"
      ]
     },
     "execution_count": 42,
     "metadata": {},
     "output_type": "execute_result"
    }
   ],
   "source": [
    "%%time\n",
    "model = LinearRegression()\n",
    "model.fit(X_train_scaled, y_train)"
   ]
  },
  {
   "cell_type": "code",
   "execution_count": 44,
   "metadata": {},
   "outputs": [
    {
     "name": "stdout",
     "output_type": "stream",
     "text": [
      "CPU times: user 353 µs, sys: 15 ms, total: 15.3 ms\n",
      "Wall time: 5.44 ms\n"
     ]
    }
   ],
   "source": [
    "%%time\n",
    "preds = model.predict(X_test_scaled)"
   ]
  },
  {
   "cell_type": "code",
   "execution_count": 45,
   "metadata": {},
   "outputs": [
    {
     "name": "stdout",
     "output_type": "stream",
     "text": [
      "RMSE: 2550.6\n"
     ]
    }
   ],
   "source": [
    "RMSE = mean_squared_error(y_test, preds)**0.5\n",
    "print(f\"RMSE: {round(RMSE,2)}\")"
   ]
  },
  {
   "cell_type": "code",
   "execution_count": 46,
   "metadata": {
    "scrolled": true
   },
   "outputs": [
    {
     "name": "stdout",
     "output_type": "stream",
     "text": [
      "Mean price: 5314.8\n"
     ]
    }
   ],
   "source": [
    "print(f\"Mean price: {round(df['price'].mean(),1)}\")"
   ]
  },
  {
   "cell_type": "markdown",
   "metadata": {},
   "source": [
    "* as expected, this isn't a good model, the error is about 50% of the mean, but it's our sanity check."
   ]
  },
  {
   "cell_type": "markdown",
   "metadata": {},
   "source": [
    "## Gradient Boosting\n",
    "\n",
    "we will use <a href=\"https://scikit-learn.org/stable/modules/generated/sklearn.ensemble.HistGradientBoostingRegressor.html#sklearn.ensemble.HistGradientBoostingRegressor\">HistGradientBoostingRegressor</a> from sklearn, which inspired by LightGBM."
   ]
  },
  {
   "cell_type": "code",
   "execution_count": 49,
   "metadata": {},
   "outputs": [
    {
     "name": "stdout",
     "output_type": "stream",
     "text": [
      "<class 'pandas.core.frame.DataFrame'>\n",
      "Int64Index: 214730 entries, 3 to 354367\n",
      "Data columns (total 10 columns):\n",
      " #   Column            Non-Null Count   Dtype   \n",
      "---  ------            --------------   -----   \n",
      " 0   price             214730 non-null  int64   \n",
      " 1   vehicletype       214730 non-null  category\n",
      " 2   registrationyear  214730 non-null  int64   \n",
      " 3   autogear          214730 non-null  int64   \n",
      " 4   power             214730 non-null  int64   \n",
      " 5   model             214730 non-null  category\n",
      " 6   mileage           214730 non-null  int64   \n",
      " 7   fueltype          214730 non-null  category\n",
      " 8   brand             214730 non-null  category\n",
      " 9   notrepaired       214730 non-null  int64   \n",
      "dtypes: category(4), int64(6)\n",
      "memory usage: 20.6 MB\n"
     ]
    }
   ],
   "source": [
    "df['vehicletype'] = df['vehicletype'].astype(\"category\")\n",
    "df['model'] = df['model'].astype(\"category\")\n",
    "df['brand'] = df['brand'].astype(\"category\")\n",
    "df['fueltype'] = df['fueltype'].astype(\"category\")\n",
    "df.info()"
   ]
  },
  {
   "cell_type": "code",
   "execution_count": 50,
   "metadata": {},
   "outputs": [],
   "source": [
    "y = df[\"price\"]\n",
    "X = df.drop(columns=['price'])"
   ]
  },
  {
   "cell_type": "code",
   "execution_count": 51,
   "metadata": {},
   "outputs": [],
   "source": [
    "X_train, X_test, y_train, y_test = train_test_split(\n",
    "    X, y, test_size=0.2, random_state=42)"
   ]
  },
  {
   "cell_type": "code",
   "execution_count": 52,
   "metadata": {},
   "outputs": [],
   "source": [
    "n_categorical_features = (X.dtypes == \"category\").sum()\n",
    "n_numerical_features = (X.dtypes == \"float\").sum() + (X.dtypes == \"int\").sum()"
   ]
  },
  {
   "cell_type": "code",
   "execution_count": 53,
   "metadata": {},
   "outputs": [],
   "source": [
    "ordinal_encoder = make_column_transformer(\n",
    "    (\n",
    "        OrdinalEncoder(handle_unknown=\"use_encoded_value\",\n",
    "                       unknown_value=np.nan),\n",
    "        make_column_selector(dtype_include=\"category\"),\n",
    "    ),\n",
    "    remainder=\"passthrough\",\n",
    ")"
   ]
  },
  {
   "cell_type": "code",
   "execution_count": 54,
   "metadata": {},
   "outputs": [],
   "source": [
    "categorical_mask = [True] * n_categorical_features + \\\n",
    "    [False] * n_numerical_features\n",
    "\n",
    "hist_native = make_pipeline(\n",
    "    ordinal_encoder,\n",
    "    HistGradientBoostingRegressor(\n",
    "        random_state=42, categorical_features=categorical_mask, scoring='neg_root_mean_squared_error'\n",
    "    ),\n",
    ")"
   ]
  },
  {
   "cell_type": "code",
   "execution_count": 55,
   "metadata": {},
   "outputs": [
    {
     "name": "stdout",
     "output_type": "stream",
     "text": [
      "CPU times: user 24.6 s, sys: 120 ms, total: 24.7 s\n",
      "Wall time: 24.8 s\n"
     ]
    },
    {
     "data": {
      "text/plain": [
       "Pipeline(steps=[('columntransformer',\n",
       "                 ColumnTransformer(remainder='passthrough',\n",
       "                                   transformers=[('ordinalencoder',\n",
       "                                                  OrdinalEncoder(handle_unknown='use_encoded_value',\n",
       "                                                                 unknown_value=nan),\n",
       "                                                  <sklearn.compose._column_transformer.make_column_selector object at 0x7f7701110850>)])),\n",
       "                ('histgradientboostingregressor',\n",
       "                 HistGradientBoostingRegressor(categorical_features=[True, True,\n",
       "                                                                     True, True,\n",
       "                                                                     False,\n",
       "                                                                     False,\n",
       "                                                                     False,\n",
       "                                                                     False,\n",
       "                                                                     False],\n",
       "                                               random_state=42,\n",
       "                                               scoring='neg_root_mean_squared_error'))])"
      ]
     },
     "execution_count": 55,
     "metadata": {},
     "output_type": "execute_result"
    }
   ],
   "source": [
    "%%time\n",
    "hist_native.fit(X_train, y_train)"
   ]
  },
  {
   "cell_type": "code",
   "execution_count": 56,
   "metadata": {},
   "outputs": [
    {
     "name": "stdout",
     "output_type": "stream",
     "text": [
      "CPU times: user 444 ms, sys: 3.9 ms, total: 448 ms\n",
      "Wall time: 455 ms\n"
     ]
    }
   ],
   "source": [
    "%%time\n",
    "preds = hist_native.predict(X_test)"
   ]
  },
  {
   "cell_type": "code",
   "execution_count": 57,
   "metadata": {},
   "outputs": [
    {
     "name": "stdout",
     "output_type": "stream",
     "text": [
      "RMSE: 1511.32\n"
     ]
    }
   ],
   "source": [
    "RMSE = mean_squared_error(y_test, preds)**0.5\n",
    "print(f\"RMSE: {round(RMSE,2)}\")"
   ]
  },
  {
   "cell_type": "markdown",
   "metadata": {},
   "source": [
    "* we succeded to reduce 1000 from the RMSE ! "
   ]
  },
  {
   "cell_type": "markdown",
   "metadata": {},
   "source": [
    "## Gradient Boosting with Gridsearch"
   ]
  },
  {
   "cell_type": "code",
   "execution_count": 58,
   "metadata": {},
   "outputs": [],
   "source": [
    "model = Pipeline(steps=[('ord',ordinal_encoder),('grb',HistGradientBoostingRegressor(\n",
    "        random_state=42, categorical_features=categorical_mask, scoring='neg_root_mean_squared_error'\n",
    "    ))])"
   ]
  },
  {
   "cell_type": "code",
   "execution_count": 59,
   "metadata": {},
   "outputs": [],
   "source": [
    "param_grid ={'grb__learning_rate':np.arange(0.1,0.22,0.02)}"
   ]
  },
  {
   "cell_type": "code",
   "execution_count": 60,
   "metadata": {},
   "outputs": [],
   "source": [
    "grid_grad = GridSearchCV(estimator = model, param_grid =param_grid, scoring=\"neg_root_mean_squared_error\")"
   ]
  },
  {
   "cell_type": "markdown",
   "metadata": {},
   "source": [
    "* the grid training tooks like 12 minutes."
   ]
  },
  {
   "cell_type": "code",
   "execution_count": 61,
   "metadata": {},
   "outputs": [
    {
     "name": "stdout",
     "output_type": "stream",
     "text": [
      "CPU times: user 12min 20s, sys: 4.22 s, total: 12min 24s\n",
      "Wall time: 12min 30s\n"
     ]
    },
    {
     "data": {
      "text/plain": [
       "GridSearchCV(estimator=Pipeline(steps=[('ord',\n",
       "                                        ColumnTransformer(remainder='passthrough',\n",
       "                                                          transformers=[('ordinalencoder',\n",
       "                                                                         OrdinalEncoder(handle_unknown='use_encoded_value',\n",
       "                                                                                        unknown_value=nan),\n",
       "                                                                         <sklearn.compose._column_transformer.make_column_selector object at 0x7f7701110850>)])),\n",
       "                                       ('grb',\n",
       "                                        HistGradientBoostingRegressor(categorical_features=[True,\n",
       "                                                                                            True,\n",
       "                                                                                            True,\n",
       "                                                                                            True,\n",
       "                                                                                            False,\n",
       "                                                                                            False,\n",
       "                                                                                            False,\n",
       "                                                                                            False,\n",
       "                                                                                            False],\n",
       "                                                                      random_state=42,\n",
       "                                                                      scoring='neg_root_mean_squared_error'))]),\n",
       "             param_grid={'grb__learning_rate': array([0.1 , 0.12, 0.14, 0.16, 0.18, 0.2 ])},\n",
       "             scoring='neg_root_mean_squared_error')"
      ]
     },
     "execution_count": 61,
     "metadata": {},
     "output_type": "execute_result"
    }
   ],
   "source": [
    "%%time\n",
    "grid_grad.fit(X_train, y_train)"
   ]
  },
  {
   "cell_type": "code",
   "execution_count": 63,
   "metadata": {},
   "outputs": [
    {
     "name": "stdout",
     "output_type": "stream",
     "text": [
      "CPU times: user 399 ms, sys: 0 ns, total: 399 ms\n",
      "Wall time: 401 ms\n"
     ]
    }
   ],
   "source": [
    "%%time\n",
    "preds = grid_grad.predict(X_test)"
   ]
  },
  {
   "cell_type": "code",
   "execution_count": 65,
   "metadata": {},
   "outputs": [
    {
     "data": {
      "text/plain": [
       "{'grb__learning_rate': 0.2}"
      ]
     },
     "execution_count": 65,
     "metadata": {},
     "output_type": "execute_result"
    }
   ],
   "source": [
    "grid_grad.best_params_"
   ]
  },
  {
   "cell_type": "code",
   "execution_count": 66,
   "metadata": {},
   "outputs": [
    {
     "name": "stdout",
     "output_type": "stream",
     "text": [
      "RMSE: 1490.93\n"
     ]
    }
   ],
   "source": [
    "RMSE = mean_squared_error(y_test, preds)**0.5\n",
    "print(f\"RMSE: {round(RMSE,2)}\")"
   ]
  },
  {
   "cell_type": "markdown",
   "metadata": {},
   "source": [
    "* it's a little improvement but still high."
   ]
  },
  {
   "cell_type": "markdown",
   "metadata": {},
   "source": [
    "## Conclusion:\n",
    "* the dataset was big, but with a lot of irrelevant data, nulls and outliers. we clean it to around 240000, and based the models on this.\n",
    "* the linear regression was the worse model with 2550 RMSE, where the car mean price is around 5300, like 50% of error.\n",
    "* the gradient boost with the native support of categorical data, improved it to 1515 RMSE. like 28% of error.\n",
    "* we have added a grid search and checked different learning rates on the model. it has improved the model a little to 149.\n",
    "* from the time prespective - apart from the grid search, the models are fast. the grid search is very slow, but after it has done once, you could save it, or reapeat on it with the best parameters that the grid has find."
   ]
  },
  {
   "cell_type": "markdown",
   "metadata": {},
   "source": [
    "# Checklist"
   ]
  },
  {
   "cell_type": "markdown",
   "metadata": {},
   "source": [
    "Type 'x' to check. Then press Shift+Enter."
   ]
  },
  {
   "cell_type": "markdown",
   "metadata": {},
   "source": [
    "- [x]  Jupyter Notebook is open\n",
    "- [ ]  Code is error free\n",
    "- [ ]  The cells with the code have been arranged in order of execution\n",
    "- [ ]  The data has been downloaded and prepared\n",
    "- [ ]  The models have been trained\n",
    "- [ ]  The analysis of speed and quality of the models has been performed"
   ]
  },
  {
   "cell_type": "code",
   "execution_count": null,
   "metadata": {},
   "outputs": [],
   "source": []
  }
 ],
 "metadata": {
  "ExecuteTimeLog": [
   {
    "duration": 5,
    "start_time": "2021-11-07T13:29:29.369Z"
   },
   {
    "duration": 1625,
    "start_time": "2021-11-07T13:29:45.784Z"
   },
   {
    "duration": 26930,
    "start_time": "2021-11-07T13:29:56.411Z"
   },
   {
    "duration": 13480,
    "start_time": "2021-11-07T13:30:45.232Z"
   },
   {
    "duration": 1596,
    "start_time": "2021-11-07T13:30:58.714Z"
   },
   {
    "duration": 3,
    "start_time": "2021-11-07T13:31:00.312Z"
   },
   {
    "duration": 1391,
    "start_time": "2021-11-07T13:31:05.172Z"
   },
   {
    "duration": 124,
    "start_time": "2021-11-07T13:31:32.156Z"
   },
   {
    "duration": 48286,
    "start_time": "2021-11-07T13:31:49.140Z"
   },
   {
    "duration": 4,
    "start_time": "2021-11-07T13:32:37.427Z"
   },
   {
    "duration": 5510,
    "start_time": "2021-11-07T13:32:37.432Z"
   },
   {
    "duration": 91,
    "start_time": "2021-11-07T13:32:42.944Z"
   },
   {
    "duration": 90,
    "start_time": "2021-11-07T13:32:58.657Z"
   },
   {
    "duration": 123,
    "start_time": "2021-11-07T13:33:27.777Z"
   },
   {
    "duration": 50,
    "start_time": "2021-11-07T13:34:45.406Z"
   },
   {
    "duration": 31,
    "start_time": "2021-11-07T13:34:58.968Z"
   },
   {
    "duration": 801,
    "start_time": "2021-11-07T13:36:40.896Z"
   },
   {
    "duration": 83,
    "start_time": "2021-11-07T13:36:52.084Z"
   },
   {
    "duration": 101,
    "start_time": "2021-11-07T13:37:08.667Z"
   },
   {
    "duration": 30,
    "start_time": "2021-11-07T13:37:23.141Z"
   },
   {
    "duration": 8,
    "start_time": "2021-11-07T13:37:30.020Z"
   },
   {
    "duration": 53,
    "start_time": "2021-11-07T13:38:24.038Z"
   },
   {
    "duration": 34,
    "start_time": "2021-11-07T13:38:33.335Z"
   },
   {
    "duration": 30,
    "start_time": "2021-11-07T13:38:57.275Z"
   },
   {
    "duration": 36,
    "start_time": "2021-11-07T13:39:09.441Z"
   },
   {
    "duration": 27,
    "start_time": "2021-11-07T13:39:22.349Z"
   },
   {
    "duration": 127,
    "start_time": "2021-11-07T13:39:46.188Z"
   },
   {
    "duration": 136,
    "start_time": "2021-11-07T13:40:44.005Z"
   },
   {
    "duration": 62,
    "start_time": "2021-11-07T13:40:51.052Z"
   },
   {
    "duration": 2919,
    "start_time": "2021-11-07T13:41:27.799Z"
   },
   {
    "duration": 131,
    "start_time": "2021-11-07T13:42:15.399Z"
   },
   {
    "duration": 38,
    "start_time": "2021-11-07T13:42:22.567Z"
   },
   {
    "duration": 2751,
    "start_time": "2021-11-07T13:42:58.541Z"
   },
   {
    "duration": 4,
    "start_time": "2021-11-07T13:43:16.133Z"
   },
   {
    "duration": 3,
    "start_time": "2021-11-07T13:43:23.912Z"
   },
   {
    "duration": 49,
    "start_time": "2021-11-07T13:43:52.942Z"
   },
   {
    "duration": 19,
    "start_time": "2021-11-07T13:43:59.933Z"
   },
   {
    "duration": 45,
    "start_time": "2021-11-07T13:44:07.234Z"
   },
   {
    "duration": 37,
    "start_time": "2021-11-07T13:44:15.804Z"
   },
   {
    "duration": 47,
    "start_time": "2021-11-07T13:44:21.256Z"
   },
   {
    "duration": 11,
    "start_time": "2021-11-07T13:44:43.769Z"
   },
   {
    "duration": 151,
    "start_time": "2021-11-07T13:46:05.259Z"
   },
   {
    "duration": 93,
    "start_time": "2021-11-07T13:46:12.938Z"
   },
   {
    "duration": 262,
    "start_time": "2021-11-07T13:46:20.006Z"
   },
   {
    "duration": 1566,
    "start_time": "2021-11-07T13:46:28.605Z"
   },
   {
    "duration": 339,
    "start_time": "2021-11-07T13:46:44.261Z"
   },
   {
    "duration": 16,
    "start_time": "2021-11-07T13:46:55.763Z"
   },
   {
    "duration": 5,
    "start_time": "2021-11-07T13:46:56.217Z"
   },
   {
    "duration": 5,
    "start_time": "2021-11-07T13:47:04.649Z"
   },
   {
    "duration": 76,
    "start_time": "2021-11-07T13:47:24.765Z"
   },
   {
    "duration": 77,
    "start_time": "2021-11-07T13:47:42.590Z"
   },
   {
    "duration": 121,
    "start_time": "2021-11-07T13:47:56.590Z"
   },
   {
    "duration": 6,
    "start_time": "2021-11-07T13:48:11.548Z"
   },
   {
    "duration": 32,
    "start_time": "2021-11-07T13:48:46.463Z"
   },
   {
    "duration": 4,
    "start_time": "2021-11-07T13:48:55.891Z"
   },
   {
    "duration": 3,
    "start_time": "2021-11-07T13:49:06.710Z"
   },
   {
    "duration": 4,
    "start_time": "2021-11-07T13:49:13.997Z"
   },
   {
    "duration": 24853,
    "start_time": "2021-11-07T13:49:27.579Z"
   },
   {
    "duration": 458,
    "start_time": "2021-11-07T13:49:52.434Z"
   },
   {
    "duration": 4,
    "start_time": "2021-11-07T13:49:52.894Z"
   },
   {
    "duration": 3,
    "start_time": "2021-11-07T13:52:15.702Z"
   },
   {
    "duration": 3,
    "start_time": "2021-11-07T13:52:24.793Z"
   },
   {
    "duration": 3,
    "start_time": "2021-11-07T13:52:33.574Z"
   },
   {
    "duration": 750742,
    "start_time": "2021-11-07T13:52:45.600Z"
   },
   {
    "duration": 405,
    "start_time": "2021-11-07T14:05:16.364Z"
   },
   {
    "duration": 17,
    "start_time": "2021-11-07T14:05:16.775Z"
   },
   {
    "duration": 17,
    "start_time": "2021-11-07T14:05:16.793Z"
   }
  ],
  "kernelspec": {
   "display_name": "Python 3",
   "language": "python",
   "name": "python3"
  },
  "language_info": {
   "codemirror_mode": {
    "name": "ipython",
    "version": 3
   },
   "file_extension": ".py",
   "mimetype": "text/x-python",
   "name": "python",
   "nbconvert_exporter": "python",
   "pygments_lexer": "ipython3",
   "version": "3.7.8"
  },
  "toc": {
   "base_numbering": 1,
   "nav_menu": {},
   "number_sections": true,
   "sideBar": true,
   "skip_h1_title": true,
   "title_cell": "Table of Contents",
   "title_sidebar": "Contents",
   "toc_cell": false,
   "toc_position": {},
   "toc_section_display": true,
   "toc_window_display": false
  }
 },
 "nbformat": 4,
 "nbformat_minor": 2
}
